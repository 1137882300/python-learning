{
 "cells": [
  {
   "cell_type": "code",
   "outputs": [
    {
     "name": "stdout",
     "output_type": "stream",
     "text": [
      "\u001B[0m\r\n",
      "\u001B[34m\u001B[1m  You can now view your Streamlit app in your browser.\u001B[0m\r\n",
      "\u001B[0m\r\n",
      "\u001B[34m  Local URL: \u001B[0m\u001B[1mhttp://localhost:8501\u001B[0m\r\n",
      "\u001B[34m  Network URL: \u001B[0m\u001B[1mhttp://192.168.201.85:8501\u001B[0m\r\n",
      "\u001B[0m\r\n",
      "\u001B[34m\u001B[1m  For better performance, install the Watchdog module:\u001B[0m\r\n",
      "\r\n",
      "  $ xcode-select --install\r\n",
      "  $ pip install watchdog\r\n",
      "            \u001B[0m\r\n",
      "/Users/pangmengting/venv/lib/python3.10/site-packages/langchain_core/_api/deprecation.py:139: LangChainDeprecationWarning: The class `LLMChain` was deprecated in LangChain 0.1.17 and will be removed in 1.0. Use RunnableSequence, e.g., `prompt | llm` instead.\r\n",
      "  warn_deprecated(\r\n",
      "\r\n",
      "\r\n",
      "\u001B[1m> Entering new SequentialChain chain...\u001B[0m\r\n",
      "\r\n",
      "\r\n",
      "\u001B[1m> Entering new LLMChain chain...\u001B[0m\r\n",
      "Prompt after formatting:\r\n",
      "\u001B[32;1m\u001B[1;3mSuggest me a programming language for 计算机 and respond in a code block with the language name only\u001B[0m\r\n",
      "\r\n",
      "\u001B[1m> Finished chain.\u001B[0m\r\n",
      "\r\n",
      "\r\n",
      "\u001B[1m> Entering new LLMChain chain...\u001B[0m\r\n",
      "Prompt after formatting:\r\n",
      "\u001B[32;1m\u001B[1;3mRecommend me a book based on this programming language Python\r\n",
      "\r\n",
      "    The book name should be in a code block and the book name should be the only text in the code block\r\n",
      "    \u001B[0m\r\n",
      "\r\n",
      "\u001B[1m> Finished chain.\u001B[0m\r\n",
      "\r\n",
      "\u001B[1m> Finished chain.\u001B[0m\r\n",
      "^C\r\n",
      "\u001B[34m  Stopping...\u001B[0m\r\n"
     ]
    }
   ],
   "source": [
    "!streamlit run autogpt.py"
   ],
   "metadata": {
    "collapsed": false,
    "ExecuteTime": {
     "end_time": "2024-07-04T01:38:30.788509Z",
     "start_time": "2024-07-04T01:37:49.385323Z"
    }
   },
   "id": "9e4225021f60ced0",
   "execution_count": 7
  },
  {
   "cell_type": "code",
   "outputs": [],
   "source": [],
   "metadata": {
    "collapsed": false
   },
   "id": "e95ed03f58cd2b77"
  }
 ],
 "metadata": {
  "kernelspec": {
   "display_name": "Python 3",
   "language": "python",
   "name": "python3"
  },
  "language_info": {
   "codemirror_mode": {
    "name": "ipython",
    "version": 2
   },
   "file_extension": ".py",
   "mimetype": "text/x-python",
   "name": "python",
   "nbconvert_exporter": "python",
   "pygments_lexer": "ipython2",
   "version": "2.7.6"
  }
 },
 "nbformat": 4,
 "nbformat_minor": 5
}
