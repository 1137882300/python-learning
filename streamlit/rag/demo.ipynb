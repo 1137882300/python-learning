{
 "cells": [
  {
   "cell_type": "code",
   "execution_count": null,
   "id": "initial_id",
   "metadata": {
    "collapsed": true
   },
   "outputs": [],
   "source": [
    "!python -m streamlit run chat-with-doc.py"
   ]
  },
  {
   "cell_type": "code",
   "outputs": [
    {
     "name": "stdout",
     "output_type": "stream",
     "text": [
      "\u001B[0m\r\n",
      "\u001B[34m\u001B[1m  You can now view your Streamlit app in your browser.\u001B[0m\r\n",
      "\u001B[0m\r\n",
      "\u001B[34m  Local URL: \u001B[0m\u001B[1mhttp://localhost:8501\u001B[0m\r\n",
      "\u001B[34m  Network URL: \u001B[0m\u001B[1mhttp://192.168.201.25:8501\u001B[0m\r\n",
      "\u001B[0m\r\n",
      "\u001B[34m\u001B[1m  For better performance, install the Watchdog module:\u001B[0m\r\n",
      "\r\n",
      "  $ xcode-select --install\r\n",
      "  $ pip install watchdog\r\n",
      "            \u001B[0m\r\n",
      "USER_AGENT environment variable not set, consider setting it to identify your requests.\r\n",
      "======>configure_retriever ok ok ok \r\n",
      "2024-08-08 19:15:20.283 Thread 'ThreadPoolExecutor-1_0': missing ScriptRunContext\r\n",
      "2024-08-08 19:15:20.284 Thread 'ThreadPoolExecutor-1_0': missing ScriptRunContext\r\n",
      "Error in PrintRetrievalHandler.on_retriever_start callback: NoSessionContext()\r\n",
      "2024-08-08 19:15:20.284 Thread 'ThreadPoolExecutor-1_0': missing ScriptRunContext\r\n",
      "2024-08-08 19:15:20.284 Thread 'ThreadPoolExecutor-1_0': missing ScriptRunContext\r\n",
      "Error in PrintRetrievalHandler.on_retriever_start callback: NoSessionContext()\r\n",
      "Error in PrintRetrievalHandler.on_retriever_end callback: KeyError('source')\r\n",
      "2024-08-08 19:15:20.285 Thread 'ThreadPoolExecutor-1_0': missing ScriptRunContext\r\n",
      "2024-08-08 19:15:20.285 Thread 'ThreadPoolExecutor-1_0': missing ScriptRunContext\r\n",
      "Error in PrintRetrievalHandler.on_retriever_start callback: NoSessionContext()\r\n",
      "2024-08-08 19:15:24.712 Thread 'ThreadPoolExecutor-1_0': missing ScriptRunContext\r\n",
      "2024-08-08 19:15:24.712 Thread 'ThreadPoolExecutor-1_0': missing ScriptRunContext\r\n",
      "Error in PrintRetrievalHandler.on_retriever_end callback: NoSessionContext()\r\n",
      "2024-08-08 19:15:24.713 Thread 'ThreadPoolExecutor-1_0': missing ScriptRunContext\r\n",
      "2024-08-08 19:15:24.713 Thread 'ThreadPoolExecutor-1_0': missing ScriptRunContext\r\n",
      "Error in PrintRetrievalHandler.on_retriever_end callback: NoSessionContext()\r\n",
      "^C\r\n",
      "\u001B[34m  Stopping...\u001B[0m\r\n",
      "Exception ignored in: <module 'threading' from '/Library/Frameworks/Python.framework/Versions/3.10/lib/python3.10/threading.py'>\r\n",
      "Traceback (most recent call last):\r\n",
      "  File \"/Library/Frameworks/Python.framework/Versions/3.10/lib/python3.10/threading.py\", line 1537, in _shutdown\r\n",
      "    atexit_call()\r\n",
      "  File \"/Library/Frameworks/Python.framework/Versions/3.10/lib/python3.10/concurrent/futures/thread.py\", line 31, in _python_exit\r\n",
      "    t.join()\r\n",
      "  File \"/Library/Frameworks/Python.framework/Versions/3.10/lib/python3.10/threading.py\", line 1096, in join\r\n",
      "    self._wait_for_tstate_lock()\r\n",
      "  File \"/Library/Frameworks/Python.framework/Versions/3.10/lib/python3.10/threading.py\", line 1116, in _wait_for_tstate_lock\r\n",
      "    if lock.acquire(block, timeout):\r\n",
      "  File \"/Users/pangmengting/venv/lib/python3.10/site-packages/streamlit/web/bootstrap.py\", line 55, in signal_handler\r\n",
      "    server.stop()\r\n",
      "  File \"/Users/pangmengting/venv/lib/python3.10/site-packages/streamlit/web/server/server.py\", line 404, in stop\r\n",
      "    self._runtime.stop()\r\n",
      "  File \"/Users/pangmengting/venv/lib/python3.10/site-packages/streamlit/runtime/runtime.py\", line 326, in stop\r\n",
      "    async_objs.eventloop.call_soon_threadsafe(stop_on_eventloop)\r\n",
      "  File \"/Library/Frameworks/Python.framework/Versions/3.10/lib/python3.10/asyncio/base_events.py\", line 798, in call_soon_threadsafe\r\n",
      "    self._check_closed()\r\n",
      "  File \"/Library/Frameworks/Python.framework/Versions/3.10/lib/python3.10/asyncio/base_events.py\", line 515, in _check_closed\r\n",
      "    raise RuntimeError('Event loop is closed')\r\n",
      "RuntimeError: Event loop is closed\r\n"
     ]
    }
   ],
   "source": [
    "!python -m streamlit run chat-with-doc-op.py"
   ],
   "metadata": {
    "collapsed": false,
    "ExecuteTime": {
     "end_time": "2024-08-09T01:15:26.738301Z",
     "start_time": "2024-08-08T11:15:02.060968Z"
    }
   },
   "id": "1ba639cdd22b0381",
   "execution_count": 27
  },
  {
   "cell_type": "code",
   "outputs": [
    {
     "name": "stdout",
     "output_type": "stream",
     "text": [
      "\u001B[0m\r\n",
      "\u001B[34m\u001B[1m  You can now view your Streamlit app in your browser.\u001B[0m\r\n",
      "\u001B[0m\r\n",
      "\u001B[34m  Local URL: \u001B[0m\u001B[1mhttp://localhost:8501\u001B[0m\r\n",
      "\u001B[34m  Network URL: \u001B[0m\u001B[1mhttp://192.168.201.25:8501\u001B[0m\r\n",
      "\u001B[0m\r\n",
      "\u001B[34m\u001B[1m  For better performance, install the Watchdog module:\u001B[0m\r\n",
      "\r\n",
      "  $ xcode-select --install\r\n",
      "  $ pip install watchdog\r\n",
      "            \u001B[0m\r\n",
      "2024-08-08 19:11:57.039 Uncaught app exception\r\n",
      "Traceback (most recent call last):\r\n",
      "  File \"/Users/pangmengting/venv/lib/python3.10/site-packages/streamlit/runtime/scriptrunner/script_runner.py\", line 600, in _run_script\r\n",
      "    exec(code, module.__dict__)\r\n",
      "  File \"/Users/pangmengting/Documents/workspace/python-learning/streamlit/rag/chat-with-doc-op-2.py\", line 13, in <module>\r\n",
      "    from langchain.chains import ChatPromptTemplate\r\n",
      "ImportError: cannot import name 'ChatPromptTemplate' from 'langchain.chains' (/Users/pangmengting/venv/lib/python3.10/site-packages/langchain/chains/__init__.py)\r\n",
      "2024-08-08 19:12:08.894 Uncaught app exception\r\n",
      "Traceback (most recent call last):\r\n",
      "  File \"/Users/pangmengting/venv/lib/python3.10/site-packages/streamlit/runtime/scriptrunner/script_runner.py\", line 600, in _run_script\r\n",
      "    exec(code, module.__dict__)\r\n",
      "  File \"/Users/pangmengting/Documents/workspace/python-learning/streamlit/rag/chat-with-doc-op-2.py\", line 13, in <module>\r\n",
      "    from langchain.chains import ChatPromptTemplate\r\n",
      "ImportError: cannot import name 'ChatPromptTemplate' from 'langchain.chains' (/Users/pangmengting/venv/lib/python3.10/site-packages/langchain/chains/__init__.py)\r\n",
      "/Users/pangmengting/venv/lib/python3.10/site-packages/langchain/_api/module_import.py:92: LangChainDeprecationWarning: Importing DashScopeEmbeddings from langchain.embeddings is deprecated. Please replace deprecated imports:\r\n",
      "\r\n",
      ">> from langchain.embeddings import DashScopeEmbeddings\r\n",
      "\r\n",
      "with new imports of:\r\n",
      "\r\n",
      ">> from langchain_community.embeddings import DashScopeEmbeddings\r\n",
      "You can use the langchain cli to **automatically** upgrade many imports. Please see documentation here <https://python.langchain.com/v0.2/docs/versions/v0_2/>\r\n",
      "  warn_deprecated(\r\n",
      "/Users/pangmengting/venv/lib/python3.10/site-packages/langchain/_api/module_import.py:92: LangChainDeprecationWarning: Importing DashScopeEmbeddings from langchain.embeddings is deprecated. Please replace deprecated imports:\r\n",
      "\r\n",
      ">> from langchain.embeddings import DashScopeEmbeddings\r\n",
      "\r\n",
      "with new imports of:\r\n",
      "\r\n",
      ">> from langchain_community.embeddings import DashScopeEmbeddings\r\n",
      "You can use the langchain cli to **automatically** upgrade many imports. Please see documentation here <https://python.langchain.com/v0.2/docs/versions/v0_2/>\r\n",
      "  warn_deprecated(\r\n",
      "/Users/pangmengting/venv/lib/python3.10/site-packages/langchain/_api/module_import.py:92: LangChainDeprecationWarning: Importing DashScopeEmbeddings from langchain.embeddings is deprecated. Please replace deprecated imports:\r\n",
      "\r\n",
      ">> from langchain.embeddings import DashScopeEmbeddings\r\n",
      "\r\n",
      "with new imports of:\r\n",
      "\r\n",
      ">> from langchain_community.embeddings import DashScopeEmbeddings\r\n",
      "You can use the langchain cli to **automatically** upgrade many imports. Please see documentation here <https://python.langchain.com/v0.2/docs/versions/v0_2/>\r\n",
      "  warn_deprecated(\r\n",
      "/Users/pangmengting/venv/lib/python3.10/site-packages/langchain/_api/module_import.py:92: LangChainDeprecationWarning: Importing DashScopeEmbeddings from langchain.embeddings is deprecated. Please replace deprecated imports:\r\n",
      "\r\n",
      ">> from langchain.embeddings import DashScopeEmbeddings\r\n",
      "\r\n",
      "with new imports of:\r\n",
      "\r\n",
      ">> from langchain_community.embeddings import DashScopeEmbeddings\r\n",
      "You can use the langchain cli to **automatically** upgrade many imports. Please see documentation here <https://python.langchain.com/v0.2/docs/versions/v0_2/>\r\n",
      "  warn_deprecated(\r\n",
      "/Users/pangmengting/venv/lib/python3.10/site-packages/langchain/_api/module_import.py:92: LangChainDeprecationWarning: Importing DashScopeEmbeddings from langchain.embeddings is deprecated. Please replace deprecated imports:\r\n",
      "\r\n",
      ">> from langchain.embeddings import DashScopeEmbeddings\r\n",
      "\r\n",
      "with new imports of:\r\n",
      "\r\n",
      ">> from langchain_community.embeddings import DashScopeEmbeddings\r\n",
      "You can use the langchain cli to **automatically** upgrade many imports. Please see documentation here <https://python.langchain.com/v0.2/docs/versions/v0_2/>\r\n",
      "  warn_deprecated(\r\n",
      "2024-08-08 19:12:26.858 Uncaught app exception\r\n",
      "Traceback (most recent call last):\r\n",
      "  File \"/Users/pangmengting/venv/lib/python3.10/site-packages/streamlit/runtime/scriptrunner/script_runner.py\", line 600, in _run_script\r\n",
      "    exec(code, module.__dict__)\r\n",
      "  File \"/Users/pangmengting/Documents/workspace/python-learning/streamlit/rag/chat-with-doc-op-2.py\", line 132, in <module>\r\n",
      "    result = chain.run(chat_history_data)\r\n",
      "AttributeError: 'RunnableSequence' object has no attribute 'run'\r\n",
      "/Users/pangmengting/venv/lib/python3.10/site-packages/langchain/_api/module_import.py:92: LangChainDeprecationWarning: Importing DashScopeEmbeddings from langchain.embeddings is deprecated. Please replace deprecated imports:\r\n",
      "\r\n",
      ">> from langchain.embeddings import DashScopeEmbeddings\r\n",
      "\r\n",
      "with new imports of:\r\n",
      "\r\n",
      ">> from langchain_community.embeddings import DashScopeEmbeddings\r\n",
      "You can use the langchain cli to **automatically** upgrade many imports. Please see documentation here <https://python.langchain.com/v0.2/docs/versions/v0_2/>\r\n",
      "  warn_deprecated(\r\n",
      "/Users/pangmengting/venv/lib/python3.10/site-packages/langchain/_api/module_import.py:92: LangChainDeprecationWarning: Importing DashScopeEmbeddings from langchain.embeddings is deprecated. Please replace deprecated imports:\r\n",
      "\r\n",
      ">> from langchain.embeddings import DashScopeEmbeddings\r\n",
      "\r\n",
      "with new imports of:\r\n",
      "\r\n",
      ">> from langchain_community.embeddings import DashScopeEmbeddings\r\n",
      "You can use the langchain cli to **automatically** upgrade many imports. Please see documentation here <https://python.langchain.com/v0.2/docs/versions/v0_2/>\r\n",
      "  warn_deprecated(\r\n",
      "/Users/pangmengting/venv/lib/python3.10/site-packages/langchain/_api/module_import.py:92: LangChainDeprecationWarning: Importing DashScopeEmbeddings from langchain.embeddings is deprecated. Please replace deprecated imports:\r\n",
      "\r\n",
      ">> from langchain.embeddings import DashScopeEmbeddings\r\n",
      "\r\n",
      "with new imports of:\r\n",
      "\r\n",
      ">> from langchain_community.embeddings import DashScopeEmbeddings\r\n",
      "You can use the langchain cli to **automatically** upgrade many imports. Please see documentation here <https://python.langchain.com/v0.2/docs/versions/v0_2/>\r\n",
      "  warn_deprecated(\r\n",
      "/Users/pangmengting/venv/lib/python3.10/site-packages/langchain/_api/module_import.py:92: LangChainDeprecationWarning: Importing DashScopeEmbeddings from langchain.embeddings is deprecated. Please replace deprecated imports:\r\n",
      "\r\n",
      ">> from langchain.embeddings import DashScopeEmbeddings\r\n",
      "\r\n",
      "with new imports of:\r\n",
      "\r\n",
      ">> from langchain_community.embeddings import DashScopeEmbeddings\r\n",
      "You can use the langchain cli to **automatically** upgrade many imports. Please see documentation here <https://python.langchain.com/v0.2/docs/versions/v0_2/>\r\n",
      "  warn_deprecated(\r\n",
      "/Users/pangmengting/venv/lib/python3.10/site-packages/langchain/_api/module_import.py:92: LangChainDeprecationWarning: Importing DashScopeEmbeddings from langchain.embeddings is deprecated. Please replace deprecated imports:\r\n",
      "\r\n",
      ">> from langchain.embeddings import DashScopeEmbeddings\r\n",
      "\r\n",
      "with new imports of:\r\n",
      "\r\n",
      ">> from langchain_community.embeddings import DashScopeEmbeddings\r\n",
      "You can use the langchain cli to **automatically** upgrade many imports. Please see documentation here <https://python.langchain.com/v0.2/docs/versions/v0_2/>\r\n",
      "  warn_deprecated(\r\n"
     ]
    }
   ],
   "source": [
    "!python -m streamlit run chat-with-doc-op-2.py"
   ],
   "metadata": {
    "collapsed": false,
    "ExecuteTime": {
     "end_time": "2024-08-08T11:14:15.996792Z",
     "start_time": "2024-08-08T11:11:55.749145Z"
    }
   },
   "id": "ff2072f431028559",
   "execution_count": 26
  },
  {
   "cell_type": "markdown",
   "source": [],
   "metadata": {
    "collapsed": false
   },
   "id": "633fa3203c32fe29"
  },
  {
   "cell_type": "code",
   "outputs": [],
   "source": [],
   "metadata": {
    "collapsed": false
   },
   "id": "8994c54a2c4a43b7"
  }
 ],
 "metadata": {
  "kernelspec": {
   "display_name": "Python 3",
   "language": "python",
   "name": "python3"
  },
  "language_info": {
   "codemirror_mode": {
    "name": "ipython",
    "version": 2
   },
   "file_extension": ".py",
   "mimetype": "text/x-python",
   "name": "python",
   "nbconvert_exporter": "python",
   "pygments_lexer": "ipython2",
   "version": "2.7.6"
  }
 },
 "nbformat": 4,
 "nbformat_minor": 5
}
