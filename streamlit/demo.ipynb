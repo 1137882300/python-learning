{
 "cells": [
  {
   "cell_type": "code",
   "execution_count": 2,
   "id": "initial_id",
   "metadata": {
    "collapsed": true,
    "ExecuteTime": {
     "end_time": "2024-06-18T01:40:54.757133Z",
     "start_time": "2024-06-18T01:40:52.721314Z"
    }
   },
   "outputs": [
    {
     "name": "stdout",
     "output_type": "stream",
     "text": [
      "Looking in indexes: https://pypi.tuna.tsinghua.edu.cn/simple\r\n",
      "Collecting ollama\r\n",
      "  Downloading https://pypi.tuna.tsinghua.edu.cn/packages/7d/b7/8cc05807bfbc5b92da7fb94c525e1e56572a08eea7cdf3656e6c5dc6f9b1/ollama-0.2.1-py3-none-any.whl (9.7 kB)\r\n",
      "Requirement already satisfied: httpx<0.28.0,>=0.27.0 in /Users/pangmengting/venv/lib/python3.10/site-packages (from ollama) (0.27.0)\r\n",
      "Requirement already satisfied: anyio in /Users/pangmengting/venv/lib/python3.10/site-packages (from httpx<0.28.0,>=0.27.0->ollama) (3.7.1)\r\n",
      "Requirement already satisfied: certifi in /Users/pangmengting/venv/lib/python3.10/site-packages (from httpx<0.28.0,>=0.27.0->ollama) (2024.6.2)\r\n",
      "Requirement already satisfied: httpcore==1.* in /Users/pangmengting/venv/lib/python3.10/site-packages (from httpx<0.28.0,>=0.27.0->ollama) (1.0.4)\r\n",
      "Requirement already satisfied: idna in /Users/pangmengting/venv/lib/python3.10/site-packages (from httpx<0.28.0,>=0.27.0->ollama) (3.4)\r\n",
      "Requirement already satisfied: sniffio in /Users/pangmengting/venv/lib/python3.10/site-packages (from httpx<0.28.0,>=0.27.0->ollama) (1.3.0)\r\n",
      "Requirement already satisfied: h11<0.15,>=0.13 in /Users/pangmengting/venv/lib/python3.10/site-packages (from httpcore==1.*->httpx<0.28.0,>=0.27.0->ollama) (0.14.0)\r\n",
      "Requirement already satisfied: exceptiongroup in /Users/pangmengting/venv/lib/python3.10/site-packages (from anyio->httpx<0.28.0,>=0.27.0->ollama) (1.1.2)\r\n",
      "Installing collected packages: ollama\r\n",
      "Successfully installed ollama-0.2.1\r\n"
     ]
    }
   ],
   "source": [
    "# !pip install streamlit\n",
    "# !pip install ollama"
   ]
  },
  {
   "cell_type": "code",
   "outputs": [],
   "source": [
    "# 运行：\n",
    "# python -m streamlit run demo.py\n",
    "\n",
    "# streamlit run chat-ui.py\n",
    "# streamlit run Homepage.py\n",
    "# python -m streamlit run chat-ui.py"
   ],
   "metadata": {
    "collapsed": false
   },
   "id": "237fea5662fd3f0e"
  }
 ],
 "metadata": {
  "kernelspec": {
   "display_name": "Python 3",
   "language": "python",
   "name": "python3"
  },
  "language_info": {
   "codemirror_mode": {
    "name": "ipython",
    "version": 2
   },
   "file_extension": ".py",
   "mimetype": "text/x-python",
   "name": "python",
   "nbconvert_exporter": "python",
   "pygments_lexer": "ipython2",
   "version": "2.7.6"
  }
 },
 "nbformat": 4,
 "nbformat_minor": 5
}
