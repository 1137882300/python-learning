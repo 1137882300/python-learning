{
 "cells": [
  {
   "cell_type": "code",
   "execution_count": 1,
   "id": "initial_id",
   "metadata": {
    "collapsed": true,
    "ExecuteTime": {
     "end_time": "2024-07-24T06:17:26.688526Z",
     "start_time": "2024-07-24T06:17:19.639954Z"
    }
   },
   "outputs": [
    {
     "name": "stdout",
     "output_type": "stream",
     "text": [
      "Looking in indexes: https://pypi.tuna.tsinghua.edu.cn/simple\r\n",
      "Collecting cloudflare\r\n",
      "  Downloading https://pypi.tuna.tsinghua.edu.cn/packages/17/a3/8394580b64c021ae070c1c2a1acab862bb58f16c84cee16cb3b09b8bdd1a/cloudflare-3.1.0-py3-none-any.whl (2.9 MB)\r\n",
      "\u001B[2K     \u001B[90m━━━━━━━━━━━━━━━━━━━━━━━━━━━━━━━━━━━━━━━━\u001B[0m \u001B[32m2.9/2.9 MB\u001B[0m \u001B[31m1.1 MB/s\u001B[0m eta \u001B[36m0:00:00\u001B[0m00:01\u001B[0m00:01\u001B[0m0m\r\n",
      "\u001B[?25hRequirement already satisfied: anyio<5,>=3.5.0 in /Users/pangmengting/venv/lib/python3.10/site-packages (from cloudflare) (4.4.0)\r\n",
      "Requirement already satisfied: distro<2,>=1.7.0 in /Users/pangmengting/venv/lib/python3.10/site-packages (from cloudflare) (1.8.0)\r\n",
      "Requirement already satisfied: httpx<1,>=0.23.0 in /Users/pangmengting/venv/lib/python3.10/site-packages (from cloudflare) (0.27.0)\r\n",
      "Requirement already satisfied: pydantic<3,>=1.9.0 in /Users/pangmengting/venv/lib/python3.10/site-packages (from cloudflare) (1.10.17)\r\n",
      "Requirement already satisfied: sniffio in /Users/pangmengting/venv/lib/python3.10/site-packages (from cloudflare) (1.3.1)\r\n",
      "Requirement already satisfied: typing-extensions<5,>=4.7 in /Users/pangmengting/venv/lib/python3.10/site-packages (from cloudflare) (4.12.2)\r\n",
      "Requirement already satisfied: idna>=2.8 in /Users/pangmengting/venv/lib/python3.10/site-packages (from anyio<5,>=3.5.0->cloudflare) (3.7)\r\n",
      "Requirement already satisfied: exceptiongroup>=1.0.2 in /Users/pangmengting/venv/lib/python3.10/site-packages (from anyio<5,>=3.5.0->cloudflare) (1.2.2)\r\n",
      "Requirement already satisfied: certifi in /Users/pangmengting/venv/lib/python3.10/site-packages (from httpx<1,>=0.23.0->cloudflare) (2024.7.4)\r\n",
      "Requirement already satisfied: httpcore==1.* in /Users/pangmengting/venv/lib/python3.10/site-packages (from httpx<1,>=0.23.0->cloudflare) (1.0.5)\r\n",
      "Requirement already satisfied: h11<0.15,>=0.13 in /Users/pangmengting/venv/lib/python3.10/site-packages (from httpcore==1.*->httpx<1,>=0.23.0->cloudflare) (0.14.0)\r\n",
      "Installing collected packages: cloudflare\r\n",
      "Successfully installed cloudflare-3.1.0\r\n",
      "\r\n",
      "\u001B[1m[\u001B[0m\u001B[34;49mnotice\u001B[0m\u001B[1;39;49m]\u001B[0m\u001B[39;49m A new release of pip is available: \u001B[0m\u001B[31;49m24.0\u001B[0m\u001B[39;49m -> \u001B[0m\u001B[32;49m24.1.2\u001B[0m\r\n",
      "\u001B[1m[\u001B[0m\u001B[34;49mnotice\u001B[0m\u001B[1;39;49m]\u001B[0m\u001B[39;49m To update, run: \u001B[0m\u001B[32;49mpip install --upgrade pip\u001B[0m\r\n"
     ]
    }
   ],
   "source": [
    "# !pip install streamlit\n",
    "# !pip install ollama\n",
    "# !pip install cloudflare"
   ]
  },
  {
   "cell_type": "code",
   "outputs": [
    {
     "name": "stdout",
     "output_type": "stream",
     "text": [
      "\u001B[0m\r\n",
      "\u001B[34m\u001B[1m  You can now view your Streamlit app in your browser.\u001B[0m\r\n",
      "\u001B[0m\r\n",
      "\u001B[34m  Local URL: \u001B[0m\u001B[1mhttp://localhost:8501\u001B[0m\r\n",
      "\u001B[34m  Network URL: \u001B[0m\u001B[1mhttp://192.168.200.224:8501\u001B[0m\r\n",
      "\u001B[0m\r\n",
      "\u001B[34m\u001B[1m  For better performance, install the Watchdog module:\u001B[0m\r\n",
      "\r\n",
      "  $ xcode-select --install\r\n",
      "  $ pip install watchdog\r\n",
      "            \u001B[0m\r\n",
      "2024-07-24 14:44:47.099 Uncaught app exception\r\n",
      "Traceback (most recent call last):\r\n",
      "  File \"/Users/pangmengting/venv/lib/python3.10/site-packages/streamlit/runtime/scriptrunner/script_runner.py\", line 600, in _run_script\r\n",
      "    exec(code, module.__dict__)\r\n",
      "  File \"/Users/pangmengting/Documents/workspace/python-learning/streamlit/image-model/pages/2_🎭_Masking.py\", line 7, in <module>\r\n",
      "    from streamlit_drawable_canvas import st_canvas\r\n",
      "ModuleNotFoundError: No module named 'streamlit_drawable_canvas'\r\n",
      "^C\r\n",
      "\u001B[34m  Stopping...\u001B[0m\r\n"
     ]
    }
   ],
   "source": [
    "# 运行：\n",
    "# python -m streamlit run demo.py\n",
    "\n",
    "# streamlit run chat-ui.py\n",
    "# streamlit run Homepage.py\n",
    "# python -m streamlit run chat-ui.py\n",
    "\n",
    "# !streamlit run img/app.py\n",
    "\n",
    "# !streamlit run workers/comically-bad-art-workers-ai.py\n",
    "\n",
    "# !streamlit run image-model/hello.py\n"
   ],
   "metadata": {
    "collapsed": false,
    "ExecuteTime": {
     "end_time": "2024-07-24T06:45:11.659466Z",
     "start_time": "2024-07-24T06:44:42.524499Z"
    }
   },
   "id": "237fea5662fd3f0e",
   "execution_count": 5
  },
  {
   "cell_type": "code",
   "outputs": [],
   "source": [],
   "metadata": {
    "collapsed": false
   },
   "id": "f3acafb0a88d87b4"
  }
 ],
 "metadata": {
  "kernelspec": {
   "display_name": "Python 3",
   "language": "python",
   "name": "python3"
  },
  "language_info": {
   "codemirror_mode": {
    "name": "ipython",
    "version": 2
   },
   "file_extension": ".py",
   "mimetype": "text/x-python",
   "name": "python",
   "nbconvert_exporter": "python",
   "pygments_lexer": "ipython2",
   "version": "2.7.6"
  }
 },
 "nbformat": 4,
 "nbformat_minor": 5
}
