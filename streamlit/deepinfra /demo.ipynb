{
 "cells": [
  {
   "cell_type": "code",
   "execution_count": 2,
   "id": "initial_id",
   "metadata": {
    "collapsed": true,
    "ExecuteTime": {
     "end_time": "2024-08-08T08:49:36.056974Z",
     "start_time": "2024-08-08T08:49:19.230812Z"
    }
   },
   "outputs": [
    {
     "name": "stdout",
     "output_type": "stream",
     "text": [
      "\u001B[0m\r\n",
      "\u001B[34m\u001B[1m  You can now view your Streamlit app in your browser.\u001B[0m\r\n",
      "\u001B[0m\r\n",
      "\u001B[34m  Local URL: \u001B[0m\u001B[1mhttp://localhost:8501\u001B[0m\r\n",
      "\u001B[34m  Network URL: \u001B[0m\u001B[1mhttp://192.168.201.25:8501\u001B[0m\r\n",
      "\u001B[0m\r\n",
      "\u001B[34m\u001B[1m  For better performance, install the Watchdog module:\u001B[0m\r\n",
      "\r\n",
      "  $ xcode-select --install\r\n",
      "  $ pip install watchdog\r\n",
      "            \u001B[0m\r\n",
      "2024-08-08 16:49:19.610 Failed to load secrets.toml file\r\n",
      "Traceback (most recent call last):\r\n",
      "  File \"/Users/pangmengting/venv/lib/python3.10/site-packages/toml/decoder.py\", line 511, in loads\r\n",
      "    ret = decoder.load_line(line, currentlevel, multikey,\r\n",
      "  File \"/Users/pangmengting/venv/lib/python3.10/site-packages/toml/decoder.py\", line 737, in load_line\r\n",
      "    raise ValueError(\"Invalid date or number\")\r\n",
      "ValueError: Invalid date or number\r\n",
      "\r\n",
      "During handling of the above exception, another exception occurred:\r\n",
      "\r\n",
      "Traceback (most recent call last):\r\n",
      "  File \"/Users/pangmengting/venv/lib/python3.10/site-packages/streamlit/web/bootstrap.py\", line 126, in _on_server_start\r\n",
      "    secrets.load_if_toml_exists()\r\n",
      "  File \"/Users/pangmengting/venv/lib/python3.10/site-packages/streamlit/runtime/secrets.py\", line 140, in load_if_toml_exists\r\n",
      "    self._parse(print_exceptions=False)\r\n",
      "  File \"/Users/pangmengting/venv/lib/python3.10/site-packages/streamlit/runtime/secrets.py\", line 204, in _parse\r\n",
      "    secrets.update(toml.loads(secrets_file_str))\r\n",
      "  File \"/Users/pangmengting/venv/lib/python3.10/site-packages/toml/decoder.py\", line 514, in loads\r\n",
      "    raise TomlDecodeError(str(err), original, pos)\r\n",
      "toml.decoder.TomlDecodeError: Invalid date or number (line 1 column 1 char 0)\r\n",
      "2024-08-08 16:49:20.570 Uncaught app exception\r\n",
      "Traceback (most recent call last):\r\n",
      "  File \"/Users/pangmengting/venv/lib/python3.10/site-packages/toml/decoder.py\", line 511, in loads\r\n",
      "    ret = decoder.load_line(line, currentlevel, multikey,\r\n",
      "  File \"/Users/pangmengting/venv/lib/python3.10/site-packages/toml/decoder.py\", line 737, in load_line\r\n",
      "    raise ValueError(\"Invalid date or number\")\r\n",
      "ValueError: Invalid date or number\r\n",
      "\r\n",
      "During handling of the above exception, another exception occurred:\r\n",
      "\r\n",
      "Traceback (most recent call last):\r\n",
      "  File \"/Users/pangmengting/venv/lib/python3.10/site-packages/streamlit/runtime/scriptrunner/script_runner.py\", line 600, in _run_script\r\n",
      "    exec(code, module.__dict__)\r\n",
      "  File \"/Users/pangmengting/Documents/workspace/python-learning/streamlit/deepinfra /app.py\", line 56, in <module>\r\n",
      "    API_KEY = st.secrets[\"api_key\"]\r\n",
      "  File \"/Users/pangmengting/venv/lib/python3.10/site-packages/streamlit/runtime/secrets.py\", line 305, in __getitem__\r\n",
      "    value = self._parse(True)[key]\r\n",
      "  File \"/Users/pangmengting/venv/lib/python3.10/site-packages/streamlit/runtime/secrets.py\", line 204, in _parse\r\n",
      "    secrets.update(toml.loads(secrets_file_str))\r\n",
      "  File \"/Users/pangmengting/venv/lib/python3.10/site-packages/toml/decoder.py\", line 514, in loads\r\n",
      "    raise TomlDecodeError(str(err), original, pos)\r\n",
      "toml.decoder.TomlDecodeError: Invalid date or number (line 1 column 1 char 0)\r\n",
      "^C\r\n",
      "\u001B[34m  Stopping...\u001B[0m\r\n"
     ]
    }
   ],
   "source": [
    "!python -m streamlit run app.py"
   ]
  },
  {
   "cell_type": "code",
   "outputs": [],
   "source": [],
   "metadata": {
    "collapsed": false
   },
   "id": "899b96101d204924"
  }
 ],
 "metadata": {
  "kernelspec": {
   "display_name": "Python 3",
   "language": "python",
   "name": "python3"
  },
  "language_info": {
   "codemirror_mode": {
    "name": "ipython",
    "version": 2
   },
   "file_extension": ".py",
   "mimetype": "text/x-python",
   "name": "python",
   "nbconvert_exporter": "python",
   "pygments_lexer": "ipython2",
   "version": "2.7.6"
  }
 },
 "nbformat": 4,
 "nbformat_minor": 5
}
