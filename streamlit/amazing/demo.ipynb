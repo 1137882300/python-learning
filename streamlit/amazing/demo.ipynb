{
 "cells": [
  {
   "cell_type": "code",
   "execution_count": 1,
   "id": "initial_id",
   "metadata": {
    "collapsed": true,
    "ExecuteTime": {
     "end_time": "2024-06-28T06:29:14.002205Z",
     "start_time": "2024-06-28T06:29:08.944271Z"
    }
   },
   "outputs": [
    {
     "name": "stdout",
     "output_type": "stream",
     "text": [
      "--2024-06-28 14:29:09--  https://crab233.cloudns.biz/proxy/raw.githubusercontent.com/sugarforever/amazing-jo/main/app.py\r\n",
      "Resolving crab233.cloudns.biz (crab233.cloudns.biz)... 76.76.21.21\r\n",
      "Connecting to crab233.cloudns.biz (crab233.cloudns.biz)|76.76.21.21|:443... connected.\r\n",
      "HTTP request sent, awaiting response... 308 Permanent Redirect\r\n",
      "Location: https://www.crab233.cloudns.biz/proxy/raw.githubusercontent.com/sugarforever/amazing-jo/main/app.py [following]\r\n",
      "--2024-06-28 14:29:10--  https://www.crab233.cloudns.biz/proxy/raw.githubusercontent.com/sugarforever/amazing-jo/main/app.py\r\n",
      "Resolving www.crab233.cloudns.biz (www.crab233.cloudns.biz)... 76.76.21.98, 76.76.21.9\r\n",
      "Connecting to www.crab233.cloudns.biz (www.crab233.cloudns.biz)|76.76.21.98|:443... connected.\r\n",
      "HTTP request sent, awaiting response... 200 OK\r\n",
      "Length: 2619 (2.6K) [text/plain]\r\n",
      "Saving to: ‘app.py’\r\n",
      "\r\n",
      "app.py              100%[===================>]   2.56K  2.45KB/s    in 1.0s    \r\n",
      "\r\n",
      "2024-06-28 14:29:13 (2.45 KB/s) - ‘app.py’ saved [2619/2619]\r\n",
      "\r\n"
     ]
    }
   ],
   "source": [
    "# !wget https://crab233.cloudns.biz/proxy/raw.githubusercontent.com/sugarforever/amazing-jo/main/app.py"
   ]
  },
  {
   "cell_type": "code",
   "outputs": [
    {
     "name": "stdout",
     "output_type": "stream",
     "text": [
      "\u001B[0m\r\n",
      "\u001B[34m\u001B[1m  You can now view your Streamlit app in your browser.\u001B[0m\r\n",
      "\u001B[0m\r\n",
      "\u001B[34m  Local URL: \u001B[0m\u001B[1mhttp://localhost:8501\u001B[0m\r\n",
      "\u001B[34m  Network URL: \u001B[0m\u001B[1mhttp://192.168.201.69:8501\u001B[0m\r\n",
      "\u001B[0m\r\n",
      "\u001B[34m\u001B[1m  For better performance, install the Watchdog module:\u001B[0m\r\n",
      "\r\n",
      "  $ xcode-select --install\r\n",
      "  $ pip install watchdog\r\n",
      "            \u001B[0m\r\n",
      "2024-06-28 14:38:18.225 Uncaught app exception\r\n",
      "Traceback (most recent call last):\r\n",
      "  File \"/Users/pangmengting/venv/lib/python3.10/site-packages/streamlit/runtime/scriptrunner/script_runner.py\", line 600, in _run_script\r\n",
      "    exec(code, module.__dict__)\r\n",
      "  File \"/Users/pangmengting/Documents/workspace/python-learning/streamlit/amazing/app.py\", line 88, in <module>\r\n",
      "    recipe = parse_by_chatgpt(openai_api_key, html_markup)\r\n",
      "  File \"/Users/pangmengting/Documents/workspace/python-learning/streamlit/amazing/app.py\", line 75, in parse_by_chatgpt\r\n",
      "    output = qw_llm_openai.invoke([HumanMessage(content=prompt.format_prompt(html=html_markup).to_string())])\r\n",
      "  File \"/Users/pangmengting/venv/lib/python3.10/site-packages/langchain_core/language_models/chat_models.py\", line 170, in invoke\r\n",
      "    self.generate_prompt(\r\n",
      "  File \"/Users/pangmengting/venv/lib/python3.10/site-packages/langchain_core/language_models/chat_models.py\", line 599, in generate_prompt\r\n",
      "    return self.generate(prompt_messages, stop=stop, callbacks=callbacks, **kwargs)\r\n",
      "  File \"/Users/pangmengting/venv/lib/python3.10/site-packages/langchain_core/language_models/chat_models.py\", line 456, in generate\r\n",
      "    raise e\r\n",
      "  File \"/Users/pangmengting/venv/lib/python3.10/site-packages/langchain_core/language_models/chat_models.py\", line 446, in generate\r\n",
      "    self._generate_with_cache(\r\n",
      "  File \"/Users/pangmengting/venv/lib/python3.10/site-packages/langchain_core/language_models/chat_models.py\", line 671, in _generate_with_cache\r\n",
      "    result = self._generate(\r\n",
      "  File \"/Users/pangmengting/venv/lib/python3.10/site-packages/langchain_openai/chat_models/base.py\", line 537, in _generate\r\n",
      "    response = self.client.create(messages=message_dicts, **params)\r\n",
      "  File \"/Users/pangmengting/venv/lib/python3.10/site-packages/openai/_utils/_utils.py\", line 277, in wrapper\r\n",
      "    return func(*args, **kwargs)\r\n",
      "  File \"/Users/pangmengting/venv/lib/python3.10/site-packages/openai/resources/chat/completions.py\", line 606, in create\r\n",
      "    return self._post(\r\n",
      "  File \"/Users/pangmengting/venv/lib/python3.10/site-packages/openai/_base_client.py\", line 1240, in post\r\n",
      "    return cast(ResponseT, self.request(cast_to, opts, stream=stream, stream_cls=stream_cls))\r\n",
      "  File \"/Users/pangmengting/venv/lib/python3.10/site-packages/openai/_base_client.py\", line 921, in request\r\n",
      "    return self._request(\r\n",
      "  File \"/Users/pangmengting/venv/lib/python3.10/site-packages/openai/_base_client.py\", line 1020, in _request\r\n",
      "    raise self._make_status_error_from_response(err.response) from None\r\n",
      "openai.BadRequestError: Error code: 400 - {'error': {'code': 'invalid_parameter_error', 'param': None, 'message': 'Range of input length should be [1, 30720]', 'type': 'invalid_request_error'}, 'id': 'chatcmpl-41a94a52-b618-9c1a-84f1-3c24a78ac66b'}\r\n"
     ]
    }
   ],
   "source": [
    "# !python -m streamlit run app.py"
   ],
   "metadata": {
    "collapsed": false,
    "ExecuteTime": {
     "end_time": "2024-06-28T06:38:32.868719Z",
     "start_time": "2024-06-28T06:38:04.182473Z"
    }
   },
   "id": "4628b82e17f4aca9",
   "execution_count": 4
  },
  {
   "cell_type": "code",
   "outputs": [],
   "source": [],
   "metadata": {
    "collapsed": false
   },
   "id": "4c0d8e2e6722560e"
  }
 ],
 "metadata": {
  "kernelspec": {
   "display_name": "Python 3",
   "language": "python",
   "name": "python3"
  },
  "language_info": {
   "codemirror_mode": {
    "name": "ipython",
    "version": 2
   },
   "file_extension": ".py",
   "mimetype": "text/x-python",
   "name": "python",
   "nbconvert_exporter": "python",
   "pygments_lexer": "ipython2",
   "version": "2.7.6"
  }
 },
 "nbformat": 4,
 "nbformat_minor": 5
}
