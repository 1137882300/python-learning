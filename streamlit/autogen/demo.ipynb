{
 "cells": [
  {
   "cell_type": "code",
   "execution_count": 10,
   "id": "initial_id",
   "metadata": {
    "collapsed": true,
    "ExecuteTime": {
     "end_time": "2024-06-28T07:37:31.616331Z",
     "start_time": "2024-06-28T07:37:28.263011Z"
    }
   },
   "outputs": [
    {
     "name": "stdout",
     "output_type": "stream",
     "text": [
      "--2024-06-28 15:37:28--  https://raw.githubusercontent.com/sugarforever/autogen-streamlit/main/app.py\r\n",
      "Resolving raw.githubusercontent.com (raw.githubusercontent.com)... 185.199.108.133\r\n",
      "Connecting to raw.githubusercontent.com (raw.githubusercontent.com)|185.199.108.133|:443... connected.\r\n",
      "HTTP request sent, awaiting response... 200 OK\r\n",
      "Length: 4959 (4.8K) [text/plain]\r\n",
      "Saving to: ‘app.py.1’\r\n",
      "\r\n",
      "app.py.1            100%[===================>]   4.84K  11.4KB/s    in 0.4s    \r\n",
      "\r\n",
      "2024-06-28 15:37:31 (11.4 KB/s) - ‘app.py.1’ saved [4959/4959]\r\n",
      "\r\n"
     ]
    }
   ],
   "source": [
    "# !wget https://crab233.cloudns.biz/proxy/raw.githubusercontent.com/sugarforever/autogen-streamlit/main/app.py\n",
    "# \n",
    "# !wget https://raw.githubusercontent.com/sugarforever/autogen-streamlit/main/app.py"
   ]
  },
  {
   "cell_type": "code",
   "outputs": [
    {
     "name": "stdout",
     "output_type": "stream",
     "text": [
      "Looking in indexes: https://pypi.tuna.tsinghua.edu.cn/simple\r\n",
      "Collecting autogen\r\n",
      "  Downloading https://pypi.tuna.tsinghua.edu.cn/packages/bb/4c/ec024ce118b33896f074cdea87f0eb31f79658a08e7051307168bc48103a/autogen-1.0.16-py3-none-any.whl (30 kB)\r\n",
      "Requirement already satisfied: PyYAML in /Users/pangmengting/venv/lib/python3.10/site-packages (from autogen) (6.0.1)\r\n",
      "Collecting autopep8 (from autogen)\r\n",
      "  Downloading https://pypi.tuna.tsinghua.edu.cn/packages/ad/9e/f0beffe45b507dca9d7540fad42b316b2fd1076dc484c9b1f23d9da570d7/autopep8-2.3.1-py2.py3-none-any.whl (45 kB)\r\n",
      "\u001B[2K     \u001B[90m━━━━━━━━━━━━━━━━━━━━━━━━━━━━━━━━━━━━━━━\u001B[0m \u001B[32m45.7/45.7 kB\u001B[0m \u001B[31m509.5 kB/s\u001B[0m eta \u001B[36m0:00:00\u001B[0m:--:--\u001B[0m\r\n",
      "\u001B[?25hCollecting docopt (from autogen)\r\n",
      "  Downloading https://pypi.tuna.tsinghua.edu.cn/packages/a2/55/8f8cab2afd404cf578136ef2cc5dfb50baa1761b68c9da1fb1e4eed343c9/docopt-0.6.2.tar.gz (25 kB)\r\n",
      "  Preparing metadata (setup.py) ... \u001B[?25ldone\r\n",
      "\u001B[?25hRequirement already satisfied: setuptools in /Users/pangmengting/venv/lib/python3.10/site-packages (from autogen) (68.2.0)\r\n",
      "Requirement already satisfied: twine in /Users/pangmengting/venv/lib/python3.10/site-packages (from autogen) (3.8.0)\r\n",
      "Collecting pycodestyle>=2.12.0 (from autopep8->autogen)\r\n",
      "  Downloading https://pypi.tuna.tsinghua.edu.cn/packages/55/c4/bf8ede2d1641e0a2e027c6d0c7060e00332851ea772cc5cee42a4a207707/pycodestyle-2.12.0-py2.py3-none-any.whl (31 kB)\r\n",
      "Requirement already satisfied: tomli in /Users/pangmengting/venv/lib/python3.10/site-packages (from autopep8->autogen) (2.0.1)\r\n",
      "Requirement already satisfied: pkginfo>=1.8.1 in /Users/pangmengting/venv/lib/python3.10/site-packages (from twine->autogen) (1.9.6)\r\n",
      "Requirement already satisfied: readme-renderer>=21.0 in /Users/pangmengting/venv/lib/python3.10/site-packages (from twine->autogen) (40.0)\r\n",
      "Requirement already satisfied: requests>=2.20 in /Users/pangmengting/venv/lib/python3.10/site-packages (from twine->autogen) (2.31.0)\r\n",
      "Requirement already satisfied: requests-toolbelt!=0.9.0,>=0.8.0 in /Users/pangmengting/venv/lib/python3.10/site-packages (from twine->autogen) (1.0.0)\r\n",
      "Requirement already satisfied: urllib3>=1.26.0 in /Users/pangmengting/venv/lib/python3.10/site-packages (from twine->autogen) (2.2.1)\r\n",
      "Requirement already satisfied: tqdm>=4.14 in /Users/pangmengting/venv/lib/python3.10/site-packages (from twine->autogen) (4.66.4)\r\n",
      "Requirement already satisfied: importlib-metadata>=3.6 in /Users/pangmengting/venv/lib/python3.10/site-packages (from twine->autogen) (6.8.0)\r\n",
      "Requirement already satisfied: keyring>=15.1 in /Users/pangmengting/venv/lib/python3.10/site-packages (from twine->autogen) (24.2.0)\r\n",
      "Requirement already satisfied: rfc3986>=1.4.0 in /Users/pangmengting/venv/lib/python3.10/site-packages (from twine->autogen) (1.5.0)\r\n",
      "Requirement already satisfied: colorama>=0.4.3 in /Users/pangmengting/venv/lib/python3.10/site-packages (from twine->autogen) (0.4.6)\r\n",
      "Requirement already satisfied: zipp>=0.5 in /Users/pangmengting/venv/lib/python3.10/site-packages (from importlib-metadata>=3.6->twine->autogen) (3.16.2)\r\n",
      "Requirement already satisfied: jaraco.classes in /Users/pangmengting/venv/lib/python3.10/site-packages (from keyring>=15.1->twine->autogen) (3.3.0)\r\n",
      "Requirement already satisfied: bleach>=2.1.0 in /Users/pangmengting/venv/lib/python3.10/site-packages (from readme-renderer>=21.0->twine->autogen) (6.0.0)\r\n",
      "Requirement already satisfied: docutils>=0.13.1 in /Users/pangmengting/venv/lib/python3.10/site-packages (from readme-renderer>=21.0->twine->autogen) (0.20.1)\r\n",
      "Requirement already satisfied: Pygments>=2.5.1 in /Users/pangmengting/venv/lib/python3.10/site-packages (from readme-renderer>=21.0->twine->autogen) (2.15.1)\r\n",
      "Requirement already satisfied: charset-normalizer<4,>=2 in /Users/pangmengting/venv/lib/python3.10/site-packages (from requests>=2.20->twine->autogen) (3.2.0)\r\n",
      "Requirement already satisfied: idna<4,>=2.5 in /Users/pangmengting/venv/lib/python3.10/site-packages (from requests>=2.20->twine->autogen) (3.4)\r\n",
      "Requirement already satisfied: certifi>=2017.4.17 in /Users/pangmengting/venv/lib/python3.10/site-packages (from requests>=2.20->twine->autogen) (2024.6.2)\r\n",
      "Requirement already satisfied: six>=1.9.0 in /Users/pangmengting/venv/lib/python3.10/site-packages (from bleach>=2.1.0->readme-renderer>=21.0->twine->autogen) (1.16.0)\r\n",
      "Requirement already satisfied: webencodings in /Users/pangmengting/venv/lib/python3.10/site-packages (from bleach>=2.1.0->readme-renderer>=21.0->twine->autogen) (0.5.1)\r\n",
      "Requirement already satisfied: more-itertools in /Users/pangmengting/venv/lib/python3.10/site-packages (from jaraco.classes->keyring>=15.1->twine->autogen) (9.1.0)\r\n",
      "Building wheels for collected packages: docopt\r\n",
      "  Building wheel for docopt (setup.py) ... \u001B[?25ldone\r\n",
      "\u001B[?25h  Created wheel for docopt: filename=docopt-0.6.2-py2.py3-none-any.whl size=13705 sha256=d71360af44b7a9b0a93fd773671f450f63047324297a0d45bb154c3f25a4d9e2\r\n",
      "  Stored in directory: /Users/pangmengting/Library/Caches/pip/wheels/64/c4/9e/f0871619d76c4c023953046527c4419afbaedce1f74cba7e33\r\n",
      "Successfully built docopt\r\n",
      "Installing collected packages: docopt, pycodestyle, autopep8, autogen\r\n",
      "Successfully installed autogen-1.0.16 autopep8-2.3.1 docopt-0.6.2 pycodestyle-2.12.0\r\n",
      "\r\n",
      "\u001B[1m[\u001B[0m\u001B[34;49mnotice\u001B[0m\u001B[1;39;49m]\u001B[0m\u001B[39;49m A new release of pip is available: \u001B[0m\u001B[31;49m24.0\u001B[0m\u001B[39;49m -> \u001B[0m\u001B[32;49m24.1\u001B[0m\r\n",
      "\u001B[1m[\u001B[0m\u001B[34;49mnotice\u001B[0m\u001B[1;39;49m]\u001B[0m\u001B[39;49m To update, run: \u001B[0m\u001B[32;49mpip install --upgrade pip\u001B[0m\r\n"
     ]
    }
   ],
   "source": [
    "# !pip install autogen"
   ],
   "metadata": {
    "collapsed": false,
    "ExecuteTime": {
     "end_time": "2024-06-28T07:38:28.568672Z",
     "start_time": "2024-06-28T07:38:19.789643Z"
    }
   },
   "id": "96284af81e68ce38",
   "execution_count": 11
  },
  {
   "cell_type": "code",
   "outputs": [],
   "source": [],
   "metadata": {
    "collapsed": false
   },
   "id": "9be61b55f13c3f6c"
  }
 ],
 "metadata": {
  "kernelspec": {
   "display_name": "Python 3",
   "language": "python",
   "name": "python3"
  },
  "language_info": {
   "codemirror_mode": {
    "name": "ipython",
    "version": 2
   },
   "file_extension": ".py",
   "mimetype": "text/x-python",
   "name": "python",
   "nbconvert_exporter": "python",
   "pygments_lexer": "ipython2",
   "version": "2.7.6"
  }
 },
 "nbformat": 4,
 "nbformat_minor": 5
}
