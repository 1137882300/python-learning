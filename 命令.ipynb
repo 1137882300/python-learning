{
 "cells": [
  {
   "cell_type": "code",
   "execution_count": 3,
   "id": "initial_id",
   "metadata": {
    "collapsed": true,
    "ExecuteTime": {
     "end_time": "2024-06-17T01:30:26.788654Z",
     "start_time": "2024-06-17T01:30:25.476920Z"
    }
   },
   "outputs": [
    {
     "name": "stdout",
     "output_type": "stream",
     "text": [
      "Name: langchain-community\r\n",
      "Version: 0.2.4\r\n",
      "Summary: Community contributed LangChain integrations.\r\n",
      "Home-page: https://github.com/langchain-ai/langchain\r\n",
      "Author: \r\n",
      "Author-email: \r\n",
      "License: MIT\r\n",
      "Location: /Users/pangmengting/venv/lib/python3.10/site-packages\r\n",
      "Requires: aiohttp, dataclasses-json, langchain, langchain-core, langsmith, numpy, PyYAML, requests, SQLAlchemy, tenacity\r\n",
      "Required-by: \r\n"
     ]
    }
   ],
   "source": [
    "\n",
    "# 0.1.33\n",
    "# 0.1.46\n",
    "# 0.2.3\n",
    "# !pip show langchain_core \n",
    "# 0.1.13\n",
    "# 0.2.1\n",
    "# 0.2.3\n",
    "# !pip show langchain\n",
    "# 0.2.4\n",
    "# !pip show langchain_community"
   ]
  },
  {
   "cell_type": "code",
   "outputs": [
    {
     "name": "stdout",
     "output_type": "stream",
     "text": [
      "Looking in indexes: https://pypi.tuna.tsinghua.edu.cn/simple\r\n",
      "Collecting langchain_community==0.2.4\r\n",
      "  Using cached https://pypi.tuna.tsinghua.edu.cn/packages/ed/fc/1c3bed764d4e3575b0d81a8700d429bca4b89ea18ac756fef771fc91f0bf/langchain_community-0.2.4-py3-none-any.whl (2.2 MB)\r\n",
      "Requirement already satisfied: PyYAML>=5.3 in /Users/pangmengting/venv/lib/python3.10/site-packages (from langchain_community==0.2.4) (6.0.1)\r\n",
      "Requirement already satisfied: SQLAlchemy<3,>=1.4 in /Users/pangmengting/venv/lib/python3.10/site-packages (from langchain_community==0.2.4) (1.4.41)\r\n",
      "Requirement already satisfied: aiohttp<4.0.0,>=3.8.3 in /Users/pangmengting/venv/lib/python3.10/site-packages (from langchain_community==0.2.4) (3.8.4)\r\n",
      "Requirement already satisfied: dataclasses-json<0.7,>=0.5.7 in /Users/pangmengting/venv/lib/python3.10/site-packages (from langchain_community==0.2.4) (0.6.7)\r\n",
      "Requirement already satisfied: langchain<0.3.0,>=0.2.0 in /Users/pangmengting/venv/lib/python3.10/site-packages (from langchain_community==0.2.4) (0.2.3)\r\n",
      "Requirement already satisfied: langchain-core<0.3.0,>=0.2.0 in /Users/pangmengting/venv/lib/python3.10/site-packages (from langchain_community==0.2.4) (0.2.3)\r\n",
      "Requirement already satisfied: langsmith<0.2.0,>=0.1.0 in /Users/pangmengting/venv/lib/python3.10/site-packages (from langchain_community==0.2.4) (0.1.67)\r\n",
      "Requirement already satisfied: numpy<2,>=1 in /Users/pangmengting/venv/lib/python3.10/site-packages (from langchain_community==0.2.4) (1.25.1)\r\n",
      "Requirement already satisfied: requests<3,>=2 in /Users/pangmengting/venv/lib/python3.10/site-packages (from langchain_community==0.2.4) (2.31.0)\r\n",
      "Requirement already satisfied: tenacity<9.0.0,>=8.1.0 in /Users/pangmengting/venv/lib/python3.10/site-packages (from langchain_community==0.2.4) (8.2.3)\r\n",
      "Requirement already satisfied: attrs>=17.3.0 in /Users/pangmengting/venv/lib/python3.10/site-packages (from aiohttp<4.0.0,>=3.8.3->langchain_community==0.2.4) (23.1.0)\r\n",
      "Requirement already satisfied: charset-normalizer<4.0,>=2.0 in /Users/pangmengting/venv/lib/python3.10/site-packages (from aiohttp<4.0.0,>=3.8.3->langchain_community==0.2.4) (3.2.0)\r\n",
      "Requirement already satisfied: multidict<7.0,>=4.5 in /Users/pangmengting/venv/lib/python3.10/site-packages (from aiohttp<4.0.0,>=3.8.3->langchain_community==0.2.4) (6.0.4)\r\n",
      "Requirement already satisfied: async-timeout<5.0,>=4.0.0a3 in /Users/pangmengting/venv/lib/python3.10/site-packages (from aiohttp<4.0.0,>=3.8.3->langchain_community==0.2.4) (4.0.2)\r\n",
      "Requirement already satisfied: yarl<2.0,>=1.0 in /Users/pangmengting/venv/lib/python3.10/site-packages (from aiohttp<4.0.0,>=3.8.3->langchain_community==0.2.4) (1.9.2)\r\n",
      "Requirement already satisfied: frozenlist>=1.1.1 in /Users/pangmengting/venv/lib/python3.10/site-packages (from aiohttp<4.0.0,>=3.8.3->langchain_community==0.2.4) (1.4.0)\r\n",
      "Requirement already satisfied: aiosignal>=1.1.2 in /Users/pangmengting/venv/lib/python3.10/site-packages (from aiohttp<4.0.0,>=3.8.3->langchain_community==0.2.4) (1.3.1)\r\n",
      "Requirement already satisfied: marshmallow<4.0.0,>=3.18.0 in /Users/pangmengting/venv/lib/python3.10/site-packages (from dataclasses-json<0.7,>=0.5.7->langchain_community==0.2.4) (3.19.0)\r\n",
      "Requirement already satisfied: typing-inspect<1,>=0.4.0 in /Users/pangmengting/venv/lib/python3.10/site-packages (from dataclasses-json<0.7,>=0.5.7->langchain_community==0.2.4) (0.9.0)\r\n",
      "Requirement already satisfied: langchain-text-splitters<0.3.0,>=0.2.0 in /Users/pangmengting/venv/lib/python3.10/site-packages (from langchain<0.3.0,>=0.2.0->langchain_community==0.2.4) (0.2.0)\r\n",
      "Requirement already satisfied: pydantic<3,>=1 in /Users/pangmengting/venv/lib/python3.10/site-packages (from langchain<0.3.0,>=0.2.0->langchain_community==0.2.4) (2.6.4)\r\n",
      "Requirement already satisfied: jsonpatch<2.0,>=1.33 in /Users/pangmengting/venv/lib/python3.10/site-packages (from langchain-core<0.3.0,>=0.2.0->langchain_community==0.2.4) (1.33)\r\n",
      "Requirement already satisfied: packaging<24.0,>=23.2 in /Users/pangmengting/venv/lib/python3.10/site-packages (from langchain-core<0.3.0,>=0.2.0->langchain_community==0.2.4) (23.2)\r\n",
      "Requirement already satisfied: orjson<4.0.0,>=3.9.14 in /Users/pangmengting/venv/lib/python3.10/site-packages (from langsmith<0.2.0,>=0.1.0->langchain_community==0.2.4) (3.9.15)\r\n",
      "Requirement already satisfied: idna<4,>=2.5 in /Users/pangmengting/venv/lib/python3.10/site-packages (from requests<3,>=2->langchain_community==0.2.4) (3.4)\r\n",
      "Requirement already satisfied: urllib3<3,>=1.21.1 in /Users/pangmengting/venv/lib/python3.10/site-packages (from requests<3,>=2->langchain_community==0.2.4) (2.2.1)\r\n",
      "Requirement already satisfied: certifi>=2017.4.17 in /Users/pangmengting/venv/lib/python3.10/site-packages (from requests<3,>=2->langchain_community==0.2.4) (2024.6.2)\r\n",
      "Requirement already satisfied: jsonpointer>=1.9 in /Users/pangmengting/venv/lib/python3.10/site-packages (from jsonpatch<2.0,>=1.33->langchain-core<0.3.0,>=0.2.0->langchain_community==0.2.4) (2.4)\r\n",
      "Requirement already satisfied: annotated-types>=0.4.0 in /Users/pangmengting/venv/lib/python3.10/site-packages (from pydantic<3,>=1->langchain<0.3.0,>=0.2.0->langchain_community==0.2.4) (0.6.0)\r\n",
      "Requirement already satisfied: pydantic-core==2.16.3 in /Users/pangmengting/venv/lib/python3.10/site-packages (from pydantic<3,>=1->langchain<0.3.0,>=0.2.0->langchain_community==0.2.4) (2.16.3)\r\n",
      "Requirement already satisfied: typing-extensions>=4.6.1 in /Users/pangmengting/venv/lib/python3.10/site-packages (from pydantic<3,>=1->langchain<0.3.0,>=0.2.0->langchain_community==0.2.4) (4.10.0)\r\n",
      "Requirement already satisfied: mypy-extensions>=0.3.0 in /Users/pangmengting/venv/lib/python3.10/site-packages (from typing-inspect<1,>=0.4.0->dataclasses-json<0.7,>=0.5.7->langchain_community==0.2.4) (1.0.0)\r\n",
      "Installing collected packages: langchain_community\r\n",
      "  Attempting uninstall: langchain_community\r\n",
      "    Found existing installation: langchain-community 0.2.3\r\n",
      "    Uninstalling langchain-community-0.2.3:\r\n",
      "      Successfully uninstalled langchain-community-0.2.3\r\n",
      "Successfully installed langchain_community-0.2.4\r\n"
     ]
    }
   ],
   "source": [
    "# 升级版本： langchain_core\n",
    "# !pip install --upgrade langchain_core\n",
    "# 升级版本： langchain\n",
    "# !pip install --upgrade langchain\n",
    "\n",
    "# !pip install youtube-transcript-api\n",
    "# !pip install pytube\n",
    "\n",
    "# 爬取youtube使用到\n",
    "# !pip install google-api-python-client\n",
    "\n",
    "# 爬取youtube/bilibili使用到\n",
    "# !pip install yt-dlp\n",
    "\n",
    "# 手动指定安卓版本\n",
    "# !pip install websockets==10.3\n",
    "# !pip install httpx==0.23.0\n",
    "\n",
    "# 升级 sentence-transformers\n",
    "# !pip install -U sentence-transformers\n",
    "\n",
    "# 指定 sentence-transformers 版本\n",
    "# !pip install sentence-transformers==2.5.1\n",
    "\n",
    "# 指定 langchain_community版本：0.2.4\n",
    "# !pip install langchain_community==0.2.4\n",
    "\n",
    "\n",
    "# !pip install --upgrade --quiet  tiktoken supabase unstructured\n",
    "\n",
    "# -q: 这是pip的一个可选参数，表示\"quiet\"（安静模式）。它会减少命令执行时输出的信息量，使安装过程更加简洁清晰。\n",
    "# -U: 这是pip的另一个可选参数，表示\"upgrade\"（升级）。它将确保安装的是指定包的最新版本，如果已经安装了旧版本，它将会把旧版本升级到最新版本。\n",
    "# !pip install firecrawl-py faiss-cpu -q -U\n",
    "\n",
    "# 千问\n",
    "# !pip install --upgrade --quiet  dashscope\n"
   ],
   "metadata": {
    "collapsed": false,
    "ExecuteTime": {
     "end_time": "2024-06-11T06:56:37.440128Z",
     "start_time": "2024-06-11T06:56:34.038193Z"
    }
   },
   "id": "7500d9cbec4b32bd",
   "execution_count": 6
  },
  {
   "cell_type": "code",
   "outputs": [],
   "source": [],
   "metadata": {
    "collapsed": false
   },
   "id": "19bb06f2243cc275"
  }
 ],
 "metadata": {
  "kernelspec": {
   "display_name": "Python 3",
   "language": "python",
   "name": "python3"
  },
  "language_info": {
   "codemirror_mode": {
    "name": "ipython",
    "version": 2
   },
   "file_extension": ".py",
   "mimetype": "text/x-python",
   "name": "python",
   "nbconvert_exporter": "python",
   "pygments_lexer": "ipython2",
   "version": "2.7.6"
  }
 },
 "nbformat": 4,
 "nbformat_minor": 5
}
