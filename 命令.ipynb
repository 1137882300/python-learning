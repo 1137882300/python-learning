{
 "cells": [
  {
   "cell_type": "code",
   "execution_count": null,
   "id": "initial_id",
   "metadata": {
    "collapsed": true
   },
   "outputs": [],
   "source": [
    "\n",
    "# 0.1.33\n",
    "# 0.1.46\n",
    "!pip show langchain_core  "
   ]
  },
  {
   "cell_type": "code",
   "outputs": [
    {
     "name": "stdout",
     "output_type": "stream",
     "text": [
      "Looking in indexes: https://pypi.tuna.tsinghua.edu.cn/simple\r\n",
      "Requirement already satisfied: google-api-python-client in /Users/pangmengting/venv/lib/python3.10/site-packages (2.94.0)\r\n",
      "Requirement already satisfied: httplib2<1.dev0,>=0.15.0 in /Users/pangmengting/venv/lib/python3.10/site-packages (from google-api-python-client) (0.22.0)\r\n",
      "Requirement already satisfied: google-auth<3.0.0.dev0,>=1.19.0 in /Users/pangmengting/venv/lib/python3.10/site-packages (from google-api-python-client) (2.29.0)\r\n",
      "Requirement already satisfied: google-auth-httplib2>=0.1.0 in /Users/pangmengting/venv/lib/python3.10/site-packages (from google-api-python-client) (0.1.0)\r\n",
      "Requirement already satisfied: google-api-core!=2.0.*,!=2.1.*,!=2.2.*,!=2.3.0,<3.0.0.dev0,>=1.31.5 in /Users/pangmengting/venv/lib/python3.10/site-packages (from google-api-python-client) (2.11.1)\r\n",
      "Requirement already satisfied: uritemplate<5,>=3.0.1 in /Users/pangmengting/venv/lib/python3.10/site-packages (from google-api-python-client) (4.1.1)\r\n",
      "Requirement already satisfied: googleapis-common-protos<2.0.dev0,>=1.56.2 in /Users/pangmengting/venv/lib/python3.10/site-packages (from google-api-core!=2.0.*,!=2.1.*,!=2.2.*,!=2.3.0,<3.0.0.dev0,>=1.31.5->google-api-python-client) (1.59.1)\r\n",
      "Requirement already satisfied: protobuf!=3.20.0,!=3.20.1,!=4.21.0,!=4.21.1,!=4.21.2,!=4.21.3,!=4.21.4,!=4.21.5,<5.0.0.dev0,>=3.19.5 in /Users/pangmengting/venv/lib/python3.10/site-packages (from google-api-core!=2.0.*,!=2.1.*,!=2.2.*,!=2.3.0,<3.0.0.dev0,>=1.31.5->google-api-python-client) (3.20.3)\r\n",
      "Requirement already satisfied: requests<3.0.0.dev0,>=2.18.0 in /Users/pangmengting/venv/lib/python3.10/site-packages (from google-api-core!=2.0.*,!=2.1.*,!=2.2.*,!=2.3.0,<3.0.0.dev0,>=1.31.5->google-api-python-client) (2.31.0)\r\n",
      "Requirement already satisfied: cachetools<6.0,>=2.0.0 in /Users/pangmengting/venv/lib/python3.10/site-packages (from google-auth<3.0.0.dev0,>=1.19.0->google-api-python-client) (5.3.1)\r\n",
      "Requirement already satisfied: pyasn1-modules>=0.2.1 in /Users/pangmengting/venv/lib/python3.10/site-packages (from google-auth<3.0.0.dev0,>=1.19.0->google-api-python-client) (0.3.0)\r\n",
      "Requirement already satisfied: rsa<5,>=3.1.4 in /Users/pangmengting/venv/lib/python3.10/site-packages (from google-auth<3.0.0.dev0,>=1.19.0->google-api-python-client) (4.9)\r\n",
      "Requirement already satisfied: six in /Users/pangmengting/venv/lib/python3.10/site-packages (from google-auth-httplib2>=0.1.0->google-api-python-client) (1.16.0)\r\n",
      "Requirement already satisfied: pyparsing!=3.0.0,!=3.0.1,!=3.0.2,!=3.0.3,<4,>=2.4.2 in /Users/pangmengting/venv/lib/python3.10/site-packages (from httplib2<1.dev0,>=0.15.0->google-api-python-client) (3.1.0)\r\n",
      "Requirement already satisfied: pyasn1<0.6.0,>=0.4.6 in /Users/pangmengting/venv/lib/python3.10/site-packages (from pyasn1-modules>=0.2.1->google-auth<3.0.0.dev0,>=1.19.0->google-api-python-client) (0.5.0)\r\n",
      "Requirement already satisfied: charset-normalizer<4,>=2 in /Users/pangmengting/venv/lib/python3.10/site-packages (from requests<3.0.0.dev0,>=2.18.0->google-api-core!=2.0.*,!=2.1.*,!=2.2.*,!=2.3.0,<3.0.0.dev0,>=1.31.5->google-api-python-client) (3.2.0)\r\n",
      "Requirement already satisfied: idna<4,>=2.5 in /Users/pangmengting/venv/lib/python3.10/site-packages (from requests<3.0.0.dev0,>=2.18.0->google-api-core!=2.0.*,!=2.1.*,!=2.2.*,!=2.3.0,<3.0.0.dev0,>=1.31.5->google-api-python-client) (3.4)\r\n",
      "Requirement already satisfied: urllib3<3,>=1.21.1 in /Users/pangmengting/venv/lib/python3.10/site-packages (from requests<3.0.0.dev0,>=2.18.0->google-api-core!=2.0.*,!=2.1.*,!=2.2.*,!=2.3.0,<3.0.0.dev0,>=1.31.5->google-api-python-client) (2.2.1)\r\n",
      "Requirement already satisfied: certifi>=2017.4.17 in /Users/pangmengting/venv/lib/python3.10/site-packages (from requests<3.0.0.dev0,>=2.18.0->google-api-core!=2.0.*,!=2.1.*,!=2.2.*,!=2.3.0,<3.0.0.dev0,>=1.31.5->google-api-python-client) (2023.5.7)\r\n"
     ]
    }
   ],
   "source": [
    "# 升级版本： langchain_core\n",
    "# !pip install --upgrade langchain_core\n",
    "\n",
    "# !pip install youtube-transcript-api\n",
    "# !pip install pytube\n",
    "\n",
    "# 爬取youtube使用到\n",
    "# !pip install google-api-python-client"
   ],
   "metadata": {
    "collapsed": false,
    "ExecuteTime": {
     "end_time": "2024-05-30T03:24:47.902319Z",
     "start_time": "2024-05-30T03:24:41.991118Z"
    }
   },
   "id": "7500d9cbec4b32bd",
   "execution_count": 1
  },
  {
   "cell_type": "code",
   "outputs": [],
   "source": [],
   "metadata": {
    "collapsed": false
   },
   "id": "19bb06f2243cc275"
  }
 ],
 "metadata": {
  "kernelspec": {
   "display_name": "Python 3",
   "language": "python",
   "name": "python3"
  },
  "language_info": {
   "codemirror_mode": {
    "name": "ipython",
    "version": 2
   },
   "file_extension": ".py",
   "mimetype": "text/x-python",
   "name": "python",
   "nbconvert_exporter": "python",
   "pygments_lexer": "ipython2",
   "version": "2.7.6"
  }
 },
 "nbformat": 4,
 "nbformat_minor": 5
}
