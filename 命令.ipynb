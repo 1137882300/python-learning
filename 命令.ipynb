{
 "cells": [
  {
   "cell_type": "code",
   "execution_count": 4,
   "id": "initial_id",
   "metadata": {
    "collapsed": true,
    "ExecuteTime": {
     "end_time": "2024-07-03T06:20:39.214266Z",
     "start_time": "2024-07-03T06:20:37.634606Z"
    }
   },
   "outputs": [
    {
     "name": "stdout",
     "output_type": "stream",
     "text": [
      "Name: langchain-core\r\n",
      "Version: 0.1.52\r\n",
      "Summary: Building applications with LLMs through composability\r\n",
      "Home-page: https://github.com/langchain-ai/langchain\r\n",
      "Author: \r\n",
      "Author-email: \r\n",
      "License: MIT\r\n",
      "Location: /Users/pangmengting/venv/lib/python3.10/site-packages\r\n",
      "Requires: jsonpatch, langsmith, packaging, pydantic, PyYAML, tenacity\r\n",
      "Required-by: langchain, langchain-community, langchain-elasticsearch, langchain-experimental, langchain-huggingface, langchain-openai, langchain-pinecone, langchain-text-splitters, langserve\r\n"
     ]
    }
   ],
   "source": [
    "# 0.1.33\n",
    "# 0.1.46\n",
    "# 0.2.3\n",
    "# 0.1.52\n",
    "# !pip show langchain_core \n",
    "# 0.1.13\n",
    "# 0.2.1\n",
    "# 0.2.3\n",
    "# 0.2.5\n",
    "# 0.1.20\n",
    "# !pip show langchain\n",
    "# 0.2.4\n",
    "# 0.2.5\n",
    "# 0.0.38\n",
    "# !pip show langchain_community\n",
    "\n",
    "# 2.5.1\n",
    "# !pip show supabase  \n",
    "\n",
    "# 4.41.2\n",
    "# !pip show transformers\n",
    "\n",
    "# 2.6.4\n",
    "# !pip show Pydantic\n",
    "\n",
    "# !pip search langchain\n",
    "# !pip show langchain langchain_core langchain-community\n",
    "# 0.0.55\n",
    "# !pip show langchain-experimental"
   ]
  },
  {
   "cell_type": "code",
   "outputs": [
    {
     "name": "stdout",
     "output_type": "stream",
     "text": [
      "Looking in indexes: https://pypi.tuna.tsinghua.edu.cn/simple\r\n",
      "Requirement already satisfied: llama-index-llms-langchain==0.1.4 in /Users/pangmengting/venv/lib/python3.10/site-packages (0.1.4)\r\n",
      "Collecting langchain<0.2.0,>=0.1.3 (from llama-index-llms-langchain==0.1.4)\r\n",
      "  Using cached https://pypi.tuna.tsinghua.edu.cn/packages/4b/28/da40a6b12e7842a0c8b443f8cc5c6f59e49d7a9071cfad064b9639c6b044/langchain-0.1.20-py3-none-any.whl (1.0 MB)\r\n",
      "Requirement already satisfied: llama-index-core<0.11.0,>=0.10.41 in /Users/pangmengting/venv/lib/python3.10/site-packages (from llama-index-llms-langchain==0.1.4) (0.10.48)\r\n",
      "Requirement already satisfied: llama-index-llms-anyscale<0.2.0,>=0.1.1 in /Users/pangmengting/venv/lib/python3.10/site-packages (from llama-index-llms-langchain==0.1.4) (0.1.4)\r\n",
      "Requirement already satisfied: llama-index-llms-openai<0.2.0,>=0.1.1 in /Users/pangmengting/venv/lib/python3.10/site-packages (from llama-index-llms-langchain==0.1.4) (0.1.22)\r\n",
      "Requirement already satisfied: PyYAML>=5.3 in /Users/pangmengting/venv/lib/python3.10/site-packages (from langchain<0.2.0,>=0.1.3->llama-index-llms-langchain==0.1.4) (6.0.1)\r\n",
      "Requirement already satisfied: SQLAlchemy<3,>=1.4 in /Users/pangmengting/venv/lib/python3.10/site-packages (from langchain<0.2.0,>=0.1.3->llama-index-llms-langchain==0.1.4) (2.0.31)\r\n",
      "Requirement already satisfied: aiohttp<4.0.0,>=3.8.3 in /Users/pangmengting/venv/lib/python3.10/site-packages (from langchain<0.2.0,>=0.1.3->llama-index-llms-langchain==0.1.4) (3.9.5)\r\n",
      "Requirement already satisfied: async-timeout<5.0.0,>=4.0.0 in /Users/pangmengting/venv/lib/python3.10/site-packages (from langchain<0.2.0,>=0.1.3->llama-index-llms-langchain==0.1.4) (4.0.2)\r\n",
      "Requirement already satisfied: dataclasses-json<0.7,>=0.5.7 in /Users/pangmengting/venv/lib/python3.10/site-packages (from langchain<0.2.0,>=0.1.3->llama-index-llms-langchain==0.1.4) (0.6.7)\r\n",
      "Collecting langchain-community<0.1,>=0.0.38 (from langchain<0.2.0,>=0.1.3->llama-index-llms-langchain==0.1.4)\r\n",
      "  Using cached https://pypi.tuna.tsinghua.edu.cn/packages/1b/d3/1f4d1941ae5a627299c8ea052847b99ad6674b97b699d8a08fc4faf25d3e/langchain_community-0.0.38-py3-none-any.whl (2.0 MB)\r\n",
      "Collecting langchain-core<0.2.0,>=0.1.52 (from langchain<0.2.0,>=0.1.3->llama-index-llms-langchain==0.1.4)\r\n",
      "  Using cached https://pypi.tuna.tsinghua.edu.cn/packages/43/8b/48b7e6de9041d2b33d5108e154b82d1bd6c47cc68f0e44cb4fcdaccf5ec7/langchain_core-0.1.52-py3-none-any.whl (302 kB)\r\n",
      "Collecting langchain-text-splitters<0.1,>=0.0.1 (from langchain<0.2.0,>=0.1.3->llama-index-llms-langchain==0.1.4)\r\n",
      "  Using cached https://pypi.tuna.tsinghua.edu.cn/packages/68/6a/804fe5ca07129046a4cedc0697222ddde6156cd874c4c4ba29e4d271828a/langchain_text_splitters-0.0.2-py3-none-any.whl (23 kB)\r\n",
      "Requirement already satisfied: langsmith<0.2.0,>=0.1.17 in /Users/pangmengting/venv/lib/python3.10/site-packages (from langchain<0.2.0,>=0.1.3->llama-index-llms-langchain==0.1.4) (0.1.77)\r\n",
      "Requirement already satisfied: numpy<2,>=1 in /Users/pangmengting/venv/lib/python3.10/site-packages (from langchain<0.2.0,>=0.1.3->llama-index-llms-langchain==0.1.4) (1.25.1)\r\n",
      "Requirement already satisfied: pydantic<3,>=1 in /Users/pangmengting/venv/lib/python3.10/site-packages (from langchain<0.2.0,>=0.1.3->llama-index-llms-langchain==0.1.4) (2.6.4)\r\n",
      "Requirement already satisfied: requests<3,>=2 in /Users/pangmengting/venv/lib/python3.10/site-packages (from langchain<0.2.0,>=0.1.3->llama-index-llms-langchain==0.1.4) (2.31.0)\r\n",
      "Requirement already satisfied: tenacity<9.0.0,>=8.1.0 in /Users/pangmengting/venv/lib/python3.10/site-packages (from langchain<0.2.0,>=0.1.3->llama-index-llms-langchain==0.1.4) (8.2.3)\r\n",
      "Requirement already satisfied: deprecated>=1.2.9.3 in /Users/pangmengting/venv/lib/python3.10/site-packages (from llama-index-core<0.11.0,>=0.10.41->llama-index-llms-langchain==0.1.4) (1.2.14)\r\n",
      "Requirement already satisfied: dirtyjson<2.0.0,>=1.0.8 in /Users/pangmengting/venv/lib/python3.10/site-packages (from llama-index-core<0.11.0,>=0.10.41->llama-index-llms-langchain==0.1.4) (1.0.8)\r\n",
      "Requirement already satisfied: fsspec>=2023.5.0 in /Users/pangmengting/venv/lib/python3.10/site-packages (from llama-index-core<0.11.0,>=0.10.41->llama-index-llms-langchain==0.1.4) (2023.6.0)\r\n",
      "Requirement already satisfied: httpx in /Users/pangmengting/venv/lib/python3.10/site-packages (from llama-index-core<0.11.0,>=0.10.41->llama-index-llms-langchain==0.1.4) (0.27.0)\r\n",
      "Requirement already satisfied: llamaindex-py-client<0.2.0,>=0.1.18 in /Users/pangmengting/venv/lib/python3.10/site-packages (from llama-index-core<0.11.0,>=0.10.41->llama-index-llms-langchain==0.1.4) (0.1.19)\r\n",
      "Requirement already satisfied: nest-asyncio<2.0.0,>=1.5.8 in /Users/pangmengting/venv/lib/python3.10/site-packages (from llama-index-core<0.11.0,>=0.10.41->llama-index-llms-langchain==0.1.4) (1.6.0)\r\n",
      "Requirement already satisfied: networkx>=3.0 in /Users/pangmengting/venv/lib/python3.10/site-packages (from llama-index-core<0.11.0,>=0.10.41->llama-index-llms-langchain==0.1.4) (3.1)\r\n",
      "Requirement already satisfied: nltk<4.0.0,>=3.8.1 in /Users/pangmengting/venv/lib/python3.10/site-packages (from llama-index-core<0.11.0,>=0.10.41->llama-index-llms-langchain==0.1.4) (3.8.1)\r\n",
      "Requirement already satisfied: openai>=1.1.0 in /Users/pangmengting/venv/lib/python3.10/site-packages (from llama-index-core<0.11.0,>=0.10.41->llama-index-llms-langchain==0.1.4) (1.33.0)\r\n",
      "Requirement already satisfied: pandas in /Users/pangmengting/venv/lib/python3.10/site-packages (from llama-index-core<0.11.0,>=0.10.41->llama-index-llms-langchain==0.1.4) (1.5.3)\r\n",
      "Requirement already satisfied: pillow>=9.0.0 in /Users/pangmengting/venv/lib/python3.10/site-packages (from llama-index-core<0.11.0,>=0.10.41->llama-index-llms-langchain==0.1.4) (10.3.0)\r\n",
      "Requirement already satisfied: tiktoken>=0.3.3 in /Users/pangmengting/venv/lib/python3.10/site-packages (from llama-index-core<0.11.0,>=0.10.41->llama-index-llms-langchain==0.1.4) (0.7.0)\r\n",
      "Requirement already satisfied: tqdm<5.0.0,>=4.66.1 in /Users/pangmengting/venv/lib/python3.10/site-packages (from llama-index-core<0.11.0,>=0.10.41->llama-index-llms-langchain==0.1.4) (4.66.4)\r\n",
      "Requirement already satisfied: typing-extensions>=4.5.0 in /Users/pangmengting/venv/lib/python3.10/site-packages (from llama-index-core<0.11.0,>=0.10.41->llama-index-llms-langchain==0.1.4) (4.10.0)\r\n",
      "Requirement already satisfied: typing-inspect>=0.8.0 in /Users/pangmengting/venv/lib/python3.10/site-packages (from llama-index-core<0.11.0,>=0.10.41->llama-index-llms-langchain==0.1.4) (0.9.0)\r\n",
      "Requirement already satisfied: wrapt in /Users/pangmengting/venv/lib/python3.10/site-packages (from llama-index-core<0.11.0,>=0.10.41->llama-index-llms-langchain==0.1.4) (1.15.0)\r\n",
      "Requirement already satisfied: aiosignal>=1.1.2 in /Users/pangmengting/venv/lib/python3.10/site-packages (from aiohttp<4.0.0,>=3.8.3->langchain<0.2.0,>=0.1.3->llama-index-llms-langchain==0.1.4) (1.3.1)\r\n",
      "Requirement already satisfied: attrs>=17.3.0 in /Users/pangmengting/venv/lib/python3.10/site-packages (from aiohttp<4.0.0,>=3.8.3->langchain<0.2.0,>=0.1.3->llama-index-llms-langchain==0.1.4) (23.1.0)\r\n",
      "Requirement already satisfied: frozenlist>=1.1.1 in /Users/pangmengting/venv/lib/python3.10/site-packages (from aiohttp<4.0.0,>=3.8.3->langchain<0.2.0,>=0.1.3->llama-index-llms-langchain==0.1.4) (1.4.0)\r\n",
      "Requirement already satisfied: multidict<7.0,>=4.5 in /Users/pangmengting/venv/lib/python3.10/site-packages (from aiohttp<4.0.0,>=3.8.3->langchain<0.2.0,>=0.1.3->llama-index-llms-langchain==0.1.4) (6.0.4)\r\n",
      "Requirement already satisfied: yarl<2.0,>=1.0 in /Users/pangmengting/venv/lib/python3.10/site-packages (from aiohttp<4.0.0,>=3.8.3->langchain<0.2.0,>=0.1.3->llama-index-llms-langchain==0.1.4) (1.9.2)\r\n",
      "Requirement already satisfied: marshmallow<4.0.0,>=3.18.0 in /Users/pangmengting/venv/lib/python3.10/site-packages (from dataclasses-json<0.7,>=0.5.7->langchain<0.2.0,>=0.1.3->llama-index-llms-langchain==0.1.4) (3.19.0)\r\n",
      "Requirement already satisfied: jsonpatch<2.0,>=1.33 in /Users/pangmengting/venv/lib/python3.10/site-packages (from langchain-core<0.2.0,>=0.1.52->langchain<0.2.0,>=0.1.3->llama-index-llms-langchain==0.1.4) (1.33)\r\n",
      "Requirement already satisfied: packaging<24.0,>=23.2 in /Users/pangmengting/venv/lib/python3.10/site-packages (from langchain-core<0.2.0,>=0.1.52->langchain<0.2.0,>=0.1.3->llama-index-llms-langchain==0.1.4) (23.2)\r\n",
      "Requirement already satisfied: orjson<4.0.0,>=3.9.14 in /Users/pangmengting/venv/lib/python3.10/site-packages (from langsmith<0.2.0,>=0.1.17->langchain<0.2.0,>=0.1.3->llama-index-llms-langchain==0.1.4) (3.10.5)\r\n",
      "Requirement already satisfied: anyio in /Users/pangmengting/venv/lib/python3.10/site-packages (from httpx->llama-index-core<0.11.0,>=0.10.41->llama-index-llms-langchain==0.1.4) (3.7.1)\r\n",
      "Requirement already satisfied: certifi in /Users/pangmengting/venv/lib/python3.10/site-packages (from httpx->llama-index-core<0.11.0,>=0.10.41->llama-index-llms-langchain==0.1.4) (2024.6.2)\r\n",
      "Requirement already satisfied: httpcore==1.* in /Users/pangmengting/venv/lib/python3.10/site-packages (from httpx->llama-index-core<0.11.0,>=0.10.41->llama-index-llms-langchain==0.1.4) (1.0.4)\r\n",
      "Requirement already satisfied: idna in /Users/pangmengting/venv/lib/python3.10/site-packages (from httpx->llama-index-core<0.11.0,>=0.10.41->llama-index-llms-langchain==0.1.4) (3.4)\r\n",
      "Requirement already satisfied: sniffio in /Users/pangmengting/venv/lib/python3.10/site-packages (from httpx->llama-index-core<0.11.0,>=0.10.41->llama-index-llms-langchain==0.1.4) (1.3.0)\r\n",
      "Requirement already satisfied: h11<0.15,>=0.13 in /Users/pangmengting/venv/lib/python3.10/site-packages (from httpcore==1.*->httpx->llama-index-core<0.11.0,>=0.10.41->llama-index-llms-langchain==0.1.4) (0.14.0)\r\n",
      "Requirement already satisfied: click in /Users/pangmengting/venv/lib/python3.10/site-packages (from nltk<4.0.0,>=3.8.1->llama-index-core<0.11.0,>=0.10.41->llama-index-llms-langchain==0.1.4) (8.1.7)\r\n",
      "Requirement already satisfied: joblib in /Users/pangmengting/venv/lib/python3.10/site-packages (from nltk<4.0.0,>=3.8.1->llama-index-core<0.11.0,>=0.10.41->llama-index-llms-langchain==0.1.4) (1.3.1)\r\n",
      "Requirement already satisfied: regex>=2021.8.3 in /Users/pangmengting/venv/lib/python3.10/site-packages (from nltk<4.0.0,>=3.8.1->llama-index-core<0.11.0,>=0.10.41->llama-index-llms-langchain==0.1.4) (2023.6.3)\r\n",
      "Requirement already satisfied: distro<2,>=1.7.0 in /Users/pangmengting/venv/lib/python3.10/site-packages (from openai>=1.1.0->llama-index-core<0.11.0,>=0.10.41->llama-index-llms-langchain==0.1.4) (1.8.0)\r\n",
      "Requirement already satisfied: annotated-types>=0.4.0 in /Users/pangmengting/venv/lib/python3.10/site-packages (from pydantic<3,>=1->langchain<0.2.0,>=0.1.3->llama-index-llms-langchain==0.1.4) (0.6.0)\r\n",
      "Requirement already satisfied: pydantic-core==2.16.3 in /Users/pangmengting/venv/lib/python3.10/site-packages (from pydantic<3,>=1->langchain<0.2.0,>=0.1.3->llama-index-llms-langchain==0.1.4) (2.16.3)\r\n",
      "Requirement already satisfied: charset-normalizer<4,>=2 in /Users/pangmengting/venv/lib/python3.10/site-packages (from requests<3,>=2->langchain<0.2.0,>=0.1.3->llama-index-llms-langchain==0.1.4) (3.2.0)\r\n",
      "Requirement already satisfied: urllib3<3,>=1.21.1 in /Users/pangmengting/venv/lib/python3.10/site-packages (from requests<3,>=2->langchain<0.2.0,>=0.1.3->llama-index-llms-langchain==0.1.4) (2.2.1)\r\n",
      "Requirement already satisfied: greenlet!=0.4.17 in /Users/pangmengting/venv/lib/python3.10/site-packages (from SQLAlchemy[asyncio]>=1.4.49->llama-index-core<0.11.0,>=0.10.41->llama-index-llms-langchain==0.1.4) (2.0.2)\r\n",
      "Requirement already satisfied: mypy-extensions>=0.3.0 in /Users/pangmengting/venv/lib/python3.10/site-packages (from typing-inspect>=0.8.0->llama-index-core<0.11.0,>=0.10.41->llama-index-llms-langchain==0.1.4) (1.0.0)\r\n",
      "Requirement already satisfied: python-dateutil>=2.8.1 in /Users/pangmengting/venv/lib/python3.10/site-packages (from pandas->llama-index-core<0.11.0,>=0.10.41->llama-index-llms-langchain==0.1.4) (2.8.2)\r\n",
      "Requirement already satisfied: pytz>=2020.1 in /Users/pangmengting/venv/lib/python3.10/site-packages (from pandas->llama-index-core<0.11.0,>=0.10.41->llama-index-llms-langchain==0.1.4) (2023.3)\r\n",
      "Requirement already satisfied: exceptiongroup in /Users/pangmengting/venv/lib/python3.10/site-packages (from anyio->httpx->llama-index-core<0.11.0,>=0.10.41->llama-index-llms-langchain==0.1.4) (1.1.2)\r\n",
      "Requirement already satisfied: jsonpointer>=1.9 in /Users/pangmengting/venv/lib/python3.10/site-packages (from jsonpatch<2.0,>=1.33->langchain-core<0.2.0,>=0.1.52->langchain<0.2.0,>=0.1.3->llama-index-llms-langchain==0.1.4) (2.4)\r\n",
      "Requirement already satisfied: six>=1.5 in /Users/pangmengting/venv/lib/python3.10/site-packages (from python-dateutil>=2.8.1->pandas->llama-index-core<0.11.0,>=0.10.41->llama-index-llms-langchain==0.1.4) (1.16.0)\r\n",
      "Installing collected packages: langchain-core, langchain-text-splitters, langchain-community, langchain\r\n",
      "  Attempting uninstall: langchain-core\r\n",
      "    Found existing installation: langchain-core 0.2.11\r\n",
      "    Uninstalling langchain-core-0.2.11:\r\n",
      "      Successfully uninstalled langchain-core-0.2.11\r\n",
      "  Attempting uninstall: langchain-text-splitters\r\n",
      "    Found existing installation: langchain-text-splitters 0.2.2\r\n",
      "    Uninstalling langchain-text-splitters-0.2.2:\r\n",
      "      Successfully uninstalled langchain-text-splitters-0.2.2\r\n",
      "  Attempting uninstall: langchain-community\r\n",
      "    Found existing installation: langchain-community 0.2.6\r\n",
      "    Uninstalling langchain-community-0.2.6:\r\n",
      "      Successfully uninstalled langchain-community-0.2.6\r\n",
      "  Attempting uninstall: langchain\r\n",
      "    Found existing installation: langchain 0.2.6\r\n",
      "    Uninstalling langchain-0.2.6:\r\n",
      "      Successfully uninstalled langchain-0.2.6\r\n",
      "\u001B[31mERROR: pip's dependency resolver does not currently take into account all the packages that are installed. This behaviour is the source of the following dependency conflicts.\r\n",
      "langchain-experimental 0.0.62 requires langchain-community<0.3.0,>=0.2.6, but you have langchain-community 0.0.38 which is incompatible.\r\n",
      "langchain-experimental 0.0.62 requires langchain-core<0.3.0,>=0.2.10, but you have langchain-core 0.1.52 which is incompatible.\r\n",
      "langchain-openai 0.1.8 requires langchain-core<0.3,>=0.2.2, but you have langchain-core 0.1.52 which is incompatible.\u001B[0m\u001B[31m\r\n",
      "\u001B[0mSuccessfully installed langchain-0.1.20 langchain-community-0.0.38 langchain-core-0.1.52 langchain-text-splitters-0.0.2\r\n",
      "\r\n",
      "\u001B[1m[\u001B[0m\u001B[34;49mnotice\u001B[0m\u001B[1;39;49m]\u001B[0m\u001B[39;49m A new release of pip is available: \u001B[0m\u001B[31;49m24.0\u001B[0m\u001B[39;49m -> \u001B[0m\u001B[32;49m24.1.1\u001B[0m\r\n",
      "\u001B[1m[\u001B[0m\u001B[34;49mnotice\u001B[0m\u001B[1;39;49m]\u001B[0m\u001B[39;49m To update, run: \u001B[0m\u001B[32;49mpip install --upgrade pip\u001B[0m\r\n"
     ]
    }
   ],
   "source": [
    "# !pip install --upgrade langchain==0.2.2\n",
    "# !pip install --upgrade langchain_core==0.2.2\n",
    "# !pip install --upgrade langchain-community==0.2.2\n",
    "# !pip install --upgrade langchain-experimental==0.0.62\n",
    "# !pip install --upgrade llama-index-llms-langchain==0.1.4"
   ],
   "metadata": {
    "collapsed": false,
    "ExecuteTime": {
     "end_time": "2024-07-03T03:22:11.688634Z",
     "start_time": "2024-07-03T03:22:04.469533Z"
    }
   },
   "id": "11b65b41d8b7326",
   "execution_count": 31
  },
  {
   "cell_type": "code",
   "outputs": [
    {
     "name": "stdout",
     "output_type": "stream",
     "text": [
      "Looking in indexes: https://pypi.tuna.tsinghua.edu.cn/simple\r\n",
      "Collecting langchain_core==0.2.2\r\n",
      "  Using cached https://pypi.tuna.tsinghua.edu.cn/packages/aa/e2/9d7ccae2e2b2983912d71eacf8626d7b5f186389cd82eaa2930896132feb/langchain_core-0.2.2-py3-none-any.whl (309 kB)\r\n",
      "Requirement already satisfied: PyYAML>=5.3 in /Users/pangmengting/venv/lib/python3.10/site-packages (from langchain_core==0.2.2) (6.0.1)\r\n",
      "Requirement already satisfied: jsonpatch<2.0,>=1.33 in /Users/pangmengting/venv/lib/python3.10/site-packages (from langchain_core==0.2.2) (1.33)\r\n",
      "Requirement already satisfied: langsmith<0.2.0,>=0.1.0 in /Users/pangmengting/venv/lib/python3.10/site-packages (from langchain_core==0.2.2) (0.1.77)\r\n",
      "Requirement already satisfied: packaging<24.0,>=23.2 in /Users/pangmengting/venv/lib/python3.10/site-packages (from langchain_core==0.2.2) (23.2)\r\n",
      "Requirement already satisfied: pydantic<3,>=1 in /Users/pangmengting/venv/lib/python3.10/site-packages (from langchain_core==0.2.2) (2.6.4)\r\n",
      "Requirement already satisfied: tenacity<9.0.0,>=8.1.0 in /Users/pangmengting/venv/lib/python3.10/site-packages (from langchain_core==0.2.2) (8.2.3)\r\n",
      "Requirement already satisfied: jsonpointer>=1.9 in /Users/pangmengting/venv/lib/python3.10/site-packages (from jsonpatch<2.0,>=1.33->langchain_core==0.2.2) (2.4)\r\n",
      "Requirement already satisfied: orjson<4.0.0,>=3.9.14 in /Users/pangmengting/venv/lib/python3.10/site-packages (from langsmith<0.2.0,>=0.1.0->langchain_core==0.2.2) (3.10.5)\r\n",
      "Requirement already satisfied: requests<3,>=2 in /Users/pangmengting/venv/lib/python3.10/site-packages (from langsmith<0.2.0,>=0.1.0->langchain_core==0.2.2) (2.31.0)\r\n",
      "Requirement already satisfied: annotated-types>=0.4.0 in /Users/pangmengting/venv/lib/python3.10/site-packages (from pydantic<3,>=1->langchain_core==0.2.2) (0.6.0)\r\n",
      "Requirement already satisfied: pydantic-core==2.16.3 in /Users/pangmengting/venv/lib/python3.10/site-packages (from pydantic<3,>=1->langchain_core==0.2.2) (2.16.3)\r\n",
      "Requirement already satisfied: typing-extensions>=4.6.1 in /Users/pangmengting/venv/lib/python3.10/site-packages (from pydantic<3,>=1->langchain_core==0.2.2) (4.10.0)\r\n",
      "Requirement already satisfied: charset-normalizer<4,>=2 in /Users/pangmengting/venv/lib/python3.10/site-packages (from requests<3,>=2->langsmith<0.2.0,>=0.1.0->langchain_core==0.2.2) (3.2.0)\r\n",
      "Requirement already satisfied: idna<4,>=2.5 in /Users/pangmengting/venv/lib/python3.10/site-packages (from requests<3,>=2->langsmith<0.2.0,>=0.1.0->langchain_core==0.2.2) (3.4)\r\n",
      "Requirement already satisfied: urllib3<3,>=1.21.1 in /Users/pangmengting/venv/lib/python3.10/site-packages (from requests<3,>=2->langsmith<0.2.0,>=0.1.0->langchain_core==0.2.2) (2.2.1)\r\n",
      "Requirement already satisfied: certifi>=2017.4.17 in /Users/pangmengting/venv/lib/python3.10/site-packages (from requests<3,>=2->langsmith<0.2.0,>=0.1.0->langchain_core==0.2.2) (2024.6.2)\r\n",
      "Installing collected packages: langchain_core\r\n",
      "  Attempting uninstall: langchain_core\r\n",
      "    Found existing installation: langchain-core 0.1.52\r\n",
      "    Uninstalling langchain-core-0.1.52:\r\n",
      "      Successfully uninstalled langchain-core-0.1.52\r\n",
      "\u001B[31mERROR: pip's dependency resolver does not currently take into account all the packages that are installed. This behaviour is the source of the following dependency conflicts.\r\n",
      "langchain 0.1.20 requires langchain-core<0.2.0,>=0.1.52, but you have langchain-core 0.2.2 which is incompatible.\r\n",
      "langchain-community 0.0.38 requires langchain-core<0.2.0,>=0.1.52, but you have langchain-core 0.2.2 which is incompatible.\r\n",
      "langchain-experimental 0.0.55 requires langchain-core<0.2.0,>=0.1.33, but you have langchain-core 0.2.2 which is incompatible.\u001B[0m\u001B[31m\r\n",
      "\u001B[0mSuccessfully installed langchain_core-0.2.2\r\n",
      "\r\n",
      "\u001B[1m[\u001B[0m\u001B[34;49mnotice\u001B[0m\u001B[1;39;49m]\u001B[0m\u001B[39;49m A new release of pip is available: \u001B[0m\u001B[31;49m24.0\u001B[0m\u001B[39;49m -> \u001B[0m\u001B[32;49m24.1.1\u001B[0m\r\n",
      "\u001B[1m[\u001B[0m\u001B[34;49mnotice\u001B[0m\u001B[1;39;49m]\u001B[0m\u001B[39;49m To update, run: \u001B[0m\u001B[32;49mpip install --upgrade pip\u001B[0m\r\n"
     ]
    }
   ],
   "source": [
    "# 升级版本： langchain_core\n",
    "# !pip install --upgrade langchain_core\n",
    "# !pip install --upgrade langchain_core==0.2.2\n",
    "# 升级版本： langchain\n",
    "# !pip install --upgrade langchain==0.2.2\n",
    "\n",
    "# !pip install --upgrade langchain-community==0.2.2\n",
    "\n",
    "# !pip install youtube-transcript-api\n",
    "# !pip install pytube\n",
    "\n",
    "# 爬取youtube使用到\n",
    "# !pip install google-api-python-client\n",
    "\n",
    "# 爬取youtube/bilibili使用到\n",
    "# !pip install yt-dlp\n",
    "\n",
    "# 手动指定安卓版本\n",
    "# !pip install websockets==10.3\n",
    "# !pip install httpx==0.23.0\n",
    "\n",
    "# 升级 sentence-transformers\n",
    "# !pip install -U sentence-transformers\n",
    "\n",
    "# 指定 sentence-transformers 版本\n",
    "# !pip install sentence-transformers==2.5.1\n",
    "\n",
    "# 指定 langchain_community版本：0.2.4\n",
    "# !pip install langchain_community==0.2.4\n",
    "\n",
    "\n",
    "# !pip install --upgrade --quiet  tiktoken supabase unstructured\n",
    "\n",
    "# -q: 这是pip的一个可选参数，表示\"quiet\"（安静模式）。它会减少命令执行时输出的信息量，使安装过程更加简洁清晰。\n",
    "# -U: 这是pip的另一个可选参数，表示\"upgrade\"（升级）。它将确保安装的是指定包的最新版本，如果已经安装了旧版本，它将会把旧版本升级到最新版本。\n",
    "# !pip install firecrawl-py faiss-cpu -q -U\n",
    "\n",
    "# 千问\n",
    "# !pip install --upgrade --quiet  dashscope\n",
    "\n",
    "# streamlit\n",
    "# !pip install streamlit\n",
    "# !pip install ollama\n",
    "\n",
    "# pinecone\n",
    "# !pip install pinecone-client\n",
    "\n",
    "# !pip install langchain-pinecone\n",
    "\n",
    "# llama-index\n",
    "# !pip install -q llama-index\n",
    "\n",
    "# rank_bm25\n",
    "# !pip install -q -U  rank_bm25\n",
    "\n",
    "# !pip install -q -U  pypdf\n",
    "\n",
    "# Lark 是一个用于 Python 的解析库，它提供了一种简单而强大的方法来解析复杂的数据结构，特别是用于处理自然语言和配置文件等。\n",
    "# Lark 的核心是一个解析器，它能够将文本（通常是字符串）转换成一个抽象语法树（Abstract Syntax Tree, AST），\n",
    "# 这使得进一步的分析和处理变得更加容易。\n",
    "# !pip install -q -U lark\n",
    "\n",
    "# !pip install -q -U html2text\n",
    "\n",
    "# !pip install -q -U tools\n",
    "\n",
    "# !pip install PySimpleGUI\n",
    "\n",
    "# !pip install -U pipe\n",
    "\n",
    "# matplotlib 是 Python 中一个广泛使用的绘图库。\n",
    "# 它能够创建各种静态、动态和交互式的可视化图表，包括线图、柱状图、饼图、直方图、散点图等等，为数据分析和展示提供了强大的支持。\n",
    "# %pip install matplotlib\n",
    "\n",
    "# %pip install pymysql\n",
    "\n",
    "# !pip install langserve\n",
    "# !pip install sse_starlette\n",
    "\n",
    "# !pip install pandasai -U\n",
    "\n",
    "# !pip install autogen\n",
    "\n",
    "# PyMuPDF 是一个 Python 库，用于处理 PDF 文件，包括读取、写入、转换和显示 PDF 文件。它是一个轻量级的库，\n",
    "# 提供了对 PDF 文件的广泛支持，包括文本提取、图像提取、渲染 PDF 页面等。\n",
    "# !pip install pymupdf\n",
    "\n",
    "# langchain_elasticsearch\n",
    "# !pip install langchain_elasticsearch\n",
    "\n",
    "# 提取结构化数据\n",
    "# %pip install kor"
   ],
   "metadata": {
    "collapsed": false,
    "ExecuteTime": {
     "end_time": "2024-07-03T03:16:01.404184Z",
     "start_time": "2024-07-03T03:15:59.106590Z"
    }
   },
   "id": "7500d9cbec4b32bd",
   "execution_count": 22
  },
  {
   "cell_type": "code",
   "outputs": [],
   "source": [
    "# 输出依赖和版本到 reguirements\n",
    "# pip freeze > reguirements.txt"
   ],
   "metadata": {
    "collapsed": false
   },
   "id": "19bb06f2243cc275"
  },
  {
   "cell_type": "code",
   "outputs": [],
   "source": [
    "# 通过 brew 安装\n",
    "# !brew install wget\n",
    "# !which wget\n",
    "\n",
    "# apt-get 是安装系统级的软件包。\n",
    "# !apt-get install poppler-utils tesseract-ocr\n",
    "# mac 使用 brew\n",
    "# !brew install poppler-utils tesseract-ocr\n",
    "\n",
    "\n",
    "# poetry init\n",
    "# poetry shell"
   ],
   "metadata": {
    "collapsed": false
   },
   "id": "d874b0bb8fa7633a"
  },
  {
   "cell_type": "code",
   "outputs": [],
   "source": [],
   "metadata": {
    "collapsed": false
   },
   "id": "ac749adeebeb27dc"
  },
  {
   "cell_type": "code",
   "outputs": [
    {
     "name": "stdout",
     "output_type": "stream",
     "text": [
      "/Users/pangmengting/venv\n"
     ]
    }
   ],
   "source": [
    "import os\n",
    "\n",
    "# 查看当前虚拟环境\n",
    "print(os.environ.get('VIRTUAL_ENV'))"
   ],
   "metadata": {
    "collapsed": false,
    "ExecuteTime": {
     "end_time": "2024-07-03T06:19:29.698639Z",
     "start_time": "2024-07-03T06:19:29.692656Z"
    }
   },
   "id": "b5062c8dceaf29a7",
   "execution_count": 1
  },
  {
   "cell_type": "code",
   "outputs": [],
   "source": [],
   "metadata": {
    "collapsed": false
   },
   "id": "6c36ea82f4dd06dd"
  }
 ],
 "metadata": {
  "kernelspec": {
   "display_name": "Python 3",
   "language": "python",
   "name": "python3"
  },
  "language_info": {
   "codemirror_mode": {
    "name": "ipython",
    "version": 2
   },
   "file_extension": ".py",
   "mimetype": "text/x-python",
   "name": "python",
   "nbconvert_exporter": "python",
   "pygments_lexer": "ipython2",
   "version": "2.7.6"
  }
 },
 "nbformat": 4,
 "nbformat_minor": 5
}
