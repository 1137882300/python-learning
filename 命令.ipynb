{
 "cells": [
  {
   "cell_type": "code",
   "outputs": [],
   "source": [],
   "metadata": {
    "collapsed": false
   },
   "id": "27f2fc2575ec233c"
  },
  {
   "cell_type": "code",
   "outputs": [],
   "source": [
    "# ! pip install schedule\n"
   ],
   "metadata": {
    "collapsed": false
   },
   "id": "2d44d69a4979af1"
  },
  {
   "cell_type": "code",
   "execution_count": null,
   "id": "initial_id",
   "metadata": {
    "collapsed": true
   },
   "outputs": [],
   "source": [
    "# 0.1.33\n",
    "# 0.1.46\n",
    "# 0.2.3\n",
    "# 0.1.52\n",
    "!pip show langchain_core \n",
    "# 0.1.13\n",
    "# 0.2.1\n",
    "# 0.2.3\n",
    "# 0.2.5\n",
    "# 0.1.20\n",
    "# !pip show langchain\n",
    "# 0.2.4\n",
    "# 0.2.5\n",
    "# 0.0.38\n",
    "# !pip show langchain_community\n",
    "\n",
    "# 2.5.1\n",
    "# !pip show supabase  \n",
    "\n",
    "# 4.41.2\n",
    "# !pip show transformers\n",
    "\n",
    "# 2.6.4\n",
    "# !pip show Pydantic\n",
    "\n",
    "# !pip search langchain\n",
    "\n",
    "# 0.0.55\n",
    "# !pip show langchain-experimental\n",
    "\n",
    "\n",
    "# !pip show langchain langchain_core langchain-community langchain-experimental"
   ]
  },
  {
   "cell_type": "markdown",
   "source": [
    "最新版本"
   ],
   "metadata": {
    "collapsed": false
   },
   "id": "a1d5c90808703e1e"
  },
  {
   "cell_type": "code",
   "outputs": [],
   "source": [
    "# !pip install --upgrade langchain==0.2.6\n",
    "# !pip install --upgrade langchain_core==0.2.10\n",
    "# !pip install --upgrade langchain-community==0.2.6\n",
    "# !pip install --upgrade langchain-experimental==0.0.62\n",
    "\n",
    "# !pip install --upgrade langchain==0.2.6 langchain_core==0.2.10 langchain-community==0.2.6 langchain-experimental==0.0.62"
   ],
   "metadata": {
    "collapsed": false
   },
   "id": "e1e7187439ecc51e",
   "execution_count": null
  },
  {
   "cell_type": "code",
   "outputs": [],
   "source": [
    "# !pip install --upgrade langchain-openai==0.1.14\n",
    "# !pip install --upgrade langsmith==0.1.83\n"
   ],
   "metadata": {
    "collapsed": false
   },
   "id": "d4fd69a8860385b2",
   "execution_count": null
  },
  {
   "cell_type": "code",
   "outputs": [],
   "source": [
    "# !pip install --upgrade langchain==0.1.20\n",
    "# !pip install --upgrade langchain_core==0.1.52\n",
    "# !pip install --upgrade langchain-community==0.0.38\n",
    "# !pip install --upgrade langchain-experimental==0.0.55"
   ],
   "metadata": {
    "collapsed": false
   },
   "id": "11b65b41d8b7326",
   "execution_count": null
  },
  {
   "cell_type": "code",
   "outputs": [],
   "source": [
    "# 升级版本： langchain_core\n",
    "# !pip install --upgrade langchain_core\n",
    "# !pip install --upgrade langchain_core==0.2.2\n",
    "# 升级版本： langchain\n",
    "# !pip install --upgrade langchain==0.2.2\n",
    "\n",
    "# !pip install --upgrade langchain-community==0.2.2\n",
    "\n",
    "# !pip install youtube-transcript-api\n",
    "# !pip install pytube\n",
    "\n",
    "# 爬取youtube使用到\n",
    "# !pip install google-api-python-client\n",
    "\n",
    "# 爬取youtube/bilibili使用到\n",
    "# !pip install yt-dlp\n",
    "\n",
    "# 手动指定安卓版本\n",
    "# !pip install websockets==10.3\n",
    "# !pip install httpx==0.23.0\n",
    "\n",
    "# 升级 sentence-transformers\n",
    "# !pip install -U sentence-transformers\n",
    "\n",
    "# 指定 sentence-transformers 版本\n",
    "# !pip install sentence-transformers==2.5.1\n",
    "\n",
    "# 指定 langchain_community版本：0.2.4\n",
    "# !pip install langchain_community==0.2.4\n",
    "\n",
    "\n",
    "# !pip install --upgrade --quiet  tiktoken supabase unstructured\n",
    "\n",
    "# -q: 这是pip的一个可选参数，表示\"quiet\"（安静模式）。它会减少命令执行时输出的信息量，使安装过程更加简洁清晰。\n",
    "# -U: 这是pip的另一个可选参数，表示\"upgrade\"（升级）。它将确保安装的是指定包的最新版本，如果已经安装了旧版本，它将会把旧版本升级到最新版本。\n",
    "# !pip install firecrawl-py faiss-cpu -q -U\n",
    "\n",
    "# 千问\n",
    "# !pip install --upgrade --quiet  dashscope\n",
    "\n",
    "# streamlit\n",
    "# !pip install streamlit\n",
    "# !pip install ollama\n",
    "\n",
    "# pinecone\n",
    "# !pip install pinecone-client\n",
    "\n",
    "# !pip install langchain-pinecone\n",
    "\n",
    "# llama-index\n",
    "# !pip install -q llama-index\n",
    "\n",
    "# rank_bm25\n",
    "# !pip install -q -U  rank_bm25\n",
    "\n",
    "# !pip install -q -U  pypdf\n",
    "\n",
    "# Lark 是一个用于 Python 的解析库，它提供了一种简单而强大的方法来解析复杂的数据结构，特别是用于处理自然语言和配置文件等。\n",
    "# Lark 的核心是一个解析器，它能够将文本（通常是字符串）转换成一个抽象语法树（Abstract Syntax Tree, AST），\n",
    "# 这使得进一步的分析和处理变得更加容易。\n",
    "# !pip install -q -U lark\n",
    "\n",
    "# !pip install -q -U html2text\n",
    "\n",
    "# !pip install -q -U tools\n",
    "\n",
    "# !pip install PySimpleGUI\n",
    "\n",
    "# !pip install -U pipe\n",
    "\n",
    "# matplotlib 是 Python 中一个广泛使用的绘图库。\n",
    "# 它能够创建各种静态、动态和交互式的可视化图表，包括线图、柱状图、饼图、直方图、散点图等等，为数据分析和展示提供了强大的支持。\n",
    "# %pip install matplotlib\n",
    "\n",
    "# %pip install pymysql\n",
    "\n",
    "# !pip install langserve\n",
    "# !pip install sse_starlette\n",
    "\n",
    "# !pip install pandasai -U\n",
    "\n",
    "# !pip install autogen\n",
    "\n",
    "# PyMuPDF 是一个 Python 库，用于处理 PDF 文件，包括读取、写入、转换和显示 PDF 文件。它是一个轻量级的库，\n",
    "# 提供了对 PDF 文件的广泛支持，包括文本提取、图像提取、渲染 PDF 页面等。\n",
    "# !pip install pymupdf\n",
    "\n",
    "# langchain_elasticsearch\n",
    "# !pip install langchain_elasticsearch\n",
    "\n",
    "# 提取结构化数据\n",
    "# %pip install kor\n",
    "\n",
    "# !pip install --upgrade  llama-index-llms-langchain==0.1.2\n",
    "\n",
    "# json\n",
    "# !pip install jq\n",
    "\n",
    "# %pip install --upgrade --quiet  langchainhub   langchain-chroma bs4\n",
    "\n",
    "# %pip install --upgrade --quiet redis\n",
    "\n",
    "# !pip install gptcache --quiet\n",
    "\n",
    "# !pip install -U langsmith\n",
    "\n",
    "# !pip install -U langchain-cli\n",
    "\n",
    "# %pip install seaborn fuzzywuzzy wordcloud\n",
    "# Seaborn常用于数据科学和统计分析中的数据可视化。\n",
    "# FuzzyWuzzy在需要进行字符串比较和匹配的场景中非常有用，比如搜索功能或数据清理。\n",
    "# WordCloud在文本分析和展示中很受欢迎，特别是在需要快速直观地展示文本主题或关键词时。\n",
    "\n",
    "# !pip install -q torch transformers accelerate bitsandbytes sentence-transformers  \n",
    "\n",
    "# Recommenders 是一个开源的推荐系统库，主要由微软开发和维护。这个库提供了一系列用于构建和评估推荐系统的工具和算法。\n",
    "# 它的主要目标是帮助开发者快速实现和部署各种推荐系统模型。\n",
    "# %pip install Recommenders\n",
    "\n",
    "# !pip install -q -U  langchain-nomic \n",
    "\n",
    "!pip install surprise"
   ],
   "metadata": {
    "collapsed": false
   },
   "id": "7500d9cbec4b32bd",
   "execution_count": null
  },
  {
   "cell_type": "code",
   "outputs": [],
   "source": [
    "# 删除\n",
    "# !pip uninstall llama-index-llms-langchain"
   ],
   "metadata": {
    "collapsed": false
   },
   "id": "ef0f453d117302de",
   "execution_count": null
  },
  {
   "cell_type": "code",
   "outputs": [],
   "source": [
    "# 输出依赖和版本到 reguirements\n",
    "!pip freeze > reguirements.txt"
   ],
   "metadata": {
    "collapsed": false,
    "ExecuteTime": {
     "end_time": "2024-07-03T08:04:07.472881Z",
     "start_time": "2024-07-03T08:04:07.018128Z"
    }
   },
   "id": "19bb06f2243cc275",
   "execution_count": 6
  },
  {
   "cell_type": "code",
   "outputs": [],
   "source": [
    "# 通过 brew 安装\n",
    "# !brew install wget\n",
    "# !which wget\n",
    "\n",
    "# apt-get 是安装系统级的软件包。\n",
    "# !apt-get install poppler-utils tesseract-ocr\n",
    "# mac 使用 brew\n",
    "# !brew install poppler-utils tesseract-ocr\n",
    "\n",
    "\n",
    "# poetry init\n",
    "# poetry shell"
   ],
   "metadata": {
    "collapsed": false
   },
   "id": "d874b0bb8fa7633a"
  },
  {
   "cell_type": "code",
   "outputs": [],
   "source": [],
   "metadata": {
    "collapsed": false
   },
   "id": "ac749adeebeb27dc"
  },
  {
   "cell_type": "code",
   "outputs": [
    {
     "name": "stdout",
     "output_type": "stream",
     "text": [
      "/Users/pangmengting/venv\n"
     ]
    }
   ],
   "source": [
    "import os\n",
    "\n",
    "# 查看当前虚拟环境\n",
    "print(os.environ.get('VIRTUAL_ENV'))"
   ],
   "metadata": {
    "collapsed": false,
    "ExecuteTime": {
     "end_time": "2024-07-03T06:19:29.698639Z",
     "start_time": "2024-07-03T06:19:29.692656Z"
    }
   },
   "id": "b5062c8dceaf29a7",
   "execution_count": 1
  },
  {
   "cell_type": "code",
   "outputs": [],
   "source": [
    "# 比如不想提交.env文件\n",
    "# !git rm --cached .env\n",
    "\n",
    "\n",
    "# !git rm -rf --cached data\n",
    "\n",
    "# !git rm -rf --cached ./langchain/tool-agents/auto-gen/OAI_CONFIG_LIST"
   ],
   "metadata": {
    "collapsed": false
   },
   "id": "6c36ea82f4dd06dd"
  }
 ],
 "metadata": {
  "kernelspec": {
   "display_name": "Python 3",
   "language": "python",
   "name": "python3"
  },
  "language_info": {
   "codemirror_mode": {
    "name": "ipython",
    "version": 2
   },
   "file_extension": ".py",
   "mimetype": "text/x-python",
   "name": "python",
   "nbconvert_exporter": "python",
   "pygments_lexer": "ipython2",
   "version": "2.7.6"
  }
 },
 "nbformat": 4,
 "nbformat_minor": 5
}
