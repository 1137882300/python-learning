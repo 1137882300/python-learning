{
 "cells": [
  {
   "cell_type": "code",
   "execution_count": 7,
   "id": "initial_id",
   "metadata": {
    "collapsed": true,
    "ExecuteTime": {
     "end_time": "2024-06-02T04:23:36.311133Z",
     "start_time": "2024-06-02T04:23:35.030415Z"
    }
   },
   "outputs": [
    {
     "name": "stdout",
     "output_type": "stream",
     "text": [
      "Name: langchain-core\r\n",
      "Version: 0.2.3\r\n",
      "Summary: Building applications with LLMs through composability\r\n",
      "Home-page: https://github.com/langchain-ai/langchain\r\n",
      "Author: \r\n",
      "Author-email: \r\n",
      "License: MIT\r\n",
      "Location: /Users/pangmengting/venv/lib/python3.10/site-packages\r\n",
      "Requires: jsonpatch, langsmith, packaging, pydantic, PyYAML, tenacity\r\n",
      "Required-by: langchain, langchain-community, langchain-experimental, langchain-openai, langchain-text-splitters\r\n"
     ]
    }
   ],
   "source": [
    "\n",
    "# 0.1.33\n",
    "# 0.1.46\n",
    "# 0.2.3\n",
    "# !pip show langchain_core \n",
    "# 0.1.13\n",
    "# 0.2.1\n",
    "# !pip show langchain"
   ]
  },
  {
   "cell_type": "code",
   "outputs": [
    {
     "name": "stdout",
     "output_type": "stream",
     "text": [
      "Looking in indexes: https://pypi.tuna.tsinghua.edu.cn/simple\r\n",
      "Requirement already satisfied: langchain in /Users/pangmengting/venv/lib/python3.10/site-packages (0.2.1)\r\n",
      "Requirement already satisfied: PyYAML>=5.3 in /Users/pangmengting/venv/lib/python3.10/site-packages (from langchain) (6.0.1)\r\n",
      "Requirement already satisfied: SQLAlchemy<3,>=1.4 in /Users/pangmengting/venv/lib/python3.10/site-packages (from langchain) (1.4.41)\r\n",
      "Requirement already satisfied: aiohttp<4.0.0,>=3.8.3 in /Users/pangmengting/venv/lib/python3.10/site-packages (from langchain) (3.8.4)\r\n",
      "Requirement already satisfied: async-timeout<5.0.0,>=4.0.0 in /Users/pangmengting/venv/lib/python3.10/site-packages (from langchain) (4.0.2)\r\n",
      "Requirement already satisfied: langchain-core<0.3.0,>=0.2.0 in /Users/pangmengting/venv/lib/python3.10/site-packages (from langchain) (0.2.3)\r\n",
      "Requirement already satisfied: langchain-text-splitters<0.3.0,>=0.2.0 in /Users/pangmengting/venv/lib/python3.10/site-packages (from langchain) (0.2.0)\r\n",
      "Requirement already satisfied: langsmith<0.2.0,>=0.1.17 in /Users/pangmengting/venv/lib/python3.10/site-packages (from langchain) (0.1.67)\r\n",
      "Requirement already satisfied: numpy<2,>=1 in /Users/pangmengting/venv/lib/python3.10/site-packages (from langchain) (1.25.1)\r\n",
      "Requirement already satisfied: pydantic<3,>=1 in /Users/pangmengting/venv/lib/python3.10/site-packages (from langchain) (2.6.4)\r\n",
      "Requirement already satisfied: requests<3,>=2 in /Users/pangmengting/venv/lib/python3.10/site-packages (from langchain) (2.31.0)\r\n",
      "Requirement already satisfied: tenacity<9.0.0,>=8.1.0 in /Users/pangmengting/venv/lib/python3.10/site-packages (from langchain) (8.2.3)\r\n",
      "Requirement already satisfied: attrs>=17.3.0 in /Users/pangmengting/venv/lib/python3.10/site-packages (from aiohttp<4.0.0,>=3.8.3->langchain) (23.1.0)\r\n",
      "Requirement already satisfied: charset-normalizer<4.0,>=2.0 in /Users/pangmengting/venv/lib/python3.10/site-packages (from aiohttp<4.0.0,>=3.8.3->langchain) (3.2.0)\r\n",
      "Requirement already satisfied: multidict<7.0,>=4.5 in /Users/pangmengting/venv/lib/python3.10/site-packages (from aiohttp<4.0.0,>=3.8.3->langchain) (6.0.4)\r\n",
      "Requirement already satisfied: yarl<2.0,>=1.0 in /Users/pangmengting/venv/lib/python3.10/site-packages (from aiohttp<4.0.0,>=3.8.3->langchain) (1.9.2)\r\n",
      "Requirement already satisfied: frozenlist>=1.1.1 in /Users/pangmengting/venv/lib/python3.10/site-packages (from aiohttp<4.0.0,>=3.8.3->langchain) (1.4.0)\r\n",
      "Requirement already satisfied: aiosignal>=1.1.2 in /Users/pangmengting/venv/lib/python3.10/site-packages (from aiohttp<4.0.0,>=3.8.3->langchain) (1.3.1)\r\n",
      "Requirement already satisfied: jsonpatch<2.0,>=1.33 in /Users/pangmengting/venv/lib/python3.10/site-packages (from langchain-core<0.3.0,>=0.2.0->langchain) (1.33)\r\n",
      "Requirement already satisfied: packaging<24.0,>=23.2 in /Users/pangmengting/venv/lib/python3.10/site-packages (from langchain-core<0.3.0,>=0.2.0->langchain) (23.2)\r\n",
      "Requirement already satisfied: orjson<4.0.0,>=3.9.14 in /Users/pangmengting/venv/lib/python3.10/site-packages (from langsmith<0.2.0,>=0.1.17->langchain) (3.9.15)\r\n",
      "Requirement already satisfied: annotated-types>=0.4.0 in /Users/pangmengting/venv/lib/python3.10/site-packages (from pydantic<3,>=1->langchain) (0.6.0)\r\n",
      "Requirement already satisfied: pydantic-core==2.16.3 in /Users/pangmengting/venv/lib/python3.10/site-packages (from pydantic<3,>=1->langchain) (2.16.3)\r\n",
      "Requirement already satisfied: typing-extensions>=4.6.1 in /Users/pangmengting/venv/lib/python3.10/site-packages (from pydantic<3,>=1->langchain) (4.10.0)\r\n",
      "Requirement already satisfied: idna<4,>=2.5 in /Users/pangmengting/venv/lib/python3.10/site-packages (from requests<3,>=2->langchain) (3.4)\r\n",
      "Requirement already satisfied: urllib3<3,>=1.21.1 in /Users/pangmengting/venv/lib/python3.10/site-packages (from requests<3,>=2->langchain) (2.2.1)\r\n",
      "Requirement already satisfied: certifi>=2017.4.17 in /Users/pangmengting/venv/lib/python3.10/site-packages (from requests<3,>=2->langchain) (2023.5.7)\r\n",
      "Requirement already satisfied: jsonpointer>=1.9 in /Users/pangmengting/venv/lib/python3.10/site-packages (from jsonpatch<2.0,>=1.33->langchain-core<0.3.0,>=0.2.0->langchain) (2.4)\r\n"
     ]
    }
   ],
   "source": [
    "# 升级版本： langchain_core\n",
    "# !pip install --upgrade langchain_core\n",
    "# 升级版本： langchain\n",
    "# !pip install --upgrade langchain\n",
    "\n",
    "# !pip install youtube-transcript-api\n",
    "# !pip install pytube\n",
    "\n",
    "# 爬取youtube使用到\n",
    "# !pip install google-api-python-client"
   ],
   "metadata": {
    "collapsed": false,
    "ExecuteTime": {
     "end_time": "2024-06-02T04:23:01.936952Z",
     "start_time": "2024-06-02T04:22:59.884503Z"
    }
   },
   "id": "7500d9cbec4b32bd",
   "execution_count": 5
  },
  {
   "cell_type": "code",
   "outputs": [],
   "source": [],
   "metadata": {
    "collapsed": false
   },
   "id": "19bb06f2243cc275"
  }
 ],
 "metadata": {
  "kernelspec": {
   "display_name": "Python 3",
   "language": "python",
   "name": "python3"
  },
  "language_info": {
   "codemirror_mode": {
    "name": "ipython",
    "version": 2
   },
   "file_extension": ".py",
   "mimetype": "text/x-python",
   "name": "python",
   "nbconvert_exporter": "python",
   "pygments_lexer": "ipython2",
   "version": "2.7.6"
  }
 },
 "nbformat": 4,
 "nbformat_minor": 5
}
