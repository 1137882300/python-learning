{
 "cells": [
  {
   "cell_type": "code",
   "execution_count": 7,
   "id": "initial_id",
   "metadata": {
    "collapsed": true,
    "ExecuteTime": {
     "end_time": "2024-06-02T04:23:36.311133Z",
     "start_time": "2024-06-02T04:23:35.030415Z"
    }
   },
   "outputs": [
    {
     "name": "stdout",
     "output_type": "stream",
     "text": [
      "Name: langchain-core\r\n",
      "Version: 0.2.3\r\n",
      "Summary: Building applications with LLMs through composability\r\n",
      "Home-page: https://github.com/langchain-ai/langchain\r\n",
      "Author: \r\n",
      "Author-email: \r\n",
      "License: MIT\r\n",
      "Location: /Users/pangmengting/venv/lib/python3.10/site-packages\r\n",
      "Requires: jsonpatch, langsmith, packaging, pydantic, PyYAML, tenacity\r\n",
      "Required-by: langchain, langchain-community, langchain-experimental, langchain-openai, langchain-text-splitters\r\n"
     ]
    }
   ],
   "source": [
    "\n",
    "# 0.1.33\n",
    "# 0.1.46\n",
    "# 0.2.3\n",
    "# !pip show langchain_core \n",
    "# 0.1.13\n",
    "# 0.2.1\n",
    "# !pip show langchain"
   ]
  },
  {
   "cell_type": "code",
   "outputs": [
    {
     "name": "stdout",
     "output_type": "stream",
     "text": [
      "Looking in indexes: https://pypi.tuna.tsinghua.edu.cn/simple\r\n",
      "Collecting yt-dlp\r\n",
      "  Downloading https://pypi.tuna.tsinghua.edu.cn/packages/fc/94/dc1cbc7f47bb61fdb33ca440e03140b677e81a3b91bac6bede8c0d46ab9f/yt_dlp-2024.5.27-py3-none-any.whl (3.1 MB)\r\n",
      "\u001B[2K     \u001B[90m━━━━━━━━━━━━━━━━━━━━━━━━━━━━━━━━━━━━━━━━\u001B[0m \u001B[32m3.1/3.1 MB\u001B[0m \u001B[31m1.5 MB/s\u001B[0m eta \u001B[36m0:00:00\u001B[0m00:01\u001B[0m00:01\u001B[0m0m\r\n",
      "\u001B[?25hCollecting brotli (from yt-dlp)\r\n",
      "  Downloading https://pypi.tuna.tsinghua.edu.cn/packages/6d/3a/dbf4fb970c1019a57b5e492e1e0eae745d32e59ba4d6161ab5422b08eefe/Brotli-1.1.0-cp310-cp310-macosx_10_9_universal2.whl (873 kB)\r\n",
      "\u001B[2K     \u001B[90m━━━━━━━━━━━━━━━━━━━━━━━━━━━━━━━━━━━━━━━\u001B[0m \u001B[32m873.0/873.0 kB\u001B[0m \u001B[31m1.1 MB/s\u001B[0m eta \u001B[36m0:00:00\u001B[0m00:01\u001B[0m00:01\u001B[0m\r\n",
      "\u001B[?25hRequirement already satisfied: certifi in /Users/pangmengting/venv/lib/python3.10/site-packages (from yt-dlp) (2023.5.7)\r\n",
      "Collecting mutagen (from yt-dlp)\r\n",
      "  Downloading https://pypi.tuna.tsinghua.edu.cn/packages/b0/7a/620f945b96be1f6ee357d211d5bf74ab1b7fe72a9f1525aafbfe3aee6875/mutagen-1.47.0-py3-none-any.whl (194 kB)\r\n",
      "\u001B[2K     \u001B[90m━━━━━━━━━━━━━━━━━━━━━━━━━━━━━━━━━━━━━\u001B[0m \u001B[32m194.4/194.4 kB\u001B[0m \u001B[31m869.8 kB/s\u001B[0m eta \u001B[36m0:00:00\u001B[0ma \u001B[36m0:00:01\u001B[0m\r\n",
      "\u001B[?25hCollecting pycryptodomex (from yt-dlp)\r\n",
      "  Downloading https://pypi.tuna.tsinghua.edu.cn/packages/7a/09/668b587ddaf2aa0f94ea45bca73e7c564816fd9329a05e8f7f870425981d/pycryptodomex-3.20.0-cp35-abi3-macosx_10_9_universal2.whl (2.4 MB)\r\n",
      "\u001B[2K     \u001B[90m━━━━━━━━━━━━━━━━━━━━━━━━━━━━━━━━━━━━━━━━\u001B[0m \u001B[32m2.4/2.4 MB\u001B[0m \u001B[31m1.2 MB/s\u001B[0m eta \u001B[36m0:00:00\u001B[0m00:01\u001B[0m00:01\u001B[0m0m\r\n",
      "\u001B[?25hRequirement already satisfied: requests<3,>=2.31.0 in /Users/pangmengting/venv/lib/python3.10/site-packages (from yt-dlp) (2.31.0)\r\n",
      "Requirement already satisfied: urllib3<3,>=1.26.17 in /Users/pangmengting/venv/lib/python3.10/site-packages (from yt-dlp) (2.2.1)\r\n",
      "Collecting websockets>=12.0 (from yt-dlp)\r\n",
      "  Using cached https://pypi.tuna.tsinghua.edu.cn/packages/4e/e1/f6c3ecf7f1bfd9209e13949db027d7fdea2faf090c69b5f2d17d1d796d96/websockets-12.0-cp310-cp310-macosx_11_0_arm64.whl (121 kB)\r\n",
      "Requirement already satisfied: charset-normalizer<4,>=2 in /Users/pangmengting/venv/lib/python3.10/site-packages (from requests<3,>=2.31.0->yt-dlp) (3.2.0)\r\n",
      "Requirement already satisfied: idna<4,>=2.5 in /Users/pangmengting/venv/lib/python3.10/site-packages (from requests<3,>=2.31.0->yt-dlp) (3.4)\r\n",
      "Installing collected packages: brotli, websockets, pycryptodomex, mutagen, yt-dlp\r\n",
      "  Attempting uninstall: websockets\r\n",
      "    Found existing installation: websockets 10.4\r\n",
      "    Uninstalling websockets-10.4:\r\n",
      "      Successfully uninstalled websockets-10.4\r\n",
      "\u001B[31mERROR: pip's dependency resolver does not currently take into account all the packages that are installed. This behaviour is the source of the following dependency conflicts.\r\n",
      "realtime 1.0.0 requires websockets<11.0,>=10.3, but you have websockets 12.0 which is incompatible.\r\n",
      "supabase 1.0.3 requires httpx<0.24.0,>=0.23.0, but you have httpx 0.27.0 which is incompatible.\u001B[0m\u001B[31m\r\n",
      "\u001B[0mSuccessfully installed brotli-1.1.0 mutagen-1.47.0 pycryptodomex-3.20.0 websockets-12.0 yt-dlp-2024.5.27\r\n"
     ]
    }
   ],
   "source": [
    "# 升级版本： langchain_core\n",
    "# !pip install --upgrade langchain_core\n",
    "# 升级版本： langchain\n",
    "# !pip install --upgrade langchain\n",
    "\n",
    "# !pip install youtube-transcript-api\n",
    "# !pip install pytube\n",
    "\n",
    "# 爬取youtube使用到\n",
    "# !pip install google-api-python-client\n",
    "\n",
    "# 爬取youtube使用到\n",
    "# !pip install yt-dlp\n",
    "\n",
    "# 手动指定安卓版本\n",
    "# !pip install websockets==10.3\n",
    "# !pip install httpx==0.23.0"
   ],
   "metadata": {
    "collapsed": false,
    "ExecuteTime": {
     "end_time": "2024-06-04T07:18:30.812692Z",
     "start_time": "2024-06-04T07:18:20.071647Z"
    }
   },
   "id": "7500d9cbec4b32bd",
   "execution_count": 1
  },
  {
   "cell_type": "code",
   "outputs": [],
   "source": [],
   "metadata": {
    "collapsed": false
   },
   "id": "19bb06f2243cc275"
  }
 ],
 "metadata": {
  "kernelspec": {
   "display_name": "Python 3",
   "language": "python",
   "name": "python3"
  },
  "language_info": {
   "codemirror_mode": {
    "name": "ipython",
    "version": 2
   },
   "file_extension": ".py",
   "mimetype": "text/x-python",
   "name": "python",
   "nbconvert_exporter": "python",
   "pygments_lexer": "ipython2",
   "version": "2.7.6"
  }
 },
 "nbformat": 4,
 "nbformat_minor": 5
}
