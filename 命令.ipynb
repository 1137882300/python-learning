{
 "cells": [
  {
   "cell_type": "code",
   "execution_count": 1,
   "id": "initial_id",
   "metadata": {
    "collapsed": true,
    "ExecuteTime": {
     "end_time": "2024-06-26T03:19:59.300513Z",
     "start_time": "2024-06-26T03:19:57.804103Z"
    }
   },
   "outputs": [
    {
     "name": "stdout",
     "output_type": "stream",
     "text": [
      "Name: pydantic\r\n",
      "Version: 2.6.4\r\n",
      "Summary: Data validation using Python type hints\r\n",
      "Home-page: \r\n",
      "Author: \r\n",
      "Author-email: Samuel Colvin <s@muelcolvin.com>, Eric Jolibois <em.jolibois@gmail.com>, Hasan Ramezani <hasan.r67@gmail.com>, Adrian Garcia Badaracco <1755071+adriangb@users.noreply.github.com>, Terrence Dorsey <terry@pydantic.dev>, David Montague <david@pydantic.dev>, Serge Matveenko <lig@countzero.co>, Marcelo Trylesinski <marcelotryle@gmail.com>, Sydney Runkle <sydneymarierunkle@gmail.com>, David Hewitt <mail@davidhewitt.io>\r\n",
      "License: \r\n",
      "Location: /Users/pangmengting/venv/lib/python3.10/site-packages\r\n",
      "Requires: annotated-types, pydantic-core, typing-extensions\r\n",
      "Required-by: anthropic, chromadb, docarray, fastapi, gotrue, langchain, langchain-core, langchainplus-sdk, langsmith, llamaindex-py-client, openai, openapi-schema-pydantic, postgrest, qdrant-client, qianfan, sqlmodel, zhipuai\r\n"
     ]
    }
   ],
   "source": [
    "\n",
    "# 0.1.33\n",
    "# 0.1.46\n",
    "# 0.2.3\n",
    "# !pip show langchain_core \n",
    "# 0.1.13\n",
    "# 0.2.1\n",
    "# 0.2.3\n",
    "# 0.2.5\n",
    "# !pip show langchain\n",
    "# 0.2.4\n",
    "# 0.2.5\n",
    "# !pip show langchain_community\n",
    "\n",
    "# 2.5.1\n",
    "# !pip show supabase  \n",
    "\n",
    "# 4.41.2\n",
    "# !pip show transformers\n",
    "\n",
    "# 2.6.4\n",
    "# !pip show Pydantic"
   ]
  },
  {
   "cell_type": "code",
   "outputs": [
    {
     "name": "stdout",
     "output_type": "stream",
     "text": [
      "Looking in indexes: https://pypi.tuna.tsinghua.edu.cn/simple\r\n",
      "Collecting PySimpleGUI\r\n",
      "  Downloading https://pypi.tuna.tsinghua.edu.cn/packages/d4/53/337197e13302a527786a1a97f0718849b027e39c7141cf7e685eec00778c/PySimpleGUI-5.0.5-py3-none-any.whl (1.0 MB)\r\n",
      "\u001B[2K     \u001B[90m━━━━━━━━━━━━━━━━━━━━━━━━━━━━━━━━━━━━━━━━\u001B[0m \u001B[32m1.0/1.0 MB\u001B[0m \u001B[31m960.5 kB/s\u001B[0m eta \u001B[36m0:00:00\u001B[0m00:01\u001B[0m:01\u001B[0m0m\r\n",
      "\u001B[?25hRequirement already satisfied: rsa in /Users/pangmengting/venv/lib/python3.10/site-packages (from PySimpleGUI) (4.9)\r\n",
      "Requirement already satisfied: pyasn1>=0.1.3 in /Users/pangmengting/venv/lib/python3.10/site-packages (from rsa->PySimpleGUI) (0.5.0)\r\n",
      "Installing collected packages: PySimpleGUI\r\n",
      "Successfully installed PySimpleGUI-5.0.5\r\n",
      "\r\n",
      "\u001B[1m[\u001B[0m\u001B[34;49mnotice\u001B[0m\u001B[1;39;49m]\u001B[0m\u001B[39;49m A new release of pip is available: \u001B[0m\u001B[31;49m24.0\u001B[0m\u001B[39;49m -> \u001B[0m\u001B[32;49m24.1\u001B[0m\r\n",
      "\u001B[1m[\u001B[0m\u001B[34;49mnotice\u001B[0m\u001B[1;39;49m]\u001B[0m\u001B[39;49m To update, run: \u001B[0m\u001B[32;49mpip install --upgrade pip\u001B[0m\r\n"
     ]
    }
   ],
   "source": [
    "# 升级版本： langchain_core\n",
    "# !pip install --upgrade langchain_core\n",
    "# 升级版本： langchain\n",
    "# !pip install --upgrade langchain\n",
    "\n",
    "# !pip install youtube-transcript-api\n",
    "# !pip install pytube\n",
    "\n",
    "# 爬取youtube使用到\n",
    "# !pip install google-api-python-client\n",
    "\n",
    "# 爬取youtube/bilibili使用到\n",
    "# !pip install yt-dlp\n",
    "\n",
    "# 手动指定安卓版本\n",
    "# !pip install websockets==10.3\n",
    "# !pip install httpx==0.23.0\n",
    "\n",
    "# 升级 sentence-transformers\n",
    "# !pip install -U sentence-transformers\n",
    "\n",
    "# 指定 sentence-transformers 版本\n",
    "# !pip install sentence-transformers==2.5.1\n",
    "\n",
    "# 指定 langchain_community版本：0.2.4\n",
    "# !pip install langchain_community==0.2.4\n",
    "\n",
    "\n",
    "# !pip install --upgrade --quiet  tiktoken supabase unstructured\n",
    "\n",
    "# -q: 这是pip的一个可选参数，表示\"quiet\"（安静模式）。它会减少命令执行时输出的信息量，使安装过程更加简洁清晰。\n",
    "# -U: 这是pip的另一个可选参数，表示\"upgrade\"（升级）。它将确保安装的是指定包的最新版本，如果已经安装了旧版本，它将会把旧版本升级到最新版本。\n",
    "# !pip install firecrawl-py faiss-cpu -q -U\n",
    "\n",
    "# 千问\n",
    "# !pip install --upgrade --quiet  dashscope\n",
    "\n",
    "# streamlit\n",
    "# !pip install streamlit\n",
    "# !pip install ollama\n",
    "\n",
    "# pinecone\n",
    "# !pip install pinecone-client\n",
    "\n",
    "# !pip install langchain-pinecone\n",
    "\n",
    "# llama-index\n",
    "# !pip install -q llama-index\n",
    "\n",
    "# rank_bm25\n",
    "# !pip install -q -U  rank_bm25\n",
    "\n",
    "# !pip install -q -U  pypdf\n",
    "\n",
    "# Lark 是一个用于 Python 的解析库，它提供了一种简单而强大的方法来解析复杂的数据结构，特别是用于处理自然语言和配置文件等。\n",
    "# Lark 的核心是一个解析器，它能够将文本（通常是字符串）转换成一个抽象语法树（Abstract Syntax Tree, AST），\n",
    "# 这使得进一步的分析和处理变得更加容易。\n",
    "# !pip install -q -U lark\n",
    "\n",
    "# !pip install -q -U html2text\n",
    "\n",
    "# !pip install -q -U tools\n",
    "\n",
    "# !pip install PySimpleGUI\n",
    "\n",
    "# !pip install -U pipe\n",
    "\n",
    "# matplotlib 是 Python 中一个广泛使用的绘图库。\n",
    "# 它能够创建各种静态、动态和交互式的可视化图表，包括线图、柱状图、饼图、直方图、散点图等等，为数据分析和展示提供了强大的支持。\n",
    "# %pip install matplotlib\n",
    "\n",
    "# %pip install pymysql\n",
    "\n",
    "# !pip install langserve\n",
    "# !pip install sse_starlette\n",
    "\n",
    "# !pip install pandasai -U\n",
    "\n",
    "# !pip install autogen\n"
   ],
   "metadata": {
    "collapsed": false,
    "ExecuteTime": {
     "end_time": "2024-06-24T09:17:38.419655Z",
     "start_time": "2024-06-24T09:17:34.926988Z"
    }
   },
   "id": "7500d9cbec4b32bd",
   "execution_count": 2
  },
  {
   "cell_type": "code",
   "outputs": [],
   "source": [
    "# 输出依赖和版本到 reguirements\n",
    "# pip freeze > reguirements.txt"
   ],
   "metadata": {
    "collapsed": false
   },
   "id": "19bb06f2243cc275"
  },
  {
   "cell_type": "code",
   "outputs": [],
   "source": [
    "# 通过 brew 安装\n",
    "# !brew install wget\n",
    "# !which wget\n",
    "\n",
    "# apt-get 是安装系统级的软件包。\n",
    "# !apt-get install poppler-utils tesseract-ocr\n",
    "# mac 使用 brew\n",
    "# !brew install poppler-utils tesseract-ocr"
   ],
   "metadata": {
    "collapsed": false
   },
   "id": "d874b0bb8fa7633a"
  }
 ],
 "metadata": {
  "kernelspec": {
   "display_name": "Python 3",
   "language": "python",
   "name": "python3"
  },
  "language_info": {
   "codemirror_mode": {
    "name": "ipython",
    "version": 2
   },
   "file_extension": ".py",
   "mimetype": "text/x-python",
   "name": "python",
   "nbconvert_exporter": "python",
   "pygments_lexer": "ipython2",
   "version": "2.7.6"
  }
 },
 "nbformat": 4,
 "nbformat_minor": 5
}
