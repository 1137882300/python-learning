{
 "cells": [
  {
   "cell_type": "code",
   "execution_count": null,
   "id": "initial_id",
   "metadata": {
    "collapsed": true
   },
   "outputs": [],
   "source": [
    "\n",
    "# 0.1.33\n",
    "# 0.1.46\n",
    "!pip show langchain_core  "
   ]
  },
  {
   "cell_type": "code",
   "outputs": [],
   "source": [
    "# 升级版本： langchain_core\n",
    "# !pip install --upgrade langchain_core\n",
    "\n",
    "# !pip install youtube-transcript-api\n",
    "# !pip install pytube\n"
   ],
   "metadata": {
    "collapsed": false
   },
   "id": "7500d9cbec4b32bd"
  }
 ],
 "metadata": {
  "kernelspec": {
   "display_name": "Python 3",
   "language": "python",
   "name": "python3"
  },
  "language_info": {
   "codemirror_mode": {
    "name": "ipython",
    "version": 2
   },
   "file_extension": ".py",
   "mimetype": "text/x-python",
   "name": "python",
   "nbconvert_exporter": "python",
   "pygments_lexer": "ipython2",
   "version": "2.7.6"
  }
 },
 "nbformat": 4,
 "nbformat_minor": 5
}
