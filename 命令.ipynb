{
 "cells": [
  {
   "cell_type": "code",
   "execution_count": 2,
   "id": "initial_id",
   "metadata": {
    "collapsed": true,
    "ExecuteTime": {
     "end_time": "2024-06-18T06:19:07.258017Z",
     "start_time": "2024-06-18T06:19:05.714524Z"
    }
   },
   "outputs": [
    {
     "name": "stdout",
     "output_type": "stream",
     "text": [
      "Name: supabase\r\n",
      "Version: 2.5.1\r\n",
      "Summary: Supabase client for Python.\r\n",
      "Home-page: https://github.com/supabase-community/supabase-py\r\n",
      "Author: Joel Lee\r\n",
      "Author-email: joel@joellee.org\r\n",
      "License: MIT\r\n",
      "Location: /Users/pangmengting/venv/lib/python3.10/site-packages\r\n",
      "Requires: gotrue, httpx, postgrest, realtime, storage3, supafunc\r\n",
      "Required-by: \r\n"
     ]
    }
   ],
   "source": [
    "\n",
    "# 0.1.33\n",
    "# 0.1.46\n",
    "# 0.2.3\n",
    "# !pip show langchain_core \n",
    "# 0.1.13\n",
    "# 0.2.1\n",
    "# 0.2.3\n",
    "# !pip show langchain\n",
    "# 0.2.4\n",
    "# !pip show langchain_community\n",
    "\n",
    "# 2.5.1\n",
    "# !pip show supabase  \n"
   ]
  },
  {
   "cell_type": "code",
   "outputs": [],
   "source": [
    "# 升级版本： langchain_core\n",
    "# !pip install --upgrade langchain_core\n",
    "# 升级版本： langchain\n",
    "# !pip install --upgrade langchain\n",
    "\n",
    "# !pip install youtube-transcript-api\n",
    "# !pip install pytube\n",
    "\n",
    "# 爬取youtube使用到\n",
    "# !pip install google-api-python-client\n",
    "\n",
    "# 爬取youtube/bilibili使用到\n",
    "# !pip install yt-dlp\n",
    "\n",
    "# 手动指定安卓版本\n",
    "# !pip install websockets==10.3\n",
    "# !pip install httpx==0.23.0\n",
    "\n",
    "# 升级 sentence-transformers\n",
    "# !pip install -U sentence-transformers\n",
    "\n",
    "# 指定 sentence-transformers 版本\n",
    "# !pip install sentence-transformers==2.5.1\n",
    "\n",
    "# 指定 langchain_community版本：0.2.4\n",
    "# !pip install langchain_community==0.2.4\n",
    "\n",
    "\n",
    "# !pip install --upgrade --quiet  tiktoken supabase unstructured\n",
    "\n",
    "# -q: 这是pip的一个可选参数，表示\"quiet\"（安静模式）。它会减少命令执行时输出的信息量，使安装过程更加简洁清晰。\n",
    "# -U: 这是pip的另一个可选参数，表示\"upgrade\"（升级）。它将确保安装的是指定包的最新版本，如果已经安装了旧版本，它将会把旧版本升级到最新版本。\n",
    "# !pip install firecrawl-py faiss-cpu -q -U\n",
    "\n",
    "# 千问\n",
    "# !pip install --upgrade --quiet  dashscope\n",
    "\n",
    "# streamlit\n",
    "# !pip install streamlit\n",
    "# !pip install ollama"
   ],
   "metadata": {
    "collapsed": false,
    "ExecuteTime": {
     "end_time": "2024-06-18T06:18:46.081837Z",
     "start_time": "2024-06-18T06:18:39.296831Z"
    }
   },
   "id": "7500d9cbec4b32bd",
   "execution_count": 1
  },
  {
   "cell_type": "code",
   "outputs": [],
   "source": [],
   "metadata": {
    "collapsed": false
   },
   "id": "19bb06f2243cc275"
  }
 ],
 "metadata": {
  "kernelspec": {
   "display_name": "Python 3",
   "language": "python",
   "name": "python3"
  },
  "language_info": {
   "codemirror_mode": {
    "name": "ipython",
    "version": 2
   },
   "file_extension": ".py",
   "mimetype": "text/x-python",
   "name": "python",
   "nbconvert_exporter": "python",
   "pygments_lexer": "ipython2",
   "version": "2.7.6"
  }
 },
 "nbformat": 4,
 "nbformat_minor": 5
}
