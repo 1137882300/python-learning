{
 "cells": [
  {
   "cell_type": "code",
   "execution_count": 7,
   "id": "initial_id",
   "metadata": {
    "collapsed": true,
    "ExecuteTime": {
     "end_time": "2024-06-02T04:23:36.311133Z",
     "start_time": "2024-06-02T04:23:35.030415Z"
    }
   },
   "outputs": [
    {
     "name": "stdout",
     "output_type": "stream",
     "text": [
      "Name: langchain-core\r\n",
      "Version: 0.2.3\r\n",
      "Summary: Building applications with LLMs through composability\r\n",
      "Home-page: https://github.com/langchain-ai/langchain\r\n",
      "Author: \r\n",
      "Author-email: \r\n",
      "License: MIT\r\n",
      "Location: /Users/pangmengting/venv/lib/python3.10/site-packages\r\n",
      "Requires: jsonpatch, langsmith, packaging, pydantic, PyYAML, tenacity\r\n",
      "Required-by: langchain, langchain-community, langchain-experimental, langchain-openai, langchain-text-splitters\r\n"
     ]
    }
   ],
   "source": [
    "\n",
    "# 0.1.33\n",
    "# 0.1.46\n",
    "# 0.2.3\n",
    "# !pip show langchain_core \n",
    "# 0.1.13\n",
    "# 0.2.1\n",
    "# !pip show langchain"
   ]
  },
  {
   "cell_type": "code",
   "outputs": [
    {
     "name": "stdout",
     "output_type": "stream",
     "text": [
      "Looking in indexes: https://pypi.tuna.tsinghua.edu.cn/simple\r\n",
      "Collecting sentence-transformers==2.5.1\r\n",
      "  Downloading https://pypi.tuna.tsinghua.edu.cn/packages/68/0d/27475988a3daade7516ea02dbc607b57d4a30f01bb49614a6430e76685c2/sentence_transformers-2.5.1-py3-none-any.whl (156 kB)\r\n",
      "\u001B[2K     \u001B[90m━━━━━━━━━━━━━━━━━━━━━━━━━━━━━━━━━━━━━\u001B[0m \u001B[32m156.5/156.5 kB\u001B[0m \u001B[31m664.8 kB/s\u001B[0m eta \u001B[36m0:00:00\u001B[0ma \u001B[36m0:00:01\u001B[0m\r\n",
      "\u001B[?25hRequirement already satisfied: transformers<5.0.0,>=4.32.0 in /Users/pangmengting/venv/lib/python3.10/site-packages (from sentence-transformers==2.5.1) (4.41.2)\r\n",
      "Requirement already satisfied: tqdm in /Users/pangmengting/venv/lib/python3.10/site-packages (from sentence-transformers==2.5.1) (4.65.0)\r\n",
      "Requirement already satisfied: torch>=1.11.0 in /Users/pangmengting/venv/lib/python3.10/site-packages (from sentence-transformers==2.5.1) (2.0.1)\r\n",
      "Requirement already satisfied: numpy in /Users/pangmengting/venv/lib/python3.10/site-packages (from sentence-transformers==2.5.1) (1.25.1)\r\n",
      "Requirement already satisfied: scikit-learn in /Users/pangmengting/venv/lib/python3.10/site-packages (from sentence-transformers==2.5.1) (1.3.0)\r\n",
      "Requirement already satisfied: scipy in /Users/pangmengting/venv/lib/python3.10/site-packages (from sentence-transformers==2.5.1) (1.11.1)\r\n",
      "Requirement already satisfied: huggingface-hub>=0.15.1 in /Users/pangmengting/venv/lib/python3.10/site-packages (from sentence-transformers==2.5.1) (0.23.3)\r\n",
      "Requirement already satisfied: Pillow in /Users/pangmengting/venv/lib/python3.10/site-packages (from sentence-transformers==2.5.1) (10.0.0)\r\n",
      "Requirement already satisfied: filelock in /Users/pangmengting/venv/lib/python3.10/site-packages (from huggingface-hub>=0.15.1->sentence-transformers==2.5.1) (3.12.2)\r\n",
      "Requirement already satisfied: fsspec>=2023.5.0 in /Users/pangmengting/venv/lib/python3.10/site-packages (from huggingface-hub>=0.15.1->sentence-transformers==2.5.1) (2023.6.0)\r\n",
      "Requirement already satisfied: packaging>=20.9 in /Users/pangmengting/venv/lib/python3.10/site-packages (from huggingface-hub>=0.15.1->sentence-transformers==2.5.1) (23.2)\r\n",
      "Requirement already satisfied: pyyaml>=5.1 in /Users/pangmengting/venv/lib/python3.10/site-packages (from huggingface-hub>=0.15.1->sentence-transformers==2.5.1) (6.0.1)\r\n",
      "Requirement already satisfied: requests in /Users/pangmengting/venv/lib/python3.10/site-packages (from huggingface-hub>=0.15.1->sentence-transformers==2.5.1) (2.31.0)\r\n",
      "Requirement already satisfied: typing-extensions>=3.7.4.3 in /Users/pangmengting/venv/lib/python3.10/site-packages (from huggingface-hub>=0.15.1->sentence-transformers==2.5.1) (4.10.0)\r\n",
      "Requirement already satisfied: sympy in /Users/pangmengting/venv/lib/python3.10/site-packages (from torch>=1.11.0->sentence-transformers==2.5.1) (1.12)\r\n",
      "Requirement already satisfied: networkx in /Users/pangmengting/venv/lib/python3.10/site-packages (from torch>=1.11.0->sentence-transformers==2.5.1) (3.1)\r\n",
      "Requirement already satisfied: jinja2 in /Users/pangmengting/venv/lib/python3.10/site-packages (from torch>=1.11.0->sentence-transformers==2.5.1) (3.1.2)\r\n",
      "Requirement already satisfied: regex!=2019.12.17 in /Users/pangmengting/venv/lib/python3.10/site-packages (from transformers<5.0.0,>=4.32.0->sentence-transformers==2.5.1) (2023.6.3)\r\n",
      "Requirement already satisfied: tokenizers<0.20,>=0.19 in /Users/pangmengting/venv/lib/python3.10/site-packages (from transformers<5.0.0,>=4.32.0->sentence-transformers==2.5.1) (0.19.1)\r\n",
      "Requirement already satisfied: safetensors>=0.4.1 in /Users/pangmengting/venv/lib/python3.10/site-packages (from transformers<5.0.0,>=4.32.0->sentence-transformers==2.5.1) (0.4.2)\r\n",
      "Requirement already satisfied: joblib>=1.1.1 in /Users/pangmengting/venv/lib/python3.10/site-packages (from scikit-learn->sentence-transformers==2.5.1) (1.3.1)\r\n",
      "Requirement already satisfied: threadpoolctl>=2.0.0 in /Users/pangmengting/venv/lib/python3.10/site-packages (from scikit-learn->sentence-transformers==2.5.1) (3.2.0)\r\n",
      "Requirement already satisfied: MarkupSafe>=2.0 in /Users/pangmengting/venv/lib/python3.10/site-packages (from jinja2->torch>=1.11.0->sentence-transformers==2.5.1) (2.1.3)\r\n",
      "Requirement already satisfied: charset-normalizer<4,>=2 in /Users/pangmengting/venv/lib/python3.10/site-packages (from requests->huggingface-hub>=0.15.1->sentence-transformers==2.5.1) (3.2.0)\r\n",
      "Requirement already satisfied: idna<4,>=2.5 in /Users/pangmengting/venv/lib/python3.10/site-packages (from requests->huggingface-hub>=0.15.1->sentence-transformers==2.5.1) (3.4)\r\n",
      "Requirement already satisfied: urllib3<3,>=1.21.1 in /Users/pangmengting/venv/lib/python3.10/site-packages (from requests->huggingface-hub>=0.15.1->sentence-transformers==2.5.1) (2.2.1)\r\n",
      "Requirement already satisfied: certifi>=2017.4.17 in /Users/pangmengting/venv/lib/python3.10/site-packages (from requests->huggingface-hub>=0.15.1->sentence-transformers==2.5.1) (2023.5.7)\r\n",
      "Requirement already satisfied: mpmath>=0.19 in /Users/pangmengting/venv/lib/python3.10/site-packages (from sympy->torch>=1.11.0->sentence-transformers==2.5.1) (1.3.0)\r\n",
      "Installing collected packages: sentence-transformers\r\n",
      "  Attempting uninstall: sentence-transformers\r\n",
      "    Found existing installation: sentence-transformers 3.0.0\r\n",
      "    Uninstalling sentence-transformers-3.0.0:\r\n",
      "      Successfully uninstalled sentence-transformers-3.0.0\r\n",
      "Successfully installed sentence-transformers-2.5.1\r\n"
     ]
    }
   ],
   "source": [
    "# 升级版本： langchain_core\n",
    "# !pip install --upgrade langchain_core\n",
    "# 升级版本： langchain\n",
    "# !pip install --upgrade langchain\n",
    "\n",
    "# !pip install youtube-transcript-api\n",
    "# !pip install pytube\n",
    "\n",
    "# 爬取youtube使用到\n",
    "# !pip install google-api-python-client\n",
    "\n",
    "# 爬取youtube/bilibili使用到\n",
    "# !pip install yt-dlp\n",
    "\n",
    "# 手动指定安卓版本\n",
    "# !pip install websockets==10.3\n",
    "# !pip install httpx==0.23.0\n",
    "\n",
    "# 升级 sentence-transformers\n",
    "# !pip install -U sentence-transformers\n",
    "\n",
    "# 指定 sentence-transformers 版本\n",
    "# !pip install sentence-transformers==2.5.1"
   ],
   "metadata": {
    "collapsed": false,
    "ExecuteTime": {
     "end_time": "2024-06-07T10:14:33.040426Z",
     "start_time": "2024-06-07T10:14:27.165505Z"
    }
   },
   "id": "7500d9cbec4b32bd",
   "execution_count": 2
  },
  {
   "cell_type": "code",
   "outputs": [],
   "source": [],
   "metadata": {
    "collapsed": false
   },
   "id": "19bb06f2243cc275"
  }
 ],
 "metadata": {
  "kernelspec": {
   "display_name": "Python 3",
   "language": "python",
   "name": "python3"
  },
  "language_info": {
   "codemirror_mode": {
    "name": "ipython",
    "version": 2
   },
   "file_extension": ".py",
   "mimetype": "text/x-python",
   "name": "python",
   "nbconvert_exporter": "python",
   "pygments_lexer": "ipython2",
   "version": "2.7.6"
  }
 },
 "nbformat": 4,
 "nbformat_minor": 5
}
