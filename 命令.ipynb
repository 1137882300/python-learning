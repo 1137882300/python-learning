{
 "cells": [
  {
   "cell_type": "code",
   "execution_count": 1,
   "id": "initial_id",
   "metadata": {
    "collapsed": true,
    "ExecuteTime": {
     "end_time": "2024-07-03T08:01:39.492532Z",
     "start_time": "2024-07-03T08:01:37.889646Z"
    }
   },
   "outputs": [
    {
     "name": "stdout",
     "output_type": "stream",
     "text": [
      "Name: langchain-core\r\n",
      "Version: 0.1.52\r\n",
      "Summary: Building applications with LLMs through composability\r\n",
      "Home-page: https://github.com/langchain-ai/langchain\r\n",
      "Author: \r\n",
      "Author-email: \r\n",
      "License: MIT\r\n",
      "Location: /Users/pangmengting/venv/lib/python3.10/site-packages\r\n",
      "Requires: jsonpatch, langsmith, packaging, pydantic, PyYAML, tenacity\r\n",
      "Required-by: langchain, langchain-community, langchain-elasticsearch, langchain-experimental, langchain-huggingface, langchain-openai, langchain-pinecone, langchain-text-splitters, langserve\r\n"
     ]
    }
   ],
   "source": [
    "# 0.1.33\n",
    "# 0.1.46\n",
    "# 0.2.3\n",
    "# 0.1.52\n",
    "!pip show langchain_core \n",
    "# 0.1.13\n",
    "# 0.2.1\n",
    "# 0.2.3\n",
    "# 0.2.5\n",
    "# 0.1.20\n",
    "# !pip show langchain\n",
    "# 0.2.4\n",
    "# 0.2.5\n",
    "# 0.0.38\n",
    "# !pip show langchain_community\n",
    "\n",
    "# 2.5.1\n",
    "# !pip show supabase  \n",
    "\n",
    "# 4.41.2\n",
    "# !pip show transformers\n",
    "\n",
    "# 2.6.4\n",
    "# !pip show Pydantic\n",
    "\n",
    "# !pip search langchain\n",
    "\n",
    "# 0.0.55\n",
    "# !pip show langchain-experimental\n",
    "\n",
    "\n",
    "# !pip show langchain langchain_core langchain-community langchain-experimental"
   ]
  },
  {
   "cell_type": "markdown",
   "source": [
    "最新版本"
   ],
   "metadata": {
    "collapsed": false
   },
   "id": "a1d5c90808703e1e"
  },
  {
   "cell_type": "code",
   "outputs": [
    {
     "name": "stdout",
     "output_type": "stream",
     "text": [
      "Looking in indexes: https://pypi.tuna.tsinghua.edu.cn/simple\r\n",
      "Requirement already satisfied: langchain==0.2.6 in /Users/pangmengting/venv/lib/python3.10/site-packages (0.2.6)\r\n",
      "Requirement already satisfied: langchain_core==0.2.10 in /Users/pangmengting/venv/lib/python3.10/site-packages (0.2.10)\r\n",
      "Requirement already satisfied: langchain-community==0.2.6 in /Users/pangmengting/venv/lib/python3.10/site-packages (0.2.6)\r\n",
      "Requirement already satisfied: langchain-experimental==0.0.62 in /Users/pangmengting/venv/lib/python3.10/site-packages (0.0.62)\r\n",
      "Requirement already satisfied: PyYAML>=5.3 in /Users/pangmengting/venv/lib/python3.10/site-packages (from langchain==0.2.6) (6.0.1)\r\n",
      "Requirement already satisfied: SQLAlchemy<3,>=1.4 in /Users/pangmengting/venv/lib/python3.10/site-packages (from langchain==0.2.6) (2.0.31)\r\n",
      "Requirement already satisfied: aiohttp<4.0.0,>=3.8.3 in /Users/pangmengting/venv/lib/python3.10/site-packages (from langchain==0.2.6) (3.9.5)\r\n",
      "Requirement already satisfied: async-timeout<5.0.0,>=4.0.0 in /Users/pangmengting/venv/lib/python3.10/site-packages (from langchain==0.2.6) (4.0.2)\r\n",
      "Requirement already satisfied: langchain-text-splitters<0.3.0,>=0.2.0 in /Users/pangmengting/venv/lib/python3.10/site-packages (from langchain==0.2.6) (0.2.2)\r\n",
      "Requirement already satisfied: langsmith<0.2.0,>=0.1.17 in /Users/pangmengting/venv/lib/python3.10/site-packages (from langchain==0.2.6) (0.1.83)\r\n",
      "Requirement already satisfied: numpy<2,>=1 in /Users/pangmengting/venv/lib/python3.10/site-packages (from langchain==0.2.6) (1.25.1)\r\n",
      "Requirement already satisfied: pydantic<3,>=1 in /Users/pangmengting/venv/lib/python3.10/site-packages (from langchain==0.2.6) (2.6.4)\r\n",
      "Requirement already satisfied: requests<3,>=2 in /Users/pangmengting/venv/lib/python3.10/site-packages (from langchain==0.2.6) (2.31.0)\r\n",
      "Requirement already satisfied: tenacity!=8.4.0,<9.0.0,>=8.1.0 in /Users/pangmengting/venv/lib/python3.10/site-packages (from langchain==0.2.6) (8.2.3)\r\n",
      "Requirement already satisfied: jsonpatch<2.0,>=1.33 in /Users/pangmengting/venv/lib/python3.10/site-packages (from langchain_core==0.2.10) (1.33)\r\n",
      "Requirement already satisfied: packaging<25,>=23.2 in /Users/pangmengting/venv/lib/python3.10/site-packages (from langchain_core==0.2.10) (23.2)\r\n",
      "Requirement already satisfied: dataclasses-json<0.7,>=0.5.7 in /Users/pangmengting/venv/lib/python3.10/site-packages (from langchain-community==0.2.6) (0.6.7)\r\n",
      "Requirement already satisfied: aiosignal>=1.1.2 in /Users/pangmengting/venv/lib/python3.10/site-packages (from aiohttp<4.0.0,>=3.8.3->langchain==0.2.6) (1.3.1)\r\n",
      "Requirement already satisfied: attrs>=17.3.0 in /Users/pangmengting/venv/lib/python3.10/site-packages (from aiohttp<4.0.0,>=3.8.3->langchain==0.2.6) (23.1.0)\r\n",
      "Requirement already satisfied: frozenlist>=1.1.1 in /Users/pangmengting/venv/lib/python3.10/site-packages (from aiohttp<4.0.0,>=3.8.3->langchain==0.2.6) (1.4.0)\r\n",
      "Requirement already satisfied: multidict<7.0,>=4.5 in /Users/pangmengting/venv/lib/python3.10/site-packages (from aiohttp<4.0.0,>=3.8.3->langchain==0.2.6) (6.0.4)\r\n",
      "Requirement already satisfied: yarl<2.0,>=1.0 in /Users/pangmengting/venv/lib/python3.10/site-packages (from aiohttp<4.0.0,>=3.8.3->langchain==0.2.6) (1.9.2)\r\n",
      "Requirement already satisfied: marshmallow<4.0.0,>=3.18.0 in /Users/pangmengting/venv/lib/python3.10/site-packages (from dataclasses-json<0.7,>=0.5.7->langchain-community==0.2.6) (3.19.0)\r\n",
      "Requirement already satisfied: typing-inspect<1,>=0.4.0 in /Users/pangmengting/venv/lib/python3.10/site-packages (from dataclasses-json<0.7,>=0.5.7->langchain-community==0.2.6) (0.9.0)\r\n",
      "Requirement already satisfied: jsonpointer>=1.9 in /Users/pangmengting/venv/lib/python3.10/site-packages (from jsonpatch<2.0,>=1.33->langchain_core==0.2.10) (2.4)\r\n",
      "Requirement already satisfied: orjson<4.0.0,>=3.9.14 in /Users/pangmengting/venv/lib/python3.10/site-packages (from langsmith<0.2.0,>=0.1.17->langchain==0.2.6) (3.10.5)\r\n",
      "Requirement already satisfied: annotated-types>=0.4.0 in /Users/pangmengting/venv/lib/python3.10/site-packages (from pydantic<3,>=1->langchain==0.2.6) (0.6.0)\r\n",
      "Requirement already satisfied: pydantic-core==2.16.3 in /Users/pangmengting/venv/lib/python3.10/site-packages (from pydantic<3,>=1->langchain==0.2.6) (2.16.3)\r\n",
      "Requirement already satisfied: typing-extensions>=4.6.1 in /Users/pangmengting/venv/lib/python3.10/site-packages (from pydantic<3,>=1->langchain==0.2.6) (4.10.0)\r\n",
      "Requirement already satisfied: charset-normalizer<4,>=2 in /Users/pangmengting/venv/lib/python3.10/site-packages (from requests<3,>=2->langchain==0.2.6) (3.2.0)\r\n",
      "Requirement already satisfied: idna<4,>=2.5 in /Users/pangmengting/venv/lib/python3.10/site-packages (from requests<3,>=2->langchain==0.2.6) (3.4)\r\n",
      "Requirement already satisfied: urllib3<3,>=1.21.1 in /Users/pangmengting/venv/lib/python3.10/site-packages (from requests<3,>=2->langchain==0.2.6) (2.2.1)\r\n",
      "Requirement already satisfied: certifi>=2017.4.17 in /Users/pangmengting/venv/lib/python3.10/site-packages (from requests<3,>=2->langchain==0.2.6) (2024.6.2)\r\n",
      "Requirement already satisfied: mypy-extensions>=0.3.0 in /Users/pangmengting/venv/lib/python3.10/site-packages (from typing-inspect<1,>=0.4.0->dataclasses-json<0.7,>=0.5.7->langchain-community==0.2.6) (1.0.0)\r\n",
      "\r\n",
      "\u001B[1m[\u001B[0m\u001B[34;49mnotice\u001B[0m\u001B[1;39;49m]\u001B[0m\u001B[39;49m A new release of pip is available: \u001B[0m\u001B[31;49m24.0\u001B[0m\u001B[39;49m -> \u001B[0m\u001B[32;49m24.1.1\u001B[0m\r\n",
      "\u001B[1m[\u001B[0m\u001B[34;49mnotice\u001B[0m\u001B[1;39;49m]\u001B[0m\u001B[39;49m To update, run: \u001B[0m\u001B[32;49mpip install --upgrade pip\u001B[0m\r\n"
     ]
    }
   ],
   "source": [
    "# !pip install --upgrade langchain==0.2.6\n",
    "# !pip install --upgrade langchain_core==0.2.10\n",
    "# !pip install --upgrade langchain-community==0.2.6\n",
    "# !pip install --upgrade langchain-experimental==0.0.62\n",
    "\n",
    "# !pip install --upgrade langchain==0.2.6 langchain_core==0.2.10 langchain-community==0.2.6 langchain-experimental==0.0.62"
   ],
   "metadata": {
    "collapsed": false,
    "ExecuteTime": {
     "end_time": "2024-07-03T08:03:21.282153Z",
     "start_time": "2024-07-03T08:03:18.760328Z"
    }
   },
   "id": "e1e7187439ecc51e",
   "execution_count": 4
  },
  {
   "cell_type": "code",
   "outputs": [
    {
     "name": "stdout",
     "output_type": "stream",
     "text": [
      "Looking in indexes: https://pypi.tuna.tsinghua.edu.cn/simple\r\n",
      "Requirement already satisfied: langchain-openai==0.1.14 in /Users/pangmengting/venv/lib/python3.10/site-packages (0.1.14)\r\n",
      "Requirement already satisfied: langchain-core<0.3,>=0.2.2 in /Users/pangmengting/venv/lib/python3.10/site-packages (from langchain-openai==0.1.14) (0.2.10)\r\n",
      "Requirement already satisfied: openai<2.0.0,>=1.32.0 in /Users/pangmengting/venv/lib/python3.10/site-packages (from langchain-openai==0.1.14) (1.33.0)\r\n",
      "Requirement already satisfied: tiktoken<1,>=0.7 in /Users/pangmengting/venv/lib/python3.10/site-packages (from langchain-openai==0.1.14) (0.7.0)\r\n",
      "Requirement already satisfied: PyYAML>=5.3 in /Users/pangmengting/venv/lib/python3.10/site-packages (from langchain-core<0.3,>=0.2.2->langchain-openai==0.1.14) (6.0.1)\r\n",
      "Requirement already satisfied: jsonpatch<2.0,>=1.33 in /Users/pangmengting/venv/lib/python3.10/site-packages (from langchain-core<0.3,>=0.2.2->langchain-openai==0.1.14) (1.33)\r\n",
      "Requirement already satisfied: langsmith<0.2.0,>=0.1.75 in /Users/pangmengting/venv/lib/python3.10/site-packages (from langchain-core<0.3,>=0.2.2->langchain-openai==0.1.14) (0.1.83)\r\n",
      "Requirement already satisfied: packaging<25,>=23.2 in /Users/pangmengting/venv/lib/python3.10/site-packages (from langchain-core<0.3,>=0.2.2->langchain-openai==0.1.14) (23.2)\r\n",
      "Requirement already satisfied: pydantic<3,>=1 in /Users/pangmengting/venv/lib/python3.10/site-packages (from langchain-core<0.3,>=0.2.2->langchain-openai==0.1.14) (2.6.4)\r\n",
      "Requirement already satisfied: tenacity!=8.4.0,<9.0.0,>=8.1.0 in /Users/pangmengting/venv/lib/python3.10/site-packages (from langchain-core<0.3,>=0.2.2->langchain-openai==0.1.14) (8.2.3)\r\n",
      "Requirement already satisfied: anyio<5,>=3.5.0 in /Users/pangmengting/venv/lib/python3.10/site-packages (from openai<2.0.0,>=1.32.0->langchain-openai==0.1.14) (3.7.1)\r\n",
      "Requirement already satisfied: distro<2,>=1.7.0 in /Users/pangmengting/venv/lib/python3.10/site-packages (from openai<2.0.0,>=1.32.0->langchain-openai==0.1.14) (1.8.0)\r\n",
      "Requirement already satisfied: httpx<1,>=0.23.0 in /Users/pangmengting/venv/lib/python3.10/site-packages (from openai<2.0.0,>=1.32.0->langchain-openai==0.1.14) (0.27.0)\r\n",
      "Requirement already satisfied: sniffio in /Users/pangmengting/venv/lib/python3.10/site-packages (from openai<2.0.0,>=1.32.0->langchain-openai==0.1.14) (1.3.0)\r\n",
      "Requirement already satisfied: tqdm>4 in /Users/pangmengting/venv/lib/python3.10/site-packages (from openai<2.0.0,>=1.32.0->langchain-openai==0.1.14) (4.66.4)\r\n",
      "Requirement already satisfied: typing-extensions<5,>=4.7 in /Users/pangmengting/venv/lib/python3.10/site-packages (from openai<2.0.0,>=1.32.0->langchain-openai==0.1.14) (4.10.0)\r\n",
      "Requirement already satisfied: regex>=2022.1.18 in /Users/pangmengting/venv/lib/python3.10/site-packages (from tiktoken<1,>=0.7->langchain-openai==0.1.14) (2023.6.3)\r\n",
      "Requirement already satisfied: requests>=2.26.0 in /Users/pangmengting/venv/lib/python3.10/site-packages (from tiktoken<1,>=0.7->langchain-openai==0.1.14) (2.31.0)\r\n",
      "Requirement already satisfied: idna>=2.8 in /Users/pangmengting/venv/lib/python3.10/site-packages (from anyio<5,>=3.5.0->openai<2.0.0,>=1.32.0->langchain-openai==0.1.14) (3.4)\r\n",
      "Requirement already satisfied: exceptiongroup in /Users/pangmengting/venv/lib/python3.10/site-packages (from anyio<5,>=3.5.0->openai<2.0.0,>=1.32.0->langchain-openai==0.1.14) (1.1.2)\r\n",
      "Requirement already satisfied: certifi in /Users/pangmengting/venv/lib/python3.10/site-packages (from httpx<1,>=0.23.0->openai<2.0.0,>=1.32.0->langchain-openai==0.1.14) (2024.6.2)\r\n",
      "Requirement already satisfied: httpcore==1.* in /Users/pangmengting/venv/lib/python3.10/site-packages (from httpx<1,>=0.23.0->openai<2.0.0,>=1.32.0->langchain-openai==0.1.14) (1.0.4)\r\n",
      "Requirement already satisfied: h11<0.15,>=0.13 in /Users/pangmengting/venv/lib/python3.10/site-packages (from httpcore==1.*->httpx<1,>=0.23.0->openai<2.0.0,>=1.32.0->langchain-openai==0.1.14) (0.14.0)\r\n",
      "Requirement already satisfied: jsonpointer>=1.9 in /Users/pangmengting/venv/lib/python3.10/site-packages (from jsonpatch<2.0,>=1.33->langchain-core<0.3,>=0.2.2->langchain-openai==0.1.14) (2.4)\r\n",
      "Requirement already satisfied: orjson<4.0.0,>=3.9.14 in /Users/pangmengting/venv/lib/python3.10/site-packages (from langsmith<0.2.0,>=0.1.75->langchain-core<0.3,>=0.2.2->langchain-openai==0.1.14) (3.10.5)\r\n",
      "Requirement already satisfied: annotated-types>=0.4.0 in /Users/pangmengting/venv/lib/python3.10/site-packages (from pydantic<3,>=1->langchain-core<0.3,>=0.2.2->langchain-openai==0.1.14) (0.6.0)\r\n",
      "Requirement already satisfied: pydantic-core==2.16.3 in /Users/pangmengting/venv/lib/python3.10/site-packages (from pydantic<3,>=1->langchain-core<0.3,>=0.2.2->langchain-openai==0.1.14) (2.16.3)\r\n",
      "Requirement already satisfied: charset-normalizer<4,>=2 in /Users/pangmengting/venv/lib/python3.10/site-packages (from requests>=2.26.0->tiktoken<1,>=0.7->langchain-openai==0.1.14) (3.2.0)\r\n",
      "Requirement already satisfied: urllib3<3,>=1.21.1 in /Users/pangmengting/venv/lib/python3.10/site-packages (from requests>=2.26.0->tiktoken<1,>=0.7->langchain-openai==0.1.14) (2.2.1)\r\n",
      "\r\n",
      "\u001B[1m[\u001B[0m\u001B[34;49mnotice\u001B[0m\u001B[1;39;49m]\u001B[0m\u001B[39;49m A new release of pip is available: \u001B[0m\u001B[31;49m24.0\u001B[0m\u001B[39;49m -> \u001B[0m\u001B[32;49m24.1.1\u001B[0m\r\n",
      "\u001B[1m[\u001B[0m\u001B[34;49mnotice\u001B[0m\u001B[1;39;49m]\u001B[0m\u001B[39;49m To update, run: \u001B[0m\u001B[32;49mpip install --upgrade pip\u001B[0m\r\n"
     ]
    }
   ],
   "source": [
    "# !pip install --upgrade langchain-openai==0.1.14\n",
    "# !pip install --upgrade langsmith==0.1.83\n"
   ],
   "metadata": {
    "collapsed": false,
    "ExecuteTime": {
     "end_time": "2024-07-03T08:03:46.761898Z",
     "start_time": "2024-07-03T08:03:44.954211Z"
    }
   },
   "id": "d4fd69a8860385b2",
   "execution_count": 5
  },
  {
   "cell_type": "code",
   "outputs": [
    {
     "name": "stdout",
     "output_type": "stream",
     "text": [
      "Looking in indexes: https://pypi.tuna.tsinghua.edu.cn/simple\r\n",
      "Requirement already satisfied: langchain==0.1.20 in /Users/pangmengting/venv/lib/python3.10/site-packages (0.1.20)\r\n",
      "Requirement already satisfied: PyYAML>=5.3 in /Users/pangmengting/venv/lib/python3.10/site-packages (from langchain==0.1.20) (6.0.1)\r\n",
      "Requirement already satisfied: SQLAlchemy<3,>=1.4 in /Users/pangmengting/venv/lib/python3.10/site-packages (from langchain==0.1.20) (2.0.31)\r\n",
      "Requirement already satisfied: aiohttp<4.0.0,>=3.8.3 in /Users/pangmengting/venv/lib/python3.10/site-packages (from langchain==0.1.20) (3.9.5)\r\n",
      "Requirement already satisfied: async-timeout<5.0.0,>=4.0.0 in /Users/pangmengting/venv/lib/python3.10/site-packages (from langchain==0.1.20) (4.0.2)\r\n",
      "Requirement already satisfied: dataclasses-json<0.7,>=0.5.7 in /Users/pangmengting/venv/lib/python3.10/site-packages (from langchain==0.1.20) (0.6.7)\r\n",
      "Requirement already satisfied: langchain-community<0.1,>=0.0.38 in /Users/pangmengting/venv/lib/python3.10/site-packages (from langchain==0.1.20) (0.0.38)\r\n",
      "Requirement already satisfied: langchain-core<0.2.0,>=0.1.52 in /Users/pangmengting/venv/lib/python3.10/site-packages (from langchain==0.1.20) (0.1.52)\r\n",
      "Requirement already satisfied: langchain-text-splitters<0.1,>=0.0.1 in /Users/pangmengting/venv/lib/python3.10/site-packages (from langchain==0.1.20) (0.0.2)\r\n",
      "Requirement already satisfied: langsmith<0.2.0,>=0.1.17 in /Users/pangmengting/venv/lib/python3.10/site-packages (from langchain==0.1.20) (0.1.77)\r\n",
      "Requirement already satisfied: numpy<2,>=1 in /Users/pangmengting/venv/lib/python3.10/site-packages (from langchain==0.1.20) (1.25.1)\r\n",
      "Requirement already satisfied: pydantic<3,>=1 in /Users/pangmengting/venv/lib/python3.10/site-packages (from langchain==0.1.20) (2.6.4)\r\n",
      "Requirement already satisfied: requests<3,>=2 in /Users/pangmengting/venv/lib/python3.10/site-packages (from langchain==0.1.20) (2.31.0)\r\n",
      "Requirement already satisfied: tenacity<9.0.0,>=8.1.0 in /Users/pangmengting/venv/lib/python3.10/site-packages (from langchain==0.1.20) (8.2.3)\r\n",
      "Requirement already satisfied: aiosignal>=1.1.2 in /Users/pangmengting/venv/lib/python3.10/site-packages (from aiohttp<4.0.0,>=3.8.3->langchain==0.1.20) (1.3.1)\r\n",
      "Requirement already satisfied: attrs>=17.3.0 in /Users/pangmengting/venv/lib/python3.10/site-packages (from aiohttp<4.0.0,>=3.8.3->langchain==0.1.20) (23.1.0)\r\n",
      "Requirement already satisfied: frozenlist>=1.1.1 in /Users/pangmengting/venv/lib/python3.10/site-packages (from aiohttp<4.0.0,>=3.8.3->langchain==0.1.20) (1.4.0)\r\n",
      "Requirement already satisfied: multidict<7.0,>=4.5 in /Users/pangmengting/venv/lib/python3.10/site-packages (from aiohttp<4.0.0,>=3.8.3->langchain==0.1.20) (6.0.4)\r\n",
      "Requirement already satisfied: yarl<2.0,>=1.0 in /Users/pangmengting/venv/lib/python3.10/site-packages (from aiohttp<4.0.0,>=3.8.3->langchain==0.1.20) (1.9.2)\r\n",
      "Requirement already satisfied: marshmallow<4.0.0,>=3.18.0 in /Users/pangmengting/venv/lib/python3.10/site-packages (from dataclasses-json<0.7,>=0.5.7->langchain==0.1.20) (3.19.0)\r\n",
      "Requirement already satisfied: typing-inspect<1,>=0.4.0 in /Users/pangmengting/venv/lib/python3.10/site-packages (from dataclasses-json<0.7,>=0.5.7->langchain==0.1.20) (0.9.0)\r\n",
      "Requirement already satisfied: jsonpatch<2.0,>=1.33 in /Users/pangmengting/venv/lib/python3.10/site-packages (from langchain-core<0.2.0,>=0.1.52->langchain==0.1.20) (1.33)\r\n",
      "Requirement already satisfied: packaging<24.0,>=23.2 in /Users/pangmengting/venv/lib/python3.10/site-packages (from langchain-core<0.2.0,>=0.1.52->langchain==0.1.20) (23.2)\r\n",
      "Requirement already satisfied: orjson<4.0.0,>=3.9.14 in /Users/pangmengting/venv/lib/python3.10/site-packages (from langsmith<0.2.0,>=0.1.17->langchain==0.1.20) (3.10.5)\r\n",
      "Requirement already satisfied: annotated-types>=0.4.0 in /Users/pangmengting/venv/lib/python3.10/site-packages (from pydantic<3,>=1->langchain==0.1.20) (0.6.0)\r\n",
      "Requirement already satisfied: pydantic-core==2.16.3 in /Users/pangmengting/venv/lib/python3.10/site-packages (from pydantic<3,>=1->langchain==0.1.20) (2.16.3)\r\n",
      "Requirement already satisfied: typing-extensions>=4.6.1 in /Users/pangmengting/venv/lib/python3.10/site-packages (from pydantic<3,>=1->langchain==0.1.20) (4.10.0)\r\n",
      "Requirement already satisfied: charset-normalizer<4,>=2 in /Users/pangmengting/venv/lib/python3.10/site-packages (from requests<3,>=2->langchain==0.1.20) (3.2.0)\r\n",
      "Requirement already satisfied: idna<4,>=2.5 in /Users/pangmengting/venv/lib/python3.10/site-packages (from requests<3,>=2->langchain==0.1.20) (3.4)\r\n",
      "Requirement already satisfied: urllib3<3,>=1.21.1 in /Users/pangmengting/venv/lib/python3.10/site-packages (from requests<3,>=2->langchain==0.1.20) (2.2.1)\r\n",
      "Requirement already satisfied: certifi>=2017.4.17 in /Users/pangmengting/venv/lib/python3.10/site-packages (from requests<3,>=2->langchain==0.1.20) (2024.6.2)\r\n",
      "Requirement already satisfied: jsonpointer>=1.9 in /Users/pangmengting/venv/lib/python3.10/site-packages (from jsonpatch<2.0,>=1.33->langchain-core<0.2.0,>=0.1.52->langchain==0.1.20) (2.4)\r\n",
      "Requirement already satisfied: mypy-extensions>=0.3.0 in /Users/pangmengting/venv/lib/python3.10/site-packages (from typing-inspect<1,>=0.4.0->dataclasses-json<0.7,>=0.5.7->langchain==0.1.20) (1.0.0)\r\n",
      "\r\n",
      "\u001B[1m[\u001B[0m\u001B[34;49mnotice\u001B[0m\u001B[1;39;49m]\u001B[0m\u001B[39;49m A new release of pip is available: \u001B[0m\u001B[31;49m24.0\u001B[0m\u001B[39;49m -> \u001B[0m\u001B[32;49m24.1.1\u001B[0m\r\n",
      "\u001B[1m[\u001B[0m\u001B[34;49mnotice\u001B[0m\u001B[1;39;49m]\u001B[0m\u001B[39;49m To update, run: \u001B[0m\u001B[32;49mpip install --upgrade pip\u001B[0m\r\n",
      "Looking in indexes: https://pypi.tuna.tsinghua.edu.cn/simple\r\n",
      "Requirement already satisfied: langchain_core==0.1.52 in /Users/pangmengting/venv/lib/python3.10/site-packages (0.1.52)\r\n",
      "Requirement already satisfied: PyYAML>=5.3 in /Users/pangmengting/venv/lib/python3.10/site-packages (from langchain_core==0.1.52) (6.0.1)\r\n",
      "Requirement already satisfied: jsonpatch<2.0,>=1.33 in /Users/pangmengting/venv/lib/python3.10/site-packages (from langchain_core==0.1.52) (1.33)\r\n",
      "Requirement already satisfied: langsmith<0.2.0,>=0.1.0 in /Users/pangmengting/venv/lib/python3.10/site-packages (from langchain_core==0.1.52) (0.1.77)\r\n",
      "Requirement already satisfied: packaging<24.0,>=23.2 in /Users/pangmengting/venv/lib/python3.10/site-packages (from langchain_core==0.1.52) (23.2)\r\n",
      "Requirement already satisfied: pydantic<3,>=1 in /Users/pangmengting/venv/lib/python3.10/site-packages (from langchain_core==0.1.52) (2.6.4)\r\n",
      "Requirement already satisfied: tenacity<9.0.0,>=8.1.0 in /Users/pangmengting/venv/lib/python3.10/site-packages (from langchain_core==0.1.52) (8.2.3)\r\n",
      "Requirement already satisfied: jsonpointer>=1.9 in /Users/pangmengting/venv/lib/python3.10/site-packages (from jsonpatch<2.0,>=1.33->langchain_core==0.1.52) (2.4)\r\n",
      "Requirement already satisfied: orjson<4.0.0,>=3.9.14 in /Users/pangmengting/venv/lib/python3.10/site-packages (from langsmith<0.2.0,>=0.1.0->langchain_core==0.1.52) (3.10.5)\r\n",
      "Requirement already satisfied: requests<3,>=2 in /Users/pangmengting/venv/lib/python3.10/site-packages (from langsmith<0.2.0,>=0.1.0->langchain_core==0.1.52) (2.31.0)\r\n",
      "Requirement already satisfied: annotated-types>=0.4.0 in /Users/pangmengting/venv/lib/python3.10/site-packages (from pydantic<3,>=1->langchain_core==0.1.52) (0.6.0)\r\n",
      "Requirement already satisfied: pydantic-core==2.16.3 in /Users/pangmengting/venv/lib/python3.10/site-packages (from pydantic<3,>=1->langchain_core==0.1.52) (2.16.3)\r\n",
      "Requirement already satisfied: typing-extensions>=4.6.1 in /Users/pangmengting/venv/lib/python3.10/site-packages (from pydantic<3,>=1->langchain_core==0.1.52) (4.10.0)\r\n",
      "Requirement already satisfied: charset-normalizer<4,>=2 in /Users/pangmengting/venv/lib/python3.10/site-packages (from requests<3,>=2->langsmith<0.2.0,>=0.1.0->langchain_core==0.1.52) (3.2.0)\r\n",
      "Requirement already satisfied: idna<4,>=2.5 in /Users/pangmengting/venv/lib/python3.10/site-packages (from requests<3,>=2->langsmith<0.2.0,>=0.1.0->langchain_core==0.1.52) (3.4)\r\n",
      "Requirement already satisfied: urllib3<3,>=1.21.1 in /Users/pangmengting/venv/lib/python3.10/site-packages (from requests<3,>=2->langsmith<0.2.0,>=0.1.0->langchain_core==0.1.52) (2.2.1)\r\n",
      "Requirement already satisfied: certifi>=2017.4.17 in /Users/pangmengting/venv/lib/python3.10/site-packages (from requests<3,>=2->langsmith<0.2.0,>=0.1.0->langchain_core==0.1.52) (2024.6.2)\r\n",
      "\r\n",
      "\u001B[1m[\u001B[0m\u001B[34;49mnotice\u001B[0m\u001B[1;39;49m]\u001B[0m\u001B[39;49m A new release of pip is available: \u001B[0m\u001B[31;49m24.0\u001B[0m\u001B[39;49m -> \u001B[0m\u001B[32;49m24.1.1\u001B[0m\r\n",
      "\u001B[1m[\u001B[0m\u001B[34;49mnotice\u001B[0m\u001B[1;39;49m]\u001B[0m\u001B[39;49m To update, run: \u001B[0m\u001B[32;49mpip install --upgrade pip\u001B[0m\r\n",
      "Looking in indexes: https://pypi.tuna.tsinghua.edu.cn/simple\r\n",
      "Requirement already satisfied: langchain-community==0.0.38 in /Users/pangmengting/venv/lib/python3.10/site-packages (0.0.38)\r\n",
      "Requirement already satisfied: PyYAML>=5.3 in /Users/pangmengting/venv/lib/python3.10/site-packages (from langchain-community==0.0.38) (6.0.1)\r\n",
      "Requirement already satisfied: SQLAlchemy<3,>=1.4 in /Users/pangmengting/venv/lib/python3.10/site-packages (from langchain-community==0.0.38) (2.0.31)\r\n",
      "Requirement already satisfied: aiohttp<4.0.0,>=3.8.3 in /Users/pangmengting/venv/lib/python3.10/site-packages (from langchain-community==0.0.38) (3.9.5)\r\n",
      "Requirement already satisfied: dataclasses-json<0.7,>=0.5.7 in /Users/pangmengting/venv/lib/python3.10/site-packages (from langchain-community==0.0.38) (0.6.7)\r\n",
      "Requirement already satisfied: langchain-core<0.2.0,>=0.1.52 in /Users/pangmengting/venv/lib/python3.10/site-packages (from langchain-community==0.0.38) (0.1.52)\r\n",
      "Requirement already satisfied: langsmith<0.2.0,>=0.1.0 in /Users/pangmengting/venv/lib/python3.10/site-packages (from langchain-community==0.0.38) (0.1.77)\r\n",
      "Requirement already satisfied: numpy<2,>=1 in /Users/pangmengting/venv/lib/python3.10/site-packages (from langchain-community==0.0.38) (1.25.1)\r\n",
      "Requirement already satisfied: requests<3,>=2 in /Users/pangmengting/venv/lib/python3.10/site-packages (from langchain-community==0.0.38) (2.31.0)\r\n",
      "Requirement already satisfied: tenacity<9.0.0,>=8.1.0 in /Users/pangmengting/venv/lib/python3.10/site-packages (from langchain-community==0.0.38) (8.2.3)\r\n",
      "Requirement already satisfied: aiosignal>=1.1.2 in /Users/pangmengting/venv/lib/python3.10/site-packages (from aiohttp<4.0.0,>=3.8.3->langchain-community==0.0.38) (1.3.1)\r\n",
      "Requirement already satisfied: attrs>=17.3.0 in /Users/pangmengting/venv/lib/python3.10/site-packages (from aiohttp<4.0.0,>=3.8.3->langchain-community==0.0.38) (23.1.0)\r\n",
      "Requirement already satisfied: frozenlist>=1.1.1 in /Users/pangmengting/venv/lib/python3.10/site-packages (from aiohttp<4.0.0,>=3.8.3->langchain-community==0.0.38) (1.4.0)\r\n",
      "Requirement already satisfied: multidict<7.0,>=4.5 in /Users/pangmengting/venv/lib/python3.10/site-packages (from aiohttp<4.0.0,>=3.8.3->langchain-community==0.0.38) (6.0.4)\r\n",
      "Requirement already satisfied: yarl<2.0,>=1.0 in /Users/pangmengting/venv/lib/python3.10/site-packages (from aiohttp<4.0.0,>=3.8.3->langchain-community==0.0.38) (1.9.2)\r\n",
      "Requirement already satisfied: async-timeout<5.0,>=4.0 in /Users/pangmengting/venv/lib/python3.10/site-packages (from aiohttp<4.0.0,>=3.8.3->langchain-community==0.0.38) (4.0.2)\r\n",
      "Requirement already satisfied: marshmallow<4.0.0,>=3.18.0 in /Users/pangmengting/venv/lib/python3.10/site-packages (from dataclasses-json<0.7,>=0.5.7->langchain-community==0.0.38) (3.19.0)\r\n",
      "Requirement already satisfied: typing-inspect<1,>=0.4.0 in /Users/pangmengting/venv/lib/python3.10/site-packages (from dataclasses-json<0.7,>=0.5.7->langchain-community==0.0.38) (0.9.0)\r\n",
      "Requirement already satisfied: jsonpatch<2.0,>=1.33 in /Users/pangmengting/venv/lib/python3.10/site-packages (from langchain-core<0.2.0,>=0.1.52->langchain-community==0.0.38) (1.33)\r\n",
      "Requirement already satisfied: packaging<24.0,>=23.2 in /Users/pangmengting/venv/lib/python3.10/site-packages (from langchain-core<0.2.0,>=0.1.52->langchain-community==0.0.38) (23.2)\r\n",
      "Requirement already satisfied: pydantic<3,>=1 in /Users/pangmengting/venv/lib/python3.10/site-packages (from langchain-core<0.2.0,>=0.1.52->langchain-community==0.0.38) (2.6.4)\r\n",
      "Requirement already satisfied: orjson<4.0.0,>=3.9.14 in /Users/pangmengting/venv/lib/python3.10/site-packages (from langsmith<0.2.0,>=0.1.0->langchain-community==0.0.38) (3.10.5)\r\n",
      "Requirement already satisfied: charset-normalizer<4,>=2 in /Users/pangmengting/venv/lib/python3.10/site-packages (from requests<3,>=2->langchain-community==0.0.38) (3.2.0)\r\n",
      "Requirement already satisfied: idna<4,>=2.5 in /Users/pangmengting/venv/lib/python3.10/site-packages (from requests<3,>=2->langchain-community==0.0.38) (3.4)\r\n",
      "Requirement already satisfied: urllib3<3,>=1.21.1 in /Users/pangmengting/venv/lib/python3.10/site-packages (from requests<3,>=2->langchain-community==0.0.38) (2.2.1)\r\n",
      "Requirement already satisfied: certifi>=2017.4.17 in /Users/pangmengting/venv/lib/python3.10/site-packages (from requests<3,>=2->langchain-community==0.0.38) (2024.6.2)\r\n",
      "Requirement already satisfied: typing-extensions>=4.6.0 in /Users/pangmengting/venv/lib/python3.10/site-packages (from SQLAlchemy<3,>=1.4->langchain-community==0.0.38) (4.10.0)\r\n",
      "Requirement already satisfied: jsonpointer>=1.9 in /Users/pangmengting/venv/lib/python3.10/site-packages (from jsonpatch<2.0,>=1.33->langchain-core<0.2.0,>=0.1.52->langchain-community==0.0.38) (2.4)\r\n",
      "Requirement already satisfied: annotated-types>=0.4.0 in /Users/pangmengting/venv/lib/python3.10/site-packages (from pydantic<3,>=1->langchain-core<0.2.0,>=0.1.52->langchain-community==0.0.38) (0.6.0)\r\n",
      "Requirement already satisfied: pydantic-core==2.16.3 in /Users/pangmengting/venv/lib/python3.10/site-packages (from pydantic<3,>=1->langchain-core<0.2.0,>=0.1.52->langchain-community==0.0.38) (2.16.3)\r\n",
      "Requirement already satisfied: mypy-extensions>=0.3.0 in /Users/pangmengting/venv/lib/python3.10/site-packages (from typing-inspect<1,>=0.4.0->dataclasses-json<0.7,>=0.5.7->langchain-community==0.0.38) (1.0.0)\r\n",
      "\r\n",
      "\u001B[1m[\u001B[0m\u001B[34;49mnotice\u001B[0m\u001B[1;39;49m]\u001B[0m\u001B[39;49m A new release of pip is available: \u001B[0m\u001B[31;49m24.0\u001B[0m\u001B[39;49m -> \u001B[0m\u001B[32;49m24.1.1\u001B[0m\r\n",
      "\u001B[1m[\u001B[0m\u001B[34;49mnotice\u001B[0m\u001B[1;39;49m]\u001B[0m\u001B[39;49m To update, run: \u001B[0m\u001B[32;49mpip install --upgrade pip\u001B[0m\r\n",
      "Looking in indexes: https://pypi.tuna.tsinghua.edu.cn/simple\r\n",
      "Requirement already satisfied: langchain-experimental==0.0.55 in /Users/pangmengting/venv/lib/python3.10/site-packages (0.0.55)\r\n",
      "Requirement already satisfied: langchain<0.2.0,>=0.1.13 in /Users/pangmengting/venv/lib/python3.10/site-packages (from langchain-experimental==0.0.55) (0.1.20)\r\n",
      "Requirement already satisfied: langchain-core<0.2.0,>=0.1.33 in /Users/pangmengting/venv/lib/python3.10/site-packages (from langchain-experimental==0.0.55) (0.1.52)\r\n",
      "Requirement already satisfied: PyYAML>=5.3 in /Users/pangmengting/venv/lib/python3.10/site-packages (from langchain<0.2.0,>=0.1.13->langchain-experimental==0.0.55) (6.0.1)\r\n",
      "Requirement already satisfied: SQLAlchemy<3,>=1.4 in /Users/pangmengting/venv/lib/python3.10/site-packages (from langchain<0.2.0,>=0.1.13->langchain-experimental==0.0.55) (2.0.31)\r\n",
      "Requirement already satisfied: aiohttp<4.0.0,>=3.8.3 in /Users/pangmengting/venv/lib/python3.10/site-packages (from langchain<0.2.0,>=0.1.13->langchain-experimental==0.0.55) (3.9.5)\r\n",
      "Requirement already satisfied: async-timeout<5.0.0,>=4.0.0 in /Users/pangmengting/venv/lib/python3.10/site-packages (from langchain<0.2.0,>=0.1.13->langchain-experimental==0.0.55) (4.0.2)\r\n",
      "Requirement already satisfied: dataclasses-json<0.7,>=0.5.7 in /Users/pangmengting/venv/lib/python3.10/site-packages (from langchain<0.2.0,>=0.1.13->langchain-experimental==0.0.55) (0.6.7)\r\n",
      "Requirement already satisfied: langchain-community<0.1,>=0.0.38 in /Users/pangmengting/venv/lib/python3.10/site-packages (from langchain<0.2.0,>=0.1.13->langchain-experimental==0.0.55) (0.0.38)\r\n",
      "Requirement already satisfied: langchain-text-splitters<0.1,>=0.0.1 in /Users/pangmengting/venv/lib/python3.10/site-packages (from langchain<0.2.0,>=0.1.13->langchain-experimental==0.0.55) (0.0.2)\r\n",
      "Requirement already satisfied: langsmith<0.2.0,>=0.1.17 in /Users/pangmengting/venv/lib/python3.10/site-packages (from langchain<0.2.0,>=0.1.13->langchain-experimental==0.0.55) (0.1.77)\r\n",
      "Requirement already satisfied: numpy<2,>=1 in /Users/pangmengting/venv/lib/python3.10/site-packages (from langchain<0.2.0,>=0.1.13->langchain-experimental==0.0.55) (1.25.1)\r\n",
      "Requirement already satisfied: pydantic<3,>=1 in /Users/pangmengting/venv/lib/python3.10/site-packages (from langchain<0.2.0,>=0.1.13->langchain-experimental==0.0.55) (2.6.4)\r\n",
      "Requirement already satisfied: requests<3,>=2 in /Users/pangmengting/venv/lib/python3.10/site-packages (from langchain<0.2.0,>=0.1.13->langchain-experimental==0.0.55) (2.31.0)\r\n",
      "Requirement already satisfied: tenacity<9.0.0,>=8.1.0 in /Users/pangmengting/venv/lib/python3.10/site-packages (from langchain<0.2.0,>=0.1.13->langchain-experimental==0.0.55) (8.2.3)\r\n",
      "Requirement already satisfied: jsonpatch<2.0,>=1.33 in /Users/pangmengting/venv/lib/python3.10/site-packages (from langchain-core<0.2.0,>=0.1.33->langchain-experimental==0.0.55) (1.33)\r\n",
      "Requirement already satisfied: packaging<24.0,>=23.2 in /Users/pangmengting/venv/lib/python3.10/site-packages (from langchain-core<0.2.0,>=0.1.33->langchain-experimental==0.0.55) (23.2)\r\n",
      "Requirement already satisfied: aiosignal>=1.1.2 in /Users/pangmengting/venv/lib/python3.10/site-packages (from aiohttp<4.0.0,>=3.8.3->langchain<0.2.0,>=0.1.13->langchain-experimental==0.0.55) (1.3.1)\r\n",
      "Requirement already satisfied: attrs>=17.3.0 in /Users/pangmengting/venv/lib/python3.10/site-packages (from aiohttp<4.0.0,>=3.8.3->langchain<0.2.0,>=0.1.13->langchain-experimental==0.0.55) (23.1.0)\r\n",
      "Requirement already satisfied: frozenlist>=1.1.1 in /Users/pangmengting/venv/lib/python3.10/site-packages (from aiohttp<4.0.0,>=3.8.3->langchain<0.2.0,>=0.1.13->langchain-experimental==0.0.55) (1.4.0)\r\n",
      "Requirement already satisfied: multidict<7.0,>=4.5 in /Users/pangmengting/venv/lib/python3.10/site-packages (from aiohttp<4.0.0,>=3.8.3->langchain<0.2.0,>=0.1.13->langchain-experimental==0.0.55) (6.0.4)\r\n",
      "Requirement already satisfied: yarl<2.0,>=1.0 in /Users/pangmengting/venv/lib/python3.10/site-packages (from aiohttp<4.0.0,>=3.8.3->langchain<0.2.0,>=0.1.13->langchain-experimental==0.0.55) (1.9.2)\r\n",
      "Requirement already satisfied: marshmallow<4.0.0,>=3.18.0 in /Users/pangmengting/venv/lib/python3.10/site-packages (from dataclasses-json<0.7,>=0.5.7->langchain<0.2.0,>=0.1.13->langchain-experimental==0.0.55) (3.19.0)\r\n",
      "Requirement already satisfied: typing-inspect<1,>=0.4.0 in /Users/pangmengting/venv/lib/python3.10/site-packages (from dataclasses-json<0.7,>=0.5.7->langchain<0.2.0,>=0.1.13->langchain-experimental==0.0.55) (0.9.0)\r\n",
      "Requirement already satisfied: jsonpointer>=1.9 in /Users/pangmengting/venv/lib/python3.10/site-packages (from jsonpatch<2.0,>=1.33->langchain-core<0.2.0,>=0.1.33->langchain-experimental==0.0.55) (2.4)\r\n",
      "Requirement already satisfied: orjson<4.0.0,>=3.9.14 in /Users/pangmengting/venv/lib/python3.10/site-packages (from langsmith<0.2.0,>=0.1.17->langchain<0.2.0,>=0.1.13->langchain-experimental==0.0.55) (3.10.5)\r\n",
      "Requirement already satisfied: annotated-types>=0.4.0 in /Users/pangmengting/venv/lib/python3.10/site-packages (from pydantic<3,>=1->langchain<0.2.0,>=0.1.13->langchain-experimental==0.0.55) (0.6.0)\r\n",
      "Requirement already satisfied: pydantic-core==2.16.3 in /Users/pangmengting/venv/lib/python3.10/site-packages (from pydantic<3,>=1->langchain<0.2.0,>=0.1.13->langchain-experimental==0.0.55) (2.16.3)\r\n",
      "Requirement already satisfied: typing-extensions>=4.6.1 in /Users/pangmengting/venv/lib/python3.10/site-packages (from pydantic<3,>=1->langchain<0.2.0,>=0.1.13->langchain-experimental==0.0.55) (4.10.0)\r\n",
      "Requirement already satisfied: charset-normalizer<4,>=2 in /Users/pangmengting/venv/lib/python3.10/site-packages (from requests<3,>=2->langchain<0.2.0,>=0.1.13->langchain-experimental==0.0.55) (3.2.0)\r\n",
      "Requirement already satisfied: idna<4,>=2.5 in /Users/pangmengting/venv/lib/python3.10/site-packages (from requests<3,>=2->langchain<0.2.0,>=0.1.13->langchain-experimental==0.0.55) (3.4)\r\n",
      "Requirement already satisfied: urllib3<3,>=1.21.1 in /Users/pangmengting/venv/lib/python3.10/site-packages (from requests<3,>=2->langchain<0.2.0,>=0.1.13->langchain-experimental==0.0.55) (2.2.1)\r\n",
      "Requirement already satisfied: certifi>=2017.4.17 in /Users/pangmengting/venv/lib/python3.10/site-packages (from requests<3,>=2->langchain<0.2.0,>=0.1.13->langchain-experimental==0.0.55) (2024.6.2)\r\n",
      "Requirement already satisfied: mypy-extensions>=0.3.0 in /Users/pangmengting/venv/lib/python3.10/site-packages (from typing-inspect<1,>=0.4.0->dataclasses-json<0.7,>=0.5.7->langchain<0.2.0,>=0.1.13->langchain-experimental==0.0.55) (1.0.0)\r\n",
      "\r\n",
      "\u001B[1m[\u001B[0m\u001B[34;49mnotice\u001B[0m\u001B[1;39;49m]\u001B[0m\u001B[39;49m A new release of pip is available: \u001B[0m\u001B[31;49m24.0\u001B[0m\u001B[39;49m -> \u001B[0m\u001B[32;49m24.1.1\u001B[0m\r\n",
      "\u001B[1m[\u001B[0m\u001B[34;49mnotice\u001B[0m\u001B[1;39;49m]\u001B[0m\u001B[39;49m To update, run: \u001B[0m\u001B[32;49mpip install --upgrade pip\u001B[0m\r\n"
     ]
    }
   ],
   "source": [
    "# !pip install --upgrade langchain==0.1.20\n",
    "# !pip install --upgrade langchain_core==0.1.52\n",
    "# !pip install --upgrade langchain-community==0.0.38\n",
    "# !pip install --upgrade langchain-experimental==0.0.55"
   ],
   "metadata": {
    "collapsed": false,
    "ExecuteTime": {
     "end_time": "2024-07-03T06:37:13.557069Z",
     "start_time": "2024-07-03T06:37:02.205674Z"
    }
   },
   "id": "11b65b41d8b7326",
   "execution_count": 10
  },
  {
   "cell_type": "code",
   "outputs": [
    {
     "name": "stdout",
     "output_type": "stream",
     "text": [
      "Looking in indexes: https://pypi.tuna.tsinghua.edu.cn/simple\r\n",
      "Collecting Recommenders\r\n",
      "  Downloading https://pypi.tuna.tsinghua.edu.cn/packages/cf/cb/22c4f61a3e33e9905ff2659c2f94b180bfbabc95e28efcda1d67b8340898/recommenders-1.2.0-py3-none-any.whl (356 kB)\r\n",
      "\u001B[2K     \u001B[90m━━━━━━━━━━━━━━━━━━━━━━━━━━━━━━━━━━━━━\u001B[0m \u001B[32m356.0/356.0 kB\u001B[0m \u001B[31m818.0 kB/s\u001B[0m eta \u001B[36m0:00:00\u001B[0ma \u001B[36m0:00:01\u001B[0m\r\n",
      "\u001B[?25hCollecting category-encoders<3,>=2.6.0 (from Recommenders)\r\n",
      "  Downloading https://pypi.tuna.tsinghua.edu.cn/packages/7f/e5/79a62e5c9c9ddbfa9ff5222240d408c1eeea4e38741a0dc8343edc7ef1ec/category_encoders-2.6.3-py2.py3-none-any.whl (81 kB)\r\n",
      "\u001B[2K     \u001B[90m━━━━━━━━━━━━━━━━━━━━━━━━━━━━━━━━━━━━━━━━\u001B[0m \u001B[32m81.9/81.9 kB\u001B[0m \u001B[31m3.4 MB/s\u001B[0m eta \u001B[36m0:00:00\u001B[0m\r\n",
      "\u001B[?25hCollecting cornac<2,>=1.15.2 (from Recommenders)\r\n",
      "  Downloading https://pypi.tuna.tsinghua.edu.cn/packages/b5/e6/11d7ee8267f889932ef3a86cd8a6dcac664c6468518e1b696759de1bad44/cornac-1.18.0.tar.gz (5.8 MB)\r\n",
      "\u001B[2K     \u001B[90m━━━━━━━━━━━━━━━━━━━━━━━━━━━━━━━━━━━━━━━━\u001B[0m \u001B[32m5.8/5.8 MB\u001B[0m \u001B[31m1.5 MB/s\u001B[0m eta \u001B[36m0:00:00\u001B[0ma \u001B[36m0:00:01\u001B[0m0m\r\n",
      "\u001B[?25h  Preparing metadata (setup.py) ... \u001B[?25lerror\r\n",
      "  \u001B[1;31merror\u001B[0m: \u001B[1msubprocess-exited-with-error\u001B[0m\r\n",
      "  \r\n",
      "  \u001B[31m×\u001B[0m \u001B[32mpython setup.py egg_info\u001B[0m did not run successfully.\r\n",
      "  \u001B[31m│\u001B[0m exit code: \u001B[1;36m1\u001B[0m\r\n",
      "  \u001B[31m╰─>\u001B[0m \u001B[31m[2 lines of output]\u001B[0m\r\n",
      "  \u001B[31m   \u001B[0m We need some dependencies to build Cornac.\r\n",
      "  \u001B[31m   \u001B[0m Run: pip3 install Cython numpy scipy\r\n",
      "  \u001B[31m   \u001B[0m \u001B[31m[end of output]\u001B[0m\r\n",
      "  \r\n",
      "  \u001B[1;35mnote\u001B[0m: This error originates from a subprocess, and is likely not a problem with pip.\r\n",
      "\u001B[1;31merror\u001B[0m: \u001B[1mmetadata-generation-failed\u001B[0m\r\n",
      "\r\n",
      "\u001B[31m×\u001B[0m Encountered error while generating package metadata.\r\n",
      "\u001B[31m╰─>\u001B[0m See above for output.\r\n",
      "\r\n",
      "\u001B[1;35mnote\u001B[0m: This is an issue with the package mentioned above, not pip.\r\n",
      "\u001B[1;36mhint\u001B[0m: See above for details.\r\n",
      "\r\n",
      "\u001B[1m[\u001B[0m\u001B[34;49mnotice\u001B[0m\u001B[1;39;49m]\u001B[0m\u001B[39;49m A new release of pip is available: \u001B[0m\u001B[31;49m24.0\u001B[0m\u001B[39;49m -> \u001B[0m\u001B[32;49m24.2\u001B[0m\r\n",
      "\u001B[1m[\u001B[0m\u001B[34;49mnotice\u001B[0m\u001B[1;39;49m]\u001B[0m\u001B[39;49m To update, run: \u001B[0m\u001B[32;49mpip install --upgrade pip\u001B[0m\r\n",
      "\u001B[?25hNote: you may need to restart the kernel to use updated packages.\n"
     ]
    }
   ],
   "source": [
    "# 升级版本： langchain_core\n",
    "# !pip install --upgrade langchain_core\n",
    "# !pip install --upgrade langchain_core==0.2.2\n",
    "# 升级版本： langchain\n",
    "# !pip install --upgrade langchain==0.2.2\n",
    "\n",
    "# !pip install --upgrade langchain-community==0.2.2\n",
    "\n",
    "# !pip install youtube-transcript-api\n",
    "# !pip install pytube\n",
    "\n",
    "# 爬取youtube使用到\n",
    "# !pip install google-api-python-client\n",
    "\n",
    "# 爬取youtube/bilibili使用到\n",
    "# !pip install yt-dlp\n",
    "\n",
    "# 手动指定安卓版本\n",
    "# !pip install websockets==10.3\n",
    "# !pip install httpx==0.23.0\n",
    "\n",
    "# 升级 sentence-transformers\n",
    "# !pip install -U sentence-transformers\n",
    "\n",
    "# 指定 sentence-transformers 版本\n",
    "# !pip install sentence-transformers==2.5.1\n",
    "\n",
    "# 指定 langchain_community版本：0.2.4\n",
    "# !pip install langchain_community==0.2.4\n",
    "\n",
    "\n",
    "# !pip install --upgrade --quiet  tiktoken supabase unstructured\n",
    "\n",
    "# -q: 这是pip的一个可选参数，表示\"quiet\"（安静模式）。它会减少命令执行时输出的信息量，使安装过程更加简洁清晰。\n",
    "# -U: 这是pip的另一个可选参数，表示\"upgrade\"（升级）。它将确保安装的是指定包的最新版本，如果已经安装了旧版本，它将会把旧版本升级到最新版本。\n",
    "# !pip install firecrawl-py faiss-cpu -q -U\n",
    "\n",
    "# 千问\n",
    "# !pip install --upgrade --quiet  dashscope\n",
    "\n",
    "# streamlit\n",
    "# !pip install streamlit\n",
    "# !pip install ollama\n",
    "\n",
    "# pinecone\n",
    "# !pip install pinecone-client\n",
    "\n",
    "# !pip install langchain-pinecone\n",
    "\n",
    "# llama-index\n",
    "# !pip install -q llama-index\n",
    "\n",
    "# rank_bm25\n",
    "# !pip install -q -U  rank_bm25\n",
    "\n",
    "# !pip install -q -U  pypdf\n",
    "\n",
    "# Lark 是一个用于 Python 的解析库，它提供了一种简单而强大的方法来解析复杂的数据结构，特别是用于处理自然语言和配置文件等。\n",
    "# Lark 的核心是一个解析器，它能够将文本（通常是字符串）转换成一个抽象语法树（Abstract Syntax Tree, AST），\n",
    "# 这使得进一步的分析和处理变得更加容易。\n",
    "# !pip install -q -U lark\n",
    "\n",
    "# !pip install -q -U html2text\n",
    "\n",
    "# !pip install -q -U tools\n",
    "\n",
    "# !pip install PySimpleGUI\n",
    "\n",
    "# !pip install -U pipe\n",
    "\n",
    "# matplotlib 是 Python 中一个广泛使用的绘图库。\n",
    "# 它能够创建各种静态、动态和交互式的可视化图表，包括线图、柱状图、饼图、直方图、散点图等等，为数据分析和展示提供了强大的支持。\n",
    "# %pip install matplotlib\n",
    "\n",
    "# %pip install pymysql\n",
    "\n",
    "# !pip install langserve\n",
    "# !pip install sse_starlette\n",
    "\n",
    "# !pip install pandasai -U\n",
    "\n",
    "# !pip install autogen\n",
    "\n",
    "# PyMuPDF 是一个 Python 库，用于处理 PDF 文件，包括读取、写入、转换和显示 PDF 文件。它是一个轻量级的库，\n",
    "# 提供了对 PDF 文件的广泛支持，包括文本提取、图像提取、渲染 PDF 页面等。\n",
    "# !pip install pymupdf\n",
    "\n",
    "# langchain_elasticsearch\n",
    "# !pip install langchain_elasticsearch\n",
    "\n",
    "# 提取结构化数据\n",
    "# %pip install kor\n",
    "\n",
    "# !pip install --upgrade  llama-index-llms-langchain==0.1.2\n",
    "\n",
    "# json\n",
    "# !pip install jq\n",
    "\n",
    "# %pip install --upgrade --quiet  langchainhub   langchain-chroma bs4\n",
    "\n",
    "# %pip install --upgrade --quiet redis\n",
    "\n",
    "# !pip install gptcache --quiet\n",
    "\n",
    "# !pip install -U langsmith\n",
    "\n",
    "# !pip install -U langchain-cli\n",
    "\n",
    "# %pip install seaborn fuzzywuzzy wordcloud\n",
    "# Seaborn常用于数据科学和统计分析中的数据可视化。\n",
    "# FuzzyWuzzy在需要进行字符串比较和匹配的场景中非常有用，比如搜索功能或数据清理。\n",
    "# WordCloud在文本分析和展示中很受欢迎，特别是在需要快速直观地展示文本主题或关键词时。\n",
    "\n",
    "# !pip install -q torch transformers accelerate bitsandbytes sentence-transformers  \n",
    "\n",
    "# Recommenders 是一个开源的推荐系统库，主要由微软开发和维护。这个库提供了一系列用于构建和评估推荐系统的工具和算法。\n",
    "# 它的主要目标是帮助开发者快速实现和部署各种推荐系统模型。\n",
    "# %pip install Recommenders\n",
    "\n",
    "# !pip install -q -U  langchain-nomic \n"
   ],
   "metadata": {
    "collapsed": false,
    "ExecuteTime": {
     "end_time": "2024-08-02T02:50:30.104838Z",
     "start_time": "2024-08-02T02:50:20.972542Z"
    }
   },
   "id": "7500d9cbec4b32bd",
   "execution_count": 3
  },
  {
   "cell_type": "code",
   "outputs": [
    {
     "name": "stdout",
     "output_type": "stream",
     "text": [
      "Found existing installation: llama-index-llms-langchain 0.1.2\r\n",
      "Uninstalling llama-index-llms-langchain-0.1.2:\r\n",
      "  Would remove:\r\n",
      "    /Users/pangmengting/venv/lib/python3.10/site-packages/llama_index/llms/langchain/*\r\n",
      "    /Users/pangmengting/venv/lib/python3.10/site-packages/llama_index_llms_langchain-0.1.2.dist-info/*\r\n",
      "Proceed (Y/n)? ^C\r\n",
      "\u001B[31mERROR: Operation cancelled by user\u001B[0m\u001B[31m\r\n",
      "\u001B[0m"
     ]
    }
   ],
   "source": [
    "# 删除\n",
    "# !pip uninstall llama-index-llms-langchain"
   ],
   "metadata": {
    "collapsed": false,
    "ExecuteTime": {
     "end_time": "2024-07-03T08:02:59.278976Z",
     "start_time": "2024-07-03T08:02:54.890057Z"
    }
   },
   "id": "ef0f453d117302de",
   "execution_count": 3
  },
  {
   "cell_type": "code",
   "outputs": [],
   "source": [
    "# 输出依赖和版本到 reguirements\n",
    "!pip freeze > reguirements.txt"
   ],
   "metadata": {
    "collapsed": false,
    "ExecuteTime": {
     "end_time": "2024-07-03T08:04:07.472881Z",
     "start_time": "2024-07-03T08:04:07.018128Z"
    }
   },
   "id": "19bb06f2243cc275",
   "execution_count": 6
  },
  {
   "cell_type": "code",
   "outputs": [],
   "source": [
    "# 通过 brew 安装\n",
    "# !brew install wget\n",
    "# !which wget\n",
    "\n",
    "# apt-get 是安装系统级的软件包。\n",
    "# !apt-get install poppler-utils tesseract-ocr\n",
    "# mac 使用 brew\n",
    "# !brew install poppler-utils tesseract-ocr\n",
    "\n",
    "\n",
    "# poetry init\n",
    "# poetry shell"
   ],
   "metadata": {
    "collapsed": false
   },
   "id": "d874b0bb8fa7633a"
  },
  {
   "cell_type": "code",
   "outputs": [],
   "source": [],
   "metadata": {
    "collapsed": false
   },
   "id": "ac749adeebeb27dc"
  },
  {
   "cell_type": "code",
   "outputs": [
    {
     "name": "stdout",
     "output_type": "stream",
     "text": [
      "/Users/pangmengting/venv\n"
     ]
    }
   ],
   "source": [
    "import os\n",
    "\n",
    "# 查看当前虚拟环境\n",
    "print(os.environ.get('VIRTUAL_ENV'))"
   ],
   "metadata": {
    "collapsed": false,
    "ExecuteTime": {
     "end_time": "2024-07-03T06:19:29.698639Z",
     "start_time": "2024-07-03T06:19:29.692656Z"
    }
   },
   "id": "b5062c8dceaf29a7",
   "execution_count": 1
  },
  {
   "cell_type": "code",
   "outputs": [],
   "source": [
    "# 比如不想提交.env文件\n",
    "# !git rm --cached .env\n",
    "\n",
    "\n",
    "# !git rm -rf --cached data\n",
    "\n",
    "# !git rm -rf --cached ./langchain/tool-agents/auto-gen/OAI_CONFIG_LIST"
   ],
   "metadata": {
    "collapsed": false
   },
   "id": "6c36ea82f4dd06dd"
  }
 ],
 "metadata": {
  "kernelspec": {
   "display_name": "Python 3",
   "language": "python",
   "name": "python3"
  },
  "language_info": {
   "codemirror_mode": {
    "name": "ipython",
    "version": 2
   },
   "file_extension": ".py",
   "mimetype": "text/x-python",
   "name": "python",
   "nbconvert_exporter": "python",
   "pygments_lexer": "ipython2",
   "version": "2.7.6"
  }
 },
 "nbformat": 4,
 "nbformat_minor": 5
}
