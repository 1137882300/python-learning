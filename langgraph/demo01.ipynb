{
 "cells": [
  {
   "cell_type": "code",
   "execution_count": null,
   "id": "initial_id",
   "metadata": {
    "collapsed": true
   },
   "outputs": [],
   "source": [
    "from langchain_community.utilities import SerpAPIWrapper\n",
    "import functools, operator, requests, os, json\n",
    "from langchain.agents import AgentExecutor, create_openai_tools_agent\n",
    "from langchain_core.messages import BaseMessage, HumanMessage\n",
    "from langchain.output_parsers.openai_functions import JsonOutputFunctionsParser\n",
    "from langchain_core.prompts import ChatPromptTemplate, MessagesPlaceholder\n",
    "from langgraph.graph import StateGraph, END\n",
    "from langchain.tools import tool\n",
    "from langchain_openai import ChatOpenAI\n",
    "from typing import Annotated, Any, Dict, List, Optional, Sequence, TypedDict\n"
   ]
  },
  {
   "cell_type": "code",
   "outputs": [],
   "source": [
    "search = SerpAPIWrapper()\n",
    "\n",
    "search.run(\"Obama's first name?\")"
   ],
   "metadata": {
    "collapsed": false
   },
   "id": "c90a72580c89a56b"
  },
  {
   "cell_type": "code",
   "outputs": [],
   "source": [
    "llm = ChatOpenAI(model=\"gpt-4-turbo-preview\")\n"
   ],
   "metadata": {
    "collapsed": false
   },
   "id": "e023898ee69b9ba3"
  },
  {
   "cell_type": "code",
   "outputs": [],
   "source": [
    "from langchain_core.messages import (\n",
    "    AIMessage,\n",
    "    BaseMessage,\n",
    "    ChatMessage,\n",
    "    FunctionMessage,\n",
    "    HumanMessage,\n",
    "    SystemMessage\n",
    ")\n",
    "\n",
    "\n",
    "@tool(\"web_search\")\n",
    "def web_search(query: str) -> str:\n",
    "    \"\"\"Search with Google SERP API by a query\"\"\"\n",
    "    search = SerpAPIWrapper()\n",
    "    return search.run(query)\n",
    "\n",
    "\n",
    "@tool(\"twitter_writer\")\n",
    "def write_tweet(content: str) -> str:\n",
    "    \"\"\"Based a piece of content, write a tweet.\"\"\"\n",
    "    chat = ChatOpenAI()\n",
    "    messages = [\n",
    "        SystemMessage(\n",
    "            content=\"You are a Twitter account operator.\"\n",
    "                    \" You are responsible for writing a tweet based on the content given.\"\n",
    "                    \" You should follow the Twitter policy and make sure each tweet has no more than 140 characters.\"\n",
    "        ),\n",
    "        HumanMessage(\n",
    "            content=content\n",
    "        ),\n",
    "    ]\n",
    "    response = chat(messages)\n",
    "    return response.content"
   ],
   "metadata": {
    "collapsed": false
   },
   "id": "a26cb3bbdb553636"
  },
  {
   "cell_type": "code",
   "outputs": [],
   "source": [
    "class AgentState(TypedDict):\n",
    "    # The annotation tells the graph that new messages will always\n",
    "    # be added to the current states\n",
    "    messages: Annotated[Sequence[BaseMessage], operator.add]\n",
    "    # The 'next' field indicates where to route to next\n",
    "    next: str"
   ],
   "metadata": {
    "collapsed": false
   },
   "id": "1c292d33710b38ad"
  },
  {
   "cell_type": "code",
   "outputs": [],
   "source": [
    "def create_agent(llm: ChatOpenAI, tools: list, system_prompt: str):\n",
    "    prompt = ChatPromptTemplate.from_messages(\n",
    "        [\n",
    "            (\n",
    "                \"system\",\n",
    "                system_prompt,\n",
    "            ),\n",
    "            MessagesPlaceholder(variable_name=\"messages\"),\n",
    "            MessagesPlaceholder(variable_name=\"agent_scratchpad\"),\n",
    "        ]\n",
    "    )\n",
    "    agent = create_openai_tools_agent(llm, tools, prompt)\n",
    "    executor = AgentExecutor(agent=agent, tools=tools)\n",
    "    return executor\n",
    "\n",
    "def agent_node(state, agent, name):\n",
    "    result = agent.invoke(state)\n",
    "    return {\"messages\": [HumanMessage(content=result[\"output\"], name=name)]}"
   ],
   "metadata": {
    "collapsed": false
   },
   "id": "7fa60e1c43808329"
  },
  {
   "cell_type": "code",
   "outputs": [],
   "source": [
    "members = [\"Search_Engine\", \"Twitter_Writer\"]\n",
    "system_prompt = (\n",
    "    \"You are a supervisor tasked with managing a conversation between the\"\n",
    "    \" following workers:  {members}. Given the following user request,\"\n",
    "    \" respond with the worker to act next. Each worker will perform a\"\n",
    "    \" task and respond with their results and status. When finished,\"\n",
    "    \" respond with FINISH.\"\n",
    ")\n",
    "\n",
    "options = [\"FINISH\"] + members\n",
    "# Using openai function calling can make output parsing easier for us\n",
    "function_def = {\n",
    "    \"name\": \"route\",\n",
    "    \"description\": \"Select the next role.\",\n",
    "    \"parameters\": {\n",
    "        \"title\": \"routeSchema\",\n",
    "        \"type\": \"object\",\n",
    "        \"properties\": {\n",
    "            \"next\": {\n",
    "                \"title\": \"Next\",\n",
    "                \"anyOf\": [\n",
    "                    {\"enum\": options},\n",
    "                ],\n",
    "            }\n",
    "        },\n",
    "        \"required\": [\"next\"],\n",
    "    },\n",
    "}\n",
    "prompt = ChatPromptTemplate.from_messages(\n",
    "    [\n",
    "        (\"system\", system_prompt),\n",
    "        MessagesPlaceholder(variable_name=\"messages\"),\n",
    "        (\n",
    "            \"system\",\n",
    "            \"Given the conversation above, who should act next?\"\n",
    "            \" Or should we FINISH? Select one of: {options}\",\n",
    "        ),\n",
    "    ]\n",
    ").partial(options=str(options), members=\", \".join(members))\n",
    "\n",
    "supervisor_chain = (\n",
    "        prompt\n",
    "        | llm.bind_functions(functions=[function_def], function_call=\"route\")\n",
    "        | JsonOutputFunctionsParser()\n",
    ")"
   ],
   "metadata": {
    "collapsed": false
   },
   "id": "ca5e38a780bbfeeb"
  },
  {
   "cell_type": "code",
   "outputs": [],
   "source": [
    "search_engine_agent = create_agent(llm, [web_search], \"You are a web search engine.\")\n",
    "search_engine_node = functools.partial(agent_node, agent=search_engine_agent, name=\"Search_Engine\")\n",
    "\n",
    "twitter_operator_agent = create_agent(llm, [write_tweet],\n",
    "                                      \"You are responsible for writing a tweet based on the content given.\")\n",
    "twitter_operator_node = functools.partial(agent_node, agent=twitter_operator_agent, name=\"Twitter_Writer\")\n",
    "\n",
    "workflow = StateGraph(AgentState)\n",
    "workflow.add_node(\"Search_Engine\", search_engine_node)\n",
    "workflow.add_node(\"Twitter_Writer\", twitter_operator_node)\n",
    "workflow.add_node(\"supervisor\", supervisor_chain)"
   ],
   "metadata": {
    "collapsed": false
   },
   "id": "bed167d826b2f998"
  },
  {
   "cell_type": "code",
   "outputs": [],
   "source": [
    "for member in members:\n",
    "    workflow.add_edge(member, \"supervisor\")\n",
    "\n",
    "conditional_map = {k: k for k in members}\n",
    "conditional_map[\"FINISH\"] = END\n",
    "workflow.add_conditional_edges(\"supervisor\", lambda x: x[\"next\"], conditional_map)\n",
    "\n",
    "workflow.set_entry_point(\"supervisor\")\n",
    "graph = workflow.compile()"
   ],
   "metadata": {
    "collapsed": false
   },
   "id": "9ad0321624426fc6"
  },
  {
   "cell_type": "code",
   "outputs": [],
   "source": [
    "for s in graph.stream(\n",
    "        {\n",
    "            \"messages\": [\n",
    "                HumanMessage(content=\"Write a tweet about LangChain news\")\n",
    "            ]\n",
    "        }\n",
    "):\n",
    "    if \"__end__\" not in s:\n",
    "        print(s)\n",
    "        print(\"----\")\n"
   ],
   "metadata": {
    "collapsed": false
   },
   "id": "cd3be26439df0a56"
  }
 ],
 "metadata": {
  "kernelspec": {
   "display_name": "Python 3",
   "language": "python",
   "name": "python3"
  },
  "language_info": {
   "codemirror_mode": {
    "name": "ipython",
    "version": 2
   },
   "file_extension": ".py",
   "mimetype": "text/x-python",
   "name": "python",
   "nbconvert_exporter": "python",
   "pygments_lexer": "ipython2",
   "version": "2.7.6"
  }
 },
 "nbformat": 4,
 "nbformat_minor": 5
}
