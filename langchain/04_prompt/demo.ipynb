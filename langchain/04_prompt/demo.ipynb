{
 "cells": [
  {
   "cell_type": "code",
   "outputs": [],
   "source": [
    "from langchain_core.documents import Document\n",
    "from langchain_core.prompts import PromptTemplate\n",
    "\n",
    "doc = Document(page_content=\"This is a joke\", metadata={\"page\": \"1\"})\n",
    "prompt = PromptTemplate.from_template(\"Page {page}: {page_content}\")\n",
    "# format_document(doc, prompt)\n",
    "# >>> \"Page 1: This is a joke\""
   ],
   "metadata": {
    "collapsed": false,
    "ExecuteTime": {
     "end_time": "2024-07-02T05:46:19.544481Z",
     "start_time": "2024-07-02T05:46:19.304050Z"
    }
   },
   "id": "d8cb671aed431894",
   "execution_count": 1
  },
  {
   "cell_type": "code",
   "outputs": [
    {
     "data": {
      "text/plain": "'Page 1: This is a joke'"
     },
     "execution_count": 2,
     "metadata": {},
     "output_type": "execute_result"
    }
   ],
   "source": [
    "from langchain_core.prompts import format_document\n",
    "\n",
    "# 从doc里格式化 prompt\n",
    "format_document(doc, prompt)"
   ],
   "metadata": {
    "collapsed": false,
    "ExecuteTime": {
     "end_time": "2024-07-02T05:46:22.152156Z",
     "start_time": "2024-07-02T05:46:22.142638Z"
    }
   },
   "id": "e824f36d1b65b344",
   "execution_count": 2
  },
  {
   "cell_type": "code",
   "outputs": [],
   "source": [],
   "metadata": {
    "collapsed": false
   },
   "id": "7d69ba39b0dd5db2"
  }
 ],
 "metadata": {
  "kernelspec": {
   "display_name": "Python 3",
   "language": "python",
   "name": "python3"
  },
  "language_info": {
   "codemirror_mode": {
    "name": "ipython",
    "version": 2
   },
   "file_extension": ".py",
   "mimetype": "text/x-python",
   "name": "python",
   "nbconvert_exporter": "python",
   "pygments_lexer": "ipython2",
   "version": "2.7.6"
  }
 },
 "nbformat": 4,
 "nbformat_minor": 5
}
