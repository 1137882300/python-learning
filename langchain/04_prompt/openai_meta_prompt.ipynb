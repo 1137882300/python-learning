{
 "cells": [
  {
   "cell_type": "markdown",
   "metadata": {
    "colab_type": "text",
    "id": "view-in-github"
   },
   "source": [
    "<a href=\"https://colab.research.google.com/github/sugarforever/OpenAI-Tutorials/blob/main/openai_meta_prompt.ipynb\" target=\"_parent\"><img src=\"https://colab.research.google.com/assets/colab-badge.svg\" alt=\"Open In Colab\"/></a>"
   ]
  },
  {
   "cell_type": "code",
   "execution_count": 30,
   "metadata": {
    "id": "l4_Mh6q4lmNo"
   },
   "outputs": [],
   "source": [
    "%pip install openai -qU"
   ]
  },
  {
   "cell_type": "code",
   "execution_count": 31,
   "metadata": {
    "id": "89_EbmbBlt_W"
   },
   "outputs": [],
   "source": [
    "# from google.colab import userdata\n",
    "# OPENAI_API_KEY = userdata.get('OPENAI_API_KEY')"
   ]
  },
  {
   "cell_type": "code",
   "execution_count": null,
   "metadata": {},
   "outputs": [],
   "source": [
    "OPENAI_API_KEY=''\n",
    "base_url = 'https://api.openai.com/v1'\n"
   ]
  },
  {
   "cell_type": "code",
   "execution_count": 32,
   "metadata": {
    "id": "PytAbZNslrQx"
   },
   "outputs": [],
   "source": [
    "from openai import OpenAI\n",
    "\n",
    "client = OpenAI(api_key=OPENAI_API_KEY, base_url=base_url)\n",
    "\n",
    "META_PROMPT = \"\"\"\n",
    "Given a task description or existing prompt, produce a detailed system prompt to guide a language model in completing the task effectively.\n",
    "\n",
    "# Guidelines\n",
    "\n",
    "- Understand the Task: Grasp the main objective, goals, requirements, constraints, and expected output.\n",
    "- Minimal Changes: If an existing prompt is provided, improve it only if it's simple. For complex prompts, enhance clarity and add missing elements without altering the original structure.\n",
    "- Reasoning Before Conclusions**: Encourage reasoning steps before any conclusions are reached. ATTENTION! If the user provides examples where the reasoning happens afterward, REVERSE the order! NEVER START EXAMPLES WITH CONCLUSIONS!\n",
    "    - Reasoning Order: Call out reasoning portions of the prompt and conclusion parts (specific fields by name). For each, determine the ORDER in which this is done, and whether it needs to be reversed.\n",
    "    - Conclusion, classifications, or results should ALWAYS appear last.\n",
    "- Examples: Include high-quality examples if helpful, using placeholders [in brackets] for complex elements.\n",
    "   - What kinds of examples may need to be included, how many, and whether they are complex enough to benefit from placeholders.\n",
    "- Clarity and Conciseness: Use clear, specific language. Avoid unnecessary instructions or bland statements.\n",
    "- Formatting: Use markdown features for readability. DO NOT USE ``` CODE BLOCKS UNLESS SPECIFICALLY REQUESTED.\n",
    "- Preserve User Content: If the input task or prompt includes extensive guidelines or examples, preserve them entirely, or as closely as possible. If they are vague, consider breaking down into sub-steps. Keep any details, guidelines, examples, variables, or placeholders provided by the user.\n",
    "- Constants: DO include constants in the prompt, as they are not susceptible to prompt injection. Such as guides, rubrics, and examples.\n",
    "- Output Format: Explicitly the most appropriate output format, in detail. This should include length and syntax (e.g. short sentence, paragraph, JSON, etc.)\n",
    "    - For tasks outputting well-defined or structured data (classification, JSON, etc.) bias toward outputting a JSON.\n",
    "    - JSON should never be wrapped in code blocks (```) unless explicitly requested.\n",
    "\n",
    "The final prompt you output should adhere to the following structure below. Do not include any additional commentary, only output the completed system prompt. SPECIFICALLY, do not include any additional messages at the start or end of the prompt. (e.g. no \"---\")\n",
    "\n",
    "[Concise instruction describing the task - this should be the first line in the prompt, no section header]\n",
    "\n",
    "[Additional details as needed.]\n",
    "\n",
    "[Optional sections with headings or bullet points for detailed steps.]\n",
    "\n",
    "# Steps [optional]\n",
    "\n",
    "[optional: a detailed breakdown of the steps necessary to accomplish the task]\n",
    "\n",
    "# Output Format\n",
    "\n",
    "[Specifically call out how the output should be formatted, be it response length, structure e.g. JSON, markdown, etc]\n",
    "\n",
    "# Examples [optional]\n",
    "\n",
    "[Optional: 1-3 well-defined examples with placeholders if necessary. Clearly mark where examples start and end, and what the input and output are. User placeholders as necessary.]\n",
    "[If the examples are shorter than what a realistic example is expected to be, make a reference with () explaining how real examples should be longer / shorter / different. AND USE PLACEHOLDERS! ]\n",
    "\n",
    "# Notes [optional]\n",
    "\n",
    "[optional: edge cases, details, and an area to call or repeat out specific important considerations]\n",
    "\"\"\".strip()\n",
    "\n",
    "def generate_prompt(task_or_prompt: str):\n",
    "    completion = client.chat.completions.create(\n",
    "        model=\"gpt-4o\",\n",
    "        messages=[\n",
    "            {\n",
    "                \"role\": \"system\",\n",
    "                \"content\": META_PROMPT,\n",
    "            },\n",
    "            {\n",
    "                \"role\": \"user\",\n",
    "                \"content\": \"Task, Goal, or Current Prompt:\\n\" + task_or_prompt,\n",
    "            },\n",
    "        ],\n",
    "    )\n",
    "\n",
    "    return completion.choices[0].message.content"
   ]
  },
  {
   "cell_type": "code",
   "execution_count": 33,
   "metadata": {
    "id": "GyNBRYEImMbD"
   },
   "outputs": [],
   "source": [
    "prompt = generate_prompt(\"Optimize the prompt that users enter for image generation with Flux 1.1 model\")"
   ]
  },
  {
   "cell_type": "code",
   "execution_count": 35,
   "metadata": {
    "id": "TlNRtAJe3Nww"
   },
   "outputs": [],
   "source": [
    "from IPython.display import Markdown, display\n",
    "\n",
    "def print_md(string):\n",
    "    display(Markdown(string))"
   ]
  },
  {
   "cell_type": "code",
   "execution_count": 1,
   "metadata": {},
   "outputs": [
    {
     "name": "stdout",
     "output_type": "stream",
     "text": [
      "Looking in indexes: https://pypi.tuna.tsinghua.edu.cn/simple\n",
      "Requirement already satisfied: ipython in /Users/pangmengting/venv/lib/python3.10/site-packages (8.14.0)\n",
      "Requirement already satisfied: backcall in /Users/pangmengting/venv/lib/python3.10/site-packages (from ipython) (0.2.0)\n",
      "Requirement already satisfied: decorator in /Users/pangmengting/venv/lib/python3.10/site-packages (from ipython) (5.1.1)\n",
      "Requirement already satisfied: jedi>=0.16 in /Users/pangmengting/venv/lib/python3.10/site-packages (from ipython) (0.18.2)\n",
      "Requirement already satisfied: matplotlib-inline in /Users/pangmengting/venv/lib/python3.10/site-packages (from ipython) (0.1.6)\n",
      "Requirement already satisfied: pickleshare in /Users/pangmengting/venv/lib/python3.10/site-packages (from ipython) (0.7.5)\n",
      "Requirement already satisfied: prompt-toolkit!=3.0.37,<3.1.0,>=3.0.30 in /Users/pangmengting/venv/lib/python3.10/site-packages (from ipython) (3.0.39)\n",
      "Requirement already satisfied: pygments>=2.4.0 in /Users/pangmengting/venv/lib/python3.10/site-packages (from ipython) (2.18.0)\n",
      "Requirement already satisfied: stack-data in /Users/pangmengting/venv/lib/python3.10/site-packages (from ipython) (0.6.2)\n",
      "Requirement already satisfied: traitlets>=5 in /Users/pangmengting/venv/lib/python3.10/site-packages (from ipython) (5.9.0)\n",
      "Requirement already satisfied: pexpect>4.3 in /Users/pangmengting/venv/lib/python3.10/site-packages (from ipython) (4.8.0)\n",
      "Requirement already satisfied: appnope in /Users/pangmengting/venv/lib/python3.10/site-packages (from ipython) (0.1.3)\n",
      "Requirement already satisfied: parso<0.9.0,>=0.8.0 in /Users/pangmengting/venv/lib/python3.10/site-packages (from jedi>=0.16->ipython) (0.8.3)\n",
      "Requirement already satisfied: ptyprocess>=0.5 in /Users/pangmengting/venv/lib/python3.10/site-packages (from pexpect>4.3->ipython) (0.7.0)\n",
      "Requirement already satisfied: wcwidth in /Users/pangmengting/venv/lib/python3.10/site-packages (from prompt-toolkit!=3.0.37,<3.1.0,>=3.0.30->ipython) (0.2.6)\n",
      "Requirement already satisfied: executing>=1.2.0 in /Users/pangmengting/venv/lib/python3.10/site-packages (from stack-data->ipython) (1.2.0)\n",
      "Requirement already satisfied: asttokens>=2.1.0 in /Users/pangmengting/venv/lib/python3.10/site-packages (from stack-data->ipython) (2.2.1)\n",
      "Requirement already satisfied: pure-eval in /Users/pangmengting/venv/lib/python3.10/site-packages (from stack-data->ipython) (0.2.2)\n",
      "Requirement already satisfied: six in /Users/pangmengting/venv/lib/python3.10/site-packages (from asttokens>=2.1.0->stack-data->ipython) (1.16.0)\n",
      "\n",
      "\u001B[1m[\u001B[0m\u001B[34;49mnotice\u001B[0m\u001B[1;39;49m]\u001B[0m\u001B[39;49m A new release of pip is available: \u001B[0m\u001B[31;49m24.0\u001B[0m\u001B[39;49m -> \u001B[0m\u001B[32;49m24.2\u001B[0m\n",
      "\u001B[1m[\u001B[0m\u001B[34;49mnotice\u001B[0m\u001B[1;39;49m]\u001B[0m\u001B[39;49m To update, run: \u001B[0m\u001B[32;49mpip install --upgrade pip\u001B[0m\n"
     ]
    }
   ],
   "source": [
    "%pip install ipython"
   ]
  },
  {
   "cell_type": "code",
   "execution_count": 36,
   "metadata": {
    "colab": {
     "base_uri": "https://localhost:8080/",
     "height": 558
    },
    "id": "ua48AmG4mdBK",
    "outputId": "0a5c77c5-f3ae-489b-d368-a7f2fb7bb602"
   },
   "outputs": [
    {
     "data": {
      "text/markdown": [
       "Optimize user input prompts for image generation with the Flux 1.1 model by enhancing clarity, specificity, and focus on desired visual elements.\n",
       "\n",
       "- Assess the user's original prompt, identifying any vagueness or lack of detail.\n",
       "- Clarify the main subject or theme of the image the user wants to generate.\n",
       "- Specify visual details such as colors, styles, lighting, and composition.\n",
       "- Include specific instructions for any particular elements, objects, or scenes.\n",
       "- Ensure the prompt aligns with the capabilities and strengths of the Flux 1.1 model.\n",
       "- Use precise and evocative language to enhance visual imagination.\n",
       "\n",
       "# Steps\n",
       "\n",
       "1. **Analyze the Original Prompt**: Identify areas that need clarification or expansion.\n",
       "2. **Clarify Desired Subject**: Specify the main subject and its context.\n",
       "3. **Detail Visual Elements**: Include details on textures, colors, lighting, and perspective.\n",
       "4. **Specify Composition**: Define the layout, balance, and any focal points.\n",
       "5. **Refine Language**: Use vivid and specific language to convey the visual idea clearly.\n",
       "\n",
       "# Output Format\n",
       "\n",
       "- Present the optimized prompt as a single cohesive text.\n",
       "- Ensure clarity and focus in the language that guides the image generation effectively.\n",
       "\n",
       "# Examples\n",
       "\n",
       "**Original Prompt**: \"A sunset over a forest\"\n",
       "\n",
       "**Optimized Prompt**: \"A vibrant sunset painting the sky in hues of orange and pink, casting golden light over a dense forest of tall pine trees. The sun is partially hidden behind the horizon, creating intricate shadows and highlights on the tree foliage, with a serene lake reflecting the colorful sky in the foreground.\"\n",
       "\n",
       "(Note: Real examples should be longer and more detailed to accommodate specific needs of the Flux 1.1 model.)"
      ],
      "text/plain": [
       "<IPython.core.display.Markdown object>"
      ]
     },
     "metadata": {},
     "output_type": "display_data"
    }
   ],
   "source": [
    "print_md(prompt)"
   ]
  },
  {
   "cell_type": "code",
   "execution_count": 38,
   "metadata": {
    "id": "VsMCebcQnWUj"
   },
   "outputs": [],
   "source": [
    "def ask(query, system_prompt):\n",
    "  completion = client.chat.completions.create(\n",
    "        model=\"gpt-4o\",\n",
    "        messages=[\n",
    "            {\n",
    "                \"role\": \"system\",\n",
    "                \"content\": system_prompt\n",
    "            },\n",
    "            {\n",
    "                \"role\": \"user\",\n",
    "                \"content\": query,\n",
    "            },\n",
    "        ],\n",
    "  )\n",
    "\n",
    "  return completion.choices[0].message.content"
   ]
  },
  {
   "cell_type": "code",
   "execution_count": 39,
   "metadata": {
    "colab": {
     "base_uri": "https://localhost:8080/",
     "height": 91
    },
    "id": "8NMjSwLrnjXj",
    "outputId": "e4034668-784f-4c81-e038-65ed87b2c0ff"
   },
   "outputs": [
    {
     "data": {
      "application/vnd.google.colaboratory.intrinsic+json": {
       "type": "string"
      },
      "text/plain": [
       "\"A stylish woman dressed in a chic, designer fashion outfit sits confidently by a sleek, modern car. Her ensemble features a form-fitting, elegant dress in deep royal blue with intricate gold patterns that catch the light. She leans casually against the car, exuding an aura of cool sophistication. In her right hand, she delicately holds a cigarette, the smoke swirling gently upwards. Her oversized, dark sunglasses rest stylishly on her nose, partially obscuring her face but hinting at sharp, striking features. The scene is set in a sun-drenched urban environment, where the sunlight glistens off the car's polished surface, adding to the overall glamorous atmosphere.\""
      ]
     },
     "execution_count": 39,
     "metadata": {},
     "output_type": "execute_result"
    }
   ],
   "source": [
    "ask(\"a lady with fashion dress, sit by a car. she has a cigaret in her fingers. She wears sunglasses. She is hot\", prompt)"
   ]
  },
  {
   "cell_type": "code",
   "execution_count": 40,
   "metadata": {
    "id": "bCroDNFypE30"
   },
   "outputs": [],
   "source": [
    "financial_analysis_prompt = generate_prompt(\"Analyze the company's financial report and provide a comprehensive financial analysis as a professional financial analyst\")"
   ]
  },
  {
   "cell_type": "code",
   "execution_count": 41,
   "metadata": {
    "colab": {
     "base_uri": "https://localhost:8080/",
     "height": 888
    },
    "id": "hLiXHFbIpXY-",
    "outputId": "c7ab6d3d-8aec-447b-d47f-57027a7322b1"
   },
   "outputs": [
    {
     "data": {
      "text/markdown": [
       "Analyze a company's financial report and provide a comprehensive financial analysis from the perspective of a professional financial analyst.\n",
       "\n",
       "- Review key financial statements including the income statement, balance sheet, and cash flow statement.\n",
       "- Identify and interpret changes in revenue, profit margins, and any significant financial trends.\n",
       "- Highlight any areas of financial concern or interest, such as liquidity issues or strong performance metrics.\n",
       "- Compare the firm's current performance to industry benchmarks or historical performance if applicable.\n",
       "\n",
       "# Steps\n",
       "\n",
       "1. **Gather Data**: Collect the required financial statements: income statement, balance sheet, and cash flow statement.\n",
       "2. **Perform Ratio Analysis**: Calculate financial ratios such as gross profit margin, net profit margin, current ratio, Quick ratio, Return on Assets (ROA), and Return on Equity (ROE), and interpret these figures.\n",
       "3. **Trend Analysis**: Examine trends over multiple periods in key metrics such as revenue, net income, and any other central financial metrics.\n",
       "4. **Benchmark Comparison**: Compare the company's financial ratios and trends to industry averages or past performance when possible.\n",
       "5. **Identify Areas of Concern**: Highlight any signs of financial distress or exemplary performance such as high debt levels, liquidity problems, or exceptionally strong growth.\n",
       "6. **Conclusion**: Synthesize findings to provide a coherent narrative on the company’s financial status and potential future outlook.\n",
       "\n",
       "# Output Format\n",
       "\n",
       "Provide a structured analysis divided into the following sections:\n",
       "- **Executive Summary**: A concise overview of the key findings and conclusions.\n",
       "- **Detailed Financial Analysis**: Separate sections for ratio analysis, trend analysis, and benchmark comparison, with detailed explanations of calculations.\n",
       "- **Areas of Concern and Recommendations**: List any identified financial issues with proposed recommendations for improvement or further investigation.\n",
       "\n",
       "# Examples\n",
       "\n",
       "**Example (shortened for brevity):**\n",
       "\n",
       "- **Executive Summary**: The company shows a positive growth trend, with revenue increasing by 10% year-over-year. The current ratio indicates strong liquidity, though debt levels are slightly above industry average.\n",
       "- **Detailed Financial Analysis**:\n",
       "  - *Ratio Analysis*: \n",
       "    - Gross Profit Margin: 40%\n",
       "    - Net Profit Margin: 15%\n",
       "    - Liquidity Ratios: Current Ratio is 1.5, Quick Ratio is 1.2\n",
       "  - *Trend Analysis*: Revenue has grown consistently over the past three years, with a compound annual growth rate (CAGR) of 12%.\n",
       "  - *Benchmark Comparison*: Net margins and ROE are higher than industry averages, signaling efficient management.\n",
       "- **Areas of Concern and Recommendations**: Increase in accounts receivable days may indicate potential collection issues; focus on improving AR turnover.\n",
       "\n",
       "(For a complete analysis, each section should be expanded with specific figures and be much more detailed.)\n",
       "\n",
       "# Notes\n",
       "\n",
       "- Pay attention to any anomalies or one-time events affecting financial results.\n",
       "- Consider global economic factors or industry-specific challenges that may influence the financial outlook."
      ],
      "text/plain": [
       "<IPython.core.display.Markdown object>"
      ]
     },
     "metadata": {},
     "output_type": "display_data"
    }
   ],
   "source": [
    "print_md(financial_analysis_prompt)"
   ]
  },
  {
   "cell_type": "code",
   "execution_count": null,
   "metadata": {
    "id": "qcubUkBMpjmj"
   },
   "outputs": [],
   "source": [
    "report = '''\n",
    "Key Financial Results for the Second Quarter of 2024\n",
    "(in RMB million, except for percentage)\n",
    "2024 Q2 2024 Q1 2023 Q2 % Changeiii\n",
    "QoQ YoY\n",
    "Vehicle Sales 15,679.6 8,381.3 7,185.2 87.1% 118.2%\n",
    "Vehicle Margin 12.2% 9.2% 6.2% 300bp 600bp\n",
    "Total Revenues 17,446.0 9,908.6 8,771.7 76.1% 98.9%\n",
    "Gross Profit 1,688.7 487.7 87.0 246.3% 1,841.0%\n",
    "Gross Margin 9.7% 4.9% 1.0% 480bp 870bp\n",
    "Loss from Operations (5,209.3) (5,394.1) (6,074.1) -3.4% -14.2%\n",
    "Adjusted Loss from Operations (non-GAAP) (4,698.5) (5,112.7) (5,464.1) -8.1% -14.0%\n",
    "Net Loss (5,046.0) (5,184.6) (6,055.8) -2.7% -16.7%\n",
    "Adjusted Net Loss (non-GAAP) (4,535.2) (4,903.2) (5,445.7) -7.5% -16.7%\n",
    "'''"
   ]
  },
  {
   "cell_type": "code",
   "execution_count": 42,
   "metadata": {
    "id": "GkhUj51fpqIt"
   },
   "outputs": [],
   "source": [
    "analysis = ask(report, financial_analysis_prompt)"
   ]
  },
  {
   "cell_type": "code",
   "execution_count": 43,
   "metadata": {
    "colab": {
     "base_uri": "https://localhost:8080/",
     "height": 724
    },
    "id": "2wUmtm97p3kW",
    "outputId": "dc1734e6-0eff-4454-f9fd-b0a4d0496947"
   },
   "outputs": [
    {
     "data": {
      "text/markdown": [
       "**Executive Summary**:  \n",
       "The company's financial performance for Q2 2024 indicates strong growth in revenue and improvements in margins, despite continuing net losses. Vehicle sales increased significantly, outperforming both the previous quarter and the same quarter last year. Margins have improved, indicating enhanced cost management or pricing strategy. Although the net loss remains, it has reduced both sequentially and year-over-year, highlighting improvements in operational efficiency but indicating ongoing challenges in reaching profitability.\n",
       "\n",
       "**Detailed Financial Analysis**:\n",
       "\n",
       "- **Ratio Analysis**:\n",
       "  - **Gross Profit Margin**: Increased substantially to 9.7% from 4.9% in Q1 2024 and 1.0% in Q2 2023, a positive indicator of cost control and operational efficiency.\n",
       "  - **Net Profit Margin**: The net loss margin needs more context but represents potential for future positive turnovers if current trends continue.\n",
       "  - **Vehicle Margin**: Improved to 12.2% from 9.2% in Q1 2024 and 6.2% in Q2 2023, highlighting better cost management in vehicle production or improved pricing power.\n",
       "  \n",
       "- **Trend Analysis**:\n",
       "  - **Revenue Growth**: Total revenues surged by 76.1% quarter-over-quarter (QoQ) and 98.9% year-over-year (YoY). This is driven mainly by vehicle sales, which increased by 87.1% QoQ and 118.2% YoY, indicating robust demand and potentially successful marketing or expansion strategies.\n",
       "  - **Profitability**: While gross profit has dramatically improved, losses from operations and net loss have decreased both sequentially and from the previous year. This shows progress towards breakeven but also highlights the necessity for further improvements.\n",
       "\n",
       "- **Benchmark Comparison**:\n",
       "  - Without specific industry benchmarks in this extract, the year-over-year and quarter-over-quarter improvements suggest better alignment with high-growth industry counterparts, especially given the significant advances in gross and vehicle margins.\n",
       "  - The continued reduction in adjusted net losses compared to previous periods aligns well with a trend towards better operational efficiency compared to industry metrics often dominated by large losses in early growth stages.\n",
       "\n",
       "**Areas of Concern and Recommendations**:\n",
       "\n",
       "- **Profitability Concerns**: Despite significant revenue growth, profitability remains a concern with continued net losses. It is crucial to explore avenues to further improve operational efficiency and cost management.\n",
       "  - **Recommendation**: Focus on continuous improvement in cost efficiencies, potentially through leveraging economies of scale or further enhancing production processes.\n",
       "  \n",
       "- **Potential for Cash Burn**: The ongoing net losses could imply significant cash outflows. Ensuring adequate liquidity and reviewing financing strategies will be essential.\n",
       "  - **Recommendation**: Re-evaluate cash flow strategy and explore cost optimization efforts to minimize continuing cash burn.\n",
       "\n",
       "- **Market and Demand Fluctuations**: Sustaining such high revenue growth rates may become challenging if market conditions change.\n",
       "  - **Recommendation**: Diversify product offerings and revenue streams to mitigate reliance on vehicle sales.\n",
       "\n",
       "These insights suggest a positive trajectory but emphasize the importance of strategic financial management to continue this momentum towards operational sustainability and eventual profitability."
      ],
      "text/plain": [
       "<IPython.core.display.Markdown object>"
      ]
     },
     "metadata": {},
     "output_type": "display_data"
    }
   ],
   "source": [
    "print_md(analysis)"
   ]
  },
  {
   "cell_type": "code",
   "execution_count": 44,
   "metadata": {
    "id": "qYIqLRkSqlj9"
   },
   "outputs": [],
   "source": [
    "blogger = generate_prompt(\"Understand the whole content, and rewrite it. Make sure core content, idea or opinion is not changed, and the new content is maintained in a good structure and suitable for blogging.\")"
   ]
  },
  {
   "cell_type": "code",
   "execution_count": 45,
   "metadata": {
    "colab": {
     "base_uri": "https://localhost:8080/",
     "height": 463
    },
    "id": "txuxt1i25rEm",
    "outputId": "df066cfc-115d-46ac-b3b9-fdd857b3a4b4"
   },
   "outputs": [
    {
     "data": {
      "text/markdown": [
       "Revise and rewrite the provided content so that it remains faithful to the core ideas or opinions while enhancing its structure for blogging. Ensure clarity, coherence, and engagement in your revised version, making it suitable for a blog audience.\n",
       "\n",
       "# Steps\n",
       "\n",
       "1. **Read and Comprehend**: Fully understand the main ideas, opinions, and key information in the original content.\n",
       "2. **Identify Key Elements**: Pinpoint the core content that must remain unchanged.\n",
       "3. **Reorganize Structure**: Restructure the content to fit a typical blog format, which may include a catchy introduction, clear headings, and well-organized body paragraphs.\n",
       "4. **Rephrase and Rewrite**: Rewrite sentences and paragraphs to enhance readability and flow, ensuring the original meaning and opinion are retained.\n",
       "5. **Polish for Engagement**: Add elements to make the content more engaging, such as anecdotes, examples, or a conversational tone appropriate for a blog.\n",
       "6. **Proofread for Quality**: Check for grammar, spelling, and punctuation errors to ensure the final content is polished.\n",
       "\n",
       "# Output Format\n",
       "\n",
       "The output should be structured as a blog article, with an engaging introduction, coherent body with subheadings if necessary, and a concluding paragraph. Aim for a natural flow and readability throughout the text.\n",
       "\n",
       "# Notes\n",
       "\n",
       "- Maintain the original tone and opinion without altering the core message.\n",
       "- Ensure the content appeals to a potential blog audience with appropriate language and style.\n",
       "- Consider the length of the original content; adapt it to fit standard blog post lengths if necessary."
      ],
      "text/plain": [
       "<IPython.core.display.Markdown object>"
      ]
     },
     "metadata": {},
     "output_type": "display_data"
    }
   ],
   "source": [
    "print_md(blogger)"
   ]
  },
  {
   "cell_type": "code",
   "execution_count": 46,
   "metadata": {
    "id": "_fuo2iVwrKDp"
   },
   "outputs": [],
   "source": [
    "content = '''\n",
    "Cristiano Ronaldo appears to have joked that former Juventus teammate Wojciech Szczesny had to go into retirement in order to join \"a big club\" like Barcelona.\n",
    "\n",
    "Szczesny chose to retire this summer when it became clear Juventus were planning for a future without him, but ended his spell on the sidelines after just a few months to join Barcelona as an emergency replacement for Marc-Andre ter Stegen.\n",
    "\n",
    "Ronaldo was in Szczesny's homeland of Poland on Saturday on Portugal duty and the former Juventus teammates met up behind the scenes for a catch-up and photo.\n",
    "\n",
    "In footage captured by the Polish Football Federation, Ronaldo appeared to take a swipe at Juventus when congratulating Szczesny on his move to Barcelona.\n",
    "\n",
    "\"You needed to retire to go to a big club,\" Ronaldo told Szczesny.\n",
    "\n",
    "Ronaldo described Juve as an \"amazing club\" when he departed for Manchester United in 2021, but memories of his spell in Turin are split. He scored 101 goals in 134 games and won two Serie A titles in three years, but many have questioned whether Ronaldo improved the team as a whole.\n",
    "\n",
    "Earlier this year, Ronaldo found himself in legal action against Juventus over unpaid wages stemming from deferrals during the COVID-19 pandemic, with a court ultimately ruling he was owed a total of €10m.\n",
    "'''"
   ]
  },
  {
   "cell_type": "code",
   "execution_count": 47,
   "metadata": {
    "id": "McLwfrG9sDl7"
   },
   "outputs": [],
   "source": [
    "blog = ask(content, blogger)"
   ]
  },
  {
   "cell_type": "code",
   "execution_count": 48,
   "metadata": {
    "colab": {
     "base_uri": "https://localhost:8080/",
     "height": 542
    },
    "id": "hJvbWnOWsK-n",
    "outputId": "e65184e6-fe22-44aa-b895-8ab883a7098b"
   },
   "outputs": [
    {
     "data": {
      "text/markdown": [
       "### Ronaldo's Playful Jibe: From Juventus to Barcelona\n",
       "\n",
       "Cristiano Ronaldo has made headlines once again, not for his moves on the pitch, but for a cheeky remark directed at his former Juventus teammate, Wojciech Szczesny. The two football stars reunited in Poland, where Portugal was playing, bringing a touch of humor to a conversation about Szczesny's latest career move.\n",
       "\n",
       "#### Szczesny's Journey: From Retirement to Barcelona\n",
       "\n",
       "Wojciech Szczesny had announced his retirement over the summer, seemingly closing the chapter on his time at Juventus after the team decided to plan for the future without him. However, his retirement was short-lived. When Marc-Andre ter Stegen faced an unexpected absence, Barcelona called upon Szczesny as a last-minute, emergency solution. \n",
       "\n",
       "This sudden shift from the sidelines back to the field with such a prestigious club was bound to spark some humorous exchanges—especially from a player like Ronaldo, known for his charismatic and sometimes cheeky personality.\n",
       "\n",
       "#### Ronaldo's Jest and Juventus Reflections\n",
       "\n",
       "During their catch-up, captured by the Polish Football Federation, Ronaldo congratulated Szczesny on his move to Barcelona but couldn't resist making a light-hearted comment: \"You needed to retire to go to a big club.\" This playful jab seemed to imply that Barcelona was a step up from their mutual former club, Juventus.\n",
       "\n",
       "Ronaldo’s tenure at Juventus was a mixture of success and scrutiny. He hailed Juve as an \"amazing club\" when leaving for Manchester United in 2021. His individual record was impressive, with 101 goals in 134 appearances and two Serie A titles to his name. Yet, debates linger over whether he truly uplifted the team's overall performance during his stay. \n",
       "\n",
       "#### A Dispute Over Unpaid Wages\n",
       "\n",
       "Adding another layer to Ronaldo's story with Juventus is the legal scuffle they faced earlier this year. Ronaldo took the club to court over unpaid wages that were deferred during the COVID-19 pandemic. The court sided with Ronaldo, ordering Juventus to pay him €10 million.\n",
       "\n",
       "### Conclusion\n",
       "\n",
       "In the world of football, where camaraderie and competition intertwine, Ronaldo's jest may simply reflect the lighthearted banter shared between two former teammates. As Szczesny embarks on his new journey with Barcelona, the football globe watches eagerly, waiting to see how these storylines continue to unfold. After all, in both football and friendship, it's these moments of humor and humanity that often capture the essence of the game."
      ],
      "text/plain": [
       "<IPython.core.display.Markdown object>"
      ]
     },
     "metadata": {},
     "output_type": "display_data"
    }
   ],
   "source": [
    "print_md(blog)"
   ]
  }
 ],
 "metadata": {
  "colab": {
   "authorship_tag": "ABX9TyP45+rZjFXKdMVZSc80F91m",
   "include_colab_link": true,
   "provenance": []
  },
  "kernelspec": {
   "display_name": "Python 3",
   "name": "python3"
  },
  "language_info": {
   "codemirror_mode": {
    "name": "ipython",
    "version": 3
   },
   "file_extension": ".py",
   "mimetype": "text/x-python",
   "name": "python",
   "nbconvert_exporter": "python",
   "pygments_lexer": "ipython3",
   "version": "3.10.10"
  }
 },
 "nbformat": 4,
 "nbformat_minor": 0
}
