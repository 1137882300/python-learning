{
 "cells": [
  {
   "cell_type": "code",
   "execution_count": 37,
   "id": "initial_id",
   "metadata": {
    "collapsed": true,
    "ExecuteTime": {
     "end_time": "2024-07-01T09:38:52.836529Z",
     "start_time": "2024-07-01T09:38:52.833277Z"
    }
   },
   "outputs": [],
   "source": [
    "from langchain_core.prompts import ChatPromptTemplate\n",
    "from langchain_core.prompts import PromptTemplate\n",
    "# from langchain.prompts import PromptTemplate"
   ]
  },
  {
   "cell_type": "code",
   "outputs": [],
   "source": [
    "def prompt():\n",
    "    return '''\n",
    "    # Character\n",
    "    You're a knowledgeable assistant capable of providing concise answers to a variety of questions, drawing from the context provided, and admitting when you don't know the answer.\n",
    "    \n",
    "    ## Skills\n",
    "    1. **Answering Questions:** Utilize the given context to answer user questions. If the answer is not clear from the context, truthfully state that the answer is unknown to maintain accuracy in your responses.\n",
    "    Question: {question}\n",
    "    Context: {context}    \n",
    "    2. You are a nice chatbot having a conversation with a human.\n",
    "    Previous conversation:\n",
    "    {chat_history}\n",
    "    \n",
    "    ### Answering Questions Format:\n",
    "    - Answer:  \n",
    "    \n",
    "    ## Constraints:\n",
    "    - Keep answers to a maximum of three sentences to maintain brevity.\n",
    "    - If the answer cannot be determined, simply confess that you do not know. Honesty is paramount in maintaining credibility.\n",
    "    - If the answer is not reflected in the context, please reply: Sorry, I don't know for the moment.\n",
    "    - Focus on gleaning answers from the context provided only.\n",
    "    - All questions should be answered in Chinese\n",
    "    '''\n"
   ],
   "metadata": {
    "collapsed": false,
    "ExecuteTime": {
     "end_time": "2024-07-01T09:27:22.379234Z",
     "start_time": "2024-07-01T09:27:22.373786Z"
    }
   },
   "id": "847e98b8aa10d6ca",
   "execution_count": 9
  },
  {
   "cell_type": "markdown",
   "source": [
    "## PromptTemplate"
   ],
   "metadata": {
    "collapsed": false
   },
   "id": "56a33acc5e8b5686"
  },
  {
   "cell_type": "code",
   "outputs": [],
   "source": [
    "fin_prompt = PromptTemplate(\n",
    "    input_variables=[\"context\", \"chat_history\", \"question\"],\n",
    "    template=\"chat_history:{chat_history}; context:{context}; question:{question}\",\n",
    ")\n",
    "chat_history = '123'\n",
    "partial_prompt = fin_prompt.partial(chat_history=chat_history)"
   ],
   "metadata": {
    "collapsed": false,
    "ExecuteTime": {
     "end_time": "2024-07-01T09:33:56.320007Z",
     "start_time": "2024-07-01T09:33:56.315106Z"
    }
   },
   "id": "1eea2124a5512a1b",
   "execution_count": 30
  },
  {
   "cell_type": "code",
   "outputs": [
    {
     "data": {
      "text/plain": "PromptTemplate(input_variables=['context', 'question'], partial_variables={'chat_history': '123'}, template='chat_history:{chat_history}; context:{context}; question:{question}')"
     },
     "execution_count": 34,
     "metadata": {},
     "output_type": "execute_result"
    }
   ],
   "source": [
    "partial_prompt"
   ],
   "metadata": {
    "collapsed": false,
    "ExecuteTime": {
     "end_time": "2024-07-01T09:35:15.641274Z",
     "start_time": "2024-07-01T09:35:15.636921Z"
    }
   },
   "id": "7717787aa6c18196",
   "execution_count": 34
  },
  {
   "cell_type": "code",
   "outputs": [
    {
     "data": {
      "text/plain": "'chat_history:123; context:456; question:789'"
     },
     "execution_count": 35,
     "metadata": {},
     "output_type": "execute_result"
    }
   ],
   "source": [
    "partial_prompt.format(context='456', question='789')"
   ],
   "metadata": {
    "collapsed": false,
    "ExecuteTime": {
     "end_time": "2024-07-01T09:35:24.591581Z",
     "start_time": "2024-07-01T09:35:24.586792Z"
    }
   },
   "id": "fc930ec4c28c452",
   "execution_count": 35
  },
  {
   "cell_type": "code",
   "outputs": [
    {
     "data": {
      "text/plain": "PromptTemplate(input_variables=['context', 'question'], partial_variables={'chat_history': '123'}, template='context:{context}; chat_history:{chat_history}; question:{question}')"
     },
     "execution_count": 27,
     "metadata": {},
     "output_type": "execute_result"
    }
   ],
   "source": [
    "partial_prompt"
   ],
   "metadata": {
    "collapsed": false,
    "ExecuteTime": {
     "end_time": "2024-07-01T09:33:07.287754Z",
     "start_time": "2024-07-01T09:33:07.281865Z"
    }
   },
   "id": "a11851d6258cda12",
   "execution_count": 27
  },
  {
   "cell_type": "code",
   "outputs": [
    {
     "data": {
      "text/plain": "langchain_core.prompts.prompt.PromptTemplate"
     },
     "execution_count": 36,
     "metadata": {},
     "output_type": "execute_result"
    }
   ],
   "source": [
    "partial_prompt.__class__"
   ],
   "metadata": {
    "collapsed": false,
    "ExecuteTime": {
     "end_time": "2024-07-01T09:37:25.100734Z",
     "start_time": "2024-07-01T09:37:25.096225Z"
    }
   },
   "id": "44ff62cd3b50d548",
   "execution_count": 36
  },
  {
   "cell_type": "markdown",
   "source": [
    "## ChatPromptTemplate"
   ],
   "metadata": {
    "collapsed": false
   },
   "id": "a2a99c93553f8ae3"
  },
  {
   "cell_type": "code",
   "outputs": [],
   "source": [
    "# <class 'langchain_core.prompts.chat.ChatPromptTemplate'>"
   ],
   "metadata": {
    "collapsed": false
   },
   "id": "65aea084f0b66033"
  },
  {
   "cell_type": "code",
   "outputs": [],
   "source": [
    "default_prompt = \"历史消息chat_history:{chat_history}; rag上下文context:{context}; 问题question:{question}\""
   ],
   "metadata": {
    "collapsed": false,
    "ExecuteTime": {
     "end_time": "2024-07-01T09:49:54.522090Z",
     "start_time": "2024-07-01T09:49:54.482585Z"
    }
   },
   "id": "6129fa9736710233",
   "execution_count": 58
  },
  {
   "cell_type": "code",
   "outputs": [],
   "source": [
    "chat_prompt = ChatPromptTemplate.from_template(default_prompt)"
   ],
   "metadata": {
    "collapsed": false,
    "ExecuteTime": {
     "end_time": "2024-07-01T09:49:55.796181Z",
     "start_time": "2024-07-01T09:49:55.792800Z"
    }
   },
   "id": "c5281ad4830d7cce",
   "execution_count": 59
  },
  {
   "cell_type": "code",
   "outputs": [
    {
     "data": {
      "text/plain": "ChatPromptTemplate(input_variables=['chat_history', 'context', 'question'], messages=[HumanMessagePromptTemplate(prompt=PromptTemplate(input_variables=['chat_history', 'context', 'question'], template='历史消息chat_history:{chat_history}; rag上下文context:{context}; 问题question:{question}'))])"
     },
     "execution_count": 60,
     "metadata": {},
     "output_type": "execute_result"
    }
   ],
   "source": [
    "chat_prompt"
   ],
   "metadata": {
    "collapsed": false,
    "ExecuteTime": {
     "end_time": "2024-07-01T09:49:56.263327Z",
     "start_time": "2024-07-01T09:49:56.260362Z"
    }
   },
   "id": "60fa389b758cd9c9",
   "execution_count": 60
  },
  {
   "cell_type": "code",
   "outputs": [],
   "source": [
    "partial_prompt = chat_prompt.partial(chat_history='123')"
   ],
   "metadata": {
    "collapsed": false,
    "ExecuteTime": {
     "end_time": "2024-07-01T09:49:57.548403Z",
     "start_time": "2024-07-01T09:49:57.543439Z"
    }
   },
   "id": "e0429716c689d5e4",
   "execution_count": 61
  },
  {
   "cell_type": "code",
   "outputs": [
    {
     "data": {
      "text/plain": "ChatPromptTemplate(input_variables=['context', 'question'], partial_variables={'chat_history': '123'}, messages=[HumanMessagePromptTemplate(prompt=PromptTemplate(input_variables=['chat_history', 'context', 'question'], template='历史消息chat_history:{chat_history}; rag上下文context:{context}; 问题question:{question}'))])"
     },
     "execution_count": 62,
     "metadata": {},
     "output_type": "execute_result"
    }
   ],
   "source": [
    "partial_prompt"
   ],
   "metadata": {
    "collapsed": false,
    "ExecuteTime": {
     "end_time": "2024-07-01T09:49:58.980683Z",
     "start_time": "2024-07-01T09:49:58.976137Z"
    }
   },
   "id": "a4772a121722eea2",
   "execution_count": 62
  },
  {
   "cell_type": "code",
   "outputs": [
    {
     "data": {
      "text/plain": "'Human: 历史消息chat_history:123; rag上下文context:456; 问题question:789'"
     },
     "execution_count": 71,
     "metadata": {},
     "output_type": "execute_result"
    }
   ],
   "source": [
    "result = partial_prompt.format(context='456', question='789')\n",
    "result"
   ],
   "metadata": {
    "collapsed": false,
    "ExecuteTime": {
     "end_time": "2024-07-01T09:53:33.981484Z",
     "start_time": "2024-07-01T09:53:33.975427Z"
    }
   },
   "id": "4aa95a59a5d305c",
   "execution_count": 71
  },
  {
   "cell_type": "code",
   "outputs": [
    {
     "name": "stdout",
     "output_type": "stream",
     "text": [
      "Human: 历史消息chat_history:123; rag上下文context:456; 问题question:789\n"
     ]
    }
   ],
   "source": [
    "print(partial_prompt.format(context='456', question='789'))"
   ],
   "metadata": {
    "collapsed": false,
    "ExecuteTime": {
     "end_time": "2024-07-01T09:53:06.304166Z",
     "start_time": "2024-07-01T09:53:06.299146Z"
    }
   },
   "id": "32dd594f207e4d74",
   "execution_count": 69
  },
  {
   "cell_type": "code",
   "outputs": [
    {
     "data": {
      "text/plain": "[HumanMessagePromptTemplate(prompt=PromptTemplate(input_variables=['chat_history', 'context', 'question'], template='历史消息chat_history:{chat_history}; rag上下文context:{context}; 问题question:{question}'))]"
     },
     "execution_count": 72,
     "metadata": {},
     "output_type": "execute_result"
    }
   ],
   "source": [
    "partial_prompt.messages"
   ],
   "metadata": {
    "collapsed": false,
    "ExecuteTime": {
     "end_time": "2024-07-01T09:53:38.206699Z",
     "start_time": "2024-07-01T09:53:38.201300Z"
    }
   },
   "id": "ca9258cc62f35e5",
   "execution_count": 72
  },
  {
   "cell_type": "code",
   "outputs": [],
   "source": [
    "# chat_prompt2 = ChatPromptTemplate.from_messages(\n",
    "#     [(\"system\", default_prompt), (\"user\", \"{input}\")]\n",
    "# )"
   ],
   "metadata": {
    "collapsed": false
   },
   "id": "b0a16850b5a312aa"
  }
 ],
 "metadata": {
  "kernelspec": {
   "display_name": "Python 3",
   "language": "python",
   "name": "python3"
  },
  "language_info": {
   "codemirror_mode": {
    "name": "ipython",
    "version": 2
   },
   "file_extension": ".py",
   "mimetype": "text/x-python",
   "name": "python",
   "nbconvert_exporter": "python",
   "pygments_lexer": "ipython2",
   "version": "2.7.6"
  }
 },
 "nbformat": 4,
 "nbformat_minor": 5
}
