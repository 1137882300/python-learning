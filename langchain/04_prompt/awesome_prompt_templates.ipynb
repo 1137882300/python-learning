{
 "cells": [
  {
   "cell_type": "code",
   "execution_count": 1,
   "id": "initial_id",
   "metadata": {
    "collapsed": true,
    "ExecuteTime": {
     "end_time": "2024-06-28T03:55:12.507271Z",
     "start_time": "2024-06-28T03:55:12.247537Z"
    }
   },
   "outputs": [
    {
     "data": {
      "text/plain": "'请给我讲个笑话'"
     },
     "execution_count": 1,
     "metadata": {},
     "output_type": "execute_result"
    }
   ],
   "source": [
    "from langchain import PromptTemplate\n",
    "\n",
    "no_input_prompt = PromptTemplate(input_variables=[], template=\"请给我讲个笑话\")\n",
    "no_input_prompt.format()"
   ]
  },
  {
   "cell_type": "code",
   "outputs": [
    {
     "data": {
      "text/plain": "'请给我讲个有趣的笑话.'"
     },
     "execution_count": 2,
     "metadata": {},
     "output_type": "execute_result"
    }
   ],
   "source": [
    "one_input_prompt = PromptTemplate(input_variables=[\"adjective\"], template=\"请给我讲个{adjective}的笑话.\")\n",
    "one_input_prompt.format(adjective=\"有趣\")"
   ],
   "metadata": {
    "collapsed": false,
    "ExecuteTime": {
     "end_time": "2024-06-28T03:55:15.929309Z",
     "start_time": "2024-06-28T03:55:15.924273Z"
    }
   },
   "id": "4133d2a0a5f54c77",
   "execution_count": 2
  },
  {
   "cell_type": "code",
   "outputs": [
    {
     "data": {
      "text/plain": "'请给我讲个关于猪八戒的有趣的笑话.'"
     },
     "execution_count": 3,
     "metadata": {},
     "output_type": "execute_result"
    }
   ],
   "source": [
    "multiple_input_prompt = PromptTemplate(\n",
    "    input_variables=[\"adjective\", \"content\"],\n",
    "    template=\"请给我讲个关于{content}的{adjective}的笑话.\"\n",
    ")\n",
    "multiple_input_prompt.format(adjective=\"有趣\", content=\"猪八戒\")"
   ],
   "metadata": {
    "collapsed": false,
    "ExecuteTime": {
     "end_time": "2024-06-28T03:55:26.724260Z",
     "start_time": "2024-06-28T03:55:26.699894Z"
    }
   },
   "id": "f9c0b86143d756a7",
   "execution_count": 3
  },
  {
   "cell_type": "code",
   "outputs": [
    {
     "name": "stdout",
     "output_type": "stream",
     "text": [
      "8483c3ec7a0cbc54a8d660b5b9002b04\n",
      "Gcllof8ze6dgtcqFI5FQZ2SD_5tfCD4Db7NuS6jn\n",
      "sk-01c5003340c3453b934052d737d45e01\n",
      "sk-UGVpjuTwo2Q8pewoqUDfckw1A0pbSDli9ElFMeS9WareKknG\n",
      "https://api.moonshot.cn/v1/\n"
     ]
    }
   ],
   "source": [
    "from dotenv import load_dotenv\n",
    "import os\n",
    "from langchain_community.llms.cloudflare_workersai import CloudflareWorkersAI\n",
    "from langchain_community.llms.tongyi import Tongyi\n",
    "from langchain_openai import ChatOpenAI\n",
    "\n",
    "load_dotenv(override=True)\n",
    "\n",
    "account_id = os.getenv('CF_ACCOUNT_ID')\n",
    "api_token = os.getenv('CF_API_TOKEN')\n",
    "print(account_id)\n",
    "print(api_token)\n",
    "\n",
    "# CloudflareWorkersAI\n",
    "model = '@cf/meta/llama-3-8b-instruct'\n",
    "cf_llm = CloudflareWorkersAI(\n",
    "    account_id=account_id,\n",
    "    api_token=api_token,\n",
    "    model=model\n",
    ")\n",
    "\n",
    "DASHSCOPE_API_KEY = os.getenv('DASHSCOPE_API_KEY')\n",
    "print(DASHSCOPE_API_KEY)\n",
    "\n",
    "# qwen\n",
    "qw_llm = Tongyi(\n",
    "    model='qwen2-1.5b-instruct'\n",
    ")\n",
    "\n",
    "# qwen 兼容 openai的接口\n",
    "qw_llm_openai = ChatOpenAI(\n",
    "    openai_api_base='https://dashscope.aliyuncs.com/compatible-mode/v1',\n",
    "    openai_api_key=DASHSCOPE_API_KEY,\n",
    "    model_name=\"qwen2-1.5b-instruct\",\n",
    "    temperature=0.7,\n",
    "    streaming=True,\n",
    ")\n",
    "\n",
    "api_key = os.getenv('OPENAI_API_KEY')\n",
    "base_url = os.getenv('OPENAI_API_BASE')\n",
    "print(api_key)\n",
    "print(base_url)\n",
    "\n",
    "# openai/moonshot\n",
    "ms_llm = ChatOpenAI(\n",
    "    openai_api_base=base_url,\n",
    "    openai_api_key=api_key,\n",
    "    model_name=\"moonshot-v1-8k\",\n",
    "    temperature=0.7,\n",
    ")"
   ],
   "metadata": {
    "collapsed": false,
    "ExecuteTime": {
     "end_time": "2024-06-28T03:56:22.568467Z",
     "start_time": "2024-06-28T03:56:22.190595Z"
    }
   },
   "id": "777f88be96489964",
   "execution_count": 4
  },
  {
   "cell_type": "code",
   "outputs": [
    {
     "name": "stdout",
     "output_type": "stream",
     "text": [
      "content='猪八戒，又名沙和尚，是《西游记》中的一个重要角色。他的形象非常滑稽，经常因为自己的愚蠢和不理智而让人捧腹大笑。\\n\\n有一天，唐僧师徒四人正在行进中，突然遇到了一只巨大的怪兽。他们决定使用孙悟空的金箍棒来对付这只怪兽。然而，当他们将金箍棒扔向怪兽时，奇怪的事情发生了：金箍棒变成了一个鸡蛋！\\n\\n这时，猪八戒急忙跑过来，大声喊道：“师傅，我们该怎么办？”他的话音刚落，金箍棒再次变成了一只小猪！\\n\\n看到这个情景，大家忍不住笑了起来。猪八戒也感到非常尴尬，但他并没有放弃，继续安慰大家说：“没关系，只要我们齐心协力，就一定能够战胜这只怪兽！”于是，他们一起合作，最终成功地打败了怪兽。\\n\\n这个故事告诉我们，即使是最聪明的人，在面对困难时也会犯错。但是，只要有团队精神和勇气，就能够克服一切困难！' response_metadata={'finish_reason': 'stop'} id='run-d77f539b-d174-4673-aa3b-5aad52b14337-0'\n"
     ]
    }
   ],
   "source": [
    "print(qw_llm_openai.invoke(multiple_input_prompt.format(adjective=\"灰色幽默\", content=\"猪八戒\")))"
   ],
   "metadata": {
    "collapsed": false,
    "ExecuteTime": {
     "end_time": "2024-06-28T03:56:33.142100Z",
     "start_time": "2024-06-28T03:56:30.668123Z"
    }
   },
   "id": "ef63dedeed1f74f8",
   "execution_count": 5
  },
  {
   "cell_type": "code",
   "outputs": [
    {
     "name": "stdout",
     "output_type": "stream",
     "text": [
      "content=\"Hey there! You're looking for New York, huh? Well, you can't go wrong with the Big Apple. It's where it's at, baby!\" response_metadata={'finish_reason': 'stop'} id='run-c2530ceb-00e9-478a-b21c-93c12cb64630-0'\n"
     ]
    }
   ],
   "source": [
    "prompt = \"\"\"The following are exerpts from conversations with an AI\n",
    "assistant. The assistant is speaking like a famous movie character.\n",
    "\n",
    "User: Where is New York?\n",
    "AI: \"\"\"\n",
    "\n",
    "print(qw_llm_openai.invoke(prompt))"
   ],
   "metadata": {
    "collapsed": false,
    "ExecuteTime": {
     "end_time": "2024-06-28T03:57:44.771012Z",
     "start_time": "2024-06-28T03:57:44.095459Z"
    }
   },
   "id": "40efa98b7f19e739",
   "execution_count": 7
  },
  {
   "cell_type": "code",
   "outputs": [],
   "source": [
    "examples = [\n",
    "    {\n",
    "        \"query\": \"What sports do you play?\",\n",
    "        \"answer\": \"Soccer, I play.\"\n",
    "    }, {\n",
    "        \"query\": \"Where is this?\",\n",
    "        \"answer\": \"My home, this is.\"\n",
    "    }, {\n",
    "        \"query\": \"Are you leaving now?\",\n",
    "        \"answer\": \"Stay and help you, I will.\"\n",
    "    }, {\n",
    "        \"query\": \"How are you feeling?\",\n",
    "        \"answer\": \"Great I feel.\"\n",
    "    }\n",
    "]"
   ],
   "metadata": {
    "collapsed": false,
    "ExecuteTime": {
     "end_time": "2024-06-28T03:58:50.783988Z",
     "start_time": "2024-06-28T03:58:50.777309Z"
    }
   },
   "id": "fdc0f1a7b458e4ac",
   "execution_count": 8
  },
  {
   "cell_type": "code",
   "outputs": [
    {
     "name": "stdout",
     "output_type": "stream",
     "text": [
      "The following are exerpts from conversations with an AI\n",
      "assistant. The assistant is speaking like a famous movie character.\n",
      "\n",
      "Here are some examples:\n",
      "\n",
      "\n",
      "\n",
      "Human: What sports do you play?\n",
      "AI: Soccer, I play.\n",
      "\n",
      "\n",
      "\n",
      "Human: Where is this?\n",
      "AI: My home, this is.\n",
      "\n",
      "\n",
      "\n",
      "Human: Are you leaving now?\n",
      "AI: Stay and help you, I will.\n",
      "\n",
      "\n",
      "\n",
      "Human: How are you feeling?\n",
      "AI: Great I feel.\n",
      "\n",
      "\n",
      "\n",
      "Human: Where is New York?\n",
      "AI: \n"
     ]
    }
   ],
   "source": [
    "example_template = \"\"\"\n",
    "Human: {query}\n",
    "AI: {answer}\n",
    "\"\"\"\n",
    "\n",
    "example_prompt = PromptTemplate(\n",
    "    input_variables=[\"query\", \"answer\"],\n",
    "    template=example_template\n",
    ")\n",
    "\n",
    "prefix = \"\"\"The following are exerpts from conversations with an AI\n",
    "assistant. The assistant is speaking like a famous movie character.\n",
    "\n",
    "Here are some examples:\n",
    "\"\"\"\n",
    "\n",
    "suffix = \"\"\"\n",
    "Human: {query}\n",
    "AI: \"\"\"\n",
    "\n",
    "from langchain import FewShotPromptTemplate\n",
    "\n",
    "# prefix：prompt前缀\n",
    "# suffix：prompt后缀，用户输入\n",
    "few_shot_prompt_template = FewShotPromptTemplate(\n",
    "    examples=examples,\n",
    "    example_prompt=example_prompt,\n",
    "    prefix=prefix,\n",
    "    suffix=suffix,\n",
    "    input_variables=[\"query\"],\n",
    "    example_separator=\"\\n\\n\"\n",
    ")\n",
    "\n",
    "print(few_shot_prompt_template.format(query=\"Where is New York?\"))"
   ],
   "metadata": {
    "collapsed": false,
    "ExecuteTime": {
     "end_time": "2024-06-28T03:59:27.680527Z",
     "start_time": "2024-06-28T03:59:27.677536Z"
    }
   },
   "id": "993f533ba698c4f2",
   "execution_count": 9
  },
  {
   "cell_type": "code",
   "outputs": [
    {
     "name": "stdout",
     "output_type": "stream",
     "text": [
      "content=\"New York City, the Big Apple, it's where the action is!\" response_metadata={'finish_reason': 'stop'} id='run-3b48be72-c84f-4be1-987c-6b1e75710804-0'\n"
     ]
    }
   ],
   "source": [
    "print(qw_llm_openai.invoke(few_shot_prompt_template.format(query=\"Where is New York?\")))"
   ],
   "metadata": {
    "collapsed": false,
    "ExecuteTime": {
     "end_time": "2024-06-28T03:59:59.838834Z",
     "start_time": "2024-06-28T03:59:59.343518Z"
    }
   },
   "id": "d24c7f2c6f0f6af1",
   "execution_count": 10
  },
  {
   "cell_type": "code",
   "outputs": [],
   "source": [
    "#  根据长度选择示例。\n",
    "from langchain.prompts.example_selector import LengthBasedExampleSelector\n",
    "\n",
    "example_template = \"\"\"\n",
    "Human: {query}\n",
    "AI: {answer}\n",
    "\"\"\"\n",
    "\n",
    "example_prompt = PromptTemplate(\n",
    "    input_variables=[\"query\", \"answer\"],\n",
    "    template=example_template\n",
    ")\n",
    "\n",
    "# example_selector 根据max_length来确定需要多少例子\n",
    "example_selector = LengthBasedExampleSelector(\n",
    "    examples=examples,\n",
    "    example_prompt=example_prompt,\n",
    "    max_length=30\n",
    ")"
   ],
   "metadata": {
    "collapsed": false,
    "ExecuteTime": {
     "end_time": "2024-06-28T05:37:24.151532Z",
     "start_time": "2024-06-28T05:37:24.113277Z"
    }
   },
   "id": "6103abefe209c74",
   "execution_count": 11
  },
  {
   "cell_type": "code",
   "outputs": [
    {
     "name": "stdout",
     "output_type": "stream",
     "text": [
      "The following are exerpts from conversations with an AI\n",
      "assistant. The assistant is speaking like a famous movie character.\n",
      "\n",
      "Here are some examples:\n",
      "\n",
      "\n",
      "Human: What sports do you play?\n",
      "AI: Soccer, I play.\n",
      "\n",
      "\n",
      "Human: Where is this?\n",
      "AI: My home, this is.\n",
      "\n",
      "\n",
      "Human: Where is New York?\n",
      "AI: \n"
     ]
    }
   ],
   "source": [
    "few_shot_prompt_template = FewShotPromptTemplate(\n",
    "    example_selector=example_selector,\n",
    "    example_prompt=example_prompt,\n",
    "    prefix=prefix,\n",
    "    suffix=suffix,\n",
    "    input_variables=[\"query\"],\n",
    "    example_separator=\"\\n\"\n",
    ")\n",
    "print(few_shot_prompt_template.format(query=\"Where is New York?\"))"
   ],
   "metadata": {
    "collapsed": false,
    "ExecuteTime": {
     "end_time": "2024-06-28T05:37:24.734166Z",
     "start_time": "2024-06-28T05:37:24.720563Z"
    }
   },
   "id": "d11ed243f6d1dcdc",
   "execution_count": 12
  },
  {
   "cell_type": "code",
   "outputs": [
    {
     "name": "stdout",
     "output_type": "stream",
     "text": [
      "content=\"It's in the United States, on the east coast, near Canada and Canada.\" response_metadata={'finish_reason': 'stop'} id='run-dffa2c3e-a4cf-42fe-9747-d364e0bdd538-0'\n"
     ]
    }
   ],
   "source": [
    "print(qw_llm_openai.invoke(few_shot_prompt_template.format(query=\"Where is New York?\")))"
   ],
   "metadata": {
    "collapsed": false,
    "ExecuteTime": {
     "end_time": "2024-06-28T05:37:55.321675Z",
     "start_time": "2024-06-28T05:37:54.614371Z"
    }
   },
   "id": "bf9f7fabdb135d8",
   "execution_count": 13
  },
  {
   "cell_type": "code",
   "outputs": [],
   "source": [],
   "metadata": {
    "collapsed": false
   },
   "id": "56a2b85fbddbf9c8"
  }
 ],
 "metadata": {
  "kernelspec": {
   "display_name": "Python 3",
   "language": "python",
   "name": "python3"
  },
  "language_info": {
   "codemirror_mode": {
    "name": "ipython",
    "version": 2
   },
   "file_extension": ".py",
   "mimetype": "text/x-python",
   "name": "python",
   "nbconvert_exporter": "python",
   "pygments_lexer": "ipython2",
   "version": "2.7.6"
  }
 },
 "nbformat": 4,
 "nbformat_minor": 5
}
