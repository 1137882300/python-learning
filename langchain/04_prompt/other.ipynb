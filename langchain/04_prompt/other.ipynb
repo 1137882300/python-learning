{
 "cells": [
  {
   "cell_type": "code",
   "execution_count": null,
   "id": "initial_id",
   "metadata": {
    "collapsed": true
   },
   "outputs": [],
   "source": [
    "# 图片变视频\n",
    "prompt = \"\"\"\n",
    "这是海边拍摄的一张全景照片。请将其压缩为原始大小的50%，转换为平移视频。视频视角从照片左边开始，实现缓慢的平滑追拍，移动方向从左向右，到最右侧后平滑回移到中间，并结束。\n",
    "\n",
    "你可能需要使用imageio等Python包来辅助完成工作。将生成的帧存为视频。请自行计算帧率，确保视频平滑。\n",
    "\n",
    "你需要注意一下几点：\n",
    "1. 正确处理图片，确保所有帧都正确地被图片内容填充，必要时在追拍到左侧或右侧时裁剪图片，以确保视频视角内图像完整。\n",
    "2. 视频必须平滑。\"\"\""
   ]
  }
 ],
 "metadata": {
  "kernelspec": {
   "display_name": "Python 3",
   "language": "python",
   "name": "python3"
  },
  "language_info": {
   "codemirror_mode": {
    "name": "ipython",
    "version": 2
   },
   "file_extension": ".py",
   "mimetype": "text/x-python",
   "name": "python",
   "nbconvert_exporter": "python",
   "pygments_lexer": "ipython2",
   "version": "2.7.6"
  }
 },
 "nbformat": 4,
 "nbformat_minor": 5
}
