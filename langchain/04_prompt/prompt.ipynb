{
 "cells": [
  {
   "cell_type": "code",
   "execution_count": null,
   "id": "initial_id",
   "metadata": {
    "collapsed": true
   },
   "outputs": [],
   "source": [
    "from langchain_core.prompts import ChatPromptTemplate, PromptTemplate\n",
    "\n",
    "# 中文: 给定以下对话和后续问题，将后续问题改写成一个独立的问题，使用其原始语言。如果没有聊天记录，就直接将问题改写成一个独立的问题。\n",
    "condense_question_prompt_template = \"\"\"Given the following conversation and a follow up question, rephrase the follow up question to be a standalone question, in its original language. If there is no chat history, just rephrase the question to be a standalone question.\n",
    "\n",
    "Chat History:\n",
    "{chat_history}\n",
    "Follow Up Input: {question}\n",
    "\"\"\"  # noqa: E501\n",
    "CONDENSE_QUESTION_PROMPT = PromptTemplate.from_template(\n",
    "    condense_question_prompt_template\n",
    ")"
   ]
  },
  {
   "cell_type": "code",
   "outputs": [],
   "source": [
    "# 中文: 使用以下段落来回答用户的问题。\n",
    "# 每个段落都有一个来源，即文档的标题。回答时，在答案下方以独特的项目符号列表形式引用您回答所依据的段落的来源名称。\n",
    "# 如果您不知道答案，就说您不知道，不要试图编造答案。\n",
    "llm_context_prompt_template = \"\"\"\n",
    "Use the following passages to answer the user's question.\n",
    "Each passage has a SOURCE which is the title of the document. When answering, cite source name of the passages you are answering from below the answer in a unique bullet point list.\n",
    "\n",
    "If you don't know the answer, just say that you don't know, don't try to make up an answer.\n",
    "\n",
    "----\n",
    "{context}\n",
    "----\n",
    "Question: {question}\n",
    "\"\"\"  # noqa: E501 🔤 中文: （表示告知代码检查工具忽略 E501 这个错误或警告）\n",
    "\n",
    "LLM_CONTEXT_PROMPT = ChatPromptTemplate.from_template(llm_context_prompt_template)"
   ],
   "metadata": {
    "collapsed": false
   },
   "id": "5359ed25ffccfda9"
  }
 ],
 "metadata": {
  "kernelspec": {
   "display_name": "Python 3",
   "language": "python",
   "name": "python3"
  },
  "language_info": {
   "codemirror_mode": {
    "name": "ipython",
    "version": 2
   },
   "file_extension": ".py",
   "mimetype": "text/x-python",
   "name": "python",
   "nbconvert_exporter": "python",
   "pygments_lexer": "ipython2",
   "version": "2.7.6"
  }
 },
 "nbformat": 4,
 "nbformat_minor": 5
}
