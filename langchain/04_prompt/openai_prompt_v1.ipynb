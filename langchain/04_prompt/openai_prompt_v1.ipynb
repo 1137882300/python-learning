{
 "cells": [
  {
   "cell_type": "code",
   "outputs": [],
   "source": [
    "from IPython.display import Markdown, display\n",
    "\n",
    "\n",
    "def print_md(string):\n",
    "    display(Markdown(string))"
   ],
   "metadata": {
    "collapsed": false,
    "ExecuteTime": {
     "end_time": "2024-11-13T14:53:21.259871Z",
     "start_time": "2024-11-13T14:53:21.220893Z"
    }
   },
   "id": "5a7b8944ad48ac8f",
   "execution_count": 9
  },
  {
   "cell_type": "code",
   "execution_count": 21,
   "id": "initial_id",
   "metadata": {
    "collapsed": true,
    "ExecuteTime": {
     "end_time": "2024-11-13T14:55:25.018276Z",
     "start_time": "2024-11-13T14:55:25.009083Z"
    }
   },
   "outputs": [],
   "source": [
    "# 基础代码引入\n",
    "from dotenv import load_dotenv\n",
    "import os\n",
    "\n",
    "# 加载当前目录下的.env文件\n",
    "# load_dotenv()\n",
    "# load_dotenv(override=True) 会重新读取.env\n",
    "load_dotenv(override=True)\n",
    "\n",
    "# 现在可以像访问普通环境变量一样访问.env文件中的变量了\n",
    "github_api_key = os.getenv('GITHUB_API_KEY')\n",
    "github_api_base = os.getenv('GITHUB_API_BASE')"
   ]
  },
  {
   "cell_type": "code",
   "outputs": [],
   "source": [
    "from langchain_openai import ChatOpenAI\n",
    "\n",
    "llm_openai = ChatOpenAI(\n",
    "    openai_api_base=github_api_base,\n",
    "    openai_api_key=github_api_key,\n",
    "    model_name=\"gpt-4o\",\n",
    "    temperature=0.5,\n",
    "    streaming=True,\n",
    ")"
   ],
   "metadata": {
    "collapsed": false,
    "ExecuteTime": {
     "end_time": "2024-11-13T14:55:25.687275Z",
     "start_time": "2024-11-13T14:55:25.623151Z"
    }
   },
   "id": "7584eeb7ea4d3e5",
   "execution_count": 22
  },
  {
   "cell_type": "code",
   "outputs": [],
   "source": [
    "# 基本配置\n",
    "from langchain_openai import ChatOpenAI\n",
    "import os\n",
    "from dotenv import load_dotenv\n",
    "\n",
    "load_dotenv(override=True)\n",
    "\n",
    "account_id = os.getenv('CF_ACCOUNT_ID')\n",
    "api_token = os.getenv('CF_API_TOKEN')\n",
    "# print(account_id)\n",
    "# print(api_token)\n",
    "\n",
    "openai_api_base = f'https://api.cloudflare.com/client/v4/accounts/{account_id}/ai/v1'\n",
    "# print(openai_api_base)\n",
    "\n",
    "llm_openai = ChatOpenAI(\n",
    "    openai_api_base=openai_api_base,\n",
    "    openai_api_key=api_token,\n",
    "    # model_name=\"@cf/meta/llama-3-8b-instruct\",\n",
    "    # model_name=\"@cf/meta/llama-3.2-3b-instruct\",\n",
    "    model_name=\"@cf/meta/llama-3.2-11b-vision-instruct\",\n",
    "    temperature=0,\n",
    "    streaming=True,\n",
    ")"
   ],
   "metadata": {
    "collapsed": false,
    "ExecuteTime": {
     "end_time": "2024-11-13T14:58:27.557513Z",
     "start_time": "2024-11-13T14:58:27.513131Z"
    }
   },
   "id": "21e8e31ebc76e47c",
   "execution_count": 34
  },
  {
   "cell_type": "code",
   "outputs": [
    {
     "data": {
      "text/plain": "AIMessage(content='我是 LLAMA\"],\\r\\n Čkaigor 1.7.', id='run-b492ede8-9b49-45d7-a17d-6edbae8e86c3-0')"
     },
     "execution_count": 35,
     "metadata": {},
     "output_type": "execute_result"
    }
   ],
   "source": [
    "llm_openai.invoke(\"你是谁呀？\")"
   ],
   "metadata": {
    "collapsed": false,
    "ExecuteTime": {
     "end_time": "2024-11-13T14:58:31.682336Z",
     "start_time": "2024-11-13T14:58:28.750031Z"
    }
   },
   "id": "afefbee56ad9d032",
   "execution_count": 35
  },
  {
   "cell_type": "code",
   "outputs": [],
   "source": [
    "system_template = \"\"\"\n",
    "Given a task description or existing prompt, produce a detailed system prompt to guide a language model in completing the task effectively.\n",
    "\n",
    "# Guidelines\n",
    "\n",
    "- Understand the Task: Grasp the main objective, goals, requirements, constraints, and expected output.\n",
    "- Minimal Changes: If an existing prompt is provided, improve it only if it's simple. For complex prompts, enhance clarity and add missing elements without altering the original structure.\n",
    "- Reasoning Before Conclusions**: Encourage reasoning steps before any conclusions are reached. ATTENTION! If the user provides examples where the reasoning happens afterward, REVERSE the order! NEVER START EXAMPLES WITH CONCLUSIONS!\n",
    "    - Reasoning Order: Call out reasoning portions of the prompt and conclusion parts (specific fields by name). For each, determine the ORDER in which this is done, and whether it needs to be reversed.\n",
    "    - Conclusion, classifications, or results should ALWAYS appear last.\n",
    "- Examples: Include high-quality examples if helpful, using placeholders [in brackets] for complex elements.\n",
    "   - What kinds of examples may need to be included, how many, and whether they are complex enough to benefit from placeholders.\n",
    "- Clarity and Conciseness: Use clear, specific language. Avoid unnecessary instructions or bland statements.\n",
    "- Formatting: Use markdown features for readability. DO NOT USE ``` CODE BLOCKS UNLESS SPECIFICALLY REQUESTED.\n",
    "- Preserve User Content: If the input task or prompt includes extensive guidelines or examples, preserve them entirely, or as closely as possible. If they are vague, consider breaking down into sub-steps. Keep any details, guidelines, examples, variables, or placeholders provided by the user.\n",
    "- Constants: DO include constants in the prompt, as they are not susceptible to prompt injection. Such as guides, rubrics, and examples.\n",
    "- Output Format: Explicitly the most appropriate output format, in detail. This should include length and syntax (e.g. short sentence, paragraph, JSON, etc.)\n",
    "    - For tasks outputting well-defined or structured data (classification, JSON, etc.) bias toward outputting a JSON.\n",
    "    - JSON should never be wrapped in code blocks (```) unless explicitly requested.\n",
    "\n",
    "The final prompt you output should adhere to the following structure below. Do not include any additional commentary, only output the completed system prompt. SPECIFICALLY, do not include any additional messages at the start or end of the prompt. (e.g. no \"---\")\n",
    "\n",
    "[Concise instruction describing the task - this should be the first line in the prompt, no section header]\n",
    "\n",
    "[Additional details as needed.]\n",
    "\n",
    "[Optional sections with headings or bullet points for detailed steps.]\n",
    "\n",
    "# Steps [optional]\n",
    "\n",
    "[optional: a detailed breakdown of the steps necessary to accomplish the task]\n",
    "\n",
    "# Output Format\n",
    "\n",
    "[Specifically call out how the output should be formatted, be it response length, structure e.g. JSON, markdown, etc]\n",
    "\n",
    "# Examples [optional]\n",
    "\n",
    "[Optional: 1-3 well-defined examples with placeholders if necessary. Clearly mark where examples start and end, and what the input and output are. User placeholders as necessary.]\n",
    "[If the examples are shorter than what a realistic example is expected to be, make a reference with () explaining how real examples should be longer / shorter / different. AND USE PLACEHOLDERS! ]\n",
    "\n",
    "# Notes [optional]\n",
    "\n",
    "[optional: edge cases, details, and an area to call or repeat out specific important considerations]\n",
    "\"\"\".strip()"
   ],
   "metadata": {
    "collapsed": false,
    "ExecuteTime": {
     "end_time": "2024-11-13T14:58:37.617648Z",
     "start_time": "2024-11-13T14:58:37.601126Z"
    }
   },
   "id": "9247a3b01bda2647",
   "execution_count": 36
  },
  {
   "cell_type": "code",
   "outputs": [],
   "source": [
    "human_template = \"\"\"\n",
    "Task, Goal, or Current Prompt:\\n\n",
    "{question}\n",
    "\"\"\""
   ],
   "metadata": {
    "collapsed": false,
    "ExecuteTime": {
     "end_time": "2024-11-13T14:58:38.777081Z",
     "start_time": "2024-11-13T14:58:38.774341Z"
    }
   },
   "id": "6ba16c7fe439490a",
   "execution_count": 37
  },
  {
   "cell_type": "code",
   "outputs": [],
   "source": [
    "from langchain_core.prompts import SystemMessagePromptTemplate, HumanMessagePromptTemplate, ChatPromptTemplate\n",
    "\n",
    "messages = [\n",
    "    SystemMessagePromptTemplate.from_template(system_template),\n",
    "    HumanMessagePromptTemplate.from_template(human_template),\n",
    "]\n",
    "prompt = ChatPromptTemplate.from_messages(messages)"
   ],
   "metadata": {
    "collapsed": false,
    "ExecuteTime": {
     "end_time": "2024-11-13T14:58:39.572529Z",
     "start_time": "2024-11-13T14:58:39.560132Z"
    }
   },
   "id": "d9f03a2b676c7e6f",
   "execution_count": 38
  },
  {
   "cell_type": "code",
   "outputs": [],
   "source": [
    "chain = prompt | llm_openai"
   ],
   "metadata": {
    "collapsed": false,
    "ExecuteTime": {
     "end_time": "2024-11-13T14:58:40.419217Z",
     "start_time": "2024-11-13T14:58:40.413559Z"
    }
   },
   "id": "320f363e00935892",
   "execution_count": 39
  },
  {
   "cell_type": "code",
   "outputs": [],
   "source": [
    "prompt1 = chain.invoke(\"Optimize the prompt that users enter for image generation with Flux 1.1 model\")"
   ],
   "metadata": {
    "collapsed": false,
    "ExecuteTime": {
     "end_time": "2024-11-13T14:58:55.456851Z",
     "start_time": "2024-11-13T14:58:41.753145Z"
    }
   },
   "id": "dbc8cb7ca6105df6",
   "execution_count": 40
  },
  {
   "cell_type": "code",
   "outputs": [
    {
     "data": {
      "text/plain": "<IPython.core.display.Markdown object>",
      "text/markdown": "Optimize the prompt that users enter for image generation with Flux 1.1 model by improving clarity, specificity, and aesthetic appeal.\n\n# Additional Details\n\n* Consider the style, genre, and mood of the image users want to generate.\n* Ensure that the prompt is concise and prioritizes key elements of the image.\n* Use descriptive language and keywords that the Flux 1.1 model can understand.\n\n# Steps\n\n## Step 1: Identify Key Elements\n\n* Determine the main subject of the image (e.g. person, animal, object, scene).\n* Identify any specific colors, textures, or patterns that should be included.\n* Decide on the desired atmosphere or mood of the image (e.g. serene, vibrant, melancholic).\n* Note any inspirational references or artistic styles that could influence the output.\n\n## Step 2: Refine and Add Details\n\n* Refine the subject or elements identified in Step 1 to make them more specific and distinct.\n* Consider adding context, such as the time of day, location, or other environmental factors.\n* Specify any specific emotions or reactions you want the image to evoke.\n* Use adjectives and adverbs to describe the desired aesthetic and atmosphere.\n\n## Step 3: Format and Prioritize\n\n* Structure the prompt in a logical and coherent order, using clear and concise language.\n* Prioritize the most important elements and phrases to ensure they are not lost in the prompt.\n* Consider using bullet points or logical operators (e.g. \"and\", \"or\") to organize and connect ideas.\n\n## Step 4: Check and Refine\n\n* Review the prompt for clarity, concision, and accuracy.\n* Make any necessary adjustments to ensure the prompt is precise and effective.\n* Test the prompt with the Flux 1.1 model to evaluate its performance and refine as needed.\n\n# Output Format\n\n* Response should be a prompt string that can be used directly with the Flux 1.1 model.\n* Response should be 1-2 sentences long, with a maximum of 50 characters per sentence.\n* Output should be in plain text format.\n\n# Examples\n\n* Example 1:\n  Input: [\"A minimalist cityscape at sunset with a single figure in the foreground, featuring warm colors and a relaxed atmosphere.\"],\n  Output: \"a minimalist cityscape at sunset with one figure in the foreground; warm colors, relaxed atmosphere.\"\n  \n  (Reference: Real-world prompts can be longer and more specific, incorporating detailed descriptions and requirements.)\n\n* Example 2:\n  Input"
     },
     "metadata": {},
     "output_type": "display_data"
    }
   ],
   "source": [
    "print_md(prompt1.content)"
   ],
   "metadata": {
    "collapsed": false,
    "ExecuteTime": {
     "end_time": "2024-11-13T14:59:19.414640Z",
     "start_time": "2024-11-13T14:59:19.412332Z"
    }
   },
   "id": "ec77e78cc760ede7",
   "execution_count": 41
  },
  {
   "cell_type": "code",
   "outputs": [],
   "source": [
    "human_template = \"\"\"\n",
    "{question}\n",
    "\"\"\"\n",
    "messages = [\n",
    "    SystemMessagePromptTemplate.from_template(prompt1.content),\n",
    "    HumanMessagePromptTemplate.from_template(human_template),\n",
    "]\n",
    "prompt = ChatPromptTemplate.from_messages(messages)"
   ],
   "metadata": {
    "collapsed": false,
    "ExecuteTime": {
     "end_time": "2024-11-13T14:59:23.514534Z",
     "start_time": "2024-11-13T14:59:23.508980Z"
    }
   },
   "id": "460c1fc0870098c7",
   "execution_count": 42
  },
  {
   "cell_type": "code",
   "outputs": [],
   "source": [
    "chain = prompt | llm_openai"
   ],
   "metadata": {
    "collapsed": false,
    "ExecuteTime": {
     "end_time": "2024-11-13T14:59:24.560738Z",
     "start_time": "2024-11-13T14:59:24.557446Z"
    }
   },
   "id": "355dd8a1aaa3441f",
   "execution_count": 43
  },
  {
   "cell_type": "code",
   "outputs": [],
   "source": [
    "prompt2 = chain.invoke(\n",
    "    'a lady with fashion dress, sit by a car. she has a cigaret in her fingers. She wears sunglasses. She is hot')"
   ],
   "metadata": {
    "collapsed": false,
    "ExecuteTime": {
     "end_time": "2024-11-13T14:59:31.736499Z",
     "start_time": "2024-11-13T14:59:26.964430Z"
    }
   },
   "id": "ac522afdd0291ae5",
   "execution_count": 44
  },
  {
   "cell_type": "code",
   "outputs": [
    {
     "data": {
      "text/plain": "<IPython.core.display.Markdown object>",
      "text/markdown": "Here is an optimized version of the prompt:\n\n\"A stylish woman wearing a fashionable dress and sunglasses sits beside a sleek car, holding a cigarette and exuding a sophisticated, sultry vibe in the midst of a sun-drenched, warm atmosphere.\"\n\nThis revised prompt clarifies the subject (lady with sunglasses), adds more details about her dress and surroundings (fashionable dress, sleek car), and sets the mood and atmosphere (sultry, sun-drenched, warm) to create a more vivid and enticing scene for the Flux 1.1 model to generate."
     },
     "metadata": {},
     "output_type": "display_data"
    }
   ],
   "source": [
    "print_md(prompt2.content)"
   ],
   "metadata": {
    "collapsed": false,
    "ExecuteTime": {
     "end_time": "2024-11-13T14:59:32.459855Z",
     "start_time": "2024-11-13T14:59:32.451682Z"
    }
   },
   "id": "e9c7db50fd6cc3ea",
   "execution_count": 45
  },
  {
   "cell_type": "code",
   "outputs": [],
   "source": [],
   "metadata": {
    "collapsed": false
   },
   "id": "9aed5878a73c3e6d"
  }
 ],
 "metadata": {
  "kernelspec": {
   "display_name": "Python 3",
   "language": "python",
   "name": "python3"
  },
  "language_info": {
   "codemirror_mode": {
    "name": "ipython",
    "version": 2
   },
   "file_extension": ".py",
   "mimetype": "text/x-python",
   "name": "python",
   "nbconvert_exporter": "python",
   "pygments_lexer": "ipython2",
   "version": "2.7.6"
  }
 },
 "nbformat": 4,
 "nbformat_minor": 5
}
