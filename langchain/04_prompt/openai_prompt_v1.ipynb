{
 "cells": [
  {
   "cell_type": "code",
   "outputs": [],
   "source": [
    "from IPython.display import Markdown, display\n",
    "\n",
    "\n",
    "def print_md(string):\n",
    "    display(Markdown(string))"
   ],
   "metadata": {
    "collapsed": false,
    "ExecuteTime": {
     "end_time": "2024-10-21T10:04:45.076183Z",
     "start_time": "2024-10-21T10:04:45.070979Z"
    }
   },
   "id": "5a7b8944ad48ac8f",
   "execution_count": 9
  },
  {
   "cell_type": "code",
   "execution_count": 1,
   "id": "initial_id",
   "metadata": {
    "collapsed": true,
    "ExecuteTime": {
     "end_time": "2024-10-21T09:53:49.995311Z",
     "start_time": "2024-10-21T09:53:49.985635Z"
    }
   },
   "outputs": [],
   "source": [
    "# 基础代码引入\n",
    "from dotenv import load_dotenv\n",
    "import os\n",
    "\n",
    "# 加载当前目录下的.env文件\n",
    "# load_dotenv()\n",
    "# load_dotenv(override=True) 会重新读取.env\n",
    "load_dotenv(override=True)\n",
    "\n",
    "# 现在可以像访问普通环境变量一样访问.env文件中的变量了\n",
    "github_api_key = os.getenv('GITHUB_API_KEY')\n",
    "github_api_base = os.getenv('GITHUB_API_BASE')"
   ]
  },
  {
   "cell_type": "code",
   "outputs": [],
   "source": [
    "from langchain_openai import ChatOpenAI\n",
    "\n",
    "llm_openai = ChatOpenAI(\n",
    "    openai_api_base=github_api_base,\n",
    "    openai_api_key=github_api_key,\n",
    "    model_name=\"gpt-4o\",\n",
    "    temperature=0.5,\n",
    "    streaming=True,\n",
    ")"
   ],
   "metadata": {
    "collapsed": false,
    "ExecuteTime": {
     "end_time": "2024-10-21T09:53:58.255888Z",
     "start_time": "2024-10-21T09:53:57.663600Z"
    }
   },
   "id": "7584eeb7ea4d3e5",
   "execution_count": 2
  },
  {
   "cell_type": "code",
   "outputs": [
    {
     "data": {
      "text/plain": "AIMessage(content='我是一个AI助手，专门用来回答问题和提供信息。你有什么需要帮助的吗？', response_metadata={'finish_reason': 'stop', 'model_name': 'gpt-4o-2024-08-06', 'system_fingerprint': 'fp_d54531d9eb'}, id='run-0fc26607-f1b1-466d-88d4-1c8f901a524d-0')"
     },
     "execution_count": 3,
     "metadata": {},
     "output_type": "execute_result"
    }
   ],
   "source": [
    "llm_openai.invoke(\"你是谁呀？\")"
   ],
   "metadata": {
    "collapsed": false,
    "ExecuteTime": {
     "end_time": "2024-10-21T09:54:02.475983Z",
     "start_time": "2024-10-21T09:53:59.088835Z"
    }
   },
   "id": "afefbee56ad9d032",
   "execution_count": 3
  },
  {
   "cell_type": "code",
   "outputs": [],
   "source": [
    "system_template = \"\"\"\n",
    "Given a task description or existing prompt, produce a detailed system prompt to guide a language model in completing the task effectively.\n",
    "\n",
    "# Guidelines\n",
    "\n",
    "- Understand the Task: Grasp the main objective, goals, requirements, constraints, and expected output.\n",
    "- Minimal Changes: If an existing prompt is provided, improve it only if it's simple. For complex prompts, enhance clarity and add missing elements without altering the original structure.\n",
    "- Reasoning Before Conclusions**: Encourage reasoning steps before any conclusions are reached. ATTENTION! If the user provides examples where the reasoning happens afterward, REVERSE the order! NEVER START EXAMPLES WITH CONCLUSIONS!\n",
    "    - Reasoning Order: Call out reasoning portions of the prompt and conclusion parts (specific fields by name). For each, determine the ORDER in which this is done, and whether it needs to be reversed.\n",
    "    - Conclusion, classifications, or results should ALWAYS appear last.\n",
    "- Examples: Include high-quality examples if helpful, using placeholders [in brackets] for complex elements.\n",
    "   - What kinds of examples may need to be included, how many, and whether they are complex enough to benefit from placeholders.\n",
    "- Clarity and Conciseness: Use clear, specific language. Avoid unnecessary instructions or bland statements.\n",
    "- Formatting: Use markdown features for readability. DO NOT USE ``` CODE BLOCKS UNLESS SPECIFICALLY REQUESTED.\n",
    "- Preserve User Content: If the input task or prompt includes extensive guidelines or examples, preserve them entirely, or as closely as possible. If they are vague, consider breaking down into sub-steps. Keep any details, guidelines, examples, variables, or placeholders provided by the user.\n",
    "- Constants: DO include constants in the prompt, as they are not susceptible to prompt injection. Such as guides, rubrics, and examples.\n",
    "- Output Format: Explicitly the most appropriate output format, in detail. This should include length and syntax (e.g. short sentence, paragraph, JSON, etc.)\n",
    "    - For tasks outputting well-defined or structured data (classification, JSON, etc.) bias toward outputting a JSON.\n",
    "    - JSON should never be wrapped in code blocks (```) unless explicitly requested.\n",
    "\n",
    "The final prompt you output should adhere to the following structure below. Do not include any additional commentary, only output the completed system prompt. SPECIFICALLY, do not include any additional messages at the start or end of the prompt. (e.g. no \"---\")\n",
    "\n",
    "[Concise instruction describing the task - this should be the first line in the prompt, no section header]\n",
    "\n",
    "[Additional details as needed.]\n",
    "\n",
    "[Optional sections with headings or bullet points for detailed steps.]\n",
    "\n",
    "# Steps [optional]\n",
    "\n",
    "[optional: a detailed breakdown of the steps necessary to accomplish the task]\n",
    "\n",
    "# Output Format\n",
    "\n",
    "[Specifically call out how the output should be formatted, be it response length, structure e.g. JSON, markdown, etc]\n",
    "\n",
    "# Examples [optional]\n",
    "\n",
    "[Optional: 1-3 well-defined examples with placeholders if necessary. Clearly mark where examples start and end, and what the input and output are. User placeholders as necessary.]\n",
    "[If the examples are shorter than what a realistic example is expected to be, make a reference with () explaining how real examples should be longer / shorter / different. AND USE PLACEHOLDERS! ]\n",
    "\n",
    "# Notes [optional]\n",
    "\n",
    "[optional: edge cases, details, and an area to call or repeat out specific important considerations]\n",
    "\"\"\".strip()"
   ],
   "metadata": {
    "collapsed": false,
    "ExecuteTime": {
     "end_time": "2024-10-21T10:04:06.527897Z",
     "start_time": "2024-10-21T10:04:06.521643Z"
    }
   },
   "id": "9247a3b01bda2647",
   "execution_count": 4
  },
  {
   "cell_type": "code",
   "outputs": [],
   "source": [
    "human_template = \"\"\"\n",
    "Task, Goal, or Current Prompt:\\n\n",
    "{question}\n",
    "\"\"\""
   ],
   "metadata": {
    "collapsed": false,
    "ExecuteTime": {
     "end_time": "2024-10-21T10:04:07.694671Z",
     "start_time": "2024-10-21T10:04:07.680035Z"
    }
   },
   "id": "6ba16c7fe439490a",
   "execution_count": 5
  },
  {
   "cell_type": "code",
   "outputs": [],
   "source": [
    "from langchain_core.prompts import SystemMessagePromptTemplate, HumanMessagePromptTemplate, ChatPromptTemplate\n",
    "\n",
    "messages = [\n",
    "    SystemMessagePromptTemplate.from_template(system_template),\n",
    "    HumanMessagePromptTemplate.from_template(human_template),\n",
    "]\n",
    "prompt = ChatPromptTemplate.from_messages(messages)"
   ],
   "metadata": {
    "collapsed": false,
    "ExecuteTime": {
     "end_time": "2024-10-21T10:04:09.113919Z",
     "start_time": "2024-10-21T10:04:09.092731Z"
    }
   },
   "id": "d9f03a2b676c7e6f",
   "execution_count": 6
  },
  {
   "cell_type": "code",
   "outputs": [],
   "source": [
    "chain = prompt | llm_openai"
   ],
   "metadata": {
    "collapsed": false,
    "ExecuteTime": {
     "end_time": "2024-10-21T10:04:10.268445Z",
     "start_time": "2024-10-21T10:04:10.252098Z"
    }
   },
   "id": "320f363e00935892",
   "execution_count": 7
  },
  {
   "cell_type": "code",
   "outputs": [],
   "source": [
    "prompt1 = chain.invoke(\"Optimize the prompt that users enter for image generation with Flux 1.1 model\")"
   ],
   "metadata": {
    "collapsed": false,
    "ExecuteTime": {
     "end_time": "2024-10-21T10:05:17.373643Z",
     "start_time": "2024-10-21T10:05:06.366855Z"
    }
   },
   "id": "dbc8cb7ca6105df6",
   "execution_count": 10
  },
  {
   "cell_type": "code",
   "outputs": [
    {
     "data": {
      "text/plain": "<IPython.core.display.Markdown object>",
      "text/markdown": "Optimize user prompts for image generation using the Flux 1.1 model by enhancing clarity and specificity to achieve desired results.\n\n# Steps\n\n1. **Understand User Intent**: Identify the main subject, style, and mood the user wants in the image.\n2. **Add Specific Details**: Include details such as colors, lighting, background elements, and composition.\n3. **Refine Language**: Use precise and descriptive language to convey the desired outcome.\n4. **Incorporate Keywords**: Utilize relevant keywords that align with the Flux 1.1 model's capabilities.\n5. **Review and Adjust**: Ensure the prompt is clear, concise, and free of ambiguity.\n\n# Output Format\n\n- Provide a refined prompt as a single, coherent sentence.\n- Ensure clarity and specificity in the language used.\n\n# Examples\n\n**Example 1:**\n\n- **User Input**: \"A sunset over a mountain.\"\n- **Optimized Prompt**: \"A vibrant sunset casting warm orange and pink hues over a snow-capped mountain range, with a clear sky and soft shadows.\"\n\n**Example 2:**\n\n- **User Input**: \"A futuristic city.\"\n- **Optimized Prompt**: \"A sprawling futuristic cityscape at night, illuminated by glowing neon lights, with towering skyscrapers and flying vehicles.\"\n\n# Notes\n\n- Focus on enhancing the visual elements described in the prompt.\n- Consider the limitations and strengths of the Flux 1.1 model when optimizing prompts."
     },
     "metadata": {},
     "output_type": "display_data"
    }
   ],
   "source": [
    "print_md(prompt1.content)"
   ],
   "metadata": {
    "collapsed": false,
    "ExecuteTime": {
     "end_time": "2024-10-21T10:09:22.662964Z",
     "start_time": "2024-10-21T10:09:22.659925Z"
    }
   },
   "id": "ec77e78cc760ede7",
   "execution_count": 16
  },
  {
   "cell_type": "code",
   "outputs": [],
   "source": [
    "human_template = \"\"\"\n",
    "{question}\n",
    "\"\"\"\n",
    "messages = [\n",
    "    SystemMessagePromptTemplate.from_template(prompt1.content),\n",
    "    HumanMessagePromptTemplate.from_template(human_template),\n",
    "]\n",
    "prompt = ChatPromptTemplate.from_messages(messages)"
   ],
   "metadata": {
    "collapsed": false,
    "ExecuteTime": {
     "end_time": "2024-10-21T10:09:52.521308Z",
     "start_time": "2024-10-21T10:09:52.517689Z"
    }
   },
   "id": "460c1fc0870098c7",
   "execution_count": 17
  },
  {
   "cell_type": "code",
   "outputs": [],
   "source": [
    "chain = prompt | llm_openai"
   ],
   "metadata": {
    "collapsed": false,
    "ExecuteTime": {
     "end_time": "2024-10-21T10:09:53.512226Z",
     "start_time": "2024-10-21T10:09:53.509086Z"
    }
   },
   "id": "355dd8a1aaa3441f",
   "execution_count": 18
  },
  {
   "cell_type": "code",
   "outputs": [],
   "source": [
    "prompt2 = chain.invoke(\n",
    "    'a lady with fashion dress, sit by a car. she has a cigaret in her fingers. She wears sunglasses. She is hot')"
   ],
   "metadata": {
    "collapsed": false,
    "ExecuteTime": {
     "end_time": "2024-10-21T10:09:55.818179Z",
     "start_time": "2024-10-21T10:09:53.877139Z"
    }
   },
   "id": "ac522afdd0291ae5",
   "execution_count": 19
  },
  {
   "cell_type": "code",
   "outputs": [
    {
     "data": {
      "text/plain": "<IPython.core.display.Markdown object>",
      "text/markdown": "\"A stylish woman in a chic fashion dress sits confidently by a sleek car, holding a cigarette between her fingers, wearing trendy sunglasses, exuding a glamorous and alluring aura.\""
     },
     "metadata": {},
     "output_type": "display_data"
    }
   ],
   "source": [
    "print_md(prompt2.content)"
   ],
   "metadata": {
    "collapsed": false,
    "ExecuteTime": {
     "end_time": "2024-10-21T10:10:05.116399Z",
     "start_time": "2024-10-21T10:10:05.111117Z"
    }
   },
   "id": "e9c7db50fd6cc3ea",
   "execution_count": 21
  },
  {
   "cell_type": "code",
   "outputs": [],
   "source": [],
   "metadata": {
    "collapsed": false
   },
   "id": "9aed5878a73c3e6d"
  }
 ],
 "metadata": {
  "kernelspec": {
   "display_name": "Python 3",
   "language": "python",
   "name": "python3"
  },
  "language_info": {
   "codemirror_mode": {
    "name": "ipython",
    "version": 2
   },
   "file_extension": ".py",
   "mimetype": "text/x-python",
   "name": "python",
   "nbconvert_exporter": "python",
   "pygments_lexer": "ipython2",
   "version": "2.7.6"
  }
 },
 "nbformat": 4,
 "nbformat_minor": 5
}
