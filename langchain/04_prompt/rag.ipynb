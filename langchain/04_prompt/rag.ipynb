{
 "cells": [
  {
   "cell_type": "code",
   "execution_count": null,
   "id": "initial_id",
   "metadata": {
    "collapsed": true
   },
   "outputs": [],
   "source": [
    "# 你是一个用于问答任务的助手。使用以下检索到的上下文片段来回答问题。如果你不知道答案，就说你不知道。最多使用三句话并保持答案简洁。\n",
    "\"\"\"\n",
    "You are an assistant for question-answering tasks. Use the following pieces of retrieved context to answer the question. \n",
    "If you don't know the answer, just say that you don't know. Use three sentences maximum and keep the answer concise.\n",
    "Question: {question} \n",
    "Context: {context} \n",
    "Answer:\n",
    "\"\"\""
   ]
  },
  {
   "cell_type": "code",
   "outputs": [],
   "source": [
    "DEFAULT_RAG_TEMPLATE = \"\"\"Use the following context as your learned knowledge, inside <context></context> XML tags.\n",
    "<context>\n",
    "    [context]\n",
    "</context>\n",
    "\n",
    "When answer to user:\n",
    "- If you don't know, just say that you don't know.\n",
    "- If you don't know when you are not sure, ask for clarification.\n",
    "Avoid mentioning that you obtained the information from the context.\n",
    "And answer according to the language of the user's question.\n",
    "\n",
    "Given the context information, answer the query.\n",
    "Query: [query]\"\"\""
   ],
   "metadata": {
    "collapsed": false
   },
   "id": "f2a673d634a450be"
  }
 ],
 "metadata": {
  "kernelspec": {
   "display_name": "Python 3",
   "language": "python",
   "name": "python3"
  },
  "language_info": {
   "codemirror_mode": {
    "name": "ipython",
    "version": 2
   },
   "file_extension": ".py",
   "mimetype": "text/x-python",
   "name": "python",
   "nbconvert_exporter": "python",
   "pygments_lexer": "ipython2",
   "version": "2.7.6"
  }
 },
 "nbformat": 4,
 "nbformat_minor": 5
}
