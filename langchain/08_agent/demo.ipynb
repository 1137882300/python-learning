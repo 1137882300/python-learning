{
 "cells": [
  {
   "cell_type": "code",
   "execution_count": 1,
   "id": "initial_id",
   "metadata": {
    "collapsed": true,
    "ExecuteTime": {
     "end_time": "2024-06-28T07:51:53.096224Z",
     "start_time": "2024-06-28T07:51:46.132190Z"
    }
   },
   "outputs": [
    {
     "name": "stdout",
     "output_type": "stream",
     "text": [
      "\r\n",
      "\u001B[1m[\u001B[0m\u001B[34;49mnotice\u001B[0m\u001B[1;39;49m]\u001B[0m\u001B[39;49m A new release of pip is available: \u001B[0m\u001B[31;49m24.0\u001B[0m\u001B[39;49m -> \u001B[0m\u001B[32;49m24.1\u001B[0m\r\n",
      "\u001B[1m[\u001B[0m\u001B[34;49mnotice\u001B[0m\u001B[1;39;49m]\u001B[0m\u001B[39;49m To update, run: \u001B[0m\u001B[32;49mpip install --upgrade pip\u001B[0m\r\n"
     ]
    }
   ],
   "source": [
    "# 在使用DuckDuckGoSearchRun这个类时会需要这个python包。\n",
    "# !pip install -q -U duckduckgo-search\n"
   ]
  },
  {
   "cell_type": "code",
   "outputs": [
    {
     "data": {
      "text/plain": "'2018年国际足联世界杯决赛于2018年7月15日当地时间下午6时在俄罗斯莫斯科 卢日尼基体育场举行，以决出2018年国际足联世界杯的冠军归属 。 比赛由法国对克罗地亚，这是世界杯历史上第9次由两支欧洲球队争夺冠军。 同时，这是法国继1998年和2006年后再次晋级决赛，而克罗地亚则是首次参与世界杯 ... 国际足联世界杯先后使用过雷米特杯和大力神杯作为冠军奖杯。. 雷米特杯，又称作女神杯 ，是1930年至1970年所使用的世界杯冠军奖杯，由历届冠军球队轮流保管。 雷米特杯最初称为\"世界杯\"（World Cup）或\"世界之杯\"（Coupe du Monde），但在1946年为纪念世界杯的缔造者国际足联主席儒勒·雷米而 ... 2018年世界杯. 2018年俄罗斯世界杯是国际足联世界杯足球赛举办的第21届赛事。比赛于2018年6月14日至7月15日在俄罗斯举行，这是世界杯首次在俄罗斯境内举行，亦是世界杯首次在东欧国家举行。 本届赛事共有来自5大洲足联的32支球队参赛，除东道主俄罗斯队自动 ... 女足世界杯冠军领奖台上一个似乎是强行发生的亲吻，和其后引发的广泛反响，在过去一周已经蔓延成为撼动西班牙体育界乃至全社会的事件 ... 在引入排名之前，世界杯的种子队制度有些滑稽。在 1970 年世界杯之前的大多数比赛中，国际足联都是简单地决定哪些球队应被列为种子队。 1970 年，没有正式的种子队，国际足联指定的四支球队，目的只是为了将某些球队（特别是以色列和摩洛哥）分开来。'"
     },
     "execution_count": 3,
     "metadata": {},
     "output_type": "execute_result"
    }
   ],
   "source": [
    "# 通过工具类创建工具实例\n",
    "\n",
    "from langchain.tools import DuckDuckGoSearchRun\n",
    "\n",
    "search = DuckDuckGoSearchRun()\n",
    "search.run(\"谁是 2018 年国际足联世界杯的冠军?\")\n",
    "# search.run(\"Who is winner of FIFA worldcup 2018?\")"
   ],
   "metadata": {
    "collapsed": false,
    "ExecuteTime": {
     "end_time": "2024-06-28T07:53:28.587976Z",
     "start_time": "2024-06-28T07:53:25.993534Z"
    }
   },
   "id": "afee5f2ebb6f5685",
   "execution_count": 3
  },
  {
   "cell_type": "code",
   "outputs": [],
   "source": [
    "query = '谁是 2018 年国际足联世界杯的冠军?'"
   ],
   "metadata": {
    "collapsed": false,
    "ExecuteTime": {
     "end_time": "2024-06-28T07:54:26.870913Z",
     "start_time": "2024-06-28T07:54:26.853694Z"
    }
   },
   "id": "d014a70bf5e76986",
   "execution_count": 5
  },
  {
   "cell_type": "code",
   "outputs": [
    {
     "data": {
      "text/plain": "'2018年国际足联世界杯决赛于2018年7月15日当地时间下午6时在俄罗斯莫斯科 卢日尼基体育场举行，以决出2018年国际足联世界杯的冠军归属 。 比赛由法国对克罗地亚，这是世界杯历史上第9次由两支欧洲球队争夺冠军。 同时，这是法国继1998年和2006年后再次晋级决赛，而克罗地亚则是首次参与世界杯 ... 2018年世界杯. 2018年俄罗斯世界杯是国际足联世界杯足球赛举办的第21届赛事。比赛于2018年6月14日至7月15日在俄罗斯举行，这是世界杯首次在俄罗斯境内举行，亦是世界杯首次在东欧国家举行。 本届赛事共有来自5大洲足联的32支球队参赛，除东道主俄罗斯队自动 ... 国际足联世界杯先后使用过雷米特杯和大力神杯作为冠军奖杯。. 雷米特杯，又称作女神杯 ，是1930年至1970年所使用的世界杯冠军奖杯，由历届冠军球队轮流保管。 雷米特杯最初称为\"世界杯\"（World Cup）或\"世界之杯\"（Coupe du Monde），但在1946年为纪念世界杯的缔造者国际足联主席儒勒·雷米而 ... 在引入排名之前，世界杯的种子队制度有些滑稽。在 1970 年世界杯之前的大多数比赛中，国际足联都是简单地决定哪些球队应被列为种子队。 1970 年，没有正式的种子队，国际足联指定的四支球队，目的只是为了将某些球队（特别是以色列和摩洛哥）分开来。 以色列唯一的胜利，在葡萄牙身上取得的。. 1986年墨西哥世界杯和1990年意大利世界杯预选赛，以色列竟然被安排在大洋洲区赛区。. 以色列的漂泊生涯于20世纪90年代初年结束。. 意大利世界杯之后，欧足联接纳了以色列。. 就这样，以色列有了一个稳定席位。. 从 ...'"
     },
     "execution_count": 6,
     "metadata": {},
     "output_type": "execute_result"
    }
   ],
   "source": [
    "# 通过辅助函数 load_tols加载\n",
    "from langchain.agents import load_tools\n",
    "\n",
    "tools = load_tools(['ddg-search'])\n",
    "search = tools[0]\n",
    "search.run(query)"
   ],
   "metadata": {
    "collapsed": false,
    "ExecuteTime": {
     "end_time": "2024-06-28T07:54:30.051370Z",
     "start_time": "2024-06-28T07:54:27.285592Z"
    }
   },
   "id": "5c68d22feea45ee9",
   "execution_count": 6
  },
  {
   "cell_type": "code",
   "outputs": [
    {
     "data": {
      "text/plain": "['sleep',\n 'wolfram-alpha',\n 'google-search',\n 'google-search-results-json',\n 'searx-search-results-json',\n 'bing-search',\n 'metaphor-search',\n 'ddg-search',\n 'google-lens',\n 'google-serper',\n 'google-scholar',\n 'google-finance',\n 'google-trends',\n 'google-jobs',\n 'google-serper-results-json',\n 'searchapi',\n 'searchapi-results-json',\n 'serpapi',\n 'dalle-image-generator',\n 'twilio',\n 'searx-search',\n 'merriam-webster',\n 'wikipedia',\n 'arxiv',\n 'golden-query',\n 'pubmed',\n 'human',\n 'awslambda',\n 'stackexchange',\n 'sceneXplain',\n 'graphql',\n 'openweathermap-api',\n 'dataforseo-api-search',\n 'dataforseo-api-search-json',\n 'eleven_labs_text2speech',\n 'google_cloud_texttospeech',\n 'read_file',\n 'reddit_search',\n 'news-api',\n 'tmdb-api',\n 'podcast-api',\n 'memorize',\n 'llm-math',\n 'open-meteo-api',\n 'requests',\n 'requests_get',\n 'requests_post',\n 'requests_patch',\n 'requests_put',\n 'requests_delete',\n 'terminal']"
     },
     "execution_count": 7,
     "metadata": {},
     "output_type": "execute_result"
    }
   ],
   "source": [
    "# 查看 LangChain 内置支持的工具列表\n",
    "from langchain.agents import get_all_tool_names\n",
    "\n",
    "get_all_tool_names()"
   ],
   "metadata": {
    "collapsed": false,
    "ExecuteTime": {
     "end_time": "2024-06-28T07:54:44.642233Z",
     "start_time": "2024-06-28T07:54:44.636472Z"
    }
   },
   "id": "dea452c66ff7a0ea",
   "execution_count": 7
  },
  {
   "cell_type": "code",
   "outputs": [
    {
     "name": "stdout",
     "output_type": "stream",
     "text": [
      "8483c3ec7a0cbc54a8d660b5b9002b04\n",
      "Gcllof8ze6dgtcqFI5FQZ2SD_5tfCD4Db7NuS6jn\n",
      "sk-01c5003340c3453b934052d737d45e01\n",
      "sk-UGVpjuTwo2Q8pewoqUDfckw1A0pbSDli9ElFMeS9WareKknG\n",
      "https://api.moonshot.cn/v1/\n"
     ]
    }
   ],
   "source": [
    "# 一个 Agent 的例子\n",
    "\n",
    "from langchain.agents import load_tools\n",
    "from langchain.agents import AgentType\n",
    "import os\n",
    "from langchain_community.llms.cloudflare_workersai import CloudflareWorkersAI\n",
    "from langchain_community.llms.tongyi import Tongyi\n",
    "from langchain_openai import ChatOpenAI\n",
    "from dotenv import load_dotenv\n",
    "\n",
    "load_dotenv(override=True)\n",
    "\n",
    "account_id = os.getenv('CF_ACCOUNT_ID')\n",
    "api_token = os.getenv('CF_API_TOKEN')\n",
    "print(account_id)\n",
    "print(api_token)\n",
    "\n",
    "# CloudflareWorkersAI\n",
    "model = '@cf/meta/llama-3-8b-instruct'\n",
    "cf_llm = CloudflareWorkersAI(\n",
    "    account_id=account_id,\n",
    "    api_token=api_token,\n",
    "    model=model\n",
    ")\n",
    "\n",
    "DASHSCOPE_API_KEY = os.getenv('DASHSCOPE_API_KEY')\n",
    "print(DASHSCOPE_API_KEY)\n",
    "\n",
    "# qwen\n",
    "qw_llm = Tongyi(\n",
    "    model='qwen2-1.5b-instruct'\n",
    ")\n",
    "\n",
    "# qwen 兼容 openai的接口\n",
    "qw_llm_openai = ChatOpenAI(\n",
    "    openai_api_base='https://dashscope.aliyuncs.com/compatible-mode/v1',\n",
    "    openai_api_key=DASHSCOPE_API_KEY,\n",
    "    model_name=\"qwen2-1.5b-instruct\",\n",
    "    temperature=0.7,\n",
    "    streaming=True,\n",
    ")\n",
    "\n",
    "api_key = os.getenv('OPENAI_API_KEY')\n",
    "base_url = os.getenv('OPENAI_API_BASE')\n",
    "print(api_key)\n",
    "print(base_url)\n",
    "\n",
    "# openai/moonshot\n",
    "ms_llm = ChatOpenAI(\n",
    "    openai_api_base=base_url,\n",
    "    openai_api_key=api_key,\n",
    "    model_name=\"moonshot-v1-8k\",\n",
    "    temperature=0.7,\n",
    ")"
   ],
   "metadata": {
    "collapsed": false,
    "ExecuteTime": {
     "end_time": "2024-06-28T07:57:41.453953Z",
     "start_time": "2024-06-28T07:57:41.380449Z"
    }
   },
   "id": "4ad856a1feebbf6",
   "execution_count": 11
  },
  {
   "cell_type": "code",
   "outputs": [
    {
     "name": "stdout",
     "output_type": "stream",
     "text": [
      "\n",
      "\n",
      "\u001B[1m> Entering new AgentExecutor chain...\u001B[0m\n",
      "\u001B[32;1m\u001B[1;3mI don't need to use any tools for this task because it's a simple arithmetic operation that doesn't require any calculations or information from external sources. The height difference between the Eiffel Tower and Taipei 101 Tower is simply the difference in their heights.\n",
      "\n",
      "Thought: I now know the final answer\n",
      "Final Answer: The height difference between the Eiffel Tower and Taipei 101 Tower is approximately 573 meters.\u001B[0m\n",
      "\n",
      "\u001B[1m> Finished chain.\u001B[0m\n"
     ]
    },
    {
     "data": {
      "text/plain": "{'input': 'What is the height difference between Eiffel Tower and Taiwan 101 Tower?',\n 'output': 'The height difference between the Eiffel Tower and Taipei 101 Tower is approximately 573 meters.'}"
     },
     "execution_count": 14,
     "metadata": {},
     "output_type": "execute_result"
    }
   ],
   "source": [
    "from langchain.agents import initialize_agent, create_react_agent, create_json_agent, create_structured_chat_agent\n",
    "\n",
    "tools = load_tools([\"ddg-search\", \"llm-math\"], llm=qw_llm_openai)\n",
    "agent = initialize_agent(tools, qw_llm_openai, agent=AgentType.ZERO_SHOT_REACT_DESCRIPTION, verbose=True)\n",
    "# agent = create_react_agent(qw_llm_openai, tools)\n",
    "# agent = create_json_agent(qw_llm_openai, tools)\n",
    "# agent = create_structured_chat_agent(qw_llm_openai, tools)\n",
    "agent.invoke(\"What is the height difference between Eiffel Tower and Taiwan 101 Tower?\")\n"
   ],
   "metadata": {
    "collapsed": false,
    "ExecuteTime": {
     "end_time": "2024-06-28T08:00:59.957818Z",
     "start_time": "2024-06-28T08:00:58.734555Z"
    }
   },
   "id": "7014db98f9821f40",
   "execution_count": 14
  },
  {
   "cell_type": "code",
   "outputs": [],
   "source": [],
   "metadata": {
    "collapsed": false
   },
   "id": "5743a1165a9397b6"
  }
 ],
 "metadata": {
  "kernelspec": {
   "display_name": "Python 3",
   "language": "python",
   "name": "python3"
  },
  "language_info": {
   "codemirror_mode": {
    "name": "ipython",
    "version": 2
   },
   "file_extension": ".py",
   "mimetype": "text/x-python",
   "name": "python",
   "nbconvert_exporter": "python",
   "pygments_lexer": "ipython2",
   "version": "2.7.6"
  }
 },
 "nbformat": 4,
 "nbformat_minor": 5
}
