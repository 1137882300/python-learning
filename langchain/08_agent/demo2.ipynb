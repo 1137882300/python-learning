{
 "cells": [
  {
   "cell_type": "code",
   "outputs": [],
   "source": [
    "from langchain.agents import load_tools\n",
    "from langchain.agents import initialize_agent\n",
    "from langchain.agents import AgentType\n",
    "from langchain.llms import OpenAI\n",
    "from langchain.chat_models import ChatOpenAI\n",
    "from langchain.chains.conversation.memory import ConversationBufferWindowMemory\n",
    "\n",
    "import os\n"
   ],
   "metadata": {
    "collapsed": false
   },
   "id": "be62d4e1ea288309"
  },
  {
   "cell_type": "code",
   "outputs": [],
   "source": [
    "from langchain.tools import BaseTool\n",
    "\n",
    "\n",
    "class DescribeImageTool(BaseTool):\n",
    "    name = \"Describe Image Tool\"\n",
    "    description = 'use this tool to describe an image.'\n",
    "\n",
    "    def _run(self, url: str):\n",
    "        description = describeImage(url)\n",
    "        return description\n",
    "\n",
    "    def _arun(self, query: str):\n",
    "        raise NotImplementedError(\"Async operation not supported yet\")\n",
    "\n",
    "\n",
    "tools = [DescribeImageTool()]"
   ],
   "metadata": {
    "collapsed": false
   },
   "id": "a6329a332e951f92"
  },
  {
   "cell_type": "code",
   "outputs": [],
   "source": [
    "agent = initialize_agent(\n",
    "    agent='chat-conversational-react-description',\n",
    "    tools=tools,\n",
    "    llm=llm,\n",
    "    verbose=True,\n",
    "    max_iterations=3,\n",
    "    early_stopping_method='generate',\n",
    "    memory=ConversationBufferWindowMemory(\n",
    "        memory_key='chat_history',\n",
    "        k=5,\n",
    "        return_messages=True\n",
    "    )\n",
    ")\n",
    "     "
   ],
   "metadata": {
    "collapsed": false
   },
   "id": "8af101b8d2403e6e"
  }
 ],
 "metadata": {
  "kernelspec": {
   "display_name": "Python 3",
   "language": "python",
   "name": "python3"
  },
  "language_info": {
   "codemirror_mode": {
    "name": "ipython",
    "version": 2
   },
   "file_extension": ".py",
   "mimetype": "text/x-python",
   "name": "python",
   "nbconvert_exporter": "python",
   "pygments_lexer": "ipython2",
   "version": "2.7.6"
  }
 },
 "nbformat": 4,
 "nbformat_minor": 5
}
