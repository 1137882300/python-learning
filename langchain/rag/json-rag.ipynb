{
 "cells": [
  {
   "cell_type": "code",
   "outputs": [],
   "source": [
    "from langchain.vectorstores import Chroma\n",
    "# 基本配置\n",
    "from langchain_openai import ChatOpenAI\n",
    "import os\n",
    "from dotenv import load_dotenv\n",
    "from langchain_community.embeddings.cloudflare_workersai import CloudflareWorkersAIEmbeddings\n",
    "\n",
    "load_dotenv(override=True)\n",
    "\n",
    "qw_llm_openai = ChatOpenAI(\n",
    "    openai_api_base=os.getenv('DASHSCOPE_API_BASE'),\n",
    "    openai_api_key=os.getenv('DASHSCOPE_API_KEY'),\n",
    "    model_name=\"qwen2-1.5b-instruct\",\n",
    "    temperature=0,\n",
    ")\n",
    "embedding = CloudflareWorkersAIEmbeddings(\n",
    "    account_id=os.getenv('CF_ACCOUNT_ID'),\n",
    "    api_token=os.getenv('CF_API_TOKEN'),\n",
    "    model_name=\"@cf/baai/bge-small-en-v1.5\",\n",
    ")\n",
    "\n",
    "collection_name = 'json-rag-index'\n",
    "vectordb = Chroma(persist_directory=\"./.chroma-data\", collection_name=collection_name, embedding_function=embedding)"
   ],
   "metadata": {
    "collapsed": false,
    "ExecuteTime": {
     "end_time": "2024-07-05T02:22:46.294584Z",
     "start_time": "2024-07-05T02:22:45.580029Z"
    }
   },
   "id": "94a51fe76e4150f1",
   "execution_count": 4
  },
  {
   "cell_type": "code",
   "outputs": [],
   "source": [
    "import json\n",
    "\n",
    "# 读取文件内容\n",
    "with open('../../file/yxk-list-2.json', 'r', encoding='utf-8') as f:\n",
    "    content = f.read()\n",
    "\n",
    "# 将解码后的内容转换为JSON对象\n",
    "json_data = json.loads(content)"
   ],
   "metadata": {
    "collapsed": false,
    "ExecuteTime": {
     "end_time": "2024-07-05T02:22:40.581508Z",
     "start_time": "2024-07-05T02:22:40.576826Z"
    }
   },
   "id": "27a2f3f24c204690",
   "execution_count": 2
  },
  {
   "cell_type": "code",
   "outputs": [],
   "source": [
    "from langchain_text_splitters import RecursiveJsonSplitter\n",
    "\n",
    "splitter = RecursiveJsonSplitter(max_chunk_size=300)\n",
    "\n",
    "# The splitter can also output documents\n",
    "docs = splitter.create_documents(texts=[json_data], ensure_ascii=False)"
   ],
   "metadata": {
    "collapsed": false,
    "ExecuteTime": {
     "end_time": "2024-07-05T02:22:43.390764Z",
     "start_time": "2024-07-05T02:22:43.207482Z"
    }
   },
   "id": "20d82a08a1f2ae53",
   "execution_count": 3
  },
  {
   "cell_type": "code",
   "outputs": [
    {
     "data": {
      "text/plain": "['9576c3c2-c454-44cb-a73b-d9ec2c97cbf5']"
     },
     "execution_count": 5,
     "metadata": {},
     "output_type": "execute_result"
    }
   ],
   "source": [
    "vectordb.add_documents(docs)"
   ],
   "metadata": {
    "collapsed": false,
    "ExecuteTime": {
     "end_time": "2024-07-05T02:23:49.384865Z",
     "start_time": "2024-07-05T02:23:44.870495Z"
    }
   },
   "id": "cac6feac6f1d6064",
   "execution_count": 5
  },
  {
   "cell_type": "code",
   "outputs": [],
   "source": [
    "retriever = vectordb.as_retriever()"
   ],
   "metadata": {
    "collapsed": false,
    "ExecuteTime": {
     "end_time": "2024-07-05T02:24:32.035197Z",
     "start_time": "2024-07-05T02:24:32.030268Z"
    }
   },
   "id": "dd0e84754e5a9145",
   "execution_count": 6
  },
  {
   "cell_type": "code",
   "outputs": [
    {
     "name": "stderr",
     "output_type": "stream",
     "text": [
      "Number of requested results 4 is greater than number of elements in index 1, updating n_results = 1\n"
     ]
    },
    {
     "data": {
      "text/plain": "[Document(page_content='{\"product_list\": [{\"title\": \"【登峰造极·云中岭丨青青草原 高山草甸 强度可选】\", \"introduce\": \"高山牧场，牛羊成群，中转车上山，徒步2km即可到达牧场，4-10公里AB线（A线休闲，B线户外）\", \"theme\": \"户外游-徒步登山\", \"positive_comment_rate\": \"好评率：99.1%\", \"tags\": \"线路，收费，周边，旅游产品，跟团游-一日游，1天\", \"duration\": \"1天\", \"departure_city\": \"成都 四川省\", \"product_features\": \"熊猫之乡;云中牧场;高山草甸;遥望雪山\", \"price\": \"100元起\", \"the_best_travel_date\": \"7月份\"}, {\"title\": \"【婺源景德镇4日 从古徽州到瓷都的发现之旅】\", \"introduce\": \"婺源篁岭 | 梯田古村晒秋，瑶里古镇 | 探寻千年秘密，新平瓷宫 | 致敬瓷楼奶奶，陶溪川夜市 | 趣味淘宝，御窑博物馆 | 打卡宝藏机位\", \"theme\": \"深度人文-文化历史；休闲度假-懒人慢游；美景探索-游山玩水\", \"positive_comment_rate\": \"好评率：20.1%\", \"tags\": \"线路，收费，国内,旅游产品,跟团游-多日游,4天3晚\", \"duration\": \"4天3晚\", \"departure_city\": \"杭州\", \"product_features\": \"小众深度体验；陶瓷文化之旅；文艺惊艳之旅；精选舒适酒店\", \"price\": \"2180元起\", \"the_best_travel_date\": \"10月份\"}, {\"title\": \"【桂林阳朔4日 从山水画卷到民族风情的奇妙之旅】\", \"introduce\": \"漓江 | 领略如画风光，西街 | 感受热闹夜生活，龙脊梯田 | 观赏壮美稻田，象山公园 | 打卡标志性景点\", \"theme\": \"自然风光-山水如画；民俗风情-特色体验；休闲放松-轻松出行\", \"positive_comment_rate\": \"好评率：18.5%\", \"tags\": \"线路，收费，国内,旅游产品,跟团游-多日游,4天3晚\", \"duration\": \"4天3晚\", \"departure_city\": \"广州\", \"product_features\": \"独特风情体验；山水美景之旅；精选特色民宿\", \"price\": \"2350元起\", \"the_best_travel_date\": \"9月份\"}, {\"title\": \"【九寨沟黄龙5日 从童话世界到神秘秘境的梦幻之旅】\", \"introduce\": \"九寨沟 | 童话世界，黄龙 | 神秘秘境，松潘县 | 亲近自然，阿坝县 | 体验藏族风情\", \"theme\": \"自然风光-山水如画；民俗风情-特色体验；休闲放松-轻松出行\", \"positive_comment_rate\": \"好评率：15.2%\", \"tags\": \"线路，收费，国内,旅游产品,跟团游-多日游,5天4晚\", \"duration\": \"5天4晚\", \"departure_city\": \"成都\", \"product_features\": \"独特风情体验；山水美景之旅；精选特色民宿\", \"price\": \"2980元起\", \"the_best_travel_date\": \"8月份\"}, {\"title\": \"【川西高原5日 从蓝色星球到藏地秘境的探险之旅】\", \"introduce\": \"理塘县 | 蓝色星球，稻城亚丁 | 神秘秘境，新都桥 | 亲近自然，康定县 | 体验藏族风情\", \"theme\": \"自然风光-山水如画；民俗风情-特色体验；休闲放松-轻松出行\", \"positive_comment_rate\": \"好评率：12.3%\", \"tags\": \"线路，收费，国内,旅游产品,跟团游-多日游,5天4晚\", \"duration\": \"5天4晚\", \"departure_city\": \"成都\", \"the_best_travel_date\": \"8月份\"}, {\"title\": \"【张家界凤凰古城4日 探秘湘西的神秘之旅】\", \"introduce\": \"张家界国家森林公园 | 奇峰异石，天门山 | 挑战玻璃栈道，凤凰古城 | 领略古城韵味，芙蓉镇 | 欣赏瀑布夜景\", \"theme\": \"自然奇观-壮美风景；历史人文-古城探秘；休闲度假-轻松惬意\", \"positive_comment_rate\": \"好评率：22.3%\", \"tags\": \"线路，收费，国内,旅游产品,跟团游-多日游,4天3晚\", \"duration\": \"4天3晚\", \"departure_city\": \"长沙\", \"product_features\": \"神秘湘西体验；特色美食之旅；优质服务保障\", \"price\": \"2080元起\", \"the_best_travel_date\": \"7月份\"}, {\"title\": \"【成都九寨沟4日 走进童话世界的梦幻之旅】\", \"introduce\": \"九寨沟 | 欣赏多彩海子，黄龙 | 观赏钙化池奇观，都江堰 | 感受水利工程魅力，锦里古街 | 品尝特色小吃\", \"theme\": \"自然风光-梦幻仙境；历史古迹-文化传承；美食之旅-舌尖享受\", \"positive_comment_rate\": \"好评率：19.7%\", \"tags\": \"线路，收费，国内,旅游产品,跟团游-多日游,4天3晚\", \"duration\": \"4天3晚\", \"departure_city\": \"重庆\", \"product_features\": \"童话世界体验；川味美食之旅；舒适交通安排\", \"price\": \"2260元起\", \"the_best_travel_date\": \"5月份\"}, {\"title\": \"【厦门鼓浪屿4日 海滨浪漫之旅】\", \"introduce\": \"鼓浪屿 | 漫步文艺小巷，南普陀寺 | 感受佛教文化，厦门大学 | 参观美丽校园，曾厝垵 | 品尝海鲜美食\", \"theme\": \"海滨风光-浪漫休闲；文化之旅-学术氛围；美食探索-海鲜盛宴\", \"positive_comment_rate\": \"好评率：21.2%\", \"tags\": \"线路，收费，国内,旅游产品,跟团游-多日游,4天3晚\", \"duration\": \"4天3晚\", \"departure_city\": \"福州\", \"product_features\": \"浪漫海滨体验；文化学术之旅；精选海景酒店\", \"price\": \"1950元起\", \"the_best_travel_date\": \"4月份\"}, {\"title\": \"【西安华清池4日 穿越千年的历史之旅】\", \"introduce\": \"兵马俑 | 见证古代奇迹，华清池 | 感受帝王温泉，大雁塔 | 领略佛教文化，古城墙 | 骑行俯瞰古都\", \"theme\": \"历史古迹-千年传承；文化探索-深度体验；休闲漫步-古城风情\", \"positive_comment_rate\": \"好评率：20.8%\", \"tags\": \"线路，收费，国内,旅游产品,跟团游-多日游,4天3晚\", \"duration\": \"4天3晚\", \"departure_city\": \"郑州\", \"product_features\": \"千年历史体验；特色文化之旅；优质导游讲解\", \"price\": \"2100元起\", \"the_best_travel_date\": \"11月份\"}, {\"title\": \"【三亚蜈支洲岛4日 热带海滨度假之旅】\", \"introduce\": \"蜈支洲岛 | 畅玩水上项目，亚龙湾 | 享受沙滩阳光，天涯海角 | 见证浪漫爱情，南山文化旅游区 | 朝拜南海观音\", \"theme\": \"海滨度假-悠闲时光；浪漫爱情-甜蜜之旅；宗教文化-心灵洗礼\", \"positive_comment_rate\": \"好评率：18.9%\", \"tags\": \"线路，收费，国内,旅游产品,跟团游-多日游,4天3晚\", \"duration\": \"4天3晚\", \"departure_city\": \"深圳\", \"product_features\": \"热带海滨体验；浪漫度假之旅；贴心服务保障\", \"price\": \"2580元起\", \"the_best_travel_date\": \"12月份\"}, {\"title\": \"【青岛崂山4日 海滨风情之旅】\", \"introduce\": \"崂山 | 欣赏山海美景，八大关 | 漫步欧式建筑，栈桥 | 观海听涛，金沙滩 | 畅玩沙滩活动\", \"theme\": \"海滨风光-迷人景致；历史建筑-文化韵味；休闲娱乐-轻松愉悦\", \"positive_comment_rate\": \"好评率：19.6%\", \"tags\": \"线路，收费，国内,旅游产品,跟团游-多日游,4天3晚\", \"duration\": \"4天3晚\", \"departure_city\": \"济南\", \"product_features\": \"海滨风情体验；特色美食之旅；舒适住宿安排\", \"price\": \"2050元起\", \"the_best_travel_date\": \"8月份\"}, {\"title\": \"【北京故宫4日 古都文化之旅】\", \"introduce\": \"故宫 | 探寻皇家宫殿，长城 | 领略雄伟气势，颐和园 | 欣赏园林美景，圆明园 | 铭记历史沧桑\", \"theme\": \"历史文化-古都韵味；名胜古迹-宏伟壮观；文化传承-深度感受\", \"positive_comment_rate\": \"好评率：21.8%\", \"tags\": \"线路，收费，国内,旅游产品,跟团游-多日游,4天3晚\", \"duration\": \"4天3晚\", \"departure_city\": \"天津\", \"product_features\": \"古都文化体验；专业讲解服务；精选特色餐厅\", \"price\": \"2300元起\", \"the_best_travel_date\": \"9月份\"}, {\"title\": \"【桂林龙脊4日 田园风光之旅】\", \"introduce\": \"龙脊梯田 | 观赏稻田风光，遇龙河 | 体验竹筏漂流，十里画廊 | 骑行欣赏美景，西街 | 感受阳朔夜生活\", \"theme\": \"自然风光-田园诗意；水上活动-刺激有趣；民俗风情-独特体验\", \"positive_comment_rate\": \"好评率：20.5%\", \"tags\": \"线路，收费，国内,旅游产品,跟团游-多日游,4天3晚\", \"duration\": \"4天3晚\", \"departure_city\": \"南宁\", \"product_features\": \"田园风光体验；特色民俗活动；优质交通服务\", \"price\": \"2120元起\", \"the_best_travel_date\": \"6月份\"}, {\"title\": \"【苏州园林4日 江南水乡之旅】\", \"introduce\": \"拙政园 | 感受园林之美，虎丘 | 探寻历史遗迹，周庄 | 领略水乡风情，寒山寺 | 聆听钟声悠扬\", \"theme\": \"江南水乡-诗情画意；古典园林-艺术瑰宝；历史遗迹-岁月沉淀\", \"positive_comment_rate\": \"好评率：20.0%\", \"tags\": \"线路，收费，国内,旅游产品,跟团游-多日游,4天3晚\", \"duration\": \"4天3晚\", \"departure_city\": \"上海\", \"product_features\": \"江南水乡体验；文化艺术之旅；舒适酒店住宿\", \"price\": \"1980元起\", \"the_best_travel_date\": \"4月份\"}, {\"title\": \"【丽江香格里拉4日 高原风情之旅】\", \"introduce\": \"丽江古城 | 漫步古城街道，香格里拉 | 感受高原美景，普达措国家公园 | 亲近自然生态，虎跳峡 | 观赏汹涌江水\", \"theme\": \"高原风光-壮美辽阔；民族风情-独特魅力；自然生态-和谐共生\", \"positive_comment_rate\": \"好评率：19.2%\", \"tags\": \"线路，收费，国内,旅游产品,跟团游-多日游,4天3晚\", \"duration\": \"4天3晚\", \"departure_city\": \"昆明\", \"product_features\": \"高原风情体验；特色美食品尝；贴心医疗保障\", \"price\": \"2280元起\", \"the_best_travel_date\": \"7月份\"}, {\"title\": \"【呼伦贝尔草原4日 草原驰骋之旅】\", \"introduce\": \"呼伦贝尔大草原 | 感受广袤无垠，莫日格勒河 | 欣赏蜿蜒美景，满洲里 | 体验边境风情，额尔古纳湿地 | 观赏湿地风光\", \"theme\": \"草原风光-辽阔壮美；边境风情-独特魅力；自然生态-原始之美\", \"positive_comment_rate\": \"好评率：19.8%\", \"tags\": \"线路，收费，国内,旅游产品,跟团游-多日游,4天3晚\", \"duration\": \"4天3晚\", \"departure_city\": \"哈尔滨\", \"product_features\": \"草原驰骋体验；特色蒙古包住宿；丰富民俗活动\", \"price\": \"2350元起\", \"the_best_travel_date\": \"8月份\"}, {\"title\": \"【长白山天池4日 神秘森林之旅】\", \"introduce\": \"长白山天池 | 探秘神秘水域，长白瀑布 | 观赏飞瀑流泉，地下森林 | 漫步原始森林，魔界风景区 | 领略奇幻景色\", \"theme\": \"自然风光-神奇瑰丽；森林探险-刺激有趣；神秘景观-引人入胜\", \"positive_comment_rate\": \"好评率：20.6%\", \"tags\": \"线路，收费，国内,旅游产品,跟团游-多日游,4天3晚\", \"duration\": \"4天3晚\", \"departure_city\": \"沈阳\", \"product_features\": \"神秘森林体验；温泉放松之旅；专业摄影指导\", \"price\": \"2200元起\", \"the_best_travel_date\": \"9月份\"}, {\"title\": \"【稻城亚丁4日 心灵净土之旅】\", \"introduce\": \"稻城亚丁风景区 | 邂逅纯净美景，冲古寺 | 感受宗教氛围，牛奶海 | 欣赏湛蓝湖水，五色海 | 见证多彩奇观\", \"theme\": \"自然风光-人间仙境；宗教文化-心灵寄托；高原挑战-自我超越\", \"positive_comment_rate\": \"好评率：18.7%\", \"tags\": \"线路，收费，国内,旅游产品,跟团游-多日游,4天3晚\", \"duration\": \"4天3晚\", \"departure_city\": \"成都\", \"product_features\": \"心灵净土体验；高海拔适应指导；优质后勤保障\", \"price\": \"2480元起\", \"the_best_travel_date\": \"10月份\"}, {\"title\": \"【阳朔漓江4日 山水诗意之旅】\", \"introduce\": \"漓江 | 乘舟游览如画山水，西街 | 体验热闹夜生活，十里画廊 | 骑行欣赏田园风光，月亮山 | 观赏奇特地貌\", \"theme\": \"山水风光-如诗如画；民俗风情-丰富多彩；休闲娱乐-轻松自在\", \"positive_comment_rate\": \"好评率：21.0%\", \"tags\": \"线路，收费，国内,旅游产品,跟团游-多日游,4天3晚\", \"duration\": \"4天3晚\", \"departure_city\": \"桂林\", \"product_features\": \"山水诗意体验；特色民宿居住；当地美食品尝\", \"price\": \"1990元起\", \"the_best_travel_date\": \"5月份\"}, {\"title\": \"【凤凰古城张家界4日 湘西风情之旅】\", \"introduce\": \"凤凰古城 | 领略古城韵味，张家界国家森林公园 | 观赏奇峰异石，天门山 | 挑战玻璃栈道，袁家界 | 探寻神秘仙境\", \"theme\": \"历史人文-古城魅力；自然奇观-震撼人心；冒险挑战-刺激兴奋\", \"positive_comment_rate\": \"好评率：20.3%\", \"tags\": \"线路，收费，国内,旅游产品,跟团游-多日游,4天3晚\", \"duration\": \"4天3晚\", \"departure_city\": \"长沙\", \"product_features\": \"湘西风情体验；专业导游讲解；舒适交通安排\", \"price\": \"2150元起\", \"the_best_travel_date\": \"6月份\"}, {\"title\": \"【普陀山4日 心灵祈福之旅】\", \"introduce\": \"普陀山 | 虔诚拜佛祈福，南海观音像 | 感受庄严神圣，法雨寺 | 聆听梵音钟声，普济寺 | 领略佛教文化\", \"theme\": \"宗教文化-心灵寄托；自然风光-宁静祥和；祈福修行-心灵净化\", \"positive_comment_rate\": \"好评率：19.5%\", \"tags\": \"线路，收费，国内,旅游产品,跟团游-多日游,4天3晚\", \"duration\": \"4天3晚\", \"departure_city\": \"宁波\", \"product_features\": \"心灵祈福体验；特色素斋品尝；舒适住宿安排\", \"price\": \"2080元起\", \"the_best_travel_date\": \"4月份\"}, {\"title\": \"【阳朔遇龙河4日 田园休闲之旅】\", \"introduce\": \"遇龙河 | 竹筏漂流赏景，月亮山 | 观赏独特山形，大榕树景区 | 感受自然魅力，世外桃源 | 寻觅人间仙境\", \"theme\": \"田园风光-宁静优美；水上活动-欢乐刺激；休闲度假-放松身心\", \"positive_comment_rate\": \"好评率：20.7%\", \"tags\": \"线路，收费，国内,旅游产品,跟团游-多日游,4天3晚\", \"duration\": \"4天3晚\", \"departure_city\": \"桂林\", \"product_features\": \"田园休闲体验；特色民俗表演；贴心服务保障\", \"price\": \"1920元起\", \"the_best_travel_date\": \"5月份\"}, {\"title\": \"【九寨沟黄龙4日 童话世界之旅】\", \"introduce\": \"九寨沟 | 沉醉多彩海子，黄龙 | 惊叹钙化池奇观，川主寺 | 了解藏族文化，松潘古城 | 触摸历史痕迹\", \"theme\": \"自然风光-如梦如幻；民族文化-丰富多彩；历史遗迹-岁月留痕\", \"positive_comment_rate\": \"好评率：21.1%\", \"tags\": \"线路，收费，国内,旅游产品,跟团游-多日游,4天3晚\", \"duration\": \"4天3晚\", \"departure_city\": \"成都\", \"product_features\": \"童话世界体验；藏族风情感受；优质导游服务\", \"price\": \"2360元起\", \"the_best_travel_date\": \"10月份\"}, {\"title\": \"【厦门南靖土楼4日 闽南风情之旅】\", \"introduce\": \"南靖土楼 | 探索古老建筑，鼓浪屿 | 漫步文艺小巷，胡里山炮台 | 了解军事历史，曾厝垵 | 品尝特色美食\", \"theme\": \"历史建筑-独特魅力；海滨风光-浪漫迷人；美食之旅-舌尖享受\", \"positive_comment_rate\": \"好评率：19.9%\", \"tags\": \"线路，收费，国内,旅游产品,跟团游-多日游,4天3晚\", \"duration\": \"4天3晚\", \"departure_city\": \"福州\", \"product_features\": \"闽南风情体验；特色民宿居住；舒适交通安排\", \"price\": \"1850元起\", \"the_best_travel_date\": \"3月份\"}, {\"title\": \"【丽江泸沽湖4日 摩梭风情之旅】\", \"introduce\": \"泸沽湖 | 欣赏湖光山色，里格半岛 | 感受宁静氛围，摩梭家访 | 了解独特风俗，走婚桥 | 见证浪漫爱情\", \"theme\": \"自然风光-迷人秀丽；民族风情-神秘独特；浪漫爱情-温馨甜蜜\", \"positive_comment_rate\": \"好评率：20.4%\", \"tags\": \"线路，收费，国内,旅游产品,跟团游-多日游,4天3晚\", \"duration\": \"4天3晚\", \"departure_city\": \"昆明\", \"product_features\": \"摩梭风情体验；篝火晚会活动；优质住宿环境\", \"price\": \"2220元起\", \"the_best_travel_date\": \"7月份\"}, {\"title\": \"【北京颐和园4日 皇家园林之旅】\", \"introduce\": \"颐和园 | 领略皇家园林之美，圆明园 | 铭记历史沧桑，香山公园 | 观赏红叶美景，北京植物园 | 欣赏植物花卉\", \"theme\": \"皇家园林-宏伟壮丽；历史遗迹-文化传承；自然景观-赏心悦目\", \"positive_comment_rate\": \"好评率：20.2%\", \"tags\": \"线路，收费，国内,旅游产品,跟团游-多日游,4天3晚\", \"duration\": \"4天3晚\", \"departure_city\": \"天津\", \"product_features\": \"皇家园林体验；专业讲解服务；特色美食安排\", \"price\": \"2180元起\", \"the_best_travel_date\": \"9月份\"}, {\"title\": \"【北京天坛4日 古代祭祀之旅】\", \"introduce\": \"天坛 | 感受祭祀文化，景山公园 | 俯瞰故宫全景，雍和宫 | 体验佛教氛围，孔庙和国子监 | 领略儒家文化\", \"theme\": \"历史文化-深厚底蕴；祭祀传统-庄重神秘；宗教信仰-心灵寄托\", \"positive_comment_rate\": \"好评率：19.7%\", \"tags\": \"线路，收费，国内,旅游产品,跟团游-多日游,4天3晚\", \"duration\": \"4天3晚\", \"departure_city\": \"石家庄\", \"product_features\": \"古代祭祀体验；特色文化活动；舒适住宿环境\", \"price\": \"2050元起\", \"the_best_travel_date\": \"5月份\"}, {\"title\": \"【北京八达岭4日 长城雄姿之旅】\", \"introduce\": \"八达岭长城 | 攀登雄伟长城，明十三陵 | 探寻皇家陵寝，居庸关长城 | 欣赏壮丽风光，古北水镇 | 体验北方水乡\", \"theme\": \"长城风光-雄伟壮观；皇家陵寝-神秘庄严；水乡风情-独特韵味\", \"positive_comment_rate\": \"好评率：21.0%\", \"tags\": \"线路，收费，国内,旅游产品,跟团游-多日游,4天3晚\", \"duration\": \"4天3晚\", \"departure_city\": \"太原\", \"product_features\": \"长城雄姿体验；特色民俗表演；优质交通服务\", \"price\": \"2260元起\", \"the_best_travel_date\": \"6月份\"}, {\"title\": \"【北京什刹海4日 京城胡同之旅】\", \"introduce\": \"什刹海 | 感受湖畔风情，南锣鼓巷 | 漫步胡同小巷，烟袋斜街 | 体验老北京韵味，恭王府 | 了解王府历史\", \"theme\": \"京城胡同-古朴典雅；湖畔风光-悠闲惬意；历史建筑-文化沉淀\", \"positive_comment_rate\": \"好评率：19.8%\", \"tags\": \"线路，收费，国内,旅游产品,跟团游-多日游,4天3晚\", \"duration\": \"4天3晚\", \"departure_city\": \"济南\", \"product_features\": \"京城胡同体验；传统小吃品尝；贴心导游陪伴\", \"price\": \"1990元起\", \"the_best_travel_date\": \"4月份\"}, {\"title\": \"【上海外滩4日 繁华都市之旅】\", \"introduce\": \"外滩 | 欣赏万国建筑，东方明珠 | 俯瞰城市全景，豫园 | 感受江南园林，南京路步行街 | 畅享购物乐趣\", \"theme\": \"都市风光-璀璨繁华；历史建筑-文化韵味；购物娱乐-丰富多彩\", \"positive_comment_rate\": \"好评率：20.5%\", \"tags\": \"线路，收费，国内,旅游产品,跟团游-多日游,4天3晚\", \"duration\": \"4天3晚\", \"departure_city\": \"杭州\", \"product_features\": \"繁华都市体验；特色美食之旅；优质住宿安排\", \"price\": \"2100元起\", \"the_best_travel_date\": \"10月份\"}, {\"title\": \"【上海迪士尼4日 梦幻童话之旅】\", \"introduce\": \"上海迪士尼乐园 | 畅玩游乐项目，迪士尼小镇 | 感受欢乐氛围，星愿公园 | 享受休闲时光，比斯特购物村 | 尽情购物\", \"theme\": \"童话世界-梦幻浪漫；娱乐休闲-轻松愉悦；购物美食-一应俱全\", \"positive_comment_rate\": \"好评率：19.2%\", \"tags\": \"线路，收费，国内,旅游产品,跟团游-多日游,4天3晚\", \"duration\": \"4天3晚\", \"departure_city\": \"南京\", \"product_features\": \"梦幻童话体验；专属快速通道；贴心服务保障\", \"price\": \"2380元起\", \"the_best_travel_date\": \"6月份\"}, {\"title\": \"【上海朱家角4日 水乡古镇之旅】\", \"introduce\": \"朱家角古镇 | 领略水乡风情，淀山湖 | 欣赏湖光山色，金泽古镇 | 探寻古朴韵味，练塘古镇 | 感受宁静氛围\", \"theme\": \"水乡古镇-宁静优美；自然风光-清新宜人；历史文化-源远流长\", \"positive_comment_rate\": \"好评率：20.8%\", \"tags\": \"线路，收费，国内,旅游产品,跟团游-多日游,4天3晚\", \"duration\": \"4天3晚\", \"departure_city\": \"苏州\", \"product_features\": \"水乡古镇体验；特色民宿居住；当地美食品尝\", \"price\": \"1950元起\", \"the_best_travel_date\": \"4月份\"}, {\"title\": \"【上海科技馆4日 科技探索之旅】\", \"introduce\": \"上海科技馆 | 探索科技奥秘，上海自然博物馆 | 了解自然知识，上海天文馆 | 仰望星空宇宙，上海海洋水族馆 | 观赏海洋生物\", \"theme\": \"科技之旅-开拓视野；自然科普-增长见识；亲子互动-欢乐时光\", \"positive_comment_rate\": \"好评率：19.6%\", \"tags\": \"线路，收费，国内,旅游产品,跟团游-多日游,4天3晚\", \"duration\": \"4天3晚\", \"departure_city\": \"宁波\", \"product_features\": \"科技探索体验；专业讲解服务；舒适交通安排\", \"price\": \"2020元起\", \"the_best_travel_date\": \"8月份\"}, {\"title\": \"【西藏纳木错4日 高原圣湖之旅】\", \"introduce\": \"纳木错 | 沉醉湛蓝湖景，羊卓雍错 | 领略湖光山色，念青唐古拉山 | 感受雪山壮美，扎什伦布寺 | 体验宗教文化\", \"theme\": \"高原风光-壮美辽阔；宗教文化-神圣庄严；圣湖美景-心灵震撼\", \"positive_comment_rate\": \"好评率：19.3%\", \"tags\": \"线路，收费，国内,旅游产品,跟团游-多日游,4天\", \"duration\": \"4天\", \"departure_city\": \"拉萨\", \"product_features\": \"高原圣湖体验；特色藏餐品尝；专业医疗保障\", \"price\": \"2580元起\", \"the_best_travel_date\": \"7月份\"}, {\"title\": \"【西藏林芝4日 桃花仙境之旅】\", \"introduce\": \"林芝桃花沟 | 欣赏桃花盛景，雅鲁藏布大峡谷 | 探秘神奇地貌，鲁朗林海 | 沉醉绿色海洋，巴松措 | 感受宁静湖泊\", \"theme\": \"自然风光-如诗如画；桃花美景-浪漫迷人；生态之旅-清新宜人\", \"positive_comment_rate\": \"好评率：20.1%\", \"tags\": \"线路，收费，国内,旅游产品,跟团游-多日游,4天\", \"duration\": \"4天\", \"departure_city\": \"成都\", \"product_features\": \"桃花仙境体验；特色民俗活动；舒适住宿环境\", \"price\": \"2360元起\", \"the_best_travel_date\": \"3月份\"}, {\"title\": \"【西藏珠穆朗玛峰4日 巅峰挑战之旅】\", \"introduce\": \"珠穆朗玛峰大本营 | 近距离仰望巅峰，绒布寺 | 感受宗教与自然的融合，希夏邦马峰 | 观赏雪山风采，佩枯措 | 欣赏高原湖泊\", \"theme\": \"极限挑战-勇攀高峰；雪山风光-雄伟壮观；自然奇观-叹为观止\", \"positive_comment_rate\": \"好评率：18.7%\", \"tags\": \"线路，收费，国内,旅游产品,跟团游-多日游,4天\", \"duration\": \"4天\", \"departure_city\": \"日喀则\", \"product_features\": \"巅峰挑战体验；专业登山指导；优质后勤服务\", \"price\": \"2850元起\", \"the_best_travel_date\": \"9月份\"}, {\"title\": \"【西藏冈仁波齐4日 朝圣之旅】\", \"introduce\": \"冈仁波齐 | 踏上朝圣之路，玛旁雍错 | 感受神圣湖泊，古格王朝遗址 | 探寻历史遗迹，托林寺 | 领略佛教艺术\", \"theme\": \"宗教朝圣-心灵洗礼；历史文化-神秘深邃；高原风光-壮美无垠\", \"positive_comment_rate\": \"好评率：19.8%\", \"tags\": \"线路，收费，国内,旅游产品,跟团游-多日游,4天\", \"duration\": \"4天\", \"departure_city\": \"阿里\", \"product_features\": \"朝圣之旅体验；特色文化讲解；贴心服务保障\", \"price\": \"2680元起\", \"the_best_travel_date\": \"5月份\"}, {\"title\": \"【甘肃莫高窟4日 文化瑰宝之旅】\", \"introduce\": \"莫高窟 | 欣赏精美壁画，月牙泉 | 感受沙漠奇观，玉门关 | 探寻历史遗迹，雅丹地质公园 | 领略奇特地貌\", \"theme\": \"历史文化-博大精深；自然奇观-震撼人心；沙漠风光-独特魅力\", \"positive_comment_rate\": \"好评率：19.5%\", \"tags\": \"线路，收费，国内,旅游产品,跟团游-多日游,3天\", \"duration\": \"3天\", \"departure_city\": \"兰州\", \"product_features\": \"文化瑰宝体验；特色美食品尝；舒适交通安排\", \"price\": \"2080元起\", \"the_best_travel_date\": \"9月份\"}, {\"title\": \"【甘肃嘉峪关4日 长城边关之旅】\", \"introduce\": \"嘉峪关 | 领略长城雄伟，张掖七彩丹霞 | 观赏多彩地貌，悬臂长城 | 挑战陡峭攀登，长城第一墩 | 追溯历史源头\", \"theme\": \"长城文化-厚重深沉；丹霞风光-绚丽多彩；边关风情-豪迈壮阔\", \"positive_comment_rate\": \"好评率：20.3%\", \"tags\": \"线路，收费，国内,旅游产品,跟团游-多日游,4天\", \"duration\": \"4天\", \"departure_city\": \"西宁\", \"product_features\": \"长城边关体验；专业导游讲解；优质住宿环境\", \"price\": \"2260元起\", \"the_best_travel_date\": \"7月份\"}, {\"title\": \"【甘肃甘南4日 草原藏乡之旅】\", \"introduce\": \"甘南草原 | 驰骋广袤天地，拉卜楞寺 | 感受宗教氛围，扎尕那 | 探寻人间仙境，郎木寺 | 领略宁静祥和\", \"theme\": \"草原风光-辽阔壮美；宗教文化-神秘庄严；藏乡风情-淳朴浓郁\", \"positive_comment_rate\": \"好评率：19.9%\", \"tags\": \"线路，收费，国内,旅游产品,跟团游-多日游,3天2晚\", \"duration\": \"3天2晚\", \"departure_city\": \"成都\", \"product_features\": \"草原藏乡体验；特色民俗活动；贴心服务保障\", \"price\": \"1980元起\", \"the_best_travel_date\": \"6月份\"}, {\"title\": \"【甘肃天水 历史古迹之旅】\", \"introduce\": \"麦积山石窟 | 惊叹古代艺术，伏羲庙 | 追溯华夏始祖，南郭寺 | 欣赏园林美景，玉泉观 | 感受道教文化\", \"theme\": \"历史古迹-源远流长；文化传承-底蕴深厚；自然风光-优美宜人\", \"positive_comment_rate\": \"好评率：20.1%\", \"tags\": \"线路，收费，国内,旅游产品,跟团游-多日游,2天\", \"duration\": \"2天\", \"departure_city\": \"西安\", \"product_features\": \"历史古迹体验；特色文化表演；舒适酒店住宿\", \"price\": \"2150元起\", \"the_best_travel_date\": \"5月份\"}, {\"title\": \"【广州珠江夜游 璀璨都市之旅】\", \"introduce\": \"珠江夜游 | 欣赏两岸璀璨灯光，广州塔 | 俯瞰城市繁华，北京路步行街 | 体验热闹商圈，陈家祠 | 领略岭南建筑\", \"theme\": \"都市风光-绚丽多彩；历史文化-岭南特色；购物娱乐-丰富多样\", \"positive_comment_rate\": \"好评率：19.8%\", \"tags\": \"线路，收费，国内,旅游产品,跟团游-多日游,2天\", \"duration\": \"2天\", \"departure_city\": \"深圳\", \"product_features\": \"璀璨都市体验；特色美食品尝；便捷交通服务\", \"price\": \"1850元起\", \"the_best_travel_date\": \"10月份\"}, {\"title\": \"【广州白云山 自然生态之旅】\", \"introduce\": \"白云山 | 漫步山林呼吸清新空气，云台花园 | 观赏绚丽花卉，能仁寺 | 感受佛教宁静，鸣春谷 | 聆听鸟儿欢歌\", \"theme\": \"自然风光-秀丽迷人；生态环境-清新宜人；宗教文化-宁静祥和\", \"positive_comment_rate\": \"好评率：20.3%\", \"tags\": \"线路，收费，国内,旅游产品,跟团游-多日游,3天\", \"duration\": \"3天\", \"departure_city\": \"佛山\", \"product_features\": \"自然生态体验；特色民宿居住；贴心导游陪伴\", \"price\": \"2020元起\", \"the_best_travel_date\": \"4月份\"}, {\"title\": \"【广州长隆 欢乐亲子之旅】\", \"introduce\": \"长隆欢乐世界 | 畅玩刺激游乐设施，长隆野生动物世界 | 亲近可爱动物，长隆水上乐园 | 享受清凉夏日，长隆国际大马戏 | 观看精彩表演\", \"theme\": \"亲子娱乐-欢乐无限；动物世界-趣味盎然；水上活动-清凉畅快\", \"positive_comment_rate\": \"好评率：19.5%\", \"tags\": \"线路，收费，国内,旅游产品,跟团游-多日游,4天\", \"duration\": \"4天\", \"departure_city\": \"东莞\", \"product_features\": \"欢乐亲子体验；专属快速通道；优质餐饮安排\", \"price\": \"2380元起\", \"the_best_travel_date\": \"7月份\"}, {\"title\": \"【广州沙面岛 欧式风情之旅】\", \"introduce\": \"沙面岛 | 欣赏欧式建筑，上下九步行街 | 品尝传统美食，荔枝湾涌 | 感受岭南水乡，永庆坊 | 体验非遗文化\", \"theme\": \"欧式风情-典雅浪漫；岭南文化-独特韵味；美食之旅-舌尖享受\", \"positive_comment_rate\": \"好评率：20.6%\", \"tags\": \"线路，收费，国内,旅游产品,跟团游-多日游,3天\", \"duration\": \"3天\", \"departure_city\": \"珠海\", \"product_features\": \"欧式风情体验；特色手工艺品；舒适住宿环境\", \"price\": \"1990元起\", \"the_best_travel_date\": \"9月份\"}, {\"title\": \"【厦门鼓浪屿 文艺浪漫之旅】\", \"introduce\": \"鼓浪屿 | 漫步文艺小巷，菽庄花园 | 欣赏园林美景，皓月园 | 瞻仰郑成功雕像，风琴博物馆 | 领略音乐魅力\", \"theme\": \"文艺气息-浓厚迷人；历史建筑-独具特色；浪漫风情-温馨惬意\", \"positive_comment_rate\": \"好评率：19.7%\", \"tags\": \"线路，收费，国内,旅游产品,跟团游-多日游,2天\", \"duration\": \"2天\", \"departure_city\": \"泉州\", \"product_features\": \"文艺浪漫体验；特色小吃品尝；贴心导游服务\", \"price\": \"1880元起\", \"the_best_travel_date\": \"4月份\"}, {\"title\": \"【厦门南普陀寺 心灵祈福之旅】\", \"introduce\": \"南普陀寺 | 虔诚祈福许愿，厦门大学 | 感受学术氛围，胡里山炮台 | 了解军事历史，环岛路 | 欣赏海景风光\", \"theme\": \"宗教文化-心灵寄托；校园风光-青春活力；海滨美景-心旷神怡\", \"positive_comment_rate\": \"好评率：20.2%\", \"tags\": \"线路，收费，国内,旅游产品,跟团游-多日游,3天\", \"duration\": \"3天\", \"departure_city\": \"漳州\", \"product_features\": \"心灵祈福体验；高校文化之旅；舒适交通安排\", \"price\": \"2050元起\", \"the_best_travel_date\": \"10月份\"}, {\"title\": \"【厦门集美 人文风情之旅】\", \"introduce\": \"集美鳌园 | 缅怀嘉庚先生，集美大学 | 欣赏校园建筑，园博苑 | 观赏园林景观，龙舟池 | 感受民俗活动\", \"theme\": \"人文风情-丰富多彩；校园文化-底蕴深厚；园林艺术-精美绝伦\", \"positive_comment_rate\": \"好评率：19.9%\", \"tags\": \"线路，收费，国内,旅游产品,跟团游-多日游,2天\", \"duration\": \"2天\", \"departure_city\": \"龙岩\", \"product_features\": \"人文风情体验；特色民俗表演；优质住宿选择\", \"price\": \"1750元起\", \"the_best_travel_date\": \"5月份\"}, {\"title\": \"【厦门曾厝垵 美食探索之旅】\", \"introduce\": \"曾厝垵 | 品尝各类美食，椰风寨 | 享受沙滩阳光，观音山梦幻海岸 | 畅玩游乐项目，五缘湾湿地公园 | 观赏候鸟栖息\", \"theme\": \"美食之旅-舌尖盛宴；海滨娱乐-欢乐无限；生态景观-自然和谐\", \"positive_comment_rate\": \"好评率：20.5%\", \"tags\": \"线路，收费，国内,旅游产品,跟团游-多日游,3天\", \"duration\": \"3天\", \"departure_city\": \"三明\", \"product_features\": \"美食探索体验；海滨度假之旅；贴心服务保障\", \"price\": \"1920元起\", \"the_best_travel_date\": \"8月份\"}, {\"title\": \"【广西桂林 山水如画之旅】\", \"introduce\": \"漓江 | 领略如画风光，象鼻山 | 观赏独特山形，阳朔西街 | 感受热闹氛围，十里画廊 | 骑行欣赏美景\", \"theme\": \"山水风光-美不胜收；民俗风情-独特魅力；休闲娱乐-轻松自在\", \"positive_comment_rate\": \"好评率：19.6%\", \"tags\": \"线路，收费，国内,旅游产品,跟团游-多日游,3天\", \"duration\": \"3天\", \"departure_city\": \"南宁\", \"product_features\": \"山水如画体验；特色美食品尝；舒适住宿安排\", \"price\": \"1850元起\", \"the_best_travel_date\": \"9月份\"}, {\"title\": \"【广西北海 海滨度假之旅】\", \"introduce\": \"北海银滩 | 享受沙滩阳光，涠洲岛 | 探索火山地貌，老街 | 品味历史韵味，金海湾红树林 | 观赏生态景观\", \"theme\": \"海滨风光-迷人浪漫；火山奇观-神秘独特；历史文化-源远流长\", \"positive_comment_rate\": \"好评率：20.3%\", \"tags\": \"线路，收费，国内,旅游产品,跟团游-多日游,4天\", \"duration\": \"4天\", \"departure_city\": \"柳州\", \"product_features\": \"海滨度假体验；海鲜美食之旅；优质导游服务\", \"price\": \"2100元起\", \"the_best_travel_date\": \"7月份\"}, {\"title\": \"【广西龙脊梯田 田园风光之旅】\", \"introduce\": \"龙脊梯田 | 欣赏稻田美景，黄洛瑶寨 | 感受瑶族风情，平安壮寨 | 体验壮族文化，金坑大寨 | 俯瞰壮丽景色\", \"theme\": \"田园风光-宁静优美；民族风情-丰富多彩；自然风光-雄伟壮观\", \"positive_comment_rate\": \"好评率：19.8%\", \"tags\": \"线路，收费，国内,旅游产品,跟团游-多日游,3天\", \"duration\": \"3天\", \"departure_city\": \"桂林\", \"product_features\": \"田园风光体验；特色民俗活动；贴心服务保障\", \"price\": \"1780元起\", \"the_best_travel_date\": \"5月份\"}, {\"title\": \"【广西德天跨国瀑布 边境风情之旅】\", \"introduce\": \"德天跨国瀑布 | 观赏雄伟瀑布，明仕田园 | 享受田园生活，通灵大峡谷 | 探索神秘峡谷，鹅泉 | 欣赏宁静湖景\", \"theme\": \"边境风情-独特魅力；自然风光-神奇秀丽；峡谷探险-刺激有趣\", \"positive_comment_rate\": \"好评率：20.1%\", \"tags\": \"线路，收费，国内,旅游产品,跟团游-多日游,4天\", \"duration\": \"4天\", \"departure_city\": \"广西 崇左\", \"product_features\": \"边境风情体验；特色民宿居住；舒适交通安排\", \"price\": \"2050元起\", \"the_best_travel_date\": \"6月份\"}, {\"title\": \"【台湾台北 都市魅力之旅】\", \"introduce\": \"台北101大楼 | 俯瞰城市全景，故宫博物院 | 欣赏珍贵文物，士林夜市 | 品尝特色小吃，西门町 | 感受潮流文化\", \"theme\": \"都市风光-繁华现代；历史文化-底蕴深厚；美食购物-丰富多彩\", \"positive_comment_rate\": \"好评率：19.5%\", \"tags\": \"线路，收费，国内,旅游产品,跟团游-多日游,3天\", \"duration\": \"3天\", \"departure_city\": \"台湾 高雄\", \"product_features\": \"都市魅力体验；特色美食之旅；优质住宿安排\", \"price\": \"1880元起\", \"the_best_travel_date\": \"10月份\"}, {\"title\": \"【台湾垦丁 海滨度假之旅】\", \"introduce\": \"垦丁国家公园 | 欣赏海景风光，鹅銮鼻灯塔 | 眺望美丽海岸线，后壁湖 | 品尝新鲜海鲜，猫鼻头公园 | 观赏奇特地貌\", \"theme\": \"海滨风光-迷人浪漫；自然景观-奇特多样；海鲜美食-新鲜美味\", \"positive_comment_rate\": \"好评率：20.3%\", \"tags\": \"线路，收费，国内,旅游产品,跟团游-多日游,4天\", \"duration\": \"4天\", \"departure_city\": \"台湾 台中\", \"product_features\": \"海滨度假体验；特色民宿居住；贴心服务保障\", \"price\": \"2100元起\", \"the_best_travel_date\": \"7月份\"}, {\"title\": \"【台湾花莲 自然风光之旅】\", \"introduce\": \"太鲁阁国家公园 | 探索峡谷奇观，七星潭 | 欣赏美丽海滩，清水断崖 | 感受壮阔海景，瑞穗牧场 | 体验田园生活\", \"theme\": \"自然风光-雄伟壮丽；田园风情-宁静悠闲；海滩美景-心旷神怡\", \"positive_comment_rate\": \"好评率：19.8%\", \"tags\": \"线路，收费，国内,旅游产品,跟团游-多日游,3天\", \"duration\": \"3天\", \"departure_city\": \"台湾 台南\", \"product_features\": \"自然风光体验；特色民俗活动；舒适交通安排\", \"price\": \"1780元起\", \"the_best_travel_date\": \"5月份\"}, {\"title\": \"【台湾阿里山 森林探秘之旅】\", \"introduce\": \"阿里山森林游乐区 | 观赏古老神木，奋起湖 | 品尝特色美食，祝山观日台 | 迎接日出美景，姐妹潭 | 欣赏清幽湖泊\", \"theme\": \"森林风光-神秘幽深；美食之旅-舌尖享受；日出奇观-震撼人心\", \"positive_comment_rate\": \"好评率：20.1%\", \"tags\": \"线路，收费，国内,旅游产品,跟团游-多日游,4天\", \"duration\": \"4天\", \"departure_city\": \"台湾 嘉义\", \"product_features\": \"森林探秘体验；特色手工艺品；优质导游服务\", \"price\": \"2050元起\", \"the_best_travel_date\": \"4月份\"}, {\"title\": \"【海南三亚 海滨度假之旅】\", \"introduce\": \"亚龙湾 | 享受沙滩阳光，蜈支洲岛 | 畅玩水上项目，天涯海角 | 见证浪漫爱情，南山文化旅游区 | 朝拜南海观音\", \"theme\": \"海滨风光-迷人浪漫，水上活动-刺激有趣，宗教文化-心灵寄托\", \"positive_comment_rate\": \"好评率：19.6%\", \"tags\": \"线路，收费，国内,旅游产品,跟团游-多日游,4天\", \"duration\": \"4天\", \"departure_city\": \"海南 海口\", \"product_features\": \"海滨度假体验，特色美食品尝，优质住宿安排\", \"price\": \"2150元起\", \"the_best_travel_date\": \"11月份\"}, {\"title\": \"【海南琼海 田园风情之旅】\", \"introduce\": \"博鳌亚洲论坛永久会址 | 感受国际氛围，白石岭 | 攀登秀丽山峰，潭门南海风情小镇 | 体验渔家生活，红色娘子军纪念园 | 缅怀革命先烈\", \"theme\": \"田园风光-宁静优美，历史文化-底蕴深厚，民俗风情-独特魅力\", \"positive_comment_rate\": \"好评率：20.2%\", \"tags\": \"线路，收费，国内,旅游产品,跟团游-多日游,3天\", \"duration\": \"3天\", \"departure_city\": \"海南 文昌\", \"product_features\": \"田园风情体验，特色民俗活动，贴心导游服务\", \"price\": \"1880元起\", \"the_best_travel_date\": \"9月份\"}, {\"title\": \"【海南万宁 冲浪探险之旅】\", \"introduce\": \"石梅湾 | 冲浪挑战自我，兴隆热带植物园 | 观赏珍稀植物，神州半岛 | 欣赏美丽海景，东山岭 | 领略佛教文化\", \"theme\": \"冲浪运动-激情刺激，自然景观-神奇秀丽，宗教文化-庄严神圣\", \"positive_comment_rate\": \"好评率：19.8%\", \"tags\": \"线路，收费，国内,旅游产品,跟团游-多日游,3天\", \"duration\": \"3天\", \"departure_city\": \"海南 儋州\", \"product_features\": \"冲浪探险体验，特色植物观赏，舒适交通安排\", \"price\": \"1750元起\", \"the_best_travel_date\": \"6月份\"}, {\"title\": \"【海南五指山 热带雨林之旅】\", \"introduce\": \"五指山热带雨林风景区 | 探索原始森林，红峡谷漂流 | 感受刺激漂流，黎苗民族风情村 | 了解民族文化，太平山瀑布 | 欣赏飞瀑美景\", \"theme\": \"热带雨林-神秘幽深，漂流活动-惊险刺激，民族风情-丰富多彩\", \"positive_comment_rate\": \"好评率：20.1%\", \"tags\": \"线路，收费，国内,旅游产品,跟团游-多日游,4天\", \"duration\": \"4天\", \"departure_city\": \"海南 琼中\", \"product_features\": \"热带雨林体验，特色手工艺品，优质餐饮服务\", \"price\": \"2050元起\", \"the_best_travel_date\": \"8月份\"}, {\"title\": \"【湖北武汉 荆楚文化之旅】\", \"introduce\": \"黄鹤楼 | 领略千古名楼，东湖风景区 | 欣赏湖光山色，湖北省博物馆 | 品鉴珍贵文物，户部巷 | 品尝特色小吃\", \"theme\": \"历史文化-源远流长，自然风光-秀丽迷人，美食体验-丰富多彩\", \"positive_comment_rate\": \"好评率：19.7%\", \"tags\": \"线路，收费，国内,旅游产品,跟团游-多日游,3天\", \"duration\": \"3天\", \"departure_city\": \"湖北 襄阳\", \"product_features\": \"荆楚文化体验，特色美食品尝，舒适住宿安排\", \"price\": \"1850元起\", \"the_best_travel_date\": \"10月份\"}, {\"title\": \"【湖北宜昌 三峡风光之旅】\", \"introduce\": \"三峡大坝 | 感受工程宏伟，三峡人家 | 体验民俗风情，清江画廊 | 观赏如画美景，西陵峡 | 领略峡谷风光\", \"theme\": \"水利工程-震撼人心，民俗文化-独特魅力，自然风光-雄伟壮丽\", \"positive_comment_rate\": \"好评率：20.3%\", \"tags\": \"线路，收费，国内,旅游产品,跟团游-多日游,4天\", \"duration\": \"4天\", \"departure_city\": \"湖北 荆州\", \"product_features\": \"三峡风光体验，特色民宿居住，贴心导游服务\", \"price\": \"2100元起\", \"the_best_travel_date\": \"5月份\"}, {\"title\": \"【湖北恩施 土家风情之旅】\", \"introduce\": \"恩施大峡谷 | 探索神奇地貌，腾龙洞 | 观赏洞穴奇观，土司城 | 了解土司文化，女儿城 | 感受土家风情\", \"theme\": \"自然奇观-鬼斧神工，民族文化-丰富多彩，风情体验-别具一格\", \"positive_comment_rate\": \"好评率：19.9%\", \"tags\": \"线路，收费，国内,旅游产品,跟团游-多日游,3天\", \"duration\": \"3天\", \"departure_city\": \"湖北 十堰\", \"product_features\": \"土家风情体验，特色民俗活动，优质交通服务\", \"price\": \"1780元起\", \"the_best_travel_date\": \"7月份\"}, {\"title\": \"【湖北神农架 原始森林之旅】\", \"introduce\": \"神农顶 | 俯瞰群山峻岭，大九湖 | 欣赏湿地风光，神农坛 | 祭祀华夏始祖，天生桥 | 观赏飞瀑流泉\", \"theme\": \"原始森林-神秘幽深，自然风光-美不胜收，历史文化-底蕴深厚\", \"positive_comment_rate\": \"好评率：20.1%\", \"tags\": \"线路，收费，国内,旅游产品,跟团游-多日游,4天\", \"duration\": \"4天\", \"departure_city\": \"湖北 荆门\", \"product_features\": \"原始森林体验，特色山珍品尝，舒适酒店住宿\", \"price\": \"2050元起\", \"the_best_travel_date\": \"9月份\"}]}')]"
     },
     "execution_count": 8,
     "metadata": {},
     "output_type": "execute_result"
    }
   ],
   "source": [
    "retriever.invoke(\"婺源景德镇4日 从古徽州到瓷都的发现之旅 的好评率是多少\")"
   ],
   "metadata": {
    "collapsed": false,
    "ExecuteTime": {
     "end_time": "2024-07-05T02:25:41.814246Z",
     "start_time": "2024-07-05T02:25:33.691176Z"
    }
   },
   "id": "cbff7e4155bbbab",
   "execution_count": 8
  },
  {
   "cell_type": "code",
   "outputs": [],
   "source": [],
   "metadata": {
    "collapsed": false
   },
   "id": "180b40e283ca9107"
  }
 ],
 "metadata": {
  "kernelspec": {
   "display_name": "Python 3",
   "language": "python",
   "name": "python3"
  },
  "language_info": {
   "codemirror_mode": {
    "name": "ipython",
    "version": 2
   },
   "file_extension": ".py",
   "mimetype": "text/x-python",
   "name": "python",
   "nbconvert_exporter": "python",
   "pygments_lexer": "ipython2",
   "version": "2.7.6"
  }
 },
 "nbformat": 4,
 "nbformat_minor": 5
}
