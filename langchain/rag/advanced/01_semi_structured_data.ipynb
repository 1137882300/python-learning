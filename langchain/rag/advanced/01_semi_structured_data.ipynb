{
 "cells": [
  {
   "cell_type": "markdown",
   "source": [
    "# 01.半结构化数据上的RAG\n",
    "- 典型的半结构化数据是包含文本、表格、图像等的PDF文档。\n",
    "\n"
   ],
   "metadata": {
    "collapsed": false
   },
   "id": "a9b6ea15aae8eddb"
  },
  {
   "cell_type": "code",
   "outputs": [
    {
     "name": "stdout",
     "output_type": "stream",
     "text": [
      "--2024-06-28 15:02:05--  https://d18rn0p25nwr6d.cloudfront.net/CIK-0001045810/381953f9-934e-4cc8-b099-144910676bad.pdf\r\n",
      "Resolving d18rn0p25nwr6d.cloudfront.net (d18rn0p25nwr6d.cloudfront.net)... 18.155.204.129, 18.155.204.91, 18.155.204.120, ...\r\n",
      "Connecting to d18rn0p25nwr6d.cloudfront.net (d18rn0p25nwr6d.cloudfront.net)|18.155.204.129|:443... connected.\r\n",
      "HTTP request sent, awaiting response... 200 OK\r\n",
      "Length: 119037 (116K) [application/pdf]\r\n",
      "Saving to: ‘statement_of_changes.pdf’\r\n",
      "\r\n",
      "statement_of_change 100%[===================>] 116.25K   356KB/s    in 0.3s    \r\n",
      "\r\n",
      "2024-06-28 15:02:06 (356 KB/s) - ‘statement_of_changes.pdf’ saved [119037/119037]\r\n",
      "\r\n"
     ]
    }
   ],
   "source": [
    "# 下载PDF文件并将其命名为 statement_of_changes.pdf 。\n",
    "!wget -O statement_of_changes.pdf https://d18rn0p25nwr6d.cloudfront.net/CIK-0001045810/381953f9-934e-4cc8-b099-144910676bad.pdf\n"
   ],
   "metadata": {
    "collapsed": false,
    "ExecuteTime": {
     "end_time": "2024-06-28T07:02:06.891136Z",
     "start_time": "2024-06-28T07:02:05.600648Z"
    }
   },
   "id": "bf0269d63260c73b",
   "execution_count": 2
  },
  {
   "cell_type": "code",
   "outputs": [
    {
     "name": "stdout",
     "output_type": "stream",
     "text": [
      "\u001B[33mWarning:\u001B[0m No available formula with the name \"poppler-utils\". Did you mean poppler-qt5?\r\n",
      "\u001B[34m==>\u001B[0m \u001B[1mSearching for similarly named formulae and casks...\u001B[0m\r\n",
      "\u001B[34m==>\u001B[0m \u001B[1mFormulae\u001B[0m\r\n",
      "poppler-qt5\r\n",
      "\r\n",
      "To install poppler-qt5, run:\r\n",
      "  brew install poppler-qt5\r\n"
     ]
    }
   ],
   "source": [
    "# apt-get 是安装系统级的软件包。\n",
    "# !apt-get install poppler-utils tesseract-ocr\n",
    "# !brew install poppler-utils tesseract-ocr\n",
    "# !brew install poppler-qt5\n",
    "# !brew install poppler-utils"
   ],
   "metadata": {
    "collapsed": false,
    "ExecuteTime": {
     "end_time": "2024-06-28T07:09:02.797866Z",
     "start_time": "2024-06-28T07:09:01.190441Z"
    }
   },
   "id": "a89a9966f50ef70",
   "execution_count": 7
  },
  {
   "cell_type": "code",
   "outputs": [
    {
     "ename": "ValueError",
     "evalue": "unstructured_inference is not installed, pytesseract is not installed and the text of the PDF is not extractable. To process this file, install unstructured_inference, install pytesseract, or remove copy protection from the PDF.",
     "output_type": "error",
     "traceback": [
      "\u001B[0;31m---------------------------------------------------------------------------\u001B[0m",
      "\u001B[0;31mValueError\u001B[0m                                Traceback (most recent call last)",
      "Cell \u001B[0;32mIn[6], line 6\u001B[0m\n\u001B[1;32m      3\u001B[0m \u001B[38;5;28;01mfrom\u001B[39;00m \u001B[38;5;21;01mpydantic\u001B[39;00m \u001B[38;5;28;01mimport\u001B[39;00m BaseModel\n\u001B[1;32m      4\u001B[0m \u001B[38;5;28;01mfrom\u001B[39;00m \u001B[38;5;21;01munstructured\u001B[39;00m\u001B[38;5;21;01m.\u001B[39;00m\u001B[38;5;21;01mpartition\u001B[39;00m\u001B[38;5;21;01m.\u001B[39;00m\u001B[38;5;21;01mpdf\u001B[39;00m \u001B[38;5;28;01mimport\u001B[39;00m partition_pdf\n\u001B[0;32m----> 6\u001B[0m raw_pdf_elements \u001B[38;5;241m=\u001B[39m \u001B[43mpartition_pdf\u001B[49m\u001B[43m(\u001B[49m\n\u001B[1;32m      7\u001B[0m \u001B[43m    \u001B[49m\u001B[43mfilename\u001B[49m\u001B[38;5;241;43m=\u001B[39;49m\u001B[38;5;124;43m\"\u001B[39;49m\u001B[38;5;124;43mstatement_of_changes.pdf\u001B[39;49m\u001B[38;5;124;43m\"\u001B[39;49m\u001B[43m,\u001B[49m\n\u001B[1;32m      8\u001B[0m \u001B[43m    \u001B[49m\u001B[43mextract_images_in_pdf\u001B[49m\u001B[38;5;241;43m=\u001B[39;49m\u001B[38;5;28;43;01mFalse\u001B[39;49;00m\u001B[43m,\u001B[49m\n\u001B[1;32m      9\u001B[0m \u001B[43m    \u001B[49m\u001B[43minfer_table_structure\u001B[49m\u001B[38;5;241;43m=\u001B[39;49m\u001B[38;5;28;43;01mTrue\u001B[39;49;00m\u001B[43m,\u001B[49m\n\u001B[1;32m     10\u001B[0m \u001B[43m    \u001B[49m\u001B[43mchunking_strategy\u001B[49m\u001B[38;5;241;43m=\u001B[39;49m\u001B[38;5;124;43m\"\u001B[39;49m\u001B[38;5;124;43mby_title\u001B[39;49m\u001B[38;5;124;43m\"\u001B[39;49m\u001B[43m,\u001B[49m\n\u001B[1;32m     11\u001B[0m \u001B[43m    \u001B[49m\u001B[43mmax_characters\u001B[49m\u001B[38;5;241;43m=\u001B[39;49m\u001B[38;5;241;43m4000\u001B[39;49m\u001B[43m,\u001B[49m\n\u001B[1;32m     12\u001B[0m \u001B[43m    \u001B[49m\u001B[43mnew_after_n_chars\u001B[49m\u001B[38;5;241;43m=\u001B[39;49m\u001B[38;5;241;43m3800\u001B[39;49m\u001B[43m,\u001B[49m\n\u001B[1;32m     13\u001B[0m \u001B[43m    \u001B[49m\u001B[43mcombine_text_under_n_chars\u001B[49m\u001B[38;5;241;43m=\u001B[39;49m\u001B[38;5;241;43m2000\u001B[39;49m\u001B[43m,\u001B[49m\n\u001B[1;32m     14\u001B[0m \u001B[43m    \u001B[49m\u001B[43mimage_output_dir_path\u001B[49m\u001B[38;5;241;43m=\u001B[39;49m\u001B[38;5;124;43m\"\u001B[39;49m\u001B[38;5;124;43m.\u001B[39;49m\u001B[38;5;124;43m\"\u001B[39;49m\u001B[43m,\u001B[49m\n\u001B[1;32m     15\u001B[0m \u001B[43m)\u001B[49m\n",
      "File \u001B[0;32m~/venv/lib/python3.10/site-packages/unstructured/documents/elements.py:593\u001B[0m, in \u001B[0;36mprocess_metadata.<locals>.decorator.<locals>.wrapper\u001B[0;34m(*args, **kwargs)\u001B[0m\n\u001B[1;32m    591\u001B[0m \u001B[38;5;129m@functools\u001B[39m\u001B[38;5;241m.\u001B[39mwraps(func)\n\u001B[1;32m    592\u001B[0m \u001B[38;5;28;01mdef\u001B[39;00m \u001B[38;5;21mwrapper\u001B[39m(\u001B[38;5;241m*\u001B[39margs: _P\u001B[38;5;241m.\u001B[39margs, \u001B[38;5;241m*\u001B[39m\u001B[38;5;241m*\u001B[39mkwargs: _P\u001B[38;5;241m.\u001B[39mkwargs) \u001B[38;5;241m-\u001B[39m\u001B[38;5;241m>\u001B[39m \u001B[38;5;28mlist\u001B[39m[Element]:\n\u001B[0;32m--> 593\u001B[0m     elements \u001B[38;5;241m=\u001B[39m \u001B[43mfunc\u001B[49m\u001B[43m(\u001B[49m\u001B[38;5;241;43m*\u001B[39;49m\u001B[43margs\u001B[49m\u001B[43m,\u001B[49m\u001B[43m \u001B[49m\u001B[38;5;241;43m*\u001B[39;49m\u001B[38;5;241;43m*\u001B[39;49m\u001B[43mkwargs\u001B[49m\u001B[43m)\u001B[49m\n\u001B[1;32m    594\u001B[0m     call_args \u001B[38;5;241m=\u001B[39m get_call_args_applying_defaults(func, \u001B[38;5;241m*\u001B[39margs, \u001B[38;5;241m*\u001B[39m\u001B[38;5;241m*\u001B[39mkwargs)\n\u001B[1;32m    596\u001B[0m     regex_metadata: \u001B[38;5;28mdict\u001B[39m[\u001B[38;5;124m\"\u001B[39m\u001B[38;5;124mstr\u001B[39m\u001B[38;5;124m\"\u001B[39m, \u001B[38;5;124m\"\u001B[39m\u001B[38;5;124mstr\u001B[39m\u001B[38;5;124m\"\u001B[39m] \u001B[38;5;241m=\u001B[39m call_args\u001B[38;5;241m.\u001B[39mget(\u001B[38;5;124m\"\u001B[39m\u001B[38;5;124mregex_metadata\u001B[39m\u001B[38;5;124m\"\u001B[39m, {})\n",
      "File \u001B[0;32m~/venv/lib/python3.10/site-packages/unstructured/file_utils/filetype.py:626\u001B[0m, in \u001B[0;36madd_filetype.<locals>.decorator.<locals>.wrapper\u001B[0;34m(*args, **kwargs)\u001B[0m\n\u001B[1;32m    624\u001B[0m \u001B[38;5;129m@functools\u001B[39m\u001B[38;5;241m.\u001B[39mwraps(func)\n\u001B[1;32m    625\u001B[0m \u001B[38;5;28;01mdef\u001B[39;00m \u001B[38;5;21mwrapper\u001B[39m(\u001B[38;5;241m*\u001B[39margs: _P\u001B[38;5;241m.\u001B[39margs, \u001B[38;5;241m*\u001B[39m\u001B[38;5;241m*\u001B[39mkwargs: _P\u001B[38;5;241m.\u001B[39mkwargs) \u001B[38;5;241m-\u001B[39m\u001B[38;5;241m>\u001B[39m List[Element]:\n\u001B[0;32m--> 626\u001B[0m     elements \u001B[38;5;241m=\u001B[39m \u001B[43mfunc\u001B[49m\u001B[43m(\u001B[49m\u001B[38;5;241;43m*\u001B[39;49m\u001B[43margs\u001B[49m\u001B[43m,\u001B[49m\u001B[43m \u001B[49m\u001B[38;5;241;43m*\u001B[39;49m\u001B[38;5;241;43m*\u001B[39;49m\u001B[43mkwargs\u001B[49m\u001B[43m)\u001B[49m\n\u001B[1;32m    627\u001B[0m     params \u001B[38;5;241m=\u001B[39m get_call_args_applying_defaults(func, \u001B[38;5;241m*\u001B[39margs, \u001B[38;5;241m*\u001B[39m\u001B[38;5;241m*\u001B[39mkwargs)\n\u001B[1;32m    628\u001B[0m     include_metadata \u001B[38;5;241m=\u001B[39m params\u001B[38;5;241m.\u001B[39mget(\u001B[38;5;124m\"\u001B[39m\u001B[38;5;124minclude_metadata\u001B[39m\u001B[38;5;124m\"\u001B[39m, \u001B[38;5;28;01mTrue\u001B[39;00m)\n",
      "File \u001B[0;32m~/venv/lib/python3.10/site-packages/unstructured/file_utils/filetype.py:582\u001B[0m, in \u001B[0;36madd_metadata.<locals>.wrapper\u001B[0;34m(*args, **kwargs)\u001B[0m\n\u001B[1;32m    580\u001B[0m \u001B[38;5;129m@functools\u001B[39m\u001B[38;5;241m.\u001B[39mwraps(func)\n\u001B[1;32m    581\u001B[0m \u001B[38;5;28;01mdef\u001B[39;00m \u001B[38;5;21mwrapper\u001B[39m(\u001B[38;5;241m*\u001B[39margs: _P\u001B[38;5;241m.\u001B[39margs, \u001B[38;5;241m*\u001B[39m\u001B[38;5;241m*\u001B[39mkwargs: _P\u001B[38;5;241m.\u001B[39mkwargs) \u001B[38;5;241m-\u001B[39m\u001B[38;5;241m>\u001B[39m List[Element]:\n\u001B[0;32m--> 582\u001B[0m     elements \u001B[38;5;241m=\u001B[39m \u001B[43mfunc\u001B[49m\u001B[43m(\u001B[49m\u001B[38;5;241;43m*\u001B[39;49m\u001B[43margs\u001B[49m\u001B[43m,\u001B[49m\u001B[43m \u001B[49m\u001B[38;5;241;43m*\u001B[39;49m\u001B[38;5;241;43m*\u001B[39;49m\u001B[43mkwargs\u001B[49m\u001B[43m)\u001B[49m\n\u001B[1;32m    583\u001B[0m     call_args \u001B[38;5;241m=\u001B[39m get_call_args_applying_defaults(func, \u001B[38;5;241m*\u001B[39margs, \u001B[38;5;241m*\u001B[39m\u001B[38;5;241m*\u001B[39mkwargs)\n\u001B[1;32m    584\u001B[0m     include_metadata \u001B[38;5;241m=\u001B[39m call_args\u001B[38;5;241m.\u001B[39mget(\u001B[38;5;124m\"\u001B[39m\u001B[38;5;124minclude_metadata\u001B[39m\u001B[38;5;124m\"\u001B[39m, \u001B[38;5;28;01mTrue\u001B[39;00m)\n",
      "File \u001B[0;32m~/venv/lib/python3.10/site-packages/unstructured/chunking/dispatch.py:74\u001B[0m, in \u001B[0;36madd_chunking_strategy.<locals>.wrapper\u001B[0;34m(*args, **kwargs)\u001B[0m\n\u001B[1;32m     71\u001B[0m \u001B[38;5;250m\u001B[39m\u001B[38;5;124;03m\"\"\"The decorated function is replaced with this one.\"\"\"\u001B[39;00m\n\u001B[1;32m     73\u001B[0m \u001B[38;5;66;03m# -- call the partitioning function to get the elements --\u001B[39;00m\n\u001B[0;32m---> 74\u001B[0m elements \u001B[38;5;241m=\u001B[39m \u001B[43mfunc\u001B[49m\u001B[43m(\u001B[49m\u001B[38;5;241;43m*\u001B[39;49m\u001B[43margs\u001B[49m\u001B[43m,\u001B[49m\u001B[43m \u001B[49m\u001B[38;5;241;43m*\u001B[39;49m\u001B[38;5;241;43m*\u001B[39;49m\u001B[43mkwargs\u001B[49m\u001B[43m)\u001B[49m\n\u001B[1;32m     76\u001B[0m \u001B[38;5;66;03m# -- look for a chunking-strategy argument --\u001B[39;00m\n\u001B[1;32m     77\u001B[0m call_args \u001B[38;5;241m=\u001B[39m get_call_args_applying_defaults(func, \u001B[38;5;241m*\u001B[39margs, \u001B[38;5;241m*\u001B[39m\u001B[38;5;241m*\u001B[39mkwargs)\n",
      "File \u001B[0;32m~/venv/lib/python3.10/site-packages/unstructured/partition/pdf.py:192\u001B[0m, in \u001B[0;36mpartition_pdf\u001B[0;34m(filename, file, include_page_breaks, strategy, infer_table_structure, ocr_languages, languages, include_metadata, metadata_filename, metadata_last_modified, chunking_strategy, hi_res_model_name, extract_images_in_pdf, extract_image_block_types, extract_image_block_output_dir, extract_image_block_to_payload, date_from_file_object, starting_page_number, extract_forms, form_extraction_skip_tables, **kwargs)\u001B[0m\n\u001B[1;32m    188\u001B[0m exactly_one(filename\u001B[38;5;241m=\u001B[39mfilename, file\u001B[38;5;241m=\u001B[39mfile)\n\u001B[1;32m    190\u001B[0m languages \u001B[38;5;241m=\u001B[39m check_language_args(languages \u001B[38;5;129;01mor\u001B[39;00m [], ocr_languages) \u001B[38;5;129;01mor\u001B[39;00m [\u001B[38;5;124m\"\u001B[39m\u001B[38;5;124meng\u001B[39m\u001B[38;5;124m\"\u001B[39m]\n\u001B[0;32m--> 192\u001B[0m \u001B[38;5;28;01mreturn\u001B[39;00m \u001B[43mpartition_pdf_or_image\u001B[49m\u001B[43m(\u001B[49m\n\u001B[1;32m    193\u001B[0m \u001B[43m    \u001B[49m\u001B[43mfilename\u001B[49m\u001B[38;5;241;43m=\u001B[39;49m\u001B[43mfilename\u001B[49m\u001B[43m,\u001B[49m\n\u001B[1;32m    194\u001B[0m \u001B[43m    \u001B[49m\u001B[43mfile\u001B[49m\u001B[38;5;241;43m=\u001B[39;49m\u001B[43mfile\u001B[49m\u001B[43m,\u001B[49m\n\u001B[1;32m    195\u001B[0m \u001B[43m    \u001B[49m\u001B[43minclude_page_breaks\u001B[49m\u001B[38;5;241;43m=\u001B[39;49m\u001B[43minclude_page_breaks\u001B[49m\u001B[43m,\u001B[49m\n\u001B[1;32m    196\u001B[0m \u001B[43m    \u001B[49m\u001B[43mstrategy\u001B[49m\u001B[38;5;241;43m=\u001B[39;49m\u001B[43mstrategy\u001B[49m\u001B[43m,\u001B[49m\n\u001B[1;32m    197\u001B[0m \u001B[43m    \u001B[49m\u001B[43minfer_table_structure\u001B[49m\u001B[38;5;241;43m=\u001B[39;49m\u001B[43minfer_table_structure\u001B[49m\u001B[43m,\u001B[49m\n\u001B[1;32m    198\u001B[0m \u001B[43m    \u001B[49m\u001B[43mlanguages\u001B[49m\u001B[38;5;241;43m=\u001B[39;49m\u001B[43mlanguages\u001B[49m\u001B[43m,\u001B[49m\n\u001B[1;32m    199\u001B[0m \u001B[43m    \u001B[49m\u001B[43mmetadata_last_modified\u001B[49m\u001B[38;5;241;43m=\u001B[39;49m\u001B[43mmetadata_last_modified\u001B[49m\u001B[43m,\u001B[49m\n\u001B[1;32m    200\u001B[0m \u001B[43m    \u001B[49m\u001B[43mhi_res_model_name\u001B[49m\u001B[38;5;241;43m=\u001B[39;49m\u001B[43mhi_res_model_name\u001B[49m\u001B[43m,\u001B[49m\n\u001B[1;32m    201\u001B[0m \u001B[43m    \u001B[49m\u001B[43mextract_images_in_pdf\u001B[49m\u001B[38;5;241;43m=\u001B[39;49m\u001B[43mextract_images_in_pdf\u001B[49m\u001B[43m,\u001B[49m\n\u001B[1;32m    202\u001B[0m \u001B[43m    \u001B[49m\u001B[43mextract_image_block_types\u001B[49m\u001B[38;5;241;43m=\u001B[39;49m\u001B[43mextract_image_block_types\u001B[49m\u001B[43m,\u001B[49m\n\u001B[1;32m    203\u001B[0m \u001B[43m    \u001B[49m\u001B[43mextract_image_block_output_dir\u001B[49m\u001B[38;5;241;43m=\u001B[39;49m\u001B[43mextract_image_block_output_dir\u001B[49m\u001B[43m,\u001B[49m\n\u001B[1;32m    204\u001B[0m \u001B[43m    \u001B[49m\u001B[43mextract_image_block_to_payload\u001B[49m\u001B[38;5;241;43m=\u001B[39;49m\u001B[43mextract_image_block_to_payload\u001B[49m\u001B[43m,\u001B[49m\n\u001B[1;32m    205\u001B[0m \u001B[43m    \u001B[49m\u001B[43mdate_from_file_object\u001B[49m\u001B[38;5;241;43m=\u001B[39;49m\u001B[43mdate_from_file_object\u001B[49m\u001B[43m,\u001B[49m\n\u001B[1;32m    206\u001B[0m \u001B[43m    \u001B[49m\u001B[43mstarting_page_number\u001B[49m\u001B[38;5;241;43m=\u001B[39;49m\u001B[43mstarting_page_number\u001B[49m\u001B[43m,\u001B[49m\n\u001B[1;32m    207\u001B[0m \u001B[43m    \u001B[49m\u001B[43mextract_forms\u001B[49m\u001B[38;5;241;43m=\u001B[39;49m\u001B[43mextract_forms\u001B[49m\u001B[43m,\u001B[49m\n\u001B[1;32m    208\u001B[0m \u001B[43m    \u001B[49m\u001B[43mform_extraction_skip_tables\u001B[49m\u001B[38;5;241;43m=\u001B[39;49m\u001B[43mform_extraction_skip_tables\u001B[49m\u001B[43m,\u001B[49m\n\u001B[1;32m    209\u001B[0m \u001B[43m    \u001B[49m\u001B[38;5;241;43m*\u001B[39;49m\u001B[38;5;241;43m*\u001B[39;49m\u001B[43mkwargs\u001B[49m\u001B[43m,\u001B[49m\n\u001B[1;32m    210\u001B[0m \u001B[43m\u001B[49m\u001B[43m)\u001B[49m\n",
      "File \u001B[0;32m~/venv/lib/python3.10/site-packages/unstructured/partition/pdf.py:272\u001B[0m, in \u001B[0;36mpartition_pdf_or_image\u001B[0;34m(filename, file, is_image, include_page_breaks, strategy, infer_table_structure, ocr_languages, languages, metadata_last_modified, hi_res_model_name, extract_images_in_pdf, extract_image_block_types, extract_image_block_output_dir, extract_image_block_to_payload, date_from_file_object, starting_page_number, extract_forms, form_extraction_skip_tables, **kwargs)\u001B[0m\n\u001B[1;32m    269\u001B[0m         logger\u001B[38;5;241m.\u001B[39mdebug(e)\n\u001B[1;32m    270\u001B[0m         logger\u001B[38;5;241m.\u001B[39minfo(\u001B[38;5;124m\"\u001B[39m\u001B[38;5;124mPDF text extraction failed, skip text extraction...\u001B[39m\u001B[38;5;124m\"\u001B[39m)\n\u001B[0;32m--> 272\u001B[0m strategy \u001B[38;5;241m=\u001B[39m \u001B[43mdetermine_pdf_or_image_strategy\u001B[49m\u001B[43m(\u001B[49m\n\u001B[1;32m    273\u001B[0m \u001B[43m    \u001B[49m\u001B[43mstrategy\u001B[49m\u001B[43m,\u001B[49m\n\u001B[1;32m    274\u001B[0m \u001B[43m    \u001B[49m\u001B[43mis_image\u001B[49m\u001B[38;5;241;43m=\u001B[39;49m\u001B[43mis_image\u001B[49m\u001B[43m,\u001B[49m\n\u001B[1;32m    275\u001B[0m \u001B[43m    \u001B[49m\u001B[43mpdf_text_extractable\u001B[49m\u001B[38;5;241;43m=\u001B[39;49m\u001B[43mpdf_text_extractable\u001B[49m\u001B[43m,\u001B[49m\n\u001B[1;32m    276\u001B[0m \u001B[43m    \u001B[49m\u001B[43minfer_table_structure\u001B[49m\u001B[38;5;241;43m=\u001B[39;49m\u001B[43minfer_table_structure\u001B[49m\u001B[43m,\u001B[49m\n\u001B[1;32m    277\u001B[0m \u001B[43m    \u001B[49m\u001B[43mextract_images_in_pdf\u001B[49m\u001B[38;5;241;43m=\u001B[39;49m\u001B[43mextract_images_in_pdf\u001B[49m\u001B[43m,\u001B[49m\n\u001B[1;32m    278\u001B[0m \u001B[43m    \u001B[49m\u001B[43mextract_image_block_types\u001B[49m\u001B[38;5;241;43m=\u001B[39;49m\u001B[43mextract_image_block_types\u001B[49m\u001B[43m,\u001B[49m\n\u001B[1;32m    279\u001B[0m \u001B[43m\u001B[49m\u001B[43m)\u001B[49m\n\u001B[1;32m    281\u001B[0m \u001B[38;5;28;01mif\u001B[39;00m file \u001B[38;5;129;01mis\u001B[39;00m \u001B[38;5;129;01mnot\u001B[39;00m \u001B[38;5;28;01mNone\u001B[39;00m:\n\u001B[1;32m    282\u001B[0m     file\u001B[38;5;241m.\u001B[39mseek(\u001B[38;5;241m0\u001B[39m)\n",
      "File \u001B[0;32m~/venv/lib/python3.10/site-packages/unstructured/partition/strategies.py:51\u001B[0m, in \u001B[0;36mdetermine_pdf_or_image_strategy\u001B[0;34m(strategy, is_image, pdf_text_extractable, infer_table_structure, extract_images_in_pdf, extract_image_block_types)\u001B[0m\n\u001B[1;32m     42\u001B[0m         strategy \u001B[38;5;241m=\u001B[39m _determine_pdf_auto_strategy(\n\u001B[1;32m     43\u001B[0m             pdf_text_extractable\u001B[38;5;241m=\u001B[39mpdf_text_extractable,\n\u001B[1;32m     44\u001B[0m             infer_table_structure\u001B[38;5;241m=\u001B[39minfer_table_structure,\n\u001B[1;32m     45\u001B[0m             extract_element\u001B[38;5;241m=\u001B[39mextract_element,\n\u001B[1;32m     46\u001B[0m         )\n\u001B[1;32m     48\u001B[0m \u001B[38;5;28;01mif\u001B[39;00m \u001B[38;5;28mall\u001B[39m(\n\u001B[1;32m     49\u001B[0m     [\u001B[38;5;129;01mnot\u001B[39;00m unstructured_inference_installed, \u001B[38;5;129;01mnot\u001B[39;00m pytesseract_installed, \u001B[38;5;129;01mnot\u001B[39;00m pdf_text_extractable],\n\u001B[1;32m     50\u001B[0m ):\n\u001B[0;32m---> 51\u001B[0m     \u001B[38;5;28;01mraise\u001B[39;00m \u001B[38;5;167;01mValueError\u001B[39;00m(\n\u001B[1;32m     52\u001B[0m         \u001B[38;5;124m\"\u001B[39m\u001B[38;5;124munstructured_inference is not installed, pytesseract is not installed \u001B[39m\u001B[38;5;124m\"\u001B[39m\n\u001B[1;32m     53\u001B[0m         \u001B[38;5;124m\"\u001B[39m\u001B[38;5;124mand the text of the PDF is not extractable. \u001B[39m\u001B[38;5;124m\"\u001B[39m\n\u001B[1;32m     54\u001B[0m         \u001B[38;5;124m\"\u001B[39m\u001B[38;5;124mTo process this file, install unstructured_inference, install pytesseract, \u001B[39m\u001B[38;5;124m\"\u001B[39m\n\u001B[1;32m     55\u001B[0m         \u001B[38;5;124m\"\u001B[39m\u001B[38;5;124mor remove copy protection from the PDF.\u001B[39m\u001B[38;5;124m\"\u001B[39m,\n\u001B[1;32m     56\u001B[0m     )\n\u001B[1;32m     58\u001B[0m \u001B[38;5;28;01mif\u001B[39;00m strategy \u001B[38;5;241m==\u001B[39m PartitionStrategy\u001B[38;5;241m.\u001B[39mHI_RES \u001B[38;5;129;01mand\u001B[39;00m \u001B[38;5;129;01mnot\u001B[39;00m unstructured_inference_installed:\n\u001B[1;32m     59\u001B[0m     logger\u001B[38;5;241m.\u001B[39mwarning(\n\u001B[1;32m     60\u001B[0m         \u001B[38;5;124m\"\u001B[39m\u001B[38;5;124munstructured_inference is not installed. Cannot use the hi_res partitioning \u001B[39m\u001B[38;5;124m\"\u001B[39m\n\u001B[1;32m     61\u001B[0m         \u001B[38;5;124m\"\u001B[39m\u001B[38;5;124mstrategy. Falling back to partitioning with another strategy.\u001B[39m\u001B[38;5;124m\"\u001B[39m,\n\u001B[1;32m     62\u001B[0m     )\n",
      "\u001B[0;31mValueError\u001B[0m: unstructured_inference is not installed, pytesseract is not installed and the text of the PDF is not extractable. To process this file, install unstructured_inference, install pytesseract, or remove copy protection from the PDF."
     ]
    }
   ],
   "source": [
    "from typing import Any\n",
    "\n",
    "from pydantic import BaseModel\n",
    "from unstructured.partition.pdf import partition_pdf\n",
    "\n",
    "raw_pdf_elements = partition_pdf(\n",
    "    filename=\"statement_of_changes.pdf\",\n",
    "    extract_images_in_pdf=False,\n",
    "    infer_table_structure=True,\n",
    "    chunking_strategy=\"by_title\",\n",
    "    max_characters=4000,\n",
    "    new_after_n_chars=3800,\n",
    "    combine_text_under_n_chars=2000,\n",
    "    image_output_dir_path=\".\",\n",
    ")"
   ],
   "metadata": {
    "collapsed": false,
    "ExecuteTime": {
     "end_time": "2024-06-28T07:08:20.492373Z",
     "start_time": "2024-06-28T07:08:16.031145Z"
    }
   },
   "id": "e3066672c1453adf",
   "execution_count": 6
  },
  {
   "cell_type": "code",
   "outputs": [],
   "source": [
    "\n",
    "from langchain_core.output_parsers import StrOutputParser\n",
    "from langchain_openai import ChatOpenAI\n",
    "from langchain_core.prompts import ChatPromptTemplate\n",
    "\n",
    "prompt_text = \"\"\"\n",
    "  You are responsible for concisely summarizing table or text chunk:\n",
    "\n",
    "  {element}\n",
    "\"\"\"\n",
    "prompt = ChatPromptTemplate.from_template(prompt_text)\n",
    "summarize_chain = ({\"element\": lambda x: x}\n",
    "                   | prompt\n",
    "                   | ChatOpenAI(temperature=0, model=\"gpt-3.5-turbo\")\n",
    "                   | StrOutputParser())\n"
   ],
   "metadata": {
    "collapsed": false
   },
   "id": "1f085da05342c656"
  },
  {
   "cell_type": "code",
   "outputs": [],
   "source": [
    "import uuid\n",
    "\n",
    "from langchain.embeddings import OpenAIEmbeddings\n",
    "from langchain.retrievers.multi_vector import MultiVectorRetriever\n",
    "from langchain.schema.document import Document\n",
    "from langchain.storage import InMemoryStore\n",
    "from langchain.vectorstores import Chroma\n",
    "\n",
    "id_key = \"doc_id\"\n",
    "\n",
    "# The retriever (empty to start)\n",
    "retriever = MultiVectorRetriever(\n",
    "    vectorstore=Chroma(collection_name=\"summaries\", embedding_function=OpenAIEmbeddings()),\n",
    "    docstore=InMemoryStore(),\n",
    "    id_key=id_key,\n",
    ")\n",
    "\n",
    "# Add texts\n",
    "doc_ids = [str(uuid.uuid4()) for _ in texts]\n",
    "summary_texts = [\n",
    "    Document(page_content=s, metadata={id_key: doc_ids[i]})\n",
    "    for i, s in enumerate(text_summaries)\n",
    "]\n",
    "retriever.vectorstore.add_documents(summary_texts)\n",
    "retriever.docstore.mset(list(zip(doc_ids, texts)))\n",
    "\n",
    "# Add tables\n",
    "table_ids = [str(uuid.uuid4()) for _ in tables]\n",
    "summary_tables = [\n",
    "    Document(page_content=s, metadata={id_key: table_ids[i]})\n",
    "    for i, s in enumerate(table_summaries)\n",
    "]\n",
    "retriever.vectorstore.add_documents(summary_tables)\n",
    "retriever.docstore.mset(list(zip(table_ids, tables)))\n",
    "  "
   ],
   "metadata": {
    "collapsed": false
   },
   "id": "c798fe7cf0a6911b"
  }
 ],
 "metadata": {
  "kernelspec": {
   "display_name": "Python 3",
   "language": "python",
   "name": "python3"
  },
  "language_info": {
   "codemirror_mode": {
    "name": "ipython",
    "version": 2
   },
   "file_extension": ".py",
   "mimetype": "text/x-python",
   "name": "python",
   "nbconvert_exporter": "python",
   "pygments_lexer": "ipython2",
   "version": "2.7.6"
  }
 },
 "nbformat": 4,
 "nbformat_minor": 5
}
