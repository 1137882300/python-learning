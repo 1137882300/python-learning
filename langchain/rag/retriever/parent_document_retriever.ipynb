{
 "cells": [
  {
   "cell_type": "markdown",
   "source": [
    "## LangChain Parent Document Retriever 简介\n",
    "当为检索而切分文档时，通常在切分大小的选择上存在困惑：\n",
    "\n",
    "您可能希望拥有较小的文档切片，以便它们的嵌入可以更准确地反映它们的含义。如果太长，嵌入可能会失去意义。\n",
    "您可能又希望有足够长的文档，以保留更完整的上下文。\n",
    "ParentDocumentRetriever 通过分级切分和存储文档数据块来取得平衡。在检索过程中，首先获取小块，然后查找这些块的父文档切片，并返回这些较大的文档片段。"
   ],
   "metadata": {
    "collapsed": false
   },
   "id": "f857e1ce48e44227"
  },
  {
   "cell_type": "code",
   "outputs": [],
   "source": [
    "# 基本配置\n",
    "from langchain_openai import ChatOpenAI\n",
    "import os\n",
    "from dotenv import load_dotenv\n",
    "\n",
    "load_dotenv(override=True)\n",
    "\n",
    "qw_llm_openai = ChatOpenAI(\n",
    "    openai_api_base=os.getenv('DASHSCOPE_API_BASE'),\n",
    "    openai_api_key=os.getenv('DASHSCOPE_API_KEY'),\n",
    "    model_name=\"qwen2-1.5b-instruct\",\n",
    "    temperature=0,\n",
    "    streaming=True,\n",
    ")\n",
    "\n",
    "ms_llm_openai = ChatOpenAI(\n",
    "    openai_api_base=os.getenv('MOONSHOT_API_BASE'),\n",
    "    openai_api_key=os.getenv('MOONSHOT_API_KEY'),\n",
    "    model_name=\"moonshot-v1-8k\",\n",
    "    temperature=0,\n",
    "    streaming=True,\n",
    ")\n",
    "\n",
    "cf_llm_openai = ChatOpenAI(\n",
    "    openai_api_base=os.getenv('CF_API_BASE'),\n",
    "    openai_api_key=os.getenv('CF_API_TOKEN'),\n",
    "    model_name=\"@cf/meta/llama-3-8b-instruct\",\n",
    "    temperature=0,\n",
    "    streaming=True,\n",
    ")\n",
    "\n",
    "groq_llm_openai = ChatOpenAI(\n",
    "    openai_api_base=os.getenv('GROQ_API_BASE'),\n",
    "    openai_api_key=os.getenv('GROQ_API_KEY'),\n",
    "    model_name=\"llama3-8b-8192\",\n",
    "    temperature=0,\n",
    "    streaming=True,\n",
    ")\n",
    "\n",
    "from langchain_community.embeddings.cloudflare_workersai import CloudflareWorkersAIEmbeddings\n",
    "import os\n",
    "from dotenv import load_dotenv\n",
    "\n",
    "load_dotenv()\n",
    "embedding = CloudflareWorkersAIEmbeddings(\n",
    "    account_id=os.getenv('CF_ACCOUNT_ID'),\n",
    "    api_token=os.getenv('CF_API_TOKEN'),\n",
    "    model_name=\"@cf/baai/bge-small-en-v1.5\",\n",
    ")"
   ],
   "metadata": {
    "collapsed": false,
    "ExecuteTime": {
     "end_time": "2024-07-11T03:51:13.130520Z",
     "start_time": "2024-07-11T03:51:12.629031Z"
    }
   },
   "id": "587b177a6849e660",
   "execution_count": 1
  },
  {
   "cell_type": "code",
   "outputs": [
    {
     "name": "stdout",
     "output_type": "stream",
     "text": [
      "--2024-07-11 11:47:32--  https://developer.apple.com/carplay/documentation/CarPlay-App-Programming-Guide.pdf\r\n",
      "Resolving developer.apple.com (developer.apple.com)... 17.253.87.195, 17.253.87.201\r\n",
      "Connecting to developer.apple.com (developer.apple.com)|17.253.87.195|:443... connected.\r\n",
      "HTTP request sent, awaiting response... 200 OK\r\n",
      "Length: 8772250 (8.4M) [application/pdf]\r\n",
      "Saving to: ‘CarPlay-App-Programming-Guide.pdf’\r\n",
      "\r\n",
      "CarPlay-App-Program 100%[===================>]   8.37M  4.71MB/s    in 1.8s    \r\n",
      "\r\n",
      "2024-07-11 11:47:34 (4.71 MB/s) - ‘CarPlay-App-Programming-Guide.pdf’ saved [8772250/8772250]\r\n",
      "\r\n"
     ]
    }
   ],
   "source": [
    "# !wget https://developer.apple.com/carplay/documentation/CarPlay-App-Programming-Guide.pdf"
   ],
   "metadata": {
    "collapsed": false,
    "ExecuteTime": {
     "end_time": "2024-07-11T03:47:35.028193Z",
     "start_time": "2024-07-11T03:47:32.581448Z"
    }
   },
   "id": "8ae5437b69526b8a",
   "execution_count": 1
  },
  {
   "cell_type": "code",
   "execution_count": 2,
   "id": "initial_id",
   "metadata": {
    "collapsed": true,
    "ExecuteTime": {
     "end_time": "2024-07-11T03:51:16.786633Z",
     "start_time": "2024-07-11T03:51:16.518311Z"
    }
   },
   "outputs": [],
   "source": [
    "from langchain.retrievers import ParentDocumentRetriever\n",
    "from langchain.vectorstores import Chroma\n",
    "from langchain.embeddings import OpenAIEmbeddings\n",
    "from langchain.text_splitter import RecursiveCharacterTextSplitter\n",
    "from langchain.storage import InMemoryStore\n",
    "from langchain.document_loaders import PyMuPDFLoader"
   ]
  },
  {
   "cell_type": "code",
   "outputs": [],
   "source": [
    "loader = PyMuPDFLoader('./CarPlay-App-Programming-Guide.pdf')\n",
    "docs = loader.load()"
   ],
   "metadata": {
    "collapsed": false,
    "ExecuteTime": {
     "end_time": "2024-07-11T03:51:18.024707Z",
     "start_time": "2024-07-11T03:51:17.739261Z"
    }
   },
   "id": "f02b49cc8217c94d",
   "execution_count": 3
  },
  {
   "cell_type": "code",
   "outputs": [
    {
     "data": {
      "text/plain": "66"
     },
     "execution_count": 4,
     "metadata": {},
     "output_type": "execute_result"
    }
   ],
   "source": [
    "len(docs)"
   ],
   "metadata": {
    "collapsed": false,
    "ExecuteTime": {
     "end_time": "2024-07-11T03:51:18.189306Z",
     "start_time": "2024-07-11T03:51:18.185717Z"
    }
   },
   "id": "4656bdb79ae28855",
   "execution_count": 4
  },
  {
   "cell_type": "markdown",
   "source": [
    "ParentDocumentRetriever支持的参数\n",
    "支持的参数中，值得关注的是 parent_splitter 和 child_splitter。它们分别指定父文档拆分器和子文档拆分器。\n",
    "\n",
    "不指定 parent_splitter\n",
    "这时，文档不会进行父子两级拆分。原始文档即父文档。\n",
    "\n",
    "父文档存储在 InMemoryStore 中，子文档的嵌入数据被存储在向量存储中。本例中我们使用了 Chromadb。"
   ],
   "metadata": {
    "collapsed": false
   },
   "id": "9304aef7dd9431a6"
  },
  {
   "cell_type": "code",
   "outputs": [],
   "source": [
    "child_splitter = RecursiveCharacterTextSplitter(chunk_size=400)\n",
    "vectorstore = Chroma(\n",
    "    collection_name=\"full_documents\",\n",
    "    embedding_function=embedding\n",
    ")\n",
    "# The storage layer for the parent documents\n",
    "store = InMemoryStore()\n",
    "retriever = ParentDocumentRetriever(\n",
    "    vectorstore=vectorstore,\n",
    "    docstore=store,\n",
    "    child_splitter=child_splitter,\n",
    ")"
   ],
   "metadata": {
    "collapsed": false,
    "ExecuteTime": {
     "end_time": "2024-07-11T03:51:20.851371Z",
     "start_time": "2024-07-11T03:51:20.575099Z"
    }
   },
   "id": "b8ea69a116083537",
   "execution_count": 5
  },
  {
   "cell_type": "code",
   "outputs": [],
   "source": [
    "# Adds documents to the docstore and vectorstores\n",
    "retriever.add_documents(docs, ids=None)"
   ],
   "metadata": {
    "collapsed": false,
    "ExecuteTime": {
     "end_time": "2024-07-11T03:52:28.089898Z",
     "start_time": "2024-07-11T03:51:56.046644Z"
    }
   },
   "id": "d00e8d7c39e14fd9",
   "execution_count": 8
  },
  {
   "cell_type": "code",
   "outputs": [
    {
     "data": {
      "text/plain": "['ecea4cd6-6d0c-4363-b0cb-a18495d7623d',\n '49ce29e7-b534-4c47-a171-fd5d2be34795',\n '1a77a8c2-62a7-4e96-b191-bf0f034c9244',\n 'dbc974fa-f925-41fd-8fa5-4ba5f6ad1b85',\n 'b184ee92-9292-4f8c-97aa-06ca6958b200',\n '1d4b8a92-ef2f-48f9-95ee-d386c04fcce1',\n 'ef8b237e-d966-4d78-8022-c4cbc3721082',\n '141c4389-c1ef-49c2-bbd8-a0086303687d',\n '111e9aa6-8c3a-403f-8376-a69e0e020379',\n '689c1426-b3a6-4166-9dcd-2b107997b4ff',\n '8d9d76e3-56dd-4fa1-8b23-46d8e39fcf35',\n '829469ec-b180-42ea-bff4-89025498deff',\n '26325b33-82a2-49d8-82ca-25545fd2489c',\n 'cf753ba0-268a-4cc6-be95-dfa8793471f2',\n '9ab979e9-922f-40e3-9d47-6a6fa54c5446',\n '7649a360-a750-44ca-93ca-8eff630d23bd',\n '637557f1-d8e4-4f4b-8ce9-c605d82903f4',\n 'fdfb1aea-ab12-4950-8966-6e361b10acf4',\n '08a76ba5-6833-4ce6-90cb-89484994fddd',\n '19d210bd-1eac-46ee-9ecc-f31b04797440',\n '8428f1d5-440f-46df-8b2c-7800c7ecda50',\n '6848d052-3d19-48f4-bbc0-c337d3238875',\n 'f158b1ed-00be-4546-a89f-26084a30d6a0',\n 'd3dab67b-4fe0-4fff-9889-469f2e53daa6',\n '2c8c66af-6b3c-4732-93b8-08061b722c22',\n '667c2b57-ede6-45bf-ba05-54282903e3e8',\n 'e350f3fe-49d7-48b1-84db-f6920b9e3084',\n 'dbe5787a-aa71-4813-bc9e-d1e28eca57e7',\n 'fc285d2f-4d39-4837-96e8-4690c530b09e',\n 'ca973074-c42a-4a60-8ddd-2c1b4f22914d',\n '1330a930-1f58-4ee5-a8e6-d38fd5531937',\n '36bf0b69-4f51-47bf-b251-f15b3c53a46f',\n '4389c52a-ca97-4706-8119-d0c5fc2794f4',\n '5b23d35c-d997-4680-971d-9793f5b05d47',\n 'b838e28b-f00a-413b-abcb-1daf28360656',\n '32f62900-4211-4872-935f-4ea9daff1a22',\n '6d1b93f5-9eb7-42c6-a879-8a41f562eb46',\n '0d06e68f-f63a-4f7c-82d3-dce50344bf4e',\n 'b39cb8cb-7b46-4351-9f27-345158175717',\n '9108f201-843e-4f1b-bb25-d11854895e67',\n '9e23122c-22f6-43a3-afd1-141d1514dcb4',\n '7458b852-303f-41cc-b0df-b5901d1d6bdc',\n '761842af-f942-41bc-bc88-8bd00c290cd0',\n '373ae9c9-f065-4959-9ac2-49506818fb14',\n 'fc03cfe1-456e-46d5-97ad-1bbd46828d99',\n '8847338c-4e50-4a04-a706-9ecf4a75065d',\n 'c6cfefd3-5e1a-4109-8280-2d8433c74c4b',\n '051b2fd7-a0c1-488c-8686-452adac42734',\n 'e3c6fd9d-ed4b-4de4-ae20-791c6db30326',\n '5d25a97b-aad3-41df-8e51-606c86b407b5',\n '4771996d-d971-4b07-afcb-865d56ece7d9',\n '849c27aa-b1d8-4890-b8be-b630686831c0',\n '8cdf9c10-bd52-43be-9074-02d6d93f9df5',\n '2e796b73-525c-45eb-99a5-e320e9f39f24',\n '2800e02a-ef04-4849-b86b-9444941d5408',\n '35cb8e4d-1981-455d-884a-a70198f7d1fa',\n 'dd08200a-75ef-46dd-95dd-822d879953be',\n '4f2f0e6f-d976-44a5-8b20-b5e07434477f',\n 'fe7e1822-71c2-48f4-bde8-d84be9ee1c02',\n '15fcb37e-b856-488a-a152-77a7e49097e2',\n '50abb517-e974-4a80-a619-60d24b0565fa',\n '5c87a1c1-9687-4db6-bdab-4549098896be',\n '5de3a4ef-810a-4972-8737-bfb1c7de2ee1',\n '2ee1b572-6130-41d0-a43c-ba06e681276c',\n 'afcc37c8-ff69-40a2-9be9-c2f979f77e1a',\n '45d32e64-eb23-4cea-a591-f4b9ee821e03']"
     },
     "execution_count": 9,
     "metadata": {},
     "output_type": "execute_result"
    }
   ],
   "source": [
    "list(store.yield_keys())"
   ],
   "metadata": {
    "collapsed": false,
    "ExecuteTime": {
     "end_time": "2024-07-11T03:53:03.723185Z",
     "start_time": "2024-07-11T03:53:03.719189Z"
    }
   },
   "id": "c39de0f1291fcd43",
   "execution_count": 9
  },
  {
   "cell_type": "code",
   "outputs": [
    {
     "data": {
      "text/plain": "4"
     },
     "execution_count": 10,
     "metadata": {},
     "output_type": "execute_result"
    }
   ],
   "source": [
    "# 相似性查询\n",
    "sub_docs = vectorstore.similarity_search(\"How to build a CarPlay navigation app?\")\n",
    "len(sub_docs)"
   ],
   "metadata": {
    "collapsed": false,
    "ExecuteTime": {
     "end_time": "2024-07-11T03:53:11.115001Z",
     "start_time": "2024-07-11T03:53:10.313321Z"
    }
   },
   "id": "d782039845a7e9e3",
   "execution_count": 10
  },
  {
   "cell_type": "code",
   "outputs": [
    {
     "name": "stdout",
     "output_type": "stream",
     "text": [
      "399\n",
      "57\n",
      "345\n",
      "312\n"
     ]
    }
   ],
   "source": [
    "for sub_doc in sub_docs:\n",
    "    print(len(sub_doc.page_content))"
   ],
   "metadata": {
    "collapsed": false,
    "ExecuteTime": {
     "end_time": "2024-07-11T03:53:19.095445Z",
     "start_time": "2024-07-11T03:53:19.087408Z"
    }
   },
   "id": "e53db5f1db54cabe",
   "execution_count": 11
  },
  {
   "cell_type": "code",
   "outputs": [],
   "source": [
    "# 相关性查询\n",
    "retrieved_docs = retriever.invoke(\"How to build a CarPlay navigation app?\")"
   ],
   "metadata": {
    "collapsed": false,
    "ExecuteTime": {
     "end_time": "2024-07-11T03:53:59.040359Z",
     "start_time": "2024-07-11T03:53:57.613490Z"
    }
   },
   "id": "cac414c7340e2dd1",
   "execution_count": 13
  },
  {
   "cell_type": "code",
   "outputs": [
    {
     "data": {
      "text/plain": "3"
     },
     "execution_count": 14,
     "metadata": {},
     "output_type": "execute_result"
    }
   ],
   "source": [
    "len(retrieved_docs)"
   ],
   "metadata": {
    "collapsed": false,
    "ExecuteTime": {
     "end_time": "2024-07-11T03:54:03.333353Z",
     "start_time": "2024-07-11T03:54:03.312715Z"
    }
   },
   "id": "d1e794ec53fa90c1",
   "execution_count": 14
  },
  {
   "cell_type": "code",
   "outputs": [
    {
     "name": "stdout",
     "output_type": "stream",
     "text": [
      "4588\n",
      "58\n",
      "1271\n"
     ]
    }
   ],
   "source": [
    "for retrieved_doc in retrieved_docs:\n",
    "    print(len(retrieved_doc.page_content))"
   ],
   "metadata": {
    "collapsed": false,
    "ExecuteTime": {
     "end_time": "2024-07-11T03:54:09.587580Z",
     "start_time": "2024-07-11T03:54:09.577768Z"
    }
   },
   "id": "d23df762d6b00705",
   "execution_count": 15
  },
  {
   "cell_type": "markdown",
   "source": [
    "指定 parent_splitter\n",
    "这时，文档进行父子两级拆分。原始文档被 parent_splitter 拆分成较大的块后，再由 child_splitter 拆分成更小的块。"
   ],
   "metadata": {
    "collapsed": false
   },
   "id": "dab35258bec08dd7"
  },
  {
   "cell_type": "code",
   "outputs": [],
   "source": [
    "parent_splitter = RecursiveCharacterTextSplitter(chunk_size=500)\n",
    "child_splitter = RecursiveCharacterTextSplitter(chunk_size=200)\n",
    "vectorstore = Chroma(collection_name=\"carplay_collection\", embedding_function=embedding)\n",
    "store = InMemoryStore()"
   ],
   "metadata": {
    "collapsed": false,
    "ExecuteTime": {
     "end_time": "2024-07-11T03:55:22.947837Z",
     "start_time": "2024-07-11T03:55:22.942386Z"
    }
   },
   "id": "52ccc498d7e60d5d",
   "execution_count": 16
  },
  {
   "cell_type": "code",
   "outputs": [],
   "source": [
    "retriever = ParentDocumentRetriever(\n",
    "    vectorstore=vectorstore,\n",
    "    docstore=store,\n",
    "    child_splitter=child_splitter,\n",
    "    parent_splitter=parent_splitter,\n",
    ")\n",
    "     "
   ],
   "metadata": {
    "collapsed": false,
    "ExecuteTime": {
     "end_time": "2024-07-11T03:55:25.666266Z",
     "start_time": "2024-07-11T03:55:25.660026Z"
    }
   },
   "id": "4315fb3c807ba93",
   "execution_count": 17
  },
  {
   "cell_type": "code",
   "outputs": [],
   "source": [
    "retriever.add_documents(documents=docs, ids=None)"
   ],
   "metadata": {
    "collapsed": false,
    "ExecuteTime": {
     "end_time": "2024-07-11T03:56:40.594121Z",
     "start_time": "2024-07-11T03:55:33.402315Z"
    }
   },
   "id": "780d6a52ab3fa3c2",
   "execution_count": 18
  },
  {
   "cell_type": "code",
   "outputs": [
    {
     "data": {
      "text/plain": "277"
     },
     "execution_count": 19,
     "metadata": {},
     "output_type": "execute_result"
    }
   ],
   "source": [
    "len(list(store.yield_keys()))"
   ],
   "metadata": {
    "collapsed": false,
    "ExecuteTime": {
     "end_time": "2024-07-11T03:56:43.696007Z",
     "start_time": "2024-07-11T03:56:43.687767Z"
    }
   },
   "id": "d8ba403e3572e0c0",
   "execution_count": 19
  },
  {
   "cell_type": "code",
   "outputs": [
    {
     "data": {
      "text/plain": "4"
     },
     "execution_count": 20,
     "metadata": {},
     "output_type": "execute_result"
    }
   ],
   "source": [
    "sub_docs = vectorstore.similarity_search(\"How to build a CarPlay navigation app?\")\n",
    "\n",
    "len(sub_docs)"
   ],
   "metadata": {
    "collapsed": false,
    "ExecuteTime": {
     "end_time": "2024-07-11T03:56:45.541063Z",
     "start_time": "2024-07-11T03:56:44.399953Z"
    }
   },
   "id": "72faedd44e88bb6b",
   "execution_count": 20
  },
  {
   "cell_type": "code",
   "outputs": [
    {
     "name": "stdout",
     "output_type": "stream",
     "text": [
      "103\n",
      "148\n",
      "173\n",
      "173\n"
     ]
    }
   ],
   "source": [
    "for sub_doc in sub_docs:\n",
    "    print(len(sub_doc.page_content))"
   ],
   "metadata": {
    "collapsed": false,
    "ExecuteTime": {
     "end_time": "2024-07-11T03:56:47.029076Z",
     "start_time": "2024-07-11T03:56:47.024996Z"
    }
   },
   "id": "6f68a4a24f3d5dcf",
   "execution_count": 21
  },
  {
   "cell_type": "code",
   "outputs": [],
   "source": [
    "retrieved_docs = retriever.invoke(\"How to build a CarPlay navigation app?\")"
   ],
   "metadata": {
    "collapsed": false,
    "ExecuteTime": {
     "end_time": "2024-07-11T03:56:48.715046Z",
     "start_time": "2024-07-11T03:56:47.714051Z"
    }
   },
   "id": "c86c50c0871fc91b",
   "execution_count": 22
  },
  {
   "cell_type": "code",
   "outputs": [
    {
     "data": {
      "text/plain": "3"
     },
     "execution_count": 23,
     "metadata": {},
     "output_type": "execute_result"
    }
   ],
   "source": [
    "len(retrieved_docs)"
   ],
   "metadata": {
    "collapsed": false,
    "ExecuteTime": {
     "end_time": "2024-07-11T03:56:50.235324Z",
     "start_time": "2024-07-11T03:56:50.230855Z"
    }
   },
   "id": "44fcaaadfffad773",
   "execution_count": 23
  },
  {
   "cell_type": "code",
   "outputs": [
    {
     "name": "stdout",
     "output_type": "stream",
     "text": [
      "484\n",
      "455\n",
      "444\n"
     ]
    }
   ],
   "source": [
    "for retrieved_doc in retrieved_docs:\n",
    "    print(len(retrieved_doc.page_content))"
   ],
   "metadata": {
    "collapsed": false,
    "ExecuteTime": {
     "end_time": "2024-07-11T03:56:50.788181Z",
     "start_time": "2024-07-11T03:56:50.784294Z"
    }
   },
   "id": "60196094f2a0befe",
   "execution_count": 24
  },
  {
   "cell_type": "code",
   "outputs": [
    {
     "name": "stdout",
     "output_type": "stream",
     "text": [
      "Create a now playing template \n",
      " \n",
      "..................................................................................................30\n",
      "Work while iPhone is locked \n",
      " \n",
      ".......................................................................................................31\n",
      "Launch other apps \n",
      " \n",
      ".......................................................................................................................31\n",
      "Build a CarPlay navigation app\n"
     ]
    }
   ],
   "source": [
    "print(retrieved_docs[2].page_content)"
   ],
   "metadata": {
    "collapsed": false,
    "ExecuteTime": {
     "end_time": "2024-07-11T03:56:52.244791Z",
     "start_time": "2024-07-11T03:56:52.232762Z"
    }
   },
   "id": "1ec4e2b5ce871ef3",
   "execution_count": 25
  },
  {
   "cell_type": "code",
   "outputs": [],
   "source": [],
   "metadata": {
    "collapsed": false
   },
   "id": "bb39dc9742761c0e"
  }
 ],
 "metadata": {
  "kernelspec": {
   "display_name": "Python 3",
   "language": "python",
   "name": "python3"
  },
  "language_info": {
   "codemirror_mode": {
    "name": "ipython",
    "version": 2
   },
   "file_extension": ".py",
   "mimetype": "text/x-python",
   "name": "python",
   "nbconvert_exporter": "python",
   "pygments_lexer": "ipython2",
   "version": "2.7.6"
  }
 },
 "nbformat": 4,
 "nbformat_minor": 5
}
