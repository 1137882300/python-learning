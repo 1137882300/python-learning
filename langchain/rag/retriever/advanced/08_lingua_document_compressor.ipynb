{
 "cells": [
  {
   "cell_type": "code",
   "execution_count": 6,
   "id": "initial_id",
   "metadata": {
    "collapsed": true,
    "ExecuteTime": {
     "end_time": "2024-07-12T09:29:48.397857Z",
     "start_time": "2024-07-12T09:29:42.231378Z"
    }
   },
   "outputs": [
    {
     "name": "stdout",
     "output_type": "stream",
     "text": [
      "\r\n",
      "\u001B[1m[\u001B[0m\u001B[34;49mnotice\u001B[0m\u001B[1;39;49m]\u001B[0m\u001B[39;49m A new release of pip is available: \u001B[0m\u001B[31;49m24.0\u001B[0m\u001B[39;49m -> \u001B[0m\u001B[32;49m24.1.2\u001B[0m\r\n",
      "\u001B[1m[\u001B[0m\u001B[34;49mnotice\u001B[0m\u001B[1;39;49m]\u001B[0m\u001B[39;49m To update, run: \u001B[0m\u001B[32;49mpip install --upgrade pip\u001B[0m\r\n",
      "Note: you may need to restart the kernel to use updated packages.\n"
     ]
    }
   ],
   "source": [
    "# %pip install --upgrade --quiet  llmlingua accelerate"
   ]
  },
  {
   "cell_type": "code",
   "outputs": [],
   "source": [
    "# 基本配置\n",
    "from langchain_openai import ChatOpenAI\n",
    "import os\n",
    "from dotenv import load_dotenv\n",
    "\n",
    "load_dotenv(override=True)\n",
    "\n",
    "qw_llm_openai = ChatOpenAI(\n",
    "    openai_api_base=os.getenv('DASHSCOPE_API_BASE'),\n",
    "    openai_api_key=os.getenv('DASHSCOPE_API_KEY'),\n",
    "    # model_name=\"qwen2-1.5b-instruct\",\n",
    "    model_name=\"qwen2-plus\",\n",
    "    temperature=0,\n",
    "    streaming=True,\n",
    ")\n",
    "\n",
    "ms_llm_openai = ChatOpenAI(\n",
    "    openai_api_base=os.getenv('MOONSHOT_API_BASE'),\n",
    "    openai_api_key=os.getenv('MOONSHOT_API_KEY'),\n",
    "    model_name=\"moonshot-v1-8k\",\n",
    "    temperature=0,\n",
    "    streaming=True,\n",
    ")\n",
    "\n",
    "cf_llm_openai = ChatOpenAI(\n",
    "    openai_api_base=os.getenv('CF_API_BASE'),\n",
    "    openai_api_key=os.getenv('CF_API_TOKEN'),\n",
    "    model_name=\"@cf/meta/llama-3-8b-instruct\",\n",
    "    temperature=0,\n",
    "    streaming=True,\n",
    ")\n",
    "\n",
    "groq_llm_openai = ChatOpenAI(\n",
    "    openai_api_base=os.getenv('GROQ_API_BASE'),\n",
    "    openai_api_key=os.getenv('GROQ_API_KEY'),\n",
    "    model_name=\"llama3-8b-8192\",\n",
    "    temperature=0,\n",
    "    streaming=True,\n",
    ")"
   ],
   "metadata": {
    "collapsed": false,
    "ExecuteTime": {
     "end_time": "2024-07-12T09:27:18.473017Z",
     "start_time": "2024-07-12T09:27:17.874922Z"
    }
   },
   "id": "eb1af4dcedd78f3e",
   "execution_count": 1
  },
  {
   "cell_type": "code",
   "outputs": [],
   "source": [
    "from langchain_community.embeddings import DashScopeEmbeddings\n",
    "from dotenv import load_dotenv\n",
    "import os\n",
    "\n",
    "load_dotenv(override=True)\n",
    "qw_embedding = DashScopeEmbeddings(\n",
    "    model=\"text-embedding-v2\", dashscope_api_key=os.getenv('DASHSCOPE_API_KEY')\n",
    ")"
   ],
   "metadata": {
    "collapsed": false,
    "ExecuteTime": {
     "end_time": "2024-07-12T09:27:34.096102Z",
     "start_time": "2024-07-12T09:27:33.980181Z"
    }
   },
   "id": "de3c862fda9075b0",
   "execution_count": 2
  },
  {
   "cell_type": "code",
   "outputs": [],
   "source": [
    "# Helper function for printing docs\n",
    "\n",
    "\n",
    "def pretty_print_docs(docs):\n",
    "    print(\n",
    "        f\"\\n{'-' * 100}\\n\".join(\n",
    "            [f\"Document {i + 1}:\\n\\n\" + d.page_content for i, d in enumerate(docs)]\n",
    "        )\n",
    "    )"
   ],
   "metadata": {
    "collapsed": false,
    "ExecuteTime": {
     "end_time": "2024-07-12T09:27:35.204488Z",
     "start_time": "2024-07-12T09:27:35.196356Z"
    }
   },
   "id": "b748d3de26d23ff2",
   "execution_count": 3
  },
  {
   "cell_type": "code",
   "outputs": [
    {
     "name": "stdout",
     "output_type": "stream",
     "text": [
      "Document 1:\n",
      "\n",
      "### D5(第5天)：\n",
      "\n",
      "- 早餐后，退房前往顺德，首先游览岭南四大园林之一清晖园，园内处处体现主人移山水之中，尽赏曲径荷风之构想，游览时间约1小时。\n",
      "  随后前往顺德著名的步行街华盖路，华盖路是一条有岭南特色的商业步行街，街道两旁为明末清初骑楼特色的岭南西洋建筑，彩色的骑楼、地道的美食店分布其中。\n",
      "  午餐时间，大家自行华盖路的地道的美食店用餐。 下午适时集合上车，返回广州，先送广州南站，再送白云机场。\n",
      "  坐高铁的游侠返程车次请订在16:30之后，坐飞机的游侠返程航班请订在18:30之后\n",
      "- 车程：顺德-广州白云机场：76KM\n",
      "- 用餐：含早，正餐自理\n",
      "- 解散日：大约下午16：00返回广州，先送广州南站，再送白云机场，坐高铁的游侠返程车次请订在16:\n",
      "  30之后，坐飞机的游侠返程航班请订在18:30之后。\n",
      "\n",
      "## 费用说明\n",
      "----------------------------------------------------------------------------------------------------\n",
      "Document 2:\n",
      "\n",
      "## 费用说明\n",
      "\n",
      "- 费用包含：交通、住宿、餐食（全程4个酒店早餐）、门票及景交、体验项目、随团服务人员等。\n",
      "- 儿童费用：交通标准同成人，部分门票及景交根据身高有优惠，不含住宿和早餐，现场超过身高现补门票。\n",
      "- 自理费用：各地往返广州市的大交通费用、保险、全程正餐、景区里的二道门票或消费项目、单房差等。\n",
      "- 赠送项目：游侠客定制头巾、精美徽章、每人每天一瓶水\n",
      "\n",
      "## 活动说明\n",
      "\n",
      "集合时间：每批第一天全天报到\n",
      "集合地点：广州市区指定酒店\n",
      "适合人群：适合4-65周岁，身体健康的旅行者\n",
      "活动领队：游侠客广州领队（出发前3天出团通知）\n",
      "成行人数：满6人成行，每批不超过25人\n",
      "\n",
      "## 活动装备\n",
      "\n",
      "- 证件：身份证必带，学生证、军官证等特殊证件\n",
      "- 穿着：美美的休闲装，薄外套，帽，太阳镜，伞等\n",
      "- 行李：行李箱+双肩包\n",
      "- 药品：感冒药、肠胃药、维他命、风油精等自用药\n",
      "- 数码：各类数码产品及充电器、摄影器材\n",
      "- 护肤：防晒霜、保湿润肤水、唇膏等\n",
      "- 洗漱：洗漱用品、换洗衣物\n",
      "\n",
      "## 目的地介绍\n",
      "----------------------------------------------------------------------------------------------------\n",
      "Document 3:\n",
      "\n",
      "# 产品信息摘要\n",
      "\n",
      "## 产品名称\n",
      "\n",
      "【岭南味道|看醒狮打咏春，广东海陵岛玩水5日】\n",
      "\n",
      "## 价格\n",
      "\n",
      "- 成人：￥2380元起\n",
      "- 儿童：￥1400元起\n",
      "\n",
      "## 批次日期\n",
      "\n",
      "- 开始日期：2024年7月\n",
      "- 结束日期：2024年11月\n",
      "\n",
      "## 游玩的天数\n",
      "\n",
      "5天4晚\n",
      "\n",
      "## 简短描述\n",
      "\n",
      "广州集合 | 佛山祖庙醒狮 | 拜访咏春传人 | 海陵岛连住2晚 | 世界文化遗产开平碉楼 | 寻味顺德美食\n",
      "\n",
      "## 产品特色\n",
      "\n",
      "世界文化遗产 南方武术发源 海岛度假 广东美食\n",
      "\n",
      "## 活动亮点\n",
      "\n",
      "- 传统文化：欣赏热闹纷呈的传统技艺-舞狮表演、黄飞鸿传人武术表演等民间艺术精粹。\n",
      "- 岭南建筑：祖庙精湛的砖雕、世界文化遗产开平碉楼的特色建筑、广东的园林代表建筑特色。\n",
      "- 蔚蓝大海：入住海陵岛大角湾酒店2晚，只需步行几分钟就到沙滩，留有充足的时间享受海景和当季鲜美海鲜。\n",
      "- 独特体验：拜访咏春传人，体验咏春拳教学。\n",
      "- 深度纯玩：倡导负责任的朋友式旅行，深度纯玩，全程无购物。\n",
      "\n",
      "## 出发地\n",
      "\n",
      "广州\n",
      "\n",
      "## 适合年龄\n",
      "\n",
      "4岁到70岁\n",
      "\n",
      "## 行程套餐的名称\n",
      "\n",
      "岭南味道·夏季玩水\n",
      "\n",
      "## 批次套餐的名称\n",
      "----------------------------------------------------------------------------------------------------\n",
      "Document 4:\n",
      "\n",
      "### D1(第1天)：\n",
      "\n",
      "- 各地游侠出行的第一天，请自行前往广州集合酒店，报游侠客+名字入住，今天为自由活动。自由活动期间，记得要注意安全！\n",
      "  如果您的时间比较宽裕，可以自行前往北京路、天河城、上下九等闻名的逛街之地。热爱悠闲的朋友则可以选择去茶楼喝个早茶或晚茶。\n",
      "  部分推荐自由游玩景点 1.西关老区，如民俗博物馆，荔枝湾公园，恩宁路，李小龙祖居，永庆坊，粤剧艺术博物馆等，感受广州的西关传统文化。\n",
      "  2.东山口，沙面，沿江东路，感受广州的异国情调建筑。 3.花城广州，广州CBD建筑群，打卡拍照广州地标建筑。 4.省博物馆，需要提前预约。\n",
      "  前往酒店的交通指引 白云国际机场：乘坐地铁3号线到达林和西站，D出口步行6分钟到酒店。\n",
      "  广州南站或广州东站或广州站：出站后乘坐地铁到体育西地铁站，换乘地铁3号线林和西站，D出口步行约6分钟即可到酒店。\n",
      "- 用餐：餐饮自理\n",
      "- 住宿：广州市区酒店标间（参考华夏商务酒店或同级）\n",
      "- 集结日：游侠客会提前3天发送出团短信，告之酒店的名字、地址、电话以及交通方式和领队的联系电话，在到达集合酒店后报“游侠客+姓名”安排入住休息\n",
      "----------------------------------------------------------------------------------------------------\n",
      "Document 5:\n",
      "\n",
      "## 出发地\n",
      "\n",
      "广州\n",
      "\n",
      "## 适合年龄\n",
      "\n",
      "4岁到70岁\n",
      "\n",
      "## 行程套餐的名称\n",
      "\n",
      "岭南味道·夏季玩水\n",
      "\n",
      "## 批次套餐的名称\n",
      "\n",
      "夏季批次\n",
      "\n",
      "## 标签\n",
      "\n",
      "跟团游 · 游山玩水\n",
      "\n",
      "## 活动亮点\n",
      "\n",
      "- 传统文化：欣赏热闹纷呈的传统技艺-舞狮表演、黄飞鸿传人武术表演等民间艺术精粹。\n",
      "- 岭南建筑：祖庙精湛的砖雕、世界文化遗产开平碉楼的特色建筑、广东的园林代表建筑特色。\n",
      "- 蔚蓝大海：入住海陵岛大角湾酒店2晚，只需步行几分钟就到沙滩，留有充足的时间享受海景和当季鲜美海鲜。\n",
      "- 独特体验：拜访咏春传人，体验咏春拳教学。\n",
      "- 深度纯玩：倡导负责任的朋友式旅行，深度纯玩，全程无购物。\n",
      "\n",
      "## 每日的具体行程\n",
      "\n",
      "### D1(第1天)：\n",
      "----------------------------------------------------------------------------------------------------\n",
      "Document 6:\n",
      "\n",
      "### D2(第2天)：\n",
      "\n",
      "- 酒店早餐后根据领队通知的集合时间上车前往佛山，大约1小时车程抵达佛山的地标祖庙。\n",
      "  进入祖庙，随后欣赏武术和醒狮表演，这些都是专业的并获得过无数奖项的佛山人。（如遇到景区的打拳和醒狮表演时间调整，以景区当天为准）\n",
      "  随后跟着导游，听听祖庙的故事，相信大家都会对岭南文化赞不绝口。\n",
      "  中午走出祖庙穿过马路，便到达了岭南新天地，正所谓食在广州，厨在凤城，佛山这里不仅建筑风格十分具有岭南特色，其中的大街小巷还有非常多美食等待大家去尝试哦！逛吃逛吃，愉快的午餐时间过去了\n",
      "  随后前往咏春体验馆体验咏春，跟着咏春拳师傅体验咏春，get《叶问》电影同款招式。 随后上车前往海陵岛，车程约3小时。海陵岛酒店办理入住.\n",
      "  晚餐一起相约到镇上的美食节寻找美食.\n",
      "- 车程：佛山-海陵岛 220km 约3小时\n",
      "- 用餐：含早，正餐自理\n",
      "- 住宿：大角湾酒店标间（参考海之冠酒店或同级）\n",
      "\n",
      "### D3(第3天)：\n",
      "----------------------------------------------------------------------------------------------------\n",
      "Document 7:\n",
      "\n",
      "### D4(第4天)：\n",
      "\n",
      "- 亮点：开平碉楼群、骑楼\n",
      "- 早餐后退房前往自力村碉楼群，这里是是世界文化遗产地之一，整座村子对外开放的碉楼中，zui显眼的自然是铭石楼，这里是《让子弹飞》的拍摄地，不仅外观精美，内部的家具、装饰都保存得很完整，还可以上到顶层的全景露台，风景也是一级棒。\n",
      "  随后前往赤坎华侨古镇，这里有着370多年的开埠建圩历史，保留着600多座骑楼，是保持完整的侨乡古骑楼建筑群。我们沿着骑楼街步行，欣赏这里骑楼雕刻精美的装饰画、山花和女儿墙。\n",
      "  午餐时间我们在景区里品尝开平当地的特色美食，\n",
      "  随后我们坐上复古铛铛车，一圈环游赤坎古镇精美的骑楼建筑，体验独特的华侨建筑风情。打卡赤坎古镇的地标建筑荣安楼，这里楼高38米，是目前开平地区至高的碉楼。\n",
      "  适时前往顺德入住酒店。晚上可以自由活动打卡顺德美食。\n",
      "- 车程：海陵岛-赤坎碉楼群，约2小时；赤坎古镇-顺德，约1.5小时\n",
      "- 用餐：含早，正餐自理\n",
      "- 住宿：顺德酒店标间\n",
      "\n",
      "### D5(第5天)：\n",
      "----------------------------------------------------------------------------------------------------\n",
      "Document 8:\n",
      "\n",
      "## 目的地介绍\n",
      "\n",
      "岭南文化是悠久灿烂的中华文化的有机组成部分。岭南先民遗址的出土材料证明，岭南文化为原生性文化。基于独特的地理环境和历史条件，岭南文化以农业文化和海洋文化为源头，在其发展过程中不断吸取和融汇中原文化和海外文化，逐渐形成自身独有的特点。在近代，岭南得风气之先，成为中西文化交流的重要津梁，多种文化思潮交错而织成绚丽多彩的画面，孕育和产生出以康有为、孙中山等为代表的近代中国的一代先进人物。\n",
      "\n",
      "海陵岛因为它的地形像一只横着的海螺壳。后来，随着地理变化，海陵渐渐从海上浮起来，变成了一望无边名副其实的“海中丘陵”了，这才叫做海陵。海陵岛拥有风光旖旎的海滨旅游资源，如太傅庙、灵谷庙、古炮台、镇海亭、观音阁等10多处。岛内有大角湾、马尾岛风景区、十里银滩风景区及金沙滩风景区。\n",
      "----------------------------------------------------------------------------------------------------\n",
      "Document 9:\n",
      "\n",
      "### D3(第3天)：\n",
      "\n",
      "- 今天我们不用退房，喜欢看日出的朋友可以自行起床到海滩边欣赏日出，也可以睡个小懒觉，享受放假的时光； 酒店自行早餐后，\n",
      "  前往北洛山体公园，沿着步行道满满上山观景，沿路还有很多打卡点的布置。（遇到天气影响改景点可能会关闭，领队会根据现场情况调整）\n",
      "  午餐时间一起相约到当地热闹的菜市场，跟领队学几句粤语跟对方讲价，感受当地的烟火气息，自由组队采购新鲜海鲜，买好后拿去附近饭店加工，丰俭由人，当然也可以选择当地各种道地的小吃美食。\n",
      "  下午随领队前往大角湾水上乐园，这里有丰富游乐玩水项目，如太空盘滑道、彩虹滑道滑道、浪摆滑道、漂流河，在这里畅快的体验夏日玩水的乐趣。\n",
      "  傍晚时分可以跟随领队步行前往马尾岛沙滩的日落角度（步行约2公里），这里是海岛的西角，，当晚彩霞漫天时，许多游人驻足于此等待。\n",
      "  拍完日落后，晚上可以自行或约伴一起寻找当地的美食，如各种海鲜、云吞面、猪肠碌、传统糖水、果汁。\n",
      "- 用餐：含早，正餐自理\n",
      "- 住宿：大角湾酒店标间（参考海之冠酒店或同级）\n",
      "\n",
      "### D4(第4天)：\n",
      "----------------------------------------------------------------------------------------------------\n",
      "Document 10:\n",
      "\n",
      "开平碉楼，位于广东省江门市下辖的开平市境内，是中国乡土建筑的一个特殊类型，是集防卫、居住和中西建筑艺术于一体的多层塔楼式建筑，其特色是中西合璧的民居，有古希腊、古罗马及伊斯兰等风格多种。2001年6月25日，被国务院批准列入第五批全国重点文物保护单位名单。2007年6月28日，“开平碉楼与古村落”申请世界文化遗产项目在新西兰第31届世界遗产大会上获得通过，正式列入《世界遗产名录》，成为中国第35处世界遗产，中国由此诞生了第一个华侨文化的世界遗产项目。\n"
     ]
    }
   ],
   "source": [
    "# 让我们开始初始化的一个简单的矢量储存的猎和储存2023年国家联盟的讲话(在块). 我们可以设立犬来检索数(20)的文档。\n",
    "\n",
    "from langchain_community.document_loaders import TextLoader\n",
    "from langchain_community.vectorstores import FAISS\n",
    "from langchain_text_splitters import RecursiveCharacterTextSplitter\n",
    "\n",
    "documents = TextLoader(\n",
    "    \"../../../../file/岭南味道 | 看醒狮打咏春，广东海陵岛玩水5日.md\",\n",
    ").load()\n",
    "\n",
    "text_splitter = RecursiveCharacterTextSplitter(chunk_size=500, chunk_overlap=100)\n",
    "texts = text_splitter.split_documents(documents)\n",
    "\n",
    "retriever = FAISS.from_documents(texts, qw_embedding).as_retriever(search_kwargs={\"k\": 20})\n",
    "\n",
    "query = \"What did the president say about Ketanji Brown Jackson\"\n",
    "docs = retriever.invoke(query)\n",
    "pretty_print_docs(docs)"
   ],
   "metadata": {
    "collapsed": false,
    "ExecuteTime": {
     "end_time": "2024-07-12T09:28:46.011327Z",
     "start_time": "2024-07-12T09:28:30.712797Z"
    }
   },
   "id": "7e63aceb506d6ebc",
   "execution_count": 4
  },
  {
   "cell_type": "code",
   "outputs": [
    {
     "ename": "ImportError",
     "evalue": "Could not import llmlingua python package. Please install it with `pip install llmlingua`.",
     "output_type": "error",
     "traceback": [
      "\u001B[0;31m---------------------------------------------------------------------------\u001B[0m",
      "\u001B[0;31mModuleNotFoundError\u001B[0m                       Traceback (most recent call last)",
      "File \u001B[0;32m~/venv/lib/python3.10/site-packages/langchain_community/document_compressors/llmlingua_filter.py:59\u001B[0m, in \u001B[0;36mLLMLinguaCompressor.validate_environment\u001B[0;34m(cls, values)\u001B[0m\n\u001B[1;32m     58\u001B[0m \u001B[38;5;28;01mtry\u001B[39;00m:\n\u001B[0;32m---> 59\u001B[0m     \u001B[38;5;28;01mfrom\u001B[39;00m \u001B[38;5;21;01mllmlingua\u001B[39;00m \u001B[38;5;28;01mimport\u001B[39;00m PromptCompressor\n\u001B[1;32m     60\u001B[0m \u001B[38;5;28;01mexcept\u001B[39;00m \u001B[38;5;167;01mImportError\u001B[39;00m:\n",
      "\u001B[0;31mModuleNotFoundError\u001B[0m: No module named 'llmlingua'",
      "\nDuring handling of the above exception, another exception occurred:\n",
      "\u001B[0;31mImportError\u001B[0m                               Traceback (most recent call last)",
      "Cell \u001B[0;32mIn[5], line 7\u001B[0m\n\u001B[1;32m      3\u001B[0m \u001B[38;5;28;01mfrom\u001B[39;00m \u001B[38;5;21;01mlangchain\u001B[39;00m\u001B[38;5;21;01m.\u001B[39;00m\u001B[38;5;21;01mretrievers\u001B[39;00m \u001B[38;5;28;01mimport\u001B[39;00m ContextualCompressionRetriever\n\u001B[1;32m      4\u001B[0m \u001B[38;5;28;01mfrom\u001B[39;00m \u001B[38;5;21;01mlangchain_community\u001B[39;00m\u001B[38;5;21;01m.\u001B[39;00m\u001B[38;5;21;01mdocument_compressors\u001B[39;00m \u001B[38;5;28;01mimport\u001B[39;00m LLMLinguaCompressor\n\u001B[0;32m----> 7\u001B[0m compressor \u001B[38;5;241m=\u001B[39m \u001B[43mLLMLinguaCompressor\u001B[49m\u001B[43m(\u001B[49m\u001B[43mmodel_name\u001B[49m\u001B[38;5;241;43m=\u001B[39;49m\u001B[38;5;124;43m\"\u001B[39;49m\u001B[38;5;124;43mopenai-community/gpt2\u001B[39;49m\u001B[38;5;124;43m\"\u001B[39;49m\u001B[43m,\u001B[49m\u001B[43m \u001B[49m\u001B[43mdevice_map\u001B[49m\u001B[38;5;241;43m=\u001B[39;49m\u001B[38;5;124;43m\"\u001B[39;49m\u001B[38;5;124;43mcpu\u001B[39;49m\u001B[38;5;124;43m\"\u001B[39;49m\u001B[43m)\u001B[49m\n\u001B[1;32m      8\u001B[0m compression_retriever \u001B[38;5;241m=\u001B[39m ContextualCompressionRetriever(\n\u001B[1;32m      9\u001B[0m     base_compressor\u001B[38;5;241m=\u001B[39mcompressor, base_retriever\u001B[38;5;241m=\u001B[39mretriever\n\u001B[1;32m     10\u001B[0m )\n\u001B[1;32m     12\u001B[0m compressed_docs \u001B[38;5;241m=\u001B[39m compression_retriever\u001B[38;5;241m.\u001B[39minvoke(\n\u001B[1;32m     13\u001B[0m     \u001B[38;5;124m\"\u001B[39m\u001B[38;5;124mWhat did the president say about Ketanji Jackson Brown\u001B[39m\u001B[38;5;124m\"\u001B[39m\n\u001B[1;32m     14\u001B[0m )\n",
      "File \u001B[0;32m~/venv/lib/python3.10/site-packages/pydantic/v1/main.py:339\u001B[0m, in \u001B[0;36mBaseModel.__init__\u001B[0;34m(__pydantic_self__, **data)\u001B[0m\n\u001B[1;32m    333\u001B[0m \u001B[38;5;250m\u001B[39m\u001B[38;5;124;03m\"\"\"\u001B[39;00m\n\u001B[1;32m    334\u001B[0m \u001B[38;5;124;03mCreate a new model by parsing and validating input data from keyword arguments.\u001B[39;00m\n\u001B[1;32m    335\u001B[0m \n\u001B[1;32m    336\u001B[0m \u001B[38;5;124;03mRaises ValidationError if the input data cannot be parsed to form a valid model.\u001B[39;00m\n\u001B[1;32m    337\u001B[0m \u001B[38;5;124;03m\"\"\"\u001B[39;00m\n\u001B[1;32m    338\u001B[0m \u001B[38;5;66;03m# Uses something other than `self` the first arg to allow \"self\" as a settable attribute\u001B[39;00m\n\u001B[0;32m--> 339\u001B[0m values, fields_set, validation_error \u001B[38;5;241m=\u001B[39m \u001B[43mvalidate_model\u001B[49m\u001B[43m(\u001B[49m\u001B[43m__pydantic_self__\u001B[49m\u001B[38;5;241;43m.\u001B[39;49m\u001B[38;5;18;43m__class__\u001B[39;49m\u001B[43m,\u001B[49m\u001B[43m \u001B[49m\u001B[43mdata\u001B[49m\u001B[43m)\u001B[49m\n\u001B[1;32m    340\u001B[0m \u001B[38;5;28;01mif\u001B[39;00m validation_error:\n\u001B[1;32m    341\u001B[0m     \u001B[38;5;28;01mraise\u001B[39;00m validation_error\n",
      "File \u001B[0;32m~/venv/lib/python3.10/site-packages/pydantic/v1/main.py:1048\u001B[0m, in \u001B[0;36mvalidate_model\u001B[0;34m(model, input_data, cls)\u001B[0m\n\u001B[1;32m   1046\u001B[0m \u001B[38;5;28;01mfor\u001B[39;00m validator \u001B[38;5;129;01min\u001B[39;00m model\u001B[38;5;241m.\u001B[39m__pre_root_validators__:\n\u001B[1;32m   1047\u001B[0m     \u001B[38;5;28;01mtry\u001B[39;00m:\n\u001B[0;32m-> 1048\u001B[0m         input_data \u001B[38;5;241m=\u001B[39m \u001B[43mvalidator\u001B[49m\u001B[43m(\u001B[49m\u001B[43mcls_\u001B[49m\u001B[43m,\u001B[49m\u001B[43m \u001B[49m\u001B[43minput_data\u001B[49m\u001B[43m)\u001B[49m\n\u001B[1;32m   1049\u001B[0m     \u001B[38;5;28;01mexcept\u001B[39;00m (\u001B[38;5;167;01mValueError\u001B[39;00m, \u001B[38;5;167;01mTypeError\u001B[39;00m, \u001B[38;5;167;01mAssertionError\u001B[39;00m) \u001B[38;5;28;01mas\u001B[39;00m exc:\n\u001B[1;32m   1050\u001B[0m         \u001B[38;5;28;01mreturn\u001B[39;00m {}, \u001B[38;5;28mset\u001B[39m(), ValidationError([ErrorWrapper(exc, loc\u001B[38;5;241m=\u001B[39mROOT_KEY)], cls_)\n",
      "File \u001B[0;32m~/venv/lib/python3.10/site-packages/langchain_community/document_compressors/llmlingua_filter.py:61\u001B[0m, in \u001B[0;36mLLMLinguaCompressor.validate_environment\u001B[0;34m(cls, values)\u001B[0m\n\u001B[1;32m     59\u001B[0m     \u001B[38;5;28;01mfrom\u001B[39;00m \u001B[38;5;21;01mllmlingua\u001B[39;00m \u001B[38;5;28;01mimport\u001B[39;00m PromptCompressor\n\u001B[1;32m     60\u001B[0m \u001B[38;5;28;01mexcept\u001B[39;00m \u001B[38;5;167;01mImportError\u001B[39;00m:\n\u001B[0;32m---> 61\u001B[0m     \u001B[38;5;28;01mraise\u001B[39;00m \u001B[38;5;167;01mImportError\u001B[39;00m(\n\u001B[1;32m     62\u001B[0m         \u001B[38;5;124m\"\u001B[39m\u001B[38;5;124mCould not import llmlingua python package. \u001B[39m\u001B[38;5;124m\"\u001B[39m\n\u001B[1;32m     63\u001B[0m         \u001B[38;5;124m\"\u001B[39m\u001B[38;5;124mPlease install it with `pip install llmlingua`.\u001B[39m\u001B[38;5;124m\"\u001B[39m\n\u001B[1;32m     64\u001B[0m     )\n\u001B[1;32m     65\u001B[0m \u001B[38;5;28;01mif\u001B[39;00m \u001B[38;5;129;01mnot\u001B[39;00m values\u001B[38;5;241m.\u001B[39mget(\u001B[38;5;124m\"\u001B[39m\u001B[38;5;124mlingua\u001B[39m\u001B[38;5;124m\"\u001B[39m):\n\u001B[1;32m     66\u001B[0m     values[\u001B[38;5;124m\"\u001B[39m\u001B[38;5;124mlingua\u001B[39m\u001B[38;5;124m\"\u001B[39m] \u001B[38;5;241m=\u001B[39m PromptCompressor(\n\u001B[1;32m     67\u001B[0m         model_name\u001B[38;5;241m=\u001B[39mvalues\u001B[38;5;241m.\u001B[39mget(\u001B[38;5;124m\"\u001B[39m\u001B[38;5;124mmodel_name\u001B[39m\u001B[38;5;124m\"\u001B[39m, {}),\n\u001B[1;32m     68\u001B[0m         device_map\u001B[38;5;241m=\u001B[39mvalues\u001B[38;5;241m.\u001B[39mget(\u001B[38;5;124m\"\u001B[39m\u001B[38;5;124mdevice_map\u001B[39m\u001B[38;5;124m\"\u001B[39m, {}),\n\u001B[1;32m     69\u001B[0m         model_config\u001B[38;5;241m=\u001B[39mvalues\u001B[38;5;241m.\u001B[39mget(\u001B[38;5;124m\"\u001B[39m\u001B[38;5;124mmodel_config\u001B[39m\u001B[38;5;124m\"\u001B[39m, {}),\n\u001B[1;32m     70\u001B[0m         open_api_config\u001B[38;5;241m=\u001B[39mvalues\u001B[38;5;241m.\u001B[39mget(\u001B[38;5;124m\"\u001B[39m\u001B[38;5;124mopen_api_config\u001B[39m\u001B[38;5;124m\"\u001B[39m, {}),\n\u001B[1;32m     71\u001B[0m     )\n",
      "\u001B[0;31mImportError\u001B[0m: Could not import llmlingua python package. Please install it with `pip install llmlingua`."
     ]
    }
   ],
   "source": [
    "# 现在我们总结我们的基猎犬带 ContextualCompressionRetriever 使用 LLMLinguaCompressor 作为一个压缩机。\n",
    "\n",
    "from langchain.retrievers import ContextualCompressionRetriever\n",
    "from langchain_community.document_compressors import LLMLinguaCompressor\n",
    "\n",
    "\n",
    "compressor = LLMLinguaCompressor(model_name=\"openai-community/gpt2\", device_map=\"cpu\")\n",
    "compression_retriever = ContextualCompressionRetriever(\n",
    "    base_compressor=compressor, base_retriever=retriever\n",
    ")\n",
    "\n",
    "compressed_docs = compression_retriever.invoke(\n",
    "    \"What did the president say about Ketanji Jackson Brown\"\n",
    ")\n",
    "pretty_print_docs(compressed_docs)"
   ],
   "metadata": {
    "collapsed": false,
    "ExecuteTime": {
     "end_time": "2024-07-12T09:29:26.295908Z",
     "start_time": "2024-07-12T09:29:25.981605Z"
    }
   },
   "id": "d6c8c620f507dd7a",
   "execution_count": 5
  },
  {
   "cell_type": "markdown",
   "source": [
    "QA generation with LLMLingua"
   ],
   "metadata": {
    "collapsed": false
   },
   "id": "ca933f2fcc636efc"
  },
  {
   "cell_type": "code",
   "outputs": [],
   "source": [
    "from langchain.chains import RetrievalQA\n",
    "\n",
    "chain = RetrievalQA.from_chain_type(llm=llm, retriever=compression_retriever)"
   ],
   "metadata": {
    "collapsed": false
   },
   "id": "77fe7ee438613466"
  },
  {
   "cell_type": "code",
   "outputs": [],
   "source": [
    "chain.invoke({\"query\": query})"
   ],
   "metadata": {
    "collapsed": false
   },
   "id": "3ad11912e6a4f9bf"
  }
 ],
 "metadata": {
  "kernelspec": {
   "display_name": "Python 3",
   "language": "python",
   "name": "python3"
  },
  "language_info": {
   "codemirror_mode": {
    "name": "ipython",
    "version": 2
   },
   "file_extension": ".py",
   "mimetype": "text/x-python",
   "name": "python",
   "nbconvert_exporter": "python",
   "pygments_lexer": "ipython2",
   "version": "2.7.6"
  }
 },
 "nbformat": 4,
 "nbformat_minor": 5
}
