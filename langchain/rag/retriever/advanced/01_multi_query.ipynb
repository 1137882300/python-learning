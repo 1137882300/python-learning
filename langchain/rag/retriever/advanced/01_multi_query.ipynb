{
 "cells": [
  {
   "cell_type": "code",
   "execution_count": null,
   "id": "initial_id",
   "metadata": {
    "collapsed": true
   },
   "outputs": [],
   "source": [
    "# !pip install -q -U langchain openai chromadb tiktoken"
   ]
  },
  {
   "cell_type": "code",
   "outputs": [],
   "source": [
    "import logging\n",
    "\n",
    "logging.basicConfig()\n",
    "logging.getLogger(\"langchain.retrievers.multi_query\").setLevel(logging.INFO)"
   ],
   "metadata": {
    "collapsed": false,
    "ExecuteTime": {
     "end_time": "2024-06-24T03:27:27.161299Z",
     "start_time": "2024-06-24T03:27:27.152464Z"
    }
   },
   "id": "83d01dd7e193ea4e",
   "execution_count": 1
  },
  {
   "cell_type": "code",
   "outputs": [],
   "source": [
    "from langchain.vectorstores import Chroma\n",
    "from langchain.document_loaders import WebBaseLoader\n",
    "from langchain.embeddings.openai import OpenAIEmbeddings\n",
    "from langchain.text_splitter import RecursiveCharacterTextSplitter\n",
    "\n",
    "# Load blog post\n",
    "# \"https://blog.langchain.dev/langchain-prompt-hub/\"\n",
    "# https://blog.csdn.net/github_38592071/article/details/131733697\n",
    "web_url = \"https://blog.csdn.net/github_38592071/article/details/131733697\"\n",
    "loader = WebBaseLoader(web_url)\n",
    "data = loader.load()\n",
    "\n",
    "# Split\n",
    "text_splitter = RecursiveCharacterTextSplitter(chunk_size=500, chunk_overlap=0)\n",
    "splits = text_splitter.split_documents(data)"
   ],
   "metadata": {
    "collapsed": false,
    "ExecuteTime": {
     "end_time": "2024-06-24T03:40:18.036494Z",
     "start_time": "2024-06-24T03:40:17.288885Z"
    }
   },
   "id": "b350da51d11efc2d",
   "execution_count": 22
  },
  {
   "cell_type": "code",
   "outputs": [
    {
     "data": {
      "text/plain": "[Document(page_content='Announcing LangChain Hub\\n\\n\\n\\n\\n\\n\\n\\n\\n\\n\\n\\n\\n\\n\\n\\n\\n\\n\\n\\n\\n\\n\\n\\n\\n\\n\\n\\n\\n\\n\\n\\n\\n\\n\\n\\n\\n\\n\\n\\n\\n\\n\\n\\n\\n\\n\\n\\n\\n\\n\\n\\nSkip to content\\n\\n\\n\\n\\n\\n\\n\\n\\n\\n\\n\\n\\n\\n\\n\\n\\nBy LangChain\\n\\n\\n\\n\\nRelease Notes\\n\\n\\n\\n\\nCase Studies\\n\\n\\n\\n\\nLangChain\\n\\n\\n\\n\\nGitHub\\n\\n\\n\\n\\nDocs\\n\\n\\n\\n\\n\\nSign in\\nSubscribe\\n\\n\\n\\n\\n\\n\\n\\n\\n\\n\\n\\n\\n\\n\\n\\n\\n\\n\\n\\nAnnouncing LangChain Hub\\n\\nBy LangChain\\n6 min read\\nSep 5, 2023', metadata={'source': 'https://blog.langchain.dev/langchain-prompt-hub/', 'title': 'Announcing LangChain Hub', 'language': 'en'}),\n Document(page_content=\"Today, we're excited to launch LangChain Hub‚Äìa home for uploading, browsing, pulling, and managing your prompts. (Soon, we'll be adding other artifacts like chains and agents).\\uf8ffüí°Explore the Hub hereLangChain Hub is built into LangSmith (more on that below) so there are 2 ways to start exploring LangChain Hub.With LangSmith access: Full read and write permissions. You can explore all existing prompts and upload your own by logging in and navigate to the Hub from your admin panel.Without\", metadata={'source': 'https://blog.langchain.dev/langchain-prompt-hub/', 'title': 'Announcing LangChain Hub', 'language': 'en'}),\n Document(page_content=\"LangSmith access: Read only permissions. You can view and download and run prompts. Head directly to https://smith.langchain.com/hub to start exploring.If you would like to upload a prompt but don't have access to LangSmith fill out this form and we will expedite your access so you can start publishing your prompts.Motivation for LangChain HubWe launched a very early version of LangChain Hub at the beginning of the year as a directory of code and README's with the same goal we have today‚Äìmake\", metadata={'source': 'https://blog.langchain.dev/langchain-prompt-hub/', 'title': 'Announcing LangChain Hub', 'language': 'en'}),\n Document(page_content='it easier to share and discover prompts for any use-case. As LangChain and the broader ecosystem has evolved, the role of prompting has only become more important to the LLM development process. As Ethan Mollick recently wrote in a (FANTASTIC) article on the topic, \"now is the time for grimoires.\" By \"grimoires\" he means \"prompt libraries that encode the expertise of their best practices into forms that anyone can use.\" We whole-heartedly agree‚Äìthe value of a Hub extends beyond individual', metadata={'source': 'https://blog.langchain.dev/langchain-prompt-hub/', 'title': 'Announcing LangChain Hub', 'language': 'en'}),\n Document(page_content=\"applications. It's about advancing our collective wisdom and translating that into knowledge we can all put to use now. We want to help make this easier on an individual, team, and organization scale, across any use-case and every industry. Our goal for LangChain Hub is that it becomes the go-to place for developers to discover new use cases and polished prompts.Today, polished prompts and the wisdom that comes with it are distributed across the web and all-too-often buried in the crannies of\", metadata={'source': 'https://blog.langchain.dev/langchain-prompt-hub/', 'title': 'Announcing LangChain Hub', 'language': 'en'}),\n Document(page_content=\"blog posts, Twitter threads, and people's head's. By bringing all tis knowledge together in one easily-navigable place, we think we can accelerate the pace of development and learning together. To use Mollick's terminology‚Äìwe're starting with public grimoires today, but we'll be enabling private, company-specific grimoires very soon. So why now? A few new insights emerged over the past months that motivated us to rebuild the hub properly.Model Variety and Non-Transferable PromptsPeople aren't\", metadata={'source': 'https://blog.langchain.dev/langchain-prompt-hub/', 'title': 'Announcing LangChain Hub', 'language': 'en'}),\n Document(page_content=\"just using OpenAI anymore. Anthropic with claude-2 has become the go-to choice for people needing long context windows. Google is releasing (and will release) more powerful models. And, most excitingly, the open source model community is catching up and Llama2 proving to be a viable alternative.Unfortunately, prompts don't simply transfer from one model to another. Each model may have different tricks that work best for that model (e.g. claude-2 prefers XML encoding when prompting) or different\", metadata={'source': 'https://blog.langchain.dev/langchain-prompt-hub/', 'title': 'Announcing LangChain Hub', 'language': 'en'}),\n Document(page_content=\"syntax (e.g. SYS and INST for Llama2).As developers explore the wide variety of models, we hope the LangChain Hub can assist in that exploration by providing starter prompts for those models. We've added tags to prompts to indicate which model(s) they work best with.2. InspectabilityPrompts power the chains and agents in LangChain. Often times, the prompts are obfuscated away. We built LangChain Hub in a way that puts them front and center, so that anyone can see what's going on under the\", metadata={'source': 'https://blog.langchain.dev/langchain-prompt-hub/', 'title': 'Announcing LangChain Hub', 'language': 'en'}),\n Document(page_content=\"hood.3. Cross-Team CollaborationWhile most LLM applications require substantial engineering work to set up, we've noticed that non-technical team members are participating in the process of editing and refining prompts. We wanted to make it much easier for more team members to get involved in what we believe is going to become a core part of every company's app development process. Along these lines, we don't believe that prompts should be treated as traditional code‚Äìit's simply not the best\", metadata={'source': 'https://blog.langchain.dev/langchain-prompt-hub/', 'title': 'Announcing LangChain Hub', 'language': 'en'}),\n Document(page_content=\"way to facilitate this kind of collaboration.We're aiming to make LangChain Hub the best place for teams to write and manage prompts, together. The product isn't quite there today‚Äìthis first iteration only supports personal accounts‚Äìbut we're actively looking for organizations that are excited to explore an Alpha with us so if you want organizational support for the Hub, please reach out to us directly at support@langchain.dev with the subject [Hub: Orgs]4. Artifact Management and\", metadata={'source': 'https://blog.langchain.dev/langchain-prompt-hub/', 'title': 'Announcing LangChain Hub', 'language': 'en'}),\n Document(page_content=\"LangSmithFrom partnering with early LangSmith users, the tie-in between debugging, logging, testing, and evaluation and artifact management has become increasingly obvious. By making LangChain Hub a part of LangSmith, we knew we could help teams not only identify and collaborate on prompts, but also make informed decisions about how to implement them. Testing integrations with prompts aren't out yet but they are coming soon!Favorite FeaturesHome PageWe want to make discoverability and\", metadata={'source': 'https://blog.langchain.dev/langchain-prompt-hub/', 'title': 'Announcing LangChain Hub', 'language': 'en'}),\n Document(page_content='navigability as easy as possible. You should be able to go from curiosity to coding in just a few clicks. You can view sort prompts by:Most favoritesMost viewedMost downloadedRecently uploadedYou can filter prompts by:Use cases (chatbots, extraction, summarization, etc)Type (prompt template, etc)Language (English, Chinese, etc)Model (OpenAI, Anthropic, Llama2, VertexAI, etc)Downloading and Uploading PromptsWe have released an SDK to enable easy programatic downloading of prompts:from langchain', metadata={'source': 'https://blog.langchain.dev/langchain-prompt-hub/', 'title': 'Announcing LangChain Hub', 'language': 'en'}),\n Document(page_content='import hub', metadata={'source': 'https://blog.langchain.dev/langchain-prompt-hub/', 'title': 'Announcing LangChain Hub', 'language': 'en'}),\n Document(page_content='prompt = hub.pull(\"hwchase17/eli5-solar-system\")You can also easily upload prompts via the SDKfrom langchain import hub\\nfrom langchain.prompts.chat import ChatPromptTemplate\\n\\nprompt = ChatPromptTemplate.from_template(\"tell me a joke about {topic}\")', metadata={'source': 'https://blog.langchain.dev/langchain-prompt-hub/', 'title': 'Announcing LangChain Hub', 'language': 'en'}),\n Document(page_content='hub.push(\"<handle>/topic-joke-generator\", prompt)If you want to upload an prompt to the Hub, but don\\'t yet have access to LangSmith, fill out this form and we will expedite your access.Prompt VersioningEach time you commit a prompt, it is added as a new commit. This means that you can easily access previous versions of prompts should you want to go back to a previous version.PlaygroundAll prompts can be opened in the playground by clicking the \"Try it\" button. This allows you to interact with', metadata={'source': 'https://blog.langchain.dev/langchain-prompt-hub/', 'title': 'Announcing LangChain Hub', 'language': 'en'}),\n Document(page_content='prompts right from LangChain Hub. It\\'s useful for testing prompts...and it\\'s fun! Note: You will be required to enter an OpenAI or Anthropic API key in order to run it in the playground. These keys are only stored in your browser are used solely to communicate directly to services.Editing and SavingFrom the playground you can edit a prompt, and then save it by clicking the \"Commit\" button in the top right corner. You can do this either for your own prompts, or for others (when saving, you will', metadata={'source': 'https://blog.langchain.dev/langchain-prompt-hub/', 'title': 'Announcing LangChain Hub', 'language': 'en'}),\n Document(page_content=\"have to create your own repo to save it to). This is exciting because it helps everyone build on top of each other's work! Coming SoonMore Artifact Types: Right now, only prompt templates are supported. We plan to expand support for other types of artifacts like chains and agents.Organization Support: Right now the Hub only works for your personal account. If your organization needs the ability to collaborate on prompts, for now please reach out to us directly at support@langchain.dev with the\", metadata={'source': 'https://blog.langchain.dev/langchain-prompt-hub/', 'title': 'Announcing LangChain Hub', 'language': 'en'}),\n Document(page_content='subject [Hub: Orgs]. We will be rolling this out more widely in a few weeks.Integration with testing: Just as you test code, you should test prompts. We are working on integrating the Hub with our dataset & testing functionality. If you need to test your prompts in the meantime, please check out our LangSmith cookbooks.More social features: Just as you test code, you should test prompts. We are working on integrating the Hub with our dataset and testing functionality. If you need to test your', metadata={'source': 'https://blog.langchain.dev/langchain-prompt-hub/', 'title': 'Announcing LangChain Hub', 'language': 'en'}),\n Document(page_content='prompts in the meantime, please check out our LangSmith cookbooks.What else? If you have product feedback or ideas for us, we want to hear it! Join us in Discord to share more.Show us your prompts!We‚Äôll be rounding up and sharing the most creative, useful, thought-provoking prompts with the community.So share your prompts, ‚ù§Ô∏è your favorites, and tag us when you post your prompts or stumble across ones you like!', metadata={'source': 'https://blog.langchain.dev/langchain-prompt-hub/', 'title': 'Announcing LangChain Hub', 'language': 'en'}),\n Document(page_content='Tags\\nBy LangChain\\n\\n\\nJoin our newsletter\\nUpdates from the LangChain team and community\\n\\n\\nEnter your email\\n\\nSubscribe\\n\\nProcessing your application...\\nSuccess! Please check your inbox and click the link to confirm your subscription.\\nSorry, something went wrong. Please try again.\\n\\n\\n\\n\\n\\nYou might also like\\n\\n\\n\\n\\n\\n\\n\\n\\n\\n\\nHow Factory used LangSmith to automate their feedback loop and improve iteration speed by 2x\\n\\n\\nBy LangChain\\n4 min read', metadata={'source': 'https://blog.langchain.dev/langchain-prompt-hub/', 'title': 'Announcing LangChain Hub', 'language': 'en'}),\n Document(page_content='Announcing LangSmith is now a transactable offering in the Azure Marketplace\\n\\n\\nBy LangChain\\n4 min read\\n\\n\\n\\n\\n\\n\\n\\n\\n\\n\\n\\n\\nLangChain Integrates NVIDIA NIM for GPU-optimized LLM Inference in RAG\\n\\n\\nBy LangChain\\n4 min read\\n\\n\\n\\n\\n\\n\\n\\n\\n\\n\\n\\n\\nUse Case Accelerant: Extraction Service\\n\\n\\nBy LangChain\\n7 min read\\n\\n\\n\\n\\n\\n\\n\\n\\n\\n\\n\\n\\n[Week of 2/19] LangChain Release Notes\\n\\n\\nBy LangChain\\n1 min read\\n\\n\\n\\n\\n\\n\\n\\n\\n\\n\\n\\n\\nReflection Agents\\n\\n\\nagents\\n6 min read\\n\\n\\n\\n\\n\\n\\n\\n\\n\\n\\n\\n\\n\\n\\nSign up\\n\\n\\n\\n\\n\\n            ¬© LangChain Blog 2024', metadata={'source': 'https://blog.langchain.dev/langchain-prompt-hub/', 'title': 'Announcing LangChain Hub', 'language': 'en'})]"
     },
     "execution_count": 13,
     "metadata": {},
     "output_type": "execute_result"
    }
   ],
   "source": [
    "splits"
   ],
   "metadata": {
    "collapsed": false,
    "ExecuteTime": {
     "end_time": "2024-06-24T03:35:08.287719Z",
     "start_time": "2024-06-24T03:35:08.282959Z"
    }
   },
   "id": "bfd23345922f85d2",
   "execution_count": 13
  },
  {
   "cell_type": "code",
   "outputs": [
    {
     "name": "stdout",
     "output_type": "stream",
     "text": [
      "8483c3ec7a0cbc54a8d660b5b9002b04\n",
      "Gcllof8ze6dgtcqFI5FQZ2SD_5tfCD4Db7NuS6jn\n"
     ]
    }
   ],
   "source": [
    "# CloudflareWorkersAI\n",
    "from dotenv import load_dotenv\n",
    "import os\n",
    "from langchain_community.llms.cloudflare_workersai import CloudflareWorkersAI\n",
    "\n",
    "# 加载当前目录下的.env文件\n",
    "# load_dotenv()\n",
    "# load_dotenv(override=True) 会重新读取.env\n",
    "load_dotenv(override=True)\n",
    "\n",
    "# 现在可以像访问普通环境变量一样访问.env文件中的变量了\n",
    "account_id = os.getenv('CF_ACCOUNT_ID')\n",
    "api_token = os.getenv('CF_API_TOKEN')\n",
    "\n",
    "print(account_id)\n",
    "print(api_token)\n",
    "\n",
    "import getpass\n",
    "\n",
    "model = '@cf/meta/llama-3-8b-instruct'\n",
    "cf_llm = CloudflareWorkersAI(account_id=account_id, api_token=api_token, model=model)\n",
    "# 最新的Embedding方式\n",
    "# cloudflare_workersai\n",
    "from langchain_community.embeddings.cloudflare_workersai import (\n",
    "    CloudflareWorkersAIEmbeddings,\n",
    ")\n",
    "\n",
    "# //维度是：384\n",
    "embedding = CloudflareWorkersAIEmbeddings(\n",
    "    account_id=account_id,\n",
    "    api_token=api_token,\n",
    "    model_name=\"@cf/baai/bge-small-en-v1.5\",\n",
    ")"
   ],
   "metadata": {
    "collapsed": false,
    "ExecuteTime": {
     "end_time": "2024-06-24T03:51:41.145903Z",
     "start_time": "2024-06-24T03:51:41.138419Z"
    }
   },
   "id": "124aa33cb025c160",
   "execution_count": 27
  },
  {
   "cell_type": "code",
   "outputs": [],
   "source": [
    "vectordb = Chroma.from_documents(documents=splits, embedding=embedding)"
   ],
   "metadata": {
    "collapsed": false,
    "ExecuteTime": {
     "end_time": "2024-06-24T03:40:26.233220Z",
     "start_time": "2024-06-24T03:40:21.380308Z"
    }
   },
   "id": "8739f12292c4741b",
   "execution_count": 23
  },
  {
   "cell_type": "code",
   "outputs": [
    {
     "name": "stdout",
     "output_type": "stream",
     "text": [
      "sk-UGVpjuTwo2Q8pewoqUDfckw1A0pbSDli9ElFMeS9WareKknG\n",
      "https://api.moonshot.cn/v1/\n"
     ]
    }
   ],
   "source": [
    "from dotenv import load_dotenv\n",
    "import os\n",
    "from langchain_openai import ChatOpenAI\n",
    "\n",
    "# 加载当前目录下的.env文件\n",
    "# load_dotenv()\n",
    "# load_dotenv(override=True) 会重新读取.env\n",
    "load_dotenv(override=True)\n",
    "\n",
    "# 现在可以像访问普通环境变量一样访问.env文件中的变量了\n",
    "api_key = os.getenv('OPENAI_API_KEY')\n",
    "base_url = os.getenv('OPENAI_API_BASE')\n",
    "\n",
    "print(api_key)\n",
    "print(base_url)\n",
    "\n",
    "chat = ChatOpenAI(\n",
    "    openai_api_base=base_url,\n",
    "    openai_api_key=api_key,\n",
    "    model_name=\"moonshot-v1-8k\",\n",
    "    temperature=0.7,\n",
    ")"
   ],
   "metadata": {
    "collapsed": false,
    "ExecuteTime": {
     "end_time": "2024-06-24T03:39:29.568862Z",
     "start_time": "2024-06-24T03:39:29.351876Z"
    }
   },
   "id": "d92a0eddf8ef4a9b",
   "execution_count": 19
  },
  {
   "cell_type": "code",
   "outputs": [],
   "source": [
    "from langchain.retrievers.multi_query import MultiQueryRetriever\n",
    "\n",
    "question = \"什么是LangChain?\"\n",
    "retriever_from_llm = MultiQueryRetriever.from_llm(retriever=vectordb.as_retriever(), llm=chat)"
   ],
   "metadata": {
    "collapsed": false,
    "ExecuteTime": {
     "end_time": "2024-06-24T03:40:38.329804Z",
     "start_time": "2024-06-24T03:40:38.327394Z"
    }
   },
   "id": "6fb75f789a9bf92a",
   "execution_count": 24
  },
  {
   "cell_type": "code",
   "outputs": [
    {
     "name": "stderr",
     "output_type": "stream",
     "text": [
      "INFO:langchain.retrievers.multi_query:Generated queries: ['1. 什么是LangChain的详细解释？', '2. LangChain的主要功能和特点是什么？', '3. 如何理解LangChain的概念和应用场景？']\n"
     ]
    },
    {
     "data": {
      "text/plain": "[Document(page_content='我们先来看看百度百科是如何定义回调函数的：回调函数就是一个通过函数指针调用的函数。如果你把函数的指针（地址）作为参数传递给另一个函数，当这个指针被用来调用其所指向的函数时，我们就说这是回调函数。...\\n\\n\\n\\n\\n\\n\\n\\n\\n参与评论\\n您还未登录，请先\\n登录\\n后发表或查看评论\\n\\n\\n\\n\\n\\n\\n\\n\\n\\nLangChain入门指南\\n热门推荐\\n\\n\\n\\n\\nlht0909的博客\\n\\n\\n04-27\\n\\n\\t\\t\\t\\t\\t3万+\\n\\t\\t\\t\\t\\t\\n\\n\\n\\n\\n\\nLangChain是一个强大的框架，旨在帮助开发人员使用语言模型构建端到端的应用程序。它提供了一套工具、组件和接口，可简化创建由大型语言模型 (LLM) 和聊天模型提供支持的应用程序的过程。LangChain 可以轻松管理与语言模型的交互，将多个组件链接在一起，并集成额外的资源，例如 API 和数据库。官方文档：https://python.langchain.com/en/latest/\\n\\n\\n\\n\\n\\n\\n\\n\\n\\nGPT开发应用利器：LangChain\\n\\n\\n\\n\\nyangbisheng1121的博客\\n\\n\\n05-19\\n\\n\\t\\t\\t\\t\\t5122', metadata={'description': '文章浏览阅读2.8k次。点击上方“芋道源码”，选择“设为星标”管她前浪，还是后浪？能浪的浪，才是好浪！每天 10:33更新文章，每天掉亿点点头发...源码精品专栏原创 | Java 2021超神之路，很肝~中文详细注释的开源项目RPC 框架 Dubbo 源码解析网络应用框架 Netty 源码解析消息中间件 RocketMQ 源码解析数据库中间件 Sharding-JDBC 和 MyCAT 源码解析作业调度中间件 E..._langchain', 'language': 'zh-CN', 'source': 'https://blog.csdn.net/github_38592071/article/details/131733697', 'title': '一文搞懂LangChain-CSDN博客'}),\n Document(page_content='在 LangChain 中，我们可以根据需要设置提示模板，并将其与主链相连接以进行输出预测。 此外，LangChain 还提供了输出解析器的功能，用于进一步精炼结果。输出解析器的作用是（1）指导模型输出的格式化方式，和（2）将输出解析为所需的格式（包括必要时的重试）。\\n在 LangChain 中，我们可以提供提示模板作为输入。 模板指的是我们希望获得答案的具体格式或蓝图。LangChain 提供了预先设计好的提示模板，可以用于生成不同类型任务的提示。然而，在某些情况下，预设的模板可能无法满足你的需求。在这种情况下，我们可以使用自定义的提示模板。\\n案例：\\nfrom\\xa0langchain\\xa0import\\xa0PromptTemplate', metadata={'description': '文章浏览阅读2.8k次。点击上方“芋道源码”，选择“设为星标”管她前浪，还是后浪？能浪的浪，才是好浪！每天 10:33更新文章，每天掉亿点点头发...源码精品专栏原创 | Java 2021超神之路，很肝~中文详细注释的开源项目RPC 框架 Dubbo 源码解析网络应用框架 Netty 源码解析消息中间件 RocketMQ 源码解析数据库中间件 Sharding-JDBC 和 MyCAT 源码解析作业调度中间件 E..._langchain', 'language': 'zh-CN', 'source': 'https://blog.csdn.net/github_38592071/article/details/131733697', 'title': '一文搞懂LangChain-CSDN博客'}),\n Document(page_content='LangChain 是一个强大的框架，旨在帮助开发人员使用语言模型构建端到端的应用程序。它提供了一套工具、组件和接口，可简化创建由大型语言模型 （LLM） 和聊天模型提供支持的应用程序的过程。LangChain 可以轻松管理与语言模型的交互，将多个组件链接在一起，并集成额外的资源，例如 API 和数据库。中文文档：https://www.langchain.asia官方文档：https://python.langchain.com/docs/get_started/introductionModel。\\n\\n\\n\\n\\n\\n\\n\\n\\n\\nLangChain 介绍及相关组件使用总结\\n\\n\\n\\n\\n小毕超博客\\n\\n\\n06-25\\n\\n\\t\\t\\t\\t\\t1万+\\n\\t\\t\\t\\t\\t\\n\\n\\n\\n\\n\\n`LangChain` 是一个由语言模型`LLMs`驱动的应用程序框架，它允许用户围绕大型语言模型快速构建应用程序和管道。 可以直接与 `OpenAI` 的 `ChatGPT` 模型以及 `Hugging Face` 集成。通过 `langChain` 可快速构建聊天机器人、生成式问答(`GQA`)、本文摘要等应用场景。', metadata={'description': '文章浏览阅读2.8k次。点击上方“芋道源码”，选择“设为星标”管她前浪，还是后浪？能浪的浪，才是好浪！每天 10:33更新文章，每天掉亿点点头发...源码精品专栏原创 | Java 2021超神之路，很肝~中文详细注释的开源项目RPC 框架 Dubbo 源码解析网络应用框架 Netty 源码解析消息中间件 RocketMQ 源码解析数据库中间件 Sharding-JDBC 和 MyCAT 源码解析作业调度中间件 E..._langchain', 'language': 'zh-CN', 'source': 'https://blog.csdn.net/github_38592071/article/details/131733697', 'title': '一文搞懂LangChain-CSDN博客'}),\n Document(page_content='简单来说，可以理解 LangChain 相当于开源版的GPT插件，它提供了丰富的大语言模型工具，支持在开源模型的基础上快速增强模型的能力。LangChain 可以轻松管理与语言模型的交互，将多个组件链接在一起，并集成额外的资源，例如 API 和数据库。理解了上面的这些核心概念之后，你就可以利用 LangChain 的强大功能来构建适应性强、高效且能够处理复杂用例的高级语言模型应用程序。整个过程基本上没怎么写代码，只要了解LangChain的组件的功能，基本上就可以搭建出一款简单的聊天机器人。\\n\\n\\n\\n\\n\\n\\n\\n\\n\\nLangChain入门(四)-构建本地知识库问答机器人\\n\\n\\n\\n\\nGood Luck\\n\\n\\n05-04\\n\\n\\t\\t\\t\\t\\t2万+', metadata={'description': '文章浏览阅读2.8k次。点击上方“芋道源码”，选择“设为星标”管她前浪，还是后浪？能浪的浪，才是好浪！每天 10:33更新文章，每天掉亿点点头发...源码精品专栏原创 | Java 2021超神之路，很肝~中文详细注释的开源项目RPC 框架 Dubbo 源码解析网络应用框架 Netty 源码解析消息中间件 RocketMQ 源码解析数据库中间件 Sharding-JDBC 和 MyCAT 源码解析作业调度中间件 E..._langchain', 'language': 'zh-CN', 'source': 'https://blog.csdn.net/github_38592071/article/details/131733697', 'title': '一文搞懂LangChain-CSDN博客'}),\n Document(page_content='具体来说，LangChain 框架可以实现数据感知和环境互动，也就是说，它能够让语言模型与其他数据来源连接，并且允许语言模型与其所处的环境进行互动。利用 LangChain 框架，可以轻松地构建如下所示的 RAG 应用。每个代表了，例如数据收集模块或预处理模块。每个代表了一个，例如原始数据或预处理后的数据。箭头表示数据流的方向，从一个模块流向另一个模块。在每一步中，LangChain 都可以提供对应的解决方案，帮助我们处理各种任务。\\n\\n\\n\\n\\n\\n\\n\\n\\n\\n2023年大语言模型神器 - LangChain\\n\\n\\n\\n\\nAmazDreamer的博客\\n\\n\\n07-12\\n\\n\\t\\t\\t\\t\\t232', metadata={'description': '文章浏览阅读2.8k次。点击上方“芋道源码”，选择“设为星标”管她前浪，还是后浪？能浪的浪，才是好浪！每天 10:33更新文章，每天掉亿点点头发...源码精品专栏原创 | Java 2021超神之路，很肝~中文详细注释的开源项目RPC 框架 Dubbo 源码解析网络应用框架 Netty 源码解析消息中间件 RocketMQ 源码解析数据库中间件 Sharding-JDBC 和 MyCAT 源码解析作业调度中间件 E..._langchain', 'language': 'zh-CN', 'source': 'https://blog.csdn.net/github_38592071/article/details/131733697', 'title': '一文搞懂LangChain-CSDN博客'})]"
     },
     "execution_count": 25,
     "metadata": {},
     "output_type": "execute_result"
    }
   ],
   "source": [
    "unique_docs = retriever_from_llm.get_relevant_documents(query=question)\n",
    "unique_docs"
   ],
   "metadata": {
    "collapsed": false,
    "ExecuteTime": {
     "end_time": "2024-06-24T03:40:48.412992Z",
     "start_time": "2024-06-24T03:40:41.547080Z"
    }
   },
   "id": "feaa4e6f8dc6eb9f",
   "execution_count": 25
  },
  {
   "cell_type": "code",
   "outputs": [],
   "source": [
    "from typing import List\n",
    "from langchain.chains import LLMChain\n",
    "from pydantic import BaseModel, Field\n",
    "from langchain.prompts import PromptTemplate\n",
    "from langchain.output_parsers import PydanticOutputParser\n",
    "from langchain.retrievers.multi_query import LineListOutputParser\n",
    "\n",
    "# Output parser will split the LLM result into a list of queries\n",
    "# LLM 结果将被 Output 解析器拆分成查询列表。\n",
    "'''\n",
    "class LineList(BaseModel):\n",
    "    # \"lines\" is the key (attribute name) of the parsed output\n",
    "    lines: List[str] = Field(description=\"Lines of text\")\n",
    "\n",
    "\n",
    "class LineListOutputParser(PydanticOutputParser):\n",
    "    def __init__(self) -> None:\n",
    "        super().__init__(pydantic_object=LineList)\n",
    "\n",
    "    def parse(self, text: str) -> LineList:\n",
    "        print(f\"Input text: {text}\")\n",
    "        lines = text.strip().split(\"\\n\")\n",
    "        return LineList(lines=lines)\n",
    "'''\n",
    "\n",
    "output_parser = LineListOutputParser()\n",
    "\n",
    "QUERY_PROMPT = PromptTemplate(\n",
    "    input_variables=[\"question\"],\n",
    "    template=\"\"\"You are an AI language model assistant. Your task is to generate five\n",
    "    different versions of the given user question to retrieve relevant documents from a vector\n",
    "    database. By generating multiple perspectives on the user question, your goal is to help\n",
    "    the user overcome some of the limitations of the distance-based similarity search.\n",
    "    Provide these alternative questions seperated by newlines.\n",
    "    Original question: {question}\"\"\",\n",
    ")\n",
    "\n",
    "# Chain\n",
    "llm_chain = LLMChain(llm=chat, prompt=QUERY_PROMPT, output_parser=output_parser)"
   ],
   "metadata": {
    "collapsed": false,
    "ExecuteTime": {
     "end_time": "2024-06-24T03:53:11.917313Z",
     "start_time": "2024-06-24T03:53:11.913480Z"
    }
   },
   "id": "5b4f6f28a0e54e92",
   "execution_count": 32
  },
  {
   "cell_type": "code",
   "outputs": [
    {
     "name": "stderr",
     "output_type": "stream",
     "text": [
      "INFO:langchain.retrievers.multi_query:Generated queries: ['1. 能解释一下LangChain是什么吗？', '2. LangChain这个术语代表什么含义？', '3. 什么是LangChain，它有哪些特点？', '4. 请描述一下LangChain的概念及其应用。', '5. LangChain是一个什么样的技术或者产品？']\n"
     ]
    },
    {
     "data": {
      "text/plain": "[Document(page_content='在 LangChain 中，我们可以根据需要设置提示模板，并将其与主链相连接以进行输出预测。 此外，LangChain 还提供了输出解析器的功能，用于进一步精炼结果。输出解析器的作用是（1）指导模型输出的格式化方式，和（2）将输出解析为所需的格式（包括必要时的重试）。\\n在 LangChain 中，我们可以提供提示模板作为输入。 模板指的是我们希望获得答案的具体格式或蓝图。LangChain 提供了预先设计好的提示模板，可以用于生成不同类型任务的提示。然而，在某些情况下，预设的模板可能无法满足你的需求。在这种情况下，我们可以使用自定义的提示模板。\\n案例：\\nfrom\\xa0langchain\\xa0import\\xa0PromptTemplate', metadata={'description': '文章浏览阅读2.8k次。点击上方“芋道源码”，选择“设为星标”管她前浪，还是后浪？能浪的浪，才是好浪！每天 10:33更新文章，每天掉亿点点头发...源码精品专栏原创 | Java 2021超神之路，很肝~中文详细注释的开源项目RPC 框架 Dubbo 源码解析网络应用框架 Netty 源码解析消息中间件 RocketMQ 源码解析数据库中间件 Sharding-JDBC 和 MyCAT 源码解析作业调度中间件 E..._langchain', 'language': 'zh-CN', 'source': 'https://blog.csdn.net/github_38592071/article/details/131733697', 'title': '一文搞懂LangChain-CSDN博客'}),\n Document(page_content='我们先来看看百度百科是如何定义回调函数的：回调函数就是一个通过函数指针调用的函数。如果你把函数的指针（地址）作为参数传递给另一个函数，当这个指针被用来调用其所指向的函数时，我们就说这是回调函数。...\\n\\n\\n\\n\\n\\n\\n\\n\\n参与评论\\n您还未登录，请先\\n登录\\n后发表或查看评论\\n\\n\\n\\n\\n\\n\\n\\n\\n\\nLangChain入门指南\\n热门推荐\\n\\n\\n\\n\\nlht0909的博客\\n\\n\\n04-27\\n\\n\\t\\t\\t\\t\\t3万+\\n\\t\\t\\t\\t\\t\\n\\n\\n\\n\\n\\nLangChain是一个强大的框架，旨在帮助开发人员使用语言模型构建端到端的应用程序。它提供了一套工具、组件和接口，可简化创建由大型语言模型 (LLM) 和聊天模型提供支持的应用程序的过程。LangChain 可以轻松管理与语言模型的交互，将多个组件链接在一起，并集成额外的资源，例如 API 和数据库。官方文档：https://python.langchain.com/en/latest/\\n\\n\\n\\n\\n\\n\\n\\n\\n\\nGPT开发应用利器：LangChain\\n\\n\\n\\n\\nyangbisheng1121的博客\\n\\n\\n05-19\\n\\n\\t\\t\\t\\t\\t5122', metadata={'description': '文章浏览阅读2.8k次。点击上方“芋道源码”，选择“设为星标”管她前浪，还是后浪？能浪的浪，才是好浪！每天 10:33更新文章，每天掉亿点点头发...源码精品专栏原创 | Java 2021超神之路，很肝~中文详细注释的开源项目RPC 框架 Dubbo 源码解析网络应用框架 Netty 源码解析消息中间件 RocketMQ 源码解析数据库中间件 Sharding-JDBC 和 MyCAT 源码解析作业调度中间件 E..._langchain', 'language': 'zh-CN', 'source': 'https://blog.csdn.net/github_38592071/article/details/131733697', 'title': '一文搞懂LangChain-CSDN博客'}),\n Document(page_content='一文搞懂LangChain-CSDN博客\\n\\n\\n\\n\\n\\n\\n\\n\\n\\n\\n\\n\\n\\n\\n\\n\\n\\n\\n\\n\\n\\n\\n\\n\\n\\n\\n\\n\\n\\n\\n\\n\\n\\n\\n\\n\\n\\n\\n一文搞懂LangChain\\n\\n\\n最新推荐文章于\\xa02024-04-22 10:56:11\\xa0发布\\n\\n\\n\\n公众号-芋道源码\\n\\n最新推荐文章于\\xa02024-04-22 10:56:11\\xa0发布\\n\\n\\n阅读量2.8k\\n\\n\\n\\n收藏\\n\\n                              12\\n                          \\n\\n\\n\\n\\n点赞数\\n                        \\n\\n\\n\\n\\n\\n\\n文章标签：\\nlangchain', metadata={'description': '文章浏览阅读2.8k次。点击上方“芋道源码”，选择“设为星标”管她前浪，还是后浪？能浪的浪，才是好浪！每天 10:33更新文章，每天掉亿点点头发...源码精品专栏原创 | Java 2021超神之路，很肝~中文详细注释的开源项目RPC 框架 Dubbo 源码解析网络应用框架 Netty 源码解析消息中间件 RocketMQ 源码解析数据库中间件 Sharding-JDBC 和 MyCAT 源码解析作业调度中间件 E..._langchain', 'language': 'zh-CN', 'source': 'https://blog.csdn.net/github_38592071/article/details/131733697', 'title': '一文搞懂LangChain-CSDN博客'}),\n Document(page_content='具体来说，LangChain 框架可以实现数据感知和环境互动，也就是说，它能够让语言模型与其他数据来源连接，并且允许语言模型与其所处的环境进行互动。利用 LangChain 框架，可以轻松地构建如下所示的 RAG 应用。每个代表了，例如数据收集模块或预处理模块。每个代表了一个，例如原始数据或预处理后的数据。箭头表示数据流的方向，从一个模块流向另一个模块。在每一步中，LangChain 都可以提供对应的解决方案，帮助我们处理各种任务。\\n\\n\\n\\n\\n\\n\\n\\n\\n\\n2023年大语言模型神器 - LangChain\\n\\n\\n\\n\\nAmazDreamer的博客\\n\\n\\n07-12\\n\\n\\t\\t\\t\\t\\t232', metadata={'description': '文章浏览阅读2.8k次。点击上方“芋道源码”，选择“设为星标”管她前浪，还是后浪？能浪的浪，才是好浪！每天 10:33更新文章，每天掉亿点点头发...源码精品专栏原创 | Java 2021超神之路，很肝~中文详细注释的开源项目RPC 框架 Dubbo 源码解析网络应用框架 Netty 源码解析消息中间件 RocketMQ 源码解析数据库中间件 Sharding-JDBC 和 MyCAT 源码解析作业调度中间件 E..._langchain', 'language': 'zh-CN', 'source': 'https://blog.csdn.net/github_38592071/article/details/131733697', 'title': '一文搞懂LangChain-CSDN博客'}),\n Document(page_content='LangChain 是一个强大的框架，旨在帮助开发人员使用语言模型构建端到端的应用程序。它提供了一套工具、组件和接口，可简化创建由大型语言模型 （LLM） 和聊天模型提供支持的应用程序的过程。LangChain 可以轻松管理与语言模型的交互，将多个组件链接在一起，并集成额外的资源，例如 API 和数据库。中文文档：https://www.langchain.asia官方文档：https://python.langchain.com/docs/get_started/introductionModel。\\n\\n\\n\\n\\n\\n\\n\\n\\n\\nLangChain 介绍及相关组件使用总结\\n\\n\\n\\n\\n小毕超博客\\n\\n\\n06-25\\n\\n\\t\\t\\t\\t\\t1万+\\n\\t\\t\\t\\t\\t\\n\\n\\n\\n\\n\\n`LangChain` 是一个由语言模型`LLMs`驱动的应用程序框架，它允许用户围绕大型语言模型快速构建应用程序和管道。 可以直接与 `OpenAI` 的 `ChatGPT` 模型以及 `Hugging Face` 集成。通过 `langChain` 可快速构建聊天机器人、生成式问答(`GQA`)、本文摘要等应用场景。', metadata={'description': '文章浏览阅读2.8k次。点击上方“芋道源码”，选择“设为星标”管她前浪，还是后浪？能浪的浪，才是好浪！每天 10:33更新文章，每天掉亿点点头发...源码精品专栏原创 | Java 2021超神之路，很肝~中文详细注释的开源项目RPC 框架 Dubbo 源码解析网络应用框架 Netty 源码解析消息中间件 RocketMQ 源码解析数据库中间件 Sharding-JDBC 和 MyCAT 源码解析作业调度中间件 E..._langchain', 'language': 'zh-CN', 'source': 'https://blog.csdn.net/github_38592071/article/details/131733697', 'title': '一文搞懂LangChain-CSDN博客'}),\n Document(page_content='理解所有模块和链式操作对于使用 LangChain 构建大语言模型的管道应用程序非常重要。这只是对 LangChain 的简单介绍。\\nLangChain 的实际应用\\n废话少说，让我们直接使用 LangChain 构建简单的应用程序。其中最有趣的应用是在自定义数据上创建一个问答机器人。\\n免责声明/警告：这段代码仅用于展示应用程序的构建方式。我并不保证代码的优化，并且根据具体的问题陈述，可能需要进行进一步改进。\\n开始导入模块\\n导入 LangChain 和 OpenAI 用于大语言模型部分。如果你还没有安装它们，请先安装。\\n#\\xa0\\xa0\\xa0\\xa0IMPORTS\\nfrom\\xa0langchain.embeddings.openai\\xa0import\\xa0OpenAIEmbeddings\\nfrom\\xa0langchain.vectorstores\\xa0import\\xa0Chroma\\nfrom\\xa0langchain.text_splitter\\xa0import\\xa0CharacterTextSplitter\\nfrom\\xa0langchain.chains\\xa0import\\xa0ConversationalRetrievalChain', metadata={'description': '文章浏览阅读2.8k次。点击上方“芋道源码”，选择“设为星标”管她前浪，还是后浪？能浪的浪，才是好浪！每天 10:33更新文章，每天掉亿点点头发...源码精品专栏原创 | Java 2021超神之路，很肝~中文详细注释的开源项目RPC 框架 Dubbo 源码解析网络应用框架 Netty 源码解析消息中间件 RocketMQ 源码解析数据库中间件 Sharding-JDBC 和 MyCAT 源码解析作业调度中间件 E..._langchain', 'language': 'zh-CN', 'source': 'https://blog.csdn.net/github_38592071/article/details/131733697', 'title': '一文搞懂LangChain-CSDN博客'}),\n Document(page_content='今天我们用LangChain对接了大型语言模型(LLMs), 并让LMMs可以针对性的学习用户给定的特定数据，这些数据可以是文本文件，数据库，知识库等结构化或者非结构化的数据。当用户询问的问题超出范围时，机器人不会给出任何答案，只会给出相关的提示信息显示用户的问题超出了范围，这样可以有效限制机器人自由发挥，使机器人不能让它随便乱说。\\n\\n\\n\\n\\n\\n\\n\\n\\n\\n最近很火的 LangChain 你了解吗\\n\\n\\n\\n\\n技术能量站\\n\\n\\n07-16\\n\\n\\t\\t\\t\\t\\t2668\\n\\t\\t\\t\\t\\t\\n\\n\\n\\n\\n\\nLangChain 是一个 2023 年 1 月（v0.0.64）在 GitHub 上新开源的新框架，框架的作用是可以通过可组合性使用 LLM 构建你的应用程序。现阶段更新频率较高。有 Python 和 JS 的两种版本。和 AIGC 一样的热度，广受追捧，Stars 已经冲到了 38k 左右。官方的说辞：LangChain 是一个用于开发由语言模型驱动的应用程序的框架。具有数据意识：将语言模型与其他数据源连接起来。具有自主性：允许语言模型与其环境进行交互。\\n\\n\\n\\n\\n\\n\\n\\n\\n\\n一文搞懂大模型框架：LangChain', metadata={'description': '文章浏览阅读2.8k次。点击上方“芋道源码”，选择“设为星标”管她前浪，还是后浪？能浪的浪，才是好浪！每天 10:33更新文章，每天掉亿点点头发...源码精品专栏原创 | Java 2021超神之路，很肝~中文详细注释的开源项目RPC 框架 Dubbo 源码解析网络应用框架 Netty 源码解析消息中间件 RocketMQ 源码解析数据库中间件 Sharding-JDBC 和 MyCAT 源码解析作业调度中间件 E..._langchain', 'language': 'zh-CN', 'source': 'https://blog.csdn.net/github_38592071/article/details/131733697', 'title': '一文搞懂LangChain-CSDN博客'}),\n Document(page_content='LangChain 完整指南：使用大语言模型构建强大的应用程序\\n\\n\\n\\n\\n\\n\\n\\n05-09\\n\\n\\t\\t\\t\\t\\t1824\\n\\t\\t\\t\\t\\t\\n\\n\\n\\n\\n\\n总之，LangChain 是一个强大的框架，它通过提供模块化和灵活的方法简化了构建高级语言模型应用程序的过程。LangChain 的适应性和易用性使其成为开发人员的宝贵工具，使他们能够释放语言模型的全部潜力，并在广泛的用例中创建智能的、上下文感知的应用程序。LangChain 可以轻松管理与语言模型的交互，将多个组件链接在一起，并集成额外的资源，例如 API 和数据库。这有助于维护上下文并提高模型对对话的理解。通过遵循这些示例，您可以使用 LLM、聊天模型、代理、链和内存功能开发强大的语言模型应用程序。\\n\\n\\n\\n\\n\\n\\n\\n\\n\\nLangChain Java - a framework for developing applications with LLMs\\n\\n\\n\\n\\nHama White 的博客\\n\\n\\n06-14\\n\\n\\t\\t\\t\\t\\t2248', metadata={'description': '文章浏览阅读2.8k次。点击上方“芋道源码”，选择“设为星标”管她前浪，还是后浪？能浪的浪，才是好浪！每天 10:33更新文章，每天掉亿点点头发...源码精品专栏原创 | Java 2021超神之路，很肝~中文详细注释的开源项目RPC 框架 Dubbo 源码解析网络应用框架 Netty 源码解析消息中间件 RocketMQ 源码解析数据库中间件 Sharding-JDBC 和 MyCAT 源码解析作业调度中间件 E..._langchain', 'language': 'zh-CN', 'source': 'https://blog.csdn.net/github_38592071/article/details/131733697', 'title': '一文搞懂LangChain-CSDN博客'})]"
     },
     "execution_count": 33,
     "metadata": {},
     "output_type": "execute_result"
    }
   ],
   "source": [
    "# Run\n",
    "retriever = MultiQueryRetriever(\n",
    "    retriever=vectordb.as_retriever(), llm_chain=llm_chain, parser_key=\"lines\"\n",
    ")  # \"lines\" is the key (attribute name) of the parsed output\n",
    "\n",
    "unique_docs = retriever.get_relevant_documents(query=question)\n",
    "unique_docs"
   ],
   "metadata": {
    "collapsed": false,
    "ExecuteTime": {
     "end_time": "2024-06-24T03:53:22.322436Z",
     "start_time": "2024-06-24T03:53:13.529152Z"
    }
   },
   "id": "49357e25bd93c46f",
   "execution_count": 33
  },
  {
   "cell_type": "code",
   "outputs": [],
   "source": [],
   "metadata": {
    "collapsed": false
   },
   "id": "56f3322766c442fb"
  }
 ],
 "metadata": {
  "kernelspec": {
   "display_name": "Python 3",
   "language": "python",
   "name": "python3"
  },
  "language_info": {
   "codemirror_mode": {
    "name": "ipython",
    "version": 2
   },
   "file_extension": ".py",
   "mimetype": "text/x-python",
   "name": "python",
   "nbconvert_exporter": "python",
   "pygments_lexer": "ipython2",
   "version": "2.7.6"
  }
 },
 "nbformat": 4,
 "nbformat_minor": 5
}
