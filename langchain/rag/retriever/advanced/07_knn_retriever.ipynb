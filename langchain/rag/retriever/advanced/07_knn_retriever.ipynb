{
 "cells": [
  {
   "cell_type": "markdown",
   "source": [
    "k-nearest neighbors algorithm\n",
    "k-最近的邻居算法\n",
    "用于分类和回归"
   ],
   "metadata": {
    "collapsed": false
   },
   "id": "853a860978590bc2"
  },
  {
   "cell_type": "code",
   "outputs": [],
   "source": [
    "from langchain_community.embeddings import DashScopeEmbeddings\n",
    "from dotenv import load_dotenv\n",
    "import os\n",
    "\n",
    "load_dotenv(override=True)\n",
    "qw_embedding = DashScopeEmbeddings(\n",
    "    model=\"text-embedding-v2\", dashscope_api_key=os.getenv('DASHSCOPE_API_KEY')\n",
    ")"
   ],
   "metadata": {
    "collapsed": false,
    "ExecuteTime": {
     "end_time": "2024-07-12T09:19:49.980895Z",
     "start_time": "2024-07-12T09:19:49.744298Z"
    }
   },
   "id": "8c7bfa0ee2cc1d3c",
   "execution_count": 1
  },
  {
   "cell_type": "code",
   "outputs": [],
   "source": [
    "from langchain_community.retrievers import KNNRetriever"
   ],
   "metadata": {
    "collapsed": false,
    "ExecuteTime": {
     "end_time": "2024-07-12T09:19:50.229473Z",
     "start_time": "2024-07-12T09:19:49.981640Z"
    }
   },
   "id": "6ea28bed575aa6b5",
   "execution_count": 2
  },
  {
   "cell_type": "code",
   "outputs": [],
   "source": [
    "retriever = KNNRetriever.from_texts(\n",
    "    [\"foo\", \"bar\", \"world\", \"hello\", \"foo bar\"], qw_embedding\n",
    ")"
   ],
   "metadata": {
    "collapsed": false,
    "ExecuteTime": {
     "end_time": "2024-07-12T09:19:50.600451Z",
     "start_time": "2024-07-12T09:19:50.232888Z"
    }
   },
   "id": "a673f53803137eed",
   "execution_count": 3
  },
  {
   "cell_type": "code",
   "outputs": [],
   "source": [
    "result = retriever.invoke(\"foo\")"
   ],
   "metadata": {
    "collapsed": false,
    "ExecuteTime": {
     "end_time": "2024-07-12T09:19:50.838303Z",
     "start_time": "2024-07-12T09:19:50.600998Z"
    }
   },
   "id": "c6879cc76a2ff021",
   "execution_count": 4
  },
  {
   "cell_type": "code",
   "outputs": [
    {
     "data": {
      "text/plain": "[Document(page_content='foo'),\n Document(page_content='foo bar'),\n Document(page_content='bar'),\n Document(page_content='world')]"
     },
     "execution_count": 5,
     "metadata": {},
     "output_type": "execute_result"
    }
   ],
   "source": [
    "result"
   ],
   "metadata": {
    "collapsed": false,
    "ExecuteTime": {
     "end_time": "2024-07-12T09:19:50.847761Z",
     "start_time": "2024-07-12T09:19:50.842181Z"
    }
   },
   "id": "482d2b8996ff5a8c",
   "execution_count": 5
  }
 ],
 "metadata": {
  "kernelspec": {
   "display_name": "Python 3",
   "language": "python",
   "name": "python3"
  },
  "language_info": {
   "codemirror_mode": {
    "name": "ipython",
    "version": 2
   },
   "file_extension": ".py",
   "mimetype": "text/x-python",
   "name": "python",
   "nbconvert_exporter": "python",
   "pygments_lexer": "ipython2",
   "version": "2.7.6"
  }
 },
 "nbformat": 4,
 "nbformat_minor": 5
}
