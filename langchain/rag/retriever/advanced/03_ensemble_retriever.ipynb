{
 "cells": [
  {
   "cell_type": "markdown",
   "source": [
    "# 集成检索器\n"
   ],
   "metadata": {
    "collapsed": false
   },
   "id": "9d2f015bd7e19110"
  },
  {
   "cell_type": "markdown",
   "source": [
    "![](img/img_2.png)"
   ],
   "metadata": {
    "collapsed": false
   },
   "id": "dfee7baf61e07c03"
  },
  {
   "cell_type": "code",
   "outputs": [
    {
     "name": "stdout",
     "output_type": "stream",
     "text": [
      "\r\n",
      "\u001B[1m[\u001B[0m\u001B[34;49mnotice\u001B[0m\u001B[1;39;49m]\u001B[0m\u001B[39;49m A new release of pip is available: \u001B[0m\u001B[31;49m24.0\u001B[0m\u001B[39;49m -> \u001B[0m\u001B[32;49m24.1\u001B[0m\r\n",
      "\u001B[1m[\u001B[0m\u001B[34;49mnotice\u001B[0m\u001B[1;39;49m]\u001B[0m\u001B[39;49m To update, run: \u001B[0m\u001B[32;49mpip install --upgrade pip\u001B[0m\r\n"
     ]
    }
   ],
   "source": [
    "# !pip install -q -U langchain openai chromadb tiktoken rank_bm25\n",
    "# !pip install -q -U  rank_bm25"
   ],
   "metadata": {
    "collapsed": false,
    "ExecuteTime": {
     "end_time": "2024-06-24T06:36:23.985177Z",
     "start_time": "2024-06-24T06:36:21.525372Z"
    }
   },
   "id": "c04d25dc3f60dc55",
   "execution_count": 5
  },
  {
   "cell_type": "code",
   "outputs": [],
   "source": [
    "from langchain.embeddings import OpenAIEmbeddings\n",
    "from langchain.retrievers import BM25Retriever\n",
    "from langchain.vectorstores import Chroma"
   ],
   "metadata": {
    "collapsed": false,
    "ExecuteTime": {
     "end_time": "2024-06-24T06:35:57.395916Z",
     "start_time": "2024-06-24T06:35:57.031346Z"
    }
   },
   "id": "4c24bde9253271a5",
   "execution_count": 1
  },
  {
   "cell_type": "code",
   "outputs": [],
   "source": [
    "from typing import Any, Dict, List\n",
    "\n",
    "from langchain.callbacks.manager import (\n",
    "    AsyncCallbackManagerForRetrieverRun,\n",
    "    CallbackManagerForRetrieverRun,\n",
    ")\n",
    "from langchain.pydantic_v1 import root_validator\n",
    "from langchain.schema import BaseRetriever, Document\n",
    "\n",
    "\n",
    "class EnsembleRetriever(BaseRetriever):\n",
    "    \"\"\"Retriever that ensembles the multiple retrievers.\n",
    "        能够集成多个检索器的检索器。\n",
    "        它使用了排名融合。\n",
    "    It uses a rank fusion.\n",
    "\n",
    "    Args:\n",
    "        要集成的检索器列表\n",
    "        retrievers: A list of retrievers to ensemble.\n",
    "        weights: A list of weights corresponding to the retrievers. Defaults to equal\n",
    "            weighting for all retrievers.与检索器相对应的权重列表。默认情况下，所有检索器的权重相等\n",
    "        c: A constant added to the rank, controlling the balance between the importance\n",
    "            of high-ranked items and the consideration given to lower-ranked items.\n",
    "            Default is 60.加到排名上的一个常数，用于控制高排名项目的重要性与对低排名项目的考虑之间的平衡。默认值为 60 。\n",
    "    \"\"\"\n",
    "\n",
    "    retrievers: List[BaseRetriever]\n",
    "    weights: List[float]\n",
    "    c: int = 60\n",
    "\n",
    "    @root_validator(pre=True)\n",
    "    def set_weights(cls, values: Dict[str, Any]) -> Dict[str, Any]:\n",
    "        if not values.get(\"weights\"):\n",
    "            n_retrievers = len(values[\"retrievers\"])\n",
    "            values[\"weights\"] = [1 / n_retrievers] * n_retrievers\n",
    "        return values\n",
    "\n",
    "    def _get_relevant_documents(\n",
    "            self,\n",
    "            query: str,\n",
    "            *,\n",
    "            run_manager: CallbackManagerForRetrieverRun,\n",
    "    ) -> List[Document]:\n",
    "        \"\"\"\n",
    "        Get the relevant documents for a given query.\n",
    "\n",
    "        Args:\n",
    "            query: The query to search for.\n",
    "\n",
    "        Returns:\n",
    "            A list of reranked documents.\n",
    "        \"\"\"\n",
    "\n",
    "        # Get fused result of the retrievers.获取检索器的融合结果\n",
    "        fused_documents = self.rank_fusion(query, run_manager)\n",
    "\n",
    "        return fused_documents\n",
    "\n",
    "    async def _aget_relevant_documents(\n",
    "            self,\n",
    "            query: str,\n",
    "            *,\n",
    "            run_manager: AsyncCallbackManagerForRetrieverRun,\n",
    "    ) -> List[Document]:\n",
    "        \"\"\"\n",
    "        Asynchronously get the relevant documents for a given query.异步获取给定查询的相关文档\n",
    "\n",
    "        Args:\n",
    "            query: The query to search for.要搜索的查询\n",
    "\n",
    "        Returns:\n",
    "            A list of reranked documents.\n",
    "        \"\"\"\n",
    "\n",
    "        # Get fused result of the retrievers.\n",
    "        fused_documents = await self.arank_fusion(query, run_manager)\n",
    "\n",
    "        return fused_documents\n",
    "\n",
    "    def rank_fusion(\n",
    "            self, query: str, run_manager: CallbackManagerForRetrieverRun\n",
    "    ) -> List[Document]:\n",
    "        \"\"\"\n",
    "        Retrieve the results of the retrievers and use rank_fusion_func to get\n",
    "        the final result.\n",
    "\n",
    "        Args:\n",
    "            query: The query to search for.\n",
    "\n",
    "        Returns:\n",
    "            A list of reranked documents.\n",
    "        \"\"\"\n",
    "\n",
    "        # Get the results of all retrievers.\n",
    "        retriever_docs = [\n",
    "            retriever.get_relevant_documents(\n",
    "                query, callbacks=run_manager.get_child(tag=f\"retriever_{i + 1}\")\n",
    "            )\n",
    "            for i, retriever in enumerate(self.retrievers)\n",
    "        ]\n",
    "\n",
    "        # apply rank fusion\n",
    "        fused_documents = self.weighted_reciprocal_rank(retriever_docs)\n",
    "\n",
    "        return fused_documents\n",
    "\n",
    "    async def arank_fusion(\n",
    "            self, query: str, run_manager: AsyncCallbackManagerForRetrieverRun\n",
    "    ) -> List[Document]:\n",
    "        \"\"\"\n",
    "        Asynchronously retrieve the results of the retrievers\n",
    "        and use rank_fusion_func to get the final result.\n",
    "\n",
    "        Args:\n",
    "            query: The query to search for.\n",
    "\n",
    "        Returns:\n",
    "            A list of reranked documents.\n",
    "        \"\"\"\n",
    "\n",
    "        # Get the results of all retrievers.\n",
    "        retriever_docs = [\n",
    "            await retriever.aget_relevant_documents(\n",
    "                query, callbacks=run_manager.get_child(tag=f\"retriever_{i + 1}\")\n",
    "            )\n",
    "            for i, retriever in enumerate(self.retrievers)\n",
    "        ]\n",
    "\n",
    "        # apply rank fusion\n",
    "        fused_documents = self.weighted_reciprocal_rank(retriever_docs)\n",
    "\n",
    "        return fused_documents\n",
    "\n",
    "    def weighted_reciprocal_rank(\n",
    "            self, doc_lists: List[List[Document]]\n",
    "    ) -> List[Document]:\n",
    "        \"\"\"\n",
    "        Perform weighted Reciprocal Rank Fusion on multiple rank lists.\n",
    "        You can find more details about RRF here:对多个排名列表执行加权倒数排名融合\n",
    "        https://plg.uwaterloo.ca/~gvcormac/cormacksigir09-rrf.pdf\n",
    "\n",
    "        Args:\n",
    "            doc_lists: A list of rank lists, where each rank list contains unique items.\n",
    "\n",
    "        Returns:\n",
    "            list: The final aggregated list of items sorted by their weighted RRF\n",
    "                    scores in descending order.最终聚合的项目列表，按照其加权 RRF 分数降序排序。\n",
    "        \"\"\"\n",
    "        if len(doc_lists) != len(self.weights):\n",
    "            raise ValueError(\n",
    "                \"Number of rank lists must be equal to the number of weights.\"\n",
    "            )\n",
    "\n",
    "        # Create a union of all unique documents in the input doc_lists\n",
    "        all_documents = set()\n",
    "        for doc_list in doc_lists:\n",
    "            for doc in doc_list:\n",
    "                all_documents.add(doc.page_content)\n",
    "\n",
    "        # Initialize the RRF score dictionary for each document\n",
    "        rrf_score_dic = {doc: 0.0 for doc in all_documents}\n",
    "\n",
    "        # Calculate RRF scores for each document\n",
    "        for doc_list, weight in zip(doc_lists, self.weights):\n",
    "            for rank, doc in enumerate(doc_list, start=1):\n",
    "                rrf_score = weight * (1 / (rank + self.c))\n",
    "                rrf_score_dic[doc.page_content] += rrf_score\n",
    "\n",
    "        for key, value in rrf_score_dic.items():\n",
    "            print(f'Key: {key}, Value: {value}')\n",
    "\n",
    "        # Sort documents by their RRF scores in descending order\n",
    "        sorted_documents = sorted(\n",
    "            rrf_score_dic.keys(), key=lambda x: rrf_score_dic[x], reverse=True\n",
    "        )\n",
    "\n",
    "        # Map the sorted page_content back to the original document objects\n",
    "        page_content_to_doc_map = {\n",
    "            doc.page_content: doc for doc_list in doc_lists for doc in doc_list\n",
    "        }\n",
    "        sorted_docs = [\n",
    "            page_content_to_doc_map[page_content] for page_content in sorted_documents\n",
    "        ]\n",
    "\n",
    "        return sorted_docs"
   ],
   "metadata": {
    "collapsed": false,
    "ExecuteTime": {
     "end_time": "2024-06-24T06:35:58.697561Z",
     "start_time": "2024-06-24T06:35:58.646566Z"
    }
   },
   "id": "d5a569bfd9f651dc",
   "execution_count": 2
  },
  {
   "cell_type": "code",
   "outputs": [
    {
     "name": "stdout",
     "output_type": "stream",
     "text": [
      "8483c3ec7a0cbc54a8d660b5b9002b04\n",
      "Gcllof8ze6dgtcqFI5FQZ2SD_5tfCD4Db7NuS6jn\n"
     ]
    }
   ],
   "source": [
    "# CloudflareWorkersAI\n",
    "from dotenv import load_dotenv\n",
    "import os\n",
    "from langchain_community.llms.cloudflare_workersai import CloudflareWorkersAI\n",
    "\n",
    "# 加载当前目录下的.env文件\n",
    "# load_dotenv()\n",
    "# load_dotenv(override=True) 会重新读取.env\n",
    "load_dotenv(override=True)\n",
    "\n",
    "# 现在可以像访问普通环境变量一样访问.env文件中的变量了\n",
    "account_id = os.getenv('CF_ACCOUNT_ID')\n",
    "api_token = os.getenv('CF_API_TOKEN')\n",
    "\n",
    "print(account_id)\n",
    "print(api_token)\n",
    "\n",
    "import getpass\n",
    "\n",
    "model = '@cf/meta/llama-3-8b-instruct'\n",
    "cf_llm = CloudflareWorkersAI(account_id=account_id, api_token=api_token, model=model)\n",
    "\n",
    "# 最新的Embedding方式\n",
    "# cloudflare_workersai\n",
    "from langchain_community.embeddings.cloudflare_workersai import (\n",
    "    CloudflareWorkersAIEmbeddings,\n",
    ")\n",
    "\n",
    "# //维度是：384\n",
    "embeddings = CloudflareWorkersAIEmbeddings(\n",
    "    account_id=account_id,\n",
    "    api_token=api_token,\n",
    "    model_name=\"@cf/baai/bge-small-en-v1.5\",\n",
    ")"
   ],
   "metadata": {
    "collapsed": false,
    "ExecuteTime": {
     "end_time": "2024-06-24T06:36:01.617424Z",
     "start_time": "2024-06-24T06:36:01.595855Z"
    }
   },
   "id": "14185155d69ff484",
   "execution_count": 3
  },
  {
   "cell_type": "code",
   "outputs": [
    {
     "name": "stderr",
     "output_type": "stream",
     "text": [
      "/Users/pangmengting/venv/lib/python3.10/site-packages/langchain_core/_api/deprecation.py:139: LangChainDeprecationWarning: The method `BaseRetriever.get_relevant_documents` was deprecated in langchain-core 0.1.46 and will be removed in 0.3.0. Use invoke instead.\n",
      "  warn_deprecated(\n"
     ]
    },
    {
     "name": "stdout",
     "output_type": "stream",
     "text": [
      "[Document(page_content='Apples and oranges are fruits'), Document(page_content='I like oranges')]\n",
      "[Document(page_content='I like apples'), Document(page_content='Apples and oranges are fruits')]\n"
     ]
    }
   ],
   "source": [
    "doc_list = [\n",
    "    \"I like apples\",\n",
    "    \"I like oranges\",\n",
    "    \"Apples and oranges are fruits\"\n",
    "]\n",
    "\n",
    "# initialize the bm25 retriever and Chromadb retriever \n",
    "# BM25（维基百科）也被称为 Okapi BM25，是信息检索系统中用于估计文档与给定搜索查询的相关性的一个排名函数。\n",
    "bm25_retriever = BM25Retriever.from_texts(doc_list)\n",
    "bm25_retriever.k = 2\n",
    "\n",
    "docs = bm25_retriever.get_relevant_documents('apple')\n",
    "print(docs)\n",
    "\n",
    "vectorstore = Chroma.from_texts(doc_list, embeddings, collection_name=\"tutorial_2023\")\n",
    "vs_retriever = vectorstore.as_retriever(search_kwargs={\"k\": 2})\n",
    "\n",
    "vs_docs = vs_retriever.get_relevant_documents('apple')\n",
    "print(vs_docs)\n",
    "\n",
    "# initialize the ensemble retriever 初始化集成检索器\n",
    "ensemble_retriever = EnsembleRetriever(retrievers=[bm25_retriever, vs_retriever], weights=[0.5, 0.5])"
   ],
   "metadata": {
    "collapsed": false,
    "ExecuteTime": {
     "end_time": "2024-06-24T06:36:49.592848Z",
     "start_time": "2024-06-24T06:36:47.166451Z"
    }
   },
   "id": "db7775b868360a10",
   "execution_count": 6
  },
  {
   "cell_type": "code",
   "outputs": [
    {
     "name": "stdout",
     "output_type": "stream",
     "text": [
      "Key: I like oranges, Value: 0.008064516129032258\n",
      "Key: I like apples, Value: 0.00819672131147541\n",
      "Key: Apples and oranges are fruits, Value: 0.01626123744050767\n"
     ]
    },
    {
     "data": {
      "text/plain": "[Document(page_content='Apples and oranges are fruits'),\n Document(page_content='I like apples'),\n Document(page_content='I like oranges')]"
     },
     "execution_count": 7,
     "metadata": {},
     "output_type": "execute_result"
    }
   ],
   "source": [
    "# 集成检索器(多个检索器合在一起)\n",
    "docs = ensemble_retriever.get_relevant_documents(\"apple\")\n",
    "docs"
   ],
   "metadata": {
    "collapsed": false,
    "ExecuteTime": {
     "end_time": "2024-06-24T06:37:07.816707Z",
     "start_time": "2024-06-24T06:37:06.662447Z"
    }
   },
   "id": "8ca9267ae970fe4a",
   "execution_count": 7
  },
  {
   "cell_type": "code",
   "outputs": [],
   "source": [],
   "metadata": {
    "collapsed": false
   },
   "id": "3464fac25ad51127"
  }
 ],
 "metadata": {
  "kernelspec": {
   "display_name": "Python 3",
   "language": "python",
   "name": "python3"
  },
  "language_info": {
   "codemirror_mode": {
    "name": "ipython",
    "version": 2
   },
   "file_extension": ".py",
   "mimetype": "text/x-python",
   "name": "python",
   "nbconvert_exporter": "python",
   "pygments_lexer": "ipython2",
   "version": "2.7.6"
  }
 },
 "nbformat": 4,
 "nbformat_minor": 5
}
