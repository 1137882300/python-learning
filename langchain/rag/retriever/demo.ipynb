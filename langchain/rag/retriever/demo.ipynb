{
 "cells": [
  {
   "cell_type": "code",
   "execution_count": 38,
   "id": "initial_id",
   "metadata": {
    "collapsed": true,
    "ExecuteTime": {
     "end_time": "2024-06-02T02:02:11.346169Z",
     "start_time": "2024-06-02T02:02:11.276844Z"
    }
   },
   "outputs": [
    {
     "name": "stdout",
     "output_type": "stream",
     "text": [
      "sk-UGVpjuTwo2Q8pewoqUDfckw1A0pbSDli9ElFMeS9WareKknG\n",
      "https://api.moonshot.cn/v1/\n"
     ]
    }
   ],
   "source": [
    "from dotenv import load_dotenv\n",
    "import os\n",
    "from langchain_openai import ChatOpenAI\n",
    "\n",
    "# 加载当前目录下的.env文件\n",
    "# load_dotenv()\n",
    "# load_dotenv(override=True) 会重新读取.env\n",
    "load_dotenv(override=True)\n",
    "\n",
    "# 现在可以像访问普通环境变量一样访问.env文件中的变量了\n",
    "api_key = os.getenv('OPENAI_API_KEY')\n",
    "base_url = os.getenv('OPENAI_API_BASE')\n",
    "\n",
    "print(api_key)\n",
    "print(base_url)\n",
    "\n",
    "chat = ChatOpenAI(\n",
    "    openai_api_base=base_url,\n",
    "    openai_api_key=api_key,\n",
    "    model_name=\"moonshot-v1-8k\",\n",
    "    temperature=0.7,\n",
    ")"
   ]
  },
  {
   "cell_type": "code",
   "outputs": [],
   "source": [
    "from langchain.embeddings import SentenceTransformerEmbeddings\n",
    "\n",
    "embeddings_model = SentenceTransformerEmbeddings(model_name=\"all-MiniLM-L6-v2\")"
   ],
   "metadata": {
    "collapsed": false,
    "ExecuteTime": {
     "end_time": "2024-06-02T01:35:04.788212Z",
     "start_time": "2024-06-02T01:35:04.606421Z"
    }
   },
   "id": "a152da0b6d5666bf",
   "execution_count": 23
  },
  {
   "cell_type": "code",
   "outputs": [
    {
     "name": "stdout",
     "output_type": "stream",
     "text": [
      "[Document(page_content='在乌云蔽日的艾尔兰村，住着一个名叫赛琳的年轻女子，她的双眸如秋水般明亮，心灵手巧，是村里的陶艺大师。艾尔兰村因陶罐闻名，而她的陶罐总是被人们以高价抢购。\\n\\n赛琳的父母早年丧生，她的生活贫穷但并不匮乏。在村长艾文的资助下，她得以完成陶艺学校的学业。艾文是一位孤独的老人，他的智慧和慈爱如同阳光照亮了赛琳的心。\\n\\n在艾文的引导下，赛琳开始尝试创作新的陶器设计，摒弃了往日的单一造型，融入了自然元素和特有的村庄故事。她的作品中，村后那座千年古树的坚韧，村口小溪的流水声都能被捕捉下来，仿佛故事活在每一件陶器里。\\n\\n一次，远方的贸易商弗兰克来到艾尔兰村，被赛琳的作品深深吸引。他提议将它们带到遥远的波西米亚王国去，那里的人们对艺术品有着极致的追求。这个提议对赛琳来说是巨大的机遇，也是挑战。\\n\\n在艾文的支持和鼓励下，赛琳踏上了通往波西米亚的路。船上，她沉浸于自己创作的故事中，陶罐在她的脑海中逐一成型，充满了无限可能。\\n\\n到达波西米亚，她的作品立即引起了轰动。那些贵族们追求的不仅仅是美观，更是内心对艺术、对古老文化的热爱。赛琳的作品，就像一股清流，冲散了他们的浮华，让他们感受到艾尔兰村的质朴。\\n\\n弗兰克看到赛琳的成功，也感受到了她的才华。他决定在波西米亚为赛琳设立工作室，让她让更多的人看到她作品背后的情感和故事。赛琳接受了这个提议，但她并未忘记艾尔兰村和艾文的恩情。\\n\\n在此后的日子里，赛琳的作品不仅在波西米亚王国受到了认可，还回到了她的家乡，成为艾尔兰村的一道绮丽风景。她的名字传遍了四海，但她始终记得，自己的根在这片古老的陶土上。\\n\\n在艾尔兰村的那座古树下，赛琳的愿望像古树一样深深扎根。她用手中的泥土，讲述着生活的坚韧，讲述着她与这个世界的联结。而她的故事，就像那些被带到远方的陶器，永远带着\\n\\nThe Last Leaf\\n\\nThe old town was shrouded in a thick layer of fog, as if the mist itself was trying to keep the secrets of the past hidden. The streets were quiet, the only sound being the soft dripping of rain from the umbrellas hat-wearing pedestrians were hastily carrying to avoid the downpour. Amidst the somber atmosphere, a small, struggling bookstore, \"The Last Page\", seemed to be folding in on itself.\\n\\nClement, the bookstore\\'s proprietor, stood at the door, gazing out at the grayness. He had inherited the shop from his grandfather, a renowned literary critic, and had always dreamed of carrying on the family legacy. But with the rise of digital media and chain stores, the once- thriving bookshop was now on the verge of bankruptcy.\\n\\nJust then, a young woman, Rachel, burst into the store, water dripping from her bright yellow jacket. She frantically scanned the shelves, her eyes scanning the spines of the books. \"I need a book,\" she said breathlessly. \"I need a specific book. Have you seen it?\"\\n\\nClement, taken aback, nodded, and led Rachel to the rare book section in the back of the store. As they searched, the rain outside grew heavier, the sound like a thousand tiny drums beating against the windows.\\n\\nRachel was a writer, struggling to find her next published work. She had heard stories about a rare edition of Edgar Allan Poe\\'s \"The Raven\" that was said to be hidden in a small town library. Legend had it that this edition held the power to inspire and transform the writer who possessed it.\\n\\nAs the rain pounded on, Clement and Rachel finally found the book, nestled between two worn copies of Shakespeare\\'s sonnets. Rachel\\'s eyes lit up as she ran her fingers over the yellowed pages. \"This is it,\" she whispered.\\n\\nBut as they prepared to leave, a sudden gust of wind swept through the store, extinguishing the lights, plunging them into darkness. Clement rushed to relight them, only to find that they wouldn\\'t stay on.\\n\\nRachel, undeterred, held the book close, as if it were a talisman against the chaos outside. \"We can\\'t leave,\" she said, her voice steady. \"We have to wait out the storm.\"\\n\\nClement, hesitating, was drawn into Rachel\\'s gaze. Something in her eyes sparkled, like the half-remembered promise of a forgotten dream', metadata={'source': '../file/最后一个问题.txt'})]\n"
     ]
    }
   ],
   "source": [
    "from langchain_community.document_loaders import TextLoader\n",
    "\n",
    "file_path = '../file/最后一个问题.txt'\n",
    "# loader = TextLoader(\"/Users/pangmengting/Documents/workspace/python-learning/langchain/file/最后一个问题.txt\", encoding='UTF-8')\n",
    "loader = TextLoader(file_path, encoding='UTF-8')\n",
    "data = loader.load()\n",
    "print(data)\n",
    "\n",
    "# from langchain_community.document_loaders.csv_loader import CSVLoader\n",
    "# loader = CSVLoader(file_path='./mlb_teams_2012.csv')"
   ],
   "metadata": {
    "collapsed": false,
    "ExecuteTime": {
     "end_time": "2024-06-02T01:28:55.686257Z",
     "start_time": "2024-06-02T01:28:55.679399Z"
    }
   },
   "id": "742e8b865d8fa37a",
   "execution_count": 11
  },
  {
   "cell_type": "code",
   "outputs": [],
   "source": [
    "with open(file_path, encoding='UTF-8') as f:\n",
    "    # 读到的文件内容存在变量\n",
    "    last_question = f.read()"
   ],
   "metadata": {
    "collapsed": false,
    "ExecuteTime": {
     "end_time": "2024-06-02T01:29:59.888323Z",
     "start_time": "2024-06-02T01:29:59.880917Z"
    }
   },
   "id": "88d8902e94cf700c",
   "execution_count": 12
  },
  {
   "cell_type": "code",
   "outputs": [],
   "source": [
    "from langchain_text_splitters import CharacterTextSplitter\n",
    "\n",
    "# 定义分割器\n",
    "text_splitter = CharacterTextSplitter(\n",
    "    separator=\"\\n\\n\",\n",
    "    chunk_size=450,\n",
    "    chunk_overlap=100,\n",
    "    length_function=len,\n",
    "    is_separator_regex=False,\n",
    ")"
   ],
   "metadata": {
    "collapsed": false,
    "ExecuteTime": {
     "end_time": "2024-06-02T01:30:16.924891Z",
     "start_time": "2024-06-02T01:30:16.915681Z"
    }
   },
   "id": "974325d173b49266",
   "execution_count": 13
  },
  {
   "cell_type": "code",
   "outputs": [
    {
     "name": "stdout",
     "output_type": "stream",
     "text": [
      "page_content='在乌云蔽日的艾尔兰村，住着一个名叫赛琳的年轻女子，她的双眸如秋水般明亮，心灵手巧，是村里的陶艺大师。艾尔兰村因陶罐闻名，而她的陶罐总是被人们以高价抢购。\\n\\n赛琳的父母早年丧生，她的生活贫穷但并不匮乏。在村长艾文的资助下，她得以完成陶艺学校的学业。艾文是一位孤独的老人，他的智慧和慈爱如同阳光照亮了赛琳的心。\\n\\n在艾文的引导下，赛琳开始尝试创作新的陶器设计，摒弃了往日的单一造型，融入了自然元素和特有的村庄故事。她的作品中，村后那座千年古树的坚韧，村口小溪的流水声都能被捕捉下来，仿佛故事活在每一件陶器里。\\n\\n一次，远方的贸易商弗兰克来到艾尔兰村，被赛琳的作品深深吸引。他提议将它们带到遥远的波西米亚王国去，那里的人们对艺术品有着极致的追求。这个提议对赛琳来说是巨大的机遇，也是挑战。\\n\\n在艾文的支持和鼓励下，赛琳踏上了通往波西米亚的路。船上，她沉浸于自己创作的故事中，陶罐在她的脑海中逐一成型，充满了无限可能。'\n"
     ]
    }
   ],
   "source": [
    "texts = text_splitter.create_documents([last_question])\n",
    "print(texts[0])"
   ],
   "metadata": {
    "collapsed": false,
    "ExecuteTime": {
     "end_time": "2024-06-02T01:30:28.795989Z",
     "start_time": "2024-06-02T01:30:28.789174Z"
    }
   },
   "id": "f25e1dae3410cbba",
   "execution_count": 14
  },
  {
   "cell_type": "code",
   "outputs": [
    {
     "name": "stdout",
     "output_type": "stream",
     "text": [
      "9\n"
     ]
    }
   ],
   "source": [
    "print(len(texts))"
   ],
   "metadata": {
    "collapsed": false,
    "ExecuteTime": {
     "end_time": "2024-06-02T01:31:57.958225Z",
     "start_time": "2024-06-02T01:31:57.950385Z"
    }
   },
   "id": "38d0dbb2d7b082d7",
   "execution_count": 15
  },
  {
   "cell_type": "code",
   "outputs": [],
   "source": [
    "# from langchain_openai import OpenAIEmbeddings\n",
    "# \n",
    "# embeddings_model = OpenAIEmbeddings()"
   ],
   "metadata": {
    "collapsed": false
   },
   "id": "91a9865c2340baf3"
  },
  {
   "cell_type": "code",
   "outputs": [
    {
     "data": {
      "text/plain": "(5, 384)"
     },
     "execution_count": 22,
     "metadata": {},
     "output_type": "execute_result"
    }
   ],
   "source": [
    "# 向量化demo\n",
    "embeddings = embeddings_model.embed_documents(\n",
    "    [\n",
    "        \"Hi there!\",\n",
    "        \"Oh, hello!\",\n",
    "        \"What's your name?\",\n",
    "        \"My friends call me World\",\n",
    "        \"Hello World!\"\n",
    "    ]\n",
    ")\n",
    "len(embeddings), len(embeddings[0])"
   ],
   "metadata": {
    "collapsed": false,
    "ExecuteTime": {
     "end_time": "2024-06-02T01:34:35.080812Z",
     "start_time": "2024-06-02T01:34:35.026041Z"
    }
   },
   "id": "8ad363c2bcee942b",
   "execution_count": 22
  },
  {
   "cell_type": "code",
   "outputs": [
    {
     "name": "stdout",
     "output_type": "stream",
     "text": [
      "<class 'list'>\n",
      "['在乌云蔽日的艾尔兰村，住着一个名叫赛琳的年轻女子，她的双眸如秋水般明亮，心灵手巧，是村里的陶艺大师。艾尔兰村因陶罐闻名，而她的陶罐总是被人们以高价抢购。\\n\\n赛琳的父母早年丧生，她的生活贫穷但并不匮乏。在村长艾文的资助下，她得以完成陶艺学校的学业。艾文是一位孤独的老人，他的智慧和慈爱如同阳光照亮了赛琳的心。\\n\\n在艾文的引导下，赛琳开始尝试创作新的陶器设计，摒弃了往日的单一造型，融入了自然元素和特有的村庄故事。她的作品中，村后那座千年古树的坚韧，村口小溪的流水声都能被捕捉下来，仿佛故事活在每一件陶器里。\\n\\n一次，远方的贸易商弗兰克来到艾尔兰村，被赛琳的作品深深吸引。他提议将它们带到遥远的波西米亚王国去，那里的人们对艺术品有着极致的追求。这个提议对赛琳来说是巨大的机遇，也是挑战。\\n\\n在艾文的支持和鼓励下，赛琳踏上了通往波西米亚的路。船上，她沉浸于自己创作的故事中，陶罐在她的脑海中逐一成型，充满了无限可能。', '在艾文的支持和鼓励下，赛琳踏上了通往波西米亚的路。船上，她沉浸于自己创作的故事中，陶罐在她的脑海中逐一成型，充满了无限可能。\\n\\n到达波西米亚，她的作品立即引起了轰动。那些贵族们追求的不仅仅是美观，更是内心对艺术、对古老文化的热爱。赛琳的作品，就像一股清流，冲散了他们的浮华，让他们感受到艾尔兰村的质朴。\\n\\n弗兰克看到赛琳的成功，也感受到了她的才华。他决定在波西米亚为赛琳设立工作室，让她让更多的人看到她作品背后的情感和故事。赛琳接受了这个提议，但她并未忘记艾尔兰村和艾文的恩情。\\n\\n在此后的日子里，赛琳的作品不仅在波西米亚王国受到了认可，还回到了她的家乡，成为艾尔兰村的一道绮丽风景。她的名字传遍了四海，但她始终记得，自己的根在这片古老的陶土上。\\n\\n在艾尔兰村的那座古树下，赛琳的愿望像古树一样深深扎根。她用手中的泥土，讲述着生活的坚韧，讲述着她与这个世界的联结。而她的故事，就像那些被带到远方的陶器，永远带着\\n\\nThe Last Leaf', 'The Last Leaf\\n\\nThe old town was shrouded in a thick layer of fog, as if the mist itself was trying to keep the secrets of the past hidden. The streets were quiet, the only sound being the soft dripping of rain from the umbrellas hat-wearing pedestrians were hastily carrying to avoid the downpour. Amidst the somber atmosphere, a small, struggling bookstore, \"The Last Page\", seemed to be folding in on itself.', \"Clement, the bookstore's proprietor, stood at the door, gazing out at the grayness. He had inherited the shop from his grandfather, a renowned literary critic, and had always dreamed of carrying on the family legacy. But with the rise of digital media and chain stores, the once- thriving bookshop was now on the verge of bankruptcy.\", 'Just then, a young woman, Rachel, burst into the store, water dripping from her bright yellow jacket. She frantically scanned the shelves, her eyes scanning the spines of the books. \"I need a book,\" she said breathlessly. \"I need a specific book. Have you seen it?\"', 'Clement, taken aback, nodded, and led Rachel to the rare book section in the back of the store. As they searched, the rain outside grew heavier, the sound like a thousand tiny drums beating against the windows.', 'Rachel was a writer, struggling to find her next published work. She had heard stories about a rare edition of Edgar Allan Poe\\'s \"The Raven\" that was said to be hidden in a small town library. Legend had it that this edition held the power to inspire and transform the writer who possessed it.', 'As the rain pounded on, Clement and Rachel finally found the book, nestled between two worn copies of Shakespeare\\'s sonnets. Rachel\\'s eyes lit up as she ran her fingers over the yellowed pages. \"This is it,\" she whispered.\\n\\nBut as they prepared to leave, a sudden gust of wind swept through the store, extinguishing the lights, plunging them into darkness. Clement rushed to relight them, only to find that they wouldn\\'t stay on.', 'Rachel, undeterred, held the book close, as if it were a talisman against the chaos outside. \"We can\\'t leave,\" she said, her voice steady. \"We have to wait out the storm.\"\\n\\nClement, hesitating, was drawn into Rachel\\'s gaze. Something in her eyes sparkled, like the half-remembered promise of a forgotten dream']\n"
     ]
    },
    {
     "data": {
      "text/plain": "(9, 384)"
     },
     "execution_count": 24,
     "metadata": {},
     "output_type": "execute_result"
    }
   ],
   "source": [
    "#类型转换，转成embed_documents接收的参数类型\n",
    "texts_new = []\n",
    "for text in texts:\n",
    "    texts_new.append(text.page_content)\n",
    "\n",
    "print(type(texts_new))\n",
    "print(texts_new)\n",
    "\n",
    "# 向量化方式1:embed_documents\n",
    "# 向量化texts\n",
    "embeddings_new = embeddings_model.embed_documents(\n",
    "    texts_new\n",
    ")\n",
    "len(embeddings_new), len(embeddings_new[0])"
   ],
   "metadata": {
    "collapsed": false,
    "ExecuteTime": {
     "end_time": "2024-06-02T01:35:23.520732Z",
     "start_time": "2024-06-02T01:35:23.237773Z"
    }
   },
   "id": "8be2a6282a236032",
   "execution_count": 24
  },
  {
   "cell_type": "code",
   "outputs": [
    {
     "data": {
      "text/plain": "[-0.026305489242076874,\n 0.0641811341047287,\n 0.04242672026157379,\n 0.03348087891936302,\n 0.005656563211232424]"
     },
     "execution_count": 26,
     "metadata": {},
     "output_type": "execute_result"
    }
   ],
   "source": [
    "# 向量化\n",
    "# 向量化方式2:embed_query\n",
    "embedded_query = embeddings_model.embed_query(\"艾文是谁?\")\n",
    "# 前五个\n",
    "embedded_query[:5]"
   ],
   "metadata": {
    "collapsed": false,
    "ExecuteTime": {
     "end_time": "2024-06-02T01:36:28.724774Z",
     "start_time": "2024-06-02T01:36:28.704854Z"
    }
   },
   "id": "e2ba98e9a50f3ec",
   "execution_count": 26
  },
  {
   "cell_type": "code",
   "outputs": [],
   "source": [
    "#pip install chromadb\n",
    "\n",
    "from langchain_community.vectorstores import Chroma"
   ],
   "metadata": {
    "collapsed": false,
    "ExecuteTime": {
     "end_time": "2024-06-02T01:37:15.440656Z",
     "start_time": "2024-06-02T01:37:15.427940Z"
    }
   },
   "id": "73c01ad440086666",
   "execution_count": 27
  },
  {
   "cell_type": "code",
   "outputs": [
    {
     "name": "stdout",
     "output_type": "stream",
     "text": [
      "在艾文的支持和鼓励下，赛琳踏上了通往波西米亚的路。船上，她沉浸于自己创作的故事中，陶罐在她的脑海中逐一成型，充满了无限可能。\n",
      "\n",
      "到达波西米亚，她的作品立即引起了轰动。那些贵族们追求的不仅仅是美观，更是内心对艺术、对古老文化的热爱。赛琳的作品，就像一股清流，冲散了他们的浮华，让他们感受到艾尔兰村的质朴。\n",
      "\n",
      "弗兰克看到赛琳的成功，也感受到了她的才华。他决定在波西米亚为赛琳设立工作室，让她让更多的人看到她作品背后的情感和故事。赛琳接受了这个提议，但她并未忘记艾尔兰村和艾文的恩情。\n",
      "\n",
      "在此后的日子里，赛琳的作品不仅在波西米亚王国受到了认可，还回到了她的家乡，成为艾尔兰村的一道绮丽风景。她的名字传遍了四海，但她始终记得，自己的根在这片古老的陶土上。\n",
      "\n",
      "在艾尔兰村的那座古树下，赛琳的愿望像古树一样深深扎根。她用手中的泥土，讲述着生活的坚韧，讲述着她与这个世界的联结。而她的故事，就像那些被带到远方的陶器，永远带着\n",
      "\n",
      "The Last Leaf\n"
     ]
    }
   ],
   "source": [
    "# 保存到本地向量数据库里\n",
    "db = Chroma.from_documents(texts, embeddings_model)\n",
    "query = \"赛琳的父母\"\n",
    "# 相关性的查询\n",
    "docs = db.similarity_search(query)\n",
    "print(docs[0].page_content)"
   ],
   "metadata": {
    "collapsed": false,
    "ExecuteTime": {
     "end_time": "2024-06-02T01:37:27.989415Z",
     "start_time": "2024-06-02T01:37:27.493772Z"
    }
   },
   "id": "ff013a8f1af21a89",
   "execution_count": 28
  },
  {
   "cell_type": "code",
   "outputs": [
    {
     "name": "stdout",
     "output_type": "stream",
     "text": [
      "在乌云蔽日的艾尔兰村，住着一个名叫赛琳的年轻女子，她的双眸如秋水般明亮，心灵手巧，是村里的陶艺大师。艾尔兰村因陶罐闻名，而她的陶罐总是被人们以高价抢购。\n",
      "\n",
      "赛琳的父母早年丧生，她的生活贫穷但并不匮乏。在村长艾文的资助下，她得以完成陶艺学校的学业。艾文是一位孤独的老人，他的智慧和慈爱如同阳光照亮了赛琳的心。\n",
      "\n",
      "在艾文的引导下，赛琳开始尝试创作新的陶器设计，摒弃了往日的单一造型，融入了自然元素和特有的村庄故事。她的作品中，村后那座千年古树的坚韧，村口小溪的流水声都能被捕捉下来，仿佛故事活在每一件陶器里。\n",
      "\n",
      "一次，远方的贸易商弗兰克来到艾尔兰村，被赛琳的作品深深吸引。他提议将它们带到遥远的波西米亚王国去，那里的人们对艺术品有着极致的追求。这个提议对赛琳来说是巨大的机遇，也是挑战。\n",
      "\n",
      "在艾文的支持和鼓励下，赛琳踏上了通往波西米亚的路。船上，她沉浸于自己创作的故事中，陶罐在她的脑海中逐一成型，充满了无限可能。\n"
     ]
    }
   ],
   "source": [
    "# Vector store-backed retriever\n",
    "retriever = db.as_retriever()\n",
    "docs = retriever.get_relevant_documents(\"于是就有了光\")\n",
    "print(docs[0].page_content)"
   ],
   "metadata": {
    "collapsed": false,
    "ExecuteTime": {
     "end_time": "2024-06-02T01:52:07.108853Z",
     "start_time": "2024-06-02T01:52:07.083017Z"
    }
   },
   "id": "df99ba0a65c901d2",
   "execution_count": 30
  },
  {
   "cell_type": "code",
   "outputs": [
    {
     "name": "stderr",
     "output_type": "stream",
     "text": [
      "Number of requested results 20 is greater than number of elements in index 9, updating n_results = 9\n"
     ]
    },
    {
     "name": "stdout",
     "output_type": "stream",
     "text": [
      "在乌云蔽日的艾尔兰村，住着一个名叫赛琳的年轻女子，她的双眸如秋水般明亮，心灵手巧，是村里的陶艺大师。艾尔兰村因陶罐闻名，而她的陶罐总是被人们以高价抢购。\n",
      "\n",
      "赛琳的父母早年丧生，她的生活贫穷但并不匮乏。在村长艾文的资助下，她得以完成陶艺学校的学业。艾文是一位孤独的老人，他的智慧和慈爱如同阳光照亮了赛琳的心。\n",
      "\n",
      "在艾文的引导下，赛琳开始尝试创作新的陶器设计，摒弃了往日的单一造型，融入了自然元素和特有的村庄故事。她的作品中，村后那座千年古树的坚韧，村口小溪的流水声都能被捕捉下来，仿佛故事活在每一件陶器里。\n",
      "\n",
      "一次，远方的贸易商弗兰克来到艾尔兰村，被赛琳的作品深深吸引。他提议将它们带到遥远的波西米亚王国去，那里的人们对艺术品有着极致的追求。这个提议对赛琳来说是巨大的机遇，也是挑战。\n",
      "\n",
      "在艾文的支持和鼓励下，赛琳踏上了通往波西米亚的路。船上，她沉浸于自己创作的故事中，陶罐在她的脑海中逐一成型，充满了无限可能。\n"
     ]
    }
   ],
   "source": [
    "retriever = db.as_retriever(search_type=\"mmr\")\n",
    "docs = retriever.get_relevant_documents(\"于是就有了光\")\n",
    "print(docs[0].page_content)"
   ],
   "metadata": {
    "collapsed": false,
    "ExecuteTime": {
     "end_time": "2024-06-02T01:54:27.299779Z",
     "start_time": "2024-06-02T01:54:27.270249Z"
    }
   },
   "id": "4a8e5cd638cfcf56",
   "execution_count": 33
  },
  {
   "cell_type": "code",
   "outputs": [
    {
     "name": "stdout",
     "output_type": "stream",
     "text": [
      "61\n"
     ]
    }
   ],
   "source": [
    "from langchain_community.document_loaders import WebBaseLoader\n",
    "from langchain_text_splitters import RecursiveCharacterTextSplitter\n",
    "\n",
    "loader = WebBaseLoader(\n",
    "    \"https://blog.google/technology/ai/google-gemini-next-generation-model-february-2024/?utm_source=yt&utm_medium=social&utm_campaign=gemini24#build-experiment\")\n",
    "data2 = loader.load()\n",
    "\n",
    "text_splitter2 = RecursiveCharacterTextSplitter(chunk_size=500, chunk_overlap=0)\n",
    "splits = text_splitter2.split_documents(data2)\n",
    "print(len(splits))"
   ],
   "metadata": {
    "collapsed": false,
    "ExecuteTime": {
     "end_time": "2024-06-02T01:54:31.453326Z",
     "start_time": "2024-06-02T01:54:29.598529Z"
    }
   },
   "id": "2a9e995e100f87c1",
   "execution_count": 34
  },
  {
   "cell_type": "code",
   "outputs": [],
   "source": [
    "# 向量化，并存到本地向量数据库里\n",
    "vectordb = Chroma.from_documents(documents=splits, embedding=embeddings_model)"
   ],
   "metadata": {
    "collapsed": false,
    "ExecuteTime": {
     "end_time": "2024-06-02T02:02:05.361208Z",
     "start_time": "2024-06-02T02:02:04.896040Z"
    }
   },
   "id": "3c90eaf8b49bd293",
   "execution_count": 36
  },
  {
   "cell_type": "code",
   "outputs": [],
   "source": [
    "from langchain.retrievers.multi_query import MultiQueryRetriever\n",
    "from langchain_openai import ChatOpenAI\n",
    "\n",
    "# 相似性查询，单纯的去计算两个向量的距离，在有些时候在语意上有些不正确，所以MultiQueryRetriever就是解决这个问题的\n",
    "# MultiQueryRetriever 更高级的，它可以使用大模型从不同角度为给用户的输入查询生成多个不同纬度的查询，对于每个查询都会检索一组相关性文档，\n",
    "# 再把这些文档做个并集，使得结果更加准确\n",
    "\n",
    "question = \"does gemini can perform understanding and reasoning tasks for different modalities\"\n",
    "# llm = ChatOpenAI(temperature=0)\n",
    "retriever_from_llm = MultiQueryRetriever.from_llm(\n",
    "    retriever=vectordb.as_retriever(), llm=chat\n",
    ")"
   ],
   "metadata": {
    "collapsed": false,
    "ExecuteTime": {
     "end_time": "2024-06-02T02:02:16.855560Z",
     "start_time": "2024-06-02T02:02:16.851622Z"
    }
   },
   "id": "462bdb1c9bb4d61",
   "execution_count": 40
  },
  {
   "cell_type": "code",
   "outputs": [],
   "source": [
    "import logging\n",
    "\n",
    "# 打印内部生成的日志信息\n",
    "logging.basicConfig()\n",
    "logging.getLogger(\"langchain.retrievers.multi_query\").setLevel(logging.INFO)"
   ],
   "metadata": {
    "collapsed": false,
    "ExecuteTime": {
     "end_time": "2024-06-02T02:03:09.511912Z",
     "start_time": "2024-06-02T02:03:09.504948Z"
    }
   },
   "id": "d36181c0febc8cd7",
   "execution_count": 41
  },
  {
   "cell_type": "code",
   "outputs": [
    {
     "name": "stderr",
     "output_type": "stream",
     "text": [
      "INFO:langchain.retrievers.multi_query:Generated queries: ['1. Can Gemini handle multimodal understanding and reasoning?', '2. Is Gemini capable of processing and making inferences across various types of data?', \"3. What is Gemini's ability to interpret and reason about different modalities?\"]\n"
     ]
    },
    {
     "data": {
      "text/plain": "8"
     },
     "execution_count": 43,
     "metadata": {},
     "output_type": "execute_result"
    }
   ],
   "source": [
    "unique_docs = retriever_from_llm.get_relevant_documents(query=question)\n",
    "len(unique_docs)"
   ],
   "metadata": {
    "collapsed": false,
    "ExecuteTime": {
     "end_time": "2024-06-02T02:05:31.164265Z",
     "start_time": "2024-06-02T02:05:28.428091Z"
    }
   },
   "id": "ec97c379dc4b112b",
   "execution_count": 43
  },
  {
   "cell_type": "code",
   "outputs": [
    {
     "name": "stdout",
     "output_type": "stream",
     "text": [
      "page_content='building upon research and engineering innovations across nearly every part of our foundation model development and infrastructure. This includes making Gemini 1.5 more efficient to train and serve, with a new Mixture-of-Experts (MoE) architecture.The first Gemini 1.5 model we’re releasing for early testing is Gemini 1.5 Pro. It’s a mid-size multimodal model, optimized for scaling across a wide-range of tasks, and performs at a similar level to 1.0 Ultra, our largest model to date. It also' metadata={'description': 'Gemini 1.5 delivers dramatically enhanced performance, with a breakthrough in long-context understanding across modalities.', 'language': 'en-us', 'source': 'https://blog.google/technology/ai/google-gemini-next-generation-model-february-2024/?utm_source=yt&utm_medium=social&utm_campaign=gemini24#build-experiment', 'title': \"Introducing Gemini 1.5, Google's next-generation AI model\"}\n"
     ]
    }
   ],
   "source": [
    "print(unique_docs[1])"
   ],
   "metadata": {
    "collapsed": false,
    "ExecuteTime": {
     "end_time": "2024-06-02T02:06:10.608071Z",
     "start_time": "2024-06-02T02:06:10.600140Z"
    }
   },
   "id": "13341a571997e242",
   "execution_count": 44
  },
  {
   "cell_type": "code",
   "outputs": [],
   "source": [],
   "metadata": {
    "collapsed": false
   },
   "id": "fcfa9055e1d885fc"
  }
 ],
 "metadata": {
  "kernelspec": {
   "display_name": "Python 3",
   "language": "python",
   "name": "python3"
  },
  "language_info": {
   "codemirror_mode": {
    "name": "ipython",
    "version": 2
   },
   "file_extension": ".py",
   "mimetype": "text/x-python",
   "name": "python",
   "nbconvert_exporter": "python",
   "pygments_lexer": "ipython2",
   "version": "2.7.6"
  }
 },
 "nbformat": 4,
 "nbformat_minor": 5
}
