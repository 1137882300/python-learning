{
 "cells": [
  {
   "cell_type": "code",
   "execution_count": 1,
   "id": "initial_id",
   "metadata": {
    "collapsed": true,
    "ExecuteTime": {
     "end_time": "2024-07-17T10:08:53.865375Z",
     "start_time": "2024-07-17T10:08:53.198922Z"
    }
   },
   "outputs": [],
   "source": [
    "# 基本配置\n",
    "from langchain_openai import ChatOpenAI\n",
    "import os\n",
    "from dotenv import load_dotenv\n",
    "from langchain_community.embeddings import DashScopeEmbeddings\n",
    "\n",
    "load_dotenv(override=True)\n",
    "\n",
    "qw_llm_openai = ChatOpenAI(\n",
    "    openai_api_base=os.getenv('DASHSCOPE_API_BASE'),\n",
    "    openai_api_key=os.getenv('DASHSCOPE_API_KEY'),\n",
    "    model_name=\"qwen-plus\",\n",
    "    temperature=0,\n",
    "    streaming=True,\n",
    ")\n",
    "\n",
    "qw_embedding = DashScopeEmbeddings(\n",
    "    model=\"text-embedding-v2\", dashscope_api_key=os.getenv('DASHSCOPE_API_KEY')\n",
    ")"
   ]
  },
  {
   "cell_type": "code",
   "outputs": [],
   "source": [
    "from langchain_community.document_loaders import PyMuPDFLoader\n",
    "\n",
    "file_path = '../../../file/qiyu-yichujida.pdf'\n",
    "docs = PyMuPDFLoader(file_path).load()"
   ],
   "metadata": {
    "collapsed": false,
    "ExecuteTime": {
     "end_time": "2024-07-17T10:10:06.213730Z",
     "start_time": "2024-07-17T10:10:05.775201Z"
    }
   },
   "id": "18f383bf9158b2ca",
   "execution_count": 2
  },
  {
   "cell_type": "code",
   "outputs": [
    {
     "data": {
      "text/plain": "[Document(page_content='一触即达 配置操作指南 \\n一、 适用场景 \\n一触即达主要解决在线机器人面对客户咨询时根据实际场景给予个性化的回答，\\n基于多\\n个逻辑节点提取客户回答中的关键信息，无需跳转到其他页面，\\n即可实现售前客户留资、\\n售\\n后解决问题、提供业务支持等目的，包括但不限于以下场景： \\n1、售前客户留资：客户咨询业务时根据自身特点提供必要信息，在线机器人通过一触\\n即达的预先配置提取有效信息，\\n为客户提供符合其需求的业务及服务人员，\\n同时留存客户联\\n系方式，完成售前客户留资，如教育场景课程咨询。 \\n2、售后解决问题：客户在产品及服务的使用过程中出现问题咨询时，在线机器人根据\\n客户反馈的问题类型进行进一步分类，从而为客户提供其需要的解决方案及寻求帮助的途\\n径，同时留存记录客户反馈的问题，如电商场景物流、订单等内容查询。 \\n3、提供业务支持：客户在业务流程中存在疑问咨询时，在线机器人根据客户在咨询时\\n提供的信息引导其完成业务操作、\\n提供相关的业务说明或提供业务支持帮助，\\n如政府公积金、\\n保险等内容查询。 \\n \\n二、 配置说明（以留资场景为例） \\n留资场景为一触即达功能最常见适用场景，\\n因此配置说明选用驾校驾考留资场景流程作\\n为配置举例。驾考留资场景涉及城市、驾考类型、手机号、微信号等多个实体，客户仅需提\\n前配置在线机器人问答流程，\\n根据逻辑问答判断即可实现提取、\\n收集、存储客户留资关键信\\n息，为后续人工跟进客户情况提供有效帮助，并高效存储客户咨询信息。 \\n1、 新增实体和变量 \\n新增实体：\\n【一触即达】-【实体管理】-【新增实体】- 根据需要选择相关实体 \\n新增变量：\\n【一触即达】-【流程管理】-【变量管理】-【新增变量】 \\n根据需要启用【关联实体】\\n，若涉及新实体，关联前需要事先新增实体。 \\n注：常见实体如城市、手机等，已由系统默认配置完毕，无需再次新增实体操作。 \\n \\n', metadata={'source': '../../../file/qiyu-yichujida.pdf', 'file_path': '../../../file/qiyu-yichujida.pdf', 'page': 0, 'total_pages': 11, 'format': 'PDF 1.5', 'title': '', 'author': '毛纪云', 'subject': '', 'keywords': '', 'creator': 'Microsoft® Word 2016', 'producer': 'Microsoft® Word 2016', 'creationDate': \"D:20210615110917+08'00'\", 'modDate': \"D:20210615110917+08'00'\", 'trapped': ''}),\n Document(page_content='2、 新增流程 \\n点击\\n【新建流程】\\n创建新流程；\\n 根据需要选取模板或新建空白模板，\\n输入新流程名称； \\n \\n3、 节点介绍 \\n留资场景全局流程图 \\n \\n', metadata={'source': '../../../file/qiyu-yichujida.pdf', 'file_path': '../../../file/qiyu-yichujida.pdf', 'page': 1, 'total_pages': 11, 'format': 'PDF 1.5', 'title': '', 'author': '毛纪云', 'subject': '', 'keywords': '', 'creator': 'Microsoft® Word 2016', 'producer': 'Microsoft® Word 2016', 'creationDate': \"D:20210615110917+08'00'\", 'modDate': \"D:20210615110917+08'00'\", 'trapped': ''}),\n Document(page_content='3.1 对话节点 \\n设计一触即达流程常以对话节点开始，该节点可主动发问来从客户回答中提取必要信\\n息，从而为机器人回答提供判断条件，如留资场景询问客户所在城市。 \\n \\n具体设置项介绍如下所示，标粗设置项为该节点必要修改项： \\n\\uf06c \\n【提取变量】\\n：选择该节点要获取的参数，作为收集到用户相关信息后唤起调用业务接\\n口的输入信息。\\n需要为该参数关联一个实体并设置实体值，\\n机器人将自动在用户消息中\\n抽取实体相关的信息。比如，实体：天气城市，实体值：北京、天津等。如果有多个需\\n要从用户消息中获取的参数，可设置多个对话节点来获取参数。 \\n\\uf06c \\n【主动提问】\\n：机器人提取参数的提问话术，一般是以“请问…”开头的一句话。如果用户\\n在提问中提到了要获取的参数，机器人将自动跳过该节点进入下一节点。 \\n \\n\\uf06c \\n【按钮选项】\\n：可预设快捷回复，用户可以通过点击按钮向机器人发送回复内容。 \\n \\n\\uf06c \\n【澄清次数】\\n：当用户回复中不包含所需参数，机器人可通过引导澄清问题请求用户再\\n次提供，澄清次数即为机器人提供引导的次数。 \\n\\uf06c \\n【沉默提醒】\\n：开启后若机器人主动提问后若干秒用户未回复任何内容，则回复澄清话\\n术提醒，沉默等待时间可更改。\\n（该设置项为顶栏设置启用留资场景后出现） \\n', metadata={'source': '../../../file/qiyu-yichujida.pdf', 'file_path': '../../../file/qiyu-yichujida.pdf', 'page': 2, 'total_pages': 11, 'format': 'PDF 1.5', 'title': '', 'author': '毛纪云', 'subject': '', 'keywords': '', 'creator': 'Microsoft® Word 2016', 'producer': 'Microsoft® Word 2016', 'creationDate': \"D:20210615110917+08'00'\", 'modDate': \"D:20210615110917+08'00'\", 'trapped': ''}),\n Document(page_content=' \\n\\uf06c \\n【澄清话术】\\n：当用户回答不包含设置的实体时，提示用户澄清的询问话术，引导用户\\n给出需要的参数信息。 \\n\\uf06c \\n【失败回复】\\n：在设置的澄清次数内仍未得到包含有效信息的用户回答时，提示此话术\\n并结束任务。 \\n\\uf06c \\n【生效轮次】\\n：机器人从用户回答中提取参数后保存该参数的轮次，机器人每触发一次\\n意图，参数保存的轮次减1。 \\n \\n \\n3.2 判断节点 \\n判断节点在流程中用于通过提取信息的条件判断串联各节点，从而根据提取的变\\n量实现机器人判断后的自动回复，其中的判断条件可以是对一个实体值的判断，也可\\n以是对一个变量值的判断。具体设置项介绍如下所示，标粗设置项为该节点必要修改\\n项： \\n', metadata={'source': '../../../file/qiyu-yichujida.pdf', 'file_path': '../../../file/qiyu-yichujida.pdf', 'page': 3, 'total_pages': 11, 'format': 'PDF 1.5', 'title': '', 'author': '毛纪云', 'subject': '', 'keywords': '', 'creator': 'Microsoft® Word 2016', 'producer': 'Microsoft® Word 2016', 'creationDate': \"D:20210615110917+08'00'\", 'modDate': \"D:20210615110917+08'00'\", 'trapped': ''}),\n Document(page_content=' \\n具体设置项介绍如下所示，标粗设置项为该节点必要修改项： \\n\\uf06c \\n【条件组名称】\\n：在流程上展示的分支名称； \\n\\uf06c \\n【变量名称】\\n：选择需要进行判断的变量名称； \\n\\uf06c \\n【变量值】\\n：填写变量值或实体值，如果变量关联了实体，将自动出现实体值； \\n\\uf06c \\n【新增条件】 \\n\\uf06e \\nAnd 条件：方框内新增一个条件项目 \\n\\uf06e \\nOr 条件：新增一个方框，两个方框中间以“or”区分 \\n例如：下图逻辑相当于 （A and B）or（C and D） \\n \\n\\uf06c \\n【增加条件组】\\n：增加新的条件分支。 \\n \\n', metadata={'source': '../../../file/qiyu-yichujida.pdf', 'file_path': '../../../file/qiyu-yichujida.pdf', 'page': 4, 'total_pages': 11, 'format': 'PDF 1.5', 'title': '', 'author': '毛纪云', 'subject': '', 'keywords': '', 'creator': 'Microsoft® Word 2016', 'producer': 'Microsoft® Word 2016', 'creationDate': \"D:20210615110917+08'00'\", 'modDate': \"D:20210615110917+08'00'\", 'trapped': ''}),\n Document(page_content='3.3 回复节点 \\n回复节点在流程中用于在选定节点位置提供自定义回复。具体设置项介绍如下所\\n示，标粗设置项为该节点必要修改项： \\n \\n具体设置项介绍如下所示，标粗设置项为该节点必要修改项： \\n\\uf06c \\n【节点样式】 \\n\\uf06e \\n系统应答样式：默认选择该样式设计用户回复话术； \\n\\uf06e \\n系统反问样式：设置反问句回复提供给用户选择； \\n\\uf06e \\n自定义样式：根据需要自定义回复样式。 \\n\\uf06c \\n【添加内容】 \\n\\uf06e \\n富文本：可输入机器人回复话术，也可插入变量，如之前节点提取的变量； \\n\\uf06e \\n按钮选项：支持按钮快捷回复； \\n按钮配置说明： \\n\\uf075 按钮选项引导语：引导用户选择点击按钮的话术； \\n\\uf075 按钮选项名称：机器人回复中所展示的选项名称； \\n\\uf075 【设置】-【跳转至下一节点】\\n：点击后跳转至下一节点； \\n提取变量：为该节点要提取的实体设置变量，在用户选择后将该变量值用于调\\n用业务接口。 \\n\\uf075 【设置】-【跳转至外部链接】\\n：点击后跳转至外部页面。 \\n \\n \\n \\n \\n', metadata={'source': '../../../file/qiyu-yichujida.pdf', 'file_path': '../../../file/qiyu-yichujida.pdf', 'page': 5, 'total_pages': 11, 'format': 'PDF 1.5', 'title': '', 'author': '毛纪云', 'subject': '', 'keywords': '', 'creator': 'Microsoft® Word 2016', 'producer': 'Microsoft® Word 2016', 'creationDate': \"D:20210615110917+08'00'\", 'modDate': \"D:20210615110917+08'00'\", 'trapped': ''}),\n Document(page_content='3.4 收集节点 \\n收集节点在流程中用于提供数据接口选择不同样式收集需要的客户信息，并保存\\n到对应位置。具体设置项介绍如下所示，标粗设置项为该节点必要修改项： \\n \\n具体设置项介绍如下所示，标粗设置项为该节点必要修改项： \\n\\uf06c \\n【是否为留资节点】\\n：选择该节点是否作为留资节点。 \\n\\uf06c \\n【数据对接】 \\n\\uf06e \\n对接工单：系统会根据用户提交的信息自动在工单中心创建对应工单； \\n\\uf06e \\n对接客户中心：系统会将用户提交的信息同步到客户管理的对应字段； \\n\\uf06e \\n对接第三方：系统会根据信息通过在查询节点配置的接口对接到第三方系统。 \\n\\uf075 引导语当在收集节点中选择“对接第三方”时，显示“引导语”选项。 \\n\\uf075 支持附件：当在收集节点中选择“对接第三方”时，显示“支持附件”选项。 \\n当“支持附件”开关关闭时，\\n在访客端该节点对应的收集表单不支持上传附\\n件；开关默认为关； \\n当“支持附件”开关开启时，\\n在访客端该节点对应的收集表单支持上传附件；\\n \\n七鱼需要与企业约定一个变量，\\n通过此变量把用户上传的附件通过第三方\\n接口传递给企业；企业需要在查询节点中配置这个第三方接口； \\n\\uf075 表单字段：可根据企业收集需求修改表单字段。 \\n \\n \\n \\n', metadata={'source': '../../../file/qiyu-yichujida.pdf', 'file_path': '../../../file/qiyu-yichujida.pdf', 'page': 6, 'total_pages': 11, 'format': 'PDF 1.5', 'title': '', 'author': '毛纪云', 'subject': '', 'keywords': '', 'creator': 'Microsoft® Word 2016', 'producer': 'Microsoft® Word 2016', 'creationDate': \"D:20210615110917+08'00'\", 'modDate': \"D:20210615110917+08'00'\", 'trapped': ''}),\n Document(page_content='3.5 查询节点 \\n \\n查询节点用于通过机器人对业务系统进行调用，\\n主要场景为根据用户提供的有效信息进\\n行业务查询，\\n并将查询到的信息展示给用户，\\n或作为子节点的判断条件。具体设置项介绍如\\n下所示，标粗设置项为该节点必要修改项： \\n \\n具体设置项介绍如下所示，标粗设置项为该节点必要修改项： \\n\\uf06c \\n【请求地址】\\n：业务接口地址； \\n【请求方式】\\n：业务方与七鱼约定好的接口请求方式，支持post 和get 两种形式； \\n【请求加签】\\n：如果业务接口数据重要，需要加密，选择【请求加签】七鱼才能访问。 \\n\\uf06c \\n【输入变量】\\n：业务接口的输入信息。 \\n动态赋值：启用表示变量值是动态变化的，机器人将自动从对话中取值，不需要手\\n动设置固定值，\\n比如在查天气demo 中，\\nweatherdate 和weathercity 这两个参数是从用\\n户的回答中取值，也就是动态变化的，\\n因此需要把动态赋值开关打开；\\n不启用表示变量\\n值是固定不变的，\\n需要在此处手动设置。\\n比如，\\n下面这个例子是一个在app 中展示商品\\n订单列表的接口，\\n每个订单列表只展示3 个商品，\\n因此pagenationinfo 这个参数的值是\\n固定的{\"pageSize\":3}； \\n \\n', metadata={'source': '../../../file/qiyu-yichujida.pdf', 'file_path': '../../../file/qiyu-yichujida.pdf', 'page': 7, 'total_pages': 11, 'format': 'PDF 1.5', 'title': '', 'author': '毛纪云', 'subject': '', 'keywords': '', 'creator': 'Microsoft® Word 2016', 'producer': 'Microsoft® Word 2016', 'creationDate': \"D:20210615110917+08'00'\", 'modDate': \"D:20210615110917+08'00'\", 'trapped': ''}),\n Document(page_content=' \\n调用后置空：\\n启用表示调用接口后清空变量值，\\n关闭表示调用接口后变量值将继续\\n保留，在后续流程中还能继续使用，变量值将保存至会话结束。 \\n\\uf06c \\n【输出变量】\\n：调用业务接口后，机器人输出的信息，可以作为子节点的判断条件。 \\n\\uf06c \\n【输出样式】\\n：调用业务接口后机器人输出信息时的展示形式，可选择常用系统样式或\\n按需定制输出样式。\\n（需要与七鱼约定返回字段并在输入框中编写对应xml，格式可参\\n考“对接示例”中的“xml 模板填充样式”） \\n跳转事件：可选择根据样式中内容点击后的跳转方式类型。 \\n \\n3.6 结束节点 \\n结束节点可用于立即结束机器人会话； \\n\\uf06c \\n“结束节点”添加规则：仅在“回复节点”后支持添加“结束节点”，否则置灰。 \\n \\n4、校验流程 \\n校验待发布：点击校验流程，校验通过后自动跳转到流程配置列表； \\n注意：每次修改流程后都需要对流程进行校验，校验通过后对流程的修改才能生效。 \\n \\n流程状态：流程有“草稿“和”已完成“两种状态，”草稿“为编辑状态下的流程，”已完成“为通过\\n校验、等待发布状态下的流程。 \\n', metadata={'source': '../../../file/qiyu-yichujida.pdf', 'file_path': '../../../file/qiyu-yichujida.pdf', 'page': 8, 'total_pages': 11, 'format': 'PDF 1.5', 'title': '', 'author': '毛纪云', 'subject': '', 'keywords': '', 'creator': 'Microsoft® Word 2016', 'producer': 'Microsoft® Word 2016', 'creationDate': \"D:20210615110917+08'00'\", 'modDate': \"D:20210615110917+08'00'\", 'trapped': ''}),\n Document(page_content=' \\n5、意图配置 \\n【一触即达】-【意图管理】-【新增意图】 \\n \\n\\uf06c 意图名称：对内，仅客服人员可见； \\n\\uf06c 问题设置 \\n标准问题：对外，访客在对话中可见； \\n相似问题：对内，仅客服人员可见，主谓宾形式； \\n\\uf06c 关联变量：需要通过对话节点从用户消息中提取的变量； \\n\\uf06c 关联流程：选择该意图需要关联的流程。 \\n \\n \\n \\n', metadata={'source': '../../../file/qiyu-yichujida.pdf', 'file_path': '../../../file/qiyu-yichujida.pdf', 'page': 9, 'total_pages': 11, 'format': 'PDF 1.5', 'title': '', 'author': '毛纪云', 'subject': '', 'keywords': '', 'creator': 'Microsoft® Word 2016', 'producer': 'Microsoft® Word 2016', 'creationDate': \"D:20210615110917+08'00'\", 'modDate': \"D:20210615110917+08'00'\", 'trapped': ''}),\n Document(page_content='6、配置测试 \\n \\n点击【机器人测试】打开浮窗测试流程效果。 \\n \\n \\n7、发布上线 \\n通过校验后的意图及流程，均可点击【发布】即时发布到线上。 \\n \\n', metadata={'source': '../../../file/qiyu-yichujida.pdf', 'file_path': '../../../file/qiyu-yichujida.pdf', 'page': 10, 'total_pages': 11, 'format': 'PDF 1.5', 'title': '', 'author': '毛纪云', 'subject': '', 'keywords': '', 'creator': 'Microsoft® Word 2016', 'producer': 'Microsoft® Word 2016', 'creationDate': \"D:20210615110917+08'00'\", 'modDate': \"D:20210615110917+08'00'\", 'trapped': ''})]"
     },
     "execution_count": 3,
     "metadata": {},
     "output_type": "execute_result"
    }
   ],
   "source": [
    "docs"
   ],
   "metadata": {
    "collapsed": false,
    "ExecuteTime": {
     "end_time": "2024-07-17T10:10:09.476454Z",
     "start_time": "2024-07-17T10:10:09.445751Z"
    }
   },
   "id": "986e3a629de66e29",
   "execution_count": 3
  },
  {
   "cell_type": "code",
   "outputs": [],
   "source": [
    "from langchain.text_splitter import CharacterTextSplitter\n",
    "\n",
    "text_splitter = CharacterTextSplitter(chunk_size=1000, chunk_overlap=0, add_start_index=True)\n",
    "splits = text_splitter.split_documents(docs)"
   ],
   "metadata": {
    "collapsed": false,
    "ExecuteTime": {
     "end_time": "2024-07-17T10:10:30.915244Z",
     "start_time": "2024-07-17T10:10:30.901527Z"
    }
   },
   "id": "2bac9948a88526d7",
   "execution_count": 4
  },
  {
   "cell_type": "code",
   "outputs": [
    {
     "data": {
      "text/plain": "11"
     },
     "execution_count": 5,
     "metadata": {},
     "output_type": "execute_result"
    }
   ],
   "source": [
    "len(splits)"
   ],
   "metadata": {
    "collapsed": false,
    "ExecuteTime": {
     "end_time": "2024-07-17T10:10:38.833516Z",
     "start_time": "2024-07-17T10:10:38.827008Z"
    }
   },
   "id": "367f0672067e040f",
   "execution_count": 5
  },
  {
   "cell_type": "code",
   "outputs": [],
   "source": [
    "from langchain.vectorstores import Chroma\n",
    "\n",
    "persist_directory = '/Users/pangmengting/Documents/workspace/python-learning/data/chroma_vector_db'\n",
    "collection_name = 'chat-pdf-index'\n",
    "# 创建\n",
    "vectorstore = Chroma.from_documents(\n",
    "    splits,\n",
    "    qw_embedding,\n",
    "    collection_name=collection_name,\n",
    "    persist_directory=persist_directory\n",
    ")"
   ],
   "metadata": {
    "collapsed": false,
    "ExecuteTime": {
     "end_time": "2024-07-17T10:11:30.805866Z",
     "start_time": "2024-07-17T10:11:29.770310Z"
    }
   },
   "id": "73ff1ce510bf379",
   "execution_count": 6
  },
  {
   "cell_type": "code",
   "outputs": [],
   "source": [
    "retriever = vectorstore.as_retriever()\n",
    "retriever.search_kwargs['k'] = 3"
   ],
   "metadata": {
    "collapsed": false,
    "ExecuteTime": {
     "end_time": "2024-07-17T10:11:53.619368Z",
     "start_time": "2024-07-17T10:11:53.613758Z"
    }
   },
   "id": "a8ecb30faa3127e8",
   "execution_count": 7
  },
  {
   "cell_type": "code",
   "outputs": [],
   "source": [
    "from langchain.chains.conversational_retrieval.base import ConversationalRetrievalChain\n",
    "\n",
    "qa = ConversationalRetrievalChain.from_llm(qw_llm_openai, retriever=retriever)"
   ],
   "metadata": {
    "collapsed": false,
    "ExecuteTime": {
     "end_time": "2024-07-17T10:12:08.465977Z",
     "start_time": "2024-07-17T10:12:08.344949Z"
    }
   },
   "id": "b2fe5166c238db62",
   "execution_count": 8
  },
  {
   "cell_type": "code",
   "outputs": [],
   "source": [
    "chat_history = []\n",
    "\n",
    "\n",
    "def ask(question, chat_history):\n",
    "    response = qa.invoke({\"question\": question, \"chat_history\": chat_history})\n",
    "    chat_history.append((question, response['answer']))\n",
    "    print(f\"Question:\\n {question}\\n\")\n",
    "    print(f\"Answer:\\n {response['answer']}\\n\")"
   ],
   "metadata": {
    "collapsed": false,
    "ExecuteTime": {
     "end_time": "2024-07-17T10:13:40.467847Z",
     "start_time": "2024-07-17T10:13:40.461475Z"
    }
   },
   "id": "f1e42ef2470c2b0",
   "execution_count": 10
  },
  {
   "cell_type": "code",
   "outputs": [],
   "source": [
    "query = '什么是一触即达'"
   ],
   "metadata": {
    "collapsed": false,
    "ExecuteTime": {
     "end_time": "2024-07-17T10:14:27.920885Z",
     "start_time": "2024-07-17T10:14:27.915818Z"
    }
   },
   "id": "ac5afe2397ddc00f",
   "execution_count": 11
  },
  {
   "cell_type": "code",
   "outputs": [
    {
     "name": "stdout",
     "output_type": "stream",
     "text": [
      "Question:\n",
      " 什么是一触即达\n",
      "\n",
      "Answer:\n",
      " 一触即达是一种配置功能，主要用于在线机器人与客户的交互中，根据不同的场景提供个性化回答。它通过逻辑节点提取客户回答的关键信息，无需跳转页面，就能实现售前客户留资、售后问题解决和业务支持等多种目标。例如，在售前，它可以帮助收集客户信息并推荐适合的业务；售后时，可以根据客户问题分类提供解决方案；在业务流程中，可以指导客户完成操作或提供业务查询支持。配置一触即达涉及到实体和变量的新增、意图管理和对话节点设计等步骤。\n"
     ]
    }
   ],
   "source": [
    "ask(query, chat_history)"
   ],
   "metadata": {
    "collapsed": false,
    "ExecuteTime": {
     "end_time": "2024-07-17T10:14:35.873071Z",
     "start_time": "2024-07-17T10:14:28.340710Z"
    }
   },
   "id": "dbf13a1d3189d949",
   "execution_count": 12
  },
  {
   "cell_type": "code",
   "outputs": [
    {
     "name": "stdout",
     "output_type": "stream",
     "text": [
      "Question:\n",
      " 总结一下这个文档\n",
      "\n",
      "Answer:\n",
      " 这个文档主要介绍了如何新建流程以及流程中的两个关键节点：查询节点和收集节点。查询节点主要用于通过机器人调用业务系统进行查询，并展示查询结果或作为子节点的判断条件，涉及设置项如请求地址、请求方式等。收集节点则用于收集客户信息，可以对接到工单中心、客户中心或第三方系统，并提供了引导语、支持附件和表单字段等设置。\n"
     ]
    }
   ],
   "source": [
    "query = '总结一下这个文档'\n",
    "ask(query, chat_history)"
   ],
   "metadata": {
    "collapsed": false,
    "ExecuteTime": {
     "end_time": "2024-07-17T10:15:27.501516Z",
     "start_time": "2024-07-17T10:15:22.671152Z"
    }
   },
   "id": "b8d3ed9b8ecdb760",
   "execution_count": 13
  },
  {
   "cell_type": "code",
   "outputs": [
    {
     "data": {
      "text/plain": "[('什么是一触即达',\n  '一触即达是一种配置功能，主要用于在线机器人与客户的交互中，根据不同的场景提供个性化回答。它通过逻辑节点提取客户回答的关键信息，无需跳转页面，就能实现售前客户留资、售后问题解决和业务支持等多种目标。例如，在售前，它可以帮助收集客户信息并推荐适合的业务；售后时，可以根据客户问题分类提供解决方案；在业务流程中，可以指导客户完成操作或提供业务查询支持。配置一触即达涉及到实体和变量的新增、意图管理和对话节点设计等步骤。'),\n ('总结一下这个文档',\n  '这个文档主要介绍了如何新建流程以及流程中的两个关键节点：查询节点和收集节点。查询节点主要用于通过机器人调用业务系统进行查询，并展示查询结果或作为子节点的判断条件，涉及设置项如请求地址、请求方式等。收集节点则用于收集客户信息，可以对接到工单中心、客户中心或第三方系统，并提供了引导语、支持附件和表单字段等设置。')]"
     },
     "execution_count": 14,
     "metadata": {},
     "output_type": "execute_result"
    }
   ],
   "source": [
    "chat_history"
   ],
   "metadata": {
    "collapsed": false,
    "ExecuteTime": {
     "end_time": "2024-07-17T10:15:37.881034Z",
     "start_time": "2024-07-17T10:15:37.873719Z"
    }
   },
   "id": "220fa645e71c0358",
   "execution_count": 14
  },
  {
   "cell_type": "code",
   "outputs": [
    {
     "name": "stdout",
     "output_type": "stream",
     "text": [
      "Question:\n",
      " 判断节点是什么？如何设置？\n",
      "\n",
      "Answer:\n",
      " 判断节点在流程中用于通过提取信息的条件判断串联各节点，它可以根据提取的变量来实现机器人的自动回复。设置时，你可以对一个实体值或一个变量值进行判断。以下是设置的关键点：\n",
      "\n",
      "- 需要修改的设置项可能包括判断条件，这可以是对某个特定实体或变量的检查。\n",
      "- 你可以根据业务逻辑设置条件，例如，如果用户提供的信息满足特定条件，机器人将执行相应的回复或操作。\n",
      "\n",
      "由于没有具体的设置界面或详细步骤，我无法提供详细的设置过程。通常，你可能需要在后台编辑器中选择“添加判断节点”，然后配置判断条件、结果分支（当条件为真和为假时的回复或动作）以及可能涉及的变量。如果你有更具体的问题或者需要了解某个平台的详细步骤，可以告诉我，我会尽力帮助解答。\n"
     ]
    }
   ],
   "source": [
    "query = '判断节点是什么？如何设置？'\n",
    "ask(query, chat_history)"
   ],
   "metadata": {
    "collapsed": false,
    "ExecuteTime": {
     "end_time": "2024-07-17T10:17:19.481888Z",
     "start_time": "2024-07-17T10:17:08.131325Z"
    }
   },
   "id": "500661a3d699030c",
   "execution_count": 15
  },
  {
   "cell_type": "code",
   "outputs": [],
   "source": [],
   "metadata": {
    "collapsed": false
   },
   "id": "7799224aa4272fbe"
  },
  {
   "cell_type": "markdown",
   "source": [
    "=================================================================================================================="
   ],
   "metadata": {
    "collapsed": false
   },
   "id": "647bc6ff783a402b"
  },
  {
   "cell_type": "code",
   "outputs": [],
   "source": [
    "# 新方式\n",
    "from langchain.chains.retrieval import create_retrieval_chain\n",
    "from langchain.chains.history_aware_retriever import create_history_aware_retriever\n",
    "# from langchain.chains import (create_history_aware_retriever, create_retrieval_chain, )\n",
    "from langchain.chains.combine_documents import create_stuff_documents_chain\n",
    "from langchain_core.prompts import ChatPromptTemplate, MessagesPlaceholder\n",
    "\n",
    "# Contextualize question\n",
    "contextualize_q_system_prompt = (\n",
    "    \"Given a chat history and the latest user question \"\n",
    "    \"which might reference context in the chat history, \"\n",
    "    \"formulate a standalone question which can be understood \"\n",
    "    \"without the chat history. Do NOT answer the question, just \"\n",
    "    \"reformulate it if needed and otherwise return it as is.\"\n",
    ")\n",
    "contextualize_q_prompt = ChatPromptTemplate.from_messages(\n",
    "    [\n",
    "        (\"system\", contextualize_q_system_prompt),\n",
    "        MessagesPlaceholder(\"chat_history\"),\n",
    "        (\"human\", \"{input}\"),\n",
    "    ]\n",
    ")\n",
    "history_aware_retriever = create_history_aware_retriever(\n",
    "    qw_llm_openai, retriever, contextualize_q_prompt\n",
    ")\n",
    "\n",
    "# Answer question\n",
    "qa_system_prompt = (\n",
    "    \"You are an assistant for question-answering tasks. Use \"\n",
    "    \"the following pieces of retrieved context to answer the \"\n",
    "    \"question. If you don't know the answer, just say that you \"\n",
    "    \"don't know. Use three sentences maximum and keep the answer \"\n",
    "    \"concise.\"\n",
    "    \"\\n\\n\"\n",
    "    \"{context}\"\n",
    ")\n",
    "qa_prompt = ChatPromptTemplate.from_messages(\n",
    "    [\n",
    "        (\"system\", qa_system_prompt),\n",
    "        MessagesPlaceholder(\"chat_history\"),\n",
    "        (\"human\", \"{input}\"),\n",
    "    ]\n",
    ")\n",
    "# Below we use create_stuff_documents_chain to feed all retrieved context\n",
    "# into the LLM. Note that we can also use StuffDocumentsChain and other\n",
    "# instances of BaseCombineDocumentsChain.\n",
    "question_answer_chain = create_stuff_documents_chain(qw_llm_openai, qa_prompt)\n",
    "rag_chain = create_retrieval_chain(\n",
    "    history_aware_retriever, question_answer_chain\n",
    ")"
   ],
   "metadata": {
    "collapsed": false,
    "ExecuteTime": {
     "end_time": "2024-07-17T10:27:53.910058Z",
     "start_time": "2024-07-17T10:27:53.903050Z"
    }
   },
   "id": "cf06f145200a75f5",
   "execution_count": 24
  },
  {
   "cell_type": "code",
   "outputs": [],
   "source": [
    "# Usage:\n",
    "chat_history = []  # Collect chat history here (a sequence of messages)\n",
    "rag_chain.invoke({\"input\": query, \"chat_history\": chat_history})"
   ],
   "metadata": {
    "collapsed": false
   },
   "id": "31a81bf32340e492"
  },
  {
   "cell_type": "code",
   "outputs": [],
   "source": [
    "chat_history = []\n",
    "\n",
    "\n",
    "def ask_new(question, chat_history):\n",
    "    response = rag_chain.invoke({\"input\": question, \"chat_history\": chat_history})\n",
    "    chat_history.append((question, response['answer']))\n",
    "    print(f\"Question:\\n {question}\\n\")\n",
    "    print(f\"Answer:\\n {response['answer']}\\n\")"
   ],
   "metadata": {
    "collapsed": false,
    "ExecuteTime": {
     "end_time": "2024-07-17T10:27:56.933855Z",
     "start_time": "2024-07-17T10:27:56.929916Z"
    }
   },
   "id": "5e1f2498f23e665",
   "execution_count": 25
  },
  {
   "cell_type": "code",
   "outputs": [
    {
     "name": "stdout",
     "output_type": "stream",
     "text": [
      "Question:\n",
      " 总结一下这个文档\n",
      "\n",
      "Answer:\n",
      " 这段文档介绍了如何创建新流程和理解不同类型的节点。\"新建流程\"涉及选择模板或创建空白模板，并输入流程名称。\"查询节点\"用于机器人调用业务系统进行查询，基于用户信息，返回结果给用户或作为其他节点的判断条件，关键设置包括请求地址、请求方式和输入变量。\"收集节点\"则用来收集客户信息，可以对接到工单、客户中心或第三方系统，支持设置引导语、是否允许附件上传及自定义表单字段。\n"
     ]
    }
   ],
   "source": [
    "query = '总结一下这个文档'\n",
    "ask_new(query, chat_history)"
   ],
   "metadata": {
    "collapsed": false,
    "ExecuteTime": {
     "end_time": "2024-07-17T10:24:09.828263Z",
     "start_time": "2024-07-17T10:24:04.373359Z"
    }
   },
   "id": "e256a211dc672cc9",
   "execution_count": 18
  },
  {
   "cell_type": "code",
   "outputs": [
    {
     "name": "stdout",
     "output_type": "stream",
     "text": [
      "Question:\n",
      " 回复节点是什么呢\n",
      "\n",
      "Answer:\n",
      " 回复节点是流程中的一个环节，它用来在特定节点位置提供定制化的回复给用户。你可以选择系统应答样式、系统反问样式或自定义样式来设计回复。此外，可以通过添加富文本、按钮选项来构建回复内容，并能设置点击按钮后跳转到下一节点或外部链接。还可以提取变量，以便在用户选择后用于调用业务接口。\n"
     ]
    }
   ],
   "source": [
    "query = '回复节点是什么呢'\n",
    "ask_new(query, chat_history)"
   ],
   "metadata": {
    "collapsed": false,
    "ExecuteTime": {
     "end_time": "2024-07-17T10:28:05.036107Z",
     "start_time": "2024-07-17T10:27:58.933806Z"
    }
   },
   "id": "3657aac897396110",
   "execution_count": 26
  },
  {
   "cell_type": "code",
   "outputs": [],
   "source": [],
   "metadata": {
    "collapsed": false
   },
   "id": "8f3470bdfab867d0"
  }
 ],
 "metadata": {
  "kernelspec": {
   "display_name": "Python 3",
   "language": "python",
   "name": "python3"
  },
  "language_info": {
   "codemirror_mode": {
    "name": "ipython",
    "version": 2
   },
   "file_extension": ".py",
   "mimetype": "text/x-python",
   "name": "python",
   "nbconvert_exporter": "python",
   "pygments_lexer": "ipython2",
   "version": "2.7.6"
  }
 },
 "nbformat": 4,
 "nbformat_minor": 5
}
