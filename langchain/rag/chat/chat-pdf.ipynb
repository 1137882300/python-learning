{
 "cells": [
  {
   "cell_type": "code",
   "execution_count": 3,
   "id": "initial_id",
   "metadata": {
    "collapsed": true,
    "ExecuteTime": {
     "end_time": "2024-08-08T04:31:41.134318Z",
     "start_time": "2024-08-08T04:31:41.098993Z"
    }
   },
   "outputs": [],
   "source": [
    "# 基本配置\n",
    "from langchain_openai import ChatOpenAI\n",
    "import os\n",
    "from dotenv import load_dotenv\n",
    "from langchain_community.embeddings import DashScopeEmbeddings\n",
    "\n",
    "load_dotenv(override=True)\n",
    "\n",
    "qw_llm_openai = ChatOpenAI(\n",
    "    openai_api_base=os.getenv('DASHSCOPE_API_BASE'),\n",
    "    openai_api_key=os.getenv('DASHSCOPE_API_KEY'),\n",
    "    model_name=\"qwen2-1.5b-instruct\",\n",
    "    temperature=0,\n",
    "    streaming=True,\n",
    ")\n",
    "\n",
    "qw_embedding = DashScopeEmbeddings(\n",
    "    model=\"text-embedding-v2\", dashscope_api_key=os.getenv('DASHSCOPE_API_KEY')\n",
    ")"
   ]
  },
  {
   "cell_type": "code",
   "outputs": [],
   "source": [
    "from langchain_community.document_loaders import PyMuPDFLoader\n",
    "\n",
    "file_path = '../../../file/79523710-喀纳斯+环天山丨北疆全景12日(首次入疆推荐).pdf'\n",
    "docs = PyMuPDFLoader(file_path).load()"
   ],
   "metadata": {
    "collapsed": false,
    "ExecuteTime": {
     "end_time": "2024-08-08T04:31:42.812028Z",
     "start_time": "2024-08-08T04:31:42.655Z"
    }
   },
   "id": "18f383bf9158b2ca",
   "execution_count": 4
  },
  {
   "cell_type": "code",
   "outputs": [
    {
     "data": {
      "text/plain": "[Document(metadata={'source': '../../../file/79523710-喀纳斯+环天山丨北疆全景12日(首次入疆推荐).pdf', 'file_path': '../../../file/79523710-喀纳斯+环天山丨北疆全景12日(首次入疆推荐).pdf', 'page': 0, 'total_pages': 16, 'format': 'PDF 1.7', 'title': '', 'author': '', 'subject': '', 'keywords': '', 'creator': 'WPS 文字', 'producer': 'macOS 版本14.2.1（版号23C71） Quartz PDFContext', 'creationDate': \"D:20240808094919+01'49'\", 'modDate': \"D:20240808094919+01'49'\", 'trapped': ''}, page_content='喀纳斯+环天山丨北疆全景12 日(首次入疆推荐)\\n活动咨询\\n电话咨询\\n400-670-6300 [周边游转“1”，国内游转“2”，出境游转“3”，团队定制\\n转“4”]\\n产品经理\\n文武：17858622475；飞翔：17316934053（咨询时间:工作日9:00-18:00）\\n企微咨询\\n微信在线咨询：游小侠微信：yxkkf6，回复【新疆夏季】入群\\n产品经理说\\n6 月19 日更新:巴音布鲁克景区已恢复开放\\n活动亮点\\n经典行程：私家策划大环线，自然风光+璀璨人文：森林、草原、雪山、湖泊、花海、湿地、沙漠、戈\\n壁、峡谷、遗址、人文\\n适时适地：春夏季的北疆，气候凉爽适宜，草原花开如毯、瓜果成熟飘香、美食众多，是旅行出行之佳选\\n独特玩法：安排3 晚景区内住宿，多次日出日落，纯玩不购物，充分游玩时间\\n旅途舒适：4 人成行，上限25 人，宽敞舒适大巴，住宿优化升级\\n0>\\n活动描述\\n第1 天全国各地[飞机]或[火车]乌鲁木齐（★全天集合日）\\n· 全天\\n今天是活动集合日。各位游侠自行前往新疆自治区首府【乌鲁木齐】的集合酒店，报“游侠客+名字”就\\n可以办理入住。\\n乌鲁木齐位于亚洲的中心，是举世闻名的歌舞之乡、瓜果之乡、黄金玉石之邦。如果时间比较宽裕，可以\\n自行安排在乌鲁木齐市区的活动。想要了解新疆人文历史的，首推【新疆博物馆】（免费，下午17:30\\n只出不进；周一闭馆）；想要感受异域风情的，可以去【二道桥国际大巴扎】，独特的西域文化，琳琅满\\n'),\n Document(metadata={'source': '../../../file/79523710-喀纳斯+环天山丨北疆全景12日(首次入疆推荐).pdf', 'file_path': '../../../file/79523710-喀纳斯+环天山丨北疆全景12日(首次入疆推荐).pdf', 'page': 1, 'total_pages': 16, 'format': 'PDF 1.7', 'title': '', 'author': '', 'subject': '', 'keywords': '', 'creator': 'WPS 文字', 'producer': 'macOS 版本14.2.1（版号23C71） Quartz PDFContext', 'creationDate': \"D:20240808094919+01'49'\", 'modDate': \"D:20240808094919+01'49'\", 'trapped': ''}, page_content='目的商品，说不定能淘到不少好货。\\n\\uf0b7用餐：三餐自理\\n\\uf0b7住宿：乌鲁木齐市网评3-4 钻商务酒店标间（苹果酒店、伊犁大酒店、海通五星大饭店、百\\n丽酒店等同级）\\n\\uf0b7备注：乌鲁木齐地窝堡机场离市区较近，机场打车前往集合酒店约30-45 元（24 小时有车，\\n安全放心）\\n\\uf0b7亮点/摄点：乌鲁木齐二道桥大巴扎+民族人文、建筑+新疆美食\\n第2 天乌鲁木齐[大巴]吐鲁番[大巴]坎儿井[大巴]维吾尔族家访[大巴]库木塔格沙漠[大巴]鄯善\\n· 上午\\n早餐后离开，来自全国各地的游侠一路欢声笑语，互相介绍认识，开始愉快的旅程。\\n第一站前往“火洲”吐鲁番市，这里是全国平均气温极高的城市。我们将游览“人类伟大的三大水利工程\\n之一”的【坎儿井】，体验炎炎夏日特有的清凉，领略古老先民的生活智慧。几十公里外的天山雪水通过\\n坎儿井流到这里变成清澈的泉水，养育着吐鲁番的的维族人，灌溉着这里上万亩的葡萄园，是人类智慧的\\n结晶。\\n游侠客精心安排当地【维吾尔族家访】，带着大家走进维吾尔族老乡的家中参观拜访，品尝美味瓜果，体\\n验浓郁的东疆维吾尔风情。\\n· 下午\\n午后，前往鄯善酒店休息，待下午气温下降后，再前往“至美的羽状沙漠”【库木塔格沙漠】。沙漠位于\\n鄯善县以南，是塔克拉玛干沙漠的一部分。主要组成元素不是沙丘，而是沙山，金色的大漠雄浑壮观，千\\n百年来沙不进，绿不退。我们乘坐景区小火车进入沙漠，赤脚爬沙山，也可以体验滑沙、骑骆驼，还可以\\n乘坐沙漠冲浪车来一次沙漠冲浪（注：景区内游玩项目，费用自理，注意安全）。沙漠的曲线非常优美，\\n大漠日落，我们依依不舍离开，晚上可结伴寻觅当地特色美食。\\n\\uf0b7车程：乌鲁木齐-鄯善：约280KM（高速为主）\\n\\uf0b7用餐：含早，正餐自理\\n\\uf0b7住宿：鄯善县网评3 钻商务酒店标间\\n'),\n Document(metadata={'source': '../../../file/79523710-喀纳斯+环天山丨北疆全景12日(首次入疆推荐).pdf', 'file_path': '../../../file/79523710-喀纳斯+环天山丨北疆全景12日(首次入疆推荐).pdf', 'page': 2, 'total_pages': 16, 'format': 'PDF 1.7', 'title': '', 'author': '', 'subject': '', 'keywords': '', 'creator': 'WPS 文字', 'producer': 'macOS 版本14.2.1（版号23C71） Quartz PDFContext', 'creationDate': \"D:20240808094919+01'49'\", 'modDate': \"D:20240808094919+01'49'\", 'trapped': ''}, page_content='\\uf0b7亮点/摄点：火洲吐鲁番、“世界三大水利工程”坎儿井、羽状沙漠“库木塔格”日落晚霞\\n第3 天鄯善[大巴]吐峪沟[大巴]火焰山（柏孜克里克千佛洞）[大巴]和静\\n· 上午\\n早餐后离开，前往东疆圣地“东方小麦加”【吐峪沟】。吐峪沟是世界多种著名宗教文化的交汇地。被命\\n名为“中国历史文化名村”的【吐峪沟麻扎村】已有1700 多年历史，是新疆现存的古老的维吾尔族村\\n落，至今还保存着维吾尔族古老的民俗风情。\\n之后前往《西游记》中著名的【火焰山】。游侠客不走商业化的前山景区，将带您深入火焰山大峡谷，游\\n览【柏孜克里克千佛洞】（曾经西域佛教的中心，玄奘西行停留处），走过火焰山，人生没有迈不过的\\n坎。\\n· 下午\\n途中午餐，下午翻越中天山（限速多，车程较长），沿途欣赏五彩峡谷地貌，抵达位于塔里木盆地北缘的\\n南疆小城酒店休息。晚上自由寻觅当地美食。\\n\\uf0b7车程：鄯善-吐鲁番：约80KM，吐鲁番-和静：约340KM（限速多）\\n\\uf0b7用餐：含早，正餐自理\\n\\uf0b7住宿：和静县网评2-3 钻商务酒店标间（旅游小镇，条件有限）\\n\\uf0b7备注：和静县优质酒店数量有限，若遇特殊情况备选安排附近和硕县的优质酒店\\n\\uf0b7亮点/摄点：东疆圣地吐峪沟、火焰山大峡谷、“新疆莫高窟”柏孜克里克千佛洞、中天山干沟\\n红层地貌\\n第4 天和静[大巴]察汗努尔达坂[大巴]巴音布鲁克\\n· 上午\\n早餐后离开，今天将深入天山腹地，前往高山湿地草原【巴音布鲁克】。一路盘山而上，景色渐次变化，\\n干热黝黑的南疆戈壁地貌逐渐消失，草原雪山显现在眼前，翻越查汗努尔达坂（海拔3200 米左右，短暂\\n停留，不会高反），巴音布鲁克大草原出现在眼前，星星点点的蒙古包，成群的黑头羊，炊烟牧歌，远处\\n连绵的雪山，风光无限。\\n· 下午\\n适时乘坐景交进入【巴音布鲁克景区】，欣赏高原湿地风光，美丽的天鹅湖、巴音布鲁克湿地草原以及开\\n'),\n Document(metadata={'source': '../../../file/79523710-喀纳斯+环天山丨北疆全景12日(首次入疆推荐).pdf', 'file_path': '../../../file/79523710-喀纳斯+环天山丨北疆全景12日(首次入疆推荐).pdf', 'page': 3, 'total_pages': 16, 'format': 'PDF 1.7', 'title': '', 'author': '', 'subject': '', 'keywords': '', 'creator': 'WPS 文字', 'producer': 'macOS 版本14.2.1（版号23C71） Quartz PDFContext', 'creationDate': \"D:20240808094919+01'49'\", 'modDate': \"D:20240808094919+01'49'\", 'trapped': ''}, page_content='都河九曲十八弯的落日晚霞，天气晴好的傍晚，会看到一串的落日映在河面。日落后返回酒店休息。\\n\\uf0b7车程：约280KM（国道，限速较多）\\n\\uf0b7用餐：含早，正餐自理\\n\\uf0b7住宿：巴音布鲁克镇网评3 钻商务酒店标间（旅游小镇，条件有限）\\n\\uf0b7备注：1. 九曲十八弯日落极其震撼，但日落后非常寒冷（0-10 度），请带上厚外套、帽子、\\n手套等，湿地草原上蚊虫较多，要注意防蚊措施2. 景交终点至九曲十八弯观景台电瓶车（单程\\n10 元/人），也可选择徒步上山，费用自理\\n\\uf0b7亮点/摄点：翻阅天山达坂、巴音布鲁克草原湿地、野生天鹅家园、开都河九曲十八弯日落\\n第5 天巴音布鲁克[大巴]特克斯[大巴]喀拉峻草原（草原毡房、星空之夜）\\n· 上午\\n早餐后离开，沿着218 国道，离开美丽的巴音布鲁克草原。星星点点的蒙古包，成群的黑头羊，炊烟牧\\n歌，远处连绵的雪山，风光无限。\\n· 下午\\n午后到达【特克斯】八卦城，进行简单的补给（明天午餐干粮）。\\n游侠客带领大家深入“天山世界自然遗产核心区”【喀拉峻大草原】。这里是天山世界自然遗产的核心\\n区，它定义了一种“草原在空中，森林在山下”的立体草原景观。位于天山山腰的喀拉峻大草原，鲜花遍\\n野，牛羊成群，毡房点点，远处天山雪峰横亘。\\n· 晚上\\n今晚，游侠客特别安排住在喀拉峻大草原上的哈萨克毡房，体验哈萨克民族的游牧文化。晴朗的夜晚繁星\\n灿烂，我们静静坐在毡房前，抬头即可仰望漫天星河，喜欢星空摄影的游侠也不要错过哦。\\n\\uf0b7车程：巴音布鲁克-特克斯：约320KM；特克斯-喀拉峻：约30KM\\n\\uf0b7用餐：含早，正餐自理\\n\\uf0b7住宿：喀拉峻草原哈萨克毡房多人包（公卫，不可洗澡，自备洗漱用品，赠送定制贴身睡袋）\\n或特克斯酒店标间\\n\\uf0b7备注：1、毡房住宿说明：哈萨克毡房和蒙古包相似，根据毡房大小不同，一般10-20 人一个\\n毡房，公共卫浴，男女分住，游侠客赠送定制贴身睡袋（大巴车不能进景区，需简装行李）2、\\n毡房是牧民移动的家，每年开放的时间不确定，营地位置也会每年调整；5 月份气温较低，景区\\n'),\n Document(metadata={'source': '../../../file/79523710-喀纳斯+环天山丨北疆全景12日(首次入疆推荐).pdf', 'file_path': '../../../file/79523710-喀纳斯+环天山丨北疆全景12日(首次入疆推荐).pdf', 'page': 4, 'total_pages': 16, 'format': 'PDF 1.7', 'title': '', 'author': '', 'subject': '', 'keywords': '', 'creator': 'WPS 文字', 'producer': 'macOS 版本14.2.1（版号23C71） Quartz PDFContext', 'creationDate': \"D:20240808094919+01'49'\", 'modDate': \"D:20240808094919+01'49'\", 'trapped': ''}, page_content='内还无法住宿，需要住到特克斯县城酒店（距离景区15 分钟车程）；6 月中上旬开始住景区内\\n毡房3、小车4-5 人团队，由于人数比较少，无法住宿景区内毡房，今晚调整为特克斯县酒店\\n标间\\n\\uf0b7亮点/摄点：天山立体草原“喀拉峻”、体验哈萨克族草原毡房文化、仰望星空之夜\\n第6 天喀拉峻草原（全天游玩）[大巴]伊宁\\n· 早晨\\n清晨，在天山大草原上醒来，想看雪山草原日出的游侠，可以约上几个小伙伴去营地附近山坡上守候，等\\n待阳光一点一点照亮雪山、草原。想睡懒觉的朋友也可以睡到自然醒。早餐后，根据景交车时间离开，今\\n天我们有一整天时间在草原上玩耍。\\n· 上午\\n游侠客会带着大家深入登上【鲜花台】，在草原上漫步，欣赏天山草原上的五花草甸，远处连绵起伏的天\\n山雪山。\\n之后继续前往【猎鹰台】，领队会带着大家草原上休闲徒步一段，深入到喀拉峻森林大峡谷边缘，俯瞰\\n“空中草原”和三级夷平面，震撼壮观！相比于其他团队来去匆匆，我们有充足的时间在大草原上奔跑、\\n撒欢、拍照、发呆，在蓝天白云中放空自己，在草原上野餐（需要提前一天准备零食干粮），大家席地而\\n坐，分享美食。\\n· 下午\\n午后乘坐索道穿越库尔代河，进入【阔克苏大峡谷景区】，前往著名的鳄鱼湾，一条绿色的草原鳄鱼，静\\n静的匍匐在峡谷之中；漫步阔克苏大峡谷的悬崖栈道，寻找脍炙人口的人体草原和小九曲十八弯。\\n游玩尽兴离开，坐快艇穿越喀拉峻湖，水面蓝的像翡翠一般，被划出白色浪花。之后，前往伊犁哈萨克自\\n治州首府【伊宁市】，入住酒店休息。\\n\\uf0b7车程：喀拉峻-伊宁：约140KM\\n\\uf0b7用餐：含早，正餐自理（中餐在景区内，需提前一天带干粮）\\n\\uf0b7住宿：伊宁市网评3-4 钻商务酒店标间\\n\\uf0b7亮点/摄点：喀拉峻草原全天游玩！草原日出，鲜花台看草原雪山，猎鹰台轻徒步、阔克苏大峡\\n谷、鳄鱼湾、人体草原\\n'),\n Document(metadata={'source': '../../../file/79523710-喀纳斯+环天山丨北疆全景12日(首次入疆推荐).pdf', 'file_path': '../../../file/79523710-喀纳斯+环天山丨北疆全景12日(首次入疆推荐).pdf', 'page': 5, 'total_pages': 16, 'format': 'PDF 1.7', 'title': '', 'author': '', 'subject': '', 'keywords': '', 'creator': 'WPS 文字', 'producer': 'macOS 版本14.2.1（版号23C71） Quartz PDFContext', 'creationDate': \"D:20240808094919+01'49'\", 'modDate': \"D:20240808094919+01'49'\", 'trapped': ''}, page_content='第7 天伊宁[大巴]薰衣草或六星街[大巴]果子沟大桥[大巴]赛里木湖[大巴]精河/奎屯\\n· 上午\\n早餐后离开，上午游玩【六星街】，这是伊宁市的一个古老街区，始建于上世纪30 年代，由德国工程师\\n瓦斯里规划设计。街区平面呈圆形，有六条主干道从中心向外辐射，把街区分成六个扇形地区，中心为学\\n校、商铺、清真寺等公共建筑，外围为居住区，住着汉、哈萨克、回、维吾尔、俄罗斯等七八个民族的居\\n民，形成一个多民族特色融合的特色居住模式。\\n薰衣草说明：（7 月17 号更新）\\n薰衣草的花期已经接近尾声，7 月20 日开始，所有团队不再前往【薰衣草庄园】，调整前往【六星街】\\n游玩。\\n· 下午\\n午餐后，途经壮观的果子沟大桥（高速公路，车上游览），抵达“大西洋的最后一滴眼泪”【赛里木\\n湖】。\\n湖面呈蔚蓝色，四周被辽阔的草原、高耸的云杉以及雪山白云所包围。游侠客特别安排赛里木湖360 度\\n环湖（自家车环湖，停车灵活自由），沿景区环湖公路，从不同的角度欣赏高山湖泊优美景观，邂逅白天\\n鹅自然保护区。我们意犹未尽的离开，前往精河县城酒店入住。\\n\\uf0b7车程：约280KM\\n\\uf0b7用餐：含早，正餐自理\\n\\uf0b7住宿：精河县/奎屯市网评3 钻商务酒店标间\\n\\uf0b7备注：1. 薰衣草盛花期，游侠客赠送【薰衣草农场】参观游玩（农田中，面积更大，门票已\\n含）；当农田中的收割后，则调整前往薰衣草庄园，这里的观赏薰衣草不会收割，但是庄园出口\\n处有薰衣草制品的销售柜台，并非购物点，无需购买！2. 薰衣草花期过后（7 月下旬），薰衣\\n草行程调整为【伊宁六星街】游玩。\\n\\uf0b7亮点/摄点：世界三大薰衣草种植基地之一、果子沟大桥、赛里木湖自家车360°环湖\\n'),\n Document(metadata={'source': '../../../file/79523710-喀纳斯+环天山丨北疆全景12日(首次入疆推荐).pdf', 'file_path': '../../../file/79523710-喀纳斯+环天山丨北疆全景12日(首次入疆推荐).pdf', 'page': 6, 'total_pages': 16, 'format': 'PDF 1.7', 'title': '', 'author': '', 'subject': '', 'keywords': '', 'creator': 'WPS 文字', 'producer': 'macOS 版本14.2.1（版号23C71） Quartz PDFContext', 'creationDate': \"D:20240808094919+01'49'\", 'modDate': \"D:20240808094919+01'49'\", 'trapped': ''}, page_content='第8 天精河/奎屯[大巴]安集海大峡谷或独山子大峡谷[大巴]乌尔禾魔鬼城[大巴]乌尔禾\\n· 上午\\n早餐后出发，前往【安集海大峡谷】游玩，纵横交错的沟壑，从峡谷边缘一直延伸至谷底。大峡谷以其\\n险、奇而著称，刀削斧劈的崖壁，蜿蜒曲折的流水，气势磅礴的深谷，色彩斑斓的奇石，无不让游客流连\\n忘返。\\n重要提示：\\n8 月6 日景区通知，安集海大峡谷暂停开放，替补前往【独山子大峡谷】景区游玩，门票由游侠客承\\n担。若景区恢复开放，则按原行程走法。\\n· 下午\\n午后一路向北，来到“石油之城克拉玛依”，沿途茫茫戈壁滩磕头虫（采油机）林立；傍晚，进入“神秘\\n龙城”【乌尔禾魔鬼城】，因其独特的地理地貌被《中国国家地理》评为“中国至美雅丹”，也是《卧虎\\n藏龙》《七剑下天山》等大片的外景地。赏雅丹风蚀地貌，体验大自然的鬼斧神工，历经亿万年的风削雨\\n蚀所形成的乌尔禾魔鬼城，游玩尽兴后，前往酒店休息。\\n\\uf0b7车程：约480KM（高速为主）\\n\\uf0b7用餐：含早，正餐自理\\n\\uf0b7住宿：乌尔禾镇网评3 钻商务酒店标间\\n\\uf0b7备注：行程D9、D10 两晚住宿景区内，携带拉杆箱乘坐景交车不方便，建议轻装简行（仅带\\n上生活必需品及贵重物品）\\n\\uf0b7亮点/摄点：天山大地的壮阔峡谷，准噶尔盆地戈壁地貌，世界魔鬼城“乌尔禾魔鬼城”\\n第9 天乌尔禾[大巴]禾木\\n· 上午\\n早餐后离开，一路北上前往“神的后花园”禾木。\\n'),\n Document(metadata={'source': '../../../file/79523710-喀纳斯+环天山丨北疆全景12日(首次入疆推荐).pdf', 'file_path': '../../../file/79523710-喀纳斯+环天山丨北疆全景12日(首次入疆推荐).pdf', 'page': 7, 'total_pages': 16, 'format': 'PDF 1.7', 'title': '', 'author': '', 'subject': '', 'keywords': '', 'creator': 'WPS 文字', 'producer': 'macOS 版本14.2.1（版号23C71） Quartz PDFContext', 'creationDate': \"D:20240808094919+01'49'\", 'modDate': \"D:20240808094919+01'49'\", 'trapped': ''}, page_content='· 下午\\n午后，随着车辆逐渐驶入阿尔泰山脉腹地，蓝天白云下、草原花开似锦，沿途风光让人惊叫不已。\\n换景交车进入【禾木景区】，安排好房间后自由活动。可以在村子或周边随意散步，体验图瓦族、哈萨克\\n族风情，欣赏禾木风光；也可以前往美丽峰草原（也可骑马前往，费用自理；单程5 公里左右，注意安\\n全）。河水、桦林、炊烟、木屋、毡房、牛羊、马背上的图瓦牧民……汇集成一幅优美的风景画。\\n傍晚时分，我们前往日落观景台，群山环抱的“桃源秘境”尽收眼底：屋舍俨然，阡陌交通，鸡犬相闻，\\n日暮时分升起袅袅炊烟，禾木河在白桦林的掩映中淙淙流淌，夕阳柔和地洒在一栋栋图瓦小木屋上，暮归\\n的牛群缓慢走过禾木桥......晴朗的夜晚，星空璀璨，爱好拍摄星空的游侠不可错过。\\n\\uf0b7车程：约340KM\\n\\uf0b7用餐：含早，正餐自理\\n\\uf0b7住宿：禾木景区内小木屋，独卫标间（可洗澡）\\n\\uf0b7备注：1. 景区内住宿为图瓦族特色小木屋，游侠客精选条件较好的2 人间，干净卫生，标间\\n独卫；住景区内可以欣赏日暮、晨曦、星空，省下更多游玩时间2. 景区内住宿供不应求，当地\\n住宿有不成文规定，要求吃住一体化，住在哪家，必须吃一餐正餐，不然民宿不提供第二天早\\n餐，敬请谅解（明码标价，可点餐也可定团餐，费用AA）3. 景区内住宿以民宿为主，每家接待\\n能力有限，会产生一个团队分2-3 家住宿的情况，这几年住宿条件和服务虽有很大的改善，但\\n与城市相比仍然有差距，请多理解\\n\\uf0b7亮点/摄点：神的后花园“禾木”、半日自由活动，美丽峰徒步、禾木村日落晚霞\\n第10 天禾木[大巴]喀纳斯\\n· 早晨\\n今天就不要睡懒觉了，禾木清晨的美景怎能错过。趁太阳升起之前，登上【哈登观景台】，欣赏晨曦中的\\n禾木村，清晨的山谷常常伴有晨雾，薄薄的云雾如白纱般飘荡在山谷中，村庄炊烟升起，美轮美奂。\\n· 上午\\n适时离开，前往“神的自留地”【喀纳斯】。\\n· 下午\\n趁着中午阳光正好，登顶喀纳斯【观鱼台】远眺，观鱼台建于海拔2030 米的骆驼峰山顶，与湖面的垂直\\n落差600 多米，登高望远，可以俯瞰整个喀纳斯湖，天气好的话还可远眺中俄边境白雪皑皑的的友谊\\n'),\n Document(metadata={'source': '../../../file/79523710-喀纳斯+环天山丨北疆全景12日(首次入疆推荐).pdf', 'file_path': '../../../file/79523710-喀纳斯+环天山丨北疆全景12日(首次入疆推荐).pdf', 'page': 8, 'total_pages': 16, 'format': 'PDF 1.7', 'title': '', 'author': '', 'subject': '', 'keywords': '', 'creator': 'WPS 文字', 'producer': 'macOS 版本14.2.1（版号23C71） Quartz PDFContext', 'creationDate': \"D:20240808094919+01'49'\", 'modDate': \"D:20240808094919+01'49'\", 'trapped': ''}, page_content='峰。\\n之后乘车前往【喀纳斯湖】，沿湖边栈道漫步（1.5 公里平路，休闲舒适），享受林间的阴翳舒适，看着\\n奔腾的喀纳斯河卷起层层浪花。游玩尽兴后返回客栈休息。\\n\\uf0b7车程：约60KM\\n\\uf0b7用餐：含早，正餐自理\\n\\uf0b7住宿：喀纳斯景区内小木屋，独卫标间（可洗澡）\\n\\uf0b7备注：1. 景区内住宿为图瓦族特色小木屋，游侠客精选条件较好的2 人间，干净卫生，标间\\n独卫；住景区内可以欣赏日暮、晨曦、星空，省下更多游玩时间2. 景区内住宿供不应求，当地\\n住宿有不成文规定，要求吃住一体化，住在哪家，必须吃一餐正餐，不然民宿不提供第二天早\\n餐，敬请谅解（明码标价，可点餐也可定团餐，费用AA）3. 景区内住宿以民宿为主，每家接待\\n能力有限，会产生一个团队分2-3 家住宿的情况，这几年住宿条件和服务虽有很大的改善，但\\n与城市相比仍然有差距，请多理解\\n\\uf0b7亮点/摄点：禾木村登高看日出晨曦，北疆秘境“喀纳斯”，观鱼台寻找湖怪、喀纳斯湖边休闲\\n漫步\\n第11 天喀纳斯[大巴]五彩滩[大巴]北屯市\\n· 上午\\n清晨，前往著名的【喀纳斯三湾】（神仙湾、月亮湾、卧龙湾），运气好的话，可以拍到梦幻的神仙湾晨\\n雾。之后领队会带领大家来一段【三湾休闲徒步】（从月亮湾徒步到卧龙湾，3KM，下坡为主，强度不\\n大），沿着奔腾的喀纳斯河，近距离拍摄月亮湾，寻找月亮湾神秘的大脚印，一路边走边拍，之后抵达卧\\n龙湾（不想徒步的游侠，可以乘坐景交车游览三湾）。\\n· 下午\\n集合完毕后离开喀纳斯景区，前往“临水雅丹”【五彩滩】，五彩滩地处额尔齐斯河北岸，它是我国独一\\n注入北冰洋的河流。岩层含有不同的矿物质，激猛的河流冲击和狂风侵蚀，幻化出多种色彩，形成了独特\\n的悬崖式雅丹地貌。柔和的阳光洒在五彩河滩，色彩鲜艳，美轮美奂。游玩尽兴后，前往酒店休息。\\n提前离团说明（5 月21 日更新）：\\n'),\n Document(metadata={'source': '../../../file/79523710-喀纳斯+环天山丨北疆全景12日(首次入疆推荐).pdf', 'file_path': '../../../file/79523710-喀纳斯+环天山丨北疆全景12日(首次入疆推荐).pdf', 'page': 9, 'total_pages': 16, 'format': 'PDF 1.7', 'title': '', 'author': '', 'subject': '', 'keywords': '', 'creator': 'WPS 文字', 'producer': 'macOS 版本14.2.1（版号23C71） Quartz PDFContext', 'creationDate': \"D:20240808094919+01'49'\", 'modDate': \"D:20240808094919+01'49'\", 'trapped': ''}, page_content='今晚入住北屯市，北屯市火车站有卧铺火车前往乌鲁木齐市，如需提前离团，请在订单中备注“北屯离\\n开”，自行购买火车票；2 人一间的，可以退北屯市住宿费，联系客服减少费用。\\n根据铁路部门运营调整，原先推荐的Y966 次列车暂时停运！重新开放需等12306 通知，替补火车参考\\n班次：K9736（北屯20:58-乌鲁木齐07:24+1），坐火车提前离团的游侠，需要舍弃五彩滩景区，自行包\\n车前往北屯市，敬请谅解\\n\\uf0b7车程：禾木-五彩滩：约160KM；五彩滩-北屯：约110KM\\n\\uf0b7用餐：含早，正餐自理\\n\\uf0b7住宿：北屯市网评3-4 钻商务酒店标间\\n\\uf0b7备注：北屯市优质酒店数量有限，若遇特殊情况备选安排附近福海县的优质酒店\\n\\uf0b7亮点/摄点：喀纳斯三湾（神仙湾、月亮湾、卧龙湾）晨曦、三湾休闲徒步，五彩滩临水丹霞\\n第12 天北屯市[大巴]S21 沙漠公路[大巴]乌鲁木齐（★活动解散日）\\n· 上午\\n早餐后离开，沿着新修通的S21 沙漠高速公路，穿越“中国第二大盆地”准噶尔盆地，车上欣赏古尔班\\n通古特沙漠的浩瀚风光，返回乌鲁木齐。\\n· 下午\\n预计14:30 抵达乌鲁木齐，先后送乌鲁木齐地窝堡机场、乌鲁木齐火车站（新客站）、市区集合酒店，\\n就此结束北疆之旅。\\n当天离开乌鲁木齐的游侠，请订下午16:30 之后的机票或火车。\\n\\uf0b7车程：约440KM,（全程高速）\\n\\uf0b7用餐：含早，正餐自理\\n\\uf0b7亮点/摄点：穿越“中国第二大盆地”准噶尔盆地，古尔班通古特沙漠风光\\n费用说明\\n费用包含\\n'),\n Document(metadata={'source': '../../../file/79523710-喀纳斯+环天山丨北疆全景12日(首次入疆推荐).pdf', 'file_path': '../../../file/79523710-喀纳斯+环天山丨北疆全景12日(首次入疆推荐).pdf', 'page': 10, 'total_pages': 16, 'format': 'PDF 1.7', 'title': '', 'author': '', 'subject': '', 'keywords': '', 'creator': 'WPS 文字', 'producer': 'macOS 版本14.2.1（版号23C71） Quartz PDFContext', 'creationDate': \"D:20240808094919+01'49'\", 'modDate': \"D:20240808094919+01'49'\", 'trapped': ''}, page_content='【成人】\\n交通\\nD2-D12 包车费、路桥费、司机津贴食宿（每团上限25 人，4-5 人7 座商\\n务车，6-10 人安排18 座中巴，11-25 人安排33-39 座大巴）\\n住宿\\n行程中所列11 晚住宿费用\\n餐食\\n全程酒店含早餐\\n门票及景交\\n坎儿井门票、库木塔格沙漠门票+景交、吐峪沟门票、火焰山柏孜克里克千佛\\n洞门票、巴音布鲁克门票+景交、喀拉峻+阔克苏全景游门票（含门票+景交+\\n索道+游轮）、赛里木湖门票+环湖费用、乌尔禾魔鬼城门票+景交、禾木门\\n票+景交、喀纳斯门票+景交、五彩滩门票\\n体验项目\\n维吾尔族家访体验\\n随团服务人员\\n工作人员带队费用及食宿补贴等（4-5 人安排司机+在线管家；6-15 人司机\\n+导游；16-25 人司机+导游+游侠客领队）\\n优惠补充说明\\n如持有军官证、伤残证、学生证、教师证等特殊证件，请在下单时备注，并\\n携带原件，在团上向服务人员出示。因旅行社在景区门票上面是折扣票，优\\n惠减免是按旅行社折扣价退还，不以景区挂牌价退还，优惠金额以景区政策\\n为准。活动结束后线上退款/现场退款\\n由于喀纳斯、禾木景区门票紧张，无法单独预约优惠证件门票，均按照正常\\n价出票（高龄优惠除外），无优惠金额退返，敬请谅解\\n【儿童】\\n交通\\n标准同成人\\n体验项目\\n标准同成人\\n随团服务人员\\n标准同成人\\n其他\\n儿童费用不占床位（与成人共用床铺，若1 成人单独携带儿童出行，请补1\\n份房差安排1 间房）、不含门票（可自行购买或由服务人员代买）、不含早\\n'),\n Document(metadata={'source': '../../../file/79523710-喀纳斯+环天山丨北疆全景12日(首次入疆推荐).pdf', 'file_path': '../../../file/79523710-喀纳斯+环天山丨北疆全景12日(首次入疆推荐).pdf', 'page': 11, 'total_pages': 16, 'format': 'PDF 1.7', 'title': '', 'author': '', 'subject': '', 'keywords': '', 'creator': 'WPS 文字', 'producer': 'macOS 版本14.2.1（版号23C71） Quartz PDFContext', 'creationDate': \"D:20240808094919+01'49'\", 'modDate': \"D:20240808094919+01'49'\", 'trapped': ''}, page_content='餐\\n自理费用\\n交通\\n各地往返乌鲁木齐的费用（请在报名缴费成功后再预订大交通）\\n保险\\n游侠客提供不同的保险套餐，请下单过程中自行选购\\n餐食\\n全程正餐，游侠客提倡自由用餐，根据自己口味选择，约伴一起AA\\n单房差\\n行程中所列住宿标间含2 个床位。单人报名的，游侠客担保拼房，安排同性\\n客人或领队、导游拼房；若不同意游侠客安排拼房，请补1 份单房差以享用\\n整个房间（标注多人间的除外）\\n赠送项目\\n赠送项目\\n薰衣草花开时节，薰衣草农场参观门票\\n住毡房团队赠送“游侠客定制纯棉隔脏睡袋”，干净卫生\\n赠送观鱼台门票\\n每人每天一瓶水；游侠客百变头巾和徽章；品尝2 次新疆水果\\n活动成团说明\\n适合人群及年龄\\n出行人年龄范围：6 岁(含) ~ 70 岁(含);\\n深度旅游爱好者（不接受未成年人单独报名）\\n最低成团人数\\n4 人成行，每团上限25 人\\n随身药物提醒\\n自带感冒药、肠胃药、晕车药、创口贴等个人常用药品\\n预订限制\\n'),\n Document(metadata={'source': '../../../file/79523710-喀纳斯+环天山丨北疆全景12日(首次入疆推荐).pdf', 'file_path': '../../../file/79523710-喀纳斯+环天山丨北疆全景12日(首次入疆推荐).pdf', 'page': 12, 'total_pages': 16, 'format': 'PDF 1.7', 'title': '', 'author': '', 'subject': '', 'keywords': '', 'creator': 'WPS 文字', 'producer': 'macOS 版本14.2.1（版号23C71） Quartz PDFContext', 'creationDate': \"D:20240808094919+01'49'\", 'modDate': \"D:20240808094919+01'49'\", 'trapped': ''}, page_content='国籍限制\\n由于政策限制，暂不接受港、澳、台户籍居民及外籍人士报名，敬请理解\\n其他限制\\n活动装备\\n气温提示\\n新疆气温早晚温差大，白天20-30 度，早晚可能5-10 度。部分地区可能\\n低至0 度\\n衣服\\n早晚建议户外三件套（冲锋衣+抓绒衣/毛衣+保暖内衣/T 恤），白天T 恤+\\n外套/皮肤衣；吐鲁番地区比较热，日落后稍凉，新疆气候干燥，不太出汗，\\n外套尽量选耐脏的即可\\n下装\\n防风、防水的裤子\\n鞋子\\n宽松舒适的户外鞋、休闲鞋，中帮高帮鞋，防水、防滑、保暖优先\\n背负装备\\n拉杆箱+小包（摄影包）\\n摄影装备\\n摄影器材、无人机、三脚架、各类充电器、存储卡等\\n重要证件\\n身份证等重要证件、些许现金备用\\n其他\\n保温杯、雨具、帽子、手套、太阳镜、防晒霜、润唇膏、个人洗漱用品\\n注意事项\\n1.\\n新疆疆域较大，行程线路长，景点分散。故乘车时间长易疲劳，注意休息，建议带一些零食和饮\\n用水在身边。大部分行程路况都不错，部分路段会有点颠簸\\n2.\\n3.\\n天气：早晚温差大，不同区域温度差异较大，草原森林夏季（7、8 月份）温度一般在15~30 度\\n左右，需要注意增减衣服。帽子、太阳镜必备；吐鲁番盆地一带，白天气温较高，防暑降温。\\n4.\\n'),\n Document(metadata={'source': '../../../file/79523710-喀纳斯+环天山丨北疆全景12日(首次入疆推荐).pdf', 'file_path': '../../../file/79523710-喀纳斯+环天山丨北疆全景12日(首次入疆推荐).pdf', 'page': 13, 'total_pages': 16, 'format': 'PDF 1.7', 'title': '', 'author': '', 'subject': '', 'keywords': '', 'creator': 'WPS 文字', 'producer': 'macOS 版本14.2.1（版号23C71） Quartz PDFContext', 'creationDate': \"D:20240808094919+01'49'\", 'modDate': \"D:20240808094919+01'49'\", 'trapped': ''}, page_content='5.\\n白天紫外线较强，需做好防晒准备；建议涂抹防晒霜等；自由用餐期间，选择干净卫生有资质的\\n餐厅。自由游玩期间，注意安全。\\n6.\\n7.\\n新疆旅游资源丰富，景色迷人，但大多数地区条件还较落后，住宿及餐饮等条件和中东部以及大\\n城市相比还有差距，大家平常心看待；饮食以面食和牛羊肉等为主，菜口味偏重。带一些肠胃药\\n物非常有必要（以防水土不服）。\\n8.\\n9.\\n新疆卖东西都是以公斤论的，千万别搞错了，多付给人家一倍的钱。新疆当地客运民航及铁路对\\n维吾尔民族工艺小刀等有禁运的规定\\n10.\\n11.\\n新疆地理位置位于东六时区，北京位于东八时区，故新疆与内地大多城市有2 小时时差，作息\\n时间相应推后2 小时。旅游期间活动安排一般通常在9：00 至20：00 之间，故吃饭时间也\\n会稍作后延（新疆过的是北京时间）。\\n12.\\n13.\\n新疆是少数民族地区，宗教色彩浓厚，信仰伊斯兰教的民族是不吃猪肉的，这是他们在生活中的\\n大禁忌，不可冒犯。因此，旅游者应注意不要在清真餐厅携带食用有猪肉的食品或者公开谈论有\\n关猪肉的话题，以免造成不必要的误会。为尊重穆斯林的习俗，新疆称猪肉为大肉。\\n14.\\n15.\\n以上行程为摄驴以及深度游爱好者设计，内容极为丰富，所见之精彩是普通旅游团所不能比．相\\n机、三脚架等一概带上。\\n16.\\n'),\n Document(metadata={'source': '../../../file/79523710-喀纳斯+环天山丨北疆全景12日(首次入疆推荐).pdf', 'file_path': '../../../file/79523710-喀纳斯+环天山丨北疆全景12日(首次入疆推荐).pdf', 'page': 14, 'total_pages': 16, 'format': 'PDF 1.7', 'title': '', 'author': '', 'subject': '', 'keywords': '', 'creator': 'WPS 文字', 'producer': 'macOS 版本14.2.1（版号23C71） Quartz PDFContext', 'creationDate': \"D:20240808094919+01'49'\", 'modDate': \"D:20240808094919+01'49'\", 'trapped': ''}, page_content='17.\\n新疆素有“瓜果之乡”之称，到新疆吃水果是一大乐事，但也要适可而止，千万注意不要在吃完\\n水果后喝热茶，以免造成腹泻。\\n18.\\n19.\\n沙漠地区进行摄影，容易导致细沙进入镜头。做好防护措施，并尽量不要去更换镜头。\\n20.\\n21.\\n由于天气，路况，修路，政府接待，景区规定等人力不可抗拒的原因，在不影响游览和拍摄的情\\n况下，我司有权做相应调整。所造成的费用由参加者自行负担，请大家一定要体谅，我们这是在\\n西域。\\n22.\\n23.\\n妥善保管好自身贵重物品及财物，尤其是身份证件\\n24.\\n常见问题\\n问：此行气温怎么样？需要穿什么衣服？带什么装备？\\n答：由于我们的线路涉及范围比较广，沿途天气和气温变化都比较大。天山伊犁一带，早晚气温都比较\\n低，早晚建议是户外三件套（冲锋衣+抓绒衣+T 恤），中午就比较暖和；东疆吐鲁番地区，气温早晚比\\n较凉快，白天温度很高，单衣轻薄外套或皮肤衣即可。爱美的女士可以准备一下漂亮的裙子之类的衣服，\\n注意防晒。装备方面，具体可以参考我们的“活动装备”一栏。\\n问：新疆什么时候花开的较好？\\n答：4 月中上旬是新源逆温层野杏开花的时候；\\n4 月中下旬到5 月初是霍城、那拉提野果林花开的时候；\\n5 月中下旬到6 月初是天山红花盛开的时候（一般只在上午开）；\\n5 月中旬到6 月下旬，是赛里木湖花开季节（不同时间，不同湖段，花品不同）\\n'),\n Document(metadata={'source': '../../../file/79523710-喀纳斯+环天山丨北疆全景12日(首次入疆推荐).pdf', 'file_path': '../../../file/79523710-喀纳斯+环天山丨北疆全景12日(首次入疆推荐).pdf', 'page': 15, 'total_pages': 16, 'format': 'PDF 1.7', 'title': '', 'author': '', 'subject': '', 'keywords': '', 'creator': 'WPS 文字', 'producer': 'macOS 版本14.2.1（版号23C71） Quartz PDFContext', 'creationDate': \"D:20240808094919+01'49'\", 'modDate': \"D:20240808094919+01'49'\", 'trapped': ''}, page_content='5 月下旬到7 月下旬是喀拉峻草原花开较好的时候（黄、紫两色为主；不同时段，花品不同）\\n每年6-8 月上旬，是喀纳斯高山花开以及禾木草原花开的时间\\n6 月中下旬到7 月，伊犁霍城的薰衣草都开得很灿烂；薰衣草是当地农民种植的经济作物，成熟后（一\\n般6 月下旬）会收割制作精油！专门的薰衣草庄园会保留至7 月下旬到8 月初\\n6 月下旬到7 月下旬，是巴音布鲁克和巩乃斯达坂花开的时候（海拔高，花开较晚）；\\n7-8 月是向日葵、油菜、土豆开花了，还可看到风吹麦浪的美景；\\n7-8 月包括葡萄在内的很多瓜果成熟了，这时候zui 有口福；\\n因为花期受每年气候影响很大，以上仅供参考！此团队是系列团，组织方不保证每个批次都能看到理想的\\n花。\\n目的地介绍\\n新疆维吾尔自治区是举世闻名的歌舞之乡、瓜果之乡、黄金玉石之邦。新疆幅员辽阔，地大物博，山川壮\\n丽，瀚海无垠，古迹遍地，民族众多，民俗奇异。旅游资源极为丰富，全国旅游资源共有68 种，而新疆\\n就有56 种，占全国旅游资源类型的83%。全疆共有景点一千一百余处，居全国首位，在这广阔大地\\n上，冰川雪岭与戈壁瀚海共生，高原山水景观蕴含在天山、阿尔泰山、昆仑山等世界名山之中，有着众多\\n的雪域冰川、叠嶂雄峰、飞泉瀑布、珍奇异兽。这里有海拔8600 米的世界第二高峰，又有低于海平面\\n154 米的中国zui 低洼地，既有一泄千里的河流、万顷碧波的草原，又有光怪陆离的戈壁幻境，神秘莫\\n测的沙漠奇观。保存完好的原始动植物种群，更显出得天独厚的大自然的本色\\n以上行程仅供参考\\n打印时间：2024-08-08 09:48:10\\n游侠客国际旅游有限公司地址：浙江省杭州市西湖区教工路198 号浙商大创业园D 幢3 楼\\n客服电话：400-670-6300 传真：87208694\\n游侠客(YouXiaKe.com):旅行者的社交网络，专业的在线旅游服务商！下设：旅行社、会展公司、拓展部、\\n俱乐部、车友会、摄影协会、以及票务和订房服务部。欢迎各企事业单位、社会团体来电、来函、洽谈各\\n类合作!\\n')]"
     },
     "execution_count": 5,
     "metadata": {},
     "output_type": "execute_result"
    }
   ],
   "source": [
    "docs"
   ],
   "metadata": {
    "collapsed": false,
    "ExecuteTime": {
     "end_time": "2024-08-08T04:31:44.472252Z",
     "start_time": "2024-08-08T04:31:44.450731Z"
    }
   },
   "id": "986e3a629de66e29",
   "execution_count": 5
  },
  {
   "cell_type": "code",
   "outputs": [],
   "source": [
    "from langchain.text_splitter import CharacterTextSplitter\n",
    "\n",
    "text_splitter = CharacterTextSplitter(chunk_size=1000, chunk_overlap=0, add_start_index=True)\n",
    "splits = text_splitter.split_documents(docs)"
   ],
   "metadata": {
    "collapsed": false,
    "ExecuteTime": {
     "end_time": "2024-08-08T04:31:48.000162Z",
     "start_time": "2024-08-08T04:31:47.964244Z"
    }
   },
   "id": "2bac9948a88526d7",
   "execution_count": 6
  },
  {
   "cell_type": "code",
   "outputs": [
    {
     "data": {
      "text/plain": "16"
     },
     "execution_count": 7,
     "metadata": {},
     "output_type": "execute_result"
    }
   ],
   "source": [
    "len(splits)"
   ],
   "metadata": {
    "collapsed": false,
    "ExecuteTime": {
     "end_time": "2024-08-08T04:31:49.872300Z",
     "start_time": "2024-08-08T04:31:49.865136Z"
    }
   },
   "id": "367f0672067e040f",
   "execution_count": 7
  },
  {
   "cell_type": "code",
   "outputs": [],
   "source": [
    "from langchain.vectorstores import Chroma\n",
    "\n",
    "persist_directory = '/Users/pangmengting/Documents/workspace/python-learning/data/chroma_vector_db'\n",
    "collection_name = 'chat-pdf-index'\n",
    "# 创建\n",
    "vectorstore = Chroma.from_documents(\n",
    "    splits,\n",
    "    qw_embedding,\n",
    "    collection_name=collection_name,\n",
    "    persist_directory=persist_directory\n",
    ")"
   ],
   "metadata": {
    "collapsed": false,
    "ExecuteTime": {
     "end_time": "2024-08-08T04:32:01.941318Z",
     "start_time": "2024-08-08T04:32:00.560252Z"
    }
   },
   "id": "73ff1ce510bf379",
   "execution_count": 8
  },
  {
   "cell_type": "code",
   "outputs": [
    {
     "ename": "NameError",
     "evalue": "name 'splits' is not defined",
     "output_type": "error",
     "traceback": [
      "\u001B[0;31m---------------------------------------------------------------------------\u001B[0m",
      "\u001B[0;31mNameError\u001B[0m                                 Traceback (most recent call last)",
      "Cell \u001B[0;32mIn[2], line 7\u001B[0m\n\u001B[1;32m      3\u001B[0m fix_collection_name \u001B[38;5;241m=\u001B[39m \u001B[38;5;124m'\u001B[39m\u001B[38;5;124myxk-know-index-2\u001B[39m\u001B[38;5;124m'\u001B[39m\n\u001B[1;32m      4\u001B[0m persist_directory \u001B[38;5;241m=\u001B[39m \u001B[38;5;124m'\u001B[39m\u001B[38;5;124m/Users/pangmengting/Documents/workspace/python-learning/data/chroma_vector_db\u001B[39m\u001B[38;5;124m'\u001B[39m\n\u001B[1;32m      6\u001B[0m vectorstore \u001B[38;5;241m=\u001B[39m Chroma\u001B[38;5;241m.\u001B[39mfrom_documents(\n\u001B[0;32m----> 7\u001B[0m     \u001B[43msplits\u001B[49m,\n\u001B[1;32m      8\u001B[0m     qw_embedding,\n\u001B[1;32m      9\u001B[0m     collection_name\u001B[38;5;241m=\u001B[39mcollection_name,\n\u001B[1;32m     10\u001B[0m     persist_directory\u001B[38;5;241m=\u001B[39mpersist_directory\n\u001B[1;32m     11\u001B[0m )\n",
      "\u001B[0;31mNameError\u001B[0m: name 'splits' is not defined"
     ]
    }
   ],
   "source": [
    " "
   ],
   "metadata": {
    "collapsed": false,
    "ExecuteTime": {
     "end_time": "2024-08-08T03:57:58.947239Z",
     "start_time": "2024-08-08T03:57:58.641219Z"
    }
   },
   "id": "3caafb3baa7aef2c",
   "execution_count": 2
  },
  {
   "cell_type": "code",
   "outputs": [],
   "source": [
    "retriever = vectorstore.as_retriever()\n",
    "retriever.search_kwargs['k'] = 20"
   ],
   "metadata": {
    "collapsed": false,
    "ExecuteTime": {
     "end_time": "2024-08-08T04:32:46.099637Z",
     "start_time": "2024-08-08T04:32:46.092159Z"
    }
   },
   "id": "a8ecb30faa3127e8",
   "execution_count": 14
  },
  {
   "cell_type": "code",
   "outputs": [],
   "source": [
    "from langchain.chains.conversational_retrieval.base import ConversationalRetrievalChain\n",
    "\n",
    "qa = ConversationalRetrievalChain.from_llm(qw_llm_openai, retriever=retriever)"
   ],
   "metadata": {
    "collapsed": false,
    "ExecuteTime": {
     "end_time": "2024-08-08T04:32:47.781544Z",
     "start_time": "2024-08-08T04:32:47.777486Z"
    }
   },
   "id": "b2fe5166c238db62",
   "execution_count": 15
  },
  {
   "cell_type": "code",
   "outputs": [],
   "source": [
    "chat_history = []\n",
    "\n",
    "\n",
    "def ask(question, chat_history):\n",
    "    response = qa.invoke({\"question\": question, \"chat_history\": chat_history})\n",
    "    chat_history.append((question, response['answer']))\n",
    "    print(f\"Question:\\n {question}\\n\")\n",
    "    print(f\"Answer:\\n {response['answer']}\\n\")"
   ],
   "metadata": {
    "collapsed": false,
    "ExecuteTime": {
     "end_time": "2024-08-08T04:32:49.519479Z",
     "start_time": "2024-08-08T04:32:49.515954Z"
    }
   },
   "id": "f1e42ef2470c2b0",
   "execution_count": 16
  },
  {
   "cell_type": "code",
   "outputs": [],
   "source": [
    "query = '总结一下每日的行程'"
   ],
   "metadata": {
    "collapsed": false,
    "ExecuteTime": {
     "end_time": "2024-08-08T04:32:50.806887Z",
     "start_time": "2024-08-08T04:32:50.802944Z"
    }
   },
   "id": "ac5afe2397ddc00f",
   "execution_count": 17
  },
  {
   "cell_type": "code",
   "outputs": [
    {
     "name": "stdout",
     "output_type": "stream",
     "text": [
      "Question:\n",
      " 总结一下每日的行程\n",
      "\n",
      "Answer:\n",
      " 每日的行程如下:\n",
      "\n",
      "1. 第1天:\n",
      "- 各地往返乌鲁木齐的费用(请在报名缴费成功后再预订大交通)\n",
      "- 保险\n",
      "- 食宿\n",
      "- 餐食\n",
      "- 地接费\n",
      "- 签证\n",
      "\n",
      "2. 第2天:\n",
      "- 乌鲁木齐-吐鲁番:约80KM\n",
      "- 乌鲁木齐-和静:约340KM\n",
      "\n",
      "3. 第3天:\n",
      "- 和静-吐峪沟:约80KM\n",
      "- 吐峪沟-火焰山:约100KM\n",
      "- 和静-和静县网评3-4钻商务酒店标间\n",
      "\n",
      "4. 第4天:\n",
      "- 和静-察汗努尔达坂:约300KM\n",
      "- 巴音布鲁克:约400KM\n",
      "\n",
      "5. 第5天:\n",
      "- 和静-巴音布鲁克:约400KM\n",
      "- 巴音布鲁克-喀拉峻草原:约200KM\n",
      "\n",
      "6. 第6天:\n",
      "- 喀拉峻草原:约200KM\n",
      "- 喀拉峻草原-伊宁:约140KM\n",
      "\n",
      "7. 第7天:\n",
      "- 伊宁-赛里木湖:约280KM\n",
      "- 伊宁-精河/奎屯:约300KM\n",
      "\n",
      "8. 第8天:\n",
      "- 精河/奎屯-阿勒泰:约320KM\n",
      "\n",
      "9. 第9天:\n",
      "- 阿勒泰-乌鲁木齐:约400KM\n",
      "\n",
      "10. 第10天:\n",
      "- 乌鲁木齐-禾木:约200KM\n",
      "- 乌鲁木齐-喀纳斯:约200KM\n",
      "\n",
      "11. 第11天:\n",
      "- 喀纳斯-五彩滩:约160KM\n",
      "- 五彩滩-北屯市:约110KM\n",
      "\n",
      "12. 第12天:\n",
      "- 北屯市-乌鲁木齐:约440KM\n",
      "\n",
      "13. 第13天:\n",
      "- 乌鲁木齐-北屯市:约440KM\n",
      "\n",
      "14. 第14天:\n",
      "- 北屯市-乌鲁木齐:约440KM\n",
      "\n",
      "15. 第15天:\n",
      "- 乌鲁木齐-乌鲁木齐:约440KM\n",
      "\n",
      "16. 第16天:\n",
      "- 乌鲁木齐-乌鲁木齐:约440KM\n",
      "\n",
      "以上就是每日的行程安排。\n"
     ]
    }
   ],
   "source": [
    "ask(query, chat_history)"
   ],
   "metadata": {
    "collapsed": false,
    "ExecuteTime": {
     "end_time": "2024-08-08T04:32:57.952999Z",
     "start_time": "2024-08-08T04:32:51.210350Z"
    }
   },
   "id": "dbf13a1d3189d949",
   "execution_count": 18
  },
  {
   "cell_type": "code",
   "outputs": [],
   "source": [
    "chat_history = []"
   ],
   "metadata": {
    "collapsed": false,
    "ExecuteTime": {
     "end_time": "2024-08-08T04:34:03.168397Z",
     "start_time": "2024-08-08T04:34:03.160205Z"
    }
   },
   "id": "f5ada6c9a652de01",
   "execution_count": 20
  },
  {
   "cell_type": "code",
   "outputs": [
    {
     "name": "stdout",
     "output_type": "stream",
     "text": [
      "Question:\n",
      " 总结一下每日的行程，用中文回答\n",
      "\n",
      "Answer:\n",
      " The daily itinerary of this trip includes:\n",
      "\n",
      "Day 1: Fly or train from Beijing to Urumqi, meet at Urumqi and check into a hotel for the night.\n",
      "Day 2: Visit the Xinjiang Museum in Urumqi and explore the two-storey Bazaar in the city center. Enjoy dinner at a local restaurant.\n",
      "Day 3: Drive to Kucha (吐鲁番), visit the坎儿井, learn about ancient irrigation techniques used by the locals. Have dinner at a local restaurant.\n",
      "Day 4: Drive to Turpan, visit the Karez irrigation system, experience the life of the local people, have lunch at a local restaurant, and drive to and stay at a hotel in Turpan.\n",
      "Day 5: Drive to Hotan, visit the Kunlun Mountains, enjoy a traditional lunch at a local restaurant, and continue driving to and stay at a hotel in Hotan.\n",
      "Day 6: Drive to Ulan Quxi (阿勒泰), visit the Ular Valley and the Tianchi Lake, enjoy a picnic lunch with the local population, and continue driving to and stay at a hotel in Ulan Quxi.\n",
      "Day 7: Drive to Urumqi, visit the Xinjiang Museum again and enjoy a farewell dinner at a local restaurant.\n",
      "Day 8: Fly or take a train back to Beijing.\n",
      "The trip ends on Day 9.\n"
     ]
    }
   ],
   "source": [
    "query = '总结一下每日的行程，用中文回答'\n",
    "ask(query, chat_history)"
   ],
   "metadata": {
    "collapsed": false,
    "ExecuteTime": {
     "end_time": "2024-08-08T04:35:24.631710Z",
     "start_time": "2024-08-08T04:35:20.176637Z"
    }
   },
   "id": "b8d3ed9b8ecdb760",
   "execution_count": 24
  },
  {
   "cell_type": "code",
   "outputs": [
    {
     "data": {
      "text/plain": "[]"
     },
     "execution_count": 21,
     "metadata": {},
     "output_type": "execute_result"
    }
   ],
   "source": [
    "chat_history"
   ],
   "metadata": {
    "collapsed": false,
    "ExecuteTime": {
     "end_time": "2024-08-08T04:34:06.926674Z",
     "start_time": "2024-08-08T04:34:06.922894Z"
    }
   },
   "id": "220fa645e71c0358",
   "execution_count": 21
  },
  {
   "cell_type": "code",
   "outputs": [
    {
     "name": "stdout",
     "output_type": "stream",
     "text": [
      "Question:\n",
      " 判断节点是什么？如何设置？\n",
      "\n",
      "Answer:\n",
      " 判断节点在流程中用于通过提取信息的条件判断串联各节点，它可以根据提取的变量来实现机器人的自动回复。设置时，你可以对一个实体值或一个变量值进行判断。以下是设置的关键点：\n",
      "\n",
      "- 需要修改的设置项可能包括判断条件，这可以是对某个特定实体或变量的检查。\n",
      "- 你可以根据业务逻辑设置条件，例如，如果用户提供的信息满足特定条件，机器人将执行相应的回复或操作。\n",
      "\n",
      "由于没有具体的设置界面或详细步骤，我无法提供详细的设置过程。通常，你可能需要在后台编辑器中选择“添加判断节点”，然后配置判断条件、结果分支（当条件为真和为假时的回复或动作）以及可能涉及的变量。如果你有更具体的问题或者需要了解某个平台的详细步骤，可以告诉我，我会尽力帮助解答。\n"
     ]
    }
   ],
   "source": [
    "query = '判断节点是什么？如何设置？'\n",
    "ask(query, chat_history)"
   ],
   "metadata": {
    "collapsed": false,
    "ExecuteTime": {
     "end_time": "2024-07-17T10:17:19.481888Z",
     "start_time": "2024-07-17T10:17:08.131325Z"
    }
   },
   "id": "500661a3d699030c",
   "execution_count": 15
  },
  {
   "cell_type": "code",
   "outputs": [],
   "source": [],
   "metadata": {
    "collapsed": false
   },
   "id": "7799224aa4272fbe"
  },
  {
   "cell_type": "markdown",
   "source": [
    "=================================================================================================================="
   ],
   "metadata": {
    "collapsed": false
   },
   "id": "647bc6ff783a402b"
  },
  {
   "cell_type": "code",
   "outputs": [],
   "source": [
    "# 新方式\n",
    "from langchain.chains.retrieval import create_retrieval_chain\n",
    "from langchain.chains.history_aware_retriever import create_history_aware_retriever\n",
    "# from langchain.chains import (create_history_aware_retriever, create_retrieval_chain, )\n",
    "from langchain.chains.combine_documents import create_stuff_documents_chain\n",
    "from langchain_core.prompts import ChatPromptTemplate, MessagesPlaceholder\n",
    "\n",
    "# Contextualize question\n",
    "contextualize_q_system_prompt = (\n",
    "    \"Given a chat history and the latest user question \"\n",
    "    \"which might reference context in the chat history, \"\n",
    "    \"formulate a standalone question which can be understood \"\n",
    "    \"without the chat history. Do NOT answer the question, just \"\n",
    "    \"reformulate it if needed and otherwise return it as is.\"\n",
    ")\n",
    "contextualize_q_prompt = ChatPromptTemplate.from_messages(\n",
    "    [\n",
    "        (\"system\", contextualize_q_system_prompt),\n",
    "        MessagesPlaceholder(\"chat_history\"),\n",
    "        (\"human\", \"{input}\"),\n",
    "    ]\n",
    ")\n",
    "history_aware_retriever = create_history_aware_retriever(\n",
    "    qw_llm_openai, retriever, contextualize_q_prompt\n",
    ")\n",
    "\n",
    "# Answer question\n",
    "qa_system_prompt = (\n",
    "    \"You are an assistant for question-answering tasks. Use \"\n",
    "    \"the following pieces of retrieved context to answer the \"\n",
    "    \"question. If you don't know the answer, just say that you \"\n",
    "    \"don't know. Use three sentences maximum and keep the answer \"\n",
    "    \"concise.\"\n",
    "    \"\\n\\n\"\n",
    "    \"{context}\"\n",
    ")\n",
    "qa_prompt = ChatPromptTemplate.from_messages(\n",
    "    [\n",
    "        (\"system\", qa_system_prompt),\n",
    "        MessagesPlaceholder(\"chat_history\"),\n",
    "        (\"human\", \"{input}\"),\n",
    "    ]\n",
    ")\n",
    "# Below we use create_stuff_documents_chain to feed all retrieved context\n",
    "# into the LLM. Note that we can also use StuffDocumentsChain and other\n",
    "# instances of BaseCombineDocumentsChain.\n",
    "question_answer_chain = create_stuff_documents_chain(qw_llm_openai, qa_prompt)\n",
    "rag_chain = create_retrieval_chain(\n",
    "    history_aware_retriever, question_answer_chain\n",
    ")"
   ],
   "metadata": {
    "collapsed": false,
    "ExecuteTime": {
     "end_time": "2024-07-17T10:27:53.910058Z",
     "start_time": "2024-07-17T10:27:53.903050Z"
    }
   },
   "id": "cf06f145200a75f5",
   "execution_count": 24
  },
  {
   "cell_type": "code",
   "outputs": [],
   "source": [
    "# Usage:\n",
    "chat_history = []  # Collect chat history here (a sequence of messages)\n",
    "rag_chain.invoke({\"input\": query, \"chat_history\": chat_history})"
   ],
   "metadata": {
    "collapsed": false
   },
   "id": "31a81bf32340e492"
  },
  {
   "cell_type": "code",
   "outputs": [],
   "source": [
    "chat_history = []\n",
    "\n",
    "\n",
    "def ask_new(question, chat_history):\n",
    "    response = rag_chain.invoke({\"input\": question, \"chat_history\": chat_history})\n",
    "    chat_history.append((question, response['answer']))\n",
    "    print(f\"Question:\\n {question}\\n\")\n",
    "    print(f\"Answer:\\n {response['answer']}\\n\")"
   ],
   "metadata": {
    "collapsed": false,
    "ExecuteTime": {
     "end_time": "2024-07-17T10:27:56.933855Z",
     "start_time": "2024-07-17T10:27:56.929916Z"
    }
   },
   "id": "5e1f2498f23e665",
   "execution_count": 25
  },
  {
   "cell_type": "code",
   "outputs": [
    {
     "name": "stdout",
     "output_type": "stream",
     "text": [
      "Question:\n",
      " 总结一下这个文档\n",
      "\n",
      "Answer:\n",
      " 这段文档介绍了如何创建新流程和理解不同类型的节点。\"新建流程\"涉及选择模板或创建空白模板，并输入流程名称。\"查询节点\"用于机器人调用业务系统进行查询，基于用户信息，返回结果给用户或作为其他节点的判断条件，关键设置包括请求地址、请求方式和输入变量。\"收集节点\"则用来收集客户信息，可以对接到工单、客户中心或第三方系统，支持设置引导语、是否允许附件上传及自定义表单字段。\n"
     ]
    }
   ],
   "source": [
    "query = '总结一下这个文档'\n",
    "ask_new(query, chat_history)"
   ],
   "metadata": {
    "collapsed": false,
    "ExecuteTime": {
     "end_time": "2024-07-17T10:24:09.828263Z",
     "start_time": "2024-07-17T10:24:04.373359Z"
    }
   },
   "id": "e256a211dc672cc9",
   "execution_count": 18
  },
  {
   "cell_type": "code",
   "outputs": [
    {
     "name": "stdout",
     "output_type": "stream",
     "text": [
      "Question:\n",
      " 回复节点是什么呢\n",
      "\n",
      "Answer:\n",
      " 回复节点是流程中的一个环节，它用来在特定节点位置提供定制化的回复给用户。你可以选择系统应答样式、系统反问样式或自定义样式来设计回复。此外，可以通过添加富文本、按钮选项来构建回复内容，并能设置点击按钮后跳转到下一节点或外部链接。还可以提取变量，以便在用户选择后用于调用业务接口。\n"
     ]
    }
   ],
   "source": [
    "query = '回复节点是什么呢'\n",
    "ask_new(query, chat_history)"
   ],
   "metadata": {
    "collapsed": false,
    "ExecuteTime": {
     "end_time": "2024-07-17T10:28:05.036107Z",
     "start_time": "2024-07-17T10:27:58.933806Z"
    }
   },
   "id": "3657aac897396110",
   "execution_count": 26
  },
  {
   "cell_type": "code",
   "outputs": [],
   "source": [],
   "metadata": {
    "collapsed": false
   },
   "id": "8f3470bdfab867d0"
  }
 ],
 "metadata": {
  "kernelspec": {
   "display_name": "Python 3",
   "language": "python",
   "name": "python3"
  },
  "language_info": {
   "codemirror_mode": {
    "name": "ipython",
    "version": 2
   },
   "file_extension": ".py",
   "mimetype": "text/x-python",
   "name": "python",
   "nbconvert_exporter": "python",
   "pygments_lexer": "ipython2",
   "version": "2.7.6"
  }
 },
 "nbformat": 4,
 "nbformat_minor": 5
}
