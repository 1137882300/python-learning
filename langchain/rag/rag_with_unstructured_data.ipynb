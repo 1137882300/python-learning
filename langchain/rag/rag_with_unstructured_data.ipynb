{
 "cells": [
  {
   "cell_type": "code",
   "execution_count": 2,
   "id": "initial_id",
   "metadata": {
    "collapsed": true,
    "ExecuteTime": {
     "end_time": "2024-08-01T09:05:07.817380Z",
     "start_time": "2024-08-01T09:05:07.813448Z"
    }
   },
   "outputs": [],
   "source": [
    "# Optional cell to reduce the amount of logs\n",
    "\n",
    "import logging\n",
    "\n",
    "logger = logging.getLogger(\"unstructured.ingest\")\n",
    "# logger.root.removeHandler(logger.root.handlers[0])"
   ]
  },
  {
   "cell_type": "code",
   "outputs": [
    {
     "name": "stderr",
     "output_type": "stream",
     "text": [
      "2024-08-01 17:12:58,203 MainProcess INFO     running pipeline: DocFactory -> Reader -> Partitioner -> Copier with config: {\"reprocess\": false, \"verbose\": true, \"work_dir\": \"/Users/pangmengting/.cache/unstructured/ingest/pipeline\", \"output_dir\": \"./local-ingest-output\", \"num_processes\": 2, \"raise_on_error\": false}\n",
      "2024-08-01 17:12:58,279 MainProcess INFO     Running doc factory to generate ingest docs. Source connector: {\"processor_config\": {\"reprocess\": false, \"verbose\": true, \"work_dir\": \"/Users/pangmengting/.cache/unstructured/ingest/pipeline\", \"output_dir\": \"./local-ingest-output\", \"num_processes\": 2, \"raise_on_error\": false}, \"read_config\": {\"download_dir\": \"\", \"re_download\": false, \"preserve_downloads\": false, \"download_only\": false, \"max_docs\": null}, \"connector_config\": {\"input_path\": \"./documents\", \"recursive\": false, \"file_glob\": null}}\n",
      "2024-08-01 17:12:58,280 MainProcess INFO     no docs found to process\n"
     ]
    }
   ],
   "source": [
    "import os\n",
    "\n",
    "from unstructured.ingest.connector.local import SimpleLocalConfig\n",
    "from unstructured.ingest.interfaces import PartitionConfig, ProcessorConfig, ReadConfig\n",
    "from unstructured.ingest.runner import LocalRunner\n",
    "\n",
    "output_path = \"./local-ingest-output\"\n",
    "\n",
    "runner = LocalRunner(\n",
    "    processor_config=ProcessorConfig(\n",
    "        # logs verbosity\n",
    "        verbose=True,\n",
    "        # the local directory to store outputs\n",
    "        output_dir=output_path,\n",
    "        num_processes=2,\n",
    "    ),\n",
    "    read_config=ReadConfig(),\n",
    "    partition_config=PartitionConfig(\n",
    "        partition_by_api=True,\n",
    "        api_key=\"i70Bdasv37rbUVRs4HCdrEq5b1BNl0\",\n",
    "    ),\n",
    "    connector_config=SimpleLocalConfig(\n",
    "        input_path=\"./documents\",\n",
    "        # whether to get the documents recursively from given directory\n",
    "        recursive=False,\n",
    "    ),\n",
    ")\n",
    "runner.run()"
   ],
   "metadata": {
    "collapsed": false,
    "ExecuteTime": {
     "end_time": "2024-08-01T09:12:58.289708Z",
     "start_time": "2024-08-01T09:12:58.204617Z"
    }
   },
   "id": "5f3e6b37f700e875",
   "execution_count": 5
  },
  {
   "cell_type": "code",
   "outputs": [],
   "source": [
    "from unstructured_client import UnstructuredClient\n",
    "\n",
    "unstructured_api_key = os.environ.get(\"UNSTRUCTURED_API_KEY\")\n",
    "\n",
    "client = UnstructuredClient(\n",
    "    api_key_auth=unstructured_api_key,\n",
    "    # if using paid API, provide your unique API URL:\n",
    "    # server_url=\"YOUR_API_URL\",\n",
    ")"
   ],
   "metadata": {
    "collapsed": false
   },
   "id": "47918367699b3b5b"
  },
  {
   "cell_type": "code",
   "outputs": [],
   "source": [
    "from unstructured_client.models import shared\n",
    "from unstructured_client.models.errors import SDKError\n",
    "from unstructured.staging.base import dict_to_elements\n",
    "\n",
    "path_to_pdf = \"PATH_TO_YOUR_PDF_FILE\"\n",
    "\n",
    "with open(path_to_pdf, \"rb\") as f:\n",
    "    files = shared.Files(\n",
    "        content=f.read(),\n",
    "        file_name=path_to_pdf,\n",
    "    )\n",
    "    req = shared.PartitionParameters(\n",
    "        files=files,\n",
    "        chunking_strategy=\"by_title\",\n",
    "        max_characters=512,\n",
    "    )\n",
    "    try:\n",
    "        resp = client.general.partition(req)\n",
    "    except SDKError as e:\n",
    "        print(e)\n",
    "\n",
    "elements = dict_to_elements(resp.elements)"
   ],
   "metadata": {
    "collapsed": false
   },
   "id": "c3fe2f6719900854"
  },
  {
   "cell_type": "code",
   "outputs": [],
   "source": [
    "from langchain_core.documents import Document\n",
    "from langchain.vectorstores import FAISS\n",
    "from langchain.embeddings import HuggingFaceEmbeddings\n",
    "\n",
    "documents = []\n",
    "for element in elements:\n",
    "    metadata = element.metadata.to_dict()\n",
    "    documents.append(Document(page_content=element.text, metadata=metadata))\n",
    "\n",
    "db = FAISS.from_documents(documents, HuggingFaceEmbeddings(model_name=\"BAAI/bge-base-en-v1.5\"))\n",
    "retriever = db.as_retriever(search_type=\"similarity\", search_kwargs={\"k\": 4})"
   ],
   "metadata": {
    "collapsed": false
   },
   "id": "21658cd9d0330b7b"
  }
 ],
 "metadata": {
  "kernelspec": {
   "display_name": "Python 3",
   "language": "python",
   "name": "python3"
  },
  "language_info": {
   "codemirror_mode": {
    "name": "ipython",
    "version": 2
   },
   "file_extension": ".py",
   "mimetype": "text/x-python",
   "name": "python",
   "nbconvert_exporter": "python",
   "pygments_lexer": "ipython2",
   "version": "2.7.6"
  }
 },
 "nbformat": 4,
 "nbformat_minor": 5
}
