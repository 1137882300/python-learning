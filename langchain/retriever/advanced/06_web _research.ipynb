{
 "cells": [
  {
   "cell_type": "code",
   "execution_count": null,
   "id": "initial_id",
   "metadata": {
    "collapsed": true
   },
   "outputs": [],
   "source": []
  },
  {
   "cell_type": "code",
   "outputs": [],
   "source": [
    "# CloudflareWorkersAI\n",
    "from dotenv import load_dotenv\n",
    "import os\n",
    "from langchain_community.llms.cloudflare_workersai import CloudflareWorkersAI\n",
    "\n",
    "# 加载当前目录下的.env文件\n",
    "# load_dotenv()\n",
    "# load_dotenv(override=True) 会重新读取.env\n",
    "load_dotenv(override=True)\n",
    "\n",
    "# 现在可以像访问普通环境变量一样访问.env文件中的变量了\n",
    "account_id = os.getenv('CF_ACCOUNT_ID')\n",
    "api_token = os.getenv('CF_API_TOKEN')\n",
    "\n",
    "print(account_id)\n",
    "print(api_token)\n",
    "\n",
    "import getpass\n",
    "\n",
    "model = '@cf/meta/llama-3-8b-instruct'\n",
    "cf_llm = CloudflareWorkersAI(account_id=account_id, api_token=api_token, model=model)\n",
    "\n",
    "# 最新的Embedding方式\n",
    "# cloudflare_workersai\n",
    "from langchain_community.embeddings.cloudflare_workersai import (\n",
    "    CloudflareWorkersAIEmbeddings,\n",
    ")\n",
    "\n",
    "# //维度是：384\n",
    "embeddings = CloudflareWorkersAIEmbeddings(\n",
    "    account_id=account_id,\n",
    "    api_token=api_token,\n",
    "    model_name=\"@cf/baai/bge-small-en-v1.5\",\n",
    ")"
   ],
   "metadata": {
    "collapsed": false
   },
   "id": "b745aa4f9bffcd6b"
  },
  {
   "cell_type": "code",
   "outputs": [],
   "source": [
    "from langchain.retrievers.web_research import WebResearchRetriever\n"
   ],
   "metadata": {
    "collapsed": false
   },
   "id": "41ffcda2fe9f7e9c"
  },
  {
   "cell_type": "code",
   "outputs": [],
   "source": [
    "import os\n",
    "from langchain.vectorstores import Chroma\n",
    "from langchain.chat_models.openai import ChatOpenAI\n",
    "from langchain.utilities import GoogleSearchAPIWrapper\n",
    "\n",
    "# Vectorstore\n",
    "vectorstore = Chroma(embedding_function=embeddings, persist_directory=\"./chroma_db_oai\")\n",
    "\n",
    "# LLM\n",
    "\n",
    "# Request from https://programmablesearchengine.google.com/controlpanel/all\n",
    "os.environ[\"GOOGLE_CSE_ID\"] = \"yor cse id\"\n",
    "# Request from https://developers.google.com/custom-search/v1/introduction\n",
    "os.environ[\"GOOGLE_API_KEY\"] = \"your google api key\"\n",
    "search = GoogleSearchAPIWrapper()"
   ],
   "metadata": {
    "collapsed": false
   },
   "id": "31ed194a361de303"
  },
  {
   "cell_type": "code",
   "outputs": [],
   "source": [
    "# vitamin 维生素；维他命\n",
    "search.run(\"What is vitamin?\")"
   ],
   "metadata": {
    "collapsed": false
   },
   "id": "f8cf42bcc1ead13f"
  },
  {
   "cell_type": "code",
   "outputs": [],
   "source": [
    "web_research_retriever = WebResearchRetriever.from_llm(\n",
    "    vectorstore=vectorstore,\n",
    "    llm=cf_llm,\n",
    "    search=search,\n",
    ")"
   ],
   "metadata": {
    "collapsed": false
   },
   "id": "5d024db14cfadde1"
  },
  {
   "cell_type": "code",
   "outputs": [
    {
     "name": "stdout",
     "output_type": "stream",
     "text": [
      "\r\n",
      "\u001B[1m[\u001B[0m\u001B[34;49mnotice\u001B[0m\u001B[1;39;49m]\u001B[0m\u001B[39;49m A new release of pip is available: \u001B[0m\u001B[31;49m24.0\u001B[0m\u001B[39;49m -> \u001B[0m\u001B[32;49m24.1\u001B[0m\r\n",
      "\u001B[1m[\u001B[0m\u001B[34;49mnotice\u001B[0m\u001B[1;39;49m]\u001B[0m\u001B[39;49m To update, run: \u001B[0m\u001B[32;49mpip install --upgrade pip\u001B[0m\r\n"
     ]
    }
   ],
   "source": [
    "# !pip install -q -U html2text\n"
   ],
   "metadata": {
    "collapsed": false,
    "ExecuteTime": {
     "end_time": "2024-06-24T08:27:00.108583Z",
     "start_time": "2024-06-24T08:26:56.151127Z"
    }
   },
   "id": "da08c3935c133fb6",
   "execution_count": 1
  },
  {
   "cell_type": "code",
   "outputs": [],
   "source": [
    "from langchain.chains import RetrievalQAWithSourcesChain\n",
    "\n",
    "user_input = \"Who is the winner of FIFA world cup 2002?\"\n",
    "qa_chain = RetrievalQAWithSourcesChain.from_chain_type(cf_llm, retriever=web_research_retriever)\n",
    "result = qa_chain({\"question\": user_input})\n",
    "result\n"
   ],
   "metadata": {
    "collapsed": false
   },
   "id": "e6178693f0ae85da"
  },
  {
   "cell_type": "code",
   "outputs": [],
   "source": [
    "import logging\n",
    "\n",
    "logging.basicConfig()\n",
    "logging.getLogger(\"langchain.retrievers.web_research\").setLevel(logging.INFO)\n",
    "user_input = \"What is Task Decomposition in LLM Powered Autonomous Agents?\"\n",
    "docs = web_research_retriever.get_relevant_documents(user_input)"
   ],
   "metadata": {
    "collapsed": false
   },
   "id": "646780e5aefc2fad"
  },
  {
   "cell_type": "code",
   "outputs": [],
   "source": [
    "import os\n",
    "import re\n",
    "from typing import List\n",
    "from langchain.chains import LLMChain\n",
    "from pydantic import BaseModel, Field\n",
    "from langchain.prompts import PromptTemplate\n",
    "from langchain.output_parsers.pydantic import PydanticOutputParser\n",
    "\n",
    "# LLMChain\n",
    "search_prompt = PromptTemplate(\n",
    "    input_variables=[\"question\"],\n",
    "    template=\"\"\"You are an assistant tasked with improving Google search\n",
    "    results. Generate 5 Google search queries that are similar to\n",
    "    this question. The output should be a numbered list of questions and each\n",
    "    should have a question mark at the end: {question}\"\"\",\n",
    ")\n",
    "\n",
    "\n",
    "class LineList(BaseModel):\n",
    "    \"\"\"List of questions.\"\"\"\n",
    "\n",
    "    lines: List[str] = Field(description=\"Questions\")\n",
    "\n",
    "\n",
    "class QuestionListOutputParser(PydanticOutputParser):\n",
    "    \"\"\"Output parser for a list of numbered questions.\"\"\"\n",
    "\n",
    "    def __init__(self) -> None:\n",
    "        super().__init__(pydantic_object=LineList)\n",
    "\n",
    "    def parse(self, text: str) -> LineList:\n",
    "        lines = re.findall(r\"\\d+\\..*?\\n\", text)\n",
    "        return LineList(lines=lines)\n",
    "\n",
    "\n",
    "llm_chain = LLMChain(llm=cf_llm, prompt=search_prompt, output_parser=QuestionListOutputParser())"
   ],
   "metadata": {
    "collapsed": false
   },
   "id": "4fe2484310a774ce"
  },
  {
   "cell_type": "code",
   "outputs": [],
   "source": [
    "# Initialize\n",
    "web_research_retriever_llm_chain = WebResearchRetriever(vectorstore=vectorstore, llm_chain=llm_chain, search=search)\n",
    "\n",
    "# Run\n",
    "docs = web_research_retriever_llm_chain.get_relevant_documents(\"What is the recommended way to recycle plastics?\")\n"
   ],
   "metadata": {
    "collapsed": false
   },
   "id": "47a949614460089c"
  },
  {
   "cell_type": "code",
   "outputs": [],
   "source": [
    "docs"
   ],
   "metadata": {
    "collapsed": false
   },
   "id": "5d25309cc4fc5cc7"
  }
 ],
 "metadata": {
  "kernelspec": {
   "display_name": "Python 3",
   "language": "python",
   "name": "python3"
  },
  "language_info": {
   "codemirror_mode": {
    "name": "ipython",
    "version": 2
   },
   "file_extension": ".py",
   "mimetype": "text/x-python",
   "name": "python",
   "nbconvert_exporter": "python",
   "pygments_lexer": "ipython2",
   "version": "2.7.6"
  }
 },
 "nbformat": 4,
 "nbformat_minor": 5
}
