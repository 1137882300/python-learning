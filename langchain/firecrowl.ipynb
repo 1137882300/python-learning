{
 "cells": [
  {
   "cell_type": "code",
   "execution_count": 1,
   "id": "initial_id",
   "metadata": {
    "collapsed": true,
    "ExecuteTime": {
     "end_time": "2024-06-12T15:19:05.632321Z",
     "start_time": "2024-06-12T15:19:03.131035Z"
    }
   },
   "outputs": [],
   "source": [
    "# -q: 这是pip的一个可选参数，表示\"quiet\"（安静模式）。它会减少命令执行时输出的信息量，使安装过程更加简洁清晰。\n",
    "# -U: 这是pip的另一个可选参数，表示\"upgrade\"（升级）。它将确保安装的是指定包的最新版本，如果已经安装了旧版本，它将会把旧版本升级到最新版本。\n",
    "# !pip install firecrawl-py faiss-cpu -q -U"
   ]
  },
  {
   "cell_type": "code",
   "outputs": [],
   "source": [
    "from langchain_community.document_loaders import FireCrawlLoader\n"
   ],
   "metadata": {
    "collapsed": false,
    "ExecuteTime": {
     "end_time": "2024-06-14T01:15:11.875182Z",
     "start_time": "2024-06-14T01:15:11.663582Z"
    }
   },
   "id": "aa9b00e8ad761cd0",
   "execution_count": 5
  },
  {
   "cell_type": "code",
   "outputs": [
    {
     "name": "stderr",
     "output_type": "stream",
     "text": [
      "/Users/pangmengting/venv/lib/python3.10/site-packages/sentence_transformers/cross_encoder/CrossEncoder.py:11: TqdmExperimentalWarning: Using `tqdm.autonotebook.tqdm` in notebook mode. Use `tqdm.tqdm` instead to force console mode (e.g. in jupyter console)\n",
      "  from tqdm.autonotebook import tqdm, trange\n",
      "/Users/pangmengting/venv/lib/python3.10/site-packages/huggingface_hub/file_download.py:1132: FutureWarning: `resume_download` is deprecated and will be removed in version 1.0.0. Downloads always resume when possible. If you want to force a new download, use `force_download=True`.\n",
      "  warnings.warn(\n"
     ]
    }
   ],
   "source": [
    "from langchain_huggingface import HuggingFaceEmbeddings\n",
    "from tqdm import tqdm\n",
    "\n",
    "model_kwargs = {'device': 'cpu'}\n",
    "encode_kwargs = {'normalize_embeddings': False}\n",
    "embeddings_hf = HuggingFaceEmbeddings(\n",
    "    model_kwargs=model_kwargs,\n",
    "    encode_kwargs=encode_kwargs\n",
    ")"
   ],
   "metadata": {
    "collapsed": false,
    "ExecuteTime": {
     "end_time": "2024-06-14T01:15:32.359038Z",
     "start_time": "2024-06-14T01:15:17.012644Z"
    }
   },
   "id": "29ee31e57ecd194d",
   "execution_count": 6
  },
  {
   "cell_type": "code",
   "outputs": [],
   "source": [
    "from langchain_community.vectorstores import FAISS\n",
    "from langchain_text_splitters import CharacterTextSplitter\n",
    "\n",
    "\n",
    "def build_vector_retriever(firecrawl_api_key, scrape_url):\n",
    "    loader = FireCrawlLoader(api_key=firecrawl_api_key, url=scrape_url, mode=\"scrape\")\n",
    "    documents = loader.load()\n",
    "    text_splitter = CharacterTextSplitter(chunk_size=500, chunk_overlap=100)\n",
    "    docs = text_splitter.split_documents(documents)\n",
    "    db = FAISS.from_documents(docs, embeddings_hf)\n",
    "\n",
    "    return db.as_retriever()"
   ],
   "metadata": {
    "collapsed": false,
    "ExecuteTime": {
     "end_time": "2024-06-13T10:44:06.083335Z",
     "start_time": "2024-06-13T10:44:06.045287Z"
    }
   },
   "id": "a4ab2df7daf23b47",
   "execution_count": 3
  },
  {
   "cell_type": "code",
   "outputs": [
    {
     "name": "stdout",
     "output_type": "stream",
     "text": [
      "http://localhost:3002\n"
     ]
    }
   ],
   "source": [
    "import os\n",
    "\n",
    "os.environ[\"FIRECRAWL_API_URL\"] = 'http://localhost:3002'\n",
    "firecrawl_api_key = os.getenv('FIRECRAWL_API_URL')\n",
    "print(firecrawl_api_key)"
   ],
   "metadata": {
    "collapsed": false,
    "ExecuteTime": {
     "end_time": "2024-06-13T10:44:09.595899Z",
     "start_time": "2024-06-13T10:44:09.592417Z"
    }
   },
   "id": "bd6f1e4d4f04ba8f",
   "execution_count": 4
  },
  {
   "cell_type": "code",
   "outputs": [
    {
     "name": "stderr",
     "output_type": "stream",
     "text": [
      "Created a chunk of size 2424, which is longer than the specified 500\n",
      "Created a chunk of size 600, which is longer than the specified 500\n",
      "Created a chunk of size 743, which is longer than the specified 500\n",
      "Created a chunk of size 559, which is longer than the specified 500\n",
      "Created a chunk of size 688, which is longer than the specified 500\n",
      "Created a chunk of size 549, which is longer than the specified 500\n",
      "Created a chunk of size 544, which is longer than the specified 500\n",
      "Created a chunk of size 805, which is longer than the specified 500\n",
      "Created a chunk of size 1246, which is longer than the specified 500\n",
      "Created a chunk of size 1724, which is longer than the specified 500\n",
      "Created a chunk of size 1193, which is longer than the specified 500\n",
      "Created a chunk of size 513, which is longer than the specified 500\n"
     ]
    }
   ],
   "source": [
    "FIRECRAWL_API_KEY = os.getenv('FIRECRAWL_API_URL')\n",
    "\n",
    "retriever = build_vector_retriever(\"FIRECRAWL_API_KEY\",\n",
    "                                   \"https://www.youxiake.com/lines.html?id=53455&spm=eyJmcm9tIjoxMDgwLCJvcmlnaW5hbF9pZCI6MH0\")\n"
   ],
   "metadata": {
    "collapsed": false,
    "ExecuteTime": {
     "end_time": "2024-06-13T10:44:36.947088Z",
     "start_time": "2024-06-13T10:44:25.431112Z"
    }
   },
   "id": "52715bddf75a3360",
   "execution_count": 5
  },
  {
   "cell_type": "code",
   "outputs": [
    {
     "name": "stdout",
     "output_type": "stream",
     "text": [
      "sk-UGVpjuTwo2Q8pewoqUDfckw1A0pbSDli9ElFMeS9WareKknG\n",
      "https://api.moonshot.cn/v1/\n"
     ]
    }
   ],
   "source": [
    "from dotenv import load_dotenv\n",
    "import os\n",
    "from langchain_openai import ChatOpenAI\n",
    "\n",
    "# 加载当前目录下的.env文件\n",
    "# load_dotenv()\n",
    "# load_dotenv(override=True) 会重新读取.env\n",
    "load_dotenv(override=True)\n",
    "\n",
    "# 现在可以像访问普通环境变量一样访问.env文件中的变量了\n",
    "api_key = os.getenv('OPENAI_API_KEY')\n",
    "base_url = os.getenv('OPENAI_API_BASE')\n",
    "\n",
    "print(api_key)\n",
    "print(base_url)\n",
    "\n",
    "model = ChatOpenAI(\n",
    "    openai_api_base=base_url,\n",
    "    openai_api_key=api_key,\n",
    "    model_name=\"moonshot-v1-8k\",\n",
    "    temperature=0.7,\n",
    ")"
   ],
   "metadata": {
    "collapsed": false,
    "ExecuteTime": {
     "end_time": "2024-06-13T10:44:43.507858Z",
     "start_time": "2024-06-13T10:44:43.177255Z"
    }
   },
   "id": "f639950b3a550e63",
   "execution_count": 6
  },
  {
   "cell_type": "code",
   "outputs": [],
   "source": [
    "from langchain_core.runnables import RunnableParallel, RunnablePassthrough\n",
    "from langchain_core.prompts import ChatPromptTemplate\n",
    "from langchain_core.output_parsers import StrOutputParser\n",
    "\n",
    "\n",
    "def build_qa_chain(retriever):\n",
    "    prompt = ChatPromptTemplate.from_template(\n",
    "        \"Using the context below to answer user's question. If you can't find information within the context, simply answer I don't know.\\n\\n {context} {question}\")\n",
    "\n",
    "    chain = {\"context\": retriever, \"question\": RunnablePassthrough()} | prompt | model | StrOutputParser()\n",
    "\n",
    "    return chain"
   ],
   "metadata": {
    "collapsed": false,
    "ExecuteTime": {
     "end_time": "2024-06-13T10:48:26.980289Z",
     "start_time": "2024-06-13T10:48:26.935110Z"
    }
   },
   "id": "c3f196b0ba3cc556",
   "execution_count": 9
  },
  {
   "cell_type": "code",
   "outputs": [],
   "source": [
    "chain = build_qa_chain(retriever=retriever)"
   ],
   "metadata": {
    "collapsed": false,
    "ExecuteTime": {
     "end_time": "2024-06-13T10:48:29.501369Z",
     "start_time": "2024-06-13T10:48:29.497868Z"
    }
   },
   "id": "b4e88ca5ae199947",
   "execution_count": 10
  },
  {
   "cell_type": "code",
   "outputs": [
    {
     "data": {
      "text/plain": "'根据提供的网页内容，游侠客提供的主题旅行线路包括户外、摄影、亲子、深度人文、休闲度假和体育等。这些线路覆盖了不同的旅游目的地和活动类型，具体线路的详细信息没有在文档中列出。如果需要更详细的线路信息，可能需要访问游侠客的官方网站或与他们联系以获取更多信息。'"
     },
     "execution_count": 31,
     "metadata": {},
     "output_type": "execute_result"
    }
   ],
   "source": [
    "chain.invoke(\"游侠客有哪些线路？\")"
   ],
   "metadata": {
    "collapsed": false,
    "ExecuteTime": {
     "end_time": "2024-06-12T15:50:49.105Z",
     "start_time": "2024-06-12T15:50:44.494498Z"
    }
   },
   "id": "5fd29826ab214fb1",
   "execution_count": 31
  },
  {
   "cell_type": "code",
   "outputs": [
    {
     "data": {
      "text/plain": "'在提供的文本中，没有关于特惠线路的具体信息。因此，我无法推荐特惠线路。如果你想了解特惠线路，建议直接访问游侠客官方网站或联系客服获取最新信息。'"
     },
     "execution_count": 21,
     "metadata": {},
     "output_type": "execute_result"
    }
   ],
   "source": [
    "chain.invoke(\"请推荐一下特惠线路有哪些？\")"
   ],
   "metadata": {
    "collapsed": false,
    "ExecuteTime": {
     "end_time": "2024-06-12T15:45:48.780889Z",
     "start_time": "2024-06-12T15:45:45.459577Z"
    }
   },
   "id": "7c78fafc9c3d1ff5",
   "execution_count": 21
  },
  {
   "cell_type": "code",
   "outputs": [
    {
     "data": {
      "text/plain": "\"I don't know.\""
     },
     "execution_count": 22,
     "metadata": {},
     "output_type": "execute_result"
    }
   ],
   "source": [
    "chain.invoke(\"腾格里五胡连穿，50KM沙漠徒步的旅游线路多少钱？\")"
   ],
   "metadata": {
    "collapsed": false,
    "ExecuteTime": {
     "end_time": "2024-06-12T15:47:22.108363Z",
     "start_time": "2024-06-12T15:47:20.828828Z"
    }
   },
   "id": "2b89b74a671e1054",
   "execution_count": 22
  },
  {
   "cell_type": "code",
   "outputs": [
    {
     "data": {
      "text/plain": "'瑜伽行·阴性之光一阶·8.6清迈阴瑜伽工作坊的具体行程如下：\\n\\n天数：6天5晚\\n出发：全国出发\\n到达：清迈\\n解散：清迈\\n\\nD1 第1天 各地-清迈\\n- 全天：今天是自由集合的一天。组织方会根据大家当天的航班时间接机，入住清迈美好的静修中心静思之园（Suan Sati），开启6天5晚沉浸式工作坊。\\n- 如果提前抵达了清迈，组织方也会在下午14点集体安排用车从清迈古城接大家到静修中心。\\n- 熟悉静修中心环境，自由放松。晚上篝火聊天。\\n\\n重要提示：以上行程仅为参考，具体以实际签订合同为准。'"
     },
     "execution_count": 32,
     "metadata": {},
     "output_type": "execute_result"
    }
   ],
   "source": [
    "chain.invoke(\"瑜伽行·阴性之光一阶·8.6清迈阴瑜伽工作坊的具体行程是什么？\")"
   ],
   "metadata": {
    "collapsed": false,
    "ExecuteTime": {
     "end_time": "2024-06-12T15:51:05.489596Z",
     "start_time": "2024-06-12T15:50:57.876416Z"
    }
   },
   "id": "e01eefd107be0383",
   "execution_count": 32
  },
  {
   "cell_type": "code",
   "outputs": [
    {
     "data": {
      "text/plain": "'第一天的行程概述是自由集合的一天。根据大家的航班时间接机，入住清迈美好的静修中心静思之园（Suan Sati），开启6天5晚沉浸式工作坊。如果提前抵达了清迈，下午14点会集体安排用车从清迈古城接大家到静修中心。第一天晚上有篝火聊天的活动。所以，第一天住在清迈的静修中心静思之园（Suan Sati）。'"
     },
     "execution_count": 33,
     "metadata": {},
     "output_type": "execute_result"
    }
   ],
   "source": [
    "chain.invoke(\"瑜伽行·阴性之光一阶·8.6清迈阴瑜伽工作坊的第一天行程是什么，第一天住在哪里呢？\")"
   ],
   "metadata": {
    "collapsed": false,
    "ExecuteTime": {
     "end_time": "2024-06-12T15:55:06.525888Z",
     "start_time": "2024-06-12T15:55:01.271439Z"
    }
   },
   "id": "8730492dcd23756d",
   "execution_count": 33
  },
  {
   "cell_type": "code",
   "outputs": [
    {
     "data": {
      "text/plain": "'第二天的课程安排如下：\\n\\n- 06:00～08:15：自我练习或参加静修中心内的瑜伽课。\\n- 08:45：早餐。\\n- 10:00～11:30：序列练习。\\n- 11:30～12:30：理论研习，包括筋膜、阴阳、五气、疗愈原理等主题。\\n- 13:00：午餐。\\n- 14:30～16:30：每一个阴性体式的精讲与调整手法。\\n- 16:30～17:15：教学语言与序列编排。\\n- 17:17～17:30：瑜伽唱诵。\\n- 18:00：晚餐。\\n\\n此外，课程还包括经典阴瑜伽体系的概述、身体疗愈的范围与概念、阴阳理论与呼吸法等内容。'"
     },
     "execution_count": 34,
     "metadata": {},
     "output_type": "execute_result"
    }
   ],
   "source": [
    "chain.invoke(\"据说第二天会有课程？具体有啥课程呢\")"
   ],
   "metadata": {
    "collapsed": false,
    "ExecuteTime": {
     "end_time": "2024-06-12T15:57:14.165818Z",
     "start_time": "2024-06-12T15:57:05.936635Z"
    }
   },
   "id": "e11d955ac48b5fbc",
   "execution_count": 34
  },
  {
   "cell_type": "code",
   "outputs": [
    {
     "name": "stderr",
     "output_type": "stream",
     "text": [
      "huggingface/tokenizers: The current process just got forked, after parallelism has already been used. Disabling parallelism to avoid deadlocks...\n",
      "To disable this warning, you can either:\n",
      "\t- Avoid using `tokenizers` before the fork if possible\n",
      "\t- Explicitly set the environment variable TOKENIZERS_PARALLELISM=(true | false)\n"
     ]
    },
    {
     "data": {
      "text/plain": "'第三天的课程安排如下：\\n\\n上午：\\n- 06:00 - 08:15：自我练习或参加静修中心内的瑜伽课\\n- 08:45：早餐\\n\\n中午：\\n- 10:00 - 11:30：序列练习\\n- 11:30 - 12:30：理论研习（筋膜、阴阳、五气、疗愈原理）\\n\\n下午：\\n- 13:00：午餐\\n- 14:30 - 16:30：每一个阴性体式的精讲与调整手法\\n- 16:30 - 17:15：教学语言与序列编排\\n- 17:17 - 17:30：瑜伽唱诵\\n- 18:00：晚餐\\n\\n用餐包含三餐（需附加费用里勾选食宿），住宿是在清迈特色静修中心静思之园Suan Sati（房型根据附加费用选择）。'"
     },
     "execution_count": 11,
     "metadata": {},
     "output_type": "execute_result"
    }
   ],
   "source": [
    "chain.invoke(\"据说第三天会有课程？具体有什么活动呢\")"
   ],
   "metadata": {
    "collapsed": false,
    "ExecuteTime": {
     "end_time": "2024-06-13T10:48:43.887434Z",
     "start_time": "2024-06-13T10:48:35.373341Z"
    }
   },
   "id": "3ccbdda3f5e8e424",
   "execution_count": 11
  },
  {
   "cell_type": "code",
   "outputs": [
    {
     "data": {
      "text/plain": "\"根据提供的上下文信息，没有提及具体的套餐和价格。因此，对于问题“有哪些套餐？价格是多少？”，答案是：I don't know.\""
     },
     "execution_count": 12,
     "metadata": {},
     "output_type": "execute_result"
    }
   ],
   "source": [
    "chain.invoke(\"有哪些套餐？价格是多少？\")"
   ],
   "metadata": {
    "collapsed": false,
    "ExecuteTime": {
     "end_time": "2024-06-13T10:50:17.684258Z",
     "start_time": "2024-06-13T10:50:14.902620Z"
    }
   },
   "id": "e1ee4c83e7a390bd",
   "execution_count": 12
  },
  {
   "cell_type": "code",
   "outputs": [
    {
     "data": {
      "text/plain": "\"I don't know.\""
     },
     "execution_count": 27,
     "metadata": {},
     "output_type": "execute_result"
    }
   ],
   "source": [
    "chain.invoke(\"客服电话是多少？\")"
   ],
   "metadata": {
    "collapsed": false,
    "ExecuteTime": {
     "end_time": "2024-06-13T11:24:40.319402Z",
     "start_time": "2024-06-13T11:24:39.077752Z"
    }
   },
   "id": "83fe4f156a690e97",
   "execution_count": 27
  },
  {
   "cell_type": "code",
   "outputs": [],
   "source": [
    "from langchain_community.vectorstores import FAISS\n",
    "from langchain_text_splitters import CharacterTextSplitter\n",
    "\n",
    "\n",
    "def build_vector_retriever(firecrawl_api_key, scrape_url):\n",
    "    loader = FireCrawlLoader(api_key=firecrawl_api_key, url=scrape_url, mode=\"crawl\")\n",
    "    documents = loader.load()\n",
    "    text_splitter = CharacterTextSplitter(chunk_size=1000, chunk_overlap=100)\n",
    "    docs = text_splitter.split_documents(documents)\n",
    "    db = FAISS.from_documents(docs, embeddings_hf)\n",
    "\n",
    "    return db.as_retriever()\n"
   ],
   "metadata": {
    "collapsed": false,
    "ExecuteTime": {
     "end_time": "2024-06-13T10:56:04.818649Z",
     "start_time": "2024-06-13T10:56:04.815546Z"
    }
   },
   "id": "97ed217a77af56be",
   "execution_count": 16
  },
  {
   "cell_type": "code",
   "outputs": [
    {
     "name": "stderr",
     "output_type": "stream",
     "text": [
      "Created a chunk of size 2090, which is longer than the specified 1000\n",
      "Created a chunk of size 1905, which is longer than the specified 1000\n",
      "Created a chunk of size 2052, which is longer than the specified 1000\n",
      "Created a chunk of size 2424, which is longer than the specified 1000\n",
      "Created a chunk of size 1495, which is longer than the specified 1000\n",
      "Created a chunk of size 2424, which is longer than the specified 1000\n",
      "Created a chunk of size 3949, which is longer than the specified 1000\n",
      "Created a chunk of size 1709, which is longer than the specified 1000\n",
      "Created a chunk of size 1961, which is longer than the specified 1000\n",
      "Created a chunk of size 1944, which is longer than the specified 1000\n",
      "Created a chunk of size 1948, which is longer than the specified 1000\n",
      "Created a chunk of size 2015, which is longer than the specified 1000\n",
      "Created a chunk of size 1946, which is longer than the specified 1000\n",
      "Created a chunk of size 1971, which is longer than the specified 1000\n",
      "Created a chunk of size 2424, which is longer than the specified 1000\n",
      "Created a chunk of size 2424, which is longer than the specified 1000\n",
      "Created a chunk of size 1055, which is longer than the specified 1000\n",
      "Created a chunk of size 1768, which is longer than the specified 1000\n",
      "Created a chunk of size 1756, which is longer than the specified 1000\n",
      "Created a chunk of size 2424, which is longer than the specified 1000\n",
      "Created a chunk of size 2104, which is longer than the specified 1000\n",
      "Created a chunk of size 2079, which is longer than the specified 1000\n",
      "Created a chunk of size 1973, which is longer than the specified 1000\n",
      "Created a chunk of size 2424, which is longer than the specified 1000\n",
      "Created a chunk of size 1242, which is longer than the specified 1000\n",
      "Created a chunk of size 1268, which is longer than the specified 1000\n",
      "Created a chunk of size 1370, which is longer than the specified 1000\n",
      "Created a chunk of size 3505, which is longer than the specified 1000\n",
      "Created a chunk of size 6480, which is longer than the specified 1000\n",
      "Created a chunk of size 6725, which is longer than the specified 1000\n",
      "Created a chunk of size 6725, which is longer than the specified 1000\n",
      "Created a chunk of size 4345, which is longer than the specified 1000\n",
      "Created a chunk of size 5605, which is longer than the specified 1000\n",
      "Created a chunk of size 9945, which is longer than the specified 1000\n",
      "Created a chunk of size 1685, which is longer than the specified 1000\n",
      "Created a chunk of size 1020, which is longer than the specified 1000\n",
      "Created a chunk of size 1724, which is longer than the specified 1000\n",
      "Created a chunk of size 1727, which is longer than the specified 1000\n",
      "Created a chunk of size 1795, which is longer than the specified 1000\n",
      "Created a chunk of size 1355, which is longer than the specified 1000\n",
      "Created a chunk of size 1257, which is longer than the specified 1000\n",
      "Created a chunk of size 2176, which is longer than the specified 1000\n",
      "Created a chunk of size 1452, which is longer than the specified 1000\n",
      "Created a chunk of size 1182, which is longer than the specified 1000\n",
      "Created a chunk of size 1444, which is longer than the specified 1000\n",
      "Created a chunk of size 2024, which is longer than the specified 1000\n",
      "Created a chunk of size 3939, which is longer than the specified 1000\n",
      "Created a chunk of size 2786, which is longer than the specified 1000\n",
      "Created a chunk of size 3228, which is longer than the specified 1000\n",
      "Created a chunk of size 1182, which is longer than the specified 1000\n",
      "Created a chunk of size 1444, which is longer than the specified 1000\n",
      "Created a chunk of size 2439, which is longer than the specified 1000\n",
      "Created a chunk of size 2466, which is longer than the specified 1000\n",
      "Created a chunk of size 1954, which is longer than the specified 1000\n",
      "Created a chunk of size 1182, which is longer than the specified 1000\n",
      "Created a chunk of size 1444, which is longer than the specified 1000\n",
      "Created a chunk of size 2259, which is longer than the specified 1000\n",
      "Created a chunk of size 3499, which is longer than the specified 1000\n",
      "Created a chunk of size 1182, which is longer than the specified 1000\n",
      "Created a chunk of size 1444, which is longer than the specified 1000\n",
      "Created a chunk of size 5044, which is longer than the specified 1000\n",
      "Created a chunk of size 5933, which is longer than the specified 1000\n",
      "Created a chunk of size 3947, which is longer than the specified 1000\n",
      "Created a chunk of size 1182, which is longer than the specified 1000\n",
      "Created a chunk of size 1444, which is longer than the specified 1000\n",
      "Created a chunk of size 1182, which is longer than the specified 1000\n",
      "Created a chunk of size 1444, which is longer than the specified 1000\n",
      "Created a chunk of size 1182, which is longer than the specified 1000\n",
      "Created a chunk of size 1444, which is longer than the specified 1000\n",
      "Created a chunk of size 2424, which is longer than the specified 1000\n",
      "Created a chunk of size 1268, which is longer than the specified 1000\n",
      "Created a chunk of size 1592, which is longer than the specified 1000\n",
      "Created a chunk of size 5001, which is longer than the specified 1000\n",
      "Created a chunk of size 7040, which is longer than the specified 1000\n",
      "Created a chunk of size 4310, which is longer than the specified 1000\n",
      "Created a chunk of size 5255, which is longer than the specified 1000\n",
      "Created a chunk of size 1825, which is longer than the specified 1000\n",
      "Created a chunk of size 5220, which is longer than the specified 1000\n",
      "Created a chunk of size 4800, which is longer than the specified 1000\n",
      "Created a chunk of size 1055, which is longer than the specified 1000\n",
      "Created a chunk of size 27410, which is longer than the specified 1000\n",
      "Created a chunk of size 4905, which is longer than the specified 1000\n",
      "Created a chunk of size 9770, which is longer than the specified 1000\n",
      "Created a chunk of size 4870, which is longer than the specified 1000\n",
      "Created a chunk of size 9700, which is longer than the specified 1000\n",
      "Created a chunk of size 4870, which is longer than the specified 1000\n",
      "Created a chunk of size 1160, which is longer than the specified 1000\n",
      "Created a chunk of size 1160, which is longer than the specified 1000\n",
      "Created a chunk of size 1335, which is longer than the specified 1000\n",
      "Created a chunk of size 1195, which is longer than the specified 1000\n",
      "Created a chunk of size 1510, which is longer than the specified 1000\n",
      "Created a chunk of size 1685, which is longer than the specified 1000\n",
      "Created a chunk of size 7810, which is longer than the specified 1000\n",
      "Created a chunk of size 8125, which is longer than the specified 1000\n",
      "Created a chunk of size 1020, which is longer than the specified 1000\n",
      "Created a chunk of size 1195, which is longer than the specified 1000\n",
      "Created a chunk of size 1090, which is longer than the specified 1000\n",
      "Created a chunk of size 8125, which is longer than the specified 1000\n",
      "Created a chunk of size 1510, which is longer than the specified 1000\n",
      "Created a chunk of size 1160, which is longer than the specified 1000\n",
      "Created a chunk of size 7040, which is longer than the specified 1000\n",
      "Created a chunk of size 1825, which is longer than the specified 1000\n",
      "Created a chunk of size 1090, which is longer than the specified 1000\n",
      "Created a chunk of size 1090, which is longer than the specified 1000\n",
      "Created a chunk of size 4065, which is longer than the specified 1000\n",
      "Created a chunk of size 1685, which is longer than the specified 1000\n",
      "Created a chunk of size 1685, which is longer than the specified 1000\n",
      "Created a chunk of size 1650, which is longer than the specified 1000\n",
      "Created a chunk of size 1860, which is longer than the specified 1000\n",
      "Created a chunk of size 2175, which is longer than the specified 1000\n",
      "Created a chunk of size 1160, which is longer than the specified 1000\n",
      "Created a chunk of size 1685, which is longer than the specified 1000\n",
      "Created a chunk of size 1825, which is longer than the specified 1000\n",
      "Created a chunk of size 8475, which is longer than the specified 1000\n",
      "Created a chunk of size 4765, which is longer than the specified 1000\n",
      "Created a chunk of size 5535, which is longer than the specified 1000\n",
      "Created a chunk of size 4765, which is longer than the specified 1000\n",
      "Created a chunk of size 4765, which is longer than the specified 1000\n",
      "Created a chunk of size 1335, which is longer than the specified 1000\n",
      "Created a chunk of size 1195, which is longer than the specified 1000\n",
      "Created a chunk of size 1510, which is longer than the specified 1000\n",
      "Created a chunk of size 1090, which is longer than the specified 1000\n",
      "Created a chunk of size 1090, which is longer than the specified 1000\n",
      "Created a chunk of size 5535, which is longer than the specified 1000\n",
      "Created a chunk of size 2770, which is longer than the specified 1000\n",
      "Created a chunk of size 2770, which is longer than the specified 1000\n",
      "Created a chunk of size 1510, which is longer than the specified 1000\n",
      "Created a chunk of size 1160, which is longer than the specified 1000\n",
      "Created a chunk of size 8125, which is longer than the specified 1000\n",
      "Created a chunk of size 1160, which is longer than the specified 1000\n",
      "Created a chunk of size 1685, which is longer than the specified 1000\n",
      "Created a chunk of size 7040, which is longer than the specified 1000\n",
      "Created a chunk of size 1825, which is longer than the specified 1000\n",
      "Created a chunk of size 4065, which is longer than the specified 1000\n",
      "Created a chunk of size 1685, which is longer than the specified 1000\n",
      "Created a chunk of size 1685, which is longer than the specified 1000\n",
      "Created a chunk of size 7040, which is longer than the specified 1000\n",
      "Created a chunk of size 1650, which is longer than the specified 1000\n",
      "Created a chunk of size 4310, which is longer than the specified 1000\n",
      "Created a chunk of size 8475, which is longer than the specified 1000\n",
      "Created a chunk of size 4765, which is longer than the specified 1000\n",
      "Created a chunk of size 5535, which is longer than the specified 1000\n",
      "Created a chunk of size 4765, which is longer than the specified 1000\n",
      "Created a chunk of size 4765, which is longer than the specified 1000\n",
      "Created a chunk of size 5255, which is longer than the specified 1000\n",
      "Created a chunk of size 1335, which is longer than the specified 1000\n",
      "Created a chunk of size 1825, which is longer than the specified 1000\n",
      "Created a chunk of size 1195, which is longer than the specified 1000\n",
      "Created a chunk of size 1020, which is longer than the specified 1000\n",
      "Created a chunk of size 1195, which is longer than the specified 1000\n",
      "Created a chunk of size 1510, which is longer than the specified 1000\n",
      "Created a chunk of size 1510, which is longer than the specified 1000\n",
      "Created a chunk of size 1685, which is longer than the specified 1000\n",
      "Created a chunk of size 1860, which is longer than the specified 1000\n",
      "Created a chunk of size 5220, which is longer than the specified 1000\n",
      "Created a chunk of size 4800, which is longer than the specified 1000\n",
      "Created a chunk of size 1090, which is longer than the specified 1000\n",
      "Created a chunk of size 7810, which is longer than the specified 1000\n",
      "Created a chunk of size 1090, which is longer than the specified 1000\n",
      "Created a chunk of size 1090, which is longer than the specified 1000\n",
      "Created a chunk of size 1055, which is longer than the specified 1000\n",
      "Created a chunk of size 1160, which is longer than the specified 1000\n",
      "Created a chunk of size 2175, which is longer than the specified 1000\n",
      "Created a chunk of size 6935, which is longer than the specified 1000\n",
      "Created a chunk of size 4905, which is longer than the specified 1000\n",
      "Created a chunk of size 9770, which is longer than the specified 1000\n",
      "Created a chunk of size 8125, which is longer than the specified 1000\n",
      "Created a chunk of size 7040, which is longer than the specified 1000\n",
      "Created a chunk of size 7040, which is longer than the specified 1000\n",
      "Created a chunk of size 5535, which is longer than the specified 1000\n",
      "Created a chunk of size 2770, which is longer than the specified 1000\n",
      "Created a chunk of size 2770, which is longer than the specified 1000\n",
      "Created a chunk of size 4870, which is longer than the specified 1000\n",
      "Created a chunk of size 9700, which is longer than the specified 1000\n",
      "Created a chunk of size 4870, which is longer than the specified 1000\n",
      "Created a chunk of size 27410, which is longer than the specified 1000\n",
      "Created a chunk of size 1714, which is longer than the specified 1000\n",
      "Created a chunk of size 1743, which is longer than the specified 1000\n",
      "Created a chunk of size 1756, which is longer than the specified 1000\n",
      "Created a chunk of size 1034, which is longer than the specified 1000\n",
      "Created a chunk of size 1990, which is longer than the specified 1000\n",
      "Created a chunk of size 2166, which is longer than the specified 1000\n",
      "Created a chunk of size 3163, which is longer than the specified 1000\n",
      "Created a chunk of size 1720, which is longer than the specified 1000\n",
      "Created a chunk of size 1500, which is longer than the specified 1000\n",
      "Created a chunk of size 1974, which is longer than the specified 1000\n",
      "Created a chunk of size 2499, which is longer than the specified 1000\n",
      "Created a chunk of size 1958, which is longer than the specified 1000\n",
      "Created a chunk of size 1477, which is longer than the specified 1000\n",
      "Created a chunk of size 1182, which is longer than the specified 1000\n",
      "Created a chunk of size 1444, which is longer than the specified 1000\n",
      "Created a chunk of size 1440, which is longer than the specified 1000\n",
      "Created a chunk of size 6299, which is longer than the specified 1000\n",
      "Created a chunk of size 8052, which is longer than the specified 1000\n",
      "Created a chunk of size 2010, which is longer than the specified 1000\n",
      "Created a chunk of size 3613, which is longer than the specified 1000\n",
      "Created a chunk of size 2477, which is longer than the specified 1000\n",
      "Created a chunk of size 1182, which is longer than the specified 1000\n",
      "Created a chunk of size 1444, which is longer than the specified 1000\n",
      "Created a chunk of size 2262, which is longer than the specified 1000\n",
      "Created a chunk of size 2689, which is longer than the specified 1000\n",
      "Created a chunk of size 2048, which is longer than the specified 1000\n",
      "Created a chunk of size 1883, which is longer than the specified 1000\n",
      "Created a chunk of size 1848, which is longer than the specified 1000\n",
      "Created a chunk of size 1182, which is longer than the specified 1000\n",
      "Created a chunk of size 1444, which is longer than the specified 1000\n",
      "Created a chunk of size 1916, which is longer than the specified 1000\n",
      "Created a chunk of size 2245, which is longer than the specified 1000\n",
      "Created a chunk of size 2204, which is longer than the specified 1000\n",
      "Created a chunk of size 1706, which is longer than the specified 1000\n",
      "Created a chunk of size 1026, which is longer than the specified 1000\n",
      "Created a chunk of size 1591, which is longer than the specified 1000\n",
      "Created a chunk of size 3698, which is longer than the specified 1000\n",
      "Created a chunk of size 2523, which is longer than the specified 1000\n",
      "Created a chunk of size 4602, which is longer than the specified 1000\n",
      "Created a chunk of size 1182, which is longer than the specified 1000\n",
      "Created a chunk of size 1444, which is longer than the specified 1000\n",
      "Created a chunk of size 1732, which is longer than the specified 1000\n",
      "Created a chunk of size 2671, which is longer than the specified 1000\n",
      "Created a chunk of size 1656, which is longer than the specified 1000\n",
      "Created a chunk of size 2200, which is longer than the specified 1000\n",
      "Created a chunk of size 1404, which is longer than the specified 1000\n",
      "Created a chunk of size 1182, which is longer than the specified 1000\n",
      "Created a chunk of size 1444, which is longer than the specified 1000\n",
      "Created a chunk of size 1397, which is longer than the specified 1000\n",
      "Created a chunk of size 1565, which is longer than the specified 1000\n",
      "Created a chunk of size 1651, which is longer than the specified 1000\n",
      "Created a chunk of size 1182, which is longer than the specified 1000\n",
      "Created a chunk of size 1444, which is longer than the specified 1000\n",
      "Created a chunk of size 2458, which is longer than the specified 1000\n",
      "Created a chunk of size 1400, which is longer than the specified 1000\n",
      "Created a chunk of size 1457, which is longer than the specified 1000\n",
      "Created a chunk of size 3447, which is longer than the specified 1000\n",
      "Created a chunk of size 2921, which is longer than the specified 1000\n",
      "Created a chunk of size 2457, which is longer than the specified 1000\n",
      "Created a chunk of size 1397, which is longer than the specified 1000\n",
      "Created a chunk of size 1390, which is longer than the specified 1000\n",
      "Created a chunk of size 4166, which is longer than the specified 1000\n",
      "Created a chunk of size 1705, which is longer than the specified 1000\n",
      "Created a chunk of size 1182, which is longer than the specified 1000\n",
      "Created a chunk of size 1444, which is longer than the specified 1000\n",
      "Created a chunk of size 1435, which is longer than the specified 1000\n",
      "Created a chunk of size 1034, which is longer than the specified 1000\n",
      "Created a chunk of size 1665, which is longer than the specified 1000\n",
      "Created a chunk of size 1182, which is longer than the specified 1000\n",
      "Created a chunk of size 1444, which is longer than the specified 1000\n",
      "Created a chunk of size 1449, which is longer than the specified 1000\n",
      "Created a chunk of size 1752, which is longer than the specified 1000\n",
      "Created a chunk of size 3360, which is longer than the specified 1000\n",
      "Created a chunk of size 2379, which is longer than the specified 1000\n",
      "Created a chunk of size 2663, which is longer than the specified 1000\n",
      "Created a chunk of size 1182, which is longer than the specified 1000\n",
      "Created a chunk of size 1444, which is longer than the specified 1000\n",
      "Created a chunk of size 3001, which is longer than the specified 1000\n",
      "Created a chunk of size 1182, which is longer than the specified 1000\n",
      "Created a chunk of size 1444, which is longer than the specified 1000\n",
      "Created a chunk of size 1751, which is longer than the specified 1000\n",
      "Created a chunk of size 2378, which is longer than the specified 1000\n",
      "Created a chunk of size 3409, which is longer than the specified 1000\n",
      "Created a chunk of size 1441, which is longer than the specified 1000\n",
      "Created a chunk of size 3673, which is longer than the specified 1000\n",
      "Created a chunk of size 2073, which is longer than the specified 1000\n",
      "Created a chunk of size 1908, which is longer than the specified 1000\n",
      "Created a chunk of size 1182, which is longer than the specified 1000\n",
      "Created a chunk of size 1444, which is longer than the specified 1000\n",
      "Created a chunk of size 1182, which is longer than the specified 1000\n",
      "Created a chunk of size 1444, which is longer than the specified 1000\n",
      "Created a chunk of size 1313, which is longer than the specified 1000\n",
      "Created a chunk of size 1683, which is longer than the specified 1000\n",
      "Created a chunk of size 1985, which is longer than the specified 1000\n",
      "Created a chunk of size 1012, which is longer than the specified 1000\n",
      "Created a chunk of size 3335, which is longer than the specified 1000\n",
      "Created a chunk of size 2043, which is longer than the specified 1000\n",
      "Created a chunk of size 1293, which is longer than the specified 1000\n",
      "Created a chunk of size 1583, which is longer than the specified 1000\n",
      "Created a chunk of size 1182, which is longer than the specified 1000\n",
      "Created a chunk of size 1444, which is longer than the specified 1000\n",
      "Created a chunk of size 4474, which is longer than the specified 1000\n",
      "Created a chunk of size 1182, which is longer than the specified 1000\n",
      "Created a chunk of size 1444, which is longer than the specified 1000\n",
      "Created a chunk of size 3474, which is longer than the specified 1000\n",
      "Created a chunk of size 2036, which is longer than the specified 1000\n",
      "Created a chunk of size 2689, which is longer than the specified 1000\n",
      "Created a chunk of size 3003, which is longer than the specified 1000\n",
      "Created a chunk of size 4009, which is longer than the specified 1000\n",
      "Created a chunk of size 2044, which is longer than the specified 1000\n",
      "Created a chunk of size 1182, which is longer than the specified 1000\n",
      "Created a chunk of size 1444, which is longer than the specified 1000\n",
      "Created a chunk of size 1182, which is longer than the specified 1000\n",
      "Created a chunk of size 1444, which is longer than the specified 1000\n",
      "Created a chunk of size 1599, which is longer than the specified 1000\n",
      "Created a chunk of size 2415, which is longer than the specified 1000\n",
      "Created a chunk of size 1088, which is longer than the specified 1000\n",
      "Created a chunk of size 1182, which is longer than the specified 1000\n",
      "Created a chunk of size 1444, which is longer than the specified 1000\n",
      "Created a chunk of size 3372, which is longer than the specified 1000\n",
      "Created a chunk of size 2374, which is longer than the specified 1000\n",
      "Created a chunk of size 3824, which is longer than the specified 1000\n",
      "Created a chunk of size 1182, which is longer than the specified 1000\n",
      "Created a chunk of size 1444, which is longer than the specified 1000\n",
      "Created a chunk of size 3348, which is longer than the specified 1000\n",
      "Created a chunk of size 6988, which is longer than the specified 1000\n",
      "Created a chunk of size 3363, which is longer than the specified 1000\n",
      "Created a chunk of size 5714, which is longer than the specified 1000\n",
      "Created a chunk of size 3301, which is longer than the specified 1000\n",
      "Created a chunk of size 1431, which is longer than the specified 1000\n",
      "Created a chunk of size 1182, which is longer than the specified 1000\n",
      "Created a chunk of size 1444, which is longer than the specified 1000\n",
      "Created a chunk of size 2417, which is longer than the specified 1000\n",
      "Created a chunk of size 1452, which is longer than the specified 1000\n",
      "Created a chunk of size 1853, which is longer than the specified 1000\n",
      "Created a chunk of size 1182, which is longer than the specified 1000\n",
      "Created a chunk of size 1444, which is longer than the specified 1000\n",
      "Created a chunk of size 2424, which is longer than the specified 1000\n",
      "Created a chunk of size 1057, which is longer than the specified 1000\n",
      "Created a chunk of size 1618, which is longer than the specified 1000\n",
      "Created a chunk of size 1610, which is longer than the specified 1000\n",
      "Created a chunk of size 1618, which is longer than the specified 1000\n",
      "Created a chunk of size 1591, which is longer than the specified 1000\n",
      "Created a chunk of size 1537, which is longer than the specified 1000\n",
      "Created a chunk of size 1840, which is longer than the specified 1000\n",
      "Created a chunk of size 1182, which is longer than the specified 1000\n",
      "Created a chunk of size 1444, which is longer than the specified 1000\n",
      "Created a chunk of size 10135, which is longer than the specified 1000\n",
      "Created a chunk of size 10100, which is longer than the specified 1000\n",
      "Created a chunk of size 1535, which is longer than the specified 1000\n",
      "Created a chunk of size 3568, which is longer than the specified 1000\n",
      "Created a chunk of size 1596, which is longer than the specified 1000\n",
      "Created a chunk of size 1757, which is longer than the specified 1000\n",
      "Created a chunk of size 1770, which is longer than the specified 1000\n",
      "Created a chunk of size 1182, which is longer than the specified 1000\n",
      "Created a chunk of size 1660, which is longer than the specified 1000\n",
      "Created a chunk of size 1295, which is longer than the specified 1000\n",
      "Created a chunk of size 1089, which is longer than the specified 1000\n",
      "Created a chunk of size 4747, which is longer than the specified 1000\n",
      "Created a chunk of size 1780, which is longer than the specified 1000\n",
      "Created a chunk of size 1775, which is longer than the specified 1000\n",
      "Created a chunk of size 1182, which is longer than the specified 1000\n",
      "Created a chunk of size 1788, which is longer than the specified 1000\n",
      "Created a chunk of size 2102, which is longer than the specified 1000\n",
      "Created a chunk of size 2125, which is longer than the specified 1000\n",
      "Created a chunk of size 2089, which is longer than the specified 1000\n",
      "Created a chunk of size 1665, which is longer than the specified 1000\n",
      "Created a chunk of size 1184, which is longer than the specified 1000\n",
      "Created a chunk of size 1182, which is longer than the specified 1000\n",
      "Created a chunk of size 1444, which is longer than the specified 1000\n",
      "Created a chunk of size 1182, which is longer than the specified 1000\n",
      "Created a chunk of size 1444, which is longer than the specified 1000\n",
      "Created a chunk of size 1126, which is longer than the specified 1000\n",
      "Created a chunk of size 1182, which is longer than the specified 1000\n",
      "Created a chunk of size 1444, which is longer than the specified 1000\n",
      "Created a chunk of size 1182, which is longer than the specified 1000\n",
      "Created a chunk of size 1444, which is longer than the specified 1000\n",
      "Created a chunk of size 2424, which is longer than the specified 1000\n",
      "Created a chunk of size 2689, which is longer than the specified 1000\n"
     ]
    }
   ],
   "source": [
    "\n",
    "retriever2 = build_vector_retriever(\"FIRECRAWL_API_KEY\",\n",
    "                                    \"https://www.youxiake.com\")\n",
    "\n",
    "chain2 = build_qa_chain(retriever=retriever2)"
   ],
   "metadata": {
    "collapsed": false,
    "ExecuteTime": {
     "end_time": "2024-06-13T10:59:37.735037Z",
     "start_time": "2024-06-13T10:56:06.079499Z"
    }
   },
   "id": "6364ae3e1558b321",
   "execution_count": 17
  },
  {
   "cell_type": "code",
   "outputs": [
    {
     "data": {
      "text/plain": "\"I don't know.\""
     },
     "execution_count": 18,
     "metadata": {},
     "output_type": "execute_result"
    }
   ],
   "source": [
    "chain2.invoke(\"游侠客最便宜的是哪条线路？\")"
   ],
   "metadata": {
    "collapsed": false,
    "ExecuteTime": {
     "end_time": "2024-06-13T11:13:12.242215Z",
     "start_time": "2024-06-13T11:13:10.723797Z"
    }
   },
   "id": "5559a01a95f13b7c",
   "execution_count": 18
  },
  {
   "cell_type": "code",
   "outputs": [
    {
     "data": {
      "text/plain": "'根据上述提供的文档内容，客服电话是400-670-6300。'"
     },
     "execution_count": 26,
     "metadata": {},
     "output_type": "execute_result"
    }
   ],
   "source": [
    "chain2.invoke(\"客服电话是多少？\")"
   ],
   "metadata": {
    "collapsed": false,
    "ExecuteTime": {
     "end_time": "2024-06-13T11:24:22.099936Z",
     "start_time": "2024-06-13T11:24:20.257374Z"
    }
   },
   "id": "7995ad75c1665dd8",
   "execution_count": 26
  },
  {
   "cell_type": "code",
   "outputs": [],
   "source": [
    "from langchain_community.vectorstores import FAISS\n",
    "from langchain_text_splitters import CharacterTextSplitter\n",
    "\n",
    "\n",
    "def build_vector_retriever(firecrawl_api_key, scrape_url):\n",
    "    loader = FireCrawlLoader(api_key=firecrawl_api_key, url=scrape_url, mode=\"crawl\")\n",
    "    documents = loader.load()\n",
    "    text_splitter = CharacterTextSplitter(chunk_size=1000, chunk_overlap=100)\n",
    "    docs = text_splitter.split_documents(documents)\n",
    "    db = FAISS.from_documents(docs, embeddings_hf)\n",
    "\n",
    "    return db.as_retriever()"
   ],
   "metadata": {
    "collapsed": false
   },
   "id": "e7dafbb8de7d4e19"
  },
  {
   "cell_type": "code",
   "outputs": [],
   "source": [
    "def loader_data(firecrawl_api_key, scrape_url):\n",
    "    loader = FireCrawlLoader(api_key=firecrawl_api_key, url=scrape_url, mode=\"crawl\")\n",
    "    documents = loader.load()\n",
    "    return documents"
   ],
   "metadata": {
    "collapsed": false,
    "ExecuteTime": {
     "end_time": "2024-06-14T01:14:53.484011Z",
     "start_time": "2024-06-14T01:14:53.480728Z"
    }
   },
   "id": "8ee7d094df0c6ab9",
   "execution_count": 2
  },
  {
   "cell_type": "code",
   "outputs": [],
   "source": [
    "def split(documents):\n",
    "    text_splitter = CharacterTextSplitter(chunk_size=1000, chunk_overlap=100)\n",
    "    docs = text_splitter.split_documents(documents)\n",
    "    return docs"
   ],
   "metadata": {
    "collapsed": false,
    "ExecuteTime": {
     "end_time": "2024-06-14T01:14:54.032987Z",
     "start_time": "2024-06-14T01:14:54.030060Z"
    }
   },
   "id": "7fa63498445a6de",
   "execution_count": 3
  },
  {
   "cell_type": "code",
   "outputs": [
    {
     "ename": "Exception",
     "evalue": "Unexpected error occurred while trying to start crawl job. Status code: 401",
     "output_type": "error",
     "traceback": [
      "\u001B[0;31m---------------------------------------------------------------------------\u001B[0m",
      "\u001B[0;31mException\u001B[0m                                 Traceback (most recent call last)",
      "Cell \u001B[0;32mIn[7], line 1\u001B[0m\n\u001B[0;32m----> 1\u001B[0m documents \u001B[38;5;241m=\u001B[39m \u001B[43mloader_data\u001B[49m\u001B[43m(\u001B[49m\u001B[38;5;124;43m\"\u001B[39;49m\u001B[38;5;124;43mFIRECRAWL_API_KEY\u001B[39;49m\u001B[38;5;124;43m\"\u001B[39;49m\u001B[43m,\u001B[49m\u001B[43m \u001B[49m\u001B[38;5;124;43m\"\u001B[39;49m\u001B[38;5;124;43mhttps://bbs.youxiake.com/mdd/9558.html\u001B[39;49m\u001B[38;5;124;43m\"\u001B[39;49m\u001B[43m)\u001B[49m\n\u001B[1;32m      2\u001B[0m docs \u001B[38;5;241m=\u001B[39m split(documents)\n\u001B[1;32m      3\u001B[0m texts \u001B[38;5;241m=\u001B[39m [doc\u001B[38;5;241m.\u001B[39mpage_content \u001B[38;5;28;01mfor\u001B[39;00m doc \u001B[38;5;129;01min\u001B[39;00m docs]\n",
      "Cell \u001B[0;32mIn[2], line 3\u001B[0m, in \u001B[0;36mloader_data\u001B[0;34m(firecrawl_api_key, scrape_url)\u001B[0m\n\u001B[1;32m      1\u001B[0m \u001B[38;5;28;01mdef\u001B[39;00m \u001B[38;5;21mloader_data\u001B[39m(firecrawl_api_key, scrape_url):\n\u001B[1;32m      2\u001B[0m     loader \u001B[38;5;241m=\u001B[39m FireCrawlLoader(api_key\u001B[38;5;241m=\u001B[39mfirecrawl_api_key, url\u001B[38;5;241m=\u001B[39mscrape_url, mode\u001B[38;5;241m=\u001B[39m\u001B[38;5;124m\"\u001B[39m\u001B[38;5;124mcrawl\u001B[39m\u001B[38;5;124m\"\u001B[39m)\n\u001B[0;32m----> 3\u001B[0m     documents \u001B[38;5;241m=\u001B[39m \u001B[43mloader\u001B[49m\u001B[38;5;241;43m.\u001B[39;49m\u001B[43mload\u001B[49m\u001B[43m(\u001B[49m\u001B[43m)\u001B[49m\n\u001B[1;32m      4\u001B[0m     \u001B[38;5;28;01mreturn\u001B[39;00m documents\n",
      "File \u001B[0;32m~/venv/lib/python3.10/site-packages/langchain_core/document_loaders/base.py:29\u001B[0m, in \u001B[0;36mBaseLoader.load\u001B[0;34m(self)\u001B[0m\n\u001B[1;32m     27\u001B[0m \u001B[38;5;28;01mdef\u001B[39;00m \u001B[38;5;21mload\u001B[39m(\u001B[38;5;28mself\u001B[39m) \u001B[38;5;241m-\u001B[39m\u001B[38;5;241m>\u001B[39m List[Document]:\n\u001B[1;32m     28\u001B[0m \u001B[38;5;250m    \u001B[39m\u001B[38;5;124;03m\"\"\"Load data into Document objects.\"\"\"\u001B[39;00m\n\u001B[0;32m---> 29\u001B[0m     \u001B[38;5;28;01mreturn\u001B[39;00m \u001B[38;5;28;43mlist\u001B[39;49m\u001B[43m(\u001B[49m\u001B[38;5;28;43mself\u001B[39;49m\u001B[38;5;241;43m.\u001B[39;49m\u001B[43mlazy_load\u001B[49m\u001B[43m(\u001B[49m\u001B[43m)\u001B[49m\u001B[43m)\u001B[49m\n",
      "File \u001B[0;32m~/venv/lib/python3.10/site-packages/langchain_community/document_loaders/firecrawl.py:57\u001B[0m, in \u001B[0;36mFireCrawlLoader.lazy_load\u001B[0;34m(self)\u001B[0m\n\u001B[1;32m     55\u001B[0m     firecrawl_docs \u001B[38;5;241m=\u001B[39m [\u001B[38;5;28mself\u001B[39m\u001B[38;5;241m.\u001B[39mfirecrawl\u001B[38;5;241m.\u001B[39mscrape_url(\u001B[38;5;28mself\u001B[39m\u001B[38;5;241m.\u001B[39murl, params\u001B[38;5;241m=\u001B[39m\u001B[38;5;28mself\u001B[39m\u001B[38;5;241m.\u001B[39mparams)]\n\u001B[1;32m     56\u001B[0m \u001B[38;5;28;01melif\u001B[39;00m \u001B[38;5;28mself\u001B[39m\u001B[38;5;241m.\u001B[39mmode \u001B[38;5;241m==\u001B[39m \u001B[38;5;124m\"\u001B[39m\u001B[38;5;124mcrawl\u001B[39m\u001B[38;5;124m\"\u001B[39m:\n\u001B[0;32m---> 57\u001B[0m     firecrawl_docs \u001B[38;5;241m=\u001B[39m \u001B[38;5;28;43mself\u001B[39;49m\u001B[38;5;241;43m.\u001B[39;49m\u001B[43mfirecrawl\u001B[49m\u001B[38;5;241;43m.\u001B[39;49m\u001B[43mcrawl_url\u001B[49m\u001B[43m(\u001B[49m\u001B[38;5;28;43mself\u001B[39;49m\u001B[38;5;241;43m.\u001B[39;49m\u001B[43murl\u001B[49m\u001B[43m,\u001B[49m\u001B[43m \u001B[49m\u001B[43mparams\u001B[49m\u001B[38;5;241;43m=\u001B[39;49m\u001B[38;5;28;43mself\u001B[39;49m\u001B[38;5;241;43m.\u001B[39;49m\u001B[43mparams\u001B[49m\u001B[43m)\u001B[49m\n\u001B[1;32m     58\u001B[0m \u001B[38;5;28;01melse\u001B[39;00m:\n\u001B[1;32m     59\u001B[0m     \u001B[38;5;28;01mraise\u001B[39;00m \u001B[38;5;167;01mValueError\u001B[39;00m(\n\u001B[1;32m     60\u001B[0m         \u001B[38;5;124mf\u001B[39m\u001B[38;5;124m\"\u001B[39m\u001B[38;5;124mUnrecognized mode \u001B[39m\u001B[38;5;124m'\u001B[39m\u001B[38;5;132;01m{\u001B[39;00m\u001B[38;5;28mself\u001B[39m\u001B[38;5;241m.\u001B[39mmode\u001B[38;5;132;01m}\u001B[39;00m\u001B[38;5;124m'\u001B[39m\u001B[38;5;124m. Expected one of \u001B[39m\u001B[38;5;124m'\u001B[39m\u001B[38;5;124mcrawl\u001B[39m\u001B[38;5;124m'\u001B[39m\u001B[38;5;124m, \u001B[39m\u001B[38;5;124m'\u001B[39m\u001B[38;5;124mscrape\u001B[39m\u001B[38;5;124m'\u001B[39m\u001B[38;5;124m.\u001B[39m\u001B[38;5;124m\"\u001B[39m\n\u001B[1;32m     61\u001B[0m     )\n",
      "File \u001B[0;32m~/venv/lib/python3.10/site-packages/firecrawl/firecrawl.py:159\u001B[0m, in \u001B[0;36mFirecrawlApp.crawl_url\u001B[0;34m(self, url, params, wait_until_done, timeout, idempotency_key)\u001B[0m\n\u001B[1;32m    157\u001B[0m         \u001B[38;5;28;01mreturn\u001B[39;00m {\u001B[38;5;124m'\u001B[39m\u001B[38;5;124mjobId\u001B[39m\u001B[38;5;124m'\u001B[39m: job_id}\n\u001B[1;32m    158\u001B[0m \u001B[38;5;28;01melse\u001B[39;00m:\n\u001B[0;32m--> 159\u001B[0m     \u001B[38;5;28;43mself\u001B[39;49m\u001B[38;5;241;43m.\u001B[39;49m\u001B[43m_handle_error\u001B[49m\u001B[43m(\u001B[49m\u001B[43mresponse\u001B[49m\u001B[43m,\u001B[49m\u001B[43m \u001B[49m\u001B[38;5;124;43m'\u001B[39;49m\u001B[38;5;124;43mstart crawl job\u001B[39;49m\u001B[38;5;124;43m'\u001B[39;49m\u001B[43m)\u001B[49m\n",
      "File \u001B[0;32m~/venv/lib/python3.10/site-packages/firecrawl/firecrawl.py:299\u001B[0m, in \u001B[0;36mFirecrawlApp._handle_error\u001B[0;34m(self, response, action)\u001B[0m\n\u001B[1;32m    297\u001B[0m     \u001B[38;5;28;01mraise\u001B[39;00m \u001B[38;5;167;01mException\u001B[39;00m(\u001B[38;5;124mf\u001B[39m\u001B[38;5;124m'\u001B[39m\u001B[38;5;124mFailed to \u001B[39m\u001B[38;5;132;01m{\u001B[39;00maction\u001B[38;5;132;01m}\u001B[39;00m\u001B[38;5;124m. Status code: \u001B[39m\u001B[38;5;132;01m{\u001B[39;00mresponse\u001B[38;5;241m.\u001B[39mstatus_code\u001B[38;5;132;01m}\u001B[39;00m\u001B[38;5;124m. Error: \u001B[39m\u001B[38;5;132;01m{\u001B[39;00merror_message\u001B[38;5;132;01m}\u001B[39;00m\u001B[38;5;124m'\u001B[39m)\n\u001B[1;32m    298\u001B[0m \u001B[38;5;28;01melse\u001B[39;00m:\n\u001B[0;32m--> 299\u001B[0m     \u001B[38;5;28;01mraise\u001B[39;00m \u001B[38;5;167;01mException\u001B[39;00m(\u001B[38;5;124mf\u001B[39m\u001B[38;5;124m'\u001B[39m\u001B[38;5;124mUnexpected error occurred while trying to \u001B[39m\u001B[38;5;132;01m{\u001B[39;00maction\u001B[38;5;132;01m}\u001B[39;00m\u001B[38;5;124m. Status code: \u001B[39m\u001B[38;5;132;01m{\u001B[39;00mresponse\u001B[38;5;241m.\u001B[39mstatus_code\u001B[38;5;132;01m}\u001B[39;00m\u001B[38;5;124m'\u001B[39m)\n",
      "\u001B[0;31mException\u001B[0m: Unexpected error occurred while trying to start crawl job. Status code: 401"
     ]
    }
   ],
   "source": [
    "documents = loader_data(\"FIRECRAWL_API_KEY\", \"https://bbs.youxiake.com/mdd/9558.html\")\n",
    "docs = split(documents)\n",
    "texts = [doc.page_content for doc in docs]\n",
    "metadatas = [doc.metadata for doc in docs]"
   ],
   "metadata": {
    "collapsed": false,
    "ExecuteTime": {
     "end_time": "2024-06-14T01:15:43.893716Z",
     "start_time": "2024-06-14T01:15:38.303012Z"
    }
   },
   "id": "eddbd8f8db66869f",
   "execution_count": 7
  },
  {
   "cell_type": "code",
   "outputs": [],
   "source": [
    "import os\n",
    "import chromadb\n",
    "from chromadb import Settings\n",
    "\n",
    "from pathlib import Path\n",
    "\n",
    "# Path(__file__).parent：这一行创建了一个 Path 对象，表示当前脚本文件所在的目录。\n",
    "# __file__ 是一个内置变量，指向当前脚本的路径。.parent 方法返回该路径的父目录。\n",
    "# BACKEND_DIR = Path(__file__).parent\n",
    "# DATA_DIR = Path(os.getenv(\"DATA_DIR\", BACKEND_DIR / \"data\")).resolve()\n",
    "\n",
    "path = '/Users/pangmengting/Documents/workspace/python-learning/langchain/chromadb'\n",
    "CHROMA_DATA_PATH = f\"{path}/vector_db\"\n",
    "CHROMA_TENANT = os.environ.get(\"CHROMA_TENANT\", chromadb.DEFAULT_TENANT)\n",
    "CHROMA_DATABASE = os.environ.get(\"CHROMA_DATABASE\", chromadb.DEFAULT_DATABASE)\n",
    "\n",
    "# 初始化 chromadb\n",
    "CHROMA_CLIENT = chromadb.PersistentClient(\n",
    "    path=CHROMA_DATA_PATH,\n",
    "    settings=Settings(allow_reset=True, anonymized_telemetry=False),\n",
    "    tenant=CHROMA_TENANT,\n",
    "    database=CHROMA_DATABASE,\n",
    ")"
   ],
   "metadata": {
    "collapsed": false
   },
   "id": "c1afdd28d1d8cff0"
  }
 ],
 "metadata": {
  "kernelspec": {
   "display_name": "Python 3",
   "language": "python",
   "name": "python3"
  },
  "language_info": {
   "codemirror_mode": {
    "name": "ipython",
    "version": 2
   },
   "file_extension": ".py",
   "mimetype": "text/x-python",
   "name": "python",
   "nbconvert_exporter": "python",
   "pygments_lexer": "ipython2",
   "version": "2.7.6"
  }
 },
 "nbformat": 4,
 "nbformat_minor": 5
}
