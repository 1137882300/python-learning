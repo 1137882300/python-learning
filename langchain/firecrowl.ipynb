{
 "cells": [
  {
   "cell_type": "code",
   "execution_count": 1,
   "id": "initial_id",
   "metadata": {
    "collapsed": true,
    "ExecuteTime": {
     "end_time": "2024-06-12T15:19:05.632321Z",
     "start_time": "2024-06-12T15:19:03.131035Z"
    }
   },
   "outputs": [],
   "source": [
    "# -q: 这是pip的一个可选参数，表示\"quiet\"（安静模式）。它会减少命令执行时输出的信息量，使安装过程更加简洁清晰。\n",
    "# -U: 这是pip的另一个可选参数，表示\"upgrade\"（升级）。它将确保安装的是指定包的最新版本，如果已经安装了旧版本，它将会把旧版本升级到最新版本。\n",
    "# !pip install firecrawl-py faiss-cpu -q -U"
   ]
  },
  {
   "cell_type": "code",
   "outputs": [],
   "source": [
    "from langchain_community.document_loaders import FireCrawlLoader\n"
   ],
   "metadata": {
    "collapsed": false,
    "ExecuteTime": {
     "end_time": "2024-06-12T15:20:00.138523Z",
     "start_time": "2024-06-12T15:19:59.931366Z"
    }
   },
   "id": "aa9b00e8ad761cd0",
   "execution_count": 2
  },
  {
   "cell_type": "code",
   "outputs": [
    {
     "name": "stderr",
     "output_type": "stream",
     "text": [
      "/Users/pangmengting/venv/lib/python3.10/site-packages/sentence_transformers/cross_encoder/CrossEncoder.py:11: TqdmExperimentalWarning: Using `tqdm.autonotebook.tqdm` in notebook mode. Use `tqdm.tqdm` instead to force console mode (e.g. in jupyter console)\n",
      "  from tqdm.autonotebook import tqdm, trange\n"
     ]
    },
    {
     "data": {
      "text/plain": "modules.json:   0%|          | 0.00/349 [00:00<?, ?B/s]",
      "application/vnd.jupyter.widget-view+json": {
       "version_major": 2,
       "version_minor": 0,
       "model_id": "3fe1a03a11014b8da56c0aba858bf1de"
      }
     },
     "metadata": {},
     "output_type": "display_data"
    },
    {
     "data": {
      "text/plain": "config_sentence_transformers.json:   0%|          | 0.00/116 [00:00<?, ?B/s]",
      "application/vnd.jupyter.widget-view+json": {
       "version_major": 2,
       "version_minor": 0,
       "model_id": "8aa5b7b532c145f7a89b8b32357d0e5d"
      }
     },
     "metadata": {},
     "output_type": "display_data"
    },
    {
     "data": {
      "text/plain": "README.md:   0%|          | 0.00/10.6k [00:00<?, ?B/s]",
      "application/vnd.jupyter.widget-view+json": {
       "version_major": 2,
       "version_minor": 0,
       "model_id": "b85181373f97492bbc9b90e2e263f185"
      }
     },
     "metadata": {},
     "output_type": "display_data"
    },
    {
     "data": {
      "text/plain": "sentence_bert_config.json:   0%|          | 0.00/53.0 [00:00<?, ?B/s]",
      "application/vnd.jupyter.widget-view+json": {
       "version_major": 2,
       "version_minor": 0,
       "model_id": "afac35ccd83349ca9919a9bed382b779"
      }
     },
     "metadata": {},
     "output_type": "display_data"
    },
    {
     "name": "stderr",
     "output_type": "stream",
     "text": [
      "/Users/pangmengting/venv/lib/python3.10/site-packages/huggingface_hub/file_download.py:1132: FutureWarning: `resume_download` is deprecated and will be removed in version 1.0.0. Downloads always resume when possible. If you want to force a new download, use `force_download=True`.\n",
      "  warnings.warn(\n"
     ]
    },
    {
     "data": {
      "text/plain": "1_Pooling/config.json:   0%|          | 0.00/190 [00:00<?, ?B/s]",
      "application/vnd.jupyter.widget-view+json": {
       "version_major": 2,
       "version_minor": 0,
       "model_id": "cea78c6d8bf74b9b9148044af8652327"
      }
     },
     "metadata": {},
     "output_type": "display_data"
    }
   ],
   "source": [
    "from langchain_huggingface import HuggingFaceEmbeddings\n",
    "\n",
    "model_kwargs = {'device': 'cpu'}\n",
    "encode_kwargs = {'normalize_embeddings': False}\n",
    "embeddings_hf = HuggingFaceEmbeddings(\n",
    "    model_kwargs=model_kwargs,\n",
    "    encode_kwargs=encode_kwargs\n",
    ")"
   ],
   "metadata": {
    "collapsed": false,
    "ExecuteTime": {
     "end_time": "2024-06-12T15:21:21.243915Z",
     "start_time": "2024-06-12T15:21:11.079562Z"
    }
   },
   "id": "29ee31e57ecd194d",
   "execution_count": 3
  },
  {
   "cell_type": "code",
   "outputs": [],
   "source": [
    "from langchain_community.vectorstores import FAISS\n",
    "from langchain_text_splitters import CharacterTextSplitter\n",
    "\n",
    "\n",
    "def build_vector_retriever(firecrawl_api_key, scrape_url):\n",
    "    loader = FireCrawlLoader(api_key=firecrawl_api_key, url=scrape_url, mode=\"scrape\")\n",
    "    documents = loader.load()\n",
    "    text_splitter = CharacterTextSplitter(chunk_size=500, chunk_overlap=100)\n",
    "    docs = text_splitter.split_documents(documents)\n",
    "    db = FAISS.from_documents(docs, embeddings_hf)\n",
    "\n",
    "    return db.as_retriever()"
   ],
   "metadata": {
    "collapsed": false,
    "ExecuteTime": {
     "end_time": "2024-06-12T15:50:22.048749Z",
     "start_time": "2024-06-12T15:50:22.046106Z"
    }
   },
   "id": "a4ab2df7daf23b47",
   "execution_count": 27
  },
  {
   "cell_type": "code",
   "outputs": [
    {
     "name": "stdout",
     "output_type": "stream",
     "text": [
      "http://localhost:3002\n"
     ]
    }
   ],
   "source": [
    "import os\n",
    "\n",
    "os.environ[\"FIRECRAWL_API_URL\"] = 'http://localhost:3002'\n",
    "firecrawl_api_key = os.getenv('FIRECRAWL_API_URL')\n",
    "print(firecrawl_api_key)"
   ],
   "metadata": {
    "collapsed": false,
    "ExecuteTime": {
     "end_time": "2024-06-12T15:43:24.243348Z",
     "start_time": "2024-06-12T15:43:24.241185Z"
    }
   },
   "id": "bd6f1e4d4f04ba8f",
   "execution_count": 15
  },
  {
   "cell_type": "code",
   "outputs": [
    {
     "name": "stderr",
     "output_type": "stream",
     "text": [
      "Created a chunk of size 2424, which is longer than the specified 500\n",
      "Created a chunk of size 600, which is longer than the specified 500\n",
      "Created a chunk of size 743, which is longer than the specified 500\n",
      "Created a chunk of size 559, which is longer than the specified 500\n",
      "Created a chunk of size 688, which is longer than the specified 500\n",
      "Created a chunk of size 549, which is longer than the specified 500\n",
      "Created a chunk of size 544, which is longer than the specified 500\n",
      "Created a chunk of size 805, which is longer than the specified 500\n",
      "Created a chunk of size 1246, which is longer than the specified 500\n",
      "Created a chunk of size 1724, which is longer than the specified 500\n",
      "Created a chunk of size 1193, which is longer than the specified 500\n",
      "Created a chunk of size 513, which is longer than the specified 500\n"
     ]
    }
   ],
   "source": [
    "FIRECRAWL_API_KEY = os.getenv('FIRECRAWL_API_URL')\n",
    "\n",
    "retriever = build_vector_retriever(\"FIRECRAWL_API_KEY\", \"https://www.youxiake.com/lines.html?id=53455&spm=eyJmcm9tIjoxMDgwLCJvcmlnaW5hbF9pZCI6MH0\")\n"
   ],
   "metadata": {
    "collapsed": false,
    "ExecuteTime": {
     "end_time": "2024-06-12T15:50:36.281691Z",
     "start_time": "2024-06-12T15:50:26.164760Z"
    }
   },
   "id": "52715bddf75a3360",
   "execution_count": 28
  },
  {
   "cell_type": "code",
   "outputs": [
    {
     "name": "stdout",
     "output_type": "stream",
     "text": [
      "sk-UGVpjuTwo2Q8pewoqUDfckw1A0pbSDli9ElFMeS9WareKknG\n",
      "https://api.moonshot.cn/v1/\n"
     ]
    }
   ],
   "source": [
    "from dotenv import load_dotenv\n",
    "import os\n",
    "from langchain_openai import ChatOpenAI\n",
    "\n",
    "# 加载当前目录下的.env文件\n",
    "# load_dotenv()\n",
    "# load_dotenv(override=True) 会重新读取.env\n",
    "load_dotenv(override=True)\n",
    "\n",
    "# 现在可以像访问普通环境变量一样访问.env文件中的变量了\n",
    "api_key = os.getenv('OPENAI_API_KEY')\n",
    "base_url = os.getenv('OPENAI_API_BASE')\n",
    "\n",
    "print(api_key)\n",
    "print(base_url)\n",
    "\n",
    "model = ChatOpenAI(\n",
    "    openai_api_base=base_url,\n",
    "    openai_api_key=api_key,\n",
    "    model_name=\"moonshot-v1-8k\",\n",
    "    temperature=0.7,\n",
    ")"
   ],
   "metadata": {
    "collapsed": false,
    "ExecuteTime": {
     "end_time": "2024-06-12T15:50:40.171261Z",
     "start_time": "2024-06-12T15:50:40.105610Z"
    }
   },
   "id": "f639950b3a550e63",
   "execution_count": 29
  },
  {
   "cell_type": "code",
   "outputs": [],
   "source": [
    "from langchain_core.runnables import RunnableParallel, RunnablePassthrough\n",
    "from langchain_core.prompts import ChatPromptTemplate\n",
    "from langchain_core.output_parsers import StrOutputParser\n",
    "\n",
    "\n",
    "def build_qa_chain(retriever):\n",
    "    prompt = ChatPromptTemplate.from_template(\n",
    "        \"Using the context below to answer user's question. If you can't find information within the context, simply answer I don't know.\\n\\n {context} {question}\")\n",
    "\n",
    "    chain = {\"context\": retriever, \"question\": RunnablePassthrough()} | prompt | model | StrOutputParser()\n",
    "\n",
    "    return chain"
   ],
   "metadata": {
    "collapsed": false,
    "ExecuteTime": {
     "end_time": "2024-06-12T15:50:42.018313Z",
     "start_time": "2024-06-12T15:50:42.016493Z"
    }
   },
   "id": "c3f196b0ba3cc556",
   "execution_count": 30
  },
  {
   "cell_type": "code",
   "outputs": [
    {
     "data": {
      "text/plain": "'根据提供的网页内容，游侠客提供的主题旅行线路包括户外、摄影、亲子、深度人文、休闲度假和体育等。这些线路覆盖了不同的旅游目的地和活动类型，具体线路的详细信息没有在文档中列出。如果需要更详细的线路信息，可能需要访问游侠客的官方网站或与他们联系以获取更多信息。'"
     },
     "execution_count": 31,
     "metadata": {},
     "output_type": "execute_result"
    }
   ],
   "source": [
    "chain = build_qa_chain(retriever=retriever)\n",
    "\n",
    "chain.invoke(\"游侠客有哪些线路？\")"
   ],
   "metadata": {
    "collapsed": false,
    "ExecuteTime": {
     "end_time": "2024-06-12T15:50:49.105Z",
     "start_time": "2024-06-12T15:50:44.494498Z"
    }
   },
   "id": "5fd29826ab214fb1",
   "execution_count": 31
  },
  {
   "cell_type": "code",
   "outputs": [
    {
     "data": {
      "text/plain": "'在提供的文本中，没有关于特惠线路的具体信息。因此，我无法推荐特惠线路。如果你想了解特惠线路，建议直接访问游侠客官方网站或联系客服获取最新信息。'"
     },
     "execution_count": 21,
     "metadata": {},
     "output_type": "execute_result"
    }
   ],
   "source": [
    "chain.invoke(\"请推荐一下特惠线路有哪些？\")"
   ],
   "metadata": {
    "collapsed": false,
    "ExecuteTime": {
     "end_time": "2024-06-12T15:45:48.780889Z",
     "start_time": "2024-06-12T15:45:45.459577Z"
    }
   },
   "id": "7c78fafc9c3d1ff5",
   "execution_count": 21
  },
  {
   "cell_type": "code",
   "outputs": [
    {
     "data": {
      "text/plain": "\"I don't know.\""
     },
     "execution_count": 22,
     "metadata": {},
     "output_type": "execute_result"
    }
   ],
   "source": [
    "chain.invoke(\"腾格里五胡连穿，50KM沙漠徒步的旅游线路多少钱？\")"
   ],
   "metadata": {
    "collapsed": false,
    "ExecuteTime": {
     "end_time": "2024-06-12T15:47:22.108363Z",
     "start_time": "2024-06-12T15:47:20.828828Z"
    }
   },
   "id": "2b89b74a671e1054",
   "execution_count": 22
  },
  {
   "cell_type": "code",
   "outputs": [
    {
     "data": {
      "text/plain": "'瑜伽行·阴性之光一阶·8.6清迈阴瑜伽工作坊的具体行程如下：\\n\\n天数：6天5晚\\n出发：全国出发\\n到达：清迈\\n解散：清迈\\n\\nD1 第1天 各地-清迈\\n- 全天：今天是自由集合的一天。组织方会根据大家当天的航班时间接机，入住清迈美好的静修中心静思之园（Suan Sati），开启6天5晚沉浸式工作坊。\\n- 如果提前抵达了清迈，组织方也会在下午14点集体安排用车从清迈古城接大家到静修中心。\\n- 熟悉静修中心环境，自由放松。晚上篝火聊天。\\n\\n重要提示：以上行程仅为参考，具体以实际签订合同为准。'"
     },
     "execution_count": 32,
     "metadata": {},
     "output_type": "execute_result"
    }
   ],
   "source": [
    "chain.invoke(\"瑜伽行·阴性之光一阶·8.6清迈阴瑜伽工作坊的具体行程是什么？\")"
   ],
   "metadata": {
    "collapsed": false,
    "ExecuteTime": {
     "end_time": "2024-06-12T15:51:05.489596Z",
     "start_time": "2024-06-12T15:50:57.876416Z"
    }
   },
   "id": "e01eefd107be0383",
   "execution_count": 32
  },
  {
   "cell_type": "code",
   "outputs": [
    {
     "data": {
      "text/plain": "'第一天的行程概述是自由集合的一天。根据大家的航班时间接机，入住清迈美好的静修中心静思之园（Suan Sati），开启6天5晚沉浸式工作坊。如果提前抵达了清迈，下午14点会集体安排用车从清迈古城接大家到静修中心。第一天晚上有篝火聊天的活动。所以，第一天住在清迈的静修中心静思之园（Suan Sati）。'"
     },
     "execution_count": 33,
     "metadata": {},
     "output_type": "execute_result"
    }
   ],
   "source": [
    "chain.invoke(\"瑜伽行·阴性之光一阶·8.6清迈阴瑜伽工作坊的第一天行程是什么，第一天住在哪里呢？\")"
   ],
   "metadata": {
    "collapsed": false,
    "ExecuteTime": {
     "end_time": "2024-06-12T15:55:06.525888Z",
     "start_time": "2024-06-12T15:55:01.271439Z"
    }
   },
   "id": "8730492dcd23756d",
   "execution_count": 33
  },
  {
   "cell_type": "code",
   "outputs": [
    {
     "data": {
      "text/plain": "'第二天的课程安排如下：\\n\\n- 06:00～08:15：自我练习或参加静修中心内的瑜伽课。\\n- 08:45：早餐。\\n- 10:00～11:30：序列练习。\\n- 11:30～12:30：理论研习，包括筋膜、阴阳、五气、疗愈原理等主题。\\n- 13:00：午餐。\\n- 14:30～16:30：每一个阴性体式的精讲与调整手法。\\n- 16:30～17:15：教学语言与序列编排。\\n- 17:17～17:30：瑜伽唱诵。\\n- 18:00：晚餐。\\n\\n此外，课程还包括经典阴瑜伽体系的概述、身体疗愈的范围与概念、阴阳理论与呼吸法等内容。'"
     },
     "execution_count": 34,
     "metadata": {},
     "output_type": "execute_result"
    }
   ],
   "source": [
    "chain.invoke(\"据说第二天会有课程？具体有啥课程呢\")"
   ],
   "metadata": {
    "collapsed": false,
    "ExecuteTime": {
     "end_time": "2024-06-12T15:57:14.165818Z",
     "start_time": "2024-06-12T15:57:05.936635Z"
    }
   },
   "id": "e11d955ac48b5fbc",
   "execution_count": 34
  },
  {
   "cell_type": "code",
   "outputs": [],
   "source": [],
   "metadata": {
    "collapsed": false
   },
   "id": "3ccbdda3f5e8e424"
  }
 ],
 "metadata": {
  "kernelspec": {
   "display_name": "Python 3",
   "language": "python",
   "name": "python3"
  },
  "language_info": {
   "codemirror_mode": {
    "name": "ipython",
    "version": 2
   },
   "file_extension": ".py",
   "mimetype": "text/x-python",
   "name": "python",
   "nbconvert_exporter": "python",
   "pygments_lexer": "ipython2",
   "version": "2.7.6"
  }
 },
 "nbformat": 4,
 "nbformat_minor": 5
}
