{
 "cells": [
  {
   "cell_type": "markdown",
   "source": [
    "URL\n",
    "PowerPoint\n",
    "ReadTheDocs site\n",
    "PDF"
   ],
   "metadata": {
    "collapsed": false
   },
   "id": "a7fbc7ac0d94d1bc"
  },
  {
   "cell_type": "code",
   "execution_count": 4,
   "id": "initial_id",
   "metadata": {
    "collapsed": true,
    "ExecuteTime": {
     "end_time": "2024-07-02T01:49:12.715615Z",
     "start_time": "2024-07-02T01:49:12.187119Z"
    }
   },
   "outputs": [],
   "source": [
    "import os\n",
    "from langchain.document_loaders import UnstructuredURLLoader, UnstructuredPowerPointLoader, ReadTheDocsLoader, \\\n",
    "    PyPDFLoader\n",
    "from langchain.llms import OpenAI\n",
    "from langchain.chains.summarize import load_summarize_chain\n",
    "from langchain.callbacks import get_openai_callback\n",
    "from langchain.text_splitter import RecursiveCharacterTextSplitter"
   ]
  },
  {
   "cell_type": "code",
   "outputs": [
    {
     "name": "stdout",
     "output_type": "stream",
     "text": [
      "8483c3ec7a0cbc54a8d660b5b9002b04\n",
      "Gcllof8ze6dgtcqFI5FQZ2SD_5tfCD4Db7NuS6jn\n",
      "sk-01c5003340c3453b934052d737d45e01\n",
      "sk-UGVpjuTwo2Q8pewoqUDfckw1A0pbSDli9ElFMeS9WareKknG\n",
      "https://api.moonshot.cn/v1/\n"
     ]
    }
   ],
   "source": [
    "from dotenv import load_dotenv\n",
    "import os\n",
    "from langchain_community.llms.cloudflare_workersai import CloudflareWorkersAI\n",
    "from langchain_community.llms.tongyi import Tongyi\n",
    "from langchain_openai import ChatOpenAI\n",
    "\n",
    "load_dotenv(override=True)\n",
    "\n",
    "account_id = os.getenv('CF_ACCOUNT_ID')\n",
    "api_token = os.getenv('CF_API_TOKEN')\n",
    "print(account_id)\n",
    "print(api_token)\n",
    "\n",
    "# CloudflareWorkersAI\n",
    "model = '@cf/meta/llama-3-8b-instruct'\n",
    "cf_llm = CloudflareWorkersAI(\n",
    "    account_id=account_id,\n",
    "    api_token=api_token,\n",
    "    model=model\n",
    ")\n",
    "\n",
    "DASHSCOPE_API_KEY = os.getenv('DASHSCOPE_API_KEY')\n",
    "print(DASHSCOPE_API_KEY)\n",
    "\n",
    "# qwen\n",
    "qw_llm = Tongyi(\n",
    "    model='qwen2-1.5b-instruct'\n",
    ")\n",
    "\n",
    "# qwen 兼容 openai的接口\n",
    "qw_llm_openai = ChatOpenAI(\n",
    "    openai_api_base='https://dashscope.aliyuncs.com/compatible-mode/v1',\n",
    "    openai_api_key=DASHSCOPE_API_KEY,\n",
    "    model_name=\"qwen2-1.5b-instruct\",\n",
    "    temperature=0,\n",
    "    streaming=True,\n",
    "    verbose=True,\n",
    ")\n",
    "\n",
    "api_key = os.getenv('OPENAI_API_KEY')\n",
    "base_url = os.getenv('OPENAI_API_BASE')\n",
    "print(api_key)\n",
    "print(base_url)\n",
    "\n",
    "# openai/moonshot\n",
    "ms_llm = ChatOpenAI(\n",
    "    openai_api_base=base_url,\n",
    "    openai_api_key=api_key,\n",
    "    model_name=\"moonshot-v1-8k\",\n",
    "    temperature=0.7,\n",
    ")"
   ],
   "metadata": {
    "collapsed": false,
    "ExecuteTime": {
     "end_time": "2024-07-02T01:49:29.290929Z",
     "start_time": "2024-07-02T01:49:28.811878Z"
    }
   },
   "id": "cdde4f444305080e",
   "execution_count": 6
  },
  {
   "cell_type": "code",
   "outputs": [],
   "source": [
    "def summarize_docs(docs, doc_url):\n",
    "    print(f'You have {len(docs)} document(s) in your {doc_url} data')\n",
    "    print(f'There are {len(docs[0].page_content)} characters in your document')\n",
    "\n",
    "    text_splitter = RecursiveCharacterTextSplitter(chunk_size=1000, chunk_overlap=0)\n",
    "    split_docs = text_splitter.split_documents(docs)\n",
    "\n",
    "    print(f'You have {len(split_docs)} split document(s)')\n",
    "\n",
    "    chain = load_summarize_chain(qw_llm_openai, chain_type=\"map_reduce\", verbose=False)\n",
    "\n",
    "    response = \"\"\n",
    "    with get_openai_callback() as cb:\n",
    "        response = chain.invoke(split_docs)\n",
    "        print(f\"Total Tokens: {cb.total_tokens}\")\n",
    "        print(f\"Prompt Tokens: {cb.prompt_tokens}\")\n",
    "        print(f\"Completion Tokens: {cb.completion_tokens}\")\n",
    "        print(f\"Successful Requests: {cb.successful_requests}\")\n",
    "        print(f\"Total Cost (USD): ${cb.total_cost}\")\n",
    "\n",
    "    return response"
   ],
   "metadata": {
    "collapsed": false,
    "ExecuteTime": {
     "end_time": "2024-07-02T01:49:33.900061Z",
     "start_time": "2024-07-02T01:49:33.895147Z"
    }
   },
   "id": "67482df366d82263",
   "execution_count": 7
  },
  {
   "cell_type": "code",
   "outputs": [],
   "source": [
    "url = \"https://www.crab233.cloudns.biz/proxy/edition.cnn.com/2023/04/13/business/delta-earnings/index.html\"\n",
    "loader = UnstructuredURLLoader(urls=[url]).load()"
   ],
   "metadata": {
    "collapsed": false,
    "ExecuteTime": {
     "end_time": "2024-06-28T03:38:01.345543Z",
     "start_time": "2024-06-28T03:37:51.520507Z"
    }
   },
   "id": "dc65e1da327f9b95",
   "execution_count": 6
  },
  {
   "cell_type": "code",
   "outputs": [
    {
     "name": "stdout",
     "output_type": "stream",
     "text": [
      "You have 1 document(s) in your https://www.crab233.cloudns.biz/proxy/edition.cnn.com/2023/04/13/business/delta-earnings/index.html data\n",
      "There are 5159 characters in your document\n",
      "You have 6 split document(s)\n",
      "Total Tokens: 0\n",
      "Prompt Tokens: 0\n",
      "Completion Tokens: 0\n",
      "Successful Requests: 0\n",
      "Total Cost (USD): $0.0\n"
     ]
    },
    {
     "data": {
      "text/plain": "{'input_documents': [Document(page_content=\"Video Ad Feedback\\n\\nAirlines warn they may have to cut flights unless this problem is solved\\n\\n02:26\\n\\nSource:\\n                CNN\\n\\nTop business news\\n\\n16 videos\\n\\nVideo Ad Feedback\\n\\nAirlines warn they may have to cut flights unless this problem is solved\\n\\n02:26\\n\\nNow playing\\n\\nSource:\\n                CNN\\n\\nVideo Ad Feedback\\n\\nHow to craft the perfect maternity leave out of office message\\n\\n01:33\\n\\nNow playing\\n\\nSource:\\n                CNN\\n\\nVideo Ad Feedback\\n\\nCNN writer explains how Microsoft's new AI model works\\n\\n02:20\\n\\nNow playing\\n\\nSource:\\n                CNN\\n\\nVideo Ad Feedback\\n\\nToyota sells only two electric vehicles. Executive insists they're not holding back\\n\\n02:21\\n\\nNow playing\\n\\nSource:\\n                CNN\\n\\nVideo Ad Feedback\\n\\nAn implant in his brain lets him do incredible tasks with his thoughts\\n\\n05:37\\n\\nNow playing\\n\\nSource:\\n                CNN\\n\\nVideo Ad Feedback\\n\\n'We're cooking our cities': These drones map 150-degree temperatures in urban areas\\n\\n03:43\\n\\nNow playing\", metadata={'source': 'https://www.crab233.cloudns.biz/proxy/edition.cnn.com/2023/04/13/business/delta-earnings/index.html'}),\n  Document(page_content=\"Source:\\n                CNN\\n\\nVideo Ad Feedback\\n\\nCostco is running out of gold bars to sell. Financial expert reacts\\n\\n01:22\\n\\nNow playing\\n\\nSource:\\n                CNN\\n\\nVideo Ad Feedback\\n\\nThe price of chocolate is soaring. Here's why\\n\\n01:18\\n\\nNow playing\\n\\nSource:\\n                CNN\\n\\nVideo Ad Feedback\\n\\nAs college cost passes $90K, 'the middle class is losing ground'\\n\\n04:17\\n\\nNow playing\\n\\nSource:\\n                CNN\\n\\nVideo Ad Feedback\\n\\n'Million Dollar Listing LA' star reveals how clients are insuring homes amid rising rates\\n\\n00:59\\n\\nNow playing\\n\\nSource:\\n                CNN\\n\\nVideo Ad Feedback\\n\\nApple co-founder calls out 'hypocrisy' of politicians calling for TikTok ban\\n\\n02:06\\n\\nNow playing\\n\\nSource:\\n                CNN\\n\\nVideo Ad Feedback\\n\\nDonald Trump may be on the verge of a massive financial win\\n\\n02:52\\n\\nNow playing\\n\\nSource:\\n                CNN\\n\\nVideo Ad Feedback\\n\\nSee why some Chinese people are boycotting a popular brand\\n\\n02:10\\n\\nNow playing\\n\\nSource:\\n                CNN\\n\\nVideo Ad Feedback\", metadata={'source': 'https://www.crab233.cloudns.biz/proxy/edition.cnn.com/2023/04/13/business/delta-earnings/index.html'}),\n  Document(page_content=\"The stock market set a new record. Here's what that means for the economy\\n\\n02:06\\n\\nNow playing\\n\\nSource:\\n                CNN\\n\\nVideo Ad Feedback\\n\\nWhy you should think twice before buying a new phone\\n\\n02:16\\n\\nNow playing\\n\\nSource:\\n                CNN\\n\\nVideo Ad Feedback\\n\\nReal estate CEO says Trump could sell Mar-a-Lago 'quickly' to secure $464 million bond\\n\\n01:10\\n\\nNow playing\\n\\nSource:\\n                CNN\\n\\nNew York\\n\\nCNN\\n        \\xa0—\\n\\nDelta Air Lines reported record advanced bookings for this coming summer, a further sign that the US airline industry is putting the pandemic-caused losses behind it.\\n\\nBut rising labor costs did result in a net loss in the period, even if the company reported a profit when excluding special items, the measure most closely followed by investors.\", metadata={'source': 'https://www.crab233.cloudns.biz/proxy/edition.cnn.com/2023/04/13/business/delta-earnings/index.html'}),\n  Document(page_content='The Atlanta-based airline earned $163 million, excluding special items, in the first three months of the year, compared to a loss of $784 million on that basis a year earlier. Revenue of $11.8 billion was up 45% from a year earlier, and up 14% from the same period in 2019, before the pandemic.\\n\\nThe strong demand for flying means higher fares for customers. The amount passengers paid to fly each mile on Delta was up 17% compared to both a year earlier and the same period in 2019. Total passenger revenue when adjusted for capacity, another key measure of fares, was up 27% compared to a year ago and 14% from the same period in 2019. And planes were fuller, with Delta selling 81% of available seats, up from 75% a year earlier.', metadata={'source': 'https://www.crab233.cloudns.biz/proxy/edition.cnn.com/2023/04/13/business/delta-earnings/index.html'}),\n  Document(page_content='The second quarter revenue and earnings were slightly below Wall Street forecasts, which the company attributed to flights canceled due to bad weather. But shares of Delta\\n            \\n                (DAL) were higher in pre-market trading due to its strong forecast going forward.\\n\\nA  passenger is taken into custody after opening a door of a Boeing 737 and deploying an emergency exit slide Sunday, March 26, 2023, at Los Angeles International Airport in Los Angeles.\\n  \\n\\n        Gillian Sheldon\\n      \\n    \\n\\n\\n    \\n    \\n      \\n      \\n      Delta passenger opens door, deploys emergency exit slide on plane at Los Angeles airport\\n\\nThe company said the record second-quarter bookings will allow it to post earnings per share of between $2 and $2.25, well above the current forecast of $1.66. For the full year, the company expects earnings per share of between $5 and $6, which could put it well above the $5.40 forecast from analysts.', metadata={'source': 'https://www.crab233.cloudns.biz/proxy/edition.cnn.com/2023/04/13/business/delta-earnings/index.html'}),\n  Document(page_content='The company did take a one-time charge of $864 million related to the four-year labor deal it reached with pilots that will increase their pay 34% over the life of the contract. It provides them with an immediate 18% raise and a signing bonus that cost the airline $735 million. The charge for that signing bonus and change in benefits resulted in a net loss in the quarter of $363 million.\\n\\nThe airline also gave 5% raises to many of its other employees as of April 1. The pilots are the only major employee group at Delta who are union members. Other major US airlines, which are far more heavily unionized, face upcoming negotiations with a majority of their employees, and could also see rising labor costs in upcoming financial results.', metadata={'source': 'https://www.crab233.cloudns.biz/proxy/edition.cnn.com/2023/04/13/business/delta-earnings/index.html'})],\n 'output_text': \"Airlines have warned of potential flight cuts due to unresolved issues, but technology advancements like implantable thought control devices and drone mapping have been discussed. Video ads have received mixed feedback, with some criticizing Costco for selling out of gold bars and others praising Apple's criticism of TikTok's ban. The stock market has recovered from the COVID-19 pandemic, but rising labor costs have resulted in a net loss in the quarter. Delta Air Lines' net income improved significantly in the first quarter, but operating margins remain weak. The company's strong demand for flights led to an increase in passenger revenue, which was driven by higher ticket prices and increased seat utilization rates. Delta's success is attributed to efficient operations and strategic pricing strategies.\"}"
     },
     "execution_count": 8,
     "metadata": {},
     "output_type": "execute_result"
    }
   ],
   "source": [
    "summarize_docs(loader, url)"
   ],
   "metadata": {
    "collapsed": false,
    "ExecuteTime": {
     "end_time": "2024-06-28T03:38:51.479644Z",
     "start_time": "2024-06-28T03:38:39.755917Z"
    }
   },
   "id": "a4c7853e15c6c40f",
   "execution_count": 8
  },
  {
   "cell_type": "code",
   "outputs": [],
   "source": [
    "url2 = 'https://mp.weixin.qq.com/s/mnG40InZ1vBSkXjV50B3mQ'\n",
    "loader = UnstructuredURLLoader(urls=[url2]).load()"
   ],
   "metadata": {
    "collapsed": false,
    "ExecuteTime": {
     "end_time": "2024-07-02T01:49:21.545285Z",
     "start_time": "2024-07-02T01:49:16.940342Z"
    }
   },
   "id": "e71462c9b86d90cf",
   "execution_count": 5
  },
  {
   "cell_type": "code",
   "outputs": [
    {
     "name": "stdout",
     "output_type": "stream",
     "text": [
      "You have 1 document(s) in your https://mp.weixin.qq.com/s/mnG40InZ1vBSkXjV50B3mQ data\n",
      "There are 64 characters in your document\n",
      "You have 1 split document(s)\n",
      "Total Tokens: 0\n",
      "Prompt Tokens: 0\n",
      "Completion Tokens: 0\n",
      "Successful Requests: 0\n",
      "Total Cost (USD): $0.0\n"
     ]
    },
    {
     "data": {
      "text/plain": "{'input_documents': [Document(page_content='环境异常\\n\\n当前环境异常，完成验证后即可继续访问。\\n\\n去验证\\n\\n视频\\n\\n小程序\\n\\n，轻点两下取消赞\\n\\n在看\\n\\n，轻点两下取消在看', metadata={'source': 'https://mp.weixin.qq.com/s/mnG40InZ1vBSkXjV50B3mQ'})],\n 'output_text': '\"请先进行验证以继续访问。点击\\'去验证\\'页面并取消点赞或在看两次。\"'}"
     },
     "execution_count": 8,
     "metadata": {},
     "output_type": "execute_result"
    }
   ],
   "source": [
    "summarize_docs(loader, url2)"
   ],
   "metadata": {
    "collapsed": false,
    "ExecuteTime": {
     "end_time": "2024-07-02T01:49:39.353758Z",
     "start_time": "2024-07-02T01:49:37.798199Z"
    }
   },
   "id": "c9eae69968e84eb3",
   "execution_count": 8
  },
  {
   "cell_type": "code",
   "outputs": [
    {
     "name": "stdout",
     "output_type": "stream",
     "text": [
      "--2024-07-02 09:30:24--  https://github.com/tomw1808/truffle_eth_class2/blob/master/s08/Web3-intro.pptx?raw=true\r\n",
      "Resolving github.com (github.com)... 140.82.116.4\r\n",
      "Connecting to github.com (github.com)|140.82.116.4|:443... connected.\r\n",
      "HTTP request sent, awaiting response... 302 Found\r\n",
      "Location: https://github.com/tomw1808/truffle_eth_class2/raw/master/s08/Web3-intro.pptx [following]\r\n",
      "--2024-07-02 09:30:26--  https://github.com/tomw1808/truffle_eth_class2/raw/master/s08/Web3-intro.pptx\r\n",
      "Reusing existing connection to github.com:443.\r\n",
      "HTTP request sent, awaiting response... No data received.\r\n",
      "Retrying.\r\n",
      "\r\n",
      "--2024-07-02 09:30:57--  (try: 2)  https://github.com/tomw1808/truffle_eth_class2/raw/master/s08/Web3-intro.pptx\r\n",
      "Connecting to github.com (github.com)|140.82.116.4|:443... connected.\r\n",
      "HTTP request sent, awaiting response... 302 Found\r\n",
      "Location: https://raw.githubusercontent.com/tomw1808/truffle_eth_class2/master/s08/Web3-intro.pptx [following]\r\n",
      "--2024-07-02 09:30:58--  https://raw.githubusercontent.com/tomw1808/truffle_eth_class2/master/s08/Web3-intro.pptx\r\n",
      "Resolving raw.githubusercontent.com (raw.githubusercontent.com)... 185.199.108.133\r\n",
      "Connecting to raw.githubusercontent.com (raw.githubusercontent.com)|185.199.108.133|:443... connected.\r\n",
      "HTTP request sent, awaiting response... 200 OK\r\n",
      "Length: 2598023 (2.5M) [application/octet-stream]\r\n",
      "Saving to: ‘Web3-intro.pptx’\r\n",
      "\r\n",
      "Web3-intro.pptx     100%[===================>]   2.48M   605KB/s    in 68s     \r\n",
      "\r\n",
      "2024-07-02 09:32:07 (37.5 KB/s) - ‘Web3-intro.pptx’ saved [2598023/2598023]\r\n",
      "\r\n"
     ]
    }
   ],
   "source": [
    "!wget \"https://github.com/tomw1808/truffle_eth_class2/blob/master/s08/Web3-intro.pptx?raw=true\" -O Web3-intro.pptx"
   ],
   "metadata": {
    "collapsed": false,
    "ExecuteTime": {
     "end_time": "2024-07-02T01:32:07.584633Z",
     "start_time": "2024-07-02T01:30:24.757632Z"
    }
   },
   "id": "a36c4413b4f47a6d",
   "execution_count": 1
  },
  {
   "cell_type": "code",
   "outputs": [],
   "source": [
    "loader = UnstructuredPowerPointLoader(\"Web3-intro.pptx\")\n",
    "response = summarize_docs(loader.load(), \"Web3-intro.pptx\")\n",
    "print(response)"
   ],
   "metadata": {
    "collapsed": false
   },
   "id": "7010b22126fc2af9"
  },
  {
   "cell_type": "code",
   "outputs": [],
   "source": [
    "!wget -r -A.html -P langchain \"https://langchain.readthedocs.io/en/latest/\""
   ],
   "metadata": {
    "collapsed": false
   },
   "id": "e6453eee24fd0a31"
  },
  {
   "cell_type": "code",
   "outputs": [],
   "source": [
    "# 获取文件夹内的文件\n",
    "loader = ReadTheDocsLoader(\"langchain\")\n",
    "summarize_docs(loader.load(), \"langchain\")"
   ],
   "metadata": {
    "collapsed": false
   },
   "id": "6e40a7fe826a4f36"
  },
  {
   "cell_type": "code",
   "outputs": [],
   "source": [
    "!wget \"https://ir.tesla.com/_flysystem/s3/sec/000095017023001409/tsla-20221231-gen.pdf\" -O tsla-20221231-gen.pdf"
   ],
   "metadata": {
    "collapsed": false
   },
   "id": "498164fff97410cc"
  },
  {
   "cell_type": "code",
   "outputs": [],
   "source": [
    "loader = PyPDFLoader(\"tsla-20221231-gen.pdf\")\n",
    "pages = loader.load_and_split()\n",
    "summarize_docs(pages[:10], \"tsla-20221231-gen.pdf\")"
   ],
   "metadata": {
    "collapsed": false
   },
   "id": "f79c8965c7f7c594"
  },
  {
   "cell_type": "code",
   "outputs": [],
   "source": [
    "# 获取文件夹内的文件\n",
    "loader = ReadTheDocsLoader(\"langchain\")\n",
    "loader = loader.load()"
   ],
   "metadata": {
    "collapsed": false,
    "ExecuteTime": {
     "end_time": "2024-07-02T02:01:56.140775Z",
     "start_time": "2024-07-02T02:01:56.135289Z"
    }
   },
   "id": "bb55ae1ea8111860",
   "execution_count": 16
  },
  {
   "cell_type": "code",
   "outputs": [
    {
     "name": "stdout",
     "output_type": "stream",
     "text": [
      "You have 0 document(s) in your 03_data_loader data\n"
     ]
    },
    {
     "ename": "IndexError",
     "evalue": "list index out of range",
     "output_type": "error",
     "traceback": [
      "\u001B[0;31m---------------------------------------------------------------------------\u001B[0m",
      "\u001B[0;31mIndexError\u001B[0m                                Traceback (most recent call last)",
      "Cell \u001B[0;32mIn[17], line 1\u001B[0m\n\u001B[0;32m----> 1\u001B[0m \u001B[43msummarize_docs\u001B[49m\u001B[43m(\u001B[49m\u001B[43mloader\u001B[49m\u001B[43m,\u001B[49m\u001B[43m \u001B[49m\u001B[38;5;124;43m\"\u001B[39;49m\u001B[38;5;124;43m03_data_loader\u001B[39;49m\u001B[38;5;124;43m\"\u001B[39;49m\u001B[43m)\u001B[49m\n",
      "Cell \u001B[0;32mIn[7], line 3\u001B[0m, in \u001B[0;36msummarize_docs\u001B[0;34m(docs, doc_url)\u001B[0m\n\u001B[1;32m      1\u001B[0m \u001B[38;5;28;01mdef\u001B[39;00m \u001B[38;5;21msummarize_docs\u001B[39m(docs, doc_url):\n\u001B[1;32m      2\u001B[0m     \u001B[38;5;28mprint\u001B[39m(\u001B[38;5;124mf\u001B[39m\u001B[38;5;124m'\u001B[39m\u001B[38;5;124mYou have \u001B[39m\u001B[38;5;132;01m{\u001B[39;00m\u001B[38;5;28mlen\u001B[39m(docs)\u001B[38;5;132;01m}\u001B[39;00m\u001B[38;5;124m document(s) in your \u001B[39m\u001B[38;5;132;01m{\u001B[39;00mdoc_url\u001B[38;5;132;01m}\u001B[39;00m\u001B[38;5;124m data\u001B[39m\u001B[38;5;124m'\u001B[39m)\n\u001B[0;32m----> 3\u001B[0m     \u001B[38;5;28mprint\u001B[39m(\u001B[38;5;124mf\u001B[39m\u001B[38;5;124m'\u001B[39m\u001B[38;5;124mThere are \u001B[39m\u001B[38;5;132;01m{\u001B[39;00m\u001B[38;5;28mlen\u001B[39m(\u001B[43mdocs\u001B[49m\u001B[43m[\u001B[49m\u001B[38;5;241;43m0\u001B[39;49m\u001B[43m]\u001B[49m\u001B[38;5;241m.\u001B[39mpage_content)\u001B[38;5;132;01m}\u001B[39;00m\u001B[38;5;124m characters in your document\u001B[39m\u001B[38;5;124m'\u001B[39m)\n\u001B[1;32m      5\u001B[0m     text_splitter \u001B[38;5;241m=\u001B[39m RecursiveCharacterTextSplitter(chunk_size\u001B[38;5;241m=\u001B[39m\u001B[38;5;241m1000\u001B[39m, chunk_overlap\u001B[38;5;241m=\u001B[39m\u001B[38;5;241m0\u001B[39m)\n\u001B[1;32m      6\u001B[0m     split_docs \u001B[38;5;241m=\u001B[39m text_splitter\u001B[38;5;241m.\u001B[39msplit_documents(docs)\n",
      "\u001B[0;31mIndexError\u001B[0m: list index out of range"
     ]
    }
   ],
   "source": [
    "summarize_docs(loader, \"03_data_loader\")"
   ],
   "metadata": {
    "collapsed": false,
    "ExecuteTime": {
     "end_time": "2024-07-02T02:01:57.722464Z",
     "start_time": "2024-07-02T02:01:57.659999Z"
    }
   },
   "id": "b0e9464dc26fd690",
   "execution_count": 17
  },
  {
   "cell_type": "code",
   "outputs": [],
   "source": [
    "from langchain.document_loaders import TextLoader\n",
    "\n",
    "loader = TextLoader(\"../03_data_loader/test.md\")\n",
    "docs = loader.load()"
   ],
   "metadata": {
    "collapsed": false,
    "ExecuteTime": {
     "end_time": "2024-07-02T02:03:20.826793Z",
     "start_time": "2024-07-02T02:03:20.818126Z"
    }
   },
   "id": "a700bc96e3cdbee2",
   "execution_count": 18
  },
  {
   "cell_type": "code",
   "outputs": [
    {
     "name": "stdout",
     "output_type": "stream",
     "text": [
      "You have 1 document(s) in your 03_data_loader data\n",
      "There are 5367 characters in your document\n",
      "You have 6 split document(s)\n",
      "Total Tokens: 0\n",
      "Prompt Tokens: 0\n",
      "Completion Tokens: 0\n",
      "Successful Requests: 0\n",
      "Total Cost (USD): $0.0\n"
     ]
    },
    {
     "data": {
      "text/plain": "{'input_documents': [Document(page_content='# 呼伦贝尔秋摄丨从大兴安岭到中俄边境8日\\n\\n入住阿尔山景区丨驼峰岭天池丨巴彦呼硕丨根河湿地丨白鹿岛丨莫尔道嘎丨莫日格勒河丨秘境呼伦湖丨中俄边境公路丨安排日出日落\\n跟团游 · 摄影采风 · 小众风光 · 季节限定\\n\\n## 早鸟特惠\\n\\n活动时间：2024-06-21 00:00:00 - 2024-08-10 00:00:00\\n*以付款时间到出行时间间隔为准\\n提前45天下单并支付，立减50元/人\\n提前60天下单并支付，立减100元/人\\n产品价格： ￥ 4980 元起（成人）\\n\\n## 满减优惠\\n\\n活动时间：2023-07-19 14:00:00 - 2025-08-30 23:59:59\\n满6人, 优惠50元/人\\n满10人, 优惠100元/人\\n满20人, 优惠150元/人\\n\\n产品特色： 专业摄影领队 充足拍摄时间 摄影题材丰富 秋季限时发团\\n供 应 商： 游侠客国际旅游有限公司\\n出 发 地： 海拉尔\\n退订政策： 支持退款 特殊原因退订保障 查看政策 >\\n出团通知： 周边游提前1天，国内游提前3天，出境游提前3-5天，APP和短信群发出团通知\\n行程套餐： 呼伦贝尔秋摄8日\\n批次套餐： 2024海拉尔集散\\n\\n## 费用包含\\n\\n### 成人\\n\\n交通：D2-D8包车费、油费、停车费、路桥费、司机食宿补贴（每车上限22人左右，空座率＞30%），海拉尔-巴彦呼硕-草原穿越小车包车费（1人1座）\\n住宿：行程中所列7晚酒店标间\\n餐食：全程酒店含早餐\\n门票及景交：根河源湿地门票、莫尔道嘎国家森林公园门票+小火车、白鹿岛门票、白桦林门票+景交、186彩带河门票+景交、阿尔山大门票+环保车、满洲里国门景区门票\\n体验项目：黑山头马场，安排套马等拍摄活动费用\\n随团服务人员：全程导游、摄影领队带队费及食宿补贴\\n优惠补充说明：如持有军官证、伤残证、学生证、教师证等特殊证件，请在下单时备注，并携带原件，在团上向服务人员出示。因旅行社在景区门票上面是折扣票，优惠减免是按旅行社折扣价退还，不以景区挂牌价退还，优惠金额以景区政策为准。活动结束后线上退款/现场退款\\n\\n### 自理费用', metadata={'source': '../03_data_loader/test.md'}),\n  Document(page_content='交通：各地往返海拉尔的交通费用（请在报名缴费成功后再预订大交通）\\n保险：建议您购买旅游意外险，游侠客提供不同的保险套餐，可在下单过程中自行选购\\n餐食：行程包含的餐食之外的用餐费用，自由用餐，约伴一起AA\\n单房差：行程中所列住宿标间含2个床位。单人报名的，游侠客担保拼房，根据报名顺序安排同性客人或领队、导游拼房；若不同意游侠客安排拼房，请补1份单房差以享用整个房间（标注多人间的除外）\\n其他：费用包含中不含的其他费用其他个人消费\\n\\n## 活动亮点\\n\\n醉美秋色景观：大兴安岭阿尔山+根河+呼伦贝尔草原，草原、湖泊、森林、湿地、河流等题材，拍摄中国醉美秋色\\n深入阿尔山区：深入阿尔山景区内住宿，全天拍摄：乌苏浪子湖晨雾，驼峰岭天池晨曦，大峡谷慢门等\\n安排人文场景：特别安排地道蒙古族拍摄题材：套马、马术表演；在私家摄影点安排“牧马归途”场景\\n专业摄影领队：游侠客专属摄影领队+专业摄影行程设计，多个日出日落拍摄，把握合适拍摄时机，保证出片效率和质量\\n\\n## 具体行程\\n\\n### 行程概要\\n\\n天数：8天7晚\\n出发：全国出发\\n到达：海拉尔\\n解散：海拉尔\\n\\n### 第1天 各地海拉尔市 ★集合日\\n\\n- 全天\\n  全天为活动全天集合日，各地游侠自行前往呼伦贝尔市的首府海拉尔集合。早到的游侠，可以去逛逛呼伦贝尔民族博物馆、成吉思汗广场。初到草原，一定要美美的吃上一顿，手把肉、烤羊腿、灌血肠等等，各种美食让你大饱口福。晚上与领队见面，沟通第二天的拍摄计划和注意事项，准备开启本次金秋呼伦贝尔行摄之旅。\\n  温馨提示：飞机：呼伦贝尔机场距离市区仅6KM，坐车、打车非常方便\\n  用餐：全天用餐自理\\n  住宿：海拉尔市区酒店标间\\n  集结日：按照游侠客出团通知短信，自行前往集合酒店集合，在前台报“游侠客+姓名”办理入住手续。晚上将召开行前说明会，请保持手机畅通便于领队联系大家。自由活动期间，注意安全！\\n\\n### 第2天 海拉尔巴彦呼硕（日出）呼伦贝尔草原（小车穿越草原）根河\\n\\n摄点： 伊敏河畔，巴彦呼硕草原日出，莫日格勒河风光，呼伦贝尔大草原\\n\\n- 早晨\\n  早起乘坐小车，前往第一敖包巴彦呼硕拍摄草原日出，伊敏河在此静静流淌，五花山在流水和草原的点缀下相映成趣！太阳从东方升起，点亮辽阔的草原，霞光映红天际。', metadata={'source': '../03_data_loader/test.md'}),\n  Document(page_content='- 上午\\n  适时返回到海拉尔酒店早餐。稍作休整后再次出发，车子逐渐驶入大草原，前往老舍笔下的“天下第一曲水”莫日格勒河。\\n\\n- 下午\\n  我们换乘小车深入呼伦贝尔草原腹地，沿途走走停停，边走边拍，体验草原驰骋的乐趣；登高望远，俯瞰河边牛羊成群，帐篷点点，犹如一幅金黄的秋天油画。\\n\\n拍摄结束后离开，傍晚抵达中国冷极根河市入住休息。\\n车程：约250km 用餐：含早，正餐自理\\n住宿：根河市酒店标间\\n备注：本日出发参考时间5:00，实际以团上领队安排为准\\n\\n### 第3天 根河根河源湿地莫尔道嘎森林公园莫尔道嘎镇\\n\\n摄点： 根河源湿地日出晨雾，穿越大兴安岭林区，莫尔道嘎国家森林公园秋色\\n\\n- 早晨\\n  一早出发，深入【根河源国家湿地公园】拍摄大兴安岭森林河谷的日出，根河源湿地是“中国冷极湿地天然博物馆”，这里的日出景观常常伴有晨雾弥漫，潺潺的流水、河道里的枯木和五彩斑斓的秋叶，相信大家一定能收获大片。\\n\\n- 上午\\n  结束拍摄，我们将沿着【莫尔道嘎森林公路】穿越大兴安岭林区，大兴安岭是中国保存较完好、面积最大的原始森林，是内蒙古高原与松辽平原的分水岭。中午抵达莫尔道嘎镇安排入住、中餐，\\n\\n- 下午\\n  下午前往【莫尔道嘎国家森林公园】游览拍摄，乘坐复古小火车（满15人发车），穿梭在金灿灿的秋色之中。\\n\\n当晚入住在莫尔道嘎镇。\\n车程：约200KM 用餐：含早，正餐自理\\n住宿：莫尔道嘎镇酒店标间\\n备注：白鹿岛附近的酒店尚未开业，所以当天晚上入住在莫尔道嘎镇。白鹿岛日出拍摄会安排包当地出租车前往。\\n\\n### 第4天 莫尔道嘎镇白鹿岛白桦林驯鹿黑山头湿地\\n\\n摄点： 白鹿岛日出晨雾，白桦林驯鹿，草原跑马，湿地日落，牧归场景拍摄\\n\\n- 早晨\\n  早起乘坐小车前往【白鹿岛】拍摄大兴安岭河谷的日出晨雾，激流河呈“S”形回环于两个小岛之间，常常伴有晨雾弥漫，潺潺的流水、河道里的枯木和五彩斑斓的秋叶。\\n\\n拍摄尽兴后，来到【白桦林景区】，古老的驯鹿民族鄂温克族，世世代代在大兴安岭游牧，他们把家安在白桦林下，靠着喂养驯鹿和狩猎捕鱼为生，老师们可以在金黄色的森林里与驯鹿近距离接触，尽情的创作。\\n\\n- 下午\\n  午后抵达黑山头拍摄。黑山头是一个以蒙古族牧马为特色的小镇，我们乘车前往马场拍摄【套马、马术表演】，骑手们精彩绝伦的表演将会让我们拍的很过瘾。', metadata={'source': '../03_data_loader/test.md'}),\n  Document(page_content='结束后前往游侠客私家拍摄点，拍摄唯美的湿地日落，游侠客特别安排【牧归场景拍摄】，蒙古牧人骑马归来，在落日的余晖中经过，夕阳和湿地的反光把草坡点亮，形成一道金色的轮廓，拍摄尽兴后离去。\\n\\n车程：约450km 用餐：含早，正餐自理\\n住宿：黑山头镇酒店标间\\n备注：因白鹿岛附近酒店尚未开放，当天需从莫尔道嘎镇包当地出租车早起前往白鹿岛拍摄日出，莫尔道嘎镇-白鹿岛距离约110km，车程约3h。\\n\\n### 第5天 黑山头中俄边境公路186彩带河满洲里国门满洲里\\n\\n摄点： 中俄边境公路风光，186彩带河湿地草原，满洲里国门+夜景\\n\\n- 上午\\n  早餐后出发，沿着中俄边境公路继续南下，穿越呼伦贝尔草原，途径【186彩带河景区】，登高望远，拍摄边境上壮观的额尔古纳河湿地，隔河遥望俄罗斯，曲水流淌，绿草茵茵，犹如一条蓝色的玉带，飘在大地。\\n\\n- 下午\\n  下午到达中蒙俄三国边境的草原明珠满洲里市，由于地处边境，异国风情的建筑、往来穿梭的俄罗斯车辆，擦身而过的俄罗斯男女，处处展示着边境小城的繁华。我们先来到【国门景区】，游览中俄41号界碑、中共秘密交通线遗址等，摄影人走南闯北，来到满洲里必须打卡下祖国的重要国门，留下珍贵的记忆。\\n\\n今晚我们入住满洲里市区黄金位置的酒店。约上几位游侠，寻觅草原美食或者正宗俄罗斯餐，满洲里的城市夜景是它的金字招牌，灯火辉煌的边境小城也是祖国繁荣的象征。\\n车程：约200km 用餐：含早，正餐自理\\n住宿：满洲里酒店标间\\n备注：满洲里国门因边境管理要求，外籍和港澳台同胞暂时不能进入，敬请谅解。\\n\\n### 第6天 满洲里呼伦湖西岸新巴尔虎草原掠影阿尔山国家森林公园\\n\\n摄点： 新巴尔虎草原沿途风光，阿尔山国家森林公园秋色，星空创作\\n\\n- 上午\\n  早餐后离开，今天我们就继续南下，穿越【新巴尔虎草原】，这里名气虽不如呼伦贝尔，但也有着非常辽阔震撼的草原风光，秋季的草原上，堆满了收割的草卷，肥硕的牛羊忙着转场，牧民也在忙着入冬前的收获，都是很丰富的拍摄内容。\\n\\n途径【呼伦湖】，游侠客将带大家前往新发现的小众秘境，呼伦湖是内蒙古第一大湖、中国第四大淡水湖，湖面辽阔，碧波荡漾，也是北方重要的鸟类栖息地和迁徙通道。', metadata={'source': '../03_data_loader/test.md'}),\n  Document(page_content='- 下午\\n  下午抵达【阿尔山国家森林公园】，游侠客特别安排今晚住宿景区内，方便第二天一早拍摄晨雾，也能有充足的时间拍摄阿尔山秋色。景区内几乎没有光污染，抬头即可欣赏浩瀚星空，喜欢星空摄影的游侠一定不可错过。\\n\\n车程：约420km 用餐：含早，正餐自理\\n住宿：阿尔山景区内酒店，标间独卫（相对条件有限，为了更充足的时间游玩景区，欣赏日出日落星空）\\n备注：1、呼伦湖的小众秘境目前是非收费景点，若遇到收费或关闭，则会舍弃该点，尽情谅解。 2、国庆等节假日批次若遇满月将无法安排星空拍摄，感谢您的支持与理解。\\n\\n### 第7天 阿尔山国家森林公园（乌苏浪子湖晨雾，驼峰岭天池，大峡谷，杜鹃湖）阿尔山市\\n\\n摄点： 阿尔山全天摄影创作：乌苏浪子湖晨雾、驼峰岭天池秋色、阿尔山大峡谷、杜鹃湖\\n\\n- 全天\\n  早起前往乌苏浪子湖拍摄晨雾，这里地处林区盆地，湖水在低海拔会大概率出现晨雾弥漫的景观，湖边有五彩林点缀，清晨的阳光照射下更加显得金黄，非常适合摄影创作。偶尔还会有渔船掠过水面，水墨画一般的场景令人如痴如醉。\\n  趁着早上游客还不多，我们前往驼峰岭天池。阿尔山是大兴安岭的余脉，数万年前的火山喷发形成了上百个大大小小的天池，其中驼峰岭天池是最大的一个！在深秋时节，清澈的天池水中闪耀着金黄的白桦树倒影，色彩斑斓，我们沿着木栈道登高，俯拍整个驼峰岭天池。\\n  下山后前往阿尔山大峡谷，这里是一个天然的火山岩峡谷断裂带，谷底有非常丰富的黑色火山石，溪流缓缓经过，夹杂着秋季阿尔山林区的金黄秋色，是非常好的慢门拍摄地，在领队带领下进行慢门拍摄实践。\\n  之后来到杜鹃湖，杜鹃湖是林区内最大的火山湖，怪石嶙峋的火山熔柱张牙舞爪，湛蓝的湖水倒影着湖边白桦林，光影斑驳的秋色如同一幅色彩斑斓、笔触厚重的欧洲油画。\\n  今天我们有一整天时间在金秋阿尔山拍摄。拍摄尽兴后离开，入住阿尔山市，整齐的街道、独特的木屋别墅，还有日式风格的网红车站阿尔山火车站。晚上可以约伴漫步小城，寻觅美食！\\n\\n车程：约90km\\n用餐：含早，正餐自理\\n住宿：阿尔山镇酒店标间\\n\\n### 第8天 阿尔山市海拉尔 ★解散日\\n\\n- 上午\\n  早餐后返回海拉尔市，就此结束愉快的摄影旅程。预计13:00左右抵达海拉尔市，先送机场，再送火车站解散。建议预订15:00以后的飞机火车。', metadata={'source': '../03_data_loader/test.md'}),\n  Document(page_content='可选：阿尔山解散\\n阿尔山市伊尔施机场，离市区25KM，有直飞北京大兴机场的航班，可中转飞国内各大城市；阿尔山火车站也有火车前往沈阳，自由选择。\\n车程：约300km，4-5小时\\n用餐：含早，正餐自理\\n住宿：解散日不含住宿\\n解散日：预计当天13:00左右抵达海拉尔市，先送机场，再送火车站解散。建议预订15:00以后的飞机火车。\\n\\n## 适合年龄\\n\\n出行人：16 - 70岁\\n\\n## 注意事项\\n\\n1. 带好身份证等有效证件；\\n\\n2. 为了保证安全请服从领队安排；\\n\\n3. 若因不可抗力因素（堵车、坏车、恶劣天气等）导致行程受阻，公司及领队有权对行程进行更改；\\n\\n4. 参团人员应保管好自己所有随身物品，承担自己物品丢失或损坏的责任；\\n\\n5. 本次出行为深度摄影游，以拍摄机位和拍摄时间为行程重点，一切安排以旅行摄影为重心；\\n\\n6. 大家有不同的拍摄习惯，但团队活动需听从领队安排， 遇到突发情况请领队联系协商解决；\\n\\n7. 注意安全，注重环保，尊重当地风俗习惯，发扬游侠互助精神，友善对待遇到的每个人、每件事；\\n\\n8. 摄影活动，对天气和光线要求高，领队可以根据天气来调整拍摄顺序；\\n\\n9. 若遇人力不可抗拒情况，无法继续既定行程，领队可根据实际情况有权更改或调整行程；\\n\\n10. 若因自身原因，中途退出活动，门票费用退还，房车费用照计，请理解；\\n\\n11. 摄影团，因为拍摄需要，经常用餐不准点，请准备一些干粮零食在身边；\\n\\n12. 妥善保护好自己的摄影器材，贵重物品请随身携带；\\n\\n13. 参加本次活动者视为遵守以上出团约定。', metadata={'source': '../03_data_loader/test.md'})],\n 'output_text': 'A photography trip to the scenic areas of Inner Mongolia, including the cities of Baotou and Harbin, is offered by the company \"游侠客国际旅游有限公司\" from June 21st to August 10th, 2024. The trip includes visits to various landscapes such as alpine lakes, forests, and wetlands, and is designed for experienced photographers. The tour also offers opportunities for taking photos at sunrise and sunset, and it covers transportation, accommodation, meals, and other services. Additional expenses may apply, and participants should bring their own identification documents, prepare to follow instructions from the leader, and have good communication skills. Participants must respect local customs and cultures, take care of their belongings, and protect and charge their photography equipment.'}"
     },
     "execution_count": 19,
     "metadata": {},
     "output_type": "execute_result"
    }
   ],
   "source": [
    "summarize_docs(docs, \"03_data_loader\")"
   ],
   "metadata": {
    "collapsed": false,
    "ExecuteTime": {
     "end_time": "2024-07-02T02:03:39.791673Z",
     "start_time": "2024-07-02T02:03:30.562985Z"
    }
   },
   "id": "2410232994d1f81e",
   "execution_count": 19
  },
  {
   "cell_type": "code",
   "outputs": [],
   "source": [
    "from langchain_core.prompts import ChatPromptTemplate\n",
    "from langchain_core.pydantic_v1 import BaseModel\n",
    "\n",
    "\n",
    "# Add typing for input\n",
    "class Question(BaseModel):\n",
    "    __root__: str\n",
    "\n",
    "\n",
    "prompt = \"\"\" 这是 prompt {__root__}\"\"\"\n",
    "# 输入实体化\n",
    "chain = ChatPromptTemplate.from_template(prompt) | qw_llm_openai\n",
    "chain = chain.with_types(input_type=Question)"
   ],
   "metadata": {
    "collapsed": false,
    "ExecuteTime": {
     "end_time": "2024-07-02T02:54:33.825935Z",
     "start_time": "2024-07-02T02:54:33.820167Z"
    }
   },
   "id": "b303ccc96fdf05cf",
   "execution_count": 29
  },
  {
   "cell_type": "code",
   "outputs": [
    {
     "data": {
      "text/plain": "AIMessage(content=\"It appears you have entered a Python code snippet and I'm unable to understand it due to the lack of context. Could you please provide more information or clarify what you need help with?\", response_metadata={'finish_reason': 'stop'}, id='run-77824df2-b0f0-41c8-a6e5-01f17fade4ea-0')"
     },
     "execution_count": 30,
     "metadata": {},
     "output_type": "execute_result"
    }
   ],
   "source": [
    "chain.invoke(Question(__root__=\"What is the capital of France?\"))"
   ],
   "metadata": {
    "collapsed": false,
    "ExecuteTime": {
     "end_time": "2024-07-02T02:54:35.338198Z",
     "start_time": "2024-07-02T02:54:34.647264Z"
    }
   },
   "id": "e41444b73dda055b",
   "execution_count": 30
  },
  {
   "cell_type": "code",
   "outputs": [],
   "source": [],
   "metadata": {
    "collapsed": false
   },
   "id": "6560df427d55b617"
  }
 ],
 "metadata": {
  "kernelspec": {
   "display_name": "Python 3",
   "language": "python",
   "name": "python3"
  },
  "language_info": {
   "codemirror_mode": {
    "name": "ipython",
    "version": 2
   },
   "file_extension": ".py",
   "mimetype": "text/x-python",
   "name": "python",
   "nbconvert_exporter": "python",
   "pygments_lexer": "ipython2",
   "version": "2.7.6"
  }
 },
 "nbformat": 4,
 "nbformat_minor": 5
}
