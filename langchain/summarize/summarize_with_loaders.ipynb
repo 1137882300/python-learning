{
 "cells": [
  {
   "cell_type": "code",
   "execution_count": 1,
   "id": "initial_id",
   "metadata": {
    "collapsed": true,
    "ExecuteTime": {
     "end_time": "2024-06-28T03:31:56.225081Z",
     "start_time": "2024-06-28T03:31:55.852892Z"
    }
   },
   "outputs": [],
   "source": [
    "import os\n",
    "from langchain.document_loaders import UnstructuredURLLoader, UnstructuredPowerPointLoader, ReadTheDocsLoader, \\\n",
    "    PyPDFLoader\n",
    "from langchain.llms import OpenAI\n",
    "from langchain.chains.summarize import load_summarize_chain\n",
    "from langchain.callbacks import get_openai_callback\n",
    "from langchain.text_splitter import RecursiveCharacterTextSplitter"
   ]
  },
  {
   "cell_type": "code",
   "outputs": [
    {
     "name": "stdout",
     "output_type": "stream",
     "text": [
      "8483c3ec7a0cbc54a8d660b5b9002b04\n",
      "Gcllof8ze6dgtcqFI5FQZ2SD_5tfCD4Db7NuS6jn\n",
      "sk-01c5003340c3453b934052d737d45e01\n",
      "sk-UGVpjuTwo2Q8pewoqUDfckw1A0pbSDli9ElFMeS9WareKknG\n",
      "https://api.moonshot.cn/v1/\n"
     ]
    }
   ],
   "source": [
    "from dotenv import load_dotenv\n",
    "import os\n",
    "from langchain_community.llms.cloudflare_workersai import CloudflareWorkersAI\n",
    "from langchain_community.llms.tongyi import Tongyi\n",
    "from langchain_openai import ChatOpenAI\n",
    "\n",
    "load_dotenv(override=True)\n",
    "\n",
    "account_id = os.getenv('CF_ACCOUNT_ID')\n",
    "api_token = os.getenv('CF_API_TOKEN')\n",
    "print(account_id)\n",
    "print(api_token)\n",
    "\n",
    "# CloudflareWorkersAI\n",
    "model = '@cf/meta/llama-3-8b-instruct'\n",
    "cf_llm = CloudflareWorkersAI(\n",
    "    account_id=account_id,\n",
    "    api_token=api_token,\n",
    "    model=model\n",
    ")\n",
    "\n",
    "DASHSCOPE_API_KEY = os.getenv('DASHSCOPE_API_KEY')\n",
    "print(DASHSCOPE_API_KEY)\n",
    "\n",
    "# qwen\n",
    "qw_llm = Tongyi(\n",
    "    model='qwen2-1.5b-instruct'\n",
    ")\n",
    "\n",
    "# qwen 兼容 openai的接口\n",
    "qw_llm_openai = ChatOpenAI(\n",
    "    openai_api_base='https://dashscope.aliyuncs.com/compatible-mode/v1',\n",
    "    openai_api_key=DASHSCOPE_API_KEY,\n",
    "    model_name=\"qwen2-1.5b-instruct\",\n",
    "    temperature=0,\n",
    "    streaming=True,\n",
    "    verbose=True,\n",
    ")\n",
    "\n",
    "api_key = os.getenv('OPENAI_API_KEY')\n",
    "base_url = os.getenv('OPENAI_API_BASE')\n",
    "print(api_key)\n",
    "print(base_url)\n",
    "\n",
    "# openai/moonshot\n",
    "ms_llm = ChatOpenAI(\n",
    "    openai_api_base=base_url,\n",
    "    openai_api_key=api_key,\n",
    "    model_name=\"moonshot-v1-8k\",\n",
    "    temperature=0.7,\n",
    ")"
   ],
   "metadata": {
    "collapsed": false,
    "ExecuteTime": {
     "end_time": "2024-06-28T03:31:57.037880Z",
     "start_time": "2024-06-28T03:31:56.735624Z"
    }
   },
   "id": "cdde4f444305080e",
   "execution_count": 2
  },
  {
   "cell_type": "code",
   "outputs": [],
   "source": [
    "def summarize_docs(docs, doc_url):\n",
    "    print(f'You have {len(docs)} document(s) in your {doc_url} data')\n",
    "    print(f'There are {len(docs[0].page_content)} characters in your document')\n",
    "\n",
    "    text_splitter = RecursiveCharacterTextSplitter(chunk_size=1000, chunk_overlap=0)\n",
    "    split_docs = text_splitter.split_documents(docs)\n",
    "\n",
    "    print(f'You have {len(split_docs)} split document(s)')\n",
    "\n",
    "    chain = load_summarize_chain(qw_llm_openai, chain_type=\"map_reduce\", verbose=False)\n",
    "\n",
    "    response = \"\"\n",
    "    with get_openai_callback() as cb:\n",
    "        response = chain.invoke(split_docs)\n",
    "        print(f\"Total Tokens: {cb.total_tokens}\")\n",
    "        print(f\"Prompt Tokens: {cb.prompt_tokens}\")\n",
    "        print(f\"Completion Tokens: {cb.completion_tokens}\")\n",
    "        print(f\"Successful Requests: {cb.successful_requests}\")\n",
    "        print(f\"Total Cost (USD): ${cb.total_cost}\")\n",
    "\n",
    "    return response"
   ],
   "metadata": {
    "collapsed": false,
    "ExecuteTime": {
     "end_time": "2024-06-28T03:38:37.429066Z",
     "start_time": "2024-06-28T03:38:37.423866Z"
    }
   },
   "id": "67482df366d82263",
   "execution_count": 7
  },
  {
   "cell_type": "code",
   "outputs": [],
   "source": [
    "url = \"https://www.crab233.cloudns.biz/proxy/edition.cnn.com/2023/04/13/business/delta-earnings/index.html\"\n",
    "loader = UnstructuredURLLoader(urls=[url]).load()"
   ],
   "metadata": {
    "collapsed": false,
    "ExecuteTime": {
     "end_time": "2024-06-28T03:38:01.345543Z",
     "start_time": "2024-06-28T03:37:51.520507Z"
    }
   },
   "id": "dc65e1da327f9b95",
   "execution_count": 6
  },
  {
   "cell_type": "code",
   "outputs": [
    {
     "name": "stdout",
     "output_type": "stream",
     "text": [
      "You have 1 document(s) in your https://www.crab233.cloudns.biz/proxy/edition.cnn.com/2023/04/13/business/delta-earnings/index.html data\n",
      "There are 5159 characters in your document\n",
      "You have 6 split document(s)\n",
      "Total Tokens: 0\n",
      "Prompt Tokens: 0\n",
      "Completion Tokens: 0\n",
      "Successful Requests: 0\n",
      "Total Cost (USD): $0.0\n"
     ]
    },
    {
     "data": {
      "text/plain": "{'input_documents': [Document(page_content=\"Video Ad Feedback\\n\\nAirlines warn they may have to cut flights unless this problem is solved\\n\\n02:26\\n\\nSource:\\n                CNN\\n\\nTop business news\\n\\n16 videos\\n\\nVideo Ad Feedback\\n\\nAirlines warn they may have to cut flights unless this problem is solved\\n\\n02:26\\n\\nNow playing\\n\\nSource:\\n                CNN\\n\\nVideo Ad Feedback\\n\\nHow to craft the perfect maternity leave out of office message\\n\\n01:33\\n\\nNow playing\\n\\nSource:\\n                CNN\\n\\nVideo Ad Feedback\\n\\nCNN writer explains how Microsoft's new AI model works\\n\\n02:20\\n\\nNow playing\\n\\nSource:\\n                CNN\\n\\nVideo Ad Feedback\\n\\nToyota sells only two electric vehicles. Executive insists they're not holding back\\n\\n02:21\\n\\nNow playing\\n\\nSource:\\n                CNN\\n\\nVideo Ad Feedback\\n\\nAn implant in his brain lets him do incredible tasks with his thoughts\\n\\n05:37\\n\\nNow playing\\n\\nSource:\\n                CNN\\n\\nVideo Ad Feedback\\n\\n'We're cooking our cities': These drones map 150-degree temperatures in urban areas\\n\\n03:43\\n\\nNow playing\", metadata={'source': 'https://www.crab233.cloudns.biz/proxy/edition.cnn.com/2023/04/13/business/delta-earnings/index.html'}),\n  Document(page_content=\"Source:\\n                CNN\\n\\nVideo Ad Feedback\\n\\nCostco is running out of gold bars to sell. Financial expert reacts\\n\\n01:22\\n\\nNow playing\\n\\nSource:\\n                CNN\\n\\nVideo Ad Feedback\\n\\nThe price of chocolate is soaring. Here's why\\n\\n01:18\\n\\nNow playing\\n\\nSource:\\n                CNN\\n\\nVideo Ad Feedback\\n\\nAs college cost passes $90K, 'the middle class is losing ground'\\n\\n04:17\\n\\nNow playing\\n\\nSource:\\n                CNN\\n\\nVideo Ad Feedback\\n\\n'Million Dollar Listing LA' star reveals how clients are insuring homes amid rising rates\\n\\n00:59\\n\\nNow playing\\n\\nSource:\\n                CNN\\n\\nVideo Ad Feedback\\n\\nApple co-founder calls out 'hypocrisy' of politicians calling for TikTok ban\\n\\n02:06\\n\\nNow playing\\n\\nSource:\\n                CNN\\n\\nVideo Ad Feedback\\n\\nDonald Trump may be on the verge of a massive financial win\\n\\n02:52\\n\\nNow playing\\n\\nSource:\\n                CNN\\n\\nVideo Ad Feedback\\n\\nSee why some Chinese people are boycotting a popular brand\\n\\n02:10\\n\\nNow playing\\n\\nSource:\\n                CNN\\n\\nVideo Ad Feedback\", metadata={'source': 'https://www.crab233.cloudns.biz/proxy/edition.cnn.com/2023/04/13/business/delta-earnings/index.html'}),\n  Document(page_content=\"The stock market set a new record. Here's what that means for the economy\\n\\n02:06\\n\\nNow playing\\n\\nSource:\\n                CNN\\n\\nVideo Ad Feedback\\n\\nWhy you should think twice before buying a new phone\\n\\n02:16\\n\\nNow playing\\n\\nSource:\\n                CNN\\n\\nVideo Ad Feedback\\n\\nReal estate CEO says Trump could sell Mar-a-Lago 'quickly' to secure $464 million bond\\n\\n01:10\\n\\nNow playing\\n\\nSource:\\n                CNN\\n\\nNew York\\n\\nCNN\\n        \\xa0—\\n\\nDelta Air Lines reported record advanced bookings for this coming summer, a further sign that the US airline industry is putting the pandemic-caused losses behind it.\\n\\nBut rising labor costs did result in a net loss in the period, even if the company reported a profit when excluding special items, the measure most closely followed by investors.\", metadata={'source': 'https://www.crab233.cloudns.biz/proxy/edition.cnn.com/2023/04/13/business/delta-earnings/index.html'}),\n  Document(page_content='The Atlanta-based airline earned $163 million, excluding special items, in the first three months of the year, compared to a loss of $784 million on that basis a year earlier. Revenue of $11.8 billion was up 45% from a year earlier, and up 14% from the same period in 2019, before the pandemic.\\n\\nThe strong demand for flying means higher fares for customers. The amount passengers paid to fly each mile on Delta was up 17% compared to both a year earlier and the same period in 2019. Total passenger revenue when adjusted for capacity, another key measure of fares, was up 27% compared to a year ago and 14% from the same period in 2019. And planes were fuller, with Delta selling 81% of available seats, up from 75% a year earlier.', metadata={'source': 'https://www.crab233.cloudns.biz/proxy/edition.cnn.com/2023/04/13/business/delta-earnings/index.html'}),\n  Document(page_content='The second quarter revenue and earnings were slightly below Wall Street forecasts, which the company attributed to flights canceled due to bad weather. But shares of Delta\\n            \\n                (DAL) were higher in pre-market trading due to its strong forecast going forward.\\n\\nA  passenger is taken into custody after opening a door of a Boeing 737 and deploying an emergency exit slide Sunday, March 26, 2023, at Los Angeles International Airport in Los Angeles.\\n  \\n\\n        Gillian Sheldon\\n      \\n    \\n\\n\\n    \\n    \\n      \\n      \\n      Delta passenger opens door, deploys emergency exit slide on plane at Los Angeles airport\\n\\nThe company said the record second-quarter bookings will allow it to post earnings per share of between $2 and $2.25, well above the current forecast of $1.66. For the full year, the company expects earnings per share of between $5 and $6, which could put it well above the $5.40 forecast from analysts.', metadata={'source': 'https://www.crab233.cloudns.biz/proxy/edition.cnn.com/2023/04/13/business/delta-earnings/index.html'}),\n  Document(page_content='The company did take a one-time charge of $864 million related to the four-year labor deal it reached with pilots that will increase their pay 34% over the life of the contract. It provides them with an immediate 18% raise and a signing bonus that cost the airline $735 million. The charge for that signing bonus and change in benefits resulted in a net loss in the quarter of $363 million.\\n\\nThe airline also gave 5% raises to many of its other employees as of April 1. The pilots are the only major employee group at Delta who are union members. Other major US airlines, which are far more heavily unionized, face upcoming negotiations with a majority of their employees, and could also see rising labor costs in upcoming financial results.', metadata={'source': 'https://www.crab233.cloudns.biz/proxy/edition.cnn.com/2023/04/13/business/delta-earnings/index.html'})],\n 'output_text': \"Airlines have warned of potential flight cuts due to unresolved issues, but technology advancements like implantable thought control devices and drone mapping have been discussed. Video ads have received mixed feedback, with some criticizing Costco for selling out of gold bars and others praising Apple's criticism of TikTok's ban. The stock market has recovered from the COVID-19 pandemic, but rising labor costs have resulted in a net loss in the quarter. Delta Air Lines' net income improved significantly in the first quarter, but operating margins remain weak. The company's strong demand for flights led to an increase in passenger revenue, which was driven by higher ticket prices and increased seat utilization rates. Delta's success is attributed to efficient operations and strategic pricing strategies.\"}"
     },
     "execution_count": 8,
     "metadata": {},
     "output_type": "execute_result"
    }
   ],
   "source": [
    "summarize_docs(loader, url)"
   ],
   "metadata": {
    "collapsed": false,
    "ExecuteTime": {
     "end_time": "2024-06-28T03:38:51.479644Z",
     "start_time": "2024-06-28T03:38:39.755917Z"
    }
   },
   "id": "a4c7853e15c6c40f",
   "execution_count": 8
  },
  {
   "cell_type": "code",
   "outputs": [],
   "source": [],
   "metadata": {
    "collapsed": false
   },
   "id": "a36c4413b4f47a6d"
  }
 ],
 "metadata": {
  "kernelspec": {
   "display_name": "Python 3",
   "language": "python",
   "name": "python3"
  },
  "language_info": {
   "codemirror_mode": {
    "name": "ipython",
    "version": 2
   },
   "file_extension": ".py",
   "mimetype": "text/x-python",
   "name": "python",
   "nbconvert_exporter": "python",
   "pygments_lexer": "ipython2",
   "version": "2.7.6"
  }
 },
 "nbformat": 4,
 "nbformat_minor": 5
}
