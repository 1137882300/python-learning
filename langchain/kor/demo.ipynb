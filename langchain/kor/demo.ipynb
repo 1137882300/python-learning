{
 "cells": [
  {
   "cell_type": "code",
   "outputs": [
    {
     "name": "stdout",
     "output_type": "stream",
     "text": [
      "Looking in indexes: https://pypi.tuna.tsinghua.edu.cn/simple\r\n",
      "Collecting kor\r\n",
      "  Downloading https://pypi.tuna.tsinghua.edu.cn/packages/71/08/4b5953318e593557cf04ac9eb5a18b55377361db401d16e2802b25ba7190/kor-1.0.1-py3-none-any.whl (30 kB)\r\n",
      "Requirement already satisfied: langchain>=0.1.4 in /Users/pangmengting/venv/lib/python3.10/site-packages (from kor) (0.2.5)\r\n",
      "Requirement already satisfied: pandas<2.0.0,>=1.5.3 in /Users/pangmengting/venv/lib/python3.10/site-packages (from kor) (1.5.3)\r\n",
      "Requirement already satisfied: pydantic<3 in /Users/pangmengting/venv/lib/python3.10/site-packages (from kor) (2.6.4)\r\n",
      "Requirement already satisfied: PyYAML>=5.3 in /Users/pangmengting/venv/lib/python3.10/site-packages (from langchain>=0.1.4->kor) (6.0.1)\r\n",
      "Requirement already satisfied: SQLAlchemy<3,>=1.4 in /Users/pangmengting/venv/lib/python3.10/site-packages (from langchain>=0.1.4->kor) (2.0.31)\r\n",
      "Requirement already satisfied: aiohttp<4.0.0,>=3.8.3 in /Users/pangmengting/venv/lib/python3.10/site-packages (from langchain>=0.1.4->kor) (3.9.5)\r\n",
      "Requirement already satisfied: async-timeout<5.0.0,>=4.0.0 in /Users/pangmengting/venv/lib/python3.10/site-packages (from langchain>=0.1.4->kor) (4.0.2)\r\n",
      "Requirement already satisfied: langchain-core<0.3.0,>=0.2.7 in /Users/pangmengting/venv/lib/python3.10/site-packages (from langchain>=0.1.4->kor) (0.2.9)\r\n",
      "Requirement already satisfied: langchain-text-splitters<0.3.0,>=0.2.0 in /Users/pangmengting/venv/lib/python3.10/site-packages (from langchain>=0.1.4->kor) (0.2.0)\r\n",
      "Requirement already satisfied: langsmith<0.2.0,>=0.1.17 in /Users/pangmengting/venv/lib/python3.10/site-packages (from langchain>=0.1.4->kor) (0.1.77)\r\n",
      "Requirement already satisfied: numpy<2,>=1 in /Users/pangmengting/venv/lib/python3.10/site-packages (from langchain>=0.1.4->kor) (1.25.1)\r\n",
      "Requirement already satisfied: requests<3,>=2 in /Users/pangmengting/venv/lib/python3.10/site-packages (from langchain>=0.1.4->kor) (2.31.0)\r\n",
      "Requirement already satisfied: tenacity<9.0.0,>=8.1.0 in /Users/pangmengting/venv/lib/python3.10/site-packages (from langchain>=0.1.4->kor) (8.2.3)\r\n",
      "Requirement already satisfied: python-dateutil>=2.8.1 in /Users/pangmengting/venv/lib/python3.10/site-packages (from pandas<2.0.0,>=1.5.3->kor) (2.8.2)\r\n",
      "Requirement already satisfied: pytz>=2020.1 in /Users/pangmengting/venv/lib/python3.10/site-packages (from pandas<2.0.0,>=1.5.3->kor) (2023.3)\r\n",
      "Requirement already satisfied: annotated-types>=0.4.0 in /Users/pangmengting/venv/lib/python3.10/site-packages (from pydantic<3->kor) (0.6.0)\r\n",
      "Requirement already satisfied: pydantic-core==2.16.3 in /Users/pangmengting/venv/lib/python3.10/site-packages (from pydantic<3->kor) (2.16.3)\r\n",
      "Requirement already satisfied: typing-extensions>=4.6.1 in /Users/pangmengting/venv/lib/python3.10/site-packages (from pydantic<3->kor) (4.10.0)\r\n",
      "Requirement already satisfied: aiosignal>=1.1.2 in /Users/pangmengting/venv/lib/python3.10/site-packages (from aiohttp<4.0.0,>=3.8.3->langchain>=0.1.4->kor) (1.3.1)\r\n",
      "Requirement already satisfied: attrs>=17.3.0 in /Users/pangmengting/venv/lib/python3.10/site-packages (from aiohttp<4.0.0,>=3.8.3->langchain>=0.1.4->kor) (23.1.0)\r\n",
      "Requirement already satisfied: frozenlist>=1.1.1 in /Users/pangmengting/venv/lib/python3.10/site-packages (from aiohttp<4.0.0,>=3.8.3->langchain>=0.1.4->kor) (1.4.0)\r\n",
      "Requirement already satisfied: multidict<7.0,>=4.5 in /Users/pangmengting/venv/lib/python3.10/site-packages (from aiohttp<4.0.0,>=3.8.3->langchain>=0.1.4->kor) (6.0.4)\r\n",
      "Requirement already satisfied: yarl<2.0,>=1.0 in /Users/pangmengting/venv/lib/python3.10/site-packages (from aiohttp<4.0.0,>=3.8.3->langchain>=0.1.4->kor) (1.9.2)\r\n",
      "Requirement already satisfied: jsonpatch<2.0,>=1.33 in /Users/pangmengting/venv/lib/python3.10/site-packages (from langchain-core<0.3.0,>=0.2.7->langchain>=0.1.4->kor) (1.33)\r\n",
      "Requirement already satisfied: packaging<25,>=23.2 in /Users/pangmengting/venv/lib/python3.10/site-packages (from langchain-core<0.3.0,>=0.2.7->langchain>=0.1.4->kor) (23.2)\r\n",
      "Requirement already satisfied: orjson<4.0.0,>=3.9.14 in /Users/pangmengting/venv/lib/python3.10/site-packages (from langsmith<0.2.0,>=0.1.17->langchain>=0.1.4->kor) (3.10.5)\r\n",
      "Requirement already satisfied: six>=1.5 in /Users/pangmengting/venv/lib/python3.10/site-packages (from python-dateutil>=2.8.1->pandas<2.0.0,>=1.5.3->kor) (1.16.0)\r\n",
      "Requirement already satisfied: charset-normalizer<4,>=2 in /Users/pangmengting/venv/lib/python3.10/site-packages (from requests<3,>=2->langchain>=0.1.4->kor) (3.2.0)\r\n",
      "Requirement already satisfied: idna<4,>=2.5 in /Users/pangmengting/venv/lib/python3.10/site-packages (from requests<3,>=2->langchain>=0.1.4->kor) (3.4)\r\n",
      "Requirement already satisfied: urllib3<3,>=1.21.1 in /Users/pangmengting/venv/lib/python3.10/site-packages (from requests<3,>=2->langchain>=0.1.4->kor) (2.2.1)\r\n",
      "Requirement already satisfied: certifi>=2017.4.17 in /Users/pangmengting/venv/lib/python3.10/site-packages (from requests<3,>=2->langchain>=0.1.4->kor) (2024.6.2)\r\n",
      "Requirement already satisfied: jsonpointer>=1.9 in /Users/pangmengting/venv/lib/python3.10/site-packages (from jsonpatch<2.0,>=1.33->langchain-core<0.3.0,>=0.2.7->langchain>=0.1.4->kor) (2.4)\r\n",
      "Installing collected packages: kor\r\n",
      "Successfully installed kor-1.0.1\r\n",
      "\r\n",
      "\u001B[1m[\u001B[0m\u001B[34;49mnotice\u001B[0m\u001B[1;39;49m]\u001B[0m\u001B[39;49m A new release of pip is available: \u001B[0m\u001B[31;49m24.0\u001B[0m\u001B[39;49m -> \u001B[0m\u001B[32;49m24.1.1\u001B[0m\r\n",
      "\u001B[1m[\u001B[0m\u001B[34;49mnotice\u001B[0m\u001B[1;39;49m]\u001B[0m\u001B[39;49m To update, run: \u001B[0m\u001B[32;49mpip install --upgrade pip\u001B[0m\r\n",
      "Note: you may need to restart the kernel to use updated packages.\n"
     ]
    }
   ],
   "source": [
    "# %pip install kor"
   ],
   "metadata": {
    "collapsed": false,
    "ExecuteTime": {
     "end_time": "2024-07-03T02:31:01.454753Z",
     "start_time": "2024-07-03T02:30:58.534216Z"
    }
   },
   "id": "4cfd723d59126b22",
   "execution_count": 1
  },
  {
   "cell_type": "code",
   "outputs": [
    {
     "name": "stdout",
     "output_type": "stream",
     "text": [
      "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 https://groq-api.923828.xyz/v1\n"
     ]
    }
   ],
   "source": [
    "# 基础代码引入\n",
    "from dotenv import load_dotenv\n",
    "import os\n",
    "\n",
    "# 加载当前目录下的.env文件\n",
    "# load_dotenv()\n",
    "# load_dotenv(override=True) 会重新读取.env\n",
    "load_dotenv(override=True)\n",
    "\n",
    "# 现在可以像访问普通环境变量一样访问.env文件中的变量了\n",
    "groq_api_key = os.getenv('GROQ_API_KEY')\n",
    "groq_api_base = os.getenv('GROQ_API_BASE')\n",
    "\n",
    "print(groq_api_key, groq_api_base)\n",
    "\n",
    "from langchain_openai import ChatOpenAI\n",
    "\n",
    "# llama3-70b-8192\n",
    "# llama3-8b-8192\n",
    "# mixtral-8x7b-32768\n",
    "# gemma-7b-it\n",
    "# whisper-large-v3\n",
    "# qwen 兼容 openai的接口\n",
    "groq_llm_openai = ChatOpenAI(\n",
    "    openai_api_base=groq_api_base,\n",
    "    openai_api_key=groq_api_key,\n",
    "    model_name=\"llama3-8b-8192\",\n",
    "    temperature=0.7,\n",
    "    streaming=True,\n",
    ")"
   ],
   "metadata": {
    "collapsed": false,
    "ExecuteTime": {
     "end_time": "2024-07-03T02:33:29.176999Z",
     "start_time": "2024-07-03T02:33:28.703902Z"
    }
   },
   "id": "c346546a8fcce716",
   "execution_count": 2
  },
  {
   "cell_type": "code",
   "outputs": [],
   "source": [
    "from kor.extraction import create_extraction_chain\n",
    "from kor.nodes import Object, Text, Number"
   ],
   "metadata": {
    "collapsed": false,
    "ExecuteTime": {
     "end_time": "2024-07-03T02:33:39.018008Z",
     "start_time": "2024-07-03T02:33:38.368591Z"
    }
   },
   "id": "52b52378fb71b218",
   "execution_count": 3
  },
  {
   "cell_type": "code",
   "outputs": [],
   "source": [
    "import json\n",
    "\n",
    "\n",
    "def json_dump(json_object):\n",
    "    json_formatted_str = json.dumps(json_object, indent=2, ensure_ascii=False)\n",
    "    print(json_formatted_str)"
   ],
   "metadata": {
    "collapsed": false,
    "ExecuteTime": {
     "end_time": "2024-07-03T02:33:41.086672Z",
     "start_time": "2024-07-03T02:33:41.083796Z"
    }
   },
   "id": "6a1572c8ca435aa1",
   "execution_count": 4
  },
  {
   "cell_type": "code",
   "outputs": [],
   "source": [
    "club_schema = Object(\n",
    "    id=\"club\",\n",
    "    description=\"Information about a club\",\n",
    "\n",
    "    attributes=[\n",
    "        Text(\n",
    "            id=\"name\",\n",
    "            description=\"The name of the club.\"\n",
    "        ),\n",
    "        Text(\n",
    "            id=\"manager\",\n",
    "            description=\"The name of the manager.\"\n",
    "        ),\n",
    "        Number(\n",
    "            id=\"ranking\",\n",
    "            description=\"The ranking of the club.\"\n",
    "        )\n",
    "    ],\n",
    "    examples=[\n",
    "        (\n",
    "            \"Napoli managed by Spalletti are the 1st, Juventus managed by Allegri are the 5th.\",\n",
    "            [\n",
    "                {\"name\": \"Napoli\", \"manager\": \"Spalletti\", \"ranking\": 1},\n",
    "                {\"name\": \"Juventus\", \"manager\": \"Allegri\", \"ranking\": 5},\n",
    "            ],\n",
    "        )\n",
    "    ]\n",
    ")"
   ],
   "metadata": {
    "collapsed": false,
    "ExecuteTime": {
     "end_time": "2024-07-03T02:34:58.548914Z",
     "start_time": "2024-07-03T02:34:58.531035Z"
    }
   },
   "id": "43419abada02ca3e",
   "execution_count": 9
  },
  {
   "cell_type": "code",
   "outputs": [],
   "source": [
    "# Create an extraction chain\n",
    "extraction_chain = create_extraction_chain(groq_llm_openai, club_schema)"
   ],
   "metadata": {
    "collapsed": false,
    "ExecuteTime": {
     "end_time": "2024-07-03T02:34:37.248223Z",
     "start_time": "2024-07-03T02:34:37.246164Z"
    }
   },
   "id": "3302f5fa80dcbd1e",
   "execution_count": 7
  },
  {
   "cell_type": "code",
   "outputs": [],
   "source": [
    "text = '''\n",
    "    Manchester City are just 1 point after Arsenal. \n",
    "    Arsenal are on top of the table.\n",
    "    The 2 managers Pep and Arteta are going to meet face to face in this weekend.\n",
    "'''\n",
    "output = extraction_chain.invoke(text)"
   ],
   "metadata": {
    "collapsed": false,
    "ExecuteTime": {
     "end_time": "2024-07-03T02:35:56.839489Z",
     "start_time": "2024-07-03T02:35:55.758087Z"
    }
   },
   "id": "10dc9ee2599d820a",
   "execution_count": 13
  },
  {
   "cell_type": "code",
   "outputs": [
    {
     "name": "stdout",
     "output_type": "stream",
     "text": [
      "{\n",
      "  \"text\": {\n",
      "    \"data\": {\n",
      "      \"club\": [\n",
      "        {\n",
      "          \"name\": \"Arsenal\",\n",
      "          \"manager\": \"Arteta\",\n",
      "          \"ranking\": \"1\"\n",
      "        },\n",
      "        {\n",
      "          \"name\": \"Manchester City\",\n",
      "          \"manager\": \"Pep\",\n",
      "          \"ranking\": \"2\"\n",
      "        }\n",
      "      ]\n",
      "    },\n",
      "    \"raw\": \"name|manager|ranking\\nArsenal|Arteta|1\\nManchester City|Pep|2\",\n",
      "    \"errors\": [],\n",
      "    \"validated_data\": {}\n",
      "  }\n",
      "}\n"
     ]
    }
   ],
   "source": [
    "json_dump(output)"
   ],
   "metadata": {
    "collapsed": false,
    "ExecuteTime": {
     "end_time": "2024-07-03T02:35:58.046189Z",
     "start_time": "2024-07-03T02:35:58.042992Z"
    }
   },
   "id": "c00d5b98fd21a033",
   "execution_count": 14
  },
  {
   "cell_type": "code",
   "outputs": [],
   "source": [
    "stock_market_schema = Object(\n",
    "    id=\"stock_market\",\n",
    "    description=\"A股市场收评，上涨板块综述\",\n",
    "\n",
    "    # Notice I put multiple fields to pull out different attributes\n",
    "    attributes=[\n",
    "        Text(\n",
    "            id=\"industry_name\",\n",
    "            description=\"行业板块名称\"\n",
    "        )\n",
    "    ],\n",
    "    examples=[\n",
    "        (\n",
    "            '''\n",
    "                周二市场呈现出震荡调整格局，盘中行业板块及题材呈现局部轮动和分化，保险、煤炭、通信设备、银行、家用电器、IT设备、有色、电气设备等行业活跃。\n",
    "                酒店餐饮、半导体、旅游、多元金融、电器仪表、元器件、通用机械、商业连锁、医药等行业呈现回调。\n",
    "            ''',\n",
    "            [\n",
    "                {\"industry_name\": \"保险\"},\n",
    "                {\"industry_name\": \"煤炭\"},\n",
    "                {\"industry_name\": \"通信设备\"},\n",
    "                {\"industry_name\": \"银行\"},\n",
    "                {\"industry_name\": \"家用电器\"},\n",
    "                {\"industry_name\": \"IT设备\"},\n",
    "                {\"industry_name\": \"有色\"},\n",
    "                {\"industry_name\": \"电气设备\"}\n",
    "            ],\n",
    "        ),\n",
    "        (\n",
    "            '''\n",
    "                截至2023年4月14日收盘，上证指数收涨0.60%，报收3338.15点;深证成指涨0.51%，报收11800.09点;创业板指涨0.93%，报收2428.09点。\n",
    "\n",
    "                沪深两市全天成交额11150亿元，北向资金净买入64.24亿元，其中沪股通净买入21.58亿元，深股通净买入42.66亿元。\n",
    "\n",
    "                根据申万二级行业分类，2023年4月14日共有66个行业上涨，其中，能源金属、半导体、电子化学品、工业金属、小金属涨幅居前;\n",
    "\n",
    "                58个行业下跌，酒店餐饮、旅游及景区、广告营销、互联网电商、数字媒体跌幅居前。\n",
    "\n",
    "                2023年4月14日，沪深A股共有2655家公司上涨，46家公司涨幅超10%(含)，华星创业、耐科装备、联动科技、拓荆科技、经纬辉开涨幅居前;\n",
    "\n",
    "                有2102家公司下跌，4家公司跌幅超10%(含)，登康口腔、值得买、奥飞娱乐、慈文传媒、金桥信息跌幅居前。\n",
    "\n",
    "            ''',\n",
    "            [\n",
    "                {\"industry_name\": \"能源金属\"},\n",
    "                {\"industry_name\": \"半导体\"},\n",
    "                {\"industry_name\": \"电子化学品\"},\n",
    "                {\"industry_name\": \"工业金属\"},\n",
    "                {\"industry_name\": \"小金属\"}\n",
    "            ],\n",
    "        ),\n",
    "        (\n",
    "            '''\n",
    "                传媒、游戏、数据确权、贵金属等板块涨幅居前，工业母机、白酒股等板块飘绿。\n",
    "            ''',\n",
    "            [\n",
    "                {\"industry_name\": \"传媒\"},\n",
    "                {\"industry_name\": \"游戏\"},\n",
    "                {\"industry_name\": \"数字确权\"},\n",
    "                {\"industry_name\": \"贵金属\"}\n",
    "            ],\n",
    "        )\n",
    "    ]\n",
    ")"
   ],
   "metadata": {
    "collapsed": false,
    "ExecuteTime": {
     "end_time": "2024-07-03T02:36:42.720097Z",
     "start_time": "2024-07-03T02:36:42.714203Z"
    }
   },
   "id": "3b53659002f5b152",
   "execution_count": 15
  },
  {
   "cell_type": "code",
   "outputs": [],
   "source": [
    "text = '''\n",
    "    截至2023年4月13日收盘，上证指数收跌0.27%，报收3318.36点;深证成指跌1.21%，报收11739.84点;创业板指跌0.97%，报收2405.76点。\n",
    "\n",
    "    沪深两市全天成交额11369亿元，北向资金净卖出8688万元，其中沪股通净买入20.64亿元，深股通净卖出21.51亿元。\n",
    "\n",
    "    根据申万二级行业分类，2023年4月13日共有46个行业上涨，其中，旅游及景区、酒店餐饮、出版、教育、互联网电商涨幅居前;\n",
    "\n",
    "    78个行业下跌，通信设备、半导体、元件、消费电子、黑色家电跌幅居前。\n",
    "'''\n",
    "extraction_chain = create_extraction_chain(groq_llm_openai, stock_market_schema)\n",
    "output = extraction_chain.invoke(text)"
   ],
   "metadata": {
    "collapsed": false,
    "ExecuteTime": {
     "end_time": "2024-07-03T02:37:17.971723Z",
     "start_time": "2024-07-03T02:37:14.943331Z"
    }
   },
   "id": "6aa3551ce825e4db",
   "execution_count": 16
  },
  {
   "cell_type": "code",
   "outputs": [
    {
     "name": "stdout",
     "output_type": "stream",
     "text": [
      "{\n",
      "  \"text\": {\n",
      "    \"data\": {\n",
      "      \"stock_market\": [\n",
      "        {\n",
      "          \"industry_name\": \"旅游及景区\"\n",
      "        },\n",
      "        {\n",
      "          \"industry_name\": \"酒店餐饮\"\n",
      "        },\n",
      "        {\n",
      "          \"industry_name\": \"出版\"\n",
      "        },\n",
      "        {\n",
      "          \"industry_name\": \"教育\"\n",
      "        },\n",
      "        {\n",
      "          \"industry_name\": \"互联网电商\"\n",
      "        }\n",
      "      ]\n",
      "    },\n",
      "    \"raw\": \"industry_name\\n旅游及景区\\n酒店餐饮\\n出版\\n教育\\n互联网电商\",\n",
      "    \"errors\": [],\n",
      "    \"validated_data\": {}\n",
      "  }\n",
      "}\n"
     ]
    }
   ],
   "source": [
    "json_dump(output)"
   ],
   "metadata": {
    "collapsed": false,
    "ExecuteTime": {
     "end_time": "2024-07-03T02:37:19.866735Z",
     "start_time": "2024-07-03T02:37:19.852150Z"
    }
   },
   "id": "41afe5ed4e838cf2",
   "execution_count": 17
  },
  {
   "cell_type": "code",
   "outputs": [],
   "source": [],
   "metadata": {
    "collapsed": false
   },
   "id": "4e23503545386a81"
  }
 ],
 "metadata": {
  "kernelspec": {
   "display_name": "Python 3",
   "language": "python",
   "name": "python3"
  },
  "language_info": {
   "codemirror_mode": {
    "name": "ipython",
    "version": 2
   },
   "file_extension": ".py",
   "mimetype": "text/x-python",
   "name": "python",
   "nbconvert_exporter": "python",
   "pygments_lexer": "ipython2",
   "version": "2.7.6"
  }
 },
 "nbformat": 4,
 "nbformat_minor": 5
}
