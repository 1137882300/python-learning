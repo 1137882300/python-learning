{
 "cells": [
  {
   "cell_type": "code",
   "execution_count": 2,
   "id": "initial_id",
   "metadata": {
    "collapsed": true,
    "ExecuteTime": {
     "end_time": "2024-07-03T02:44:32.633735Z",
     "start_time": "2024-07-03T02:44:32.160752Z"
    }
   },
   "outputs": [
    {
     "name": "stdout",
     "output_type": "stream",
     "text": [
      "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 https://groq-api.923828.xyz/v1\n"
     ]
    }
   ],
   "source": [
    "# 基础代码引入\n",
    "from dotenv import load_dotenv\n",
    "import os\n",
    "\n",
    "# 加载当前目录下的.env文件\n",
    "# load_dotenv()\n",
    "# load_dotenv(override=True) 会重新读取.env\n",
    "load_dotenv(override=True)\n",
    "\n",
    "# 现在可以像访问普通环境变量一样访问.env文件中的变量了\n",
    "groq_api_key = os.getenv('GROQ_API_KEY')\n",
    "groq_api_base = os.getenv('GROQ_API_BASE')\n",
    "\n",
    "print(groq_api_key, groq_api_base)\n",
    "\n",
    "from langchain_openai import ChatOpenAI\n",
    "\n",
    "# llama3-70b-8192\n",
    "# llama3-8b-8192\n",
    "# mixtral-8x7b-32768\n",
    "# gemma-7b-it\n",
    "# whisper-large-v3\n",
    "# qwen 兼容 openai的接口\n",
    "groq_llm_openai = ChatOpenAI(\n",
    "    openai_api_base=groq_api_base,\n",
    "    openai_api_key=groq_api_key,\n",
    "    model_name=\"llama3-8b-8192\",\n",
    "    temperature=0.7,\n",
    "    streaming=True,\n",
    ")"
   ]
  },
  {
   "cell_type": "code",
   "outputs": [],
   "source": [
    "from kor.extraction import create_extraction_chain\n",
    "from kor.nodes import Object, Text, Number"
   ],
   "metadata": {
    "collapsed": false,
    "ExecuteTime": {
     "end_time": "2024-07-03T02:44:34.302441Z",
     "start_time": "2024-07-03T02:44:33.913390Z"
    }
   },
   "id": "1cada29b9f20e6a3",
   "execution_count": 3
  },
  {
   "cell_type": "code",
   "outputs": [],
   "source": [
    "import json\n",
    "\n",
    "\n",
    "def json_dump(json_object):\n",
    "    json_formatted_str = json.dumps(json_object, indent=2, ensure_ascii=False)\n",
    "    print(json_formatted_str)"
   ],
   "metadata": {
    "collapsed": false,
    "ExecuteTime": {
     "end_time": "2024-07-03T02:44:35.289976Z",
     "start_time": "2024-07-03T02:44:35.284565Z"
    }
   },
   "id": "5e3a2d73388a76ae",
   "execution_count": 4
  },
  {
   "cell_type": "code",
   "outputs": [],
   "source": [
    "club_schema = Object(\n",
    "    id=\"yxk\",\n",
    "    description=\"游侠客的旅游产品\",\n",
    "\n",
    "    attributes=[\n",
    "        Text(\n",
    "            id=\"name\",\n",
    "            description=\"旅游产品的名称.\"\n",
    "        ),\n",
    "        Text(\n",
    "            id=\"address\",\n",
    "            description=\"旅游产品的出发地.\"\n",
    "        ),\n",
    "        Number(\n",
    "            id=\"price\",\n",
    "            description=\"旅游产品的价格\"\n",
    "        )\n",
    "    ],\n",
    "    examples=[\n",
    "        (\n",
    "            \"\"\"# 呼伦贝尔秋摄丨从大兴安岭到中俄边境8日\n",
    "                    入住阿尔山景区丨驼峰岭天池丨巴彦呼硕丨根河湿地丨白鹿岛丨莫尔道嘎丨莫日格勒河丨秘境呼伦湖丨中俄边境公路丨安排日出日落\n",
    "                    跟团游 · 摄影采风 · 小众风光 · 季节限定\n",
    "                    ## 早鸟特惠\n",
    "                    活动时间：2024-06-21 00:00:00 - 2024-08-10 00:00:00\n",
    "                    *以付款时间到出行时间间隔为准\n",
    "                    提前45天下单并支付，立减50元/人\n",
    "                    提前60天下单并支付，立减100元/人\n",
    "                    产品价格： ￥ 4980 元起（成人）\n",
    "                    ## 满减优惠\n",
    "                    活动时间：2023-07-19 14:00:00 - 2025-08-30 23:59:59\n",
    "                    满6人, 优惠50元/人\n",
    "                    满10人, 优惠100元/人\n",
    "                    满20人, 优惠150元/人\n",
    "                    产品特色： 专业摄影领队 充足拍摄时间 摄影题材丰富 秋季限时发团\n",
    "                    供 应 商： 游侠客国际旅游有限公司\n",
    "                    出 发 地： 海拉尔\n",
    "                    退订政策： 支持退款 特殊原因退订保障 查看政策 >\n",
    "                    出团通知： 周边游提前1天，国内游提前3天，出境游提前3-5天，APP和短信群发出团通知\n",
    "                    行程套餐： 呼伦贝尔秋摄8日\n",
    "                    批次套餐： 2024海拉尔集散\n",
    "                    \"\"\",\n",
    "            [\n",
    "                {\"name\": \"呼伦贝尔秋摄丨从大兴安岭到中俄边境8日\", \"address\": \"海拉尔\", \"price\": 4980},\n",
    "            ],\n",
    "        )\n",
    "    ]\n",
    ")"
   ],
   "metadata": {
    "collapsed": false,
    "ExecuteTime": {
     "end_time": "2024-07-03T02:44:36.838246Z",
     "start_time": "2024-07-03T02:44:36.833507Z"
    }
   },
   "id": "5ec7f7721860de23",
   "execution_count": 5
  },
  {
   "cell_type": "code",
   "outputs": [
    {
     "name": "stderr",
     "output_type": "stream",
     "text": [
      "/Users/pangmengting/venv/lib/python3.10/site-packages/langchain_core/_api/deprecation.py:139: LangChainDeprecationWarning: The class `LLMChain` was deprecated in LangChain 0.1.17 and will be removed in 0.3.0. Use RunnableSequence, e.g., `prompt | llm` instead.\n",
      "  warn_deprecated(\n"
     ]
    }
   ],
   "source": [
    "# Create an extraction chain\n",
    "extraction_chain = create_extraction_chain(groq_llm_openai, club_schema)"
   ],
   "metadata": {
    "collapsed": false,
    "ExecuteTime": {
     "end_time": "2024-07-03T02:44:38.444657Z",
     "start_time": "2024-07-03T02:44:38.387870Z"
    }
   },
   "id": "d313da2cce7baa8f",
   "execution_count": 6
  },
  {
   "cell_type": "code",
   "outputs": [],
   "source": [
    "text = '''\n",
    "# 呼伦贝尔秋摄丨从大兴安岭到中俄边境8日\n",
    "\n",
    "入住阿尔山景区丨驼峰岭天池丨巴彦呼硕丨根河湿地丨白鹿岛丨莫尔道嘎丨莫日格勒河丨秘境呼伦湖丨中俄边境公路丨安排日出日落\n",
    "跟团游 · 摄影采风 · 小众风光 · 季节限定\n",
    "\n",
    "## 早鸟特惠\n",
    "\n",
    "活动时间：2024-06-21 00:00:00 - 2024-08-10 00:00:00\n",
    "*以付款时间到出行时间间隔为准\n",
    "提前45天下单并支付，立减50元/人\n",
    "提前60天下单并支付，立减100元/人\n",
    "产品价格： ￥ 4980 元起（成人）\n",
    "\n",
    "## 满减优惠\n",
    "\n",
    "活动时间：2023-07-19 14:00:00 - 2025-08-30 23:59:59\n",
    "满6人, 优惠50元/人\n",
    "满10人, 优惠100元/人\n",
    "满20人, 优惠150元/人\n",
    "\n",
    "产品特色： 专业摄影领队 充足拍摄时间 摄影题材丰富 秋季限时发团\n",
    "供 应 商： 游侠客国际旅游有限公司\n",
    "出 发 地： 海拉尔\n",
    "退订政策： 支持退款 特殊原因退订保障 查看政策 >\n",
    "出团通知： 周边游提前1天，国内游提前3天，出境游提前3-5天，APP和短信群发出团通知\n",
    "行程套餐： 呼伦贝尔秋摄8日\n",
    "批次套餐： 2024海拉尔集散\n",
    "\n",
    "## 费用包含\n",
    "\n",
    "### 成人\n",
    "\n",
    "交通：D2-D8包车费、油费、停车费、路桥费、司机食宿补贴（每车上限22人左右，空座率＞30%），海拉尔-巴彦呼硕-草原穿越小车包车费（1人1座）\n",
    "住宿：行程中所列7晚酒店标间\n",
    "餐食：全程酒店含早餐\n",
    "门票及景交：根河源湿地门票、莫尔道嘎国家森林公园门票+小火车、白鹿岛门票、白桦林门票+景交、186彩带河门票+景交、阿尔山大门票+环保车、满洲里国门景区门票\n",
    "体验项目：黑山头马场，安排套马等拍摄活动费用\n",
    "随团服务人员：全程导游、摄影领队带队费及食宿补贴\n",
    "优惠补充说明：如持有军官证、伤残证、学生证、教师证等特殊证件，请在下单时备注，并携带原件，在团上向服务人员出示。因旅行社在景区门票上面是折扣票，优惠减免是按旅行社折扣价退还，不以景区挂牌价退还，优惠金额以景区政策为准。活动结束后线上退款/现场退款\n",
    "\n",
    "### 自理费用\n",
    "\n",
    "交通：各地往返海拉尔的交通费用（请在报名缴费成功后再预订大交通）\n",
    "保险：建议您购买旅游意外险，游侠客提供不同的保险套餐，可在下单过程中自行选购\n",
    "餐食：行程包含的餐食之外的用餐费用，自由用餐，约伴一起AA\n",
    "单房差：行程中所列住宿标间含2个床位。单人报名的，游侠客担保拼房，根据报名顺序安排同性客人或领队、导游拼房；若不同意游侠客安排拼房，请补1份单房差以享用整个房间（标注多人间的除外）\n",
    "其他：费用包含中不含的其他费用其他个人消费\n",
    "\n",
    "'''\n",
    "output = extraction_chain.invoke(text)"
   ],
   "metadata": {
    "collapsed": false,
    "ExecuteTime": {
     "end_time": "2024-07-03T02:44:58.633597Z",
     "start_time": "2024-07-03T02:44:56.931451Z"
    }
   },
   "id": "f6f32985382886ef",
   "execution_count": 7
  },
  {
   "cell_type": "code",
   "outputs": [
    {
     "name": "stdout",
     "output_type": "stream",
     "text": [
      "{\n",
      "  \"text\": {\n",
      "    \"data\": {\n",
      "      \"yxk\": [\n",
      "        {\n",
      "          \"name\": \"呼伦贝尔秋摄丨从大兴安岭到中俄边境8日\",\n",
      "          \"address\": \"海拉尔\",\n",
      "          \"price\": \"4980\"\n",
      "        }\n",
      "      ]\n",
      "    },\n",
      "    \"raw\": \"name|address|price\\n呼伦贝尔秋摄丨从大兴安岭到中俄边境8日|海拉尔|4980\",\n",
      "    \"errors\": [],\n",
      "    \"validated_data\": {}\n",
      "  }\n",
      "}\n"
     ]
    }
   ],
   "source": [
    "json_dump(output)"
   ],
   "metadata": {
    "collapsed": false,
    "ExecuteTime": {
     "end_time": "2024-07-03T02:45:00.354726Z",
     "start_time": "2024-07-03T02:45:00.351896Z"
    }
   },
   "id": "f2fc922bfa3c83cc",
   "execution_count": 8
  },
  {
   "cell_type": "code",
   "outputs": [],
   "source": [],
   "metadata": {
    "collapsed": false
   },
   "id": "1bdbe7e140915022"
  }
 ],
 "metadata": {
  "kernelspec": {
   "display_name": "Python 3",
   "language": "python",
   "name": "python3"
  },
  "language_info": {
   "codemirror_mode": {
    "name": "ipython",
    "version": 2
   },
   "file_extension": ".py",
   "mimetype": "text/x-python",
   "name": "python",
   "nbconvert_exporter": "python",
   "pygments_lexer": "ipython2",
   "version": "2.7.6"
  }
 },
 "nbformat": 4,
 "nbformat_minor": 5
}
