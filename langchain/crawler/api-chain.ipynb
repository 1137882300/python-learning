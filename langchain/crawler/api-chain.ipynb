{
 "cells": [
  {
   "cell_type": "markdown",
   "source": [
    "基于llm的爬虫数据抽取"
   ],
   "metadata": {
    "collapsed": false
   },
   "id": "d54dff7be8936126"
  },
  {
   "cell_type": "code",
   "execution_count": 1,
   "id": "initial_id",
   "metadata": {
    "collapsed": true,
    "ExecuteTime": {
     "end_time": "2024-07-04T03:39:20.034732Z",
     "start_time": "2024-07-04T03:39:19.490253Z"
    }
   },
   "outputs": [],
   "source": [
    "# 基本配置\n",
    "from langchain_openai import ChatOpenAI\n",
    "import os\n",
    "from dotenv import load_dotenv\n",
    "from langchain_community.embeddings.cloudflare_workersai import CloudflareWorkersAIEmbeddings\n",
    "from supabase.client import Client, create_client\n",
    "\n",
    "load_dotenv(override=True)\n",
    "\n",
    "qw_llm_openai = ChatOpenAI(\n",
    "    openai_api_base=os.getenv('DASHSCOPE_API_BASE'),\n",
    "    openai_api_key=os.getenv('DASHSCOPE_API_KEY'),\n",
    "    model_name=\"qwen2-1.5b-instruct\",\n",
    "    temperature=0.7,\n",
    "    streaming=True,\n",
    ")\n",
    "# embeddings = CloudflareWorkersAIEmbeddings(\n",
    "#     account_id=os.getenv('CF_ACCOUNT_ID'),\n",
    "#     api_token=os.getenv('CF_API_TOKEN'),\n",
    "#     model_name=\"@cf/baai/bge-large-en-v1.5\",\n",
    "# )\n",
    "\n",
    "# supabase_url = os.environ.get(\"SUPABASE_URL\")\n",
    "# supabase_key = os.environ.get(\"SUPABASE_SERVICE_KEY\")\n",
    "# \n",
    "# supabase: Client = create_client(supabase_url, supabase_key)"
   ]
  },
  {
   "cell_type": "code",
   "outputs": [],
   "source": [
    "from langchain.prompts import PromptTemplate\n",
    "\n",
    "template = \"\"\"Between >>> and <<< are the raw search result text from provided RSS URL.\n",
    "Extract the answer to the question '{query}' or say \"not found\" if the information is not contained, and summarize all the information.\n",
    ">>> {requests_result} <<<\n",
    "Use the following JSON format to include all the titles:\n",
    "{{\n",
    "  \"titles\": [\n",
    "    'aaa',\n",
    "    'bbb',\n",
    "  ]\n",
    "}} \n",
    "Extracted:\"\"\"\n",
    "\n",
    "PROMPT = PromptTemplate(\n",
    "    input_variables=[\"query\", \"requests_result\"],\n",
    "    template=template,\n",
    ")"
   ],
   "metadata": {
    "collapsed": false,
    "ExecuteTime": {
     "end_time": "2024-07-04T03:39:21.777038Z",
     "start_time": "2024-07-04T03:39:21.760135Z"
    }
   },
   "id": "cfd8d5dde72ecb5c",
   "execution_count": 2
  },
  {
   "cell_type": "code",
   "outputs": [],
   "source": [
    "from langchain.chains.llm import LLMChain\n",
    "from langchain_community.chains.llm_requests import LLMRequestsChain\n",
    "\n",
    "chain = LLMRequestsChain(llm_chain=LLMChain(llm=qw_llm_openai, prompt=PROMPT))"
   ],
   "metadata": {
    "collapsed": false,
    "ExecuteTime": {
     "end_time": "2024-07-04T03:42:16.872701Z",
     "start_time": "2024-07-04T03:42:16.867917Z"
    }
   },
   "id": "62f7185d25e04506",
   "execution_count": 8
  },
  {
   "cell_type": "code",
   "outputs": [],
   "source": [
    "question = \"What are all the titles in this RSS feed?\"\n",
    "inputs = {\n",
    "    \"query\": question,\n",
    "    \"url\": \"https://rss.nytimes.com/services/xml/rss/nyt/US.xml\"\n",
    "}"
   ],
   "metadata": {
    "collapsed": false,
    "ExecuteTime": {
     "end_time": "2024-07-04T03:42:18.789078Z",
     "start_time": "2024-07-04T03:42:18.781789Z"
    }
   },
   "id": "abc7ecb1c0c6e423",
   "execution_count": 9
  },
  {
   "cell_type": "code",
   "outputs": [
    {
     "name": "stderr",
     "output_type": "stream",
     "text": [
      "/Library/Frameworks/Python.framework/Versions/3.10/lib/python3.10/html/parser.py:170: XMLParsedAsHTMLWarning: It looks like you're parsing an XML document using an HTML parser. If this really is an HTML document (maybe it's XHTML?), you can ignore or filter this warning. If it's XML, you should know that using an XML parser will be more reliable. To parse this document as XML, make sure you have the lxml package installed, and pass the keyword argument `features=\"xml\"` into the BeautifulSoup constructor.\n",
      "  k = self.parse_starttag(i)\n",
      "2024-07-04 11:42:51,626:INFO - HTTP Request: POST https://dashscope.aliyuncs.com/compatible-mode/v1/chat/completions \"HTTP/1.1 200 OK\"\n"
     ]
    },
    {
     "name": "stdout",
     "output_type": "stream",
     "text": [
      "{\n",
      "  \"titles\": [\n",
      "    'Some Californians Found Dream Homes Inland. But It Sure Is Hot There.',\n",
      "    'Biden’s Debate Rattles Even the Most Faithful Democrats',\n",
      "    'A Plummeting Murder Rate Stuns Boston. But Can It Survive the Summer?',\n",
      "    'Schools Got a Record $190 Billion in Pandemic Aid. Did It Work?',\n",
      "    'Ex-Engineer Charged With Obstructing Inquiry Into Military Crash That Killed 16'\n",
      "  ]\n",
      "}\n"
     ]
    }
   ],
   "source": [
    "response = chain.invoke(inputs)\n",
    "print(response['output'])"
   ],
   "metadata": {
    "collapsed": false,
    "ExecuteTime": {
     "end_time": "2024-07-04T03:42:52.352112Z",
     "start_time": "2024-07-04T03:42:49.646450Z"
    }
   },
   "id": "7e311ec3cce35734",
   "execution_count": 11
  },
  {
   "cell_type": "code",
   "outputs": [],
   "source": [
    "# 第二个例子"
   ],
   "metadata": {
    "collapsed": false
   },
   "id": "546a1a77fe5d2207"
  },
  {
   "cell_type": "code",
   "outputs": [],
   "source": [
    "template = \"\"\"在 >>> 和 <<< 之间是网页的返回的HTML内容。\n",
    "\n",
    "网页是新浪财经A股上市公司的每季度股东信息表格。\n",
    "\n",
    "请抽取参数请求的信息。每个截至日期作为JSON返回数据的date_of_quarter。因此，当表格中有多个截止日期时，返回数据应当包括所有的日期作为key。\n",
    "\n",
    ">>> {requests_result} <<<\n",
    "请使用如下的JSON格式返回数据\n",
    "{{\n",
    "  \"date_of_quarter\": [\n",
    "    {{\n",
    "      \"holder_name\": \"a\",\n",
    "      \"percentage\": \"50\"\n",
    "    }},\n",
    "    {{\n",
    "      \"holder_name\": \"b\",\n",
    "      \"percentage\": \"30\"\n",
    "    }},\n",
    "  ]\n",
    "}} \n",
    "\n",
    "例如，截至日期为2023-03-31，JSON数据应该是如下形式:\n",
    "\n",
    "{{\n",
    "  \"2023-03-31\": [\n",
    "    {{\n",
    "      \"holder_name\": \"a\",\n",
    "      \"percentage\": \"50\"\n",
    "    }},\n",
    "    {{\n",
    "      \"holder_name\": \"b\",\n",
    "      \"percentage\": \"30\"\n",
    "    }},\n",
    "  ]\n",
    "}}\n",
    "Extracted:\"\"\"\n",
    "\n",
    "PROMPT = PromptTemplate(\n",
    "    input_variables=[\"requests_result\"],\n",
    "    template=template,\n",
    ")"
   ],
   "metadata": {
    "collapsed": false,
    "ExecuteTime": {
     "end_time": "2024-07-04T03:43:39.705230Z",
     "start_time": "2024-07-04T03:43:39.700057Z"
    }
   },
   "id": "4f68291d8f6084ba",
   "execution_count": 12
  },
  {
   "cell_type": "code",
   "outputs": [],
   "source": [
    "chain = LLMRequestsChain(llm_chain=LLMChain(llm=qw_llm_openai, prompt=PROMPT))"
   ],
   "metadata": {
    "collapsed": false,
    "ExecuteTime": {
     "end_time": "2024-07-04T03:43:43.700089Z",
     "start_time": "2024-07-04T03:43:43.694541Z"
    }
   },
   "id": "f5fe69b95ebdbaa9",
   "execution_count": 13
  },
  {
   "cell_type": "code",
   "outputs": [],
   "source": [
    "inputs = {\n",
    "    \"url\": \"https://vip.stock.finance.sina.com.cn/corp/go.php/vCI_StockHolder/stockid/600519/displaytype/30.phtml\"\n",
    "}"
   ],
   "metadata": {
    "collapsed": false,
    "ExecuteTime": {
     "end_time": "2024-07-04T03:43:45.210496Z",
     "start_time": "2024-07-04T03:43:45.206986Z"
    }
   },
   "id": "6ec7264393ac33d3",
   "execution_count": 14
  },
  {
   "cell_type": "code",
   "outputs": [
    {
     "name": "stderr",
     "output_type": "stream",
     "text": [
      "2024-07-04 11:43:50,625:INFO - HTTP Request: POST https://dashscope.aliyuncs.com/compatible-mode/v1/chat/completions \"HTTP/1.1 200 OK\"\n"
     ]
    },
    {
     "name": "stdout",
     "output_type": "stream",
     "text": [
      "{\n",
      "  \"2024-03-31\": [\n",
      "    {\n",
      "      \"holder_name\": \"c\",\n",
      "      \"percentage\": \"10\"\n",
      "    },\n",
      "    {\n",
      "      \"holder_name\": \"d\",\n",
      "      \"percentage\": \"5\"\n",
      "    }\n",
      "  ],\n",
      "  \"2023-12-31\": [\n",
      "    {\n",
      "      \"holder_name\": \"e\",\n",
      "      \"percentage\": \"20\"\n",
      "    },\n",
      "    {\n",
      "      \"holder_name\": \"f\",\n",
      "      \"percentage\": \"15\"\n",
      "    }\n",
      "  ],\n",
      "  \"2023-09-30\": [\n",
      "    {\n",
      "      \"holder_name\": \"g\",\n",
      "      \"percentage\": \"15\"\n",
      "    },\n",
      "    {\n",
      "      \"holder_name\": \"h\",\n",
      "      \"percentage\": \"10\"\n",
      "    }\n",
      "  ]\n",
      "}\n"
     ]
    }
   ],
   "source": [
    "response = chain.invoke(inputs)\n",
    "print(response['output'])"
   ],
   "metadata": {
    "collapsed": false,
    "ExecuteTime": {
     "end_time": "2024-07-04T03:43:51.783020Z",
     "start_time": "2024-07-04T03:43:49.883738Z"
    }
   },
   "id": "dec5884ce0d27831",
   "execution_count": 15
  },
  {
   "cell_type": "code",
   "outputs": [],
   "source": [],
   "metadata": {
    "collapsed": false
   },
   "id": "41fb88cd835c0494"
  }
 ],
 "metadata": {
  "kernelspec": {
   "display_name": "Python 3",
   "language": "python",
   "name": "python3"
  },
  "language_info": {
   "codemirror_mode": {
    "name": "ipython",
    "version": 2
   },
   "file_extension": ".py",
   "mimetype": "text/x-python",
   "name": "python",
   "nbconvert_exporter": "python",
   "pygments_lexer": "ipython2",
   "version": "2.7.6"
  }
 },
 "nbformat": 4,
 "nbformat_minor": 5
}
