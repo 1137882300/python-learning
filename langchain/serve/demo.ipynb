{
 "cells": [
  {
   "cell_type": "code",
   "execution_count": 1,
   "id": "initial_id",
   "metadata": {
    "collapsed": true,
    "ExecuteTime": {
     "end_time": "2024-06-28T06:41:23.384862Z",
     "start_time": "2024-06-28T06:41:16.114580Z"
    }
   },
   "outputs": [
    {
     "name": "stdout",
     "output_type": "stream",
     "text": [
      "--2024-06-28 14:41:16--  https://crab233.cloudns.biz/proxy/github.com/sugarforever/langchain-serve-example/raw/main/app.py\r\n",
      "Resolving crab233.cloudns.biz (crab233.cloudns.biz)... 76.76.21.21\r\n",
      "Connecting to crab233.cloudns.biz (crab233.cloudns.biz)|76.76.21.21|:443... connected.\r\n",
      "HTTP request sent, awaiting response... 308 Permanent Redirect\r\n",
      "Location: https://www.crab233.cloudns.biz/proxy/github.com/sugarforever/langchain-serve-example/raw/main/app.py [following]\r\n",
      "--2024-06-28 14:41:16--  https://www.crab233.cloudns.biz/proxy/github.com/sugarforever/langchain-serve-example/raw/main/app.py\r\n",
      "Resolving www.crab233.cloudns.biz (www.crab233.cloudns.biz)... 76.76.21.98, 76.76.21.9\r\n",
      "Connecting to www.crab233.cloudns.biz (www.crab233.cloudns.biz)|76.76.21.98|:443... connected.\r\n",
      "HTTP request sent, awaiting response... 302 Found\r\n",
      "Location: https://raw.githubusercontent.com/sugarforever/langchain-serve-example/main/app.py [following]\r\n",
      "--2024-06-28 14:41:18--  https://raw.githubusercontent.com/sugarforever/langchain-serve-example/main/app.py\r\n",
      "Resolving raw.githubusercontent.com (raw.githubusercontent.com)... 185.199.108.133\r\n",
      "Connecting to raw.githubusercontent.com (raw.githubusercontent.com)|185.199.108.133|:443... connected.\r\n",
      "HTTP request sent, awaiting response... 200 OK\r\n",
      "Length: 1010 [text/plain]\r\n",
      "Saving to: ‘app.py’\r\n",
      "\r\n",
      "app.py              100%[===================>]    1010  --.-KB/s    in 0s      \r\n",
      "\r\n",
      "2024-06-28 14:41:23 (11.2 MB/s) - ‘app.py’ saved [1010/1010]\r\n",
      "\r\n"
     ]
    }
   ],
   "source": [
    "!wget https://crab233.cloudns.biz/proxy/github.com/sugarforever/langchain-serve-example/raw/main/app.py"
   ]
  },
  {
   "cell_type": "code",
   "outputs": [
    {
     "name": "stdout",
     "output_type": "stream",
     "text": [
      "Looking in indexes: https://pypi.tuna.tsinghua.edu.cn/simple\r\n",
      "Collecting langserve\r\n",
      "  Downloading https://pypi.tuna.tsinghua.edu.cn/packages/ab/5f/75f1560ef2785d72265a20cd91291ad02e751309b8141615e88942c7b583/langserve-0.2.2-py3-none-any.whl (1.2 MB)\r\n",
      "\u001B[2K     \u001B[90m━━━━━━━━━━━━━━━━━━━━━━━━━━━━━━━━━━━━━━━━\u001B[0m \u001B[32m1.2/1.2 MB\u001B[0m \u001B[31m2.1 MB/s\u001B[0m eta \u001B[36m0:00:00\u001B[0ma \u001B[36m0:00:01\u001B[0m0m\r\n",
      "\u001B[?25hRequirement already satisfied: httpx>=0.23.0 in /Users/pangmengting/venv/lib/python3.10/site-packages (from langserve) (0.27.0)\r\n",
      "Requirement already satisfied: langchain-core<0.3,>=0.1 in /Users/pangmengting/venv/lib/python3.10/site-packages (from langserve) (0.2.9)\r\n",
      "Requirement already satisfied: orjson>=2 in /Users/pangmengting/venv/lib/python3.10/site-packages (from langserve) (3.9.15)\r\n",
      "Requirement already satisfied: pydantic>=1 in /Users/pangmengting/venv/lib/python3.10/site-packages (from langserve) (2.6.4)\r\n",
      "Collecting pyproject-toml<0.0.11,>=0.0.10 (from langserve)\r\n",
      "  Downloading https://pypi.tuna.tsinghua.edu.cn/packages/3b/56/95d700e725946200ec9b2aeee4479fcf3ca24cf6fbf0aa548160980787a5/pyproject_toml-0.0.10-py3-none-any.whl (6.9 kB)\r\n",
      "Requirement already satisfied: anyio in /Users/pangmengting/venv/lib/python3.10/site-packages (from httpx>=0.23.0->langserve) (3.7.1)\r\n",
      "Requirement already satisfied: certifi in /Users/pangmengting/venv/lib/python3.10/site-packages (from httpx>=0.23.0->langserve) (2024.6.2)\r\n",
      "Requirement already satisfied: httpcore==1.* in /Users/pangmengting/venv/lib/python3.10/site-packages (from httpx>=0.23.0->langserve) (1.0.4)\r\n",
      "Requirement already satisfied: idna in /Users/pangmengting/venv/lib/python3.10/site-packages (from httpx>=0.23.0->langserve) (3.4)\r\n",
      "Requirement already satisfied: sniffio in /Users/pangmengting/venv/lib/python3.10/site-packages (from httpx>=0.23.0->langserve) (1.3.0)\r\n",
      "Requirement already satisfied: h11<0.15,>=0.13 in /Users/pangmengting/venv/lib/python3.10/site-packages (from httpcore==1.*->httpx>=0.23.0->langserve) (0.14.0)\r\n",
      "Requirement already satisfied: PyYAML>=5.3 in /Users/pangmengting/venv/lib/python3.10/site-packages (from langchain-core<0.3,>=0.1->langserve) (6.0.1)\r\n",
      "Requirement already satisfied: jsonpatch<2.0,>=1.33 in /Users/pangmengting/venv/lib/python3.10/site-packages (from langchain-core<0.3,>=0.1->langserve) (1.33)\r\n",
      "Requirement already satisfied: langsmith<0.2.0,>=0.1.75 in /Users/pangmengting/venv/lib/python3.10/site-packages (from langchain-core<0.3,>=0.1->langserve) (0.1.77)\r\n",
      "Requirement already satisfied: packaging<25,>=23.2 in /Users/pangmengting/venv/lib/python3.10/site-packages (from langchain-core<0.3,>=0.1->langserve) (23.2)\r\n",
      "Requirement already satisfied: tenacity!=8.4.0,<9.0.0,>=8.1.0 in /Users/pangmengting/venv/lib/python3.10/site-packages (from langchain-core<0.3,>=0.1->langserve) (8.2.3)\r\n",
      "Requirement already satisfied: annotated-types>=0.4.0 in /Users/pangmengting/venv/lib/python3.10/site-packages (from pydantic>=1->langserve) (0.6.0)\r\n",
      "Requirement already satisfied: pydantic-core==2.16.3 in /Users/pangmengting/venv/lib/python3.10/site-packages (from pydantic>=1->langserve) (2.16.3)\r\n",
      "Requirement already satisfied: typing-extensions>=4.6.1 in /Users/pangmengting/venv/lib/python3.10/site-packages (from pydantic>=1->langserve) (4.10.0)\r\n",
      "Requirement already satisfied: setuptools>=42 in /Users/pangmengting/venv/lib/python3.10/site-packages (from pyproject-toml<0.0.11,>=0.0.10->langserve) (68.2.0)\r\n",
      "Requirement already satisfied: wheel in /Users/pangmengting/venv/lib/python3.10/site-packages (from pyproject-toml<0.0.11,>=0.0.10->langserve) (0.41.2)\r\n",
      "Requirement already satisfied: toml in /Users/pangmengting/venv/lib/python3.10/site-packages (from pyproject-toml<0.0.11,>=0.0.10->langserve) (0.10.2)\r\n",
      "Requirement already satisfied: jsonschema in /Users/pangmengting/venv/lib/python3.10/site-packages (from pyproject-toml<0.0.11,>=0.0.10->langserve) (4.18.4)\r\n",
      "Requirement already satisfied: jsonpointer>=1.9 in /Users/pangmengting/venv/lib/python3.10/site-packages (from jsonpatch<2.0,>=1.33->langchain-core<0.3,>=0.1->langserve) (2.4)\r\n",
      "Requirement already satisfied: requests<3,>=2 in /Users/pangmengting/venv/lib/python3.10/site-packages (from langsmith<0.2.0,>=0.1.75->langchain-core<0.3,>=0.1->langserve) (2.31.0)\r\n",
      "Requirement already satisfied: exceptiongroup in /Users/pangmengting/venv/lib/python3.10/site-packages (from anyio->httpx>=0.23.0->langserve) (1.1.2)\r\n",
      "Requirement already satisfied: attrs>=22.2.0 in /Users/pangmengting/venv/lib/python3.10/site-packages (from jsonschema->pyproject-toml<0.0.11,>=0.0.10->langserve) (23.1.0)\r\n",
      "Requirement already satisfied: jsonschema-specifications>=2023.03.6 in /Users/pangmengting/venv/lib/python3.10/site-packages (from jsonschema->pyproject-toml<0.0.11,>=0.0.10->langserve) (2023.7.1)\r\n",
      "Requirement already satisfied: referencing>=0.28.4 in /Users/pangmengting/venv/lib/python3.10/site-packages (from jsonschema->pyproject-toml<0.0.11,>=0.0.10->langserve) (0.30.0)\r\n",
      "Requirement already satisfied: rpds-py>=0.7.1 in /Users/pangmengting/venv/lib/python3.10/site-packages (from jsonschema->pyproject-toml<0.0.11,>=0.0.10->langserve) (0.9.2)\r\n",
      "Requirement already satisfied: charset-normalizer<4,>=2 in /Users/pangmengting/venv/lib/python3.10/site-packages (from requests<3,>=2->langsmith<0.2.0,>=0.1.75->langchain-core<0.3,>=0.1->langserve) (3.2.0)\r\n",
      "Requirement already satisfied: urllib3<3,>=1.21.1 in /Users/pangmengting/venv/lib/python3.10/site-packages (from requests<3,>=2->langsmith<0.2.0,>=0.1.75->langchain-core<0.3,>=0.1->langserve) (2.2.1)\r\n",
      "Installing collected packages: pyproject-toml, langserve\r\n",
      "Successfully installed langserve-0.2.2 pyproject-toml-0.0.10\r\n",
      "\r\n",
      "\u001B[1m[\u001B[0m\u001B[34;49mnotice\u001B[0m\u001B[1;39;49m]\u001B[0m\u001B[39;49m A new release of pip is available: \u001B[0m\u001B[31;49m24.0\u001B[0m\u001B[39;49m -> \u001B[0m\u001B[32;49m24.1\u001B[0m\r\n",
      "\u001B[1m[\u001B[0m\u001B[34;49mnotice\u001B[0m\u001B[1;39;49m]\u001B[0m\u001B[39;49m To update, run: \u001B[0m\u001B[32;49mpip install --upgrade pip\u001B[0m\r\n"
     ]
    }
   ],
   "source": [
    "# !pip install langserve"
   ],
   "metadata": {
    "collapsed": false,
    "ExecuteTime": {
     "end_time": "2024-06-28T06:41:41.814106Z",
     "start_time": "2024-06-28T06:41:38.384371Z"
    }
   },
   "id": "4892571079361784",
   "execution_count": 2
  },
  {
   "cell_type": "code",
   "outputs": [
    {
     "name": "stdout",
     "output_type": "stream",
     "text": [
      "Looking in indexes: https://pypi.tuna.tsinghua.edu.cn/simple\r\n",
      "Collecting sse_starlette\r\n",
      "  Downloading https://pypi.tuna.tsinghua.edu.cn/packages/94/62/6fd2de443e2cccea996e1710fb90fc6a8d59270803f55fac37dfd29f38c4/sse_starlette-2.1.2-py3-none-any.whl (9.3 kB)\r\n",
      "Requirement already satisfied: starlette in /Users/pangmengting/venv/lib/python3.10/site-packages (from sse_starlette) (0.27.0)\r\n",
      "Requirement already satisfied: uvicorn in /Users/pangmengting/venv/lib/python3.10/site-packages (from sse_starlette) (0.22.0)\r\n",
      "Requirement already satisfied: anyio in /Users/pangmengting/venv/lib/python3.10/site-packages (from sse_starlette) (3.7.1)\r\n",
      "Requirement already satisfied: idna>=2.8 in /Users/pangmengting/venv/lib/python3.10/site-packages (from anyio->sse_starlette) (3.4)\r\n",
      "Requirement already satisfied: sniffio>=1.1 in /Users/pangmengting/venv/lib/python3.10/site-packages (from anyio->sse_starlette) (1.3.0)\r\n",
      "Requirement already satisfied: exceptiongroup in /Users/pangmengting/venv/lib/python3.10/site-packages (from anyio->sse_starlette) (1.1.2)\r\n",
      "Requirement already satisfied: click>=7.0 in /Users/pangmengting/venv/lib/python3.10/site-packages (from uvicorn->sse_starlette) (8.1.6)\r\n",
      "Requirement already satisfied: h11>=0.8 in /Users/pangmengting/venv/lib/python3.10/site-packages (from uvicorn->sse_starlette) (0.14.0)\r\n",
      "Installing collected packages: sse_starlette\r\n",
      "Successfully installed sse_starlette-2.1.2\r\n",
      "\r\n",
      "\u001B[1m[\u001B[0m\u001B[34;49mnotice\u001B[0m\u001B[1;39;49m]\u001B[0m\u001B[39;49m A new release of pip is available: \u001B[0m\u001B[31;49m24.0\u001B[0m\u001B[39;49m -> \u001B[0m\u001B[32;49m24.1\u001B[0m\r\n",
      "\u001B[1m[\u001B[0m\u001B[34;49mnotice\u001B[0m\u001B[1;39;49m]\u001B[0m\u001B[39;49m To update, run: \u001B[0m\u001B[32;49mpip install --upgrade pip\u001B[0m\r\n"
     ]
    }
   ],
   "source": [
    "# !pip install sse_starlette"
   ],
   "metadata": {
    "collapsed": false,
    "ExecuteTime": {
     "end_time": "2024-06-28T06:47:13.580258Z",
     "start_time": "2024-06-28T06:47:11.340611Z"
    }
   },
   "id": "7dfe9967b40104c2",
   "execution_count": 3
  },
  {
   "cell_type": "code",
   "outputs": [
    {
     "name": "stdout",
     "output_type": "stream",
     "text": [
      "Name: pydantic\r\n",
      "Version: 2.6.4\r\n",
      "Summary: Data validation using Python type hints\r\n",
      "Home-page: \r\n",
      "Author: \r\n",
      "Author-email: Samuel Colvin <s@muelcolvin.com>, Eric Jolibois <em.jolibois@gmail.com>, Hasan Ramezani <hasan.r67@gmail.com>, Adrian Garcia Badaracco <1755071+adriangb@users.noreply.github.com>, Terrence Dorsey <terry@pydantic.dev>, David Montague <david@pydantic.dev>, Serge Matveenko <lig@countzero.co>, Marcelo Trylesinski <marcelotryle@gmail.com>, Sydney Runkle <sydneymarierunkle@gmail.com>, David Hewitt <mail@davidhewitt.io>\r\n",
      "License: \r\n",
      "Location: /Users/pangmengting/venv/lib/python3.10/site-packages\r\n",
      "Requires: annotated-types, pydantic-core, typing-extensions\r\n",
      "Required-by: anthropic, chromadb, docarray, fastapi, gotrue, langchain, langchain-core, langchainplus-sdk, langserve, langsmith, llamaindex-py-client, openai, openapi-schema-pydantic, postgrest, qdrant-client, qianfan, sqlmodel, zhipuai\r\n"
     ]
    }
   ],
   "source": [
    "!pip show pydantic\n",
    "# !pip install pydantic"
   ],
   "metadata": {
    "collapsed": false,
    "ExecuteTime": {
     "end_time": "2024-06-28T06:48:31.351922Z",
     "start_time": "2024-06-28T06:48:29.827301Z"
    }
   },
   "id": "6313b821c57344a7",
   "execution_count": 4
  },
  {
   "cell_type": "code",
   "outputs": [],
   "source": [],
   "metadata": {
    "collapsed": false
   },
   "id": "2fa5678bd9bb7a16"
  }
 ],
 "metadata": {
  "kernelspec": {
   "display_name": "Python 3",
   "language": "python",
   "name": "python3"
  },
  "language_info": {
   "codemirror_mode": {
    "name": "ipython",
    "version": 2
   },
   "file_extension": ".py",
   "mimetype": "text/x-python",
   "name": "python",
   "nbconvert_exporter": "python",
   "pygments_lexer": "ipython2",
   "version": "2.7.6"
  }
 },
 "nbformat": 4,
 "nbformat_minor": 5
}
