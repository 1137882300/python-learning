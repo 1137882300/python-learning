{
 "cells": [
  {
   "cell_type": "code",
   "execution_count": 1,
   "id": "initial_id",
   "metadata": {
    "collapsed": true,
    "ExecuteTime": {
     "end_time": "2024-06-28T03:12:40.079434Z",
     "start_time": "2024-06-28T03:12:39.812272Z"
    }
   },
   "outputs": [],
   "source": [
    "from langchain import OpenAI\n",
    "from langchain.chains import ConversationChain\n",
    "from langchain.chains.conversation.memory import ConversationBufferMemory, ConversationSummaryMemory\n",
    "from langchain.callbacks import get_openai_callback\n",
    "import os"
   ]
  },
  {
   "cell_type": "code",
   "outputs": [
    {
     "name": "stdout",
     "output_type": "stream",
     "text": [
      "8483c3ec7a0cbc54a8d660b5b9002b04\n",
      "Gcllof8ze6dgtcqFI5FQZ2SD_5tfCD4Db7NuS6jn\n",
      "sk-01c5003340c3453b934052d737d45e01\n",
      "sk-UGVpjuTwo2Q8pewoqUDfckw1A0pbSDli9ElFMeS9WareKknG\n",
      "https://api.moonshot.cn/v1/\n"
     ]
    }
   ],
   "source": [
    "from dotenv import load_dotenv\n",
    "import os\n",
    "from langchain_community.llms.cloudflare_workersai import CloudflareWorkersAI\n",
    "from langchain_community.llms.tongyi import Tongyi\n",
    "from langchain_openai import ChatOpenAI\n",
    "\n",
    "load_dotenv(override=True)\n",
    "\n",
    "account_id = os.getenv('CF_ACCOUNT_ID')\n",
    "api_token = os.getenv('CF_API_TOKEN')\n",
    "print(account_id)\n",
    "print(api_token)\n",
    "\n",
    "# CloudflareWorkersAI\n",
    "model = '@cf/meta/llama-3-8b-instruct'\n",
    "cf_llm = CloudflareWorkersAI(\n",
    "    account_id=account_id,\n",
    "    api_token=api_token,\n",
    "    model=model\n",
    ")\n",
    "\n",
    "DASHSCOPE_API_KEY = os.getenv('DASHSCOPE_API_KEY')\n",
    "print(DASHSCOPE_API_KEY)\n",
    "\n",
    "# qwen\n",
    "qw_llm = Tongyi(\n",
    "    model='qwen2-1.5b-instruct'\n",
    ")\n",
    "\n",
    "# qwen 兼容 openai的接口\n",
    "qw_llm_openai = ChatOpenAI(\n",
    "    openai_api_base='https://dashscope.aliyuncs.com/compatible-mode/v1',\n",
    "    openai_api_key=DASHSCOPE_API_KEY,\n",
    "    model_name=\"qwen2-1.5b-instruct\",\n",
    "    temperature=0,\n",
    "    streaming=True,\n",
    "    verbose=True,\n",
    ")\n",
    "\n",
    "api_key = os.getenv('OPENAI_API_KEY')\n",
    "base_url = os.getenv('OPENAI_API_BASE')\n",
    "print(api_key)\n",
    "print(base_url)\n",
    "\n",
    "# openai/moonshot\n",
    "ms_llm = ChatOpenAI(\n",
    "    openai_api_base=base_url,\n",
    "    openai_api_key=api_key,\n",
    "    model_name=\"moonshot-v1-8k\",\n",
    "    temperature=0.7,\n",
    ")"
   ],
   "metadata": {
    "collapsed": false,
    "ExecuteTime": {
     "end_time": "2024-06-28T03:12:42.236370Z",
     "start_time": "2024-06-28T03:12:41.893491Z"
    }
   },
   "id": "f4c73cc3d7e679a8",
   "execution_count": 2
  },
  {
   "cell_type": "code",
   "outputs": [],
   "source": [
    "def track_tokens_usage(chain, query):\n",
    "    with get_openai_callback() as cb:\n",
    "        result = chain.invoke(query)\n",
    "        print(f'Total tokens: {cb.total_tokens}')\n",
    "\n",
    "    return result"
   ],
   "metadata": {
    "collapsed": false,
    "ExecuteTime": {
     "end_time": "2024-06-28T03:12:55.507742Z",
     "start_time": "2024-06-28T03:12:55.504088Z"
    }
   },
   "id": "164e27f40d339386",
   "execution_count": 4
  },
  {
   "cell_type": "code",
   "outputs": [],
   "source": [
    "conversation = ConversationChain(llm=qw_llm_openai, memory = ConversationSummaryMemory(llm=qw_llm_openai))"
   ],
   "metadata": {
    "collapsed": false,
    "ExecuteTime": {
     "end_time": "2024-06-28T03:12:56.553777Z",
     "start_time": "2024-06-28T03:12:56.548650Z"
    }
   },
   "id": "83b9e9f8c4f2e11e",
   "execution_count": 5
  },
  {
   "cell_type": "code",
   "outputs": [
    {
     "name": "stdout",
     "output_type": "stream",
     "text": [
      "Progressively summarize the lines of conversation provided, adding onto the previous summary returning a new summary.\n",
      "\n",
      "EXAMPLE\n",
      "Current summary:\n",
      "The human asks what the AI thinks of artificial intelligence. The AI thinks artificial intelligence is a force for good.\n",
      "\n",
      "New lines of conversation:\n",
      "Human: Why do you think artificial intelligence is a force for good?\n",
      "AI: Because artificial intelligence will help humans reach their full potential.\n",
      "\n",
      "New summary:\n",
      "The human asks what the AI thinks of artificial intelligence. The AI thinks artificial intelligence is a force for good because it will help humans reach their full potential.\n",
      "END OF EXAMPLE\n",
      "\n",
      "Current summary:\n",
      "{summary}\n",
      "\n",
      "New lines of conversation:\n",
      "{new_lines}\n",
      "\n",
      "New summary:\n"
     ]
    }
   ],
   "source": [
    "print(conversation.memory.prompt.template)"
   ],
   "metadata": {
    "collapsed": false,
    "ExecuteTime": {
     "end_time": "2024-06-28T03:12:58.361308Z",
     "start_time": "2024-06-28T03:12:58.357057Z"
    }
   },
   "id": "bd0a85f401cdffa6",
   "execution_count": 6
  },
  {
   "cell_type": "code",
   "outputs": [
    {
     "name": "stdout",
     "output_type": "stream",
     "text": [
      "Total tokens: 0\n"
     ]
    },
    {
     "data": {
      "text/plain": "{'input': 'My interest is to explore the options of scaling Ethereum',\n 'history': '',\n 'response': \"Hello! I'm happy to help you with your exploration of scaling Ethereum. Let's start by understanding what scaling means in this context. Scaling refers to the process of increasing the efficiency or capacity of a system, such as blockchain networks like Ethereum. This can be achieved through various methods, including adding more nodes, reducing transaction fees, or using more advanced consensus mechanisms.\\nNow that we have a basic understanding of what scaling entails, let me tell you about some potential options for scaling Ethereum. One approach is to increase the number of nodes on the network, which would allow for more transactions to be processed simultaneously. Another option is to use smart contracts to reduce the need for manual verification, making the network more efficient. Additionally, there are proposals for implementing different types of consensus mechanisms, such as proof-of-stake (PoS) or proof-of-work (PoW), which could potentially improve the scalability of the network.\\nI hope this information helps you get started with exploring the options for scaling Ethereum. Let me know if you have any further questions or if there is anything else I can assist you with.\"}"
     },
     "execution_count": 7,
     "metadata": {},
     "output_type": "execute_result"
    }
   ],
   "source": [
    "track_tokens_usage(conversation, \"My interest is to explore the options of scaling Ethereum\")"
   ],
   "metadata": {
    "collapsed": false,
    "ExecuteTime": {
     "end_time": "2024-06-28T03:13:53.169147Z",
     "start_time": "2024-06-28T03:13:48.814359Z"
    }
   },
   "id": "453686bc2adf377b",
   "execution_count": 7
  },
  {
   "cell_type": "code",
   "outputs": [
    {
     "name": "stdout",
     "output_type": "stream",
     "text": [
      "Total tokens: 0\n"
     ]
    },
    {
     "data": {
      "text/plain": "{'input': 'Could you please elaborate more on sharding? Try to use at least 1000 words.',\n 'history': 'The human expresses an interest in exploring the options of scaling Ethereum. The AI provides an overview of what scaling means and mentions several possible approaches, including increasing the number of nodes, using smart contracts to reduce manual verification, and implementing different consensus mechanisms. The AI suggests asking further questions or seeking additional assistance if needed. END OF EXAMPLE',\n 'response': 'Certainly! Sharding is a technique used to increase the scalability of blockchain networks by dividing the data into smaller, more manageable pieces called shards. Each shard contains a portion of the entire blockchain, which can be processed independently of other shards without affecting the rest of the network. This allows for increased throughput and reduced latency, as each shard can process transactions concurrently instead of waiting for all shards to agree on their validity.\\nThere are two main types of sharding: full and partial. Full sharding involves dividing the entire blockchain into multiple copies, while partial sharding only divides certain parts of the blockchain. In either case, the goal is to distribute the load across multiple nodes so that they can process transactions simultaneously, rather than waiting for a single node to confirm every transaction.\\nOne advantage of sharding is that it reduces the amount of computational resources required to process transactions, since each shard can process transactions independently. Additionally, sharding can improve the security of blockchains by reducing the risk of attacks on individual nodes, as each shard can act as its own validator. However, there are also some disadvantages to sharding, such as increased complexity and potential performance issues due to the need to manage multiple copies of the blockchain.\\nAnother approach to scaling Ethereum is through the use of smart contracts. Smart contracts are self-executing programs that automatically execute when certain conditions are met. They can be used to automate many processes within a blockchain network, such as verifying transactions, executing smart contract code, and handling disputes. By automating these processes, smart contracts can reduce the need for manual intervention, which can lead to faster processing times and lower fees.\\nSmart contracts can also help to reduce the need for consensus mechanisms, such as proof-of-work (PoW) or proof-of-stake (PoS). Instead of requiring miners to compete for validation of new blocks, smart contracts can simply execute based on pre-defined rules. This can make the network more efficient and less energy-intensive, as it eliminates the need for costly hardware and electricity consumption.\\nIn addition to sharding and smart contracts, there are other ways to scale Ethereum, such as using off-chain transactions or implementing different consensus mechanisms. Off-chain transactions involve executing transactions outside of the blockchain network, which can reduce the amount of data that needs to be stored on the network and improve the speed of processing. On the other hand, different consensus mechanisms, such as proof-of-authority (PoA) or proof-of-asset (PoA), can provide greater security and stability compared to PoW or PoS.\\nOverall, scaling Ethereum is a complex issue with many factors to consider, including the size and complexity of the network, the desired level of scalability, and the available resources. By combining various techniques and technologies, such as sharding, smart contracts, off-chain transactions, and different consensus mechanisms, it is possible to create a scalable and secure blockchain network that meets the needs of users and businesses alike.'}"
     },
     "execution_count": 8,
     "metadata": {},
     "output_type": "execute_result"
    }
   ],
   "source": [
    "track_tokens_usage(conversation, \"Could you please elaborate more on sharding? Try to use at least 1000 words.\")"
   ],
   "metadata": {
    "collapsed": false,
    "ExecuteTime": {
     "end_time": "2024-06-28T03:14:10.207674Z",
     "start_time": "2024-06-28T03:14:05.161272Z"
    }
   },
   "id": "d1f6fe61224a8987",
   "execution_count": 8
  },
  {
   "cell_type": "code",
   "outputs": [
    {
     "name": "stdout",
     "output_type": "stream",
     "text": [
      "Total tokens: 0\n"
     ]
    },
    {
     "data": {
      "text/plain": "{'input': 'What are the cons of sharding?',\n 'history': 'The human expresses an interest in exploring the options of scaling Ethereum. The AI provides an overview of what scaling means and mentions several possible approaches, including increasing the number of nodes, using smart contracts to reduce manual verification, and implementing different consensus mechanisms. The AI suggests asking further questions or seeking additional assistance if needed. END OF EXAMPLE',\n 'response': \"Sharding can introduce some challenges:\\n\\n1. Scalability: Sharding can make the network more scalable by distributing transactions across multiple nodes, but this comes with the risk that a single node failure could cause the entire network to slow down.\\n2. Performance: Each shard may have its own set of data and operations, which can lead to performance differences when communicating between shards.\\n3. Complexity: Sharding requires additional infrastructure, such as a separate blockchain for each shard, and managing the communication between them can be complex.\\n4. Security: While sharding can help improve security by reducing the attack surface area, it also increases the complexity of maintaining security measures.\\n5. Cost: Implementing sharding can increase the cost of running the network due to the additional hardware and software required.\\n\\nIt's important to note that while these challenges exist, many projects have successfully implemented sharding and found ways to mitigate their impact. It ultimately depends on the specific use case and the trade-offs involved.\"}"
     },
     "execution_count": 9,
     "metadata": {},
     "output_type": "execute_result"
    }
   ],
   "source": [
    "track_tokens_usage(conversation, \"What are the cons of sharding?\")"
   ],
   "metadata": {
    "collapsed": false,
    "ExecuteTime": {
     "end_time": "2024-06-28T03:14:27.674057Z",
     "start_time": "2024-06-28T03:14:25.097171Z"
    }
   },
   "id": "ef3157315a6f342a",
   "execution_count": 9
  },
  {
   "cell_type": "code",
   "outputs": [
    {
     "name": "stdout",
     "output_type": "stream",
     "text": [
      "The human expresses an interest in exploring the options of scaling Ethereum. The AI provides an overview of what scaling means and mentions several possible approaches, including increasing the number of nodes, using smart contracts to reduce manual verification, and implementing different consensus mechanisms. The AI suggests asking further questions or seeking additional assistance if needed. Additionally, the AI identifies potential challenges associated with sharding, such as scalability, performance, complexity, and security, and notes that while these issues exist, successful implementations have been found through mitigation strategies.\n"
     ]
    }
   ],
   "source": [
    "print(conversation.memory.buffer)"
   ],
   "metadata": {
    "collapsed": false,
    "ExecuteTime": {
     "end_time": "2024-06-28T03:14:32.524513Z",
     "start_time": "2024-06-28T03:14:32.508390Z"
    }
   },
   "id": "bfd3ded3d788b1da",
   "execution_count": 10
  },
  {
   "cell_type": "code",
   "outputs": [],
   "source": [],
   "metadata": {
    "collapsed": false
   },
   "id": "1a5b64eac287c89b"
  }
 ],
 "metadata": {
  "kernelspec": {
   "display_name": "Python 3",
   "language": "python",
   "name": "python3"
  },
  "language_info": {
   "codemirror_mode": {
    "name": "ipython",
    "version": 2
   },
   "file_extension": ".py",
   "mimetype": "text/x-python",
   "name": "python",
   "nbconvert_exporter": "python",
   "pygments_lexer": "ipython2",
   "version": "2.7.6"
  }
 },
 "nbformat": 4,
 "nbformat_minor": 5
}
