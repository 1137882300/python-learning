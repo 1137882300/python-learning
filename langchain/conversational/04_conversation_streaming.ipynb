{
 "cells": [
  {
   "cell_type": "code",
   "execution_count": 5,
   "id": "initial_id",
   "metadata": {
    "collapsed": true,
    "ExecuteTime": {
     "end_time": "2024-06-28T02:44:13.272780Z",
     "start_time": "2024-06-28T02:44:13.265287Z"
    }
   },
   "outputs": [],
   "source": [
    "from langchain import OpenAI\n",
    "from langchain.callbacks import get_openai_callback\n",
    "# from langchain.callbacks.base import CallbackManager\n",
    "from langchain_core.callbacks import CallbackManager, StreamingStdOutCallbackHandler\n",
    "# from langchain.callbacks.streaming_stdout import StreamingStdOutCallbackHandler\n",
    "import os"
   ]
  },
  {
   "cell_type": "code",
   "outputs": [
    {
     "name": "stdout",
     "output_type": "stream",
     "text": [
      "8483c3ec7a0cbc54a8d660b5b9002b04\n",
      "Gcllof8ze6dgtcqFI5FQZ2SD_5tfCD4Db7NuS6jn\n",
      "sk-01c5003340c3453b934052d737d45e01\n",
      "sk-UGVpjuTwo2Q8pewoqUDfckw1A0pbSDli9ElFMeS9WareKknG\n",
      "https://api.moonshot.cn/v1/\n"
     ]
    }
   ],
   "source": [
    "from dotenv import load_dotenv\n",
    "import os\n",
    "from langchain_community.llms.cloudflare_workersai import CloudflareWorkersAI\n",
    "from langchain_community.llms.tongyi import Tongyi\n",
    "from langchain_openai import ChatOpenAI\n",
    "\n",
    "load_dotenv(override=True)\n",
    "\n",
    "account_id = os.getenv('CF_ACCOUNT_ID')\n",
    "api_token = os.getenv('CF_API_TOKEN')\n",
    "print(account_id)\n",
    "print(api_token)\n",
    "\n",
    "# CloudflareWorkersAI\n",
    "model = '@cf/meta/llama-3-8b-instruct'\n",
    "cf_llm = CloudflareWorkersAI(\n",
    "    account_id=account_id,\n",
    "    api_token=api_token,\n",
    "    model=model\n",
    ")\n",
    "\n",
    "DASHSCOPE_API_KEY = os.getenv('DASHSCOPE_API_KEY')\n",
    "print(DASHSCOPE_API_KEY)\n",
    "\n",
    "# qwen\n",
    "qw_llm = Tongyi(\n",
    "    model='qwen2-1.5b-instruct'\n",
    ")\n",
    "\n",
    "# qwen 兼容 openai的接口\n",
    "qw_llm_openai = ChatOpenAI(\n",
    "    openai_api_base='https://dashscope.aliyuncs.com/compatible-mode/v1',\n",
    "    openai_api_key=DASHSCOPE_API_KEY,\n",
    "    model_name=\"qwen2-1.5b-instruct\",\n",
    "    temperature=0,\n",
    "    streaming=True,\n",
    "    verbose=True,\n",
    "    callback_manager=CallbackManager([StreamingStdOutCallbackHandler()]),\n",
    "\n",
    ")\n",
    "\n",
    "api_key = os.getenv('OPENAI_API_KEY')\n",
    "base_url = os.getenv('OPENAI_API_BASE')\n",
    "print(api_key)\n",
    "print(base_url)\n",
    "\n",
    "# openai/moonshot\n",
    "ms_llm = ChatOpenAI(\n",
    "    openai_api_base=base_url,\n",
    "    openai_api_key=api_key,\n",
    "    model_name=\"moonshot-v1-8k\",\n",
    "    temperature=0.7,\n",
    ")"
   ],
   "metadata": {
    "collapsed": false,
    "ExecuteTime": {
     "end_time": "2024-06-28T02:44:22.897132Z",
     "start_time": "2024-06-28T02:44:22.820077Z"
    }
   },
   "id": "91762e04d859a4e8",
   "execution_count": 7
  },
  {
   "cell_type": "code",
   "outputs": [
    {
     "name": "stdout",
     "output_type": "stream",
     "text": [
      "Sure, here's your poem:\n",
      "\n",
      "In the morning light,\n",
      "The world awakens to new day.\n",
      "Birds chirp and sing their song,\n",
      "As the sun rises high.\n",
      "\n",
      "The trees sway in the breeze,\n",
      "Their leaves rustling like music.\n",
      "The sky is blue as glass,\n",
      "A canvas of pure delight.\n",
      "\n",
      "The flowers bloom and shine,\n",
      "Their petals soft and bright.\n",
      "The bees buzz from flower to flower,\n",
      "Pollinating all they can do.\n",
      "\n",
      "The rivers flow with ease,\n",
      "Their waters clear and pure.\n",
      "The fish swim by in peace,\n",
      "Content and free from fear.\n",
      "\n",
      "The mountains stand tall and proud,\n",
      "Their peaks soaring into the sky.\n",
      "The clouds drift lazily by,\n",
      "A peaceful scene to behold.\n",
      "\n",
      "The ocean stretches out wide,\n",
      "Its waves crashing against the shore.\n",
      "The seagulls fly overhead,\n",
      "A sight that never grows old.\n",
      "The animals roam and play,\n",
      "Their lives full of joy and grace.\n",
      "The world is filled with wonder,\n",
      "A place where love will abide.\n",
      "\n",
      "So let us cherish this moment,\n",
      "And make every day anew.\n",
      "For in the beauty around us,\n",
      "We find our truest self."
     ]
    }
   ],
   "source": [
    "response = qw_llm_openai.invoke(\"Please write an English poem with 50 lines and 10 syllables per line.\")"
   ],
   "metadata": {
    "collapsed": false,
    "ExecuteTime": {
     "end_time": "2024-06-28T02:44:30.661404Z",
     "start_time": "2024-06-28T02:44:28.597778Z"
    }
   },
   "id": "1e2264633d1ddc22",
   "execution_count": 8
  },
  {
   "cell_type": "code",
   "outputs": [],
   "source": [],
   "metadata": {
    "collapsed": false
   },
   "id": "f6d333a72af072da"
  }
 ],
 "metadata": {
  "kernelspec": {
   "display_name": "Python 3",
   "language": "python",
   "name": "python3"
  },
  "language_info": {
   "codemirror_mode": {
    "name": "ipython",
    "version": 2
   },
   "file_extension": ".py",
   "mimetype": "text/x-python",
   "name": "python",
   "nbconvert_exporter": "python",
   "pygments_lexer": "ipython2",
   "version": "2.7.6"
  }
 },
 "nbformat": 4,
 "nbformat_minor": 5
}
