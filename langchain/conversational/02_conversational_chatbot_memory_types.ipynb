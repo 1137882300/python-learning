{
 "cells": [
  {
   "cell_type": "code",
   "execution_count": 1,
   "id": "initial_id",
   "metadata": {
    "collapsed": true,
    "ExecuteTime": {
     "end_time": "2024-06-28T02:58:06.471424Z",
     "start_time": "2024-06-28T02:57:58.066494Z"
    }
   },
   "outputs": [
    {
     "name": "stdout",
     "output_type": "stream",
     "text": [
      "Looking in indexes: https://pypi.tuna.tsinghua.edu.cn/simple\r\n",
      "Collecting matplotlib\r\n",
      "  Downloading https://pypi.tuna.tsinghua.edu.cn/packages/f7/1f/a0f1a692af13b85335a9d7bd226fc0cae8d0062f1fb940980bc9b38d3b5c/matplotlib-3.9.0-cp310-cp310-macosx_11_0_arm64.whl (7.8 MB)\r\n",
      "\u001B[2K     \u001B[90m━━━━━━━━━━━━━━━━━━━━━━━━━━━━━━━━━━━━━━━━\u001B[0m \u001B[32m7.8/7.8 MB\u001B[0m \u001B[31m2.5 MB/s\u001B[0m eta \u001B[36m0:00:00\u001B[0m00:01\u001B[0m00:01\u001B[0m\r\n",
      "\u001B[?25hCollecting contourpy>=1.0.1 (from matplotlib)\r\n",
      "  Downloading https://pypi.tuna.tsinghua.edu.cn/packages/d8/d5/f23beca650c8aab67e72f610d65817c68c306e6f6a124ca337fcec7d5d57/contourpy-1.2.1-cp310-cp310-macosx_11_0_arm64.whl (244 kB)\r\n",
      "\u001B[2K     \u001B[90m━━━━━━━━━━━━━━━━━━━━━━━━━━━━━━━━━━━━━━━\u001B[0m \u001B[32m244.8/244.8 kB\u001B[0m \u001B[31m4.1 MB/s\u001B[0m eta \u001B[36m0:00:00\u001B[0ma \u001B[36m0:00:01\u001B[0m\r\n",
      "\u001B[?25hCollecting cycler>=0.10 (from matplotlib)\r\n",
      "  Downloading https://pypi.tuna.tsinghua.edu.cn/packages/e7/05/c19819d5e3d95294a6f5947fb9b9629efb316b96de511b418c53d245aae6/cycler-0.12.1-py3-none-any.whl (8.3 kB)\r\n",
      "Collecting fonttools>=4.22.0 (from matplotlib)\r\n",
      "  Downloading https://pypi.tuna.tsinghua.edu.cn/packages/4a/5d/cf58fe32c9ddc6e3189afd09a43de7e6380043e0edabcbfa9708457a36cf/fonttools-4.53.0-cp310-cp310-macosx_11_0_arm64.whl (2.2 MB)\r\n",
      "\u001B[2K     \u001B[90m━━━━━━━━━━━━━━━━━━━━━━━━━━━━━━━━━━━━━━━━\u001B[0m \u001B[32m2.2/2.2 MB\u001B[0m \u001B[31m5.1 MB/s\u001B[0m eta \u001B[36m0:00:00\u001B[0ma \u001B[36m0:00:01\u001B[0m\r\n",
      "\u001B[?25hCollecting kiwisolver>=1.3.1 (from matplotlib)\r\n",
      "  Downloading https://pypi.tuna.tsinghua.edu.cn/packages/23/11/6fb190bae4b279d712a834e7b1da89f6dcff6791132f7399aa28a57c3565/kiwisolver-1.4.5-cp310-cp310-macosx_11_0_arm64.whl (66 kB)\r\n",
      "\u001B[2K     \u001B[90m━━━━━━━━━━━━━━━━━━━━━━━━━━━━━━━━━━━━━━━━\u001B[0m \u001B[32m66.2/66.2 kB\u001B[0m \u001B[31m3.5 MB/s\u001B[0m eta \u001B[36m0:00:00\u001B[0m\r\n",
      "\u001B[?25hRequirement already satisfied: numpy>=1.23 in /Users/pangmengting/venv/lib/python3.10/site-packages (from matplotlib) (1.25.1)\r\n",
      "Requirement already satisfied: packaging>=20.0 in /Users/pangmengting/venv/lib/python3.10/site-packages (from matplotlib) (23.2)\r\n",
      "Requirement already satisfied: pillow>=8 in /Users/pangmengting/venv/lib/python3.10/site-packages (from matplotlib) (10.0.0)\r\n",
      "Requirement already satisfied: pyparsing>=2.3.1 in /Users/pangmengting/venv/lib/python3.10/site-packages (from matplotlib) (3.1.0)\r\n",
      "Requirement already satisfied: python-dateutil>=2.7 in /Users/pangmengting/venv/lib/python3.10/site-packages (from matplotlib) (2.8.2)\r\n",
      "Requirement already satisfied: six>=1.5 in /Users/pangmengting/venv/lib/python3.10/site-packages (from python-dateutil>=2.7->matplotlib) (1.16.0)\r\n",
      "Installing collected packages: kiwisolver, fonttools, cycler, contourpy, matplotlib\r\n",
      "Successfully installed contourpy-1.2.1 cycler-0.12.1 fonttools-4.53.0 kiwisolver-1.4.5 matplotlib-3.9.0\r\n",
      "\r\n",
      "\u001B[1m[\u001B[0m\u001B[34;49mnotice\u001B[0m\u001B[1;39;49m]\u001B[0m\u001B[39;49m A new release of pip is available: \u001B[0m\u001B[31;49m24.0\u001B[0m\u001B[39;49m -> \u001B[0m\u001B[32;49m24.1\u001B[0m\r\n",
      "\u001B[1m[\u001B[0m\u001B[34;49mnotice\u001B[0m\u001B[1;39;49m]\u001B[0m\u001B[39;49m To update, run: \u001B[0m\u001B[32;49mpip install --upgrade pip\u001B[0m\r\n",
      "Note: you may need to restart the kernel to use updated packages.\n"
     ]
    }
   ],
   "source": [
    "# !pip install matplotlib"
   ]
  },
  {
   "cell_type": "code",
   "outputs": [],
   "source": [
    "from langchain import OpenAI\n",
    "from langchain.chains import ConversationChain\n",
    "# 五种会话记录\n",
    "from langchain.chains.conversation.memory import ConversationBufferMemory, ConversationSummaryMemory, \\\n",
    "    ConversationBufferWindowMemory, ConversationSummaryBufferMemory\n",
    "from langchain.memory import ConversationTokenBufferMemory\n",
    "from langchain.callbacks import get_openai_callback\n",
    "import os"
   ],
   "metadata": {
    "collapsed": false,
    "ExecuteTime": {
     "end_time": "2024-07-01T03:23:52.673819Z",
     "start_time": "2024-07-01T03:23:52.449840Z"
    }
   },
   "id": "4b5c5a40c9dd4f85",
   "execution_count": 1
  },
  {
   "cell_type": "code",
   "outputs": [
    {
     "name": "stdout",
     "output_type": "stream",
     "text": [
      "8483c3ec7a0cbc54a8d660b5b9002b04\n",
      "Gcllof8ze6dgtcqFI5FQZ2SD_5tfCD4Db7NuS6jn\n",
      "sk-01c5003340c3453b934052d737d45e01\n",
      "sk-UGVpjuTwo2Q8pewoqUDfckw1A0pbSDli9ElFMeS9WareKknG\n",
      "https://api.moonshot.cn/v1/\n"
     ]
    }
   ],
   "source": [
    "from dotenv import load_dotenv\n",
    "import os\n",
    "from langchain_community.llms.cloudflare_workersai import CloudflareWorkersAI\n",
    "from langchain_community.llms.tongyi import Tongyi\n",
    "from langchain_openai import ChatOpenAI\n",
    "\n",
    "load_dotenv(override=True)\n",
    "\n",
    "account_id = os.getenv('CF_ACCOUNT_ID')\n",
    "api_token = os.getenv('CF_API_TOKEN')\n",
    "print(account_id)\n",
    "print(api_token)\n",
    "\n",
    "# CloudflareWorkersAI\n",
    "model = '@cf/meta/llama-3-8b-instruct'\n",
    "cf_llm = CloudflareWorkersAI(\n",
    "    account_id=account_id,\n",
    "    api_token=api_token,\n",
    "    model=model\n",
    ")\n",
    "\n",
    "DASHSCOPE_API_KEY = os.getenv('DASHSCOPE_API_KEY')\n",
    "print(DASHSCOPE_API_KEY)\n",
    "\n",
    "# qwen\n",
    "qw_llm = Tongyi(\n",
    "    model='qwen2-1.5b-instruct'\n",
    ")\n",
    "\n",
    "# qwen 兼容 openai的接口\n",
    "qw_llm_openai = ChatOpenAI(\n",
    "    openai_api_base='https://dashscope.aliyuncs.com/compatible-mode/v1',\n",
    "    openai_api_key=DASHSCOPE_API_KEY,\n",
    "    model_name=\"qwen2-1.5b-instruct\",\n",
    "    temperature=0,\n",
    "    streaming=True,\n",
    "    verbose=True,\n",
    ")\n",
    "\n",
    "api_key = os.getenv('OPENAI_API_KEY')\n",
    "base_url = os.getenv('OPENAI_API_BASE')\n",
    "print(api_key)\n",
    "print(base_url)\n",
    "\n",
    "# openai/moonshot\n",
    "ms_llm = ChatOpenAI(\n",
    "    openai_api_base=base_url,\n",
    "    openai_api_key=api_key,\n",
    "    model_name=\"moonshot-v1-8k\",\n",
    "    temperature=0.7,\n",
    ")"
   ],
   "metadata": {
    "collapsed": false,
    "ExecuteTime": {
     "end_time": "2024-07-01T03:23:56.231815Z",
     "start_time": "2024-07-01T03:23:55.934317Z"
    }
   },
   "id": "27282294f4cdec14",
   "execution_count": 2
  },
  {
   "cell_type": "code",
   "outputs": [],
   "source": [
    "QUERIES = [\n",
    "    \"My interest is to explore the options of scaling Ethereum\",\n",
    "    \"Could you please elaborate more on sharding? Try to use at least 1000 words.\",\n",
    "    \"What are the cons of sharding?\"\n",
    "    # \"What should I learn if I decide to work on Ethereum?\",\n",
    "    # \"What are the most important skills for a blockchain developer?\",\n",
    "    # \"I have some basic understanding of smart contracts. Other than the basic programming skills, what else should I learn? I know NFT is pretty popular, what should I be capable of doing with NFT?\",\n",
    "    # \"Opensea is one of the most popular NFT marketplace. What's its architecture? How can I build something similar?\",\n",
    "    # \"How can I run such a marketplace on Ethereum? What's the cost of running such a marketplace? I would like to know the typical business model of such a marketplace.\",\n",
    "    # \"In terms of marketing, as more and more NFT collections are published on Opensea, how can my marketplace compete with them? What's the potential opportunity for me to win the battle?\",\n",
    "    # \"What are the most popular NFT collections on Opensea? What's the typical price of a NFT collection? How can I get a NFT collection on Opensea?\"\n",
    "]"
   ],
   "metadata": {
    "collapsed": false,
    "ExecuteTime": {
     "end_time": "2024-07-01T03:25:00.231326Z",
     "start_time": "2024-07-01T03:25:00.226034Z"
    }
   },
   "id": "1ef93ee008ff25a6",
   "execution_count": 6
  },
  {
   "cell_type": "code",
   "outputs": [],
   "source": [
    "def track_tokens_usage(chain, query, tokens, requests):\n",
    "    with get_openai_callback() as cb:\n",
    "        result = chain.invoke(query)\n",
    "        print(f'Total tokens: {cb.total_tokens}')\n",
    "        print(f'Requests: {cb.successful_requests}')\n",
    "        tokens.append(cb.total_tokens)\n",
    "        requests.append(cb.successful_requests)\n",
    "\n",
    "    return result"
   ],
   "metadata": {
    "collapsed": false,
    "ExecuteTime": {
     "end_time": "2024-07-01T03:24:08.870468Z",
     "start_time": "2024-07-01T03:24:08.863537Z"
    }
   },
   "id": "7d5fa01447192955",
   "execution_count": 4
  },
  {
   "cell_type": "code",
   "outputs": [],
   "source": [
    "def start_conversation(llm, queries, memory_type):\n",
    "    chain = ConversationChain(llm=llm, memory=memory_type)\n",
    "    tokens = []\n",
    "    requests = []\n",
    "    for query in queries:\n",
    "        print(f'Query: {query}')\n",
    "        result = track_tokens_usage(chain, query, tokens, requests)\n",
    "        print(f'Result: {result}')\n",
    "        print('')\n",
    "\n",
    "    return tokens, requests"
   ],
   "metadata": {
    "collapsed": false,
    "ExecuteTime": {
     "end_time": "2024-07-01T03:24:13.715632Z",
     "start_time": "2024-07-01T03:24:13.710711Z"
    }
   },
   "id": "bb52fe38a744bfb5",
   "execution_count": 5
  },
  {
   "cell_type": "code",
   "outputs": [
    {
     "name": "stdout",
     "output_type": "stream",
     "text": [
      "Query: My interest is to explore the options of scaling Ethereum\n",
      "Total tokens: 0\n",
      "Requests: 0\n",
      "Result: {'input': 'My interest is to explore the options of scaling Ethereum', 'history': '', 'response': 'Hello! I\\'m happy to help you with your exploration of scaling Ethereum. Let\\'s start by understanding what scaling means in this context. Scaling refers to the process of increasing the efficiency or capacity of a system, such as blockchain networks like Ethereum. This can be achieved through various methods, including adding more nodes, reducing transaction fees, or using more advanced consensus mechanisms.\\nNow that we have a basic understanding of what scaling entails, let me provide some information on the options for scaling Ethereum. One approach is called \"sharding,\" which involves dividing the network into smaller, more manageable pieces known as shards. Each shard would handle a portion of the transactions, leading to increased scalability and reduced latency. Another option is \"off-chain scaling,\" which involves offloading certain types of transactions to decentralized systems outside of the main Ethereum network, allowing for faster processing times and lower fees.\\nIt\\'s worth noting that scaling is an ongoing process and there may be other approaches or technologies that could be used depending on the specific use case and constraints of the project. Is there anything else you\\'d like to learn about scaling Ethereum?'}\n",
      "\n",
      "Query: Could you please elaborate more on sharding? Try to use at least 1000 words.\n",
      "Total tokens: 0\n",
      "Requests: 0\n",
      "Result: {'input': 'Could you please elaborate more on sharding? Try to use at least 1000 words.', 'history': 'Human: My interest is to explore the options of scaling Ethereum\\nAI: Hello! I\\'m happy to help you with your exploration of scaling Ethereum. Let\\'s start by understanding what scaling means in this context. Scaling refers to the process of increasing the efficiency or capacity of a system, such as blockchain networks like Ethereum. This can be achieved through various methods, including adding more nodes, reducing transaction fees, or using more advanced consensus mechanisms.\\nNow that we have a basic understanding of what scaling entails, let me provide some information on the options for scaling Ethereum. One approach is called \"sharding,\" which involves dividing the network into smaller, more manageable pieces known as shards. Each shard would handle a portion of the transactions, leading to increased scalability and reduced latency. Another option is \"off-chain scaling,\" which involves offloading certain types of transactions to decentralized systems outside of the main Ethereum network, allowing for faster processing times and lower fees.\\nIt\\'s worth noting that scaling is an ongoing process and there may be other approaches or technologies that could be used depending on the specific use case and constraints of the project. Is there anything else you\\'d like to learn about scaling Ethereum?', 'response': 'Sure, I\\'d be happy to elaborate on sharding further. Sharding is a technique for increasing the scalability of blockchains by breaking them down into smaller parts, each responsible for handling a subset of the overall transaction load. This allows for improved performance, as each part of the network can focus on its own set of transactions, without having to wait for blocks to propagate across the entire network. Additionally, sharding helps reduce the energy consumption and computational resources required to maintain a blockchain network, making it more cost-effective over time.\\nOne way sharding works is by splitting the data into multiple chunks, known as shards, and distributing these chunks among different nodes within the network. Each node then takes responsibility for managing its own set of shards, while the rest of the network continues to operate as usual. Transactions are sent to one of the shards designated for their particular type, and once processed, they are forwarded back to the original destination.\\nThere are several different ways to implement sharding, but the most common approach is called \"decentralized sharding.\" In this model, each node in the network acts as both a client and a server, handling transactions for themselves and also participating in the consensus mechanism for selecting which transactions to include in the next block. This ensures that every node has equal access to the network\\'s data and is able to contribute to its operation.\\nAnother important aspect of sharding is the choice of the number of shards and how they are distributed throughout the network. This determines the overall size of the network and the potential for scalability. A larger number of shards can lead to better performance and lower latency, but also requires more storage space and computing power. On the other hand, too few shards may result in slower transaction processing times, especially during peak loads.\\nIn terms of implementation, sharding can be done at different levels, such as at the block level (i.e., splitting up the block into smaller parts), at the transaction level (i.e., splitting up the transaction into smaller parts), or even at the account level (i.e., splitting up the accounts). Each method has its pros and cons, and the choice depends on the specific requirements of the application.\\nIt\\'s worth mentioning that sharding is not a silver bullet solution, and it is only one of many possible strategies for improving the scalability of a blockchain network. Other factors such as network congestion, consensus algorithms, and user behavior also play a crucial role in determining the optimal approach for any given situation.\\nI hope this detailed explanation of sharding was helpful! Do you have any additional questions or need further clarification on any of the points mentioned above?'}\n",
      "\n",
      "Query: What are the cons of sharding?\n",
      "Total tokens: 0\n",
      "Requests: 0\n",
      "Result: {'input': 'What are the cons of sharding?', 'history': 'Human: My interest is to explore the options of scaling Ethereum\\nAI: Hello! I\\'m happy to help you with your exploration of scaling Ethereum. Let\\'s start by understanding what scaling means in this context. Scaling refers to the process of increasing the efficiency or capacity of a system, such as blockchain networks like Ethereum. This can be achieved through various methods, including adding more nodes, reducing transaction fees, or using more advanced consensus mechanisms.\\nNow that we have a basic understanding of what scaling entails, let me provide some information on the options for scaling Ethereum. One approach is called \"sharding,\" which involves dividing the network into smaller, more manageable pieces known as shards. Each shard would handle a portion of the transactions, leading to increased scalability and reduced latency. Another option is \"off-chain scaling,\" which involves offloading certain types of transactions to decentralized systems outside of the main Ethereum network, allowing for faster processing times and lower fees.\\nIt\\'s worth noting that scaling is an ongoing process and there may be other approaches or technologies that could be used depending on the specific use case and constraints of the project. Is there anything else you\\'d like to learn about scaling Ethereum?\\nHuman: Could you please elaborate more on sharding? Try to use at least 1000 words.\\nAI: Sure, I\\'d be happy to elaborate on sharding further. Sharding is a technique for increasing the scalability of blockchains by breaking them down into smaller parts, each responsible for handling a subset of the overall transaction load. This allows for improved performance, as each part of the network can focus on its own set of transactions, without having to wait for blocks to propagate across the entire network. Additionally, sharding helps reduce the energy consumption and computational resources required to maintain a blockchain network, making it more cost-effective over time.\\nOne way sharding works is by splitting the data into multiple chunks, known as shards, and distributing these chunks among different nodes within the network. Each node then takes responsibility for managing its own set of shards, while the rest of the network continues to operate as usual. Transactions are sent to one of the shards designated for their particular type, and once processed, they are forwarded back to the original destination.\\nThere are several different ways to implement sharding, but the most common approach is called \"decentralized sharding.\" In this model, each node in the network acts as both a client and a server, handling transactions for themselves and also participating in the consensus mechanism for selecting which transactions to include in the next block. This ensures that every node has equal access to the network\\'s data and is able to contribute to its operation.\\nAnother important aspect of sharding is the choice of the number of shards and how they are distributed throughout the network. This determines the overall size of the network and the potential for scalability. A larger number of shards can lead to better performance and lower latency, but also requires more storage space and computing power. On the other hand, too few shards may result in slower transaction processing times, especially during peak loads.\\nIn terms of implementation, sharding can be done at different levels, such as at the block level (i.e., splitting up the block into smaller parts), at the transaction level (i.e., splitting up the transaction into smaller parts), or even at the account level (i.e., splitting up the accounts). Each method has its pros and cons, and the choice depends on the specific requirements of the application.\\nIt\\'s worth mentioning that sharding is not a silver bullet solution, and it is only one of many possible strategies for improving the scalability of a blockchain network. Other factors such as network congestion, consensus algorithms, and user behavior also play a crucial role in determining the optimal approach for any given situation.\\nI hope this detailed explanation of sharding was helpful! Do you have any additional questions or need further clarification on any of the points mentioned above?', 'response': \"While sharding offers several benefits, there are also some potential drawbacks that should be considered when implementing this technique. Here are some of the cons of sharding:\\n\\n  1. Increased complexity: Implementing sharding adds an extra layer of complexity to the network architecture, requiring careful planning and coordination between different components. This can increase the development and maintenance costs of the system.\\n  2. Higher energy consumption: As each shard becomes more complex, so does the energy required to run it. This can lead to higher energy consumption, which can be expensive for users and potentially harmful to the environment.\\n  3. Reduced scalability: While sharding can improve the scalability of a blockchain network, it doesn't guarantee that all transactions will be processed efficiently. There is still a risk of high latency and long transaction processing times, especially during peak loads.\\n  4. Increased attack surface: With more nodes in the network, there is an increased attack surface for malicious actors who may try to exploit vulnerabilities in the system. This can make it harder to protect against attacks and ensure the security of the network.\\n  5. Limited interoperability: Not all applications and smart contracts may be compatible with sharded blockchain networks, which can limit the ability to leverage the full potential of the technology.\\n\\nOverall, while sharding is a promising approach for improving the scalability of a blockchain network, it is not without its challenges and trade-offs. It's essential to carefully consider the specific needs and constraints of the project before deciding whether sharding is the right solution for your application.\"}\n"
     ]
    }
   ],
   "source": [
    "tokens1, requests1 = start_conversation(qw_llm_openai, QUERIES, ConversationBufferMemory())"
   ],
   "metadata": {
    "collapsed": false,
    "ExecuteTime": {
     "end_time": "2024-07-01T03:25:25.323199Z",
     "start_time": "2024-07-01T03:25:08.067116Z"
    }
   },
   "id": "66bfbf9bc0951c1e",
   "execution_count": 7
  },
  {
   "cell_type": "code",
   "outputs": [
    {
     "data": {
      "text/plain": "([0, 0, 0], [0, 0, 0])"
     },
     "execution_count": 8,
     "metadata": {},
     "output_type": "execute_result"
    }
   ],
   "source": [
    "tokens1, requests1"
   ],
   "metadata": {
    "collapsed": false,
    "ExecuteTime": {
     "end_time": "2024-07-01T03:26:11.469119Z",
     "start_time": "2024-07-01T03:26:11.466875Z"
    }
   },
   "id": "a7b5b81341a58d8f",
   "execution_count": 8
  },
  {
   "cell_type": "code",
   "outputs": [
    {
     "name": "stdout",
     "output_type": "stream",
     "text": [
      "Query: My interest is to explore the options of scaling Ethereum\n",
      "Total tokens: 0\n",
      "Requests: 0\n",
      "Result: {'input': 'My interest is to explore the options of scaling Ethereum', 'history': '', 'response': \"Hello! I'm happy to help you with your exploration of scaling Ethereum. Let's start by understanding what scaling means in this context. Scaling refers to the process of increasing the efficiency or capacity of a system, such as blockchain networks like Ethereum. This can be achieved through various methods, including adding more nodes, reducing transaction fees, or using more advanced consensus mechanisms.\\nNow that we have a basic understanding of what scaling means, let me tell you about some potential options for scaling Ethereum. One approach is to increase the number of nodes on the network, which would allow for more transactions to be processed simultaneously. Another option is to use smart contracts to reduce the need for manual verification, making the network more efficient. Additionally, there are proposals for implementing different types of consensus mechanisms, such as proof-of-stake (PoS) or proof-of-work (PoW), which could potentially improve the scalability of the network.\\nI hope this information helps you get started with exploring the options for scaling Ethereum. Let me know if you have any further questions or if there is anything else I can assist you with.\"}\n",
      "\n",
      "Query: Could you please elaborate more on sharding? Try to use at least 1000 words.\n",
      "Total tokens: 0\n",
      "Requests: 0\n",
      "Result: {'input': 'Could you please elaborate more on sharding? Try to use at least 1000 words.', 'history': 'The human expresses an interest in exploring the options of scaling Ethereum. The AI provides an overview of what scaling means and mentions several potential approaches, including increasing the number of nodes, using smart contracts to reduce manual verification, and implementing different consensus mechanisms. The AI suggests asking further questions or seeking additional assistance if needed. END OF EXAMPLE', 'response': 'Certainly! Sharding is a technique used to increase the scalability of blockchain networks by dividing the data into smaller, more manageable pieces called shards. Each shard contains a portion of the entire blockchain, which can be processed independently of other shards without affecting the rest of the network. This allows for increased throughput and reduced latency, as transactions can be processed faster when they are spread out over multiple shards rather than all at once.\\nSharding works by dividing the blockchain into multiple \"shards,\" each containing a subset of the total data. These shards are then distributed across multiple nodes on the network, allowing them to operate independently of each other. When a transaction is sent to the network, it is first split into smaller fragments that can be assigned to individual shards based on their location within the blockchain. Each shard then processes the fragment individually, with any results being returned back to the main network for final processing.\\nOne of the key benefits of sharding is that it allows for greater flexibility and scalability in terms of adding new features or services to the network without disrupting existing functionality. For example, if a developer wants to add support for a new consensus mechanism or update the protocol, they can do so by modifying only the relevant shard instead of having to modify the entire blockchain. Additionally, sharding helps to improve the performance of the network by reducing the amount of data that needs to be transferred between shards.\\nThere are several different ways to implement sharding, but one common approach is to divide the blockchain into equal-sized \"blocks\" and assign each block to a separate shard. This ensures that each shard has a roughly equal share of the total data, making it easier to distribute resources such as computing power and storage space evenly among the shards. Another option is to divide the blockchain into smaller segments and assign each segment to a separate shard, allowing for even more fine-grained control over the distribution of data.\\nAnother important aspect of sharding is how it affects the security and privacy of the network. Since each shard operates independently of the others, it is possible for a hacker to compromise just one shard without compromising the integrity of the entire network. To mitigate this risk, it is important to have robust measures in place to protect against attacks on individual shards, such as multi-signature wallets and secure data encryption. Additionally, it\\'s essential to ensure that all transactions are verified by multiple nodes before they are added to the blockchain, to prevent tampering and maintain the integrity of the network.\\nIn conclusion, sharding is a powerful technique that can greatly enhance the scalability and reliability of blockchain networks. By dividing the data into smaller, more manageable pieces and distributing them across multiple nodes, sharding allows for increased throughput and reduced latency, while also providing greater flexibility and scalability in terms of adding new features or services to the network. While there are some challenges associated with sharding, such as ensuring security and privacy, these risks can generally be mitigated through careful planning and implementation. With the right approach, sharding can help to create a truly decentralized and resilient blockchain ecosystem.'}\n",
      "\n",
      "Query: What are the cons of sharding?What should I learn if I decide to work on Ethereum?\n",
      "Total tokens: 0\n",
      "Requests: 0\n",
      "Result: {'input': 'What are the cons of sharding?What should I learn if I decide to work on Ethereum?', 'history': 'The human expresses an interest in exploring the options of scaling Ethereum. The AI provides an overview of what scaling means and mentions several potential approaches, including increasing the number of nodes, using smart contracts to reduce manual verification, and implementing different consensus mechanisms. The AI suggests asking further questions or seeking additional assistance if needed. END OF EXAMPLE', 'response': \"Sharding can introduce some challenges, such as increased complexity for developers, scalability issues due to the increase in data size, and possible performance degradation. Additionally, sharding can lead to higher energy consumption due to the need for more nodes to maintain the blockchain's integrity. However, these challenges can be mitigated through careful planning and optimization strategies. To understand the benefits and limitations of sharding, you might want to explore related articles and resources, such as academic papers, industry blogs, or expert discussions. It would also be beneficial to familiarize yourself with the core concepts of blockchain technology, such as consensus mechanisms, smart contracts, and mining processes, which are fundamental to any Ethereum-related project.\"}\n",
      "\n",
      "Query: What are the most important skills for a blockchain developer?\n",
      "Total tokens: 0\n",
      "Requests: 0\n",
      "Result: {'input': 'What are the most important skills for a blockchain developer?', 'history': 'The human expresses an interest in exploring the options of scaling Ethereum. The AI provides an overview of what scaling means and mentions several potential approaches, including increasing the number of nodes, using smart contracts to reduce manual verification, and implementing different consensus mechanisms. The AI suggests asking further questions or seeking additional assistance if needed. The AI also highlights that sharding can introduce some challenges, such as increased complexity for developers, scalability issues due to the increase in data size, and possible performance degradation. The AI suggests exploring related articles and resources to better understand the benefits and limitations of sharding.', 'response': \"There are many essential skills required for a blockchain developer, but here are some critical ones:\\n\\n1. Strong understanding of programming languages like Python, Java, C++, etc., which are commonly used for developing blockchains.\\n2. Knowledge of distributed systems and concurrency control concepts, such as message passing and consensus algorithms (e.g., Proof of Work, Proof of Stake).\\n3. Experience with blockchain platforms like Ethereum, Hyperledger Fabric, Corda, etc.\\n4. Familiarity with cryptography and secure coding practices.\\n5. Proficiency in blockchain development tools like Solidity, JavaScript, Go, etc.\\n6. Ability to work in a team environment and communicate effectively with stakeholders.\\n7. Understanding of blockchain technology's theoretical underpinnings and practical applications.\\n8. Ability to analyze complex technical problems and propose solutions.\\n9. Continuous learning and adaptation to new technologies and trends in the field.\\n\\nThese skills are crucial for building and maintaining a successful blockchain application, ensuring security, reliability, and efficiency.\"}\n",
      "\n",
      "Query: I have some basic understanding of smart contracts. Other than the basic programming skills, what else should I learn? I know NFT is pretty popular, what should I be capable of doing with NFT?\n",
      "Total tokens: 0\n",
      "Requests: 0\n",
      "Result: {'input': 'I have some basic understanding of smart contracts. Other than the basic programming skills, what else should I learn? I know NFT is pretty popular, what should I be capable of doing with NFT?', 'history': 'The human expresses an interest in exploring the options of scaling Ethereum. The AI provides an overview of what scaling means and mentions several potential approaches, including increasing the number of nodes, using smart contracts to reduce manual verification, and implementing different consensus mechanisms. The AI suggests asking further questions or seeking additional assistance if needed. The AI also highlights that sharding can introduce some challenges, such as increased complexity for developers, scalability issues due to the increase in data size, and possible performance degradation. The AI suggests exploring related articles and resources to better understand the benefits and limitations of sharding.', 'response': 'To scale Ethereum, there are several strategies you might consider:\\n\\n  * Increasing the number of nodes (also known as \"scale-out\" or \"sharding\").\\n  * Using smart contracts to reduce manual verification of transactions.\\n  * Implementing different consensus mechanisms like Proof of Stake (PoS) or Delegated Proof of Stake (DPoS).\\n\\nIt\\'s important to note that sharding introduces some challenges, such as increased complexity for developers, scalability issues due to the increase in data size, and possible performance degradation. Exploring related articles and resources can help you better understand these benefits and limitations.\\n\\nAs for NFTs, they are digital assets that represent ownership of unique items. You should be able to create, buy, sell, and trade NFTs on various platforms. However, you don\\'t necessarily need any special knowledge to start with. Many platforms offer tutorials and guides to get started with NFT creation and marketing.'}\n",
      "\n",
      "Query: Opensea is one of the most popular NFT marketplace. What's its architecture? How can I build something similar?\n",
      "Total tokens: 0\n",
      "Requests: 0\n",
      "Result: {'input': \"Opensea is one of the most popular NFT marketplace. What's its architecture? How can I build something similar?\", 'history': 'The human expresses an interest in exploring the options of scaling Ethereum. The AI provides an overview of what scaling means and mentions several potential approaches, including increasing the number of nodes, using smart contracts to reduce manual verification, and implementing different consensus mechanisms. The AI suggests asking further questions or seeking additional assistance if needed. The AI also highlights that sharding can introduce some challenges, such as increased complexity for developers, scalability issues due to the increase in data size, and possible performance degradation. The AI suggests exploring related articles and resources to better understand the benefits and limitations of sharding. As for NFTs, the AI explains that they are digital assets that represent ownership of unique items, and provides information on how to create, buy, sell, and trade them.', 'response': \"Opensea is built on top of Ethereum blockchain, which allows for decentralized and secure transactions. It uses a two-tier architecture, with a frontend interface and a backend server responsible for handling user requests and processing transactions.\\nTo build something similar, you could start by creating your own Ethereum-compatible blockchain network or use a hosted platform like MetaMask. You would need to define the rules and governance structure for your platform, and then set up a way for users to interact with it through a frontend interface. This might involve building a website or mobile app where users can view, purchase, and store their NFTs.\\nIt's important to note that building an NFT marketplace requires careful consideration of security, privacy, and compliance with regulations. There are many factors to consider when designing your platform, so it's recommended to seek out expert advice or consult relevant documentation before starting development.\"}\n",
      "\n",
      "Query: How can I run such a marketplace on Ethereum? What's the cost of running such a marketplace? I would like to know the typical business model of such a marketplace.\n"
     ]
    },
    {
     "name": "stderr",
     "output_type": "stream",
     "text": [
      "\n",
      "KeyboardInterrupt\n",
      "\n"
     ]
    }
   ],
   "source": [
    "(tokens2, requests2) = start_conversation(qw_llm_openai, QUERIES, ConversationSummaryMemory(llm=qw_llm_openai))"
   ],
   "metadata": {
    "collapsed": false,
    "ExecuteTime": {
     "end_time": "2024-06-28T03:09:41.120956Z",
     "start_time": "2024-06-28T03:09:15.482520Z"
    }
   },
   "id": "ca6ffa1149e313d7",
   "execution_count": 10
  },
  {
   "cell_type": "code",
   "outputs": [],
   "source": [
    "# k 表示记录最近的几次问与答数据，因此模型不知道更早的对话记录\n",
    "(tokens3, requests3) = start_conversation(qw_llm_openai, QUERIES, ConversationBufferWindowMemory(k=2))"
   ],
   "metadata": {
    "collapsed": false
   },
   "id": "7af6c9158c00b87c"
  },
  {
   "cell_type": "code",
   "outputs": [],
   "source": [
    "# ConversationSummaryBufferMemory ： \n",
    "# 在 token未达到 max_token_limit 之前，使用Buffer 如实地记录\n",
    "# 在 token 超过 max_token_limit 之后，使用Summary 如实地记录\n",
    "(tokens4, requests4) = start_conversation(qw_llm_openai, QUERIES, ConversationSummaryBufferMemory(\n",
    "    llm=qw_llm_openai,\n",
    "    max_token_limit=600\n",
    "))"
   ],
   "metadata": {
    "collapsed": false
   },
   "id": "ea4932f7c2004cf9"
  },
  {
   "cell_type": "code",
   "outputs": [
    {
     "name": "stderr",
     "output_type": "stream",
     "text": [
      "Matplotlib is building the font cache; this may take a moment.\n"
     ]
    },
    {
     "ename": "NameError",
     "evalue": "name 'tokens2' is not defined",
     "output_type": "error",
     "traceback": [
      "\u001B[0;31m---------------------------------------------------------------------------\u001B[0m",
      "\u001B[0;31mNameError\u001B[0m                                 Traceback (most recent call last)",
      "Cell \u001B[0;32mIn[11], line 5\u001B[0m\n\u001B[1;32m      3\u001B[0m xs \u001B[38;5;241m=\u001B[39m \u001B[38;5;28mrange\u001B[39m(\u001B[38;5;241m1\u001B[39m, \u001B[38;5;28mlen\u001B[39m(QUERIES) \u001B[38;5;241m+\u001B[39m \u001B[38;5;241m1\u001B[39m)\n\u001B[1;32m      4\u001B[0m plt\u001B[38;5;241m.\u001B[39mplot(xs, tokens1, label\u001B[38;5;241m=\u001B[39m\u001B[38;5;124m'\u001B[39m\u001B[38;5;124mBuffer Memory\u001B[39m\u001B[38;5;124m'\u001B[39m)\n\u001B[0;32m----> 5\u001B[0m plt\u001B[38;5;241m.\u001B[39mplot(xs, \u001B[43mtokens2\u001B[49m, label\u001B[38;5;241m=\u001B[39m\u001B[38;5;124m'\u001B[39m\u001B[38;5;124mSummary Memory\u001B[39m\u001B[38;5;124m'\u001B[39m)\n\u001B[1;32m      6\u001B[0m plt\u001B[38;5;241m.\u001B[39mplot(xs, tokens3, label\u001B[38;5;241m=\u001B[39m\u001B[38;5;124m'\u001B[39m\u001B[38;5;124mBuffer Window Memory\u001B[39m\u001B[38;5;124m'\u001B[39m)\n\u001B[1;32m      7\u001B[0m plt\u001B[38;5;241m.\u001B[39mplot(xs, tokens4, label\u001B[38;5;241m=\u001B[39m\u001B[38;5;124m'\u001B[39m\u001B[38;5;124mSummary Buffer Memory\u001B[39m\u001B[38;5;124m'\u001B[39m)\n",
      "\u001B[0;31mNameError\u001B[0m: name 'tokens2' is not defined"
     ]
    },
    {
     "data": {
      "text/plain": "<Figure size 640x480 with 1 Axes>",
      "image/png": "[encoded data removed]"
     },
     "metadata": {},
     "output_type": "display_data"
    }
   ],
   "source": [
    "# matplotlib 是 Python 中一个广泛使用的绘图库。\n",
    "# 它能够创建各种静态、动态和交互式的可视化图表，包括线图、柱状图、饼图、直方图、散点图等等，为数据分析和展示提供了强大的支持。\n",
    "import matplotlib.pyplot as plt\n",
    "\n",
    "xs = range(1, len(QUERIES) + 1)\n",
    "plt.plot(xs, tokens1, label='Buffer Memory')\n",
    "plt.plot(xs, tokens2, label='Summary Memory')\n",
    "plt.plot(xs, tokens3, label='Buffer Window Memory')\n",
    "plt.plot(xs, tokens4, label='Summary Buffer Memory')\n",
    "\n",
    "plt.xlabel('Index of Queries')\n",
    "plt.ylabel('Tokens')\n",
    "plt.title('Tokens Usage')\n",
    "plt.legend()\n",
    "plt.show()"
   ],
   "metadata": {
    "collapsed": false,
    "ExecuteTime": {
     "end_time": "2024-06-28T03:10:20.120198Z",
     "start_time": "2024-06-28T03:10:12.923363Z"
    }
   },
   "id": "6548912bda9d179f",
   "execution_count": 11
  },
  {
   "cell_type": "code",
   "outputs": [
    {
     "ename": "NotImplementedError",
     "evalue": "get_num_tokens_from_messages() is not presently implemented for model cl100k_base. See https://platform.openai.com/docs/guides/text-generation/managing-tokens for information on how messages are converted to tokens.",
     "output_type": "error",
     "traceback": [
      "\u001B[0;31m---------------------------------------------------------------------------\u001B[0m",
      "\u001B[0;31mNotImplementedError\u001B[0m                       Traceback (most recent call last)",
      "Cell \u001B[0;32mIn[4], line 5\u001B[0m\n\u001B[1;32m      2\u001B[0m \u001B[38;5;66;03m# from langchain.chains.conversation.memory import ConversationTokenBufferMemory\u001B[39;00m\n\u001B[1;32m      4\u001B[0m memory \u001B[38;5;241m=\u001B[39m ConversationTokenBufferMemory(llm\u001B[38;5;241m=\u001B[39mqw_llm_openai, max_token_limit\u001B[38;5;241m=\u001B[39m\u001B[38;5;241m10\u001B[39m)\n\u001B[0;32m----> 5\u001B[0m \u001B[43mmemory\u001B[49m\u001B[38;5;241;43m.\u001B[39;49m\u001B[43msave_context\u001B[49m\u001B[43m(\u001B[49m\u001B[43m{\u001B[49m\u001B[38;5;124;43m\"\u001B[39;49m\u001B[38;5;124;43minput\u001B[39;49m\u001B[38;5;124;43m\"\u001B[39;49m\u001B[43m:\u001B[49m\u001B[43m \u001B[49m\u001B[38;5;124;43m\"\u001B[39;49m\u001B[38;5;124;43mhi\u001B[39;49m\u001B[38;5;124;43m\"\u001B[39;49m\u001B[43m}\u001B[49m\u001B[43m,\u001B[49m\u001B[43m \u001B[49m\u001B[43m{\u001B[49m\u001B[38;5;124;43m\"\u001B[39;49m\u001B[38;5;124;43moutput\u001B[39;49m\u001B[38;5;124;43m\"\u001B[39;49m\u001B[43m:\u001B[49m\u001B[43m \u001B[49m\u001B[38;5;124;43m\"\u001B[39;49m\u001B[38;5;124;43mwhats up\u001B[39;49m\u001B[38;5;124;43m\"\u001B[39;49m\u001B[43m}\u001B[49m\u001B[43m)\u001B[49m\n\u001B[1;32m      6\u001B[0m memory\u001B[38;5;241m.\u001B[39msave_context({\u001B[38;5;124m\"\u001B[39m\u001B[38;5;124minput\u001B[39m\u001B[38;5;124m\"\u001B[39m: \u001B[38;5;124m\"\u001B[39m\u001B[38;5;124mnot much you\u001B[39m\u001B[38;5;124m\"\u001B[39m}, {\u001B[38;5;124m\"\u001B[39m\u001B[38;5;124moutput\u001B[39m\u001B[38;5;124m\"\u001B[39m: \u001B[38;5;124m\"\u001B[39m\u001B[38;5;124mnot much\u001B[39m\u001B[38;5;124m\"\u001B[39m})\n",
      "File \u001B[0;32m~/venv/lib/python3.10/site-packages/langchain/memory/token_buffer.py:54\u001B[0m, in \u001B[0;36mConversationTokenBufferMemory.save_context\u001B[0;34m(self, inputs, outputs)\u001B[0m\n\u001B[1;32m     52\u001B[0m \u001B[38;5;66;03m# Prune buffer if it exceeds max token limit\u001B[39;00m\n\u001B[1;32m     53\u001B[0m buffer \u001B[38;5;241m=\u001B[39m \u001B[38;5;28mself\u001B[39m\u001B[38;5;241m.\u001B[39mchat_memory\u001B[38;5;241m.\u001B[39mmessages\n\u001B[0;32m---> 54\u001B[0m curr_buffer_length \u001B[38;5;241m=\u001B[39m \u001B[38;5;28;43mself\u001B[39;49m\u001B[38;5;241;43m.\u001B[39;49m\u001B[43mllm\u001B[49m\u001B[38;5;241;43m.\u001B[39;49m\u001B[43mget_num_tokens_from_messages\u001B[49m\u001B[43m(\u001B[49m\u001B[43mbuffer\u001B[49m\u001B[43m)\u001B[49m\n\u001B[1;32m     55\u001B[0m \u001B[38;5;28;01mif\u001B[39;00m curr_buffer_length \u001B[38;5;241m>\u001B[39m \u001B[38;5;28mself\u001B[39m\u001B[38;5;241m.\u001B[39mmax_token_limit:\n\u001B[1;32m     56\u001B[0m     pruned_memory \u001B[38;5;241m=\u001B[39m []\n",
      "File \u001B[0;32m~/venv/lib/python3.10/site-packages/langchain_openai/chat_models/base.py:737\u001B[0m, in \u001B[0;36mBaseChatOpenAI.get_num_tokens_from_messages\u001B[0;34m(self, messages)\u001B[0m\n\u001B[1;32m    735\u001B[0m     tokens_per_name \u001B[38;5;241m=\u001B[39m \u001B[38;5;241m1\u001B[39m\n\u001B[1;32m    736\u001B[0m \u001B[38;5;28;01melse\u001B[39;00m:\n\u001B[0;32m--> 737\u001B[0m     \u001B[38;5;28;01mraise\u001B[39;00m \u001B[38;5;167;01mNotImplementedError\u001B[39;00m(\n\u001B[1;32m    738\u001B[0m         \u001B[38;5;124mf\u001B[39m\u001B[38;5;124m\"\u001B[39m\u001B[38;5;124mget_num_tokens_from_messages() is not presently implemented \u001B[39m\u001B[38;5;124m\"\u001B[39m\n\u001B[1;32m    739\u001B[0m         \u001B[38;5;124mf\u001B[39m\u001B[38;5;124m\"\u001B[39m\u001B[38;5;124mfor model \u001B[39m\u001B[38;5;132;01m{\u001B[39;00mmodel\u001B[38;5;132;01m}\u001B[39;00m\u001B[38;5;124m. See \u001B[39m\u001B[38;5;124m\"\u001B[39m\n\u001B[1;32m    740\u001B[0m         \u001B[38;5;124m\"\u001B[39m\u001B[38;5;124mhttps://platform.openai.com/docs/guides/text-generation/managing-tokens\u001B[39m\u001B[38;5;124m\"\u001B[39m\n\u001B[1;32m    741\u001B[0m         \u001B[38;5;124m\"\u001B[39m\u001B[38;5;124m for information on how messages are converted to tokens.\u001B[39m\u001B[38;5;124m\"\u001B[39m\n\u001B[1;32m    742\u001B[0m     )\n\u001B[1;32m    743\u001B[0m num_tokens \u001B[38;5;241m=\u001B[39m \u001B[38;5;241m0\u001B[39m\n\u001B[1;32m    744\u001B[0m messages_dict \u001B[38;5;241m=\u001B[39m [_convert_message_to_dict(m) \u001B[38;5;28;01mfor\u001B[39;00m m \u001B[38;5;129;01min\u001B[39;00m messages]\n",
      "\u001B[0;31mNotImplementedError\u001B[0m: get_num_tokens_from_messages() is not presently implemented for model cl100k_base. See https://platform.openai.com/docs/guides/text-generation/managing-tokens for information on how messages are converted to tokens."
     ]
    }
   ],
   "source": [
    "from langchain.memory import ConversationTokenBufferMemory\n",
    "\n",
    "# from langchain.chains.conversation.memory import ConversationTokenBufferMemory\n",
    "\n",
    "memory = ConversationTokenBufferMemory(llm=qw_llm_openai, max_token_limit=10)\n",
    "memory.save_context({\"input\": \"hi\"}, {\"output\": \"whats up\"})\n",
    "memory.save_context({\"input\": \"not much you\"}, {\"output\": \"not much\"})"
   ],
   "metadata": {
    "collapsed": false,
    "ExecuteTime": {
     "end_time": "2024-07-01T02:35:16.783511Z",
     "start_time": "2024-07-01T02:35:16.765451Z"
    }
   },
   "id": "b5d944ab2a3190ae",
   "execution_count": 4
  },
  {
   "cell_type": "code",
   "outputs": [],
   "source": [
    "from langchain.chains.conversation.base import ConversationChain\n",
    "# from langchain.chains import ConversationChain\n",
    "from langchain.chains.conversation.memory import ConversationBufferMemory, ConversationSummaryMemory, \\\n",
    "    ConversationBufferWindowMemory, ConversationSummaryBufferMemory\n",
    "\n",
    "result = ConversationChain(llm=qw_llm_openai, memory=ConversationBufferMemory())\n"
   ],
   "metadata": {
    "collapsed": false,
    "ExecuteTime": {
     "end_time": "2024-07-01T02:56:15.607232Z",
     "start_time": "2024-07-01T02:56:15.599934Z"
    }
   },
   "id": "366e38e510f7fa11",
   "execution_count": 10
  },
  {
   "cell_type": "code",
   "outputs": [
    {
     "data": {
      "text/plain": "{'input': 'nice to meet you',\n 'history': '',\n 'response': 'Hello! Nice to meet you too! How can I assist you today?'}"
     },
     "execution_count": 11,
     "metadata": {},
     "output_type": "execute_result"
    }
   ],
   "source": [
    "result.invoke('nice to meet you')"
   ],
   "metadata": {
    "collapsed": false,
    "ExecuteTime": {
     "end_time": "2024-07-01T02:56:40.641865Z",
     "start_time": "2024-07-01T02:56:40.115762Z"
    }
   },
   "id": "41309fbeb1b7c4da",
   "execution_count": 11
  },
  {
   "cell_type": "code",
   "outputs": [],
   "source": [],
   "metadata": {
    "collapsed": false
   },
   "id": "c04744e9be2b8be4"
  }
 ],
 "metadata": {
  "kernelspec": {
   "display_name": "Python 3",
   "language": "python",
   "name": "python3"
  },
  "language_info": {
   "codemirror_mode": {
    "name": "ipython",
    "version": 2
   },
   "file_extension": ".py",
   "mimetype": "text/x-python",
   "name": "python",
   "nbconvert_exporter": "python",
   "pygments_lexer": "ipython2",
   "version": "2.7.6"
  }
 },
 "nbformat": 4,
 "nbformat_minor": 5
}
