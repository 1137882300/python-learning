{
 "cells": [
  {
   "cell_type": "code",
   "execution_count": 1,
   "id": "initial_id",
   "metadata": {
    "collapsed": true,
    "ExecuteTime": {
     "end_time": "2024-04-30T09:37:37.649686Z",
     "start_time": "2024-04-30T09:37:37.023276Z"
    }
   },
   "outputs": [
    {
     "name": "stdout",
     "output_type": "stream",
     "text": [
      "sk-UGVpjuTwo2Q8pewoqUDfckw1A0pbSDli9ElFMeS9WareKknG\n",
      "https://api.moonshot.cn/v1/\n"
     ]
    }
   ],
   "source": [
    "from dotenv import load_dotenv\n",
    "import os\n",
    "from langchain_openai import ChatOpenAI\n",
    "\n",
    "# 加载当前目录下的.env文件\n",
    "# load_dotenv()\n",
    "# load_dotenv(override=True) 会重新读取.env\n",
    "load_dotenv(override=True)\n",
    "\n",
    "# 现在可以像访问普通环境变量一样访问.env文件中的变量了\n",
    "api_key = os.getenv('OPENAI_API_KEY')\n",
    "base_url = os.getenv('OPENAI_API_BASE')\n",
    "\n",
    "print(api_key)\n",
    "print(base_url)\n",
    "\n",
    "chat = ChatOpenAI(\n",
    "    openai_api_base=base_url,\n",
    "    openai_api_key=api_key,\n",
    "    model_name=\"moonshot-v1-8k\",\n",
    "    temperature=0.7,\n",
    ")"
   ]
  },
  {
   "cell_type": "code",
   "outputs": [
    {
     "data": {
      "text/plain": "[{'name': 'count_emails',\n  'args': {'last_n_days': 5},\n  'id': 'count_emails:0',\n  'output': 10}]"
     },
     "execution_count": 2,
     "metadata": {},
     "output_type": "execute_result"
    }
   ],
   "source": [
    "from operator import itemgetter\n",
    "from typing import Dict, List\n",
    "\n",
    "from langchain_core.messages import AIMessage\n",
    "from langchain_core.runnables import Runnable, RunnablePassthrough\n",
    "from langchain_core.tools import tool\n",
    "\n",
    "\n",
    "@tool\n",
    "def count_emails(last_n_days: int) -> int:\n",
    "    \"\"\"Multiply two integers together.\"\"\"\n",
    "    return last_n_days * 2\n",
    "\n",
    "\n",
    "@tool\n",
    "def send_email(message: str, recipient: str) -> str:\n",
    "    \"Add two integers.\"\n",
    "    return f\"Successfully sent email to {recipient}.\"\n",
    "\n",
    "\n",
    "tools = [count_emails, send_email]\n",
    "llm_with_tools = chat.bind_tools(tools)\n",
    "\n",
    "\n",
    "def call_tools(msg: AIMessage) -> List[Dict]:\n",
    "    \"\"\"Simple sequential tool calling helper.\"\"\"\n",
    "    tool_map = {tool.name: tool for tool in tools}\n",
    "    tool_calls = msg.tool_calls.copy()\n",
    "    for tool_call in tool_calls:\n",
    "        tool_call[\"output\"] = tool_map[tool_call[\"name\"]].invoke(tool_call[\"args\"])\n",
    "    return tool_calls\n",
    "\n",
    "\n",
    "chain = llm_with_tools | call_tools\n",
    "chain.invoke(\"how many emails did i get in the last 5 days?\")"
   ],
   "metadata": {
    "collapsed": false,
    "ExecuteTime": {
     "end_time": "2024-04-30T09:37:59.035903Z",
     "start_time": "2024-04-30T09:37:56.247538Z"
    }
   },
   "id": "bededbca2b3ceb2c",
   "execution_count": 2
  },
  {
   "cell_type": "code",
   "outputs": [],
   "source": [
    "# Adding human approval\n",
    "import json\n",
    "\n",
    "\n",
    "def human_approval(msg: AIMessage) -> Runnable:\n",
    "    tool_strs = \"\\n\\n\".join(\n",
    "        json.dumps(tool_call, indent=2) for tool_call in msg.tool_calls\n",
    "    )\n",
    "    input_msg = (\n",
    "        f\"Do you approve of the following tool invocations\\n\\n{tool_strs}\\n\\n\"\n",
    "        \"Anything except 'Y'/'Yes' (case-insensitive) will be treated as a no.\"\n",
    "    )\n",
    "    resp = input(input_msg)\n",
    "    if resp.lower() not in (\"yes\", \"y\"):\n",
    "        raise ValueError(f\"Tool invocations not approved:\\n\\n{tool_strs}\")\n",
    "    return msg"
   ],
   "metadata": {
    "collapsed": false,
    "ExecuteTime": {
     "end_time": "2024-04-30T09:39:39.631183Z",
     "start_time": "2024-04-30T09:39:39.627662Z"
    }
   },
   "id": "e9e970050e59358f",
   "execution_count": 3
  },
  {
   "cell_type": "code",
   "outputs": [
    {
     "data": {
      "text/plain": "[{'name': 'count_emails',\n  'args': {'last_n_days': 5},\n  'id': 'count_emails:0',\n  'output': 10}]"
     },
     "execution_count": 4,
     "metadata": {},
     "output_type": "execute_result"
    }
   ],
   "source": [
    "chain = llm_with_tools | human_approval | call_tools\n",
    "chain.invoke(\"how many emails did i get in the last 5 days?\")"
   ],
   "metadata": {
    "collapsed": false,
    "ExecuteTime": {
     "end_time": "2024-04-30T09:39:57.283629Z",
     "start_time": "2024-04-30T09:39:42.439240Z"
    }
   },
   "id": "4634b0fb4ed84421",
   "execution_count": 4
  },
  {
   "cell_type": "code",
   "outputs": [
    {
     "data": {
      "text/plain": "[{'name': 'send_email',\n  'args': {'recipient': 'sally@gmail.com', 'message': \"What's up homie\"},\n  'id': 'send_email:0',\n  'output': 'Successfully sent email to sally@gmail.com.'}]"
     },
     "execution_count": 5,
     "metadata": {},
     "output_type": "execute_result"
    }
   ],
   "source": [
    "chain.invoke(\"Send sally@gmail.com an email saying 'What's up homie'\")"
   ],
   "metadata": {
    "collapsed": false,
    "ExecuteTime": {
     "end_time": "2024-04-30T09:40:46.044659Z",
     "start_time": "2024-04-30T09:40:35.706661Z"
    }
   },
   "id": "1419e9cab61f0121",
   "execution_count": 5
  },
  {
   "cell_type": "code",
   "outputs": [],
   "source": [],
   "metadata": {
    "collapsed": false
   },
   "id": "ec3f4d08310feab4"
  }
 ],
 "metadata": {
  "kernelspec": {
   "display_name": "Python 3",
   "language": "python",
   "name": "python3"
  },
  "language_info": {
   "codemirror_mode": {
    "name": "ipython",
    "version": 2
   },
   "file_extension": ".py",
   "mimetype": "text/x-python",
   "name": "python",
   "nbconvert_exporter": "python",
   "pygments_lexer": "ipython2",
   "version": "2.7.6"
  }
 },
 "nbformat": 4,
 "nbformat_minor": 5
}
