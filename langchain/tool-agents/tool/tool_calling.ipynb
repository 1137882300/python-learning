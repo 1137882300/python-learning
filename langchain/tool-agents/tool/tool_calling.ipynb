{
 "cells": [
  {
   "cell_type": "markdown",
   "source": [
    "Passing tools to chat models\n",
    "将工具传递给聊天模型"
   ],
   "metadata": {
    "collapsed": false
   },
   "id": "2f161b4ee556f5ff"
  },
  {
   "cell_type": "markdown",
   "source": [
    "支持工具调用功能的聊天模型实现一个 .bind_tools 方法，该方法接收函数、Pydantic 模型或 LangChain 工具对象的列表，\n",
    "并以预期格式将它们绑定到聊天模型。聊天模型的后续调用将在其对 LLM."
   ],
   "metadata": {
    "collapsed": false
   },
   "id": "a3653ecec39aeac3"
  },
  {
   "cell_type": "markdown",
   "source": [
    "下面我们实现简单的算术工具："
   ],
   "metadata": {
    "collapsed": false
   },
   "id": "4da088f651037792"
  },
  {
   "cell_type": "code",
   "outputs": [],
   "source": [
    "# 基本配置\n",
    "from langchain_openai import ChatOpenAI\n",
    "import os\n",
    "from dotenv import load_dotenv\n",
    "\n",
    "load_dotenv(override=True)\n",
    "\n",
    "qw_llm_openai = ChatOpenAI(\n",
    "    openai_api_base=os.getenv('DASHSCOPE_API_BASE'),\n",
    "    openai_api_key=os.getenv('DASHSCOPE_API_KEY'),\n",
    "    model_name=\"qwen2-1.5b-instruct\",\n",
    "    temperature=0,\n",
    "    streaming=True,\n",
    ")\n",
    "\n",
    "ms_llm_openai = ChatOpenAI(\n",
    "    openai_api_base=os.getenv('MOONSHOT_API_BASE'),\n",
    "    openai_api_key=os.getenv('MOONSHOT_API_KEY'),\n",
    "    model_name=\"moonshot-v1-8k\",\n",
    "    temperature=0,\n",
    "    streaming=True,\n",
    ")\n",
    "\n",
    "cf_llm_openai = ChatOpenAI(\n",
    "    openai_api_base=os.getenv('CF_API_BASE'),\n",
    "    openai_api_key=os.getenv('CF_API_TOKEN'),\n",
    "    model_name=\"@cf/meta/llama-3-8b-instruct\",\n",
    "    temperature=0,\n",
    "    streaming=True,\n",
    ")\n",
    "\n",
    "groq_llm_openai = ChatOpenAI(\n",
    "    openai_api_base=os.getenv('GROQ_API_BASE'),\n",
    "    openai_api_key=os.getenv('GROQ_API_KEY'),\n",
    "    model_name=\"llama3-8b-8192\",\n",
    "    temperature=0,\n",
    "    streaming=True,\n",
    ")"
   ],
   "metadata": {
    "collapsed": false,
    "ExecuteTime": {
     "end_time": "2024-07-19T02:23:20.573401Z",
     "start_time": "2024-07-19T02:23:20.109874Z"
    }
   },
   "id": "bce863628df6330f",
   "execution_count": 1
  },
  {
   "cell_type": "code",
   "outputs": [],
   "source": [
    "def add(a: int, b: int) -> int:\n",
    "    \"\"\"Adds a and b.\"\"\"\n",
    "    return a + b\n",
    "\n",
    "\n",
    "def multiply(a: int, b: int) -> int:\n",
    "    \"\"\"Multiplies a and b.\"\"\"\n",
    "    return a * b\n",
    "\n",
    "\n",
    "tools = [add, multiply]"
   ],
   "metadata": {
    "collapsed": false
   },
   "id": "b49bde07f6b3b815"
  },
  {
   "cell_type": "markdown",
   "source": [
    "LangChain还实现了一个 @tool 装饰器，允许进一步控制工具模式，例如工具名称和参数描述。有关详细信息，请参阅此处的操作指南。"
   ],
   "metadata": {
    "collapsed": false
   },
   "id": "2f80a1d21f592883"
  },
  {
   "cell_type": "markdown",
   "source": [
    "我们还可以使用 Pydantic 定义模式："
   ],
   "metadata": {
    "collapsed": false
   },
   "id": "9b1bf53314e73bbd"
  },
  {
   "cell_type": "code",
   "outputs": [],
   "source": [
    "from langchain_core.pydantic_v1 import BaseModel, Field\n",
    "\n",
    "\n",
    "# Note that the docstrings here are crucial, as they will be passed along\n",
    "# to the model along with the class name.\n",
    "class Add(BaseModel):\n",
    "    \"\"\"Add two integers together.\"\"\"\n",
    "\n",
    "    a: int = Field(..., description=\"First integer\")\n",
    "    b: int = Field(..., description=\"Second integer\")\n",
    "\n",
    "\n",
    "class Multiply(BaseModel):\n",
    "    \"\"\"Multiply two integers together.\"\"\"\n",
    "\n",
    "    a: int = Field(..., description=\"First integer\")\n",
    "    b: int = Field(..., description=\"Second integer\")\n",
    "\n",
    "\n",
    "tools = [Add, Multiply]"
   ],
   "metadata": {
    "collapsed": false,
    "ExecuteTime": {
     "end_time": "2024-07-19T02:40:45.797479Z",
     "start_time": "2024-07-19T02:40:45.793261Z"
    }
   },
   "id": "bade69f0334e256b",
   "execution_count": 2
  },
  {
   "cell_type": "code",
   "outputs": [
    {
     "data": {
      "text/plain": "AIMessage(content=\"The result of multiplying 3 by 12 is 36. Let's calculate it.\", additional_kwargs={'tool_calls': [{'index': 0, 'id': 'call_a8c6480217cb4a7fb2cd49', 'function': {'arguments': '{\"a\": 3, \"b\": 12}', 'name': 'Multiply'}, 'type': 'function'}]}, response_metadata={'finish_reason': 'tool_calls', 'model_name': 'qwen2-1.5b-instruct'}, id='run-e5589ba1-d44c-4dc0-b622-e8c16569103c-0', tool_calls=[{'name': 'Multiply', 'args': {'a': 3, 'b': 12}, 'id': 'call_a8c6480217cb4a7fb2cd49', 'type': 'tool_call'}])"
     },
     "execution_count": 3,
     "metadata": {},
     "output_type": "execute_result"
    }
   ],
   "source": [
    "llm_with_tools = qw_llm_openai.bind_tools(tools)\n",
    "\n",
    "query = \"What is 3 * 12?\"\n",
    "\n",
    "llm_with_tools.invoke(query)"
   ],
   "metadata": {
    "collapsed": false,
    "ExecuteTime": {
     "end_time": "2024-07-19T02:40:52.379089Z",
     "start_time": "2024-07-19T02:40:51.383572Z"
    }
   },
   "id": "d1802b64a628d08d",
   "execution_count": 3
  },
  {
   "cell_type": "code",
   "outputs": [
    {
     "data": {
      "text/plain": "[{'name': 'Multiply',\n  'args': {'a': 3, 'b': 12},\n  'id': 'call_ea348dcdde8d4556840ab4',\n  'type': 'tool_call'}]"
     },
     "execution_count": 4,
     "metadata": {},
     "output_type": "execute_result"
    }
   ],
   "source": [
    "query = \"What is 3 * 12? Also, what is 11 + 49?\"\n",
    "# 如果LLM响应中包含工具调用，则它们将作为属性中 .tool_calls 的工具调用对象列表附加到相应的消息或消息块中。\n",
    "# A ToolCall 是一个类型化字典，包括工具名称、参数值字典和（可选）标识符。没有工具调用的消息默认为此属性的空列表。\n",
    "llm_with_tools.invoke(query).tool_calls"
   ],
   "metadata": {
    "collapsed": false,
    "ExecuteTime": {
     "end_time": "2024-07-19T03:02:00.468687Z",
     "start_time": "2024-07-19T03:01:58.672562Z"
    }
   },
   "id": "90c7e03b0da07a18",
   "execution_count": 4
  },
  {
   "cell_type": "markdown",
   "source": [
    "该 .tool_calls 属性应包含有效的工具调用。请注意，有时，模型提供程序可能会输出格式错误的工具调用（例如，无效 JSON 的参数）。\n",
    "在这些情况下分析失败时，InvalidToolCall 的实例将填充到属性中 .invalid_tool_calls 。\n",
    "可以 InvalidToolCall 有名称、字符串参数、标识符和错误消息。\n",
    "\n",
    "如果需要，输出分析器可以进一步处理输出。例如，我们可以使用 PydanticToolsParser 将 .tool_calls 属性上填充的现有值转换回原始 Pydantic 类："
   ],
   "metadata": {
    "collapsed": false
   },
   "id": "282dbe4d1dac813f"
  },
  {
   "cell_type": "code",
   "outputs": [
    {
     "data": {
      "text/plain": "[Multiply(a=3, b=12)]"
     },
     "execution_count": 5,
     "metadata": {},
     "output_type": "execute_result"
    }
   ],
   "source": [
    "from langchain_core.output_parsers import PydanticToolsParser\n",
    "\n",
    "chain = llm_with_tools | PydanticToolsParser(tools=[Multiply, Add])\n",
    "chain.invoke(query)"
   ],
   "metadata": {
    "collapsed": false,
    "ExecuteTime": {
     "end_time": "2024-07-19T03:03:20.258164Z",
     "start_time": "2024-07-19T03:03:19.551618Z"
    }
   },
   "id": "6fff2493f30d93f2",
   "execution_count": 5
  },
  {
   "cell_type": "code",
   "outputs": [],
   "source": [],
   "metadata": {
    "collapsed": false
   },
   "id": "d2408b13d9eea8fe"
  }
 ],
 "metadata": {
  "kernelspec": {
   "display_name": "Python 3",
   "language": "python",
   "name": "python3"
  },
  "language_info": {
   "codemirror_mode": {
    "name": "ipython",
    "version": 2
   },
   "file_extension": ".py",
   "mimetype": "text/x-python",
   "name": "python",
   "nbconvert_exporter": "python",
   "pygments_lexer": "ipython2",
   "version": "2.7.6"
  }
 },
 "nbformat": 4,
 "nbformat_minor": 5
}
