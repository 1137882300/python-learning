{
 "cells": [
  {
   "cell_type": "code",
   "outputs": [],
   "source": [
    "# 基本配置\n",
    "from langchain_openai import ChatOpenAI\n",
    "import os\n",
    "from dotenv import load_dotenv\n",
    "\n",
    "load_dotenv(override=True)\n",
    "\n",
    "qw_llm_openai = ChatOpenAI(\n",
    "    openai_api_base=os.getenv('DASHSCOPE_API_BASE'),\n",
    "    openai_api_key=os.getenv('DASHSCOPE_API_KEY'),\n",
    "    model_name=\"qwen2-1.5b-instruct\",\n",
    "    temperature=0,\n",
    "    streaming=True,\n",
    ")\n",
    "\n",
    "ms_llm_openai = ChatOpenAI(\n",
    "    openai_api_base=os.getenv('MOONSHOT_API_BASE'),\n",
    "    openai_api_key=os.getenv('MOONSHOT_API_KEY'),\n",
    "    model_name=\"moonshot-v1-8k\",\n",
    "    temperature=0,\n",
    "    streaming=True,\n",
    ")\n",
    "\n",
    "cf_llm_openai = ChatOpenAI(\n",
    "    openai_api_base=os.getenv('CF_API_BASE'),\n",
    "    openai_api_key=os.getenv('CF_API_TOKEN'),\n",
    "    model_name=\"@cf/meta/llama-3-8b-instruct\",\n",
    "    temperature=0,\n",
    "    streaming=True,\n",
    ")\n",
    "\n",
    "groq_llm_openai = ChatOpenAI(\n",
    "    openai_api_base=os.getenv('GROQ_API_BASE'),\n",
    "    openai_api_key=os.getenv('GROQ_API_KEY'),\n",
    "    model_name=\"llama3-8b-8192\",\n",
    "    temperature=0,\n",
    "    streaming=True,\n",
    ")"
   ],
   "metadata": {
    "collapsed": false,
    "ExecuteTime": {
     "end_time": "2024-07-15T10:17:59.696269Z",
     "start_time": "2024-07-15T10:17:59.583271Z"
    }
   },
   "id": "74f6fc9f9de2cdb5",
   "execution_count": 10
  },
  {
   "cell_type": "code",
   "outputs": [],
   "source": [
    "from langchain_community.embeddings import DashScopeEmbeddings\n",
    "from dotenv import load_dotenv\n",
    "import os\n",
    "\n",
    "load_dotenv(override=True)\n",
    "qw_embedding = DashScopeEmbeddings(\n",
    "    model=\"text-embedding-v2\", dashscope_api_key=os.getenv('DASHSCOPE_API_KEY')\n",
    ")"
   ],
   "metadata": {
    "collapsed": false,
    "ExecuteTime": {
     "end_time": "2024-07-15T10:17:05.290809Z",
     "start_time": "2024-07-15T10:17:05.234938Z"
    }
   },
   "id": "8924e305bd4d65f1",
   "execution_count": 8
  },
  {
   "cell_type": "code",
   "execution_count": 3,
   "id": "initial_id",
   "metadata": {
    "collapsed": true,
    "ExecuteTime": {
     "end_time": "2024-07-15T09:54:30.041158Z",
     "start_time": "2024-07-15T09:54:30.037700Z"
    }
   },
   "outputs": [],
   "source": [
    "import autogen\n",
    "\n",
    "config_list = autogen.config_list_from_json(\n",
    "    \"OAI_CONFIG_LIST\",\n",
    "    filter_dict={\n",
    "        \"model\": [\"qwen-plus\"],\n",
    "    },\n",
    ")\n",
    "#\n",
    "# Sample content of OAI_CONFIG_LIST file below:\n",
    "#\n",
    "# [\n",
    "#   {\n",
    "#     \"model\": \"gpt-4\",\n",
    "#     \"api_key\": \"your openai api key\"\n",
    "#   }\n",
    "# ]\n",
    "#"
   ]
  },
  {
   "cell_type": "code",
   "outputs": [],
   "source": [
    "gpt4_api_key = config_list[0][\"api_key\"]"
   ],
   "metadata": {
    "collapsed": false,
    "ExecuteTime": {
     "end_time": "2024-07-15T09:54:31.851204Z",
     "start_time": "2024-07-15T09:54:31.848567Z"
    }
   },
   "id": "498d11dfc3bb48c8",
   "execution_count": 4
  },
  {
   "cell_type": "code",
   "outputs": [
    {
     "data": {
      "text/plain": "'sk-01c5003340c3453b934052d737d45e01'"
     },
     "execution_count": 5,
     "metadata": {},
     "output_type": "execute_result"
    }
   ],
   "source": [
    "gpt4_api_key"
   ],
   "metadata": {
    "collapsed": false,
    "ExecuteTime": {
     "end_time": "2024-07-15T09:54:35.673094Z",
     "start_time": "2024-07-15T09:54:35.633297Z"
    }
   },
   "id": "e82bddbe780f853a",
   "execution_count": 5
  },
  {
   "cell_type": "code",
   "outputs": [],
   "source": [
    "from langchain.vectorstores import Chroma\n",
    "from langchain.embeddings import OpenAIEmbeddings\n",
    "from langchain.text_splitter import RecursiveCharacterTextSplitter\n",
    "from langchain.document_loaders import PyPDFLoader\n",
    "from langchain.memory import ConversationBufferMemory\n",
    "from langchain.llms import OpenAI\n",
    "# from langchain.chains import ConversationalRetrievalChain"
   ],
   "metadata": {
    "collapsed": false,
    "ExecuteTime": {
     "end_time": "2024-07-15T10:16:45.488925Z",
     "start_time": "2024-07-15T10:16:45.221953Z"
    }
   },
   "id": "7eb7c4bfdef65d09",
   "execution_count": 6
  },
  {
   "cell_type": "code",
   "outputs": [],
   "source": [
    "loaders = [PyPDFLoader('./uniswap_v3.pdf')]\n",
    "docs = []\n",
    "for l in loaders:\n",
    "    docs.extend(l.load())\n",
    "text_splitter = RecursiveCharacterTextSplitter(chunk_size=1000)\n",
    "docs = text_splitter.split_documents(docs)"
   ],
   "metadata": {
    "collapsed": false,
    "ExecuteTime": {
     "end_time": "2024-07-15T10:16:46.810345Z",
     "start_time": "2024-07-15T10:16:46.446496Z"
    }
   },
   "id": "af3bc0b0764fa6f2",
   "execution_count": 7
  },
  {
   "cell_type": "code",
   "outputs": [
    {
     "data": {
      "text/plain": "['31f3642b-9dbc-4f33-8a46-2c3d2ac4b039',\n '01ead5d0-5179-4680-9521-73405d1e77d2',\n '57210b9c-0374-4766-9da7-e7b12a20cab5',\n '62e7e29f-c953-4838-ac6e-4c5c1752bfcf',\n '02c80417-ff10-43b3-a469-fbc46b5977d4',\n '887bcc34-6535-4983-a605-071df82049f4',\n '144a981e-9fb0-4a49-8c17-3045c8f0ce70',\n 'bcfd17de-8fe1-4da5-95b8-4a0d20bd6080',\n '4712fdac-159d-4e8e-855e-31d84d1a34bf',\n '6458415d-5405-47df-b099-979ad6d0c26f',\n 'd5a551e6-7f3d-41c1-be23-992410bb0121',\n '89ae7476-d3c7-4c52-84e4-dbbca72b07fb',\n '1fc7fe89-79a5-462d-a44b-6344fbcfab90',\n '88e479ab-4e94-4803-8618-8364f7704ccf',\n 'b48b3b4f-4237-457b-8dbb-d03f75734f1b',\n '3c80d683-bfc2-4c58-9686-1b6a10aa2218',\n 'c5e1d8cc-b74c-45db-8c2a-d103ee65986c',\n 'a43cc7ec-c3af-4b61-bb71-1ffdccb8629f',\n '914e5fcb-10f6-45c9-9863-eb71ba8c8cae',\n 'af068d74-cc81-4c8c-8c66-710f2f292bd4',\n 'aa46289b-0422-4e5a-a120-2a40cc7149ea',\n 'e13fa78c-84ce-4ffa-a686-8e6a07df9ccd',\n '1bd8bd2f-fb2e-4439-8493-aab8a967b81a',\n 'ea071099-6dbe-4e60-9ef2-53d14105687f',\n '2c2b5d3a-2e15-485e-a9d8-8b3620e5858d',\n 'aac3f016-11c1-426e-8a9b-193dc677c8b5',\n '662df7cb-3912-4dea-a7b2-63093665058d',\n '77759088-8559-4215-9ce3-2df11301a04e',\n '5d8d1762-d44a-49f1-b191-747f4a2033f3',\n '226cc163-bfae-4ee2-9267-048068557261',\n 'bb527e39-170d-4042-bc3e-9039064ea3b8',\n 'da1d163f-772c-440a-ac7d-f9672bc6313f',\n '34b7490d-4fd9-4503-970f-6de57ee99e02',\n '2daad892-8010-49b9-9983-e747c90fd7db',\n '1533eea3-6492-4b1e-b3d4-e906939bb262',\n '443a34b4-607e-4eb5-ac55-443304c6aa64',\n '11a1c12b-ac97-4f44-a932-369e3814a576',\n '0da0b2fb-34ad-4429-a36a-d5e870e4fdb9',\n '2ad61845-0764-4109-869f-ab0a912b3db1',\n 'f459d70d-eb00-4c1c-af85-1a79c1a4cde9',\n '1f359a16-5a1f-48b4-94f4-3728eb8e6557',\n '429e30bb-ec3b-465c-9fef-d47c3188b22f',\n 'b37021e0-6274-472d-bee3-b54d34eb3c98',\n '558a4f2e-1883-4580-a04b-f9ab7674718b',\n '188e14c2-655f-4c11-88ad-92ac2af1c52b',\n '97bde7bf-601d-4d31-bd04-06fa025fe97d',\n 'cc458234-73b6-4a37-a6c0-c3302a5a8270',\n 'ffac13c1-c71b-4c95-8c9d-ddd9c8020fa9',\n 'a19ce6f1-de4d-4cd3-bbd0-5e5e7a78d339',\n '786db89f-a948-4e0e-be74-93368015774f',\n 'cd89b187-d0d4-4342-9356-1bcd7fcb1e40']"
     },
     "execution_count": 9,
     "metadata": {},
     "output_type": "execute_result"
    }
   ],
   "source": [
    "vectorstore = Chroma(\n",
    "    collection_name=\"full_documents\",\n",
    "    embedding_function=qw_embedding\n",
    ")\n",
    "vectorstore.add_documents(docs)"
   ],
   "metadata": {
    "collapsed": false,
    "ExecuteTime": {
     "end_time": "2024-07-15T10:17:14.074535Z",
     "start_time": "2024-07-15T10:17:10.872991Z"
    }
   },
   "id": "60061781f36ffb4a",
   "execution_count": 9
  },
  {
   "cell_type": "code",
   "outputs": [],
   "source": [
    "from langchain.chains.conversational_retrieval.base import ConversationalRetrievalChain\n",
    "\n",
    "qa = ConversationalRetrievalChain.from_llm(\n",
    "    qw_llm_openai,\n",
    "    vectorstore.as_retriever(),\n",
    "    memory=ConversationBufferMemory(memory_key=\"chat_history\", return_messages=True)\n",
    ")"
   ],
   "metadata": {
    "collapsed": false,
    "ExecuteTime": {
     "end_time": "2024-07-15T10:18:10.034215Z",
     "start_time": "2024-07-15T10:18:09.969625Z"
    }
   },
   "id": "fa0ea01dc82ea2cf",
   "execution_count": 11
  },
  {
   "cell_type": "code",
   "outputs": [],
   "source": [
    "result = qa.invoke(({\"question\": \"What is uniswap?\"}))"
   ],
   "metadata": {
    "collapsed": false,
    "ExecuteTime": {
     "end_time": "2024-07-15T10:19:58.790626Z",
     "start_time": "2024-07-15T10:19:57.590715Z"
    }
   },
   "id": "9f678a46fc598e6f",
   "execution_count": 12
  },
  {
   "cell_type": "code",
   "outputs": [
    {
     "data": {
      "text/plain": "{'question': 'What is uniswap?',\n 'chat_history': [HumanMessage(content='What is uniswap?'),\n  AIMessage(content='Uniswap is a non-custodial automated market maker (AMM) implemented for the Ethereum Virtual Machine (EVM). It was developed by Hayden Adams, Noah Zinsmeister, Moody Salem, River Keefer, Dan Robinson, and others. The core version of Uniswap v3 was released in March 2021.')],\n 'answer': 'Uniswap is a non-custodial automated market maker (AMM) implemented for the Ethereum Virtual Machine (EVM). It was developed by Hayden Adams, Noah Zinsmeister, Moody Salem, River Keefer, Dan Robinson, and others. The core version of Uniswap v3 was released in March 2021.'}"
     },
     "execution_count": 13,
     "metadata": {},
     "output_type": "execute_result"
    }
   ],
   "source": [
    "result"
   ],
   "metadata": {
    "collapsed": false,
    "ExecuteTime": {
     "end_time": "2024-07-15T10:20:02.607565Z",
     "start_time": "2024-07-15T10:20:02.602964Z"
    }
   },
   "id": "1d13b532254f7463",
   "execution_count": 13
  },
  {
   "cell_type": "code",
   "outputs": [],
   "source": [
    "def answer_uniswap_question(question):\n",
    "    response = qa.invoke({\"question\": question})\n",
    "    return response[\"answer\"]"
   ],
   "metadata": {
    "collapsed": false,
    "ExecuteTime": {
     "end_time": "2024-07-15T10:20:20.843736Z",
     "start_time": "2024-07-15T10:20:20.836428Z"
    }
   },
   "id": "f6cc72ac931148fd",
   "execution_count": 14
  },
  {
   "cell_type": "markdown",
   "source": [
    "4. Set up AutoGen user agent and assistant agent with function calling enabled."
   ],
   "metadata": {
    "collapsed": false
   },
   "id": "a38d545990b69d4d"
  },
  {
   "cell_type": "code",
   "outputs": [],
   "source": [
    "llm_config = {\n",
    "    \"request_timeout\": 600,\n",
    "    \"seed\": 42,\n",
    "    \"config_list\": config_list,\n",
    "    \"temperature\": 0,\n",
    "    \"functions\": [\n",
    "        {\n",
    "            \"name\": \"answer_uniswap_question\",\n",
    "            \"description\": \"Answer any Uniswap related questions\",\n",
    "            \"parameters\": {\n",
    "                \"type\": \"object\",\n",
    "                \"properties\": {\n",
    "                    \"question\": {\n",
    "                        \"type\": \"string\",\n",
    "                        \"description\": \"The question to ask in relation to Uniswap protocol\",\n",
    "                    }\n",
    "                },\n",
    "                \"required\": [\"question\"],\n",
    "            },\n",
    "        }\n",
    "    ],\n",
    "}"
   ],
   "metadata": {
    "collapsed": false,
    "ExecuteTime": {
     "end_time": "2024-07-15T10:20:33.323726Z",
     "start_time": "2024-07-15T10:20:33.318008Z"
    }
   },
   "id": "1fd68acf0e24f43d",
   "execution_count": 15
  },
  {
   "cell_type": "code",
   "outputs": [],
   "source": [
    "# create an AssistantAgent instance named \"assistant\"\n",
    "assistant = autogen.AssistantAgent(\n",
    "    name=\"assistant\",\n",
    "    llm_config=llm_config,\n",
    ")\n",
    "# create a UserProxyAgent instance named \"user_proxy\"\n",
    "user_proxy = autogen.UserProxyAgent(\n",
    "    name=\"user_proxy\",\n",
    "    human_input_mode=\"NEVER\",\n",
    "    max_consecutive_auto_reply=10,\n",
    "    code_execution_config={\"work_dir\": \".\", \"use_docker\": False},\n",
    "    llm_config=llm_config,\n",
    "    system_message=\"\"\"Reply TERMINATE if the task has been solved at full satisfaction.\n",
    "Otherwise, reply CONTINUE, or the reason why the task is not solved yet.\"\"\",\n",
    "    function_map={\"answer_uniswap_question\": answer_uniswap_question}\n",
    ")"
   ],
   "metadata": {
    "collapsed": false,
    "ExecuteTime": {
     "end_time": "2024-07-15T10:22:20.059791Z",
     "start_time": "2024-07-15T10:22:19.994316Z"
    }
   },
   "id": "b4a0a9b4c75c4e70",
   "execution_count": 17
  },
  {
   "cell_type": "code",
   "outputs": [
    {
     "name": "stdout",
     "output_type": "stream",
     "text": [
      "\u001B[33muser_proxy\u001B[0m (to assistant):\n",
      "\n",
      "\n",
      "I'm writing a blog to introduce the version 3 of Uniswap protocol. Find the answers to the 3 questions below and write an introduction based on them.\n",
      "\n",
      "1. What is Uniswap?\n",
      "2. What are the main changes in Uniswap version 3?\n",
      "3. How to use Uniswap?\n",
      "\n",
      "Start the work now.\n",
      "\n",
      "\n",
      "--------------------------------------------------------------------------------\n"
     ]
    },
    {
     "ename": "TypeError",
     "evalue": "Completions.create() got an unexpected keyword argument 'request_timeout'",
     "output_type": "error",
     "traceback": [
      "\u001B[0;31m---------------------------------------------------------------------------\u001B[0m",
      "\u001B[0;31mTypeError\u001B[0m                                 Traceback (most recent call last)",
      "Cell \u001B[0;32mIn[18], line 2\u001B[0m\n\u001B[1;32m      1\u001B[0m \u001B[38;5;66;03m# the assistant receives a message from the user, which contains the task description\u001B[39;00m\n\u001B[0;32m----> 2\u001B[0m \u001B[43muser_proxy\u001B[49m\u001B[38;5;241;43m.\u001B[39;49m\u001B[43minitiate_chat\u001B[49m\u001B[43m(\u001B[49m\n\u001B[1;32m      3\u001B[0m \u001B[43m    \u001B[49m\u001B[43massistant\u001B[49m\u001B[43m,\u001B[49m\n\u001B[1;32m      4\u001B[0m \u001B[43m    \u001B[49m\u001B[43mmessage\u001B[49m\u001B[38;5;241;43m=\u001B[39;49m\u001B[38;5;124;43m\"\"\"\u001B[39;49m\n\u001B[1;32m      5\u001B[0m \u001B[38;5;124;43mI\u001B[39;49m\u001B[38;5;124;43m'\u001B[39;49m\u001B[38;5;124;43mm writing a blog to introduce the version 3 of Uniswap protocol. Find the answers to the 3 questions below and write an introduction based on them.\u001B[39;49m\n\u001B[1;32m      6\u001B[0m \n\u001B[1;32m      7\u001B[0m \u001B[38;5;124;43m1. What is Uniswap?\u001B[39;49m\n\u001B[1;32m      8\u001B[0m \u001B[38;5;124;43m2. What are the main changes in Uniswap version 3?\u001B[39;49m\n\u001B[1;32m      9\u001B[0m \u001B[38;5;124;43m3. How to use Uniswap?\u001B[39;49m\n\u001B[1;32m     10\u001B[0m \n\u001B[1;32m     11\u001B[0m \u001B[38;5;124;43mStart the work now.\u001B[39;49m\n\u001B[1;32m     12\u001B[0m \u001B[38;5;124;43m\"\"\"\u001B[39;49m\n\u001B[1;32m     13\u001B[0m \u001B[43m)\u001B[49m\n",
      "File \u001B[0;32m~/venv/lib/python3.10/site-packages/autogen/agentchat/conversable_agent.py:1018\u001B[0m, in \u001B[0;36mConversableAgent.initiate_chat\u001B[0;34m(self, recipient, clear_history, silent, cache, max_turns, summary_method, summary_args, message, **kwargs)\u001B[0m\n\u001B[1;32m   1016\u001B[0m     \u001B[38;5;28;01melse\u001B[39;00m:\n\u001B[1;32m   1017\u001B[0m         msg2send \u001B[38;5;241m=\u001B[39m \u001B[38;5;28mself\u001B[39m\u001B[38;5;241m.\u001B[39mgenerate_init_message(message, \u001B[38;5;241m*\u001B[39m\u001B[38;5;241m*\u001B[39mkwargs)\n\u001B[0;32m-> 1018\u001B[0m     \u001B[38;5;28;43mself\u001B[39;49m\u001B[38;5;241;43m.\u001B[39;49m\u001B[43msend\u001B[49m\u001B[43m(\u001B[49m\u001B[43mmsg2send\u001B[49m\u001B[43m,\u001B[49m\u001B[43m \u001B[49m\u001B[43mrecipient\u001B[49m\u001B[43m,\u001B[49m\u001B[43m \u001B[49m\u001B[43msilent\u001B[49m\u001B[38;5;241;43m=\u001B[39;49m\u001B[43msilent\u001B[49m\u001B[43m)\u001B[49m\n\u001B[1;32m   1019\u001B[0m summary \u001B[38;5;241m=\u001B[39m \u001B[38;5;28mself\u001B[39m\u001B[38;5;241m.\u001B[39m_summarize_chat(\n\u001B[1;32m   1020\u001B[0m     summary_method,\n\u001B[1;32m   1021\u001B[0m     summary_args,\n\u001B[1;32m   1022\u001B[0m     recipient,\n\u001B[1;32m   1023\u001B[0m     cache\u001B[38;5;241m=\u001B[39mcache,\n\u001B[1;32m   1024\u001B[0m )\n\u001B[1;32m   1025\u001B[0m \u001B[38;5;28;01mfor\u001B[39;00m agent \u001B[38;5;129;01min\u001B[39;00m [\u001B[38;5;28mself\u001B[39m, recipient]:\n",
      "File \u001B[0;32m~/venv/lib/python3.10/site-packages/autogen/agentchat/conversable_agent.py:655\u001B[0m, in \u001B[0;36mConversableAgent.send\u001B[0;34m(self, message, recipient, request_reply, silent)\u001B[0m\n\u001B[1;32m    653\u001B[0m valid \u001B[38;5;241m=\u001B[39m \u001B[38;5;28mself\u001B[39m\u001B[38;5;241m.\u001B[39m_append_oai_message(message, \u001B[38;5;124m\"\u001B[39m\u001B[38;5;124massistant\u001B[39m\u001B[38;5;124m\"\u001B[39m, recipient)\n\u001B[1;32m    654\u001B[0m \u001B[38;5;28;01mif\u001B[39;00m valid:\n\u001B[0;32m--> 655\u001B[0m     \u001B[43mrecipient\u001B[49m\u001B[38;5;241;43m.\u001B[39;49m\u001B[43mreceive\u001B[49m\u001B[43m(\u001B[49m\u001B[43mmessage\u001B[49m\u001B[43m,\u001B[49m\u001B[43m \u001B[49m\u001B[38;5;28;43mself\u001B[39;49m\u001B[43m,\u001B[49m\u001B[43m \u001B[49m\u001B[43mrequest_reply\u001B[49m\u001B[43m,\u001B[49m\u001B[43m \u001B[49m\u001B[43msilent\u001B[49m\u001B[43m)\u001B[49m\n\u001B[1;32m    656\u001B[0m \u001B[38;5;28;01melse\u001B[39;00m:\n\u001B[1;32m    657\u001B[0m     \u001B[38;5;28;01mraise\u001B[39;00m \u001B[38;5;167;01mValueError\u001B[39;00m(\n\u001B[1;32m    658\u001B[0m         \u001B[38;5;124m\"\u001B[39m\u001B[38;5;124mMessage can\u001B[39m\u001B[38;5;124m'\u001B[39m\u001B[38;5;124mt be converted into a valid ChatCompletion message. Either content or function_call must be provided.\u001B[39m\u001B[38;5;124m\"\u001B[39m\n\u001B[1;32m    659\u001B[0m     )\n",
      "File \u001B[0;32m~/venv/lib/python3.10/site-packages/autogen/agentchat/conversable_agent.py:818\u001B[0m, in \u001B[0;36mConversableAgent.receive\u001B[0;34m(self, message, sender, request_reply, silent)\u001B[0m\n\u001B[1;32m    816\u001B[0m \u001B[38;5;28;01mif\u001B[39;00m request_reply \u001B[38;5;129;01mis\u001B[39;00m \u001B[38;5;28;01mFalse\u001B[39;00m \u001B[38;5;129;01mor\u001B[39;00m request_reply \u001B[38;5;129;01mis\u001B[39;00m \u001B[38;5;28;01mNone\u001B[39;00m \u001B[38;5;129;01mand\u001B[39;00m \u001B[38;5;28mself\u001B[39m\u001B[38;5;241m.\u001B[39mreply_at_receive[sender] \u001B[38;5;129;01mis\u001B[39;00m \u001B[38;5;28;01mFalse\u001B[39;00m:\n\u001B[1;32m    817\u001B[0m     \u001B[38;5;28;01mreturn\u001B[39;00m\n\u001B[0;32m--> 818\u001B[0m reply \u001B[38;5;241m=\u001B[39m \u001B[38;5;28;43mself\u001B[39;49m\u001B[38;5;241;43m.\u001B[39;49m\u001B[43mgenerate_reply\u001B[49m\u001B[43m(\u001B[49m\u001B[43mmessages\u001B[49m\u001B[38;5;241;43m=\u001B[39;49m\u001B[38;5;28;43mself\u001B[39;49m\u001B[38;5;241;43m.\u001B[39;49m\u001B[43mchat_messages\u001B[49m\u001B[43m[\u001B[49m\u001B[43msender\u001B[49m\u001B[43m]\u001B[49m\u001B[43m,\u001B[49m\u001B[43m \u001B[49m\u001B[43msender\u001B[49m\u001B[38;5;241;43m=\u001B[39;49m\u001B[43msender\u001B[49m\u001B[43m)\u001B[49m\n\u001B[1;32m    819\u001B[0m \u001B[38;5;28;01mif\u001B[39;00m reply \u001B[38;5;129;01mis\u001B[39;00m \u001B[38;5;129;01mnot\u001B[39;00m \u001B[38;5;28;01mNone\u001B[39;00m:\n\u001B[1;32m    820\u001B[0m     \u001B[38;5;28mself\u001B[39m\u001B[38;5;241m.\u001B[39msend(reply, sender, silent\u001B[38;5;241m=\u001B[39msilent)\n",
      "File \u001B[0;32m~/venv/lib/python3.10/site-packages/autogen/agentchat/conversable_agent.py:1972\u001B[0m, in \u001B[0;36mConversableAgent.generate_reply\u001B[0;34m(self, messages, sender, **kwargs)\u001B[0m\n\u001B[1;32m   1970\u001B[0m     \u001B[38;5;28;01mcontinue\u001B[39;00m\n\u001B[1;32m   1971\u001B[0m \u001B[38;5;28;01mif\u001B[39;00m \u001B[38;5;28mself\u001B[39m\u001B[38;5;241m.\u001B[39m_match_trigger(reply_func_tuple[\u001B[38;5;124m\"\u001B[39m\u001B[38;5;124mtrigger\u001B[39m\u001B[38;5;124m\"\u001B[39m], sender):\n\u001B[0;32m-> 1972\u001B[0m     final, reply \u001B[38;5;241m=\u001B[39m \u001B[43mreply_func\u001B[49m\u001B[43m(\u001B[49m\u001B[38;5;28;43mself\u001B[39;49m\u001B[43m,\u001B[49m\u001B[43m \u001B[49m\u001B[43mmessages\u001B[49m\u001B[38;5;241;43m=\u001B[39;49m\u001B[43mmessages\u001B[49m\u001B[43m,\u001B[49m\u001B[43m \u001B[49m\u001B[43msender\u001B[49m\u001B[38;5;241;43m=\u001B[39;49m\u001B[43msender\u001B[49m\u001B[43m,\u001B[49m\u001B[43m \u001B[49m\u001B[43mconfig\u001B[49m\u001B[38;5;241;43m=\u001B[39;49m\u001B[43mreply_func_tuple\u001B[49m\u001B[43m[\u001B[49m\u001B[38;5;124;43m\"\u001B[39;49m\u001B[38;5;124;43mconfig\u001B[39;49m\u001B[38;5;124;43m\"\u001B[39;49m\u001B[43m]\u001B[49m\u001B[43m)\u001B[49m\n\u001B[1;32m   1973\u001B[0m     \u001B[38;5;28;01mif\u001B[39;00m logging_enabled():\n\u001B[1;32m   1974\u001B[0m         log_event(\n\u001B[1;32m   1975\u001B[0m             \u001B[38;5;28mself\u001B[39m,\n\u001B[1;32m   1976\u001B[0m             \u001B[38;5;124m\"\u001B[39m\u001B[38;5;124mreply_func_executed\u001B[39m\u001B[38;5;124m\"\u001B[39m,\n\u001B[0;32m   (...)\u001B[0m\n\u001B[1;32m   1980\u001B[0m             reply\u001B[38;5;241m=\u001B[39mreply,\n\u001B[1;32m   1981\u001B[0m         )\n",
      "File \u001B[0;32m~/venv/lib/python3.10/site-packages/autogen/agentchat/conversable_agent.py:1340\u001B[0m, in \u001B[0;36mConversableAgent.generate_oai_reply\u001B[0;34m(self, messages, sender, config)\u001B[0m\n\u001B[1;32m   1338\u001B[0m \u001B[38;5;28;01mif\u001B[39;00m messages \u001B[38;5;129;01mis\u001B[39;00m \u001B[38;5;28;01mNone\u001B[39;00m:\n\u001B[1;32m   1339\u001B[0m     messages \u001B[38;5;241m=\u001B[39m \u001B[38;5;28mself\u001B[39m\u001B[38;5;241m.\u001B[39m_oai_messages[sender]\n\u001B[0;32m-> 1340\u001B[0m extracted_response \u001B[38;5;241m=\u001B[39m \u001B[38;5;28;43mself\u001B[39;49m\u001B[38;5;241;43m.\u001B[39;49m\u001B[43m_generate_oai_reply_from_client\u001B[49m\u001B[43m(\u001B[49m\n\u001B[1;32m   1341\u001B[0m \u001B[43m    \u001B[49m\u001B[43mclient\u001B[49m\u001B[43m,\u001B[49m\u001B[43m \u001B[49m\u001B[38;5;28;43mself\u001B[39;49m\u001B[38;5;241;43m.\u001B[39;49m\u001B[43m_oai_system_message\u001B[49m\u001B[43m \u001B[49m\u001B[38;5;241;43m+\u001B[39;49m\u001B[43m \u001B[49m\u001B[43mmessages\u001B[49m\u001B[43m,\u001B[49m\u001B[43m \u001B[49m\u001B[38;5;28;43mself\u001B[39;49m\u001B[38;5;241;43m.\u001B[39;49m\u001B[43mclient_cache\u001B[49m\n\u001B[1;32m   1342\u001B[0m \u001B[43m\u001B[49m\u001B[43m)\u001B[49m\n\u001B[1;32m   1343\u001B[0m \u001B[38;5;28;01mreturn\u001B[39;00m (\u001B[38;5;28;01mFalse\u001B[39;00m, \u001B[38;5;28;01mNone\u001B[39;00m) \u001B[38;5;28;01mif\u001B[39;00m extracted_response \u001B[38;5;129;01mis\u001B[39;00m \u001B[38;5;28;01mNone\u001B[39;00m \u001B[38;5;28;01melse\u001B[39;00m (\u001B[38;5;28;01mTrue\u001B[39;00m, extracted_response)\n",
      "File \u001B[0;32m~/venv/lib/python3.10/site-packages/autogen/agentchat/conversable_agent.py:1359\u001B[0m, in \u001B[0;36mConversableAgent._generate_oai_reply_from_client\u001B[0;34m(self, llm_client, messages, cache)\u001B[0m\n\u001B[1;32m   1356\u001B[0m         all_messages\u001B[38;5;241m.\u001B[39mappend(message)\n\u001B[1;32m   1358\u001B[0m \u001B[38;5;66;03m# TODO: #1143 handle token limit exceeded error\u001B[39;00m\n\u001B[0;32m-> 1359\u001B[0m response \u001B[38;5;241m=\u001B[39m \u001B[43mllm_client\u001B[49m\u001B[38;5;241;43m.\u001B[39;49m\u001B[43mcreate\u001B[49m\u001B[43m(\u001B[49m\n\u001B[1;32m   1360\u001B[0m \u001B[43m    \u001B[49m\u001B[43mcontext\u001B[49m\u001B[38;5;241;43m=\u001B[39;49m\u001B[43mmessages\u001B[49m\u001B[43m[\u001B[49m\u001B[38;5;241;43m-\u001B[39;49m\u001B[38;5;241;43m1\u001B[39;49m\u001B[43m]\u001B[49m\u001B[38;5;241;43m.\u001B[39;49m\u001B[43mpop\u001B[49m\u001B[43m(\u001B[49m\u001B[38;5;124;43m\"\u001B[39;49m\u001B[38;5;124;43mcontext\u001B[39;49m\u001B[38;5;124;43m\"\u001B[39;49m\u001B[43m,\u001B[49m\u001B[43m \u001B[49m\u001B[38;5;28;43;01mNone\u001B[39;49;00m\u001B[43m)\u001B[49m\u001B[43m,\u001B[49m\u001B[43m \u001B[49m\u001B[43mmessages\u001B[49m\u001B[38;5;241;43m=\u001B[39;49m\u001B[43mall_messages\u001B[49m\u001B[43m,\u001B[49m\u001B[43m \u001B[49m\u001B[43mcache\u001B[49m\u001B[38;5;241;43m=\u001B[39;49m\u001B[43mcache\u001B[49m\u001B[43m,\u001B[49m\u001B[43m \u001B[49m\u001B[43magent\u001B[49m\u001B[38;5;241;43m=\u001B[39;49m\u001B[38;5;28;43mself\u001B[39;49m\n\u001B[1;32m   1361\u001B[0m \u001B[43m\u001B[49m\u001B[43m)\u001B[49m\n\u001B[1;32m   1362\u001B[0m extracted_response \u001B[38;5;241m=\u001B[39m llm_client\u001B[38;5;241m.\u001B[39mextract_text_or_completion_object(response)[\u001B[38;5;241m0\u001B[39m]\n\u001B[1;32m   1364\u001B[0m \u001B[38;5;28;01mif\u001B[39;00m extracted_response \u001B[38;5;129;01mis\u001B[39;00m \u001B[38;5;28;01mNone\u001B[39;00m:\n",
      "File \u001B[0;32m~/venv/lib/python3.10/site-packages/autogen/oai/client.py:722\u001B[0m, in \u001B[0;36mOpenAIWrapper.create\u001B[0;34m(self, **config)\u001B[0m\n\u001B[1;32m    720\u001B[0m \u001B[38;5;28;01mtry\u001B[39;00m:\n\u001B[1;32m    721\u001B[0m     request_ts \u001B[38;5;241m=\u001B[39m get_current_ts()\n\u001B[0;32m--> 722\u001B[0m     response \u001B[38;5;241m=\u001B[39m \u001B[43mclient\u001B[49m\u001B[38;5;241;43m.\u001B[39;49m\u001B[43mcreate\u001B[49m\u001B[43m(\u001B[49m\u001B[43mparams\u001B[49m\u001B[43m)\u001B[49m\n\u001B[1;32m    723\u001B[0m \u001B[38;5;28;01mexcept\u001B[39;00m APITimeoutError \u001B[38;5;28;01mas\u001B[39;00m err:\n\u001B[1;32m    724\u001B[0m     logger\u001B[38;5;241m.\u001B[39mdebug(\u001B[38;5;124mf\u001B[39m\u001B[38;5;124m\"\u001B[39m\u001B[38;5;124mconfig \u001B[39m\u001B[38;5;132;01m{\u001B[39;00mi\u001B[38;5;132;01m}\u001B[39;00m\u001B[38;5;124m timed out\u001B[39m\u001B[38;5;124m\"\u001B[39m, exc_info\u001B[38;5;241m=\u001B[39m\u001B[38;5;28;01mTrue\u001B[39;00m)\n",
      "File \u001B[0;32m~/venv/lib/python3.10/site-packages/autogen/oai/client.py:320\u001B[0m, in \u001B[0;36mOpenAIClient.create\u001B[0;34m(self, params)\u001B[0m\n\u001B[1;32m    318\u001B[0m     params \u001B[38;5;241m=\u001B[39m params\u001B[38;5;241m.\u001B[39mcopy()\n\u001B[1;32m    319\u001B[0m     params[\u001B[38;5;124m\"\u001B[39m\u001B[38;5;124mstream\u001B[39m\u001B[38;5;124m\"\u001B[39m] \u001B[38;5;241m=\u001B[39m \u001B[38;5;28;01mFalse\u001B[39;00m\n\u001B[0;32m--> 320\u001B[0m     response \u001B[38;5;241m=\u001B[39m \u001B[43mcompletions\u001B[49m\u001B[38;5;241;43m.\u001B[39;49m\u001B[43mcreate\u001B[49m\u001B[43m(\u001B[49m\u001B[38;5;241;43m*\u001B[39;49m\u001B[38;5;241;43m*\u001B[39;49m\u001B[43mparams\u001B[49m\u001B[43m)\u001B[49m\n\u001B[1;32m    322\u001B[0m \u001B[38;5;28;01mreturn\u001B[39;00m response\n",
      "File \u001B[0;32m~/venv/lib/python3.10/site-packages/openai/_utils/_utils.py:277\u001B[0m, in \u001B[0;36mrequired_args.<locals>.inner.<locals>.wrapper\u001B[0;34m(*args, **kwargs)\u001B[0m\n\u001B[1;32m    275\u001B[0m             msg \u001B[38;5;241m=\u001B[39m \u001B[38;5;124mf\u001B[39m\u001B[38;5;124m\"\u001B[39m\u001B[38;5;124mMissing required argument: \u001B[39m\u001B[38;5;132;01m{\u001B[39;00mquote(missing[\u001B[38;5;241m0\u001B[39m])\u001B[38;5;132;01m}\u001B[39;00m\u001B[38;5;124m\"\u001B[39m\n\u001B[1;32m    276\u001B[0m     \u001B[38;5;28;01mraise\u001B[39;00m \u001B[38;5;167;01mTypeError\u001B[39;00m(msg)\n\u001B[0;32m--> 277\u001B[0m \u001B[38;5;28;01mreturn\u001B[39;00m \u001B[43mfunc\u001B[49m\u001B[43m(\u001B[49m\u001B[38;5;241;43m*\u001B[39;49m\u001B[43margs\u001B[49m\u001B[43m,\u001B[49m\u001B[43m \u001B[49m\u001B[38;5;241;43m*\u001B[39;49m\u001B[38;5;241;43m*\u001B[39;49m\u001B[43mkwargs\u001B[49m\u001B[43m)\u001B[49m\n",
      "\u001B[0;31mTypeError\u001B[0m: Completions.create() got an unexpected keyword argument 'request_timeout'"
     ]
    }
   ],
   "source": [
    "# the assistant receives a message from the user, which contains the task description\n",
    "user_proxy.initiate_chat(\n",
    "    assistant,\n",
    "    message=\"\"\"\n",
    "I'm writing a blog to introduce the version 3 of Uniswap protocol. Find the answers to the 3 questions below and write an introduction based on them.\n",
    "\n",
    "1. What is Uniswap?\n",
    "2. What are the main changes in Uniswap version 3?\n",
    "3. How to use Uniswap?\n",
    "\n",
    "Start the work now.\n",
    "\"\"\"\n",
    ")"
   ],
   "metadata": {
    "collapsed": false,
    "ExecuteTime": {
     "end_time": "2024-07-15T10:22:22.506198Z",
     "start_time": "2024-07-15T10:22:22.324509Z"
    }
   },
   "id": "f5176ed35fd9be31",
   "execution_count": 18
  },
  {
   "cell_type": "code",
   "outputs": [],
   "source": [],
   "metadata": {
    "collapsed": false
   },
   "id": "198c6387f20d4ff5"
  }
 ],
 "metadata": {
  "kernelspec": {
   "display_name": "Python 3",
   "language": "python",
   "name": "python3"
  },
  "language_info": {
   "codemirror_mode": {
    "name": "ipython",
    "version": 2
   },
   "file_extension": ".py",
   "mimetype": "text/x-python",
   "name": "python",
   "nbconvert_exporter": "python",
   "pygments_lexer": "ipython2",
   "version": "2.7.6"
  }
 },
 "nbformat": 4,
 "nbformat_minor": 5
}
