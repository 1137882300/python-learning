{
 "cells": [
  {
   "cell_type": "code",
   "outputs": [],
   "source": [
    "import os\n",
    "from dotenv import load_dotenv\n",
    "\n",
    "load_dotenv()\n",
    "config_list = [{\"model\": \"qwen-plus\",\n",
    "                \"base_url\": os.environ.get(\"DASHSCOPE_API_BASE\"),\n",
    "                \"api_key\": os.environ.get(\"DASHSCOPE_API_KEY\")}]"
   ],
   "metadata": {
    "collapsed": false,
    "ExecuteTime": {
     "end_time": "2024-07-15T09:37:24.105312Z",
     "start_time": "2024-07-15T09:37:24.100433Z"
    }
   },
   "id": "5647665d8bfe4968",
   "execution_count": 9
  },
  {
   "cell_type": "code",
   "execution_count": 10,
   "id": "initial_id",
   "metadata": {
    "collapsed": true,
    "ExecuteTime": {
     "end_time": "2024-07-15T09:37:25.261909Z",
     "start_time": "2024-07-15T09:37:25.242443Z"
    }
   },
   "outputs": [],
   "source": [
    "import os\n",
    "from dotenv import load_dotenv\n",
    "\n",
    "load_dotenv()\n",
    "\n",
    "from autogen import ConversableAgent\n",
    "\n",
    "agent = ConversableAgent(\n",
    "    \"chatbot\",\n",
    "    llm_config={\"config_list\": config_list},\n",
    "    code_execution_config=False,  # Turn off code execution, by default it is off.\n",
    "    function_map=None,  # No registered functions, by default it is None.\n",
    "    human_input_mode=\"NEVER\",  # Never ask for human input.\n",
    ")"
   ]
  },
  {
   "cell_type": "code",
   "outputs": [
    {
     "name": "stdout",
     "output_type": "stream",
     "text": [
      "[autogen.oai.client: 07-15 17:37:31] {329} WARNING - Model qwen-plus is not found. The cost will be 0. In your config_list, add field {\"price\" : [prompt_price_per_1k, completion_token_price_per_1k]} for customized pricing.\n",
      "Sure, here's a classic one:\n",
      "\n",
      "Why was the math book sad? \n",
      "\n",
      "Because it had too many problems.\n"
     ]
    }
   ],
   "source": [
    "reply = agent.generate_reply(messages=[{\"content\": \"Tell me a joke.\", \"role\": \"user\"}])\n",
    "print(reply)"
   ],
   "metadata": {
    "collapsed": false,
    "ExecuteTime": {
     "end_time": "2024-07-15T09:37:31.719992Z",
     "start_time": "2024-07-15T09:37:30.060573Z"
    }
   },
   "id": "e3941be742e79430",
   "execution_count": 11
  },
  {
   "cell_type": "code",
   "outputs": [],
   "source": [
    "cathy = ConversableAgent(\n",
    "    \"cathy\",\n",
    "    system_message=\"Your name is Cathy and you are a part of a duo of comedians.\",\n",
    "    llm_config={\"config_list\": config_list},\n",
    "    human_input_mode=\"NEVER\",  # Never ask for human input.\n",
    ")\n",
    "\n",
    "joe = ConversableAgent(\n",
    "    \"joe\",\n",
    "    system_message=\"Your name is Joe and you are a part of a duo of comedians.\",\n",
    "    llm_config={\"config_list\": config_list},\n",
    "    human_input_mode=\"NEVER\",  # Never ask for human input.\n",
    ")"
   ],
   "metadata": {
    "collapsed": false,
    "ExecuteTime": {
     "end_time": "2024-07-15T09:41:48.432943Z",
     "start_time": "2024-07-15T09:41:48.413980Z"
    }
   },
   "id": "6e0486a561e4ac98",
   "execution_count": 12
  },
  {
   "cell_type": "code",
   "outputs": [
    {
     "name": "stdout",
     "output_type": "stream",
     "text": [
      "\u001B[33mjoe\u001B[0m (to cathy):\n",
      "\n",
      "Cathy, 给我讲个笑话.\n",
      "\n",
      "--------------------------------------------------------------------------------\n",
      "[autogen.oai.client: 07-15 17:49:05] {329} WARNING - Model qwen-plus is not found. The cost will be 0. In your config_list, add field {\"price\" : [prompt_price_per_1k, completion_token_price_per_1k]} for customized pricing.\n",
      "\u001B[33mcathy\u001B[0m (to joe):\n",
      "\n",
      "当然，亲爱的！这里有一个我们最近琢磨的笑话：\n",
      "\n",
      "为什么数学书总是最不开心的？\n",
      "\n",
      "因为它总是满是问题！\n",
      "\n",
      "--------------------------------------------------------------------------------\n",
      "[autogen.oai.client: 07-15 17:49:07] {329} WARNING - Model qwen-plus is not found. The cost will be 0. In your config_list, add field {\"price\" : [prompt_price_per_1k, completion_token_price_per_1k]} for customized pricing.\n",
      "\u001B[33mjoe\u001B[0m (to cathy):\n",
      "\n",
      "哈哈，那个确实不错，Joe！我有个配合你的笑话，你觉得怎么样：\n",
      "\n",
      "为什么电脑总是冷冰冰的？\n",
      "\n",
      "因为它从不\"关\"心任何人！\n",
      "\n",
      "--------------------------------------------------------------------------------\n",
      "[autogen.oai.client: 07-15 17:49:10] {329} WARNING - Model qwen-plus is not found. The cost will be 0. In your config_list, add field {\"price\" : [prompt_price_per_1k, completion_token_price_per_1k]} for customized pricing.\n",
      "\u001B[33mcathy\u001B[0m (to joe):\n",
      "\n",
      "哇，Cathy，那个真是太妙了！我们的配合简直天衣无缝。观众们一定会喜欢这些笑话的。下次演出一定要用上！\n",
      "\n",
      "--------------------------------------------------------------------------------\n"
     ]
    }
   ],
   "source": [
    "result = joe.initiate_chat(cathy, message=\"Cathy, 给我讲个笑话.\", max_turns=2)"
   ],
   "metadata": {
    "collapsed": false,
    "ExecuteTime": {
     "end_time": "2024-07-15T09:49:10.080736Z",
     "start_time": "2024-07-15T09:49:02.600666Z"
    }
   },
   "id": "4bfc89d7dc88cde4",
   "execution_count": 14
  },
  {
   "cell_type": "code",
   "outputs": [],
   "source": [
    "import autogen\n",
    "\n",
    "# from autogen import autogen\n",
    "\n",
    "autogen.oai.client\n",
    "\n",
    "# is not found"
   ],
   "metadata": {
    "collapsed": false
   },
   "id": "b5867ae57a76b650"
  }
 ],
 "metadata": {
  "kernelspec": {
   "display_name": "Python 3",
   "language": "python",
   "name": "python3"
  },
  "language_info": {
   "codemirror_mode": {
    "name": "ipython",
    "version": 2
   },
   "file_extension": ".py",
   "mimetype": "text/x-python",
   "name": "python",
   "nbconvert_exporter": "python",
   "pygments_lexer": "ipython2",
   "version": "2.7.6"
  }
 },
 "nbformat": 4,
 "nbformat_minor": 5
}
