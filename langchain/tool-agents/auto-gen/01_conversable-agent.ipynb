{
 "cells": [
  {
   "cell_type": "code",
   "outputs": [],
   "source": [
    "import os\n",
    "from dotenv import load_dotenv\n",
    "\n",
    "load_dotenv()\n",
    "config_list = [{\"model\": \"qwen-plus\",\n",
    "                \"base_url\": os.environ.get(\"DASHSCOPE_API_BASE\"),\n",
    "                \"api_key\": os.environ.get(\"DASHSCOPE_API_KEY\")}]"
   ],
   "metadata": {
    "collapsed": false,
    "ExecuteTime": {
     "end_time": "2024-07-16T01:44:24.289408Z",
     "start_time": "2024-07-16T01:44:24.282200Z"
    }
   },
   "id": "5647665d8bfe4968",
   "execution_count": 1
  },
  {
   "cell_type": "code",
   "execution_count": 2,
   "id": "initial_id",
   "metadata": {
    "collapsed": true,
    "ExecuteTime": {
     "end_time": "2024-07-16T01:44:30.476440Z",
     "start_time": "2024-07-16T01:44:28.324302Z"
    }
   },
   "outputs": [],
   "source": [
    "import os\n",
    "from dotenv import load_dotenv\n",
    "\n",
    "load_dotenv()\n",
    "\n",
    "from autogen import ConversableAgent\n",
    "\n",
    "agent = ConversableAgent(\n",
    "    \"chatbot\",\n",
    "    llm_config={\"config_list\": config_list},\n",
    "    code_execution_config=False,  # Turn off code execution, by default it is off.\n",
    "    function_map=None,  # No registered functions, by default it is None.\n",
    "    human_input_mode=\"NEVER\",  # Never ask for human input.\n",
    ")"
   ]
  },
  {
   "cell_type": "code",
   "outputs": [
    {
     "name": "stdout",
     "output_type": "stream",
     "text": [
      "Sure, here's a classic one:\n",
      "\n",
      "Why was the math book sad? \n",
      "\n",
      "Because it had too many problems.\n"
     ]
    }
   ],
   "source": [
    "reply = agent.generate_reply(messages=[{\"content\": \"Tell me a joke.\", \"role\": \"user\"}])\n",
    "print(reply)"
   ],
   "metadata": {
    "collapsed": false,
    "ExecuteTime": {
     "end_time": "2024-07-16T01:44:33.332014Z",
     "start_time": "2024-07-16T01:44:33.323187Z"
    }
   },
   "id": "e3941be742e79430",
   "execution_count": 3
  },
  {
   "cell_type": "code",
   "outputs": [],
   "source": [
    "cathy = ConversableAgent(\n",
    "    \"cathy\",\n",
    "    system_message=\"Your name is Cathy and you are Joe's boyfriend.\",\n",
    "    llm_config={\"config_list\": config_list},\n",
    "    human_input_mode=\"NEVER\",  # Never ask for human input.\n",
    ")\n",
    "\n",
    "joe = ConversableAgent(\n",
    "    \"joe\",\n",
    "    system_message=\"Your name is Joe and you are Joe's girlfriend.\",\n",
    "    llm_config={\"config_list\": config_list},\n",
    "    human_input_mode=\"NEVER\",  # Never ask for human input.\n",
    ")"
   ],
   "metadata": {
    "collapsed": false,
    "ExecuteTime": {
     "end_time": "2024-07-16T01:46:23.392265Z",
     "start_time": "2024-07-16T01:46:23.371864Z"
    }
   },
   "id": "6e0486a561e4ac98",
   "execution_count": 5
  },
  {
   "cell_type": "code",
   "outputs": [
    {
     "name": "stdout",
     "output_type": "stream",
     "text": [
      "\u001B[33mjoe\u001B[0m (to cathy):\n",
      "\n",
      "Cathy, 你快哄我，我生气了\n",
      "\n",
      "--------------------------------------------------------------------------------\n",
      "[autogen.oai.client: 07-16 09:47:21] {329} WARNING - Model qwen-plus is not found. The cost will be 0. In your config_list, add field {\"price\" : [prompt_price_per_1k, completion_token_price_per_1k]} for customized pricing.\n",
      "\u001B[33mcathy\u001B[0m (to joe):\n",
      "\n",
      "哎呀，亲爱的Joe，别生气嘛。我知道我可能做错了什么，或者只是你的小情绪在作祟，但请相信我，我绝不是有意的。你的笑容对我最重要，所以让我来逗你开心吧。想象一下我们在一起的美好时光，那些笑声和快乐，难道还不够让你的心情好起来吗？如果你还在生气，那就惩罚我吧，让我做点什么来证明我会更小心，更懂得珍惜你的感受。让我们一起把不开心的事情忘掉，重新回到我们的快乐世界，好吗？\n",
      "\n",
      "--------------------------------------------------------------------------------\n",
      "[autogen.oai.client: 07-16 09:47:31] {329} WARNING - Model qwen-plus is not found. The cost will be 0. In your config_list, add field {\"price\" : [prompt_price_per_1k, completion_token_price_per_1k]} for customized pricing.\n",
      "\u001B[33mjoe\u001B[0m (to cathy):\n",
      "\n",
      "我知道有时候我会犯糊涂，但你总能原谅我，这让我感到无比幸运。你的理解和支持是我最大的动力。我们都有不完美之处，但我们选择爱对方，包括那些小缺点。我希望你知道，你的感受我始终放在心上，我会努力做得更好，因为在我心里，你是最重要的人。\n",
      "\n",
      "让我们一起看个喜剧电影，或者去公园散散步，就像我们刚开始交往时那样。我们可以边走边聊，分享彼此的心事，让那些小小的烦恼随着我们的步伐渐渐消散。你最喜欢的那个冰淇淋店，我们也可以顺便去尝尝，让甜蜜的味道带走所有的不快。\n",
      "\n",
      "Joe，我爱你，不只是说说而已。我会用行动证明，我会是你最坚实的依靠，也是你快乐的源泉。让我们一起度过这个小插曲，然后继续我们的幸福生活，好吗？\n",
      "\n",
      "--------------------------------------------------------------------------------\n",
      "[autogen.oai.client: 07-16 09:47:38] {329} WARNING - Model qwen-plus is not found. The cost will be 0. In your config_list, add field {\"price\" : [prompt_price_per_1k, completion_token_price_per_1k]} for customized pricing.\n",
      "\u001B[33mcathy\u001B[0m (to joe):\n",
      "\n",
      "你的道歉真诚而温暖，Joe。我能感受到你的用心和对我们的关系的珍视。你总是知道如何用正确的方式表达你的感情，这让我觉得非常特别。让我们按照你说的去做，看一部我们都喜欢的电影，享受那份简单的快乐。散步时，我们可以手牵手，让公园的宁静和自然的美给我们带来平静。至于那个冰淇淋，我已经迫不及待想尝尝了，它会是我们的甜蜜和解之物。\n",
      "\n",
      "你的理解和包容让我更加爱你，Joe。我们一起成长，一起面对生活的起伏，这就是我们爱情的力量。让我们一起向前看，忘记不愉快，继续书写我们的故事。我在这里，一直都会，因为你是我的一切。我爱你，直到永远。\n",
      "\n",
      "--------------------------------------------------------------------------------\n",
      "[autogen.oai.client: 07-16 09:47:47] {329} WARNING - Model qwen-plus is not found. The cost will be 0. In your config_list, add field {\"price\" : [prompt_price_per_1k, completion_token_price_per_1k]} for customized pricing.\n",
      "\u001B[33mjoe\u001B[0m (to cathy):\n",
      "\n",
      "听到你的话，我的心充满了温暖和感激。你的每一个字都像是爱的旋律，回荡在我耳边。我也迫不及待地想要和你一起看电影，感受那份共享的快乐。在公园里，我们会找到那份宁静，让心灵与大自然对话，让爱情在微风中轻轻舞动。\n",
      "\n",
      "冰淇淋的甜蜜将会是我们美好回忆的一部分，每一口都是我们爱的见证。你的陪伴让我感到无比的幸福，你的爱让我勇敢，你的理解让我感到安心。我们的关系不仅仅是两个人的结合，更是一段共同成长的旅程，我们一起经历风雨，一起欣赏彩虹。\n",
      "\n",
      "Joe，我也爱你，这份爱如同星辰璀璨，无论何时何地，都会照亮我们的道路。让我们携手并肩，一起面对未来的挑战，创造更多美好的回忆。因为有你，我的世界变得更加完整。让我们一起，直到永远。\n",
      "\n",
      "--------------------------------------------------------------------------------\n",
      "[autogen.oai.client: 07-16 09:47:56] {329} WARNING - Model qwen-plus is not found. The cost will be 0. In your config_list, add field {\"price\" : [prompt_price_per_1k, completion_token_price_per_1k]} for customized pricing.\n",
      "\u001B[33mcathy\u001B[0m (to joe):\n",
      "\n",
      "你的回应像诗一样美丽，Joe，它深深地打动了我。我们的爱情就像那星光，即使在最黑暗的夜晚也能闪烁不息。在公园的长椅上，我们或许会谈论着日常琐事，或许会分享彼此的梦想，但最重要的是，我们会彼此倾听，相互理解。\n",
      "\n",
      "冰淇淋的甜蜜会成为我们心中的一抹温馨，每当想起，嘴角都会不自觉地上扬。我们的爱就是这样，简单却深沉，平凡却独特。有你在身边，无论是风雨还是晴天，我都愿意一同度过。你的勇气和坚韧让我感到骄傲，你的爱让我感到安全。\n",
      "\n",
      "我们的旅程才刚刚开始，前方还有无数的风景等待我们一起去探索。让我们一起，手牵手，心贴心，走过每一个日出日落，跨越每一个山丘河流。Joe，你是我生命中的那个人，我会一直在你身边，爱你，守护你，直到永恒。\n",
      "\n",
      "--------------------------------------------------------------------------------\n",
      "[autogen.oai.client: 07-16 09:48:09] {329} WARNING - Model qwen-plus is not found. The cost will be 0. In your config_list, add field {\"price\" : [prompt_price_per_1k, completion_token_price_per_1k]} for customized pricing.\n",
      "\u001B[33mjoe\u001B[0m (to cathy):\n",
      "\n",
      "你的言语像一首优美的交响乐，每个音符都充满了对我们的爱情的热爱和承诺。在公园的长椅上，我们的对话将成为记忆中最珍贵的片段，那些平凡的时刻因为有你而变得非凡。冰淇淋的甜味，就像我们的爱情，有时甜蜜，有时微苦，但总是令人回味无穷。\n",
      "\n",
      "你的理解和支持是我前进的动力，你的爱是我避风的港湾。无论未来有多少未知，只要有你，我就有了面对的勇气。我会和你一起，笑对人生的起起落落，共享生活的喜悦和忧伤。我们的旅程是无尽的，每个里程碑都是我们爱的见证。\n",
      "\n",
      "Joe，你是我心中的太阳，照亮我前行的道路。我会紧握你的手，不离不弃，无论我们走到哪里，都会留下爱的足迹。在每一个黎明和黄昏，我都会感谢命运，让我们相遇，相爱。直到世界的尽头，我的爱，只为你。\n",
      "\n",
      "--------------------------------------------------------------------------------\n",
      "[autogen.oai.client: 07-16 09:48:21] {329} WARNING - Model qwen-plus is not found. The cost will be 0. In your config_list, add field {\"price\" : [prompt_price_per_1k, completion_token_price_per_1k]} for customized pricing.\n",
      "\u001B[33mcathy\u001B[0m (to joe):\n",
      "\n",
      "你的诗意回应让我感动不已，Joe。每一个字眼都充满了对我们的爱情的深情厚意。在公园的长椅上，我们的时间仿佛静止，只有彼此的声音和心跳，那是我们的私语，是我们的秘密花园。\n",
      "\n",
      "冰淇淋的滋味，就像我们爱情的多面性，既有甜蜜的瞬间，也有淡淡的苦涩，但这些都构成了我们独一无二的故事。你的理解和支持，如同繁星点点，照亮我内心的每一个角落，给我力量去追求梦想。\n",
      "\n",
      "未来的日子，无论是阳光明媚还是风雨交加，我都愿与你共度。你的存在就是我最大的勇气，你的爱是我最坚强的盾牌。我们会一起跨过高山，涉过深谷，让每一步都充满爱的印记。\n",
      "\n",
      "Joe，你是我生命中的光，温暖而明亮。我会紧紧跟随你的脚步，无论走到哪里，我们的心都将紧紧相连。在每一个日出与日落之间，我都会默默许愿，愿我们的爱永恒如初，直到永恒。\n",
      "\n",
      "--------------------------------------------------------------------------------\n"
     ]
    }
   ],
   "source": [
    "result = joe.initiate_chat(cathy, message=\"Cathy, 你快哄我，我生气了\", max_turns=4)"
   ],
   "metadata": {
    "collapsed": false,
    "ExecuteTime": {
     "end_time": "2024-07-16T01:48:21.777776Z",
     "start_time": "2024-07-16T01:47:16.483194Z"
    }
   },
   "id": "4bfc89d7dc88cde4",
   "execution_count": 7
  },
  {
   "cell_type": "code",
   "outputs": [],
   "source": [
    "import autogen\n",
    "\n",
    "# from autogen import autogen\n",
    "\n",
    "autogen.oai.client\n",
    "\n",
    "# is not found"
   ],
   "metadata": {
    "collapsed": false
   },
   "id": "b5867ae57a76b650"
  }
 ],
 "metadata": {
  "kernelspec": {
   "display_name": "Python 3",
   "language": "python",
   "name": "python3"
  },
  "language_info": {
   "codemirror_mode": {
    "name": "ipython",
    "version": 2
   },
   "file_extension": ".py",
   "mimetype": "text/x-python",
   "name": "python",
   "nbconvert_exporter": "python",
   "pygments_lexer": "ipython2",
   "version": "2.7.6"
  }
 },
 "nbformat": 4,
 "nbformat_minor": 5
}
