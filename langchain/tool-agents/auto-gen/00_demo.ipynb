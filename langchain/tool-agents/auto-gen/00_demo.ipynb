{
 "cells": [
  {
   "cell_type": "code",
   "execution_count": 1,
   "id": "initial_id",
   "metadata": {
    "collapsed": true,
    "ExecuteTime": {
     "end_time": "2024-07-15T01:00:11.545406Z",
     "start_time": "2024-07-15T01:00:08.525973Z"
    }
   },
   "outputs": [
    {
     "name": "stdout",
     "output_type": "stream",
     "text": [
      "Looking in indexes: https://pypi.tuna.tsinghua.edu.cn/simple\r\n",
      "Collecting pyautogen\r\n",
      "  Downloading https://pypi.tuna.tsinghua.edu.cn/packages/dd/9e/2c58eb3fc0839585fefc12fe44e4b716eebddaef48cefe77876741551e6b/pyautogen-0.2.32-py3-none-any.whl (314 kB)\r\n",
      "\u001B[2K     \u001B[90m━━━━━━━━━━━━━━━━━━━━━━━━━━━━━━━━━━━━━━━\u001B[0m \u001B[32m314.4/314.4 kB\u001B[0m \u001B[31m1.7 MB/s\u001B[0m eta \u001B[36m0:00:00\u001B[0m00:01\u001B[0m00:01\u001B[0m\r\n",
      "\u001B[?25hRequirement already satisfied: diskcache in /Users/pangmengting/venv/lib/python3.10/site-packages (from pyautogen) (5.6.3)\r\n",
      "Requirement already satisfied: docker in /Users/pangmengting/venv/lib/python3.10/site-packages (from pyautogen) (6.1.3)\r\n",
      "Collecting flaml (from pyautogen)\r\n",
      "  Downloading https://pypi.tuna.tsinghua.edu.cn/packages/f4/9f/d4c5e02f30fc8842005f9a448316c397eee98c4ee865e403dce9636aa61a/FLAML-2.1.2-py3-none-any.whl (296 kB)\r\n",
      "\u001B[2K     \u001B[90m━━━━━━━━━━━━━━━━━━━━━━━━━━━━━━━━━━━━━━━\u001B[0m \u001B[32m296.7/296.7 kB\u001B[0m \u001B[31m7.1 MB/s\u001B[0m eta \u001B[36m0:00:00\u001B[0ma \u001B[36m0:00:01\u001B[0m\r\n",
      "\u001B[?25hRequirement already satisfied: numpy<2,>=1.17.0 in /Users/pangmengting/venv/lib/python3.10/site-packages (from pyautogen) (1.26.4)\r\n",
      "Requirement already satisfied: openai>=1.3 in /Users/pangmengting/venv/lib/python3.10/site-packages (from pyautogen) (1.33.0)\r\n",
      "Requirement already satisfied: packaging in /Users/pangmengting/venv/lib/python3.10/site-packages (from pyautogen) (23.2)\r\n",
      "Requirement already satisfied: pydantic!=2.6.0,<3,>=1.10 in /Users/pangmengting/venv/lib/python3.10/site-packages (from pyautogen) (2.6.4)\r\n",
      "Requirement already satisfied: python-dotenv in /Users/pangmengting/venv/lib/python3.10/site-packages (from pyautogen) (1.0.0)\r\n",
      "Collecting termcolor (from pyautogen)\r\n",
      "  Downloading https://pypi.tuna.tsinghua.edu.cn/packages/d9/5f/8c716e47b3a50cbd7c146f45881e11d9414def768b7cd9c5e6650ec2a80a/termcolor-2.4.0-py3-none-any.whl (7.7 kB)\r\n",
      "Requirement already satisfied: tiktoken in /Users/pangmengting/venv/lib/python3.10/site-packages (from pyautogen) (0.7.0)\r\n",
      "Requirement already satisfied: anyio<5,>=3.5.0 in /Users/pangmengting/venv/lib/python3.10/site-packages (from openai>=1.3->pyautogen) (3.7.1)\r\n",
      "Requirement already satisfied: distro<2,>=1.7.0 in /Users/pangmengting/venv/lib/python3.10/site-packages (from openai>=1.3->pyautogen) (1.8.0)\r\n",
      "Requirement already satisfied: httpx<1,>=0.23.0 in /Users/pangmengting/venv/lib/python3.10/site-packages (from openai>=1.3->pyautogen) (0.27.0)\r\n",
      "Requirement already satisfied: sniffio in /Users/pangmengting/venv/lib/python3.10/site-packages (from openai>=1.3->pyautogen) (1.3.0)\r\n",
      "Requirement already satisfied: tqdm>4 in /Users/pangmengting/venv/lib/python3.10/site-packages (from openai>=1.3->pyautogen) (4.66.4)\r\n",
      "Requirement already satisfied: typing-extensions<5,>=4.7 in /Users/pangmengting/venv/lib/python3.10/site-packages (from openai>=1.3->pyautogen) (4.10.0)\r\n",
      "Requirement already satisfied: annotated-types>=0.4.0 in /Users/pangmengting/venv/lib/python3.10/site-packages (from pydantic!=2.6.0,<3,>=1.10->pyautogen) (0.6.0)\r\n",
      "Requirement already satisfied: pydantic-core==2.16.3 in /Users/pangmengting/venv/lib/python3.10/site-packages (from pydantic!=2.6.0,<3,>=1.10->pyautogen) (2.16.3)\r\n",
      "Requirement already satisfied: requests>=2.26.0 in /Users/pangmengting/venv/lib/python3.10/site-packages (from docker->pyautogen) (2.31.0)\r\n",
      "Requirement already satisfied: urllib3>=1.26.0 in /Users/pangmengting/venv/lib/python3.10/site-packages (from docker->pyautogen) (2.2.1)\r\n",
      "Requirement already satisfied: websocket-client>=0.32.0 in /Users/pangmengting/venv/lib/python3.10/site-packages (from docker->pyautogen) (1.6.1)\r\n",
      "Requirement already satisfied: regex>=2022.1.18 in /Users/pangmengting/venv/lib/python3.10/site-packages (from tiktoken->pyautogen) (2023.6.3)\r\n",
      "Requirement already satisfied: idna>=2.8 in /Users/pangmengting/venv/lib/python3.10/site-packages (from anyio<5,>=3.5.0->openai>=1.3->pyautogen) (3.4)\r\n",
      "Requirement already satisfied: exceptiongroup in /Users/pangmengting/venv/lib/python3.10/site-packages (from anyio<5,>=3.5.0->openai>=1.3->pyautogen) (1.1.2)\r\n",
      "Requirement already satisfied: certifi in /Users/pangmengting/venv/lib/python3.10/site-packages (from httpx<1,>=0.23.0->openai>=1.3->pyautogen) (2024.6.2)\r\n",
      "Requirement already satisfied: httpcore==1.* in /Users/pangmengting/venv/lib/python3.10/site-packages (from httpx<1,>=0.23.0->openai>=1.3->pyautogen) (1.0.4)\r\n",
      "Requirement already satisfied: h11<0.15,>=0.13 in /Users/pangmengting/venv/lib/python3.10/site-packages (from httpcore==1.*->httpx<1,>=0.23.0->openai>=1.3->pyautogen) (0.14.0)\r\n",
      "Requirement already satisfied: charset-normalizer<4,>=2 in /Users/pangmengting/venv/lib/python3.10/site-packages (from requests>=2.26.0->docker->pyautogen) (3.2.0)\r\n",
      "Installing collected packages: termcolor, flaml, pyautogen\r\n",
      "Successfully installed flaml-2.1.2 pyautogen-0.2.32 termcolor-2.4.0\r\n",
      "\r\n",
      "\u001B[1m[\u001B[0m\u001B[34;49mnotice\u001B[0m\u001B[1;39;49m]\u001B[0m\u001B[39;49m A new release of pip is available: \u001B[0m\u001B[31;49m24.0\u001B[0m\u001B[39;49m -> \u001B[0m\u001B[32;49m24.1.2\u001B[0m\r\n",
      "\u001B[1m[\u001B[0m\u001B[34;49mnotice\u001B[0m\u001B[1;39;49m]\u001B[0m\u001B[39;49m To update, run: \u001B[0m\u001B[32;49mpip install --upgrade pip\u001B[0m\r\n"
     ]
    }
   ],
   "source": [
    "# !pip install pyautogen"
   ]
  },
  {
   "cell_type": "code",
   "outputs": [
    {
     "name": "stdout",
     "output_type": "stream",
     "text": [
      "--2024-07-15 09:08:24--  https://crab233.cloudns.biz/proxy/uniswap.org/whitepaper-v3.pdf\r\n",
      "Resolving crab233.cloudns.biz (crab233.cloudns.biz)... 76.76.21.21\r\n",
      "Connecting to crab233.cloudns.biz (crab233.cloudns.biz)|76.76.21.21|:443... connected.\r\n",
      "HTTP request sent, awaiting response... 308 Permanent Redirect\r\n",
      "Location: https://www.crab233.cloudns.biz/proxy/uniswap.org/whitepaper-v3.pdf [following]\r\n",
      "--2024-07-15 09:08:25--  https://www.crab233.cloudns.biz/proxy/uniswap.org/whitepaper-v3.pdf\r\n",
      "Resolving www.crab233.cloudns.biz (www.crab233.cloudns.biz)... 76.76.21.22, 76.76.21.123\r\n",
      "Connecting to www.crab233.cloudns.biz (www.crab233.cloudns.biz)|76.76.21.22|:443... connected.\r\n",
      "HTTP request sent, awaiting response... 200 OK\r\n",
      "Cookie coming from www.crab233.cloudns.biz attempted to set domain to uniswap.org\r\n",
      "Length: 1500865 (1.4M) [application/pdf]\r\n",
      "Saving to: ‘uniswap_v3.pdf’\r\n",
      "\r\n",
      "pdf                 100%[===================>]   1.43M  3.02MB/s    in 0.5s    \r\n",
      "\r\n",
      "2024-07-15 09:08:27 (3.02 MB/s) - ‘uniswap_v3.pdf’ saved [1500865/1500865]\r\n",
      "\r\n"
     ]
    }
   ],
   "source": [
    "# !wget -O uniswap_v3.pdf https://crab233.cloudns.biz/proxy/uniswap.org/whitepaper-v3.pdf"
   ],
   "metadata": {
    "collapsed": false,
    "ExecuteTime": {
     "end_time": "2024-07-15T01:08:27.751917Z",
     "start_time": "2024-07-15T01:08:24.274455Z"
    }
   },
   "id": "b16d67fbad7655b2",
   "execution_count": 3
  },
  {
   "cell_type": "code",
   "outputs": [],
   "source": [
    "import autogen\n",
    "\n",
    "config_list = autogen.config_list_from_json(\n",
    "    \"OAI_CONFIG_LIST\",\n",
    "    filter_dict={\n",
    "        \"model\": [\"gpt-4\"],\n",
    "    },\n",
    ")\n",
    "#\n",
    "# Sample content of OAI_CONFIG_LIST file below:\n",
    "#\n",
    "# [\n",
    "#   {\n",
    "#     \"model\": \"gpt-4\",\n",
    "#     \"api_key\": \"your openai api key\"\n",
    "#   }\n",
    "# ]\n",
    "#"
   ],
   "metadata": {
    "collapsed": false
   },
   "id": "a66b437e22bf0be3"
  }
 ],
 "metadata": {
  "kernelspec": {
   "display_name": "Python 3",
   "language": "python",
   "name": "python3"
  },
  "language_info": {
   "codemirror_mode": {
    "name": "ipython",
    "version": 2
   },
   "file_extension": ".py",
   "mimetype": "text/x-python",
   "name": "python",
   "nbconvert_exporter": "python",
   "pygments_lexer": "ipython2",
   "version": "2.7.6"
  }
 },
 "nbformat": 4,
 "nbformat_minor": 5
}
