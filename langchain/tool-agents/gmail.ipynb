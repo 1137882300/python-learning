{
 "cells": [
  {
   "cell_type": "markdown",
   "source": [
    "This is Python notebook demonstrating how to integrate Gmail access with OpenAI capabilities to create a AI Agent that can read and write emails.\n",
    "这是一个 Python 笔记本，展示了如何将 Gmail 访问与 OpenAI 功能集成，以创建一个能够读写电子邮件的人工智能代理。\n",
    "You should complete the following steps to get started:\n",
    "\n",
    "Enable API by following the Enable the API - Quick start.\n",
    "Set up your credentials explained in the Gmail API docs."
   ],
   "metadata": {
    "collapsed": false
   },
   "id": "37a0df297ccc7b7d"
  },
  {
   "cell_type": "code",
   "outputs": [
    {
     "name": "stdout",
     "output_type": "stream",
     "text": [
      "\r\n",
      "\u001B[1m[\u001B[0m\u001B[34;49mnotice\u001B[0m\u001B[1;39;49m]\u001B[0m\u001B[39;49m A new release of pip is available: \u001B[0m\u001B[31;49m24.0\u001B[0m\u001B[39;49m -> \u001B[0m\u001B[32;49m24.1.1\u001B[0m\r\n",
      "\u001B[1m[\u001B[0m\u001B[34;49mnotice\u001B[0m\u001B[1;39;49m]\u001B[0m\u001B[39;49m To update, run: \u001B[0m\u001B[32;49mpip install --upgrade pip\u001B[0m\r\n"
     ]
    }
   ],
   "source": [
    "# !pip install --upgrade --quiet google-api-python-client google-auth-oauthlib google-auth-httplib2  "
   ],
   "metadata": {
    "collapsed": false,
    "ExecuteTime": {
     "end_time": "2024-07-08T03:56:18.895730Z",
     "start_time": "2024-07-08T03:56:12.862990Z"
    }
   },
   "id": "5ede43e74730ee83",
   "execution_count": 1
  },
  {
   "cell_type": "code",
   "outputs": [
    {
     "name": "stdout",
     "output_type": "stream",
     "text": [
      "Please visit this URL to authorize this application: https://accounts.google.com/o/oauth2/auth?response_type=code&client_id=343796027720-bg2t5eeja86uhj5fqso4j4bvg4ioc1cr.apps.googleusercontent.com&redirect_uri=http%3A%2F%2Flocalhost%3A60635%2F&scope=https%3A%2F%2Fmail.google.com%2F&state=tVGLV4DkbJJGChW1X0dBSCqGjt8p7m&access_type=offline\n"
     ]
    },
    {
     "name": "stderr",
     "output_type": "stream",
     "text": [
      "\n",
      "KeyboardInterrupt\n",
      "\n"
     ]
    }
   ],
   "source": [
    "from langchain.agents.agent_toolkits import GmailToolkit\n",
    "\n",
    "toolkit = GmailToolkit()"
   ],
   "metadata": {
    "collapsed": false,
    "ExecuteTime": {
     "end_time": "2024-07-08T04:33:01.930686Z",
     "start_time": "2024-07-08T04:00:31.823929Z"
    }
   },
   "id": "49fec288abe7f8e0",
   "execution_count": 2
  },
  {
   "cell_type": "code",
   "outputs": [],
   "source": [
    "tools = toolkit.get_tools()\n",
    "tools"
   ],
   "metadata": {
    "collapsed": false
   },
   "id": "1bb0283be7b89544"
  },
  {
   "cell_type": "code",
   "outputs": [],
   "source": [
    "from langchain import OpenAI\n",
    "from langchain.agents import initialize_agent, AgentType"
   ],
   "metadata": {
    "collapsed": false
   },
   "id": "e1e1609263b782d"
  },
  {
   "cell_type": "code",
   "outputs": [],
   "source": [
    "llm = OpenAI(temperature=0)\n",
    "agent = initialize_agent(tools=tools, llm=llm, agent=AgentType.STRUCTURED_CHAT_ZERO_SHOT_REACT_DESCRIPTION, verbose=True)"
   ],
   "metadata": {
    "collapsed": false
   },
   "id": "60681c3bc415e31e"
  },
  {
   "cell_type": "code",
   "outputs": [],
   "source": [
    "agent.run(\n",
    "    \"Create a gmail draft for me to edit of a letter for a potential customer\"\n",
    "    \" who has visited to my website and expressed interest in my product.\"\n",
    "    \" Under no circumstances may you send the message, however.\"\n",
    ")"
   ],
   "metadata": {
    "collapsed": false
   },
   "id": "e37f58a9889d6d87"
  },
  {
   "cell_type": "code",
   "outputs": [],
   "source": [
    "agent.run(\"Could you search in my drafts for the latest email?\")"
   ],
   "metadata": {
    "collapsed": false
   },
   "id": "45eaf1e23a6d4d3"
  },
  {
   "cell_type": "code",
   "outputs": [],
   "source": [
    "agent.run(\"Please send an email to 0001coder@gmail.com with title 'Greetings from myself' and message 'This is 01coder, and nice to meet you'.\")"
   ],
   "metadata": {
    "collapsed": false
   },
   "id": "89659bd4a8c7029c"
  }
 ],
 "metadata": {
  "kernelspec": {
   "display_name": "Python 3",
   "language": "python",
   "name": "python3"
  },
  "language_info": {
   "codemirror_mode": {
    "name": "ipython",
    "version": 2
   },
   "file_extension": ".py",
   "mimetype": "text/x-python",
   "name": "python",
   "nbconvert_exporter": "python",
   "pygments_lexer": "ipython2",
   "version": "2.7.6"
  }
 },
 "nbformat": 4,
 "nbformat_minor": 5
}
