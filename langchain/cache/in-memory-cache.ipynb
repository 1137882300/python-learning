{
 "cells": [
  {
   "cell_type": "code",
   "execution_count": 1,
   "id": "initial_id",
   "metadata": {
    "collapsed": true,
    "ExecuteTime": {
     "end_time": "2024-07-08T07:12:43.192012Z",
     "start_time": "2024-07-08T07:12:42.727140Z"
    }
   },
   "outputs": [],
   "source": [
    "# 基本配置\n",
    "from langchain_openai import ChatOpenAI\n",
    "import os\n",
    "from dotenv import load_dotenv\n",
    "\n",
    "load_dotenv(override=True)\n",
    "\n",
    "ms_llm_openai = ChatOpenAI(\n",
    "    openai_api_base=os.getenv('MOONSHOT_API_BASE'),\n",
    "    openai_api_key=os.getenv('MOONSHOT_API_KEY'),\n",
    "    model_name=\"moonshot-v1-8k\",\n",
    "    temperature=0,\n",
    "    streaming=True,\n",
    ")\n",
    "\n",
    "qw_llm_openai = ChatOpenAI(\n",
    "    openai_api_base=os.getenv('DASHSCOPE_API_BASE'),\n",
    "    openai_api_key=os.getenv('DASHSCOPE_API_KEY'),\n",
    "    model_name=\"qwen2-1.5b-instruct\",\n",
    "    temperature=0,\n",
    "    streaming=True,\n",
    ")\n",
    "\n",
    "cf_llm_openai = ChatOpenAI(\n",
    "    openai_api_base=os.getenv('CF_API_BASE'),\n",
    "    openai_api_key=os.getenv('CF_API_TOKEN'),\n",
    "    model_name=\"@cf/meta/llama-3-8b-instruct\",\n",
    "    temperature=0,\n",
    "    streaming=True,\n",
    ")\n",
    "\n",
    "groq_llm_openai = ChatOpenAI(\n",
    "    openai_api_base=os.getenv('GROQ_API_BASE'),\n",
    "    openai_api_key=os.getenv('GROQ_API_KEY'),\n",
    "    model_name=\"llama3-8b-8192\",\n",
    "    temperature=0,\n",
    "    streaming=True,\n",
    ")"
   ]
  },
  {
   "cell_type": "code",
   "outputs": [],
   "source": [
    "from langchain.cache import InMemoryCache\n",
    "\n",
    "import langchain\n",
    "\n",
    "# 方式1\n",
    "langchain.llm_cache = InMemoryCache()\n",
    "# 方式2\n",
    "from langchain.globals import set_llm_cache\n",
    "# set_llm_cache(InMemoryCache())\n"
   ],
   "metadata": {
    "collapsed": false,
    "ExecuteTime": {
     "end_time": "2024-07-08T07:18:47.503025Z",
     "start_time": "2024-07-08T07:18:47.253114Z"
    }
   },
   "id": "d5c1141337a104aa",
   "execution_count": 4
  },
  {
   "cell_type": "code",
   "outputs": [
    {
     "name": "stdout",
     "output_type": "stream",
     "text": [
      "CPU times: user 1.58 ms, sys: 1.05 ms, total: 2.63 ms\n",
      "Wall time: 1.87 ms\n"
     ]
    },
    {
     "data": {
      "text/plain": "AIMessage(content=\"OpenAI is a non-profit artificial intelligence research organization that focuses on developing and promoting friendly AI systems. It was founded in 2015 by Sam Altman, Elon Musk, and others with the goal of safe and beneficial development of AI. OpenAI is headquartered in San Francisco, California, and has received significant funding from various organizations, including Microsoft, Amazon, and the Chan Zuckerberg Initiative.\\n\\nOpenAI's mission is to advance digital intelligence in a way that benefits humanity and society as a whole. The organization is working on a number of AI-related projects, including:\\n\\n1. Developing AI algorithms that can learn and improve over time, while also ensuring they are aligned with human values and goals.\\n2. Creating large-scale language models that can understand and generate human-like language.\\n3. Building applications that can help humans in various domains, such as healthcare, education, and climate change.\\n4. Establishing standards and guidelines for the development and deployment of AI systems.\\n\\nOpenAI is known for its research papers and open-source AI software, including:\\n\\n1. GPT-3: A large-scale language model that can generate human-like text and has been used for a variety of applications, including text summarization, chatbots, and language translation.\\n2. DALL-E: A generative model that can create images from text prompts, with potential applications in areas such as art, design, and entertainment.\\n3. Open Assistant: A conversational AI platform that allows developers to create custom chatbots and voice assistants.\\n\\nOpenAI also has a number of collaborations and partnerships with other organizations, including:\\n\\n1. Microsoft: OpenAI has a multi-year partnership with Microsoft to develop AI models and applications.\\n2. Elon Musk: Musk has been involved with OpenAI since its founding and has contributed to many of its projects.\\n3. Universities and research institutions: OpenAI collaborates with researchers and institutions to advance AI research and development.\\n\\nOverall, OpenAI is a prominent organization in the AI industry, with a focus on developing AI systems that are safe, beneficial, and aligned with human values.\", id='run-5dfe5781-b70f-4779-a251-87903b8c23a0-0')"
     },
     "execution_count": 9,
     "metadata": {},
     "output_type": "execute_result"
    }
   ],
   "source": [
    "%%time\n",
    "\n",
    "cf_llm_openai.invoke(\"What is OpenAI?\")"
   ],
   "metadata": {
    "collapsed": false,
    "ExecuteTime": {
     "end_time": "2024-07-08T07:24:54.489631Z",
     "start_time": "2024-07-08T07:24:54.482579Z"
    }
   },
   "id": "3c18230463126b9a",
   "execution_count": 9
  },
  {
   "cell_type": "code",
   "outputs": [
    {
     "data": {
      "text/plain": "'[{\"lc\": 1, \"type\": \"constructor\", \"id\": [\"langchain\", \"schema\", \"messages\", \"HumanMessage\"], \"kwargs\": {\"content\": \"What is OpenAI?\", \"type\": \"human\"}}]'"
     },
     "execution_count": 10,
     "metadata": {},
     "output_type": "execute_result"
    }
   ],
   "source": [
    "list(langchain.llm_cache._cache.keys())[0][0]"
   ],
   "metadata": {
    "collapsed": false,
    "ExecuteTime": {
     "end_time": "2024-07-08T07:25:01.074283Z",
     "start_time": "2024-07-08T07:25:01.055400Z"
    }
   },
   "id": "4f6bacda3abc4854",
   "execution_count": 10
  },
  {
   "cell_type": "code",
   "outputs": [
    {
     "data": {
      "text/plain": "'{\"lc\": 1, \"type\": \"constructor\", \"id\": [\"langchain\", \"chat_models\", \"openai\", \"ChatOpenAI\"], \"kwargs\": {\"model_name\": \"@cf/meta/llama-3-8b-instruct\", \"temperature\": 0.0, \"openai_api_key\": {\"lc\": 1, \"type\": \"secret\", \"id\": [\"OPENAI_API_KEY\"]}, \"openai_api_base\": \"https://api.cloudflare.com/client/v4/accounts/8483c3ec7a0cbc54a8d660b5b9002b04/ai/v1\", \"openai_proxy\": \"\", \"max_retries\": 2, \"streaming\": true, \"n\": 1}, \"name\": \"ChatOpenAI\", \"graph\": {\"nodes\": [{\"id\": 0, \"type\": \"schema\", \"data\": \"ChatOpenAIInput\"}, {\"id\": 1, \"type\": \"runnable\", \"data\": {\"id\": [\"langchain\", \"chat_models\", \"openai\", \"ChatOpenAI\"], \"name\": \"ChatOpenAI\"}}, {\"id\": 2, \"type\": \"schema\", \"data\": \"ChatOpenAIOutput\"}], \"edges\": [{\"source\": 0, \"target\": 1}, {\"source\": 1, \"target\": 2}]}}---[(\\'stop\\', None)]'"
     },
     "execution_count": 11,
     "metadata": {},
     "output_type": "execute_result"
    }
   ],
   "source": [
    "list(langchain.llm_cache._cache.keys())[0][1]\n"
   ],
   "metadata": {
    "collapsed": false,
    "ExecuteTime": {
     "end_time": "2024-07-08T07:26:20.017648Z",
     "start_time": "2024-07-08T07:26:20.012231Z"
    }
   },
   "id": "c39d39abf3a01210",
   "execution_count": 11
  },
  {
   "cell_type": "code",
   "outputs": [],
   "source": [],
   "metadata": {
    "collapsed": false
   },
   "id": "2fa75b71fefa722c"
  }
 ],
 "metadata": {
  "kernelspec": {
   "display_name": "Python 3",
   "language": "python",
   "name": "python3"
  },
  "language_info": {
   "codemirror_mode": {
    "name": "ipython",
    "version": 2
   },
   "file_extension": ".py",
   "mimetype": "text/x-python",
   "name": "python",
   "nbconvert_exporter": "python",
   "pygments_lexer": "ipython2",
   "version": "2.7.6"
  }
 },
 "nbformat": 4,
 "nbformat_minor": 5
}
