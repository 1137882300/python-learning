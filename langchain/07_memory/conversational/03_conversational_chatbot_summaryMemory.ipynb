{
 "cells": [
  {
   "cell_type": "code",
   "execution_count": 4,
   "id": "initial_id",
   "metadata": {
    "collapsed": true,
    "ExecuteTime": {
     "end_time": "2024-07-01T08:45:45.174764Z",
     "start_time": "2024-07-01T08:45:45.106656Z"
    }
   },
   "outputs": [],
   "source": [
    "from langchain import OpenAI\n",
    "from langchain.chains import ConversationChain\n",
    "from langchain.chains.conversation.memory import ConversationBufferMemory, ConversationSummaryMemory\n",
    "from langchain.callbacks import get_openai_callback\n",
    "import os"
   ]
  },
  {
   "cell_type": "code",
   "outputs": [
    {
     "name": "stdout",
     "output_type": "stream",
     "text": [
      "8483c3ec7a0cbc54a8d660b5b9002b04\n",
      "Gcllof8ze6dgtcqFI5FQZ2SD_5tfCD4Db7NuS6jn\n",
      "sk-01c5003340c3453b934052d737d45e01\n",
      "sk-UGVpjuTwo2Q8pewoqUDfckw1A0pbSDli9ElFMeS9WareKknG\n",
      "https://api.moonshot.cn/v1/\n"
     ]
    }
   ],
   "source": [
    "from dotenv import load_dotenv\n",
    "import os\n",
    "from langchain_community.llms.cloudflare_workersai import CloudflareWorkersAI\n",
    "from langchain_community.llms.tongyi import Tongyi\n",
    "from langchain_openai import ChatOpenAI\n",
    "\n",
    "load_dotenv(override=True)\n",
    "\n",
    "account_id = os.getenv('CF_ACCOUNT_ID')\n",
    "api_token = os.getenv('CF_API_TOKEN')\n",
    "print(account_id)\n",
    "print(api_token)\n",
    "\n",
    "# CloudflareWorkersAI\n",
    "model = '@cf/meta/llama-3-8b-instruct'\n",
    "cf_llm = CloudflareWorkersAI(\n",
    "    account_id=account_id,\n",
    "    api_token=api_token,\n",
    "    model=model\n",
    ")\n",
    "\n",
    "DASHSCOPE_API_KEY = os.getenv('DASHSCOPE_API_KEY')\n",
    "print(DASHSCOPE_API_KEY)\n",
    "\n",
    "# qwen\n",
    "qw_llm = Tongyi(\n",
    "    model='qwen2-1.5b-instruct'\n",
    ")\n",
    "\n",
    "# qwen 兼容 openai的接口\n",
    "qw_llm_openai = ChatOpenAI(\n",
    "    openai_api_base='https://dashscope.aliyuncs.com/compatible-mode/v1',\n",
    "    openai_api_key=DASHSCOPE_API_KEY,\n",
    "    model_name=\"qwen2-1.5b-instruct\",\n",
    "    temperature=0,\n",
    "    streaming=True,\n",
    "    verbose=True,\n",
    ")\n",
    "\n",
    "api_key = os.getenv('OPENAI_API_KEY')\n",
    "base_url = os.getenv('OPENAI_API_BASE')\n",
    "print(api_key)\n",
    "print(base_url)\n",
    "\n",
    "# openai/moonshot\n",
    "ms_llm = ChatOpenAI(\n",
    "    openai_api_base=base_url,\n",
    "    openai_api_key=api_key,\n",
    "    model_name=\"moonshot-v1-8k\",\n",
    "    temperature=0.7,\n",
    ")"
   ],
   "metadata": {
    "collapsed": false,
    "ExecuteTime": {
     "end_time": "2024-07-01T08:45:07.715061Z",
     "start_time": "2024-07-01T08:45:07.180424Z"
    }
   },
   "id": "f4c73cc3d7e679a8",
   "execution_count": 1
  },
  {
   "cell_type": "code",
   "outputs": [],
   "source": [
    "def track_tokens_usage(chain, query):\n",
    "    with get_openai_callback() as cb:\n",
    "        result = chain.invoke(query)\n",
    "        print(f'Total tokens: {cb.total_tokens}')\n",
    "\n",
    "    return result"
   ],
   "metadata": {
    "collapsed": false,
    "ExecuteTime": {
     "end_time": "2024-07-01T08:45:37.492070Z",
     "start_time": "2024-07-01T08:45:37.486607Z"
    }
   },
   "id": "164e27f40d339386",
   "execution_count": 2
  },
  {
   "cell_type": "code",
   "outputs": [],
   "source": [
    "conversation = ConversationChain(llm=qw_llm_openai, memory = ConversationSummaryMemory(llm=qw_llm_openai))"
   ],
   "metadata": {
    "collapsed": false,
    "ExecuteTime": {
     "end_time": "2024-07-01T08:45:49.087873Z",
     "start_time": "2024-07-01T08:45:49.085764Z"
    }
   },
   "id": "83b9e9f8c4f2e11e",
   "execution_count": 5
  },
  {
   "cell_type": "code",
   "outputs": [
    {
     "name": "stdout",
     "output_type": "stream",
     "text": [
      "Progressively summarize the lines of conversation provided, adding onto the previous summary returning a new summary.\n",
      "\n",
      "EXAMPLE\n",
      "Current summary:\n",
      "The human asks what the AI thinks of artificial intelligence. The AI thinks artificial intelligence is a force for good.\n",
      "\n",
      "New lines of conversation:\n",
      "Human: Why do you think artificial intelligence is a force for good?\n",
      "AI: Because artificial intelligence will help humans reach their full potential.\n",
      "\n",
      "New summary:\n",
      "The human asks what the AI thinks of artificial intelligence. The AI thinks artificial intelligence is a force for good because it will help humans reach their full potential.\n",
      "END OF EXAMPLE\n",
      "\n",
      "Current summary:\n",
      "{summary}\n",
      "\n",
      "New lines of conversation:\n",
      "{new_lines}\n",
      "\n",
      "New summary:\n"
     ]
    }
   ],
   "source": [
    "print(conversation.memory.prompt.template)"
   ],
   "metadata": {
    "collapsed": false,
    "ExecuteTime": {
     "end_time": "2024-06-28T03:12:58.361308Z",
     "start_time": "2024-06-28T03:12:58.357057Z"
    }
   },
   "id": "bd0a85f401cdffa6",
   "execution_count": 6
  },
  {
   "cell_type": "code",
   "outputs": [
    {
     "name": "stdout",
     "output_type": "stream",
     "text": [
      "Total tokens: 0\n"
     ]
    },
    {
     "data": {
      "text/plain": "{'input': 'My interest is to explore the options of scaling Ethereum',\n 'history': '',\n 'response': \"Hello! I'm happy to help you with your exploration of scaling Ethereum. Let's start by understanding what scaling means in this context. Scaling refers to the process of increasing the efficiency or capacity of a system, such as blockchain networks like Ethereum. This can be achieved through various methods, including adding more nodes, reducing transaction fees, or using more advanced consensus mechanisms.\\nNow that we have a basic understanding of what scaling means, let me tell you about some potential options for scaling Ethereum. One approach is to increase the number of nodes on the network, which would allow for more transactions to be processed simultaneously. Another option is to use smart contracts to reduce the need for manual verification, making the network more efficient. Additionally, there are proposals for implementing different types of consensus mechanisms, such as proof-of-stake (PoS) or proof-of-work (PoW), which could potentially improve the scalability of the network.\\nI hope this information helps you get started with exploring the options for scaling Ethereum. Let me know if you have any further questions or if there is anything else I can assist you with.\"}"
     },
     "execution_count": 6,
     "metadata": {},
     "output_type": "execute_result"
    }
   ],
   "source": [
    "track_tokens_usage(conversation, \"My interest is to explore the options of scaling Ethereum\")"
   ],
   "metadata": {
    "collapsed": false,
    "ExecuteTime": {
     "end_time": "2024-07-01T08:46:08.100028Z",
     "start_time": "2024-07-01T08:45:59.784879Z"
    }
   },
   "id": "453686bc2adf377b",
   "execution_count": 6
  },
  {
   "cell_type": "code",
   "outputs": [
    {
     "name": "stdout",
     "output_type": "stream",
     "text": [
      "Total tokens: 0\n"
     ]
    },
    {
     "data": {
      "text/plain": "{'input': 'Could you please elaborate more on sharding? Try to use at least 1000 words.',\n 'history': 'The human expresses an interest in exploring the options of scaling Ethereum. The AI provides an overview of what scaling means and mentions several possible approaches, including increasing the number of nodes, using smart contracts to reduce manual verification, and implementing different consensus mechanisms. The AI suggests asking further questions or seeking additional assistance if needed. END OF EXAMPLE',\n 'response': 'Certainly! Sharding is a technique used to increase the scalability of blockchain networks by dividing the data into smaller, more manageable pieces called shards. Each shard contains a portion of the entire blockchain, which can be processed independently of other shards without affecting the rest of the network. This allows for increased throughput and reduced latency, as each shard can process transactions concurrently instead of waiting for all shards to agree on their validity.\\nThere are two main types of sharding: full and partial. Full sharding involves dividing the entire blockchain into multiple copies, while partial sharding only divides certain parts of the blockchain. In either case, the goal is to distribute the load across multiple nodes so that they can process transactions simultaneously, rather than waiting for a single node to confirm every transaction.\\nOne advantage of sharding is that it reduces the amount of computational resources required to process transactions, since each shard can process transactions independently. Additionally, sharding can improve the security of blockchains by reducing the risk of attacks on individual nodes, as each shard can act as its own validator. However, there are also some disadvantages to sharding, such as increased complexity and potential performance issues due to the need to manage and coordinate multiple nodes.\\nIn terms of implementation, there are several techniques that can be used to achieve sharding. One approach is to divide the blockchain into multiple layers, with each layer containing a subset of the entire blockchain. Another approach is to divide the blockchain into smaller blocks, with each block containing a subset of the entire blockchain. Additionally, some blockchain platforms have implemented sharding through the use of smart contracts, which allow for the automatic distribution of transactions across multiple nodes based on predetermined rules.\\nImplementing sharding requires careful consideration of various factors, such as the size of the blockchain, the desired level of scalability, and the available computing resources. It may also require changes to the underlying consensus mechanism, as well as modifications to the codebase of the blockchain platform. In general, however, sharding offers a promising solution for improving the scalability and reliability of blockchain networks.'}"
     },
     "execution_count": 7,
     "metadata": {},
     "output_type": "execute_result"
    }
   ],
   "source": [
    "track_tokens_usage(conversation, \"Could you please elaborate more on sharding? Try to use at least 1000 words.\")"
   ],
   "metadata": {
    "collapsed": false,
    "ExecuteTime": {
     "end_time": "2024-07-01T08:46:21.495955Z",
     "start_time": "2024-07-01T08:46:17.296034Z"
    }
   },
   "id": "d1f6fe61224a8987",
   "execution_count": 7
  },
  {
   "cell_type": "code",
   "outputs": [
    {
     "name": "stdout",
     "output_type": "stream",
     "text": [
      "Total tokens: 0\n"
     ]
    },
    {
     "data": {
      "text/plain": "{'input': 'What are the cons of sharding?',\n 'history': 'The human expresses an interest in exploring the options of scaling Ethereum. The AI provides an overview of what scaling means and mentions several possible approaches, including increasing the number of nodes, using smart contracts to reduce manual verification, and implementing different consensus mechanisms. The AI suggests asking further questions or seeking additional assistance if needed. END OF EXAMPLE',\n 'response': \"Sharding can introduce some challenges:\\n\\n1. Scalability: Sharding can make the network more scalable by distributing transactions across multiple nodes, but this comes with the risk that a single node failure could cause the entire network to slow down.\\n2. Performance: Each shard may have its own set of data and operations, which can lead to performance differences when communicating between shards.\\n3. Complexity: Sharding requires additional infrastructure, such as a separate blockchain for each shard, and managing the communication between them can be complex.\\n4. Security: While sharding can help improve security by reducing the attack surface area, it also increases the complexity of maintaining security measures.\\n5. Cost: Implementing sharding can increase the cost of running the network due to the additional hardware and software required.\\n\\nIt's important to note that while these challenges exist, many projects have successfully implemented sharding and found ways to mitigate their impact. It ultimately depends on the specific use case and the trade-offs involved.\"}"
     },
     "execution_count": 9,
     "metadata": {},
     "output_type": "execute_result"
    }
   ],
   "source": [
    "track_tokens_usage(conversation, \"What are the cons of sharding?\")"
   ],
   "metadata": {
    "collapsed": false,
    "ExecuteTime": {
     "end_time": "2024-06-28T03:14:27.674057Z",
     "start_time": "2024-06-28T03:14:25.097171Z"
    }
   },
   "id": "ef3157315a6f342a",
   "execution_count": 9
  },
  {
   "cell_type": "code",
   "outputs": [
    {
     "name": "stdout",
     "output_type": "stream",
     "text": [
      "The human expresses an interest in exploring the options of scaling Ethereum. The AI provides an overview of what scaling means and mentions several possible approaches, including increasing the number of nodes, using smart contracts to reduce manual verification, and implementing different consensus mechanisms. The AI suggests asking further questions or seeking additional assistance if needed.\n"
     ]
    }
   ],
   "source": [
    "print(conversation.memory.buffer)"
   ],
   "metadata": {
    "collapsed": false,
    "ExecuteTime": {
     "end_time": "2024-07-01T08:46:28.354758Z",
     "start_time": "2024-07-01T08:46:28.351468Z"
    }
   },
   "id": "bfd3ded3d788b1da",
   "execution_count": 8
  },
  {
   "cell_type": "code",
   "outputs": [],
   "source": [],
   "metadata": {
    "collapsed": false
   },
   "id": "1a5b64eac287c89b"
  }
 ],
 "metadata": {
  "kernelspec": {
   "display_name": "Python 3",
   "language": "python",
   "name": "python3"
  },
  "language_info": {
   "codemirror_mode": {
    "name": "ipython",
    "version": 2
   },
   "file_extension": ".py",
   "mimetype": "text/x-python",
   "name": "python",
   "nbconvert_exporter": "python",
   "pygments_lexer": "ipython2",
   "version": "2.7.6"
  }
 },
 "nbformat": 4,
 "nbformat_minor": 5
}
