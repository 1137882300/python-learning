{
 "cells": [
  {
   "cell_type": "code",
   "execution_count": null,
   "id": "initial_id",
   "metadata": {
    "collapsed": true
   },
   "outputs": [],
   "source": [
    "from langchain.vectorstores import Chroma\n",
    "\n",
    "persist_directory = 'starknet'\n",
    "collection_name = 'starknet_index'\n",
    "# 创建\n",
    "vectorstore = Chroma.from_documents(split_docs,\n",
    "                                    embeddings,\n",
    "                                    collection_name=collection_name,\n",
    "                                    persist_directory=persist_directory)"
   ]
  },
  {
   "cell_type": "code",
   "outputs": [],
   "source": [
    "# 已存在的\n",
    "vectordb = Chroma(collection_name=collection_name,\n",
    "                  persist_directory=persist_directory,\n",
    "                  embedding_function=embeddings)"
   ],
   "metadata": {
    "collapsed": false
   },
   "id": "e27504312f3ece0e"
  },
  {
   "cell_type": "code",
   "outputs": [],
   "source": [
    "import os\n",
    "import chromadb\n",
    "from chromadb import Settings\n",
    "\n",
    "# Path(__file__).parent：这一行创建了一个 Path 对象，表示当前脚本文件所在的目录。\n",
    "# __file__ 是一个内置变量，指向当前脚本的路径。.parent 方法返回该路径的父目录。\n",
    "# BACKEND_DIR = Path(__file__).parent\n",
    "# DATA_DIR = Path(os.getenv(\"DATA_DIR\", BACKEND_DIR / \"data\")).resolve()\n",
    "\n",
    "path = '/Users/pangmengting/Documents/workspace/python-learning/langchain/chromadb'\n",
    "CHROMA_DATA_PATH = f\"{path}/vector_db\"\n",
    "CHROMA_TENANT = os.environ.get(\"CHROMA_TENANT\", chromadb.DEFAULT_TENANT)\n",
    "CHROMA_DATABASE = os.environ.get(\"CHROMA_DATABASE\", chromadb.DEFAULT_DATABASE)\n",
    "\n",
    "# 初始化 chromadb\n",
    "CHROMA_CLIENT = chromadb.PersistentClient(\n",
    "    path=CHROMA_DATA_PATH,\n",
    "    settings=Settings(allow_reset=True, anonymized_telemetry=False),\n",
    "    tenant=CHROMA_TENANT,\n",
    "    database=CHROMA_DATABASE,\n",
    ")"
   ],
   "metadata": {
    "collapsed": false
   },
   "id": "662d2ee06223fba6"
  }
 ],
 "metadata": {
  "kernelspec": {
   "display_name": "Python 3",
   "language": "python",
   "name": "python3"
  },
  "language_info": {
   "codemirror_mode": {
    "name": "ipython",
    "version": 2
   },
   "file_extension": ".py",
   "mimetype": "text/x-python",
   "name": "python",
   "nbconvert_exporter": "python",
   "pygments_lexer": "ipython2",
   "version": "2.7.6"
  }
 },
 "nbformat": 4,
 "nbformat_minor": 5
}
