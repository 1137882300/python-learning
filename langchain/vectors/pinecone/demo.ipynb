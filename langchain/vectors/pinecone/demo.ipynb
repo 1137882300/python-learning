{
 "cells": [
  {
   "cell_type": "code",
   "execution_count": 2,
   "id": "initial_id",
   "metadata": {
    "collapsed": true,
    "ExecuteTime": {
     "end_time": "2024-06-19T10:23:46.265921Z",
     "start_time": "2024-06-19T10:23:43.152649Z"
    }
   },
   "outputs": [
    {
     "name": "stdout",
     "output_type": "stream",
     "text": [
      "Looking in indexes: https://pypi.tuna.tsinghua.edu.cn/simple\r\n",
      "Collecting langchain-pinecone\r\n",
      "  Downloading https://pypi.tuna.tsinghua.edu.cn/packages/5f/48/f9332bdc73f340a9b55923b14a8cd1fd5601daabb49cd665b789630633c3/langchain_pinecone-0.1.1-py3-none-any.whl (8.4 kB)\r\n",
      "Requirement already satisfied: langchain-core<0.3,>=0.1.52 in /Users/pangmengting/venv/lib/python3.10/site-packages (from langchain-pinecone) (0.2.7)\r\n",
      "Requirement already satisfied: numpy<2,>=1 in /Users/pangmengting/venv/lib/python3.10/site-packages (from langchain-pinecone) (1.25.1)\r\n",
      "Collecting pinecone-client<4.0.0,>=3.2.2 (from langchain-pinecone)\r\n",
      "  Downloading https://pypi.tuna.tsinghua.edu.cn/packages/cb/bb/c51fa42d85f431b3b3ec4c35a13a8bb99cafc0671918139a48767421d354/pinecone_client-3.2.2-py3-none-any.whl (215 kB)\r\n",
      "\u001B[2K     \u001B[90m━━━━━━━━━━━━━━━━━━━━━━━━━━━━━━━━━━━━━\u001B[0m \u001B[32m215.9/215.9 kB\u001B[0m \u001B[31m670.5 kB/s\u001B[0m eta \u001B[36m0:00:00\u001B[0ma \u001B[36m0:00:01\u001B[0m\r\n",
      "\u001B[?25hRequirement already satisfied: PyYAML>=5.3 in /Users/pangmengting/venv/lib/python3.10/site-packages (from langchain-core<0.3,>=0.1.52->langchain-pinecone) (6.0.1)\r\n",
      "Requirement already satisfied: jsonpatch<2.0,>=1.33 in /Users/pangmengting/venv/lib/python3.10/site-packages (from langchain-core<0.3,>=0.1.52->langchain-pinecone) (1.33)\r\n",
      "Requirement already satisfied: langsmith<0.2.0,>=0.1.75 in /Users/pangmengting/venv/lib/python3.10/site-packages (from langchain-core<0.3,>=0.1.52->langchain-pinecone) (0.1.77)\r\n",
      "Requirement already satisfied: packaging<25,>=23.2 in /Users/pangmengting/venv/lib/python3.10/site-packages (from langchain-core<0.3,>=0.1.52->langchain-pinecone) (23.2)\r\n",
      "Requirement already satisfied: pydantic<3,>=1 in /Users/pangmengting/venv/lib/python3.10/site-packages (from langchain-core<0.3,>=0.1.52->langchain-pinecone) (2.6.4)\r\n",
      "Requirement already satisfied: tenacity<9.0.0,>=8.1.0 in /Users/pangmengting/venv/lib/python3.10/site-packages (from langchain-core<0.3,>=0.1.52->langchain-pinecone) (8.2.3)\r\n",
      "Requirement already satisfied: certifi>=2019.11.17 in /Users/pangmengting/venv/lib/python3.10/site-packages (from pinecone-client<4.0.0,>=3.2.2->langchain-pinecone) (2024.6.2)\r\n",
      "Requirement already satisfied: tqdm>=4.64.1 in /Users/pangmengting/venv/lib/python3.10/site-packages (from pinecone-client<4.0.0,>=3.2.2->langchain-pinecone) (4.65.0)\r\n",
      "Requirement already satisfied: typing-extensions>=3.7.4 in /Users/pangmengting/venv/lib/python3.10/site-packages (from pinecone-client<4.0.0,>=3.2.2->langchain-pinecone) (4.10.0)\r\n",
      "Requirement already satisfied: urllib3>=1.26.0 in /Users/pangmengting/venv/lib/python3.10/site-packages (from pinecone-client<4.0.0,>=3.2.2->langchain-pinecone) (2.2.1)\r\n",
      "Requirement already satisfied: jsonpointer>=1.9 in /Users/pangmengting/venv/lib/python3.10/site-packages (from jsonpatch<2.0,>=1.33->langchain-core<0.3,>=0.1.52->langchain-pinecone) (2.4)\r\n",
      "Requirement already satisfied: orjson<4.0.0,>=3.9.14 in /Users/pangmengting/venv/lib/python3.10/site-packages (from langsmith<0.2.0,>=0.1.75->langchain-core<0.3,>=0.1.52->langchain-pinecone) (3.9.15)\r\n",
      "Requirement already satisfied: requests<3,>=2 in /Users/pangmengting/venv/lib/python3.10/site-packages (from langsmith<0.2.0,>=0.1.75->langchain-core<0.3,>=0.1.52->langchain-pinecone) (2.31.0)\r\n",
      "Requirement already satisfied: annotated-types>=0.4.0 in /Users/pangmengting/venv/lib/python3.10/site-packages (from pydantic<3,>=1->langchain-core<0.3,>=0.1.52->langchain-pinecone) (0.6.0)\r\n",
      "Requirement already satisfied: pydantic-core==2.16.3 in /Users/pangmengting/venv/lib/python3.10/site-packages (from pydantic<3,>=1->langchain-core<0.3,>=0.1.52->langchain-pinecone) (2.16.3)\r\n",
      "Requirement already satisfied: charset-normalizer<4,>=2 in /Users/pangmengting/venv/lib/python3.10/site-packages (from requests<3,>=2->langsmith<0.2.0,>=0.1.75->langchain-core<0.3,>=0.1.52->langchain-pinecone) (3.2.0)\r\n",
      "Requirement already satisfied: idna<4,>=2.5 in /Users/pangmengting/venv/lib/python3.10/site-packages (from requests<3,>=2->langsmith<0.2.0,>=0.1.75->langchain-core<0.3,>=0.1.52->langchain-pinecone) (3.4)\r\n",
      "Installing collected packages: pinecone-client, langchain-pinecone\r\n",
      "  Attempting uninstall: pinecone-client\r\n",
      "    Found existing installation: pinecone-client 2.2.2\r\n",
      "    Uninstalling pinecone-client-2.2.2:\r\n",
      "      Successfully uninstalled pinecone-client-2.2.2\r\n",
      "Successfully installed langchain-pinecone-0.1.1 pinecone-client-3.2.2\r\n"
     ]
    }
   ],
   "source": [
    "# !pip install langchain-pinecone"
   ]
  },
  {
   "cell_type": "code",
   "outputs": [
    {
     "name": "stdout",
     "output_type": "stream",
     "text": [
      "b693c16e-9b74-48af-a4af-c314a72f85df\n"
     ]
    }
   ],
   "source": [
    "from dotenv import load_dotenv\n",
    "import os\n",
    "\n",
    "# 加载当前目录下的.env文件\n",
    "# load_dotenv()\n",
    "# load_dotenv(override=True) 会重新读取.env\n",
    "load_dotenv(override=True)\n",
    "pinecone_api_key = os.environ.get(\"PINECONE_API_KEY\")\n",
    "print(pinecone_api_key)"
   ],
   "metadata": {
    "collapsed": false,
    "ExecuteTime": {
     "end_time": "2024-06-19T10:27:26.971264Z",
     "start_time": "2024-06-19T10:27:26.961298Z"
    }
   },
   "id": "f91a5d8a49cd6709",
   "execution_count": 6
  },
  {
   "cell_type": "code",
   "outputs": [],
   "source": [
    "from pinecone import Pinecone, ServerlessSpec\n",
    "# https://app.pinecone.io/\n",
    "pc = Pinecone(api_key=pinecone_api_key)"
   ],
   "metadata": {
    "collapsed": false,
    "ExecuteTime": {
     "end_time": "2024-06-19T10:27:29.840347Z",
     "start_time": "2024-06-19T10:27:29.828972Z"
    }
   },
   "id": "234635a74ef6e03e",
   "execution_count": 7
  },
  {
   "cell_type": "code",
   "outputs": [],
   "source": [
    "from langchain_community.document_loaders import TextLoader\n",
    "from langchain_text_splitters import CharacterTextSplitter\n",
    "\n",
    "path = \"../../file/最后一个问题.txt\"\n",
    "\n",
    "loader = TextLoader(path)\n",
    "documents = loader.load()\n",
    "text_splitter = CharacterTextSplitter(chunk_size=1000, chunk_overlap=0)\n",
    "docs = text_splitter.split_documents(documents)"
   ],
   "metadata": {
    "collapsed": false,
    "ExecuteTime": {
     "end_time": "2024-06-19T10:31:49.381244Z",
     "start_time": "2024-06-19T10:31:49.378427Z"
    }
   },
   "id": "5ae5a4106add44ed",
   "execution_count": 13
  },
  {
   "cell_type": "code",
   "outputs": [],
   "source": [
    "# 最新的Embedding方式\n",
    "# cloudflare_workersai\n",
    "from langchain_community.embeddings.cloudflare_workersai import (\n",
    "    CloudflareWorkersAIEmbeddings,\n",
    ")\n",
    "\n",
    "account_id = os.getenv('CF_ACCOUNT_ID')\n",
    "api_token = os.getenv('CF_API_TOKEN')\n",
    "embeddings = CloudflareWorkersAIEmbeddings(\n",
    "    account_id=account_id,\n",
    "    api_token=api_token,\n",
    "    model_name=\"@cf/baai/bge-small-en-v1.5\",\n",
    ")"
   ],
   "metadata": {
    "collapsed": false,
    "ExecuteTime": {
     "end_time": "2024-06-19T10:32:58.914916Z",
     "start_time": "2024-06-19T10:32:58.870724Z"
    }
   },
   "id": "771e3a30f1fb7dee",
   "execution_count": 14
  },
  {
   "cell_type": "code",
   "outputs": [],
   "source": [
    "import time\n",
    "\n",
    "index_name = \"langchain-index\"  # change if desired\n",
    "\n",
    "existing_indexes = [index_info[\"name\"] for index_info in pc.list_indexes()]\n",
    "\n",
    "if index_name not in existing_indexes:\n",
    "    pc.create_index(\n",
    "        name=index_name,\n",
    "        dimension=384,\n",
    "        metric=\"cosine\",\n",
    "        spec=ServerlessSpec(cloud=\"aws\", region=\"us-east-1\"),\n",
    "    )\n",
    "    while not pc.describe_index(index_name).status[\"ready\"]:\n",
    "        time.sleep(1)\n",
    "\n",
    "index = pc.Index(index_name)"
   ],
   "metadata": {
    "collapsed": false,
    "ExecuteTime": {
     "end_time": "2024-06-19T10:33:55.260911Z",
     "start_time": "2024-06-19T10:33:47.927828Z"
    }
   },
   "id": "240e080bf1dbfa58",
   "execution_count": 15
  },
  {
   "cell_type": "code",
   "outputs": [],
   "source": [
    "from langchain_pinecone import PineconeVectorStore\n",
    "\n",
    "docsearch = PineconeVectorStore.from_documents(docs, embeddings, index_name=index_name)"
   ],
   "metadata": {
    "collapsed": false,
    "ExecuteTime": {
     "end_time": "2024-06-19T10:34:20.689036Z",
     "start_time": "2024-06-19T10:34:16.372291Z"
    }
   },
   "id": "5aaa4e40e2631f85",
   "execution_count": 16
  },
  {
   "cell_type": "code",
   "outputs": [
    {
     "name": "stdout",
     "output_type": "stream",
     "text": [
      "Rachel, undeterred, held the book close, as if it were a talisman against the chaos outside. \"We can't leave,\" she said, her voice steady. \"We have to wait out the storm.\"\n",
      "\n",
      "Clement, hesitating, was drawn into Rachel's gaze. Something in her eyes sparkled, like the half-remembered promise of a forgotten dream\n"
     ]
    }
   ],
   "source": [
    "query = \"What did the president say about Ketanji Brown Jackson\"\n",
    "docs = docsearch.similarity_search(query)\n",
    "print(docs[0].page_content)"
   ],
   "metadata": {
    "collapsed": false,
    "ExecuteTime": {
     "end_time": "2024-06-19T10:34:30.964174Z",
     "start_time": "2024-06-19T10:34:29.775549Z"
    }
   },
   "id": "bcc01eacc90108fa",
   "execution_count": 17
  },
  {
   "cell_type": "code",
   "outputs": [],
   "source": [],
   "metadata": {
    "collapsed": false
   },
   "id": "5781376cdac8e3e2"
  }
 ],
 "metadata": {
  "kernelspec": {
   "display_name": "Python 3",
   "language": "python",
   "name": "python3"
  },
  "language_info": {
   "codemirror_mode": {
    "name": "ipython",
    "version": 2
   },
   "file_extension": ".py",
   "mimetype": "text/x-python",
   "name": "python",
   "nbconvert_exporter": "python",
   "pygments_lexer": "ipython2",
   "version": "2.7.6"
  }
 },
 "nbformat": 4,
 "nbformat_minor": 5
}
