{
 "cells": [
  {
   "cell_type": "code",
   "execution_count": null,
   "id": "initial_id",
   "metadata": {
    "collapsed": true
   },
   "outputs": [],
   "source": [
    "# 05 输出解析器\n",
    "# LLM的输出为文本，但在程序中除了显示文本，可能希望获得更结构化的数据。这就是输出解析器（Output Parsers）的用武之地。"
   ]
  },
  {
   "cell_type": "code",
   "outputs": [
    {
     "data": {
      "text/plain": "['black', 'yellow', 'red', 'green', 'white', 'blue']"
     },
     "execution_count": 1,
     "metadata": {},
     "output_type": "execute_result"
    }
   ],
   "source": [
    "from langchain.output_parsers import CommaSeparatedListOutputParser\n",
    "\n",
    "# List Parser将逗号分隔的文本解析为列表。\n",
    "output_parser = CommaSeparatedListOutputParser()\n",
    "output_parser.parse(\"black, yellow, red, green, white, blue\")"
   ],
   "metadata": {
    "collapsed": false,
    "ExecuteTime": {
     "end_time": "2024-06-28T08:31:32.361412Z",
     "start_time": "2024-06-28T08:31:32.123684Z"
    }
   },
   "id": "88aac3cf41a8f498",
   "execution_count": 1
  },
  {
   "cell_type": "code",
   "outputs": [],
   "source": [
    "# Structured Output Parser\n",
    "# 当我们想要类似JSON数据结构，包含多个字段时，可以使用这个输出解析器。\n",
    "# 该解析器可以生成指令帮助LLM返回结构化数据文本，同时完成文本到结构化数据的解析工作。"
   ],
   "metadata": {
    "collapsed": false
   },
   "id": "b9aae24ea7e0f507"
  },
  {
   "cell_type": "code",
   "outputs": [
    {
     "data": {
      "text/plain": "'The output should be a markdown code snippet formatted in the following schema, including the leading and trailing \"```json\" and \"```\":\\n\\n```json\\n{\\n\\t\"answer\": string  // 对用户问题的回答\\n\\t\"source\": string  // 用于回答用户问题所引用的来源，应该是一个网站。\\n}\\n```'"
     },
     "execution_count": 3,
     "metadata": {},
     "output_type": "execute_result"
    }
   ],
   "source": [
    "from langchain.output_parsers import StructuredOutputParser, ResponseSchema\n",
    "from langchain.prompts import PromptTemplate, ChatPromptTemplate, HumanMessagePromptTemplate\n",
    "from langchain.llms import OpenAI\n",
    "\n",
    "# 定义响应的结构(JSON)，两个字段 answer和source。\n",
    "response_schemas = [\n",
    "    ResponseSchema(name=\"answer\", description=\"对用户问题的回答\"),\n",
    "    ResponseSchema(name=\"source\", description=\"用于回答用户问题所引用的来源，应该是一个网站。\")\n",
    "]\n",
    "output_parser = StructuredOutputParser.from_response_schemas(response_schemas)\n",
    "\n",
    "# 获取响应格式化的指令\n",
    "format_instructions = output_parser.get_format_instructions()\n",
    "\n",
    "format_instructions"
   ],
   "metadata": {
    "collapsed": false,
    "ExecuteTime": {
     "end_time": "2024-06-28T08:33:56.016936Z",
     "start_time": "2024-06-28T08:33:56.013426Z"
    }
   },
   "id": "cf84d62636bd996f",
   "execution_count": 3
  },
  {
   "cell_type": "code",
   "outputs": [
    {
     "name": "stdout",
     "output_type": "stream",
     "text": [
      "8483c3ec7a0cbc54a8d660b5b9002b04\n",
      "Gcllof8ze6dgtcqFI5FQZ2SD_5tfCD4Db7NuS6jn\n",
      "sk-01c5003340c3453b934052d737d45e01\n",
      "sk-UGVpjuTwo2Q8pewoqUDfckw1A0pbSDli9ElFMeS9WareKknG\n",
      "https://api.moonshot.cn/v1/\n"
     ]
    }
   ],
   "source": [
    "import os\n",
    "from langchain_community.llms.cloudflare_workersai import CloudflareWorkersAI\n",
    "from langchain_community.llms.tongyi import Tongyi\n",
    "from langchain_openai import ChatOpenAI\n",
    "from dotenv import load_dotenv\n",
    "\n",
    "load_dotenv(override=True)\n",
    "\n",
    "account_id = os.getenv('CF_ACCOUNT_ID')\n",
    "api_token = os.getenv('CF_API_TOKEN')\n",
    "print(account_id)\n",
    "print(api_token)\n",
    "\n",
    "# CloudflareWorkersAI\n",
    "model = '@cf/meta/llama-3-8b-instruct'\n",
    "cf_llm = CloudflareWorkersAI(\n",
    "    account_id=account_id,\n",
    "    api_token=api_token,\n",
    "    model=model\n",
    ")\n",
    "\n",
    "DASHSCOPE_API_KEY = os.getenv('DASHSCOPE_API_KEY')\n",
    "print(DASHSCOPE_API_KEY)\n",
    "\n",
    "# qwen\n",
    "qw_llm = Tongyi(\n",
    "    model='qwen2-1.5b-instruct'\n",
    ")\n",
    "\n",
    "# qwen 兼容 openai的接口\n",
    "qw_llm_openai = ChatOpenAI(\n",
    "    openai_api_base='https://dashscope.aliyuncs.com/compatible-mode/v1',\n",
    "    openai_api_key=DASHSCOPE_API_KEY,\n",
    "    model_name=\"qwen2-1.5b-instruct\",\n",
    "    temperature=0.7,\n",
    "    streaming=True,\n",
    ")\n",
    "\n",
    "api_key = os.getenv('OPENAI_API_KEY')\n",
    "base_url = os.getenv('OPENAI_API_BASE')\n",
    "print(api_key)\n",
    "print(base_url)\n",
    "\n",
    "# openai/moonshot\n",
    "ms_llm = ChatOpenAI(\n",
    "    openai_api_base=base_url,\n",
    "    openai_api_key=api_key,\n",
    "    model_name=\"moonshot-v1-8k\",\n",
    "    temperature=0.7,\n",
    ")"
   ],
   "metadata": {
    "collapsed": false,
    "ExecuteTime": {
     "end_time": "2024-06-28T08:35:35.746066Z",
     "start_time": "2024-06-28T08:35:35.330477Z"
    }
   },
   "id": "bf6b4f1f0d1ed029",
   "execution_count": 4
  },
  {
   "cell_type": "code",
   "outputs": [
    {
     "name": "stdout",
     "output_type": "stream",
     "text": [
      "text='answer the users question as best as possible.\\nThe output should be a markdown code snippet formatted in the following schema, including the leading and trailing \"```json\" and \"```\":\\n\\n```json\\n{\\n\\t\"answer\": string  // 对用户问题的回答\\n\\t\"source\": string  // 用于回答用户问题所引用的来源，应该是一个网站。\\n}\\n```\\nWho is the CEO of Tesla?'\n"
     ]
    },
    {
     "ename": "TypeError",
     "evalue": "Expected a Runnable, callable or dict.Instead got an unsupported type: <class 'str'>",
     "output_type": "error",
     "traceback": [
      "\u001B[0;31m---------------------------------------------------------------------------\u001B[0m",
      "\u001B[0;31mTypeError\u001B[0m                                 Traceback (most recent call last)",
      "Cell \u001B[0;32mIn[10], line 13\u001B[0m\n\u001B[1;32m     11\u001B[0m \u001B[38;5;28mprint\u001B[39m(response)\n\u001B[1;32m     12\u001B[0m \u001B[38;5;66;03m# output = qw_llm_openai.invoke(response.to_string(), StrOutputParser())\u001B[39;00m\n\u001B[0;32m---> 13\u001B[0m output \u001B[38;5;241m=\u001B[39m \u001B[43mresponse\u001B[49m\u001B[38;5;241;43m.\u001B[39;49m\u001B[43mto_string\u001B[49m\u001B[43m(\u001B[49m\u001B[43m)\u001B[49m\u001B[43m \u001B[49m\u001B[38;5;241;43m|\u001B[39;49m\u001B[43m \u001B[49m\u001B[43mqw_llm_openai\u001B[49m \u001B[38;5;241m|\u001B[39m StrOutputParser()\n\u001B[1;32m     14\u001B[0m \u001B[38;5;28mprint\u001B[39m(output)\n",
      "File \u001B[0;32m~/venv/lib/python3.10/site-packages/langchain_core/runnables/base.py:442\u001B[0m, in \u001B[0;36mRunnable.__ror__\u001B[0;34m(self, other)\u001B[0m\n\u001B[1;32m    432\u001B[0m \u001B[38;5;28;01mdef\u001B[39;00m \u001B[38;5;21m__ror__\u001B[39m(\n\u001B[1;32m    433\u001B[0m     \u001B[38;5;28mself\u001B[39m,\n\u001B[1;32m    434\u001B[0m     other: Union[\n\u001B[0;32m   (...)\u001B[0m\n\u001B[1;32m    439\u001B[0m     ],\n\u001B[1;32m    440\u001B[0m ) \u001B[38;5;241m-\u001B[39m\u001B[38;5;241m>\u001B[39m RunnableSerializable[Other, Output]:\n\u001B[1;32m    441\u001B[0m \u001B[38;5;250m    \u001B[39m\u001B[38;5;124;03m\"\"\"Compose this runnable with another object to create a RunnableSequence.\"\"\"\u001B[39;00m\n\u001B[0;32m--> 442\u001B[0m     \u001B[38;5;28;01mreturn\u001B[39;00m RunnableSequence(\u001B[43mcoerce_to_runnable\u001B[49m\u001B[43m(\u001B[49m\u001B[43mother\u001B[49m\u001B[43m)\u001B[49m, \u001B[38;5;28mself\u001B[39m)\n",
      "File \u001B[0;32m~/venv/lib/python3.10/site-packages/langchain_core/runnables/base.py:5031\u001B[0m, in \u001B[0;36mcoerce_to_runnable\u001B[0;34m(thing)\u001B[0m\n\u001B[1;32m   5029\u001B[0m     \u001B[38;5;28;01mreturn\u001B[39;00m cast(Runnable[Input, Output], RunnableParallel(thing))\n\u001B[1;32m   5030\u001B[0m \u001B[38;5;28;01melse\u001B[39;00m:\n\u001B[0;32m-> 5031\u001B[0m     \u001B[38;5;28;01mraise\u001B[39;00m \u001B[38;5;167;01mTypeError\u001B[39;00m(\n\u001B[1;32m   5032\u001B[0m         \u001B[38;5;124mf\u001B[39m\u001B[38;5;124m\"\u001B[39m\u001B[38;5;124mExpected a Runnable, callable or dict.\u001B[39m\u001B[38;5;124m\"\u001B[39m\n\u001B[1;32m   5033\u001B[0m         \u001B[38;5;124mf\u001B[39m\u001B[38;5;124m\"\u001B[39m\u001B[38;5;124mInstead got an unsupported type: \u001B[39m\u001B[38;5;132;01m{\u001B[39;00m\u001B[38;5;28mtype\u001B[39m(thing)\u001B[38;5;132;01m}\u001B[39;00m\u001B[38;5;124m\"\u001B[39m\n\u001B[1;32m   5034\u001B[0m     )\n",
      "\u001B[0;31mTypeError\u001B[0m: Expected a Runnable, callable or dict.Instead got an unsupported type: <class 'str'>"
     ]
    }
   ],
   "source": [
    "from langchain_core.output_parsers import StrOutputParser\n",
    "\n",
    "# partial_variables允许在代码中预填充提示此模版的部分变量。这类似于接口，抽象类之间的关系\n",
    "prompt = PromptTemplate(\n",
    "    template=\"answer the users question as best as possible.\\n{format_instructions}\\n{question}\",\n",
    "    input_variables=[\"question\"],\n",
    "    partial_variables={\"format_instructions\": format_instructions}\n",
    ")\n",
    "\n",
    "response = prompt.format_prompt(question=\"Who is the CEO of Tesla?\")\n",
    "print(response)\n",
    "output = qw_llm_openai.invoke(response.to_string())\n",
    "# output = response.to_string() | qw_llm_openai | StrOutputParser()\n",
    "print(output)"
   ],
   "metadata": {
    "collapsed": false,
    "ExecuteTime": {
     "end_time": "2024-06-28T08:41:44.869222Z",
     "start_time": "2024-06-28T08:41:44.749541Z"
    }
   },
   "id": "77f8711d5c9d2d08",
   "execution_count": 10
  },
  {
   "cell_type": "code",
   "outputs": [
    {
     "name": "stdout",
     "output_type": "stream",
     "text": [
      "text='answer the users question as best as possible.\\nThe output should be a markdown code snippet formatted in the following schema, including the leading and trailing \"```json\" and \"```\":\\n\\n```json\\n{\\n\\t\"answer\": string  // 对用户问题的回答\\n\\t\"source\": string  // 用于回答用户问题所引用的来源，应该是一个网站。\\n}\\n```\\nWho is the CEO of Tesla?'\n",
      "content='```json\\n{\\n\\t\"answer\": \"埃隆·马斯克是特斯拉公司的CEO。\",\\n\\t\"source\": \"https://www.businessinsider.com/elon-musk-is-the-ceo-of-tesla-2019-5\"\\n}\\n```' response_metadata={'finish_reason': 'stop'} id='run-288ee521-ebe5-456b-907a-f1679fdf23a9-0'\n"
     ]
    },
    {
     "ename": "AttributeError",
     "evalue": "'AIMessage' object has no attribute 'strip'",
     "output_type": "error",
     "traceback": [
      "\u001B[0;31m---------------------------------------------------------------------------\u001B[0m",
      "\u001B[0;31mAttributeError\u001B[0m                            Traceback (most recent call last)",
      "Cell \u001B[0;32mIn[8], line 12\u001B[0m\n\u001B[1;32m     10\u001B[0m output \u001B[38;5;241m=\u001B[39m qw_llm_openai\u001B[38;5;241m.\u001B[39minvoke(response\u001B[38;5;241m.\u001B[39mto_string())\n\u001B[1;32m     11\u001B[0m \u001B[38;5;28mprint\u001B[39m(output)\n\u001B[0;32m---> 12\u001B[0m \u001B[43moutput_parser\u001B[49m\u001B[38;5;241;43m.\u001B[39;49m\u001B[43mparse\u001B[49m\u001B[43m(\u001B[49m\u001B[43moutput\u001B[49m\u001B[43m)\u001B[49m\n",
      "File \u001B[0;32m~/venv/lib/python3.10/site-packages/langchain/output_parsers/structured.py:97\u001B[0m, in \u001B[0;36mStructuredOutputParser.parse\u001B[0;34m(self, text)\u001B[0m\n\u001B[1;32m     95\u001B[0m \u001B[38;5;28;01mdef\u001B[39;00m \u001B[38;5;21mparse\u001B[39m(\u001B[38;5;28mself\u001B[39m, text: \u001B[38;5;28mstr\u001B[39m) \u001B[38;5;241m-\u001B[39m\u001B[38;5;241m>\u001B[39m Any:\n\u001B[1;32m     96\u001B[0m     expected_keys \u001B[38;5;241m=\u001B[39m [rs\u001B[38;5;241m.\u001B[39mname \u001B[38;5;28;01mfor\u001B[39;00m rs \u001B[38;5;129;01min\u001B[39;00m \u001B[38;5;28mself\u001B[39m\u001B[38;5;241m.\u001B[39mresponse_schemas]\n\u001B[0;32m---> 97\u001B[0m     \u001B[38;5;28;01mreturn\u001B[39;00m \u001B[43mparse_and_check_json_markdown\u001B[49m\u001B[43m(\u001B[49m\u001B[43mtext\u001B[49m\u001B[43m,\u001B[49m\u001B[43m \u001B[49m\u001B[43mexpected_keys\u001B[49m\u001B[43m)\u001B[49m\n",
      "File \u001B[0;32m~/venv/lib/python3.10/site-packages/langchain_core/utils/json.py:176\u001B[0m, in \u001B[0;36mparse_and_check_json_markdown\u001B[0;34m(text, expected_keys)\u001B[0m\n\u001B[1;32m    164\u001B[0m \u001B[38;5;250m\u001B[39m\u001B[38;5;124;03m\"\"\"\u001B[39;00m\n\u001B[1;32m    165\u001B[0m \u001B[38;5;124;03mParse a JSON string from a Markdown string and check that it\u001B[39;00m\n\u001B[1;32m    166\u001B[0m \u001B[38;5;124;03mcontains the expected keys.\u001B[39;00m\n\u001B[0;32m   (...)\u001B[0m\n\u001B[1;32m    173\u001B[0m \u001B[38;5;124;03m    The parsed JSON object as a Python dictionary.\u001B[39;00m\n\u001B[1;32m    174\u001B[0m \u001B[38;5;124;03m\"\"\"\u001B[39;00m\n\u001B[1;32m    175\u001B[0m \u001B[38;5;28;01mtry\u001B[39;00m:\n\u001B[0;32m--> 176\u001B[0m     json_obj \u001B[38;5;241m=\u001B[39m \u001B[43mparse_json_markdown\u001B[49m\u001B[43m(\u001B[49m\u001B[43mtext\u001B[49m\u001B[43m)\u001B[49m\n\u001B[1;32m    177\u001B[0m \u001B[38;5;28;01mexcept\u001B[39;00m json\u001B[38;5;241m.\u001B[39mJSONDecodeError \u001B[38;5;28;01mas\u001B[39;00m e:\n\u001B[1;32m    178\u001B[0m     \u001B[38;5;28;01mraise\u001B[39;00m OutputParserException(\u001B[38;5;124mf\u001B[39m\u001B[38;5;124m\"\u001B[39m\u001B[38;5;124mGot invalid JSON object. Error: \u001B[39m\u001B[38;5;132;01m{\u001B[39;00me\u001B[38;5;132;01m}\u001B[39;00m\u001B[38;5;124m\"\u001B[39m)\n",
      "File \u001B[0;32m~/venv/lib/python3.10/site-packages/langchain_core/utils/json.py:136\u001B[0m, in \u001B[0;36mparse_json_markdown\u001B[0;34m(json_string, parser)\u001B[0m\n\u001B[1;32m    126\u001B[0m \u001B[38;5;250m\u001B[39m\u001B[38;5;124;03m\"\"\"\u001B[39;00m\n\u001B[1;32m    127\u001B[0m \u001B[38;5;124;03mParse a JSON string from a Markdown string.\u001B[39;00m\n\u001B[1;32m    128\u001B[0m \n\u001B[0;32m   (...)\u001B[0m\n\u001B[1;32m    133\u001B[0m \u001B[38;5;124;03m    The parsed JSON object as a Python dictionary.\u001B[39;00m\n\u001B[1;32m    134\u001B[0m \u001B[38;5;124;03m\"\"\"\u001B[39;00m\n\u001B[1;32m    135\u001B[0m \u001B[38;5;28;01mtry\u001B[39;00m:\n\u001B[0;32m--> 136\u001B[0m     \u001B[38;5;28;01mreturn\u001B[39;00m \u001B[43m_parse_json\u001B[49m\u001B[43m(\u001B[49m\u001B[43mjson_string\u001B[49m\u001B[43m,\u001B[49m\u001B[43m \u001B[49m\u001B[43mparser\u001B[49m\u001B[38;5;241;43m=\u001B[39;49m\u001B[43mparser\u001B[49m\u001B[43m)\u001B[49m\n\u001B[1;32m    137\u001B[0m \u001B[38;5;28;01mexcept\u001B[39;00m json\u001B[38;5;241m.\u001B[39mJSONDecodeError:\n\u001B[1;32m    138\u001B[0m     \u001B[38;5;66;03m# Try to find JSON string within triple backticks\u001B[39;00m\n\u001B[1;32m    139\u001B[0m     match \u001B[38;5;241m=\u001B[39m re\u001B[38;5;241m.\u001B[39msearch(\u001B[38;5;124mr\u001B[39m\u001B[38;5;124m\"\u001B[39m\u001B[38;5;124m```(json)?(.*)\u001B[39m\u001B[38;5;124m\"\u001B[39m, json_string, re\u001B[38;5;241m.\u001B[39mDOTALL)\n",
      "File \u001B[0;32m~/venv/lib/python3.10/site-packages/langchain_core/utils/json.py:154\u001B[0m, in \u001B[0;36m_parse_json\u001B[0;34m(json_str, parser)\u001B[0m\n\u001B[1;32m    150\u001B[0m \u001B[38;5;28;01mdef\u001B[39;00m \u001B[38;5;21m_parse_json\u001B[39m(\n\u001B[1;32m    151\u001B[0m     json_str: \u001B[38;5;28mstr\u001B[39m, \u001B[38;5;241m*\u001B[39m, parser: Callable[[\u001B[38;5;28mstr\u001B[39m], Any] \u001B[38;5;241m=\u001B[39m parse_partial_json\n\u001B[1;32m    152\u001B[0m ) \u001B[38;5;241m-\u001B[39m\u001B[38;5;241m>\u001B[39m \u001B[38;5;28mdict\u001B[39m:\n\u001B[1;32m    153\u001B[0m     \u001B[38;5;66;03m# Strip whitespace and newlines from the start and end\u001B[39;00m\n\u001B[0;32m--> 154\u001B[0m     json_str \u001B[38;5;241m=\u001B[39m \u001B[43mjson_str\u001B[49m\u001B[38;5;241;43m.\u001B[39;49m\u001B[43mstrip\u001B[49m()\u001B[38;5;241m.\u001B[39mstrip(\u001B[38;5;124m\"\u001B[39m\u001B[38;5;124m`\u001B[39m\u001B[38;5;124m\"\u001B[39m)\n\u001B[1;32m    156\u001B[0m     \u001B[38;5;66;03m# handle newlines and other special characters inside the returned value\u001B[39;00m\n\u001B[1;32m    157\u001B[0m     json_str \u001B[38;5;241m=\u001B[39m _custom_parser(json_str)\n",
      "\u001B[0;31mAttributeError\u001B[0m: 'AIMessage' object has no attribute 'strip'"
     ]
    }
   ],
   "source": [
    "output_parser.parse(output)"
   ],
   "metadata": {
    "collapsed": false,
    "ExecuteTime": {
     "end_time": "2024-06-28T08:37:28.582896Z",
     "start_time": "2024-06-28T08:37:22.665911Z"
    }
   },
   "id": "91b41a7f696d0b8e",
   "execution_count": 8
  },
  {
   "cell_type": "code",
   "outputs": [
    {
     "data": {
      "text/plain": "['black', 'blue', 'green', 'red', 'white', 'yellow']"
     },
     "execution_count": 11,
     "metadata": {},
     "output_type": "execute_result"
    }
   ],
   "source": [
    "# 自定义输出解析器\n",
    "# 扩展CommaSeparatedListOutputParser，让其返回的列表是经过排序的。\n",
    "from typing import List\n",
    "\n",
    "\n",
    "class SortedCommaSeparatedListOutputParser(CommaSeparatedListOutputParser):\n",
    "    def parse(self, text: str) -> List[str]:\n",
    "        lst = super().parse(text)\n",
    "        return sorted(lst)\n",
    "\n",
    "\n",
    "output_parser = SortedCommaSeparatedListOutputParser()\n",
    "output_parser.parse(\"black, yellow, red, green, white, blue\")"
   ],
   "metadata": {
    "collapsed": false,
    "ExecuteTime": {
     "end_time": "2024-06-28T08:43:24.400180Z",
     "start_time": "2024-06-28T08:43:24.395440Z"
    }
   },
   "id": "b48d03887192c29c",
   "execution_count": 11
  },
  {
   "cell_type": "code",
   "outputs": [],
   "source": [],
   "metadata": {
    "collapsed": false
   },
   "id": "a63c5fb35ef3dd49"
  }
 ],
 "metadata": {
  "kernelspec": {
   "display_name": "Python 3",
   "language": "python",
   "name": "python3"
  },
  "language_info": {
   "codemirror_mode": {
    "name": "ipython",
    "version": 2
   },
   "file_extension": ".py",
   "mimetype": "text/x-python",
   "name": "python",
   "nbconvert_exporter": "python",
   "pygments_lexer": "ipython2",
   "version": "2.7.6"
  }
 },
 "nbformat": 4,
 "nbformat_minor": 5
}
