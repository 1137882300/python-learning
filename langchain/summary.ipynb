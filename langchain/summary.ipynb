{
 "cells": [
  {
   "cell_type": "code",
   "execution_count": null,
   "id": "initial_id",
   "metadata": {
    "collapsed": true
   },
   "outputs": [],
   "source": [
    "# 向量化\n",
    "from langchain.embeddings import SentenceTransformerEmbeddings\n",
    "from langchain_community.vectorstores import Chroma\n",
    "\n",
    "embeddings_model = SentenceTransformerEmbeddings(model_name=\"all-MiniLM-L6-v2\")\n",
    "# 向量化方式 \n",
    "texts_new = []\n",
    "# 方式1\n",
    "embeddings_new = embeddings_model.embed_documents(texts_new)\n",
    "# 方式2\n",
    "embedded_query = embeddings_model.embed_query(\"艾文是谁?\")\n",
    "# 方式3\n",
    "db = Chroma.from_documents(texts_new, embeddings_model)\n"
   ]
  },
  {
   "cell_type": "code",
   "outputs": [],
   "source": [
    "# 相似性查询\n",
    "from langchain_community.vectorstores import Chroma\n",
    "\n",
    "texts = []\n",
    "# 向量化\n",
    "db2 = Chroma.from_documents(texts, embeddings_model)\n",
    "query = \"赛琳的父母\"\n",
    "# 相关性的查询\n",
    "# 方式1\n",
    "docs1 = db.similarity_search(query)\n",
    "\n",
    "# Vector store-backed retriever\n",
    "retriever = db.as_retriever(search_type=\"mmr\")\n",
    "# 方式2: 更高级，不限于用在向量数据里的查询上\n",
    "docs2 = retriever.get_relevant_documents(\"于是就有了光\")\n",
    " "
   ],
   "metadata": {
    "collapsed": false
   },
   "id": "6a48e2622c2fe400"
  }
 ],
 "metadata": {
  "kernelspec": {
   "display_name": "Python 3",
   "language": "python",
   "name": "python3"
  },
  "language_info": {
   "codemirror_mode": {
    "name": "ipython",
    "version": 2
   },
   "file_extension": ".py",
   "mimetype": "text/x-python",
   "name": "python",
   "nbconvert_exporter": "python",
   "pygments_lexer": "ipython2",
   "version": "2.7.6"
  }
 },
 "nbformat": 4,
 "nbformat_minor": 5
}
