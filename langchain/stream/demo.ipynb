{
 "cells": [
  {
   "cell_type": "code",
   "execution_count": null,
   "id": "initial_id",
   "metadata": {
    "collapsed": true
   },
   "outputs": [],
   "source": [
    "# 结合fastapi的流式输出\n",
    "\n",
    "# result = qw_llm_openai.stream(body['question'])\n",
    "# # Streaming 返回\n",
    "# return StreamingResponse(\n",
    "#     (str(chunk.content) for chunk in result),\n",
    "#     media_type=\"text/event-stream\",\n",
    "#     headers={\"Cache-Control\": \"no-cache\"}\n",
    "# )"
   ]
  }
 ],
 "metadata": {
  "kernelspec": {
   "display_name": "Python 3",
   "language": "python",
   "name": "python3"
  },
  "language_info": {
   "codemirror_mode": {
    "name": "ipython",
    "version": 2
   },
   "file_extension": ".py",
   "mimetype": "text/x-python",
   "name": "python",
   "nbconvert_exporter": "python",
   "pygments_lexer": "ipython2",
   "version": "2.7.6"
  }
 },
 "nbformat": 4,
 "nbformat_minor": 5
}
