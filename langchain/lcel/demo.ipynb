{
 "cells": [
  {
   "cell_type": "code",
   "outputs": [
    {
     "name": "stdout",
     "output_type": "stream",
     "text": [
      "sk-UGVpjuTwo2Q8pewoqUDfckw1A0pbSDli9ElFMeS9WareKknG\n",
      "https://api.moonshot.cn/v1/\n"
     ]
    }
   ],
   "source": [
    "# 基础代码引入\n",
    "from dotenv import load_dotenv\n",
    "import os\n",
    "from langchain_openai import ChatOpenAI\n",
    "\n",
    "# 加载当前目录下的.env文件\n",
    "# load_dotenv()\n",
    "# load_dotenv(override=True) 会重新读取.env\n",
    "load_dotenv(override=True)\n",
    "\n",
    "# 现在可以像访问普通环境变量一样访问.env文件中的变量了\n",
    "api_key = os.getenv('OPENAI_API_KEY')\n",
    "base_url = os.getenv('OPENAI_API_BASE')\n",
    "\n",
    "print(api_key)\n",
    "print(base_url)\n",
    "\n",
    "chat = ChatOpenAI(\n",
    "    openai_api_base=base_url,\n",
    "    openai_api_key=api_key,\n",
    "    model_name=\"moonshot-v1-8k\",\n",
    "    temperature=0.7,\n",
    ")"
   ],
   "metadata": {
    "collapsed": false,
    "ExecuteTime": {
     "end_time": "2024-06-02T03:44:59.119548Z",
     "start_time": "2024-06-02T03:44:58.746415Z"
    }
   },
   "id": "203b5e8a59a6b8e5",
   "execution_count": 2
  },
  {
   "cell_type": "code",
   "outputs": [],
   "source": [
    "# chains 就是一系列的函数调用"
   ],
   "metadata": {
    "collapsed": false
   },
   "id": "99bd0850a939c84b"
  },
  {
   "cell_type": "code",
   "execution_count": 5,
   "id": "initial_id",
   "metadata": {
    "collapsed": true,
    "ExecuteTime": {
     "end_time": "2024-06-02T03:45:36.813880Z",
     "start_time": "2024-06-02T03:45:33.359455Z"
    }
   },
   "outputs": [
    {
     "data": {
      "text/plain": "{'adjective': 'boss',\n 'text': \"Sure, I'd be happy to share a light-hearted boss joke with you:\\n\\nWhy did the boss bring a ladder to work?\\n\\nBecause he wanted to step up his game!\\n\\nRemember, it's always important to maintain a healthy sense of humor in the workplace. Just be sure to keep jokes appropriate and considerate of your coworkers' feelings.\"}"
     },
     "execution_count": 5,
     "metadata": {},
     "output_type": "execute_result"
    }
   ],
   "source": [
    "from langchain.chains import LLMChain\n",
    "from langchain_core.prompts import PromptTemplate\n",
    "\n",
    "# 原始方式：不用lcel，利用prompt\n",
    "prompt_template = \"Tell me a {adjective} joke\"\n",
    "prompt = PromptTemplate(\n",
    "    input_variables=[\"adjective\"], template=prompt_template\n",
    ")\n",
    "llm = LLMChain(llm=chat, prompt=prompt)\n",
    "llm.invoke(\"boss\")"
   ]
  },
  {
   "cell_type": "code",
   "outputs": [
    {
     "data": {
      "text/plain": "'Sure, here\\'s a short joke about ice cream:\\n\\nWhy did the ice cream go to school?\\n\\nBecause it wanted to be a \"scoop\" student!'"
     },
     "execution_count": 3,
     "metadata": {},
     "output_type": "execute_result"
    }
   ],
   "source": [
    "from langchain_core.output_parsers import StrOutputParser\n",
    "from langchain_core.prompts import ChatPromptTemplate\n",
    "\n",
    "# 用lcel，利用prompt\n",
    "prompt = ChatPromptTemplate.from_template(\"tell me a short joke about {topic}\")\n",
    "output_parser = StrOutputParser()\n",
    "\n",
    "chain = prompt | chat | output_parser\n",
    "\n",
    "chain.invoke({\"topic\": \"ice cream\"})"
   ],
   "metadata": {
    "collapsed": false,
    "ExecuteTime": {
     "end_time": "2024-06-02T02:53:30.194260Z",
     "start_time": "2024-06-02T02:53:28.060317Z"
    }
   },
   "id": "205cc4bf2a5d82f2",
   "execution_count": 3
  },
  {
   "cell_type": "code",
   "outputs": [],
   "source": [
    "# from langchain_openai import OpenAI\n",
    "# \n",
    "# client = OpenAI(\n",
    "#     api_key=api_key,\n",
    "#     base_url=\"https://api.moonshot.cn/v1\",\n",
    "# )"
   ],
   "metadata": {
    "collapsed": false,
    "ExecuteTime": {
     "end_time": "2024-06-02T03:02:02.780176Z",
     "start_time": "2024-06-02T03:02:02.723264Z"
    }
   },
   "id": "e403674c2924bafe",
   "execution_count": 10
  },
  {
   "cell_type": "code",
   "outputs": [],
   "source": [
    "from openai import OpenAI\n",
    "\n",
    "client = OpenAI(\n",
    "    api_key=api_key,\n",
    "    base_url=\"https://api.moonshot.cn/v1\",\n",
    ")\n",
    "\n",
    "# completion = client.chat.completions.create(\n",
    "#     model = \"moonshot-v1-8k\",\n",
    "#     messages = [\n",
    "#         {\"role\": \"system\", \"content\": \"你是 Kimi，由 Moonshot AI 提供的人工智能助手，你更擅长中文和英文的对话。你会为用户提供安全，有帮助，准确的回答。同时，你会拒绝一切涉及恐怖主义，种族歧视，黄色暴力等问题的回答。Moonshot AI 为专有名词，不可翻译成其他语言。\"},\n",
    "#         {\"role\": \"user\", \"content\": \"你好，我叫李雷，1+1等于多少？\"}\n",
    "#     ],\n",
    "#     temperature = 0.3,\n",
    "# )\n",
    "# \n",
    "# print(completion.choices[0].message.content)"
   ],
   "metadata": {
    "collapsed": false,
    "ExecuteTime": {
     "end_time": "2024-06-02T03:45:12.910440Z",
     "start_time": "2024-06-02T03:45:12.885149Z"
    }
   },
   "id": "87dca99237c5c18b",
   "execution_count": 3
  },
  {
   "cell_type": "code",
   "outputs": [],
   "source": [
    "# from langchain_community.llms.moonshot import Moonshot\n",
    "# \n",
    "# llm = Moonshot()"
   ],
   "metadata": {
    "collapsed": false
   },
   "id": "f5b597e7a6d7e9f6"
  },
  {
   "cell_type": "code",
   "outputs": [
    {
     "name": "stdout",
     "output_type": "stream",
     "text": [
      "As an AI language model, I am committed to promoting a positive and respectful environment. I cannot provide a joke that may be offensive or disrespectful to any group of people, including the Chinese people. However, I'd be happy to share a light-hearted, culturally neutral joke with you. Here's one:\n",
      "\n",
      "Why don't scientists trust atoms?\n",
      "Because they make up everything!"
     ]
    }
   ],
   "source": [
    "from typing import Iterator\n",
    "\n",
    "\n",
    "# 流式 输出\n",
    "def stream_chat_model(messages: list[dict]) -> Iterator[str]:\n",
    "    stream = client.chat.completions.create(\n",
    "        model=\"moonshot-v1-8k\",\n",
    "        messages=messages,\n",
    "        stream=True,\n",
    "    )\n",
    "    for response in stream:\n",
    "        content = response.choices[0].delta.content\n",
    "        if content is not None:\n",
    "            yield content\n",
    "\n",
    "\n",
    "def stream_chain(topic: str) -> Iterator[str]:\n",
    "    prompt_value = prompt.format(adjective=topic)\n",
    "    return stream_chat_model([{\"role\": \"user\", \"content\": prompt_value}])\n",
    "\n",
    "\n",
    "for chunk in stream_chain(\"中国人民最幸福\"):\n",
    "    print(chunk, end=\"\", flush=True)"
   ],
   "metadata": {
    "collapsed": false,
    "ExecuteTime": {
     "end_time": "2024-06-02T03:48:36.873329Z",
     "start_time": "2024-06-02T03:48:33.495350Z"
    }
   },
   "id": "79a3d8bc913a6b66",
   "execution_count": 11
  },
  {
   "cell_type": "code",
   "outputs": [
    {
     "ename": "NameError",
     "evalue": "name 'chain' is not defined",
     "output_type": "error",
     "traceback": [
      "\u001B[0;31m---------------------------------------------------------------------------\u001B[0m",
      "\u001B[0;31mNameError\u001B[0m                                 Traceback (most recent call last)",
      "Cell \u001B[0;32mIn[9], line 1\u001B[0m\n\u001B[0;32m----> 1\u001B[0m \u001B[38;5;28;01mfor\u001B[39;00m chunk \u001B[38;5;129;01min\u001B[39;00m \u001B[43mchain\u001B[49m\u001B[38;5;241m.\u001B[39mstream({\u001B[38;5;124m\"\u001B[39m\u001B[38;5;124mtopic\u001B[39m\u001B[38;5;124m\"\u001B[39m: \u001B[38;5;124m\"\u001B[39m\u001B[38;5;124mice cream\u001B[39m\u001B[38;5;124m\"\u001B[39m}):\n\u001B[1;32m      2\u001B[0m     \u001B[38;5;28mprint\u001B[39m(chunk, end\u001B[38;5;241m=\u001B[39m\u001B[38;5;124m\"\u001B[39m\u001B[38;5;124m\"\u001B[39m, flush\u001B[38;5;241m=\u001B[39m\u001B[38;5;28;01mTrue\u001B[39;00m)\n",
      "\u001B[0;31mNameError\u001B[0m: name 'chain' is not defined"
     ]
    }
   ],
   "source": [
    "for chunk in chain.stream({\"topic\": \"ice cream\"}):\n",
    "    print(chunk, end=\"\", flush=True)"
   ],
   "metadata": {
    "collapsed": false,
    "ExecuteTime": {
     "end_time": "2024-06-02T03:48:06.234535Z",
     "start_time": "2024-06-02T03:48:06.195682Z"
    }
   },
   "id": "baafcb114b8929d7",
   "execution_count": 9
  },
  {
   "cell_type": "code",
   "outputs": [
    {
     "data": {
      "text/plain": "'为了找出巴拉克·奥巴马所在的城市，我将遵循以下步骤：\\n\\n1. 回想一下，巴拉克·奥巴马是美国的前总统。\\n2. 记住他出生在夏威夷的檀香山。\\n3. 确定檀香山是奥巴马出生并度过早年时光的城市。\\n\\n所以，巴拉克·奥巴马来自夏威夷的檀香山。\\n\\n在中文中的回应是：\\n\\n为了找出巴拉克·奥巴马所在的城市，我将遵循以下步骤：\\n\\n1. 回想一下，巴拉克·奥巴马是美国的前总统。\\n2. 记住他出生在夏威夷的檀香山。\\n3. 确定檀香山是奥巴马出生并度过早年时光的城市。\\n\\n所以，巴拉克·奥巴马来自夏威夷的檀香山。'"
     },
     "execution_count": 8,
     "metadata": {},
     "output_type": "execute_result"
    }
   ],
   "source": [
    "from operator import itemgetter\n",
    "\n",
    "from langchain_core.output_parsers import StrOutputParser\n",
    "from langchain_core.prompts import ChatPromptTemplate\n",
    "\n",
    "# 组合多个chain\n",
    "prompt1 = ChatPromptTemplate.from_template(\"what is the city {person} is from?\")\n",
    "prompt2 = ChatPromptTemplate.from_template(\n",
    "    \"what country is the city {city} in? respond in {language}\"\n",
    ")\n",
    "\n",
    "chain1 = prompt1 | chat | StrOutputParser()\n",
    "\n",
    "chain2 = (\n",
    "        {\"city\": chain1, \"language\": itemgetter(\"language\")}\n",
    "        | prompt2\n",
    "        | chat\n",
    "        | StrOutputParser()\n",
    ")\n",
    "\n",
    "chain2.invoke({\"person\": \"obama\", \"language\": \"chinese\"})"
   ],
   "metadata": {
    "collapsed": false,
    "ExecuteTime": {
     "end_time": "2024-06-02T02:57:50.585052Z",
     "start_time": "2024-06-02T02:57:41.420137Z"
    }
   },
   "id": "86d3a7bb51ca1696",
   "execution_count": 8
  },
  {
   "cell_type": "code",
   "outputs": [],
   "source": [],
   "metadata": {
    "collapsed": false
   },
   "id": "2bd0bc7aeca6ca4d"
  }
 ],
 "metadata": {
  "kernelspec": {
   "display_name": "Python 3",
   "language": "python",
   "name": "python3"
  },
  "language_info": {
   "codemirror_mode": {
    "name": "ipython",
    "version": 2
   },
   "file_extension": ".py",
   "mimetype": "text/x-python",
   "name": "python",
   "nbconvert_exporter": "python",
   "pygments_lexer": "ipython2",
   "version": "2.7.6"
  }
 },
 "nbformat": 4,
 "nbformat_minor": 5
}
