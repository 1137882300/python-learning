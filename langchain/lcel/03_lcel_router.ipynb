{
 "cells": [
  {
   "cell_type": "markdown",
   "source": [
    "## 路由（Router）\n",
    "LEL ( LangChain Expression Language ) 实现了路由机制，支持在应用开发中根据业务需要将请求转发给指定的链。\n",
    "\n",
    "核心类：RouterRunnable"
   ],
   "metadata": {
    "collapsed": false
   },
   "id": "7ff24e25dd0db9cd"
  },
  {
   "cell_type": "code",
   "execution_count": 2,
   "id": "initial_id",
   "metadata": {
    "collapsed": true,
    "ExecuteTime": {
     "end_time": "2024-06-26T03:07:09.494826Z",
     "start_time": "2024-06-26T03:07:09.464912Z"
    }
   },
   "outputs": [],
   "source": [
    "from langchain.prompts import ChatPromptTemplate\n",
    "from langchain.schema.runnable import RunnableMap, Runnable, RunnableConfig, RunnablePassthrough\n",
    "from langchain_core.runnables.utils import Input\n",
    "from langchain.load.serializable import Serializable\n",
    "from langchain.prompts import ChatPromptTemplate\n",
    "from langchain.chat_models import ChatOpenAI\n",
    "from langchain.schema import StrOutputParser\n",
    "from operator import itemgetter\n",
    "from typing import Optional, Dict"
   ]
  },
  {
   "cell_type": "markdown",
   "source": [
    "一个有用的调试类 StdOutputRunnable\n",
    "类 StdOutputRunnable 的功能与 RunnablePassthrough 几乎一致，唯一的区别是打印出输入的数据。这非常适合于 LEL 的调试。将其加到管道中，可以查看所在环节的输入值，帮助调试。"
   ],
   "metadata": {
    "collapsed": false
   },
   "id": "6dd432dde2b2e17e"
  },
  {
   "cell_type": "code",
   "outputs": [],
   "source": [
    "class StdOutputRunnable(Serializable, Runnable[Input, Input]):\n",
    "    @property\n",
    "    def lc_serializable(self) -> bool:\n",
    "        return True\n",
    "\n",
    "    def invoke(self, input: Dict, config: Optional[RunnableConfig] = None) -> Input:\n",
    "        print(input)\n",
    "        return self._call_with_config(lambda x: x, input, config)"
   ],
   "metadata": {
    "collapsed": false,
    "ExecuteTime": {
     "end_time": "2024-06-26T03:07:12.712654Z",
     "start_time": "2024-06-26T03:07:12.693634Z"
    }
   },
   "id": "3281577fdde9e43b",
   "execution_count": 3
  },
  {
   "cell_type": "markdown",
   "source": [
    "## RouterRunnable 示例\n",
    "模型辅助类，在分类任务执行时，指定允许的分类值。\n",
    "\n",
    "create_tagging_chain_pydantic 创建基于 Pydantic schema定义的分类链，"
   ],
   "metadata": {
    "collapsed": false
   },
   "id": "d403d7cc8f660e42"
  },
  {
   "cell_type": "code",
   "outputs": [
    {
     "name": "stdout",
     "output_type": "stream",
     "text": [
      "8483c3ec7a0cbc54a8d660b5b9002b04\n",
      "Gcllof8ze6dgtcqFI5FQZ2SD_5tfCD4Db7NuS6jn\n",
      "sk-01c5003340c3453b934052d737d45e01\n",
      "sk-UGVpjuTwo2Q8pewoqUDfckw1A0pbSDli9ElFMeS9WareKknG\n",
      "https://api.moonshot.cn/v1/\n"
     ]
    }
   ],
   "source": [
    "from langchain.chains import create_tagging_chain_pydantic\n",
    "from pydantic import BaseModel, Field\n",
    "\n",
    "from dotenv import load_dotenv\n",
    "import os\n",
    "from langchain_community.llms.cloudflare_workersai import CloudflareWorkersAI\n",
    "from langchain_community.llms.tongyi import Tongyi\n",
    "from langchain_openai import ChatOpenAI\n",
    "\n",
    "load_dotenv(override=True)\n",
    "\n",
    "account_id = os.getenv('CF_ACCOUNT_ID')\n",
    "api_token = os.getenv('CF_API_TOKEN')\n",
    "print(account_id)\n",
    "print(api_token)\n",
    "\n",
    "# CloudflareWorkersAI\n",
    "model = '@cf/meta/llama-3-8b-instruct'\n",
    "cf_llm = CloudflareWorkersAI(\n",
    "    account_id=account_id,\n",
    "    api_token=api_token,\n",
    "    model=model\n",
    ")\n",
    "\n",
    "DASHSCOPE_API_KEY = os.getenv('DASHSCOPE_API_KEY')\n",
    "print(DASHSCOPE_API_KEY)\n",
    "\n",
    "# qwen\n",
    "qwen_llm = Tongyi(\n",
    "    model='qwen2-1.5b-instruct'\n",
    ")\n",
    "\n",
    "api_key = os.getenv('OPENAI_API_KEY')\n",
    "base_url = os.getenv('OPENAI_API_BASE')\n",
    "print(api_key)\n",
    "print(base_url)\n",
    "\n",
    "# openai/moonshot\n",
    "ms_llm = ChatOpenAI(\n",
    "    openai_api_base=base_url,\n",
    "    openai_api_key=api_key,\n",
    "    model_name=\"moonshot-v1-8k\",\n",
    "    temperature=0.7,\n",
    ")"
   ],
   "metadata": {
    "collapsed": false,
    "ExecuteTime": {
     "end_time": "2024-06-26T03:14:21.319088Z",
     "start_time": "2024-06-26T03:14:21.282517Z"
    }
   },
   "id": "8cc7242b8cea302",
   "execution_count": 5
  },
  {
   "cell_type": "code",
   "outputs": [
    {
     "ename": "ValidationError",
     "evalue": "2 validation errors for PydanticOutputFunctionsParser\npydantic_schema\n  subclass of BaseModel expected (type=type_error.subclass; expected_class=BaseModel)\npydantic_schema\n  value is not a valid dict (type=type_error.dict)",
     "output_type": "error",
     "traceback": [
      "\u001B[0;31m---------------------------------------------------------------------------\u001B[0m",
      "\u001B[0;31mValidationError\u001B[0m                           Traceback (most recent call last)",
      "Cell \u001B[0;32mIn[6], line 7\u001B[0m\n\u001B[1;32m      2\u001B[0m \u001B[38;5;250m    \u001B[39m\u001B[38;5;124;03m\"\"\"Used to determine which chain to serve the user.用于确定为用户提供哪条链\"\"\"\u001B[39;00m\n\u001B[1;32m      4\u001B[0m     name: \u001B[38;5;28mstr\u001B[39m \u001B[38;5;241m=\u001B[39m Field(description\u001B[38;5;241m=\u001B[39m\u001B[38;5;124m\"\u001B[39m\u001B[38;5;124mShould be one of `color` or `fruit`\u001B[39m\u001B[38;5;124m\"\u001B[39m)\n\u001B[0;32m----> 7\u001B[0m tagger \u001B[38;5;241m=\u001B[39m \u001B[43mcreate_tagging_chain_pydantic\u001B[49m\u001B[43m(\u001B[49m\u001B[43mChainToUse\u001B[49m\u001B[43m,\u001B[49m\u001B[43m \u001B[49m\u001B[43mcf_llm\u001B[49m\u001B[43m)\u001B[49m\n",
      "File \u001B[0;32m~/venv/lib/python3.10/site-packages/langchain/chains/openai_functions/tagging.py:81\u001B[0m, in \u001B[0;36mcreate_tagging_chain_pydantic\u001B[0;34m(pydantic_schema, llm, prompt, **kwargs)\u001B[0m\n\u001B[1;32m     79\u001B[0m function \u001B[38;5;241m=\u001B[39m _get_tagging_function(openai_schema)\n\u001B[1;32m     80\u001B[0m prompt \u001B[38;5;241m=\u001B[39m prompt \u001B[38;5;129;01mor\u001B[39;00m ChatPromptTemplate\u001B[38;5;241m.\u001B[39mfrom_template(_TAGGING_TEMPLATE)\n\u001B[0;32m---> 81\u001B[0m output_parser \u001B[38;5;241m=\u001B[39m \u001B[43mPydanticOutputFunctionsParser\u001B[49m\u001B[43m(\u001B[49m\u001B[43mpydantic_schema\u001B[49m\u001B[38;5;241;43m=\u001B[39;49m\u001B[43mpydantic_schema\u001B[49m\u001B[43m)\u001B[49m\n\u001B[1;32m     82\u001B[0m llm_kwargs \u001B[38;5;241m=\u001B[39m get_llm_kwargs(function)\n\u001B[1;32m     83\u001B[0m chain \u001B[38;5;241m=\u001B[39m LLMChain(\n\u001B[1;32m     84\u001B[0m     llm\u001B[38;5;241m=\u001B[39mllm,\n\u001B[1;32m     85\u001B[0m     prompt\u001B[38;5;241m=\u001B[39mprompt,\n\u001B[0;32m   (...)\u001B[0m\n\u001B[1;32m     88\u001B[0m     \u001B[38;5;241m*\u001B[39m\u001B[38;5;241m*\u001B[39mkwargs,\n\u001B[1;32m     89\u001B[0m )\n",
      "File \u001B[0;32m~/venv/lib/python3.10/site-packages/pydantic/v1/main.py:341\u001B[0m, in \u001B[0;36mBaseModel.__init__\u001B[0;34m(__pydantic_self__, **data)\u001B[0m\n\u001B[1;32m    339\u001B[0m values, fields_set, validation_error \u001B[38;5;241m=\u001B[39m validate_model(__pydantic_self__\u001B[38;5;241m.\u001B[39m\u001B[38;5;18m__class__\u001B[39m, data)\n\u001B[1;32m    340\u001B[0m \u001B[38;5;28;01mif\u001B[39;00m validation_error:\n\u001B[0;32m--> 341\u001B[0m     \u001B[38;5;28;01mraise\u001B[39;00m validation_error\n\u001B[1;32m    342\u001B[0m \u001B[38;5;28;01mtry\u001B[39;00m:\n\u001B[1;32m    343\u001B[0m     object_setattr(__pydantic_self__, \u001B[38;5;124m'\u001B[39m\u001B[38;5;124m__dict__\u001B[39m\u001B[38;5;124m'\u001B[39m, values)\n",
      "\u001B[0;31mValidationError\u001B[0m: 2 validation errors for PydanticOutputFunctionsParser\npydantic_schema\n  subclass of BaseModel expected (type=type_error.subclass; expected_class=BaseModel)\npydantic_schema\n  value is not a valid dict (type=type_error.dict)"
     ]
    }
   ],
   "source": [
    "class ChainToUse(BaseModel):\n",
    "    \"\"\"Used to determine which chain to serve the user.用于确定为用户提供哪条链\"\"\"\n",
    "\n",
    "    name: str = Field(description=\"Should be one of `color` or `fruit`\")\n",
    "\n",
    "\n",
    "tagger = create_tagging_chain_pydantic(ChainToUse, cf_llm)"
   ],
   "metadata": {
    "collapsed": false,
    "ExecuteTime": {
     "end_time": "2024-06-26T03:14:25.232524Z",
     "start_time": "2024-06-26T03:14:25.185312Z"
    }
   },
   "id": "ed470346b849fe98",
   "execution_count": 6
  },
  {
   "cell_type": "code",
   "outputs": [],
   "source": [
    "color_chain = ChatPromptTemplate.from_template(\n",
    "    \"You are a color expert. Answer the question about color: {question}\") | cf_llm\n",
    "fruit_chain = ChatPromptTemplate.from_template(\n",
    "    \"You are a fruit expert. Answer the question about fruit: {question}\") | cf_llm"
   ],
   "metadata": {
    "collapsed": false
   },
   "id": "8073d2ddf4355467"
  },
  {
   "cell_type": "code",
   "outputs": [],
   "source": [
    "from langchain.schema.runnable import RouterRunnable\n",
    "\n",
    "router = RouterRunnable({\"color\": color_chain, \"fruit\": fruit_chain})"
   ],
   "metadata": {
    "collapsed": false
   },
   "id": "1e7d0943e0d7698a"
  },
  {
   "cell_type": "code",
   "outputs": [],
   "source": [
    "chain = {\n",
    "            \"key\": RunnablePassthrough()\n",
    "                   | tagger\n",
    "                   | StdOutputRunnable()\n",
    "                   | (lambda x: x['text'].name), \"input\": {\"question\": RunnablePassthrough()}\n",
    "        } | router"
   ],
   "metadata": {
    "collapsed": false
   },
   "id": "56b88901171a5189"
  },
  {
   "cell_type": "code",
   "outputs": [],
   "source": [
    "chain.invoke(\"What is the HEX code of color YELLOW?\")"
   ],
   "metadata": {
    "collapsed": false
   },
   "id": "b89e90490b21c3fb"
  },
  {
   "cell_type": "code",
   "outputs": [],
   "source": [
    "chain.invoke(\"What country grow most apples in 2000?\")"
   ],
   "metadata": {
    "collapsed": false
   },
   "id": "8adc6a5b09796cae"
  }
 ],
 "metadata": {
  "kernelspec": {
   "display_name": "Python 3",
   "language": "python",
   "name": "python3"
  },
  "language_info": {
   "codemirror_mode": {
    "name": "ipython",
    "version": 2
   },
   "file_extension": ".py",
   "mimetype": "text/x-python",
   "name": "python",
   "nbconvert_exporter": "python",
   "pygments_lexer": "ipython2",
   "version": "2.7.6"
  }
 },
 "nbformat": 4,
 "nbformat_minor": 5
}
