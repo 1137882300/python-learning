{
 "cells": [
  {
   "cell_type": "code",
   "execution_count": 1,
   "id": "initial_id",
   "metadata": {
    "collapsed": true,
    "ExecuteTime": {
     "end_time": "2024-06-26T01:53:12.780659Z",
     "start_time": "2024-06-26T01:53:09.805509Z"
    }
   },
   "outputs": [
    {
     "name": "stdout",
     "output_type": "stream",
     "text": [
      "Looking in indexes: https://pypi.tuna.tsinghua.edu.cn/simple\r\n",
      "Collecting pipe\r\n",
      "  Downloading https://pypi.tuna.tsinghua.edu.cn/packages/1f/21/96f1508f67fadb4ab7e5df7c3389e4a2f03cba92f62846f99f6301cf0735/pipe-2.2-py3-none-any.whl (9.7 kB)\r\n",
      "Installing collected packages: pipe\r\n",
      "Successfully installed pipe-2.2\r\n",
      "\r\n",
      "\u001B[1m[\u001B[0m\u001B[34;49mnotice\u001B[0m\u001B[1;39;49m]\u001B[0m\u001B[39;49m A new release of pip is available: \u001B[0m\u001B[31;49m24.0\u001B[0m\u001B[39;49m -> \u001B[0m\u001B[32;49m24.1\u001B[0m\r\n",
      "\u001B[1m[\u001B[0m\u001B[34;49mnotice\u001B[0m\u001B[1;39;49m]\u001B[0m\u001B[39;49m To update, run: \u001B[0m\u001B[32;49mpip install --upgrade pip\u001B[0m\r\n"
     ]
    }
   ],
   "source": [
    "# !pip install -U pipe"
   ]
  },
  {
   "cell_type": "code",
   "outputs": [
    {
     "data": {
      "text/plain": "[4, 8]"
     },
     "execution_count": 2,
     "metadata": {},
     "output_type": "execute_result"
    }
   ],
   "source": [
    "from pipe import select, where\n",
    "\n",
    "numbers = [1, 2, 3, 4, 5]\n",
    "\n",
    "# where(lambda x: x % 2 == 0) 相当于filter 过滤一下偶数\n",
    "# select(lambda x: x * 2) 相当于map函数，乘 2\n",
    "result = list(numbers | where(lambda x: x % 2 == 0) | select(lambda x: x * 2))\n",
    "\n",
    "result"
   ],
   "metadata": {
    "collapsed": false,
    "ExecuteTime": {
     "end_time": "2024-06-26T01:53:39.705734Z",
     "start_time": "2024-06-26T01:53:39.687999Z"
    }
   },
   "id": "4dbacb6fd4be9b9f",
   "execution_count": 2
  },
  {
   "cell_type": "code",
   "outputs": [
    {
     "data": {
      "text/plain": "['RED', 'GREEN', 'BLUE', 'YELLOW']"
     },
     "execution_count": 3,
     "metadata": {},
     "output_type": "execute_result"
    }
   ],
   "source": [
    "# 自定义管道： uppercase - 接受一个 iterable 参数\n",
    "\n",
    "from pipe import Pipe\n",
    "\n",
    "uppercase = Pipe(lambda iterable: (x.upper() for x in iterable))\n",
    "\n",
    "words = ['red', 'green', 'blue', 'YELLOW']\n",
    "\n",
    "uppercase_words = list(words | uppercase)\n",
    "\n",
    "uppercase_words"
   ],
   "metadata": {
    "collapsed": false,
    "ExecuteTime": {
     "end_time": "2024-06-26T02:04:47.982699Z",
     "start_time": "2024-06-26T02:04:47.976124Z"
    }
   },
   "id": "a2c983064649c3b4",
   "execution_count": 3
  },
  {
   "cell_type": "code",
   "outputs": [],
   "source": [],
   "metadata": {
    "collapsed": false
   },
   "id": "64a1e0129c8379bb"
  }
 ],
 "metadata": {
  "kernelspec": {
   "display_name": "Python 3",
   "language": "python",
   "name": "python3"
  },
  "language_info": {
   "codemirror_mode": {
    "name": "ipython",
    "version": 2
   },
   "file_extension": ".py",
   "mimetype": "text/x-python",
   "name": "python",
   "nbconvert_exporter": "python",
   "pygments_lexer": "ipython2",
   "version": "2.7.6"
  }
 },
 "nbformat": 4,
 "nbformat_minor": 5
}
