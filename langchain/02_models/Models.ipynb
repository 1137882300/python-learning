{
 "cells": [
  {
   "cell_type": "code",
   "execution_count": null,
   "id": "initial_id",
   "metadata": {
    "collapsed": true
   },
   "outputs": [],
   "source": [
    "from langchain.llms import OpenAI\n",
    "\n",
    "import os\n",
    "\n",
    "os.environ['OPENAI_API_KEY'] = '您的有效OpenAI API Key'\n",
    "\n",
    "# text-davinci-003模型已经弃用，使用gpt-3.5-turbo进行测试\n",
    "llm = OpenAI(model_name=\"gpt-3.5-turbo\")\n",
    "response = llm.predict(\"What is AI?\")\n",
    "print(response)\n"
   ]
  },
  {
   "cell_type": "code",
   "outputs": [],
   "source": [
    "\n",
    "from langchain.chat_models import ChatOpenAI\n",
    "from langchain.schema import AIMessage, HumanMessage, SystemMessage\n",
    "\n",
    "import os\n",
    "\n",
    "os.environ['OPENAI_API_KEY'] = '您的有效OpenAI API Key'\n",
    "\n",
    "chat = ChatOpenAI(temperature=0, model_name='gpt-3.5-turbo')\n",
    "response = chat.predict_messages([\n",
    "    HumanMessage(content=\"What is AI?\")\n",
    "])\n",
    "print(response)"
   ],
   "metadata": {
    "collapsed": false
   },
   "id": "4ca13f441ddf5a58"
  },
  {
   "cell_type": "code",
   "outputs": [],
   "source": [
    "response.__class__\n"
   ],
   "metadata": {
    "collapsed": false
   },
   "id": "ce9f2373bc6abea7"
  },
  {
   "cell_type": "code",
   "outputs": [],
   "source": [
    "response = chat.predict_messages([\n",
    "    SystemMessage(\n",
    "        content=\"You are a chatbot that knows nothing about AI. When you are asked about AI, you must say 'I don\\'t know'\"),\n",
    "    HumanMessage(content=\"What is deep learning?\")\n",
    "])\n",
    "print(response)"
   ],
   "metadata": {
    "collapsed": false
   },
   "id": "298d2abaa079571"
  }
 ],
 "metadata": {
  "kernelspec": {
   "display_name": "Python 3",
   "language": "python",
   "name": "python3"
  },
  "language_info": {
   "codemirror_mode": {
    "name": "ipython",
    "version": 2
   },
   "file_extension": ".py",
   "mimetype": "text/x-python",
   "name": "python",
   "nbconvert_exporter": "python",
   "pygments_lexer": "ipython2",
   "version": "2.7.6"
  }
 },
 "nbformat": 4,
 "nbformat_minor": 5
}
