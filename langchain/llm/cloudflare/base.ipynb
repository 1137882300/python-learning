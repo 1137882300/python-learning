{
 "cells": [
  {
   "cell_type": "code",
   "outputs": [],
   "source": [
    "# import OpenAI from \"openai\";\n",
    "# \n",
    "# const openai = new OpenAI({\n",
    "#     apiKey: env.CLOUDFLARE_API_KEY,\n",
    "#     baseURL: `https://api.cloudflare.com/client/v4/accounts/${env.CLOUDFLARE_ACCOUNT_ID}/ai/v1`\n",
    "# });\n",
    "# \n",
    "# const chatCompletion = await openai.chat.completions.create({\n",
    "#     messages: [{ role: \"user\", content: \"Make some robot noises\" }],\n",
    "#     model: \"@cf/meta/llama-3-8b-instruct\",\n",
    "# });\n",
    "# \n",
    "# const embeddings = await openai.embeddings.create({\n",
    "#     model: \"@cf/baai/bge-large-en-v1.5\",\n",
    "#     input: \"I love matcha\"\n",
    "# });"
   ],
   "metadata": {
    "collapsed": false
   },
   "id": "d9da771cbbe720c4"
  },
  {
   "cell_type": "code",
   "outputs": [],
   "source": [
    "# 基础代码引入\n",
    "from dotenv import load_dotenv\n",
    "import os\n",
    "from langchain_openai import ChatOpenAI\n",
    "from langchain_community.llms.cloudflare_workersai import CloudflareWorkersAI\n",
    "\n",
    "# 加载当前目录下的.env文件\n",
    "# load_dotenv()\n",
    "# load_dotenv(override=True) 会重新读取.env\n",
    "load_dotenv(override=True)\n",
    "\n",
    "# 现在可以像访问普通环境变量一样访问.env文件中的变量了\n",
    "account_id = os.getenv('CF_ACCOUNT_ID')\n",
    "api_token = os.getenv('CF_API_TOKEN')\n",
    "\n",
    "print(account_id)\n",
    "print(api_token)"
   ],
   "metadata": {
    "collapsed": false
   },
   "id": "8d307bdae341cdab"
  },
  {
   "cell_type": "code",
   "outputs": [],
   "source": [
    "model = '@cf/meta/llama-3-8b-instruct'\n",
    "# model2 = '@cf/meta/m2m100-1.2b'\n",
    "llm = CloudflareWorkersAI(account_id=account_id, api_token=api_token, model=model)"
   ],
   "metadata": {
    "collapsed": false
   },
   "id": "f33506d440ede417"
  },
  {
   "cell_type": "code",
   "outputs": [
    {
     "name": "stdout",
     "output_type": "stream",
     "text": [
      "8483c3ec7a0cbc54a8d660b5b9002b04\n",
      "Gcllof8ze6dgtcqFI5FQZ2SD_5tfCD4Db7NuS6jn\n",
      "https://api.cloudflare.com/client/v4/accounts/8483c3ec7a0cbc54a8d660b5b9002b04/ai/v1\n"
     ]
    }
   ],
   "source": [
    "# 基本配置\n",
    "from langchain_openai import ChatOpenAI\n",
    "import os\n",
    "from dotenv import load_dotenv\n",
    "from langchain_community.embeddings.cloudflare_workersai import CloudflareWorkersAIEmbeddings\n",
    "\n",
    "load_dotenv(override=True)\n",
    "\n",
    "account_id = os.getenv('CF_ACCOUNT_ID')\n",
    "api_token = os.getenv('CF_API_TOKEN')\n",
    "print(account_id)\n",
    "print(api_token)\n",
    "cf_api_base = os.getenv('CF_API_BASE')\n",
    "\n",
    "openai_api_base = f'https://api.cloudflare.com/client/v4/accounts/{account_id}/ai/v1'\n",
    "print(openai_api_base)\n",
    "\n",
    "cf_llm_openai = ChatOpenAI(\n",
    "    openai_api_base=openai_api_base,\n",
    "    openai_api_key=api_token,\n",
    "    model_name=\"@cf/meta/llama-3-8b-instruct\",\n",
    "    temperature=0,\n",
    "    streaming=True,\n",
    ")"
   ],
   "metadata": {
    "collapsed": false,
    "ExecuteTime": {
     "end_time": "2024-07-08T06:17:23.103714Z",
     "start_time": "2024-07-08T06:17:22.647447Z"
    }
   },
   "id": "c09592d28f1799d7",
   "execution_count": 1
  },
  {
   "cell_type": "code",
   "outputs": [],
   "source": [
    "# CloudflareWorkersAI\n",
    "model = '@cf/meta/llama-3-8b-instruct'\n",
    "cf_llm = CloudflareWorkersAI(\n",
    "    account_id=account_id,\n",
    "    api_token=api_token,\n",
    "    model=model\n",
    ")"
   ],
   "metadata": {
    "collapsed": false
   },
   "id": "6c1055b1f2c4dd9d"
  },
  {
   "cell_type": "code",
   "outputs": [
    {
     "data": {
      "text/plain": "AIMessage(content=\"I'm just an AI, I don't have feelings or opinions like humans do, but I'm always happy to chat with you! How about we talk about something interesting?\", id='run-0f06107a-faa0-4f52-8580-a8d143f16c32-0')"
     },
     "execution_count": 2,
     "metadata": {},
     "output_type": "execute_result"
    }
   ],
   "source": [
    "cf_llm_openai.invoke(\"how about you\")"
   ],
   "metadata": {
    "collapsed": false,
    "ExecuteTime": {
     "end_time": "2024-07-08T06:17:43.712081Z",
     "start_time": "2024-07-08T06:17:39.112806Z"
    }
   },
   "id": "ee4a5c2ba9bc4e09",
   "execution_count": 2
  },
  {
   "cell_type": "code",
   "outputs": [],
   "source": [],
   "metadata": {
    "collapsed": false
   },
   "id": "c8082544e042dbc5"
  }
 ],
 "metadata": {
  "kernelspec": {
   "display_name": "Python 3",
   "language": "python",
   "name": "python3"
  },
  "language_info": {
   "codemirror_mode": {
    "name": "ipython",
    "version": 2
   },
   "file_extension": ".py",
   "mimetype": "text/x-python",
   "name": "python",
   "nbconvert_exporter": "python",
   "pygments_lexer": "ipython2",
   "version": "2.7.6"
  }
 },
 "nbformat": 4,
 "nbformat_minor": 5
}
