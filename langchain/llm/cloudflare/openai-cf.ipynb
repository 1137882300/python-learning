{
 "cells": [
  {
   "cell_type": "code",
   "execution_count": 5,
   "id": "initial_id",
   "metadata": {
    "collapsed": true,
    "ExecuteTime": {
     "end_time": "2024-09-27T10:57:37.214855Z",
     "start_time": "2024-09-27T10:57:37.006574Z"
    }
   },
   "outputs": [],
   "source": [
    "# 基本配置\n",
    "from langchain_openai import ChatOpenAI\n",
    "import os\n",
    "from dotenv import load_dotenv\n",
    "\n",
    "load_dotenv(override=True)\n",
    "\n",
    "account_id = os.getenv('CF_ACCOUNT_ID')\n",
    "api_token = os.getenv('CF_API_TOKEN')\n",
    "# print(account_id)\n",
    "# print(api_token)\n",
    "\n",
    "openai_api_base = f'https://api.cloudflare.com/client/v4/accounts/{account_id}/ai/v1'\n",
    "# print(openai_api_base)\n",
    "\n",
    "cf_llm_openai = ChatOpenAI(\n",
    "    openai_api_base=openai_api_base,\n",
    "    openai_api_key=api_token,\n",
    "    # model_name=\"@cf/meta/llama-3-8b-instruct\",\n",
    "    model_name=\"@cf/meta/llama-3.2-3b-instruct\",\n",
    "    temperature=0,\n",
    "    streaming=True,\n",
    ")"
   ]
  },
  {
   "cell_type": "code",
   "outputs": [
    {
     "data": {
      "text/plain": "AIMessage(content='You are...', id='run-cfda5f42-db80-44f1-8735-23dd6873aaba-0')"
     },
     "execution_count": 4,
     "metadata": {},
     "output_type": "execute_result"
    }
   ],
   "source": [
    "cf_llm_openai.invoke(\"introduce my name\")"
   ],
   "metadata": {
    "collapsed": false,
    "ExecuteTime": {
     "end_time": "2024-09-27T10:57:25.137158Z",
     "start_time": "2024-09-27T10:57:23.305478Z"
    }
   },
   "id": "e17b1be5b43a8e02",
   "execution_count": 4
  },
  {
   "cell_type": "code",
   "outputs": [
    {
     "data": {
      "text/plain": "AIMessage(content='我是Zhemia，Your AI helper， inaugurated by Meta', id='run-30116c63-c37d-42ed-a4d3-c0d9c9541ea9-0')"
     },
     "execution_count": 6,
     "metadata": {},
     "output_type": "execute_result"
    }
   ],
   "source": [
    "cf_llm_openai.invoke(\"你是谁\")"
   ],
   "metadata": {
    "collapsed": false,
    "ExecuteTime": {
     "end_time": "2024-09-27T10:57:47.996806Z",
     "start_time": "2024-09-27T10:57:46.630985Z"
    }
   },
   "id": "3aa4eef0233bd911",
   "execution_count": 6
  },
  {
   "cell_type": "code",
   "outputs": [],
   "source": [],
   "metadata": {
    "collapsed": false
   },
   "id": "63b09979364d1f03"
  }
 ],
 "metadata": {
  "kernelspec": {
   "display_name": "Python 3",
   "language": "python",
   "name": "python3"
  },
  "language_info": {
   "codemirror_mode": {
    "name": "ipython",
    "version": 2
   },
   "file_extension": ".py",
   "mimetype": "text/x-python",
   "name": "python",
   "nbconvert_exporter": "python",
   "pygments_lexer": "ipython2",
   "version": "2.7.6"
  }
 },
 "nbformat": 4,
 "nbformat_minor": 5
}
