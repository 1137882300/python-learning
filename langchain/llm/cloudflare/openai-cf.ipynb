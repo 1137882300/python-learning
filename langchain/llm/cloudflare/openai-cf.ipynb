{
 "cells": [
  {
   "cell_type": "code",
   "execution_count": 1,
   "id": "initial_id",
   "metadata": {
    "collapsed": true,
    "ExecuteTime": {
     "end_time": "2024-07-15T01:27:05.234435Z",
     "start_time": "2024-07-15T01:27:04.779127Z"
    }
   },
   "outputs": [
    {
     "name": "stdout",
     "output_type": "stream",
     "text": [
      "8483c3ec7a0cbc54a8d660b5b9002b04\n",
      "yw8K2iSdmsfG5GgycbFlyw49pReaQxBeXiLNQx8R\n",
      "https://api.cloudflare.com/client/v4/accounts/8483c3ec7a0cbc54a8d660b5b9002b04/ai/v1\n"
     ]
    }
   ],
   "source": [
    "# 基本配置\n",
    "from langchain_openai import ChatOpenAI\n",
    "import os\n",
    "from dotenv import load_dotenv\n",
    "\n",
    "load_dotenv(override=True)\n",
    "\n",
    "account_id = os.getenv('CF_ACCOUNT_ID')\n",
    "api_token = os.getenv('CF_API_TOKEN')\n",
    "print(account_id)\n",
    "print(api_token)\n",
    "\n",
    "openai_api_base = f'https://api.cloudflare.com/client/v4/accounts/{account_id}/ai/v1'\n",
    "print(openai_api_base)\n",
    "\n",
    "cf_llm_openai = ChatOpenAI(\n",
    "    openai_api_base=openai_api_base,\n",
    "    openai_api_key=api_token,\n",
    "    model_name=\"@cf/meta/llama-3-8b-instruct\",\n",
    "    temperature=0,\n",
    "    streaming=True,\n",
    ")"
   ]
  },
  {
   "cell_type": "code",
   "outputs": [
    {
     "data": {
      "text/plain": "AIMessage(content=\"I'd be delighted to introduce myself to you!\\n\\nMy name is... (drumroll please)... YOU!\", id='run-93a494f8-1b23-4a9c-8177-223ae7a16f68-0')"
     },
     "execution_count": 2,
     "metadata": {},
     "output_type": "execute_result"
    }
   ],
   "source": [
    "cf_llm_openai.invoke(\"introduce my name\")"
   ],
   "metadata": {
    "collapsed": false,
    "ExecuteTime": {
     "end_time": "2024-07-15T01:27:23.001225Z",
     "start_time": "2024-07-15T01:27:19.963857Z"
    }
   },
   "id": "e17b1be5b43a8e02",
   "execution_count": 2
  },
  {
   "cell_type": "code",
   "outputs": [],
   "source": [],
   "metadata": {
    "collapsed": false
   },
   "id": "3aa4eef0233bd911"
  }
 ],
 "metadata": {
  "kernelspec": {
   "display_name": "Python 3",
   "language": "python",
   "name": "python3"
  },
  "language_info": {
   "codemirror_mode": {
    "name": "ipython",
    "version": 2
   },
   "file_extension": ".py",
   "mimetype": "text/x-python",
   "name": "python",
   "nbconvert_exporter": "python",
   "pygments_lexer": "ipython2",
   "version": "2.7.6"
  }
 },
 "nbformat": 4,
 "nbformat_minor": 5
}
