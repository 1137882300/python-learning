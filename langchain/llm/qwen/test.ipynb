{
 "cells": [
  {
   "cell_type": "code",
   "execution_count": null,
   "id": "initial_id",
   "metadata": {
    "collapsed": true
   },
   "outputs": [],
   "source": [
    "# 基础代码引入\n",
    "from dotenv import load_dotenv\n",
    "import os\n",
    "from langchain_openai import ChatOpenAI\n",
    "\n",
    "# 加载当前目录下的.env文件\n",
    "# load_dotenv()\n",
    "# load_dotenv(override=True) 会重新读取.env\n",
    "load_dotenv(override=True)\n",
    "\n",
    "# 现在可以像访问普通环境变量一样访问.env文件中的变量了\n",
    "DASHSCOPE_API_KEY = os.getenv('DASHSCOPE_API_KEY')\n",
    "\n",
    "print(DASHSCOPE_API_KEY)\n",
    "# os.environ[\"DASHSCOPE_API_KEY\"] = DASHSCOPE_API_KEY"
   ]
  },
  {
   "cell_type": "code",
   "outputs": [],
   "source": [
    "qw_llm_openai = ChatOpenAI(\n",
    "    openai_api_base='https://dashscope.aliyuncs.com/api/v1/apps/4b74aa6b4f064db28a49cf36c5efb496/completion',\n",
    "    openai_api_key='',\n",
    "    model_name=\"qwen2-1.5b-instruct\",\n",
    "    temperature=0,\n",
    "    streaming=True,\n",
    ")"
   ],
   "metadata": {
    "collapsed": false
   },
   "id": "6503f22edf969227"
  },
  {
   "cell_type": "code",
   "outputs": [],
   "source": [
    "prompt = '''\n",
    "🦌额尔古纳湿地位于内蒙古大兴安岭西北麓，以其原始的自然风光和丰富的生物多样性而闻名，被誉为“亚洲最美湿地”、“亚洲第一湿地”~\n",
    "\n",
    "🦌初次了解这个地名因为《额尔古纳河右岸》这本小说，多年前知道这本小说，今年年初才阅读完，书中描述蜿蜒的额尔古纳河，高大的桦树林，白色的撮罗子，精灵般的驯鹿~，穿越丛林与河流，置身于那片古老的鄂温克族部落\n",
    "\n",
    "🦌书里详细描述了每个人的死亡，记录了这个精灵一样的民族的消亡。虽然从始至终很悲凉，但森林里的山风、月亮、桦树、麋鹿、鄂温克人，他们汇聚在一起，像一股凌冽的山泉水在我们心里流淌，滋润着心田每一个无人问津的角落后，又默默流走。让我们焦躁的内心变得宁静，让我们更有勇气面对失去，与命运和解，不惧怕明天。\n",
    "\n",
    "📚建议打算去的游侠和去过的游侠读一读《额尔古纳河右岸》，了解这片真实又神秘的世界~\n",
    "\n",
    "请用悲观的风格评论\n",
    "'''"
   ],
   "metadata": {
    "collapsed": false,
    "ExecuteTime": {
     "end_time": "2024-10-14T01:53:35.952474Z",
     "start_time": "2024-10-14T01:53:35.919214Z"
    }
   },
   "id": "4e42cd057242844a",
   "execution_count": 1
  },
  {
   "cell_type": "code",
   "outputs": [],
   "source": [
    "from http import HTTPStatus\n",
    "from dashscope import Application\n",
    "\n",
    "\n",
    "def call_agent_app():\n",
    "    response = Application.call(app_id=' ',\n",
    "                                prompt=prompt,\n",
    "                                api_key='', )\n",
    "\n",
    "    if response.status_code != HTTPStatus.OK:\n",
    "        print('request_id=%s, code=%s, message=%s\\n' % (response.request_id, response.status_code, response.message))\n",
    "    else:\n",
    "        print('request_id=%s\\n output=%s\\n usage=%s\\n' % (response.request_id, response.output, response.usage))\n",
    "    return response\n",
    "\n",
    "if __name__ == '__main__':\n",
    "    response = call_agent_app()"
   ],
   "metadata": {
    "collapsed": false
   },
   "id": "1e8f0eb4b56c77b4",
   "execution_count": null
  },
  {
   "cell_type": "code",
   "outputs": [],
   "source": [
    "response.output"
   ],
   "metadata": {
    "collapsed": false
   },
   "id": "7686122d9553021e",
   "execution_count": null
  },
  {
   "cell_type": "code",
   "outputs": [],
   "source": [
    "response.output.text"
   ],
   "metadata": {
    "collapsed": false
   },
   "id": "159895f80de4de16",
   "execution_count": null
  }
 ],
 "metadata": {
  "kernelspec": {
   "display_name": "Python 3",
   "language": "python",
   "name": "python3"
  },
  "language_info": {
   "codemirror_mode": {
    "name": "ipython",
    "version": 2
   },
   "file_extension": ".py",
   "mimetype": "text/x-python",
   "name": "python",
   "nbconvert_exporter": "python",
   "pygments_lexer": "ipython2",
   "version": "2.7.6"
  }
 },
 "nbformat": 4,
 "nbformat_minor": 5
}
