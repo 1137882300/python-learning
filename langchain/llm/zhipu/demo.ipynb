{
 "cells": [
  {
   "cell_type": "code",
   "execution_count": 18,
   "id": "initial_id",
   "metadata": {
    "collapsed": true,
    "ExecuteTime": {
     "end_time": "2024-08-08T06:35:26.590628Z",
     "start_time": "2024-08-08T06:35:26.570872Z"
    }
   },
   "outputs": [],
   "source": [
    "from langchain_community.chat_models import ChatZhipuAI\n",
    "import os\n",
    "from dotenv import load_dotenv\n",
    "\n",
    "load_dotenv(override=True)\n",
    "chat = ChatZhipuAI(\n",
    "    model=\"GLM-4-0520\",\n",
    "    temperature=0.5,\n",
    ")"
   ]
  },
  {
   "cell_type": "code",
   "outputs": [
    {
     "data": {
      "text/plain": "AIMessage(content='你好👋！我是人工智能助手智谱清言（ChatGLM），很高兴见到你，欢迎问我任何问题。', response_metadata={'token_usage': {'completion_tokens': 28, 'prompt_tokens': 6, 'total_tokens': 34}, 'model_name': 'GLM-4-0520', 'finish_reason': 'stop'}, id='run-5dc9727f-7d2c-4dfb-b7e8-9a17759f64ea-0')"
     },
     "execution_count": 19,
     "metadata": {},
     "output_type": "execute_result"
    }
   ],
   "source": [
    "chat.invoke('你好')"
   ],
   "metadata": {
    "collapsed": false,
    "ExecuteTime": {
     "end_time": "2024-08-08T06:35:28.860585Z",
     "start_time": "2024-08-08T06:35:27.128964Z"
    }
   },
   "id": "9a1467f18955f80",
   "execution_count": 19
  },
  {
   "cell_type": "code",
   "outputs": [],
   "source": [
    "from langchain_openai import ChatOpenAI\n",
    "\n",
    "zp_llm_openai = ChatOpenAI(\n",
    "    openai_api_base='https://open.bigmodel.cn/api/paas/v4/',\n",
    "    openai_api_key=os.getenv('ZHIPUAI_API_KEY'),\n",
    "    model_name=\"GLM-4-0520\",\n",
    "    temperature=0,\n",
    "    streaming=True,\n",
    ")"
   ],
   "metadata": {
    "collapsed": false,
    "ExecuteTime": {
     "end_time": "2024-08-08T06:35:30.823466Z",
     "start_time": "2024-08-08T06:35:30.774727Z"
    }
   },
   "id": "719825c3057fbb92",
   "execution_count": 20
  },
  {
   "cell_type": "code",
   "outputs": [
    {
     "data": {
      "text/plain": "AIMessage(content='Hello! \"Nihao\" (你好) means \"hello\" in Mandarin Chinese. How can I assist you today?', response_metadata={'finish_reason': 'stop', 'model_name': 'glm-4-0520'}, id='run-b0bb40a8-ca59-4255-8c83-af4b7d26af1c-0')"
     },
     "execution_count": 21,
     "metadata": {},
     "output_type": "execute_result"
    }
   ],
   "source": [
    "zp_llm_openai.invoke(\"nihao\")"
   ],
   "metadata": {
    "collapsed": false,
    "ExecuteTime": {
     "end_time": "2024-08-08T06:35:33.090189Z",
     "start_time": "2024-08-08T06:35:31.529401Z"
    }
   },
   "id": "c69174cfd7f50018",
   "execution_count": 21
  },
  {
   "cell_type": "code",
   "outputs": [],
   "source": [
    "from zhipuai import ZhipuAI"
   ],
   "metadata": {
    "collapsed": false,
    "ExecuteTime": {
     "end_time": "2024-08-08T07:09:38.647963Z",
     "start_time": "2024-08-08T07:09:38.582514Z"
    }
   },
   "id": "f250e4d6b48eaf37",
   "execution_count": 22
  },
  {
   "cell_type": "code",
   "outputs": [],
   "source": [
    "client = ZhipuAI(api_key=os.getenv('ZHIPUAI_API_KEY'))\n",
    "response = client.chat.completions.create(\n",
    "    model=\"glm-4\",  # 填写需要调用的模型名称\n",
    "    messages=[\n",
    "        {\"role\": \"user\", \"content\": \"总结一下每日的行程\"},\n",
    "    ],\n",
    "    tools=[\n",
    "        {\n",
    "            \"type\": \"retrieval\",\n",
    "            \"retrieval\": {\n",
    "                \"knowledge_id\": \"1821441570659000320\",\n",
    "                \"prompt_template\": \"从文档\\n\\\"\\\"\\\"\\n{{knowledge}}\\n\\\"\\\"\\\"\\n中找问题\\n\\\"\\\"\\\"\\n{{question}}\\n\\\"\\\"\\\"\\n的答案，找到答案就仅使用文档语句回答问题，找不到答案就用自身知识回答并且告诉用户该信息不是来自文档。\\n不要复述问题，直接开始回答。\"\n",
    "            }\n",
    "        }\n",
    "    ],\n",
    "    stream=True,\n",
    ")"
   ],
   "metadata": {
    "collapsed": false,
    "ExecuteTime": {
     "end_time": "2024-08-08T07:10:09.511995Z",
     "start_time": "2024-08-08T07:10:05.652038Z"
    }
   },
   "id": "c1e1a54e740fd02f",
   "execution_count": 23
  },
  {
   "cell_type": "code",
   "outputs": [
    {
     "name": "stdout",
     "output_type": "stream",
     "text": [
      "ChoiceDelta(content='对不起', role='assistant', tool_calls=None)\n",
      "ChoiceDelta(content='，', role='assistant', tool_calls=None)\n",
      "ChoiceDelta(content='我没有', role='assistant', tool_calls=None)\n",
      "ChoiceDelta(content='办法', role='assistant', tool_calls=None)\n",
      "ChoiceDelta(content='总结', role='assistant', tool_calls=None)\n",
      "ChoiceDelta(content='您', role='assistant', tool_calls=None)\n",
      "ChoiceDelta(content='每日', role='assistant', tool_calls=None)\n",
      "ChoiceDelta(content='的', role='assistant', tool_calls=None)\n",
      "ChoiceDelta(content='行程', role='assistant', tool_calls=None)\n",
      "ChoiceDelta(content='，', role='assistant', tool_calls=None)\n",
      "ChoiceDelta(content='因为我', role='assistant', tool_calls=None)\n",
      "ChoiceDelta(content='是一个', role='assistant', tool_calls=None)\n",
      "ChoiceDelta(content='人工智能', role='assistant', tool_calls=None)\n",
      "ChoiceDelta(content='助手', role='assistant', tool_calls=None)\n",
      "ChoiceDelta(content='，', role='assistant', tool_calls=None)\n",
      "ChoiceDelta(content='无法', role='assistant', tool_calls=None)\n",
      "ChoiceDelta(content='跟踪', role='assistant', tool_calls=None)\n",
      "ChoiceDelta(content='或', role='assistant', tool_calls=None)\n",
      "ChoiceDelta(content='记录', role='assistant', tool_calls=None)\n",
      "ChoiceDelta(content='您的', role='assistant', tool_calls=None)\n",
      "ChoiceDelta(content='日常', role='assistant', tool_calls=None)\n",
      "ChoiceDelta(content='活动', role='assistant', tool_calls=None)\n",
      "ChoiceDelta(content='。', role='assistant', tool_calls=None)\n",
      "ChoiceDelta(content='我', role='assistant', tool_calls=None)\n",
      "ChoiceDelta(content='主要的', role='assistant', tool_calls=None)\n",
      "ChoiceDelta(content='用途', role='assistant', tool_calls=None)\n",
      "ChoiceDelta(content='是', role='assistant', tool_calls=None)\n",
      "ChoiceDelta(content='提供', role='assistant', tool_calls=None)\n",
      "ChoiceDelta(content='信息', role='assistant', tool_calls=None)\n",
      "ChoiceDelta(content='、', role='assistant', tool_calls=None)\n",
      "ChoiceDelta(content='解答', role='assistant', tool_calls=None)\n",
      "ChoiceDelta(content='问题', role='assistant', tool_calls=None)\n",
      "ChoiceDelta(content='以及', role='assistant', tool_calls=None)\n",
      "ChoiceDelta(content='帮助', role='assistant', tool_calls=None)\n",
      "ChoiceDelta(content='解决', role='assistant', tool_calls=None)\n",
      "ChoiceDelta(content='各种', role='assistant', tool_calls=None)\n",
      "ChoiceDelta(content='问题', role='assistant', tool_calls=None)\n",
      "ChoiceDelta(content='。', role='assistant', tool_calls=None)\n",
      "ChoiceDelta(content='如果您', role='assistant', tool_calls=None)\n",
      "ChoiceDelta(content='需要', role='assistant', tool_calls=None)\n",
      "ChoiceDelta(content='帮助', role='assistant', tool_calls=None)\n",
      "ChoiceDelta(content='规划', role='assistant', tool_calls=None)\n",
      "ChoiceDelta(content='您的', role='assistant', tool_calls=None)\n",
      "ChoiceDelta(content='日程', role='assistant', tool_calls=None)\n",
      "ChoiceDelta(content='，', role='assistant', tool_calls=None)\n",
      "ChoiceDelta(content='我可以', role='assistant', tool_calls=None)\n",
      "ChoiceDelta(content='提供', role='assistant', tool_calls=None)\n",
      "ChoiceDelta(content='一些', role='assistant', tool_calls=None)\n",
      "ChoiceDelta(content='基本的', role='assistant', tool_calls=None)\n",
      "ChoiceDelta(content='建议', role='assistant', tool_calls=None)\n",
      "ChoiceDelta(content='或者', role='assistant', tool_calls=None)\n",
      "ChoiceDelta(content='工具', role='assistant', tool_calls=None)\n",
      "ChoiceDelta(content='使用', role='assistant', tool_calls=None)\n",
      "ChoiceDelta(content='指导', role='assistant', tool_calls=None)\n",
      "ChoiceDelta(content='。', role='assistant', tool_calls=None)\n",
      "ChoiceDelta(content='您', role='assistant', tool_calls=None)\n",
      "ChoiceDelta(content='想', role='assistant', tool_calls=None)\n",
      "ChoiceDelta(content='让我', role='assistant', tool_calls=None)\n",
      "ChoiceDelta(content='帮', role='assistant', tool_calls=None)\n",
      "ChoiceDelta(content='您', role='assistant', tool_calls=None)\n",
      "ChoiceDelta(content='做什么', role='assistant', tool_calls=None)\n",
      "ChoiceDelta(content='呢', role='assistant', tool_calls=None)\n",
      "ChoiceDelta(content='？', role='assistant', tool_calls=None)\n",
      "ChoiceDelta(content='', role='assistant', tool_calls=None)\n"
     ]
    }
   ],
   "source": [
    "for chunk in response:\n",
    "    print(chunk.choices[0].delta)"
   ],
   "metadata": {
    "collapsed": false,
    "ExecuteTime": {
     "end_time": "2024-08-08T07:10:19.684208Z",
     "start_time": "2024-08-08T07:10:19.670929Z"
    }
   },
   "id": "5623cbe056c8d4f0",
   "execution_count": 24
  },
  {
   "cell_type": "code",
   "outputs": [],
   "source": [],
   "metadata": {
    "collapsed": false
   },
   "id": "5d20c9fbaeeb588a"
  }
 ],
 "metadata": {
  "kernelspec": {
   "display_name": "Python 3",
   "language": "python",
   "name": "python3"
  },
  "language_info": {
   "codemirror_mode": {
    "name": "ipython",
    "version": 2
   },
   "file_extension": ".py",
   "mimetype": "text/x-python",
   "name": "python",
   "nbconvert_exporter": "python",
   "pygments_lexer": "ipython2",
   "version": "2.7.6"
  }
 },
 "nbformat": 4,
 "nbformat_minor": 5
}
