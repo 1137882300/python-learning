{
 "cells": [
  {
   "cell_type": "code",
   "execution_count": 18,
   "id": "initial_id",
   "metadata": {
    "collapsed": true,
    "ExecuteTime": {
     "end_time": "2024-08-08T06:35:26.590628Z",
     "start_time": "2024-08-08T06:35:26.570872Z"
    }
   },
   "outputs": [],
   "source": [
    "from langchain_community.chat_models import ChatZhipuAI\n",
    "import os\n",
    "from dotenv import load_dotenv\n",
    "\n",
    "load_dotenv(override=True)\n",
    "chat = ChatZhipuAI(\n",
    "    model=\"GLM-4-0520\",\n",
    "    temperature=0.5,\n",
    ")"
   ]
  },
  {
   "cell_type": "code",
   "outputs": [
    {
     "data": {
      "text/plain": "AIMessage(content='你好👋！我是人工智能助手智谱清言（ChatGLM），很高兴见到你，欢迎问我任何问题。', response_metadata={'token_usage': {'completion_tokens': 28, 'prompt_tokens': 6, 'total_tokens': 34}, 'model_name': 'GLM-4-0520', 'finish_reason': 'stop'}, id='run-5dc9727f-7d2c-4dfb-b7e8-9a17759f64ea-0')"
     },
     "execution_count": 19,
     "metadata": {},
     "output_type": "execute_result"
    }
   ],
   "source": [
    "chat.invoke('你好')"
   ],
   "metadata": {
    "collapsed": false,
    "ExecuteTime": {
     "end_time": "2024-08-08T06:35:28.860585Z",
     "start_time": "2024-08-08T06:35:27.128964Z"
    }
   },
   "id": "9a1467f18955f80",
   "execution_count": 19
  },
  {
   "cell_type": "code",
   "outputs": [],
   "source": [
    "from langchain_openai import ChatOpenAI\n",
    "\n",
    "zp_llm_openai = ChatOpenAI(\n",
    "    openai_api_base='https://open.bigmodel.cn/api/paas/v4/',\n",
    "    openai_api_key=os.getenv('ZHIPUAI_API_KEY'),\n",
    "    model_name=\"GLM-4-0520\",\n",
    "    temperature=0,\n",
    "    streaming=True,\n",
    ")"
   ],
   "metadata": {
    "collapsed": false,
    "ExecuteTime": {
     "end_time": "2024-08-08T06:35:30.823466Z",
     "start_time": "2024-08-08T06:35:30.774727Z"
    }
   },
   "id": "719825c3057fbb92",
   "execution_count": 20
  },
  {
   "cell_type": "code",
   "outputs": [
    {
     "data": {
      "text/plain": "AIMessage(content='Hello! \"Nihao\" (你好) means \"hello\" in Mandarin Chinese. How can I assist you today?', response_metadata={'finish_reason': 'stop', 'model_name': 'glm-4-0520'}, id='run-b0bb40a8-ca59-4255-8c83-af4b7d26af1c-0')"
     },
     "execution_count": 21,
     "metadata": {},
     "output_type": "execute_result"
    }
   ],
   "source": [
    "zp_llm_openai.invoke(\"nihao\")"
   ],
   "metadata": {
    "collapsed": false,
    "ExecuteTime": {
     "end_time": "2024-08-08T06:35:33.090189Z",
     "start_time": "2024-08-08T06:35:31.529401Z"
    }
   },
   "id": "c69174cfd7f50018",
   "execution_count": 21
  },
  {
   "cell_type": "code",
   "outputs": [],
   "source": [],
   "metadata": {
    "collapsed": false
   },
   "id": "f250e4d6b48eaf37"
  }
 ],
 "metadata": {
  "kernelspec": {
   "display_name": "Python 3",
   "language": "python",
   "name": "python3"
  },
  "language_info": {
   "codemirror_mode": {
    "name": "ipython",
    "version": 2
   },
   "file_extension": ".py",
   "mimetype": "text/x-python",
   "name": "python",
   "nbconvert_exporter": "python",
   "pygments_lexer": "ipython2",
   "version": "2.7.6"
  }
 },
 "nbformat": 4,
 "nbformat_minor": 5
}
