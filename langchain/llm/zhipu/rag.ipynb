{
 "cells": [
  {
   "cell_type": "code",
   "outputs": [
    {
     "data": {
      "text/plain": "True"
     },
     "execution_count": 1,
     "metadata": {},
     "output_type": "execute_result"
    }
   ],
   "source": [
    "from zhipuai import ZhipuAI\n",
    "import os\n",
    "from dotenv import load_dotenv\n",
    "\n",
    "load_dotenv(override=True)"
   ],
   "metadata": {
    "collapsed": false,
    "ExecuteTime": {
     "end_time": "2024-08-08T07:10:45.764136Z",
     "start_time": "2024-08-08T07:10:45.593652Z"
    }
   },
   "id": "3dc3338aa01dc0aa",
   "execution_count": 1
  },
  {
   "cell_type": "code",
   "outputs": [
    {
     "name": "stdout",
     "output_type": "stream",
     "text": [
      "1821443967821189120\n"
     ]
    }
   ],
   "source": [
    "client = ZhipuAI(api_key=os.getenv('ZHIPUAI_API_KEY'))  # 请填写您自己的APIKey\n",
    "\n",
    "result = client.knowledge.create(\n",
    "    embedding_id=3,\n",
    "    name=\"yxk-2\",\n",
    "    description=\"knowledge description\"\n",
    ")\n",
    "print(result.id)"
   ],
   "metadata": {
    "collapsed": false,
    "ExecuteTime": {
     "end_time": "2024-08-08T07:10:57.495949Z",
     "start_time": "2024-08-08T07:10:57.099824Z"
    }
   },
   "id": "ae4a2da101772d37",
   "execution_count": 2
  },
  {
   "cell_type": "code",
   "outputs": [
    {
     "name": "stdout",
     "output_type": "stream",
     "text": [
      "DocumentObject(successInfos=[DocumentSuccessinfo(documentId='1821444218300817408', filename=None, fileName='79523710-喀纳斯+环天山丨北疆全景12日(首次入疆推荐).pdf')], failedInfos=[])\n"
     ]
    }
   ],
   "source": [
    "resp = client.knowledge.document.create(\n",
    "    file=open(\"/Users/pangmengting/Documents/workspace/python-learning/file/79523710-喀纳斯+环天山丨北疆全景12日(首次入疆推荐).pdf\", \"rb\"),\n",
    "    purpose=\"retrieval\",\n",
    "    knowledge_id=\"1821443967821189120\",\n",
    "    sentence_size=202,\n",
    "    custom_separator=[\"\\n\"]\n",
    ")\n",
    "print(resp)"
   ],
   "metadata": {
    "collapsed": false,
    "ExecuteTime": {
     "end_time": "2024-08-08T07:11:57.097386Z",
     "start_time": "2024-08-08T07:11:56.376522Z"
    }
   },
   "id": "7278720ea2f4535b",
   "execution_count": 3
  },
  {
   "cell_type": "code",
   "outputs": [],
   "source": [
    "response = client.chat.completions.create(\n",
    "    model=\"glm-4\",  # 填写需要调用的模型名称\n",
    "    messages=[\n",
    "        {\"role\": \"user\", \"content\": \"总结一下每日的行程\"},\n",
    "    ],\n",
    "    tools=[\n",
    "        {\n",
    "            \"type\": \"retrieval\",\n",
    "            \"retrieval\": {\n",
    "                \"knowledge_id\": \"1821443967821189120\",\n",
    "                \"prompt_template\": \"从文档\\n\\\"\\\"\\\"\\n{{knowledge}}\\n\\\"\\\"\\\"\\n中找问题\\n\\\"\\\"\\\"\\n{{question}}\\n\\\"\\\"\\\"\\n的答案，找到答案就仅使用文档语句回答问题，找不到答案就用自身知识回答并且告诉用户该信息不是来自文档。\\n不要复述问题，直接开始回答。\"\n",
    "            }\n",
    "        }\n",
    "    ],\n",
    "    stream=True,\n",
    ")"
   ],
   "metadata": {
    "collapsed": false,
    "ExecuteTime": {
     "end_time": "2024-08-08T07:12:23.478749Z",
     "start_time": "2024-08-08T07:12:21.028774Z"
    }
   },
   "id": "29172b69b6bd33c0",
   "execution_count": 4
  },
  {
   "cell_type": "code",
   "outputs": [],
   "source": [
    "for chunk in response:\n",
    "    print(chunk.choices[0].delta)"
   ],
   "metadata": {
    "collapsed": false,
    "ExecuteTime": {
     "end_time": "2024-08-08T07:13:15.641321Z",
     "start_time": "2024-08-08T07:13:15.633119Z"
    }
   },
   "id": "3f10eb7974b04a62",
   "execution_count": 10
  },
  {
   "cell_type": "code",
   "outputs": [
    {
     "ename": "ResponseNotRead",
     "evalue": "Attempted to access streaming response content, without having called `read()`.",
     "output_type": "error",
     "traceback": [
      "\u001B[0;31m---------------------------------------------------------------------------\u001B[0m",
      "\u001B[0;31mResponseNotRead\u001B[0m                           Traceback (most recent call last)",
      "Cell \u001B[0;32mIn[16], line 1\u001B[0m\n\u001B[0;32m----> 1\u001B[0m \u001B[43mresponse\u001B[49m\u001B[38;5;241;43m.\u001B[39;49m\u001B[43mresponse\u001B[49m\u001B[38;5;241;43m.\u001B[39;49m\u001B[43mcontent\u001B[49m\n",
      "File \u001B[0;32m~/venv/lib/python3.10/site-packages/httpx/_models.py:570\u001B[0m, in \u001B[0;36mResponse.content\u001B[0;34m(self)\u001B[0m\n\u001B[1;32m    567\u001B[0m \u001B[38;5;129m@property\u001B[39m\n\u001B[1;32m    568\u001B[0m \u001B[38;5;28;01mdef\u001B[39;00m \u001B[38;5;21mcontent\u001B[39m(\u001B[38;5;28mself\u001B[39m) \u001B[38;5;241m-\u001B[39m\u001B[38;5;241m>\u001B[39m \u001B[38;5;28mbytes\u001B[39m:\n\u001B[1;32m    569\u001B[0m     \u001B[38;5;28;01mif\u001B[39;00m \u001B[38;5;129;01mnot\u001B[39;00m \u001B[38;5;28mhasattr\u001B[39m(\u001B[38;5;28mself\u001B[39m, \u001B[38;5;124m\"\u001B[39m\u001B[38;5;124m_content\u001B[39m\u001B[38;5;124m\"\u001B[39m):\n\u001B[0;32m--> 570\u001B[0m         \u001B[38;5;28;01mraise\u001B[39;00m ResponseNotRead()\n\u001B[1;32m    571\u001B[0m     \u001B[38;5;28;01mreturn\u001B[39;00m \u001B[38;5;28mself\u001B[39m\u001B[38;5;241m.\u001B[39m_content\n",
      "\u001B[0;31mResponseNotRead\u001B[0m: Attempted to access streaming response content, without having called `read()`."
     ]
    }
   ],
   "source": [],
   "metadata": {
    "collapsed": false,
    "ExecuteTime": {
     "end_time": "2024-08-08T07:13:41.900969Z",
     "start_time": "2024-08-08T07:13:41.889474Z"
    }
   },
   "id": "18a14016ef957090",
   "execution_count": 16
  },
  {
   "cell_type": "code",
   "outputs": [
    {
     "name": "stdout",
     "output_type": "stream",
     "text": [
      "Looking in indexes: https://pypi.tuna.tsinghua.edu.cn/simple\r\n",
      "Requirement already satisfied: zhipuai in /Users/pangmengting/venv/lib/python3.10/site-packages (2.0.1)\r\n",
      "Collecting zhipuai\r\n",
      "  Downloading https://pypi.tuna.tsinghua.edu.cn/packages/5a/8b/6ef01a889b31b1d7320775080ca278ca8029da885778bdc43dfc786b4e83/zhipuai-2.1.4.20230806-py3-none-any.whl (89 kB)\r\n",
      "\u001B[2K     \u001B[90m━━━━━━━━━━━━━━━━━━━━━━━━━━━━━━━━━━━━━━━\u001B[0m \u001B[32m90.0/90.0 kB\u001B[0m \u001B[31m386.1 kB/s\u001B[0m eta \u001B[36m0:00:00\u001B[0ma \u001B[36m0:00:01\u001B[0m\r\n",
      "\u001B[?25hRequirement already satisfied: cachetools>=4.2.2 in /Users/pangmengting/venv/lib/python3.10/site-packages (from zhipuai) (5.3.1)\r\n",
      "Requirement already satisfied: httpx>=0.23.0 in /Users/pangmengting/venv/lib/python3.10/site-packages (from zhipuai) (0.27.0)\r\n",
      "Requirement already satisfied: pydantic<3.0,>=1.9.0 in /Users/pangmengting/venv/lib/python3.10/site-packages (from zhipuai) (1.10.17)\r\n",
      "Requirement already satisfied: pydantic-core>=2.14.6 in /Users/pangmengting/venv/lib/python3.10/site-packages (from zhipuai) (2.20.1)\r\n",
      "Requirement already satisfied: pyjwt<2.9.0,>=2.8.0 in /Users/pangmengting/venv/lib/python3.10/site-packages (from zhipuai) (2.8.0)\r\n",
      "Requirement already satisfied: anyio in /Users/pangmengting/venv/lib/python3.10/site-packages (from httpx>=0.23.0->zhipuai) (4.4.0)\r\n",
      "Requirement already satisfied: certifi in /Users/pangmengting/venv/lib/python3.10/site-packages (from httpx>=0.23.0->zhipuai) (2024.7.4)\r\n",
      "Requirement already satisfied: httpcore==1.* in /Users/pangmengting/venv/lib/python3.10/site-packages (from httpx>=0.23.0->zhipuai) (1.0.5)\r\n",
      "Requirement already satisfied: idna in /Users/pangmengting/venv/lib/python3.10/site-packages (from httpx>=0.23.0->zhipuai) (3.7)\r\n",
      "Requirement already satisfied: sniffio in /Users/pangmengting/venv/lib/python3.10/site-packages (from httpx>=0.23.0->zhipuai) (1.3.1)\r\n",
      "Requirement already satisfied: h11<0.15,>=0.13 in /Users/pangmengting/venv/lib/python3.10/site-packages (from httpcore==1.*->httpx>=0.23.0->zhipuai) (0.14.0)\r\n",
      "Requirement already satisfied: typing-extensions>=4.2.0 in /Users/pangmengting/venv/lib/python3.10/site-packages (from pydantic<3.0,>=1.9.0->zhipuai) (4.12.2)\r\n",
      "Requirement already satisfied: exceptiongroup>=1.0.2 in /Users/pangmengting/venv/lib/python3.10/site-packages (from anyio->httpx>=0.23.0->zhipuai) (1.2.2)\r\n",
      "Installing collected packages: zhipuai\r\n",
      "  Attempting uninstall: zhipuai\r\n",
      "    Found existing installation: zhipuai 2.0.1\r\n",
      "    Uninstalling zhipuai-2.0.1:\r\n",
      "      Successfully uninstalled zhipuai-2.0.1\r\n",
      "Successfully installed zhipuai-2.1.4.20230806\r\n",
      "\r\n",
      "\u001B[1m[\u001B[0m\u001B[34;49mnotice\u001B[0m\u001B[1;39;49m]\u001B[0m\u001B[39;49m A new release of pip is available: \u001B[0m\u001B[31;49m24.0\u001B[0m\u001B[39;49m -> \u001B[0m\u001B[32;49m24.2\u001B[0m\r\n",
      "\u001B[1m[\u001B[0m\u001B[34;49mnotice\u001B[0m\u001B[1;39;49m]\u001B[0m\u001B[39;49m To update, run: \u001B[0m\u001B[32;49mpip install --upgrade pip\u001B[0m\r\n"
     ]
    }
   ],
   "source": [
    "# !pip install --upgrade zhipuai"
   ],
   "metadata": {
    "collapsed": false,
    "ExecuteTime": {
     "end_time": "2024-08-08T07:08:21.996435Z",
     "start_time": "2024-08-08T07:08:18.725200Z"
    }
   },
   "id": "ac8d236ca4ffac72",
   "execution_count": 8
  }
 ],
 "metadata": {
  "kernelspec": {
   "display_name": "Python 3",
   "language": "python",
   "name": "python3"
  },
  "language_info": {
   "codemirror_mode": {
    "name": "ipython",
    "version": 2
   },
   "file_extension": ".py",
   "mimetype": "text/x-python",
   "name": "python",
   "nbconvert_exporter": "python",
   "pygments_lexer": "ipython2",
   "version": "2.7.6"
  }
 },
 "nbformat": 4,
 "nbformat_minor": 5
}
