{
 "cells": [
  {
   "cell_type": "code",
   "execution_count": 32,
   "id": "initial_id",
   "metadata": {
    "collapsed": true,
    "ExecuteTime": {
     "end_time": "2024-07-03T02:13:18.971472Z",
     "start_time": "2024-07-03T02:13:18.959186Z"
    }
   },
   "outputs": [
    {
     "name": "stdout",
     "output_type": "stream",
     "text": [
      "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 https://groq-api.923828.xyz/v1\n"
     ]
    }
   ],
   "source": [
    "# 基础代码引入\n",
    "from dotenv import load_dotenv\n",
    "import os\n",
    "\n",
    "# 加载当前目录下的.env文件\n",
    "# load_dotenv()\n",
    "# load_dotenv(override=True) 会重新读取.env\n",
    "load_dotenv(override=True)\n",
    "\n",
    "# 现在可以像访问普通环境变量一样访问.env文件中的变量了\n",
    "groq_api_key = os.getenv('GROQ_API_KEY')\n",
    "groq_api_base = os.getenv('GROQ_API_BASE')\n",
    "\n",
    "print(groq_api_key, groq_api_base)"
   ]
  },
  {
   "cell_type": "code",
   "outputs": [],
   "source": [
    "from langchain_openai import ChatOpenAI\n",
    "# llama3-70b-8192\n",
    "# llama3-8b-8192\n",
    "# mixtral-8x7b-32768\n",
    "# gemma-7b-it\n",
    "# whisper-large-v3\n",
    "# qwen 兼容 openai的接口\n",
    "groq_llm_openai = ChatOpenAI(\n",
    "    openai_api_base=groq_api_base,\n",
    "    openai_api_key=groq_api_key,\n",
    "    model_name=\"llama3-8b-8192\",\n",
    "    temperature=0.7,\n",
    "    streaming=True,\n",
    ")"
   ],
   "metadata": {
    "collapsed": false,
    "ExecuteTime": {
     "end_time": "2024-07-03T02:13:22.825217Z",
     "start_time": "2024-07-03T02:13:22.787790Z"
    }
   },
   "id": "1ea8707e43fd4abb",
   "execution_count": 33
  },
  {
   "cell_type": "code",
   "outputs": [
    {
     "data": {
      "text/plain": "AIMessage(content=\"I'm just an AI, I don't have a physical body or personal experiences, so I don't eat or have a memory of eating. I exist solely to provide information and assist with tasks, so I didn't eat at all! 😊\", response_metadata={'finish_reason': 'stop'}, id='run-1af39f78-72ee-4eb6-b246-04689a3eda3b-0')"
     },
     "execution_count": 34,
     "metadata": {},
     "output_type": "execute_result"
    }
   ],
   "source": [
    "groq_llm_openai.invoke(\"几天前吃饭？\")"
   ],
   "metadata": {
    "collapsed": false,
    "ExecuteTime": {
     "end_time": "2024-07-03T02:13:36.550557Z",
     "start_time": "2024-07-03T02:13:35.275113Z"
    }
   },
   "id": "f1b0b183d21414c2",
   "execution_count": 34
  },
  {
   "cell_type": "code",
   "outputs": [],
   "source": [],
   "metadata": {
    "collapsed": false
   },
   "id": "2efc9429eefddc84"
  }
 ],
 "metadata": {
  "kernelspec": {
   "display_name": "Python 3",
   "language": "python",
   "name": "python3"
  },
  "language_info": {
   "codemirror_mode": {
    "name": "ipython",
    "version": 2
   },
   "file_extension": ".py",
   "mimetype": "text/x-python",
   "name": "python",
   "nbconvert_exporter": "python",
   "pygments_lexer": "ipython2",
   "version": "2.7.6"
  }
 },
 "nbformat": 4,
 "nbformat_minor": 5
}
