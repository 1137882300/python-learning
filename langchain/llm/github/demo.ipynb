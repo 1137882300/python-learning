{
 "cells": [
  {
   "cell_type": "code",
   "execution_count": null,
   "id": "initial_id",
   "metadata": {
    "collapsed": true
   },
   "outputs": [],
   "source": []
  },
  {
   "cell_type": "code",
   "outputs": [],
   "source": [
    "# 基础代码引入\n",
    "from dotenv import load_dotenv\n",
    "import os\n",
    "\n",
    "# 加载当前目录下的.env文件\n",
    "# load_dotenv()\n",
    "# load_dotenv(override=True) 会重新读取.env\n",
    "load_dotenv(override=True)\n",
    "\n",
    "# 现在可以像访问普通环境变量一样访问.env文件中的变量了\n",
    "groq_api_key = os.getenv('GITHUB_API_KEY')\n",
    "groq_api_base = os.getenv('GITHUB_API_BASE')\n",
    "\n",
    "# print(groq_api_key, groq_api_base)"
   ],
   "metadata": {
    "collapsed": false,
    "ExecuteTime": {
     "end_time": "2024-09-27T09:43:40.214356Z",
     "start_time": "2024-09-27T09:43:40.161895Z"
    }
   },
   "id": "df4a5a460b574d38",
   "execution_count": 1
  },
  {
   "cell_type": "code",
   "outputs": [],
   "source": [
    "from langchain_openai import ChatOpenAI\n",
    "\n",
    "llm_openai = ChatOpenAI(\n",
    "    openai_api_base=groq_api_base,\n",
    "    openai_api_key=groq_api_key,\n",
    "    model_name=\"gpt-4o\",\n",
    "    temperature=0.5,\n",
    "    streaming=True,\n",
    ")"
   ],
   "metadata": {
    "collapsed": false,
    "ExecuteTime": {
     "end_time": "2024-09-27T09:43:54.333198Z",
     "start_time": "2024-09-27T09:43:53.639478Z"
    }
   },
   "id": "37b72f5a2be9465c",
   "execution_count": 2
  },
  {
   "cell_type": "code",
   "outputs": [
    {
     "data": {
      "text/plain": "AIMessage(content='你好！我是一个AI助手，旨在帮助回答你的问题和提供信息。有什么我可以帮你的吗？', response_metadata={'finish_reason': 'stop', 'model_name': 'gpt-4o-2024-08-06', 'system_fingerprint': 'fp_67802d9a6d'}, id='run-f9f76f2a-9c8f-4d5a-9b7b-5874efa0882b-0')"
     },
     "execution_count": 3,
     "metadata": {},
     "output_type": "execute_result"
    }
   ],
   "source": [
    "llm_openai.invoke(\"你是谁呀？\")"
   ],
   "metadata": {
    "collapsed": false,
    "ExecuteTime": {
     "end_time": "2024-09-27T09:43:57.371506Z",
     "start_time": "2024-09-27T09:43:55.865948Z"
    }
   },
   "id": "274de116de78e9ba",
   "execution_count": 3
  },
  {
   "cell_type": "code",
   "outputs": [],
   "source": [],
   "metadata": {
    "collapsed": false
   },
   "id": "e37612ce1fdff8c5"
  }
 ],
 "metadata": {
  "kernelspec": {
   "display_name": "Python 3",
   "language": "python",
   "name": "python3"
  },
  "language_info": {
   "codemirror_mode": {
    "name": "ipython",
    "version": 2
   },
   "file_extension": ".py",
   "mimetype": "text/x-python",
   "name": "python",
   "nbconvert_exporter": "python",
   "pygments_lexer": "ipython2",
   "version": "2.7.6"
  }
 },
 "nbformat": 4,
 "nbformat_minor": 5
}
