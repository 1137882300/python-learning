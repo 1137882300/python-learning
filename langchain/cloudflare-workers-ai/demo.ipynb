{
 "cells": [
  {
   "cell_type": "code",
   "outputs": [
    {
     "name": "stdout",
     "output_type": "stream",
     "text": [
      "8483c3ec7a0cbc54a8d660b5b9002b04\n",
      "Gcllof8ze6dgtcqFI5FQZ2SD_5tfCD4Db7NuS6jn\n"
     ]
    }
   ],
   "source": [
    "# 基础代码引入\n",
    "from dotenv import load_dotenv\n",
    "import os\n",
    "from langchain_openai import ChatOpenAI\n",
    "\n",
    "# 加载当前目录下的.env文件\n",
    "# load_dotenv()\n",
    "# load_dotenv(override=True) 会重新读取.env\n",
    "load_dotenv(override=True)\n",
    "\n",
    "# 现在可以像访问普通环境变量一样访问.env文件中的变量了\n",
    "account_id = os.getenv('CF_ACCOUNT_ID')\n",
    "api_token = os.getenv('CF_API_TOKEN')\n",
    "\n",
    "print(account_id)\n",
    "print(api_token)"
   ],
   "metadata": {
    "collapsed": false,
    "ExecuteTime": {
     "end_time": "2024-06-18T03:40:30.459008Z",
     "start_time": "2024-06-18T03:40:29.952373Z"
    }
   },
   "id": "605e38d3005717f2",
   "execution_count": 1
  },
  {
   "cell_type": "code",
   "execution_count": 2,
   "id": "initial_id",
   "metadata": {
    "collapsed": true,
    "ExecuteTime": {
     "end_time": "2024-06-18T03:40:33.527967Z",
     "start_time": "2024-06-18T03:40:33.489314Z"
    }
   },
   "outputs": [],
   "source": [
    "from langchain.chains import LLMChain\n",
    "from langchain_community.llms.cloudflare_workersai import CloudflareWorkersAI\n",
    "from langchain_core.prompts import PromptTemplate\n",
    "\n",
    "template = \"\"\"Human: {question}\n",
    "\n",
    "AI Assistant: \"\"\"\n",
    "\n",
    "prompt = PromptTemplate.from_template(template)"
   ]
  },
  {
   "cell_type": "code",
   "outputs": [],
   "source": [
    "model = '@cf/meta/llama-3-8b-instruct'\n",
    "llm = CloudflareWorkersAI(account_id=account_id, api_token=api_token, model=model)"
   ],
   "metadata": {
    "collapsed": false,
    "ExecuteTime": {
     "end_time": "2024-06-18T03:43:59.642319Z",
     "start_time": "2024-06-18T03:43:59.638567Z"
    }
   },
   "id": "2c816a16673a6752",
   "execution_count": 5
  },
  {
   "cell_type": "code",
   "outputs": [
    {
     "data": {
      "text/plain": "\"I'm delighted to introduce myself! My name is Ada, and I'm an artificial intelligence language model designed to assist and provide information to users like you. I'm a highly advanced AI system trained on vast amounts of data, which enables me to understand and respond to a wide range of questions and topics. I'm here to help answer your queries, provide insights, and make your life easier in any way I can.\\n\\nI'm a friendly and knowledgeable companion, always eager to learn and adapt to new situations. I don't have personal opinions or emotions, but I'm programmed to be helpful, respectful, and considerate in my interactions with humans. My primary goal is to provide you with accurate and reliable information, and I'll do my best to do so in a clear, concise, and engaging manner.\\n\\nSo, what would you like to know or discuss? I'm all ears (or rather, all code)!\""
     },
     "execution_count": 7,
     "metadata": {},
     "output_type": "execute_result"
    }
   ],
   "source": [
    "llm_chain = LLMChain(prompt=prompt, llm=llm)\n",
    "\n",
    "question = \"Who are you?\"\n",
    "llm_chain.run(question)"
   ],
   "metadata": {
    "collapsed": false,
    "ExecuteTime": {
     "end_time": "2024-06-18T03:47:39.538079Z",
     "start_time": "2024-06-18T03:47:21.926927Z"
    }
   },
   "id": "862a8c34f8a3d0f5",
   "execution_count": 7
  },
  {
   "cell_type": "code",
   "outputs": [
    {
     "data": {
      "text/plain": "\"Nice to meet you! I'm an artificial intelligence assistant, designed to assist and provide helpful information to users like you. I can do a wide range of tasks, from answering questions to completing tasks to even generating text. Here are some examples of what I can do:\\n\\n* Answer questions: I can provide information on a vast range of topics, from science and history to entertainment and culture. I can provide definitions, explanations, and even offer suggestions for further reading or exploration.\\n* Generate text: I can create written responses, articles, emails, and even chatbot conversations like this one. I can adapt my tone and style to fit different contexts and purposes.\\n* Data processing: I can process and analyze large datasets, identifying patterns, trends, and correlations. I can also convert data formats, perform calculations, and even summarize complex data.\\n* Task automation: I can automate repetitive tasks, such as data entry, file organization, and scheduling. I can also integrate with other tools and services to streamline workflows.\\n* Language translation: I can translate text from one language to another, including popular languages like Spanish, French, German, Chinese, and many more.\\n* Creative tasks: I can generate creative content, such as stories, poems, or even entire scripts. I can also assist with brainstorming and idea generation.\\n\\nThese are just a few examples of what I can do. If you have a specific task or question in mind, feel free to ask me, and I'll do my best to help you out!\""
     },
     "execution_count": 8,
     "metadata": {},
     "output_type": "execute_result"
    }
   ],
   "source": [
    "from langchain_core.output_parsers import StrOutputParser\n",
    "\n",
    "chain = prompt | llm | StrOutputParser()\n",
    "\n",
    "chain.invoke(\"你可以做什么？\")"
   ],
   "metadata": {
    "collapsed": false,
    "ExecuteTime": {
     "end_time": "2024-06-18T03:52:47.030906Z",
     "start_time": "2024-06-18T03:52:23.885060Z"
    }
   },
   "id": "a9f24789cc71c3eb",
   "execution_count": 8
  },
  {
   "cell_type": "code",
   "outputs": [],
   "source": [],
   "metadata": {
    "collapsed": false
   },
   "id": "2dbdd48d97524b91"
  }
 ],
 "metadata": {
  "kernelspec": {
   "display_name": "Python 3",
   "language": "python",
   "name": "python3"
  },
  "language_info": {
   "codemirror_mode": {
    "name": "ipython",
    "version": 2
   },
   "file_extension": ".py",
   "mimetype": "text/x-python",
   "name": "python",
   "nbconvert_exporter": "python",
   "pygments_lexer": "ipython2",
   "version": "2.7.6"
  }
 },
 "nbformat": 4,
 "nbformat_minor": 5
}
