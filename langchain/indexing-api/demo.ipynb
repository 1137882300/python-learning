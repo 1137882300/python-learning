{
 "cells": [
  {
   "cell_type": "code",
   "execution_count": null,
   "id": "initial_id",
   "metadata": {
    "collapsed": true
   },
   "outputs": [],
   "source": [
    "from langchain.indexes import SQLRecordManager, index\n",
    "from langchain_core.documents import Document\n",
    "from langchain_elasticsearch import ElasticsearchStore\n",
    "from langchain_chroma import Chroma\n",
    "from langchain_community.embeddings.cloudflare_workersai import CloudflareWorkersAIEmbeddings\n",
    "from dotenv import load_dotenv\n",
    "import os\n",
    "from langchain_text_splitters import CharacterTextSplitter"
   ]
  },
  {
   "cell_type": "code",
   "outputs": [],
   "source": [
    "collection_name = \"test_index\"\n",
    "\n",
    "load_dotenv()\n",
    "\n",
    "cf_embedding = CloudflareWorkersAIEmbeddings(\n",
    "    account_id=os.getenv('CF_ACCOUNT_ID'),\n",
    "    api_token=os.getenv('CF_API_TOKEN'),\n",
    "    model_name=\"@cf/baai/bge-small-en-v1.5\",\n",
    ")\n",
    "vectorstore = ElasticsearchStore(\n",
    "    es_url=\"http://localhost:9200\", index_name=\"test_index\", embedding=cf_embedding\n",
    ")"
   ],
   "metadata": {
    "collapsed": false
   },
   "id": "c803edba258d5f05"
  },
  {
   "cell_type": "code",
   "outputs": [],
   "source": [
    "namespace = f\"elasticsearch/{collection_name}\"\n",
    "record_manager = SQLRecordManager(\n",
    "    namespace, db_url=\"sqlite:///record_manager_cache.sql\"\n",
    ")"
   ],
   "metadata": {
    "collapsed": false
   },
   "id": "77048c9976cb47ae"
  },
  {
   "cell_type": "code",
   "outputs": [],
   "source": [
    "# 在使用记录管理器之前创建架构。\n",
    "record_manager.create_schema()"
   ],
   "metadata": {
    "collapsed": false
   },
   "id": "63ef6ef809bf115a"
  },
  {
   "cell_type": "code",
   "outputs": [],
   "source": [
    "doc1 = Document(page_content=\"kitty\", metadata={\"source\": \"kitty.txt\"})\n",
    "doc2 = Document(page_content=\"doggy\", metadata={\"source\": \"doggy.txt\"})"
   ],
   "metadata": {
    "collapsed": false
   },
   "id": "ce7864b8bf9e3efb"
  },
  {
   "cell_type": "code",
   "outputs": [],
   "source": [
    "# 索引到空向量存储中：\n",
    "def _clear():\n",
    "    \"\"\"Hacky helper method to clear content. See the `full` mode section to to understand why it works.\"\"\"\n",
    "    index([], record_manager, vectorstore, cleanup=\"full\", source_id_key=\"source\")"
   ],
   "metadata": {
    "collapsed": false
   },
   "id": "11e3a9d122de0600"
  },
  {
   "cell_type": "code",
   "outputs": [],
   "source": [
    "index(\n",
    "    [doc1, doc1, doc1, doc1, doc1],\n",
    "    record_manager,\n",
    "    vectorstore,\n",
    "    cleanup=None,\n",
    "    source_id_key=\"source\",\n",
    ")"
   ],
   "metadata": {
    "collapsed": false
   },
   "id": "a688e3b59f491f53"
  },
  {
   "cell_type": "code",
   "outputs": [],
   "source": [
    "_clear()"
   ],
   "metadata": {
    "collapsed": false
   },
   "id": "e36bf67a22d2321d"
  },
  {
   "cell_type": "code",
   "outputs": [],
   "source": [
    "index([doc1, doc2], record_manager, vectorstore, cleanup=None, source_id_key=\"source\")"
   ],
   "metadata": {
    "collapsed": false
   },
   "id": "ab9b3197f51a4964"
  },
  {
   "cell_type": "code",
   "outputs": [],
   "source": [
    "# 第二次将跳过所有内容：\n",
    "index([doc1, doc2], record_manager, vectorstore, cleanup=None, source_id_key=\"source\")"
   ],
   "metadata": {
    "collapsed": false
   },
   "id": "7d0a8ea3b613024c"
  },
  {
   "cell_type": "code",
   "outputs": [],
   "source": [
    "# incremental\"删除"
   ],
   "metadata": {
    "collapsed": false
   },
   "id": "222b75bd9070cc2e"
  },
  {
   "cell_type": "code",
   "outputs": [],
   "source": [
    "_clear()"
   ],
   "metadata": {
    "collapsed": false
   },
   "id": "e68180ef25b6c89d"
  },
  {
   "cell_type": "code",
   "outputs": [],
   "source": [
    "index(\n",
    "    [doc1, doc2],\n",
    "    record_manager,\n",
    "    vectorstore,\n",
    "    cleanup=\"incremental\",\n",
    "    source_id_key=\"source\",\n",
    ")"
   ],
   "metadata": {
    "collapsed": false
   },
   "id": "dd0d4f2876e954ed"
  },
  {
   "cell_type": "code",
   "outputs": [],
   "source": [
    "index([], record_manager, vectorstore, cleanup=\"incremental\", source_id_key=\"source\")"
   ],
   "metadata": {
    "collapsed": false
   },
   "id": "b2f4974602a488cb"
  },
  {
   "cell_type": "code",
   "outputs": [],
   "source": [
    "# 如果我们改变一个文档，新版本将被写入，所有共享相同源的旧版本将被删除。\n",
    "changed_doc_2 = Document(page_content=\"puppy\", metadata={\"source\": \"doggy.txt\"})"
   ],
   "metadata": {
    "collapsed": false
   },
   "id": "df98332e5342e3b6"
  },
  {
   "cell_type": "code",
   "outputs": [],
   "source": [
    "index(\n",
    "    [changed_doc_2],\n",
    "    record_manager,\n",
    "    vectorstore,\n",
    "    cleanup=\"incremental\",\n",
    "    source_id_key=\"source\",\n",
    ")"
   ],
   "metadata": {
    "collapsed": false
   },
   "id": "ce40e6b442f5b9ee"
  },
  {
   "cell_type": "code",
   "outputs": [],
   "source": [
    "# \"full\"删除\n",
    "# 在full模式下，用户应该传递应索引到索引功能中的full内容。\n",
    "# 任何未传递到索引功能且存在于向量存储中的文档都将被删除！\n",
    "# 此行为对于处理源文档的删除很有用。\n",
    "\n",
    "_clear()\n",
    "\n",
    "all_docs = [doc1, doc2]\n",
    "\n",
    "index(all_docs, record_manager, vectorstore, cleanup=\"full\", source_id_key=\"source\")"
   ],
   "metadata": {
    "collapsed": false
   },
   "id": "11e6965e024d331d"
  },
  {
   "cell_type": "code",
   "outputs": [],
   "source": [
    "del all_docs[0]"
   ],
   "metadata": {
    "collapsed": false
   },
   "id": "a947a842b4a947aa"
  },
  {
   "cell_type": "code",
   "outputs": [],
   "source": [
    "# Source"
   ],
   "metadata": {
    "collapsed": false
   },
   "id": "e62a0282f40ab72d"
  },
  {
   "cell_type": "code",
   "outputs": [],
   "source": [
    "doc1 = Document(\n",
    "    page_content=\"kitty kitty kitty kitty kitty\", metadata={\"source\": \"kitty.txt\"}\n",
    ")\n",
    "doc2 = Document(page_content=\"doggy doggy the doggy\", metadata={\"source\": \"doggy.txt\"})"
   ],
   "metadata": {
    "collapsed": false
   },
   "id": "55c3d2fbf67a795b"
  },
  {
   "cell_type": "code",
   "outputs": [],
   "source": [
    "new_docs = CharacterTextSplitter(\n",
    "    separator=\"t\", keep_separator=True, chunk_size=12, chunk_overlap=2\n",
    ").split_documents([doc1, doc2])\n",
    "new_docs"
   ],
   "metadata": {
    "collapsed": false
   },
   "id": "14f5b47e87da8edb"
  },
  {
   "cell_type": "code",
   "outputs": [],
   "source": [
    "vectorstore.similarity_search(\"dog\", k=30)"
   ],
   "metadata": {
    "collapsed": false
   },
   "id": "3a19b877251abca0"
  }
 ],
 "metadata": {
  "kernelspec": {
   "display_name": "Python 3",
   "language": "python",
   "name": "python3"
  },
  "language_info": {
   "codemirror_mode": {
    "name": "ipython",
    "version": 2
   },
   "file_extension": ".py",
   "mimetype": "text/x-python",
   "name": "python",
   "nbconvert_exporter": "python",
   "pygments_lexer": "ipython2",
   "version": "2.7.6"
  }
 },
 "nbformat": 4,
 "nbformat_minor": 5
}
