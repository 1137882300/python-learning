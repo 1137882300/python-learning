{
 "cells": [
  {
   "cell_type": "markdown",
   "source": [
    "离线训练（定期执行）："
   ],
   "metadata": {
    "collapsed": false
   },
   "id": "d033223313beea59"
  },
  {
   "cell_type": "code",
   "execution_count": 4,
   "id": "ea7c03ff7fbaca23",
   "metadata": {
    "collapsed": false,
    "ExecuteTime": {
     "end_time": "2024-08-07T02:32:07.207749Z",
     "start_time": "2024-08-07T02:32:06.647559Z"
    }
   },
   "outputs": [],
   "source": [
    "import numpy as np\n",
    "import pandas as pd\n",
    "import redis\n",
    "import json\n",
    "from surprise import SVD, Dataset, Reader\n",
    "from surprise.model_selection import train_test_split\n",
    "from surprise import Dataset, Reader, KNNBasic, SVD"
   ]
  },
  {
   "cell_type": "code",
   "outputs": [],
   "source": [
    "# 假设我们有一个包含 'user_id', 'item_id', 'rating' 的 DataFrame: ratings_df\n",
    "\n",
    "def train_svd_model(ratings_df, n_factors=50):\n",
    "    reader = Reader(rating_scale=(1, 5))\n",
    "    data = Dataset.load_from_df(ratings_df[['user_id', 'item_id', 'rating']], reader)\n",
    "\n",
    "    # 使用整个数据集进行训练\n",
    "    trainset = data.build_full_trainset()\n",
    "\n",
    "    # 训练SVD模型\n",
    "    algo = SVD(n_factors=n_factors)\n",
    "    algo.fit(trainset)\n",
    "\n",
    "    return algo"
   ],
   "metadata": {
    "collapsed": false,
    "ExecuteTime": {
     "end_time": "2024-08-07T02:34:42.806777Z",
     "start_time": "2024-08-07T02:34:42.803349Z"
    }
   },
   "id": "f3c8229c56b730ec",
   "execution_count": 7
  },
  {
   "cell_type": "code",
   "outputs": [
    {
     "name": "stdout",
     "output_type": "stream",
     "text": [
      "    user_id  item_id  rating\n",
      "0  10674015    15509    1.55\n",
      "1  10674015    15505    1.55\n",
      "2  10674015    26058    1.55\n",
      "3  11365761    17107    2.38\n",
      "4  11365761    32456    2.38\n"
     ]
    }
   ],
   "source": [
    "# 从文件加载数据\n",
    "# rating_file = os.path.join('file', 'output.dat')\n",
    "rating_file = '../file/output2.dat'\n",
    "reader = Reader(line_format='user item rating', sep='::')\n",
    "data = Dataset.load_from_file(rating_file, reader=reader)\n",
    "# 将Surprise数据集转换为pandas DataFrame\n",
    "df = pd.DataFrame(data.raw_ratings, columns=['user_id', 'item_id', 'rating', 'timestamp'])\n",
    "\n",
    "# 如果不需要timestamp，可以删除它\n",
    "df = df.drop('timestamp', axis=1)\n",
    "\n",
    "# 确保user_id和item_id是整数类型，rating是浮点类型\n",
    "df['user_id'] = df['user_id'].astype(int)\n",
    "df['item_id'] = df['item_id'].astype(int)\n",
    "df['rating'] = df['rating'].astype(float)\n",
    "# 现在df就是我们需要的ratings_df\n",
    "ratings_df = df\n",
    "\n",
    "print(ratings_df.head())"
   ],
   "metadata": {
    "collapsed": false,
    "ExecuteTime": {
     "end_time": "2024-08-07T02:34:08.622267Z",
     "start_time": "2024-08-07T02:34:08.567130Z"
    }
   },
   "id": "519f8fc06f84a05a",
   "execution_count": 6
  },
  {
   "cell_type": "code",
   "outputs": [],
   "source": [
    "# 训练模型\n",
    "svd_model = train_svd_model(ratings_df)\n",
    "\n",
    "\n",
    "# 为所有用户生成推荐\n",
    "def generate_recommendations(svd_model, ratings_df, n_items=100):\n",
    "    unique_users = ratings_df['user_id'].unique()\n",
    "    unique_items = ratings_df['item_id'].unique()\n",
    "\n",
    "    recommendations = {}\n",
    "    for user in unique_users:\n",
    "        user_predictions = [\n",
    "            (item, svd_model.predict(user, item).est)\n",
    "            for item in unique_items\n",
    "        ]\n",
    "        user_predictions.sort(key=lambda x: x[1], reverse=True)\n",
    "        recommendations[user] = user_predictions[:n_items]\n",
    "\n",
    "    return recommendations\n",
    "\n",
    "\n",
    "# 生成推荐\n",
    "all_recommendations = generate_recommendations(svd_model, ratings_df)\n",
    "\n",
    "# 将结果存储到Redis\n",
    "r = redis.Redis(host='192.168.22.238', port=6379, db=0)\n",
    "\n",
    "for user, recs in all_recommendations.items():\n",
    "    r.set(f\"user:{user}:recommendations\", json.dumps(recs))\n",
    "\n",
    "print(\"SVD model trained and recommendations stored.\")"
   ],
   "metadata": {
    "collapsed": true
   },
   "id": "initial_id",
   "execution_count": null
  },
  {
   "cell_type": "code",
   "outputs": [
    {
     "ename": "DataError",
     "evalue": "Invalid input of type: 'list'. Convert to a bytes, string, int or float first.",
     "output_type": "error",
     "traceback": [
      "\u001B[0;31m---------------------------------------------------------------------------\u001B[0m",
      "\u001B[0;31mDataError\u001B[0m                                 Traceback (most recent call last)",
      "Cell \u001B[0;32mIn[9], line 2\u001B[0m\n\u001B[1;32m      1\u001B[0m \u001B[38;5;28;01mfor\u001B[39;00m user, recs \u001B[38;5;129;01min\u001B[39;00m all_recommendations\u001B[38;5;241m.\u001B[39mitems():\n\u001B[0;32m----> 2\u001B[0m     \u001B[43mr\u001B[49m\u001B[38;5;241;43m.\u001B[39;49m\u001B[43mset\u001B[49m\u001B[43m(\u001B[49m\u001B[38;5;124;43mf\u001B[39;49m\u001B[38;5;124;43m\"\u001B[39;49m\u001B[38;5;124;43muser:\u001B[39;49m\u001B[38;5;132;43;01m{\u001B[39;49;00m\u001B[43muser\u001B[49m\u001B[38;5;132;43;01m}\u001B[39;49;00m\u001B[38;5;124;43m:recommendations\u001B[39;49m\u001B[38;5;124;43m\"\u001B[39;49m\u001B[43m,\u001B[49m\u001B[43m \u001B[49m\u001B[43mrecs\u001B[49m\u001B[43m)\u001B[49m\n",
      "File \u001B[0;32m~/venv/lib/python3.10/site-packages/redis/commands/core.py:2342\u001B[0m, in \u001B[0;36mBasicKeyCommands.set\u001B[0;34m(self, name, value, ex, px, nx, xx, keepttl, get, exat, pxat)\u001B[0m\n\u001B[1;32m   2339\u001B[0m     pieces\u001B[38;5;241m.\u001B[39mappend(\u001B[38;5;124m\"\u001B[39m\u001B[38;5;124mGET\u001B[39m\u001B[38;5;124m\"\u001B[39m)\n\u001B[1;32m   2340\u001B[0m     options[\u001B[38;5;124m\"\u001B[39m\u001B[38;5;124mget\u001B[39m\u001B[38;5;124m\"\u001B[39m] \u001B[38;5;241m=\u001B[39m \u001B[38;5;28;01mTrue\u001B[39;00m\n\u001B[0;32m-> 2342\u001B[0m \u001B[38;5;28;01mreturn\u001B[39;00m \u001B[38;5;28;43mself\u001B[39;49m\u001B[38;5;241;43m.\u001B[39;49m\u001B[43mexecute_command\u001B[49m\u001B[43m(\u001B[49m\u001B[38;5;124;43m\"\u001B[39;49m\u001B[38;5;124;43mSET\u001B[39;49m\u001B[38;5;124;43m\"\u001B[39;49m\u001B[43m,\u001B[49m\u001B[43m \u001B[49m\u001B[38;5;241;43m*\u001B[39;49m\u001B[43mpieces\u001B[49m\u001B[43m,\u001B[49m\u001B[43m \u001B[49m\u001B[38;5;241;43m*\u001B[39;49m\u001B[38;5;241;43m*\u001B[39;49m\u001B[43moptions\u001B[49m\u001B[43m)\u001B[49m\n",
      "File \u001B[0;32m~/venv/lib/python3.10/site-packages/redis/client.py:545\u001B[0m, in \u001B[0;36mRedis.execute_command\u001B[0;34m(self, *args, **options)\u001B[0m\n\u001B[1;32m    542\u001B[0m conn \u001B[38;5;241m=\u001B[39m \u001B[38;5;28mself\u001B[39m\u001B[38;5;241m.\u001B[39mconnection \u001B[38;5;129;01mor\u001B[39;00m pool\u001B[38;5;241m.\u001B[39mget_connection(command_name, \u001B[38;5;241m*\u001B[39m\u001B[38;5;241m*\u001B[39moptions)\n\u001B[1;32m    544\u001B[0m \u001B[38;5;28;01mtry\u001B[39;00m:\n\u001B[0;32m--> 545\u001B[0m     \u001B[38;5;28;01mreturn\u001B[39;00m \u001B[43mconn\u001B[49m\u001B[38;5;241;43m.\u001B[39;49m\u001B[43mretry\u001B[49m\u001B[38;5;241;43m.\u001B[39;49m\u001B[43mcall_with_retry\u001B[49m\u001B[43m(\u001B[49m\n\u001B[1;32m    546\u001B[0m \u001B[43m        \u001B[49m\u001B[38;5;28;43;01mlambda\u001B[39;49;00m\u001B[43m:\u001B[49m\u001B[43m \u001B[49m\u001B[38;5;28;43mself\u001B[39;49m\u001B[38;5;241;43m.\u001B[39;49m\u001B[43m_send_command_parse_response\u001B[49m\u001B[43m(\u001B[49m\n\u001B[1;32m    547\u001B[0m \u001B[43m            \u001B[49m\u001B[43mconn\u001B[49m\u001B[43m,\u001B[49m\u001B[43m \u001B[49m\u001B[43mcommand_name\u001B[49m\u001B[43m,\u001B[49m\u001B[43m \u001B[49m\u001B[38;5;241;43m*\u001B[39;49m\u001B[43margs\u001B[49m\u001B[43m,\u001B[49m\u001B[43m \u001B[49m\u001B[38;5;241;43m*\u001B[39;49m\u001B[38;5;241;43m*\u001B[39;49m\u001B[43moptions\u001B[49m\n\u001B[1;32m    548\u001B[0m \u001B[43m        \u001B[49m\u001B[43m)\u001B[49m\u001B[43m,\u001B[49m\n\u001B[1;32m    549\u001B[0m \u001B[43m        \u001B[49m\u001B[38;5;28;43;01mlambda\u001B[39;49;00m\u001B[43m \u001B[49m\u001B[43merror\u001B[49m\u001B[43m:\u001B[49m\u001B[43m \u001B[49m\u001B[38;5;28;43mself\u001B[39;49m\u001B[38;5;241;43m.\u001B[39;49m\u001B[43m_disconnect_raise\u001B[49m\u001B[43m(\u001B[49m\u001B[43mconn\u001B[49m\u001B[43m,\u001B[49m\u001B[43m \u001B[49m\u001B[43merror\u001B[49m\u001B[43m)\u001B[49m\u001B[43m,\u001B[49m\n\u001B[1;32m    550\u001B[0m \u001B[43m    \u001B[49m\u001B[43m)\u001B[49m\n\u001B[1;32m    551\u001B[0m \u001B[38;5;28;01mfinally\u001B[39;00m:\n\u001B[1;32m    552\u001B[0m     \u001B[38;5;28;01mif\u001B[39;00m \u001B[38;5;129;01mnot\u001B[39;00m \u001B[38;5;28mself\u001B[39m\u001B[38;5;241m.\u001B[39mconnection:\n",
      "File \u001B[0;32m~/venv/lib/python3.10/site-packages/redis/retry.py:46\u001B[0m, in \u001B[0;36mRetry.call_with_retry\u001B[0;34m(self, do, fail)\u001B[0m\n\u001B[1;32m     44\u001B[0m \u001B[38;5;28;01mwhile\u001B[39;00m \u001B[38;5;28;01mTrue\u001B[39;00m:\n\u001B[1;32m     45\u001B[0m     \u001B[38;5;28;01mtry\u001B[39;00m:\n\u001B[0;32m---> 46\u001B[0m         \u001B[38;5;28;01mreturn\u001B[39;00m \u001B[43mdo\u001B[49m\u001B[43m(\u001B[49m\u001B[43m)\u001B[49m\n\u001B[1;32m     47\u001B[0m     \u001B[38;5;28;01mexcept\u001B[39;00m \u001B[38;5;28mself\u001B[39m\u001B[38;5;241m.\u001B[39m_supported_errors \u001B[38;5;28;01mas\u001B[39;00m error:\n\u001B[1;32m     48\u001B[0m         failures \u001B[38;5;241m+\u001B[39m\u001B[38;5;241m=\u001B[39m \u001B[38;5;241m1\u001B[39m\n",
      "File \u001B[0;32m~/venv/lib/python3.10/site-packages/redis/client.py:546\u001B[0m, in \u001B[0;36mRedis.execute_command.<locals>.<lambda>\u001B[0;34m()\u001B[0m\n\u001B[1;32m    542\u001B[0m conn \u001B[38;5;241m=\u001B[39m \u001B[38;5;28mself\u001B[39m\u001B[38;5;241m.\u001B[39mconnection \u001B[38;5;129;01mor\u001B[39;00m pool\u001B[38;5;241m.\u001B[39mget_connection(command_name, \u001B[38;5;241m*\u001B[39m\u001B[38;5;241m*\u001B[39moptions)\n\u001B[1;32m    544\u001B[0m \u001B[38;5;28;01mtry\u001B[39;00m:\n\u001B[1;32m    545\u001B[0m     \u001B[38;5;28;01mreturn\u001B[39;00m conn\u001B[38;5;241m.\u001B[39mretry\u001B[38;5;241m.\u001B[39mcall_with_retry(\n\u001B[0;32m--> 546\u001B[0m         \u001B[38;5;28;01mlambda\u001B[39;00m: \u001B[38;5;28;43mself\u001B[39;49m\u001B[38;5;241;43m.\u001B[39;49m\u001B[43m_send_command_parse_response\u001B[49m\u001B[43m(\u001B[49m\n\u001B[1;32m    547\u001B[0m \u001B[43m            \u001B[49m\u001B[43mconn\u001B[49m\u001B[43m,\u001B[49m\u001B[43m \u001B[49m\u001B[43mcommand_name\u001B[49m\u001B[43m,\u001B[49m\u001B[43m \u001B[49m\u001B[38;5;241;43m*\u001B[39;49m\u001B[43margs\u001B[49m\u001B[43m,\u001B[49m\u001B[43m \u001B[49m\u001B[38;5;241;43m*\u001B[39;49m\u001B[38;5;241;43m*\u001B[39;49m\u001B[43moptions\u001B[49m\n\u001B[1;32m    548\u001B[0m \u001B[43m        \u001B[49m\u001B[43m)\u001B[49m,\n\u001B[1;32m    549\u001B[0m         \u001B[38;5;28;01mlambda\u001B[39;00m error: \u001B[38;5;28mself\u001B[39m\u001B[38;5;241m.\u001B[39m_disconnect_raise(conn, error),\n\u001B[1;32m    550\u001B[0m     )\n\u001B[1;32m    551\u001B[0m \u001B[38;5;28;01mfinally\u001B[39;00m:\n\u001B[1;32m    552\u001B[0m     \u001B[38;5;28;01mif\u001B[39;00m \u001B[38;5;129;01mnot\u001B[39;00m \u001B[38;5;28mself\u001B[39m\u001B[38;5;241m.\u001B[39mconnection:\n",
      "File \u001B[0;32m~/venv/lib/python3.10/site-packages/redis/client.py:521\u001B[0m, in \u001B[0;36mRedis._send_command_parse_response\u001B[0;34m(self, conn, command_name, *args, **options)\u001B[0m\n\u001B[1;32m    517\u001B[0m \u001B[38;5;28;01mdef\u001B[39;00m \u001B[38;5;21m_send_command_parse_response\u001B[39m(\u001B[38;5;28mself\u001B[39m, conn, command_name, \u001B[38;5;241m*\u001B[39margs, \u001B[38;5;241m*\u001B[39m\u001B[38;5;241m*\u001B[39moptions):\n\u001B[1;32m    518\u001B[0m \u001B[38;5;250m    \u001B[39m\u001B[38;5;124;03m\"\"\"\u001B[39;00m\n\u001B[1;32m    519\u001B[0m \u001B[38;5;124;03m    Send a command and parse the response\u001B[39;00m\n\u001B[1;32m    520\u001B[0m \u001B[38;5;124;03m    \"\"\"\u001B[39;00m\n\u001B[0;32m--> 521\u001B[0m     \u001B[43mconn\u001B[49m\u001B[38;5;241;43m.\u001B[39;49m\u001B[43msend_command\u001B[49m\u001B[43m(\u001B[49m\u001B[38;5;241;43m*\u001B[39;49m\u001B[43margs\u001B[49m\u001B[43m)\u001B[49m\n\u001B[1;32m    522\u001B[0m     \u001B[38;5;28;01mreturn\u001B[39;00m \u001B[38;5;28mself\u001B[39m\u001B[38;5;241m.\u001B[39mparse_response(conn, command_name, \u001B[38;5;241m*\u001B[39m\u001B[38;5;241m*\u001B[39moptions)\n",
      "File \u001B[0;32m~/venv/lib/python3.10/site-packages/redis/connection.py:477\u001B[0m, in \u001B[0;36mAbstractConnection.send_command\u001B[0;34m(self, *args, **kwargs)\u001B[0m\n\u001B[1;32m    474\u001B[0m \u001B[38;5;28;01mdef\u001B[39;00m \u001B[38;5;21msend_command\u001B[39m(\u001B[38;5;28mself\u001B[39m, \u001B[38;5;241m*\u001B[39margs, \u001B[38;5;241m*\u001B[39m\u001B[38;5;241m*\u001B[39mkwargs):\n\u001B[1;32m    475\u001B[0m \u001B[38;5;250m    \u001B[39m\u001B[38;5;124;03m\"\"\"Pack and send a command to the Redis server\"\"\"\u001B[39;00m\n\u001B[1;32m    476\u001B[0m     \u001B[38;5;28mself\u001B[39m\u001B[38;5;241m.\u001B[39msend_packed_command(\n\u001B[0;32m--> 477\u001B[0m         \u001B[38;5;28;43mself\u001B[39;49m\u001B[38;5;241;43m.\u001B[39;49m\u001B[43m_command_packer\u001B[49m\u001B[38;5;241;43m.\u001B[39;49m\u001B[43mpack\u001B[49m\u001B[43m(\u001B[49m\u001B[38;5;241;43m*\u001B[39;49m\u001B[43margs\u001B[49m\u001B[43m)\u001B[49m,\n\u001B[1;32m    478\u001B[0m         check_health\u001B[38;5;241m=\u001B[39mkwargs\u001B[38;5;241m.\u001B[39mget(\u001B[38;5;124m\"\u001B[39m\u001B[38;5;124mcheck_health\u001B[39m\u001B[38;5;124m\"\u001B[39m, \u001B[38;5;28;01mTrue\u001B[39;00m),\n\u001B[1;32m    479\u001B[0m     )\n",
      "File \u001B[0;32m~/venv/lib/python3.10/site-packages/redis/connection.py:96\u001B[0m, in \u001B[0;36mPythonRespSerializer.pack\u001B[0;34m(self, *args)\u001B[0m\n\u001B[1;32m     93\u001B[0m buff \u001B[38;5;241m=\u001B[39m SYM_EMPTY\u001B[38;5;241m.\u001B[39mjoin((SYM_STAR, \u001B[38;5;28mstr\u001B[39m(\u001B[38;5;28mlen\u001B[39m(args))\u001B[38;5;241m.\u001B[39mencode(), SYM_CRLF))\n\u001B[1;32m     95\u001B[0m buffer_cutoff \u001B[38;5;241m=\u001B[39m \u001B[38;5;28mself\u001B[39m\u001B[38;5;241m.\u001B[39m_buffer_cutoff\n\u001B[0;32m---> 96\u001B[0m \u001B[38;5;28;01mfor\u001B[39;00m arg \u001B[38;5;129;01min\u001B[39;00m \u001B[38;5;28mmap\u001B[39m(\u001B[38;5;28mself\u001B[39m\u001B[38;5;241m.\u001B[39mencode, args):\n\u001B[1;32m     97\u001B[0m     \u001B[38;5;66;03m# to avoid large string mallocs, chunk the command into the\u001B[39;00m\n\u001B[1;32m     98\u001B[0m     \u001B[38;5;66;03m# output list if we're sending large values or memoryviews\u001B[39;00m\n\u001B[1;32m     99\u001B[0m     arg_length \u001B[38;5;241m=\u001B[39m \u001B[38;5;28mlen\u001B[39m(arg)\n\u001B[1;32m    100\u001B[0m     \u001B[38;5;28;01mif\u001B[39;00m (\n\u001B[1;32m    101\u001B[0m         \u001B[38;5;28mlen\u001B[39m(buff) \u001B[38;5;241m>\u001B[39m buffer_cutoff\n\u001B[1;32m    102\u001B[0m         \u001B[38;5;129;01mor\u001B[39;00m arg_length \u001B[38;5;241m>\u001B[39m buffer_cutoff\n\u001B[1;32m    103\u001B[0m         \u001B[38;5;129;01mor\u001B[39;00m \u001B[38;5;28misinstance\u001B[39m(arg, \u001B[38;5;28mmemoryview\u001B[39m)\n\u001B[1;32m    104\u001B[0m     ):\n",
      "File \u001B[0;32m~/venv/lib/python3.10/site-packages/redis/_parsers/encoders.py:29\u001B[0m, in \u001B[0;36mEncoder.encode\u001B[0;34m(self, value)\u001B[0m\n\u001B[1;32m     26\u001B[0m \u001B[38;5;28;01melif\u001B[39;00m \u001B[38;5;129;01mnot\u001B[39;00m \u001B[38;5;28misinstance\u001B[39m(value, \u001B[38;5;28mstr\u001B[39m):\n\u001B[1;32m     27\u001B[0m     \u001B[38;5;66;03m# a value we don't know how to deal with. throw an error\u001B[39;00m\n\u001B[1;32m     28\u001B[0m     typename \u001B[38;5;241m=\u001B[39m \u001B[38;5;28mtype\u001B[39m(value)\u001B[38;5;241m.\u001B[39m\u001B[38;5;18m__name__\u001B[39m\n\u001B[0;32m---> 29\u001B[0m     \u001B[38;5;28;01mraise\u001B[39;00m DataError(\n\u001B[1;32m     30\u001B[0m         \u001B[38;5;124mf\u001B[39m\u001B[38;5;124m\"\u001B[39m\u001B[38;5;124mInvalid input of type: \u001B[39m\u001B[38;5;124m'\u001B[39m\u001B[38;5;132;01m{\u001B[39;00mtypename\u001B[38;5;132;01m}\u001B[39;00m\u001B[38;5;124m'\u001B[39m\u001B[38;5;124m. \u001B[39m\u001B[38;5;124m\"\u001B[39m\n\u001B[1;32m     31\u001B[0m         \u001B[38;5;124mf\u001B[39m\u001B[38;5;124m\"\u001B[39m\u001B[38;5;124mConvert to a bytes, string, int or float first.\u001B[39m\u001B[38;5;124m\"\u001B[39m\n\u001B[1;32m     32\u001B[0m     )\n\u001B[1;32m     33\u001B[0m \u001B[38;5;28;01mif\u001B[39;00m \u001B[38;5;28misinstance\u001B[39m(value, \u001B[38;5;28mstr\u001B[39m):\n\u001B[1;32m     34\u001B[0m     value \u001B[38;5;241m=\u001B[39m value\u001B[38;5;241m.\u001B[39mencode(\u001B[38;5;28mself\u001B[39m\u001B[38;5;241m.\u001B[39mencoding, \u001B[38;5;28mself\u001B[39m\u001B[38;5;241m.\u001B[39mencoding_errors)\n",
      "\u001B[0;31mDataError\u001B[0m: Invalid input of type: 'list'. Convert to a bytes, string, int or float first."
     ]
    }
   ],
   "source": [
    "for user, recs in all_recommendations.items():\n",
    "    r.set(f\"user:{user}:recommendations\", recs)"
   ],
   "metadata": {
    "collapsed": false,
    "ExecuteTime": {
     "end_time": "2024-08-07T02:36:20.494170Z",
     "start_time": "2024-08-07T02:36:20.138515Z"
    }
   },
   "id": "c10cf04a302a25f4",
   "execution_count": 9
  },
  {
   "cell_type": "markdown",
   "source": [
    "在线推荐服务（使用 FastAPI）："
   ],
   "metadata": {
    "collapsed": false
   },
   "id": "c27583f3dbf61e40"
  },
  {
   "cell_type": "code",
   "outputs": [],
   "source": [
    "from fastapi import FastAPI, HTTPException\n",
    "import redis\n",
    "import json\n",
    "\n",
    "app = FastAPI()\n",
    "r = redis.Redis(host='localhost', port=6379, db=0)\n",
    "\n",
    "\n",
    "@app.get(\"/recommend/{user_id}\")\n",
    "async def get_recommendations(user_id: int):\n",
    "    # 从Redis获取推荐\n",
    "    recommendations = r.get(f\"user:{user_id}:recommendations\")\n",
    "\n",
    "    if recommendations:\n",
    "        recommendations = json.loads(recommendations)\n",
    "        # 只返回物品ID\n",
    "        item_ids = [item[0] for item in recommendations[:10]]\n",
    "        return {\"user_id\": user_id, \"recommendations\": item_ids}\n",
    "    else:\n",
    "        raise HTTPException(status_code=404, detail=\"No recommendations found for this user\")\n",
    "\n",
    "\n",
    "if __name__ == '__main__':\n",
    "    import uvicorn\n",
    "\n",
    "    uvicorn.run(app, host=\"0.0.0.0\", port=8000)"
   ],
   "metadata": {
    "collapsed": false
   },
   "id": "757650db1f79a6b0"
  },
  {
   "cell_type": "markdown",
   "source": [
    "定期更新脚本（保持不变）："
   ],
   "metadata": {
    "collapsed": false
   },
   "id": "475bba4cb2ec014"
  },
  {
   "cell_type": "code",
   "outputs": [],
   "source": [
    "import schedule\n",
    "import time\n",
    "\n",
    "\n",
    "def update_svd_model():\n",
    "    # 这里放置更新模型的代码\n",
    "    # 可以是上面的离线训练代码\n",
    "    print(\"Updating SVD model...\")\n",
    "    # train_svd_model(...)\n",
    "\n",
    "\n",
    "# 设置定期更新，例如每天凌晨2点\n",
    "schedule.every().day.at(\"02:00\").do(update_svd_model)\n",
    "\n",
    "while True:\n",
    "    schedule.run_pending()\n",
    "    time.sleep(1)"
   ],
   "metadata": {
    "collapsed": false
   },
   "id": "62770052cd43d499"
  },
  {
   "cell_type": "code",
   "outputs": [
    {
     "name": "stdout",
     "output_type": "stream",
     "text": [
      "Looking in indexes: https://pypi.tuna.tsinghua.edu.cn/simple\r\n",
      "Collecting schedule\r\n",
      "  Downloading https://pypi.tuna.tsinghua.edu.cn/packages/20/a7/84c96b61fd13205f2cafbe263cdb2745965974bdf3e0078f121dfeca5f02/schedule-1.2.2-py3-none-any.whl (12 kB)\r\n",
      "Installing collected packages: schedule\r\n",
      "Successfully installed schedule-1.2.2\r\n",
      "\r\n",
      "\u001B[1m[\u001B[0m\u001B[34;49mnotice\u001B[0m\u001B[1;39;49m]\u001B[0m\u001B[39;49m A new release of pip is available: \u001B[0m\u001B[31;49m24.0\u001B[0m\u001B[39;49m -> \u001B[0m\u001B[32;49m24.2\u001B[0m\r\n",
      "\u001B[1m[\u001B[0m\u001B[34;49mnotice\u001B[0m\u001B[1;39;49m]\u001B[0m\u001B[39;49m To update, run: \u001B[0m\u001B[32;49mpip install --upgrade pip\u001B[0m\r\n"
     ]
    }
   ],
   "source": [
    "# ! pip install schedule"
   ],
   "metadata": {
    "collapsed": false,
    "ExecuteTime": {
     "end_time": "2024-08-07T02:27:47.701231Z",
     "start_time": "2024-08-07T02:27:43.269790Z"
    }
   },
   "id": "58f56b1dc2785208",
   "execution_count": 1
  },
  {
   "cell_type": "code",
   "outputs": [],
   "source": [],
   "metadata": {
    "collapsed": false
   },
   "id": "813c085a358767d0"
  }
 ],
 "metadata": {
  "kernelspec": {
   "display_name": "Python 3",
   "language": "python",
   "name": "python3"
  },
  "language_info": {
   "codemirror_mode": {
    "name": "ipython",
    "version": 2
   },
   "file_extension": ".py",
   "mimetype": "text/x-python",
   "name": "python",
   "nbconvert_exporter": "python",
   "pygments_lexer": "ipython2",
   "version": "2.7.6"
  }
 },
 "nbformat": 4,
 "nbformat_minor": 5
}
