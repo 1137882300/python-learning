{
 "cells": [
  {
   "cell_type": "code",
   "execution_count": 3,
   "id": "initial_id",
   "metadata": {
    "collapsed": true,
    "ExecuteTime": {
     "end_time": "2024-07-29T09:21:49.965118Z",
     "start_time": "2024-07-29T09:21:49.948204Z"
    }
   },
   "outputs": [
    {
     "name": "stdout",
     "output_type": "stream",
     "text": [
      "Recommendations for user 0: [0]\n"
     ]
    }
   ],
   "source": [
    "# NumPy（Numerical Python）是一个开源的 Python 科学计算库。它提供多维数组对象、派生对象（如掩码数组和矩阵）以及用于快速操作数组的各种例程，\n",
    "# 包括数学、逻辑、形状操作、排序、选择、I/O、离散傅立叶变换、基本线性代数、基本统计运算、随机模拟等等。\n",
    "import numpy as np\n",
    "\n",
    "# 假设有一个用户-项目评分矩阵\n",
    "ratings = np.array([\n",
    "    [5, 3, 0, 1, 0],\n",
    "    [4, 0, 0, 1, 0],\n",
    "    [1, 1, 0, 5, 0],\n",
    "    [1, 0, 5, 4, 0],\n",
    "    [0, 1, 5, 4, 0]\n",
    "])\n",
    "\n",
    "# 计算每个项目的模长\n",
    "norm = np.linalg.norm(ratings, axis=1)\n",
    "\n",
    "# 计算项目之间的点积\n",
    "dot_product = np.dot(ratings, ratings.T)\n",
    "\n",
    "# 计算余弦相似度\n",
    "cosine_similarity = dot_product / (norm[:, np.newaxis] * norm)\n",
    "\n",
    "# 找到用户喜欢过的所有项目的索引\n",
    "user_likes = np.where(ratings[0] > 0)[0]\n",
    "\n",
    "# 根据项目相似度推荐\n",
    "def recommend(user_index):\n",
    "    # 获取用户喜欢的项目的相似度\n",
    "    liked_items_similarity = cosine_similarity[user_index]\n",
    "    # 排除用户已经喜欢过的项目\n",
    "    liked_items_similarity[user_likes] = 0\n",
    "    # 计算推荐得分\n",
    "    recommended_scores = liked_items_similarity.max(axis=0)\n",
    "    # 获取推荐项目的索引\n",
    "    recommended_items = np.argsort(-recommended_scores)\n",
    "    return recommended_items\n",
    "\n",
    "# 获取用户 0 的推荐\n",
    "print(\"Recommendations for user 0:\", recommend(0))"
   ]
  },
  {
   "cell_type": "code",
   "outputs": [
    {
     "name": "stdout",
     "output_type": "stream",
     "text": [
      "Jaccard Similarity: 0.2\n",
      "Cosine Similarity: 0.33333333333333337\n"
     ]
    }
   ],
   "source": [
    "import numpy as np\n",
    "\n",
    "# 假设有用户u和v的喜好列表\n",
    "likes_u = np.array([1, 1, 0, 0, 1])  # 用户u喜欢第1和第5项\n",
    "likes_v = np.array([0, 1, 1, 1, 0])  # 用户v喜欢第2, 3和4项\n",
    "\n",
    "# Jaccard 相似度\n",
    "jaccard_sim = (np.sum(likes_u & likes_v)) / (np.sum(likes_u | likes_v))\n",
    "\n",
    "# 余弦相似度\n",
    "cosine_sim = (np.sum(likes_u & likes_v)) / (np.sqrt(np.sum(likes_u)) * np.sqrt(np.sum(likes_v)))\n",
    "\n",
    "print(\"Jaccard Similarity:\", jaccard_sim)\n",
    "print(\"Cosine Similarity:\", cosine_sim)"
   ],
   "metadata": {
    "collapsed": false,
    "ExecuteTime": {
     "end_time": "2024-07-29T09:35:24.187338Z",
     "start_time": "2024-07-29T09:35:24.180734Z"
    }
   },
   "id": "a687d10381b6baea",
   "execution_count": 4
  },
  {
   "cell_type": "code",
   "outputs": [
    {
     "name": "stdout",
     "output_type": "stream",
     "text": [
      "The magnitude of the vector is: 5.0\n"
     ]
    }
   ],
   "source": [
    "import numpy as np\n",
    "\n",
    "# 创建一个向量\n",
    "v = np.array([3, 4])\n",
    "\n",
    "# 计算模长\n",
    "magnitude = np.linalg.norm(v)\n",
    "print(\"The magnitude of the vector is:\", magnitude)"
   ],
   "metadata": {
    "collapsed": false,
    "ExecuteTime": {
     "end_time": "2024-07-29T09:37:01.613704Z",
     "start_time": "2024-07-29T09:37:01.605971Z"
    }
   },
   "id": "4566414a22698f8b",
   "execution_count": 5
  },
  {
   "cell_type": "code",
   "outputs": [
    {
     "name": "stdout",
     "output_type": "stream",
     "text": [
      "Sparse Matrix (CSR format):\n",
      "  (0, 0)\t1\n",
      "  (1, 1)\t1\n",
      "  (2, 3)\t1\n",
      "  (2, 4)\t1\n",
      "  (3, 4)\t1\n",
      "Dense Matrix:\n",
      "[[1 0 0 0 0]\n",
      " [0 1 0 0 0]\n",
      " [0 0 0 1 1]\n",
      " [0 0 0 0 1]]\n",
      "Sparse Matrix Addition:\n",
      "[[2 0 0 0 0]\n",
      " [0 2 0 0 0]\n",
      " [0 0 0 2 2]\n",
      " [0 0 0 0 2]]\n",
      "Sparse Matrix Dot Product with Dense Vector:\n",
      "[1 2 9 5]\n"
     ]
    }
   ],
   "source": [
    "from scipy.sparse import csr_matrix\n",
    "from scipy.sparse import lil_matrix\n",
    "\n",
    "# 创建一个稀疏矩阵\n",
    "rows = [0, 1, 2, 2, 3]\n",
    "cols = [0, 1, 3, 4, 4]\n",
    "data = [1, 1, 1, 1, 1]\n",
    "sparse_matrix = csr_matrix((data, (rows, cols)), shape=(4, 5))\n",
    "\n",
    "# 打印稀疏矩阵\n",
    "print(\"Sparse Matrix (CSR format):\")\n",
    "print(sparse_matrix)\n",
    "\n",
    "# 转换为密集矩阵\n",
    "dense_matrix = sparse_matrix.toarray()\n",
    "print(\"Dense Matrix:\")\n",
    "print(dense_matrix)\n",
    "\n",
    "# 稀疏矩阵加法\n",
    "sparse_add = sparse_matrix + sparse_matrix\n",
    "print(\"Sparse Matrix Addition:\")\n",
    "print(sparse_add.toarray())\n",
    "\n",
    "# 稀疏矩阵乘法\n",
    "dense_multiply = sparse_matrix.dot(np.array([1, 2, 3, 4, 5]))\n",
    "print(\"Sparse Matrix Dot Product with Dense Vector:\")\n",
    "print(dense_multiply)"
   ],
   "metadata": {
    "collapsed": false,
    "ExecuteTime": {
     "end_time": "2024-07-29T09:41:04.976388Z",
     "start_time": "2024-07-29T09:41:04.624788Z"
    }
   },
   "id": "316b4d943d01a653",
   "execution_count": 6
  },
  {
   "cell_type": "code",
   "outputs": [],
   "source": [],
   "metadata": {
    "collapsed": false
   },
   "id": "4235e0a2b14b3de8"
  }
 ],
 "metadata": {
  "kernelspec": {
   "display_name": "Python 3",
   "language": "python",
   "name": "python3"
  },
  "language_info": {
   "codemirror_mode": {
    "name": "ipython",
    "version": 2
   },
   "file_extension": ".py",
   "mimetype": "text/x-python",
   "name": "python",
   "nbconvert_exporter": "python",
   "pygments_lexer": "ipython2",
   "version": "2.7.6"
  }
 },
 "nbformat": 4,
 "nbformat_minor": 5
}
