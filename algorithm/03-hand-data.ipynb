{
 "cells": [
  {
   "cell_type": "code",
   "execution_count": 1,
   "id": "initial_id",
   "metadata": {
    "collapsed": true,
    "ExecuteTime": {
     "end_time": "2024-08-06T07:31:49.083384Z",
     "start_time": "2024-08-06T07:31:47.026265Z"
    }
   },
   "outputs": [
    {
     "name": "stdout",
     "output_type": "stream",
     "text": [
      "Data processing complete. Output saved to ../file/output.dat.\n"
     ]
    }
   ],
   "source": [
    "import pandas as pd\n",
    "\n",
    "# Read the Excel file\n",
    "file_path = '/Users/pangmengting/Documents/会员订单数据.xlsx'  # Change this to your actual file path\n",
    "df = pd.read_excel(file_path)\n",
    "\n",
    "# Process the data to get user_id, product_id, and count\n",
    "result_df = df.groupby(['user_id', 'product_id']).size().reset_index(name='count')\n",
    "\n",
    "# Save the result in the specified format\n",
    "output_file_path = '../file/output.dat'\n",
    "with open(output_file_path, 'w') as f:\n",
    "    for index, row in result_df.iterrows():\n",
    "        f.write(f\"{row['user_id']}::{row['product_id']}::{row['count']}\\n\")\n",
    "\n",
    "print(f\"Data processing complete. Output saved to {output_file_path}.\")"
   ]
  },
  {
   "cell_type": "markdown",
   "source": [
    "## 加权评分"
   ],
   "metadata": {
    "collapsed": false
   },
   "id": "771fbd3474bb7208"
  },
  {
   "cell_type": "code",
   "outputs": [],
   "source": [
    "from sklearn.preprocessing import MinMaxScaler\n",
    "import pandas as pd\n",
    "from collections import defaultdict\n",
    "\n",
    "# 读取 Excel 文件并处理数据\n",
    "file_path = '/Users/pangmengting/Documents/yxk-02.xlsx'  # 请将此路径替换为实际的文件路径\n",
    "df = pd.read_excel(file_path)\n",
    "\n",
    "# 统计每个用户购买每个主题、品类和标签的次数\n",
    "user_theme_count = df.groupby(['user_id', 'product_theme']).size().reset_index(name='theme_count')\n",
    "user_category_count = df.groupby(['user_id', 'product_category']).size().reset_index(name='category_count')\n",
    "# user_tag_count = df.groupby(['user_id', 'product_tags']).size().reset_index(name='tag_count')\n",
    "\n",
    "# 设置权重比例\n",
    "theme_weight = 0.5\n",
    "category_weight = 0.3\n",
    "tag_weight = 0.2\n",
    "\n",
    "# 创建字典存储用户对每个产品的评分\n",
    "user_product_ratings = defaultdict(lambda: defaultdict(int))\n",
    "\n",
    "# 加权计算用户对每个产品的评分\n",
    "for _, row in df.iterrows():\n",
    "    user_id = row['user_id']\n",
    "    product_id = row['product_id']\n",
    "    product_theme = row['product_theme']\n",
    "    product_category = row['product_category']\n",
    "    # product_tags = row['product_tags']\n",
    "\n",
    "    theme_count = \\\n",
    "        user_theme_count[\n",
    "            (user_theme_count['user_id'] == user_id) & (user_theme_count['product_theme'] == product_theme)][\n",
    "            'theme_count'].values\n",
    "    category_count = user_category_count[\n",
    "        (user_category_count['user_id'] == user_id) & (user_category_count['product_category'] == product_category)][\n",
    "        'category_count'].values\n",
    "    # tag_count = \\\n",
    "    #     user_tag_count[(user_tag_count['user_id'] == user_id) & (user_tag_count['product_tags'] == product_tags)][\n",
    "    #         'tag_count'].values\n",
    "\n",
    "    theme_count = theme_count[0] if len(theme_count) > 0 else 0\n",
    "    category_count = category_count[0] if len(category_count) > 0 else 0\n",
    "    # tag_count = tag_count[0] if len(tag_count) > 0 else 0\n",
    "\n",
    "    # 假设我们使用简单的加权和来计算评分\n",
    "    # weighted_score = theme_count * theme_weight + category_count * category_weight + tag_count * tag_weight\n",
    "    weighted_score = theme_count * theme_weight + category_count * category_weight\n",
    "    user_product_ratings[user_id][product_id] = weighted_score"
   ],
   "metadata": {
    "collapsed": false,
    "ExecuteTime": {
     "end_time": "2024-08-06T10:37:09.798788Z",
     "start_time": "2024-08-06T10:37:06.633966Z"
    }
   },
   "id": "eb4a3563bf067cc3",
   "execution_count": 9
  },
  {
   "cell_type": "code",
   "outputs": [],
   "source": [
    "# 转换为DataFrame格式\n",
    "ratings_list = []\n",
    "for user_id, products in user_product_ratings.items():\n",
    "    for product_id, rating in products.items():\n",
    "        ratings_list.append([user_id, product_id, rating])\n",
    "\n",
    "ratings_df = pd.DataFrame(ratings_list, columns=['user_id', 'product_id', 'rating'])"
   ],
   "metadata": {
    "collapsed": false,
    "ExecuteTime": {
     "end_time": "2024-08-06T10:37:36.799357Z",
     "start_time": "2024-08-06T10:37:36.796045Z"
    }
   },
   "id": "164fc7fd6200ac5f",
   "execution_count": 11
  },
  {
   "cell_type": "code",
   "outputs": [
    {
     "data": {
      "text/plain": "       user_id  product_id  rating\n0     10674015       15509     2.4\n1     10674015       15505     2.4\n2     10674015       26058     2.4\n3     11365761       17107     4.8\n4     11365761       32456     4.8\n...        ...         ...     ...\n9020   1122867       40402     1.6\n9021  11447338       36930     0.8\n9022  10952594       12988     0.8\n9023  11187387       21365     0.8\n9024  10786016       39255     0.8\n\n[9025 rows x 3 columns]",
      "text/html": "<div>\n<style scoped>\n    .dataframe tbody tr th:only-of-type {\n        vertical-align: middle;\n    }\n\n    .dataframe tbody tr th {\n        vertical-align: top;\n    }\n\n    .dataframe thead th {\n        text-align: right;\n    }\n</style>\n<table border=\"1\" class=\"dataframe\">\n  <thead>\n    <tr style=\"text-align: right;\">\n      <th></th>\n      <th>user_id</th>\n      <th>product_id</th>\n      <th>rating</th>\n    </tr>\n  </thead>\n  <tbody>\n    <tr>\n      <th>0</th>\n      <td>10674015</td>\n      <td>15509</td>\n      <td>2.4</td>\n    </tr>\n    <tr>\n      <th>1</th>\n      <td>10674015</td>\n      <td>15505</td>\n      <td>2.4</td>\n    </tr>\n    <tr>\n      <th>2</th>\n      <td>10674015</td>\n      <td>26058</td>\n      <td>2.4</td>\n    </tr>\n    <tr>\n      <th>3</th>\n      <td>11365761</td>\n      <td>17107</td>\n      <td>4.8</td>\n    </tr>\n    <tr>\n      <th>4</th>\n      <td>11365761</td>\n      <td>32456</td>\n      <td>4.8</td>\n    </tr>\n    <tr>\n      <th>...</th>\n      <td>...</td>\n      <td>...</td>\n      <td>...</td>\n    </tr>\n    <tr>\n      <th>9020</th>\n      <td>1122867</td>\n      <td>40402</td>\n      <td>1.6</td>\n    </tr>\n    <tr>\n      <th>9021</th>\n      <td>11447338</td>\n      <td>36930</td>\n      <td>0.8</td>\n    </tr>\n    <tr>\n      <th>9022</th>\n      <td>10952594</td>\n      <td>12988</td>\n      <td>0.8</td>\n    </tr>\n    <tr>\n      <th>9023</th>\n      <td>11187387</td>\n      <td>21365</td>\n      <td>0.8</td>\n    </tr>\n    <tr>\n      <th>9024</th>\n      <td>10786016</td>\n      <td>39255</td>\n      <td>0.8</td>\n    </tr>\n  </tbody>\n</table>\n<p>9025 rows × 3 columns</p>\n</div>"
     },
     "execution_count": 12,
     "metadata": {},
     "output_type": "execute_result"
    }
   ],
   "source": [
    "ratings_df"
   ],
   "metadata": {
    "collapsed": false,
    "ExecuteTime": {
     "end_time": "2024-08-06T10:37:41.560355Z",
     "start_time": "2024-08-06T10:37:41.537542Z"
    }
   },
   "id": "bb5b6aab2d1bbf83",
   "execution_count": 12
  },
  {
   "cell_type": "code",
   "outputs": [],
   "source": [
    "# 将评分归一化到1-10的范围内\n",
    "scaler = MinMaxScaler(feature_range=(1, 10))\n",
    "ratings_df['rating'] = scaler.fit_transform(ratings_df[['rating']])\n",
    "ratings_df['rating'] = ratings_df['rating'].round(2)\n",
    "\n",
    "# 确保 user_id 和 product_id 为整数类型\n",
    "ratings_df['user_id'] = ratings_df['user_id'].astype(int)\n",
    "ratings_df['product_id'] = ratings_df['product_id'].astype(int)"
   ],
   "metadata": {
    "collapsed": false,
    "ExecuteTime": {
     "end_time": "2024-08-06T10:46:06.068209Z",
     "start_time": "2024-08-06T10:46:06.064716Z"
    }
   },
   "id": "e27b72480e25919a",
   "execution_count": 21
  },
  {
   "cell_type": "code",
   "outputs": [
    {
     "data": {
      "text/plain": "       user_id  product_id  rating\n0     10674015       15509    1.55\n1     10674015       15505    1.55\n2     10674015       26058    1.55\n3     11365761       17107    2.38\n4     11365761       32456    2.38\n...        ...         ...     ...\n9020   1122867       40402    1.28\n9021  11447338       36930    1.00\n9022  10952594       12988    1.00\n9023  11187387       21365    1.00\n9024  10786016       39255    1.00\n\n[9025 rows x 3 columns]",
      "text/html": "<div>\n<style scoped>\n    .dataframe tbody tr th:only-of-type {\n        vertical-align: middle;\n    }\n\n    .dataframe tbody tr th {\n        vertical-align: top;\n    }\n\n    .dataframe thead th {\n        text-align: right;\n    }\n</style>\n<table border=\"1\" class=\"dataframe\">\n  <thead>\n    <tr style=\"text-align: right;\">\n      <th></th>\n      <th>user_id</th>\n      <th>product_id</th>\n      <th>rating</th>\n    </tr>\n  </thead>\n  <tbody>\n    <tr>\n      <th>0</th>\n      <td>10674015</td>\n      <td>15509</td>\n      <td>1.55</td>\n    </tr>\n    <tr>\n      <th>1</th>\n      <td>10674015</td>\n      <td>15505</td>\n      <td>1.55</td>\n    </tr>\n    <tr>\n      <th>2</th>\n      <td>10674015</td>\n      <td>26058</td>\n      <td>1.55</td>\n    </tr>\n    <tr>\n      <th>3</th>\n      <td>11365761</td>\n      <td>17107</td>\n      <td>2.38</td>\n    </tr>\n    <tr>\n      <th>4</th>\n      <td>11365761</td>\n      <td>32456</td>\n      <td>2.38</td>\n    </tr>\n    <tr>\n      <th>...</th>\n      <td>...</td>\n      <td>...</td>\n      <td>...</td>\n    </tr>\n    <tr>\n      <th>9020</th>\n      <td>1122867</td>\n      <td>40402</td>\n      <td>1.28</td>\n    </tr>\n    <tr>\n      <th>9021</th>\n      <td>11447338</td>\n      <td>36930</td>\n      <td>1.00</td>\n    </tr>\n    <tr>\n      <th>9022</th>\n      <td>10952594</td>\n      <td>12988</td>\n      <td>1.00</td>\n    </tr>\n    <tr>\n      <th>9023</th>\n      <td>11187387</td>\n      <td>21365</td>\n      <td>1.00</td>\n    </tr>\n    <tr>\n      <th>9024</th>\n      <td>10786016</td>\n      <td>39255</td>\n      <td>1.00</td>\n    </tr>\n  </tbody>\n</table>\n<p>9025 rows × 3 columns</p>\n</div>"
     },
     "execution_count": 22,
     "metadata": {},
     "output_type": "execute_result"
    }
   ],
   "source": [
    "ratings_df"
   ],
   "metadata": {
    "collapsed": false,
    "ExecuteTime": {
     "end_time": "2024-08-06T10:46:07.698415Z",
     "start_time": "2024-08-06T10:46:07.669591Z"
    }
   },
   "id": "3444c9bd3f6b2db8",
   "execution_count": 22
  },
  {
   "cell_type": "code",
   "outputs": [
    {
     "name": "stdout",
     "output_type": "stream",
     "text": [
      "Data processing complete. Output saved to ../file/output2.dat.\n"
     ]
    }
   ],
   "source": [
    "output_file_path = '../file/output2.dat'\n",
    "with open(output_file_path, 'w') as f:\n",
    "    for index, row in ratings_df.iterrows():\n",
    "        f.write(f\"{int(row['user_id'])}::{int(row['product_id'])}::{row['rating']}\\n\")\n",
    "\n",
    "print(f\"Data processing complete. Output saved to {output_file_path}.\")"
   ],
   "metadata": {
    "collapsed": false,
    "ExecuteTime": {
     "end_time": "2024-08-06T10:47:53.838293Z",
     "start_time": "2024-08-06T10:47:53.648225Z"
    }
   },
   "id": "8b8f588379da2aa4",
   "execution_count": 24
  },
  {
   "cell_type": "code",
   "outputs": [],
   "source": [
    "# # 将评分结果保存为文件\n",
    "# ratings_df.to_csv('../file/output2.dat', sep='::', index=False, header=False)"
   ],
   "metadata": {
    "collapsed": false
   },
   "id": "a05315533b751555",
   "execution_count": null
  },
  {
   "cell_type": "code",
   "outputs": [
    {
     "name": "stdout",
     "output_type": "stream",
     "text": [
      "Scaled Data:\n",
      " [[ 1.11643667]\n",
      " [ 3.3464761 ]\n",
      " [ 4.45539675]\n",
      " [ 1.44911286]\n",
      " [ 1.56000493]\n",
      " [ 1.06209956]\n",
      " [ 1.        ]\n",
      " [10.        ]\n",
      " [ 2.00357319]\n",
      " [ 2.13886151]]\n"
     ]
    }
   ],
   "source": [
    "from sklearn.preprocessing import MinMaxScaler\n",
    "import numpy as np\n",
    "\n",
    "# Example data\n",
    "data = np.array([[112], [2123], [3123], [412], [512], [63], [7], [8123], [912], [1034]])\n",
    "\n",
    "scaler = MinMaxScaler(feature_range=(1, 10))\n",
    "\n",
    "scaled_data = scaler.fit_transform(data)\n",
    "\n",
    "# Print results\n",
    "print(\"Scaled Data:\\n\", scaled_data)"
   ],
   "metadata": {
    "collapsed": false,
    "ExecuteTime": {
     "end_time": "2024-08-06T08:58:53.791712Z",
     "start_time": "2024-08-06T08:58:52.983157Z"
    }
   },
   "id": "77bdb9be09873a49",
   "execution_count": 2
  },
  {
   "cell_type": "code",
   "outputs": [
    {
     "name": "stdout",
     "output_type": "stream",
     "text": [
      "[[0.33333333 0.66666667]\n",
      " [0.66666667 0.33333333]]\n"
     ]
    }
   ],
   "source": [
    "from sklearn.feature_extraction.text import TfidfVectorizer\n",
    "from sklearn.metrics.pairwise import cosine_similarity\n",
    "\n",
    "texts = [\"123 414 one\", \"text data two\"]\n",
    "vectorizer = TfidfVectorizer()\n",
    "tfidf_matrix = vectorizer.fit_transform(texts)\n",
    "\n",
    "texts2 = [\"123 414 one\", \"12321 12312 34534\"]\n",
    "tfidf_matrix2 = vectorizer.fit_transform(texts2)\n",
    "\n",
    "similarity_matrix = cosine_similarity(tfidf_matrix, tfidf_matrix2)\n",
    "print(similarity_matrix)\n"
   ],
   "metadata": {
    "collapsed": false,
    "ExecuteTime": {
     "end_time": "2024-08-06T09:30:35.222737Z",
     "start_time": "2024-08-06T09:30:35.203386Z"
    }
   },
   "id": "ca2e76b571d8a8f6",
   "execution_count": 5
  },
  {
   "cell_type": "code",
   "outputs": [],
   "source": [],
   "metadata": {
    "collapsed": false
   },
   "id": "23a54dad4041f2ae"
  }
 ],
 "metadata": {
  "kernelspec": {
   "display_name": "Python 3",
   "language": "python",
   "name": "python3"
  },
  "language_info": {
   "codemirror_mode": {
    "name": "ipython",
    "version": 2
   },
   "file_extension": ".py",
   "mimetype": "text/x-python",
   "name": "python",
   "nbconvert_exporter": "python",
   "pygments_lexer": "ipython2",
   "version": "2.7.6"
  }
 },
 "nbformat": 4,
 "nbformat_minor": 5
}
