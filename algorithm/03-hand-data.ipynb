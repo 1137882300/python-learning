{
 "cells": [
  {
   "cell_type": "markdown",
   "source": [
    "## 加权评分"
   ],
   "metadata": {
    "collapsed": false
   },
   "id": "771fbd3474bb7208"
  },
  {
   "cell_type": "markdown",
   "source": [
    "====================> 生成dat文件开始"
   ],
   "metadata": {
    "collapsed": false
   },
   "id": "607ccfdafd8c6f0c"
  },
  {
   "cell_type": "code",
   "outputs": [],
   "source": [
    "from sklearn.preprocessing import MinMaxScaler\n",
    "import pandas as pd\n",
    "import numpy as np\n",
    "from collections import defaultdict\n",
    "\n",
    "# 读取 Excel 文件并处理数据\n",
    "file_path = '/Users/pangmengting/Documents/会员订单数据2.xlsx'  # 请将此路径替换为实际的文件路径\n",
    "df = pd.read_excel(file_path)\n",
    "\n",
    "# 统计每个用户购买每个主题、品类和标签的次数\n",
    "user_theme_count = df.groupby(['user_id', 'theme_id']).size().reset_index(name='theme_count')\n",
    "user_category_count = df.groupby(['user_id', 'type_id']).size().reset_index(name='category_count')\n",
    "# user_tag_count = df.groupby(['user_id', 'product_tags']).size().reset_index(name='tag_count')\n",
    "\n",
    "# 设置权重比例\n",
    "theme_weight = 0.2\n",
    "category_weight = 0.2\n",
    "# tag_weight = 0.2\n",
    "view_weight = 0.3\n",
    "favorites_weight = 0.2\n",
    "time_decay_weight = 0.1\n",
    "\n",
    "\n",
    "# 时间衰减因子的计算函数\n",
    "def time_decay_factor(order_date, current_date):\n",
    "    days_diff = (current_date - order_date).days\n",
    "    return np.exp(-time_decay_weight * days_diff)\n",
    "\n",
    "\n",
    "# 获取当前日期\n",
    "current_date = pd.to_datetime(pd.Timestamp.now().date())\n",
    "\n",
    "# 标准化 view_count 和 favorites ，使其值在 [0, 1] 之间。\n",
    "scaler = MinMaxScaler()\n",
    "df[['view_count', 'favorites']] = scaler.fit_transform(df[['view_count', 'favorites']])\n",
    "\n",
    "# 创建字典存储用户对每个产品的评分\n",
    "user_product_ratings = defaultdict(lambda: defaultdict(int))\n",
    "\n",
    "# 加权计算用户对每个产品的评分\n",
    "for _, row in df.iterrows():\n",
    "    user_id = row['user_id']\n",
    "    product_id = row['product_id']\n",
    "    product_theme = row['theme_id']\n",
    "    product_category = row['type_id']\n",
    "    # product_tags = row['product_tags']\n",
    "    view_count = row['view_count']\n",
    "    favorites = row['favorites']\n",
    "    order_date = pd.to_datetime(row['order_date'])\n",
    "\n",
    "    theme_count = \\\n",
    "        user_theme_count[\n",
    "            (user_theme_count['user_id'] == user_id) & (user_theme_count['theme_id'] == product_theme)][\n",
    "            'theme_count'].values\n",
    "    category_count = user_category_count[\n",
    "        (user_category_count['user_id'] == user_id) & (user_category_count['type_id'] == product_category)][\n",
    "        'category_count'].values\n",
    "    # tag_count = \\\n",
    "    #     user_tag_count[(user_tag_count['user_id'] == user_id) & (user_tag_count['product_tags'] == product_tags)][\n",
    "    #         'tag_count'].values\n",
    "\n",
    "    theme_count = theme_count[0] if len(theme_count) > 0 else 0\n",
    "    category_count = category_count[0] if len(category_count) > 0 else 0\n",
    "    # tag_count = tag_count[0] if len(tag_count) > 0 else 0\n",
    "\n",
    "    # 计算时间衰减因子\n",
    "    decay_factor = time_decay_factor(order_date, current_date)\n",
    "\n",
    "    # 假设我们使用简单的加权和来计算评分\n",
    "    # weighted_score = theme_count * theme_weight + category_count * category_weight + tag_count * tag_weight\n",
    "    # 加权计算用户对每个产品的评分\n",
    "    # weighted_score = (theme_count * theme_weight +\n",
    "    #                   category_count * category_weight +\n",
    "    #                   view_count * view_weight +\n",
    "    #                   favorites * favorites_weight)\n",
    "\n",
    "    # 加入时间因子，加权评分\n",
    "    weighted_score = (theme_count * theme_weight +\n",
    "                      category_count * category_weight +\n",
    "                      view_count * view_weight +\n",
    "                      favorites * favorites_weight\n",
    "                      ) * decay_factor\n",
    "\n",
    "    user_product_ratings[user_id][product_id] = weighted_score"
   ],
   "metadata": {
    "collapsed": false
   },
   "id": "eb4a3563bf067cc3",
   "execution_count": null
  },
  {
   "cell_type": "code",
   "outputs": [],
   "source": [
    "# 转换为DataFrame格式\n",
    "ratings_list = []\n",
    "for user_id, products in user_product_ratings.items():\n",
    "    for product_id, rating in products.items():\n",
    "        ratings_list.append([user_id, product_id, rating])\n",
    "\n",
    "ratings_df = pd.DataFrame(ratings_list, columns=['user_id', 'product_id', 'rating'])"
   ],
   "metadata": {
    "collapsed": false,
    "ExecuteTime": {
     "end_time": "2024-08-07T06:50:37.975591Z",
     "start_time": "2024-08-07T06:50:37.944878Z"
    }
   },
   "id": "164fc7fd6200ac5f",
   "execution_count": 13
  },
  {
   "cell_type": "code",
   "outputs": [
    {
     "data": {
      "text/plain": "    user_id  product_id    rating\n0  10674015       15509  1.500000\n1  10674015       15505  1.500350\n2  10674015       26058  1.503922\n3  11365761       17107  3.000002\n4  11365761       32456  3.000496",
      "text/html": "<div>\n<style scoped>\n    .dataframe tbody tr th:only-of-type {\n        vertical-align: middle;\n    }\n\n    .dataframe tbody tr th {\n        vertical-align: top;\n    }\n\n    .dataframe thead th {\n        text-align: right;\n    }\n</style>\n<table border=\"1\" class=\"dataframe\">\n  <thead>\n    <tr style=\"text-align: right;\">\n      <th></th>\n      <th>user_id</th>\n      <th>product_id</th>\n      <th>rating</th>\n    </tr>\n  </thead>\n  <tbody>\n    <tr>\n      <th>0</th>\n      <td>10674015</td>\n      <td>15509</td>\n      <td>1.500000</td>\n    </tr>\n    <tr>\n      <th>1</th>\n      <td>10674015</td>\n      <td>15505</td>\n      <td>1.500350</td>\n    </tr>\n    <tr>\n      <th>2</th>\n      <td>10674015</td>\n      <td>26058</td>\n      <td>1.503922</td>\n    </tr>\n    <tr>\n      <th>3</th>\n      <td>11365761</td>\n      <td>17107</td>\n      <td>3.000002</td>\n    </tr>\n    <tr>\n      <th>4</th>\n      <td>11365761</td>\n      <td>32456</td>\n      <td>3.000496</td>\n    </tr>\n  </tbody>\n</table>\n</div>"
     },
     "execution_count": 14,
     "metadata": {},
     "output_type": "execute_result"
    }
   ],
   "source": [
    "ratings_df.head()"
   ],
   "metadata": {
    "collapsed": false,
    "ExecuteTime": {
     "end_time": "2024-08-07T06:50:39.474476Z",
     "start_time": "2024-08-07T06:50:39.468634Z"
    }
   },
   "id": "bb5b6aab2d1bbf83",
   "execution_count": 14
  },
  {
   "cell_type": "code",
   "outputs": [],
   "source": [
    "# 将评分归一化到1-10的范围内\n",
    "scaler = MinMaxScaler(feature_range=(0, 5))\n",
    "ratings_df['rating'] = scaler.fit_transform(ratings_df[['rating']])\n",
    "ratings_df['rating'] = ratings_df['rating'].round(4)\n",
    "\n",
    "# 确保 user_id 和 product_id 为整数类型\n",
    "ratings_df['user_id'] = ratings_df['user_id'].astype(int)\n",
    "ratings_df['product_id'] = ratings_df['product_id'].astype(int)"
   ],
   "metadata": {
    "collapsed": false,
    "ExecuteTime": {
     "end_time": "2024-08-07T06:50:55.254837Z",
     "start_time": "2024-08-07T06:50:55.244485Z"
    }
   },
   "id": "e27b72480e25919a",
   "execution_count": 15
  },
  {
   "cell_type": "code",
   "outputs": [
    {
     "data": {
      "text/plain": "    user_id  product_id  rating\n0  10674015       15509    0.09\n1  10674015       15505    0.09\n2  10674015       26058    0.09\n3  11365761       17107    0.22\n4  11365761       32456    0.22",
      "text/html": "<div>\n<style scoped>\n    .dataframe tbody tr th:only-of-type {\n        vertical-align: middle;\n    }\n\n    .dataframe tbody tr th {\n        vertical-align: top;\n    }\n\n    .dataframe thead th {\n        text-align: right;\n    }\n</style>\n<table border=\"1\" class=\"dataframe\">\n  <thead>\n    <tr style=\"text-align: right;\">\n      <th></th>\n      <th>user_id</th>\n      <th>product_id</th>\n      <th>rating</th>\n    </tr>\n  </thead>\n  <tbody>\n    <tr>\n      <th>0</th>\n      <td>10674015</td>\n      <td>15509</td>\n      <td>0.09</td>\n    </tr>\n    <tr>\n      <th>1</th>\n      <td>10674015</td>\n      <td>15505</td>\n      <td>0.09</td>\n    </tr>\n    <tr>\n      <th>2</th>\n      <td>10674015</td>\n      <td>26058</td>\n      <td>0.09</td>\n    </tr>\n    <tr>\n      <th>3</th>\n      <td>11365761</td>\n      <td>17107</td>\n      <td>0.22</td>\n    </tr>\n    <tr>\n      <th>4</th>\n      <td>11365761</td>\n      <td>32456</td>\n      <td>0.22</td>\n    </tr>\n  </tbody>\n</table>\n</div>"
     },
     "execution_count": 16,
     "metadata": {},
     "output_type": "execute_result"
    }
   ],
   "source": [
    "ratings_df.head()"
   ],
   "metadata": {
    "collapsed": false,
    "ExecuteTime": {
     "end_time": "2024-08-07T06:50:57.197781Z",
     "start_time": "2024-08-07T06:50:57.193003Z"
    }
   },
   "id": "3444c9bd3f6b2db8",
   "execution_count": 16
  },
  {
   "cell_type": "code",
   "outputs": [
    {
     "name": "stdout",
     "output_type": "stream",
     "text": [
      "Data processing complete. Output saved to ../file/output3.dat.\n"
     ]
    }
   ],
   "source": [
    "output_file_path = '../file/output3.dat'\n",
    "with open(output_file_path, 'w') as f:\n",
    "    for index, row in ratings_df.iterrows():\n",
    "        f.write(f\"{int(row['user_id'])}::{int(row['product_id'])}::{row['rating']}\\n\")\n",
    "\n",
    "print(f\"Data processing complete. Output saved to {output_file_path}.\")"
   ],
   "metadata": {
    "collapsed": false,
    "ExecuteTime": {
     "end_time": "2024-08-07T06:51:10.265263Z",
     "start_time": "2024-08-07T06:51:09.107807Z"
    }
   },
   "id": "8b8f588379da2aa4",
   "execution_count": 17
  },
  {
   "cell_type": "markdown",
   "source": [
    "====================> 生成dat文件结束"
   ],
   "metadata": {
    "collapsed": false
   },
   "id": "3fff0700980595bd"
  },
  {
   "cell_type": "code",
   "outputs": [],
   "source": [
    "import pandas as pd\n",
    "\n",
    "# Read the Excel file\n",
    "file_path = '/Users/pangmengting/Documents/会员订单数据2.xlsx'  # Change this to your actual file path\n",
    "df = pd.read_excel(file_path)\n",
    "\n",
    "# Process the data to get user_id, product_id, and count\n",
    "result_df = df.groupby(['user_id', 'product_id']).size().reset_index(name='count')\n",
    "\n",
    "# Save the result in the specified format\n",
    "output_file_path = '../file/output3.dat'\n",
    "with open(output_file_path, 'w') as f:\n",
    "    for index, row in result_df.iterrows():\n",
    "        f.write(f\"{row['user_id']}::{row['product_id']}::{row['count']}\\n\")\n",
    "\n",
    "print(f\"Data processing complete. Output saved to {output_file_path}.\")"
   ],
   "metadata": {
    "collapsed": false
   },
   "id": "57e178ac20bf6902"
  },
  {
   "cell_type": "code",
   "outputs": [],
   "source": [
    "# # 将评分结果保存为文件\n",
    "# ratings_df.to_csv('../file/output2.dat', sep='::', index=False, header=False)"
   ],
   "metadata": {
    "collapsed": false
   },
   "id": "a05315533b751555",
   "execution_count": null
  },
  {
   "cell_type": "code",
   "outputs": [
    {
     "name": "stdout",
     "output_type": "stream",
     "text": [
      "Scaled Data:\n",
      " [[ 1.11643667]\n",
      " [ 3.3464761 ]\n",
      " [ 4.45539675]\n",
      " [ 1.44911286]\n",
      " [ 1.56000493]\n",
      " [ 1.06209956]\n",
      " [ 1.        ]\n",
      " [10.        ]\n",
      " [ 2.00357319]\n",
      " [ 2.13886151]]\n"
     ]
    }
   ],
   "source": [
    "from sklearn.preprocessing import MinMaxScaler\n",
    "import numpy as np\n",
    "\n",
    "# Example data\n",
    "data = np.array([[112], [2123], [3123], [412], [512], [63], [7], [8123], [912], [1034]])\n",
    "\n",
    "scaler = MinMaxScaler(feature_range=(1, 10))\n",
    "\n",
    "scaled_data = scaler.fit_transform(data)\n",
    "\n",
    "# Print results\n",
    "print(\"Scaled Data:\\n\", scaled_data)"
   ],
   "metadata": {
    "collapsed": false,
    "ExecuteTime": {
     "end_time": "2024-08-06T08:58:53.791712Z",
     "start_time": "2024-08-06T08:58:52.983157Z"
    }
   },
   "id": "77bdb9be09873a49",
   "execution_count": 2
  },
  {
   "cell_type": "code",
   "outputs": [
    {
     "name": "stdout",
     "output_type": "stream",
     "text": [
      "[[0.33333333 0.66666667]\n",
      " [0.66666667 0.33333333]]\n"
     ]
    }
   ],
   "source": [
    "from sklearn.feature_extraction.text import TfidfVectorizer\n",
    "from sklearn.metrics.pairwise import cosine_similarity\n",
    "\n",
    "texts = [\"123 414 one\", \"text data two\"]\n",
    "vectorizer = TfidfVectorizer()\n",
    "tfidf_matrix = vectorizer.fit_transform(texts)\n",
    "\n",
    "texts2 = [\"123 414 one\", \"12321 12312 34534\"]\n",
    "tfidf_matrix2 = vectorizer.fit_transform(texts2)\n",
    "\n",
    "similarity_matrix = cosine_similarity(tfidf_matrix, tfidf_matrix2)\n",
    "print(similarity_matrix)\n"
   ],
   "metadata": {
    "collapsed": false,
    "ExecuteTime": {
     "end_time": "2024-08-06T09:30:35.222737Z",
     "start_time": "2024-08-06T09:30:35.203386Z"
    }
   },
   "id": "ca2e76b571d8a8f6",
   "execution_count": 5
  },
  {
   "cell_type": "code",
   "outputs": [
    {
     "data": {
      "text/plain": "Timestamp('2024-08-07 00:00:00')"
     },
     "execution_count": 2,
     "metadata": {},
     "output_type": "execute_result"
    }
   ],
   "source": [
    "import pandas as pd\n",
    "\n",
    "current_date = pd.to_datetime(pd.Timestamp.now().date())\n",
    "current_date"
   ],
   "metadata": {
    "collapsed": false,
    "ExecuteTime": {
     "end_time": "2024-08-07T07:38:40.181021Z",
     "start_time": "2024-08-07T07:38:39.849619Z"
    }
   },
   "id": "23a54dad4041f2ae",
   "execution_count": 2
  },
  {
   "cell_type": "code",
   "outputs": [
    {
     "data": {
      "text/plain": "Timestamp('2024-08-07 15:38:41.630525')"
     },
     "execution_count": 3,
     "metadata": {},
     "output_type": "execute_result"
    }
   ],
   "source": [
    "current_date = pd.to_datetime('today')\n",
    "current_date"
   ],
   "metadata": {
    "collapsed": false,
    "ExecuteTime": {
     "end_time": "2024-08-07T07:38:41.639619Z",
     "start_time": "2024-08-07T07:38:41.633061Z"
    }
   },
   "id": "d3e23797832d205a",
   "execution_count": 3
  },
  {
   "cell_type": "code",
   "outputs": [],
   "source": [],
   "metadata": {
    "collapsed": false
   },
   "id": "13b9522b6b0950f3"
  }
 ],
 "metadata": {
  "kernelspec": {
   "display_name": "Python 3",
   "language": "python",
   "name": "python3"
  },
  "language_info": {
   "codemirror_mode": {
    "name": "ipython",
    "version": 2
   },
   "file_extension": ".py",
   "mimetype": "text/x-python",
   "name": "python",
   "nbconvert_exporter": "python",
   "pygments_lexer": "ipython2",
   "version": "2.7.6"
  }
 },
 "nbformat": 4,
 "nbformat_minor": 5
}
