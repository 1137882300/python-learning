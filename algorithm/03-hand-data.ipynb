{
 "cells": [
  {
   "cell_type": "code",
   "execution_count": 1,
   "id": "initial_id",
   "metadata": {
    "collapsed": true,
    "ExecuteTime": {
     "end_time": "2024-08-06T07:31:49.083384Z",
     "start_time": "2024-08-06T07:31:47.026265Z"
    }
   },
   "outputs": [
    {
     "name": "stdout",
     "output_type": "stream",
     "text": [
      "Data processing complete. Output saved to ../file/output.dat.\n"
     ]
    }
   ],
   "source": [
    "import pandas as pd\n",
    "\n",
    "# Read the Excel file\n",
    "file_path = '/Users/pangmengting/Documents/会员订单数据.xlsx'  # Change this to your actual file path\n",
    "df = pd.read_excel(file_path)\n",
    "\n",
    "# Process the data to get user_id, product_id, and count\n",
    "result_df = df.groupby(['user_id', 'product_id']).size().reset_index(name='count')\n",
    "\n",
    "# Save the result in the specified format\n",
    "output_file_path = '../file/output.dat'\n",
    "with open(output_file_path, 'w') as f:\n",
    "    for index, row in result_df.iterrows():\n",
    "        f.write(f\"{row['user_id']}::{row['product_id']}::{row['count']}\\n\")\n",
    "\n",
    "print(f\"Data processing complete. Output saved to {output_file_path}.\")"
   ]
  },
  {
   "cell_type": "code",
   "outputs": [],
   "source": [],
   "metadata": {
    "collapsed": false
   },
   "id": "a05315533b751555"
  }
 ],
 "metadata": {
  "kernelspec": {
   "display_name": "Python 3",
   "language": "python",
   "name": "python3"
  },
  "language_info": {
   "codemirror_mode": {
    "name": "ipython",
    "version": 2
   },
   "file_extension": ".py",
   "mimetype": "text/x-python",
   "name": "python",
   "nbconvert_exporter": "python",
   "pygments_lexer": "ipython2",
   "version": "2.7.6"
  }
 },
 "nbformat": 4,
 "nbformat_minor": 5
}
