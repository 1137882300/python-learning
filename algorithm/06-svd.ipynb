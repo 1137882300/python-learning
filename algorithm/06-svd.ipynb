{
 "cells": [
  {
   "cell_type": "code",
   "execution_count": null,
   "id": "initial_id",
   "metadata": {
    "collapsed": true
   },
   "outputs": [],
   "source": [
    "import pymysql\n",
    "import pandas as pd\n",
    "from surprise import Dataset, Reader, SVD\n",
    "from pymongo import MongoClient\n",
    "\n",
    "\n",
    "# 连接MySQL数据库并读取数据\n",
    "def fetch_data_from_mysql():\n",
    "    connection = pymysql.connect(\n",
    "        host='your_mysql_host',\n",
    "        user='your_mysql_user',\n",
    "        password='your_mysql_password',\n",
    "        db='your_database_name'\n",
    "    )\n",
    "    query = \"SELECT user_id, item_id, rating FROM ratings\"\n",
    "    df = pd.read_sql(query, connection)\n",
    "    connection.close()\n",
    "    return df\n",
    "\n",
    "\n",
    "# 计算推荐结果\n",
    "def calculate_recommendations(df):\n",
    "    reader = Reader(rating_scale=(1, 5))\n",
    "    data = Dataset.load_from_df(df[['user_id', 'item_id', 'rating']], reader)\n",
    "\n",
    "    trainset = data.build_full_trainset()\n",
    "    algo = SVD()\n",
    "    algo.fit(trainset)\n",
    "\n",
    "    recommendations = {}\n",
    "    user_ids = df['user_id'].unique()\n",
    "    for user_id in user_ids:\n",
    "        user_recommendations = []\n",
    "        for item_id in df['item_id'].unique():\n",
    "            if not trainset.knows_user(user_id) or not trainset.knows_item(item_id):\n",
    "                continue\n",
    "            pred = algo.predict(user_id, item_id)\n",
    "            user_recommendations.append((item_id, pred.est))\n",
    "        user_recommendations.sort(key=lambda x: x[1], reverse=True)\n",
    "        recommendations[user_id] = [item_id for item_id, _ in user_recommendations[:10]]  # 推荐前10个\n",
    "    return recommendations\n",
    "\n",
    "\n",
    "# 将推荐结果写入MongoDB\n",
    "def save_recommendations_to_mongodb(recommendations):\n",
    "    client = MongoClient('mongodb://localhost:27017/')\n",
    "    db = client['recommendation_db']\n",
    "    collection = db['recommendations']\n",
    "    for user_id, recs in recommendations.items():\n",
    "        collection.update_one({'user_id': user_id}, {'$set': {'recommendations': recs}}, upsert=True)\n",
    "    client.close()\n",
    "\n",
    "\n",
    "# 主函数\n",
    "def main():\n",
    "    df = fetch_data_from_mysql()\n",
    "    recommendations = calculate_recommendations(df)\n",
    "    save_recommendations_to_mongodb(recommendations)\n",
    "\n",
    "\n",
    "if __name__ == \"__main__\":\n",
    "    main()\n"
   ]
  }
 ],
 "metadata": {
  "kernelspec": {
   "display_name": "Python 3",
   "language": "python",
   "name": "python3"
  },
  "language_info": {
   "codemirror_mode": {
    "name": "ipython",
    "version": 2
   },
   "file_extension": ".py",
   "mimetype": "text/x-python",
   "name": "python",
   "nbconvert_exporter": "python",
   "pygments_lexer": "ipython2",
   "version": "2.7.6"
  }
 },
 "nbformat": 4,
 "nbformat_minor": 5
}
