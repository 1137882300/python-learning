{
 "cells": [
  {
   "cell_type": "code",
   "execution_count": 1,
   "id": "initial_id",
   "metadata": {
    "collapsed": true,
    "ExecuteTime": {
     "end_time": "2024-08-02T08:29:48.619069Z",
     "start_time": "2024-08-02T08:29:48.613295Z"
    }
   },
   "outputs": [
    {
     "name": "stdout",
     "output_type": "stream",
     "text": [
      "原始用户-项目矩阵:\n",
      "[[5 3 0 1]\n",
      " [4 0 0 1]\n",
      " [1 1 0 5]\n",
      " [1 0 0 4]\n",
      " [0 1 5 4]]\n",
      "\n",
      "低秩近似矩阵:\n",
      "[[ 5.13406479  1.90612125 -0.72165061  1.5611261 ]\n",
      " [ 3.43308995  1.28075331 -0.45629689  1.08967559]\n",
      " [ 1.54866643  1.0449763   1.78873709  3.96755551]\n",
      " [ 1.17598269  0.80359806  1.40136891  3.08786154]\n",
      " [-0.44866693  0.5443561   3.09799526  5.15263893]]\n",
      "\n",
      "预测用户 2 对项目 3 的评分: -0.45629689375997506\n"
     ]
    }
   ],
   "source": [
    "import numpy as np\n",
    "from numpy.linalg import svd\n",
    "\n",
    "# 创建用户-项目评分矩阵（示例）\n",
    "R = np.array([\n",
    "    [5, 3, 0, 1],\n",
    "    [4, 0, 0, 1],\n",
    "    [1, 1, 0, 5],\n",
    "    [1, 0, 0, 4],\n",
    "    [0, 1, 5, 4]\n",
    "])\n",
    "\n",
    "# 进行奇异值分解\n",
    "U, sigma, Vt = svd(R, full_matrices=False)\n",
    "\n",
    "# 将奇异值转换为对角矩阵 \n",
    "sigma = np.diag(sigma)\n",
    "\n",
    "# 保留前 k 个奇异值\n",
    "k = 2\n",
    "U_k = U[:, :k]\n",
    "sigma_k = sigma[:k, :k]\n",
    "Vt_k = Vt[:k, :]\n",
    "\n",
    "# 计算低秩近似矩阵\n",
    "R_k = np.dot(U_k, np.dot(sigma_k, Vt_k))\n",
    "\n",
    "# 打印结果\n",
    "print(\"原始用户-项目矩阵:\")\n",
    "print(R)\n",
    "print(\"\\n低秩近似矩阵:\")\n",
    "print(R_k)\n",
    "\n",
    "# 预测评分（可以用来推荐）\n",
    "# 例如，预测用户 1 对项目 2 的评分\n",
    "user_index = 1\n",
    "item_index = 2\n",
    "predicted_rating = R_k[user_index, item_index]\n",
    "print(f\"\\n预测用户 {user_index + 1} 对项目 {item_index + 1} 的评分: {predicted_rating}\")\n"
   ]
  },
  {
   "cell_type": "code",
   "outputs": [],
   "source": [
    "R = np.array([\n",
    "    [3, 5],\n",
    "    [4, 0],\n",
    "])\n",
    "\n",
    "# 进行奇异值分解\n",
    "U, sigma, Vt = svd(R, full_matrices=False)"
   ],
   "metadata": {
    "collapsed": false,
    "ExecuteTime": {
     "end_time": "2024-08-02T08:31:54.667431Z",
     "start_time": "2024-08-02T08:31:54.663921Z"
    }
   },
   "id": "550e9712f6a0c653",
   "execution_count": 2
  },
  {
   "cell_type": "code",
   "outputs": [
    {
     "data": {
      "text/plain": "array([[-0.89442719, -0.4472136 ],\n       [-0.4472136 ,  0.89442719]])"
     },
     "execution_count": 5,
     "metadata": {},
     "output_type": "execute_result"
    }
   ],
   "source": [
    "U"
   ],
   "metadata": {
    "collapsed": false,
    "ExecuteTime": {
     "end_time": "2024-08-02T08:33:03.288541Z",
     "start_time": "2024-08-02T08:33:03.285294Z"
    }
   },
   "id": "42ecb5bc9995da70",
   "execution_count": 5
  },
  {
   "cell_type": "code",
   "outputs": [
    {
     "data": {
      "text/plain": "array([6.32455532, 3.16227766])"
     },
     "execution_count": 6,
     "metadata": {},
     "output_type": "execute_result"
    }
   ],
   "source": [
    "sigma"
   ],
   "metadata": {
    "collapsed": false,
    "ExecuteTime": {
     "end_time": "2024-08-02T08:33:09.457717Z",
     "start_time": "2024-08-02T08:33:09.451679Z"
    }
   },
   "id": "9b3dc57ca1d1da44",
   "execution_count": 6
  },
  {
   "cell_type": "code",
   "outputs": [
    {
     "data": {
      "text/plain": "array([[-0.70710678, -0.70710678],\n       [ 0.70710678, -0.70710678]])"
     },
     "execution_count": 7,
     "metadata": {},
     "output_type": "execute_result"
    }
   ],
   "source": [
    "Vt"
   ],
   "metadata": {
    "collapsed": false,
    "ExecuteTime": {
     "end_time": "2024-08-02T08:33:12.180240Z",
     "start_time": "2024-08-02T08:33:12.174043Z"
    }
   },
   "id": "92db120c257037de",
   "execution_count": 7
  },
  {
   "cell_type": "code",
   "outputs": [],
   "source": [],
   "metadata": {
    "collapsed": false
   },
   "id": "283c2100e3cd4ed8"
  }
 ],
 "metadata": {
  "kernelspec": {
   "display_name": "Python 3",
   "language": "python",
   "name": "python3"
  },
  "language_info": {
   "codemirror_mode": {
    "name": "ipython",
    "version": 2
   },
   "file_extension": ".py",
   "mimetype": "text/x-python",
   "name": "python",
   "nbconvert_exporter": "python",
   "pygments_lexer": "ipython2",
   "version": "2.7.6"
  }
 },
 "nbformat": 4,
 "nbformat_minor": 5
}
