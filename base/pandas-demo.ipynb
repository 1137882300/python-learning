{
 "cells": [
  {
   "cell_type": "code",
   "execution_count": 1,
   "id": "initial_id",
   "metadata": {
    "collapsed": true,
    "ExecuteTime": {
     "end_time": "2024-08-02T02:39:54.831348Z",
     "start_time": "2024-08-02T02:39:54.811525Z"
    }
   },
   "outputs": [
    {
     "name": "stdout",
     "output_type": "stream",
     "text": [
      "      Name  Age      City  Salary\n",
      "0    Alice   25  New York   50000\n",
      "1      Bob   30     Paris   60000\n",
      "2  Charlie   35    London   70000\n",
      "3    David   28     Tokyo   55000\n",
      "<class 'pandas.core.frame.DataFrame'>\n",
      "RangeIndex: 4 entries, 0 to 3\n",
      "Data columns (total 4 columns):\n",
      " #   Column  Non-Null Count  Dtype \n",
      "---  ------  --------------  ----- \n",
      " 0   Name    4 non-null      object\n",
      " 1   Age     4 non-null      int64 \n",
      " 2   City    4 non-null      object\n",
      " 3   Salary  4 non-null      int64 \n",
      "dtypes: int64(2), object(2)\n",
      "memory usage: 256.0+ bytes\n",
      "None\n",
      "0      Alice\n",
      "1        Bob\n",
      "2    Charlie\n",
      "3      David\n",
      "Name: Name, dtype: object\n",
      "      Name  Age    City  Salary\n",
      "2  Charlie   35  London   70000\n",
      "             Age        Salary  Experience\n",
      "count   4.000000      4.000000    4.000000\n",
      "mean   29.500000  58750.000000    4.750000\n",
      "std     4.203173   8539.125638    1.707825\n",
      "min    25.000000  50000.000000    3.000000\n",
      "25%    27.250000  53750.000000    3.750000\n",
      "50%    29.000000  57500.000000    4.500000\n",
      "75%    31.250000  62500.000000    5.500000\n",
      "max    35.000000  70000.000000    7.000000\n",
      "      Name  Age      City  Salary  Experience\n",
      "2  Charlie   35    London   70000           7\n",
      "1      Bob   30     Paris   60000           5\n",
      "3    David   28     Tokyo   55000           4\n",
      "0    Alice   25  New York   50000           3\n",
      "City\n",
      "London      70000.0\n",
      "New York    50000.0\n",
      "Paris       60000.0\n",
      "Tokyo       55000.0\n",
      "Name: Salary, dtype: float64\n"
     ]
    }
   ],
   "source": [
    "import pandas as pd\n",
    "\n",
    "# 创建一个DataFrame\n",
    "data = {\n",
    "    'Name': ['Alice', 'Bob', 'Charlie', 'David'],\n",
    "    'Age': [25, 30, 35, 28],\n",
    "    'City': ['New York', 'Paris', 'London', 'Tokyo'],\n",
    "    'Salary': [50000, 60000, 70000, 55000]\n",
    "}\n",
    "\n",
    "df = pd.DataFrame(data)\n",
    "\n",
    "# 显示DataFrame\n",
    "print(df)\n",
    "\n",
    "# 获取基本信息\n",
    "print(df.info())\n",
    "\n",
    "# 选择特定列\n",
    "print(df['Name'])\n",
    "\n",
    "# 条件筛选\n",
    "print(df[df['Age'] > 30])\n",
    "\n",
    "# 添加新列\n",
    "df['Experience'] = [3, 5, 7, 4]\n",
    "\n",
    "# 基本统计\n",
    "print(df.describe())\n",
    "\n",
    "# 排序\n",
    "print(df.sort_values('Salary', ascending=False))\n",
    "\n",
    "# 分组操作\n",
    "print(df.groupby('City')['Salary'].mean())"
   ]
  },
  {
   "cell_type": "code",
   "outputs": [
    {
     "name": "stdout",
     "output_type": "stream",
     "text": [
      "      Name  Age      City  Salary  Experience\n",
      "0    Alice   25  New York   50000           3\n",
      "1      Bob   30     Paris   60000           5\n",
      "2  Charlie   35    London   70000           7\n",
      "3    David   28     Tokyo   55000           4\n"
     ]
    }
   ],
   "source": [
    "print(df)"
   ],
   "metadata": {
    "collapsed": false,
    "ExecuteTime": {
     "end_time": "2024-08-02T02:40:10.444656Z",
     "start_time": "2024-08-02T02:40:10.440604Z"
    }
   },
   "id": "56295e0eb44c8b5f",
   "execution_count": 2
  },
  {
   "cell_type": "code",
   "outputs": [],
   "source": [],
   "metadata": {
    "collapsed": false
   },
   "id": "3257de794e06d8ec"
  }
 ],
 "metadata": {
  "kernelspec": {
   "display_name": "Python 3",
   "language": "python",
   "name": "python3"
  },
  "language_info": {
   "codemirror_mode": {
    "name": "ipython",
    "version": 2
   },
   "file_extension": ".py",
   "mimetype": "text/x-python",
   "name": "python",
   "nbconvert_exporter": "python",
   "pygments_lexer": "ipython2",
   "version": "2.7.6"
  }
 },
 "nbformat": 4,
 "nbformat_minor": 5
}
