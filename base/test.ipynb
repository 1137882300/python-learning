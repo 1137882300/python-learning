{
 "cells": [
  {
   "cell_type": "code",
   "execution_count": 3,
   "id": "b10835061c31ea74",
   "metadata": {
    "collapsed": false,
    "ExecuteTime": {
     "end_time": "2024-10-28T06:23:07.883178Z",
     "start_time": "2024-10-28T06:23:07.876991Z"
    }
   },
   "outputs": [],
   "source": [
    "from datetime import datetime"
   ]
  },
  {
   "cell_type": "code",
   "outputs": [],
   "source": [
    "\n",
    "# import datetime\n",
    "\n",
    "#message = next(filter(lambda x: x[\"business\"] == \"自己\", #reversed(chat_contents)), None)\n",
    "\n",
    "message = {'sender_time': '2024-8-14 18:40:00'}\n",
    "time_diff = 0\n",
    "if message:\n",
    "    time_diff = int(\n",
    "        (datetime.now() - datetime.strptime(message['sender_time'], \"%Y-%m-%d %H:%M:%S\")).total_seconds() / 60)\n",
    "interval = 2 / 60\n",
    "need_send = time_diff >= int(interval)"
   ],
   "metadata": {
    "collapsed": true,
    "ExecuteTime": {
     "end_time": "2024-08-14T10:39:07.527269Z",
     "start_time": "2024-08-14T10:39:07.524033Z"
    }
   },
   "id": "initial_id",
   "execution_count": 20
  },
  {
   "cell_type": "code",
   "outputs": [
    {
     "data": {
      "text/plain": "True"
     },
     "execution_count": 21,
     "metadata": {},
     "output_type": "execute_result"
    }
   ],
   "source": [
    "need_send"
   ],
   "metadata": {
    "collapsed": false,
    "ExecuteTime": {
     "end_time": "2024-08-14T10:39:08.782171Z",
     "start_time": "2024-08-14T10:39:08.778204Z"
    }
   },
   "id": "353af48895bf67c7",
   "execution_count": 21
  },
  {
   "cell_type": "code",
   "outputs": [
    {
     "data": {
      "text/plain": "0"
     },
     "execution_count": 22,
     "metadata": {},
     "output_type": "execute_result"
    }
   ],
   "source": [
    "time_diff"
   ],
   "metadata": {
    "collapsed": false,
    "ExecuteTime": {
     "end_time": "2024-08-14T10:39:13.404184Z",
     "start_time": "2024-08-14T10:39:13.398307Z"
    }
   },
   "id": "232acdb6767a8fca",
   "execution_count": 22
  },
  {
   "cell_type": "code",
   "outputs": [
    {
     "name": "stdout",
     "output_type": "stream",
     "text": [
      "时间差（秒）： 243.044128\n"
     ]
    }
   ],
   "source": [
    "from datetime import datetime\n",
    "\n",
    "message = {'sender_time': '2024-8-14 18:35:00'}\n",
    "if message:\n",
    "    current_time = datetime.now()\n",
    "    sender_time = datetime.strptime(message['sender_time'], \"%Y-%m-%d %H:%M:%S\")\n",
    "    time_diff = (current_time - sender_time).total_seconds()\n",
    "    print(\"时间差（秒）：\", time_diff)"
   ],
   "metadata": {
    "collapsed": false,
    "ExecuteTime": {
     "end_time": "2024-08-14T10:39:03.052709Z",
     "start_time": "2024-08-14T10:39:03.045632Z"
    }
   },
   "id": "f749b8cd0f0002c3",
   "execution_count": 19
  },
  {
   "cell_type": "code",
   "outputs": [
    {
     "name": "stdout",
     "output_type": "stream",
     "text": [
      "工作时间 周一、三（19-24点）: 不在工作时间内\n",
      "工作时间 周二、四（9-24点）: 不在工作时间内\n",
      "工作时间 周五、六、日（9-24点）: 不在工作时间内\n",
      "工作时间 周六、日（9-24点）: 不在工作时间内\n",
      "工作时间 周二、四（9-24点）: 不在工作时间内\n"
     ]
    }
   ],
   "source": [
    "def is_work_time(work_time: str) -> bool:\n",
    "    \"\"\"\n",
    "    判断当前时间是否在工作时间范围内\n",
    "    \n",
    "    Args:\n",
    "        work_time: 格式如 \"周二、四（9-24点）\" 或 \"周五、六、日（9-24点）\"\n",
    "    Returns:\n",
    "        bool: 是否在工作时间内\n",
    "    \"\"\"\n",
    "    # 获取当前时间\n",
    "    now = datetime.now()\n",
    "    current_hour = now.hour\n",
    "    current_weekday = now.weekday() + 1  # 转换为 1-7，对应周一到周日\n",
    "\n",
    "    # 解析工作时间字符串\n",
    "    days_part = work_time.split('（')[0].replace('周', '')\n",
    "    time_part = work_time.split('（')[1].replace('点）', '')\n",
    "\n",
    "    # 解析工作日\n",
    "    work_days = []\n",
    "    weekday_map = {'一': 1, '二': 2, '三': 3, '四': 4, '五': 5, '六': 6, '日': 7}\n",
    "\n",
    "    # 处理类似 \"二、四\" 的格式\n",
    "    day_parts = days_part.split('、')\n",
    "    for day in day_parts:\n",
    "        work_days.append(weekday_map[day])\n",
    "\n",
    "    # 解析工作时间\n",
    "    start_hour, end_hour = map(int, time_part.split('-'))\n",
    "\n",
    "    # 判断当前是否在工作时间内\n",
    "    is_work_day = current_weekday in work_days\n",
    "    is_work_hour = start_hour <= current_hour < end_hour\n",
    "\n",
    "    return is_work_day and is_work_hour\n",
    "\n",
    "\n",
    "# 使用示例：\n",
    "if __name__ == '__main__':\n",
    "    # 测试用例\n",
    "    test_times = [\n",
    "        '周一、三（19-24点）',\n",
    "        \"周二、四（9-24点）\",\n",
    "        \"周五、六、日（9-24点）\",\n",
    "        '周六、日（9-24点）',\n",
    "        '周二、四（9-24点）',\n",
    "    ]\n",
    "\n",
    "    for work_time in test_times:\n",
    "        result = is_work_time(work_time)\n",
    "        print(f\"工作时间 {work_time}: {'在工作时间内' if result else '不在工作时间内'}\")"
   ],
   "metadata": {
    "collapsed": false,
    "ExecuteTime": {
     "end_time": "2024-10-28T06:27:33.245970Z",
     "start_time": "2024-10-28T06:27:33.238580Z"
    }
   },
   "id": "ab4764c14ea3be6a",
   "execution_count": 10
  },
  {
   "cell_type": "code",
   "outputs": [],
   "source": [],
   "metadata": {
    "collapsed": false
   },
   "id": "a954d27c50216f30"
  }
 ],
 "metadata": {
  "kernelspec": {
   "display_name": "Python 3",
   "language": "python",
   "name": "python3"
  },
  "language_info": {
   "codemirror_mode": {
    "name": "ipython",
    "version": 2
   },
   "file_extension": ".py",
   "mimetype": "text/x-python",
   "name": "python",
   "nbconvert_exporter": "python",
   "pygments_lexer": "ipython2",
   "version": "2.7.6"
  }
 },
 "nbformat": 4,
 "nbformat_minor": 5
}
