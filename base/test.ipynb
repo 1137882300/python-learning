{
 "cells": [
  {
   "cell_type": "code",
   "execution_count": 20,
   "id": "initial_id",
   "metadata": {
    "collapsed": true,
    "ExecuteTime": {
     "end_time": "2024-08-14T10:39:07.527269Z",
     "start_time": "2024-08-14T10:39:07.524033Z"
    }
   },
   "outputs": [],
   "source": [
    "from datetime import datetime\n",
    "\n",
    "# import datetime\n",
    "\n",
    "#message = next(filter(lambda x: x[\"business\"] == \"自己\", #reversed(chat_contents)), None)\n",
    "\n",
    "message = {'sender_time':'2024-8-14 18:40:00'}\n",
    "time_diff = 0\n",
    "if message:\n",
    "    time_diff = int(\n",
    "        (datetime.now() - datetime.strptime(message['sender_time'], \"%Y-%m-%d %H:%M:%S\")).total_seconds() / 60)\n",
    "interval = 2/60\n",
    "need_send = time_diff >= int(interval)"
   ]
  },
  {
   "cell_type": "code",
   "outputs": [
    {
     "data": {
      "text/plain": "True"
     },
     "execution_count": 21,
     "metadata": {},
     "output_type": "execute_result"
    }
   ],
   "source": [
    "need_send"
   ],
   "metadata": {
    "collapsed": false,
    "ExecuteTime": {
     "end_time": "2024-08-14T10:39:08.782171Z",
     "start_time": "2024-08-14T10:39:08.778204Z"
    }
   },
   "id": "353af48895bf67c7",
   "execution_count": 21
  },
  {
   "cell_type": "code",
   "outputs": [
    {
     "data": {
      "text/plain": "0"
     },
     "execution_count": 22,
     "metadata": {},
     "output_type": "execute_result"
    }
   ],
   "source": [
    "time_diff"
   ],
   "metadata": {
    "collapsed": false,
    "ExecuteTime": {
     "end_time": "2024-08-14T10:39:13.404184Z",
     "start_time": "2024-08-14T10:39:13.398307Z"
    }
   },
   "id": "232acdb6767a8fca",
   "execution_count": 22
  },
  {
   "cell_type": "code",
   "outputs": [
    {
     "name": "stdout",
     "output_type": "stream",
     "text": [
      "时间差（秒）： 243.044128\n"
     ]
    }
   ],
   "source": [
    "from datetime import datetime\n",
    "\n",
    "message = {'sender_time':'2024-8-14 18:35:00'}\n",
    "if message:\n",
    "    current_time = datetime.now()\n",
    "    sender_time = datetime.strptime(message['sender_time'], \"%Y-%m-%d %H:%M:%S\")\n",
    "    time_diff = (current_time - sender_time).total_seconds()\n",
    "    print(\"时间差（秒）：\", time_diff)"
   ],
   "metadata": {
    "collapsed": false,
    "ExecuteTime": {
     "end_time": "2024-08-14T10:39:03.052709Z",
     "start_time": "2024-08-14T10:39:03.045632Z"
    }
   },
   "id": "f749b8cd0f0002c3",
   "execution_count": 19
  },
  {
   "cell_type": "code",
   "outputs": [],
   "source": [],
   "metadata": {
    "collapsed": false
   },
   "id": "afc0c1e1c4e9b6b8"
  }
 ],
 "metadata": {
  "kernelspec": {
   "display_name": "Python 3",
   "language": "python",
   "name": "python3"
  },
  "language_info": {
   "codemirror_mode": {
    "name": "ipython",
    "version": 2
   },
   "file_extension": ".py",
   "mimetype": "text/x-python",
   "name": "python",
   "nbconvert_exporter": "python",
   "pygments_lexer": "ipython2",
   "version": "2.7.6"
  }
 },
 "nbformat": 4,
 "nbformat_minor": 5
}
