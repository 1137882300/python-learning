{
 "cells": [
  {
   "cell_type": "code",
   "execution_count": 3,
   "id": "initial_id",
   "metadata": {
    "collapsed": true,
    "ExecuteTime": {
     "end_time": "2024-08-14T08:44:02.832083Z",
     "start_time": "2024-08-14T08:44:02.829251Z"
    }
   },
   "outputs": [],
   "source": [
    "from datetime import datetime\n",
    "\n",
    "# import datetime\n",
    "\n",
    "#message = next(filter(lambda x: x[\"business\"] == \"自己\", #reversed(chat_contents)), None)\n",
    "\n",
    "message = None\n",
    "time_diff = 0\n",
    "if message:\n",
    "    time_diff = int(\n",
    "        (datetime.now() - datetime.strptime(message['sender_time'], \"%Y-%m-%d %H:%M:%S\")).total_seconds() / 60)\n",
    "interval = 2\n",
    "need_send = time_diff >= int(interval)"
   ]
  },
  {
   "cell_type": "code",
   "outputs": [
    {
     "data": {
      "text/plain": "False"
     },
     "execution_count": 4,
     "metadata": {},
     "output_type": "execute_result"
    }
   ],
   "source": [
    "need_send"
   ],
   "metadata": {
    "collapsed": false,
    "ExecuteTime": {
     "end_time": "2024-08-14T08:44:04.064631Z",
     "start_time": "2024-08-14T08:44:04.053158Z"
    }
   },
   "id": "353af48895bf67c7",
   "execution_count": 4
  },
  {
   "cell_type": "code",
   "outputs": [],
   "source": [],
   "metadata": {
    "collapsed": false
   },
   "id": "232acdb6767a8fca"
  }
 ],
 "metadata": {
  "kernelspec": {
   "display_name": "Python 3",
   "language": "python",
   "name": "python3"
  },
  "language_info": {
   "codemirror_mode": {
    "name": "ipython",
    "version": 2
   },
   "file_extension": ".py",
   "mimetype": "text/x-python",
   "name": "python",
   "nbconvert_exporter": "python",
   "pygments_lexer": "ipython2",
   "version": "2.7.6"
  }
 },
 "nbformat": 4,
 "nbformat_minor": 5
}
