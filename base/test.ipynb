{
 "cells": [
  {
   "cell_type": "code",
   "execution_count": 3,
   "id": "b10835061c31ea74",
   "metadata": {
    "collapsed": false,
    "ExecuteTime": {
     "end_time": "2024-10-28T06:23:07.883178Z",
     "start_time": "2024-10-28T06:23:07.876991Z"
    }
   },
   "outputs": [],
   "source": [
    "from datetime import datetime"
   ]
  },
  {
   "cell_type": "code",
   "outputs": [],
   "source": [
    "\n",
    "# import datetime\n",
    "\n",
    "#message = next(filter(lambda x: x[\"business\"] == \"自己\", #reversed(chat_contents)), None)\n",
    "\n",
    "message = {'sender_time': '2024-8-14 18:40:00'}\n",
    "time_diff = 0\n",
    "if message:\n",
    "    time_diff = int(\n",
    "        (datetime.now() - datetime.strptime(message['sender_time'], \"%Y-%m-%d %H:%M:%S\")).total_seconds() / 60)\n",
    "interval = 2 / 60\n",
    "need_send = time_diff >= int(interval)"
   ],
   "metadata": {
    "collapsed": true,
    "ExecuteTime": {
     "end_time": "2024-08-14T10:39:07.527269Z",
     "start_time": "2024-08-14T10:39:07.524033Z"
    }
   },
   "id": "initial_id",
   "execution_count": 20
  },
  {
   "cell_type": "code",
   "outputs": [
    {
     "data": {
      "text/plain": "True"
     },
     "execution_count": 21,
     "metadata": {},
     "output_type": "execute_result"
    }
   ],
   "source": [
    "need_send"
   ],
   "metadata": {
    "collapsed": false,
    "ExecuteTime": {
     "end_time": "2024-08-14T10:39:08.782171Z",
     "start_time": "2024-08-14T10:39:08.778204Z"
    }
   },
   "id": "353af48895bf67c7",
   "execution_count": 21
  },
  {
   "cell_type": "code",
   "outputs": [
    {
     "data": {
      "text/plain": "0"
     },
     "execution_count": 22,
     "metadata": {},
     "output_type": "execute_result"
    }
   ],
   "source": [
    "time_diff"
   ],
   "metadata": {
    "collapsed": false,
    "ExecuteTime": {
     "end_time": "2024-08-14T10:39:13.404184Z",
     "start_time": "2024-08-14T10:39:13.398307Z"
    }
   },
   "id": "232acdb6767a8fca",
   "execution_count": 22
  },
  {
   "cell_type": "code",
   "outputs": [
    {
     "name": "stdout",
     "output_type": "stream",
     "text": [
      "时间差（秒）： 243.044128\n"
     ]
    }
   ],
   "source": [
    "from datetime import datetime\n",
    "\n",
    "message = {'sender_time': '2024-8-14 18:35:00'}\n",
    "if message:\n",
    "    current_time = datetime.now()\n",
    "    sender_time = datetime.strptime(message['sender_time'], \"%Y-%m-%d %H:%M:%S\")\n",
    "    time_diff = (current_time - sender_time).total_seconds()\n",
    "    print(\"时间差（秒）：\", time_diff)"
   ],
   "metadata": {
    "collapsed": false,
    "ExecuteTime": {
     "end_time": "2024-08-14T10:39:03.052709Z",
     "start_time": "2024-08-14T10:39:03.045632Z"
    }
   },
   "id": "f749b8cd0f0002c3",
   "execution_count": 19
  },
  {
   "cell_type": "code",
   "outputs": [
    {
     "name": "stdout",
     "output_type": "stream",
     "text": [
      "工作时间 周一、三（19-24点）: 不在工作时间内\n",
      "工作时间 周二、四（9-24点）: 不在工作时间内\n",
      "工作时间 周五、六、日（9-24点）: 不在工作时间内\n",
      "工作时间 周六、日（9-24点）: 不在工作时间内\n",
      "工作时间 周二、四（9-24点）: 不在工作时间内\n"
     ]
    }
   ],
   "source": [
    "def is_work_time(work_time: str) -> bool:\n",
    "    \"\"\"\n",
    "    判断当前时间是否在工作时间范围内\n",
    "    \n",
    "    Args:\n",
    "        work_time: 格式如 \"周二、四（9-24点）\" 或 \"周五、六、日（9-24点）\"\n",
    "    Returns:\n",
    "        bool: 是否在工作时间内\n",
    "    \"\"\"\n",
    "    # 获取当前时间\n",
    "    now = datetime.now()\n",
    "    current_hour = now.hour\n",
    "    current_weekday = now.weekday() + 1  # 转换为 1-7，对应周一到周日\n",
    "\n",
    "    # 解析工作时间字符串\n",
    "    days_part = work_time.split('（')[0].replace('周', '')\n",
    "    time_part = work_time.split('（')[1].replace('点）', '')\n",
    "\n",
    "    # 解析工作日\n",
    "    work_days = []\n",
    "    weekday_map = {'一': 1, '二': 2, '三': 3, '四': 4, '五': 5, '六': 6, '日': 7}\n",
    "\n",
    "    # 处理类似 \"二、四\" 的格式\n",
    "    day_parts = days_part.split('、')\n",
    "    for day in day_parts:\n",
    "        work_days.append(weekday_map[day])\n",
    "\n",
    "    # 解析工作时间\n",
    "    start_hour, end_hour = map(int, time_part.split('-'))\n",
    "\n",
    "    # 判断当前是否在工作时间内\n",
    "    is_work_day = current_weekday in work_days\n",
    "    is_work_hour = start_hour <= current_hour < end_hour\n",
    "\n",
    "    return is_work_day and is_work_hour\n",
    "\n",
    "\n",
    "# 使用示例：\n",
    "if __name__ == '__main__':\n",
    "    # 测试用例\n",
    "    test_times = [\n",
    "        '周一、三（19-24点）',\n",
    "        \"周二、四（9-24点）\",\n",
    "        \"周五、六、日（9-24点）\",\n",
    "        '周六、日（9-24点）',\n",
    "        '周二、四（9-24点）',\n",
    "    ]\n",
    "\n",
    "    for work_time in test_times:\n",
    "        result = is_work_time(work_time)\n",
    "        print(f\"工作时间 {work_time}: {'在工作时间内' if result else '不在工作时间内'}\")"
   ],
   "metadata": {
    "collapsed": false,
    "ExecuteTime": {
     "end_time": "2024-10-28T06:27:33.245970Z",
     "start_time": "2024-10-28T06:27:33.238580Z"
    }
   },
   "id": "ab4764c14ea3be6a",
   "execution_count": 10
  },
  {
   "cell_type": "code",
   "outputs": [
    {
     "name": "stdout",
     "output_type": "stream",
     "text": [
      "\n",
      "        INSERT INTO `youxiake_h5`.`h5_targeted_activity` \n",
      "        (`company_id`, `product_id`, `batch_id`, `title`, `cover_url`, `deleted_status`) \n",
      "        VALUES (18, 55987, 4087304, '西湖十景·御碑打卡 | 线下SOLO徒步定向', '', 0);\n",
      "        \n",
      "\n",
      "            INSERT INTO `youxiake_h5`.`h5_targeted_activity_point` \n",
      "            (`activity_id`, `title`, `address`, `cover_url`, `longitude`, `latitude`, `sort`, `deleted_status`) \n",
      "            VALUES (4087304, '断桥残雪', '杭州市西湖区白堤西湖风景区断桥残雪碑亭', 'https://qimg4.youxiake.com/upload/202410/28/3fa839385db528d2.jpg', 120.152089, 30.259170, 1, 0);\n",
      "            \n",
      "\n",
      "            INSERT INTO `youxiake_h5`.`h5_targeted_activity_point` \n",
      "            (`activity_id`, `title`, `address`, `cover_url`, `longitude`, `latitude`, `sort`, `deleted_status`) \n",
      "            VALUES (4087304, '平湖秋月', '浙江省杭州市西湖区西湖风景名胜区平湖秋月碑亭', 'https://qimg4.youxiake.com/upload/202410/28/d3a41e57f13e67b1.jpg', 120.146142, 30.252244, 2, 0);\n",
      "            \n",
      "\n",
      "            INSERT INTO `youxiake_h5`.`h5_targeted_activity_point` \n",
      "            (`activity_id`, `title`, `address`, `cover_url`, `longitude`, `latitude`, `sort`, `deleted_status`) \n",
      "            VALUES (4087304, '曲院风荷', '浙江省杭州市西湖区北山街89号曲院风荷碑亭', 'https://qimg4.youxiake.com/upload/202410/28/2de39f7fcc8614f8.jpg', 120.135534, 30.251137, 3, 0);\n",
      "            \n",
      "\n",
      "            INSERT INTO `youxiake_h5`.`h5_targeted_activity_point` \n",
      "            (`activity_id`, `title`, `address`, `cover_url`, `longitude`, `latitude`, `sort`, `deleted_status`) \n",
      "            VALUES (4087304, '双峰插云', '浙江省杭州市西湖区龙井路1号西湖风景区内双峰插云', 'https://qimg4.youxiake.com/upload/202410/28/5c495d72bf36854b.jpg', 120.122581, 30.247511, 4, 0);\n",
      "            \n",
      "\n",
      "            INSERT INTO `youxiake_h5`.`h5_targeted_activity_point` \n",
      "            (`activity_id`, `title`, `address`, `cover_url`, `longitude`, `latitude`, `sort`, `deleted_status`) \n",
      "            VALUES (4087304, '苏堤春晓', '浙江省杭州市西湖区苏堤春晓碑亭', 'https://qimg4.youxiake.com/upload/202410/28/5b6d56c294918a0a.jpg', 120.137960, 30.243880, 5, 0);\n",
      "            \n",
      "\n",
      "            INSERT INTO `youxiake_h5`.`h5_targeted_activity_point` \n",
      "            (`activity_id`, `title`, `address`, `cover_url`, `longitude`, `latitude`, `sort`, `deleted_status`) \n",
      "            VALUES (4087304, '花港观鱼', '杭州市西湖区南山路南端与苏堤之间花港观鱼东门碑亭', 'https://qimg4.youxiake.com/upload/202410/28/43de7fb62621b4e3.jpg', 120.142201, 30.231983, 6, 0);\n",
      "            \n",
      "\n",
      "            INSERT INTO `youxiake_h5`.`h5_targeted_activity_point` \n",
      "            (`activity_id`, `title`, `address`, `cover_url`, `longitude`, `latitude`, `sort`, `deleted_status`) \n",
      "            VALUES (4087304, '南屏晚钟', '浙江省杭州市西湖街道南山路55号净慈寺南屏晚钟碑亭', 'https://qimg4.youxiake.com/upload/202410/28/e49e640eb4d24ab4.jpg', 120.149130, 30.229534, 7, 0);\n",
      "            \n",
      "\n",
      "            INSERT INTO `youxiake_h5`.`h5_targeted_activity_point` \n",
      "            (`activity_id`, `title`, `address`, `cover_url`, `longitude`, `latitude`, `sort`, `deleted_status`) \n",
      "            VALUES (4087304, '雷峰夕照', '浙江省杭州市西湖街道南山路15号雷峰塔景区内(北侧)雷峰夕照', 'https://qimg4.youxiake.com/upload/202410/28/34de24d04c1b329e.jpg', 120.148835, 30.231725, 8, 0);\n",
      "            \n",
      "\n",
      "            INSERT INTO `youxiake_h5`.`h5_targeted_activity_point` \n",
      "            (`activity_id`, `title`, `address`, `cover_url`, `longitude`, `latitude`, `sort`, `deleted_status`) \n",
      "            VALUES (4087304, '柳浪闻莺', '杭州市上城区清波桥河下4号柳浪闻莺碑亭', 'https://qimg4.youxiake.com/upload/202410/28/d471e05a46823d1f.jpg', 120.157703, 30.243503, 9, 0);\n",
      "            \n",
      "\n",
      "            INSERT INTO `youxiake_h5`.`h5_targeted_activity_point` \n",
      "            (`activity_id`, `title`, `address`, `cover_url`, `longitude`, `latitude`, `sort`, `deleted_status`) \n",
      "            VALUES (4087304, '三潭印月', '杭州市西湖区龙井路1号西湖景区小瀛洲岛内三潭印月御碑亭', 'https://qimg4.youxiake.com/upload/202410/28/9998f37a09d1d8df.jpg', 120.145080, 30.237793, 10, 0);\n",
      "            \n"
     ]
    }
   ],
   "source": [],
   "metadata": {
    "collapsed": false,
    "ExecuteTime": {
     "end_time": "2024-10-29T03:19:43.156093Z",
     "start_time": "2024-10-29T03:19:43.123174Z"
    }
   },
   "id": "a954d27c50216f30",
   "execution_count": 1
  },
  {
   "cell_type": "code",
   "outputs": [],
   "source": [],
   "metadata": {
    "collapsed": false
   },
   "id": "296576e037b8f495"
  }
 ],
 "metadata": {
  "kernelspec": {
   "display_name": "Python 3",
   "language": "python",
   "name": "python3"
  },
  "language_info": {
   "codemirror_mode": {
    "name": "ipython",
    "version": 2
   },
   "file_extension": ".py",
   "mimetype": "text/x-python",
   "name": "python",
   "nbconvert_exporter": "python",
   "pygments_lexer": "ipython2",
   "version": "2.7.6"
  }
 },
 "nbformat": 4,
 "nbformat_minor": 5
}
