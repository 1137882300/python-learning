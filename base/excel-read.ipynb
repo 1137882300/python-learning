{
 "cells": [
  {
   "cell_type": "markdown",
   "source": [
    "Code #1 : Read an excel file using read_excel() method of pandas. "
   ],
   "metadata": {
    "collapsed": false
   },
   "id": "e3116e869bb8e054"
  },
  {
   "cell_type": "markdown",
   "source": [
    "Code #2 : Reading Specific Sheets using ‘sheet_name’ of read_excel() method. "
   ],
   "metadata": {
    "collapsed": false
   },
   "id": "9f9b3932b8e264e3"
  },
  {
   "cell_type": "code",
   "execution_count": null,
   "id": "initial_id",
   "metadata": {
    "collapsed": true
   },
   "outputs": [],
   "source": [
    "import pandas as pd\n",
    "\n",
    "# read 2nd sheet of an excel file\n",
    "dataframe2 = pd.read_excel('SampleWork.xlsx', sheet_name=1)\n",
    "\n",
    "print(dataframe2)"
   ]
  },
  {
   "cell_type": "markdown",
   "source": [
    "Code #3 : Reading Specific Columns using ‘usecols’ parameter of read_excel() method. "
   ],
   "metadata": {
    "collapsed": false
   },
   "id": "246d16135ea8e204"
  },
  {
   "cell_type": "code",
   "outputs": [],
   "source": [
    "# import pandas lib as pd\n",
    "import pandas as pd\n",
    "\n",
    "require_cols = [0, 3]\n",
    "\n",
    "# only read specific columns from an excel file\n",
    "required_df = pd.read_excel('SampleWork.xlsx', usecols=require_cols)\n",
    "\n",
    "print(required_df)"
   ],
   "metadata": {
    "collapsed": false
   },
   "id": "4b661b12f302e623"
  },
  {
   "cell_type": "markdown",
   "source": [
    "Code #4 : Handling missing data using ‘na_values’ parameter of the read_excel() method. "
   ],
   "metadata": {
    "collapsed": false
   },
   "id": "aea72199bd4cf1ae"
  },
  {
   "cell_type": "code",
   "outputs": [],
   "source": [
    "# import pandas lib as pd\n",
    "import pandas as pd\n",
    "\n",
    "# Handling missing values of 3rd sheet of an excel file.\n",
    "dataframe = pd.read_excel('SampleWork.xlsx', na_values=\"Missing\",\n",
    "                          sheet_name=2)\n",
    "\n",
    "print(dataframe)\n"
   ],
   "metadata": {
    "collapsed": false
   },
   "id": "21087766d9af8bd5"
  },
  {
   "cell_type": "markdown",
   "source": [
    "Code #5 : Skip starting rows when Reading an Excel File using ‘skiprows’ parameter of read_excel() method. \n"
   ],
   "metadata": {
    "collapsed": false
   },
   "id": "62650990ae6de843"
  },
  {
   "cell_type": "code",
   "outputs": [],
   "source": [
    "# import pandas lib as pd\n",
    "import pandas as pd\n",
    "\n",
    "# read 2nd sheet of an excel file after\n",
    "# skipping starting two rows \n",
    "df = pd.read_excel('SampleWork.xlsx', sheet_name=1, skiprows=2)\n",
    "\n",
    "print(df)"
   ],
   "metadata": {
    "collapsed": false
   },
   "id": "ad1e69dde1f97601"
  },
  {
   "cell_type": "markdown",
   "source": [
    "Code #6 : Set the header to any row and start reading from that row, using ‘header’ parameter of the read_excel() method. "
   ],
   "metadata": {
    "collapsed": false
   },
   "id": "56b42b44453817b1"
  },
  {
   "cell_type": "code",
   "outputs": [],
   "source": [
    "# import pandas lib as pd\n",
    "import pandas as pd\n",
    "\n",
    "# setting the 3rd row as header.\n",
    "df = pd.read_excel('SampleWork.xlsx', sheet_name=1, header=2)\n",
    "\n",
    "print(df)"
   ],
   "metadata": {
    "collapsed": false
   },
   "id": "4c5eb7a318e87c08"
  },
  {
   "cell_type": "markdown",
   "source": [
    "Code #7 : Reading Multiple Excel Sheets using ‘sheet_name’ parameter of the read_excel()method. "
   ],
   "metadata": {
    "collapsed": false
   },
   "id": "6ba39c46b810c000"
  },
  {
   "cell_type": "code",
   "outputs": [],
   "source": [
    "# import pandas lib as pd\n",
    "import pandas as pd\n",
    "\n",
    "# read both 1st and 2nd sheet.\n",
    "df = pd.read_excel('SampleWork.xlsx', na_values=\"Missing\",\n",
    "                   sheet_name=[0, 1])\n",
    "\n",
    "print(df)"
   ],
   "metadata": {
    "collapsed": false
   },
   "id": "84ec8fe0aff76d9"
  },
  {
   "cell_type": "markdown",
   "source": [
    "Code #8 : Reading all Sheets of the excel file together using ‘sheet_name’ parameter of the read_excel() method. "
   ],
   "metadata": {
    "collapsed": false
   },
   "id": "29f5b2b1dea29e9"
  },
  {
   "cell_type": "code",
   "outputs": [],
   "source": [
    "# import pandas lib as pd\n",
    "import pandas as pd\n",
    "\n",
    "# read all sheets together.\n",
    "all_sheets_df = pd.read_excel('SampleWork.xlsx', na_values=\"Missing\",\n",
    "                              sheet_name=None)\n",
    "\n",
    "print(all_sheets_df)"
   ],
   "metadata": {
    "collapsed": false
   },
   "id": "dcfcde411132829d"
  }
 ],
 "metadata": {
  "kernelspec": {
   "display_name": "Python 3",
   "language": "python",
   "name": "python3"
  },
  "language_info": {
   "codemirror_mode": {
    "name": "ipython",
    "version": 2
   },
   "file_extension": ".py",
   "mimetype": "text/x-python",
   "name": "python",
   "nbconvert_exporter": "python",
   "pygments_lexer": "ipython2",
   "version": "2.7.6"
  }
 },
 "nbformat": 4,
 "nbformat_minor": 5
}
