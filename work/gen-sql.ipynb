{
 "cells": [
  {
   "cell_type": "code",
   "execution_count": 2,
   "id": "initial_id",
   "metadata": {
    "collapsed": true,
    "ExecuteTime": {
     "end_time": "2024-09-13T09:56:34.488719Z",
     "start_time": "2024-09-13T09:56:34.481652Z"
    }
   },
   "outputs": [
    {
     "name": "stdout",
     "output_type": "stream",
     "text": [
      "SQL 文件已生成：generated_sql.sql\n"
     ]
    }
   ],
   "source": [
    "import os\n",
    "\n",
    "associate_ids = [\n",
    "    20228, 22982, 23315, 22975, 23707, 23166, 23573, 23072, 23937, 23000, 23219, 23322, 23129, 23232, 23592, 23141,\n",
    "    23935, 20220, 23854, 23154, 21127, 23062, 23851, 10762, 23585, 22977, 23064, 23297, 23944, 23477, 23221, 23135,\n",
    "    23311, 20208, 23289, 23199, 23261, 242172, 242162, 23276, 22957, 23174, 23082, 23191, 23180, 23269, 23304, 23151,\n",
    "    22920, 23253, 23305, 23066, 23493, 23567, 10683, 22805, 23581, 22970, 23080, 23568, 23146, 23231, 23115, 23258,\n",
    "    23108, 23182, 23324, 23058, 16262, 23010, 23945, 23134, 23091, 23703, 23099, 242156, 23855, 23104, 242169, 242165,\n",
    "    23298, 23070, 23243, 23052, 23565, 23096, 23046, 23158, 23241, 23702, 23575, 23934, 23113, 23157, 23038, 23590,\n",
    "    23852, 16261, 23497, 23496, 23240, 23712, 23264, 23170, 22986, 23194, 23050, 23302, 23487, 23943, 23122, 23176,\n",
    "    10682, 23252, 23175, 23075, 23292, 22637, 242159, 23192, 23569, 23095, 23293, 23254, 23484, 23275, 23283, 23056,\n",
    "    10861, 20223, 23320, 23589, 23938, 22983, 23270, 23087, 23284, 23591, 242171, 23216, 23049, 23570, 23562, 242180,\n",
    "    23011, 23132, 23588, 23735, 23248, 16265, 23313, 23488, 23301, 23495, 23244, 16273, 23576, 23206, 23236, 23267,\n",
    "    242168, 23709, 23188, 23245, 23076, 10539, 23051, 23009, 23074, 23280, 23708, 23163, 23572, 23017, 23300, 23239,\n",
    "    23193, 20206, 23092, 23197, 242164, 23857, 23246, 22948, 23081, 10503, 23587, 23278, 23220, 22759, 22931, 23014,\n",
    "    242179, 16267, 23088, 23205, 23479, 20236, 22953, 23940, 20441, 23228, 23256, 242178, 12267, 23230, 23186, 23222,\n",
    "    23198, 10676, 23053, 23582, 23161, 23936, 23306, 23213, 23486, 242175, 23226, 23054, 23285, 16274, 23067, 23111,\n",
    "    242170, 23189, 23566, 23247, 242173, 23942, 23710, 23150, 242167, 10675, 20235, 23578, 23215, 23947, 23202, 16263,\n",
    "    23494, 10684, 242177, 23319, 23225, 23939, 23933, 23295, 23185, 23303, 10632, 10995, 16346, 22926, 242163, 23586,\n",
    "    23093, 23153, 23489, 20222, 23143, 23706, 23579, 23018, 10635, 23263, 23218, 22979, 23002, 22968, 9985, 23123,\n",
    "    10787, 16264, 23023, 23559, 23255, 23168, 23022, 23140, 23564, 23260, 23027, 23583, 20230, 23001, 23266, 23250,\n",
    "    23110, 23274, 23584, 20234, 23145, 23116, 23181, 23563, 23195, 20207, 23201, 23711, 23312, 23481, 23223, 23107,\n",
    "    23208, 20221, 23203, 23853, 23259, 23483, 242157, 23310, 23184, 23015, 10307, 23482, 23408, 23126, 23179, 11676,\n",
    "    23152, 23856, 23136, 23318, 23156, 23019, 23047, 23028, 23196, 242166, 242176, 23485, 23133, 23309, 23214, 23204,\n",
    "    20229, 23946, 23085, 23268, 23200, 11343, 23560, 23291, 23593, 23296, 23160, 23065, 23262, 22967, 23594, 242160,\n",
    "    23277, 23100, 23265, 23121, 23048, 23286, 22943, 23055, 23059, 23571, 23045, 20205, 23128, 20226, 23057, 23167,\n",
    "    23323, 23073, 23580, 23577, 23112, 242174, 23273, 23209, 23229, 23120\n",
    "]\n",
    "sql_statements = []\n",
    "for associate_id in associate_ids:\n",
    "    sql_statements.append(\n",
    "        f\"INSERT INTO \\\"public\\\".\\\"tag_rel\\\" (\\\"tag_id\\\", \\\"associate_id\\\", \\\"type\\\") VALUES (145, {associate_id}, '1');\")\n",
    "\n",
    "sql_content = '\\n'.join(sql_statements)\n",
    "\n",
    "# 指定生成的 SQL 文件路径和名称\n",
    "sql_file_path = 'generated_sql2.sql'\n",
    "\n",
    "# 将 SQL 内容写入文件\n",
    "with open(sql_file_path, 'w') as file:\n",
    "    file.write(sql_content)\n",
    "\n",
    "print(f\"SQL 文件已生成：{sql_file_path}\")"
   ]
  },
  {
   "cell_type": "code",
   "outputs": [
    {
     "name": "stdout",
     "output_type": "stream",
     "text": [
      "[\"\\n        INSERT INTO `youxiake_h5`.`h5_targeted_activity` \\n        (`company_id`, `product_id`, `batch_id`, `title`, `cover_url`, `deleted_status`) \\n        VALUES (18, 55987, 4087304, '西湖十景·御碑打卡 | 线下SOLO徒步定向', '', 0);\\n        \", \"\\n            INSERT INTO `youxiake_h5`.`h5_targeted_activity_point` \\n            (`activity_id`, `title`, `address`, `cover_url`, `longitude`, `latitude`, `sort`, `deleted_status`) \\n            VALUES (4087304, '断桥残雪', '杭州市西湖区白堤西湖风景区断桥残雪碑亭', 'https://qimg4.youxiake.com/upload/202410/28/3fa839385db528d2.jpg', 120.152089, 30.259170, 1, 0);\\n            \", \"\\n            INSERT INTO `youxiake_h5`.`h5_targeted_activity_point` \\n            (`activity_id`, `title`, `address`, `cover_url`, `longitude`, `latitude`, `sort`, `deleted_status`) \\n            VALUES (4087304, '平湖秋月', '浙江省杭州市西湖区西湖风景名胜区平湖秋月碑亭', 'https://qimg4.youxiake.com/upload/202410/28/d3a41e57f13e67b1.jpg', 120.146142, 30.252244, 2, 0);\\n            \", \"\\n            INSERT INTO `youxiake_h5`.`h5_targeted_activity_point` \\n            (`activity_id`, `title`, `address`, `cover_url`, `longitude`, `latitude`, `sort`, `deleted_status`) \\n            VALUES (4087304, '曲院风荷', '浙江省杭州市西湖区北山街89号曲院风荷碑亭', 'https://qimg4.youxiake.com/upload/202410/28/2de39f7fcc8614f8.jpg', 120.135534, 30.251137, 3, 0);\\n            \", \"\\n            INSERT INTO `youxiake_h5`.`h5_targeted_activity_point` \\n            (`activity_id`, `title`, `address`, `cover_url`, `longitude`, `latitude`, `sort`, `deleted_status`) \\n            VALUES (4087304, '双峰插云', '浙江省杭州市西湖区龙井路1号西湖风景区内双峰插云', 'https://qimg4.youxiake.com/upload/202410/28/5c495d72bf36854b.jpg', 120.122581, 30.247511, 4, 0);\\n            \", \"\\n            INSERT INTO `youxiake_h5`.`h5_targeted_activity_point` \\n            (`activity_id`, `title`, `address`, `cover_url`, `longitude`, `latitude`, `sort`, `deleted_status`) \\n            VALUES (4087304, '苏堤春晓', '浙江省杭州市西湖区苏堤春晓碑亭', 'https://qimg4.youxiake.com/upload/202410/28/5b6d56c294918a0a.jpg', 120.137960, 30.243880, 5, 0);\\n            \", \"\\n            INSERT INTO `youxiake_h5`.`h5_targeted_activity_point` \\n            (`activity_id`, `title`, `address`, `cover_url`, `longitude`, `latitude`, `sort`, `deleted_status`) \\n            VALUES (4087304, '花港观鱼', '杭州市西湖区南山路南端与苏堤之间花港观鱼东门碑亭', 'https://qimg4.youxiake.com/upload/202410/28/43de7fb62621b4e3.jpg', 120.142201, 30.231983, 6, 0);\\n            \", \"\\n            INSERT INTO `youxiake_h5`.`h5_targeted_activity_point` \\n            (`activity_id`, `title`, `address`, `cover_url`, `longitude`, `latitude`, `sort`, `deleted_status`) \\n            VALUES (4087304, '南屏晚钟', '浙江省杭州市西湖街道南山路55号净慈寺南屏晚钟碑亭', 'https://qimg4.youxiake.com/upload/202410/28/e49e640eb4d24ab4.jpg', 120.149130, 30.229534, 7, 0);\\n            \", \"\\n            INSERT INTO `youxiake_h5`.`h5_targeted_activity_point` \\n            (`activity_id`, `title`, `address`, `cover_url`, `longitude`, `latitude`, `sort`, `deleted_status`) \\n            VALUES (4087304, '雷峰夕照', '浙江省杭州市西湖街道南山路15号雷峰塔景区内(北侧)雷峰夕照', 'https://qimg4.youxiake.com/upload/202410/28/34de24d04c1b329e.jpg', 120.148835, 30.231725, 8, 0);\\n            \", \"\\n            INSERT INTO `youxiake_h5`.`h5_targeted_activity_point` \\n            (`activity_id`, `title`, `address`, `cover_url`, `longitude`, `latitude`, `sort`, `deleted_status`) \\n            VALUES (4087304, '柳浪闻莺', '杭州市上城区清波桥河下4号柳浪闻莺碑亭', 'https://qimg4.youxiake.com/upload/202410/28/d471e05a46823d1f.jpg', 120.157703, 30.243503, 9, 0);\\n            \", \"\\n            INSERT INTO `youxiake_h5`.`h5_targeted_activity_point` \\n            (`activity_id`, `title`, `address`, `cover_url`, `longitude`, `latitude`, `sort`, `deleted_status`) \\n            VALUES (4087304, '三潭印月', '杭州市西湖区龙井路1号西湖景区小瀛洲岛内三潭印月御碑亭', 'https://qimg4.youxiake.com/upload/202410/28/9998f37a09d1d8df.jpg', 120.145080, 30.237793, 10, 0);\\n            \"]\n"
     ]
    }
   ],
   "source": [
    "def generate_sql(product_ids, batch_ids):\n",
    "    sql_statements = []\n",
    "\n",
    "    # INSERT for h5_targeted_activity\n",
    "    for product_id, batch_id in zip(product_ids, batch_ids):\n",
    "        activity_sql = f\"\"\"\n",
    "        INSERT INTO `youxiake_h5`.`h5_targeted_activity` \n",
    "        (`company_id`, `product_id`, `batch_id`, `title`, `cover_url`, `deleted_status`) \n",
    "        VALUES (18, {product_id}, {batch_id}, '西湖十景·御碑打卡 | 线下SOLO徒步定向', '', 0);\n",
    "        \"\"\"\n",
    "        sql_statements.append(activity_sql)\n",
    "\n",
    "        # INSERT for h5_targeted_activity_point\n",
    "        points = [\n",
    "            ('断桥残雪', '杭州市西湖区白堤西湖风景区断桥残雪碑亭', '120.152089', '30.259170',\n",
    "             'https://qimg4.youxiake.com/upload/202410/28/3fa839385db528d2.jpg', 1),\n",
    "            ('平湖秋月', '浙江省杭州市西湖区西湖风景名胜区平湖秋月碑亭', '120.146142', '30.252244',\n",
    "             'https://qimg4.youxiake.com/upload/202410/28/d3a41e57f13e67b1.jpg', 2),\n",
    "            ('曲院风荷', '浙江省杭州市西湖区北山街89号曲院风荷碑亭', '120.135534', '30.251137',\n",
    "             'https://qimg4.youxiake.com/upload/202410/28/2de39f7fcc8614f8.jpg', 3),\n",
    "            ('双峰插云', '浙江省杭州市西湖区龙井路1号西湖风景区内双峰插云', '120.122581', '30.247511',\n",
    "             'https://qimg4.youxiake.com/upload/202410/28/5c495d72bf36854b.jpg', 4),\n",
    "            ('苏堤春晓', '浙江省杭州市西湖区苏堤春晓碑亭', '120.137960', '30.243880',\n",
    "             'https://qimg4.youxiake.com/upload/202410/28/5b6d56c294918a0a.jpg', 5),\n",
    "            ('花港观鱼', '杭州市西湖区南山路南端与苏堤之间花港观鱼东门碑亭', '120.142201', '30.231983',\n",
    "             'https://qimg4.youxiake.com/upload/202410/28/43de7fb62621b4e3.jpg', 6),\n",
    "            ('南屏晚钟', '浙江省杭州市西湖街道南山路55号净慈寺南屏晚钟碑亭', '120.149130', '30.229534',\n",
    "             'https://qimg4.youxiake.com/upload/202410/28/e49e640eb4d24ab4.jpg', 7),\n",
    "            ('雷峰夕照', '浙江省杭州市西湖街道南山路15号雷峰塔景区内(北侧)雷峰夕照', '120.148835', '30.231725',\n",
    "             'https://qimg4.youxiake.com/upload/202410/28/34de24d04c1b329e.jpg', 8),\n",
    "            ('柳浪闻莺', '杭州市上城区清波桥河下4号柳浪闻莺碑亭', '120.157703', '30.243503',\n",
    "             'https://qimg4.youxiake.com/upload/202410/28/d471e05a46823d1f.jpg', 9),\n",
    "            ('三潭印月', '杭州市西湖区龙井路1号西湖景区小瀛洲岛内三潭印月御碑亭', '120.145080', '30.237793',\n",
    "             'https://qimg4.youxiake.com/upload/202410/28/9998f37a09d1d8df.jpg', 10)\n",
    "        ]\n",
    "\n",
    "        for index, (title, address, longitude, latitude, cover_url, sort) in enumerate(points, start=1):\n",
    "            point_sql = f\"\"\"\n",
    "            INSERT INTO `youxiake_h5`.`h5_targeted_activity_point` \n",
    "            (`activity_id`, `title`, `address`, `cover_url`, `longitude`, `latitude`, `sort`, `deleted_status`) \n",
    "            VALUES ({batch_id}, '{title}', '{address}', '{cover_url}', {longitude}, {latitude}, {sort}, 0);\n",
    "            \"\"\"\n",
    "            sql_statements.append(point_sql)\n",
    "\n",
    "    return sql_statements\n",
    "\n",
    "\n",
    "# Example usage\n",
    "product_ids = [55987]  # Add more product IDs as needed\n",
    "batch_ids = [4087304]  # Add corresponding batch IDs\n",
    "resulting_sql = generate_sql(product_ids, batch_ids)\n",
    "print(resulting_sql)"
   ],
   "metadata": {
    "collapsed": false,
    "ExecuteTime": {
     "end_time": "2024-10-29T03:24:14.440737Z",
     "start_time": "2024-10-29T03:24:14.428121Z"
    }
   },
   "id": "ce47f276783e6e4b",
   "execution_count": 5
  },
  {
   "cell_type": "code",
   "outputs": [
    {
     "name": "stdout",
     "output_type": "stream",
     "text": [
      "SQL 文件已生成：target.sql\n"
     ]
    }
   ],
   "source": [
    "sql_content = '\\n'.join(resulting_sql)\n",
    "\n",
    "# 指定生成的 SQL 文件路径和名称\n",
    "sql_file_path = 'target.sql'\n",
    "\n",
    "# 将 SQL 内容写入文件\n",
    "with open(sql_file_path, 'w') as file:\n",
    "    file.write(sql_content)\n",
    "\n",
    "print(f\"SQL 文件已生成：{sql_file_path}\")"
   ],
   "metadata": {
    "collapsed": false,
    "ExecuteTime": {
     "end_time": "2024-10-29T03:24:17.852674Z",
     "start_time": "2024-10-29T03:24:17.847946Z"
    }
   },
   "id": "3e7557894d06c2a3",
   "execution_count": 6
  },
  {
   "cell_type": "code",
   "outputs": [],
   "source": [
    "def generate_sql_for_activity_ids(activity_ids):\n",
    "    template = (\n",
    "        \"INSERT INTO `youxiake_h5`.`h5_targeted_activity_point` \"\n",
    "        \"(`activity_id`, `title`, `address`, `cover_url`, `longitude`, `latitude`, `sort`, `deleted_status`) \"\n",
    "        \"VALUES ({activity_id}, '{title}', '{address}', '{cover_url}', {longitude}, {latitude}, {sort}, {deleted_status});\"\n",
    "    )\n",
    "\n",
    "    data = [\n",
    "        (\"断桥残雪\", \"杭州市西湖区白堤西湖风景区断桥残雪碑亭\",\n",
    "         \"https://qimg4.youxiake.com/upload/202410/28/3fa839385db528d2.jpg\", 120.152089, 30.259170, 1, 0),\n",
    "        (\"平湖秋月\", \"浙江省杭州市西湖区西湖风景名胜区平湖秋月碑亭\",\n",
    "         \"https://qimg4.youxiake.com/upload/202410/28/d3a41e57f13e67b1.jpg\", 120.146142, 30.252244, 2, 0),\n",
    "        (\"曲院风荷\", \"浙江省杭州市西湖区北山街89号曲院风荷碑亭\",\n",
    "         \"https://qimg4.youxiake.com/upload/202410/28/2de39f7fcc8614f8.jpg\", 120.135534, 30.251137, 3, 0),\n",
    "        (\"双峰插云\", \"浙江省杭州市西湖区龙井路1号西湖风景区内双峰插云\",\n",
    "         \"https://qimg4.youxiake.com/upload/202410/28/5c495d72bf36854b.jpg\", 120.122581, 30.247511, 4, 0),\n",
    "        (\"苏堤春晓\", \"浙江省杭州市西湖区苏堤春晓碑亭\",\n",
    "         \"https://qimg4.youxiake.com/upload/202410/28/5b6d56c294918a0a.jpg\", 120.137960, 30.243880, 5, 0),\n",
    "        (\"花港观鱼\", \"杭州市西湖区南山路南端与苏堤之间花港观鱼东门碑亭\",\n",
    "         \"https://qimg4.youxiake.com/upload/202410/28/43de7fb62621b4e3.jpg\", 120.142201, 30.231983, 6, 0),\n",
    "        (\"南屏晚钟\", \"浙江省杭州市西湖街道南山路55号净慈寺南屏晚钟碑亭\",\n",
    "         \"https://qimg4.youxiake.com/upload/202410/28/e49e640eb4d24ab4.jpg\", 120.149130, 30.229534, 7, 0),\n",
    "        (\"雷峰夕照\", \"浙江省杭州市西湖街道南山路15号雷峰塔景区内(北侧)雷峰夕照\",\n",
    "         \"https://qimg4.youxiake.com/upload/202410/28/34de24d04c1b329e.jpg\", 120.148835, 30.231725, 8, 0),\n",
    "        (\"柳浪闻莺\", \"杭州市上城区清波桥河下4号柳浪闻莺碑亭\",\n",
    "         \"https://qimg4.youxiake.com/upload/202410/28/d471e05a46823d1f.jpg\", 120.157703, 30.243503, 9, 0),\n",
    "        (\"三潭印月\", \"杭州市西湖区龙井路1号西湖景区小瀛洲岛内三潭印月御碑亭\",\n",
    "         \"https://qimg4.youxiake.com/upload/202410/28/9998f37a09d1d8df.jpg\", 120.145080, 30.237793, 10, 0)\n",
    "    ]\n",
    "\n",
    "    sql_statements = []\n",
    "\n",
    "    for activity_id in activity_ids:\n",
    "        for title, address, cover_url, longitude, latitude, sort, deleted_status in data:\n",
    "            sql_statements.append(template.format(\n",
    "                activity_id=activity_id,\n",
    "                title=title,\n",
    "                address=address,\n",
    "                cover_url=cover_url,\n",
    "                longitude=longitude,\n",
    "                latitude=latitude,\n",
    "                sort=sort,\n",
    "                deleted_status=deleted_status\n",
    "            ))\n",
    "\n",
    "    return sql_statements\n",
    "\n",
    "\n",
    "# Example usage\n",
    "activity_ids = [1, 2, 3, 4, 5, 6]  # Add more activity IDs as needed\n",
    "sql_statements = generate_sql_for_activity_ids(activity_ids)"
   ],
   "metadata": {
    "collapsed": false,
    "ExecuteTime": {
     "end_time": "2024-10-29T03:49:29.838300Z",
     "start_time": "2024-10-29T03:49:29.829737Z"
    }
   },
   "id": "ec1261d3e48850bf",
   "execution_count": 7
  },
  {
   "cell_type": "code",
   "outputs": [
    {
     "name": "stdout",
     "output_type": "stream",
     "text": [
      "SQL 文件已生成：target.sql\n"
     ]
    }
   ],
   "source": [
    "sql_content = '\\n'.join(sql_statements)\n",
    "\n",
    "# 指定生成的 SQL 文件路径和名称\n",
    "sql_file_path = 'target.sql'\n",
    "\n",
    "# 将 SQL 内容写入文件\n",
    "with open(sql_file_path, 'w') as file:\n",
    "    file.write(sql_content)\n",
    "\n",
    "print(f\"SQL 文件已生成：{sql_file_path}\")"
   ],
   "metadata": {
    "collapsed": false,
    "ExecuteTime": {
     "end_time": "2024-10-29T03:49:31.209125Z",
     "start_time": "2024-10-29T03:49:31.202856Z"
    }
   },
   "id": "742ea19808041507",
   "execution_count": 8
  },
  {
   "cell_type": "code",
   "outputs": [],
   "source": [],
   "metadata": {
    "collapsed": false
   },
   "id": "fddb3a61d5997497"
  }
 ],
 "metadata": {
  "kernelspec": {
   "display_name": "Python 3",
   "language": "python",
   "name": "python3"
  },
  "language_info": {
   "codemirror_mode": {
    "name": "ipython",
    "version": 2
   },
   "file_extension": ".py",
   "mimetype": "text/x-python",
   "name": "python",
   "nbconvert_exporter": "python",
   "pygments_lexer": "ipython2",
   "version": "2.7.6"
  }
 },
 "nbformat": 4,
 "nbformat_minor": 5
}
