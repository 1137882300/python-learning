{
 "cells": [
  {
   "cell_type": "code",
   "execution_count": null,
   "id": "initial_id",
   "metadata": {
    "collapsed": true
   },
   "outputs": [],
   "source": [
    "import pandas as pd\n",
    "\n",
    "# /Users/pangmengting/Downloads/西湖区餐饮.xlsx\n",
    "# /Users/pangmengting/Downloads/POI.xlsx\n",
    "# 读取Excel文件\n",
    "df = pd.read_excel('/Users/pangmengting/Downloads/西湖区餐饮.xlsx')\n",
    "\n",
    "# 初始化SQL插入语句列表\n",
    "insert_statements = []\n",
    "\n",
    "# 遍历DataFrame中的每一行\n",
    "for index, row in df.iterrows():\n",
    "    # 提取每一列的数据\n",
    "    image_url = row['图片'].strip('[]').replace('\"', '')\n",
    "    title = row['标题'].strip('[]').replace('\"', '')\n",
    "    address = row['地址'].strip('[]').replace('\"', '')\n",
    "    description = row['描述'].strip('[]').replace('\"', '')\n",
    "\n",
    "    # 创建SQL插入语句\n",
    "    sql = f\"INSERT INTO your_table_name (image_url, title, address, description) VALUES ('{image_url}', '{title}', '{address}', '{description}');\"\n",
    "\n",
    "    # 将SQL语句添加到列表中\n",
    "    insert_statements.append(sql)\n",
    "\n",
    "# 打印所有SQL插入语句\n",
    "for statement in insert_statements:\n",
    "    print(statement)\n"
   ]
  },
  {
   "cell_type": "code",
   "outputs": [],
   "source": [
    "import pandas as pd\n",
    "\n",
    "# /Users/pangmengting/Downloads/西湖区餐饮.xlsx\n",
    "# /Users/pangmengting/Downloads/POI.xlsx\n",
    "\n",
    "path1 = '/Users/pangmengting/Downloads/POI.xlsx'\n",
    "path2 = '/Users/pangmengting/Downloads/西湖区餐饮.xlsx'\n",
    "\n",
    "# 读取Excel文件\n",
    "excel_file = path1\n",
    "\n",
    "# 获取Excel文件中所有工作表的名称\n",
    "sheet_names = pd.ExcelFile(excel_file).sheet_names\n",
    "\n",
    "# 初始化SQL插入语句列表\n",
    "insert_statements = []\n",
    "\n",
    "# 遍历所有工作表\n",
    "for sheet_name in sheet_names:\n",
    "    # 读取当前工作表\n",
    "    df = pd.read_excel(excel_file, sheet_name=sheet_name)\n",
    "\n",
    "    # 遍历工作表中的每一行\n",
    "    for index, row in df.iterrows():\n",
    "        # 提取每一列的数据\n",
    "        image_url = row['图片'].strip('[]').replace('\"', '')\n",
    "        title = row['标题'].strip('[]').replace('\"', '')\n",
    "        address = row['地址'].strip('[]').replace('\"', '')\n",
    "        description = row['描述'].strip('[]').replace('\"', '')\n",
    "\n",
    "        # 创建SQL插入语句\n",
    "        sql = f\"INSERT INTO your_table_name (image_url, title, address, description) VALUES ('{image_url}', '{title}', '{address}', '{description}');\"\n",
    "\n",
    "        # 将SQL语句添加到列表中\n",
    "        insert_statements.append(sql)\n",
    "\n",
    "# 打印所有SQL插入语句\n",
    "for statement in insert_statements:\n",
    "    print(statement)\n"
   ],
   "metadata": {
    "collapsed": false
   },
   "id": "4bd59f552ee25e89"
  },
  {
   "cell_type": "code",
   "outputs": [
    {
     "name": "stdout",
     "output_type": "stream",
     "text": [
      "['余杭区-烤肉', '上城区-甜品店', '临安区-江浙菜', '滨江区-火锅', '余杭区-粤菜', '西湖区-快餐店']\n"
     ]
    }
   ],
   "source": [
    "import pandas as pd\n",
    "\n",
    "# /Users/pangmengting/Downloads/西湖区餐饮.xlsx\n",
    "# /Users/pangmengting/Downloads/POI.xlsx\n",
    "\n",
    "path1 = '/Users/pangmengting/Downloads/POI.xlsx'\n",
    "path2 = '/Users/pangmengting/Downloads/西湖区餐饮.xlsx'\n",
    "\n",
    "# 读取Excel文件\n",
    "excel_file = path1\n",
    "\n",
    "# 获取Excel文件中所有工作表的名称\n",
    "sheet_names = pd.ExcelFile(excel_file).sheet_names\n",
    "print(sheet_names)"
   ],
   "metadata": {
    "collapsed": false,
    "ExecuteTime": {
     "end_time": "2024-05-29T10:15:58.591127Z",
     "start_time": "2024-05-29T10:15:58.472170Z"
    }
   },
   "id": "713bdcbb1edf6e45",
   "execution_count": 53
  },
  {
   "cell_type": "code",
   "outputs": [],
   "source": [
    "# 初始化SQL插入语句列表\n",
    "insert_poi_sql1 = []\n",
    "insert_poi_sql2 = []\n",
    "\n",
    "# poi_id = 240100\n",
    "# poi_res_id = 85830\n",
    "poi_id = 240705\n",
    "poi_res_id = 86435\n",
    "\n",
    "# 西湖区：330106\n",
    "# 临安区：330185\n",
    "# 余杭区：330110\n",
    "# 上城区：330102\n",
    "# 滨江区：330108\n",
    "\n",
    "# 遍历所有工作表\n",
    "for sheet_name in sheet_names:\n",
    "    # 读取当前工作表\n",
    "    df = pd.read_excel(excel_file, sheet_name=sheet_name)\n",
    "\n",
    "    if sheet_name == \"临安区-江浙菜\":\n",
    "        category_id = 64\n",
    "        county = 330185\n",
    "    elif sheet_name == \"上城区-甜品店\":\n",
    "        category_id = 66\n",
    "        county = 330102\n",
    "    elif sheet_name == \"余杭区-烤肉\":\n",
    "        county = 330110\n",
    "    elif sheet_name == \"余杭区-粤菜\":\n",
    "        county = 330110\n",
    "    elif sheet_name == \"滨江区-火锅\":\n",
    "        county = 330108\n",
    "    elif sheet_name == \"西湖区-快餐店\":\n",
    "        county = 330106\n",
    "    else:\n",
    "        category_id = 192\n",
    "        county = 330106\n",
    "\n",
    "    # 遍历工作表中的每一行\n",
    "    for index, row in df.iterrows():\n",
    "        poi_id += 1\n",
    "        poi_res_id += 1\n",
    "\n",
    "        sql = (\"INSERT INTO \\\"poi\\\" (\\\"id\\\", \\\"category_id\\\", \\\"name\\\", \\\"address\\\", \\\"introduction\\\",\\\"county\\\") \"\n",
    "               \"VALUES ({},{},'{}','{}','{}',{});\").format(poi_id, category_id,\n",
    "                                                           row[1].replace('标题:', '').strip('[]').replace('\"', ''),\n",
    "                                                           row[2].replace('地址:', '').strip('[]').replace('\"', ''),\n",
    "                                                           row[3].replace('\"', '').replace(' ', '').replace(\"\\n\", \"\"),\n",
    "                                                           county)\n",
    "        sql2 = (\"INSERT INTO \\\"poi_resource\\\" (\\\"id\\\", \\\"poi_id\\\", \\\"type\\\", \\\"url\\\")\" +\n",
    "                \"VALUES ({}, {}, '2', '{}');\").format(poi_res_id, poi_id,\n",
    "                                                      row[0].replace('图片:', '').strip('[]').replace('\"', '').replace(\n",
    "                                                          ' ', ''))\n",
    "\n",
    "        insert_poi_sql1.append(sql)\n",
    "        insert_poi_sql2.append(sql2)"
   ],
   "metadata": {
    "collapsed": false,
    "ExecuteTime": {
     "end_time": "2024-05-29T10:16:01.802061Z",
     "start_time": "2024-05-29T10:16:01.472422Z"
    }
   },
   "id": "66a4b0c52cbd64c7",
   "execution_count": 54
  },
  {
   "cell_type": "markdown",
   "source": [],
   "metadata": {
    "collapsed": false
   },
   "id": "f1b762858e13783e"
  },
  {
   "cell_type": "code",
   "outputs": [],
   "source": [
    "# 'w' 表示写入模式，会覆盖文件内容。\n",
    "# 'a' 表示追加模式，会在文件末尾追加内容。\n",
    "file_name = 'poi2.sql'\n",
    "with open(file_name, 'a', encoding='utf-8') as f:\n",
    "    f.write('\\n'.join(insert_poi_sql1))"
   ],
   "metadata": {
    "collapsed": false,
    "ExecuteTime": {
     "end_time": "2024-05-29T10:16:04.260288Z",
     "start_time": "2024-05-29T10:16:04.229468Z"
    }
   },
   "id": "f951e86599b9ac73",
   "execution_count": 55
  },
  {
   "cell_type": "code",
   "outputs": [],
   "source": [
    "# 'w' 表示写入模式，会覆盖文件内容。\n",
    "# 'a' 表示追加模式，会在文件末尾追加内容。\n",
    "file_name = 'poi_res2.sql'\n",
    "with open(file_name, 'a', encoding='utf-8') as f:\n",
    "    f.write('\\n'.join(insert_poi_sql2))"
   ],
   "metadata": {
    "collapsed": false,
    "ExecuteTime": {
     "end_time": "2024-05-29T10:16:05.792560Z",
     "start_time": "2024-05-29T10:16:05.788215Z"
    }
   },
   "id": "6b3029e0dfeb6520",
   "execution_count": 56
  },
  {
   "cell_type": "code",
   "outputs": [],
   "source": [],
   "metadata": {
    "collapsed": false
   },
   "id": "910600b49206ca94"
  }
 ],
 "metadata": {
  "kernelspec": {
   "display_name": "Python 3",
   "language": "python",
   "name": "python3"
  },
  "language_info": {
   "codemirror_mode": {
    "name": "ipython",
    "version": 2
   },
   "file_extension": ".py",
   "mimetype": "text/x-python",
   "name": "python",
   "nbconvert_exporter": "python",
   "pygments_lexer": "ipython2",
   "version": "2.7.6"
  }
 },
 "nbformat": 4,
 "nbformat_minor": 5
}
