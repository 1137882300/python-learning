{
 "cells": [
  {
   "cell_type": "code",
   "execution_count": null,
   "id": "initial_id",
   "metadata": {
    "collapsed": true
   },
   "outputs": [],
   "source": []
  },
  {
   "cell_type": "code",
   "outputs": [
    {
     "ename": "AttributeError",
     "evalue": "'NoneType' object has no attribute 'find'",
     "output_type": "error",
     "traceback": [
      "\u001B[0;31m---------------------------------------------------------------------------\u001B[0m",
      "\u001B[0;31mAttributeError\u001B[0m                            Traceback (most recent call last)",
      "Cell \u001B[0;32mIn[1], line 10\u001B[0m\n\u001B[1;32m      8\u001B[0m \u001B[38;5;66;03m# Navigate to the desired container\u001B[39;00m\n\u001B[1;32m      9\u001B[0m container \u001B[38;5;241m=\u001B[39m soup\u001B[38;5;241m.\u001B[39mfind(\u001B[38;5;124m'\u001B[39m\u001B[38;5;124mdiv\u001B[39m\u001B[38;5;124m'\u001B[39m, {\u001B[38;5;124m'\u001B[39m\u001B[38;5;124mclass\u001B[39m\u001B[38;5;124m'\u001B[39m: \u001B[38;5;124m'\u001B[39m\u001B[38;5;124msection Fix J-shop-search\u001B[39m\u001B[38;5;124m'\u001B[39m})\n\u001B[0;32m---> 10\u001B[0m content_wrap \u001B[38;5;241m=\u001B[39m \u001B[43mcontainer\u001B[49m\u001B[38;5;241;43m.\u001B[39;49m\u001B[43mfind\u001B[49m(\u001B[38;5;124m'\u001B[39m\u001B[38;5;124mdiv\u001B[39m\u001B[38;5;124m'\u001B[39m, {\u001B[38;5;124m'\u001B[39m\u001B[38;5;124mclass\u001B[39m\u001B[38;5;124m'\u001B[39m: \u001B[38;5;124m'\u001B[39m\u001B[38;5;124mcontent-wrap\u001B[39m\u001B[38;5;124m'\u001B[39m})\n\u001B[1;32m     11\u001B[0m shop_wrap \u001B[38;5;241m=\u001B[39m content_wrap\u001B[38;5;241m.\u001B[39mfind(\u001B[38;5;124m'\u001B[39m\u001B[38;5;124mdiv\u001B[39m\u001B[38;5;124m'\u001B[39m, {\u001B[38;5;124m'\u001B[39m\u001B[38;5;124mclass\u001B[39m\u001B[38;5;124m'\u001B[39m: \u001B[38;5;124m'\u001B[39m\u001B[38;5;124mshop-wrap\u001B[39m\u001B[38;5;124m'\u001B[39m})\n\u001B[1;32m     12\u001B[0m content \u001B[38;5;241m=\u001B[39m shop_wrap\u001B[38;5;241m.\u001B[39mfind(\u001B[38;5;124m'\u001B[39m\u001B[38;5;124mdiv\u001B[39m\u001B[38;5;124m'\u001B[39m, {\u001B[38;5;124m'\u001B[39m\u001B[38;5;124mclass\u001B[39m\u001B[38;5;124m'\u001B[39m: \u001B[38;5;124m'\u001B[39m\u001B[38;5;124mcontent\u001B[39m\u001B[38;5;124m'\u001B[39m})\n",
      "\u001B[0;31mAttributeError\u001B[0m: 'NoneType' object has no attribute 'find'"
     ]
    }
   ],
   "source": [
    "import requests\n",
    "from bs4 import BeautifulSoup\n",
    "\n",
    "url = \"http://www.dianping.com/hangzhou/ch10/p2\"\n",
    "response = requests.get(url)\n",
    "soup = BeautifulSoup(response.content, 'html.parser')\n",
    "\n",
    "# Navigate to the desired container\n",
    "container = soup.find('div', {'class': 'section Fix J-shop-search'})\n",
    "content_wrap = container.find('div', {'class': 'content-wrap'})\n",
    "shop_wrap = content_wrap.find('div', {'class': 'shop-wrap'})\n",
    "content = shop_wrap.find('div', {'class': 'content'})\n",
    "shop_all_list = content.find('div', {'id': 'shop-all-list'})\n",
    "\n",
    "# Find the <ul> element\n",
    "ul_element = shop_all_list.find('ul')\n",
    "\n",
    "# Extract the <li> elements\n",
    "li_elements = ul_element.find_all('li')\n",
    "\n",
    "# Loop through the <li> elements and extract the data\n",
    "for li in li_elements:\n",
    "    # Extract the shop name\n",
    "    shop_name = li.find('h4').text.strip()\n",
    "    # Extract the shop address\n",
    "    shop_address = li.find('span', {'class': 'addr'}).text.strip()\n",
    "    # Extract the shop rating\n",
    "    shop_rating = li.find('span', {'class': 'rating'}).text.strip()\n",
    "    # Print the extracted data\n",
    "    print(f\"Shop Name: {shop_name}, Address: {shop_address}, Rating: {shop_rating}\")"
   ],
   "metadata": {
    "collapsed": false,
    "ExecuteTime": {
     "end_time": "2024-05-09T07:24:33.225044Z",
     "start_time": "2024-05-09T07:24:32.890415Z"
    }
   },
   "id": "2c38e5ac7580d06c",
   "execution_count": 1
  },
  {
   "cell_type": "code",
   "outputs": [
    {
     "name": "stdout",
     "output_type": "stream",
     "text": [
      "<!DOCTYPE html>\n",
      "<html><head><meta charset=\"utf-8\"/><meta content=\"IE=edge\" http-equiv=\"X-UA-Compatible\"/><meta content=\"noindex, nofollow\" name=\"robots\"/><meta content=\"width=device-width,initial-scale=1,maximum-scale=1,user-scalable=no,minimal-ui\" name=\"viewport\"/><title>携程旅行网</title><style type=\"text/css\">blockquote,body,button,code,dd,div,dl,dt,em,fieldset,form,h1,h2,h3,h4,h5,h6,html,input,legend,li,ol,p,pre,td,textarea,th,ul{margin:0;padding:0}body{font-size:12px;font-family:Simsun,sans-serif;color:#333}fieldset,img{border:0 none}input,textarea{font-size:12px}textarea{resize:none}table{border-collapse:collapse;border-spacing:0}a{color:#003d7e;text-decoration:none}a:hover{text-decoration:underline}h1,h2,h3,h4,h5,h6{font-family:\"Times New Roman\",Simsun}li,ol,ul{list-style:none outside none}dfn{font-style:normal}@media screen and (min-width:751px){#footer,.content,.errorinfo{width:800px}.wrap{background:#016eca;width:100%;min-width:1200px;overflow:hidden}.content{position:relative;z-index:1;height:480px;margin:0 auto;padding-top:100px}.logo{position:relative;z-index:5;width:144px;height:54px;margin:0 auto;overflow:hidden;text-indent:-500px;background-position:0 0}.errorinfo{color:#fff;display:block;font-family:\"microsoft yahei\",simhei,sans-serif;font-size:24px;font-weight:400;text-align:center;margin:30px auto;padding:0}a.goback{display:block;position:relative;z-index:4;width:112px;margin:20px auto;padding:8px 0;color:#fff;font-family:\"microsoft yahei\",simhei,sans-serif;font-size:16px;text-align:center;text-decoration:none;background-color:#0f4dc5}a.goback:hover{background-color:#3f92f0}.tower{position:absolute;transform:translateZ(300px);z-index:2;top:143px;left:291px;width:116px;height:264px;background:url(https://webresource.c-ctrip.com/ares2/nfes/pc-home/*/default/others/tower.png) no-repeat}.beam{position:absolute;z-index:1;left:-10px;top:0;width:749px;height:359px;background:url(https://webresource.c-ctrip.com/ares2/nfes/pc-home/*/default/others/light.png) no-repeat;-webkit-animation:6s cubic-bezier(.25,0,.75,1) 0s none infinite beam;-moz-animation:6s cubic-bezier(.25,0,.75,1) 0s none infinite beam;animation:6s cubic-bezier(.25,0,.75,1) 0s none infinite beam}.wave1{position:absolute;z-index:99;top:400px;height:180px;width:1200px;left:0;right:0;margin:auto;opacity:0;background:url(https://webresource.c-ctrip.com/ares2/nfes/pc-home/*/default/others/wave.png) repeat-x 0 0;-webkit-animation:50s linear 0s none infinite tweenxxpc;-moz-animation:50s linear 0s none infinite tweenxxpc;animation:50s linear 0s none infinite tweenxxpc}.wave{position:absolute;z-index:100;top:400px;height:180px;width:1200px;left:0;right:0;margin:auto;background:url(https://webresource.c-ctrip.com/ares2/nfes/pc-home/*/default/others/wave.png) repeat-x 0 0;-webkit-animation:50s linear 0s none infinite tweenxpc;-moz-animation:50s linear 0s none infinite tweenxpc;animation:50s linear 0s none infinite tweenxpc}#footer{margin:0 auto;text-align:center;color:#0053aa;font-family:arial;line-height:1.6;padding:8px 0 0 0;width:1200px}#footer a{color:#0053aa}.copyright{color:#333}.star1{background:url(https://webresource.c-ctrip.com/ares2/nfes/pc-home/*/default/others/star.png) no-repeat;position:relative;top:164px;left:592px;height:60px;width:60px;opacity:0;-webkit-animation:2s linear 0s none infinite staracta;-moz-animation:2s linear 0s none infinite staracta;animation:2s linear 0s none infinite staracta}.star2{background:url(https://webresource.c-ctrip.com/ares2/nfes/pc-home/*/default/others/star.png) no-repeat;position:relative;top:234px;left:245px;height:60px;width:60px;opacity:.8;-webkit-animation:2s linear 0s none infinite staract;-moz-animation:2s linear 0s none infinite staract;animation:2s linear 0s none infinite staract}.star3{background:url(https://webresource.c-ctrip.com/ares2/nfes/pc-home/*/default/others/star.png) no-repeat;position:relative;top:252px;left:644px;height:60px;width:60px;opacity:.8;-webkit-animation:2s linear 0s none infinite staract;-moz-animation:2s linear 0s none infinite staract;animation:2s linear 0s none infinite staract}.star4{background:url(https://webresource.c-ctrip.com/ares2/nfes/pc-home/*/default/others/star.png) no-repeat;position:relative;top:268px;left:264px;height:60px;width:60px;opacity:0;-webkit-animation:2s linear 0s none infinite staracta;-moz-animation:2s linear 0s none infinite staracta;animation:2s linear 0s none infinite staracta}.top{background-image:url(https://webresource.c-ctrip.com/ares2/nfes/pc-home/*/default/others/top.png);background-repeat:no-repeat;position:absolute;top:0;left:0;width:1200px;height:580px;z-index:999;right:0;margin:auto}.bg{background:url(https://webresource.c-ctrip.com/ares2/nfes/pc-home/*/default/others/404_PC_bg.png) no-repeat center bottom;position:absolute;z-index:0;width:1200px;height:580px;min-width:1200px;left:0;right:0;margin:auto;overflow:hidden}.adv_t{background-image:url(https://webresource.c-ctrip.com/ares2/nfes/pc-home/*/default/others/PC_btA.png);background-repeat:no-repeat;position:relative;top:350px;left:470px;width:262px;height:28px;z-index:10000;cursor:pointer;display:none}.back_t{background-image:url(https://webresource.c-ctrip.com/ares2/nfes/pc-home/*/default/others/PC_btB.png);background-repeat:no-repeat;position:relative;top:433px;left:551px;width:98px;height:38px;z-index:10000;cursor:pointer}}@media screen and (max-width:750px){body html{overflow-x:hidden}.top{position:absolute;top:0;left:0;max-width:750px;width:100%;height:755px;z-index:999;right:0;margin:auto;min-width:350px}.mengceng{background-image:url(https://webresource.c-ctrip.com/ares2/nfes/pc-home/*/default/others/h5_top_1.png);height:755px;background-size:auto 910px;background-repeat:no-repeat;width:415px;position:relative;margin:0 auto}.wrap{background:#016eca;width:100%;min-width:400px}.bg{background-image:url(https://webresource.c-ctrip.com/ares2/nfes/pc-home/*/default/others/404_H5_bg.png);background-repeat:no-repeat;margin:0 auto;background-size:contain;height:755px;width:350px;overflow:hidden}.bg:before{content:\"\";display:block;padding-top:180%}#footer{margin:0 auto;text-align:center;color:#0053aa;font-family:arial;line-height:1.6;padding:8px 0 0 0}#footer a{color:#0053aa}.copyright{color:#333}.wave1{position:absolute;z-index:99;top:444px;height:180px;width:350px;left:0;right:0;margin:auto;opacity:0;background:url(https://webresource.c-ctrip.com/ares2/nfes/pc-home/*/default/others/wave.png) repeat-x 0 0;-webkit-animation:50s linear 0s none infinite tweenxx;-moz-animation:50s linear 0s none infinite tweenxx;animation:50s linear 0s none infinite tweenxx}.wave{position:absolute;z-index:100;top:444px;height:180px;width:350px;left:0;right:0;margin:auto;background:url(https://webresource.c-ctrip.com/ares2/nfes/pc-home/*/default/others/wave.png) repeat-x 0 0;-webkit-animation:50s linear 0s none infinite tweenx;-moz-animation:50s linear 0s none infinite tweenx;animation:50s linear 0s none infinite tweenx}@-webkit-keyframes tweenx{0%{background-position:100vw 0}50%{opacity:0}100%{background-position:0 0;opacity:1}}@-moz-keyframes tweenx{0%{background-position:100vw 0}50%{opacity:0}100%{background-position:0 0;opacity:1}}@keyframes tweenx{0%{background-position:100vw 0}50%{opacity:0}100%{background-position:0 0;opacity:1}}@keyframes tweenxx{0%{background-position:0 0;opacity:0}50%{opacity:1}100%{background-position:-100vw 0;opacity:0}}.tower{position:relative;transform:translateZ(300px);z-index:2;top:-370px;left:-53px;width:180px;height:180px;background-image:url(https://webresource.c-ctrip.com/ares2/nfes/pc-home/*/default/others/tower_h5.png);background-repeat:no-repeat;background-size:contain}.beam{position:relative;z-index:1;left:-176px;top:-640px;width:484px;height:232px;background-image:url(https://webresource.c-ctrip.com/ares2/nfes/pc-home/*/default/others/light.png);background-repeat:no-repeat;background-size:contain;-webkit-animation:6s cubic-bezier(.25,0,.75,1) 0s none infinite beam;-moz-animation:6s cubic-bezier(.25,0,.75,1) 0s none infinite beam;animation:6s cubic-bezier(.25,0,.75,1) 0s none infinite beam}.star1{background-image:url(https://webresource.c-ctrip.com/ares2/nfes/pc-home/*/default/others/star.png);background-repeat:no-repeat;background-size:contain;position:relative;top:-856px;left:235px;height:30px;width:30px;opacity:0;-webkit-animation:2s linear 0s none infinite staracta;-moz-animation:2s linear 0s none infinite staracta;animation:2s linear 0s none infinite staracta}.star2{background-image:url(https://webresource.c-ctrip.com/ares2/nfes/pc-home/*/default/others/star.png);background-repeat:no-repeat;background-size:contain;position:relative;top:-724px;left:6px;height:30px;width:30px;opacity:.8;-webkit-animation:2s linear 0s none infinite staract;-moz-animation:2s linear 0s none infinite staract;animation:2s linear 0s none infinite staract}.star4{background-image:url(https://webresource.c-ctrip.com/ares2/nfes/pc-home/*/default/others/star.png);background-repeat:no-repeat;background-size:contain;position:relative;top:-651px;left:14px;height:30px;width:30px;opacity:0;-webkit-animation:2s linear 0s none infinite staracta;-moz-animation:2s linear 0s none infinite staracta;animation:2s linear 0s none infinite staracta}.adv_t{background-image:url(https://webresource.c-ctrip.com/ares2/nfes/pc-home/*/default/others/H5_btA.png);background-repeat:no-repeat;background-size:contain;position:relative;margin:0 auto;top:-288px;width:300px;height:35px;z-index:10000;cursor:pointer}.back_t{background-image:url(https://webresource.c-ctrip.com/ares2/nfes/pc-home/*/default/others/H5_btB.png);background-repeat:no-repeat;background-size:100% auto;position:relative;margin:0 auto;top:-253px;width:92px;height:38px;z-index:10000;cursor:pointer}}@-moz-keyframes staract{0%{opacity:.8}50%{opacity:0}100%{opacity:.8}}@-webkit-keyframes staract{0%{opacity:.8}50%{opacity:0}100%{opacity:.8}}@keyframes staract{0%{opacity:.8}50%{opacity:0}100%{opacity:.8}}@-moz-keyframes staracta{0%{opacity:0}50%{opacity:.8}100%{opacity:0}}@-webkit-keyframes staracta{0%{opacity:0}50%{opacity:.8}100%{opacity:0}}@keyframes staracta{0%{opacity:0}50%{opacity:.8}100%{opacity:0}}@-webkit-keyframes beam{0%{transform:rotateY(0)}30%{transform:rotateY(45deg)}60%{transform:rotateY(45deg)}100%{transform:rotateY(0)}}@-moz-keyframes beam{0%{transform:rotateY(0)}30%{transform:rotateY(45deg)}60%{transform:rotateY(45deg)}100%{transform:rotateY(0)}}@keyframes beam{0%{transform:rotateY(0)}30%{transform:rotateY(45deg)}60%{transform:rotateY(45deg)}100%{transform:rotateY(0)}}@-moz-keyframes tweenxpc{0%{background-position:1110px 0}50%{opacity:0}100%{background-position:0 0;opacity:1}}@-webkit-keyframes tweenxpc{0%{background-position:1110px 0}50%{opacity:0}100%{background-position:0 0;opacity:1}}@keyframes tweenxpc{0%{background-position:1110px 0}50%{opacity:0}100%{background-position:0 0;opacity:1}}@-moz-keyframes tweenxxpc{0%{background-position:0 0;opacity:0}50%{opacity:1}100%{background-position:-1110px 0;opacity:0}}@-webkit-keyframes tweenxxpc{0%{background-position:0 0;opacity:0}50%{opacity:1}100%{background-position:-1110px 0;opacity:0}}@keyframes tweenxxpc{0%{background-position:0 0;opacity:0}50%{opacity:1}100%{background-position:-1110px 0;opacity:0}}</style></head><body><div class=\"wrap\"><div class=\"top\"><div class=\"mengceng\"></div><div class=\"adv_t\"></div><div class=\"back_t\"></div></div><div class=\"bg\"><div class=\"tower\"></div><div class=\"beam\"></div><div class=\"star1\"></div><div class=\"star2\"></div><div class=\"star3\"></div><div class=\"star4\"></div></div><div class=\"content\"></div><div class=\"wave\"></div><div class=\"wave1\"></div></div><div id=\"footer\"><p class=\"copyright\"><a href=\"http://pages.ctrip.com/public/copyright.htm\">Copyright©</a>1999-<script>document.write((new Date).getFullYear())</script>, <a href=\"http://pages.ctrip.com/public/ctripab/abctrip.htm\">ctrip.com</a>. all rights reserved.</p></div><input id=\"page_id\" type=\"hidden\" value=\"600001375\"/><script>!function(){function t(){window.location.href=\"https://m.ctrip.com/webapp/you/cranking/crankingCity/100200078435.html?ishideheader=true&isHideNavBar=YES&useLocationId=true&allianceid=3769318&sid=20621919\"}try{document.getElementsByClassName(\"back_t\")[0].addEventListener(\"click\",function(){try{var i=navigator&&navigator.userAgent;/(CtripWireless|sml_wireless|gs_wireless|we_wireless|TieyouWireless)/i.test(i)?\"undefined\"!=typeof CtripUtil?CtripUtil.app_open_url(\"ctrip://wireless/\",1):window.location.href=\"https://www.ctrip.com/\":/(iphone|ios|android|mini|mobile|mobi|Nokia|Symbian|iPod|iPad|Windows\\s+Phone|MQQBrowser|wp7|wp8|UCBrowser7|UCWEB|360\\s+Aphone\\s+Browser)/i.test(i)?window.location.href=\"https://m.ctrip.com/html5/\":window.location.href=\"https://www.ctrip.com/\"}catch(i){window.location.href=\"https://www.ctrip.com/\"}}),document.getElementsByClassName(\"adv_t\")[0].addEventListener(\"click\",function(){try{var i=(window.location||document.location).hostname,e=navigator&&navigator.userAgent;/(CtripWireless|sml_wireless|gs_wireless|we_wireless|TieyouWireless)/i.test(e)?\"undefined\"!=typeof CtripUtil?CtripUtil.app_open_url(\"ctrip://wireless/h5?path=cranking&page=index.html#cranking/crankingCity/100200078435.html&ishideheader=true&isHideNavBar=YES&useLocationId=true\",1):t():(\"m.ctrip.com\"!==i&&/(iphone|ios|android|mini|mobile|mobi|Nokia|Symbian|iPod|iPad|Windows\\s+Phone|MQQBrowser|wp7|wp8|UCBrowser7|UCWEB|360\\s+Aphone\\s+Browser)/i.test(e),t())}catch(i){t()}})}catch(i){console.log(i.message)}}()</script><script type=\"text/javascript\">!function(n,r,a,e,t){function o(e){var t,o,i;n.$_bf&&n.$_bf.loaded||n.$LAB||n.CtripJsLoader||(t=!1,o=\"?v=\"+(i=new Date).getFullYear()+i.getMonth()+\"_\"+i.getDate(),(i=r.createElement(a)).type=\"text/javascript\",i.charset=\"utf-8\",i.async=!0,i.src=\"//webresource.c-ctrip.com/code/ubt/\"+e+\".min.js\"+o,(t=r.getElementsByTagName(a)[0]).parentNode.insertBefore(i,t))}e=(n.location||r.location).hostname,n.__bfi=[],n.__bfi.push([\"_config\",\"rms\",!1]),n.__bfi.push([\"_config\",\"markting\",!1]),t=navigator.userAgent,\"m.ctrip.com\"===e||/(iphone|ios|android|mini|mobile|mobi|Nokia|Symbian|iPod|iPad|Windows\\s+Phone|MQQBrowser|wp7|wp8|UCBrowser7|UCWEB|360\\s+Aphone\\s+Browser)/i.test(t)?o(\"_mubt\"):o(\"_bfa\")}(window,document,\"script\")</script></body></html>\n"
     ]
    }
   ],
   "source": [],
   "metadata": {
    "collapsed": false,
    "ExecuteTime": {
     "end_time": "2024-05-14T01:47:24.277321Z",
     "start_time": "2024-05-14T01:47:24.090024Z"
    }
   },
   "id": "fa6a444663dd23d0",
   "execution_count": 4
  },
  {
   "cell_type": "code",
   "outputs": [],
   "source": [
    "import requests\n",
    "\n",
    "\n",
    "def get_restaurant_data(url):\n",
    "    payload = {}\n",
    "    headers = {\n",
    "        'accept': 'text/html,application/xhtml+xml,application/xml;q=0.9,image/avif,image/webp,image/apng,*/*;q=0.8,application/signed-exchange;v=b3;q=0.7',\n",
    "        'accept-language': 'zh-CN,zh;q=0.9',\n",
    "        'cookie': 'ASP.NET_SessionSvc=MTAuMTEzLjkyLjg2fDkwOTB8b3V5YW5nfGRlZmF1bHR8MTYzODQzMzkyNzYwMA; MKT_CKID=1715932998137.di2aa.00zw; _RF1=218.75.127.235; _RSG=qW4oYxCO0I8dYil6r2tMAB; _RDG=28ebc0d51b160d221122ea3c9a5f590680; _RGUID=848060ce-e2c8-4834-b296-dc2d46bec8a7; GUID=09031170315935642625; _bfaStatusPVSend=1; Hm_lvt_e4211314613fcf074540918eb10eeecb=1715933140; Hm_lpvt_e4211314613fcf074540918eb10eeecb=1715933558; _bfa=1.1715932996674.2b9vyo.1.1715933249829.1715933559463.1.4.154019; _ubtstatus=%7B%22vid%22%3A%221715932996674.2b9vyo%22%2C%22sid%22%3A1%2C%22pvid%22%3A4%2C%22pid%22%3A154019%7D; _jzqco=%7C%7C%7C%7C1715932998405%7C1.291136378.1715932998127.1715933253030.1715933561836.1715933253030.1715933561836.0.0.0.4.4; _bfi=p1%3D154019%26p2%3D154019%26v1%3D4%26v2%3D3; _bfaStatus=success',\n",
    "        'priority': 'u=0, i',\n",
    "        'referer': 'https://you.ctrip.com/restaurantlist/Hangzhou14/list-x410-p1.html?ordertype=0',\n",
    "        'sec-ch-ua': '\"Chromium\";v=\"124\", \"Microsoft Edge\";v=\"124\", \"Not-A.Brand\";v=\"99\"',\n",
    "        'sec-ch-ua-mobile': '?0',\n",
    "        'sec-ch-ua-platform': '\"Windows\"',\n",
    "        'sec-fetch-dest': 'document',\n",
    "        'sec-fetch-mode': 'navigate',\n",
    "        'sec-fetch-site': 'same-origin',\n",
    "        'sec-fetch-user': '?1',\n",
    "        'upgrade-insecure-requests': '1',\n",
    "        'user-agent': 'Mozilla/5.0 (Windows NT 10.0; Win64; x64) AppleWebKit/537.36 (KHTML, like Gecko) Chrome/124.0.0.0 Safari/537.36 Edg/124.0.0.0'\n",
    "    }\n",
    "\n",
    "    response = requests.request(\"GET\", url, headers=headers, data=payload)\n",
    "\n",
    "    # print(response.text)\n",
    "    return response"
   ],
   "metadata": {
    "collapsed": false,
    "ExecuteTime": {
     "end_time": "2024-05-17T09:00:30.547506Z",
     "start_time": "2024-05-17T09:00:30.545593Z"
    }
   },
   "id": "f3da6b408e2da5dc",
   "execution_count": 6
  },
  {
   "cell_type": "code",
   "outputs": [],
   "source": [
    "from bs4 import BeautifulSoup\n",
    "\n",
    "\n",
    "def handle_data(response):\n",
    "    soup = BeautifulSoup(response.content, 'html.parser')\n",
    "    hp_container = soup.find('div', {'id': 'hp_container'})\n",
    "    content = hp_container.find('div', {'id': 'content'})\n",
    "    ttd2_background = content.find('div', {'class': 'ttd2_background'})\n",
    "    content_cf = ttd2_background.find('div', {'class': 'content cf'})\n",
    "    des_wide_f_right = content_cf.find('div', {'class': 'des_wide f_right'})\n",
    "    normalbox = des_wide_f_right.find('div', {'class': 'normalbox'})\n",
    "    list_wide_mod2 = normalbox.find('div', {'class': 'list_wide_mod2'})\n",
    "    return list_wide_mod2"
   ],
   "metadata": {
    "collapsed": false,
    "ExecuteTime": {
     "end_time": "2024-05-17T09:00:32.682484Z",
     "start_time": "2024-05-17T09:00:32.679452Z"
    }
   },
   "id": "be0126b9c33944bd",
   "execution_count": 7
  },
  {
   "cell_type": "code",
   "outputs": [],
   "source": [
    "def get_list_wide_mod2(list_wide_mod2):\n",
    "    list_mod2s = list_wide_mod2.find_all('div', {'class': 'list_mod2'})\n",
    "    return list_mod2s"
   ],
   "metadata": {
    "collapsed": false,
    "ExecuteTime": {
     "end_time": "2024-05-17T09:00:34.991676Z",
     "start_time": "2024-05-17T09:00:34.987588Z"
    }
   },
   "id": "5b2a722a1b09ec8",
   "execution_count": 8
  },
  {
   "cell_type": "code",
   "outputs": [],
   "source": [
    "url = \"https://you.ctrip.com/restaurantlist/Hangzhou14/list-x410-c4901-p1.html?ordertype=0\"\n",
    "# url = \"https://you.ctrip.com/restaurantlist/hangzhou14/s4901-r410-p2.html\"\n",
    "# https://you.ctrip.com/restaurantlist/hangzhou14/s4901-r410-p3.html\n",
    "\n",
    "response = get_restaurant_data(url)\n",
    "list_wide_mod2 = handle_data(response)\n",
    "list_mod2s = get_list_wide_mod2(list_wide_mod2)\n"
   ],
   "metadata": {
    "collapsed": false,
    "ExecuteTime": {
     "end_time": "2024-05-17T09:00:44.787144Z",
     "start_time": "2024-05-17T09:00:37.736971Z"
    }
   },
   "id": "aad68945cfd0b4",
   "execution_count": 9
  },
  {
   "cell_type": "code",
   "outputs": [],
   "source": [
    "def get_end_data(list_mod2s):\n",
    "    results = []\n",
    "    for li in list_mod2s:\n",
    "        leftimg = li.find('div', {'class': 'leftimg'})\n",
    "        img_a_tag = leftimg.find('a')\n",
    "        img = leftimg.find('img')\n",
    "        img_url = img.get('data-imgurl')\n",
    "        print(img_url)\n",
    "\n",
    "        rdetailbox = li.find('div', {'class': 'rdetailbox'})\n",
    "        dl = rdetailbox.find('dl')\n",
    "        dt = dl.find('dt')\n",
    "        a = dt.find('a')\n",
    "        title = a.get('title')\n",
    "        print(title)\n",
    "\n",
    "        address = dl.find('dd').text.strip()\n",
    "        print(address)\n",
    "\n",
    "        results.append({\n",
    "            'img_url': img_url,\n",
    "            'title': title,\n",
    "            'address': address\n",
    "        })\n",
    "\n",
    "    return results"
   ],
   "metadata": {
    "collapsed": false,
    "ExecuteTime": {
     "end_time": "2024-05-17T09:11:05.883681Z",
     "start_time": "2024-05-17T09:11:05.881557Z"
    }
   },
   "id": "f887a7dc4127ed7d",
   "execution_count": 11
  },
  {
   "cell_type": "code",
   "outputs": [
    {
     "name": "stdout",
     "output_type": "stream",
     "text": [
      "https://dimg04.c-ctrip.com/images/0101z120009eaa8fzB148_R_220_140.png\n",
      "老余杭面馆\n",
      "晴川街425号晴川大厦1楼\n",
      "https://dimg04.c-ctrip.com/images/0106k120009dnvorhB11A_R_220_140.jpg\n",
      "春雪面馆(转塘店)\n",
      "象山路西街美食城一楼\n",
      "https://dimg04.c-ctrip.com/images/01033120009grvepiDB39_R_220_140.jpg\n",
      "桂语家面\n",
      "下满觉陇74号\n",
      "https://dimg04.c-ctrip.com/images/1me1512000dfdpsmt9894_R_220_140.jpg\n",
      "乡村基·川味现炒(西溪谷店)\n",
      "浙江省杭州市西湖区紫霞街西溪谷7号楼1层\n",
      "https://dimg04.c-ctrip.com/images/1me5t12000bgaw8i15170_R_220_140.jpg\n",
      "乡村基·川味现炒(文三路店)\n",
      "文三路477号华星科技大厦一楼—3号\n",
      "https://dimg04.c-ctrip.com/images/100n0k000000ci95lC327_R_220_140.jpg\n",
      "肯德基(杭州文三店)\n",
      "文三路478号华星时代广场C座一层\n",
      "https://dimg04.c-ctrip.com/images/0103n120009ea9wcc8D59_R_220_140.png\n",
      "望江门德记面馆(学院路店)\n",
      "翠苑街道学院路216-7号（学院路地铁站B口步行370米)\n",
      "https://dimg04.c-ctrip.com/images/0105o120009t652dx19BC_R_220_140.jpg\n",
      "德泓面馆(颐高店)\n",
      "黄姑山路29号颐高数码广场A幢4楼\n",
      "https://dimg04.c-ctrip.com/images/10090k000000chlzh8804_R_220_140.jpg\n",
      "肯德基(黄龙恒励店)\n",
      "黄龙路5号恒励大厦1层\n",
      "https://dimg04.c-ctrip.com/images/1me6412000bbfdvu9A8B8_R_220_140.jpg\n",
      "贵州剪粉·张大厉害(万塘小院店)\n",
      "万塘路28号万塘小院\n",
      "https://dimg04.c-ctrip.com/images/100e14000000whdzg712A_R_220_140.jpg\n",
      "麦当劳(杭州文三店)\n",
      "文三路90号\n",
      "https://dimg04.c-ctrip.com/images/0100e12000akbale7663B_R_220_140.png\n",
      "春家·非遗手工小吃(三墩新天地店)\n",
      "三墩新天地商业中心5幢一层251号\n",
      "https://dimg04.c-ctrip.com/images/10050k000000cilw9F20B_R_220_140.jpg\n",
      "麦当劳(断桥店)\n",
      "石函路8号\n",
      "https://dimg04.c-ctrip.com/images/0105412000bh3n0as8902_R_220_140.jpg\n",
      "宋杰老鸭粉丝馆(益乐路店)\n",
      "古荡街道益乐路37号(蓝海国际对面)\n",
      "https://dimg04.c-ctrip.com/images/0105t120009lj6lso04EE_R_220_140.png\n",
      "汉堡王(华策中心店)\n",
      "五常港路442号、444号、华策中心9#一层101/102号商铺\n"
     ]
    }
   ],
   "source": [
    "results = get_end_data(list_mod2s)\n",
    "\n",
    "# data_str = f\"img_url: {results.img_url}\\ntitle: {results.title}\\naddress: {results.address}\\n-------\\n\"\n",
    "\n",
    "# with open(\"restaurant_data.sql\", \"a\", encoding=\"utf-8\") as f:\n",
    "#     f.write(data_str)\n",
    "\n",
    "file_data = []\n",
    "\n",
    "for data_item in results:\n",
    "    output_string = f\"图片: {data_item['img_url']} 标题: {data_item['title']} 地址: {data_item['address']}\\n\"\n",
    "    file_data.append(output_string)\n",
    "\n",
    "with open('extracted_data.sql', 'w', encoding='utf-8') as f:\n",
    "    f.write(''.join(file_data))"
   ],
   "metadata": {
    "collapsed": false,
    "ExecuteTime": {
     "end_time": "2024-05-17T09:20:24.137152Z",
     "start_time": "2024-05-17T09:20:24.134028Z"
    }
   },
   "id": "4baf130217b9faf5",
   "execution_count": 17
  },
  {
   "cell_type": "code",
   "outputs": [],
   "source": [],
   "metadata": {
    "collapsed": false
   },
   "id": "9f4461451f50504"
  }
 ],
 "metadata": {
  "kernelspec": {
   "display_name": "Python 3",
   "language": "python",
   "name": "python3"
  },
  "language_info": {
   "codemirror_mode": {
    "name": "ipython",
    "version": 2
   },
   "file_extension": ".py",
   "mimetype": "text/x-python",
   "name": "python",
   "nbconvert_exporter": "python",
   "pygments_lexer": "ipython2",
   "version": "2.7.6"
  }
 },
 "nbformat": 4,
 "nbformat_minor": 5
}
