{
 "cells": [
  {
   "cell_type": "code",
   "execution_count": null,
   "id": "initial_id",
   "metadata": {
    "collapsed": true
   },
   "outputs": [],
   "source": []
  },
  {
   "cell_type": "code",
   "outputs": [],
   "source": [
    "import requests\n",
    "from bs4 import BeautifulSoup\n",
    "\n",
    "url = \"http://www.dianping.com/hangzhou/ch10/p2\"\n",
    "response = requests.get(url)\n",
    "soup = BeautifulSoup(response.content, 'html.parser')\n",
    "\n",
    "# Navigate to the desired container\n",
    "container = soup.find('div', {'class': 'section Fix J-shop-search'})\n",
    "content_wrap = container.find('div', {'class': 'content-wrap'})\n",
    "shop_wrap = content_wrap.find('div', {'class': 'shop-wrap'})\n",
    "content = shop_wrap.find('div', {'class': 'content'})\n",
    "shop_all_list = content.find('div', {'id': 'shop-all-list'})\n",
    "\n",
    "# Find the <ul> element\n",
    "ul_element = shop_all_list.find('ul')\n",
    "\n",
    "# Extract the <li> elements\n",
    "li_elements = ul_element.find_all('li')\n",
    "\n",
    "# Loop through the <li> elements and extract the data\n",
    "for li in li_elements:\n",
    "    # Extract the shop name\n",
    "    shop_name = li.find('h4').text.strip()\n",
    "    # Extract the shop address\n",
    "    shop_address = li.find('span', {'class': 'addr'}).text.strip()\n",
    "    # Extract the shop rating\n",
    "    shop_rating = li.find('span', {'class': 'rating'}).text.strip()\n",
    "    # Print the extracted data\n",
    "    print(f\"Shop Name: {shop_name}, Address: {shop_address}, Rating: {shop_rating}\")"
   ],
   "metadata": {
    "collapsed": false
   },
   "id": "2c38e5ac7580d06c"
  }
 ],
 "metadata": {
  "kernelspec": {
   "display_name": "Python 3",
   "language": "python",
   "name": "python3"
  },
  "language_info": {
   "codemirror_mode": {
    "name": "ipython",
    "version": 2
   },
   "file_extension": ".py",
   "mimetype": "text/x-python",
   "name": "python",
   "nbconvert_exporter": "python",
   "pygments_lexer": "ipython2",
   "version": "2.7.6"
  }
 },
 "nbformat": 4,
 "nbformat_minor": 5
}
