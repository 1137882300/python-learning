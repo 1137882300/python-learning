{
 "cells": [
  {
   "cell_type": "code",
   "execution_count": null,
   "id": "initial_id",
   "metadata": {
    "collapsed": true
   },
   "outputs": [],
   "source": []
  },
  {
   "cell_type": "code",
   "outputs": [
    {
     "ename": "AttributeError",
     "evalue": "'NoneType' object has no attribute 'find'",
     "output_type": "error",
     "traceback": [
      "\u001B[0;31m---------------------------------------------------------------------------\u001B[0m",
      "\u001B[0;31mAttributeError\u001B[0m                            Traceback (most recent call last)",
      "Cell \u001B[0;32mIn[1], line 10\u001B[0m\n\u001B[1;32m      8\u001B[0m \u001B[38;5;66;03m# Navigate to the desired container\u001B[39;00m\n\u001B[1;32m      9\u001B[0m container \u001B[38;5;241m=\u001B[39m soup\u001B[38;5;241m.\u001B[39mfind(\u001B[38;5;124m'\u001B[39m\u001B[38;5;124mdiv\u001B[39m\u001B[38;5;124m'\u001B[39m, {\u001B[38;5;124m'\u001B[39m\u001B[38;5;124mclass\u001B[39m\u001B[38;5;124m'\u001B[39m: \u001B[38;5;124m'\u001B[39m\u001B[38;5;124msection Fix J-shop-search\u001B[39m\u001B[38;5;124m'\u001B[39m})\n\u001B[0;32m---> 10\u001B[0m content_wrap \u001B[38;5;241m=\u001B[39m \u001B[43mcontainer\u001B[49m\u001B[38;5;241;43m.\u001B[39;49m\u001B[43mfind\u001B[49m(\u001B[38;5;124m'\u001B[39m\u001B[38;5;124mdiv\u001B[39m\u001B[38;5;124m'\u001B[39m, {\u001B[38;5;124m'\u001B[39m\u001B[38;5;124mclass\u001B[39m\u001B[38;5;124m'\u001B[39m: \u001B[38;5;124m'\u001B[39m\u001B[38;5;124mcontent-wrap\u001B[39m\u001B[38;5;124m'\u001B[39m})\n\u001B[1;32m     11\u001B[0m shop_wrap \u001B[38;5;241m=\u001B[39m content_wrap\u001B[38;5;241m.\u001B[39mfind(\u001B[38;5;124m'\u001B[39m\u001B[38;5;124mdiv\u001B[39m\u001B[38;5;124m'\u001B[39m, {\u001B[38;5;124m'\u001B[39m\u001B[38;5;124mclass\u001B[39m\u001B[38;5;124m'\u001B[39m: \u001B[38;5;124m'\u001B[39m\u001B[38;5;124mshop-wrap\u001B[39m\u001B[38;5;124m'\u001B[39m})\n\u001B[1;32m     12\u001B[0m content \u001B[38;5;241m=\u001B[39m shop_wrap\u001B[38;5;241m.\u001B[39mfind(\u001B[38;5;124m'\u001B[39m\u001B[38;5;124mdiv\u001B[39m\u001B[38;5;124m'\u001B[39m, {\u001B[38;5;124m'\u001B[39m\u001B[38;5;124mclass\u001B[39m\u001B[38;5;124m'\u001B[39m: \u001B[38;5;124m'\u001B[39m\u001B[38;5;124mcontent\u001B[39m\u001B[38;5;124m'\u001B[39m})\n",
      "\u001B[0;31mAttributeError\u001B[0m: 'NoneType' object has no attribute 'find'"
     ]
    }
   ],
   "source": [
    "import requests\n",
    "from bs4 import BeautifulSoup\n",
    "\n",
    "url = \"http://www.dianping.com/hangzhou/ch10/p2\"\n",
    "response = requests.get(url)\n",
    "soup = BeautifulSoup(response.content, 'html.parser')\n",
    "\n",
    "# Navigate to the desired container\n",
    "container = soup.find('div', {'class': 'section Fix J-shop-search'})\n",
    "content_wrap = container.find('div', {'class': 'content-wrap'})\n",
    "shop_wrap = content_wrap.find('div', {'class': 'shop-wrap'})\n",
    "content = shop_wrap.find('div', {'class': 'content'})\n",
    "shop_all_list = content.find('div', {'id': 'shop-all-list'})\n",
    "\n",
    "# Find the <ul> element\n",
    "ul_element = shop_all_list.find('ul')\n",
    "\n",
    "# Extract the <li> elements\n",
    "li_elements = ul_element.find_all('li')\n",
    "\n",
    "# Loop through the <li> elements and extract the data\n",
    "for li in li_elements:\n",
    "    # Extract the shop name\n",
    "    shop_name = li.find('h4').text.strip()\n",
    "    # Extract the shop address\n",
    "    shop_address = li.find('span', {'class': 'addr'}).text.strip()\n",
    "    # Extract the shop rating\n",
    "    shop_rating = li.find('span', {'class': 'rating'}).text.strip()\n",
    "    # Print the extracted data\n",
    "    print(f\"Shop Name: {shop_name}, Address: {shop_address}, Rating: {shop_rating}\")"
   ],
   "metadata": {
    "collapsed": false,
    "ExecuteTime": {
     "end_time": "2024-05-09T07:24:33.225044Z",
     "start_time": "2024-05-09T07:24:32.890415Z"
    }
   },
   "id": "2c38e5ac7580d06c",
   "execution_count": 1
  },
  {
   "cell_type": "code",
   "outputs": [],
   "source": [],
   "metadata": {
    "collapsed": false
   },
   "id": "fa6a444663dd23d0"
  }
 ],
 "metadata": {
  "kernelspec": {
   "display_name": "Python 3",
   "language": "python",
   "name": "python3"
  },
  "language_info": {
   "codemirror_mode": {
    "name": "ipython",
    "version": 2
   },
   "file_extension": ".py",
   "mimetype": "text/x-python",
   "name": "python",
   "nbconvert_exporter": "python",
   "pygments_lexer": "ipython2",
   "version": "2.7.6"
  }
 },
 "nbformat": 4,
 "nbformat_minor": 5
}
