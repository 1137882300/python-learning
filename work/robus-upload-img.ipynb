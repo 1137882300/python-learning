{
 "cells": [
  {
   "cell_type": "code",
   "execution_count": 2,
   "id": "4a076f112226b415",
   "metadata": {
    "collapsed": false,
    "ExecuteTime": {
     "end_time": "2024-06-15T07:34:04.711658Z",
     "start_time": "2024-06-15T07:34:04.622493Z"
    }
   },
   "outputs": [],
   "source": [
    "\n",
    "import requests\n",
    "\n",
    "url = 'https://img.crab888.cloudns.org/upload'\n",
    "\n",
    "headers = {\n",
    "    'accept': 'application/json, text/plain, */*',\n",
    "    'accept-language': 'zh-CN,zh;q=0.9,en-US;q=0.8,en;q=0.7',\n",
    "    'content-type': 'multipart/form-data; boundary=----WebKitFormBoundaryQ1dosCgvkXpyELc5',\n",
    "    'origin': 'https://img.crab888.cloudns.org',\n",
    "    'priority': 'u=1, i',\n",
    "    'referer': 'https://img.crab888.cloudns.org/',\n",
    "    'sec-ch-ua': '\"Google Chrome\";v=\"125\", \"Chromium\";v=\"125\", \"Not.A/Brand\";v=\"24\"',\n",
    "    'sec-ch-ua-mobile': '?0',\n",
    "    'sec-ch-ua-platform': '\"macOS\"',\n",
    "    'sec-fetch-dest': 'empty',\n",
    "    'sec-fetch-mode': 'cors',\n",
    "    'sec-fetch-site': 'same-origin',\n",
    "    'user-agent': 'Mozilla/5.0 (Macintosh; Intel Mac OS X 10_15_7) AppleWebKit/537.36 (KHTML, like Gecko) Chrome/125.0.0.0 Safari/537.36'\n",
    "}"
   ]
  },
  {
   "cell_type": "code",
   "outputs": [
    {
     "name": "stdout",
     "output_type": "stream",
     "text": [
      "['IMG_20230916_160010.jpg', 'IMG_20230929_090327.jpg', 'IMG_20231001_121621.jpg', 'IMG_20231006_122028.jpg', 'IMG_20230905_083716.jpg', 'IMG_20230904_083237.jpg', 'IMG_20230903_131033.jpg', 'IMG_20230823_131311.jpg', 'IMG_20230823_131306.jpg', 'IMG_20230905_195338.jpg', 'IMG_20230930_221257.jpg', 'IMG_20230924_173815.jpg', 'IMG_20231029_105513.jpg', 'MTXX_MH20230908_082118296.jpg', 'IMG_20230902_160647.jpg', 'IMG_20230917_215154.jpg', 'IMG_20230919_231015.jpg', 'IMG_20231029_105508.jpg', 'IMG_20230928_080144.jpg', 'IMG_20230903_090236.jpg', 'IMG_20230910_131300.jpg', 'IMG_20230905_195226.jpg', 'IMG_20230912_075731.jpg', 'IMG_20230902_160622.jpg']\n"
     ]
    }
   ],
   "source": [
    "import os\n",
    "\n",
    "# 指定包含图片文件的文件夹路径\n",
    "folder_path = '/Users/pangmengting/Downloads/image-compressed_docsmall.com (2)'\n",
    "# 查找文件夹中的所有jpg图片文件\n",
    "image_files = [f for f in os.listdir(folder_path) if f.endswith('.jpg')]\n",
    "print(image_files)"
   ],
   "metadata": {
    "collapsed": false,
    "ExecuteTime": {
     "end_time": "2024-06-15T08:13:44.683727Z",
     "start_time": "2024-06-15T08:13:44.676269Z"
    }
   },
   "id": "e52394211a6f0110",
   "execution_count": 35
  },
  {
   "cell_type": "code",
   "outputs": [
    {
     "name": "stdout",
     "output_type": "stream",
     "text": [
      "image/jpeg\n",
      "https://img.crab888.cloudns.org/file/bd1591c92d73706061e12.jpg\n",
      "image/jpeg\n",
      "https://img.crab888.cloudns.org/file/5b548542f76b22b26d803.jpg\n",
      "image/jpeg\n",
      "https://img.crab888.cloudns.org/file/647e0854656b5c52c41dd.jpg\n",
      "image/jpeg\n",
      "https://img.crab888.cloudns.org/file/9b4370b57eb023af60fb0.jpg\n",
      "image/jpeg\n",
      "https://img.crab888.cloudns.org/file/eb1f37becb24ef6343051.jpg\n",
      "image/jpeg\n",
      "https://img.crab888.cloudns.org/file/7336fd9dba4b1db33ca70.jpg\n",
      "image/jpeg\n",
      "https://img.crab888.cloudns.org/file/31d200e7642a7fc31a4df.jpg\n",
      "image/jpeg\n",
      "https://img.crab888.cloudns.org/file/596e5c74b57f10759907c.jpg\n",
      "image/jpeg\n",
      "https://img.crab888.cloudns.org/file/5595602a1527e7a456b4c.jpg\n",
      "image/jpeg\n",
      "https://img.crab888.cloudns.org/file/5c6247af7e3598026ded5.jpg\n",
      "image/jpeg\n",
      "https://img.crab888.cloudns.org/file/a4067e826ce4b28731c1c.jpg\n",
      "image/jpeg\n",
      "https://img.crab888.cloudns.org/file/e535aac4fb85c068731c6.jpg\n",
      "image/jpeg\n",
      "https://img.crab888.cloudns.org/file/82616edf1536c317f3827.jpg\n",
      "image/jpeg\n",
      "https://img.crab888.cloudns.org/file/eb6d865177817cf77134d.jpg\n",
      "image/jpeg\n",
      "https://img.crab888.cloudns.org/file/567108b396844f78ad644.jpg\n",
      "image/jpeg\n",
      "https://img.crab888.cloudns.org/file/e2e256d6e06713d149230.jpg\n",
      "image/jpeg\n",
      "https://img.crab888.cloudns.org/file/47e85fa7564b770e4553a.jpg\n",
      "image/jpeg\n",
      "https://img.crab888.cloudns.org/file/f84b847192255172f8fa5.jpg\n",
      "image/jpeg\n",
      "https://img.crab888.cloudns.org/file/5d4173c0db229fa9c0e10.jpg\n",
      "image/jpeg\n",
      "https://img.crab888.cloudns.org/file/bc06d11361ddf3499cf1e.jpg\n",
      "image/jpeg\n",
      "https://img.crab888.cloudns.org/file/1b72bd08099ef35faae89.jpg\n",
      "image/jpeg\n",
      "https://img.crab888.cloudns.org/file/f579aeefc68c43dbc6b94.jpg\n",
      "image/jpeg\n",
      "https://img.crab888.cloudns.org/file/b10a42dfb01a5301ee77e.jpg\n",
      "image/jpeg\n",
      "https://img.crab888.cloudns.org/file/faa99d0a6807ff500a642.jpg\n"
     ]
    }
   ],
   "source": [
    "import mimetypes\n",
    "import time\n",
    "\n",
    "total = []\n",
    "error = []\n",
    "\n",
    "for image_file in image_files:\n",
    "    image_file_path = os.path.join(folder_path, image_file)\n",
    "    file_type = mimetypes.guess_type(image_file_path)[0] or 'application/octet-stream'\n",
    "    print(file_type)\n",
    "    files = {\n",
    "        'file': (image_file, open(image_file_path, 'rb'), file_type)\n",
    "    }\n",
    "\n",
    "    time.sleep(5)\n",
    "    response = requests.post(url, headers=headers, files=files)\n",
    "    domain = 'https://img.crab888.cloudns.org'\n",
    "\n",
    "    try:\n",
    "        result = domain + response.json()[0]['src']\n",
    "        print(result)\n",
    "        total.append(result)\n",
    "    except Exception as e:\n",
    "        error.append(image_file_path)\n",
    "        print(image_file)\n",
    "        print(f\"发生错误: {e}\")"
   ],
   "metadata": {
    "collapsed": true,
    "ExecuteTime": {
     "end_time": "2024-06-15T08:17:12.013848Z",
     "start_time": "2024-06-15T08:13:51.891951Z"
    }
   },
   "id": "initial_id",
   "execution_count": 36
  },
  {
   "cell_type": "code",
   "outputs": [
    {
     "name": "stdout",
     "output_type": "stream",
     "text": [
      "['https://img.crab888.cloudns.org/file/bd1591c92d73706061e12.jpg', 'https://img.crab888.cloudns.org/file/5b548542f76b22b26d803.jpg', 'https://img.crab888.cloudns.org/file/647e0854656b5c52c41dd.jpg', 'https://img.crab888.cloudns.org/file/9b4370b57eb023af60fb0.jpg', 'https://img.crab888.cloudns.org/file/eb1f37becb24ef6343051.jpg', 'https://img.crab888.cloudns.org/file/7336fd9dba4b1db33ca70.jpg', 'https://img.crab888.cloudns.org/file/31d200e7642a7fc31a4df.jpg', 'https://img.crab888.cloudns.org/file/596e5c74b57f10759907c.jpg', 'https://img.crab888.cloudns.org/file/5595602a1527e7a456b4c.jpg', 'https://img.crab888.cloudns.org/file/5c6247af7e3598026ded5.jpg', 'https://img.crab888.cloudns.org/file/a4067e826ce4b28731c1c.jpg', 'https://img.crab888.cloudns.org/file/e535aac4fb85c068731c6.jpg', 'https://img.crab888.cloudns.org/file/82616edf1536c317f3827.jpg', 'https://img.crab888.cloudns.org/file/eb6d865177817cf77134d.jpg', 'https://img.crab888.cloudns.org/file/567108b396844f78ad644.jpg', 'https://img.crab888.cloudns.org/file/e2e256d6e06713d149230.jpg', 'https://img.crab888.cloudns.org/file/47e85fa7564b770e4553a.jpg', 'https://img.crab888.cloudns.org/file/f84b847192255172f8fa5.jpg', 'https://img.crab888.cloudns.org/file/5d4173c0db229fa9c0e10.jpg', 'https://img.crab888.cloudns.org/file/bc06d11361ddf3499cf1e.jpg', 'https://img.crab888.cloudns.org/file/1b72bd08099ef35faae89.jpg', 'https://img.crab888.cloudns.org/file/f579aeefc68c43dbc6b94.jpg', 'https://img.crab888.cloudns.org/file/b10a42dfb01a5301ee77e.jpg', 'https://img.crab888.cloudns.org/file/faa99d0a6807ff500a642.jpg']\n",
      "[]\n"
     ]
    }
   ],
   "source": [
    "print(total)\n",
    "print(error)"
   ],
   "metadata": {
    "collapsed": false,
    "ExecuteTime": {
     "end_time": "2024-06-15T08:17:30.890773Z",
     "start_time": "2024-06-15T08:17:30.883962Z"
    }
   },
   "id": "636a9d66a52675a7",
   "execution_count": 37
  },
  {
   "cell_type": "code",
   "outputs": [],
   "source": [
    "# 'w' 表示写入模式，会覆盖文件内容。\n",
    "# 'a' 表示追加模式，会在文件末尾追加内容。\n",
    "file_name = 'img-url.txt'\n",
    "with open(file_name, 'a', encoding='utf-8') as f:\n",
    "    f.write('\\n'.join(total))"
   ],
   "metadata": {
    "collapsed": false,
    "ExecuteTime": {
     "end_time": "2024-06-15T08:17:36.740450Z",
     "start_time": "2024-06-15T08:17:36.732798Z"
    }
   },
   "id": "6589aa5818f3d07a",
   "execution_count": 38
  },
  {
   "cell_type": "code",
   "outputs": [
    {
     "name": "stdout",
     "output_type": "stream",
     "text": [
      "/Users/pangmengting/Downloads/111/IMG_20231225_081956.jpg\n",
      "[{\"src\":\"\\/file\\/1425dd27b0c412a21fc31.jpg\"}]\n"
     ]
    }
   ],
   "source": [
    "import mimetypes\n",
    "\n",
    "image_file_path = os.path.join(folder_path, image_files[0])\n",
    "\n",
    "file_type = mimetypes.guess_type(image_file_path)[0] or 'application/octet-stream'\n",
    "\n",
    "print(image_file_path)\n",
    "files = {\n",
    "    'file': (image_file_path, open(image_file_path, 'rb'), file_type)\n",
    "}\n",
    "response = requests.post(url, headers=headers, files=files)\n",
    "print(response.text)"
   ],
   "metadata": {
    "collapsed": false,
    "ExecuteTime": {
     "end_time": "2024-06-15T07:55:12.937252Z",
     "start_time": "2024-06-15T07:55:10.367246Z"
    }
   },
   "id": "75a9fbd0f7afe514",
   "execution_count": 26
  },
  {
   "cell_type": "code",
   "outputs": [
    {
     "name": "stdout",
     "output_type": "stream",
     "text": [
      "200\n",
      "{\"error\":\"No files passed\"}\n"
     ]
    }
   ],
   "source": [
    "import requests\n",
    "\n",
    "url = \"https://img.crab888.cloudns.org/upload\"\n",
    "\n",
    "headers = {\n",
    "    \"priority\": \"u=1, i\",\n",
    "    \"User-Agent\": \"Apifox/1.0.0 (https://apifox.com)\",\n",
    "    \"Accept\": \"*/*\",\n",
    "    \"Host\": \"img.crab888.cloudns.org\",\n",
    "    \"Connection\": \"keep-alive\",\n",
    "    \"Content-Type\": \"multipart/form-data\"\n",
    "}\n",
    "\n",
    "file_path = \"/Users/pangmengting/Pictures/照片/favicon158k.png\"\n",
    "# files = {\n",
    "#     'file': open(file_path, 'rb')\n",
    "# }\n",
    "files = {\n",
    "    'file': ('favicon158k.png', open(file_path, 'rb'), 'image/png')\n",
    "}\n",
    "response = requests.post(url, headers=headers, files=files)\n",
    "\n",
    "print(response.status_code)\n",
    "print(response.text)"
   ],
   "metadata": {
    "collapsed": false,
    "ExecuteTime": {
     "end_time": "2024-06-15T07:45:41.009548Z",
     "start_time": "2024-06-15T07:45:39.315529Z"
    }
   },
   "id": "acdecd7759b44cea",
   "execution_count": 13
  },
  {
   "cell_type": "code",
   "outputs": [
    {
     "ename": "SSLCertVerificationError",
     "evalue": "[SSL: CERTIFICATE_VERIFY_FAILED] certificate verify failed: unable to get local issuer certificate (_ssl.c:997)",
     "output_type": "error",
     "traceback": [
      "\u001B[0;31m---------------------------------------------------------------------------\u001B[0m",
      "\u001B[0;31mSSLCertVerificationError\u001B[0m                  Traceback (most recent call last)",
      "Cell \u001B[0;32mIn[19], line 30\u001B[0m\n\u001B[1;32m     20\u001B[0m payload \u001B[38;5;241m=\u001B[39m body\n\u001B[1;32m     21\u001B[0m headers \u001B[38;5;241m=\u001B[39m {\n\u001B[1;32m     22\u001B[0m     \u001B[38;5;124m'\u001B[39m\u001B[38;5;124mpriority\u001B[39m\u001B[38;5;124m'\u001B[39m: \u001B[38;5;124m'\u001B[39m\u001B[38;5;124mu=1, i\u001B[39m\u001B[38;5;124m'\u001B[39m,\n\u001B[1;32m     23\u001B[0m     \u001B[38;5;124m'\u001B[39m\u001B[38;5;124mUser-Agent\u001B[39m\u001B[38;5;124m'\u001B[39m: \u001B[38;5;124m'\u001B[39m\u001B[38;5;124mApifox/1.0.0 (https://apifox.com)\u001B[39m\u001B[38;5;124m'\u001B[39m,\n\u001B[0;32m   (...)\u001B[0m\n\u001B[1;32m     28\u001B[0m     \u001B[38;5;124m'\u001B[39m\u001B[38;5;124mContent-type\u001B[39m\u001B[38;5;124m'\u001B[39m: \u001B[38;5;124m'\u001B[39m\u001B[38;5;124mmultipart/form-data; boundary=\u001B[39m\u001B[38;5;132;01m{}\u001B[39;00m\u001B[38;5;124m'\u001B[39m\u001B[38;5;241m.\u001B[39mformat(boundary)\n\u001B[1;32m     29\u001B[0m }\n\u001B[0;32m---> 30\u001B[0m \u001B[43mconn\u001B[49m\u001B[38;5;241;43m.\u001B[39;49m\u001B[43mrequest\u001B[49m\u001B[43m(\u001B[49m\u001B[38;5;124;43m\"\u001B[39;49m\u001B[38;5;124;43mPOST\u001B[39;49m\u001B[38;5;124;43m\"\u001B[39;49m\u001B[43m,\u001B[49m\u001B[43m \u001B[49m\u001B[38;5;124;43m\"\u001B[39;49m\u001B[38;5;124;43m/upload\u001B[39;49m\u001B[38;5;124;43m\"\u001B[39;49m\u001B[43m,\u001B[49m\u001B[43m \u001B[49m\u001B[43mpayload\u001B[49m\u001B[43m,\u001B[49m\u001B[43m \u001B[49m\u001B[43mheaders\u001B[49m\u001B[43m)\u001B[49m\n\u001B[1;32m     31\u001B[0m res \u001B[38;5;241m=\u001B[39m conn\u001B[38;5;241m.\u001B[39mgetresponse()\n\u001B[1;32m     32\u001B[0m data \u001B[38;5;241m=\u001B[39m res\u001B[38;5;241m.\u001B[39mread()\n",
      "File \u001B[0;32m/Library/Frameworks/Python.framework/Versions/3.10/lib/python3.10/http/client.py:1282\u001B[0m, in \u001B[0;36mHTTPConnection.request\u001B[0;34m(self, method, url, body, headers, encode_chunked)\u001B[0m\n\u001B[1;32m   1279\u001B[0m \u001B[38;5;28;01mdef\u001B[39;00m \u001B[38;5;21mrequest\u001B[39m(\u001B[38;5;28mself\u001B[39m, method, url, body\u001B[38;5;241m=\u001B[39m\u001B[38;5;28;01mNone\u001B[39;00m, headers\u001B[38;5;241m=\u001B[39m{}, \u001B[38;5;241m*\u001B[39m,\n\u001B[1;32m   1280\u001B[0m             encode_chunked\u001B[38;5;241m=\u001B[39m\u001B[38;5;28;01mFalse\u001B[39;00m):\n\u001B[1;32m   1281\u001B[0m \u001B[38;5;250m    \u001B[39m\u001B[38;5;124;03m\"\"\"Send a complete request to the server.\"\"\"\u001B[39;00m\n\u001B[0;32m-> 1282\u001B[0m     \u001B[38;5;28;43mself\u001B[39;49m\u001B[38;5;241;43m.\u001B[39;49m\u001B[43m_send_request\u001B[49m\u001B[43m(\u001B[49m\u001B[43mmethod\u001B[49m\u001B[43m,\u001B[49m\u001B[43m \u001B[49m\u001B[43murl\u001B[49m\u001B[43m,\u001B[49m\u001B[43m \u001B[49m\u001B[43mbody\u001B[49m\u001B[43m,\u001B[49m\u001B[43m \u001B[49m\u001B[43mheaders\u001B[49m\u001B[43m,\u001B[49m\u001B[43m \u001B[49m\u001B[43mencode_chunked\u001B[49m\u001B[43m)\u001B[49m\n",
      "File \u001B[0;32m/Library/Frameworks/Python.framework/Versions/3.10/lib/python3.10/http/client.py:1328\u001B[0m, in \u001B[0;36mHTTPConnection._send_request\u001B[0;34m(self, method, url, body, headers, encode_chunked)\u001B[0m\n\u001B[1;32m   1324\u001B[0m \u001B[38;5;28;01mif\u001B[39;00m \u001B[38;5;28misinstance\u001B[39m(body, \u001B[38;5;28mstr\u001B[39m):\n\u001B[1;32m   1325\u001B[0m     \u001B[38;5;66;03m# RFC 2616 Section 3.7.1 says that text default has a\u001B[39;00m\n\u001B[1;32m   1326\u001B[0m     \u001B[38;5;66;03m# default charset of iso-8859-1.\u001B[39;00m\n\u001B[1;32m   1327\u001B[0m     body \u001B[38;5;241m=\u001B[39m _encode(body, \u001B[38;5;124m'\u001B[39m\u001B[38;5;124mbody\u001B[39m\u001B[38;5;124m'\u001B[39m)\n\u001B[0;32m-> 1328\u001B[0m \u001B[38;5;28;43mself\u001B[39;49m\u001B[38;5;241;43m.\u001B[39;49m\u001B[43mendheaders\u001B[49m\u001B[43m(\u001B[49m\u001B[43mbody\u001B[49m\u001B[43m,\u001B[49m\u001B[43m \u001B[49m\u001B[43mencode_chunked\u001B[49m\u001B[38;5;241;43m=\u001B[39;49m\u001B[43mencode_chunked\u001B[49m\u001B[43m)\u001B[49m\n",
      "File \u001B[0;32m/Library/Frameworks/Python.framework/Versions/3.10/lib/python3.10/http/client.py:1277\u001B[0m, in \u001B[0;36mHTTPConnection.endheaders\u001B[0;34m(self, message_body, encode_chunked)\u001B[0m\n\u001B[1;32m   1275\u001B[0m \u001B[38;5;28;01melse\u001B[39;00m:\n\u001B[1;32m   1276\u001B[0m     \u001B[38;5;28;01mraise\u001B[39;00m CannotSendHeader()\n\u001B[0;32m-> 1277\u001B[0m \u001B[38;5;28;43mself\u001B[39;49m\u001B[38;5;241;43m.\u001B[39;49m\u001B[43m_send_output\u001B[49m\u001B[43m(\u001B[49m\u001B[43mmessage_body\u001B[49m\u001B[43m,\u001B[49m\u001B[43m \u001B[49m\u001B[43mencode_chunked\u001B[49m\u001B[38;5;241;43m=\u001B[39;49m\u001B[43mencode_chunked\u001B[49m\u001B[43m)\u001B[49m\n",
      "File \u001B[0;32m/Library/Frameworks/Python.framework/Versions/3.10/lib/python3.10/http/client.py:1037\u001B[0m, in \u001B[0;36mHTTPConnection._send_output\u001B[0;34m(self, message_body, encode_chunked)\u001B[0m\n\u001B[1;32m   1035\u001B[0m msg \u001B[38;5;241m=\u001B[39m \u001B[38;5;124mb\u001B[39m\u001B[38;5;124m\"\u001B[39m\u001B[38;5;130;01m\\r\u001B[39;00m\u001B[38;5;130;01m\\n\u001B[39;00m\u001B[38;5;124m\"\u001B[39m\u001B[38;5;241m.\u001B[39mjoin(\u001B[38;5;28mself\u001B[39m\u001B[38;5;241m.\u001B[39m_buffer)\n\u001B[1;32m   1036\u001B[0m \u001B[38;5;28;01mdel\u001B[39;00m \u001B[38;5;28mself\u001B[39m\u001B[38;5;241m.\u001B[39m_buffer[:]\n\u001B[0;32m-> 1037\u001B[0m \u001B[38;5;28;43mself\u001B[39;49m\u001B[38;5;241;43m.\u001B[39;49m\u001B[43msend\u001B[49m\u001B[43m(\u001B[49m\u001B[43mmsg\u001B[49m\u001B[43m)\u001B[49m\n\u001B[1;32m   1039\u001B[0m \u001B[38;5;28;01mif\u001B[39;00m message_body \u001B[38;5;129;01mis\u001B[39;00m \u001B[38;5;129;01mnot\u001B[39;00m \u001B[38;5;28;01mNone\u001B[39;00m:\n\u001B[1;32m   1040\u001B[0m \n\u001B[1;32m   1041\u001B[0m     \u001B[38;5;66;03m# create a consistent interface to message_body\u001B[39;00m\n\u001B[1;32m   1042\u001B[0m     \u001B[38;5;28;01mif\u001B[39;00m \u001B[38;5;28mhasattr\u001B[39m(message_body, \u001B[38;5;124m'\u001B[39m\u001B[38;5;124mread\u001B[39m\u001B[38;5;124m'\u001B[39m):\n\u001B[1;32m   1043\u001B[0m         \u001B[38;5;66;03m# Let file-like take precedence over byte-like.  This\u001B[39;00m\n\u001B[1;32m   1044\u001B[0m         \u001B[38;5;66;03m# is needed to allow the current position of mmap'ed\u001B[39;00m\n\u001B[1;32m   1045\u001B[0m         \u001B[38;5;66;03m# files to be taken into account.\u001B[39;00m\n",
      "File \u001B[0;32m/Library/Frameworks/Python.framework/Versions/3.10/lib/python3.10/http/client.py:975\u001B[0m, in \u001B[0;36mHTTPConnection.send\u001B[0;34m(self, data)\u001B[0m\n\u001B[1;32m    973\u001B[0m \u001B[38;5;28;01mif\u001B[39;00m \u001B[38;5;28mself\u001B[39m\u001B[38;5;241m.\u001B[39msock \u001B[38;5;129;01mis\u001B[39;00m \u001B[38;5;28;01mNone\u001B[39;00m:\n\u001B[1;32m    974\u001B[0m     \u001B[38;5;28;01mif\u001B[39;00m \u001B[38;5;28mself\u001B[39m\u001B[38;5;241m.\u001B[39mauto_open:\n\u001B[0;32m--> 975\u001B[0m         \u001B[38;5;28;43mself\u001B[39;49m\u001B[38;5;241;43m.\u001B[39;49m\u001B[43mconnect\u001B[49m\u001B[43m(\u001B[49m\u001B[43m)\u001B[49m\n\u001B[1;32m    976\u001B[0m     \u001B[38;5;28;01melse\u001B[39;00m:\n\u001B[1;32m    977\u001B[0m         \u001B[38;5;28;01mraise\u001B[39;00m NotConnected()\n",
      "File \u001B[0;32m/Library/Frameworks/Python.framework/Versions/3.10/lib/python3.10/http/client.py:1454\u001B[0m, in \u001B[0;36mHTTPSConnection.connect\u001B[0;34m(self)\u001B[0m\n\u001B[1;32m   1451\u001B[0m \u001B[38;5;28;01melse\u001B[39;00m:\n\u001B[1;32m   1452\u001B[0m     server_hostname \u001B[38;5;241m=\u001B[39m \u001B[38;5;28mself\u001B[39m\u001B[38;5;241m.\u001B[39mhost\n\u001B[0;32m-> 1454\u001B[0m \u001B[38;5;28mself\u001B[39m\u001B[38;5;241m.\u001B[39msock \u001B[38;5;241m=\u001B[39m \u001B[38;5;28;43mself\u001B[39;49m\u001B[38;5;241;43m.\u001B[39;49m\u001B[43m_context\u001B[49m\u001B[38;5;241;43m.\u001B[39;49m\u001B[43mwrap_socket\u001B[49m\u001B[43m(\u001B[49m\u001B[38;5;28;43mself\u001B[39;49m\u001B[38;5;241;43m.\u001B[39;49m\u001B[43msock\u001B[49m\u001B[43m,\u001B[49m\n\u001B[1;32m   1455\u001B[0m \u001B[43m                                      \u001B[49m\u001B[43mserver_hostname\u001B[49m\u001B[38;5;241;43m=\u001B[39;49m\u001B[43mserver_hostname\u001B[49m\u001B[43m)\u001B[49m\n",
      "File \u001B[0;32m/Library/Frameworks/Python.framework/Versions/3.10/lib/python3.10/ssl.py:513\u001B[0m, in \u001B[0;36mSSLContext.wrap_socket\u001B[0;34m(self, sock, server_side, do_handshake_on_connect, suppress_ragged_eofs, server_hostname, session)\u001B[0m\n\u001B[1;32m    507\u001B[0m \u001B[38;5;28;01mdef\u001B[39;00m \u001B[38;5;21mwrap_socket\u001B[39m(\u001B[38;5;28mself\u001B[39m, sock, server_side\u001B[38;5;241m=\u001B[39m\u001B[38;5;28;01mFalse\u001B[39;00m,\n\u001B[1;32m    508\u001B[0m                 do_handshake_on_connect\u001B[38;5;241m=\u001B[39m\u001B[38;5;28;01mTrue\u001B[39;00m,\n\u001B[1;32m    509\u001B[0m                 suppress_ragged_eofs\u001B[38;5;241m=\u001B[39m\u001B[38;5;28;01mTrue\u001B[39;00m,\n\u001B[1;32m    510\u001B[0m                 server_hostname\u001B[38;5;241m=\u001B[39m\u001B[38;5;28;01mNone\u001B[39;00m, session\u001B[38;5;241m=\u001B[39m\u001B[38;5;28;01mNone\u001B[39;00m):\n\u001B[1;32m    511\u001B[0m     \u001B[38;5;66;03m# SSLSocket class handles server_hostname encoding before it calls\u001B[39;00m\n\u001B[1;32m    512\u001B[0m     \u001B[38;5;66;03m# ctx._wrap_socket()\u001B[39;00m\n\u001B[0;32m--> 513\u001B[0m     \u001B[38;5;28;01mreturn\u001B[39;00m \u001B[38;5;28;43mself\u001B[39;49m\u001B[38;5;241;43m.\u001B[39;49m\u001B[43msslsocket_class\u001B[49m\u001B[38;5;241;43m.\u001B[39;49m\u001B[43m_create\u001B[49m\u001B[43m(\u001B[49m\n\u001B[1;32m    514\u001B[0m \u001B[43m        \u001B[49m\u001B[43msock\u001B[49m\u001B[38;5;241;43m=\u001B[39;49m\u001B[43msock\u001B[49m\u001B[43m,\u001B[49m\n\u001B[1;32m    515\u001B[0m \u001B[43m        \u001B[49m\u001B[43mserver_side\u001B[49m\u001B[38;5;241;43m=\u001B[39;49m\u001B[43mserver_side\u001B[49m\u001B[43m,\u001B[49m\n\u001B[1;32m    516\u001B[0m \u001B[43m        \u001B[49m\u001B[43mdo_handshake_on_connect\u001B[49m\u001B[38;5;241;43m=\u001B[39;49m\u001B[43mdo_handshake_on_connect\u001B[49m\u001B[43m,\u001B[49m\n\u001B[1;32m    517\u001B[0m \u001B[43m        \u001B[49m\u001B[43msuppress_ragged_eofs\u001B[49m\u001B[38;5;241;43m=\u001B[39;49m\u001B[43msuppress_ragged_eofs\u001B[49m\u001B[43m,\u001B[49m\n\u001B[1;32m    518\u001B[0m \u001B[43m        \u001B[49m\u001B[43mserver_hostname\u001B[49m\u001B[38;5;241;43m=\u001B[39;49m\u001B[43mserver_hostname\u001B[49m\u001B[43m,\u001B[49m\n\u001B[1;32m    519\u001B[0m \u001B[43m        \u001B[49m\u001B[43mcontext\u001B[49m\u001B[38;5;241;43m=\u001B[39;49m\u001B[38;5;28;43mself\u001B[39;49m\u001B[43m,\u001B[49m\n\u001B[1;32m    520\u001B[0m \u001B[43m        \u001B[49m\u001B[43msession\u001B[49m\u001B[38;5;241;43m=\u001B[39;49m\u001B[43msession\u001B[49m\n\u001B[1;32m    521\u001B[0m \u001B[43m    \u001B[49m\u001B[43m)\u001B[49m\n",
      "File \u001B[0;32m/Library/Frameworks/Python.framework/Versions/3.10/lib/python3.10/ssl.py:1071\u001B[0m, in \u001B[0;36mSSLSocket._create\u001B[0;34m(cls, sock, server_side, do_handshake_on_connect, suppress_ragged_eofs, server_hostname, context, session)\u001B[0m\n\u001B[1;32m   1068\u001B[0m         \u001B[38;5;28;01mif\u001B[39;00m timeout \u001B[38;5;241m==\u001B[39m \u001B[38;5;241m0.0\u001B[39m:\n\u001B[1;32m   1069\u001B[0m             \u001B[38;5;66;03m# non-blocking\u001B[39;00m\n\u001B[1;32m   1070\u001B[0m             \u001B[38;5;28;01mraise\u001B[39;00m \u001B[38;5;167;01mValueError\u001B[39;00m(\u001B[38;5;124m\"\u001B[39m\u001B[38;5;124mdo_handshake_on_connect should not be specified for non-blocking sockets\u001B[39m\u001B[38;5;124m\"\u001B[39m)\n\u001B[0;32m-> 1071\u001B[0m         \u001B[38;5;28;43mself\u001B[39;49m\u001B[38;5;241;43m.\u001B[39;49m\u001B[43mdo_handshake\u001B[49m\u001B[43m(\u001B[49m\u001B[43m)\u001B[49m\n\u001B[1;32m   1072\u001B[0m \u001B[38;5;28;01mexcept\u001B[39;00m (\u001B[38;5;167;01mOSError\u001B[39;00m, \u001B[38;5;167;01mValueError\u001B[39;00m):\n\u001B[1;32m   1073\u001B[0m     \u001B[38;5;28mself\u001B[39m\u001B[38;5;241m.\u001B[39mclose()\n",
      "File \u001B[0;32m/Library/Frameworks/Python.framework/Versions/3.10/lib/python3.10/ssl.py:1342\u001B[0m, in \u001B[0;36mSSLSocket.do_handshake\u001B[0;34m(self, block)\u001B[0m\n\u001B[1;32m   1340\u001B[0m     \u001B[38;5;28;01mif\u001B[39;00m timeout \u001B[38;5;241m==\u001B[39m \u001B[38;5;241m0.0\u001B[39m \u001B[38;5;129;01mand\u001B[39;00m block:\n\u001B[1;32m   1341\u001B[0m         \u001B[38;5;28mself\u001B[39m\u001B[38;5;241m.\u001B[39msettimeout(\u001B[38;5;28;01mNone\u001B[39;00m)\n\u001B[0;32m-> 1342\u001B[0m     \u001B[38;5;28;43mself\u001B[39;49m\u001B[38;5;241;43m.\u001B[39;49m\u001B[43m_sslobj\u001B[49m\u001B[38;5;241;43m.\u001B[39;49m\u001B[43mdo_handshake\u001B[49m\u001B[43m(\u001B[49m\u001B[43m)\u001B[49m\n\u001B[1;32m   1343\u001B[0m \u001B[38;5;28;01mfinally\u001B[39;00m:\n\u001B[1;32m   1344\u001B[0m     \u001B[38;5;28mself\u001B[39m\u001B[38;5;241m.\u001B[39msettimeout(timeout)\n",
      "\u001B[0;31mSSLCertVerificationError\u001B[0m: [SSL: CERTIFICATE_VERIFY_FAILED] certificate verify failed: unable to get local issuer certificate (_ssl.c:997)"
     ]
    }
   ],
   "source": [
    "import http.client\n",
    "import mimetypes\n",
    "from codecs import encode\n",
    "\n",
    "conn = http.client.HTTPSConnection(\"img.crab888.cloudns.org\")\n",
    "dataList = []\n",
    "boundary = 'wL36Yn8afVp8Ag7AmP8qZ0SA4n1v9T'\n",
    "dataList.append(encode('--' + boundary))\n",
    "dataList.append(encode('Content-Disposition: form-data; name=file; filename={0}'.format('favicon158k.png')))\n",
    "\n",
    "fileType = mimetypes.guess_type('/Users/pangmengting/Pictures/照片/favicon158k.png')[0] or 'application/octet-stream'\n",
    "dataList.append(encode('Content-Type: {}'.format(fileType)))\n",
    "dataList.append(encode(''))\n",
    "\n",
    "with open('/Users/pangmengting/Pictures/照片/favicon158k.png', 'rb') as f:\n",
    "    dataList.append(f.read())\n",
    "dataList.append(encode('--' + boundary + '--'))\n",
    "dataList.append(encode(''))\n",
    "body = b'\\r\\n'.join(dataList)\n",
    "payload = body\n",
    "headers = {\n",
    "    'priority': 'u=1, i',\n",
    "    'User-Agent': 'Apifox/1.0.0 (https://apifox.com)',\n",
    "    'Accept': '*/*',\n",
    "    'Host': 'img.crab888.cloudns.org',\n",
    "    'Connection': 'keep-alive',\n",
    "    'Content-Type': 'multipart/form-data; boundary=--------------------------465103957997382848259703',\n",
    "    'Content-type': 'multipart/form-data; boundary={}'.format(boundary)\n",
    "}\n",
    "conn.request(\"POST\", \"/upload\", payload, headers)\n",
    "res = conn.getresponse()\n",
    "data = res.read()\n",
    "print(data.decode(\"utf-8\"))"
   ],
   "metadata": {
    "collapsed": false,
    "ExecuteTime": {
     "end_time": "2024-06-15T07:50:35.748375Z",
     "start_time": "2024-06-15T07:50:34.986806Z"
    }
   },
   "id": "5e2decd9e9fcb681",
   "execution_count": 19
  },
  {
   "cell_type": "code",
   "outputs": [
    {
     "name": "stdout",
     "output_type": "stream",
     "text": [
      "200\n",
      "[{\"src\":\"\\/file\\/fc3e509168cf0ef5f3344.png\"}]\n"
     ]
    }
   ],
   "source": [
    "import requests\n",
    "import mimetypes\n",
    "\n",
    "url = \"https://img.crab888.cloudns.org/upload\"\n",
    "\n",
    "# 文件路径\n",
    "file_path = \"/Users/pangmengting/Pictures/照片/favicon158k.png\"\n",
    "file_name = \"favicon158k.png\"\n",
    "\n",
    "# 猜测文件类型\n",
    "file_type = mimetypes.guess_type(file_path)[0] or 'application/octet-stream'\n",
    "\n",
    "# 打开文件\n",
    "with open(file_path, 'rb') as f:\n",
    "    files = {\n",
    "        'file': (file_name, f, file_type)\n",
    "    }\n",
    "\n",
    "    headers = {\n",
    "        'priority': 'u=1, i',\n",
    "        'User-Agent': 'Apifox/1.0.0 (https://apifox.com)',\n",
    "        'Accept': '*/*',\n",
    "        'Host': 'img.crab888.cloudns.org',\n",
    "        'Connection': 'keep-alive'\n",
    "    }\n",
    "\n",
    "    response = requests.post(url, files=files, headers=headers)\n",
    "\n",
    "print(response.status_code)\n",
    "print(response.text)"
   ],
   "metadata": {
    "collapsed": false,
    "ExecuteTime": {
     "end_time": "2024-06-15T07:51:47.986945Z",
     "start_time": "2024-06-15T07:51:45.103253Z"
    }
   },
   "id": "f33de4a0bea17b07",
   "execution_count": 20
  },
  {
   "cell_type": "code",
   "outputs": [
    {
     "name": "stdout",
     "output_type": "stream",
     "text": [
      "https://img.crab888.cloudns.org/file/1425dd27b0c412a21fc31.jpg\n"
     ]
    }
   ],
   "source": [
    "domain = 'https://img.crab888.cloudns.org'\n",
    "print(domain + response.json()[0]['src'])"
   ],
   "metadata": {
    "collapsed": false,
    "ExecuteTime": {
     "end_time": "2024-06-15T07:57:30.053988Z",
     "start_time": "2024-06-15T07:57:30.048005Z"
    }
   },
   "id": "ea737fdefc03956f",
   "execution_count": 28
  },
  {
   "cell_type": "code",
   "outputs": [],
   "source": [],
   "metadata": {
    "collapsed": false
   },
   "id": "38f3d7cc76d64fd0"
  }
 ],
 "metadata": {
  "kernelspec": {
   "display_name": "Python 3",
   "language": "python",
   "name": "python3"
  },
  "language_info": {
   "codemirror_mode": {
    "name": "ipython",
    "version": 2
   },
   "file_extension": ".py",
   "mimetype": "text/x-python",
   "name": "python",
   "nbconvert_exporter": "python",
   "pygments_lexer": "ipython2",
   "version": "2.7.6"
  }
 },
 "nbformat": 4,
 "nbformat_minor": 5
}
