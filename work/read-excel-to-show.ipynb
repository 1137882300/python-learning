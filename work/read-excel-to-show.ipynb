{
 "cells": [
  {
   "cell_type": "code",
   "outputs": [],
   "source": [
    "import requests\n",
    "import json\n",
    "\n",
    "error_list = []\n",
    "\n",
    "\n",
    "def process_picture(picture_url):\n",
    "    print(picture_url)\n",
    "    # API 请求的URL\n",
    "    url = 'https://fxhz.wgly.hangzhou.gov.cn/dashboard/api/oss/transfer/2oss'\n",
    "\n",
    "    # 请求的头部\n",
    "    headers = {\n",
    "        'User-Agent': 'Apifox/1.0.0 (https://apifox.com)',\n",
    "        'Content-Type': 'application/json'\n",
    "    }\n",
    "\n",
    "    # 请求的正文\n",
    "    payload = json.dumps({\n",
    "        \"urlList\": [picture_url],\n",
    "        \"separator\": \".cn/whyxoss/\"\n",
    "    })\n",
    "\n",
    "    # 发送 POST 请求\n",
    "    try:\n",
    "        response = requests.post(url, headers=headers, data=payload)\n",
    "\n",
    "        # 检查响应状态码\n",
    "        if response.status_code == 200:\n",
    "            # 假设返回的 JSON 中有一个 'data' 字段\n",
    "            data = response.json().get('data')\n",
    "            return json.loads(data)[0]\n",
    "        else:\n",
    "            error_list.append(picture_url)\n",
    "            print(f\"请求失败，状态码: {response.status_code}\")\n",
    "            return 'oooo'\n",
    "    except Exception as e:\n",
    "        error_list.append(picture_url)\n",
    "        print(f\"处理图片过程中发生异常: {e}\")\n",
    "        return 'oooo1'"
   ],
   "metadata": {
    "collapsed": false,
    "ExecuteTime": {
     "end_time": "2024-11-29T06:44:47.788755Z",
     "start_time": "2024-11-29T06:44:47.784656Z"
    }
   },
   "id": "42fe8784f09b86de",
   "execution_count": 5
  },
  {
   "cell_type": "code",
   "outputs": [
    {
     "name": "stdout",
     "output_type": "stream",
     "text": [
      "https://fxhz.wgly.hangzhou.gov.cn/whyxoss/whyx/20230302/90857_1652084020096998.jpg\n",
      "https://fxhz.wgly.hangzhou.gov.cn/whyxoss/whyx/20230302/17458_1652085327175240.jpg\n",
      "https://fxhz.wgly.hangzhou.gov.cn/whyxoss/whyx/20230302/13943_1652086318362532.jpg\n",
      "https://fxhz.wgly.hangzhou.gov.cn/whyxoss/whyx/20230302/32841_1652086395066520.png\n",
      "https://fxhz.wgly.hangzhou.gov.cn/whyxoss/whyx/20230302/89375_1652086472970446.jpg\n",
      "https://fxhz.wgly.hangzhou.gov.cn/whyxoss/whyx/20230302/39473_1652086741251586.jpg\n",
      "https://fxhz.wgly.hangzhou.gov.cn/whyxoss/whyx/20230302/56027_1652086812369751.jpg\n",
      "https://fxhz.wgly.hangzhou.gov.cn/whyxoss/whyx/20230302/12446_1652086919851818.jpg\n",
      "https://fxhz.wgly.hangzhou.gov.cn/whyxoss/whyx/20230302/20885_165215024506114.jpg\n",
      "https://fxhz.wgly.hangzhou.gov.cn/whyxoss/whyx/20230302/61878_1652150308032149.jpg\n",
      "https://fxhz.wgly.hangzhou.gov.cn/whyxoss/whyx/20230302/25082_1652150435779881.jpg\n",
      "https://fxhz.wgly.hangzhou.gov.cn/whyxoss/whyx/20230302/42179_16521505037911.jpg\n",
      "https://fxhz.wgly.hangzhou.gov.cn/whyxoss/whyx/20230302/88146_16521505672931018.png\n",
      "https://fxhz.wgly.hangzhou.gov.cn/whyxoss/whyx/20230302/76085_1652150637161786.jpg\n",
      "https://fxhz.wgly.hangzhou.gov.cn/whyxoss/whyx/20230117/22085_6e87c0b58ed76b9e39fc0d8f90e8d23.jpg\n",
      "https://fxhz.wgly.hangzhou.gov.cn/whyxoss/whyx/20221216/98441479101_78388.png\n",
      "https://fxhz.wgly.hangzhou.gov.cn/whyxoss/whyx/20221219/41152864936_96210.jpg\n",
      "https://fxhz.wgly.hangzhou.gov.cn/whyxoss/whyx/20221219/29429518606_53421.jpg\n",
      "https://fxhz.wgly.hangzhou.gov.cn/whyxoss/whyx/20221224/36281_53e9f70bf367f1b936127d0f3b6d35b.jpg\n",
      "https://fxhz.wgly.hangzhou.gov.cn/whyxoss/whyx/20221225/37247_4bbb855985be239f3d2dc6aad3782ca.jpg\n",
      "https://fxhz.wgly.hangzhou.gov.cn/whyxoss/whyx/20230117/61785_455959eff24c33f9de46a173fe2b749.jpg\n",
      "https://fxhz.wgly.hangzhou.gov.cn/whyxoss/whyx/20230117/7990_6e9b391d26c606f661c753875597c0d.jpg\n",
      "https://fxhz.wgly.hangzhou.gov.cn/whyxoss/whyx/20221225/67034_434119330c617fd84a08cdaaed4f5eb.jpg\n",
      "https://fxhz.wgly.hangzhou.gov.cn/whyxoss/whyx/20221228/23689_23704d2804c5afc551e823a46c23694.jpg\n",
      "https://fxhz.wgly.hangzhou.gov.cn/whyxoss/whyx/20221228/86519_8127a321ea5154e4e709033bf3fd483.jpg\n",
      "https://fxhz.wgly.hangzhou.gov.cn/whyxoss/whyx/20221228/30814_e33e7b8bb1aa84167281ba148243f2d.jpg\n",
      "https://fxhz.wgly.hangzhou.gov.cn/whyxoss/whyx/20230103/82156_9f6a9cf707497ac9338d02d36effa07.jpg\n",
      "https://fxhz.wgly.hangzhou.gov.cn/whyxoss/whyx/20230213/27910535538_36613.png\n",
      "https://fxhz.wgly.hangzhou.gov.cn/whyxoss/whyx/20230312/62894_766d0886-87a0-4b64-a3a2-7fbb94225c20.jpg\n",
      "https://fxhz.wgly.hangzhou.gov.cn/whyxoss/whyx/20230511/01292245338_88663.jpg\n",
      "https://fxhz.wgly.hangzhou.gov.cn/whyxoss/whyx/20230526/45478_8a935fd2-905f-423f-a5cc-aec76b6c504d__4565fc5c916cb288a58581995c3eee0.jpg\n",
      "https://fxhz.wgly.hangzhou.gov.cn/whyxoss/whyx/20230630/12361730262_88994.png\n",
      "https://fxhz.wgly.hangzhou.gov.cn/whyxoss/whyx/20230720/95077_3-1.png\n",
      "https://fxhz.wgly.hangzhou.gov.cn/whyxoss/whyx/20230714/31793_3-4.png\n"
     ]
    }
   ],
   "source": [
    "import os\n",
    "import pandas as pd\n",
    "import requests\n",
    "\n",
    "prefix = 'https://fxhz.wgly.hangzhou.gov.cn/whyxoss'\n",
    "\n",
    "# 读取 Excel 文件\n",
    "excel_file = '/Users/pangmengting/Downloads/活动内容.csv'\n",
    "# 从 1560 行开始\n",
    "df = pd.read_excel(excel_file, engine='openpyxl')\n",
    "\n",
    "# 创建保存图片的文件夹\n",
    "# output_folder = 'images'\n",
    "# os.makedirs(output_folder, exist_ok=True)\n",
    "venues = []\n",
    "# 遍历每一行,下载图片并用标题命名\n",
    "for index, row in df.iterrows():\n",
    "    activity_name = row['activity_name']\n",
    "    address = row['address']\n",
    "    h_pic = prefix + row['h_pic']\n",
    "    start_time = row['start_time']\n",
    "    end_time = row['end_time']\n",
    "    description = row['description']\n",
    "\n",
    "    pic = process_picture(h_pic)\n",
    "\n",
    "    # 创建包含活动信息的字典\n",
    "    venue_info = {\n",
    "        'name': activity_name,\n",
    "        'address': address,\n",
    "        'cover': pic,\n",
    "        'start_at': start_time,\n",
    "        'end_at': end_time,\n",
    "        'content': description\n",
    "    }\n",
    "\n",
    "    # 将字典添加到venues列表中\n",
    "    venues.append(venue_info)\n"
   ],
   "metadata": {
    "collapsed": false,
    "ExecuteTime": {
     "end_time": "2024-11-29T06:46:06.889671Z",
     "start_time": "2024-11-29T06:44:48.549531Z"
    }
   },
   "id": "78205f8676567101",
   "execution_count": 6
  },
  {
   "cell_type": "code",
   "outputs": [
    {
     "data": {
      "text/plain": "{'activity_name': '杭州金银饰艺',\n 'address': nan,\n 'pic': 'https://fxhz.wgly.hangzhou.gov.cn/oss/whyx/20230302/90857_1652084020096998.jpg',\n 'start_time': Timestamp('2022-05-09 16:14:31'),\n 'end_time': Timestamp('2027-05-31 00:00:00'),\n 'description': '非遗，\\n民族文化的精神植被，\\n民族精神的血脉延续。\\n杭州，\\n历史悠久的文化胜地，\\n人文荟萃的风雅名城。\\n从良渚文化、吴越文化、南宋文化到明清文化；\\n从江河湖海、田间地头、闾巷草野到巍巍古都；\\n这里，诞生了4项世界级非遗，48项国家级非遗，185项省级非遗，368项市级非遗；\\n每一项，都承载着一段回忆，印证着一段历史，\\n一代代的匠人，将温度凝于双手，将匠心沉于热土，在历史文化中汲取养分，从现代文明中激发灵感，百转千回，薪火不灭。\\n让我们跟随小往的脚步，用影像解读民俗，用镜头记录匠心，以瞬间定格的永恒，告诉人们，那些穿透岁月层叠，仍焕发出奇光异彩的杭州非遗······\\n\\xa0\\n\\xa0\\n杭州金银饰艺\\n——传统技艺类 \\xa0\\xa0\\xa0省级项目\\n\\xa0\\n▲提梁镂空银盘\\n▲铜镀银双龙戏珠暖锅\\n杭州金银饰艺，历史悠久，上可追溯到五代吴越国。据史料记载，吴越归宋时，贡奉之物中金银器皿颇多，从西湖雷峰塔地宫出土的吴越时期的鎏金纯银佛像，便是最好的佐证。南宋皇室迁都杭州，大批为皇室服务的能工巧匠纷纷南下，使杭州的金银珠宝首饰技艺集南北大成。清末民初，杭州经济繁荣，商贾云集杭城，金银作坊有了发展，1865年上海方某来杭，在珠宝巷开设信源银楼，后乾源、义源也相继开设，形成“三源争市”局面。此时珠宝巷已成为杭州金银饰品交易中心，据民间三十五年《浙江工商年鉴》载，当时有大小银楼49家，清泰街就有19家之多。后来信源由胡雪岩侄儿胡止祥继盘，由于经营有方，讲信誉，技艺精，使“信源”品牌家喻户晓。当时生产条件极其简单，单靠镫头，榔头，钳子，铘刀等一些自制工具着手制作，全凭艺人的手工技艺。\\n▲杭州信源银楼\\n金银首饰主要有戒指、耳插、挂件、手镯、手链、胸针、领夹、袖钮等八大类。款式达数百种。\\n▲制作工具集图\\n制作足金类首饰的重点工序有：出初胚，锻打、理细、上槽板、窝拱、修剪、绕簧、剪粒、套联、焊接、制钩、连接、成型、刻凿、制环、套装等。\\n制作K金首饰工序有：按宝石形做置口，搭花造型，锉制修整，抛镀后嵌宝等。\\n▲杭州金银饰艺 制作首饰\\n▲金银饰艺制作过程\\n手工刻花工艺分二类，一类是根据设计画稿，由钢刻师傅在钢坯上刻凿图案，供镶嵌制作工压花片作产品造型；另一类主要用于足金锁片（挂件），师傅直接在金片上刻花。\\n▲银制品六和塔\\n杭州金银饰艺基本特征可概括为坚实、耐用、精致、美观八字。作品设计新颖，工艺精湛，浑然天成，不留加工痕迹，通体光亮，精致入微。具有较高的艺术审美价值。\\n杭州金银饰艺2007年被列入浙江省非物质文化遗产代表性项目名录。'}"
     },
     "execution_count": 10,
     "metadata": {},
     "output_type": "execute_result"
    }
   ],
   "source": [
    "venues[0]"
   ],
   "metadata": {
    "collapsed": false,
    "ExecuteTime": {
     "end_time": "2024-11-29T06:59:46.188861Z",
     "start_time": "2024-11-29T06:59:46.178130Z"
    }
   },
   "id": "559ce99ae74504a5",
   "execution_count": 10
  },
  {
   "cell_type": "code",
   "outputs": [],
   "source": [
    "import numpy as np\n",
    "\n",
    "sql_statements = []\n",
    "id = 10000\n",
    "for venue in venues:\n",
    "    id += 1\n",
    "\n",
    "    desc = venue['description'].replace('\\n', '').replace('    ', ' ').strip()\n",
    "    address = venue['address']\n",
    "\n",
    "    if address in [None, np.nan, '']:\n",
    "        address = ''\n",
    "\n",
    "    sql = f\"\"\"INSERT INTO \"public\".\"cms_show\" (\"id\", \"name\", \"cover\", \"address\", \"content\", \"start_at\", \"end_at\", \"category\", \"status\") \n",
    "    VALUES ({id}, '{venue['activity_name']}', '{venue['pic']}', '{address}', '{desc}', '{venue['start_time']}', '{venue['end_time']}', 16,1);\"\"\"\n",
    "    sql_statements.append(sql)"
   ],
   "metadata": {
    "collapsed": false,
    "ExecuteTime": {
     "end_time": "2024-11-29T07:06:19.924863Z",
     "start_time": "2024-11-29T07:06:19.921203Z"
    }
   },
   "id": "653577f5a062cabc",
   "execution_count": 22
  },
  {
   "cell_type": "code",
   "outputs": [],
   "source": [
    "# 将SQL语句写入文件\n",
    "with open('show.sql', 'w', encoding='utf-8') as file:\n",
    "    for statement in sql_statements:\n",
    "        file.write(statement + '\\n')"
   ],
   "metadata": {
    "collapsed": false,
    "ExecuteTime": {
     "end_time": "2024-11-29T07:06:20.367099Z",
     "start_time": "2024-11-29T07:06:20.363959Z"
    }
   },
   "id": "3667ebfd066d9745",
   "execution_count": 23
  },
  {
   "cell_type": "code",
   "outputs": [],
   "source": [],
   "metadata": {
    "collapsed": false
   },
   "id": "b04b31e2674de29d"
  }
 ],
 "metadata": {
  "kernelspec": {
   "display_name": "Python 3",
   "language": "python",
   "name": "python3"
  },
  "language_info": {
   "codemirror_mode": {
    "name": "ipython",
    "version": 2
   },
   "file_extension": ".py",
   "mimetype": "text/x-python",
   "name": "python",
   "nbconvert_exporter": "python",
   "pygments_lexer": "ipython2",
   "version": "2.7.6"
  }
 },
 "nbformat": 4,
 "nbformat_minor": 5
}
