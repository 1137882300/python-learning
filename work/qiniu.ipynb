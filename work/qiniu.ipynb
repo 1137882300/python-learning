{
 "cells": [
  {
   "cell_type": "code",
   "execution_count": 15,
   "id": "176ef9e335db1a55",
   "metadata": {
    "collapsed": false,
    "ExecuteTime": {
     "end_time": "2024-04-30T06:41:33.611173Z",
     "start_time": "2024-04-30T06:41:33.606950Z"
    }
   },
   "outputs": [],
   "source": [
    "from qiniu import Auth, put_file, UploadProgressRecorder\n",
    "\n",
    "access_key = \"I1HyWWCnapee0hteBFqvNc_Vf8GuoHrKUs7iV6-J\"\n",
    "secret_key = \"YB5s0N1lLbj8b6UiFW2VXkHHZyZm9H5jcaZqvLi9\"\n",
    "# 构建鉴权对象\n",
    "q = Auth(access_key, secret_key)\n",
    "\n",
    "# 要上传的空间\n",
    "bucket_name = 'luobusi'\n"
   ]
  },
  {
   "cell_type": "code",
   "outputs": [
    {
     "name": "stdout",
     "output_type": "stream",
     "text": [
      "I1HyWWCnapee0hteBFqvNc_Vf8GuoHrKUs7iV6-J:zL8Q0R69GoDnNUDuF2wtObr5QmE=:eyJzY29wZSI6Imx1b2J1c2k6a2V5L21vdmllIiwiZGVhZGxpbmUiOjE3MTQ0NjI3NjZ9\n",
      "{'hash': 'FirJYBWntgG_mTmtQjKaExrkVk-q', 'key': 'key/movie'}\n",
      "_ResponseInfo__response:<Response [200]>, exception:None, status_code:200, text_body:{\"hash\":\"FirJYBWntgG_mTmtQjKaExrkVk-q\",\"key\":\"key/movie\"}, req_id:vFkAAABQWkiH-8oX, x_log:X-Log\n",
      "Upload completed.\n"
     ]
    }
   ],
   "source": [
    "# a.上传策略中 scope 指定 key 值，只允许用户上传指定 key 的文件\n",
    "\n",
    "\n",
    "# 这个key就是：路径+文件名\n",
    "key = 'key/movie'\n",
    "#获取token的方法指定key\n",
    "token = q.upload_token(bucket_name, key, 3600)\n",
    "print(token)\n",
    "\n",
    "local_file_path = \"/Users/pangmengting/Pictures/照片/香港 2.png\"\n",
    "key2 = \"key2/aaa\"\n",
    "uploader = UploadProgressRecorder(local_file_path)\n",
    "\n",
    "#put方法必须指定相同key才能上传\n",
    "ret, info = put_file(token, key, local_file_path, upload_progress_recorder=uploader)\n",
    "print(ret)\n",
    "print(info)\n",
    "\n",
    "# Track the upload progress\n",
    "while info.status_code == 100:\n",
    "    print(\"Upload Progress: %d%%\" % uploader.get_progress())\n",
    "    uploader.get_built_in_progress_stub()  # Automatically pause for 1s before checking again\n",
    "# Stop tracking the upload progress\n",
    "print(\"Upload completed.\")\n",
    "\n",
    "# 通过指定 key 的方式，token 上会有 access_key\n"
   ],
   "metadata": {
    "collapsed": true,
    "ExecuteTime": {
     "end_time": "2024-04-30T06:39:26.883393Z",
     "start_time": "2024-04-30T06:39:26.559055Z"
    }
   },
   "id": "initial_id",
   "execution_count": 13
  },
  {
   "cell_type": "code",
   "outputs": [
    {
     "name": "stdout",
     "output_type": "stream",
     "text": [
      "{'hash': 'FirJYBWntgG_mTmtQjKaExrkVk-q', 'key': 'two'}\n",
      "_ResponseInfo__response:<Response [200]>, exception:None, status_code:200, text_body:{\"hash\":\"FirJYBWntgG_mTmtQjKaExrkVk-q\",\"key\":\"two\"}, req_id:eaQAAACdN4hqAMsX, x_log:X-Log\n"
     ]
    }
   ],
   "source": [
    "# b.上传策略中 insertOnly 指定为 1 或者指定 forceInsertOnly 为 true，只允许用户上传指定 key ，并且不允许修改\n",
    "\n",
    "# 要上传的空间\n",
    "key = 'two'\n",
    "#insertOnly  指定为 1 \n",
    "policy = {\"insertOnly\": 1}\n",
    "#获取token的方法指定key\n",
    "token = q.upload_token(bucket_name, key, 3600, policy)\n",
    "\n",
    "\"\"\"\n",
    "#forceInsertOnly 为 true\n",
    "policy = {'forceInsertOnly':True} \n",
    "# 注意 forceInsertOnly是新增字段，这时候生成token的方法中 strict_policy 这个参数设置成False才能生效\n",
    "token = q.upload_token(bucket_name, key, 3600, policy, strict_policy=False)\n",
    "\n",
    "\"\"\"\n",
    "local_file_path = \"/Users/pangmengting/Pictures/照片/香港 2.png\"\n",
    "\n",
    "#put方法必须指定相同key才能上传\n",
    "ret, info = put_file(token, key, local_file_path)\n",
    "print(ret)\n",
    "print(info)"
   ],
   "metadata": {
    "collapsed": false,
    "ExecuteTime": {
     "end_time": "2024-04-30T08:09:00.815977Z",
     "start_time": "2024-04-30T08:09:00.653375Z"
    }
   },
   "id": "bc7f7b003221c2e8",
   "execution_count": 66
  },
  {
   "cell_type": "code",
   "outputs": [
    {
     "name": "stdout",
     "output_type": "stream",
     "text": [
      "105314798\n",
      "4194304\n",
      "正在上传: key/video5  进度: 3%\n",
      "105314798\n",
      "8388608\n",
      "正在上传: key/video5  进度: 7%\n",
      "105314798\n",
      "12582912\n",
      "正在上传: key/video5  进度: 11%\n",
      "105314798\n",
      "16777216\n",
      "正在上传: key/video5  进度: 15%\n",
      "105314798\n",
      "20971520\n",
      "正在上传: key/video5  进度: 19%\n",
      "105314798\n",
      "25165824\n",
      "正在上传: key/video5  进度: 23%\n",
      "105314798\n",
      "29360128\n",
      "正在上传: key/video5  进度: 27%\n",
      "105314798\n",
      "33554432\n",
      "正在上传: key/video5  进度: 31%\n",
      "105314798\n",
      "37748736\n",
      "正在上传: key/video5  进度: 35%\n",
      "105314798\n",
      "41943040\n",
      "正在上传: key/video5  进度: 39%\n",
      "105314798\n",
      "46137344\n",
      "正在上传: key/video5  进度: 43%\n",
      "105314798\n",
      "50331648\n",
      "正在上传: key/video5  进度: 47%\n",
      "105314798\n",
      "54525952\n",
      "正在上传: key/video5  进度: 51%\n",
      "105314798\n",
      "58720256\n",
      "正在上传: key/video5  进度: 55%\n",
      "105314798\n",
      "62914560\n",
      "正在上传: key/video5  进度: 59%\n",
      "105314798\n",
      "67108864\n",
      "正在上传: key/video5  进度: 63%\n",
      "105314798\n",
      "71303168\n",
      "正在上传: key/video5  进度: 67%\n",
      "105314798\n",
      "75497472\n",
      "正在上传: key/video5  进度: 71%\n",
      "105314798\n",
      "79691776\n",
      "正在上传: key/video5  进度: 75%\n",
      "105314798\n",
      "83886080\n",
      "正在上传: key/video5  进度: 79%\n",
      "105314798\n",
      "88080384\n",
      "正在上传: key/video5  进度: 83%\n",
      "105314798\n",
      "92274688\n",
      "正在上传: key/video5  进度: 87%\n",
      "105314798\n",
      "96468992\n",
      "正在上传: key/video5  进度: 91%\n",
      "105314798\n",
      "96926190\n",
      "正在上传: key/video5  进度: 92%\n",
      "105314798\n",
      "101120494\n",
      "正在上传: key/video5  进度: 96%\n",
      "105314798\n",
      "105314798\n",
      "正在上传: key/video5  进度: 100%\n",
      "{'hash': 'lpkTTrihx0YI_cQsn_YO8jXkWVuI', 'key': 'key/video5'}\n",
      "_ResponseInfo__response:<Response [200]>, exception:None, status_code:200, text_body:{\"hash\":\"lpkTTrihx0YI_cQsn_YO8jXkWVuI\",\"key\":\"key/video5\"}, req_id:7rAAAADfg2cr_coX, x_log:X-Log\n"
     ]
    }
   ],
   "source": [
    "# c.上传策略中指定 mimetype ，限制上传文件类型\n",
    "key = 'key/video5'\n",
    "#限制mimeLimit\n",
    "policy = {\n",
    "    \"insertOnly\": 1,\n",
    "    \"mimeLimit\": \"video/mp4\"  #只允许上传图片文件\n",
    "}\n",
    "#获取token的方法指定key\n",
    "token = q.upload_token(bucket_name, key, 3600, policy)\n",
    "\n",
    "local_file_path = \"/Users/pangmengting/Pictures/照片/香港 2.png\"\n",
    "local_file_path2 = \"/Users/pangmengting/Movies/Videos/dj/DJI_001/DJI_20240316161703_0047_D.MP4\"\n",
    "path = \"/Users/pangmengting/Downloads\"\n",
    "\n",
    "\n",
    "# 进度条\n",
    "def progress_handler(current_bytes, total_bytes):\n",
    "    print(total_bytes)\n",
    "    print(current_bytes)\n",
    "    progress = int(current_bytes * 100.0 / total_bytes)\n",
    "    print(f\"正在上传: {key}  进度: {progress}%\")\n",
    "\n",
    "\n",
    "#put方法必须指定相同key才能上传\n",
    "ret, info = put_file(token, key, local_file_path2, progress_handler=progress_handler)\n",
    "print(ret)\n",
    "print(info)\n"
   ],
   "metadata": {
    "collapsed": false,
    "ExecuteTime": {
     "end_time": "2024-04-30T07:09:31.189497Z",
     "start_time": "2024-04-30T07:09:17.292153Z"
    }
   },
   "id": "4f1de14f92c4b2f2",
   "execution_count": 30
  },
  {
   "cell_type": "code",
   "outputs": [
    {
     "name": "stdout",
     "output_type": "stream",
     "text": [
      "keyPrefix: key/keyPrefix/\n",
      "policy: {'isPrefixalScope': 1, 'scope': 'luobusi:key/keyPrefix/', 'forceInsertOnly': True}\n",
      "token: I1HyWWCnapee0hteBFqvNc_Vf8GuoHrKUs7iV6-J:H8oIKGCQYMQTGLzLlDJrsmWL19E=:eyJzY29wZSI6Imx1b2J1c2k6a2V5L2tleVByZWZpeC8iLCJkZWFkbGluZSI6MTcxNDQ2ODI0NSwiaXNQcmVmaXhhbFNjb3BlIjoxLCJmb3JjZUluc2VydE9ubHkiOnRydWV9\n",
      "key2: key/keyPrefix/713\n",
      "ret: {'hash': 'FirJYBWntgG_mTmtQjKaExrkVk-q', 'key': 'key/keyPrefix/713'}\n",
      "info: _ResponseInfo__response:<Response [200]>, exception:None, status_code:200, text_body:{\"hash\":\"FirJYBWntgG_mTmtQjKaExrkVk-q\",\"key\":\"key/keyPrefix/713\"}, req_id:UIoAAAAip-KCAMsX, x_log:X-Log\n"
     ]
    }
   ],
   "source": [
    "# isPrefixalScope：若为 1，表示允许用户上传以 scope 的 keyPrefix 为前缀的文件。\n",
    "import random\n",
    "\n",
    "# 这个key就是：路径+文件名\n",
    "keyPrefix = 'key/keyPrefix/'\n",
    "print(\"keyPrefix: \" + keyPrefix)\n",
    "\n",
    "#  \"insertOnly\": 1, 不起作用\n",
    "# 'forceInsertOnly': True 是ok的\n",
    "policy = {\n",
    "    \"isPrefixalScope\": 1,\n",
    "    \"scope\": f\"{bucket_name}:{keyPrefix}\",\n",
    "    # \"insertOnly\": 1,\n",
    "    'forceInsertOnly': True\n",
    "}\n",
    "print(\"policy: \" + str(policy))\n",
    "\n",
    "#获取token的方法指定key\n",
    "token = q.upload_token(bucket_name, keyPrefix, 3600, policy, strict_policy=False)\n",
    "# token = q.upload_token(bucket_name, keyPrefix, 3600, policy)\n",
    "print(\"token: \" + token)\n",
    "\n",
    "local_file_path = \"/Users/pangmengting/Pictures/照片/香港 2.png\"\n",
    "local_file_path2 = \"/Users/pangmengting/Movies/Videos/dj/DJI_001/DJI_20240316161703_0047_D.MP4\"\n",
    "\n",
    "\n",
    "def progress_handler(current_bytes, total_bytes):\n",
    "    progress = int(current_bytes * 100.0 / total_bytes)\n",
    "    print(f\"正在上传: {key}  进度: {progress}%\")\n",
    "\n",
    "\n",
    "# key2 = keyPrefix + str(483)\n",
    "key2 = keyPrefix + str(random.randint(0, 909))\n",
    "print(\"key2: \" + key2)\n",
    "\n",
    "#put方法必须指定相同key才能上传\n",
    "ret, info = put_file(token, key2, local_file_path, progress_handler=progress_handler)\n",
    "print(\"ret: \" + str(ret))\n",
    "print(\"info: \" + str(info))\n"
   ],
   "metadata": {
    "collapsed": false,
    "ExecuteTime": {
     "end_time": "2024-04-30T08:10:45.408797Z",
     "start_time": "2024-04-30T08:10:45.219608Z"
    }
   },
   "id": "e977bfd08a4d652d",
   "execution_count": 69
  },
  {
   "cell_type": "code",
   "outputs": [],
   "source": [],
   "metadata": {
    "collapsed": false,
    "ExecuteTime": {
     "end_time": "2024-04-30T08:10:41.630613Z",
     "start_time": "2024-04-30T08:10:41.626844Z"
    }
   },
   "id": "3b69b40dc43d977b",
   "execution_count": 68
  },
  {
   "cell_type": "code",
   "outputs": [],
   "source": [],
   "metadata": {
    "collapsed": false
   },
   "id": "5d4493acbc6b37a1"
  }
 ],
 "metadata": {
  "kernelspec": {
   "display_name": "Python 3",
   "language": "python",
   "name": "python3"
  },
  "language_info": {
   "codemirror_mode": {
    "name": "ipython",
    "version": 2
   },
   "file_extension": ".py",
   "mimetype": "text/x-python",
   "name": "python",
   "nbconvert_exporter": "python",
   "pygments_lexer": "ipython2",
   "version": "2.7.6"
  }
 },
 "nbformat": 4,
 "nbformat_minor": 5
}
