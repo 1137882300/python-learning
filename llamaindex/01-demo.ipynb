{
 "cells": [
  {
   "cell_type": "code",
   "execution_count": 20,
   "id": "5335fe98a08b23e5",
   "metadata": {
    "collapsed": false,
    "ExecuteTime": {
     "end_time": "2024-07-03T03:29:16.388300Z",
     "start_time": "2024-07-03T03:29:14.200634Z"
    }
   },
   "outputs": [
    {
     "name": "stdout",
     "output_type": "stream",
     "text": [
      "Looking in indexes: https://pypi.tuna.tsinghua.edu.cn/simple\r\n",
      "Collecting llama_index.llms.fireworks\r\n",
      "  Downloading https://pypi.tuna.tsinghua.edu.cn/packages/f6/c6/7c0332d7b87919889f428c51305d1062cca90e753af645e824b1a475a1a3/llama_index_llms_fireworks-0.1.5-py3-none-any.whl (4.4 kB)\r\n",
      "Requirement already satisfied: llama-index-core<0.11.0,>=0.10.1 in /Users/pangmengting/venv/lib/python3.10/site-packages (from llama_index.llms.fireworks) (0.10.48)\r\n",
      "Requirement already satisfied: llama-index-llms-openai<0.2.0,>=0.1.1 in /Users/pangmengting/venv/lib/python3.10/site-packages (from llama_index.llms.fireworks) (0.1.22)\r\n",
      "Requirement already satisfied: PyYAML>=6.0.1 in /Users/pangmengting/venv/lib/python3.10/site-packages (from llama-index-core<0.11.0,>=0.10.1->llama_index.llms.fireworks) (6.0.1)\r\n",
      "Requirement already satisfied: SQLAlchemy>=1.4.49 in /Users/pangmengting/venv/lib/python3.10/site-packages (from SQLAlchemy[asyncio]>=1.4.49->llama-index-core<0.11.0,>=0.10.1->llama_index.llms.fireworks) (2.0.31)\r\n",
      "Requirement already satisfied: aiohttp<4.0.0,>=3.8.6 in /Users/pangmengting/venv/lib/python3.10/site-packages (from llama-index-core<0.11.0,>=0.10.1->llama_index.llms.fireworks) (3.9.5)\r\n",
      "Requirement already satisfied: dataclasses-json in /Users/pangmengting/venv/lib/python3.10/site-packages (from llama-index-core<0.11.0,>=0.10.1->llama_index.llms.fireworks) (0.6.7)\r\n",
      "Requirement already satisfied: deprecated>=1.2.9.3 in /Users/pangmengting/venv/lib/python3.10/site-packages (from llama-index-core<0.11.0,>=0.10.1->llama_index.llms.fireworks) (1.2.14)\r\n",
      "Requirement already satisfied: dirtyjson<2.0.0,>=1.0.8 in /Users/pangmengting/venv/lib/python3.10/site-packages (from llama-index-core<0.11.0,>=0.10.1->llama_index.llms.fireworks) (1.0.8)\r\n",
      "Requirement already satisfied: fsspec>=2023.5.0 in /Users/pangmengting/venv/lib/python3.10/site-packages (from llama-index-core<0.11.0,>=0.10.1->llama_index.llms.fireworks) (2023.6.0)\r\n",
      "Requirement already satisfied: httpx in /Users/pangmengting/venv/lib/python3.10/site-packages (from llama-index-core<0.11.0,>=0.10.1->llama_index.llms.fireworks) (0.27.0)\r\n",
      "Requirement already satisfied: llamaindex-py-client<0.2.0,>=0.1.18 in /Users/pangmengting/venv/lib/python3.10/site-packages (from llama-index-core<0.11.0,>=0.10.1->llama_index.llms.fireworks) (0.1.19)\r\n",
      "Requirement already satisfied: nest-asyncio<2.0.0,>=1.5.8 in /Users/pangmengting/venv/lib/python3.10/site-packages (from llama-index-core<0.11.0,>=0.10.1->llama_index.llms.fireworks) (1.6.0)\r\n",
      "Requirement already satisfied: networkx>=3.0 in /Users/pangmengting/venv/lib/python3.10/site-packages (from llama-index-core<0.11.0,>=0.10.1->llama_index.llms.fireworks) (3.1)\r\n",
      "Requirement already satisfied: nltk<4.0.0,>=3.8.1 in /Users/pangmengting/venv/lib/python3.10/site-packages (from llama-index-core<0.11.0,>=0.10.1->llama_index.llms.fireworks) (3.8.1)\r\n",
      "Requirement already satisfied: numpy<2.0.0 in /Users/pangmengting/venv/lib/python3.10/site-packages (from llama-index-core<0.11.0,>=0.10.1->llama_index.llms.fireworks) (1.25.1)\r\n",
      "Requirement already satisfied: openai>=1.1.0 in /Users/pangmengting/venv/lib/python3.10/site-packages (from llama-index-core<0.11.0,>=0.10.1->llama_index.llms.fireworks) (1.33.0)\r\n",
      "Requirement already satisfied: pandas in /Users/pangmengting/venv/lib/python3.10/site-packages (from llama-index-core<0.11.0,>=0.10.1->llama_index.llms.fireworks) (1.5.3)\r\n",
      "Requirement already satisfied: pillow>=9.0.0 in /Users/pangmengting/venv/lib/python3.10/site-packages (from llama-index-core<0.11.0,>=0.10.1->llama_index.llms.fireworks) (10.3.0)\r\n",
      "Requirement already satisfied: requests>=2.31.0 in /Users/pangmengting/venv/lib/python3.10/site-packages (from llama-index-core<0.11.0,>=0.10.1->llama_index.llms.fireworks) (2.31.0)\r\n",
      "Requirement already satisfied: tenacity!=8.4.0,<9.0.0,>=8.2.0 in /Users/pangmengting/venv/lib/python3.10/site-packages (from llama-index-core<0.11.0,>=0.10.1->llama_index.llms.fireworks) (8.2.3)\r\n",
      "Requirement already satisfied: tiktoken>=0.3.3 in /Users/pangmengting/venv/lib/python3.10/site-packages (from llama-index-core<0.11.0,>=0.10.1->llama_index.llms.fireworks) (0.7.0)\r\n",
      "Requirement already satisfied: tqdm<5.0.0,>=4.66.1 in /Users/pangmengting/venv/lib/python3.10/site-packages (from llama-index-core<0.11.0,>=0.10.1->llama_index.llms.fireworks) (4.66.4)\r\n",
      "Requirement already satisfied: typing-extensions>=4.5.0 in /Users/pangmengting/venv/lib/python3.10/site-packages (from llama-index-core<0.11.0,>=0.10.1->llama_index.llms.fireworks) (4.10.0)\r\n",
      "Requirement already satisfied: typing-inspect>=0.8.0 in /Users/pangmengting/venv/lib/python3.10/site-packages (from llama-index-core<0.11.0,>=0.10.1->llama_index.llms.fireworks) (0.9.0)\r\n",
      "Requirement already satisfied: wrapt in /Users/pangmengting/venv/lib/python3.10/site-packages (from llama-index-core<0.11.0,>=0.10.1->llama_index.llms.fireworks) (1.15.0)\r\n",
      "Requirement already satisfied: aiosignal>=1.1.2 in /Users/pangmengting/venv/lib/python3.10/site-packages (from aiohttp<4.0.0,>=3.8.6->llama-index-core<0.11.0,>=0.10.1->llama_index.llms.fireworks) (1.3.1)\r\n",
      "Requirement already satisfied: attrs>=17.3.0 in /Users/pangmengting/venv/lib/python3.10/site-packages (from aiohttp<4.0.0,>=3.8.6->llama-index-core<0.11.0,>=0.10.1->llama_index.llms.fireworks) (23.1.0)\r\n",
      "Requirement already satisfied: frozenlist>=1.1.1 in /Users/pangmengting/venv/lib/python3.10/site-packages (from aiohttp<4.0.0,>=3.8.6->llama-index-core<0.11.0,>=0.10.1->llama_index.llms.fireworks) (1.4.0)\r\n",
      "Requirement already satisfied: multidict<7.0,>=4.5 in /Users/pangmengting/venv/lib/python3.10/site-packages (from aiohttp<4.0.0,>=3.8.6->llama-index-core<0.11.0,>=0.10.1->llama_index.llms.fireworks) (6.0.4)\r\n",
      "Requirement already satisfied: yarl<2.0,>=1.0 in /Users/pangmengting/venv/lib/python3.10/site-packages (from aiohttp<4.0.0,>=3.8.6->llama-index-core<0.11.0,>=0.10.1->llama_index.llms.fireworks) (1.9.2)\r\n",
      "Requirement already satisfied: async-timeout<5.0,>=4.0 in /Users/pangmengting/venv/lib/python3.10/site-packages (from aiohttp<4.0.0,>=3.8.6->llama-index-core<0.11.0,>=0.10.1->llama_index.llms.fireworks) (4.0.2)\r\n",
      "Requirement already satisfied: pydantic>=1.10 in /Users/pangmengting/venv/lib/python3.10/site-packages (from llamaindex-py-client<0.2.0,>=0.1.18->llama-index-core<0.11.0,>=0.10.1->llama_index.llms.fireworks) (2.6.4)\r\n",
      "Requirement already satisfied: anyio in /Users/pangmengting/venv/lib/python3.10/site-packages (from httpx->llama-index-core<0.11.0,>=0.10.1->llama_index.llms.fireworks) (3.7.1)\r\n",
      "Requirement already satisfied: certifi in /Users/pangmengting/venv/lib/python3.10/site-packages (from httpx->llama-index-core<0.11.0,>=0.10.1->llama_index.llms.fireworks) (2024.6.2)\r\n",
      "Requirement already satisfied: httpcore==1.* in /Users/pangmengting/venv/lib/python3.10/site-packages (from httpx->llama-index-core<0.11.0,>=0.10.1->llama_index.llms.fireworks) (1.0.4)\r\n",
      "Requirement already satisfied: idna in /Users/pangmengting/venv/lib/python3.10/site-packages (from httpx->llama-index-core<0.11.0,>=0.10.1->llama_index.llms.fireworks) (3.4)\r\n",
      "Requirement already satisfied: sniffio in /Users/pangmengting/venv/lib/python3.10/site-packages (from httpx->llama-index-core<0.11.0,>=0.10.1->llama_index.llms.fireworks) (1.3.0)\r\n",
      "Requirement already satisfied: h11<0.15,>=0.13 in /Users/pangmengting/venv/lib/python3.10/site-packages (from httpcore==1.*->httpx->llama-index-core<0.11.0,>=0.10.1->llama_index.llms.fireworks) (0.14.0)\r\n",
      "Requirement already satisfied: click in /Users/pangmengting/venv/lib/python3.10/site-packages (from nltk<4.0.0,>=3.8.1->llama-index-core<0.11.0,>=0.10.1->llama_index.llms.fireworks) (8.1.7)\r\n",
      "Requirement already satisfied: joblib in /Users/pangmengting/venv/lib/python3.10/site-packages (from nltk<4.0.0,>=3.8.1->llama-index-core<0.11.0,>=0.10.1->llama_index.llms.fireworks) (1.3.1)\r\n",
      "Requirement already satisfied: regex>=2021.8.3 in /Users/pangmengting/venv/lib/python3.10/site-packages (from nltk<4.0.0,>=3.8.1->llama-index-core<0.11.0,>=0.10.1->llama_index.llms.fireworks) (2023.6.3)\r\n",
      "Requirement already satisfied: distro<2,>=1.7.0 in /Users/pangmengting/venv/lib/python3.10/site-packages (from openai>=1.1.0->llama-index-core<0.11.0,>=0.10.1->llama_index.llms.fireworks) (1.8.0)\r\n",
      "Requirement already satisfied: charset-normalizer<4,>=2 in /Users/pangmengting/venv/lib/python3.10/site-packages (from requests>=2.31.0->llama-index-core<0.11.0,>=0.10.1->llama_index.llms.fireworks) (3.2.0)\r\n",
      "Requirement already satisfied: urllib3<3,>=1.21.1 in /Users/pangmengting/venv/lib/python3.10/site-packages (from requests>=2.31.0->llama-index-core<0.11.0,>=0.10.1->llama_index.llms.fireworks) (2.2.1)\r\n",
      "Requirement already satisfied: greenlet!=0.4.17 in /Users/pangmengting/venv/lib/python3.10/site-packages (from SQLAlchemy[asyncio]>=1.4.49->llama-index-core<0.11.0,>=0.10.1->llama_index.llms.fireworks) (2.0.2)\r\n",
      "Requirement already satisfied: mypy-extensions>=0.3.0 in /Users/pangmengting/venv/lib/python3.10/site-packages (from typing-inspect>=0.8.0->llama-index-core<0.11.0,>=0.10.1->llama_index.llms.fireworks) (1.0.0)\r\n",
      "Requirement already satisfied: marshmallow<4.0.0,>=3.18.0 in /Users/pangmengting/venv/lib/python3.10/site-packages (from dataclasses-json->llama-index-core<0.11.0,>=0.10.1->llama_index.llms.fireworks) (3.19.0)\r\n",
      "Requirement already satisfied: python-dateutil>=2.8.1 in /Users/pangmengting/venv/lib/python3.10/site-packages (from pandas->llama-index-core<0.11.0,>=0.10.1->llama_index.llms.fireworks) (2.8.2)\r\n",
      "Requirement already satisfied: pytz>=2020.1 in /Users/pangmengting/venv/lib/python3.10/site-packages (from pandas->llama-index-core<0.11.0,>=0.10.1->llama_index.llms.fireworks) (2023.3)\r\n",
      "Requirement already satisfied: exceptiongroup in /Users/pangmengting/venv/lib/python3.10/site-packages (from anyio->httpx->llama-index-core<0.11.0,>=0.10.1->llama_index.llms.fireworks) (1.1.2)\r\n",
      "Requirement already satisfied: packaging>=17.0 in /Users/pangmengting/venv/lib/python3.10/site-packages (from marshmallow<4.0.0,>=3.18.0->dataclasses-json->llama-index-core<0.11.0,>=0.10.1->llama_index.llms.fireworks) (23.2)\r\n",
      "Requirement already satisfied: annotated-types>=0.4.0 in /Users/pangmengting/venv/lib/python3.10/site-packages (from pydantic>=1.10->llamaindex-py-client<0.2.0,>=0.1.18->llama-index-core<0.11.0,>=0.10.1->llama_index.llms.fireworks) (0.6.0)\r\n",
      "Requirement already satisfied: pydantic-core==2.16.3 in /Users/pangmengting/venv/lib/python3.10/site-packages (from pydantic>=1.10->llamaindex-py-client<0.2.0,>=0.1.18->llama-index-core<0.11.0,>=0.10.1->llama_index.llms.fireworks) (2.16.3)\r\n",
      "Requirement already satisfied: six>=1.5 in /Users/pangmengting/venv/lib/python3.10/site-packages (from python-dateutil>=2.8.1->pandas->llama-index-core<0.11.0,>=0.10.1->llama_index.llms.fireworks) (1.16.0)\r\n",
      "Installing collected packages: llama_index.llms.fireworks\r\n",
      "Successfully installed llama_index.llms.fireworks-0.1.5\r\n",
      "\r\n",
      "\u001B[1m[\u001B[0m\u001B[34;49mnotice\u001B[0m\u001B[1;39;49m]\u001B[0m\u001B[39;49m A new release of pip is available: \u001B[0m\u001B[31;49m24.0\u001B[0m\u001B[39;49m -> \u001B[0m\u001B[32;49m24.1.1\u001B[0m\r\n",
      "\u001B[1m[\u001B[0m\u001B[34;49mnotice\u001B[0m\u001B[1;39;49m]\u001B[0m\u001B[39;49m To update, run: \u001B[0m\u001B[32;49mpip install --upgrade pip\u001B[0m\r\n"
     ]
    }
   ],
   "source": [
    "# !pip install -q llama-index\n",
    "# !pip install llama-index\n",
    "# %pip install llama-index-llms-langchain\n",
    "# !pip install llama-index-embeddings-langchain\n",
    "# !pip install llama_index.llms.fireworks"
   ]
  },
  {
   "cell_type": "code",
   "outputs": [],
   "source": [
    "from llama_index.core import VectorStoreIndex, SimpleDirectoryReader, Settings\n",
    "import os\n",
    "from dotenv import load_dotenv\n",
    "from langchain_openai import ChatOpenAI\n",
    "from langchain_community.embeddings.cloudflare_workersai import (\n",
    "    CloudflareWorkersAIEmbeddings,\n",
    ")\n",
    "\n",
    "load_dotenv(override=True)\n",
    "DASHSCOPE_API_KEY = os.getenv('DASHSCOPE_API_KEY')\n",
    "\n",
    "Settings.llm = ChatOpenAI(\n",
    "    openai_api_base='https://dashscope.aliyuncs.com/compatible-mode/v1',\n",
    "    openai_api_key=DASHSCOPE_API_KEY,\n",
    "    model_name=\"qwen2-1.5b-instruct\",\n",
    "    temperature=0.7,\n",
    "    streaming=True,\n",
    ")\n",
    "\n",
    "account_id = os.getenv('CF_ACCOUNT_ID')\n",
    "api_token = os.getenv('CF_API_TOKEN')\n",
    "\n",
    "Settings.embed_model = CloudflareWorkersAIEmbeddings(\n",
    "    account_id=account_id,\n",
    "    api_token=api_token,\n",
    "    model_name=\"@cf/baai/bge-small-en-v1.5\",\n",
    ")"
   ],
   "metadata": {
    "collapsed": false,
    "ExecuteTime": {
     "end_time": "2024-07-03T03:29:25.115084Z",
     "start_time": "2024-07-03T03:29:25.071806Z"
    }
   },
   "id": "b72203ddaaefcfec",
   "execution_count": 21
  },
  {
   "cell_type": "code",
   "outputs": [],
   "source": [
    "import logging\n",
    "import sys\n",
    "\n",
    "logging.basicConfig(stream=sys.stdout, level=logging.DEBUG)\n",
    "logging.getLogger().addHandler(logging.StreamHandler(stream=sys.stdout))"
   ],
   "metadata": {
    "collapsed": false,
    "ExecuteTime": {
     "end_time": "2024-07-03T03:36:58.062374Z",
     "start_time": "2024-07-03T03:36:58.058075Z"
    }
   },
   "id": "206dd14c43260a65",
   "execution_count": 27
  },
  {
   "cell_type": "code",
   "outputs": [
    {
     "name": "stderr",
     "output_type": "stream",
     "text": [
      "/Users/pangmengting/venv/lib/python3.10/site-packages/langchain_core/_api/deprecation.py:139: LangChainDeprecationWarning: The method `BaseChatModel.predict_messages` was deprecated in langchain-core 0.1.7 and will be removed in 0.3.0. Use invoke instead.\n",
      "  **kwargs: The keyword arguments to the function.\n"
     ]
    },
    {
     "name": "stdout",
     "output_type": "stream",
     "text": [
      "What is the purpose of the trip?\n"
     ]
    }
   ],
   "source": [
    "documents = SimpleDirectoryReader(\"../langchain/file\").load_data()\n",
    "index = VectorStoreIndex.from_documents(documents)\n",
    "query_engine = index.as_query_engine()\n",
    "response = query_engine.query(\"Some question about the data should go here\")\n",
    "print(response)"
   ],
   "metadata": {
    "collapsed": false,
    "ExecuteTime": {
     "end_time": "2024-07-03T03:29:39.752249Z",
     "start_time": "2024-07-03T03:29:27.085935Z"
    }
   },
   "id": "2c7a3b52631270c1",
   "execution_count": 22
  },
  {
   "cell_type": "code",
   "outputs": [
    {
     "name": "stdout",
     "output_type": "stream",
     "text": [
      "DEBUG:urllib3.connectionpool:Starting new HTTPS connection (1): api.cloudflare.com:443\n",
      "Starting new HTTPS connection (1): api.cloudflare.com:443\n",
      "DEBUG:urllib3.connectionpool:https://api.cloudflare.com:443 \"POST /client/v4/accounts/8483c3ec7a0cbc54a8d660b5b9002b04/ai/run/@cf/baai/bge-small-en-v1.5 HTTP/1.1\" 200 None\n",
      "https://api.cloudflare.com:443 \"POST /client/v4/accounts/8483c3ec7a0cbc54a8d660b5b9002b04/ai/run/@cf/baai/bge-small-en-v1.5 HTTP/1.1\" 200 None\n",
      "DEBUG:llama_index.core.indices.utils:> Top 2 nodes:\n",
      "> [Node fc4cd8dd-456f-4109-aa11-65a0cc87b4fa] [Similarity score:             0.606345] 第7天 阿尔山国家森林公园（乌苏浪子湖晨雾，驼峰岭天池，大峡谷，杜鹃湖）阿尔山市\n",
      "\n",
      "摄点： 阿尔山全天摄影创作：乌苏浪子湖晨雾、驼峰岭天池秋色、阿尔山大峡谷、杜鹃湖\n",
      "\n",
      "- 全天\n",
      "  早起前往乌苏...\n",
      "> [Node 07d9a12a-48bf-4987-b881-07cef194649c] [Similarity score:             0.605393] 第1天 各地海拉尔市 ★集合日\n",
      "\n",
      "- 全天\n",
      "  全天为活动全天集合日，各地游侠自行前往呼伦贝尔市的首府海拉尔集合。早到的游侠，可以去逛逛呼伦贝尔民族博物馆、成吉思汗广场。初到草原，一定要美美的吃...\n",
      "> Top 2 nodes:\n",
      "> [Node fc4cd8dd-456f-4109-aa11-65a0cc87b4fa] [Similarity score:             0.606345] 第7天 阿尔山国家森林公园（乌苏浪子湖晨雾，驼峰岭天池，大峡谷，杜鹃湖）阿尔山市\n",
      "\n",
      "摄点： 阿尔山全天摄影创作：乌苏浪子湖晨雾、驼峰岭天池秋色、阿尔山大峡谷、杜鹃湖\n",
      "\n",
      "- 全天\n",
      "  早起前往乌苏...\n",
      "> [Node 07d9a12a-48bf-4987-b881-07cef194649c] [Similarity score:             0.605393] 第1天 各地海拉尔市 ★集合日\n",
      "\n",
      "- 全天\n",
      "  全天为活动全天集合日，各地游侠自行前往呼伦贝尔市的首府海拉尔集合。早到的游侠，可以去逛逛呼伦贝尔民族博物馆、成吉思汗广场。初到草原，一定要美美的吃...\n",
      "DEBUG:openai._base_client:Request options: {'method': 'post', 'url': '/chat/completions', 'files': None, 'json_data': {'messages': [{'content': \"You are an expert Q&A system that is trusted around the world.\\nAlways answer the query using the provided context information, and not prior knowledge.\\nSome rules to follow:\\n1. Never directly reference the given context in your answer.\\n2. Avoid statements like 'Based on the context, ...' or 'The context information ...' or anything along those lines.\", 'role': 'system'}, {'content': 'Context information is below.\\n---------------------\\nfile_path: /Users/pangmengting/Documents/workspace/python-learning/lamaindex/../langchain/file/test.md\\n\\n第7天 阿尔山国家森林公园（乌苏浪子湖晨雾，驼峰岭天池，大峡谷，杜鹃湖）阿尔山市\\n\\n摄点： 阿尔山全天摄影创作：乌苏浪子湖晨雾、驼峰岭天池秋色、阿尔山大峡谷、杜鹃湖\\n\\n- 全天\\n  早起前往乌苏浪子湖拍摄晨雾，这里地处林区盆地，湖水在低海拔会大概率出现晨雾弥漫的景观，湖边有五彩林点缀，清晨的阳光照射下更加显得金黄，非常适合摄影创作。偶尔还会有渔船掠过水面，水墨画一般的场景令人如痴如醉。\\n  趁着早上游客还不多，我们前往驼峰岭天池。阿尔山是大兴安岭的余脉，数万年前的火山喷发形成了上百个大大小小的天池，其中驼峰岭天池是最大的一个！在深秋时节，清澈的天池水中闪耀着金黄的白桦树倒影，色彩斑斓，我们沿着木栈道登高，俯拍整个驼峰岭天池。\\n  下山后前往阿尔山大峡谷，这里是一个天然的火山岩峡谷断裂带，谷底有非常丰富的黑色火山石，溪流缓缓经过，夹杂着秋季阿尔山林区的金黄秋色，是非常好的慢门拍摄地，在领队带领下进行慢门拍摄实践。\\n  之后来到杜鹃湖，杜鹃湖是林区内最大的火山湖，怪石嶙峋的火山熔柱张牙舞爪，湛蓝的湖水倒影着湖边白桦林，光影斑驳的秋色如同一幅色彩斑斓、笔触厚重的欧洲油画。\\n  今天我们有一整天时间在金秋阿尔山拍摄。拍摄尽兴后离开，入住阿尔山市，整齐的街道、独特的木屋别墅，还有日式风格的网红车站阿尔山火车站。晚上可以约伴漫步小城，寻觅美食！\\n\\n车程：约90km\\n用餐：含早，正餐自理\\n住宿：阿尔山镇酒店标间\\n\\nfile_path: /Users/pangmengting/Documents/workspace/python-learning/lamaindex/../langchain/file/test.md\\n\\n第1天 各地海拉尔市 ★集合日\\n\\n- 全天\\n  全天为活动全天集合日，各地游侠自行前往呼伦贝尔市的首府海拉尔集合。早到的游侠，可以去逛逛呼伦贝尔民族博物馆、成吉思汗广场。初到草原，一定要美美的吃上一顿，手把肉、烤羊腿、灌血肠等等，各种美食让你大饱口福。晚上与领队见面，沟通第二天的拍摄计划和注意事项，准备开启本次金秋呼伦贝尔行摄之旅。\\n  温馨提示：飞机：呼伦贝尔机场距离市区仅6KM，坐车、打车非常方便\\n  用餐：全天用餐自理\\n  住宿：海拉尔市区酒店标间\\n  集结日：按照游侠客出团通知短信，自行前往集合酒店集合，在前台报“游侠客+姓名”办理入住手续。晚上将召开行前说明会，请保持手机畅通便于领队联系大家。自由活动期间，注意安全！\\n---------------------\\nGiven the context information and not prior knowledge, answer the query.\\nQuery: 具体行程的第一天行程有哪些？\\nAnswer: ', 'role': 'user'}], 'model': 'qwen2-1.5b-instruct', 'n': 1, 'stream': True, 'temperature': 0.7}}\n",
      "Request options: {'method': 'post', 'url': '/chat/completions', 'files': None, 'json_data': {'messages': [{'content': \"You are an expert Q&A system that is trusted around the world.\\nAlways answer the query using the provided context information, and not prior knowledge.\\nSome rules to follow:\\n1. Never directly reference the given context in your answer.\\n2. Avoid statements like 'Based on the context, ...' or 'The context information ...' or anything along those lines.\", 'role': 'system'}, {'content': 'Context information is below.\\n---------------------\\nfile_path: /Users/pangmengting/Documents/workspace/python-learning/lamaindex/../langchain/file/test.md\\n\\n第7天 阿尔山国家森林公园（乌苏浪子湖晨雾，驼峰岭天池，大峡谷，杜鹃湖）阿尔山市\\n\\n摄点： 阿尔山全天摄影创作：乌苏浪子湖晨雾、驼峰岭天池秋色、阿尔山大峡谷、杜鹃湖\\n\\n- 全天\\n  早起前往乌苏浪子湖拍摄晨雾，这里地处林区盆地，湖水在低海拔会大概率出现晨雾弥漫的景观，湖边有五彩林点缀，清晨的阳光照射下更加显得金黄，非常适合摄影创作。偶尔还会有渔船掠过水面，水墨画一般的场景令人如痴如醉。\\n  趁着早上游客还不多，我们前往驼峰岭天池。阿尔山是大兴安岭的余脉，数万年前的火山喷发形成了上百个大大小小的天池，其中驼峰岭天池是最大的一个！在深秋时节，清澈的天池水中闪耀着金黄的白桦树倒影，色彩斑斓，我们沿着木栈道登高，俯拍整个驼峰岭天池。\\n  下山后前往阿尔山大峡谷，这里是一个天然的火山岩峡谷断裂带，谷底有非常丰富的黑色火山石，溪流缓缓经过，夹杂着秋季阿尔山林区的金黄秋色，是非常好的慢门拍摄地，在领队带领下进行慢门拍摄实践。\\n  之后来到杜鹃湖，杜鹃湖是林区内最大的火山湖，怪石嶙峋的火山熔柱张牙舞爪，湛蓝的湖水倒影着湖边白桦林，光影斑驳的秋色如同一幅色彩斑斓、笔触厚重的欧洲油画。\\n  今天我们有一整天时间在金秋阿尔山拍摄。拍摄尽兴后离开，入住阿尔山市，整齐的街道、独特的木屋别墅，还有日式风格的网红车站阿尔山火车站。晚上可以约伴漫步小城，寻觅美食！\\n\\n车程：约90km\\n用餐：含早，正餐自理\\n住宿：阿尔山镇酒店标间\\n\\nfile_path: /Users/pangmengting/Documents/workspace/python-learning/lamaindex/../langchain/file/test.md\\n\\n第1天 各地海拉尔市 ★集合日\\n\\n- 全天\\n  全天为活动全天集合日，各地游侠自行前往呼伦贝尔市的首府海拉尔集合。早到的游侠，可以去逛逛呼伦贝尔民族博物馆、成吉思汗广场。初到草原，一定要美美的吃上一顿，手把肉、烤羊腿、灌血肠等等，各种美食让你大饱口福。晚上与领队见面，沟通第二天的拍摄计划和注意事项，准备开启本次金秋呼伦贝尔行摄之旅。\\n  温馨提示：飞机：呼伦贝尔机场距离市区仅6KM，坐车、打车非常方便\\n  用餐：全天用餐自理\\n  住宿：海拉尔市区酒店标间\\n  集结日：按照游侠客出团通知短信，自行前往集合酒店集合，在前台报“游侠客+姓名”办理入住手续。晚上将召开行前说明会，请保持手机畅通便于领队联系大家。自由活动期间，注意安全！\\n---------------------\\nGiven the context information and not prior knowledge, answer the query.\\nQuery: 具体行程的第一天行程有哪些？\\nAnswer: ', 'role': 'user'}], 'model': 'qwen2-1.5b-instruct', 'n': 1, 'stream': True, 'temperature': 0.7}}\n",
      "DEBUG:openai._base_client:Sending HTTP Request: POST https://dashscope.aliyuncs.com/compatible-mode/v1/chat/completions\n",
      "Sending HTTP Request: POST https://dashscope.aliyuncs.com/compatible-mode/v1/chat/completions\n",
      "DEBUG:httpcore.connection:close.started\n",
      "close.started\n",
      "DEBUG:httpcore.connection:close.complete\n",
      "close.complete\n",
      "DEBUG:httpcore.connection:connect_tcp.started host='dashscope.aliyuncs.com' port=443 local_address=None timeout=None socket_options=None\n",
      "connect_tcp.started host='dashscope.aliyuncs.com' port=443 local_address=None timeout=None socket_options=None\n",
      "DEBUG:httpcore.connection:connect_tcp.complete return_value=<httpcore._backends.sync.SyncStream object at 0x291b95390>\n",
      "connect_tcp.complete return_value=<httpcore._backends.sync.SyncStream object at 0x291b95390>\n",
      "DEBUG:httpcore.connection:start_tls.started ssl_context=<ssl.SSLContext object at 0x150fae6c0> server_hostname='dashscope.aliyuncs.com' timeout=None\n",
      "start_tls.started ssl_context=<ssl.SSLContext object at 0x150fae6c0> server_hostname='dashscope.aliyuncs.com' timeout=None\n",
      "DEBUG:httpcore.connection:start_tls.complete return_value=<httpcore._backends.sync.SyncStream object at 0x291bc6bc0>\n",
      "start_tls.complete return_value=<httpcore._backends.sync.SyncStream object at 0x291bc6bc0>\n",
      "DEBUG:httpcore.http11:send_request_headers.started request=<Request [b'POST']>\n",
      "send_request_headers.started request=<Request [b'POST']>\n",
      "DEBUG:httpcore.http11:send_request_headers.complete\n",
      "send_request_headers.complete\n",
      "DEBUG:httpcore.http11:send_request_body.started request=<Request [b'POST']>\n",
      "send_request_body.started request=<Request [b'POST']>\n",
      "DEBUG:httpcore.http11:send_request_body.complete\n",
      "send_request_body.complete\n",
      "DEBUG:httpcore.http11:receive_response_headers.started request=<Request [b'POST']>\n",
      "receive_response_headers.started request=<Request [b'POST']>\n",
      "DEBUG:httpcore.http11:receive_response_headers.complete return_value=(b'HTTP/1.1', 200, b'OK', [(b'eagleeye-traceid', b'9b52883bbf316bdc82f7306983134cd5'), (b'x-request-id', b'6d35adab-83b5-9f7c-9c6c-7409a6ea68cf'), (b'content-type', b'text/event-stream;charset=UTF-8'), (b'req-cost-time', b'219'), (b'req-arrive-time', b'1719977827726'), (b'resp-start-time', b'1719977827946'), (b'x-envoy-upstream-service-time', b'217'), (b'date', b'Wed, 03 Jul 2024 03:37:07 GMT'), (b'server', b'istio-envoy'), (b'transfer-encoding', b'chunked')])\n",
      "receive_response_headers.complete return_value=(b'HTTP/1.1', 200, b'OK', [(b'eagleeye-traceid', b'9b52883bbf316bdc82f7306983134cd5'), (b'x-request-id', b'6d35adab-83b5-9f7c-9c6c-7409a6ea68cf'), (b'content-type', b'text/event-stream;charset=UTF-8'), (b'req-cost-time', b'219'), (b'req-arrive-time', b'1719977827726'), (b'resp-start-time', b'1719977827946'), (b'x-envoy-upstream-service-time', b'217'), (b'date', b'Wed, 03 Jul 2024 03:37:07 GMT'), (b'server', b'istio-envoy'), (b'transfer-encoding', b'chunked')])\n",
      "INFO:httpx:HTTP Request: POST https://dashscope.aliyuncs.com/compatible-mode/v1/chat/completions \"HTTP/1.1 200 OK\"\n",
      "HTTP Request: POST https://dashscope.aliyuncs.com/compatible-mode/v1/chat/completions \"HTTP/1.1 200 OK\"\n",
      "DEBUG:openai._base_client:HTTP Response: POST https://dashscope.aliyuncs.com/compatible-mode/v1/chat/completions \"200 OK\" Headers({'eagleeye-traceid': '9b52883bbf316bdc82f7306983134cd5', 'x-request-id': '6d35adab-83b5-9f7c-9c6c-7409a6ea68cf', 'content-type': 'text/event-stream;charset=UTF-8', 'req-cost-time': '219', 'req-arrive-time': '1719977827726', 'resp-start-time': '1719977827946', 'x-envoy-upstream-service-time': '217', 'date': 'Wed, 03 Jul 2024 03:37:07 GMT', 'server': 'istio-envoy', 'transfer-encoding': 'chunked'})\n",
      "HTTP Response: POST https://dashscope.aliyuncs.com/compatible-mode/v1/chat/completions \"200 OK\" Headers({'eagleeye-traceid': '9b52883bbf316bdc82f7306983134cd5', 'x-request-id': '6d35adab-83b5-9f7c-9c6c-7409a6ea68cf', 'content-type': 'text/event-stream;charset=UTF-8', 'req-cost-time': '219', 'req-arrive-time': '1719977827726', 'resp-start-time': '1719977827946', 'x-envoy-upstream-service-time': '217', 'date': 'Wed, 03 Jul 2024 03:37:07 GMT', 'server': 'istio-envoy', 'transfer-encoding': 'chunked'})\n",
      "DEBUG:openai._base_client:request_id: 6d35adab-83b5-9f7c-9c6c-7409a6ea68cf\n",
      "request_id: 6d35adab-83b5-9f7c-9c6c-7409a6ea68cf\n",
      "DEBUG:httpcore.http11:receive_response_body.started request=<Request [b'POST']>\n",
      "receive_response_body.started request=<Request [b'POST']>\n",
      "DEBUG:httpcore.http11:receive_response_body.complete\n",
      "receive_response_body.complete\n",
      "DEBUG:httpcore.http11:response_closed.started\n",
      "response_closed.started\n",
      "DEBUG:httpcore.http11:response_closed.complete\n",
      "response_closed.complete\n",
      "第一天行程包括各地方海拉尔市的集合日。在这一天，各地游侠自行前往海拉尔集合，并可以在参观呼伦贝尔民族博物馆和成吉思汗广场后享受美味的食物。晚餐时，与领队见面并讨论第二天的拍摄计划和注意事项。\n"
     ]
    }
   ],
   "source": [
    "response = query_engine.query(\"具体行程的第一天行程有哪些？\")\n",
    "print(response)"
   ],
   "metadata": {
    "collapsed": false,
    "ExecuteTime": {
     "end_time": "2024-07-03T03:37:08.364610Z",
     "start_time": "2024-07-03T03:37:05.503181Z"
    }
   },
   "id": "9fcc5d9e9026c416",
   "execution_count": 28
  },
  {
   "cell_type": "code",
   "outputs": [
    {
     "name": "stdout",
     "output_type": "stream",
     "text": [
      "DEBUG:urllib3.connectionpool:Starting new HTTPS connection (1): api.cloudflare.com:443\n",
      "Starting new HTTPS connection (1): api.cloudflare.com:443\n",
      "DEBUG:urllib3.connectionpool:https://api.cloudflare.com:443 \"POST /client/v4/accounts/8483c3ec7a0cbc54a8d660b5b9002b04/ai/run/@cf/baai/bge-small-en-v1.5 HTTP/1.1\" 200 None\n",
      "https://api.cloudflare.com:443 \"POST /client/v4/accounts/8483c3ec7a0cbc54a8d660b5b9002b04/ai/run/@cf/baai/bge-small-en-v1.5 HTTP/1.1\" 200 None\n",
      "DEBUG:llama_index.core.indices.utils:> Top 2 nodes:\n",
      "> [Node fc4cd8dd-456f-4109-aa11-65a0cc87b4fa] [Similarity score:             0.609956] 第7天 阿尔山国家森林公园（乌苏浪子湖晨雾，驼峰岭天池，大峡谷，杜鹃湖）阿尔山市\n",
      "\n",
      "摄点： 阿尔山全天摄影创作：乌苏浪子湖晨雾、驼峰岭天池秋色、阿尔山大峡谷、杜鹃湖\n",
      "\n",
      "- 全天\n",
      "  早起前往乌苏...\n",
      "> [Node 2f4aeba0-3b15-48fc-893a-fc93d4f01662] [Similarity score:             0.608349] 第4天 莫尔道嘎镇白鹿岛白桦林驯鹿黑山头湿地\n",
      "\n",
      "摄点： 白鹿岛日出晨雾，白桦林驯鹿，草原跑马，湿地日落，牧归场景拍摄\n",
      "\n",
      "- 早晨\n",
      "  早起乘坐小车前往【白鹿岛】拍摄大兴安岭河谷的日出晨雾，激流河...\n",
      "> Top 2 nodes:\n",
      "> [Node fc4cd8dd-456f-4109-aa11-65a0cc87b4fa] [Similarity score:             0.609956] 第7天 阿尔山国家森林公园（乌苏浪子湖晨雾，驼峰岭天池，大峡谷，杜鹃湖）阿尔山市\n",
      "\n",
      "摄点： 阿尔山全天摄影创作：乌苏浪子湖晨雾、驼峰岭天池秋色、阿尔山大峡谷、杜鹃湖\n",
      "\n",
      "- 全天\n",
      "  早起前往乌苏...\n",
      "> [Node 2f4aeba0-3b15-48fc-893a-fc93d4f01662] [Similarity score:             0.608349] 第4天 莫尔道嘎镇白鹿岛白桦林驯鹿黑山头湿地\n",
      "\n",
      "摄点： 白鹿岛日出晨雾，白桦林驯鹿，草原跑马，湿地日落，牧归场景拍摄\n",
      "\n",
      "- 早晨\n",
      "  早起乘坐小车前往【白鹿岛】拍摄大兴安岭河谷的日出晨雾，激流河...\n",
      "DEBUG:openai._base_client:Request options: {'method': 'post', 'url': '/chat/completions', 'files': None, 'json_data': {'messages': [{'content': \"You are an expert Q&A system that is trusted around the world.\\nAlways answer the query using the provided context information, and not prior knowledge.\\nSome rules to follow:\\n1. Never directly reference the given context in your answer.\\n2. Avoid statements like 'Based on the context, ...' or 'The context information ...' or anything along those lines.\", 'role': 'system'}, {'content': 'Context information is below.\\n---------------------\\nfile_path: /Users/pangmengting/Documents/workspace/python-learning/lamaindex/../langchain/file/test.md\\n\\n第7天 阿尔山国家森林公园（乌苏浪子湖晨雾，驼峰岭天池，大峡谷，杜鹃湖）阿尔山市\\n\\n摄点： 阿尔山全天摄影创作：乌苏浪子湖晨雾、驼峰岭天池秋色、阿尔山大峡谷、杜鹃湖\\n\\n- 全天\\n  早起前往乌苏浪子湖拍摄晨雾，这里地处林区盆地，湖水在低海拔会大概率出现晨雾弥漫的景观，湖边有五彩林点缀，清晨的阳光照射下更加显得金黄，非常适合摄影创作。偶尔还会有渔船掠过水面，水墨画一般的场景令人如痴如醉。\\n  趁着早上游客还不多，我们前往驼峰岭天池。阿尔山是大兴安岭的余脉，数万年前的火山喷发形成了上百个大大小小的天池，其中驼峰岭天池是最大的一个！在深秋时节，清澈的天池水中闪耀着金黄的白桦树倒影，色彩斑斓，我们沿着木栈道登高，俯拍整个驼峰岭天池。\\n  下山后前往阿尔山大峡谷，这里是一个天然的火山岩峡谷断裂带，谷底有非常丰富的黑色火山石，溪流缓缓经过，夹杂着秋季阿尔山林区的金黄秋色，是非常好的慢门拍摄地，在领队带领下进行慢门拍摄实践。\\n  之后来到杜鹃湖，杜鹃湖是林区内最大的火山湖，怪石嶙峋的火山熔柱张牙舞爪，湛蓝的湖水倒影着湖边白桦林，光影斑驳的秋色如同一幅色彩斑斓、笔触厚重的欧洲油画。\\n  今天我们有一整天时间在金秋阿尔山拍摄。拍摄尽兴后离开，入住阿尔山市，整齐的街道、独特的木屋别墅，还有日式风格的网红车站阿尔山火车站。晚上可以约伴漫步小城，寻觅美食！\\n\\n车程：约90km\\n用餐：含早，正餐自理\\n住宿：阿尔山镇酒店标间\\n\\nfile_path: /Users/pangmengting/Documents/workspace/python-learning/lamaindex/../langchain/file/test.md\\n\\n第4天 莫尔道嘎镇白鹿岛白桦林驯鹿黑山头湿地\\n\\n摄点： 白鹿岛日出晨雾，白桦林驯鹿，草原跑马，湿地日落，牧归场景拍摄\\n\\n- 早晨\\n  早起乘坐小车前往【白鹿岛】拍摄大兴安岭河谷的日出晨雾，激流河呈“S”形回环于两个小岛之间，常常伴有晨雾弥漫，潺潺的流水、河道里的枯木和五彩斑斓的秋叶。\\n\\n拍摄尽兴后，来到【白桦林景区】，古老的驯鹿民族鄂温克族，世世代代在大兴安岭游牧，他们把家安在白桦林下，靠着喂养驯鹿和狩猎捕鱼为生，老师们可以在金黄色的森林里与驯鹿近距离接触，尽情的创作。\\n\\n- 下午\\n  午后抵达黑山头拍摄。黑山头是一个以蒙古族牧马为特色的小镇，我们乘车前往马场拍摄【套马、马术表演】，骑手们精彩绝伦的表演将会让我们拍的很过瘾。\\n\\n结束后前往游侠客私家拍摄点，拍摄唯美的湿地日落，游侠客特别安排【牧归场景拍摄】，蒙古牧人骑马归来，在落日的余晖中经过，夕阳和湿地的反光把草坡点亮，形成一道金色的轮廓，拍摄尽兴后离去。\\n\\n车程：约450km 用餐：含早，正餐自理\\n住宿：黑山头镇酒店标间\\n备注：因白鹿岛附近酒店尚未开放，当天需从莫尔道嘎镇包当地出租车早起前往白鹿岛拍摄日出，莫尔道嘎镇-白鹿岛距离约110km，车程约3h。\\n---------------------\\nGiven the context information and not prior knowledge, answer the query.\\nQuery: 简单说一下行程概要？\\nAnswer: ', 'role': 'user'}], 'model': 'qwen2-1.5b-instruct', 'n': 1, 'stream': True, 'temperature': 0.7}}\n",
      "Request options: {'method': 'post', 'url': '/chat/completions', 'files': None, 'json_data': {'messages': [{'content': \"You are an expert Q&A system that is trusted around the world.\\nAlways answer the query using the provided context information, and not prior knowledge.\\nSome rules to follow:\\n1. Never directly reference the given context in your answer.\\n2. Avoid statements like 'Based on the context, ...' or 'The context information ...' or anything along those lines.\", 'role': 'system'}, {'content': 'Context information is below.\\n---------------------\\nfile_path: /Users/pangmengting/Documents/workspace/python-learning/lamaindex/../langchain/file/test.md\\n\\n第7天 阿尔山国家森林公园（乌苏浪子湖晨雾，驼峰岭天池，大峡谷，杜鹃湖）阿尔山市\\n\\n摄点： 阿尔山全天摄影创作：乌苏浪子湖晨雾、驼峰岭天池秋色、阿尔山大峡谷、杜鹃湖\\n\\n- 全天\\n  早起前往乌苏浪子湖拍摄晨雾，这里地处林区盆地，湖水在低海拔会大概率出现晨雾弥漫的景观，湖边有五彩林点缀，清晨的阳光照射下更加显得金黄，非常适合摄影创作。偶尔还会有渔船掠过水面，水墨画一般的场景令人如痴如醉。\\n  趁着早上游客还不多，我们前往驼峰岭天池。阿尔山是大兴安岭的余脉，数万年前的火山喷发形成了上百个大大小小的天池，其中驼峰岭天池是最大的一个！在深秋时节，清澈的天池水中闪耀着金黄的白桦树倒影，色彩斑斓，我们沿着木栈道登高，俯拍整个驼峰岭天池。\\n  下山后前往阿尔山大峡谷，这里是一个天然的火山岩峡谷断裂带，谷底有非常丰富的黑色火山石，溪流缓缓经过，夹杂着秋季阿尔山林区的金黄秋色，是非常好的慢门拍摄地，在领队带领下进行慢门拍摄实践。\\n  之后来到杜鹃湖，杜鹃湖是林区内最大的火山湖，怪石嶙峋的火山熔柱张牙舞爪，湛蓝的湖水倒影着湖边白桦林，光影斑驳的秋色如同一幅色彩斑斓、笔触厚重的欧洲油画。\\n  今天我们有一整天时间在金秋阿尔山拍摄。拍摄尽兴后离开，入住阿尔山市，整齐的街道、独特的木屋别墅，还有日式风格的网红车站阿尔山火车站。晚上可以约伴漫步小城，寻觅美食！\\n\\n车程：约90km\\n用餐：含早，正餐自理\\n住宿：阿尔山镇酒店标间\\n\\nfile_path: /Users/pangmengting/Documents/workspace/python-learning/lamaindex/../langchain/file/test.md\\n\\n第4天 莫尔道嘎镇白鹿岛白桦林驯鹿黑山头湿地\\n\\n摄点： 白鹿岛日出晨雾，白桦林驯鹿，草原跑马，湿地日落，牧归场景拍摄\\n\\n- 早晨\\n  早起乘坐小车前往【白鹿岛】拍摄大兴安岭河谷的日出晨雾，激流河呈“S”形回环于两个小岛之间，常常伴有晨雾弥漫，潺潺的流水、河道里的枯木和五彩斑斓的秋叶。\\n\\n拍摄尽兴后，来到【白桦林景区】，古老的驯鹿民族鄂温克族，世世代代在大兴安岭游牧，他们把家安在白桦林下，靠着喂养驯鹿和狩猎捕鱼为生，老师们可以在金黄色的森林里与驯鹿近距离接触，尽情的创作。\\n\\n- 下午\\n  午后抵达黑山头拍摄。黑山头是一个以蒙古族牧马为特色的小镇，我们乘车前往马场拍摄【套马、马术表演】，骑手们精彩绝伦的表演将会让我们拍的很过瘾。\\n\\n结束后前往游侠客私家拍摄点，拍摄唯美的湿地日落，游侠客特别安排【牧归场景拍摄】，蒙古牧人骑马归来，在落日的余晖中经过，夕阳和湿地的反光把草坡点亮，形成一道金色的轮廓，拍摄尽兴后离去。\\n\\n车程：约450km 用餐：含早，正餐自理\\n住宿：黑山头镇酒店标间\\n备注：因白鹿岛附近酒店尚未开放，当天需从莫尔道嘎镇包当地出租车早起前往白鹿岛拍摄日出，莫尔道嘎镇-白鹿岛距离约110km，车程约3h。\\n---------------------\\nGiven the context information and not prior knowledge, answer the query.\\nQuery: 简单说一下行程概要？\\nAnswer: ', 'role': 'user'}], 'model': 'qwen2-1.5b-instruct', 'n': 1, 'stream': True, 'temperature': 0.7}}\n",
      "DEBUG:openai._base_client:Sending HTTP Request: POST https://dashscope.aliyuncs.com/compatible-mode/v1/chat/completions\n",
      "Sending HTTP Request: POST https://dashscope.aliyuncs.com/compatible-mode/v1/chat/completions\n",
      "DEBUG:httpcore.connection:close.started\n",
      "close.started\n",
      "DEBUG:httpcore.connection:close.complete\n",
      "close.complete\n",
      "DEBUG:httpcore.connection:connect_tcp.started host='dashscope.aliyuncs.com' port=443 local_address=None timeout=None socket_options=None\n",
      "connect_tcp.started host='dashscope.aliyuncs.com' port=443 local_address=None timeout=None socket_options=None\n",
      "DEBUG:httpcore.connection:connect_tcp.complete return_value=<httpcore._backends.sync.SyncStream object at 0x103714100>\n",
      "connect_tcp.complete return_value=<httpcore._backends.sync.SyncStream object at 0x103714100>\n",
      "DEBUG:httpcore.connection:start_tls.started ssl_context=<ssl.SSLContext object at 0x150fae6c0> server_hostname='dashscope.aliyuncs.com' timeout=None\n",
      "start_tls.started ssl_context=<ssl.SSLContext object at 0x150fae6c0> server_hostname='dashscope.aliyuncs.com' timeout=None\n",
      "DEBUG:httpcore.connection:start_tls.complete return_value=<httpcore._backends.sync.SyncStream object at 0x291c3af20>\n",
      "start_tls.complete return_value=<httpcore._backends.sync.SyncStream object at 0x291c3af20>\n",
      "DEBUG:httpcore.http11:send_request_headers.started request=<Request [b'POST']>\n",
      "send_request_headers.started request=<Request [b'POST']>\n",
      "DEBUG:httpcore.http11:send_request_headers.complete\n",
      "send_request_headers.complete\n",
      "DEBUG:httpcore.http11:send_request_body.started request=<Request [b'POST']>\n",
      "send_request_body.started request=<Request [b'POST']>\n",
      "DEBUG:httpcore.http11:send_request_body.complete\n",
      "send_request_body.complete\n",
      "DEBUG:httpcore.http11:receive_response_headers.started request=<Request [b'POST']>\n",
      "receive_response_headers.started request=<Request [b'POST']>\n",
      "DEBUG:httpcore.http11:receive_response_headers.complete return_value=(b'HTTP/1.1', 200, b'OK', [(b'eagleeye-traceid', b'81fb77520dd38062e3e54aca9a0c5e20'), (b'x-request-id', b'969144ef-5317-9f75-bccd-3d52b4628941'), (b'content-type', b'text/event-stream;charset=UTF-8'), (b'req-cost-time', b'255'), (b'req-arrive-time', b'1719977948943'), (b'resp-start-time', b'1719977949198'), (b'x-envoy-upstream-service-time', b'249'), (b'date', b'Wed, 03 Jul 2024 03:39:09 GMT'), (b'server', b'istio-envoy'), (b'transfer-encoding', b'chunked')])\n",
      "receive_response_headers.complete return_value=(b'HTTP/1.1', 200, b'OK', [(b'eagleeye-traceid', b'81fb77520dd38062e3e54aca9a0c5e20'), (b'x-request-id', b'969144ef-5317-9f75-bccd-3d52b4628941'), (b'content-type', b'text/event-stream;charset=UTF-8'), (b'req-cost-time', b'255'), (b'req-arrive-time', b'1719977948943'), (b'resp-start-time', b'1719977949198'), (b'x-envoy-upstream-service-time', b'249'), (b'date', b'Wed, 03 Jul 2024 03:39:09 GMT'), (b'server', b'istio-envoy'), (b'transfer-encoding', b'chunked')])\n",
      "INFO:httpx:HTTP Request: POST https://dashscope.aliyuncs.com/compatible-mode/v1/chat/completions \"HTTP/1.1 200 OK\"\n",
      "HTTP Request: POST https://dashscope.aliyuncs.com/compatible-mode/v1/chat/completions \"HTTP/1.1 200 OK\"\n",
      "DEBUG:openai._base_client:HTTP Response: POST https://dashscope.aliyuncs.com/compatible-mode/v1/chat/completions \"200 OK\" Headers({'eagleeye-traceid': '81fb77520dd38062e3e54aca9a0c5e20', 'x-request-id': '969144ef-5317-9f75-bccd-3d52b4628941', 'content-type': 'text/event-stream;charset=UTF-8', 'req-cost-time': '255', 'req-arrive-time': '1719977948943', 'resp-start-time': '1719977949198', 'x-envoy-upstream-service-time': '249', 'date': 'Wed, 03 Jul 2024 03:39:09 GMT', 'server': 'istio-envoy', 'transfer-encoding': 'chunked'})\n",
      "HTTP Response: POST https://dashscope.aliyuncs.com/compatible-mode/v1/chat/completions \"200 OK\" Headers({'eagleeye-traceid': '81fb77520dd38062e3e54aca9a0c5e20', 'x-request-id': '969144ef-5317-9f75-bccd-3d52b4628941', 'content-type': 'text/event-stream;charset=UTF-8', 'req-cost-time': '255', 'req-arrive-time': '1719977948943', 'resp-start-time': '1719977949198', 'x-envoy-upstream-service-time': '249', 'date': 'Wed, 03 Jul 2024 03:39:09 GMT', 'server': 'istio-envoy', 'transfer-encoding': 'chunked'})\n",
      "DEBUG:openai._base_client:request_id: 969144ef-5317-9f75-bccd-3d52b4628941\n",
      "request_id: 969144ef-5317-9f75-bccd-3d52b4628941\n",
      "DEBUG:httpcore.http11:receive_response_body.started request=<Request [b'POST']>\n",
      "receive_response_body.started request=<Request [b'POST']>\n",
      "DEBUG:httpcore.http11:receive_response_body.complete\n",
      "receive_response_body.complete\n",
      "DEBUG:httpcore.http11:response_closed.started\n",
      "response_closed.started\n",
      "DEBUG:httpcore.http11:response_closed.complete\n",
      "response_closed.complete\n",
      "行程包括了阿尔山国家森林公园的乌苏浪子湖晨雾、驼峰岭天池秋色、阿尔山大峡谷以及杜鹃湖等景点的拍摄。行程时间为一天，包含了早上的乌苏浪子湖晨雾拍摄、下午驼峰岭天池秋色拍摄、傍晚阿尔山大峡谷及杜鹃湖拍摄。行程还包括了车辆行驶的距离和所需时间，以及午餐的餐饮安排。\n"
     ]
    }
   ],
   "source": [
    "response = query_engine.query(\"简单说一下行程概要？\")\n",
    "print(response)"
   ],
   "metadata": {
    "collapsed": false,
    "ExecuteTime": {
     "end_time": "2024-07-03T03:39:09.838768Z",
     "start_time": "2024-07-03T03:39:04.497680Z"
    }
   },
   "id": "6a39211ef6d13588",
   "execution_count": 29
  },
  {
   "cell_type": "code",
   "outputs": [],
   "source": [
    "!mkdir data\n",
    "!wget https://raw.githubusercontent.com/jerryjliu/llama_index/main/examples/paul_graham_essay/data/paul_graham_essay.txt -O data/paul_graham_essay.txt\n",
    "\n",
    "import os\n",
    "\n",
    "os.environ['OPENAI_API_KEY'] = 'your valid openai api key'\n",
    "\n",
    "documents = SimpleDirectoryReader('data').load_data()\n",
    "index = VectorStoreIndex.from_documents(documents)\n",
    "\n",
    "query_engine = index.as_query_engine()\n",
    "response = query_engine.query(\"Who is the author?\")\n",
    "print(response)\n",
    "\n",
    "response = query_engine.query(\"Introduce me Paul Graham\")\n",
    "print(response)\n",
    "     "
   ],
   "metadata": {
    "collapsed": true
   },
   "id": "initial_id",
   "execution_count": 0
  }
 ],
 "metadata": {
  "kernelspec": {
   "display_name": "Python 3",
   "language": "python",
   "name": "python3"
  },
  "language_info": {
   "codemirror_mode": {
    "name": "ipython",
    "version": 2
   },
   "file_extension": ".py",
   "mimetype": "text/x-python",
   "name": "python",
   "nbconvert_exporter": "python",
   "pygments_lexer": "ipython2",
   "version": "2.7.6"
  }
 },
 "nbformat": 4,
 "nbformat_minor": 5
}
