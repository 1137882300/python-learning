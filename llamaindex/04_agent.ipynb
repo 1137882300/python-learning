{
 "cells": [
  {
   "cell_type": "code",
   "execution_count": 1,
   "id": "initial_id",
   "metadata": {
    "collapsed": true,
    "ExecuteTime": {
     "end_time": "2024-07-03T06:10:50.578555Z",
     "start_time": "2024-07-03T06:10:48.688791Z"
    }
   },
   "outputs": [
    {
     "name": "stdout",
     "output_type": "stream",
     "text": [
      "Looking in indexes: https://pypi.tuna.tsinghua.edu.cn/simple\r\n",
      "Requirement already satisfied: llama-index in /Users/pangmengting/venv/lib/python3.10/site-packages (0.10.48.post1)\r\n",
      "Requirement already satisfied: python-dotenv in /Users/pangmengting/venv/lib/python3.10/site-packages (1.0.0)\r\n",
      "Requirement already satisfied: llama-index-agent-openai<0.3.0,>=0.1.4 in /Users/pangmengting/venv/lib/python3.10/site-packages (from llama-index) (0.2.7)\r\n",
      "Requirement already satisfied: llama-index-cli<0.2.0,>=0.1.2 in /Users/pangmengting/venv/lib/python3.10/site-packages (from llama-index) (0.1.12)\r\n",
      "Requirement already satisfied: llama-index-core==0.10.48 in /Users/pangmengting/venv/lib/python3.10/site-packages (from llama-index) (0.10.48)\r\n",
      "Requirement already satisfied: llama-index-embeddings-openai<0.2.0,>=0.1.5 in /Users/pangmengting/venv/lib/python3.10/site-packages (from llama-index) (0.1.10)\r\n",
      "Requirement already satisfied: llama-index-indices-managed-llama-cloud<0.2.0,>=0.1.2 in /Users/pangmengting/venv/lib/python3.10/site-packages (from llama-index) (0.1.6)\r\n",
      "Requirement already satisfied: llama-index-legacy<0.10.0,>=0.9.48 in /Users/pangmengting/venv/lib/python3.10/site-packages (from llama-index) (0.9.48)\r\n",
      "Requirement already satisfied: llama-index-llms-openai<0.2.0,>=0.1.13 in /Users/pangmengting/venv/lib/python3.10/site-packages (from llama-index) (0.1.22)\r\n",
      "Requirement already satisfied: llama-index-multi-modal-llms-openai<0.2.0,>=0.1.3 in /Users/pangmengting/venv/lib/python3.10/site-packages (from llama-index) (0.1.6)\r\n",
      "Requirement already satisfied: llama-index-program-openai<0.2.0,>=0.1.3 in /Users/pangmengting/venv/lib/python3.10/site-packages (from llama-index) (0.1.6)\r\n",
      "Requirement already satisfied: llama-index-question-gen-openai<0.2.0,>=0.1.2 in /Users/pangmengting/venv/lib/python3.10/site-packages (from llama-index) (0.1.3)\r\n",
      "Requirement already satisfied: llama-index-readers-file<0.2.0,>=0.1.4 in /Users/pangmengting/venv/lib/python3.10/site-packages (from llama-index) (0.1.25)\r\n",
      "Requirement already satisfied: llama-index-readers-llama-parse<0.2.0,>=0.1.2 in /Users/pangmengting/venv/lib/python3.10/site-packages (from llama-index) (0.1.4)\r\n",
      "Requirement already satisfied: PyYAML>=6.0.1 in /Users/pangmengting/venv/lib/python3.10/site-packages (from llama-index-core==0.10.48->llama-index) (6.0.1)\r\n",
      "Requirement already satisfied: SQLAlchemy>=1.4.49 in /Users/pangmengting/venv/lib/python3.10/site-packages (from SQLAlchemy[asyncio]>=1.4.49->llama-index-core==0.10.48->llama-index) (2.0.31)\r\n",
      "Requirement already satisfied: aiohttp<4.0.0,>=3.8.6 in /Users/pangmengting/venv/lib/python3.10/site-packages (from llama-index-core==0.10.48->llama-index) (3.9.5)\r\n",
      "Requirement already satisfied: dataclasses-json in /Users/pangmengting/venv/lib/python3.10/site-packages (from llama-index-core==0.10.48->llama-index) (0.6.7)\r\n",
      "Requirement already satisfied: deprecated>=1.2.9.3 in /Users/pangmengting/venv/lib/python3.10/site-packages (from llama-index-core==0.10.48->llama-index) (1.2.14)\r\n",
      "Requirement already satisfied: dirtyjson<2.0.0,>=1.0.8 in /Users/pangmengting/venv/lib/python3.10/site-packages (from llama-index-core==0.10.48->llama-index) (1.0.8)\r\n",
      "Requirement already satisfied: fsspec>=2023.5.0 in /Users/pangmengting/venv/lib/python3.10/site-packages (from llama-index-core==0.10.48->llama-index) (2023.6.0)\r\n",
      "Requirement already satisfied: httpx in /Users/pangmengting/venv/lib/python3.10/site-packages (from llama-index-core==0.10.48->llama-index) (0.27.0)\r\n",
      "Requirement already satisfied: llamaindex-py-client<0.2.0,>=0.1.18 in /Users/pangmengting/venv/lib/python3.10/site-packages (from llama-index-core==0.10.48->llama-index) (0.1.19)\r\n",
      "Requirement already satisfied: nest-asyncio<2.0.0,>=1.5.8 in /Users/pangmengting/venv/lib/python3.10/site-packages (from llama-index-core==0.10.48->llama-index) (1.6.0)\r\n",
      "Requirement already satisfied: networkx>=3.0 in /Users/pangmengting/venv/lib/python3.10/site-packages (from llama-index-core==0.10.48->llama-index) (3.1)\r\n",
      "Requirement already satisfied: nltk<4.0.0,>=3.8.1 in /Users/pangmengting/venv/lib/python3.10/site-packages (from llama-index-core==0.10.48->llama-index) (3.8.1)\r\n",
      "Requirement already satisfied: numpy<2.0.0 in /Users/pangmengting/venv/lib/python3.10/site-packages (from llama-index-core==0.10.48->llama-index) (1.25.1)\r\n",
      "Requirement already satisfied: openai>=1.1.0 in /Users/pangmengting/venv/lib/python3.10/site-packages (from llama-index-core==0.10.48->llama-index) (1.33.0)\r\n",
      "Requirement already satisfied: pandas in /Users/pangmengting/venv/lib/python3.10/site-packages (from llama-index-core==0.10.48->llama-index) (1.5.3)\r\n",
      "Requirement already satisfied: pillow>=9.0.0 in /Users/pangmengting/venv/lib/python3.10/site-packages (from llama-index-core==0.10.48->llama-index) (10.3.0)\r\n",
      "Requirement already satisfied: requests>=2.31.0 in /Users/pangmengting/venv/lib/python3.10/site-packages (from llama-index-core==0.10.48->llama-index) (2.31.0)\r\n",
      "Requirement already satisfied: tenacity!=8.4.0,<9.0.0,>=8.2.0 in /Users/pangmengting/venv/lib/python3.10/site-packages (from llama-index-core==0.10.48->llama-index) (8.2.3)\r\n",
      "Requirement already satisfied: tiktoken>=0.3.3 in /Users/pangmengting/venv/lib/python3.10/site-packages (from llama-index-core==0.10.48->llama-index) (0.7.0)\r\n",
      "Requirement already satisfied: tqdm<5.0.0,>=4.66.1 in /Users/pangmengting/venv/lib/python3.10/site-packages (from llama-index-core==0.10.48->llama-index) (4.66.4)\r\n",
      "Requirement already satisfied: typing-extensions>=4.5.0 in /Users/pangmengting/venv/lib/python3.10/site-packages (from llama-index-core==0.10.48->llama-index) (4.10.0)\r\n",
      "Requirement already satisfied: typing-inspect>=0.8.0 in /Users/pangmengting/venv/lib/python3.10/site-packages (from llama-index-core==0.10.48->llama-index) (0.9.0)\r\n",
      "Requirement already satisfied: wrapt in /Users/pangmengting/venv/lib/python3.10/site-packages (from llama-index-core==0.10.48->llama-index) (1.15.0)\r\n",
      "Requirement already satisfied: beautifulsoup4<5.0.0,>=4.12.3 in /Users/pangmengting/venv/lib/python3.10/site-packages (from llama-index-readers-file<0.2.0,>=0.1.4->llama-index) (4.12.3)\r\n",
      "Requirement already satisfied: pypdf<5.0.0,>=4.0.1 in /Users/pangmengting/venv/lib/python3.10/site-packages (from llama-index-readers-file<0.2.0,>=0.1.4->llama-index) (4.2.0)\r\n",
      "Requirement already satisfied: striprtf<0.0.27,>=0.0.26 in /Users/pangmengting/venv/lib/python3.10/site-packages (from llama-index-readers-file<0.2.0,>=0.1.4->llama-index) (0.0.26)\r\n",
      "Requirement already satisfied: llama-parse<0.5.0,>=0.4.0 in /Users/pangmengting/venv/lib/python3.10/site-packages (from llama-index-readers-llama-parse<0.2.0,>=0.1.2->llama-index) (0.4.4)\r\n",
      "Requirement already satisfied: aiosignal>=1.1.2 in /Users/pangmengting/venv/lib/python3.10/site-packages (from aiohttp<4.0.0,>=3.8.6->llama-index-core==0.10.48->llama-index) (1.3.1)\r\n",
      "Requirement already satisfied: attrs>=17.3.0 in /Users/pangmengting/venv/lib/python3.10/site-packages (from aiohttp<4.0.0,>=3.8.6->llama-index-core==0.10.48->llama-index) (23.1.0)\r\n",
      "Requirement already satisfied: frozenlist>=1.1.1 in /Users/pangmengting/venv/lib/python3.10/site-packages (from aiohttp<4.0.0,>=3.8.6->llama-index-core==0.10.48->llama-index) (1.4.0)\r\n",
      "Requirement already satisfied: multidict<7.0,>=4.5 in /Users/pangmengting/venv/lib/python3.10/site-packages (from aiohttp<4.0.0,>=3.8.6->llama-index-core==0.10.48->llama-index) (6.0.4)\r\n",
      "Requirement already satisfied: yarl<2.0,>=1.0 in /Users/pangmengting/venv/lib/python3.10/site-packages (from aiohttp<4.0.0,>=3.8.6->llama-index-core==0.10.48->llama-index) (1.9.2)\r\n",
      "Requirement already satisfied: async-timeout<5.0,>=4.0 in /Users/pangmengting/venv/lib/python3.10/site-packages (from aiohttp<4.0.0,>=3.8.6->llama-index-core==0.10.48->llama-index) (4.0.2)\r\n",
      "Requirement already satisfied: soupsieve>1.2 in /Users/pangmengting/venv/lib/python3.10/site-packages (from beautifulsoup4<5.0.0,>=4.12.3->llama-index-readers-file<0.2.0,>=0.1.4->llama-index) (2.4.1)\r\n",
      "Requirement already satisfied: pydantic>=1.10 in /Users/pangmengting/venv/lib/python3.10/site-packages (from llamaindex-py-client<0.2.0,>=0.1.18->llama-index-core==0.10.48->llama-index) (2.6.4)\r\n",
      "Requirement already satisfied: anyio in /Users/pangmengting/venv/lib/python3.10/site-packages (from httpx->llama-index-core==0.10.48->llama-index) (3.7.1)\r\n",
      "Requirement already satisfied: certifi in /Users/pangmengting/venv/lib/python3.10/site-packages (from httpx->llama-index-core==0.10.48->llama-index) (2024.6.2)\r\n",
      "Requirement already satisfied: httpcore==1.* in /Users/pangmengting/venv/lib/python3.10/site-packages (from httpx->llama-index-core==0.10.48->llama-index) (1.0.4)\r\n",
      "Requirement already satisfied: idna in /Users/pangmengting/venv/lib/python3.10/site-packages (from httpx->llama-index-core==0.10.48->llama-index) (3.4)\r\n",
      "Requirement already satisfied: sniffio in /Users/pangmengting/venv/lib/python3.10/site-packages (from httpx->llama-index-core==0.10.48->llama-index) (1.3.0)\r\n",
      "Requirement already satisfied: h11<0.15,>=0.13 in /Users/pangmengting/venv/lib/python3.10/site-packages (from httpcore==1.*->httpx->llama-index-core==0.10.48->llama-index) (0.14.0)\r\n",
      "Requirement already satisfied: click in /Users/pangmengting/venv/lib/python3.10/site-packages (from nltk<4.0.0,>=3.8.1->llama-index-core==0.10.48->llama-index) (8.1.7)\r\n",
      "Requirement already satisfied: joblib in /Users/pangmengting/venv/lib/python3.10/site-packages (from nltk<4.0.0,>=3.8.1->llama-index-core==0.10.48->llama-index) (1.3.1)\r\n",
      "Requirement already satisfied: regex>=2021.8.3 in /Users/pangmengting/venv/lib/python3.10/site-packages (from nltk<4.0.0,>=3.8.1->llama-index-core==0.10.48->llama-index) (2023.6.3)\r\n",
      "Requirement already satisfied: distro<2,>=1.7.0 in /Users/pangmengting/venv/lib/python3.10/site-packages (from openai>=1.1.0->llama-index-core==0.10.48->llama-index) (1.8.0)\r\n",
      "Requirement already satisfied: charset-normalizer<4,>=2 in /Users/pangmengting/venv/lib/python3.10/site-packages (from requests>=2.31.0->llama-index-core==0.10.48->llama-index) (3.2.0)\r\n",
      "Requirement already satisfied: urllib3<3,>=1.21.1 in /Users/pangmengting/venv/lib/python3.10/site-packages (from requests>=2.31.0->llama-index-core==0.10.48->llama-index) (2.2.1)\r\n",
      "Requirement already satisfied: greenlet!=0.4.17 in /Users/pangmengting/venv/lib/python3.10/site-packages (from SQLAlchemy[asyncio]>=1.4.49->llama-index-core==0.10.48->llama-index) (2.0.2)\r\n",
      "Requirement already satisfied: mypy-extensions>=0.3.0 in /Users/pangmengting/venv/lib/python3.10/site-packages (from typing-inspect>=0.8.0->llama-index-core==0.10.48->llama-index) (1.0.0)\r\n",
      "Requirement already satisfied: marshmallow<4.0.0,>=3.18.0 in /Users/pangmengting/venv/lib/python3.10/site-packages (from dataclasses-json->llama-index-core==0.10.48->llama-index) (3.19.0)\r\n",
      "Requirement already satisfied: python-dateutil>=2.8.1 in /Users/pangmengting/venv/lib/python3.10/site-packages (from pandas->llama-index-core==0.10.48->llama-index) (2.8.2)\r\n",
      "Requirement already satisfied: pytz>=2020.1 in /Users/pangmengting/venv/lib/python3.10/site-packages (from pandas->llama-index-core==0.10.48->llama-index) (2023.3)\r\n",
      "Requirement already satisfied: exceptiongroup in /Users/pangmengting/venv/lib/python3.10/site-packages (from anyio->httpx->llama-index-core==0.10.48->llama-index) (1.1.2)\r\n",
      "Requirement already satisfied: packaging>=17.0 in /Users/pangmengting/venv/lib/python3.10/site-packages (from marshmallow<4.0.0,>=3.18.0->dataclasses-json->llama-index-core==0.10.48->llama-index) (23.2)\r\n",
      "Requirement already satisfied: annotated-types>=0.4.0 in /Users/pangmengting/venv/lib/python3.10/site-packages (from pydantic>=1.10->llamaindex-py-client<0.2.0,>=0.1.18->llama-index-core==0.10.48->llama-index) (0.6.0)\r\n",
      "Requirement already satisfied: pydantic-core==2.16.3 in /Users/pangmengting/venv/lib/python3.10/site-packages (from pydantic>=1.10->llamaindex-py-client<0.2.0,>=0.1.18->llama-index-core==0.10.48->llama-index) (2.16.3)\r\n",
      "Requirement already satisfied: six>=1.5 in /Users/pangmengting/venv/lib/python3.10/site-packages (from python-dateutil>=2.8.1->pandas->llama-index-core==0.10.48->llama-index) (1.16.0)\r\n",
      "\r\n",
      "\u001B[1m[\u001B[0m\u001B[34;49mnotice\u001B[0m\u001B[1;39;49m]\u001B[0m\u001B[39;49m A new release of pip is available: \u001B[0m\u001B[31;49m24.0\u001B[0m\u001B[39;49m -> \u001B[0m\u001B[32;49m24.1.1\u001B[0m\r\n",
      "\u001B[1m[\u001B[0m\u001B[34;49mnotice\u001B[0m\u001B[1;39;49m]\u001B[0m\u001B[39;49m To update, run: \u001B[0m\u001B[32;49mpip install --upgrade pip\u001B[0m\r\n"
     ]
    }
   ],
   "source": [
    "# !pip install llama-index python-dotenv"
   ]
  },
  {
   "cell_type": "code",
   "outputs": [],
   "source": [
    "from dotenv import load_dotenv\n",
    "\n",
    "load_dotenv()\n",
    "from llama_index.core.agent import ReActAgent\n",
    "from llama_index.core.tools import FunctionTool"
   ],
   "metadata": {
    "collapsed": false,
    "ExecuteTime": {
     "end_time": "2024-07-03T06:15:05.773693Z",
     "start_time": "2024-07-03T06:15:04.267067Z"
    }
   },
   "id": "b4c4deb10903e548",
   "execution_count": 2
  },
  {
   "cell_type": "code",
   "outputs": [],
   "source": [
    "# 创建两个工具：一个知道如何将数字相乘，另一个知道如何将它们相加。"
   ],
   "metadata": {
    "collapsed": false,
    "ExecuteTime": {
     "end_time": "2024-07-03T06:15:06.370876Z",
     "start_time": "2024-07-03T06:15:06.367439Z"
    }
   },
   "id": "e521f552be20fa89",
   "execution_count": 3
  },
  {
   "cell_type": "code",
   "outputs": [],
   "source": [
    "def multiply(a: float, b: float) -> float:\n",
    "    \"\"\"Multiply two numbers and returns the product\"\"\"\n",
    "    return a * b\n",
    "\n",
    "\n",
    "multiply_tool = FunctionTool.from_defaults(fn=multiply)\n",
    "\n",
    "\n",
    "def add(a: float, b: float) -> float:\n",
    "    \"\"\"Add two numbers and returns the sum\"\"\"\n",
    "    return a + b\n",
    "\n",
    "\n",
    "add_tool = FunctionTool.from_defaults(fn=add)"
   ],
   "metadata": {
    "collapsed": false,
    "ExecuteTime": {
     "end_time": "2024-07-03T06:15:08.022808Z",
     "start_time": "2024-07-03T06:15:08.014599Z"
    }
   },
   "id": "fa45726dcba0fe49",
   "execution_count": 4
  },
  {
   "cell_type": "code",
   "outputs": [
    {
     "ename": "ImportError",
     "evalue": "cannot import name 'LangSmithParams' from 'langchain_core.language_models.chat_models' (/Users/pangmengting/venv/lib/python3.10/site-packages/langchain_core/language_models/chat_models.py)",
     "output_type": "error",
     "traceback": [
      "\u001B[0;31m---------------------------------------------------------------------------\u001B[0m",
      "\u001B[0;31mImportError\u001B[0m                               Traceback (most recent call last)",
      "Cell \u001B[0;32mIn[6], line 1\u001B[0m\n\u001B[0;32m----> 1\u001B[0m \u001B[38;5;28;01mfrom\u001B[39;00m \u001B[38;5;21;01mlangchain_openai\u001B[39;00m \u001B[38;5;28;01mimport\u001B[39;00m ChatOpenAI\n\u001B[1;32m      2\u001B[0m \u001B[38;5;28;01mimport\u001B[39;00m \u001B[38;5;21;01mos\u001B[39;00m\n\u001B[1;32m      4\u001B[0m qw_llm_openai \u001B[38;5;241m=\u001B[39m ChatOpenAI(\n\u001B[1;32m      5\u001B[0m     openai_api_base\u001B[38;5;241m=\u001B[39m\u001B[38;5;124m'\u001B[39m\u001B[38;5;124mhttps://dashscope.aliyuncs.com/compatible-mode/v1\u001B[39m\u001B[38;5;124m'\u001B[39m,\n\u001B[1;32m      6\u001B[0m     openai_api_key\u001B[38;5;241m=\u001B[39mos\u001B[38;5;241m.\u001B[39mgetenv(\u001B[38;5;124m'\u001B[39m\u001B[38;5;124mDASHSCOPE_API_KEY\u001B[39m\u001B[38;5;124m'\u001B[39m),\n\u001B[0;32m   (...)\u001B[0m\n\u001B[1;32m      9\u001B[0m     streaming\u001B[38;5;241m=\u001B[39m\u001B[38;5;28;01mTrue\u001B[39;00m,\n\u001B[1;32m     10\u001B[0m )\n",
      "File \u001B[0;32m~/venv/lib/python3.10/site-packages/langchain_openai/__init__.py:1\u001B[0m\n\u001B[0;32m----> 1\u001B[0m \u001B[38;5;28;01mfrom\u001B[39;00m \u001B[38;5;21;01mlangchain_openai\u001B[39;00m\u001B[38;5;21;01m.\u001B[39;00m\u001B[38;5;21;01mchat_models\u001B[39;00m \u001B[38;5;28;01mimport\u001B[39;00m (\n\u001B[1;32m      2\u001B[0m     AzureChatOpenAI,\n\u001B[1;32m      3\u001B[0m     ChatOpenAI,\n\u001B[1;32m      4\u001B[0m )\n\u001B[1;32m      5\u001B[0m \u001B[38;5;28;01mfrom\u001B[39;00m \u001B[38;5;21;01mlangchain_openai\u001B[39;00m\u001B[38;5;21;01m.\u001B[39;00m\u001B[38;5;21;01membeddings\u001B[39;00m \u001B[38;5;28;01mimport\u001B[39;00m (\n\u001B[1;32m      6\u001B[0m     AzureOpenAIEmbeddings,\n\u001B[1;32m      7\u001B[0m     OpenAIEmbeddings,\n\u001B[1;32m      8\u001B[0m )\n\u001B[1;32m      9\u001B[0m \u001B[38;5;28;01mfrom\u001B[39;00m \u001B[38;5;21;01mlangchain_openai\u001B[39;00m\u001B[38;5;21;01m.\u001B[39;00m\u001B[38;5;21;01mllms\u001B[39;00m \u001B[38;5;28;01mimport\u001B[39;00m AzureOpenAI, OpenAI\n",
      "File \u001B[0;32m~/venv/lib/python3.10/site-packages/langchain_openai/chat_models/__init__.py:1\u001B[0m\n\u001B[0;32m----> 1\u001B[0m \u001B[38;5;28;01mfrom\u001B[39;00m \u001B[38;5;21;01mlangchain_openai\u001B[39;00m\u001B[38;5;21;01m.\u001B[39;00m\u001B[38;5;21;01mchat_models\u001B[39;00m\u001B[38;5;21;01m.\u001B[39;00m\u001B[38;5;21;01mazure\u001B[39;00m \u001B[38;5;28;01mimport\u001B[39;00m AzureChatOpenAI\n\u001B[1;32m      2\u001B[0m \u001B[38;5;28;01mfrom\u001B[39;00m \u001B[38;5;21;01mlangchain_openai\u001B[39;00m\u001B[38;5;21;01m.\u001B[39;00m\u001B[38;5;21;01mchat_models\u001B[39;00m\u001B[38;5;21;01m.\u001B[39;00m\u001B[38;5;21;01mbase\u001B[39;00m \u001B[38;5;28;01mimport\u001B[39;00m ChatOpenAI\n\u001B[1;32m      4\u001B[0m __all__ \u001B[38;5;241m=\u001B[39m [\n\u001B[1;32m      5\u001B[0m     \u001B[38;5;124m\"\u001B[39m\u001B[38;5;124mChatOpenAI\u001B[39m\u001B[38;5;124m\"\u001B[39m,\n\u001B[1;32m      6\u001B[0m     \u001B[38;5;124m\"\u001B[39m\u001B[38;5;124mAzureChatOpenAI\u001B[39m\u001B[38;5;124m\"\u001B[39m,\n\u001B[1;32m      7\u001B[0m ]\n",
      "File \u001B[0;32m~/venv/lib/python3.10/site-packages/langchain_openai/chat_models/azure.py:9\u001B[0m\n\u001B[1;32m      6\u001B[0m \u001B[38;5;28;01mfrom\u001B[39;00m \u001B[38;5;21;01mtyping\u001B[39;00m \u001B[38;5;28;01mimport\u001B[39;00m Any, Callable, Dict, List, Optional, Union\n\u001B[1;32m      8\u001B[0m \u001B[38;5;28;01mimport\u001B[39;00m \u001B[38;5;21;01mopenai\u001B[39;00m\n\u001B[0;32m----> 9\u001B[0m \u001B[38;5;28;01mfrom\u001B[39;00m \u001B[38;5;21;01mlangchain_core\u001B[39;00m\u001B[38;5;21;01m.\u001B[39;00m\u001B[38;5;21;01mlanguage_models\u001B[39;00m\u001B[38;5;21;01m.\u001B[39;00m\u001B[38;5;21;01mchat_models\u001B[39;00m \u001B[38;5;28;01mimport\u001B[39;00m LangSmithParams\n\u001B[1;32m     10\u001B[0m \u001B[38;5;28;01mfrom\u001B[39;00m \u001B[38;5;21;01mlangchain_core\u001B[39;00m\u001B[38;5;21;01m.\u001B[39;00m\u001B[38;5;21;01moutputs\u001B[39;00m \u001B[38;5;28;01mimport\u001B[39;00m ChatResult\n\u001B[1;32m     11\u001B[0m \u001B[38;5;28;01mfrom\u001B[39;00m \u001B[38;5;21;01mlangchain_core\u001B[39;00m\u001B[38;5;21;01m.\u001B[39;00m\u001B[38;5;21;01mpydantic_v1\u001B[39;00m \u001B[38;5;28;01mimport\u001B[39;00m Field, SecretStr, root_validator\n",
      "\u001B[0;31mImportError\u001B[0m: cannot import name 'LangSmithParams' from 'langchain_core.language_models.chat_models' (/Users/pangmengting/venv/lib/python3.10/site-packages/langchain_core/language_models/chat_models.py)"
     ]
    }
   ],
   "source": [
    "from langchain_openai import ChatOpenAI\n",
    "import os\n",
    "\n",
    "qw_llm_openai = ChatOpenAI(\n",
    "    openai_api_base='https://dashscope.aliyuncs.com/compatible-mode/v1',\n",
    "    openai_api_key=os.getenv('DASHSCOPE_API_KEY'),\n",
    "    model_name=\"qwen2-1.5b-instruct\",\n",
    "    temperature=0.7,\n",
    "    streaming=True,\n",
    ")"
   ],
   "metadata": {
    "collapsed": false,
    "ExecuteTime": {
     "end_time": "2024-07-03T06:15:27.171026Z",
     "start_time": "2024-07-03T06:15:27.117887Z"
    }
   },
   "id": "7f3eb584d3bb346",
   "execution_count": 6
  },
  {
   "cell_type": "code",
   "outputs": [],
   "source": [
    "# 初始化代理#"
   ],
   "metadata": {
    "collapsed": false
   },
   "id": "d875b366e8a84d3f"
  },
  {
   "cell_type": "code",
   "outputs": [],
   "source": [
    "agent = ReActAgent.from_tools([multiply_tool, add_tool], llm=qw_llm_openai, verbose=True)"
   ],
   "metadata": {
    "collapsed": false
   },
   "id": "9c40342c9b94852d"
  },
  {
   "cell_type": "code",
   "outputs": [],
   "source": [
    "# 提问\n",
    "response = agent.chat(\"What is 20+(2*4)? Use a tool to calculate every step.\")"
   ],
   "metadata": {
    "collapsed": false
   },
   "id": "b8f331ac8fdd5ab2"
  },
  {
   "cell_type": "code",
   "outputs": [
    {
     "name": "stdout",
     "output_type": "stream",
     "text": [
      "/Users/pangmengting/venv\n"
     ]
    }
   ],
   "source": [
    "import os\n",
    "print(os.environ.get('VIRTUAL_ENV'))"
   ],
   "metadata": {
    "collapsed": false,
    "ExecuteTime": {
     "end_time": "2024-07-03T06:16:37.716710Z",
     "start_time": "2024-07-03T06:16:37.712153Z"
    }
   },
   "id": "d4083e7f25ac5a25",
   "execution_count": 7
  },
  {
   "cell_type": "code",
   "outputs": [],
   "source": [],
   "metadata": {
    "collapsed": false
   },
   "id": "a27e9e4cb1d85a37"
  }
 ],
 "metadata": {
  "kernelspec": {
   "display_name": "Python 3",
   "language": "python",
   "name": "python3"
  },
  "language_info": {
   "codemirror_mode": {
    "name": "ipython",
    "version": 2
   },
   "file_extension": ".py",
   "mimetype": "text/x-python",
   "name": "python",
   "nbconvert_exporter": "python",
   "pygments_lexer": "ipython2",
   "version": "2.7.6"
  }
 },
 "nbformat": 4,
 "nbformat_minor": 5
}
