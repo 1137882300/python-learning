{
 "cells": [
  {
   "cell_type": "code",
   "execution_count": 1,
   "id": "initial_id",
   "metadata": {
    "collapsed": true,
    "ExecuteTime": {
     "end_time": "2024-07-03T07:29:59.523177Z",
     "start_time": "2024-07-03T07:29:57.972975Z"
    }
   },
   "outputs": [
    {
     "ename": "ValueError",
     "evalue": "No files found in ../file.",
     "output_type": "error",
     "traceback": [
      "\u001B[0;31m---------------------------------------------------------------------------\u001B[0m",
      "\u001B[0;31mValueError\u001B[0m                                Traceback (most recent call last)",
      "Cell \u001B[0;32mIn[1], line 3\u001B[0m\n\u001B[1;32m      1\u001B[0m \u001B[38;5;28;01mfrom\u001B[39;00m \u001B[38;5;21;01mllama_index\u001B[39;00m\u001B[38;5;21;01m.\u001B[39;00m\u001B[38;5;21;01mcore\u001B[39;00m \u001B[38;5;28;01mimport\u001B[39;00m SimpleDirectoryReader\n\u001B[0;32m----> 3\u001B[0m reader \u001B[38;5;241m=\u001B[39m \u001B[43mSimpleDirectoryReader\u001B[49m\u001B[43m(\u001B[49m\n\u001B[1;32m      4\u001B[0m \u001B[43m    \u001B[49m\u001B[43minput_dir\u001B[49m\u001B[38;5;241;43m=\u001B[39;49m\u001B[38;5;124;43m\"\u001B[39;49m\u001B[38;5;124;43m../file\u001B[39;49m\u001B[38;5;124;43m\"\u001B[39;49m\u001B[43m,\u001B[49m\n\u001B[1;32m      5\u001B[0m \u001B[43m    \u001B[49m\u001B[43mrequired_exts\u001B[49m\u001B[38;5;241;43m=\u001B[39;49m\u001B[43m[\u001B[49m\u001B[38;5;124;43m\"\u001B[39;49m\u001B[38;5;124;43m.md\u001B[39;49m\u001B[38;5;124;43m\"\u001B[39;49m\u001B[43m]\u001B[49m\u001B[43m,\u001B[49m\n\u001B[1;32m      6\u001B[0m \u001B[43m    \u001B[49m\u001B[43mrecursive\u001B[49m\u001B[38;5;241;43m=\u001B[39;49m\u001B[38;5;28;43;01mTrue\u001B[39;49;00m\n\u001B[1;32m      7\u001B[0m \u001B[43m)\u001B[49m\n\u001B[1;32m      8\u001B[0m docs \u001B[38;5;241m=\u001B[39m reader\u001B[38;5;241m.\u001B[39mload_data()\n",
      "File \u001B[0;32m~/venv/lib/python3.10/site-packages/llama_index/core/readers/file/base.py:263\u001B[0m, in \u001B[0;36mSimpleDirectoryReader.__init__\u001B[0;34m(self, input_dir, input_files, exclude, exclude_hidden, errors, recursive, encoding, filename_as_id, required_exts, file_extractor, num_files_limit, file_metadata, raise_on_error, fs)\u001B[0m\n\u001B[1;32m    261\u001B[0m     \u001B[38;5;28mself\u001B[39m\u001B[38;5;241m.\u001B[39minput_dir \u001B[38;5;241m=\u001B[39m _Path(input_dir)\n\u001B[1;32m    262\u001B[0m     \u001B[38;5;28mself\u001B[39m\u001B[38;5;241m.\u001B[39mexclude \u001B[38;5;241m=\u001B[39m exclude\n\u001B[0;32m--> 263\u001B[0m     \u001B[38;5;28mself\u001B[39m\u001B[38;5;241m.\u001B[39minput_files \u001B[38;5;241m=\u001B[39m \u001B[38;5;28;43mself\u001B[39;49m\u001B[38;5;241;43m.\u001B[39;49m\u001B[43m_add_files\u001B[49m\u001B[43m(\u001B[49m\u001B[38;5;28;43mself\u001B[39;49m\u001B[38;5;241;43m.\u001B[39;49m\u001B[43minput_dir\u001B[49m\u001B[43m)\u001B[49m\n\u001B[1;32m    265\u001B[0m \u001B[38;5;28;01mif\u001B[39;00m file_extractor \u001B[38;5;129;01mis\u001B[39;00m \u001B[38;5;129;01mnot\u001B[39;00m \u001B[38;5;28;01mNone\u001B[39;00m:\n\u001B[1;32m    266\u001B[0m     \u001B[38;5;28mself\u001B[39m\u001B[38;5;241m.\u001B[39mfile_extractor \u001B[38;5;241m=\u001B[39m file_extractor\n",
      "File \u001B[0;32m~/venv/lib/python3.10/site-packages/llama_index/core/readers/file/base.py:345\u001B[0m, in \u001B[0;36mSimpleDirectoryReader._add_files\u001B[0;34m(self, input_dir)\u001B[0m\n\u001B[1;32m    342\u001B[0m new_input_files \u001B[38;5;241m=\u001B[39m \u001B[38;5;28msorted\u001B[39m(all_files)\n\u001B[1;32m    344\u001B[0m \u001B[38;5;28;01mif\u001B[39;00m \u001B[38;5;28mlen\u001B[39m(new_input_files) \u001B[38;5;241m==\u001B[39m \u001B[38;5;241m0\u001B[39m:\n\u001B[0;32m--> 345\u001B[0m     \u001B[38;5;28;01mraise\u001B[39;00m \u001B[38;5;167;01mValueError\u001B[39;00m(\u001B[38;5;124mf\u001B[39m\u001B[38;5;124m\"\u001B[39m\u001B[38;5;124mNo files found in \u001B[39m\u001B[38;5;132;01m{\u001B[39;00minput_dir\u001B[38;5;132;01m}\u001B[39;00m\u001B[38;5;124m.\u001B[39m\u001B[38;5;124m\"\u001B[39m)\n\u001B[1;32m    347\u001B[0m \u001B[38;5;28;01mif\u001B[39;00m \u001B[38;5;28mself\u001B[39m\u001B[38;5;241m.\u001B[39mnum_files_limit \u001B[38;5;129;01mis\u001B[39;00m \u001B[38;5;129;01mnot\u001B[39;00m \u001B[38;5;28;01mNone\u001B[39;00m \u001B[38;5;129;01mand\u001B[39;00m \u001B[38;5;28mself\u001B[39m\u001B[38;5;241m.\u001B[39mnum_files_limit \u001B[38;5;241m>\u001B[39m \u001B[38;5;241m0\u001B[39m:\n\u001B[1;32m    348\u001B[0m     new_input_files \u001B[38;5;241m=\u001B[39m new_input_files[\u001B[38;5;241m0\u001B[39m : \u001B[38;5;28mself\u001B[39m\u001B[38;5;241m.\u001B[39mnum_files_limit]\n",
      "\u001B[0;31mValueError\u001B[0m: No files found in ../file."
     ]
    }
   ],
   "source": [
    "from llama_index.core import SimpleDirectoryReader\n",
    "\n",
    "reader = SimpleDirectoryReader(\n",
    "    input_dir=\"../file\",\n",
    "    required_exts=[\".md\"],\n",
    "    recursive=True\n",
    ")\n",
    "docs = reader.load_data()"
   ]
  },
  {
   "cell_type": "code",
   "outputs": [],
   "source": [
    "docs = SimpleDirectoryReader(\"../file\").load_data()"
   ],
   "metadata": {
    "collapsed": false,
    "ExecuteTime": {
     "end_time": "2024-07-03T07:30:51.645677Z",
     "start_time": "2024-07-03T07:30:51.637407Z"
    }
   },
   "id": "459000fd2c13250a",
   "execution_count": 3
  },
  {
   "cell_type": "code",
   "outputs": [
    {
     "ename": "ValueError",
     "evalue": "\n******\nCould not load OpenAI embedding model. If you intended to use OpenAI, please check your OPENAI_API_KEY.\nOriginal error:\nNo API key found for OpenAI.\nPlease set either the OPENAI_API_KEY environment variable or openai.api_key prior to initialization.\nAPI keys can be found or created at https://platform.openai.com/account/api-keys\n\nConsider using embed_model='local'.\nVisit our documentation for more embedding options: https://docs.llamaindex.ai/en/stable/module_guides/models/embeddings.html#modules\n******",
     "output_type": "error",
     "traceback": [
      "\u001B[0;31m---------------------------------------------------------------------------\u001B[0m",
      "\u001B[0;31mValueError\u001B[0m                                Traceback (most recent call last)",
      "File \u001B[0;32m~/venv/lib/python3.10/site-packages/llama_index/core/embeddings/utils.py:59\u001B[0m, in \u001B[0;36mresolve_embed_model\u001B[0;34m(embed_model, callback_manager)\u001B[0m\n\u001B[1;32m     58\u001B[0m     embed_model \u001B[38;5;241m=\u001B[39m OpenAIEmbedding()\n\u001B[0;32m---> 59\u001B[0m     \u001B[43mvalidate_openai_api_key\u001B[49m\u001B[43m(\u001B[49m\u001B[43membed_model\u001B[49m\u001B[38;5;241;43m.\u001B[39;49m\u001B[43mapi_key\u001B[49m\u001B[43m)\u001B[49m\n\u001B[1;32m     60\u001B[0m \u001B[38;5;28;01mexcept\u001B[39;00m \u001B[38;5;167;01mImportError\u001B[39;00m:\n",
      "File \u001B[0;32m~/venv/lib/python3.10/site-packages/llama_index/embeddings/openai/utils.py:103\u001B[0m, in \u001B[0;36mvalidate_openai_api_key\u001B[0;34m(api_key)\u001B[0m\n\u001B[1;32m    102\u001B[0m \u001B[38;5;28;01mif\u001B[39;00m \u001B[38;5;129;01mnot\u001B[39;00m openai_api_key:\n\u001B[0;32m--> 103\u001B[0m     \u001B[38;5;28;01mraise\u001B[39;00m \u001B[38;5;167;01mValueError\u001B[39;00m(MISSING_API_KEY_ERROR_MESSAGE)\n",
      "\u001B[0;31mValueError\u001B[0m: No API key found for OpenAI.\nPlease set either the OPENAI_API_KEY environment variable or openai.api_key prior to initialization.\nAPI keys can be found or created at https://platform.openai.com/account/api-keys\n",
      "\nDuring handling of the above exception, another exception occurred:\n",
      "\u001B[0;31mValueError\u001B[0m                                Traceback (most recent call last)",
      "Cell \u001B[0;32mIn[4], line 3\u001B[0m\n\u001B[1;32m      1\u001B[0m \u001B[38;5;28;01mfrom\u001B[39;00m \u001B[38;5;21;01mllama_index\u001B[39;00m\u001B[38;5;21;01m.\u001B[39;00m\u001B[38;5;21;01mcore\u001B[39;00m \u001B[38;5;28;01mimport\u001B[39;00m VectorStoreIndex\n\u001B[0;32m----> 3\u001B[0m index \u001B[38;5;241m=\u001B[39m \u001B[43mVectorStoreIndex\u001B[49m\u001B[38;5;241;43m.\u001B[39;49m\u001B[43mfrom_documents\u001B[49m\u001B[43m(\u001B[49m\u001B[43mdocs\u001B[49m\u001B[43m)\u001B[49m\n\u001B[1;32m      4\u001B[0m query_engine \u001B[38;5;241m=\u001B[39m index\u001B[38;5;241m.\u001B[39mas_query_engine()\n\u001B[1;32m      5\u001B[0m response \u001B[38;5;241m=\u001B[39m query_engine\u001B[38;5;241m.\u001B[39mquery(\u001B[38;5;124m\"\u001B[39m\u001B[38;5;124m什么是WTF LangChain？\u001B[39m\u001B[38;5;124m\"\u001B[39m)\n",
      "File \u001B[0;32m~/venv/lib/python3.10/site-packages/llama_index/core/indices/base.py:145\u001B[0m, in \u001B[0;36mBaseIndex.from_documents\u001B[0;34m(cls, documents, storage_context, show_progress, callback_manager, transformations, service_context, **kwargs)\u001B[0m\n\u001B[1;32m    136\u001B[0m     docstore\u001B[38;5;241m.\u001B[39mset_document_hash(doc\u001B[38;5;241m.\u001B[39mget_doc_id(), doc\u001B[38;5;241m.\u001B[39mhash)\n\u001B[1;32m    138\u001B[0m nodes \u001B[38;5;241m=\u001B[39m run_transformations(\n\u001B[1;32m    139\u001B[0m     documents,  \u001B[38;5;66;03m# type: ignore\u001B[39;00m\n\u001B[1;32m    140\u001B[0m     transformations,\n\u001B[1;32m    141\u001B[0m     show_progress\u001B[38;5;241m=\u001B[39mshow_progress,\n\u001B[1;32m    142\u001B[0m     \u001B[38;5;241m*\u001B[39m\u001B[38;5;241m*\u001B[39mkwargs,\n\u001B[1;32m    143\u001B[0m )\n\u001B[0;32m--> 145\u001B[0m \u001B[38;5;28;01mreturn\u001B[39;00m \u001B[38;5;28;43mcls\u001B[39;49m\u001B[43m(\u001B[49m\n\u001B[1;32m    146\u001B[0m \u001B[43m    \u001B[49m\u001B[43mnodes\u001B[49m\u001B[38;5;241;43m=\u001B[39;49m\u001B[43mnodes\u001B[49m\u001B[43m,\u001B[49m\n\u001B[1;32m    147\u001B[0m \u001B[43m    \u001B[49m\u001B[43mstorage_context\u001B[49m\u001B[38;5;241;43m=\u001B[39;49m\u001B[43mstorage_context\u001B[49m\u001B[43m,\u001B[49m\n\u001B[1;32m    148\u001B[0m \u001B[43m    \u001B[49m\u001B[43mcallback_manager\u001B[49m\u001B[38;5;241;43m=\u001B[39;49m\u001B[43mcallback_manager\u001B[49m\u001B[43m,\u001B[49m\n\u001B[1;32m    149\u001B[0m \u001B[43m    \u001B[49m\u001B[43mshow_progress\u001B[49m\u001B[38;5;241;43m=\u001B[39;49m\u001B[43mshow_progress\u001B[49m\u001B[43m,\u001B[49m\n\u001B[1;32m    150\u001B[0m \u001B[43m    \u001B[49m\u001B[43mtransformations\u001B[49m\u001B[38;5;241;43m=\u001B[39;49m\u001B[43mtransformations\u001B[49m\u001B[43m,\u001B[49m\n\u001B[1;32m    151\u001B[0m \u001B[43m    \u001B[49m\u001B[43mservice_context\u001B[49m\u001B[38;5;241;43m=\u001B[39;49m\u001B[43mservice_context\u001B[49m\u001B[43m,\u001B[49m\n\u001B[1;32m    152\u001B[0m \u001B[43m    \u001B[49m\u001B[38;5;241;43m*\u001B[39;49m\u001B[38;5;241;43m*\u001B[39;49m\u001B[43mkwargs\u001B[49m\u001B[43m,\u001B[49m\n\u001B[1;32m    153\u001B[0m \u001B[43m\u001B[49m\u001B[43m)\u001B[49m\n",
      "File \u001B[0;32m~/venv/lib/python3.10/site-packages/llama_index/core/indices/vector_store/base.py:71\u001B[0m, in \u001B[0;36mVectorStoreIndex.__init__\u001B[0;34m(self, nodes, use_async, store_nodes_override, embed_model, insert_batch_size, objects, index_struct, storage_context, callback_manager, transformations, show_progress, service_context, **kwargs)\u001B[0m\n\u001B[1;32m     66\u001B[0m \u001B[38;5;28mself\u001B[39m\u001B[38;5;241m.\u001B[39m_use_async \u001B[38;5;241m=\u001B[39m use_async\n\u001B[1;32m     67\u001B[0m \u001B[38;5;28mself\u001B[39m\u001B[38;5;241m.\u001B[39m_store_nodes_override \u001B[38;5;241m=\u001B[39m store_nodes_override\n\u001B[1;32m     68\u001B[0m \u001B[38;5;28mself\u001B[39m\u001B[38;5;241m.\u001B[39m_embed_model \u001B[38;5;241m=\u001B[39m (\n\u001B[1;32m     69\u001B[0m     resolve_embed_model(embed_model, callback_manager\u001B[38;5;241m=\u001B[39mcallback_manager)\n\u001B[1;32m     70\u001B[0m     \u001B[38;5;28;01mif\u001B[39;00m embed_model\n\u001B[0;32m---> 71\u001B[0m     \u001B[38;5;28;01melse\u001B[39;00m \u001B[43membed_model_from_settings_or_context\u001B[49m\u001B[43m(\u001B[49m\u001B[43mSettings\u001B[49m\u001B[43m,\u001B[49m\u001B[43m \u001B[49m\u001B[43mservice_context\u001B[49m\u001B[43m)\u001B[49m\n\u001B[1;32m     72\u001B[0m )\n\u001B[1;32m     74\u001B[0m \u001B[38;5;28mself\u001B[39m\u001B[38;5;241m.\u001B[39m_insert_batch_size \u001B[38;5;241m=\u001B[39m insert_batch_size\n\u001B[1;32m     75\u001B[0m \u001B[38;5;28msuper\u001B[39m()\u001B[38;5;241m.\u001B[39m\u001B[38;5;21m__init__\u001B[39m(\n\u001B[1;32m     76\u001B[0m     nodes\u001B[38;5;241m=\u001B[39mnodes,\n\u001B[1;32m     77\u001B[0m     index_struct\u001B[38;5;241m=\u001B[39mindex_struct,\n\u001B[0;32m   (...)\u001B[0m\n\u001B[1;32m     84\u001B[0m     \u001B[38;5;241m*\u001B[39m\u001B[38;5;241m*\u001B[39mkwargs,\n\u001B[1;32m     85\u001B[0m )\n",
      "File \u001B[0;32m~/venv/lib/python3.10/site-packages/llama_index/core/settings.py:274\u001B[0m, in \u001B[0;36membed_model_from_settings_or_context\u001B[0;34m(settings, context)\u001B[0m\n\u001B[1;32m    271\u001B[0m \u001B[38;5;28;01mif\u001B[39;00m context \u001B[38;5;129;01mis\u001B[39;00m \u001B[38;5;129;01mnot\u001B[39;00m \u001B[38;5;28;01mNone\u001B[39;00m:\n\u001B[1;32m    272\u001B[0m     \u001B[38;5;28;01mreturn\u001B[39;00m context\u001B[38;5;241m.\u001B[39membed_model\n\u001B[0;32m--> 274\u001B[0m \u001B[38;5;28;01mreturn\u001B[39;00m \u001B[43msettings\u001B[49m\u001B[38;5;241;43m.\u001B[39;49m\u001B[43membed_model\u001B[49m\n",
      "File \u001B[0;32m~/venv/lib/python3.10/site-packages/llama_index/core/settings.py:67\u001B[0m, in \u001B[0;36m_Settings.embed_model\u001B[0;34m(self)\u001B[0m\n\u001B[1;32m     65\u001B[0m \u001B[38;5;250m\u001B[39m\u001B[38;5;124;03m\"\"\"Get the embedding model.\"\"\"\u001B[39;00m\n\u001B[1;32m     66\u001B[0m \u001B[38;5;28;01mif\u001B[39;00m \u001B[38;5;28mself\u001B[39m\u001B[38;5;241m.\u001B[39m_embed_model \u001B[38;5;129;01mis\u001B[39;00m \u001B[38;5;28;01mNone\u001B[39;00m:\n\u001B[0;32m---> 67\u001B[0m     \u001B[38;5;28mself\u001B[39m\u001B[38;5;241m.\u001B[39m_embed_model \u001B[38;5;241m=\u001B[39m \u001B[43mresolve_embed_model\u001B[49m\u001B[43m(\u001B[49m\u001B[38;5;124;43m\"\u001B[39;49m\u001B[38;5;124;43mdefault\u001B[39;49m\u001B[38;5;124;43m\"\u001B[39;49m\u001B[43m)\u001B[49m\n\u001B[1;32m     69\u001B[0m \u001B[38;5;28;01mif\u001B[39;00m \u001B[38;5;28mself\u001B[39m\u001B[38;5;241m.\u001B[39m_callback_manager \u001B[38;5;129;01mis\u001B[39;00m \u001B[38;5;129;01mnot\u001B[39;00m \u001B[38;5;28;01mNone\u001B[39;00m:\n\u001B[1;32m     70\u001B[0m     \u001B[38;5;28mself\u001B[39m\u001B[38;5;241m.\u001B[39m_embed_model\u001B[38;5;241m.\u001B[39mcallback_manager \u001B[38;5;241m=\u001B[39m \u001B[38;5;28mself\u001B[39m\u001B[38;5;241m.\u001B[39m_callback_manager\n",
      "File \u001B[0;32m~/venv/lib/python3.10/site-packages/llama_index/core/embeddings/utils.py:66\u001B[0m, in \u001B[0;36mresolve_embed_model\u001B[0;34m(embed_model, callback_manager)\u001B[0m\n\u001B[1;32m     61\u001B[0m         \u001B[38;5;28;01mraise\u001B[39;00m \u001B[38;5;167;01mImportError\u001B[39;00m(\n\u001B[1;32m     62\u001B[0m             \u001B[38;5;124m\"\u001B[39m\u001B[38;5;124m`llama-index-embeddings-openai` package not found, \u001B[39m\u001B[38;5;124m\"\u001B[39m\n\u001B[1;32m     63\u001B[0m             \u001B[38;5;124m\"\u001B[39m\u001B[38;5;124mplease run `pip install llama-index-embeddings-openai`\u001B[39m\u001B[38;5;124m\"\u001B[39m\n\u001B[1;32m     64\u001B[0m         )\n\u001B[1;32m     65\u001B[0m     \u001B[38;5;28;01mexcept\u001B[39;00m \u001B[38;5;167;01mValueError\u001B[39;00m \u001B[38;5;28;01mas\u001B[39;00m e:\n\u001B[0;32m---> 66\u001B[0m         \u001B[38;5;28;01mraise\u001B[39;00m \u001B[38;5;167;01mValueError\u001B[39;00m(\n\u001B[1;32m     67\u001B[0m             \u001B[38;5;124m\"\u001B[39m\u001B[38;5;130;01m\\n\u001B[39;00m\u001B[38;5;124m******\u001B[39m\u001B[38;5;130;01m\\n\u001B[39;00m\u001B[38;5;124m\"\u001B[39m\n\u001B[1;32m     68\u001B[0m             \u001B[38;5;124m\"\u001B[39m\u001B[38;5;124mCould not load OpenAI embedding model. \u001B[39m\u001B[38;5;124m\"\u001B[39m\n\u001B[1;32m     69\u001B[0m             \u001B[38;5;124m\"\u001B[39m\u001B[38;5;124mIf you intended to use OpenAI, please check your OPENAI_API_KEY.\u001B[39m\u001B[38;5;130;01m\\n\u001B[39;00m\u001B[38;5;124m\"\u001B[39m\n\u001B[1;32m     70\u001B[0m             \u001B[38;5;124m\"\u001B[39m\u001B[38;5;124mOriginal error:\u001B[39m\u001B[38;5;130;01m\\n\u001B[39;00m\u001B[38;5;124m\"\u001B[39m\n\u001B[1;32m     71\u001B[0m             \u001B[38;5;124mf\u001B[39m\u001B[38;5;124m\"\u001B[39m\u001B[38;5;132;01m{\u001B[39;00me\u001B[38;5;132;01m!s}\u001B[39;00m\u001B[38;5;124m\"\u001B[39m\n\u001B[1;32m     72\u001B[0m             \u001B[38;5;124m\"\u001B[39m\u001B[38;5;130;01m\\n\u001B[39;00m\u001B[38;5;124mConsider using embed_model=\u001B[39m\u001B[38;5;124m'\u001B[39m\u001B[38;5;124mlocal\u001B[39m\u001B[38;5;124m'\u001B[39m\u001B[38;5;124m.\u001B[39m\u001B[38;5;130;01m\\n\u001B[39;00m\u001B[38;5;124m\"\u001B[39m\n\u001B[1;32m     73\u001B[0m             \u001B[38;5;124m\"\u001B[39m\u001B[38;5;124mVisit our documentation for more embedding options: \u001B[39m\u001B[38;5;124m\"\u001B[39m\n\u001B[1;32m     74\u001B[0m             \u001B[38;5;124m\"\u001B[39m\u001B[38;5;124mhttps://docs.llamaindex.ai/en/stable/module_guides/models/\u001B[39m\u001B[38;5;124m\"\u001B[39m\n\u001B[1;32m     75\u001B[0m             \u001B[38;5;124m\"\u001B[39m\u001B[38;5;124membeddings.html#modules\u001B[39m\u001B[38;5;124m\"\u001B[39m\n\u001B[1;32m     76\u001B[0m             \u001B[38;5;124m\"\u001B[39m\u001B[38;5;130;01m\\n\u001B[39;00m\u001B[38;5;124m******\u001B[39m\u001B[38;5;124m\"\u001B[39m\n\u001B[1;32m     77\u001B[0m         )\n\u001B[1;32m     78\u001B[0m \u001B[38;5;66;03m# for image multi-modal embeddings\u001B[39;00m\n\u001B[1;32m     79\u001B[0m \u001B[38;5;28;01melif\u001B[39;00m \u001B[38;5;28misinstance\u001B[39m(embed_model, \u001B[38;5;28mstr\u001B[39m) \u001B[38;5;129;01mand\u001B[39;00m embed_model\u001B[38;5;241m.\u001B[39mstartswith(\u001B[38;5;124m\"\u001B[39m\u001B[38;5;124mclip\u001B[39m\u001B[38;5;124m\"\u001B[39m):\n",
      "\u001B[0;31mValueError\u001B[0m: \n******\nCould not load OpenAI embedding model. If you intended to use OpenAI, please check your OPENAI_API_KEY.\nOriginal error:\nNo API key found for OpenAI.\nPlease set either the OPENAI_API_KEY environment variable or openai.api_key prior to initialization.\nAPI keys can be found or created at https://platform.openai.com/account/api-keys\n\nConsider using embed_model='local'.\nVisit our documentation for more embedding options: https://docs.llamaindex.ai/en/stable/module_guides/models/embeddings.html#modules\n******"
     ]
    }
   ],
   "source": [
    "from llama_index.core import VectorStoreIndex\n",
    "\n",
    "index = VectorStoreIndex.from_documents(docs)\n",
    "query_engine = index.as_query_engine()\n",
    "response = query_engine.query(\"什么是WTF LangChain？\")\n",
    "print(response)"
   ],
   "metadata": {
    "collapsed": false,
    "ExecuteTime": {
     "end_time": "2024-07-03T07:30:56.793748Z",
     "start_time": "2024-07-03T07:30:56.120713Z"
    }
   },
   "id": "5dcdc2ca27af43cf",
   "execution_count": 4
  },
  {
   "cell_type": "code",
   "outputs": [],
   "source": [
    "response = query_engine.query(\"WTF LangChain教程的目的是什么？\")\n",
    "print(response)"
   ],
   "metadata": {
    "collapsed": false
   },
   "id": "e50ec11455d53ba1"
  },
  {
   "cell_type": "code",
   "outputs": [],
   "source": [
    "# Load data connectors from LlamaHub\n",
    "\n",
    "from pathlib import Path\n",
    "from llama_index.core import download_loader\n",
    "\n",
    "MarkdownReader = download_loader(\"MarkdownReader\")\n",
    "\n",
    "loader = MarkdownReader()\n",
    "documents = loader.load_data(file=Path('./wtf-langchain/README.md'))"
   ],
   "metadata": {
    "collapsed": false
   },
   "id": "4ebdf8fb47770829"
  },
  {
   "cell_type": "code",
   "outputs": [],
   "source": [
    "index = VectorStoreIndex.from_documents(documents)\n",
    "query_engine = index.as_query_engine()\n",
    "response = query_engine.query(\"LangChain极简入门教程用的什么框架版本？\")\n",
    "print(response)"
   ],
   "metadata": {
    "collapsed": false
   },
   "id": "89e17944b64a1733"
  }
 ],
 "metadata": {
  "kernelspec": {
   "display_name": "Python 3",
   "language": "python",
   "name": "python3"
  },
  "language_info": {
   "codemirror_mode": {
    "name": "ipython",
    "version": 2
   },
   "file_extension": ".py",
   "mimetype": "text/x-python",
   "name": "python",
   "nbconvert_exporter": "python",
   "pygments_lexer": "ipython2",
   "version": "2.7.6"
  }
 },
 "nbformat": 4,
 "nbformat_minor": 5
}
