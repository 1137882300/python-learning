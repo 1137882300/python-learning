{
 "cells": [
  {
   "cell_type": "code",
   "execution_count": 9,
   "id": "initial_id",
   "metadata": {
    "collapsed": true,
    "ExecuteTime": {
     "end_time": "2024-07-03T06:01:55.717992Z",
     "start_time": "2024-07-03T06:01:55.667186Z"
    }
   },
   "outputs": [
    {
     "ename": "ValueError",
     "evalue": "No files found in data.",
     "output_type": "error",
     "traceback": [
      "\u001B[0;31m---------------------------------------------------------------------------\u001B[0m",
      "\u001B[0;31mValueError\u001B[0m                                Traceback (most recent call last)",
      "Cell \u001B[0;32mIn[9], line 3\u001B[0m\n\u001B[1;32m      1\u001B[0m \u001B[38;5;28;01mfrom\u001B[39;00m \u001B[38;5;21;01mllama_index\u001B[39;00m\u001B[38;5;21;01m.\u001B[39;00m\u001B[38;5;21;01mcore\u001B[39;00m \u001B[38;5;28;01mimport\u001B[39;00m SimpleDirectoryReader\n\u001B[0;32m----> 3\u001B[0m reader \u001B[38;5;241m=\u001B[39m \u001B[43mSimpleDirectoryReader\u001B[49m\u001B[43m(\u001B[49m\n\u001B[1;32m      4\u001B[0m \u001B[43m    \u001B[49m\u001B[43minput_dir\u001B[49m\u001B[38;5;241;43m=\u001B[39;49m\u001B[38;5;124;43m\"\u001B[39;49m\u001B[38;5;124;43m./data\u001B[39;49m\u001B[38;5;124;43m\"\u001B[39;49m\u001B[43m,\u001B[49m\n\u001B[1;32m      5\u001B[0m \u001B[43m    \u001B[49m\u001B[43mrequired_exts\u001B[49m\u001B[38;5;241;43m=\u001B[39;49m\u001B[43m[\u001B[49m\u001B[38;5;124;43m\"\u001B[39;49m\u001B[38;5;124;43m.md\u001B[39;49m\u001B[38;5;124;43m\"\u001B[39;49m\u001B[43m]\u001B[49m\u001B[43m,\u001B[49m\n\u001B[1;32m      6\u001B[0m \u001B[43m    \u001B[49m\u001B[43mrecursive\u001B[49m\u001B[38;5;241;43m=\u001B[39;49m\u001B[38;5;28;43;01mTrue\u001B[39;49;00m\n\u001B[1;32m      7\u001B[0m \u001B[43m)\u001B[49m\n\u001B[1;32m      8\u001B[0m docs \u001B[38;5;241m=\u001B[39m reader\u001B[38;5;241m.\u001B[39mload_data()\n",
      "File \u001B[0;32m~/venv/lib/python3.10/site-packages/llama_index/core/readers/file/base.py:263\u001B[0m, in \u001B[0;36mSimpleDirectoryReader.__init__\u001B[0;34m(self, input_dir, input_files, exclude, exclude_hidden, errors, recursive, encoding, filename_as_id, required_exts, file_extractor, num_files_limit, file_metadata, raise_on_error, fs)\u001B[0m\n\u001B[1;32m    261\u001B[0m     \u001B[38;5;28mself\u001B[39m\u001B[38;5;241m.\u001B[39minput_dir \u001B[38;5;241m=\u001B[39m _Path(input_dir)\n\u001B[1;32m    262\u001B[0m     \u001B[38;5;28mself\u001B[39m\u001B[38;5;241m.\u001B[39mexclude \u001B[38;5;241m=\u001B[39m exclude\n\u001B[0;32m--> 263\u001B[0m     \u001B[38;5;28mself\u001B[39m\u001B[38;5;241m.\u001B[39minput_files \u001B[38;5;241m=\u001B[39m \u001B[38;5;28;43mself\u001B[39;49m\u001B[38;5;241;43m.\u001B[39;49m\u001B[43m_add_files\u001B[49m\u001B[43m(\u001B[49m\u001B[38;5;28;43mself\u001B[39;49m\u001B[38;5;241;43m.\u001B[39;49m\u001B[43minput_dir\u001B[49m\u001B[43m)\u001B[49m\n\u001B[1;32m    265\u001B[0m \u001B[38;5;28;01mif\u001B[39;00m file_extractor \u001B[38;5;129;01mis\u001B[39;00m \u001B[38;5;129;01mnot\u001B[39;00m \u001B[38;5;28;01mNone\u001B[39;00m:\n\u001B[1;32m    266\u001B[0m     \u001B[38;5;28mself\u001B[39m\u001B[38;5;241m.\u001B[39mfile_extractor \u001B[38;5;241m=\u001B[39m file_extractor\n",
      "File \u001B[0;32m~/venv/lib/python3.10/site-packages/llama_index/core/readers/file/base.py:345\u001B[0m, in \u001B[0;36mSimpleDirectoryReader._add_files\u001B[0;34m(self, input_dir)\u001B[0m\n\u001B[1;32m    342\u001B[0m new_input_files \u001B[38;5;241m=\u001B[39m \u001B[38;5;28msorted\u001B[39m(all_files)\n\u001B[1;32m    344\u001B[0m \u001B[38;5;28;01mif\u001B[39;00m \u001B[38;5;28mlen\u001B[39m(new_input_files) \u001B[38;5;241m==\u001B[39m \u001B[38;5;241m0\u001B[39m:\n\u001B[0;32m--> 345\u001B[0m     \u001B[38;5;28;01mraise\u001B[39;00m \u001B[38;5;167;01mValueError\u001B[39;00m(\u001B[38;5;124mf\u001B[39m\u001B[38;5;124m\"\u001B[39m\u001B[38;5;124mNo files found in \u001B[39m\u001B[38;5;132;01m{\u001B[39;00minput_dir\u001B[38;5;132;01m}\u001B[39;00m\u001B[38;5;124m.\u001B[39m\u001B[38;5;124m\"\u001B[39m)\n\u001B[1;32m    347\u001B[0m \u001B[38;5;28;01mif\u001B[39;00m \u001B[38;5;28mself\u001B[39m\u001B[38;5;241m.\u001B[39mnum_files_limit \u001B[38;5;129;01mis\u001B[39;00m \u001B[38;5;129;01mnot\u001B[39;00m \u001B[38;5;28;01mNone\u001B[39;00m \u001B[38;5;129;01mand\u001B[39;00m \u001B[38;5;28mself\u001B[39m\u001B[38;5;241m.\u001B[39mnum_files_limit \u001B[38;5;241m>\u001B[39m \u001B[38;5;241m0\u001B[39m:\n\u001B[1;32m    348\u001B[0m     new_input_files \u001B[38;5;241m=\u001B[39m new_input_files[\u001B[38;5;241m0\u001B[39m : \u001B[38;5;28mself\u001B[39m\u001B[38;5;241m.\u001B[39mnum_files_limit]\n",
      "\u001B[0;31mValueError\u001B[0m: No files found in data."
     ]
    }
   ],
   "source": [
    "from llama_index.core import SimpleDirectoryReader\n",
    "\n",
    "reader = SimpleDirectoryReader(\n",
    "    input_dir=\"./data\",\n",
    "    required_exts=[\".md\"],\n",
    "    recursive=True\n",
    ")\n",
    "docs = reader.load_data()"
   ]
  },
  {
   "cell_type": "code",
   "outputs": [],
   "source": [
    "from llama_index.core import VectorStoreIndex\n",
    "\n",
    "index = VectorStoreIndex.from_documents(docs)\n",
    "query_engine = index.as_query_engine()\n",
    "response = query_engine.query(\"什么是WTF LangChain？\")\n",
    "print(response)"
   ],
   "metadata": {
    "collapsed": false
   },
   "id": "5dcdc2ca27af43cf"
  },
  {
   "cell_type": "code",
   "outputs": [],
   "source": [
    "response = query_engine.query(\"WTF LangChain教程的目的是什么？\")\n",
    "print(response)"
   ],
   "metadata": {
    "collapsed": false
   },
   "id": "e50ec11455d53ba1"
  },
  {
   "cell_type": "code",
   "outputs": [],
   "source": [
    "# Load data connectors from LlamaHub\n",
    "\n",
    "from pathlib import Path\n",
    "from llama_index.core import download_loader\n",
    "\n",
    "MarkdownReader = download_loader(\"MarkdownReader\")\n",
    "\n",
    "loader = MarkdownReader()\n",
    "documents = loader.load_data(file=Path('./wtf-langchain/README.md'))"
   ],
   "metadata": {
    "collapsed": false
   },
   "id": "4ebdf8fb47770829"
  },
  {
   "cell_type": "code",
   "outputs": [],
   "source": [
    "index = VectorStoreIndex.from_documents(documents)\n",
    "query_engine = index.as_query_engine()\n",
    "response = query_engine.query(\"LangChain极简入门教程用的什么框架版本？\")\n",
    "print(response)"
   ],
   "metadata": {
    "collapsed": false
   },
   "id": "89e17944b64a1733"
  }
 ],
 "metadata": {
  "kernelspec": {
   "display_name": "Python 3",
   "language": "python",
   "name": "python3"
  },
  "language_info": {
   "codemirror_mode": {
    "name": "ipython",
    "version": 2
   },
   "file_extension": ".py",
   "mimetype": "text/x-python",
   "name": "python",
   "nbconvert_exporter": "python",
   "pygments_lexer": "ipython2",
   "version": "2.7.6"
  }
 },
 "nbformat": 4,
 "nbformat_minor": 5
}
