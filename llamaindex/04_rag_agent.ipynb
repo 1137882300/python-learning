{
 "cells": [
  {
   "cell_type": "code",
   "outputs": [],
   "source": [
    "# !pip install --upgrade  llama-index-llms-langchain==0.1.2"
   ],
   "metadata": {
    "collapsed": false
   },
   "id": "15081c05d57297ea"
  },
  {
   "cell_type": "code",
   "execution_count": 7,
   "id": "initial_id",
   "metadata": {
    "collapsed": true,
    "ExecuteTime": {
     "end_time": "2024-07-03T07:26:06.844908Z",
     "start_time": "2024-07-03T07:25:11.343987Z"
    }
   },
   "outputs": [
    {
     "name": "stderr",
     "output_type": "stream",
     "text": [
      "/Users/pangmengting/venv/lib/python3.10/site-packages/langchain_core/_api/deprecation.py:139: LangChainDeprecationWarning: The method `BaseChatModel.predict_messages` was deprecated in langchain-core 0.1.7 and will be removed in 0.3.0. Use invoke instead.\n",
      "  **kwargs: The keyword arguments to the function.\n"
     ]
    },
    {
     "name": "stdout",
     "output_type": "stream",
     "text": [
      "\u001B[1;3;38;5;200mThought: The current language of the user is: (user's language). I need to use a tool to help me answer the question.\n",
      "Action: multiply\n",
      "Action Input: {'a': 1, 'b': 3}\n",
      "\u001B[0m\u001B[1;3;34mObservation: 3\n",
      "\u001B[0m\u001B[1;3;38;5;200mThought: I can answer without using any more tools. I'll use the user's language to answer\n",
      "Answer: 3\n",
      "\u001B[0m3\n"
     ]
    }
   ],
   "source": [
    "from dotenv import load_dotenv\n",
    "from llama_index.core.agent import ReActAgent\n",
    "from llama_index.core.tools import FunctionTool\n",
    "from llama_index.core import SimpleDirectoryReader, VectorStoreIndex, Settings\n",
    "from llama_index.core.tools import QueryEngineTool\n",
    "from langchain_community.embeddings.cloudflare_workersai import (\n",
    "    CloudflareWorkersAIEmbeddings,\n",
    ")\n",
    "from langchain_openai import ChatOpenAI\n",
    "import os\n",
    "\n",
    "load_dotenv(override=True)\n",
    "\n",
    "# settings\n",
    "Settings.llm = ChatOpenAI(\n",
    "    openai_api_base='https://dashscope.aliyuncs.com/compatible-mode/v1',\n",
    "    openai_api_key=os.getenv('DASHSCOPE_API_KEY'),\n",
    "    model_name=\"qwen2-1.5b-instruct\",\n",
    "    temperature=0\n",
    ")\n",
    "\n",
    "account_id = os.getenv('CF_ACCOUNT_ID')\n",
    "api_token = os.getenv('CF_API_TOKEN')\n",
    "\n",
    "Settings.embed_model = CloudflareWorkersAIEmbeddings(\n",
    "    account_id=account_id,\n",
    "    api_token=api_token,\n",
    "    model_name=\"@cf/baai/bge-small-en-v1.5\",\n",
    ")\n",
    "\n",
    "\n",
    "# function tools\n",
    "def multiply(a: float, b: float) -> float:\n",
    "    \"\"\"Multiply two numbers and returns the product\"\"\"\n",
    "    return a * b\n",
    "\n",
    "\n",
    "multiply_tool = FunctionTool.from_defaults(fn=multiply)\n",
    "\n",
    "\n",
    "def add(a: float, b: float) -> float:\n",
    "    \"\"\"Add two numbers and returns the sum\"\"\"\n",
    "    return a + b\n",
    "\n",
    "\n",
    "add_tool = FunctionTool.from_defaults(fn=add)\n",
    "\n",
    "# rag pipeline\n",
    "documents = SimpleDirectoryReader(\"../langchain/file\").load_data()\n",
    "index = VectorStoreIndex.from_documents(documents)\n",
    "query_engine = index.as_query_engine()\n",
    "\n",
    "# response = query_engine.query(\"What was the total amount of the 2023 Canadian federal budget?\")\n",
    "# print(response)\n",
    "\n",
    "# rag pipeline as a tool\n",
    "budget_tool = QueryEngineTool.from_defaults(\n",
    "    query_engine,\n",
    "    name=\"canadian_budget_2023\",\n",
    "    description=\"A RAG engine with some basic facts about the 2023 Canadian federal budget.\"\n",
    ")\n",
    "\n",
    "agent = ReActAgent.from_tools([multiply_tool, add_tool, budget_tool], verbose=True)\n",
    "\n",
    "response = agent.chat(\n",
    "    \"What is the total amount of the 2023 Canadian federal budget multiplied by 3? Go step by step, using a tool to do any math.\")\n",
    "\n",
    "print(response)"
   ]
  },
  {
   "cell_type": "code",
   "outputs": [
    {
     "name": "stdout",
     "output_type": "stream",
     "text": [
      "Looking in indexes: https://pypi.tuna.tsinghua.edu.cn/simple\r\n",
      "Collecting llama-index-llms-langchain==0.1.2\r\n",
      "  Downloading https://pypi.tuna.tsinghua.edu.cn/packages/a7/98/38ad81fcdbd19827a1e710451ba479f23c3a53183040d91e710aeb51ca93/llama_index_llms_langchain-0.1.2-py3-none-any.whl (4.8 kB)\r\n",
      "Requirement already satisfied: langchain<0.2.0,>=0.1.3 in /Users/pangmengting/venv/lib/python3.10/site-packages (from llama-index-llms-langchain==0.1.2) (0.1.20)\r\n",
      "Requirement already satisfied: llama-index-core<0.11.0,>=0.10.1 in /Users/pangmengting/venv/lib/python3.10/site-packages (from llama-index-llms-langchain==0.1.2) (0.10.48)\r\n",
      "Requirement already satisfied: llama-index-llms-anyscale<0.2.0,>=0.1.1 in /Users/pangmengting/venv/lib/python3.10/site-packages (from llama-index-llms-langchain==0.1.2) (0.1.4)\r\n",
      "Requirement already satisfied: llama-index-llms-openai<0.2.0,>=0.1.1 in /Users/pangmengting/venv/lib/python3.10/site-packages (from llama-index-llms-langchain==0.1.2) (0.1.22)\r\n",
      "Requirement already satisfied: PyYAML>=5.3 in /Users/pangmengting/venv/lib/python3.10/site-packages (from langchain<0.2.0,>=0.1.3->llama-index-llms-langchain==0.1.2) (6.0.1)\r\n",
      "Requirement already satisfied: SQLAlchemy<3,>=1.4 in /Users/pangmengting/venv/lib/python3.10/site-packages (from langchain<0.2.0,>=0.1.3->llama-index-llms-langchain==0.1.2) (2.0.31)\r\n",
      "Requirement already satisfied: aiohttp<4.0.0,>=3.8.3 in /Users/pangmengting/venv/lib/python3.10/site-packages (from langchain<0.2.0,>=0.1.3->llama-index-llms-langchain==0.1.2) (3.9.5)\r\n",
      "Requirement already satisfied: async-timeout<5.0.0,>=4.0.0 in /Users/pangmengting/venv/lib/python3.10/site-packages (from langchain<0.2.0,>=0.1.3->llama-index-llms-langchain==0.1.2) (4.0.2)\r\n",
      "Requirement already satisfied: dataclasses-json<0.7,>=0.5.7 in /Users/pangmengting/venv/lib/python3.10/site-packages (from langchain<0.2.0,>=0.1.3->llama-index-llms-langchain==0.1.2) (0.6.7)\r\n",
      "Requirement already satisfied: langchain-community<0.1,>=0.0.38 in /Users/pangmengting/venv/lib/python3.10/site-packages (from langchain<0.2.0,>=0.1.3->llama-index-llms-langchain==0.1.2) (0.0.38)\r\n",
      "Requirement already satisfied: langchain-core<0.2.0,>=0.1.52 in /Users/pangmengting/venv/lib/python3.10/site-packages (from langchain<0.2.0,>=0.1.3->llama-index-llms-langchain==0.1.2) (0.1.52)\r\n",
      "Requirement already satisfied: langchain-text-splitters<0.1,>=0.0.1 in /Users/pangmengting/venv/lib/python3.10/site-packages (from langchain<0.2.0,>=0.1.3->llama-index-llms-langchain==0.1.2) (0.0.2)\r\n",
      "Requirement already satisfied: langsmith<0.2.0,>=0.1.17 in /Users/pangmengting/venv/lib/python3.10/site-packages (from langchain<0.2.0,>=0.1.3->llama-index-llms-langchain==0.1.2) (0.1.83)\r\n",
      "Requirement already satisfied: numpy<2,>=1 in /Users/pangmengting/venv/lib/python3.10/site-packages (from langchain<0.2.0,>=0.1.3->llama-index-llms-langchain==0.1.2) (1.25.1)\r\n",
      "Requirement already satisfied: pydantic<3,>=1 in /Users/pangmengting/venv/lib/python3.10/site-packages (from langchain<0.2.0,>=0.1.3->llama-index-llms-langchain==0.1.2) (2.6.4)\r\n",
      "Requirement already satisfied: requests<3,>=2 in /Users/pangmengting/venv/lib/python3.10/site-packages (from langchain<0.2.0,>=0.1.3->llama-index-llms-langchain==0.1.2) (2.31.0)\r\n",
      "Requirement already satisfied: tenacity<9.0.0,>=8.1.0 in /Users/pangmengting/venv/lib/python3.10/site-packages (from langchain<0.2.0,>=0.1.3->llama-index-llms-langchain==0.1.2) (8.2.3)\r\n",
      "Requirement already satisfied: deprecated>=1.2.9.3 in /Users/pangmengting/venv/lib/python3.10/site-packages (from llama-index-core<0.11.0,>=0.10.1->llama-index-llms-langchain==0.1.2) (1.2.14)\r\n",
      "Requirement already satisfied: dirtyjson<2.0.0,>=1.0.8 in /Users/pangmengting/venv/lib/python3.10/site-packages (from llama-index-core<0.11.0,>=0.10.1->llama-index-llms-langchain==0.1.2) (1.0.8)\r\n",
      "Requirement already satisfied: fsspec>=2023.5.0 in /Users/pangmengting/venv/lib/python3.10/site-packages (from llama-index-core<0.11.0,>=0.10.1->llama-index-llms-langchain==0.1.2) (2023.6.0)\r\n",
      "Requirement already satisfied: httpx in /Users/pangmengting/venv/lib/python3.10/site-packages (from llama-index-core<0.11.0,>=0.10.1->llama-index-llms-langchain==0.1.2) (0.27.0)\r\n",
      "Requirement already satisfied: llamaindex-py-client<0.2.0,>=0.1.18 in /Users/pangmengting/venv/lib/python3.10/site-packages (from llama-index-core<0.11.0,>=0.10.1->llama-index-llms-langchain==0.1.2) (0.1.19)\r\n",
      "Requirement already satisfied: nest-asyncio<2.0.0,>=1.5.8 in /Users/pangmengting/venv/lib/python3.10/site-packages (from llama-index-core<0.11.0,>=0.10.1->llama-index-llms-langchain==0.1.2) (1.6.0)\r\n",
      "Requirement already satisfied: networkx>=3.0 in /Users/pangmengting/venv/lib/python3.10/site-packages (from llama-index-core<0.11.0,>=0.10.1->llama-index-llms-langchain==0.1.2) (3.1)\r\n",
      "Requirement already satisfied: nltk<4.0.0,>=3.8.1 in /Users/pangmengting/venv/lib/python3.10/site-packages (from llama-index-core<0.11.0,>=0.10.1->llama-index-llms-langchain==0.1.2) (3.8.1)\r\n",
      "Requirement already satisfied: openai>=1.1.0 in /Users/pangmengting/venv/lib/python3.10/site-packages (from llama-index-core<0.11.0,>=0.10.1->llama-index-llms-langchain==0.1.2) (1.33.0)\r\n",
      "Requirement already satisfied: pandas in /Users/pangmengting/venv/lib/python3.10/site-packages (from llama-index-core<0.11.0,>=0.10.1->llama-index-llms-langchain==0.1.2) (1.5.3)\r\n",
      "Requirement already satisfied: pillow>=9.0.0 in /Users/pangmengting/venv/lib/python3.10/site-packages (from llama-index-core<0.11.0,>=0.10.1->llama-index-llms-langchain==0.1.2) (10.3.0)\r\n",
      "Requirement already satisfied: tiktoken>=0.3.3 in /Users/pangmengting/venv/lib/python3.10/site-packages (from llama-index-core<0.11.0,>=0.10.1->llama-index-llms-langchain==0.1.2) (0.7.0)\r\n",
      "Requirement already satisfied: tqdm<5.0.0,>=4.66.1 in /Users/pangmengting/venv/lib/python3.10/site-packages (from llama-index-core<0.11.0,>=0.10.1->llama-index-llms-langchain==0.1.2) (4.66.4)\r\n",
      "Requirement already satisfied: typing-extensions>=4.5.0 in /Users/pangmengting/venv/lib/python3.10/site-packages (from llama-index-core<0.11.0,>=0.10.1->llama-index-llms-langchain==0.1.2) (4.10.0)\r\n",
      "Requirement already satisfied: typing-inspect>=0.8.0 in /Users/pangmengting/venv/lib/python3.10/site-packages (from llama-index-core<0.11.0,>=0.10.1->llama-index-llms-langchain==0.1.2) (0.9.0)\r\n",
      "Requirement already satisfied: wrapt in /Users/pangmengting/venv/lib/python3.10/site-packages (from llama-index-core<0.11.0,>=0.10.1->llama-index-llms-langchain==0.1.2) (1.15.0)\r\n",
      "Requirement already satisfied: aiosignal>=1.1.2 in /Users/pangmengting/venv/lib/python3.10/site-packages (from aiohttp<4.0.0,>=3.8.3->langchain<0.2.0,>=0.1.3->llama-index-llms-langchain==0.1.2) (1.3.1)\r\n",
      "Requirement already satisfied: attrs>=17.3.0 in /Users/pangmengting/venv/lib/python3.10/site-packages (from aiohttp<4.0.0,>=3.8.3->langchain<0.2.0,>=0.1.3->llama-index-llms-langchain==0.1.2) (23.1.0)\r\n",
      "Requirement already satisfied: frozenlist>=1.1.1 in /Users/pangmengting/venv/lib/python3.10/site-packages (from aiohttp<4.0.0,>=3.8.3->langchain<0.2.0,>=0.1.3->llama-index-llms-langchain==0.1.2) (1.4.0)\r\n",
      "Requirement already satisfied: multidict<7.0,>=4.5 in /Users/pangmengting/venv/lib/python3.10/site-packages (from aiohttp<4.0.0,>=3.8.3->langchain<0.2.0,>=0.1.3->llama-index-llms-langchain==0.1.2) (6.0.4)\r\n",
      "Requirement already satisfied: yarl<2.0,>=1.0 in /Users/pangmengting/venv/lib/python3.10/site-packages (from aiohttp<4.0.0,>=3.8.3->langchain<0.2.0,>=0.1.3->llama-index-llms-langchain==0.1.2) (1.9.2)\r\n",
      "Requirement already satisfied: marshmallow<4.0.0,>=3.18.0 in /Users/pangmengting/venv/lib/python3.10/site-packages (from dataclasses-json<0.7,>=0.5.7->langchain<0.2.0,>=0.1.3->llama-index-llms-langchain==0.1.2) (3.19.0)\r\n",
      "Requirement already satisfied: jsonpatch<2.0,>=1.33 in /Users/pangmengting/venv/lib/python3.10/site-packages (from langchain-core<0.2.0,>=0.1.52->langchain<0.2.0,>=0.1.3->llama-index-llms-langchain==0.1.2) (1.33)\r\n",
      "Requirement already satisfied: packaging<24.0,>=23.2 in /Users/pangmengting/venv/lib/python3.10/site-packages (from langchain-core<0.2.0,>=0.1.52->langchain<0.2.0,>=0.1.3->llama-index-llms-langchain==0.1.2) (23.2)\r\n",
      "Requirement already satisfied: orjson<4.0.0,>=3.9.14 in /Users/pangmengting/venv/lib/python3.10/site-packages (from langsmith<0.2.0,>=0.1.17->langchain<0.2.0,>=0.1.3->llama-index-llms-langchain==0.1.2) (3.10.5)\r\n",
      "Requirement already satisfied: anyio in /Users/pangmengting/venv/lib/python3.10/site-packages (from httpx->llama-index-core<0.11.0,>=0.10.1->llama-index-llms-langchain==0.1.2) (3.7.1)\r\n",
      "Requirement already satisfied: certifi in /Users/pangmengting/venv/lib/python3.10/site-packages (from httpx->llama-index-core<0.11.0,>=0.10.1->llama-index-llms-langchain==0.1.2) (2024.6.2)\r\n",
      "Requirement already satisfied: httpcore==1.* in /Users/pangmengting/venv/lib/python3.10/site-packages (from httpx->llama-index-core<0.11.0,>=0.10.1->llama-index-llms-langchain==0.1.2) (1.0.4)\r\n",
      "Requirement already satisfied: idna in /Users/pangmengting/venv/lib/python3.10/site-packages (from httpx->llama-index-core<0.11.0,>=0.10.1->llama-index-llms-langchain==0.1.2) (3.4)\r\n",
      "Requirement already satisfied: sniffio in /Users/pangmengting/venv/lib/python3.10/site-packages (from httpx->llama-index-core<0.11.0,>=0.10.1->llama-index-llms-langchain==0.1.2) (1.3.0)\r\n",
      "Requirement already satisfied: h11<0.15,>=0.13 in /Users/pangmengting/venv/lib/python3.10/site-packages (from httpcore==1.*->httpx->llama-index-core<0.11.0,>=0.10.1->llama-index-llms-langchain==0.1.2) (0.14.0)\r\n",
      "Requirement already satisfied: click in /Users/pangmengting/venv/lib/python3.10/site-packages (from nltk<4.0.0,>=3.8.1->llama-index-core<0.11.0,>=0.10.1->llama-index-llms-langchain==0.1.2) (8.1.7)\r\n",
      "Requirement already satisfied: joblib in /Users/pangmengting/venv/lib/python3.10/site-packages (from nltk<4.0.0,>=3.8.1->llama-index-core<0.11.0,>=0.10.1->llama-index-llms-langchain==0.1.2) (1.3.1)\r\n",
      "Requirement already satisfied: regex>=2021.8.3 in /Users/pangmengting/venv/lib/python3.10/site-packages (from nltk<4.0.0,>=3.8.1->llama-index-core<0.11.0,>=0.10.1->llama-index-llms-langchain==0.1.2) (2023.6.3)\r\n",
      "Requirement already satisfied: distro<2,>=1.7.0 in /Users/pangmengting/venv/lib/python3.10/site-packages (from openai>=1.1.0->llama-index-core<0.11.0,>=0.10.1->llama-index-llms-langchain==0.1.2) (1.8.0)\r\n",
      "Requirement already satisfied: annotated-types>=0.4.0 in /Users/pangmengting/venv/lib/python3.10/site-packages (from pydantic<3,>=1->langchain<0.2.0,>=0.1.3->llama-index-llms-langchain==0.1.2) (0.6.0)\r\n",
      "Requirement already satisfied: pydantic-core==2.16.3 in /Users/pangmengting/venv/lib/python3.10/site-packages (from pydantic<3,>=1->langchain<0.2.0,>=0.1.3->llama-index-llms-langchain==0.1.2) (2.16.3)\r\n",
      "Requirement already satisfied: charset-normalizer<4,>=2 in /Users/pangmengting/venv/lib/python3.10/site-packages (from requests<3,>=2->langchain<0.2.0,>=0.1.3->llama-index-llms-langchain==0.1.2) (3.2.0)\r\n",
      "Requirement already satisfied: urllib3<3,>=1.21.1 in /Users/pangmengting/venv/lib/python3.10/site-packages (from requests<3,>=2->langchain<0.2.0,>=0.1.3->llama-index-llms-langchain==0.1.2) (2.2.1)\r\n",
      "Requirement already satisfied: greenlet!=0.4.17 in /Users/pangmengting/venv/lib/python3.10/site-packages (from SQLAlchemy[asyncio]>=1.4.49->llama-index-core<0.11.0,>=0.10.1->llama-index-llms-langchain==0.1.2) (2.0.2)\r\n",
      "Requirement already satisfied: mypy-extensions>=0.3.0 in /Users/pangmengting/venv/lib/python3.10/site-packages (from typing-inspect>=0.8.0->llama-index-core<0.11.0,>=0.10.1->llama-index-llms-langchain==0.1.2) (1.0.0)\r\n",
      "Requirement already satisfied: python-dateutil>=2.8.1 in /Users/pangmengting/venv/lib/python3.10/site-packages (from pandas->llama-index-core<0.11.0,>=0.10.1->llama-index-llms-langchain==0.1.2) (2.8.2)\r\n",
      "Requirement already satisfied: pytz>=2020.1 in /Users/pangmengting/venv/lib/python3.10/site-packages (from pandas->llama-index-core<0.11.0,>=0.10.1->llama-index-llms-langchain==0.1.2) (2023.3)\r\n",
      "Requirement already satisfied: exceptiongroup in /Users/pangmengting/venv/lib/python3.10/site-packages (from anyio->httpx->llama-index-core<0.11.0,>=0.10.1->llama-index-llms-langchain==0.1.2) (1.1.2)\r\n",
      "Requirement already satisfied: jsonpointer>=1.9 in /Users/pangmengting/venv/lib/python3.10/site-packages (from jsonpatch<2.0,>=1.33->langchain-core<0.2.0,>=0.1.52->langchain<0.2.0,>=0.1.3->llama-index-llms-langchain==0.1.2) (2.4)\r\n",
      "Requirement already satisfied: six>=1.5 in /Users/pangmengting/venv/lib/python3.10/site-packages (from python-dateutil>=2.8.1->pandas->llama-index-core<0.11.0,>=0.10.1->llama-index-llms-langchain==0.1.2) (1.16.0)\r\n",
      "Installing collected packages: llama-index-llms-langchain\r\n",
      "  Attempting uninstall: llama-index-llms-langchain\r\n",
      "    Found existing installation: llama-index-llms-langchain 0.1.4\r\n",
      "    Uninstalling llama-index-llms-langchain-0.1.4:\r\n",
      "      Successfully uninstalled llama-index-llms-langchain-0.1.4\r\n",
      "Successfully installed llama-index-llms-langchain-0.1.2\r\n",
      "\r\n",
      "\u001B[1m[\u001B[0m\u001B[34;49mnotice\u001B[0m\u001B[1;39;49m]\u001B[0m\u001B[39;49m A new release of pip is available: \u001B[0m\u001B[31;49m24.0\u001B[0m\u001B[39;49m -> \u001B[0m\u001B[32;49m24.1.1\u001B[0m\r\n",
      "\u001B[1m[\u001B[0m\u001B[34;49mnotice\u001B[0m\u001B[1;39;49m]\u001B[0m\u001B[39;49m To update, run: \u001B[0m\u001B[32;49mpip install --upgrade pip\u001B[0m\r\n"
     ]
    }
   ],
   "source": [],
   "metadata": {
    "collapsed": false,
    "ExecuteTime": {
     "end_time": "2024-07-03T07:22:35.721393Z",
     "start_time": "2024-07-03T07:22:33.378250Z"
    }
   },
   "id": "7c623e31be534a6c",
   "execution_count": 3
  },
  {
   "cell_type": "code",
   "outputs": [],
   "source": [],
   "metadata": {
    "collapsed": false
   },
   "id": "59b6bd5b4e75c806"
  }
 ],
 "metadata": {
  "kernelspec": {
   "display_name": "Python 3",
   "language": "python",
   "name": "python3"
  },
  "language_info": {
   "codemirror_mode": {
    "name": "ipython",
    "version": 2
   },
   "file_extension": ".py",
   "mimetype": "text/x-python",
   "name": "python",
   "nbconvert_exporter": "python",
   "pygments_lexer": "ipython2",
   "version": "2.7.6"
  }
 },
 "nbformat": 4,
 "nbformat_minor": 5
}
