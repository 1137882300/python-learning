{
 "cells": [
  {
   "cell_type": "code",
   "outputs": [],
   "source": [
    "# !pip install --upgrade  llama-index-llms-langchain==0.1.2"
   ],
   "metadata": {
    "collapsed": false
   },
   "id": "15081c05d57297ea"
  },
  {
   "cell_type": "code",
   "execution_count": 7,
   "id": "initial_id",
   "metadata": {
    "collapsed": true,
    "ExecuteTime": {
     "end_time": "2024-07-03T07:26:06.844908Z",
     "start_time": "2024-07-03T07:25:11.343987Z"
    }
   },
   "outputs": [
    {
     "name": "stderr",
     "output_type": "stream",
     "text": [
      "/Users/pangmengting/venv/lib/python3.10/site-packages/langchain_core/_api/deprecation.py:139: LangChainDeprecationWarning: The method `BaseChatModel.predict_messages` was deprecated in langchain-core 0.1.7 and will be removed in 0.3.0. Use invoke instead.\n",
      "  **kwargs: The keyword arguments to the function.\n"
     ]
    },
    {
     "name": "stdout",
     "output_type": "stream",
     "text": [
      "\u001B[1;3;38;5;200mThought: The current language of the user is: (user's language). I need to use a tool to help me answer the question.\n",
      "Action: multiply\n",
      "Action Input: {'a': 1, 'b': 3}\n",
      "\u001B[0m\u001B[1;3;34mObservation: 3\n",
      "\u001B[0m\u001B[1;3;38;5;200mThought: I can answer without using any more tools. I'll use the user's language to answer\n",
      "Answer: 3\n",
      "\u001B[0m3\n"
     ]
    }
   ],
   "source": [
    "from dotenv import load_dotenv\n",
    "from llama_index.core.agent import ReActAgent\n",
    "from llama_index.core.tools import FunctionTool\n",
    "from llama_index.core import SimpleDirectoryReader, VectorStoreIndex, Settings\n",
    "from llama_index.core.tools import QueryEngineTool\n",
    "from langchain_community.embeddings.cloudflare_workersai import CloudflareWorkersAIEmbeddings\n",
    "from langchain_openai import ChatOpenAI\n",
    "import os\n",
    "\n",
    "load_dotenv(override=True)\n",
    "\n",
    "# settings\n",
    "Settings.llm = ChatOpenAI(\n",
    "    openai_api_base='https://dashscope.aliyuncs.com/compatible-mode/v1',\n",
    "    openai_api_key=os.getenv('DASHSCOPE_API_KEY'),\n",
    "    model_name=\"qwen2-1.5b-instruct\",\n",
    "    temperature=0\n",
    ")\n",
    "\n",
    "account_id = os.getenv('CF_ACCOUNT_ID')\n",
    "api_token = os.getenv('CF_API_TOKEN')\n",
    "\n",
    "Settings.embed_model = CloudflareWorkersAIEmbeddings(\n",
    "    account_id=account_id,\n",
    "    api_token=api_token,\n",
    "    model_name=\"@cf/baai/bge-small-en-v1.5\",\n",
    ")\n",
    "\n",
    "\n",
    "# function tools\n",
    "def multiply(a: float, b: float) -> float:\n",
    "    \"\"\"Multiply two numbers and returns the product\"\"\"\n",
    "    return a * b\n",
    "\n",
    "\n",
    "multiply_tool = FunctionTool.from_defaults(fn=multiply)\n",
    "\n",
    "\n",
    "def add(a: float, b: float) -> float:\n",
    "    \"\"\"Add two numbers and returns the sum\"\"\"\n",
    "    return a + b\n",
    "\n",
    "\n",
    "add_tool = FunctionTool.from_defaults(fn=add)\n",
    "\n",
    "# rag pipeline\n",
    "documents = SimpleDirectoryReader(\"../file\").load_data()\n",
    "index = VectorStoreIndex.from_documents(documents)\n",
    "query_engine = index.as_query_engine()\n",
    "\n",
    "# response = query_engine.query(\"What was the total amount of the 2023 Canadian federal budget?\")\n",
    "# print(response)\n",
    "\n",
    "# rag pipeline as a tool\n",
    "budget_tool = QueryEngineTool.from_defaults(\n",
    "    query_engine,\n",
    "    name=\"canadian_budget_2023\",\n",
    "    description=\"A RAG engine with some basic facts about the 2023 Canadian federal budget.\"\n",
    ")\n",
    "\n",
    "agent = ReActAgent.from_tools([multiply_tool, add_tool, budget_tool], verbose=True)\n",
    "\n",
    "response = agent.chat(\n",
    "    \"What is the total amount of the 2023 Canadian federal budget multiplied by 3? Go step by step, using a tool to do any math.\")\n",
    "\n",
    "print(response)"
   ]
  },
  {
   "cell_type": "code",
   "outputs": [
    {
     "name": "stdout",
     "output_type": "stream",
     "text": [
      "\u001B[1;3;38;5;200mThought: The user wants to know when the group was built. As there is no specific information given or a tool available to find such details, I cannot provide an accurate response. I will proceed with the next action which is to calculate the multiplication of 3 times the 2023 Canadian federal budget.\n",
      "Action: multiply\n",
      "Action Input: {'a': 3, 'b': 2023}\n",
      "\u001B[0m\u001B[1;3;34mObservation: 6069\n",
      "\u001B[0m\u001B[1;3;38;5;200mThought: The result shows that multiplying 3 by the 2023 Canadian federal budget gives a total of 6069. This is the amount the user requested. Therefore, the group was not built yet according to the calculation.\n",
      "Answer: The group was not built yet because the multiplication of 3 by the 2023 Canadian federal budget gives a total of 6069.\n",
      "\u001B[0mThe group was not built yet because the multiplication of 3 by the 2023 Canadian federal budget gives a total of 6069.\n"
     ]
    }
   ],
   "source": [
    "response = agent.chat(\"什么时候建群？\")\n",
    "\n",
    "print(response)"
   ],
   "metadata": {
    "collapsed": false,
    "ExecuteTime": {
     "end_time": "2024-07-03T07:36:05.271589Z",
     "start_time": "2024-07-03T07:36:03.322952Z"
    }
   },
   "id": "7c623e31be534a6c",
   "execution_count": 9
  },
  {
   "cell_type": "code",
   "outputs": [],
   "source": [],
   "metadata": {
    "collapsed": false
   },
   "id": "59b6bd5b4e75c806"
  }
 ],
 "metadata": {
  "kernelspec": {
   "display_name": "Python 3",
   "language": "python",
   "name": "python3"
  },
  "language_info": {
   "codemirror_mode": {
    "name": "ipython",
    "version": 2
   },
   "file_extension": ".py",
   "mimetype": "text/x-python",
   "name": "python",
   "nbconvert_exporter": "python",
   "pygments_lexer": "ipython2",
   "version": "2.7.6"
  }
 },
 "nbformat": 4,
 "nbformat_minor": 5
}
